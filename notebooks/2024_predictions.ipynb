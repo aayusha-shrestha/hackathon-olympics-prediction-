{
 "cells": [
  {
   "cell_type": "code",
   "execution_count": 1,
   "metadata": {},
   "outputs": [],
   "source": [
    "import pandas as pd\n",
    "import numpy as np\n",
    "import matplotlib.pyplot as plt\n",
    "import seaborn as sns\n",
    "import plotly.express as px\n",
    "import plotly.graph_objects as go"
   ]
  },
  {
   "cell_type": "code",
   "execution_count": 2,
   "metadata": {},
   "outputs": [],
   "source": [
    "import warnings\n",
    "warnings.filterwarnings(\"ignore\")\n",
    "pd.set_option(\"display.max_rows\", 15)"
   ]
  },
  {
   "cell_type": "markdown",
   "metadata": {},
   "source": [
    "<!-- add image -->\n",
    "<img src=\"../images/ts3.png\" width=\"1000\" height=\"500\">"
   ]
  },
  {
   "cell_type": "markdown",
   "metadata": {},
   "source": [
    "<!-- add image -->\n",
    "<img src=\"../images/ts4.png\" width=\"1000\" height=\"500\">"
   ]
  },
  {
   "cell_type": "markdown",
   "metadata": {},
   "source": [
    "\n",
    "<img src=\"../images/timeseries_gender.png\" width=\"1000\" height=\"500\">"
   ]
  },
  {
   "cell_type": "code",
   "execution_count": 3,
   "metadata": {},
   "outputs": [],
   "source": [
    "df = pd.read_csv(\"../data/2024_result/2024_result.csv\")\n",
    "df['Host'] = 0 \n",
    "df.loc[df['Team'] == 'France', 'Host'] = 1\n",
    "df['Sex'] = df['Sex'].astype('category')\n",
    "df = df.drop(columns=['Medal'])\n",
    "df['pred_medal'] = df[['Bronze', 'Silver', 'Gold']].idxmax(axis=1)"
   ]
  },
  {
   "cell_type": "code",
   "execution_count": 4,
   "metadata": {},
   "outputs": [
    {
     "data": {
      "application/vnd.plotly.v1+json": {
       "config": {
        "plotlyServerURL": "https://plot.ly"
       },
       "data": [
        {
         "alignmentgroup": "True",
         "hovertemplate": "pred_medal=Bronze<br>Sport=%{x}<br>value=%{y}<extra></extra>",
         "legendgroup": "Bronze",
         "marker": {
          "color": "#636efa",
          "pattern": {
           "shape": ""
          }
         },
         "name": "Bronze",
         "offsetgroup": "Bronze",
         "orientation": "v",
         "showlegend": true,
         "textposition": "auto",
         "type": "bar",
         "x": [
          "Athletics",
          "Swimming",
          "Wrestling",
          "Canoeing",
          "Cycling",
          "Weightlifting",
          "Rowing",
          "Judo",
          "Boxing",
          "Shooting",
          "Fencing",
          "Sailing",
          "Taekwondo",
          "Diving",
          "Gymnastics",
          "Badminton",
          "Tennis",
          "Table Tennis",
          "Equestrianism",
          "Synchronized Swimming",
          "Water Polo",
          "Volleyball",
          "Triathlon",
          "Trampolining",
          "Rugby Sevens",
          "Basketball",
          "Beach Volleyball",
          "Rhythmic Gymnastics",
          "Modern Pentathlon",
          "Archery",
          "Hockey",
          "Handball",
          "Golf",
          "Football",
          "Alpine Skiing"
         ],
         "xaxis": "x",
         "y": [
          57,
          35,
          24,
          15,
          15,
          21,
          16,
          17,
          19,
          13,
          10,
          16,
          8,
          9,
          4,
          5,
          4,
          5,
          3,
          4,
          2,
          2,
          3,
          1,
          2,
          2,
          1,
          3,
          3,
          2,
          2,
          2,
          4,
          2,
          3
         ],
         "yaxis": "y"
        },
        {
         "alignmentgroup": "True",
         "hovertemplate": "pred_medal=Gold<br>Sport=%{x}<br>value=%{y}<extra></extra>",
         "legendgroup": "Gold",
         "marker": {
          "color": "#EF553B",
          "pattern": {
           "shape": ""
          }
         },
         "name": "Gold",
         "offsetgroup": "Gold",
         "orientation": "v",
         "showlegend": true,
         "textposition": "auto",
         "type": "bar",
         "x": [
          "Athletics",
          "Swimming",
          "Wrestling",
          "Canoeing",
          "Cycling",
          "Weightlifting",
          "Rowing",
          "Judo",
          "Boxing",
          "Shooting",
          "Fencing",
          "Sailing",
          "Taekwondo",
          "Diving",
          "Gymnastics",
          "Badminton",
          "Tennis",
          "Table Tennis",
          "Equestrianism",
          "Synchronized Swimming",
          "Water Polo",
          "Volleyball",
          "Triathlon",
          "Trampolining",
          "Rugby Sevens",
          "Basketball",
          "Beach Volleyball",
          "Rhythmic Gymnastics",
          "Modern Pentathlon",
          "Archery",
          "Hockey",
          "Handball",
          "Golf",
          "Football",
          "Alpine Skiing"
         ],
         "xaxis": "x",
         "y": [
          40,
          29,
          16,
          20,
          24,
          13,
          18,
          13,
          11,
          13,
          14,
          8,
          5,
          7,
          4,
          6,
          4,
          5,
          3,
          1,
          2,
          2,
          0,
          1,
          2,
          2,
          3,
          1,
          2,
          2,
          2,
          2,
          1,
          2,
          0
         ],
         "yaxis": "y"
        },
        {
         "alignmentgroup": "True",
         "hovertemplate": "pred_medal=Silver<br>Sport=%{x}<br>value=%{y}<extra></extra>",
         "legendgroup": "Silver",
         "marker": {
          "color": "#00cc96",
          "pattern": {
           "shape": ""
          }
         },
         "name": "Silver",
         "offsetgroup": "Silver",
         "orientation": "v",
         "showlegend": true,
         "textposition": "auto",
         "type": "bar",
         "x": [
          "Athletics",
          "Swimming",
          "Wrestling",
          "Canoeing",
          "Cycling",
          "Weightlifting",
          "Rowing",
          "Judo",
          "Boxing",
          "Shooting",
          "Fencing",
          "Sailing",
          "Taekwondo",
          "Diving",
          "Gymnastics",
          "Badminton",
          "Tennis",
          "Table Tennis",
          "Equestrianism",
          "Synchronized Swimming",
          "Water Polo",
          "Volleyball",
          "Triathlon",
          "Trampolining",
          "Rugby Sevens",
          "Basketball",
          "Beach Volleyball",
          "Rhythmic Gymnastics",
          "Modern Pentathlon",
          "Archery",
          "Hockey",
          "Handball",
          "Golf",
          "Football",
          "Alpine Skiing"
         ],
         "xaxis": "x",
         "y": [
          41,
          23,
          17,
          10,
          6,
          8,
          8,
          12,
          12,
          13,
          6,
          6,
          11,
          8,
          10,
          4,
          7,
          2,
          3,
          1,
          2,
          2,
          3,
          4,
          2,
          2,
          2,
          2,
          1,
          2,
          2,
          2,
          1,
          2,
          0
         ],
         "yaxis": "y"
        }
       ],
       "layout": {
        "barmode": "stack",
        "legend": {
         "title": {
          "text": "pred_medal"
         },
         "tracegroupgap": 0
        },
        "template": {
         "data": {
          "bar": [
           {
            "error_x": {
             "color": "#2a3f5f"
            },
            "error_y": {
             "color": "#2a3f5f"
            },
            "marker": {
             "line": {
              "color": "#E5ECF6",
              "width": 0.5
             },
             "pattern": {
              "fillmode": "overlay",
              "size": 10,
              "solidity": 0.2
             }
            },
            "type": "bar"
           }
          ],
          "barpolar": [
           {
            "marker": {
             "line": {
              "color": "#E5ECF6",
              "width": 0.5
             },
             "pattern": {
              "fillmode": "overlay",
              "size": 10,
              "solidity": 0.2
             }
            },
            "type": "barpolar"
           }
          ],
          "carpet": [
           {
            "aaxis": {
             "endlinecolor": "#2a3f5f",
             "gridcolor": "white",
             "linecolor": "white",
             "minorgridcolor": "white",
             "startlinecolor": "#2a3f5f"
            },
            "baxis": {
             "endlinecolor": "#2a3f5f",
             "gridcolor": "white",
             "linecolor": "white",
             "minorgridcolor": "white",
             "startlinecolor": "#2a3f5f"
            },
            "type": "carpet"
           }
          ],
          "choropleth": [
           {
            "colorbar": {
             "outlinewidth": 0,
             "ticks": ""
            },
            "type": "choropleth"
           }
          ],
          "contour": [
           {
            "colorbar": {
             "outlinewidth": 0,
             "ticks": ""
            },
            "colorscale": [
             [
              0,
              "#0d0887"
             ],
             [
              0.1111111111111111,
              "#46039f"
             ],
             [
              0.2222222222222222,
              "#7201a8"
             ],
             [
              0.3333333333333333,
              "#9c179e"
             ],
             [
              0.4444444444444444,
              "#bd3786"
             ],
             [
              0.5555555555555556,
              "#d8576b"
             ],
             [
              0.6666666666666666,
              "#ed7953"
             ],
             [
              0.7777777777777778,
              "#fb9f3a"
             ],
             [
              0.8888888888888888,
              "#fdca26"
             ],
             [
              1,
              "#f0f921"
             ]
            ],
            "type": "contour"
           }
          ],
          "contourcarpet": [
           {
            "colorbar": {
             "outlinewidth": 0,
             "ticks": ""
            },
            "type": "contourcarpet"
           }
          ],
          "heatmap": [
           {
            "colorbar": {
             "outlinewidth": 0,
             "ticks": ""
            },
            "colorscale": [
             [
              0,
              "#0d0887"
             ],
             [
              0.1111111111111111,
              "#46039f"
             ],
             [
              0.2222222222222222,
              "#7201a8"
             ],
             [
              0.3333333333333333,
              "#9c179e"
             ],
             [
              0.4444444444444444,
              "#bd3786"
             ],
             [
              0.5555555555555556,
              "#d8576b"
             ],
             [
              0.6666666666666666,
              "#ed7953"
             ],
             [
              0.7777777777777778,
              "#fb9f3a"
             ],
             [
              0.8888888888888888,
              "#fdca26"
             ],
             [
              1,
              "#f0f921"
             ]
            ],
            "type": "heatmap"
           }
          ],
          "heatmapgl": [
           {
            "colorbar": {
             "outlinewidth": 0,
             "ticks": ""
            },
            "colorscale": [
             [
              0,
              "#0d0887"
             ],
             [
              0.1111111111111111,
              "#46039f"
             ],
             [
              0.2222222222222222,
              "#7201a8"
             ],
             [
              0.3333333333333333,
              "#9c179e"
             ],
             [
              0.4444444444444444,
              "#bd3786"
             ],
             [
              0.5555555555555556,
              "#d8576b"
             ],
             [
              0.6666666666666666,
              "#ed7953"
             ],
             [
              0.7777777777777778,
              "#fb9f3a"
             ],
             [
              0.8888888888888888,
              "#fdca26"
             ],
             [
              1,
              "#f0f921"
             ]
            ],
            "type": "heatmapgl"
           }
          ],
          "histogram": [
           {
            "marker": {
             "pattern": {
              "fillmode": "overlay",
              "size": 10,
              "solidity": 0.2
             }
            },
            "type": "histogram"
           }
          ],
          "histogram2d": [
           {
            "colorbar": {
             "outlinewidth": 0,
             "ticks": ""
            },
            "colorscale": [
             [
              0,
              "#0d0887"
             ],
             [
              0.1111111111111111,
              "#46039f"
             ],
             [
              0.2222222222222222,
              "#7201a8"
             ],
             [
              0.3333333333333333,
              "#9c179e"
             ],
             [
              0.4444444444444444,
              "#bd3786"
             ],
             [
              0.5555555555555556,
              "#d8576b"
             ],
             [
              0.6666666666666666,
              "#ed7953"
             ],
             [
              0.7777777777777778,
              "#fb9f3a"
             ],
             [
              0.8888888888888888,
              "#fdca26"
             ],
             [
              1,
              "#f0f921"
             ]
            ],
            "type": "histogram2d"
           }
          ],
          "histogram2dcontour": [
           {
            "colorbar": {
             "outlinewidth": 0,
             "ticks": ""
            },
            "colorscale": [
             [
              0,
              "#0d0887"
             ],
             [
              0.1111111111111111,
              "#46039f"
             ],
             [
              0.2222222222222222,
              "#7201a8"
             ],
             [
              0.3333333333333333,
              "#9c179e"
             ],
             [
              0.4444444444444444,
              "#bd3786"
             ],
             [
              0.5555555555555556,
              "#d8576b"
             ],
             [
              0.6666666666666666,
              "#ed7953"
             ],
             [
              0.7777777777777778,
              "#fb9f3a"
             ],
             [
              0.8888888888888888,
              "#fdca26"
             ],
             [
              1,
              "#f0f921"
             ]
            ],
            "type": "histogram2dcontour"
           }
          ],
          "mesh3d": [
           {
            "colorbar": {
             "outlinewidth": 0,
             "ticks": ""
            },
            "type": "mesh3d"
           }
          ],
          "parcoords": [
           {
            "line": {
             "colorbar": {
              "outlinewidth": 0,
              "ticks": ""
             }
            },
            "type": "parcoords"
           }
          ],
          "pie": [
           {
            "automargin": true,
            "type": "pie"
           }
          ],
          "scatter": [
           {
            "fillpattern": {
             "fillmode": "overlay",
             "size": 10,
             "solidity": 0.2
            },
            "type": "scatter"
           }
          ],
          "scatter3d": [
           {
            "line": {
             "colorbar": {
              "outlinewidth": 0,
              "ticks": ""
             }
            },
            "marker": {
             "colorbar": {
              "outlinewidth": 0,
              "ticks": ""
             }
            },
            "type": "scatter3d"
           }
          ],
          "scattercarpet": [
           {
            "marker": {
             "colorbar": {
              "outlinewidth": 0,
              "ticks": ""
             }
            },
            "type": "scattercarpet"
           }
          ],
          "scattergeo": [
           {
            "marker": {
             "colorbar": {
              "outlinewidth": 0,
              "ticks": ""
             }
            },
            "type": "scattergeo"
           }
          ],
          "scattergl": [
           {
            "marker": {
             "colorbar": {
              "outlinewidth": 0,
              "ticks": ""
             }
            },
            "type": "scattergl"
           }
          ],
          "scattermapbox": [
           {
            "marker": {
             "colorbar": {
              "outlinewidth": 0,
              "ticks": ""
             }
            },
            "type": "scattermapbox"
           }
          ],
          "scatterpolar": [
           {
            "marker": {
             "colorbar": {
              "outlinewidth": 0,
              "ticks": ""
             }
            },
            "type": "scatterpolar"
           }
          ],
          "scatterpolargl": [
           {
            "marker": {
             "colorbar": {
              "outlinewidth": 0,
              "ticks": ""
             }
            },
            "type": "scatterpolargl"
           }
          ],
          "scatterternary": [
           {
            "marker": {
             "colorbar": {
              "outlinewidth": 0,
              "ticks": ""
             }
            },
            "type": "scatterternary"
           }
          ],
          "surface": [
           {
            "colorbar": {
             "outlinewidth": 0,
             "ticks": ""
            },
            "colorscale": [
             [
              0,
              "#0d0887"
             ],
             [
              0.1111111111111111,
              "#46039f"
             ],
             [
              0.2222222222222222,
              "#7201a8"
             ],
             [
              0.3333333333333333,
              "#9c179e"
             ],
             [
              0.4444444444444444,
              "#bd3786"
             ],
             [
              0.5555555555555556,
              "#d8576b"
             ],
             [
              0.6666666666666666,
              "#ed7953"
             ],
             [
              0.7777777777777778,
              "#fb9f3a"
             ],
             [
              0.8888888888888888,
              "#fdca26"
             ],
             [
              1,
              "#f0f921"
             ]
            ],
            "type": "surface"
           }
          ],
          "table": [
           {
            "cells": {
             "fill": {
              "color": "#EBF0F8"
             },
             "line": {
              "color": "white"
             }
            },
            "header": {
             "fill": {
              "color": "#C8D4E3"
             },
             "line": {
              "color": "white"
             }
            },
            "type": "table"
           }
          ]
         },
         "layout": {
          "annotationdefaults": {
           "arrowcolor": "#2a3f5f",
           "arrowhead": 0,
           "arrowwidth": 1
          },
          "autotypenumbers": "strict",
          "coloraxis": {
           "colorbar": {
            "outlinewidth": 0,
            "ticks": ""
           }
          },
          "colorscale": {
           "diverging": [
            [
             0,
             "#8e0152"
            ],
            [
             0.1,
             "#c51b7d"
            ],
            [
             0.2,
             "#de77ae"
            ],
            [
             0.3,
             "#f1b6da"
            ],
            [
             0.4,
             "#fde0ef"
            ],
            [
             0.5,
             "#f7f7f7"
            ],
            [
             0.6,
             "#e6f5d0"
            ],
            [
             0.7,
             "#b8e186"
            ],
            [
             0.8,
             "#7fbc41"
            ],
            [
             0.9,
             "#4d9221"
            ],
            [
             1,
             "#276419"
            ]
           ],
           "sequential": [
            [
             0,
             "#0d0887"
            ],
            [
             0.1111111111111111,
             "#46039f"
            ],
            [
             0.2222222222222222,
             "#7201a8"
            ],
            [
             0.3333333333333333,
             "#9c179e"
            ],
            [
             0.4444444444444444,
             "#bd3786"
            ],
            [
             0.5555555555555556,
             "#d8576b"
            ],
            [
             0.6666666666666666,
             "#ed7953"
            ],
            [
             0.7777777777777778,
             "#fb9f3a"
            ],
            [
             0.8888888888888888,
             "#fdca26"
            ],
            [
             1,
             "#f0f921"
            ]
           ],
           "sequentialminus": [
            [
             0,
             "#0d0887"
            ],
            [
             0.1111111111111111,
             "#46039f"
            ],
            [
             0.2222222222222222,
             "#7201a8"
            ],
            [
             0.3333333333333333,
             "#9c179e"
            ],
            [
             0.4444444444444444,
             "#bd3786"
            ],
            [
             0.5555555555555556,
             "#d8576b"
            ],
            [
             0.6666666666666666,
             "#ed7953"
            ],
            [
             0.7777777777777778,
             "#fb9f3a"
            ],
            [
             0.8888888888888888,
             "#fdca26"
            ],
            [
             1,
             "#f0f921"
            ]
           ]
          },
          "colorway": [
           "#636efa",
           "#EF553B",
           "#00cc96",
           "#ab63fa",
           "#FFA15A",
           "#19d3f3",
           "#FF6692",
           "#B6E880",
           "#FF97FF",
           "#FECB52"
          ],
          "font": {
           "color": "#2a3f5f"
          },
          "geo": {
           "bgcolor": "white",
           "lakecolor": "white",
           "landcolor": "#E5ECF6",
           "showlakes": true,
           "showland": true,
           "subunitcolor": "white"
          },
          "hoverlabel": {
           "align": "left"
          },
          "hovermode": "closest",
          "mapbox": {
           "style": "light"
          },
          "paper_bgcolor": "white",
          "plot_bgcolor": "#E5ECF6",
          "polar": {
           "angularaxis": {
            "gridcolor": "white",
            "linecolor": "white",
            "ticks": ""
           },
           "bgcolor": "#E5ECF6",
           "radialaxis": {
            "gridcolor": "white",
            "linecolor": "white",
            "ticks": ""
           }
          },
          "scene": {
           "xaxis": {
            "backgroundcolor": "#E5ECF6",
            "gridcolor": "white",
            "gridwidth": 2,
            "linecolor": "white",
            "showbackground": true,
            "ticks": "",
            "zerolinecolor": "white"
           },
           "yaxis": {
            "backgroundcolor": "#E5ECF6",
            "gridcolor": "white",
            "gridwidth": 2,
            "linecolor": "white",
            "showbackground": true,
            "ticks": "",
            "zerolinecolor": "white"
           },
           "zaxis": {
            "backgroundcolor": "#E5ECF6",
            "gridcolor": "white",
            "gridwidth": 2,
            "linecolor": "white",
            "showbackground": true,
            "ticks": "",
            "zerolinecolor": "white"
           }
          },
          "shapedefaults": {
           "line": {
            "color": "#2a3f5f"
           }
          },
          "ternary": {
           "aaxis": {
            "gridcolor": "white",
            "linecolor": "white",
            "ticks": ""
           },
           "baxis": {
            "gridcolor": "white",
            "linecolor": "white",
            "ticks": ""
           },
           "bgcolor": "#E5ECF6",
           "caxis": {
            "gridcolor": "white",
            "linecolor": "white",
            "ticks": ""
           }
          },
          "title": {
           "x": 0.05
          },
          "xaxis": {
           "automargin": true,
           "gridcolor": "white",
           "linecolor": "white",
           "ticks": "",
           "title": {
            "standoff": 15
           },
           "zerolinecolor": "white",
           "zerolinewidth": 2
          },
          "yaxis": {
           "automargin": true,
           "gridcolor": "white",
           "linecolor": "white",
           "ticks": "",
           "title": {
            "standoff": 15
           },
           "zerolinecolor": "white",
           "zerolinewidth": 2
          }
         }
        },
        "title": {
         "text": "Predicted Medals by Sport"
        },
        "xaxis": {
         "anchor": "y",
         "domain": [
          0,
          1
         ],
         "title": {
          "text": "Sport"
         }
        },
        "yaxis": {
         "anchor": "x",
         "domain": [
          0,
          1
         ],
         "title": {
          "text": "value"
         }
        }
       }
      }
     },
     "metadata": {},
     "output_type": "display_data"
    }
   ],
   "source": [
    "medals_by_sport = df.groupby(['Sport', 'pred_medal']).size().unstack().fillna(0)\n",
    "medals_by_sport_sorted = medals_by_sport.sum(axis=1).sort_values(ascending=False).index\n",
    "medals_by_sport_sorted_df = medals_by_sport.loc[medals_by_sport_sorted]\n",
    "\n",
    "# Plot predicted medals by sport (sorted)\n",
    "fig = px.bar(medals_by_sport_sorted_df, title='Predicted Medals by Sport', barmode='stack')\n",
    "fig.show()"
   ]
  },
  {
   "cell_type": "code",
   "execution_count": 5,
   "metadata": {},
   "outputs": [
    {
     "data": {
      "application/vnd.plotly.v1+json": {
       "config": {
        "plotlyServerURL": "https://plot.ly"
       },
       "data": [
        {
         "hovertemplate": "Sex=0<br>Age=%{x}<br>Predicted Medal=%{y}<extra></extra>",
         "legendgroup": "0",
         "marker": {
          "color": "magenta",
          "size": 8,
          "symbol": "circle"
         },
         "mode": "markers",
         "name": "0",
         "orientation": "h",
         "showlegend": true,
         "type": "scatter",
         "x": [
          27,
          27,
          27,
          28,
          29,
          26,
          26,
          22,
          25,
          21,
          24,
          19,
          27,
          24,
          28,
          27,
          29,
          22,
          31,
          20,
          20,
          24,
          24,
          29,
          20,
          22,
          24,
          21,
          22,
          31,
          22,
          24,
          25,
          29,
          23,
          29,
          24,
          24,
          24,
          23,
          23,
          23,
          37,
          37,
          26,
          25,
          25,
          25,
          27,
          21,
          27,
          26,
          37,
          26,
          21,
          32,
          21,
          26,
          26,
          26,
          32,
          31,
          26,
          24,
          26,
          19,
          27,
          30,
          27,
          20,
          20,
          20,
          27,
          26,
          26,
          21,
          21,
          23,
          21,
          24,
          25,
          26,
          29,
          25,
          33,
          34,
          34,
          27,
          25,
          23,
          23,
          28,
          26,
          26,
          24,
          26,
          23,
          29,
          24,
          24,
          20,
          20,
          20,
          27,
          27,
          27,
          25,
          25,
          25,
          35,
          22,
          35,
          26,
          26,
          26,
          24,
          26,
          24,
          24,
          22,
          23,
          21,
          22,
          29,
          17,
          15,
          17,
          26,
          24,
          20,
          18,
          18,
          18,
          30,
          23,
          23,
          40,
          28,
          27,
          27,
          27,
          27,
          23,
          22,
          30,
          26,
          26,
          26,
          25,
          33,
          25,
          28,
          32,
          28,
          26,
          26,
          23,
          26,
          28,
          26,
          16,
          19,
          16,
          16,
          24,
          16,
          29,
          32,
          24,
          28,
          27,
          26,
          25,
          25,
          21,
          25,
          25,
          25,
          21,
          25,
          27,
          23,
          25,
          27,
          25,
          28,
          29,
          25,
          24,
          25,
          26,
          26,
          26,
          27,
          25,
          24,
          21,
          18,
          25,
          23,
          20,
          23,
          31,
          27,
          25,
          25,
          25,
          23,
          27,
          22,
          29,
          34,
          32,
          27,
          25,
          28,
          24,
          31,
          27,
          27,
          21,
          23,
          27,
          24,
          24,
          23,
          26,
          29,
          25,
          23,
          25,
          27,
          29,
          31,
          31,
          27,
          31,
          19,
          33,
          25,
          47,
          19,
          19,
          19,
          33,
          33,
          33,
          27,
          33,
          33,
          28,
          26,
          28,
          25,
          33,
          33,
          20,
          22,
          20,
          21,
          19,
          27,
          21,
          22,
          23,
          16,
          16,
          16,
          25,
          25,
          25,
          27,
          27,
          27,
          22,
          27,
          27,
          22,
          22,
          24,
          21,
          24,
          19,
          25,
          21,
          22,
          20,
          22,
          22,
          23,
          23,
          23,
          25,
          25,
          25,
          22,
          21,
          25,
          33,
          33,
          21,
          33,
          25,
          15,
          25,
          18,
          23,
          18,
          22,
          18,
          20,
          22,
          20,
          23,
          28,
          22,
          31,
          31,
          30,
          30,
          26,
          35,
          27,
          29,
          25,
          27,
          27,
          30,
          30,
          30,
          25,
          25,
          23,
          27,
          22,
          29,
          21,
          21,
          21,
          20,
          31,
          31,
          22,
          24,
          18,
          21,
          22,
          22,
          22,
          23,
          23,
          23,
          27,
          28,
          24,
          24,
          24,
          26,
          22,
          21,
          29,
          27,
          29,
          21,
          21,
          24,
          23,
          23,
          27,
          23,
          21,
          36
         ],
         "xaxis": "x",
         "y": [
          "Bronze",
          "Bronze",
          "Bronze",
          "Gold",
          "Silver",
          "Bronze",
          "Gold",
          "Silver",
          "Gold",
          "Gold",
          "Silver",
          "Bronze",
          "Gold",
          "Silver",
          "Bronze",
          "Gold",
          "Silver",
          "Bronze",
          "Gold",
          "Bronze",
          "Bronze",
          "Silver",
          "Silver",
          "Bronze",
          "Gold",
          "Silver",
          "Silver",
          "Gold",
          "Silver",
          "Bronze",
          "Gold",
          "Silver",
          "Bronze",
          "Silver",
          "Silver",
          "Bronze",
          "Bronze",
          "Bronze",
          "Bronze",
          "Gold",
          "Gold",
          "Gold",
          "Gold",
          "Gold",
          "Bronze",
          "Bronze",
          "Bronze",
          "Bronze",
          "Bronze",
          "Silver",
          "Bronze",
          "Gold",
          "Silver",
          "Gold",
          "Bronze",
          "Silver",
          "Bronze",
          "Bronze",
          "Bronze",
          "Bronze",
          "Silver",
          "Silver",
          "Bronze",
          "Gold",
          "Silver",
          "Bronze",
          "Bronze",
          "Silver",
          "Bronze",
          "Gold",
          "Gold",
          "Gold",
          "Gold",
          "Silver",
          "Silver",
          "Bronze",
          "Gold",
          "Silver",
          "Bronze",
          "Gold",
          "Silver",
          "Bronze",
          "Gold",
          "Silver",
          "Gold",
          "Gold",
          "Gold",
          "Bronze",
          "Gold",
          "Silver",
          "Bronze",
          "Gold",
          "Bronze",
          "Bronze",
          "Gold",
          "Silver",
          "Gold",
          "Gold",
          "Bronze",
          "Bronze",
          "Gold",
          "Gold",
          "Gold",
          "Gold",
          "Gold",
          "Gold",
          "Gold",
          "Gold",
          "Bronze",
          "Bronze",
          "Silver",
          "Bronze",
          "Bronze",
          "Bronze",
          "Bronze",
          "Bronze",
          "Bronze",
          "Bronze",
          "Gold",
          "Silver",
          "Bronze",
          "Gold",
          "Silver",
          "Bronze",
          "Silver",
          "Silver",
          "Silver",
          "Gold",
          "Silver",
          "Bronze",
          "Silver",
          "Silver",
          "Silver",
          "Gold",
          "Bronze",
          "Bronze",
          "Gold",
          "Bronze",
          "Gold",
          "Bronze",
          "Bronze",
          "Bronze",
          "Gold",
          "Silver",
          "Bronze",
          "Gold",
          "Bronze",
          "Bronze",
          "Gold",
          "Silver",
          "Bronze",
          "Gold",
          "Silver",
          "Gold",
          "Gold",
          "Silver",
          "Bronze",
          "Bronze",
          "Silver",
          "Bronze",
          "Gold",
          "Silver",
          "Bronze",
          "Gold",
          "Silver",
          "Bronze",
          "Gold",
          "Silver",
          "Bronze",
          "Gold",
          "Silver",
          "Bronze",
          "Gold",
          "Gold",
          "Bronze",
          "Bronze",
          "Bronze",
          "Bronze",
          "Gold",
          "Silver",
          "Bronze",
          "Gold",
          "Silver",
          "Bronze",
          "Bronze",
          "Silver",
          "Bronze",
          "Gold",
          "Silver",
          "Gold",
          "Silver",
          "Silver",
          "Bronze",
          "Gold",
          "Bronze",
          "Bronze",
          "Gold",
          "Silver",
          "Bronze",
          "Bronze",
          "Silver",
          "Bronze",
          "Gold",
          "Silver",
          "Bronze",
          "Gold",
          "Gold",
          "Bronze",
          "Gold",
          "Bronze",
          "Bronze",
          "Gold",
          "Silver",
          "Bronze",
          "Gold",
          "Silver",
          "Bronze",
          "Gold",
          "Bronze",
          "Bronze",
          "Gold",
          "Silver",
          "Bronze",
          "Gold",
          "Gold",
          "Bronze",
          "Gold",
          "Silver",
          "Bronze",
          "Gold",
          "Silver",
          "Bronze",
          "Bronze",
          "Bronze",
          "Bronze",
          "Gold",
          "Silver",
          "Gold",
          "Gold",
          "Silver",
          "Bronze",
          "Silver",
          "Silver",
          "Silver",
          "Silver",
          "Silver",
          "Silver",
          "Gold",
          "Silver",
          "Silver",
          "Gold",
          "Silver",
          "Gold",
          "Gold",
          "Bronze",
          "Bronze",
          "Gold",
          "Silver",
          "Bronze",
          "Gold",
          "Silver",
          "Bronze",
          "Gold",
          "Silver",
          "Bronze",
          "Bronze",
          "Bronze",
          "Bronze",
          "Bronze",
          "Bronze",
          "Bronze",
          "Silver",
          "Silver",
          "Silver",
          "Gold",
          "Silver",
          "Silver",
          "Silver",
          "Silver",
          "Bronze",
          "Gold",
          "Silver",
          "Bronze",
          "Gold",
          "Silver",
          "Bronze",
          "Gold",
          "Silver",
          "Bronze",
          "Gold",
          "Gold",
          "Gold",
          "Bronze",
          "Bronze",
          "Bronze",
          "Gold",
          "Silver",
          "Bronze",
          "Gold",
          "Gold",
          "Bronze",
          "Gold",
          "Silver",
          "Bronze",
          "Gold",
          "Bronze",
          "Bronze",
          "Gold",
          "Silver",
          "Bronze",
          "Bronze",
          "Silver",
          "Bronze",
          "Gold",
          "Silver",
          "Bronze",
          "Silver",
          "Silver",
          "Silver",
          "Silver",
          "Bronze",
          "Gold",
          "Silver",
          "Bronze",
          "Gold",
          "Silver",
          "Silver",
          "Silver",
          "Silver",
          "Silver",
          "Gold",
          "Silver",
          "Bronze",
          "Gold",
          "Silver",
          "Bronze",
          "Gold",
          "Silver",
          "Gold",
          "Gold",
          "Bronze",
          "Bronze",
          "Gold",
          "Silver",
          "Bronze",
          "Gold",
          "Gold",
          "Gold",
          "Gold",
          "Silver",
          "Bronze",
          "Gold",
          "Silver",
          "Bronze",
          "Silver",
          "Silver",
          "Silver",
          "Gold",
          "Silver",
          "Bronze",
          "Gold",
          "Silver",
          "Bronze",
          "Silver",
          "Silver",
          "Bronze",
          "Gold",
          "Silver",
          "Bronze",
          "Gold",
          "Bronze",
          "Bronze"
         ],
         "yaxis": "y"
        },
        {
         "hovertemplate": "Sex=1<br>Age=%{x}<br>Predicted Medal=%{y}<extra></extra>",
         "legendgroup": "1",
         "marker": {
          "color": "darkblue",
          "size": 8,
          "symbol": "circle"
         },
         "mode": "markers",
         "name": "1",
         "orientation": "h",
         "showlegend": true,
         "type": "scatter",
         "x": [
          20,
          21,
          25,
          26,
          26,
          26,
          25,
          25,
          24,
          24,
          26,
          24,
          25,
          25,
          29,
          25,
          33,
          24,
          25,
          24,
          24,
          27,
          21,
          27,
          21,
          21,
          20,
          26,
          25,
          21,
          23,
          27,
          24,
          24,
          24,
          29,
          25,
          25,
          22,
          28,
          28,
          28,
          21,
          21,
          21,
          24,
          26,
          26,
          26,
          26,
          26,
          34,
          34,
          27,
          26,
          26,
          26,
          27,
          24,
          27,
          27,
          27,
          27,
          26,
          26,
          26,
          22,
          22,
          23,
          27,
          23,
          24,
          27,
          27,
          27,
          27,
          27,
          26,
          22,
          22,
          22,
          28,
          29,
          28,
          24,
          23,
          25,
          29,
          26,
          19,
          21,
          26,
          27,
          27,
          27,
          23,
          23,
          19,
          28,
          25,
          24,
          24,
          23,
          19,
          23,
          26,
          27,
          31,
          24,
          25,
          21,
          25,
          28,
          20,
          23,
          23,
          24,
          30,
          24,
          23,
          25,
          23,
          25,
          24,
          21,
          28,
          33,
          28,
          29,
          29,
          29,
          32,
          32,
          22,
          28,
          29,
          29,
          27,
          22,
          27,
          30,
          24,
          30,
          20,
          26,
          21,
          26,
          21,
          28,
          34,
          34,
          34,
          32,
          23,
          23,
          31,
          31,
          31,
          25,
          23,
          22,
          23,
          23,
          23,
          31,
          31,
          31,
          31,
          34,
          34,
          31,
          26,
          25,
          27,
          23,
          30,
          19,
          23,
          19,
          25,
          25,
          25,
          20,
          20,
          20,
          22,
          21,
          23,
          19,
          19,
          19,
          24,
          24,
          24,
          21,
          35,
          50,
          34,
          32,
          34,
          24,
          23,
          26,
          26,
          26,
          26,
          26,
          26,
          26,
          27,
          27,
          22,
          23,
          38,
          36,
          27,
          22,
          21,
          40,
          38,
          38,
          31,
          31,
          31,
          19,
          22,
          20,
          25,
          25,
          25,
          19,
          19,
          21,
          25,
          28,
          29,
          28,
          30,
          22,
          23,
          30,
          22,
          25,
          25,
          28,
          22,
          21,
          22,
          30,
          22,
          22,
          24,
          25,
          25,
          24,
          24,
          29,
          27,
          21,
          25,
          29,
          28,
          26,
          25,
          28,
          29,
          23,
          29,
          30,
          29,
          27,
          21,
          27,
          27,
          26,
          28,
          31,
          24,
          22,
          27,
          27,
          26,
          27,
          29,
          30,
          30,
          30,
          25,
          28,
          29,
          30,
          26,
          25,
          25,
          29,
          25,
          26,
          26,
          28,
          27,
          30,
          32,
          27,
          27,
          27,
          41,
          24,
          30,
          28,
          23,
          21,
          37,
          31,
          31,
          20,
          26,
          26,
          26,
          21,
          52,
          28,
          28,
          24,
          21,
          21,
          21,
          33,
          33,
          33,
          25,
          21,
          21,
          24,
          24,
          20,
          26,
          21,
          30,
          21,
          22,
          24,
          21,
          25,
          22,
          28,
          19,
          25,
          20,
          20,
          23,
          19,
          23,
          19,
          21,
          21,
          19,
          20,
          19,
          19,
          22,
          22,
          22,
          24,
          20,
          22,
          23,
          20,
          22,
          36,
          22,
          23,
          22,
          22,
          22,
          30,
          30,
          30,
          27,
          27,
          27,
          23,
          26,
          23,
          20,
          20,
          20,
          18,
          20,
          21,
          21,
          23,
          26,
          22,
          22,
          25,
          31,
          34,
          34,
          26,
          26,
          26,
          32,
          20,
          20,
          24,
          24,
          24,
          24,
          32,
          32,
          29,
          29,
          25,
          22,
          20,
          20,
          20,
          25,
          25,
          25,
          19,
          24,
          23,
          22,
          22,
          27,
          24,
          22,
          21,
          25,
          25,
          25,
          22,
          22,
          26,
          21,
          22,
          31,
          20,
          27,
          25,
          22,
          24,
          24,
          20,
          20,
          31,
          26,
          26,
          30,
          26,
          21,
          20,
          25,
          21,
          25,
          30,
          30,
          33,
          21,
          29,
          25,
          31,
          31,
          31,
          25,
          25,
          31,
          20,
          27,
          20,
          24,
          25,
          26,
          27,
          26,
          22
         ],
         "xaxis": "x",
         "y": [
          "Gold",
          "Silver",
          "Bronze",
          "Silver",
          "Silver",
          "Silver",
          "Gold",
          "Gold",
          "Bronze",
          "Gold",
          "Silver",
          "Bronze",
          "Gold",
          "Gold",
          "Bronze",
          "Gold",
          "Silver",
          "Bronze",
          "Bronze",
          "Bronze",
          "Bronze",
          "Silver",
          "Silver",
          "Silver",
          "Silver",
          "Silver",
          "Bronze",
          "Gold",
          "Gold",
          "Bronze",
          "Gold",
          "Silver",
          "Bronze",
          "Gold",
          "Gold",
          "Bronze",
          "Gold",
          "Gold",
          "Bronze",
          "Bronze",
          "Bronze",
          "Bronze",
          "Bronze",
          "Bronze",
          "Bronze",
          "Gold",
          "Bronze",
          "Bronze",
          "Silver",
          "Silver",
          "Bronze",
          "Silver",
          "Silver",
          "Bronze",
          "Bronze",
          "Bronze",
          "Bronze",
          "Gold",
          "Silver",
          "Gold",
          "Silver",
          "Silver",
          "Silver",
          "Gold",
          "Gold",
          "Gold",
          "Silver",
          "Silver",
          "Bronze",
          "Gold",
          "Silver",
          "Bronze",
          "Bronze",
          "Bronze",
          "Bronze",
          "Gold",
          "Gold",
          "Gold",
          "Bronze",
          "Bronze",
          "Bronze",
          "Gold",
          "Silver",
          "Gold",
          "Silver",
          "Bronze",
          "Gold",
          "Silver",
          "Bronze",
          "Gold",
          "Silver",
          "Bronze",
          "Silver",
          "Silver",
          "Silver",
          "Gold",
          "Silver",
          "Bronze",
          "Bronze",
          "Silver",
          "Bronze",
          "Gold",
          "Bronze",
          "Bronze",
          "Bronze",
          "Silver",
          "Bronze",
          "Gold",
          "Silver",
          "Bronze",
          "Bronze",
          "Silver",
          "Bronze",
          "Gold",
          "Silver",
          "Bronze",
          "Gold",
          "Silver",
          "Bronze",
          "Gold",
          "Bronze",
          "Bronze",
          "Silver",
          "Silver",
          "Bronze",
          "Bronze",
          "Silver",
          "Bronze",
          "Bronze",
          "Bronze",
          "Bronze",
          "Gold",
          "Gold",
          "Gold",
          "Gold",
          "Silver",
          "Bronze",
          "Bronze",
          "Silver",
          "Bronze",
          "Bronze",
          "Silver",
          "Bronze",
          "Gold",
          "Silver",
          "Gold",
          "Gold",
          "Silver",
          "Bronze",
          "Gold",
          "Gold",
          "Gold",
          "Gold",
          "Silver",
          "Bronze",
          "Gold",
          "Gold",
          "Gold",
          "Gold",
          "Silver",
          "Gold",
          "Gold",
          "Gold",
          "Gold",
          "Gold",
          "Gold",
          "Gold",
          "Gold",
          "Gold",
          "Gold",
          "Gold",
          "Bronze",
          "Bronze",
          "Gold",
          "Silver",
          "Bronze",
          "Gold",
          "Silver",
          "Bronze",
          "Gold",
          "Gold",
          "Gold",
          "Gold",
          "Bronze",
          "Bronze",
          "Gold",
          "Silver",
          "Bronze",
          "Bronze",
          "Bronze",
          "Bronze",
          "Gold",
          "Gold",
          "Gold",
          "Silver",
          "Gold",
          "Silver",
          "Bronze",
          "Silver",
          "Bronze",
          "Gold",
          "Silver",
          "Bronze",
          "Gold",
          "Gold",
          "Gold",
          "Gold",
          "Gold",
          "Gold",
          "Gold",
          "Silver",
          "Bronze",
          "Gold",
          "Silver",
          "Bronze",
          "Gold",
          "Silver",
          "Bronze",
          "Gold",
          "Bronze",
          "Bronze",
          "Silver",
          "Silver",
          "Silver",
          "Gold",
          "Silver",
          "Bronze",
          "Silver",
          "Silver",
          "Silver",
          "Gold",
          "Silver",
          "Bronze",
          "Gold",
          "Silver",
          "Bronze",
          "Gold",
          "Silver",
          "Bronze",
          "Gold",
          "Silver",
          "Bronze",
          "Gold",
          "Silver",
          "Bronze",
          "Gold",
          "Silver",
          "Gold",
          "Silver",
          "Silver",
          "Bronze",
          "Gold",
          "Bronze",
          "Bronze",
          "Gold",
          "Bronze",
          "Bronze",
          "Gold",
          "Silver",
          "Bronze",
          "Gold",
          "Silver",
          "Bronze",
          "Gold",
          "Silver",
          "Bronze",
          "Gold",
          "Bronze",
          "Bronze",
          "Gold",
          "Silver",
          "Bronze",
          "Gold",
          "Gold",
          "Bronze",
          "Gold",
          "Silver",
          "Bronze",
          "Gold",
          "Silver",
          "Bronze",
          "Gold",
          "Silver",
          "Bronze",
          "Gold",
          "Gold",
          "Gold",
          "Gold",
          "Silver",
          "Bronze",
          "Gold",
          "Silver",
          "Bronze",
          "Bronze",
          "Silver",
          "Bronze",
          "Bronze",
          "Bronze",
          "Bronze",
          "Gold",
          "Silver",
          "Bronze",
          "Bronze",
          "Bronze",
          "Bronze",
          "Gold",
          "Gold",
          "Bronze",
          "Gold",
          "Gold",
          "Bronze",
          "Gold",
          "Gold",
          "Gold",
          "Gold",
          "Bronze",
          "Bronze",
          "Gold",
          "Silver",
          "Bronze",
          "Bronze",
          "Bronze",
          "Bronze",
          "Bronze",
          "Bronze",
          "Bronze",
          "Silver",
          "Silver",
          "Bronze",
          "Gold",
          "Silver",
          "Bronze",
          "Gold",
          "Gold",
          "Bronze",
          "Gold",
          "Silver",
          "Bronze",
          "Silver",
          "Silver",
          "Bronze",
          "Gold",
          "Silver",
          "Bronze",
          "Gold",
          "Silver",
          "Bronze",
          "Gold",
          "Gold",
          "Bronze",
          "Bronze",
          "Bronze",
          "Bronze",
          "Gold",
          "Gold",
          "Bronze",
          "Gold",
          "Silver",
          "Silver",
          "Bronze",
          "Bronze",
          "Bronze",
          "Gold",
          "Silver",
          "Bronze",
          "Gold",
          "Silver",
          "Bronze",
          "Gold",
          "Gold",
          "Bronze",
          "Gold",
          "Gold",
          "Gold",
          "Bronze",
          "Bronze",
          "Bronze",
          "Bronze",
          "Bronze",
          "Bronze",
          "Gold",
          "Silver",
          "Gold",
          "Silver",
          "Silver",
          "Silver",
          "Gold",
          "Silver",
          "Bronze",
          "Gold",
          "Silver",
          "Silver",
          "Silver",
          "Silver",
          "Bronze",
          "Gold",
          "Silver",
          "Silver",
          "Gold",
          "Bronze",
          "Bronze",
          "Gold",
          "Silver",
          "Silver",
          "Bronze",
          "Bronze",
          "Bronze",
          "Bronze",
          "Gold",
          "Silver",
          "Bronze",
          "Gold",
          "Silver",
          "Bronze",
          "Bronze",
          "Bronze",
          "Bronze",
          "Bronze",
          "Bronze",
          "Bronze",
          "Gold",
          "Silver",
          "Bronze",
          "Gold",
          "Bronze",
          "Bronze",
          "Gold",
          "Silver",
          "Bronze",
          "Bronze",
          "Bronze",
          "Bronze",
          "Silver",
          "Silver",
          "Bronze",
          "Gold",
          "Bronze",
          "Bronze",
          "Gold",
          "Silver",
          "Bronze",
          "Gold",
          "Silver",
          "Bronze",
          "Gold",
          "Gold",
          "Bronze",
          "Gold",
          "Gold",
          "Bronze",
          "Gold",
          "Silver",
          "Bronze",
          "Bronze",
          "Silver",
          "Bronze",
          "Silver",
          "Silver",
          "Bronze",
          "Gold",
          "Bronze",
          "Bronze",
          "Gold",
          "Gold",
          "Gold",
          "Silver",
          "Silver",
          "Bronze",
          "Bronze",
          "Bronze",
          "Bronze",
          "Bronze",
          "Silver",
          "Bronze",
          "Gold",
          "Bronze",
          "Bronze"
         ],
         "yaxis": "y"
        }
       ],
       "layout": {
        "legend": {
         "title": {
          "text": "Sex"
         },
         "tracegroupgap": 0
        },
        "template": {
         "data": {
          "bar": [
           {
            "error_x": {
             "color": "#2a3f5f"
            },
            "error_y": {
             "color": "#2a3f5f"
            },
            "marker": {
             "line": {
              "color": "#E5ECF6",
              "width": 0.5
             },
             "pattern": {
              "fillmode": "overlay",
              "size": 10,
              "solidity": 0.2
             }
            },
            "type": "bar"
           }
          ],
          "barpolar": [
           {
            "marker": {
             "line": {
              "color": "#E5ECF6",
              "width": 0.5
             },
             "pattern": {
              "fillmode": "overlay",
              "size": 10,
              "solidity": 0.2
             }
            },
            "type": "barpolar"
           }
          ],
          "carpet": [
           {
            "aaxis": {
             "endlinecolor": "#2a3f5f",
             "gridcolor": "white",
             "linecolor": "white",
             "minorgridcolor": "white",
             "startlinecolor": "#2a3f5f"
            },
            "baxis": {
             "endlinecolor": "#2a3f5f",
             "gridcolor": "white",
             "linecolor": "white",
             "minorgridcolor": "white",
             "startlinecolor": "#2a3f5f"
            },
            "type": "carpet"
           }
          ],
          "choropleth": [
           {
            "colorbar": {
             "outlinewidth": 0,
             "ticks": ""
            },
            "type": "choropleth"
           }
          ],
          "contour": [
           {
            "colorbar": {
             "outlinewidth": 0,
             "ticks": ""
            },
            "colorscale": [
             [
              0,
              "#0d0887"
             ],
             [
              0.1111111111111111,
              "#46039f"
             ],
             [
              0.2222222222222222,
              "#7201a8"
             ],
             [
              0.3333333333333333,
              "#9c179e"
             ],
             [
              0.4444444444444444,
              "#bd3786"
             ],
             [
              0.5555555555555556,
              "#d8576b"
             ],
             [
              0.6666666666666666,
              "#ed7953"
             ],
             [
              0.7777777777777778,
              "#fb9f3a"
             ],
             [
              0.8888888888888888,
              "#fdca26"
             ],
             [
              1,
              "#f0f921"
             ]
            ],
            "type": "contour"
           }
          ],
          "contourcarpet": [
           {
            "colorbar": {
             "outlinewidth": 0,
             "ticks": ""
            },
            "type": "contourcarpet"
           }
          ],
          "heatmap": [
           {
            "colorbar": {
             "outlinewidth": 0,
             "ticks": ""
            },
            "colorscale": [
             [
              0,
              "#0d0887"
             ],
             [
              0.1111111111111111,
              "#46039f"
             ],
             [
              0.2222222222222222,
              "#7201a8"
             ],
             [
              0.3333333333333333,
              "#9c179e"
             ],
             [
              0.4444444444444444,
              "#bd3786"
             ],
             [
              0.5555555555555556,
              "#d8576b"
             ],
             [
              0.6666666666666666,
              "#ed7953"
             ],
             [
              0.7777777777777778,
              "#fb9f3a"
             ],
             [
              0.8888888888888888,
              "#fdca26"
             ],
             [
              1,
              "#f0f921"
             ]
            ],
            "type": "heatmap"
           }
          ],
          "heatmapgl": [
           {
            "colorbar": {
             "outlinewidth": 0,
             "ticks": ""
            },
            "colorscale": [
             [
              0,
              "#0d0887"
             ],
             [
              0.1111111111111111,
              "#46039f"
             ],
             [
              0.2222222222222222,
              "#7201a8"
             ],
             [
              0.3333333333333333,
              "#9c179e"
             ],
             [
              0.4444444444444444,
              "#bd3786"
             ],
             [
              0.5555555555555556,
              "#d8576b"
             ],
             [
              0.6666666666666666,
              "#ed7953"
             ],
             [
              0.7777777777777778,
              "#fb9f3a"
             ],
             [
              0.8888888888888888,
              "#fdca26"
             ],
             [
              1,
              "#f0f921"
             ]
            ],
            "type": "heatmapgl"
           }
          ],
          "histogram": [
           {
            "marker": {
             "pattern": {
              "fillmode": "overlay",
              "size": 10,
              "solidity": 0.2
             }
            },
            "type": "histogram"
           }
          ],
          "histogram2d": [
           {
            "colorbar": {
             "outlinewidth": 0,
             "ticks": ""
            },
            "colorscale": [
             [
              0,
              "#0d0887"
             ],
             [
              0.1111111111111111,
              "#46039f"
             ],
             [
              0.2222222222222222,
              "#7201a8"
             ],
             [
              0.3333333333333333,
              "#9c179e"
             ],
             [
              0.4444444444444444,
              "#bd3786"
             ],
             [
              0.5555555555555556,
              "#d8576b"
             ],
             [
              0.6666666666666666,
              "#ed7953"
             ],
             [
              0.7777777777777778,
              "#fb9f3a"
             ],
             [
              0.8888888888888888,
              "#fdca26"
             ],
             [
              1,
              "#f0f921"
             ]
            ],
            "type": "histogram2d"
           }
          ],
          "histogram2dcontour": [
           {
            "colorbar": {
             "outlinewidth": 0,
             "ticks": ""
            },
            "colorscale": [
             [
              0,
              "#0d0887"
             ],
             [
              0.1111111111111111,
              "#46039f"
             ],
             [
              0.2222222222222222,
              "#7201a8"
             ],
             [
              0.3333333333333333,
              "#9c179e"
             ],
             [
              0.4444444444444444,
              "#bd3786"
             ],
             [
              0.5555555555555556,
              "#d8576b"
             ],
             [
              0.6666666666666666,
              "#ed7953"
             ],
             [
              0.7777777777777778,
              "#fb9f3a"
             ],
             [
              0.8888888888888888,
              "#fdca26"
             ],
             [
              1,
              "#f0f921"
             ]
            ],
            "type": "histogram2dcontour"
           }
          ],
          "mesh3d": [
           {
            "colorbar": {
             "outlinewidth": 0,
             "ticks": ""
            },
            "type": "mesh3d"
           }
          ],
          "parcoords": [
           {
            "line": {
             "colorbar": {
              "outlinewidth": 0,
              "ticks": ""
             }
            },
            "type": "parcoords"
           }
          ],
          "pie": [
           {
            "automargin": true,
            "type": "pie"
           }
          ],
          "scatter": [
           {
            "fillpattern": {
             "fillmode": "overlay",
             "size": 10,
             "solidity": 0.2
            },
            "type": "scatter"
           }
          ],
          "scatter3d": [
           {
            "line": {
             "colorbar": {
              "outlinewidth": 0,
              "ticks": ""
             }
            },
            "marker": {
             "colorbar": {
              "outlinewidth": 0,
              "ticks": ""
             }
            },
            "type": "scatter3d"
           }
          ],
          "scattercarpet": [
           {
            "marker": {
             "colorbar": {
              "outlinewidth": 0,
              "ticks": ""
             }
            },
            "type": "scattercarpet"
           }
          ],
          "scattergeo": [
           {
            "marker": {
             "colorbar": {
              "outlinewidth": 0,
              "ticks": ""
             }
            },
            "type": "scattergeo"
           }
          ],
          "scattergl": [
           {
            "marker": {
             "colorbar": {
              "outlinewidth": 0,
              "ticks": ""
             }
            },
            "type": "scattergl"
           }
          ],
          "scattermapbox": [
           {
            "marker": {
             "colorbar": {
              "outlinewidth": 0,
              "ticks": ""
             }
            },
            "type": "scattermapbox"
           }
          ],
          "scatterpolar": [
           {
            "marker": {
             "colorbar": {
              "outlinewidth": 0,
              "ticks": ""
             }
            },
            "type": "scatterpolar"
           }
          ],
          "scatterpolargl": [
           {
            "marker": {
             "colorbar": {
              "outlinewidth": 0,
              "ticks": ""
             }
            },
            "type": "scatterpolargl"
           }
          ],
          "scatterternary": [
           {
            "marker": {
             "colorbar": {
              "outlinewidth": 0,
              "ticks": ""
             }
            },
            "type": "scatterternary"
           }
          ],
          "surface": [
           {
            "colorbar": {
             "outlinewidth": 0,
             "ticks": ""
            },
            "colorscale": [
             [
              0,
              "#0d0887"
             ],
             [
              0.1111111111111111,
              "#46039f"
             ],
             [
              0.2222222222222222,
              "#7201a8"
             ],
             [
              0.3333333333333333,
              "#9c179e"
             ],
             [
              0.4444444444444444,
              "#bd3786"
             ],
             [
              0.5555555555555556,
              "#d8576b"
             ],
             [
              0.6666666666666666,
              "#ed7953"
             ],
             [
              0.7777777777777778,
              "#fb9f3a"
             ],
             [
              0.8888888888888888,
              "#fdca26"
             ],
             [
              1,
              "#f0f921"
             ]
            ],
            "type": "surface"
           }
          ],
          "table": [
           {
            "cells": {
             "fill": {
              "color": "#EBF0F8"
             },
             "line": {
              "color": "white"
             }
            },
            "header": {
             "fill": {
              "color": "#C8D4E3"
             },
             "line": {
              "color": "white"
             }
            },
            "type": "table"
           }
          ]
         },
         "layout": {
          "annotationdefaults": {
           "arrowcolor": "#2a3f5f",
           "arrowhead": 0,
           "arrowwidth": 1
          },
          "autotypenumbers": "strict",
          "coloraxis": {
           "colorbar": {
            "outlinewidth": 0,
            "ticks": ""
           }
          },
          "colorscale": {
           "diverging": [
            [
             0,
             "#8e0152"
            ],
            [
             0.1,
             "#c51b7d"
            ],
            [
             0.2,
             "#de77ae"
            ],
            [
             0.3,
             "#f1b6da"
            ],
            [
             0.4,
             "#fde0ef"
            ],
            [
             0.5,
             "#f7f7f7"
            ],
            [
             0.6,
             "#e6f5d0"
            ],
            [
             0.7,
             "#b8e186"
            ],
            [
             0.8,
             "#7fbc41"
            ],
            [
             0.9,
             "#4d9221"
            ],
            [
             1,
             "#276419"
            ]
           ],
           "sequential": [
            [
             0,
             "#0d0887"
            ],
            [
             0.1111111111111111,
             "#46039f"
            ],
            [
             0.2222222222222222,
             "#7201a8"
            ],
            [
             0.3333333333333333,
             "#9c179e"
            ],
            [
             0.4444444444444444,
             "#bd3786"
            ],
            [
             0.5555555555555556,
             "#d8576b"
            ],
            [
             0.6666666666666666,
             "#ed7953"
            ],
            [
             0.7777777777777778,
             "#fb9f3a"
            ],
            [
             0.8888888888888888,
             "#fdca26"
            ],
            [
             1,
             "#f0f921"
            ]
           ],
           "sequentialminus": [
            [
             0,
             "#0d0887"
            ],
            [
             0.1111111111111111,
             "#46039f"
            ],
            [
             0.2222222222222222,
             "#7201a8"
            ],
            [
             0.3333333333333333,
             "#9c179e"
            ],
            [
             0.4444444444444444,
             "#bd3786"
            ],
            [
             0.5555555555555556,
             "#d8576b"
            ],
            [
             0.6666666666666666,
             "#ed7953"
            ],
            [
             0.7777777777777778,
             "#fb9f3a"
            ],
            [
             0.8888888888888888,
             "#fdca26"
            ],
            [
             1,
             "#f0f921"
            ]
           ]
          },
          "colorway": [
           "#636efa",
           "#EF553B",
           "#00cc96",
           "#ab63fa",
           "#FFA15A",
           "#19d3f3",
           "#FF6692",
           "#B6E880",
           "#FF97FF",
           "#FECB52"
          ],
          "font": {
           "color": "#2a3f5f"
          },
          "geo": {
           "bgcolor": "white",
           "lakecolor": "white",
           "landcolor": "#E5ECF6",
           "showlakes": true,
           "showland": true,
           "subunitcolor": "white"
          },
          "hoverlabel": {
           "align": "left"
          },
          "hovermode": "closest",
          "mapbox": {
           "style": "light"
          },
          "paper_bgcolor": "white",
          "plot_bgcolor": "#E5ECF6",
          "polar": {
           "angularaxis": {
            "gridcolor": "white",
            "linecolor": "white",
            "ticks": ""
           },
           "bgcolor": "#E5ECF6",
           "radialaxis": {
            "gridcolor": "white",
            "linecolor": "white",
            "ticks": ""
           }
          },
          "scene": {
           "xaxis": {
            "backgroundcolor": "#E5ECF6",
            "gridcolor": "white",
            "gridwidth": 2,
            "linecolor": "white",
            "showbackground": true,
            "ticks": "",
            "zerolinecolor": "white"
           },
           "yaxis": {
            "backgroundcolor": "#E5ECF6",
            "gridcolor": "white",
            "gridwidth": 2,
            "linecolor": "white",
            "showbackground": true,
            "ticks": "",
            "zerolinecolor": "white"
           },
           "zaxis": {
            "backgroundcolor": "#E5ECF6",
            "gridcolor": "white",
            "gridwidth": 2,
            "linecolor": "white",
            "showbackground": true,
            "ticks": "",
            "zerolinecolor": "white"
           }
          },
          "shapedefaults": {
           "line": {
            "color": "#2a3f5f"
           }
          },
          "ternary": {
           "aaxis": {
            "gridcolor": "white",
            "linecolor": "white",
            "ticks": ""
           },
           "baxis": {
            "gridcolor": "white",
            "linecolor": "white",
            "ticks": ""
           },
           "bgcolor": "#E5ECF6",
           "caxis": {
            "gridcolor": "white",
            "linecolor": "white",
            "ticks": ""
           }
          },
          "title": {
           "x": 0.05
          },
          "xaxis": {
           "automargin": true,
           "gridcolor": "white",
           "linecolor": "white",
           "ticks": "",
           "title": {
            "standoff": 15
           },
           "zerolinecolor": "white",
           "zerolinewidth": 2
          },
          "yaxis": {
           "automargin": true,
           "gridcolor": "white",
           "linecolor": "white",
           "ticks": "",
           "title": {
            "standoff": 15
           },
           "zerolinecolor": "white",
           "zerolinewidth": 2
          }
         }
        },
        "title": {
         "text": "Age vs Predicted Medal by Sex"
        },
        "xaxis": {
         "anchor": "y",
         "domain": [
          0,
          1
         ],
         "title": {
          "text": "Age"
         }
        },
        "yaxis": {
         "anchor": "x",
         "categoryarray": [
          "Gold",
          "Silver",
          "Bronze"
         ],
         "categoryorder": "array",
         "domain": [
          0,
          1
         ],
         "title": {
          "text": "Predicted Medal"
         }
        }
       }
      }
     },
     "metadata": {},
     "output_type": "display_data"
    }
   ],
   "source": [
    "# Scatter plot of Age vs predicted medal, colored by host status\n",
    "fig = px.scatter(df, x='Age', y='pred_medal', color='Sex', title='Age vs Predicted Medal by Sex',\n",
    "                 labels={'Age': 'Age', 'pred_medal': 'Predicted Medal', 'Sex': 'Sex'},\n",
    "                 color_discrete_sequence=['magenta', 'darkblue'],\n",
    "                 category_orders={'pred_medal': ['Bronze', 'Silver', 'Gold'], 'Sex': ['M', 'F']})\n",
    "fig.update_traces(marker=dict(size=8))\n",
    "fig.update_layout(xaxis_title='Age', yaxis_title='Predicted Medal', legend_title='Sex')\n",
    "fig.show()\n"
   ]
  },
  {
   "cell_type": "code",
   "execution_count": 6,
   "metadata": {},
   "outputs": [
    {
     "data": {
      "application/vnd.plotly.v1+json": {
       "config": {
        "plotlyServerURL": "https://plot.ly"
       },
       "data": [
        {
         "hovertemplate": "pred_medal=Bronze<br>Age=%{x}<br>Height=%{y}<extra></extra>",
         "legendgroup": "Bronze",
         "marker": {
          "color": "#636efa",
          "symbol": "circle"
         },
         "mode": "markers",
         "name": "Bronze",
         "orientation": "v",
         "showlegend": true,
         "type": "scatter",
         "x": [
          27,
          27,
          27,
          25,
          26,
          24,
          24,
          29,
          24,
          25,
          24,
          24,
          20,
          21,
          24,
          29,
          22,
          28,
          28,
          28,
          21,
          21,
          21,
          26,
          26,
          26,
          27,
          26,
          26,
          26,
          23,
          24,
          27,
          27,
          27,
          19,
          28,
          22,
          20,
          20,
          29,
          31,
          25,
          29,
          24,
          24,
          24,
          26,
          25,
          25,
          25,
          27,
          27,
          21,
          21,
          26,
          26,
          26,
          26,
          19,
          27,
          27,
          22,
          22,
          22,
          21,
          21,
          23,
          26,
          26,
          26,
          19,
          28,
          24,
          23,
          19,
          23,
          27,
          25,
          21,
          28,
          23,
          24,
          25,
          23,
          27,
          23,
          26,
          26,
          21,
          28,
          28,
          29,
          29,
          29,
          29,
          27,
          27,
          30,
          30,
          28,
          23,
          24,
          24,
          26,
          25,
          30,
          19,
          25,
          35,
          35,
          26,
          26,
          26,
          24,
          26,
          24,
          23,
          29,
          20,
          20,
          23,
          19,
          19,
          19,
          20,
          23,
          23,
          28,
          34,
          34,
          26,
          22,
          36,
          27,
          27,
          27,
          30,
          26,
          26,
          25,
          21,
          23,
          38,
          38,
          26,
          26,
          20,
          21,
          16,
          16,
          29,
          24,
          22,
          26,
          22,
          28,
          22,
          25,
          25,
          24,
          29,
          25,
          21,
          25,
          25,
          25,
          27,
          27,
          25,
          29,
          26,
          26,
          25,
          24,
          25,
          23,
          23,
          29,
          29,
          30,
          21,
          26,
          24,
          27,
          29,
          25,
          23,
          22,
          29,
          27,
          24,
          27,
          27,
          29,
          27,
          25,
          25,
          25,
          26,
          26,
          28,
          32,
          27,
          27,
          27,
          23,
          25,
          27,
          29,
          31,
          31,
          30,
          21,
          26,
          26,
          52,
          28,
          28,
          24,
          21,
          21,
          21,
          33,
          47,
          21,
          20,
          30,
          24,
          22,
          25,
          23,
          19,
          23,
          19,
          19,
          22,
          22,
          22,
          22,
          22,
          23,
          30,
          30,
          30,
          33,
          33,
          20,
          27,
          23,
          16,
          16,
          16,
          25,
          25,
          25,
          24,
          19,
          22,
          22,
          25,
          25,
          25,
          25,
          27,
          27,
          27,
          21,
          15,
          21,
          25,
          18,
          23,
          18,
          20,
          20,
          22,
          26,
          26,
          26,
          29,
          24,
          24,
          24,
          24,
          29,
          23,
          22,
          29,
          20,
          20,
          20,
          25,
          25,
          25,
          23,
          22,
          27,
          21,
          25,
          25,
          25,
          26,
          22,
          31,
          31,
          31,
          18,
          23,
          28,
          25,
          24,
          31,
          30,
          20,
          25,
          25,
          33,
          29,
          25,
          31,
          20,
          27,
          20,
          24,
          26,
          26,
          22,
          21,
          29,
          24,
          27,
          21,
          36
         ],
         "xaxis": "x",
         "y": [
          172,
          172,
          172,
          186,
          165,
          181,
          170,
          181,
          187,
          185,
          198,
          198,
          180,
          191,
          174,
          191,
          171,
          180,
          180,
          180,
          180,
          180,
          180,
          185,
          185,
          207,
          196,
          198,
          198,
          198,
          185,
          185,
          180,
          180,
          180,
          172,
          170,
          160,
          164,
          164,
          166,
          178,
          173,
          170,
          166,
          166,
          166,
          175,
          170,
          170,
          170,
          175,
          175,
          170,
          170,
          176,
          176,
          176,
          156,
          179,
          172,
          172,
          194,
          194,
          194,
          173,
          156,
          198,
          179,
          198,
          165,
          168,
          185,
          186,
          156,
          152,
          185,
          185,
          172,
          174,
          170,
          180,
          198,
          179,
          180,
          160,
          173,
          180,
          180,
          187,
          171,
          175,
          185,
          185,
          185,
          175,
          176,
          176,
          178,
          184,
          192,
          173,
          181,
          181,
          173,
          186,
          177,
          180,
          165,
          166,
          166,
          176,
          176,
          176,
          170,
          167,
          170,
          170,
          167,
          168,
          168,
          172,
          167,
          167,
          167,
          167,
          168,
          168,
          163,
          190,
          180,
          193,
          180,
          188,
          167,
          167,
          167,
          170,
          183,
          183,
          176,
          172,
          173,
          193,
          193,
          170,
          170,
          163,
          162,
          140,
          148,
          188,
          168,
          180,
          172,
          172,
          189,
          181,
          193,
          193,
          170,
          180,
          185,
          156,
          178,
          178,
          178,
          160,
          169,
          172,
          182,
          173,
          178,
          180,
          168,
          170,
          173,
          173,
          197,
          197,
          188,
          198,
          193,
          187,
          181,
          194,
          190,
          183,
          176,
          180,
          173,
          182,
          170,
          180,
          182,
          165,
          183,
          191,
          191,
          185,
          185,
          181,
          184,
          186,
          186,
          186,
          167,
          170,
          166,
          179,
          159,
          159,
          167,
          171,
          173,
          173,
          183,
          179,
          179,
          179,
          172,
          172,
          172,
          180,
          168,
          184,
          183,
          191,
          180,
          184,
          194,
          187,
          188,
          180,
          188,
          186,
          191,
          191,
          191,
          185,
          183,
          172,
          197,
          197,
          197,
          165,
          165,
          173,
          174,
          167,
          185,
          185,
          185,
          173,
          173,
          173,
          173,
          173,
          172,
          180,
          169,
          169,
          169,
          176,
          172,
          172,
          172,
          161,
          150,
          182,
          197,
          185,
          174,
          173,
          178,
          178,
          176,
          188,
          188,
          183,
          177,
          170,
          170,
          170,
          170,
          202,
          193,
          190,
          178,
          159,
          159,
          159,
          160,
          160,
          160,
          180,
          175,
          170,
          165,
          172,
          172,
          172,
          165,
          197,
          182,
          169,
          169,
          155,
          160,
          178,
          168,
          160,
          183,
          180,
          177,
          178,
          178,
          167,
          173,
          170,
          180,
          187,
          192,
          187,
          172,
          170,
          170,
          170,
          151,
          169,
          172,
          160,
          160,
          167
         ],
         "yaxis": "y"
        },
        {
         "hovertemplate": "pred_medal=Gold<br>Age=%{x}<br>Height=%{y}<extra></extra>",
         "legendgroup": "Gold",
         "marker": {
          "color": "#EF553B",
          "symbol": "circle"
         },
         "mode": "markers",
         "name": "Gold",
         "orientation": "v",
         "showlegend": true,
         "type": "scatter",
         "x": [
          20,
          28,
          25,
          25,
          24,
          25,
          25,
          25,
          26,
          25,
          23,
          24,
          24,
          25,
          25,
          24,
          27,
          27,
          26,
          26,
          26,
          27,
          26,
          25,
          21,
          27,
          27,
          31,
          20,
          21,
          22,
          23,
          23,
          23,
          37,
          37,
          26,
          26,
          24,
          20,
          20,
          20,
          27,
          27,
          26,
          28,
          27,
          21,
          28,
          24,
          25,
          29,
          33,
          19,
          23,
          24,
          31,
          20,
          24,
          23,
          34,
          34,
          25,
          28,
          32,
          32,
          22,
          28,
          20,
          21,
          26,
          34,
          34,
          34,
          32,
          24,
          23,
          29,
          20,
          20,
          20,
          27,
          27,
          27,
          31,
          31,
          31,
          25,
          22,
          23,
          23,
          23,
          31,
          31,
          31,
          31,
          34,
          34,
          31,
          27,
          19,
          25,
          25,
          25,
          25,
          25,
          24,
          21,
          20,
          22,
          24,
          24,
          24,
          26,
          30,
          40,
          35,
          27,
          24,
          26,
          26,
          26,
          26,
          26,
          26,
          27,
          23,
          23,
          26,
          25,
          28,
          28,
          27,
          26,
          40,
          19,
          19,
          16,
          16,
          25,
          29,
          28,
          28,
          23,
          25,
          22,
          22,
          24,
          24,
          27,
          25,
          25,
          21,
          23,
          25,
          25,
          29,
          27,
          21,
          25,
          23,
          29,
          27,
          27,
          28,
          22,
          26,
          30,
          30,
          30,
          31,
          25,
          25,
          27,
          34,
          25,
          31,
          25,
          21,
          30,
          27,
          24,
          24,
          26,
          23,
          27,
          19,
          41,
          24,
          28,
          23,
          37,
          31,
          31,
          20,
          26,
          33,
          27,
          28,
          28,
          25,
          24,
          24,
          26,
          21,
          28,
          20,
          20,
          21,
          21,
          20,
          24,
          23,
          36,
          22,
          22,
          22,
          22,
          25,
          20,
          21,
          21,
          22,
          21,
          25,
          20,
          23,
          23,
          23,
          22,
          23,
          23,
          33,
          33,
          33,
          18,
          21,
          25,
          18,
          23,
          31,
          26,
          32,
          35,
          25,
          32,
          25,
          29,
          27,
          19,
          22,
          24,
          21,
          21,
          21,
          20,
          22,
          21,
          22,
          22,
          22,
          23,
          20,
          22,
          20,
          20,
          26,
          26,
          26,
          21,
          31,
          31,
          31,
          27,
          26,
          29,
          23,
          23
         ],
         "xaxis": "x",
         "y": [
          185,
          180,
          168,
          168,
          177,
          182,
          182,
          175,
          188,
          180,
          195,
          175,
          175,
          175,
          175,
          186,
          175,
          175,
          175,
          175,
          175,
          183,
          160,
          168,
          165,
          170,
          162,
          162,
          160,
          168,
          173,
          166,
          166,
          166,
          180,
          180,
          180,
          180,
          173,
          192,
          192,
          192,
          180,
          177,
          175,
          175,
          166,
          179,
          199,
          191,
          183,
          178,
          182,
          173,
          168,
          165,
          185,
          177,
          200,
          174,
          158,
          158,
          167,
          180,
          193,
          193,
          175,
          196,
          189,
          199,
          174,
          191,
          191,
          191,
          177,
          167,
          178,
          165,
          169,
          169,
          169,
          172,
          172,
          172,
          180,
          180,
          180,
          187,
          178,
          188,
          188,
          188,
          175,
          175,
          175,
          183,
          171,
          171,
          181,
          185,
          184,
          180,
          180,
          180,
          158,
          158,
          171,
          176,
          188,
          173,
          175,
          175,
          175,
          150,
          163,
          173,
          173,
          168,
          190,
          177,
          177,
          177,
          173,
          173,
          173,
          190,
          184,
          169,
          165,
          167,
          176,
          176,
          184,
          168,
          188,
          166,
          170,
          151,
          152,
          190,
          177,
          174,
          181,
          167,
          186,
          169,
          169,
          191,
          179,
          187,
          153,
          153,
          160,
          164,
          160,
          160,
          192,
          182,
          169,
          190,
          194,
          196,
          202,
          202,
          182,
          177,
          187,
          190,
          190,
          190,
          178,
          183,
          183,
          182,
          165,
          170,
          183,
          176,
          168,
          178,
          193,
          168,
          168,
          184,
          178,
          172,
          170,
          175,
          169,
          178,
          176,
          170,
          172,
          172,
          189,
          176,
          158,
          164,
          181,
          181,
          185,
          189,
          189,
          184,
          184,
          200,
          187,
          187,
          181,
          181,
          187,
          190,
          188,
          185,
          185,
          193,
          193,
          193,
          170,
          179,
          178,
          179,
          180,
          173,
          175,
          178,
          173,
          173,
          173,
          169,
          177,
          177,
          170,
          170,
          165,
          176,
          207,
          176,
          172,
          176,
          180,
          178,
          193,
          170,
          172,
          206,
          185,
          195,
          172,
          181,
          172,
          173,
          180,
          147,
          147,
          165,
          155,
          155,
          157,
          157,
          159,
          170,
          163,
          165,
          180,
          180,
          190,
          190,
          179,
          181,
          177,
          177,
          177,
          166,
          164,
          174,
          164,
          163
         ],
         "yaxis": "y"
        },
        {
         "hovertemplate": "pred_medal=Silver<br>Age=%{x}<br>Height=%{y}<extra></extra>",
         "legendgroup": "Silver",
         "marker": {
          "color": "#00cc96",
          "symbol": "circle"
         },
         "mode": "markers",
         "name": "Silver",
         "orientation": "v",
         "showlegend": true,
         "type": "scatter",
         "x": [
          21,
          29,
          26,
          26,
          26,
          26,
          33,
          27,
          21,
          27,
          21,
          21,
          27,
          26,
          26,
          34,
          34,
          24,
          27,
          27,
          27,
          22,
          22,
          23,
          22,
          24,
          24,
          29,
          24,
          24,
          22,
          24,
          22,
          24,
          29,
          23,
          21,
          37,
          32,
          32,
          31,
          26,
          30,
          29,
          26,
          26,
          23,
          24,
          25,
          29,
          25,
          21,
          27,
          27,
          27,
          23,
          25,
          26,
          24,
          25,
          23,
          30,
          23,
          25,
          24,
          33,
          29,
          22,
          24,
          26,
          21,
          23,
          26,
          23,
          23,
          23,
          22,
          22,
          22,
          21,
          17,
          15,
          17,
          24,
          18,
          18,
          18,
          21,
          50,
          32,
          23,
          27,
          38,
          22,
          33,
          32,
          22,
          26,
          28,
          31,
          31,
          31,
          22,
          25,
          25,
          25,
          19,
          19,
          24,
          28,
          32,
          30,
          27,
          30,
          25,
          21,
          30,
          22,
          21,
          25,
          25,
          28,
          24,
          26,
          26,
          28,
          18,
          20,
          28,
          27,
          31,
          27,
          27,
          27,
          32,
          28,
          28,
          23,
          26,
          29,
          30,
          29,
          25,
          31,
          21,
          33,
          33,
          25,
          19,
          19,
          19,
          33,
          33,
          33,
          33,
          33,
          26,
          21,
          21,
          21,
          22,
          25,
          19,
          19,
          19,
          20,
          20,
          22,
          19,
          22,
          27,
          27,
          27,
          27,
          27,
          22,
          22,
          24,
          21,
          22,
          21,
          26,
          25,
          20,
          20,
          20,
          20,
          23,
          26,
          22,
          22,
          22,
          22,
          28,
          34,
          34,
          31,
          31,
          30,
          30,
          27,
          20,
          20,
          27,
          27,
          30,
          30,
          30,
          32,
          25,
          25,
          22,
          24,
          22,
          22,
          22,
          21,
          24,
          23,
          27,
          27,
          24,
          21,
          21,
          30,
          30,
          25,
          25,
          25,
          24,
          24,
          24,
          22,
          27,
          21,
          21,
          23
         ],
         "xaxis": "x",
         "y": [
          174,
          158,
          176,
          176,
          176,
          183,
          185,
          188,
          167,
          188,
          178,
          178,
          188,
          207,
          207,
          187,
          187,
          192,
          183,
          183,
          183,
          183,
          183,
          201,
          157,
          168,
          165,
          160,
          162,
          162,
          163,
          179,
          173,
          180,
          171,
          178,
          184,
          191,
          170,
          155,
          160,
          173,
          176,
          179,
          172,
          172,
          172,
          203,
          203,
          185,
          184,
          165,
          171,
          171,
          171,
          169,
          196,
          182,
          174,
          169,
          178,
          197,
          168,
          175,
          188,
          189,
          181,
          186,
          188,
          182,
          184,
          182,
          176,
          183,
          187,
          181,
          165,
          185,
          178,
          166,
          164,
          162,
          164,
          159,
          157,
          157,
          157,
          193,
          176,
          176,
          177,
          197,
          186,
          175,
          176,
          168,
          173,
          175,
          168,
          155,
          155,
          155,
          161,
          164,
          164,
          164,
          162,
          143,
          156,
          196,
          184,
          179,
          168,
          166,
          197,
          160,
          181,
          182,
          178,
          162,
          162,
          170,
          169,
          168,
          168,
          185,
          168,
          170,
          196,
          200,
          187,
          178,
          193,
          183,
          173,
          175,
          198,
          172,
          180,
          197,
          173,
          164,
          168,
          169,
          176,
          178,
          178,
          162,
          155,
          155,
          155,
          175,
          175,
          175,
          162,
          162,
          172,
          191,
          191,
          191,
          196,
          193,
          191,
          196,
          196,
          188,
          196,
          173,
          175,
          180,
          175,
          175,
          175,
          175,
          175,
          179,
          179,
          173,
          178,
          179,
          162,
          180,
          160,
          178,
          178,
          178,
          188,
          190,
          200,
          186,
          186,
          164,
          188,
          182,
          175,
          175,
          168,
          168,
          180,
          180,
          170,
          173,
          173,
          155,
          155,
          178,
          168,
          168,
          205,
          192,
          191,
          173,
          183,
          168,
          176,
          176,
          154,
          163,
          159,
          173,
          165,
          160,
          180,
          184,
          170,
          170,
          192,
          192,
          170,
          163,
          163,
          163,
          152,
          175,
          159,
          159,
          162
         ],
         "yaxis": "y"
        }
       ],
       "layout": {
        "legend": {
         "title": {
          "text": "pred_medal"
         },
         "tracegroupgap": 0
        },
        "template": {
         "data": {
          "bar": [
           {
            "error_x": {
             "color": "#2a3f5f"
            },
            "error_y": {
             "color": "#2a3f5f"
            },
            "marker": {
             "line": {
              "color": "#E5ECF6",
              "width": 0.5
             },
             "pattern": {
              "fillmode": "overlay",
              "size": 10,
              "solidity": 0.2
             }
            },
            "type": "bar"
           }
          ],
          "barpolar": [
           {
            "marker": {
             "line": {
              "color": "#E5ECF6",
              "width": 0.5
             },
             "pattern": {
              "fillmode": "overlay",
              "size": 10,
              "solidity": 0.2
             }
            },
            "type": "barpolar"
           }
          ],
          "carpet": [
           {
            "aaxis": {
             "endlinecolor": "#2a3f5f",
             "gridcolor": "white",
             "linecolor": "white",
             "minorgridcolor": "white",
             "startlinecolor": "#2a3f5f"
            },
            "baxis": {
             "endlinecolor": "#2a3f5f",
             "gridcolor": "white",
             "linecolor": "white",
             "minorgridcolor": "white",
             "startlinecolor": "#2a3f5f"
            },
            "type": "carpet"
           }
          ],
          "choropleth": [
           {
            "colorbar": {
             "outlinewidth": 0,
             "ticks": ""
            },
            "type": "choropleth"
           }
          ],
          "contour": [
           {
            "colorbar": {
             "outlinewidth": 0,
             "ticks": ""
            },
            "colorscale": [
             [
              0,
              "#0d0887"
             ],
             [
              0.1111111111111111,
              "#46039f"
             ],
             [
              0.2222222222222222,
              "#7201a8"
             ],
             [
              0.3333333333333333,
              "#9c179e"
             ],
             [
              0.4444444444444444,
              "#bd3786"
             ],
             [
              0.5555555555555556,
              "#d8576b"
             ],
             [
              0.6666666666666666,
              "#ed7953"
             ],
             [
              0.7777777777777778,
              "#fb9f3a"
             ],
             [
              0.8888888888888888,
              "#fdca26"
             ],
             [
              1,
              "#f0f921"
             ]
            ],
            "type": "contour"
           }
          ],
          "contourcarpet": [
           {
            "colorbar": {
             "outlinewidth": 0,
             "ticks": ""
            },
            "type": "contourcarpet"
           }
          ],
          "heatmap": [
           {
            "colorbar": {
             "outlinewidth": 0,
             "ticks": ""
            },
            "colorscale": [
             [
              0,
              "#0d0887"
             ],
             [
              0.1111111111111111,
              "#46039f"
             ],
             [
              0.2222222222222222,
              "#7201a8"
             ],
             [
              0.3333333333333333,
              "#9c179e"
             ],
             [
              0.4444444444444444,
              "#bd3786"
             ],
             [
              0.5555555555555556,
              "#d8576b"
             ],
             [
              0.6666666666666666,
              "#ed7953"
             ],
             [
              0.7777777777777778,
              "#fb9f3a"
             ],
             [
              0.8888888888888888,
              "#fdca26"
             ],
             [
              1,
              "#f0f921"
             ]
            ],
            "type": "heatmap"
           }
          ],
          "heatmapgl": [
           {
            "colorbar": {
             "outlinewidth": 0,
             "ticks": ""
            },
            "colorscale": [
             [
              0,
              "#0d0887"
             ],
             [
              0.1111111111111111,
              "#46039f"
             ],
             [
              0.2222222222222222,
              "#7201a8"
             ],
             [
              0.3333333333333333,
              "#9c179e"
             ],
             [
              0.4444444444444444,
              "#bd3786"
             ],
             [
              0.5555555555555556,
              "#d8576b"
             ],
             [
              0.6666666666666666,
              "#ed7953"
             ],
             [
              0.7777777777777778,
              "#fb9f3a"
             ],
             [
              0.8888888888888888,
              "#fdca26"
             ],
             [
              1,
              "#f0f921"
             ]
            ],
            "type": "heatmapgl"
           }
          ],
          "histogram": [
           {
            "marker": {
             "pattern": {
              "fillmode": "overlay",
              "size": 10,
              "solidity": 0.2
             }
            },
            "type": "histogram"
           }
          ],
          "histogram2d": [
           {
            "colorbar": {
             "outlinewidth": 0,
             "ticks": ""
            },
            "colorscale": [
             [
              0,
              "#0d0887"
             ],
             [
              0.1111111111111111,
              "#46039f"
             ],
             [
              0.2222222222222222,
              "#7201a8"
             ],
             [
              0.3333333333333333,
              "#9c179e"
             ],
             [
              0.4444444444444444,
              "#bd3786"
             ],
             [
              0.5555555555555556,
              "#d8576b"
             ],
             [
              0.6666666666666666,
              "#ed7953"
             ],
             [
              0.7777777777777778,
              "#fb9f3a"
             ],
             [
              0.8888888888888888,
              "#fdca26"
             ],
             [
              1,
              "#f0f921"
             ]
            ],
            "type": "histogram2d"
           }
          ],
          "histogram2dcontour": [
           {
            "colorbar": {
             "outlinewidth": 0,
             "ticks": ""
            },
            "colorscale": [
             [
              0,
              "#0d0887"
             ],
             [
              0.1111111111111111,
              "#46039f"
             ],
             [
              0.2222222222222222,
              "#7201a8"
             ],
             [
              0.3333333333333333,
              "#9c179e"
             ],
             [
              0.4444444444444444,
              "#bd3786"
             ],
             [
              0.5555555555555556,
              "#d8576b"
             ],
             [
              0.6666666666666666,
              "#ed7953"
             ],
             [
              0.7777777777777778,
              "#fb9f3a"
             ],
             [
              0.8888888888888888,
              "#fdca26"
             ],
             [
              1,
              "#f0f921"
             ]
            ],
            "type": "histogram2dcontour"
           }
          ],
          "mesh3d": [
           {
            "colorbar": {
             "outlinewidth": 0,
             "ticks": ""
            },
            "type": "mesh3d"
           }
          ],
          "parcoords": [
           {
            "line": {
             "colorbar": {
              "outlinewidth": 0,
              "ticks": ""
             }
            },
            "type": "parcoords"
           }
          ],
          "pie": [
           {
            "automargin": true,
            "type": "pie"
           }
          ],
          "scatter": [
           {
            "fillpattern": {
             "fillmode": "overlay",
             "size": 10,
             "solidity": 0.2
            },
            "type": "scatter"
           }
          ],
          "scatter3d": [
           {
            "line": {
             "colorbar": {
              "outlinewidth": 0,
              "ticks": ""
             }
            },
            "marker": {
             "colorbar": {
              "outlinewidth": 0,
              "ticks": ""
             }
            },
            "type": "scatter3d"
           }
          ],
          "scattercarpet": [
           {
            "marker": {
             "colorbar": {
              "outlinewidth": 0,
              "ticks": ""
             }
            },
            "type": "scattercarpet"
           }
          ],
          "scattergeo": [
           {
            "marker": {
             "colorbar": {
              "outlinewidth": 0,
              "ticks": ""
             }
            },
            "type": "scattergeo"
           }
          ],
          "scattergl": [
           {
            "marker": {
             "colorbar": {
              "outlinewidth": 0,
              "ticks": ""
             }
            },
            "type": "scattergl"
           }
          ],
          "scattermapbox": [
           {
            "marker": {
             "colorbar": {
              "outlinewidth": 0,
              "ticks": ""
             }
            },
            "type": "scattermapbox"
           }
          ],
          "scatterpolar": [
           {
            "marker": {
             "colorbar": {
              "outlinewidth": 0,
              "ticks": ""
             }
            },
            "type": "scatterpolar"
           }
          ],
          "scatterpolargl": [
           {
            "marker": {
             "colorbar": {
              "outlinewidth": 0,
              "ticks": ""
             }
            },
            "type": "scatterpolargl"
           }
          ],
          "scatterternary": [
           {
            "marker": {
             "colorbar": {
              "outlinewidth": 0,
              "ticks": ""
             }
            },
            "type": "scatterternary"
           }
          ],
          "surface": [
           {
            "colorbar": {
             "outlinewidth": 0,
             "ticks": ""
            },
            "colorscale": [
             [
              0,
              "#0d0887"
             ],
             [
              0.1111111111111111,
              "#46039f"
             ],
             [
              0.2222222222222222,
              "#7201a8"
             ],
             [
              0.3333333333333333,
              "#9c179e"
             ],
             [
              0.4444444444444444,
              "#bd3786"
             ],
             [
              0.5555555555555556,
              "#d8576b"
             ],
             [
              0.6666666666666666,
              "#ed7953"
             ],
             [
              0.7777777777777778,
              "#fb9f3a"
             ],
             [
              0.8888888888888888,
              "#fdca26"
             ],
             [
              1,
              "#f0f921"
             ]
            ],
            "type": "surface"
           }
          ],
          "table": [
           {
            "cells": {
             "fill": {
              "color": "#EBF0F8"
             },
             "line": {
              "color": "white"
             }
            },
            "header": {
             "fill": {
              "color": "#C8D4E3"
             },
             "line": {
              "color": "white"
             }
            },
            "type": "table"
           }
          ]
         },
         "layout": {
          "annotationdefaults": {
           "arrowcolor": "#2a3f5f",
           "arrowhead": 0,
           "arrowwidth": 1
          },
          "autotypenumbers": "strict",
          "coloraxis": {
           "colorbar": {
            "outlinewidth": 0,
            "ticks": ""
           }
          },
          "colorscale": {
           "diverging": [
            [
             0,
             "#8e0152"
            ],
            [
             0.1,
             "#c51b7d"
            ],
            [
             0.2,
             "#de77ae"
            ],
            [
             0.3,
             "#f1b6da"
            ],
            [
             0.4,
             "#fde0ef"
            ],
            [
             0.5,
             "#f7f7f7"
            ],
            [
             0.6,
             "#e6f5d0"
            ],
            [
             0.7,
             "#b8e186"
            ],
            [
             0.8,
             "#7fbc41"
            ],
            [
             0.9,
             "#4d9221"
            ],
            [
             1,
             "#276419"
            ]
           ],
           "sequential": [
            [
             0,
             "#0d0887"
            ],
            [
             0.1111111111111111,
             "#46039f"
            ],
            [
             0.2222222222222222,
             "#7201a8"
            ],
            [
             0.3333333333333333,
             "#9c179e"
            ],
            [
             0.4444444444444444,
             "#bd3786"
            ],
            [
             0.5555555555555556,
             "#d8576b"
            ],
            [
             0.6666666666666666,
             "#ed7953"
            ],
            [
             0.7777777777777778,
             "#fb9f3a"
            ],
            [
             0.8888888888888888,
             "#fdca26"
            ],
            [
             1,
             "#f0f921"
            ]
           ],
           "sequentialminus": [
            [
             0,
             "#0d0887"
            ],
            [
             0.1111111111111111,
             "#46039f"
            ],
            [
             0.2222222222222222,
             "#7201a8"
            ],
            [
             0.3333333333333333,
             "#9c179e"
            ],
            [
             0.4444444444444444,
             "#bd3786"
            ],
            [
             0.5555555555555556,
             "#d8576b"
            ],
            [
             0.6666666666666666,
             "#ed7953"
            ],
            [
             0.7777777777777778,
             "#fb9f3a"
            ],
            [
             0.8888888888888888,
             "#fdca26"
            ],
            [
             1,
             "#f0f921"
            ]
           ]
          },
          "colorway": [
           "#636efa",
           "#EF553B",
           "#00cc96",
           "#ab63fa",
           "#FFA15A",
           "#19d3f3",
           "#FF6692",
           "#B6E880",
           "#FF97FF",
           "#FECB52"
          ],
          "font": {
           "color": "#2a3f5f"
          },
          "geo": {
           "bgcolor": "white",
           "lakecolor": "white",
           "landcolor": "#E5ECF6",
           "showlakes": true,
           "showland": true,
           "subunitcolor": "white"
          },
          "hoverlabel": {
           "align": "left"
          },
          "hovermode": "closest",
          "mapbox": {
           "style": "light"
          },
          "paper_bgcolor": "white",
          "plot_bgcolor": "#E5ECF6",
          "polar": {
           "angularaxis": {
            "gridcolor": "white",
            "linecolor": "white",
            "ticks": ""
           },
           "bgcolor": "#E5ECF6",
           "radialaxis": {
            "gridcolor": "white",
            "linecolor": "white",
            "ticks": ""
           }
          },
          "scene": {
           "xaxis": {
            "backgroundcolor": "#E5ECF6",
            "gridcolor": "white",
            "gridwidth": 2,
            "linecolor": "white",
            "showbackground": true,
            "ticks": "",
            "zerolinecolor": "white"
           },
           "yaxis": {
            "backgroundcolor": "#E5ECF6",
            "gridcolor": "white",
            "gridwidth": 2,
            "linecolor": "white",
            "showbackground": true,
            "ticks": "",
            "zerolinecolor": "white"
           },
           "zaxis": {
            "backgroundcolor": "#E5ECF6",
            "gridcolor": "white",
            "gridwidth": 2,
            "linecolor": "white",
            "showbackground": true,
            "ticks": "",
            "zerolinecolor": "white"
           }
          },
          "shapedefaults": {
           "line": {
            "color": "#2a3f5f"
           }
          },
          "ternary": {
           "aaxis": {
            "gridcolor": "white",
            "linecolor": "white",
            "ticks": ""
           },
           "baxis": {
            "gridcolor": "white",
            "linecolor": "white",
            "ticks": ""
           },
           "bgcolor": "#E5ECF6",
           "caxis": {
            "gridcolor": "white",
            "linecolor": "white",
            "ticks": ""
           }
          },
          "title": {
           "x": 0.05
          },
          "xaxis": {
           "automargin": true,
           "gridcolor": "white",
           "linecolor": "white",
           "ticks": "",
           "title": {
            "standoff": 15
           },
           "zerolinecolor": "white",
           "zerolinewidth": 2
          },
          "yaxis": {
           "automargin": true,
           "gridcolor": "white",
           "linecolor": "white",
           "ticks": "",
           "title": {
            "standoff": 15
           },
           "zerolinecolor": "white",
           "zerolinewidth": 2
          }
         }
        },
        "title": {
         "text": "Age vs Height by Predicted Medal"
        },
        "xaxis": {
         "anchor": "y",
         "domain": [
          0,
          1
         ],
         "title": {
          "text": "Age"
         }
        },
        "yaxis": {
         "anchor": "x",
         "domain": [
          0,
          1
         ],
         "title": {
          "text": "Height"
         }
        }
       }
      }
     },
     "metadata": {},
     "output_type": "display_data"
    },
    {
     "data": {
      "application/vnd.plotly.v1+json": {
       "config": {
        "plotlyServerURL": "https://plot.ly"
       },
       "data": [
        {
         "alignmentgroup": "True",
         "hovertemplate": "pred_medal=%{x}<br>Weight=%{y}<extra></extra>",
         "legendgroup": "",
         "marker": {
          "color": "#636efa"
         },
         "name": "",
         "notched": false,
         "offsetgroup": "",
         "orientation": "v",
         "showlegend": false,
         "type": "box",
         "x": [
          "Bronze",
          "Bronze",
          "Bronze",
          "Gold",
          "Silver",
          "Bronze",
          "Gold",
          "Silver",
          "Bronze",
          "Silver",
          "Silver",
          "Silver",
          "Gold",
          "Gold",
          "Bronze",
          "Gold",
          "Silver",
          "Bronze",
          "Gold",
          "Gold",
          "Bronze",
          "Gold",
          "Silver",
          "Bronze",
          "Bronze",
          "Bronze",
          "Bronze",
          "Silver",
          "Silver",
          "Silver",
          "Silver",
          "Silver",
          "Bronze",
          "Gold",
          "Gold",
          "Bronze",
          "Gold",
          "Silver",
          "Bronze",
          "Gold",
          "Gold",
          "Bronze",
          "Gold",
          "Gold",
          "Bronze",
          "Bronze",
          "Bronze",
          "Bronze",
          "Bronze",
          "Bronze",
          "Bronze",
          "Gold",
          "Bronze",
          "Bronze",
          "Silver",
          "Silver",
          "Bronze",
          "Silver",
          "Silver",
          "Bronze",
          "Bronze",
          "Bronze",
          "Bronze",
          "Gold",
          "Silver",
          "Gold",
          "Silver",
          "Silver",
          "Silver",
          "Gold",
          "Gold",
          "Gold",
          "Silver",
          "Silver",
          "Bronze",
          "Gold",
          "Silver",
          "Bronze",
          "Bronze",
          "Bronze",
          "Bronze",
          "Gold",
          "Silver",
          "Gold",
          "Gold",
          "Silver",
          "Bronze",
          "Gold",
          "Silver",
          "Bronze",
          "Gold",
          "Silver",
          "Bronze",
          "Gold",
          "Bronze",
          "Bronze",
          "Silver",
          "Silver",
          "Bronze",
          "Gold",
          "Silver",
          "Silver",
          "Gold",
          "Silver",
          "Bronze",
          "Gold",
          "Silver",
          "Bronze",
          "Silver",
          "Silver",
          "Bronze",
          "Bronze",
          "Bronze",
          "Bronze",
          "Gold",
          "Gold",
          "Gold",
          "Gold",
          "Gold",
          "Bronze",
          "Bronze",
          "Bronze",
          "Bronze",
          "Bronze",
          "Silver",
          "Bronze",
          "Gold",
          "Silver",
          "Gold",
          "Bronze",
          "Silver",
          "Bronze",
          "Bronze",
          "Bronze",
          "Bronze",
          "Silver",
          "Silver",
          "Bronze",
          "Gold",
          "Silver",
          "Bronze",
          "Bronze",
          "Silver",
          "Bronze",
          "Gold",
          "Gold",
          "Gold",
          "Gold",
          "Gold",
          "Gold",
          "Bronze",
          "Bronze",
          "Bronze",
          "Gold",
          "Silver",
          "Gold",
          "Silver",
          "Silver",
          "Bronze",
          "Gold",
          "Silver",
          "Bronze",
          "Gold",
          "Silver",
          "Bronze",
          "Gold",
          "Silver",
          "Bronze",
          "Gold",
          "Silver",
          "Bronze",
          "Gold",
          "Silver",
          "Gold",
          "Gold",
          "Silver",
          "Bronze",
          "Silver",
          "Silver",
          "Silver",
          "Gold",
          "Silver",
          "Bronze",
          "Bronze",
          "Silver",
          "Bronze",
          "Gold",
          "Bronze",
          "Bronze",
          "Bronze",
          "Silver",
          "Bronze",
          "Gold",
          "Silver",
          "Bronze",
          "Bronze",
          "Silver",
          "Bronze",
          "Gold",
          "Silver",
          "Bronze",
          "Gold",
          "Silver",
          "Bronze",
          "Gold",
          "Bronze",
          "Bronze",
          "Gold",
          "Gold",
          "Bronze",
          "Gold",
          "Silver",
          "Bronze",
          "Gold",
          "Bronze",
          "Bronze",
          "Silver",
          "Silver",
          "Bronze",
          "Bronze",
          "Silver",
          "Bronze",
          "Bronze",
          "Bronze",
          "Bronze",
          "Gold",
          "Gold",
          "Gold",
          "Gold",
          "Silver",
          "Bronze",
          "Bronze",
          "Silver",
          "Bronze",
          "Bronze",
          "Silver",
          "Bronze",
          "Gold",
          "Silver",
          "Gold",
          "Gold",
          "Silver",
          "Bronze",
          "Gold",
          "Gold",
          "Gold",
          "Gold",
          "Silver",
          "Bronze",
          "Gold",
          "Silver",
          "Gold",
          "Gold",
          "Bronze",
          "Bronze",
          "Gold",
          "Gold",
          "Gold",
          "Gold",
          "Gold",
          "Gold",
          "Gold",
          "Gold",
          "Gold",
          "Gold",
          "Silver",
          "Gold",
          "Gold",
          "Gold",
          "Gold",
          "Gold",
          "Gold",
          "Gold",
          "Gold",
          "Gold",
          "Gold",
          "Gold",
          "Bronze",
          "Bronze",
          "Gold",
          "Silver",
          "Bronze",
          "Gold",
          "Silver",
          "Bronze",
          "Gold",
          "Gold",
          "Gold",
          "Gold",
          "Gold",
          "Bronze",
          "Bronze",
          "Silver",
          "Bronze",
          "Bronze",
          "Bronze",
          "Bronze",
          "Bronze",
          "Bronze",
          "Bronze",
          "Gold",
          "Silver",
          "Bronze",
          "Gold",
          "Silver",
          "Bronze",
          "Gold",
          "Bronze",
          "Bronze",
          "Gold",
          "Silver",
          "Bronze",
          "Bronze",
          "Bronze",
          "Bronze",
          "Gold",
          "Gold",
          "Gold",
          "Silver",
          "Silver",
          "Silver",
          "Gold",
          "Silver",
          "Bronze",
          "Silver",
          "Silver",
          "Silver",
          "Gold",
          "Bronze",
          "Bronze",
          "Gold",
          "Silver",
          "Bronze",
          "Gold",
          "Silver",
          "Bronze",
          "Gold",
          "Silver",
          "Bronze",
          "Gold",
          "Silver",
          "Bronze",
          "Gold",
          "Gold",
          "Gold",
          "Gold",
          "Gold",
          "Gold",
          "Gold",
          "Silver",
          "Bronze",
          "Gold",
          "Silver",
          "Bronze",
          "Bronze",
          "Bronze",
          "Bronze",
          "Gold",
          "Silver",
          "Bronze",
          "Gold",
          "Bronze",
          "Bronze",
          "Gold",
          "Silver",
          "Bronze",
          "Gold",
          "Silver",
          "Gold",
          "Gold",
          "Silver",
          "Bronze",
          "Gold",
          "Silver",
          "Bronze",
          "Gold",
          "Bronze",
          "Bronze",
          "Bronze",
          "Silver",
          "Bronze",
          "Silver",
          "Silver",
          "Silver",
          "Gold",
          "Silver",
          "Bronze",
          "Silver",
          "Silver",
          "Silver",
          "Gold",
          "Silver",
          "Bronze",
          "Gold",
          "Silver",
          "Bronze",
          "Gold",
          "Silver",
          "Bronze",
          "Gold",
          "Silver",
          "Bronze",
          "Gold",
          "Silver",
          "Bronze",
          "Gold",
          "Silver",
          "Bronze",
          "Gold",
          "Silver",
          "Bronze",
          "Gold",
          "Silver",
          "Bronze",
          "Gold",
          "Silver",
          "Bronze",
          "Gold",
          "Silver",
          "Gold",
          "Silver",
          "Silver",
          "Bronze",
          "Gold",
          "Bronze",
          "Bronze",
          "Gold",
          "Bronze",
          "Bronze",
          "Gold",
          "Silver",
          "Bronze",
          "Gold",
          "Gold",
          "Bronze",
          "Bronze",
          "Bronze",
          "Bronze",
          "Gold",
          "Silver",
          "Bronze",
          "Gold",
          "Silver",
          "Bronze",
          "Bronze",
          "Silver",
          "Bronze",
          "Gold",
          "Silver",
          "Gold",
          "Silver",
          "Silver",
          "Bronze",
          "Gold",
          "Silver",
          "Bronze",
          "Gold",
          "Bronze",
          "Bronze",
          "Gold",
          "Silver",
          "Bronze",
          "Bronze",
          "Silver",
          "Bronze",
          "Gold",
          "Silver",
          "Bronze",
          "Gold",
          "Bronze",
          "Bronze",
          "Gold",
          "Silver",
          "Bronze",
          "Gold",
          "Gold",
          "Bronze",
          "Gold",
          "Silver",
          "Bronze",
          "Gold",
          "Silver",
          "Bronze",
          "Gold",
          "Silver",
          "Bronze",
          "Gold",
          "Gold",
          "Gold",
          "Gold",
          "Silver",
          "Bronze",
          "Gold",
          "Gold",
          "Bronze",
          "Gold",
          "Bronze",
          "Bronze",
          "Gold",
          "Silver",
          "Bronze",
          "Gold",
          "Silver",
          "Bronze",
          "Gold",
          "Bronze",
          "Bronze",
          "Gold",
          "Silver",
          "Bronze",
          "Gold",
          "Silver",
          "Bronze",
          "Gold",
          "Silver",
          "Bronze",
          "Bronze",
          "Silver",
          "Bronze",
          "Bronze",
          "Bronze",
          "Bronze",
          "Gold",
          "Silver",
          "Bronze",
          "Bronze",
          "Bronze",
          "Bronze",
          "Gold",
          "Gold",
          "Bronze",
          "Gold",
          "Silver",
          "Bronze",
          "Gold",
          "Silver",
          "Bronze",
          "Bronze",
          "Bronze",
          "Bronze",
          "Gold",
          "Silver",
          "Gold",
          "Gold",
          "Gold",
          "Bronze",
          "Gold",
          "Gold",
          "Bronze",
          "Gold",
          "Gold",
          "Gold",
          "Gold",
          "Bronze",
          "Bronze",
          "Gold",
          "Silver",
          "Bronze",
          "Bronze",
          "Bronze",
          "Bronze",
          "Bronze",
          "Bronze",
          "Bronze",
          "Silver",
          "Silver",
          "Bronze",
          "Gold",
          "Silver",
          "Bronze",
          "Silver",
          "Silver",
          "Silver",
          "Silver",
          "Silver",
          "Silver",
          "Gold",
          "Silver",
          "Silver",
          "Gold",
          "Silver",
          "Gold",
          "Gold",
          "Silver",
          "Bronze",
          "Gold",
          "Gold",
          "Bronze",
          "Gold",
          "Silver",
          "Bronze",
          "Silver",
          "Silver",
          "Bronze",
          "Gold",
          "Silver",
          "Bronze",
          "Gold",
          "Silver",
          "Bronze",
          "Gold",
          "Gold",
          "Bronze",
          "Bronze",
          "Bronze",
          "Bronze",
          "Gold",
          "Gold",
          "Bronze",
          "Gold",
          "Silver",
          "Silver",
          "Bronze",
          "Bronze",
          "Bronze",
          "Gold",
          "Silver",
          "Bronze",
          "Gold",
          "Silver",
          "Bronze",
          "Gold",
          "Gold",
          "Bronze",
          "Gold",
          "Gold",
          "Gold",
          "Bronze",
          "Bronze",
          "Bronze",
          "Gold",
          "Bronze",
          "Bronze",
          "Gold",
          "Silver",
          "Bronze",
          "Gold",
          "Silver",
          "Bronze",
          "Gold",
          "Silver",
          "Bronze",
          "Bronze",
          "Bronze",
          "Bronze",
          "Bronze",
          "Bronze",
          "Bronze",
          "Silver",
          "Silver",
          "Silver",
          "Gold",
          "Silver",
          "Silver",
          "Silver",
          "Silver",
          "Bronze",
          "Gold",
          "Silver",
          "Bronze",
          "Gold",
          "Silver",
          "Bronze",
          "Gold",
          "Silver",
          "Bronze",
          "Gold",
          "Gold",
          "Gold",
          "Bronze",
          "Bronze",
          "Bronze",
          "Gold",
          "Silver",
          "Bronze",
          "Bronze",
          "Bronze",
          "Bronze",
          "Gold",
          "Silver",
          "Gold",
          "Gold",
          "Gold",
          "Bronze",
          "Gold",
          "Silver",
          "Bronze",
          "Silver",
          "Silver",
          "Silver",
          "Gold",
          "Silver",
          "Bronze",
          "Gold",
          "Silver",
          "Silver",
          "Silver",
          "Silver",
          "Bronze",
          "Gold",
          "Bronze",
          "Bronze",
          "Gold",
          "Silver",
          "Bronze",
          "Bronze",
          "Silver",
          "Bronze",
          "Gold",
          "Silver",
          "Bronze",
          "Gold",
          "Silver",
          "Silver",
          "Gold",
          "Bronze",
          "Bronze",
          "Gold",
          "Silver",
          "Silver",
          "Silver",
          "Silver",
          "Bronze",
          "Gold",
          "Silver",
          "Bronze",
          "Silver",
          "Silver",
          "Bronze",
          "Gold",
          "Silver",
          "Silver",
          "Bronze",
          "Bronze",
          "Bronze",
          "Silver",
          "Silver",
          "Silver",
          "Gold",
          "Silver",
          "Bronze",
          "Gold",
          "Silver",
          "Bronze",
          "Gold",
          "Silver",
          "Bronze",
          "Gold",
          "Silver",
          "Bronze",
          "Bronze",
          "Bronze",
          "Bronze",
          "Bronze",
          "Bronze",
          "Bronze",
          "Gold",
          "Silver",
          "Bronze",
          "Gold",
          "Bronze",
          "Bronze",
          "Gold",
          "Silver",
          "Bronze",
          "Bronze",
          "Bronze",
          "Bronze",
          "Silver",
          "Silver",
          "Bronze",
          "Gold",
          "Bronze",
          "Bronze",
          "Gold",
          "Silver",
          "Gold",
          "Gold",
          "Bronze",
          "Bronze",
          "Gold",
          "Silver",
          "Bronze",
          "Gold",
          "Gold",
          "Gold",
          "Gold",
          "Silver",
          "Bronze",
          "Gold",
          "Silver",
          "Bronze",
          "Gold",
          "Silver",
          "Bronze",
          "Gold",
          "Silver",
          "Bronze",
          "Gold",
          "Gold",
          "Bronze",
          "Gold",
          "Gold",
          "Bronze",
          "Gold",
          "Silver",
          "Bronze",
          "Bronze",
          "Silver",
          "Bronze",
          "Silver",
          "Silver",
          "Bronze",
          "Gold",
          "Bronze",
          "Bronze",
          "Gold",
          "Gold",
          "Gold",
          "Silver",
          "Silver",
          "Bronze",
          "Bronze",
          "Bronze",
          "Bronze",
          "Bronze",
          "Silver",
          "Bronze",
          "Gold",
          "Bronze",
          "Bronze",
          "Silver",
          "Silver",
          "Silver",
          "Gold",
          "Silver",
          "Bronze",
          "Gold",
          "Silver",
          "Bronze",
          "Silver",
          "Silver",
          "Bronze",
          "Gold",
          "Silver",
          "Bronze",
          "Gold",
          "Bronze",
          "Bronze"
         ],
         "x0": " ",
         "xaxis": "x",
         "y": [
          67,
          67,
          67,
          77,
          80,
          102,
          68,
          50,
          69,
          65,
          65,
          65,
          47,
          47,
          59,
          70,
          77,
          73,
          77,
          77,
          80,
          55,
          73,
          72,
          80,
          79,
          79,
          65,
          58,
          65,
          85,
          85,
          62,
          84,
          74,
          82,
          79,
          82,
          68,
          72,
          72,
          85,
          57,
          57,
          56,
          62,
          62,
          62,
          68,
          68,
          68,
          77,
          83,
          83,
          120,
          120,
          120,
          120,
          120,
          128,
          77,
          77,
          77,
          94,
          92,
          94,
          86,
          86,
          86,
          67,
          67,
          67,
          75,
          75,
          80,
          134,
          125,
          120,
          74,
          74,
          74,
          50,
          43,
          52,
          63,
          55,
          61,
          65,
          59,
          60,
          47,
          50,
          45,
          53,
          55,
          55,
          42,
          42,
          53,
          55,
          61,
          70,
          65,
          59,
          57,
          61,
          72,
          58,
          57,
          59,
          60,
          47,
          47,
          47,
          60,
          60,
          60,
          85,
          85,
          70,
          75,
          75,
          75,
          64,
          69,
          64,
          58,
          72,
          58,
          74,
          72,
          74,
          65,
          65,
          65,
          49,
          45,
          45,
          62,
          59,
          66,
          95,
          136,
          95,
          72,
          72,
          72,
          70,
          77,
          80,
          88,
          88,
          88,
          68,
          72,
          56,
          59,
          59,
          70,
          65,
          65,
          51,
          96,
          102,
          93,
          78,
          94,
          72,
          77,
          87,
          88,
          67,
          75,
          70,
          56,
          56,
          56,
          57,
          57,
          57,
          52,
          52,
          52,
          91,
          91,
          91,
          49,
          49,
          49,
          81,
          81,
          81,
          64,
          64,
          64,
          60,
          64,
          60,
          75,
          75,
          75,
          105,
          108,
          101,
          69,
          69,
          69,
          51,
          51,
          50,
          60,
          60,
          60,
          75,
          75,
          75,
          78,
          88,
          85,
          65,
          80,
          75,
          95,
          95,
          95,
          93,
          93,
          85,
          83,
          76,
          70,
          80,
          90,
          80,
          89,
          90,
          90,
          90,
          85,
          95,
          80,
          82,
          95,
          94,
          94,
          94,
          70,
          76,
          69,
          70,
          78,
          70,
          63,
          67,
          67,
          70,
          70,
          70,
          68,
          68,
          68,
          88,
          88,
          88,
          93,
          88,
          65,
          90,
          90,
          90,
          70,
          70,
          70,
          69,
          65,
          65,
          74,
          61,
          70,
          93,
          93,
          90,
          77,
          73,
          74,
          83,
          83,
          83,
          58,
          58,
          65,
          50,
          55,
          50,
          64,
          64,
          64,
          59,
          56,
          59,
          66,
          90,
          72,
          74,
          70,
          61,
          80,
          60,
          60,
          68,
          65,
          70,
          58,
          58,
          58,
          77,
          77,
          77,
          57,
          49,
          57,
          48,
          52,
          62,
          48,
          48,
          48,
          57,
          55,
          55,
          75,
          73,
          59,
          66,
          80,
          76,
          65,
          70,
          70,
          80,
          65,
          80,
          77,
          77,
          77,
          74,
          74,
          74,
          70,
          100,
          74,
          76,
          78,
          85,
          56,
          56,
          56,
          75,
          64,
          68,
          65,
          74,
          74,
          50,
          71,
          64,
          66,
          60,
          66,
          80,
          69,
          72,
          65,
          68,
          71,
          86,
          86,
          86,
          85,
          65,
          85,
          54,
          54,
          54,
          67,
          55,
          60,
          62,
          62,
          62,
          59,
          51,
          61,
          44,
          47,
          33,
          49,
          46,
          37,
          92,
          98,
          88,
          73,
          74,
          65,
          69,
          79,
          77,
          69,
          62,
          63,
          60,
          60,
          60,
          100,
          105,
          108,
          66,
          66,
          66,
          80,
          81,
          81,
          125,
          120,
          120,
          73,
          73,
          81,
          94,
          90,
          90,
          51,
          51,
          48,
          78,
          78,
          78,
          52,
          52,
          52,
          66,
          65,
          63,
          108,
          97,
          128,
          59,
          57,
          59,
          70,
          70,
          70,
          78,
          74,
          64,
          69,
          60,
          55,
          56,
          47,
          53,
          49,
          50,
          49,
          93,
          96,
          100,
          92,
          95,
          86,
          94,
          102,
          90,
          110,
          110,
          84,
          73,
          76,
          70,
          70,
          71,
          69,
          90,
          92,
          95,
          92,
          92,
          92,
          75,
          82,
          74,
          73,
          73,
          86,
          74,
          66,
          72,
          59,
          59,
          57,
          66,
          68,
          74,
          71,
          62,
          76,
          86,
          109,
          92,
          75,
          75,
          68,
          81,
          81,
          81,
          98,
          95,
          98,
          80,
          80,
          80,
          75,
          70,
          74,
          72,
          72,
          72,
          65,
          65,
          57,
          72,
          63,
          68,
          74,
          62,
          60,
          66,
          56,
          56,
          63,
          57,
          59,
          75,
          69,
          75,
          73,
          64,
          73,
          97,
          84,
          84,
          85,
          71,
          71,
          68,
          65,
          83,
          80,
          80,
          88,
          78,
          78,
          78,
          82,
          82,
          80,
          55,
          70,
          93,
          55,
          55,
          55,
          85,
          85,
          85,
          55,
          72,
          72,
          95,
          80,
          95,
          77,
          72,
          79,
          86,
          86,
          64,
          84,
          91,
          95,
          86,
          88,
          80,
          74,
          86,
          82,
          89,
          86,
          90,
          78,
          78,
          72,
          71,
          76,
          71,
          77,
          77,
          74,
          83,
          84,
          84,
          74,
          74,
          74,
          90,
          86,
          70,
          80,
          84,
          77,
          78,
          76,
          59,
          86,
          86,
          86,
          92,
          92,
          92,
          59,
          52,
          52,
          63,
          65,
          61,
          65,
          70,
          61,
          66,
          75,
          54,
          68,
          68,
          68,
          61,
          61,
          61,
          64,
          64,
          64,
          60,
          65,
          65,
          61,
          61,
          65,
          66,
          65,
          74,
          57,
          67,
          70,
          73,
          58,
          77,
          64,
          64,
          64,
          55,
          55,
          55,
          59,
          46,
          65,
          63,
          63,
          63,
          61,
          67,
          61,
          60,
          60,
          55,
          54,
          54,
          45,
          68,
          68,
          68,
          58,
          63,
          59,
          90,
          90,
          93,
          80,
          80,
          80,
          57,
          57,
          57,
          52,
          50,
          49,
          80,
          75,
          80,
          66,
          69,
          65,
          76,
          71,
          71,
          74,
          86,
          86,
          84,
          66,
          66,
          60,
          60,
          70,
          59,
          62,
          65,
          66,
          66,
          64,
          60,
          47,
          47,
          59,
          59,
          59,
          59,
          56,
          56,
          100,
          107,
          100,
          78,
          78,
          82,
          106,
          91,
          88,
          74,
          65,
          86,
          56,
          56,
          56,
          62,
          62,
          62,
          105,
          109,
          105,
          85,
          85,
          97,
          69,
          70,
          64,
          94,
          94,
          94,
          77,
          77,
          77,
          140,
          160,
          130,
          47,
          48,
          47,
          76,
          75,
          75,
          69,
          69,
          58,
          58,
          58,
          58,
          63,
          63,
          63,
          100,
          123,
          141,
          63,
          62,
          65,
          65,
          59,
          59,
          102,
          102,
          97,
          98,
          98,
          98,
          86,
          86,
          86,
          85,
          90,
          85,
          66,
          66,
          60,
          74,
          74,
          74,
          80,
          80,
          80,
          125,
          125,
          125,
          130,
          130,
          130,
          65,
          65,
          74,
          67,
          80,
          66,
          57,
          57,
          57,
          56,
          48,
          48,
          75,
          75,
          73,
          69,
          69,
          69,
          58,
          58,
          58,
          65,
          61,
          63
         ],
         "y0": " ",
         "yaxis": "y"
        }
       ],
       "layout": {
        "boxmode": "group",
        "legend": {
         "tracegroupgap": 0
        },
        "template": {
         "data": {
          "bar": [
           {
            "error_x": {
             "color": "#2a3f5f"
            },
            "error_y": {
             "color": "#2a3f5f"
            },
            "marker": {
             "line": {
              "color": "#E5ECF6",
              "width": 0.5
             },
             "pattern": {
              "fillmode": "overlay",
              "size": 10,
              "solidity": 0.2
             }
            },
            "type": "bar"
           }
          ],
          "barpolar": [
           {
            "marker": {
             "line": {
              "color": "#E5ECF6",
              "width": 0.5
             },
             "pattern": {
              "fillmode": "overlay",
              "size": 10,
              "solidity": 0.2
             }
            },
            "type": "barpolar"
           }
          ],
          "carpet": [
           {
            "aaxis": {
             "endlinecolor": "#2a3f5f",
             "gridcolor": "white",
             "linecolor": "white",
             "minorgridcolor": "white",
             "startlinecolor": "#2a3f5f"
            },
            "baxis": {
             "endlinecolor": "#2a3f5f",
             "gridcolor": "white",
             "linecolor": "white",
             "minorgridcolor": "white",
             "startlinecolor": "#2a3f5f"
            },
            "type": "carpet"
           }
          ],
          "choropleth": [
           {
            "colorbar": {
             "outlinewidth": 0,
             "ticks": ""
            },
            "type": "choropleth"
           }
          ],
          "contour": [
           {
            "colorbar": {
             "outlinewidth": 0,
             "ticks": ""
            },
            "colorscale": [
             [
              0,
              "#0d0887"
             ],
             [
              0.1111111111111111,
              "#46039f"
             ],
             [
              0.2222222222222222,
              "#7201a8"
             ],
             [
              0.3333333333333333,
              "#9c179e"
             ],
             [
              0.4444444444444444,
              "#bd3786"
             ],
             [
              0.5555555555555556,
              "#d8576b"
             ],
             [
              0.6666666666666666,
              "#ed7953"
             ],
             [
              0.7777777777777778,
              "#fb9f3a"
             ],
             [
              0.8888888888888888,
              "#fdca26"
             ],
             [
              1,
              "#f0f921"
             ]
            ],
            "type": "contour"
           }
          ],
          "contourcarpet": [
           {
            "colorbar": {
             "outlinewidth": 0,
             "ticks": ""
            },
            "type": "contourcarpet"
           }
          ],
          "heatmap": [
           {
            "colorbar": {
             "outlinewidth": 0,
             "ticks": ""
            },
            "colorscale": [
             [
              0,
              "#0d0887"
             ],
             [
              0.1111111111111111,
              "#46039f"
             ],
             [
              0.2222222222222222,
              "#7201a8"
             ],
             [
              0.3333333333333333,
              "#9c179e"
             ],
             [
              0.4444444444444444,
              "#bd3786"
             ],
             [
              0.5555555555555556,
              "#d8576b"
             ],
             [
              0.6666666666666666,
              "#ed7953"
             ],
             [
              0.7777777777777778,
              "#fb9f3a"
             ],
             [
              0.8888888888888888,
              "#fdca26"
             ],
             [
              1,
              "#f0f921"
             ]
            ],
            "type": "heatmap"
           }
          ],
          "heatmapgl": [
           {
            "colorbar": {
             "outlinewidth": 0,
             "ticks": ""
            },
            "colorscale": [
             [
              0,
              "#0d0887"
             ],
             [
              0.1111111111111111,
              "#46039f"
             ],
             [
              0.2222222222222222,
              "#7201a8"
             ],
             [
              0.3333333333333333,
              "#9c179e"
             ],
             [
              0.4444444444444444,
              "#bd3786"
             ],
             [
              0.5555555555555556,
              "#d8576b"
             ],
             [
              0.6666666666666666,
              "#ed7953"
             ],
             [
              0.7777777777777778,
              "#fb9f3a"
             ],
             [
              0.8888888888888888,
              "#fdca26"
             ],
             [
              1,
              "#f0f921"
             ]
            ],
            "type": "heatmapgl"
           }
          ],
          "histogram": [
           {
            "marker": {
             "pattern": {
              "fillmode": "overlay",
              "size": 10,
              "solidity": 0.2
             }
            },
            "type": "histogram"
           }
          ],
          "histogram2d": [
           {
            "colorbar": {
             "outlinewidth": 0,
             "ticks": ""
            },
            "colorscale": [
             [
              0,
              "#0d0887"
             ],
             [
              0.1111111111111111,
              "#46039f"
             ],
             [
              0.2222222222222222,
              "#7201a8"
             ],
             [
              0.3333333333333333,
              "#9c179e"
             ],
             [
              0.4444444444444444,
              "#bd3786"
             ],
             [
              0.5555555555555556,
              "#d8576b"
             ],
             [
              0.6666666666666666,
              "#ed7953"
             ],
             [
              0.7777777777777778,
              "#fb9f3a"
             ],
             [
              0.8888888888888888,
              "#fdca26"
             ],
             [
              1,
              "#f0f921"
             ]
            ],
            "type": "histogram2d"
           }
          ],
          "histogram2dcontour": [
           {
            "colorbar": {
             "outlinewidth": 0,
             "ticks": ""
            },
            "colorscale": [
             [
              0,
              "#0d0887"
             ],
             [
              0.1111111111111111,
              "#46039f"
             ],
             [
              0.2222222222222222,
              "#7201a8"
             ],
             [
              0.3333333333333333,
              "#9c179e"
             ],
             [
              0.4444444444444444,
              "#bd3786"
             ],
             [
              0.5555555555555556,
              "#d8576b"
             ],
             [
              0.6666666666666666,
              "#ed7953"
             ],
             [
              0.7777777777777778,
              "#fb9f3a"
             ],
             [
              0.8888888888888888,
              "#fdca26"
             ],
             [
              1,
              "#f0f921"
             ]
            ],
            "type": "histogram2dcontour"
           }
          ],
          "mesh3d": [
           {
            "colorbar": {
             "outlinewidth": 0,
             "ticks": ""
            },
            "type": "mesh3d"
           }
          ],
          "parcoords": [
           {
            "line": {
             "colorbar": {
              "outlinewidth": 0,
              "ticks": ""
             }
            },
            "type": "parcoords"
           }
          ],
          "pie": [
           {
            "automargin": true,
            "type": "pie"
           }
          ],
          "scatter": [
           {
            "fillpattern": {
             "fillmode": "overlay",
             "size": 10,
             "solidity": 0.2
            },
            "type": "scatter"
           }
          ],
          "scatter3d": [
           {
            "line": {
             "colorbar": {
              "outlinewidth": 0,
              "ticks": ""
             }
            },
            "marker": {
             "colorbar": {
              "outlinewidth": 0,
              "ticks": ""
             }
            },
            "type": "scatter3d"
           }
          ],
          "scattercarpet": [
           {
            "marker": {
             "colorbar": {
              "outlinewidth": 0,
              "ticks": ""
             }
            },
            "type": "scattercarpet"
           }
          ],
          "scattergeo": [
           {
            "marker": {
             "colorbar": {
              "outlinewidth": 0,
              "ticks": ""
             }
            },
            "type": "scattergeo"
           }
          ],
          "scattergl": [
           {
            "marker": {
             "colorbar": {
              "outlinewidth": 0,
              "ticks": ""
             }
            },
            "type": "scattergl"
           }
          ],
          "scattermapbox": [
           {
            "marker": {
             "colorbar": {
              "outlinewidth": 0,
              "ticks": ""
             }
            },
            "type": "scattermapbox"
           }
          ],
          "scatterpolar": [
           {
            "marker": {
             "colorbar": {
              "outlinewidth": 0,
              "ticks": ""
             }
            },
            "type": "scatterpolar"
           }
          ],
          "scatterpolargl": [
           {
            "marker": {
             "colorbar": {
              "outlinewidth": 0,
              "ticks": ""
             }
            },
            "type": "scatterpolargl"
           }
          ],
          "scatterternary": [
           {
            "marker": {
             "colorbar": {
              "outlinewidth": 0,
              "ticks": ""
             }
            },
            "type": "scatterternary"
           }
          ],
          "surface": [
           {
            "colorbar": {
             "outlinewidth": 0,
             "ticks": ""
            },
            "colorscale": [
             [
              0,
              "#0d0887"
             ],
             [
              0.1111111111111111,
              "#46039f"
             ],
             [
              0.2222222222222222,
              "#7201a8"
             ],
             [
              0.3333333333333333,
              "#9c179e"
             ],
             [
              0.4444444444444444,
              "#bd3786"
             ],
             [
              0.5555555555555556,
              "#d8576b"
             ],
             [
              0.6666666666666666,
              "#ed7953"
             ],
             [
              0.7777777777777778,
              "#fb9f3a"
             ],
             [
              0.8888888888888888,
              "#fdca26"
             ],
             [
              1,
              "#f0f921"
             ]
            ],
            "type": "surface"
           }
          ],
          "table": [
           {
            "cells": {
             "fill": {
              "color": "#EBF0F8"
             },
             "line": {
              "color": "white"
             }
            },
            "header": {
             "fill": {
              "color": "#C8D4E3"
             },
             "line": {
              "color": "white"
             }
            },
            "type": "table"
           }
          ]
         },
         "layout": {
          "annotationdefaults": {
           "arrowcolor": "#2a3f5f",
           "arrowhead": 0,
           "arrowwidth": 1
          },
          "autotypenumbers": "strict",
          "coloraxis": {
           "colorbar": {
            "outlinewidth": 0,
            "ticks": ""
           }
          },
          "colorscale": {
           "diverging": [
            [
             0,
             "#8e0152"
            ],
            [
             0.1,
             "#c51b7d"
            ],
            [
             0.2,
             "#de77ae"
            ],
            [
             0.3,
             "#f1b6da"
            ],
            [
             0.4,
             "#fde0ef"
            ],
            [
             0.5,
             "#f7f7f7"
            ],
            [
             0.6,
             "#e6f5d0"
            ],
            [
             0.7,
             "#b8e186"
            ],
            [
             0.8,
             "#7fbc41"
            ],
            [
             0.9,
             "#4d9221"
            ],
            [
             1,
             "#276419"
            ]
           ],
           "sequential": [
            [
             0,
             "#0d0887"
            ],
            [
             0.1111111111111111,
             "#46039f"
            ],
            [
             0.2222222222222222,
             "#7201a8"
            ],
            [
             0.3333333333333333,
             "#9c179e"
            ],
            [
             0.4444444444444444,
             "#bd3786"
            ],
            [
             0.5555555555555556,
             "#d8576b"
            ],
            [
             0.6666666666666666,
             "#ed7953"
            ],
            [
             0.7777777777777778,
             "#fb9f3a"
            ],
            [
             0.8888888888888888,
             "#fdca26"
            ],
            [
             1,
             "#f0f921"
            ]
           ],
           "sequentialminus": [
            [
             0,
             "#0d0887"
            ],
            [
             0.1111111111111111,
             "#46039f"
            ],
            [
             0.2222222222222222,
             "#7201a8"
            ],
            [
             0.3333333333333333,
             "#9c179e"
            ],
            [
             0.4444444444444444,
             "#bd3786"
            ],
            [
             0.5555555555555556,
             "#d8576b"
            ],
            [
             0.6666666666666666,
             "#ed7953"
            ],
            [
             0.7777777777777778,
             "#fb9f3a"
            ],
            [
             0.8888888888888888,
             "#fdca26"
            ],
            [
             1,
             "#f0f921"
            ]
           ]
          },
          "colorway": [
           "#636efa",
           "#EF553B",
           "#00cc96",
           "#ab63fa",
           "#FFA15A",
           "#19d3f3",
           "#FF6692",
           "#B6E880",
           "#FF97FF",
           "#FECB52"
          ],
          "font": {
           "color": "#2a3f5f"
          },
          "geo": {
           "bgcolor": "white",
           "lakecolor": "white",
           "landcolor": "#E5ECF6",
           "showlakes": true,
           "showland": true,
           "subunitcolor": "white"
          },
          "hoverlabel": {
           "align": "left"
          },
          "hovermode": "closest",
          "mapbox": {
           "style": "light"
          },
          "paper_bgcolor": "white",
          "plot_bgcolor": "#E5ECF6",
          "polar": {
           "angularaxis": {
            "gridcolor": "white",
            "linecolor": "white",
            "ticks": ""
           },
           "bgcolor": "#E5ECF6",
           "radialaxis": {
            "gridcolor": "white",
            "linecolor": "white",
            "ticks": ""
           }
          },
          "scene": {
           "xaxis": {
            "backgroundcolor": "#E5ECF6",
            "gridcolor": "white",
            "gridwidth": 2,
            "linecolor": "white",
            "showbackground": true,
            "ticks": "",
            "zerolinecolor": "white"
           },
           "yaxis": {
            "backgroundcolor": "#E5ECF6",
            "gridcolor": "white",
            "gridwidth": 2,
            "linecolor": "white",
            "showbackground": true,
            "ticks": "",
            "zerolinecolor": "white"
           },
           "zaxis": {
            "backgroundcolor": "#E5ECF6",
            "gridcolor": "white",
            "gridwidth": 2,
            "linecolor": "white",
            "showbackground": true,
            "ticks": "",
            "zerolinecolor": "white"
           }
          },
          "shapedefaults": {
           "line": {
            "color": "#2a3f5f"
           }
          },
          "ternary": {
           "aaxis": {
            "gridcolor": "white",
            "linecolor": "white",
            "ticks": ""
           },
           "baxis": {
            "gridcolor": "white",
            "linecolor": "white",
            "ticks": ""
           },
           "bgcolor": "#E5ECF6",
           "caxis": {
            "gridcolor": "white",
            "linecolor": "white",
            "ticks": ""
           }
          },
          "title": {
           "x": 0.05
          },
          "xaxis": {
           "automargin": true,
           "gridcolor": "white",
           "linecolor": "white",
           "ticks": "",
           "title": {
            "standoff": 15
           },
           "zerolinecolor": "white",
           "zerolinewidth": 2
          },
          "yaxis": {
           "automargin": true,
           "gridcolor": "white",
           "linecolor": "white",
           "ticks": "",
           "title": {
            "standoff": 15
           },
           "zerolinecolor": "white",
           "zerolinewidth": 2
          }
         }
        },
        "title": {
         "text": "Weight Distribution by Predicted Medal"
        },
        "xaxis": {
         "anchor": "y",
         "domain": [
          0,
          1
         ],
         "title": {
          "text": "Predicted Medal"
         }
        },
        "yaxis": {
         "anchor": "x",
         "domain": [
          0,
          1
         ],
         "title": {
          "text": "Weight"
         }
        }
       }
      }
     },
     "metadata": {},
     "output_type": "display_data"
    }
   ],
   "source": [
    "# Scatter plot of Age vs Height colored by predicted medal\n",
    "fig = px.scatter(df, x='Age', y='Height', color='pred_medal', title='Age vs Height by Predicted Medal')\n",
    "fig.update_layout(xaxis_title='Age', yaxis_title='Height')\n",
    "fig.show()\n",
    "\n",
    "# Box plot of Weight by predicted medal\n",
    "fig = px.box(df, x='pred_medal', y='Weight', title='Weight Distribution by Predicted Medal')\n",
    "fig.update_layout(xaxis_title='Predicted Medal', yaxis_title='Weight')\n",
    "fig.show()\n"
   ]
  }
 ],
 "metadata": {
  "kernelspec": {
   "display_name": "base",
   "language": "python",
   "name": "python3"
  },
  "language_info": {
   "codemirror_mode": {
    "name": "ipython",
    "version": 3
   },
   "file_extension": ".py",
   "mimetype": "text/x-python",
   "name": "python",
   "nbconvert_exporter": "python",
   "pygments_lexer": "ipython3",
   "version": "3.11.5"
  }
 },
 "nbformat": 4,
 "nbformat_minor": 2
}
