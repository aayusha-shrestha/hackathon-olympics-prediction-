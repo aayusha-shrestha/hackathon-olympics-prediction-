{
 "cells": [
  {
   "cell_type": "code",
   "execution_count": 1,
   "metadata": {},
   "outputs": [],
   "source": [
    "import pandas as pd\n",
    "import numpy as np\n",
    "import matplotlib.pyplot as plt\n",
    "import seaborn as sns\n",
    "import plotly.express as px\n",
    "import plotly.graph_objects as go"
   ]
  },
  {
   "cell_type": "code",
   "execution_count": 2,
   "metadata": {},
   "outputs": [],
   "source": [
    "import warnings\n",
    "warnings.filterwarnings(\"ignore\")\n",
    "pd.set_option(\"display.max_rows\", 15)"
   ]
  },
  {
   "cell_type": "markdown",
   "metadata": {},
   "source": [
    "<!-- add image -->\n",
    "<img src=\"../pages/images/ts3.png\" width=\"1000\" height=\"500\">"
   ]
  },
  {
   "cell_type": "markdown",
   "metadata": {},
   "source": [
    "<!-- add image -->\n",
    "<img src=\"../pages/images/ts4.png\" width=\"1000\" height=\"500\">"
   ]
  },
  {
   "cell_type": "markdown",
   "metadata": {},
   "source": [
    "\n",
    "<img src=\"../pages/images/timeseries_gender.png\" width=\"1000\" height=\"500\">"
   ]
  },
  {
   "cell_type": "code",
   "execution_count": 3,
   "metadata": {},
   "outputs": [],
   "source": [
    "df = pd.read_csv(\"../data/2024_result/2024_result.csv\")\n",
    "df['Host'] = 0 \n",
    "df.loc[df['Team'] == 'France', 'Host'] = 1\n",
    "df['Sex'] = df['Sex'].astype('category')\n",
    "df = df.drop(columns=['Medal'])\n",
    "df['pred_medal'] = df[['Bronze', 'Silver', 'Gold']].idxmax(axis=1)"
   ]
  },
  {
   "cell_type": "code",
   "execution_count": 4,
   "metadata": {},
   "outputs": [
    {
     "data": {
      "application/vnd.plotly.v1+json": {
       "config": {
        "plotlyServerURL": "https://plot.ly"
       },
       "data": [
        {
         "alignmentgroup": "True",
         "hovertemplate": "pred_medal=Bronze<br>Sport=%{x}<br>value=%{y}<extra></extra>",
         "legendgroup": "Bronze",
         "marker": {
          "color": "#636efa",
          "pattern": {
           "shape": ""
          }
         },
         "name": "Bronze",
         "offsetgroup": "Bronze",
         "orientation": "v",
         "showlegend": true,
         "textposition": "auto",
         "type": "bar",
         "x": [
          "Athletics",
          "Swimming",
          "Wrestling",
          "Canoeing",
          "Cycling",
          "Weightlifting",
          "Rowing",
          "Judo",
          "Boxing",
          "Shooting",
          "Fencing",
          "Sailing",
          "Taekwondo",
          "Diving",
          "Gymnastics",
          "Badminton",
          "Tennis",
          "Table Tennis",
          "Equestrianism",
          "Synchronized Swimming",
          "Water Polo",
          "Volleyball",
          "Triathlon",
          "Trampolining",
          "Rugby Sevens",
          "Basketball",
          "Beach Volleyball",
          "Rhythmic Gymnastics",
          "Modern Pentathlon",
          "Archery",
          "Hockey",
          "Handball",
          "Golf",
          "Football",
          "Alpine Skiing"
         ],
         "xaxis": "x",
         "y": [
          58,
          40,
          24,
          7,
          21,
          11,
          16,
          18,
          21,
          12,
          10,
          17,
          10,
          9,
          4,
          7,
          5,
          4,
          3,
          4,
          2,
          2,
          3,
          3,
          2,
          2,
          1,
          2,
          1,
          2,
          2,
          2,
          1,
          2,
          3
         ],
         "yaxis": "y"
        },
        {
         "alignmentgroup": "True",
         "hovertemplate": "pred_medal=Gold<br>Sport=%{x}<br>value=%{y}<extra></extra>",
         "legendgroup": "Gold",
         "marker": {
          "color": "#EF553B",
          "pattern": {
           "shape": ""
          }
         },
         "name": "Gold",
         "offsetgroup": "Gold",
         "orientation": "v",
         "showlegend": true,
         "textposition": "auto",
         "type": "bar",
         "x": [
          "Athletics",
          "Swimming",
          "Wrestling",
          "Canoeing",
          "Cycling",
          "Weightlifting",
          "Rowing",
          "Judo",
          "Boxing",
          "Shooting",
          "Fencing",
          "Sailing",
          "Taekwondo",
          "Diving",
          "Gymnastics",
          "Badminton",
          "Tennis",
          "Table Tennis",
          "Equestrianism",
          "Synchronized Swimming",
          "Water Polo",
          "Volleyball",
          "Triathlon",
          "Trampolining",
          "Rugby Sevens",
          "Basketball",
          "Beach Volleyball",
          "Rhythmic Gymnastics",
          "Modern Pentathlon",
          "Archery",
          "Hockey",
          "Handball",
          "Golf",
          "Football",
          "Alpine Skiing"
         ],
         "xaxis": "x",
         "y": [
          43,
          23,
          13,
          22,
          18,
          15,
          15,
          13,
          9,
          12,
          14,
          7,
          4,
          7,
          4,
          4,
          5,
          6,
          3,
          1,
          2,
          2,
          0,
          1,
          2,
          2,
          4,
          1,
          2,
          2,
          2,
          2,
          4,
          2,
          0
         ],
         "yaxis": "y"
        },
        {
         "alignmentgroup": "True",
         "hovertemplate": "pred_medal=Silver<br>Sport=%{x}<br>value=%{y}<extra></extra>",
         "legendgroup": "Silver",
         "marker": {
          "color": "#00cc96",
          "pattern": {
           "shape": ""
          }
         },
         "name": "Silver",
         "offsetgroup": "Silver",
         "orientation": "v",
         "showlegend": true,
         "textposition": "auto",
         "type": "bar",
         "x": [
          "Athletics",
          "Swimming",
          "Wrestling",
          "Canoeing",
          "Cycling",
          "Weightlifting",
          "Rowing",
          "Judo",
          "Boxing",
          "Shooting",
          "Fencing",
          "Sailing",
          "Taekwondo",
          "Diving",
          "Gymnastics",
          "Badminton",
          "Tennis",
          "Table Tennis",
          "Equestrianism",
          "Synchronized Swimming",
          "Water Polo",
          "Volleyball",
          "Triathlon",
          "Trampolining",
          "Rugby Sevens",
          "Basketball",
          "Beach Volleyball",
          "Rhythmic Gymnastics",
          "Modern Pentathlon",
          "Archery",
          "Hockey",
          "Handball",
          "Golf",
          "Football",
          "Alpine Skiing"
         ],
         "xaxis": "x",
         "y": [
          37,
          24,
          20,
          16,
          6,
          16,
          11,
          11,
          12,
          15,
          6,
          6,
          10,
          8,
          10,
          4,
          5,
          2,
          3,
          1,
          2,
          2,
          3,
          2,
          2,
          2,
          1,
          3,
          3,
          2,
          2,
          2,
          1,
          2,
          0
         ],
         "yaxis": "y"
        }
       ],
       "layout": {
        "barmode": "stack",
        "legend": {
         "title": {
          "text": "pred_medal"
         },
         "tracegroupgap": 0
        },
        "template": {
         "data": {
          "bar": [
           {
            "error_x": {
             "color": "#2a3f5f"
            },
            "error_y": {
             "color": "#2a3f5f"
            },
            "marker": {
             "line": {
              "color": "#E5ECF6",
              "width": 0.5
             },
             "pattern": {
              "fillmode": "overlay",
              "size": 10,
              "solidity": 0.2
             }
            },
            "type": "bar"
           }
          ],
          "barpolar": [
           {
            "marker": {
             "line": {
              "color": "#E5ECF6",
              "width": 0.5
             },
             "pattern": {
              "fillmode": "overlay",
              "size": 10,
              "solidity": 0.2
             }
            },
            "type": "barpolar"
           }
          ],
          "carpet": [
           {
            "aaxis": {
             "endlinecolor": "#2a3f5f",
             "gridcolor": "white",
             "linecolor": "white",
             "minorgridcolor": "white",
             "startlinecolor": "#2a3f5f"
            },
            "baxis": {
             "endlinecolor": "#2a3f5f",
             "gridcolor": "white",
             "linecolor": "white",
             "minorgridcolor": "white",
             "startlinecolor": "#2a3f5f"
            },
            "type": "carpet"
           }
          ],
          "choropleth": [
           {
            "colorbar": {
             "outlinewidth": 0,
             "ticks": ""
            },
            "type": "choropleth"
           }
          ],
          "contour": [
           {
            "colorbar": {
             "outlinewidth": 0,
             "ticks": ""
            },
            "colorscale": [
             [
              0,
              "#0d0887"
             ],
             [
              0.1111111111111111,
              "#46039f"
             ],
             [
              0.2222222222222222,
              "#7201a8"
             ],
             [
              0.3333333333333333,
              "#9c179e"
             ],
             [
              0.4444444444444444,
              "#bd3786"
             ],
             [
              0.5555555555555556,
              "#d8576b"
             ],
             [
              0.6666666666666666,
              "#ed7953"
             ],
             [
              0.7777777777777778,
              "#fb9f3a"
             ],
             [
              0.8888888888888888,
              "#fdca26"
             ],
             [
              1,
              "#f0f921"
             ]
            ],
            "type": "contour"
           }
          ],
          "contourcarpet": [
           {
            "colorbar": {
             "outlinewidth": 0,
             "ticks": ""
            },
            "type": "contourcarpet"
           }
          ],
          "heatmap": [
           {
            "colorbar": {
             "outlinewidth": 0,
             "ticks": ""
            },
            "colorscale": [
             [
              0,
              "#0d0887"
             ],
             [
              0.1111111111111111,
              "#46039f"
             ],
             [
              0.2222222222222222,
              "#7201a8"
             ],
             [
              0.3333333333333333,
              "#9c179e"
             ],
             [
              0.4444444444444444,
              "#bd3786"
             ],
             [
              0.5555555555555556,
              "#d8576b"
             ],
             [
              0.6666666666666666,
              "#ed7953"
             ],
             [
              0.7777777777777778,
              "#fb9f3a"
             ],
             [
              0.8888888888888888,
              "#fdca26"
             ],
             [
              1,
              "#f0f921"
             ]
            ],
            "type": "heatmap"
           }
          ],
          "heatmapgl": [
           {
            "colorbar": {
             "outlinewidth": 0,
             "ticks": ""
            },
            "colorscale": [
             [
              0,
              "#0d0887"
             ],
             [
              0.1111111111111111,
              "#46039f"
             ],
             [
              0.2222222222222222,
              "#7201a8"
             ],
             [
              0.3333333333333333,
              "#9c179e"
             ],
             [
              0.4444444444444444,
              "#bd3786"
             ],
             [
              0.5555555555555556,
              "#d8576b"
             ],
             [
              0.6666666666666666,
              "#ed7953"
             ],
             [
              0.7777777777777778,
              "#fb9f3a"
             ],
             [
              0.8888888888888888,
              "#fdca26"
             ],
             [
              1,
              "#f0f921"
             ]
            ],
            "type": "heatmapgl"
           }
          ],
          "histogram": [
           {
            "marker": {
             "pattern": {
              "fillmode": "overlay",
              "size": 10,
              "solidity": 0.2
             }
            },
            "type": "histogram"
           }
          ],
          "histogram2d": [
           {
            "colorbar": {
             "outlinewidth": 0,
             "ticks": ""
            },
            "colorscale": [
             [
              0,
              "#0d0887"
             ],
             [
              0.1111111111111111,
              "#46039f"
             ],
             [
              0.2222222222222222,
              "#7201a8"
             ],
             [
              0.3333333333333333,
              "#9c179e"
             ],
             [
              0.4444444444444444,
              "#bd3786"
             ],
             [
              0.5555555555555556,
              "#d8576b"
             ],
             [
              0.6666666666666666,
              "#ed7953"
             ],
             [
              0.7777777777777778,
              "#fb9f3a"
             ],
             [
              0.8888888888888888,
              "#fdca26"
             ],
             [
              1,
              "#f0f921"
             ]
            ],
            "type": "histogram2d"
           }
          ],
          "histogram2dcontour": [
           {
            "colorbar": {
             "outlinewidth": 0,
             "ticks": ""
            },
            "colorscale": [
             [
              0,
              "#0d0887"
             ],
             [
              0.1111111111111111,
              "#46039f"
             ],
             [
              0.2222222222222222,
              "#7201a8"
             ],
             [
              0.3333333333333333,
              "#9c179e"
             ],
             [
              0.4444444444444444,
              "#bd3786"
             ],
             [
              0.5555555555555556,
              "#d8576b"
             ],
             [
              0.6666666666666666,
              "#ed7953"
             ],
             [
              0.7777777777777778,
              "#fb9f3a"
             ],
             [
              0.8888888888888888,
              "#fdca26"
             ],
             [
              1,
              "#f0f921"
             ]
            ],
            "type": "histogram2dcontour"
           }
          ],
          "mesh3d": [
           {
            "colorbar": {
             "outlinewidth": 0,
             "ticks": ""
            },
            "type": "mesh3d"
           }
          ],
          "parcoords": [
           {
            "line": {
             "colorbar": {
              "outlinewidth": 0,
              "ticks": ""
             }
            },
            "type": "parcoords"
           }
          ],
          "pie": [
           {
            "automargin": true,
            "type": "pie"
           }
          ],
          "scatter": [
           {
            "fillpattern": {
             "fillmode": "overlay",
             "size": 10,
             "solidity": 0.2
            },
            "type": "scatter"
           }
          ],
          "scatter3d": [
           {
            "line": {
             "colorbar": {
              "outlinewidth": 0,
              "ticks": ""
             }
            },
            "marker": {
             "colorbar": {
              "outlinewidth": 0,
              "ticks": ""
             }
            },
            "type": "scatter3d"
           }
          ],
          "scattercarpet": [
           {
            "marker": {
             "colorbar": {
              "outlinewidth": 0,
              "ticks": ""
             }
            },
            "type": "scattercarpet"
           }
          ],
          "scattergeo": [
           {
            "marker": {
             "colorbar": {
              "outlinewidth": 0,
              "ticks": ""
             }
            },
            "type": "scattergeo"
           }
          ],
          "scattergl": [
           {
            "marker": {
             "colorbar": {
              "outlinewidth": 0,
              "ticks": ""
             }
            },
            "type": "scattergl"
           }
          ],
          "scattermapbox": [
           {
            "marker": {
             "colorbar": {
              "outlinewidth": 0,
              "ticks": ""
             }
            },
            "type": "scattermapbox"
           }
          ],
          "scatterpolar": [
           {
            "marker": {
             "colorbar": {
              "outlinewidth": 0,
              "ticks": ""
             }
            },
            "type": "scatterpolar"
           }
          ],
          "scatterpolargl": [
           {
            "marker": {
             "colorbar": {
              "outlinewidth": 0,
              "ticks": ""
             }
            },
            "type": "scatterpolargl"
           }
          ],
          "scatterternary": [
           {
            "marker": {
             "colorbar": {
              "outlinewidth": 0,
              "ticks": ""
             }
            },
            "type": "scatterternary"
           }
          ],
          "surface": [
           {
            "colorbar": {
             "outlinewidth": 0,
             "ticks": ""
            },
            "colorscale": [
             [
              0,
              "#0d0887"
             ],
             [
              0.1111111111111111,
              "#46039f"
             ],
             [
              0.2222222222222222,
              "#7201a8"
             ],
             [
              0.3333333333333333,
              "#9c179e"
             ],
             [
              0.4444444444444444,
              "#bd3786"
             ],
             [
              0.5555555555555556,
              "#d8576b"
             ],
             [
              0.6666666666666666,
              "#ed7953"
             ],
             [
              0.7777777777777778,
              "#fb9f3a"
             ],
             [
              0.8888888888888888,
              "#fdca26"
             ],
             [
              1,
              "#f0f921"
             ]
            ],
            "type": "surface"
           }
          ],
          "table": [
           {
            "cells": {
             "fill": {
              "color": "#EBF0F8"
             },
             "line": {
              "color": "white"
             }
            },
            "header": {
             "fill": {
              "color": "#C8D4E3"
             },
             "line": {
              "color": "white"
             }
            },
            "type": "table"
           }
          ]
         },
         "layout": {
          "annotationdefaults": {
           "arrowcolor": "#2a3f5f",
           "arrowhead": 0,
           "arrowwidth": 1
          },
          "autotypenumbers": "strict",
          "coloraxis": {
           "colorbar": {
            "outlinewidth": 0,
            "ticks": ""
           }
          },
          "colorscale": {
           "diverging": [
            [
             0,
             "#8e0152"
            ],
            [
             0.1,
             "#c51b7d"
            ],
            [
             0.2,
             "#de77ae"
            ],
            [
             0.3,
             "#f1b6da"
            ],
            [
             0.4,
             "#fde0ef"
            ],
            [
             0.5,
             "#f7f7f7"
            ],
            [
             0.6,
             "#e6f5d0"
            ],
            [
             0.7,
             "#b8e186"
            ],
            [
             0.8,
             "#7fbc41"
            ],
            [
             0.9,
             "#4d9221"
            ],
            [
             1,
             "#276419"
            ]
           ],
           "sequential": [
            [
             0,
             "#0d0887"
            ],
            [
             0.1111111111111111,
             "#46039f"
            ],
            [
             0.2222222222222222,
             "#7201a8"
            ],
            [
             0.3333333333333333,
             "#9c179e"
            ],
            [
             0.4444444444444444,
             "#bd3786"
            ],
            [
             0.5555555555555556,
             "#d8576b"
            ],
            [
             0.6666666666666666,
             "#ed7953"
            ],
            [
             0.7777777777777778,
             "#fb9f3a"
            ],
            [
             0.8888888888888888,
             "#fdca26"
            ],
            [
             1,
             "#f0f921"
            ]
           ],
           "sequentialminus": [
            [
             0,
             "#0d0887"
            ],
            [
             0.1111111111111111,
             "#46039f"
            ],
            [
             0.2222222222222222,
             "#7201a8"
            ],
            [
             0.3333333333333333,
             "#9c179e"
            ],
            [
             0.4444444444444444,
             "#bd3786"
            ],
            [
             0.5555555555555556,
             "#d8576b"
            ],
            [
             0.6666666666666666,
             "#ed7953"
            ],
            [
             0.7777777777777778,
             "#fb9f3a"
            ],
            [
             0.8888888888888888,
             "#fdca26"
            ],
            [
             1,
             "#f0f921"
            ]
           ]
          },
          "colorway": [
           "#636efa",
           "#EF553B",
           "#00cc96",
           "#ab63fa",
           "#FFA15A",
           "#19d3f3",
           "#FF6692",
           "#B6E880",
           "#FF97FF",
           "#FECB52"
          ],
          "font": {
           "color": "#2a3f5f"
          },
          "geo": {
           "bgcolor": "white",
           "lakecolor": "white",
           "landcolor": "#E5ECF6",
           "showlakes": true,
           "showland": true,
           "subunitcolor": "white"
          },
          "hoverlabel": {
           "align": "left"
          },
          "hovermode": "closest",
          "mapbox": {
           "style": "light"
          },
          "paper_bgcolor": "white",
          "plot_bgcolor": "#E5ECF6",
          "polar": {
           "angularaxis": {
            "gridcolor": "white",
            "linecolor": "white",
            "ticks": ""
           },
           "bgcolor": "#E5ECF6",
           "radialaxis": {
            "gridcolor": "white",
            "linecolor": "white",
            "ticks": ""
           }
          },
          "scene": {
           "xaxis": {
            "backgroundcolor": "#E5ECF6",
            "gridcolor": "white",
            "gridwidth": 2,
            "linecolor": "white",
            "showbackground": true,
            "ticks": "",
            "zerolinecolor": "white"
           },
           "yaxis": {
            "backgroundcolor": "#E5ECF6",
            "gridcolor": "white",
            "gridwidth": 2,
            "linecolor": "white",
            "showbackground": true,
            "ticks": "",
            "zerolinecolor": "white"
           },
           "zaxis": {
            "backgroundcolor": "#E5ECF6",
            "gridcolor": "white",
            "gridwidth": 2,
            "linecolor": "white",
            "showbackground": true,
            "ticks": "",
            "zerolinecolor": "white"
           }
          },
          "shapedefaults": {
           "line": {
            "color": "#2a3f5f"
           }
          },
          "ternary": {
           "aaxis": {
            "gridcolor": "white",
            "linecolor": "white",
            "ticks": ""
           },
           "baxis": {
            "gridcolor": "white",
            "linecolor": "white",
            "ticks": ""
           },
           "bgcolor": "#E5ECF6",
           "caxis": {
            "gridcolor": "white",
            "linecolor": "white",
            "ticks": ""
           }
          },
          "title": {
           "x": 0.05
          },
          "xaxis": {
           "automargin": true,
           "gridcolor": "white",
           "linecolor": "white",
           "ticks": "",
           "title": {
            "standoff": 15
           },
           "zerolinecolor": "white",
           "zerolinewidth": 2
          },
          "yaxis": {
           "automargin": true,
           "gridcolor": "white",
           "linecolor": "white",
           "ticks": "",
           "title": {
            "standoff": 15
           },
           "zerolinecolor": "white",
           "zerolinewidth": 2
          }
         }
        },
        "title": {
         "text": "Predicted Medals by Sport"
        },
        "xaxis": {
         "anchor": "y",
         "domain": [
          0,
          1
         ],
         "title": {
          "text": "Sport"
         }
        },
        "yaxis": {
         "anchor": "x",
         "domain": [
          0,
          1
         ],
         "title": {
          "text": "value"
         }
        }
       }
      }
     },
     "metadata": {},
     "output_type": "display_data"
    }
   ],
   "source": [
    "medals_by_sport = df.groupby(['Sport', 'pred_medal']).size().unstack().fillna(0)\n",
    "medals_by_sport_sorted = medals_by_sport.sum(axis=1).sort_values(ascending=False).index\n",
    "medals_by_sport_sorted_df = medals_by_sport.loc[medals_by_sport_sorted]\n",
    "\n",
    "# Plot predicted medals by sport (sorted)\n",
    "fig = px.bar(medals_by_sport_sorted_df, title='Predicted Medals by Sport', barmode='stack')\n",
    "fig.show()"
   ]
  },
  {
   "cell_type": "code",
   "execution_count": 5,
   "metadata": {},
   "outputs": [
    {
     "data": {
      "application/vnd.plotly.v1+json": {
       "config": {
        "plotlyServerURL": "https://plot.ly"
       },
       "data": [
        {
         "hovertemplate": "Sex=0<br>Age=%{x}<br>Predicted Medal=%{y}<extra></extra>",
         "legendgroup": "0",
         "marker": {
          "color": "magenta",
          "size": 8,
          "symbol": "circle"
         },
         "mode": "markers",
         "name": "0",
         "orientation": "h",
         "showlegend": true,
         "type": "scatter",
         "x": [
          27,
          27,
          27,
          20,
          29,
          26,
          26,
          22,
          25,
          21,
          24,
          19,
          27,
          24,
          28,
          29,
          29,
          22,
          31,
          31,
          20,
          29,
          19,
          25,
          20,
          22,
          22,
          30,
          22,
          31,
          22,
          22,
          25,
          29,
          26,
          29,
          24,
          24,
          24,
          23,
          23,
          23,
          37,
          37,
          26,
          25,
          25,
          25,
          21,
          21,
          27,
          26,
          37,
          26,
          21,
          21,
          32,
          26,
          26,
          26,
          32,
          31,
          32,
          24,
          26,
          19,
          27,
          30,
          27,
          20,
          20,
          20,
          27,
          26,
          26,
          21,
          21,
          23,
          21,
          20,
          21,
          28,
          29,
          25,
          33,
          34,
          27,
          27,
          25,
          23,
          23,
          28,
          28,
          26,
          23,
          26,
          24,
          29,
          29,
          24,
          20,
          20,
          20,
          27,
          27,
          27,
          25,
          25,
          25,
          22,
          22,
          35,
          26,
          26,
          26,
          24,
          26,
          24,
          24,
          22,
          23,
          21,
          21,
          29,
          15,
          15,
          17,
          26,
          24,
          20,
          18,
          18,
          18,
          30,
          23,
          23,
          40,
          28,
          23,
          27,
          27,
          27,
          23,
          22,
          30,
          26,
          26,
          26,
          25,
          27,
          25,
          28,
          32,
          28,
          22,
          26,
          27,
          26,
          28,
          26,
          17,
          19,
          16,
          16,
          18,
          16,
          22,
          26,
          25,
          23,
          27,
          27,
          25,
          24,
          21,
          25,
          25,
          25,
          21,
          25,
          27,
          23,
          25,
          27,
          25,
          28,
          29,
          25,
          24,
          25,
          26,
          26,
          26,
          27,
          24,
          24,
          24,
          18,
          25,
          18,
          20,
          23,
          29,
          27,
          24,
          25,
          25,
          23,
          27,
          29,
          29,
          34,
          32,
          27,
          32,
          25,
          24,
          31,
          27,
          27,
          21,
          28,
          27,
          23,
          26,
          29,
          25,
          23,
          25,
          21,
          29,
          29,
          31,
          27,
          31,
          19,
          33,
          25,
          47,
          19,
          19,
          19,
          33,
          33,
          33,
          27,
          33,
          33,
          28,
          26,
          26,
          25,
          33,
          25,
          22,
          22,
          20,
          21,
          19,
          27,
          21,
          22,
          23,
          16,
          16,
          16,
          25,
          25,
          25,
          27,
          27,
          27,
          22,
          27,
          27,
          22,
          19,
          16,
          21,
          20,
          19,
          25,
          21,
          22,
          20,
          22,
          28,
          23,
          23,
          23,
          25,
          25,
          25,
          23,
          21,
          25,
          22,
          33,
          21,
          15,
          25,
          15,
          25,
          23,
          25,
          18,
          22,
          18,
          20,
          22,
          24,
          28,
          28,
          23,
          31,
          26,
          28,
          26,
          35,
          22,
          27,
          25,
          27,
          27,
          30,
          30,
          30,
          34,
          24,
          27,
          30,
          22,
          29,
          21,
          21,
          21,
          20,
          20,
          31,
          22,
          24,
          18,
          25,
          21,
          21,
          22,
          23,
          23,
          23,
          27,
          28,
          24,
          24,
          24,
          26,
          22,
          21,
          29,
          27,
          29,
          21,
          21,
          24,
          23,
          23,
          31,
          23,
          21,
          36
         ],
         "xaxis": "x",
         "y": [
          "Bronze",
          "Bronze",
          "Bronze",
          "Gold",
          "Silver",
          "Bronze",
          "Gold",
          "Silver",
          "Gold",
          "Gold",
          "Silver",
          "Bronze",
          "Gold",
          "Silver",
          "Bronze",
          "Silver",
          "Silver",
          "Bronze",
          "Gold",
          "Gold",
          "Bronze",
          "Bronze",
          "Silver",
          "Bronze",
          "Silver",
          "Silver",
          "Silver",
          "Gold",
          "Silver",
          "Bronze",
          "Gold",
          "Silver",
          "Bronze",
          "Gold",
          "Silver",
          "Bronze",
          "Bronze",
          "Bronze",
          "Bronze",
          "Gold",
          "Gold",
          "Gold",
          "Silver",
          "Silver",
          "Bronze",
          "Bronze",
          "Bronze",
          "Bronze",
          "Silver",
          "Silver",
          "Silver",
          "Gold",
          "Silver",
          "Gold",
          "Gold",
          "Gold",
          "Bronze",
          "Bronze",
          "Bronze",
          "Bronze",
          "Gold",
          "Silver",
          "Gold",
          "Gold",
          "Silver",
          "Silver",
          "Bronze",
          "Silver",
          "Bronze",
          "Gold",
          "Gold",
          "Gold",
          "Gold",
          "Silver",
          "Silver",
          "Bronze",
          "Gold",
          "Silver",
          "Bronze",
          "Gold",
          "Silver",
          "Bronze",
          "Gold",
          "Silver",
          "Gold",
          "Gold",
          "Bronze",
          "Bronze",
          "Gold",
          "Silver",
          "Bronze",
          "Gold",
          "Gold",
          "Bronze",
          "Gold",
          "Silver",
          "Gold",
          "Gold",
          "Gold",
          "Bronze",
          "Gold",
          "Gold",
          "Gold",
          "Gold",
          "Gold",
          "Gold",
          "Gold",
          "Bronze",
          "Bronze",
          "Silver",
          "Silver",
          "Bronze",
          "Bronze",
          "Bronze",
          "Bronze",
          "Bronze",
          "Bronze",
          "Bronze",
          "Gold",
          "Silver",
          "Bronze",
          "Gold",
          "Silver",
          "Bronze",
          "Silver",
          "Silver",
          "Bronze",
          "Gold",
          "Silver",
          "Bronze",
          "Silver",
          "Silver",
          "Silver",
          "Gold",
          "Bronze",
          "Bronze",
          "Gold",
          "Bronze",
          "Gold",
          "Bronze",
          "Bronze",
          "Bronze",
          "Gold",
          "Silver",
          "Bronze",
          "Gold",
          "Bronze",
          "Bronze",
          "Gold",
          "Silver",
          "Bronze",
          "Gold",
          "Silver",
          "Gold",
          "Gold",
          "Silver",
          "Bronze",
          "Gold",
          "Silver",
          "Gold",
          "Gold",
          "Silver",
          "Bronze",
          "Gold",
          "Silver",
          "Bronze",
          "Gold",
          "Silver",
          "Bronze",
          "Gold",
          "Silver",
          "Bronze",
          "Bronze",
          "Bronze",
          "Bronze",
          "Bronze",
          "Bronze",
          "Bronze",
          "Gold",
          "Silver",
          "Bronze",
          "Gold",
          "Silver",
          "Bronze",
          "Bronze",
          "Silver",
          "Bronze",
          "Gold",
          "Silver",
          "Gold",
          "Silver",
          "Silver",
          "Bronze",
          "Gold",
          "Silver",
          "Silver",
          "Gold",
          "Silver",
          "Bronze",
          "Silver",
          "Silver",
          "Bronze",
          "Gold",
          "Silver",
          "Bronze",
          "Silver",
          "Silver",
          "Bronze",
          "Gold",
          "Bronze",
          "Bronze",
          "Gold",
          "Silver",
          "Bronze",
          "Gold",
          "Silver",
          "Bronze",
          "Gold",
          "Bronze",
          "Bronze",
          "Gold",
          "Silver",
          "Bronze",
          "Bronze",
          "Gold",
          "Silver",
          "Bronze",
          "Gold",
          "Silver",
          "Bronze",
          "Bronze",
          "Bronze",
          "Bronze",
          "Gold",
          "Silver",
          "Gold",
          "Gold",
          "Silver",
          "Bronze",
          "Silver",
          "Silver",
          "Silver",
          "Silver",
          "Silver",
          "Silver",
          "Gold",
          "Silver",
          "Silver",
          "Gold",
          "Silver",
          "Silver",
          "Bronze",
          "Bronze",
          "Bronze",
          "Bronze",
          "Silver",
          "Bronze",
          "Gold",
          "Silver",
          "Bronze",
          "Gold",
          "Silver",
          "Gold",
          "Bronze",
          "Bronze",
          "Bronze",
          "Bronze",
          "Bronze",
          "Bronze",
          "Silver",
          "Silver",
          "Silver",
          "Gold",
          "Silver",
          "Silver",
          "Silver",
          "Silver",
          "Bronze",
          "Gold",
          "Silver",
          "Bronze",
          "Gold",
          "Bronze",
          "Bronze",
          "Gold",
          "Silver",
          "Bronze",
          "Gold",
          "Gold",
          "Gold",
          "Bronze",
          "Bronze",
          "Bronze",
          "Gold",
          "Silver",
          "Bronze",
          "Gold",
          "Gold",
          "Bronze",
          "Gold",
          "Silver",
          "Gold",
          "Bronze",
          "Silver",
          "Bronze",
          "Gold",
          "Silver",
          "Bronze",
          "Bronze",
          "Silver",
          "Bronze",
          "Silver",
          "Silver",
          "Bronze",
          "Silver",
          "Bronze",
          "Silver",
          "Bronze",
          "Gold",
          "Silver",
          "Bronze",
          "Gold",
          "Bronze",
          "Bronze",
          "Silver",
          "Silver",
          "Silver",
          "Gold",
          "Silver",
          "Bronze",
          "Gold",
          "Silver",
          "Bronze",
          "Gold",
          "Silver",
          "Gold",
          "Gold",
          "Gold",
          "Bronze",
          "Gold",
          "Bronze",
          "Bronze",
          "Gold",
          "Silver",
          "Silver",
          "Gold",
          "Silver",
          "Bronze",
          "Gold",
          "Silver",
          "Bronze",
          "Silver",
          "Silver",
          "Silver",
          "Silver",
          "Silver",
          "Bronze",
          "Gold",
          "Silver",
          "Bronze",
          "Silver",
          "Silver",
          "Bronze",
          "Gold",
          "Gold",
          "Bronze",
          "Gold",
          "Bronze",
          "Bronze"
         ],
         "yaxis": "y"
        },
        {
         "hovertemplate": "Sex=1<br>Age=%{x}<br>Predicted Medal=%{y}<extra></extra>",
         "legendgroup": "1",
         "marker": {
          "color": "darkblue",
          "size": 8,
          "symbol": "circle"
         },
         "mode": "markers",
         "name": "1",
         "orientation": "h",
         "showlegend": true,
         "type": "scatter",
         "x": [
          27,
          23,
          25,
          26,
          26,
          26,
          25,
          25,
          24,
          24,
          26,
          24,
          25,
          25,
          29,
          25,
          33,
          24,
          25,
          25,
          24,
          27,
          21,
          21,
          20,
          21,
          20,
          26,
          25,
          21,
          23,
          25,
          20,
          24,
          24,
          29,
          25,
          25,
          22,
          28,
          28,
          28,
          21,
          21,
          21,
          24,
          26,
          26,
          26,
          26,
          26,
          27,
          34,
          27,
          26,
          26,
          26,
          27,
          24,
          27,
          27,
          27,
          27,
          26,
          26,
          26,
          22,
          22,
          23,
          27,
          23,
          24,
          27,
          27,
          27,
          27,
          26,
          26,
          22,
          22,
          22,
          29,
          28,
          28,
          26,
          23,
          25,
          29,
          26,
          19,
          21,
          26,
          27,
          27,
          27,
          23,
          23,
          19,
          28,
          25,
          24,
          24,
          23,
          20,
          27,
          26,
          23,
          31,
          25,
          25,
          21,
          25,
          28,
          20,
          23,
          23,
          24,
          30,
          24,
          23,
          23,
          25,
          25,
          24,
          21,
          28,
          33,
          28,
          29,
          29,
          29,
          32,
          22,
          22,
          28,
          29,
          29,
          22,
          22,
          27,
          23,
          24,
          30,
          21,
          26,
          21,
          26,
          21,
          26,
          34,
          34,
          34,
          32,
          23,
          23,
          31,
          31,
          31,
          25,
          23,
          22,
          23,
          23,
          23,
          31,
          31,
          31,
          31,
          34,
          34,
          27,
          25,
          26,
          25,
          23,
          30,
          22,
          23,
          23,
          25,
          25,
          25,
          20,
          20,
          20,
          22,
          23,
          23,
          19,
          19,
          19,
          24,
          24,
          24,
          21,
          53,
          34,
          27,
          32,
          34,
          24,
          23,
          23,
          26,
          26,
          26,
          26,
          26,
          26,
          27,
          27,
          22,
          23,
          38,
          36,
          21,
          21,
          19,
          40,
          40,
          38,
          31,
          31,
          31,
          19,
          22,
          20,
          25,
          25,
          25,
          19,
          19,
          25,
          28,
          29,
          22,
          26,
          27,
          29,
          23,
          30,
          22,
          25,
          25,
          28,
          22,
          22,
          21,
          30,
          22,
          22,
          24,
          24,
          25,
          24,
          32,
          24,
          27,
          21,
          25,
          29,
          28,
          26,
          25,
          28,
          22,
          23,
          29,
          32,
          25,
          27,
          21,
          27,
          26,
          26,
          28,
          31,
          24,
          22,
          27,
          28,
          28,
          27,
          34,
          30,
          30,
          30,
          25,
          28,
          29,
          30,
          26,
          25,
          25,
          29,
          25,
          26,
          28,
          28,
          27,
          30,
          32,
          27,
          27,
          27,
          24,
          30,
          41,
          24,
          30,
          28,
          23,
          21,
          37,
          37,
          31,
          20,
          26,
          26,
          26,
          21,
          52,
          24,
          28,
          24,
          21,
          21,
          21,
          33,
          33,
          33,
          25,
          21,
          21,
          20,
          24,
          20,
          26,
          21,
          19,
          21,
          21,
          24,
          21,
          25,
          22,
          23,
          19,
          25,
          20,
          23,
          23,
          23,
          19,
          19,
          21,
          19,
          19,
          20,
          19,
          19,
          22,
          22,
          22,
          24,
          20,
          22,
          23,
          21,
          22,
          22,
          36,
          23,
          22,
          22,
          22,
          30,
          30,
          30,
          27,
          27,
          27,
          23,
          26,
          21,
          20,
          20,
          20,
          18,
          20,
          21,
          21,
          26,
          23,
          22,
          22,
          25,
          31,
          34,
          31,
          26,
          37,
          23,
          32,
          32,
          20,
          20,
          24,
          24,
          24,
          24,
          32,
          32,
          29,
          29,
          19,
          22,
          20,
          20,
          20,
          25,
          25,
          25,
          19,
          24,
          23,
          22,
          27,
          27,
          24,
          22,
          21,
          25,
          25,
          25,
          22,
          22,
          26,
          21,
          21,
          31,
          20,
          27,
          25,
          22,
          24,
          24,
          20,
          20,
          31,
          26,
          30,
          30,
          26,
          20,
          26,
          23,
          21,
          26,
          33,
          30,
          33,
          29,
          29,
          25,
          31,
          31,
          31,
          25,
          25,
          22,
          20,
          20,
          27,
          24,
          25,
          26,
          27,
          25,
          26
         ],
         "xaxis": "x",
         "y": [
          "Gold",
          "Silver",
          "Bronze",
          "Silver",
          "Silver",
          "Silver",
          "Gold",
          "Gold",
          "Bronze",
          "Gold",
          "Silver",
          "Bronze",
          "Gold",
          "Gold",
          "Bronze",
          "Gold",
          "Bronze",
          "Bronze",
          "Bronze",
          "Bronze",
          "Bronze",
          "Gold",
          "Silver",
          "Silver",
          "Bronze",
          "Silver",
          "Bronze",
          "Gold",
          "Bronze",
          "Bronze",
          "Gold",
          "Silver",
          "Bronze",
          "Gold",
          "Gold",
          "Bronze",
          "Gold",
          "Gold",
          "Bronze",
          "Bronze",
          "Bronze",
          "Bronze",
          "Bronze",
          "Bronze",
          "Bronze",
          "Gold",
          "Bronze",
          "Bronze",
          "Bronze",
          "Bronze",
          "Bronze",
          "Bronze",
          "Silver",
          "Bronze",
          "Bronze",
          "Bronze",
          "Bronze",
          "Silver",
          "Silver",
          "Silver",
          "Gold",
          "Gold",
          "Gold",
          "Gold",
          "Gold",
          "Gold",
          "Silver",
          "Silver",
          "Bronze",
          "Gold",
          "Silver",
          "Bronze",
          "Bronze",
          "Bronze",
          "Bronze",
          "Gold",
          "Bronze",
          "Bronze",
          "Bronze",
          "Bronze",
          "Bronze",
          "Silver",
          "Gold",
          "Gold",
          "Silver",
          "Bronze",
          "Gold",
          "Gold",
          "Bronze",
          "Bronze",
          "Bronze",
          "Bronze",
          "Silver",
          "Silver",
          "Silver",
          "Silver",
          "Silver",
          "Bronze",
          "Bronze",
          "Silver",
          "Bronze",
          "Gold",
          "Silver",
          "Bronze",
          "Bronze",
          "Silver",
          "Bronze",
          "Gold",
          "Bronze",
          "Bronze",
          "Gold",
          "Silver",
          "Bronze",
          "Gold",
          "Silver",
          "Bronze",
          "Bronze",
          "Silver",
          "Bronze",
          "Gold",
          "Bronze",
          "Bronze",
          "Silver",
          "Silver",
          "Bronze",
          "Bronze",
          "Silver",
          "Bronze",
          "Silver",
          "Silver",
          "Silver",
          "Gold",
          "Gold",
          "Gold",
          "Gold",
          "Silver",
          "Bronze",
          "Silver",
          "Silver",
          "Silver",
          "Silver",
          "Silver",
          "Bronze",
          "Gold",
          "Silver",
          "Gold",
          "Gold",
          "Silver",
          "Gold",
          "Gold",
          "Gold",
          "Gold",
          "Gold",
          "Silver",
          "Bronze",
          "Bronze",
          "Bronze",
          "Bronze",
          "Gold",
          "Silver",
          "Gold",
          "Gold",
          "Gold",
          "Gold",
          "Bronze",
          "Bronze",
          "Bronze",
          "Gold",
          "Gold",
          "Gold",
          "Gold",
          "Bronze",
          "Bronze",
          "Gold",
          "Gold",
          "Bronze",
          "Gold",
          "Silver",
          "Bronze",
          "Gold",
          "Gold",
          "Gold",
          "Gold",
          "Bronze",
          "Bronze",
          "Gold",
          "Silver",
          "Silver",
          "Bronze",
          "Bronze",
          "Bronze",
          "Gold",
          "Gold",
          "Gold",
          "Silver",
          "Silver",
          "Bronze",
          "Gold",
          "Silver",
          "Bronze",
          "Gold",
          "Silver",
          "Bronze",
          "Gold",
          "Gold",
          "Gold",
          "Gold",
          "Gold",
          "Gold",
          "Gold",
          "Silver",
          "Bronze",
          "Gold",
          "Silver",
          "Bronze",
          "Gold",
          "Silver",
          "Bronze",
          "Gold",
          "Gold",
          "Bronze",
          "Silver",
          "Silver",
          "Silver",
          "Gold",
          "Silver",
          "Bronze",
          "Silver",
          "Silver",
          "Silver",
          "Gold",
          "Silver",
          "Bronze",
          "Gold",
          "Silver",
          "Bronze",
          "Gold",
          "Silver",
          "Bronze",
          "Gold",
          "Silver",
          "Bronze",
          "Silver",
          "Silver",
          "Bronze",
          "Gold",
          "Gold",
          "Gold",
          "Bronze",
          "Silver",
          "Bronze",
          "Gold",
          "Gold",
          "Gold",
          "Gold",
          "Bronze",
          "Bronze",
          "Gold",
          "Silver",
          "Bronze",
          "Gold",
          "Silver",
          "Bronze",
          "Gold",
          "Silver",
          "Bronze",
          "Gold",
          "Silver",
          "Bronze",
          "Gold",
          "Silver",
          "Bronze",
          "Gold",
          "Bronze",
          "Bronze",
          "Gold",
          "Silver",
          "Bronze",
          "Gold",
          "Silver",
          "Bronze",
          "Gold",
          "Silver",
          "Bronze",
          "Gold",
          "Gold",
          "Gold",
          "Gold",
          "Silver",
          "Bronze",
          "Gold",
          "Silver",
          "Bronze",
          "Bronze",
          "Silver",
          "Bronze",
          "Bronze",
          "Bronze",
          "Bronze",
          "Gold",
          "Silver",
          "Bronze",
          "Bronze",
          "Bronze",
          "Bronze",
          "Gold",
          "Bronze",
          "Gold",
          "Gold",
          "Bronze",
          "Gold",
          "Gold",
          "Bronze",
          "Gold",
          "Gold",
          "Gold",
          "Gold",
          "Bronze",
          "Bronze",
          "Gold",
          "Silver",
          "Bronze",
          "Bronze",
          "Silver",
          "Bronze",
          "Bronze",
          "Bronze",
          "Bronze",
          "Silver",
          "Silver",
          "Bronze",
          "Gold",
          "Silver",
          "Bronze",
          "Bronze",
          "Silver",
          "Bronze",
          "Gold",
          "Silver",
          "Bronze",
          "Silver",
          "Silver",
          "Bronze",
          "Silver",
          "Silver",
          "Bronze",
          "Gold",
          "Silver",
          "Bronze",
          "Gold",
          "Bronze",
          "Bronze",
          "Bronze",
          "Bronze",
          "Bronze",
          "Gold",
          "Bronze",
          "Bronze",
          "Gold",
          "Silver",
          "Silver",
          "Bronze",
          "Bronze",
          "Bronze",
          "Gold",
          "Silver",
          "Bronze",
          "Gold",
          "Silver",
          "Bronze",
          "Gold",
          "Gold",
          "Bronze",
          "Gold",
          "Gold",
          "Gold",
          "Bronze",
          "Bronze",
          "Bronze",
          "Bronze",
          "Bronze",
          "Bronze",
          "Gold",
          "Silver",
          "Gold",
          "Silver",
          "Silver",
          "Silver",
          "Gold",
          "Bronze",
          "Bronze",
          "Gold",
          "Gold",
          "Bronze",
          "Silver",
          "Silver",
          "Bronze",
          "Gold",
          "Silver",
          "Gold",
          "Bronze",
          "Silver",
          "Bronze",
          "Gold",
          "Gold",
          "Silver",
          "Silver",
          "Bronze",
          "Bronze",
          "Bronze",
          "Bronze",
          "Gold",
          "Silver",
          "Bronze",
          "Gold",
          "Silver",
          "Bronze",
          "Silver",
          "Silver",
          "Silver",
          "Bronze",
          "Bronze",
          "Bronze",
          "Gold",
          "Silver",
          "Silver",
          "Gold",
          "Gold",
          "Gold",
          "Gold",
          "Silver",
          "Bronze",
          "Silver",
          "Silver",
          "Silver",
          "Silver",
          "Silver",
          "Bronze",
          "Gold",
          "Gold",
          "Bronze",
          "Gold",
          "Silver",
          "Bronze",
          "Gold",
          "Bronze",
          "Bronze",
          "Silver",
          "Silver",
          "Bronze",
          "Gold",
          "Bronze",
          "Bronze",
          "Gold",
          "Silver",
          "Gold",
          "Gold",
          "Bronze",
          "Bronze",
          "Bronze",
          "Silver",
          "Bronze",
          "Gold",
          "Gold",
          "Bronze",
          "Silver",
          "Silver",
          "Silver",
          "Silver",
          "Silver",
          "Bronze",
          "Bronze",
          "Bronze",
          "Bronze",
          "Bronze",
          "Silver",
          "Bronze",
          "Gold",
          "Silver",
          "Bronze"
         ],
         "yaxis": "y"
        }
       ],
       "layout": {
        "legend": {
         "title": {
          "text": "Sex"
         },
         "tracegroupgap": 0
        },
        "template": {
         "data": {
          "bar": [
           {
            "error_x": {
             "color": "#2a3f5f"
            },
            "error_y": {
             "color": "#2a3f5f"
            },
            "marker": {
             "line": {
              "color": "#E5ECF6",
              "width": 0.5
             },
             "pattern": {
              "fillmode": "overlay",
              "size": 10,
              "solidity": 0.2
             }
            },
            "type": "bar"
           }
          ],
          "barpolar": [
           {
            "marker": {
             "line": {
              "color": "#E5ECF6",
              "width": 0.5
             },
             "pattern": {
              "fillmode": "overlay",
              "size": 10,
              "solidity": 0.2
             }
            },
            "type": "barpolar"
           }
          ],
          "carpet": [
           {
            "aaxis": {
             "endlinecolor": "#2a3f5f",
             "gridcolor": "white",
             "linecolor": "white",
             "minorgridcolor": "white",
             "startlinecolor": "#2a3f5f"
            },
            "baxis": {
             "endlinecolor": "#2a3f5f",
             "gridcolor": "white",
             "linecolor": "white",
             "minorgridcolor": "white",
             "startlinecolor": "#2a3f5f"
            },
            "type": "carpet"
           }
          ],
          "choropleth": [
           {
            "colorbar": {
             "outlinewidth": 0,
             "ticks": ""
            },
            "type": "choropleth"
           }
          ],
          "contour": [
           {
            "colorbar": {
             "outlinewidth": 0,
             "ticks": ""
            },
            "colorscale": [
             [
              0,
              "#0d0887"
             ],
             [
              0.1111111111111111,
              "#46039f"
             ],
             [
              0.2222222222222222,
              "#7201a8"
             ],
             [
              0.3333333333333333,
              "#9c179e"
             ],
             [
              0.4444444444444444,
              "#bd3786"
             ],
             [
              0.5555555555555556,
              "#d8576b"
             ],
             [
              0.6666666666666666,
              "#ed7953"
             ],
             [
              0.7777777777777778,
              "#fb9f3a"
             ],
             [
              0.8888888888888888,
              "#fdca26"
             ],
             [
              1,
              "#f0f921"
             ]
            ],
            "type": "contour"
           }
          ],
          "contourcarpet": [
           {
            "colorbar": {
             "outlinewidth": 0,
             "ticks": ""
            },
            "type": "contourcarpet"
           }
          ],
          "heatmap": [
           {
            "colorbar": {
             "outlinewidth": 0,
             "ticks": ""
            },
            "colorscale": [
             [
              0,
              "#0d0887"
             ],
             [
              0.1111111111111111,
              "#46039f"
             ],
             [
              0.2222222222222222,
              "#7201a8"
             ],
             [
              0.3333333333333333,
              "#9c179e"
             ],
             [
              0.4444444444444444,
              "#bd3786"
             ],
             [
              0.5555555555555556,
              "#d8576b"
             ],
             [
              0.6666666666666666,
              "#ed7953"
             ],
             [
              0.7777777777777778,
              "#fb9f3a"
             ],
             [
              0.8888888888888888,
              "#fdca26"
             ],
             [
              1,
              "#f0f921"
             ]
            ],
            "type": "heatmap"
           }
          ],
          "heatmapgl": [
           {
            "colorbar": {
             "outlinewidth": 0,
             "ticks": ""
            },
            "colorscale": [
             [
              0,
              "#0d0887"
             ],
             [
              0.1111111111111111,
              "#46039f"
             ],
             [
              0.2222222222222222,
              "#7201a8"
             ],
             [
              0.3333333333333333,
              "#9c179e"
             ],
             [
              0.4444444444444444,
              "#bd3786"
             ],
             [
              0.5555555555555556,
              "#d8576b"
             ],
             [
              0.6666666666666666,
              "#ed7953"
             ],
             [
              0.7777777777777778,
              "#fb9f3a"
             ],
             [
              0.8888888888888888,
              "#fdca26"
             ],
             [
              1,
              "#f0f921"
             ]
            ],
            "type": "heatmapgl"
           }
          ],
          "histogram": [
           {
            "marker": {
             "pattern": {
              "fillmode": "overlay",
              "size": 10,
              "solidity": 0.2
             }
            },
            "type": "histogram"
           }
          ],
          "histogram2d": [
           {
            "colorbar": {
             "outlinewidth": 0,
             "ticks": ""
            },
            "colorscale": [
             [
              0,
              "#0d0887"
             ],
             [
              0.1111111111111111,
              "#46039f"
             ],
             [
              0.2222222222222222,
              "#7201a8"
             ],
             [
              0.3333333333333333,
              "#9c179e"
             ],
             [
              0.4444444444444444,
              "#bd3786"
             ],
             [
              0.5555555555555556,
              "#d8576b"
             ],
             [
              0.6666666666666666,
              "#ed7953"
             ],
             [
              0.7777777777777778,
              "#fb9f3a"
             ],
             [
              0.8888888888888888,
              "#fdca26"
             ],
             [
              1,
              "#f0f921"
             ]
            ],
            "type": "histogram2d"
           }
          ],
          "histogram2dcontour": [
           {
            "colorbar": {
             "outlinewidth": 0,
             "ticks": ""
            },
            "colorscale": [
             [
              0,
              "#0d0887"
             ],
             [
              0.1111111111111111,
              "#46039f"
             ],
             [
              0.2222222222222222,
              "#7201a8"
             ],
             [
              0.3333333333333333,
              "#9c179e"
             ],
             [
              0.4444444444444444,
              "#bd3786"
             ],
             [
              0.5555555555555556,
              "#d8576b"
             ],
             [
              0.6666666666666666,
              "#ed7953"
             ],
             [
              0.7777777777777778,
              "#fb9f3a"
             ],
             [
              0.8888888888888888,
              "#fdca26"
             ],
             [
              1,
              "#f0f921"
             ]
            ],
            "type": "histogram2dcontour"
           }
          ],
          "mesh3d": [
           {
            "colorbar": {
             "outlinewidth": 0,
             "ticks": ""
            },
            "type": "mesh3d"
           }
          ],
          "parcoords": [
           {
            "line": {
             "colorbar": {
              "outlinewidth": 0,
              "ticks": ""
             }
            },
            "type": "parcoords"
           }
          ],
          "pie": [
           {
            "automargin": true,
            "type": "pie"
           }
          ],
          "scatter": [
           {
            "fillpattern": {
             "fillmode": "overlay",
             "size": 10,
             "solidity": 0.2
            },
            "type": "scatter"
           }
          ],
          "scatter3d": [
           {
            "line": {
             "colorbar": {
              "outlinewidth": 0,
              "ticks": ""
             }
            },
            "marker": {
             "colorbar": {
              "outlinewidth": 0,
              "ticks": ""
             }
            },
            "type": "scatter3d"
           }
          ],
          "scattercarpet": [
           {
            "marker": {
             "colorbar": {
              "outlinewidth": 0,
              "ticks": ""
             }
            },
            "type": "scattercarpet"
           }
          ],
          "scattergeo": [
           {
            "marker": {
             "colorbar": {
              "outlinewidth": 0,
              "ticks": ""
             }
            },
            "type": "scattergeo"
           }
          ],
          "scattergl": [
           {
            "marker": {
             "colorbar": {
              "outlinewidth": 0,
              "ticks": ""
             }
            },
            "type": "scattergl"
           }
          ],
          "scattermapbox": [
           {
            "marker": {
             "colorbar": {
              "outlinewidth": 0,
              "ticks": ""
             }
            },
            "type": "scattermapbox"
           }
          ],
          "scatterpolar": [
           {
            "marker": {
             "colorbar": {
              "outlinewidth": 0,
              "ticks": ""
             }
            },
            "type": "scatterpolar"
           }
          ],
          "scatterpolargl": [
           {
            "marker": {
             "colorbar": {
              "outlinewidth": 0,
              "ticks": ""
             }
            },
            "type": "scatterpolargl"
           }
          ],
          "scatterternary": [
           {
            "marker": {
             "colorbar": {
              "outlinewidth": 0,
              "ticks": ""
             }
            },
            "type": "scatterternary"
           }
          ],
          "surface": [
           {
            "colorbar": {
             "outlinewidth": 0,
             "ticks": ""
            },
            "colorscale": [
             [
              0,
              "#0d0887"
             ],
             [
              0.1111111111111111,
              "#46039f"
             ],
             [
              0.2222222222222222,
              "#7201a8"
             ],
             [
              0.3333333333333333,
              "#9c179e"
             ],
             [
              0.4444444444444444,
              "#bd3786"
             ],
             [
              0.5555555555555556,
              "#d8576b"
             ],
             [
              0.6666666666666666,
              "#ed7953"
             ],
             [
              0.7777777777777778,
              "#fb9f3a"
             ],
             [
              0.8888888888888888,
              "#fdca26"
             ],
             [
              1,
              "#f0f921"
             ]
            ],
            "type": "surface"
           }
          ],
          "table": [
           {
            "cells": {
             "fill": {
              "color": "#EBF0F8"
             },
             "line": {
              "color": "white"
             }
            },
            "header": {
             "fill": {
              "color": "#C8D4E3"
             },
             "line": {
              "color": "white"
             }
            },
            "type": "table"
           }
          ]
         },
         "layout": {
          "annotationdefaults": {
           "arrowcolor": "#2a3f5f",
           "arrowhead": 0,
           "arrowwidth": 1
          },
          "autotypenumbers": "strict",
          "coloraxis": {
           "colorbar": {
            "outlinewidth": 0,
            "ticks": ""
           }
          },
          "colorscale": {
           "diverging": [
            [
             0,
             "#8e0152"
            ],
            [
             0.1,
             "#c51b7d"
            ],
            [
             0.2,
             "#de77ae"
            ],
            [
             0.3,
             "#f1b6da"
            ],
            [
             0.4,
             "#fde0ef"
            ],
            [
             0.5,
             "#f7f7f7"
            ],
            [
             0.6,
             "#e6f5d0"
            ],
            [
             0.7,
             "#b8e186"
            ],
            [
             0.8,
             "#7fbc41"
            ],
            [
             0.9,
             "#4d9221"
            ],
            [
             1,
             "#276419"
            ]
           ],
           "sequential": [
            [
             0,
             "#0d0887"
            ],
            [
             0.1111111111111111,
             "#46039f"
            ],
            [
             0.2222222222222222,
             "#7201a8"
            ],
            [
             0.3333333333333333,
             "#9c179e"
            ],
            [
             0.4444444444444444,
             "#bd3786"
            ],
            [
             0.5555555555555556,
             "#d8576b"
            ],
            [
             0.6666666666666666,
             "#ed7953"
            ],
            [
             0.7777777777777778,
             "#fb9f3a"
            ],
            [
             0.8888888888888888,
             "#fdca26"
            ],
            [
             1,
             "#f0f921"
            ]
           ],
           "sequentialminus": [
            [
             0,
             "#0d0887"
            ],
            [
             0.1111111111111111,
             "#46039f"
            ],
            [
             0.2222222222222222,
             "#7201a8"
            ],
            [
             0.3333333333333333,
             "#9c179e"
            ],
            [
             0.4444444444444444,
             "#bd3786"
            ],
            [
             0.5555555555555556,
             "#d8576b"
            ],
            [
             0.6666666666666666,
             "#ed7953"
            ],
            [
             0.7777777777777778,
             "#fb9f3a"
            ],
            [
             0.8888888888888888,
             "#fdca26"
            ],
            [
             1,
             "#f0f921"
            ]
           ]
          },
          "colorway": [
           "#636efa",
           "#EF553B",
           "#00cc96",
           "#ab63fa",
           "#FFA15A",
           "#19d3f3",
           "#FF6692",
           "#B6E880",
           "#FF97FF",
           "#FECB52"
          ],
          "font": {
           "color": "#2a3f5f"
          },
          "geo": {
           "bgcolor": "white",
           "lakecolor": "white",
           "landcolor": "#E5ECF6",
           "showlakes": true,
           "showland": true,
           "subunitcolor": "white"
          },
          "hoverlabel": {
           "align": "left"
          },
          "hovermode": "closest",
          "mapbox": {
           "style": "light"
          },
          "paper_bgcolor": "white",
          "plot_bgcolor": "#E5ECF6",
          "polar": {
           "angularaxis": {
            "gridcolor": "white",
            "linecolor": "white",
            "ticks": ""
           },
           "bgcolor": "#E5ECF6",
           "radialaxis": {
            "gridcolor": "white",
            "linecolor": "white",
            "ticks": ""
           }
          },
          "scene": {
           "xaxis": {
            "backgroundcolor": "#E5ECF6",
            "gridcolor": "white",
            "gridwidth": 2,
            "linecolor": "white",
            "showbackground": true,
            "ticks": "",
            "zerolinecolor": "white"
           },
           "yaxis": {
            "backgroundcolor": "#E5ECF6",
            "gridcolor": "white",
            "gridwidth": 2,
            "linecolor": "white",
            "showbackground": true,
            "ticks": "",
            "zerolinecolor": "white"
           },
           "zaxis": {
            "backgroundcolor": "#E5ECF6",
            "gridcolor": "white",
            "gridwidth": 2,
            "linecolor": "white",
            "showbackground": true,
            "ticks": "",
            "zerolinecolor": "white"
           }
          },
          "shapedefaults": {
           "line": {
            "color": "#2a3f5f"
           }
          },
          "ternary": {
           "aaxis": {
            "gridcolor": "white",
            "linecolor": "white",
            "ticks": ""
           },
           "baxis": {
            "gridcolor": "white",
            "linecolor": "white",
            "ticks": ""
           },
           "bgcolor": "#E5ECF6",
           "caxis": {
            "gridcolor": "white",
            "linecolor": "white",
            "ticks": ""
           }
          },
          "title": {
           "x": 0.05
          },
          "xaxis": {
           "automargin": true,
           "gridcolor": "white",
           "linecolor": "white",
           "ticks": "",
           "title": {
            "standoff": 15
           },
           "zerolinecolor": "white",
           "zerolinewidth": 2
          },
          "yaxis": {
           "automargin": true,
           "gridcolor": "white",
           "linecolor": "white",
           "ticks": "",
           "title": {
            "standoff": 15
           },
           "zerolinecolor": "white",
           "zerolinewidth": 2
          }
         }
        },
        "title": {
         "text": "Age vs Predicted Medal by Sex"
        },
        "xaxis": {
         "anchor": "y",
         "domain": [
          0,
          1
         ],
         "title": {
          "text": "Age"
         }
        },
        "yaxis": {
         "anchor": "x",
         "categoryarray": [
          "Gold",
          "Silver",
          "Bronze"
         ],
         "categoryorder": "array",
         "domain": [
          0,
          1
         ],
         "title": {
          "text": "Predicted Medal"
         }
        }
       }
      }
     },
     "metadata": {},
     "output_type": "display_data"
    }
   ],
   "source": [
    "# Scatter plot of Age vs predicted medal, colored by host status\n",
    "fig = px.scatter(df, x='Age', y='pred_medal', color='Sex', title='Age vs Predicted Medal by Sex',\n",
    "                 labels={'Age': 'Age', 'pred_medal': 'Predicted Medal', 'Sex': 'Sex'},\n",
    "                 color_discrete_sequence=['magenta', 'darkblue'],\n",
    "                 category_orders={'pred_medal': ['Bronze', 'Silver', 'Gold'], 'Sex': ['M', 'F']})\n",
    "fig.update_traces(marker=dict(size=8))\n",
    "fig.update_layout(xaxis_title='Age', yaxis_title='Predicted Medal', legend_title='Sex')\n",
    "fig.show()\n"
   ]
  },
  {
   "cell_type": "code",
   "execution_count": 6,
   "metadata": {},
   "outputs": [
    {
     "data": {
      "application/vnd.plotly.v1+json": {
       "config": {
        "plotlyServerURL": "https://plot.ly"
       },
       "data": [
        {
         "hovertemplate": "pred_medal=Bronze<br>Age=%{x}<br>Height=%{y}<extra></extra>",
         "legendgroup": "Bronze",
         "marker": {
          "color": "#636efa",
          "symbol": "circle"
         },
         "mode": "markers",
         "name": "Bronze",
         "orientation": "v",
         "showlegend": true,
         "type": "scatter",
         "x": [
          27,
          27,
          27,
          25,
          26,
          24,
          24,
          29,
          33,
          24,
          25,
          25,
          24,
          20,
          20,
          25,
          21,
          20,
          29,
          22,
          28,
          28,
          28,
          21,
          21,
          21,
          26,
          26,
          26,
          26,
          26,
          27,
          27,
          26,
          26,
          26,
          23,
          24,
          27,
          27,
          27,
          19,
          28,
          22,
          20,
          29,
          25,
          31,
          25,
          29,
          24,
          24,
          24,
          26,
          25,
          25,
          25,
          32,
          26,
          26,
          26,
          27,
          27,
          26,
          26,
          22,
          22,
          22,
          21,
          21,
          23,
          28,
          26,
          19,
          21,
          26,
          19,
          28,
          24,
          20,
          27,
          23,
          25,
          25,
          28,
          23,
          24,
          24,
          23,
          25,
          27,
          27,
          23,
          26,
          21,
          28,
          28,
          29,
          30,
          23,
          24,
          31,
          31,
          31,
          31,
          31,
          31,
          25,
          26,
          30,
          23,
          25,
          25,
          35,
          26,
          26,
          26,
          24,
          26,
          24,
          23,
          29,
          20,
          20,
          19,
          19,
          19,
          17,
          20,
          23,
          23,
          28,
          34,
          34,
          23,
          22,
          36,
          27,
          27,
          27,
          30,
          26,
          26,
          25,
          19,
          27,
          38,
          20,
          25,
          16,
          16,
          22,
          25,
          29,
          27,
          22,
          28,
          30,
          22,
          32,
          24,
          25,
          25,
          24,
          21,
          25,
          25,
          25,
          27,
          27,
          25,
          29,
          26,
          26,
          25,
          23,
          22,
          32,
          21,
          26,
          26,
          24,
          28,
          34,
          24,
          23,
          29,
          29,
          27,
          24,
          27,
          27,
          29,
          27,
          25,
          25,
          25,
          26,
          28,
          28,
          32,
          27,
          27,
          27,
          23,
          30,
          25,
          21,
          29,
          29,
          31,
          30,
          21,
          26,
          26,
          52,
          24,
          24,
          21,
          21,
          21,
          33,
          47,
          21,
          20,
          20,
          19,
          24,
          22,
          25,
          23,
          23,
          23,
          19,
          19,
          19,
          19,
          22,
          22,
          22,
          22,
          22,
          23,
          30,
          30,
          30,
          25,
          33,
          25,
          22,
          20,
          27,
          16,
          16,
          16,
          25,
          25,
          25,
          16,
          19,
          21,
          22,
          28,
          25,
          25,
          25,
          25,
          27,
          27,
          27,
          21,
          20,
          21,
          23,
          25,
          25,
          25,
          18,
          20,
          24,
          23,
          26,
          23,
          26,
          26,
          27,
          24,
          27,
          27,
          24,
          24,
          24,
          29,
          27,
          22,
          29,
          25,
          25,
          25,
          21,
          26,
          31,
          31,
          24,
          18,
          23,
          28,
          25,
          24,
          24,
          31,
          30,
          30,
          21,
          26,
          33,
          33,
          25,
          22,
          20,
          20,
          27,
          24,
          26,
          26,
          21,
          29,
          24,
          31,
          21,
          36
         ],
         "xaxis": "x",
         "y": [
          172,
          172,
          172,
          174,
          165,
          181,
          170,
          181,
          185,
          187,
          185,
          185,
          198,
          180,
          180,
          180,
          191,
          193,
          191,
          171,
          180,
          180,
          180,
          180,
          180,
          180,
          185,
          185,
          207,
          207,
          207,
          196,
          196,
          198,
          198,
          198,
          185,
          185,
          180,
          180,
          180,
          172,
          170,
          160,
          164,
          166,
          173,
          178,
          173,
          170,
          166,
          166,
          166,
          175,
          170,
          170,
          170,
          170,
          176,
          176,
          176,
          172,
          172,
          175,
          175,
          194,
          194,
          194,
          173,
          156,
          198,
          170,
          198,
          173,
          165,
          165,
          168,
          185,
          186,
          165,
          185,
          185,
          172,
          172,
          170,
          180,
          198,
          198,
          180,
          179,
          160,
          160,
          173,
          180,
          187,
          171,
          175,
          175,
          184,
          173,
          181,
          180,
          180,
          180,
          175,
          175,
          175,
          186,
          173,
          177,
          191,
          165,
          165,
          166,
          176,
          176,
          176,
          170,
          167,
          170,
          170,
          167,
          168,
          168,
          167,
          167,
          167,
          164,
          167,
          168,
          168,
          163,
          190,
          180,
          182,
          180,
          188,
          167,
          167,
          167,
          170,
          183,
          183,
          176,
          170,
          160,
          193,
          163,
          170,
          140,
          151,
          194,
          168,
          186,
          173,
          172,
          189,
          181,
          181,
          173,
          170,
          185,
          153,
          170,
          156,
          178,
          178,
          178,
          160,
          169,
          172,
          182,
          173,
          178,
          170,
          173,
          201,
          195,
          198,
          193,
          193,
          187,
          175,
          184,
          186,
          186,
          180,
          180,
          173,
          182,
          170,
          180,
          182,
          165,
          183,
          191,
          191,
          185,
          181,
          181,
          184,
          186,
          186,
          186,
          167,
          180,
          170,
          173,
          179,
          179,
          159,
          167,
          171,
          173,
          173,
          183,
          179,
          179,
          172,
          172,
          172,
          180,
          168,
          184,
          183,
          183,
          184,
          180,
          184,
          194,
          187,
          187,
          180,
          188,
          188,
          186,
          186,
          191,
          191,
          191,
          185,
          183,
          172,
          197,
          197,
          197,
          170,
          165,
          170,
          182,
          173,
          174,
          185,
          185,
          185,
          173,
          173,
          173,
          180,
          173,
          178,
          172,
          178,
          169,
          169,
          169,
          176,
          172,
          172,
          172,
          161,
          188,
          182,
          190,
          197,
          176,
          176,
          173,
          178,
          182,
          176,
          188,
          191,
          183,
          183,
          170,
          170,
          155,
          155,
          170,
          170,
          170,
          208,
          178,
          190,
          176,
          160,
          160,
          160,
          165,
          165,
          182,
          169,
          163,
          155,
          160,
          178,
          168,
          160,
          160,
          188,
          180,
          180,
          184,
          176,
          167,
          167,
          170,
          198,
          187,
          187,
          192,
          172,
          170,
          170,
          151,
          169,
          172,
          160,
          160,
          167
         ],
         "yaxis": "y"
        },
        {
         "hovertemplate": "pred_medal=Gold<br>Age=%{x}<br>Height=%{y}<extra></extra>",
         "legendgroup": "Gold",
         "marker": {
          "color": "#EF553B",
          "symbol": "circle"
         },
         "mode": "markers",
         "name": "Gold",
         "orientation": "v",
         "showlegend": true,
         "type": "scatter",
         "x": [
          27,
          20,
          25,
          25,
          24,
          25,
          25,
          25,
          27,
          26,
          23,
          24,
          24,
          25,
          25,
          24,
          27,
          27,
          27,
          26,
          26,
          26,
          27,
          26,
          25,
          21,
          27,
          31,
          31,
          30,
          22,
          29,
          23,
          23,
          23,
          26,
          26,
          21,
          21,
          32,
          32,
          24,
          20,
          20,
          20,
          27,
          27,
          28,
          21,
          28,
          20,
          25,
          29,
          29,
          33,
          24,
          31,
          21,
          20,
          23,
          34,
          25,
          28,
          28,
          32,
          22,
          22,
          28,
          21,
          21,
          26,
          26,
          34,
          34,
          34,
          32,
          23,
          24,
          29,
          29,
          20,
          20,
          20,
          27,
          27,
          27,
          25,
          22,
          23,
          23,
          23,
          31,
          34,
          34,
          27,
          25,
          23,
          22,
          25,
          25,
          25,
          25,
          24,
          21,
          20,
          22,
          24,
          24,
          24,
          26,
          30,
          40,
          23,
          27,
          24,
          26,
          26,
          26,
          26,
          26,
          26,
          27,
          23,
          23,
          26,
          25,
          28,
          28,
          21,
          22,
          40,
          40,
          26,
          26,
          19,
          19,
          17,
          16,
          28,
          22,
          26,
          23,
          23,
          22,
          22,
          21,
          24,
          24,
          25,
          24,
          27,
          21,
          23,
          25,
          25,
          29,
          27,
          24,
          25,
          23,
          25,
          27,
          28,
          22,
          28,
          30,
          30,
          30,
          29,
          27,
          34,
          32,
          31,
          25,
          21,
          30,
          27,
          24,
          26,
          23,
          27,
          19,
          41,
          24,
          28,
          23,
          37,
          37,
          31,
          20,
          26,
          33,
          27,
          28,
          25,
          26,
          23,
          20,
          21,
          20,
          24,
          23,
          22,
          36,
          22,
          22,
          22,
          21,
          21,
          23,
          22,
          21,
          25,
          20,
          23,
          23,
          23,
          23,
          23,
          21,
          22,
          33,
          15,
          15,
          18,
          21,
          26,
          18,
          31,
          31,
          32,
          32,
          35,
          25,
          32,
          34,
          29,
          30,
          19,
          22,
          27,
          27,
          24,
          21,
          21,
          21,
          21,
          20,
          20,
          22,
          25,
          22,
          23,
          20,
          22,
          26,
          26,
          26,
          23,
          29,
          29,
          27,
          29,
          23,
          23,
          23
         ],
         "xaxis": "x",
         "y": [
          180,
          169,
          168,
          168,
          177,
          182,
          182,
          175,
          188,
          188,
          195,
          175,
          175,
          175,
          175,
          186,
          183,
          183,
          183,
          175,
          175,
          175,
          183,
          160,
          168,
          165,
          170,
          162,
          162,
          170,
          173,
          171,
          166,
          166,
          166,
          180,
          180,
          170,
          170,
          155,
          155,
          173,
          192,
          192,
          192,
          180,
          166,
          175,
          179,
          213,
          185,
          183,
          185,
          178,
          182,
          165,
          185,
          174,
          177,
          174,
          158,
          167,
          180,
          180,
          193,
          175,
          175,
          196,
          199,
          199,
          174,
          174,
          191,
          191,
          191,
          177,
          178,
          167,
          165,
          165,
          169,
          169,
          169,
          172,
          172,
          172,
          187,
          178,
          188,
          188,
          188,
          183,
          171,
          171,
          177,
          183,
          187,
          184,
          180,
          180,
          180,
          158,
          171,
          176,
          188,
          173,
          175,
          175,
          175,
          150,
          163,
          173,
          165,
          180,
          190,
          177,
          177,
          177,
          173,
          173,
          173,
          190,
          184,
          169,
          165,
          167,
          176,
          176,
          183,
          172,
          188,
          188,
          170,
          170,
          166,
          170,
          146,
          152,
          202,
          178,
          184,
          172,
          167,
          169,
          169,
          160,
          191,
          191,
          193,
          179,
          187,
          160,
          164,
          160,
          160,
          192,
          182,
          175,
          190,
          194,
          187,
          202,
          182,
          177,
          190,
          190,
          190,
          190,
          172,
          182,
          165,
          184,
          183,
          181,
          168,
          178,
          193,
          185,
          184,
          178,
          172,
          170,
          175,
          169,
          178,
          176,
          170,
          170,
          172,
          189,
          176,
          158,
          164,
          181,
          185,
          184,
          187,
          187,
          181,
          187,
          190,
          188,
          185,
          185,
          193,
          193,
          193,
          178,
          179,
          167,
          180,
          173,
          175,
          178,
          173,
          173,
          173,
          174,
          177,
          162,
          168,
          170,
          150,
          150,
          176,
          207,
          200,
          172,
          192,
          180,
          193,
          193,
          170,
          172,
          206,
          194,
          195,
          178,
          181,
          172,
          170,
          170,
          173,
          180,
          180,
          147,
          147,
          165,
          165,
          155,
          149,
          159,
          170,
          163,
          165,
          190,
          179,
          179,
          174,
          173,
          173,
          166,
          174,
          164,
          164,
          163
         ],
         "yaxis": "y"
        },
        {
         "hovertemplate": "pred_medal=Silver<br>Age=%{x}<br>Height=%{y}<extra></extra>",
         "legendgroup": "Silver",
         "marker": {
          "color": "#00cc96",
          "symbol": "circle"
         },
         "mode": "markers",
         "name": "Silver",
         "orientation": "v",
         "showlegend": true,
         "type": "scatter",
         "x": [
          23,
          29,
          26,
          26,
          26,
          26,
          21,
          21,
          21,
          25,
          34,
          27,
          24,
          27,
          22,
          22,
          23,
          22,
          24,
          24,
          29,
          29,
          19,
          20,
          22,
          22,
          22,
          22,
          26,
          37,
          37,
          21,
          21,
          27,
          37,
          31,
          26,
          19,
          30,
          29,
          26,
          26,
          23,
          26,
          21,
          25,
          27,
          27,
          27,
          23,
          23,
          25,
          23,
          26,
          25,
          23,
          30,
          23,
          25,
          24,
          33,
          29,
          29,
          29,
          29,
          22,
          22,
          27,
          23,
          24,
          26,
          21,
          23,
          26,
          23,
          23,
          22,
          22,
          22,
          21,
          23,
          23,
          15,
          15,
          24,
          18,
          18,
          18,
          21,
          53,
          32,
          23,
          27,
          38,
          22,
          27,
          32,
          21,
          26,
          28,
          31,
          31,
          31,
          22,
          25,
          25,
          25,
          19,
          19,
          18,
          29,
          26,
          27,
          27,
          30,
          25,
          25,
          22,
          21,
          25,
          25,
          28,
          24,
          26,
          26,
          28,
          24,
          24,
          18,
          18,
          20,
          28,
          29,
          27,
          31,
          27,
          27,
          27,
          25,
          25,
          32,
          25,
          28,
          28,
          26,
          29,
          30,
          29,
          25,
          31,
          21,
          28,
          33,
          33,
          25,
          19,
          19,
          19,
          33,
          33,
          33,
          33,
          33,
          26,
          26,
          21,
          24,
          21,
          21,
          21,
          21,
          25,
          19,
          19,
          19,
          20,
          21,
          22,
          19,
          22,
          27,
          27,
          27,
          27,
          27,
          22,
          19,
          20,
          22,
          21,
          26,
          25,
          20,
          20,
          20,
          22,
          22,
          23,
          22,
          22,
          28,
          28,
          34,
          37,
          31,
          28,
          22,
          20,
          20,
          30,
          30,
          30,
          32,
          24,
          19,
          22,
          20,
          20,
          20,
          24,
          23,
          22,
          25,
          25,
          25,
          22,
          22,
          21,
          21,
          21,
          23,
          27,
          27,
          20,
          20,
          20,
          30,
          31,
          31,
          31,
          25,
          25,
          25,
          25,
          24,
          24,
          24,
          26,
          22,
          27,
          21,
          21
         ],
         "xaxis": "x",
         "y": [
          181,
          158,
          176,
          176,
          176,
          183,
          167,
          167,
          178,
          173,
          187,
          175,
          192,
          175,
          183,
          183,
          201,
          157,
          167,
          165,
          160,
          160,
          162,
          160,
          163,
          163,
          173,
          185,
          173,
          180,
          180,
          184,
          184,
          175,
          191,
          160,
          173,
          179,
          176,
          179,
          172,
          172,
          172,
          201,
          193,
          184,
          171,
          171,
          171,
          168,
          169,
          196,
          156,
          182,
          169,
          178,
          197,
          168,
          175,
          188,
          189,
          185,
          185,
          185,
          181,
          186,
          186,
          176,
          189,
          188,
          182,
          184,
          182,
          176,
          183,
          181,
          165,
          165,
          185,
          168,
          172,
          172,
          162,
          162,
          159,
          157,
          157,
          157,
          193,
          173,
          176,
          177,
          197,
          186,
          175,
          178,
          168,
          188,
          175,
          168,
          155,
          155,
          155,
          161,
          164,
          164,
          164,
          162,
          143,
          156,
          200,
          175,
          173,
          168,
          166,
          186,
          197,
          182,
          178,
          162,
          162,
          170,
          169,
          168,
          168,
          185,
          168,
          168,
          168,
          170,
          170,
          196,
          197,
          200,
          187,
          178,
          193,
          183,
          183,
          183,
          173,
          173,
          198,
          168,
          180,
          197,
          173,
          164,
          168,
          169,
          176,
          179,
          178,
          178,
          162,
          155,
          155,
          155,
          175,
          175,
          175,
          162,
          162,
          172,
          172,
          191,
          189,
          191,
          195,
          191,
          184,
          193,
          191,
          196,
          196,
          188,
          193,
          173,
          175,
          180,
          175,
          175,
          175,
          175,
          175,
          179,
          184,
          193,
          179,
          162,
          180,
          160,
          178,
          178,
          178,
          186,
          186,
          174,
          164,
          188,
          182,
          182,
          175,
          186,
          168,
          176,
          170,
          173,
          173,
          168,
          178,
          178,
          205,
          171,
          197,
          173,
          159,
          159,
          159,
          183,
          180,
          168,
          172,
          172,
          172,
          176,
          176,
          154,
          155,
          155,
          159,
          173,
          165,
          180,
          180,
          177,
          170,
          177,
          177,
          177,
          192,
          192,
          170,
          171,
          163,
          163,
          163,
          164,
          152,
          175,
          159,
          159
         ],
         "yaxis": "y"
        }
       ],
       "layout": {
        "legend": {
         "title": {
          "text": "pred_medal"
         },
         "tracegroupgap": 0
        },
        "template": {
         "data": {
          "bar": [
           {
            "error_x": {
             "color": "#2a3f5f"
            },
            "error_y": {
             "color": "#2a3f5f"
            },
            "marker": {
             "line": {
              "color": "#E5ECF6",
              "width": 0.5
             },
             "pattern": {
              "fillmode": "overlay",
              "size": 10,
              "solidity": 0.2
             }
            },
            "type": "bar"
           }
          ],
          "barpolar": [
           {
            "marker": {
             "line": {
              "color": "#E5ECF6",
              "width": 0.5
             },
             "pattern": {
              "fillmode": "overlay",
              "size": 10,
              "solidity": 0.2
             }
            },
            "type": "barpolar"
           }
          ],
          "carpet": [
           {
            "aaxis": {
             "endlinecolor": "#2a3f5f",
             "gridcolor": "white",
             "linecolor": "white",
             "minorgridcolor": "white",
             "startlinecolor": "#2a3f5f"
            },
            "baxis": {
             "endlinecolor": "#2a3f5f",
             "gridcolor": "white",
             "linecolor": "white",
             "minorgridcolor": "white",
             "startlinecolor": "#2a3f5f"
            },
            "type": "carpet"
           }
          ],
          "choropleth": [
           {
            "colorbar": {
             "outlinewidth": 0,
             "ticks": ""
            },
            "type": "choropleth"
           }
          ],
          "contour": [
           {
            "colorbar": {
             "outlinewidth": 0,
             "ticks": ""
            },
            "colorscale": [
             [
              0,
              "#0d0887"
             ],
             [
              0.1111111111111111,
              "#46039f"
             ],
             [
              0.2222222222222222,
              "#7201a8"
             ],
             [
              0.3333333333333333,
              "#9c179e"
             ],
             [
              0.4444444444444444,
              "#bd3786"
             ],
             [
              0.5555555555555556,
              "#d8576b"
             ],
             [
              0.6666666666666666,
              "#ed7953"
             ],
             [
              0.7777777777777778,
              "#fb9f3a"
             ],
             [
              0.8888888888888888,
              "#fdca26"
             ],
             [
              1,
              "#f0f921"
             ]
            ],
            "type": "contour"
           }
          ],
          "contourcarpet": [
           {
            "colorbar": {
             "outlinewidth": 0,
             "ticks": ""
            },
            "type": "contourcarpet"
           }
          ],
          "heatmap": [
           {
            "colorbar": {
             "outlinewidth": 0,
             "ticks": ""
            },
            "colorscale": [
             [
              0,
              "#0d0887"
             ],
             [
              0.1111111111111111,
              "#46039f"
             ],
             [
              0.2222222222222222,
              "#7201a8"
             ],
             [
              0.3333333333333333,
              "#9c179e"
             ],
             [
              0.4444444444444444,
              "#bd3786"
             ],
             [
              0.5555555555555556,
              "#d8576b"
             ],
             [
              0.6666666666666666,
              "#ed7953"
             ],
             [
              0.7777777777777778,
              "#fb9f3a"
             ],
             [
              0.8888888888888888,
              "#fdca26"
             ],
             [
              1,
              "#f0f921"
             ]
            ],
            "type": "heatmap"
           }
          ],
          "heatmapgl": [
           {
            "colorbar": {
             "outlinewidth": 0,
             "ticks": ""
            },
            "colorscale": [
             [
              0,
              "#0d0887"
             ],
             [
              0.1111111111111111,
              "#46039f"
             ],
             [
              0.2222222222222222,
              "#7201a8"
             ],
             [
              0.3333333333333333,
              "#9c179e"
             ],
             [
              0.4444444444444444,
              "#bd3786"
             ],
             [
              0.5555555555555556,
              "#d8576b"
             ],
             [
              0.6666666666666666,
              "#ed7953"
             ],
             [
              0.7777777777777778,
              "#fb9f3a"
             ],
             [
              0.8888888888888888,
              "#fdca26"
             ],
             [
              1,
              "#f0f921"
             ]
            ],
            "type": "heatmapgl"
           }
          ],
          "histogram": [
           {
            "marker": {
             "pattern": {
              "fillmode": "overlay",
              "size": 10,
              "solidity": 0.2
             }
            },
            "type": "histogram"
           }
          ],
          "histogram2d": [
           {
            "colorbar": {
             "outlinewidth": 0,
             "ticks": ""
            },
            "colorscale": [
             [
              0,
              "#0d0887"
             ],
             [
              0.1111111111111111,
              "#46039f"
             ],
             [
              0.2222222222222222,
              "#7201a8"
             ],
             [
              0.3333333333333333,
              "#9c179e"
             ],
             [
              0.4444444444444444,
              "#bd3786"
             ],
             [
              0.5555555555555556,
              "#d8576b"
             ],
             [
              0.6666666666666666,
              "#ed7953"
             ],
             [
              0.7777777777777778,
              "#fb9f3a"
             ],
             [
              0.8888888888888888,
              "#fdca26"
             ],
             [
              1,
              "#f0f921"
             ]
            ],
            "type": "histogram2d"
           }
          ],
          "histogram2dcontour": [
           {
            "colorbar": {
             "outlinewidth": 0,
             "ticks": ""
            },
            "colorscale": [
             [
              0,
              "#0d0887"
             ],
             [
              0.1111111111111111,
              "#46039f"
             ],
             [
              0.2222222222222222,
              "#7201a8"
             ],
             [
              0.3333333333333333,
              "#9c179e"
             ],
             [
              0.4444444444444444,
              "#bd3786"
             ],
             [
              0.5555555555555556,
              "#d8576b"
             ],
             [
              0.6666666666666666,
              "#ed7953"
             ],
             [
              0.7777777777777778,
              "#fb9f3a"
             ],
             [
              0.8888888888888888,
              "#fdca26"
             ],
             [
              1,
              "#f0f921"
             ]
            ],
            "type": "histogram2dcontour"
           }
          ],
          "mesh3d": [
           {
            "colorbar": {
             "outlinewidth": 0,
             "ticks": ""
            },
            "type": "mesh3d"
           }
          ],
          "parcoords": [
           {
            "line": {
             "colorbar": {
              "outlinewidth": 0,
              "ticks": ""
             }
            },
            "type": "parcoords"
           }
          ],
          "pie": [
           {
            "automargin": true,
            "type": "pie"
           }
          ],
          "scatter": [
           {
            "fillpattern": {
             "fillmode": "overlay",
             "size": 10,
             "solidity": 0.2
            },
            "type": "scatter"
           }
          ],
          "scatter3d": [
           {
            "line": {
             "colorbar": {
              "outlinewidth": 0,
              "ticks": ""
             }
            },
            "marker": {
             "colorbar": {
              "outlinewidth": 0,
              "ticks": ""
             }
            },
            "type": "scatter3d"
           }
          ],
          "scattercarpet": [
           {
            "marker": {
             "colorbar": {
              "outlinewidth": 0,
              "ticks": ""
             }
            },
            "type": "scattercarpet"
           }
          ],
          "scattergeo": [
           {
            "marker": {
             "colorbar": {
              "outlinewidth": 0,
              "ticks": ""
             }
            },
            "type": "scattergeo"
           }
          ],
          "scattergl": [
           {
            "marker": {
             "colorbar": {
              "outlinewidth": 0,
              "ticks": ""
             }
            },
            "type": "scattergl"
           }
          ],
          "scattermapbox": [
           {
            "marker": {
             "colorbar": {
              "outlinewidth": 0,
              "ticks": ""
             }
            },
            "type": "scattermapbox"
           }
          ],
          "scatterpolar": [
           {
            "marker": {
             "colorbar": {
              "outlinewidth": 0,
              "ticks": ""
             }
            },
            "type": "scatterpolar"
           }
          ],
          "scatterpolargl": [
           {
            "marker": {
             "colorbar": {
              "outlinewidth": 0,
              "ticks": ""
             }
            },
            "type": "scatterpolargl"
           }
          ],
          "scatterternary": [
           {
            "marker": {
             "colorbar": {
              "outlinewidth": 0,
              "ticks": ""
             }
            },
            "type": "scatterternary"
           }
          ],
          "surface": [
           {
            "colorbar": {
             "outlinewidth": 0,
             "ticks": ""
            },
            "colorscale": [
             [
              0,
              "#0d0887"
             ],
             [
              0.1111111111111111,
              "#46039f"
             ],
             [
              0.2222222222222222,
              "#7201a8"
             ],
             [
              0.3333333333333333,
              "#9c179e"
             ],
             [
              0.4444444444444444,
              "#bd3786"
             ],
             [
              0.5555555555555556,
              "#d8576b"
             ],
             [
              0.6666666666666666,
              "#ed7953"
             ],
             [
              0.7777777777777778,
              "#fb9f3a"
             ],
             [
              0.8888888888888888,
              "#fdca26"
             ],
             [
              1,
              "#f0f921"
             ]
            ],
            "type": "surface"
           }
          ],
          "table": [
           {
            "cells": {
             "fill": {
              "color": "#EBF0F8"
             },
             "line": {
              "color": "white"
             }
            },
            "header": {
             "fill": {
              "color": "#C8D4E3"
             },
             "line": {
              "color": "white"
             }
            },
            "type": "table"
           }
          ]
         },
         "layout": {
          "annotationdefaults": {
           "arrowcolor": "#2a3f5f",
           "arrowhead": 0,
           "arrowwidth": 1
          },
          "autotypenumbers": "strict",
          "coloraxis": {
           "colorbar": {
            "outlinewidth": 0,
            "ticks": ""
           }
          },
          "colorscale": {
           "diverging": [
            [
             0,
             "#8e0152"
            ],
            [
             0.1,
             "#c51b7d"
            ],
            [
             0.2,
             "#de77ae"
            ],
            [
             0.3,
             "#f1b6da"
            ],
            [
             0.4,
             "#fde0ef"
            ],
            [
             0.5,
             "#f7f7f7"
            ],
            [
             0.6,
             "#e6f5d0"
            ],
            [
             0.7,
             "#b8e186"
            ],
            [
             0.8,
             "#7fbc41"
            ],
            [
             0.9,
             "#4d9221"
            ],
            [
             1,
             "#276419"
            ]
           ],
           "sequential": [
            [
             0,
             "#0d0887"
            ],
            [
             0.1111111111111111,
             "#46039f"
            ],
            [
             0.2222222222222222,
             "#7201a8"
            ],
            [
             0.3333333333333333,
             "#9c179e"
            ],
            [
             0.4444444444444444,
             "#bd3786"
            ],
            [
             0.5555555555555556,
             "#d8576b"
            ],
            [
             0.6666666666666666,
             "#ed7953"
            ],
            [
             0.7777777777777778,
             "#fb9f3a"
            ],
            [
             0.8888888888888888,
             "#fdca26"
            ],
            [
             1,
             "#f0f921"
            ]
           ],
           "sequentialminus": [
            [
             0,
             "#0d0887"
            ],
            [
             0.1111111111111111,
             "#46039f"
            ],
            [
             0.2222222222222222,
             "#7201a8"
            ],
            [
             0.3333333333333333,
             "#9c179e"
            ],
            [
             0.4444444444444444,
             "#bd3786"
            ],
            [
             0.5555555555555556,
             "#d8576b"
            ],
            [
             0.6666666666666666,
             "#ed7953"
            ],
            [
             0.7777777777777778,
             "#fb9f3a"
            ],
            [
             0.8888888888888888,
             "#fdca26"
            ],
            [
             1,
             "#f0f921"
            ]
           ]
          },
          "colorway": [
           "#636efa",
           "#EF553B",
           "#00cc96",
           "#ab63fa",
           "#FFA15A",
           "#19d3f3",
           "#FF6692",
           "#B6E880",
           "#FF97FF",
           "#FECB52"
          ],
          "font": {
           "color": "#2a3f5f"
          },
          "geo": {
           "bgcolor": "white",
           "lakecolor": "white",
           "landcolor": "#E5ECF6",
           "showlakes": true,
           "showland": true,
           "subunitcolor": "white"
          },
          "hoverlabel": {
           "align": "left"
          },
          "hovermode": "closest",
          "mapbox": {
           "style": "light"
          },
          "paper_bgcolor": "white",
          "plot_bgcolor": "#E5ECF6",
          "polar": {
           "angularaxis": {
            "gridcolor": "white",
            "linecolor": "white",
            "ticks": ""
           },
           "bgcolor": "#E5ECF6",
           "radialaxis": {
            "gridcolor": "white",
            "linecolor": "white",
            "ticks": ""
           }
          },
          "scene": {
           "xaxis": {
            "backgroundcolor": "#E5ECF6",
            "gridcolor": "white",
            "gridwidth": 2,
            "linecolor": "white",
            "showbackground": true,
            "ticks": "",
            "zerolinecolor": "white"
           },
           "yaxis": {
            "backgroundcolor": "#E5ECF6",
            "gridcolor": "white",
            "gridwidth": 2,
            "linecolor": "white",
            "showbackground": true,
            "ticks": "",
            "zerolinecolor": "white"
           },
           "zaxis": {
            "backgroundcolor": "#E5ECF6",
            "gridcolor": "white",
            "gridwidth": 2,
            "linecolor": "white",
            "showbackground": true,
            "ticks": "",
            "zerolinecolor": "white"
           }
          },
          "shapedefaults": {
           "line": {
            "color": "#2a3f5f"
           }
          },
          "ternary": {
           "aaxis": {
            "gridcolor": "white",
            "linecolor": "white",
            "ticks": ""
           },
           "baxis": {
            "gridcolor": "white",
            "linecolor": "white",
            "ticks": ""
           },
           "bgcolor": "#E5ECF6",
           "caxis": {
            "gridcolor": "white",
            "linecolor": "white",
            "ticks": ""
           }
          },
          "title": {
           "x": 0.05
          },
          "xaxis": {
           "automargin": true,
           "gridcolor": "white",
           "linecolor": "white",
           "ticks": "",
           "title": {
            "standoff": 15
           },
           "zerolinecolor": "white",
           "zerolinewidth": 2
          },
          "yaxis": {
           "automargin": true,
           "gridcolor": "white",
           "linecolor": "white",
           "ticks": "",
           "title": {
            "standoff": 15
           },
           "zerolinecolor": "white",
           "zerolinewidth": 2
          }
         }
        },
        "title": {
         "text": "Age vs Height by Predicted Medal"
        },
        "xaxis": {
         "anchor": "y",
         "domain": [
          0,
          1
         ],
         "title": {
          "text": "Age"
         }
        },
        "yaxis": {
         "anchor": "x",
         "domain": [
          0,
          1
         ],
         "title": {
          "text": "Height"
         }
        }
       }
      }
     },
     "metadata": {},
     "output_type": "display_data"
    },
    {
     "data": {
      "application/vnd.plotly.v1+json": {
       "config": {
        "plotlyServerURL": "https://plot.ly"
       },
       "data": [
        {
         "alignmentgroup": "True",
         "hovertemplate": "pred_medal=%{x}<br>Weight=%{y}<extra></extra>",
         "legendgroup": "",
         "marker": {
          "color": "#636efa"
         },
         "name": "",
         "notched": false,
         "offsetgroup": "",
         "orientation": "v",
         "showlegend": false,
         "type": "box",
         "x": [
          "Bronze",
          "Bronze",
          "Bronze",
          "Gold",
          "Silver",
          "Bronze",
          "Gold",
          "Silver",
          "Bronze",
          "Silver",
          "Silver",
          "Silver",
          "Gold",
          "Gold",
          "Bronze",
          "Gold",
          "Silver",
          "Bronze",
          "Gold",
          "Gold",
          "Bronze",
          "Gold",
          "Bronze",
          "Bronze",
          "Bronze",
          "Bronze",
          "Bronze",
          "Gold",
          "Silver",
          "Silver",
          "Bronze",
          "Silver",
          "Bronze",
          "Gold",
          "Bronze",
          "Bronze",
          "Gold",
          "Silver",
          "Bronze",
          "Gold",
          "Gold",
          "Bronze",
          "Gold",
          "Gold",
          "Bronze",
          "Bronze",
          "Bronze",
          "Bronze",
          "Bronze",
          "Bronze",
          "Bronze",
          "Gold",
          "Bronze",
          "Bronze",
          "Bronze",
          "Bronze",
          "Bronze",
          "Bronze",
          "Silver",
          "Bronze",
          "Bronze",
          "Bronze",
          "Bronze",
          "Silver",
          "Silver",
          "Silver",
          "Gold",
          "Gold",
          "Gold",
          "Gold",
          "Gold",
          "Gold",
          "Silver",
          "Silver",
          "Bronze",
          "Gold",
          "Silver",
          "Bronze",
          "Bronze",
          "Bronze",
          "Bronze",
          "Gold",
          "Silver",
          "Gold",
          "Gold",
          "Silver",
          "Bronze",
          "Gold",
          "Silver",
          "Bronze",
          "Silver",
          "Silver",
          "Bronze",
          "Gold",
          "Gold",
          "Bronze",
          "Bronze",
          "Silver",
          "Bronze",
          "Silver",
          "Silver",
          "Silver",
          "Gold",
          "Silver",
          "Bronze",
          "Gold",
          "Silver",
          "Bronze",
          "Gold",
          "Silver",
          "Bronze",
          "Bronze",
          "Bronze",
          "Bronze",
          "Gold",
          "Gold",
          "Gold",
          "Silver",
          "Silver",
          "Bronze",
          "Bronze",
          "Bronze",
          "Bronze",
          "Silver",
          "Silver",
          "Silver",
          "Gold",
          "Silver",
          "Gold",
          "Gold",
          "Gold",
          "Bronze",
          "Bronze",
          "Bronze",
          "Bronze",
          "Gold",
          "Silver",
          "Gold",
          "Gold",
          "Silver",
          "Silver",
          "Bronze",
          "Silver",
          "Bronze",
          "Gold",
          "Gold",
          "Gold",
          "Gold",
          "Bronze",
          "Bronze",
          "Bronze",
          "Bronze",
          "Bronze",
          "Gold",
          "Silver",
          "Gold",
          "Silver",
          "Silver",
          "Bronze",
          "Gold",
          "Silver",
          "Bronze",
          "Gold",
          "Silver",
          "Bronze",
          "Gold",
          "Silver",
          "Bronze",
          "Gold",
          "Gold",
          "Bronze",
          "Gold",
          "Silver",
          "Gold",
          "Bronze",
          "Bronze",
          "Bronze",
          "Silver",
          "Silver",
          "Silver",
          "Silver",
          "Silver",
          "Bronze",
          "Bronze",
          "Silver",
          "Bronze",
          "Gold",
          "Silver",
          "Bronze",
          "Bronze",
          "Silver",
          "Bronze",
          "Gold",
          "Bronze",
          "Bronze",
          "Gold",
          "Silver",
          "Bronze",
          "Gold",
          "Silver",
          "Bronze",
          "Bronze",
          "Silver",
          "Bronze",
          "Gold",
          "Bronze",
          "Bronze",
          "Gold",
          "Bronze",
          "Bronze",
          "Gold",
          "Silver",
          "Bronze",
          "Gold",
          "Gold",
          "Bronze",
          "Silver",
          "Silver",
          "Bronze",
          "Bronze",
          "Silver",
          "Bronze",
          "Silver",
          "Silver",
          "Silver",
          "Gold",
          "Gold",
          "Gold",
          "Gold",
          "Silver",
          "Bronze",
          "Silver",
          "Silver",
          "Silver",
          "Silver",
          "Silver",
          "Bronze",
          "Gold",
          "Silver",
          "Gold",
          "Gold",
          "Silver",
          "Gold",
          "Gold",
          "Gold",
          "Gold",
          "Gold",
          "Silver",
          "Bronze",
          "Gold",
          "Silver",
          "Gold",
          "Gold",
          "Gold",
          "Bronze",
          "Gold",
          "Gold",
          "Gold",
          "Gold",
          "Gold",
          "Gold",
          "Bronze",
          "Bronze",
          "Bronze",
          "Gold",
          "Silver",
          "Gold",
          "Gold",
          "Gold",
          "Gold",
          "Bronze",
          "Bronze",
          "Bronze",
          "Gold",
          "Gold",
          "Gold",
          "Gold",
          "Bronze",
          "Bronze",
          "Gold",
          "Gold",
          "Bronze",
          "Gold",
          "Silver",
          "Bronze",
          "Gold",
          "Gold",
          "Gold",
          "Gold",
          "Bronze",
          "Bronze",
          "Silver",
          "Silver",
          "Bronze",
          "Bronze",
          "Bronze",
          "Bronze",
          "Bronze",
          "Bronze",
          "Bronze",
          "Gold",
          "Silver",
          "Bronze",
          "Gold",
          "Silver",
          "Bronze",
          "Gold",
          "Bronze",
          "Bronze",
          "Gold",
          "Silver",
          "Silver",
          "Bronze",
          "Bronze",
          "Bronze",
          "Gold",
          "Gold",
          "Gold",
          "Silver",
          "Silver",
          "Bronze",
          "Gold",
          "Silver",
          "Bronze",
          "Silver",
          "Silver",
          "Silver",
          "Gold",
          "Bronze",
          "Bronze",
          "Gold",
          "Silver",
          "Bronze",
          "Gold",
          "Silver",
          "Bronze",
          "Gold",
          "Silver",
          "Bronze",
          "Gold",
          "Silver",
          "Bronze",
          "Gold",
          "Gold",
          "Gold",
          "Gold",
          "Gold",
          "Gold",
          "Gold",
          "Silver",
          "Bronze",
          "Gold",
          "Silver",
          "Bronze",
          "Bronze",
          "Bronze",
          "Bronze",
          "Gold",
          "Silver",
          "Bronze",
          "Gold",
          "Bronze",
          "Bronze",
          "Gold",
          "Silver",
          "Bronze",
          "Gold",
          "Silver",
          "Gold",
          "Gold",
          "Silver",
          "Bronze",
          "Gold",
          "Silver",
          "Bronze",
          "Gold",
          "Gold",
          "Bronze",
          "Gold",
          "Silver",
          "Gold",
          "Silver",
          "Silver",
          "Silver",
          "Gold",
          "Silver",
          "Bronze",
          "Silver",
          "Silver",
          "Silver",
          "Gold",
          "Silver",
          "Bronze",
          "Gold",
          "Silver",
          "Bronze",
          "Gold",
          "Silver",
          "Bronze",
          "Gold",
          "Silver",
          "Bronze",
          "Gold",
          "Silver",
          "Bronze",
          "Gold",
          "Silver",
          "Bronze",
          "Gold",
          "Silver",
          "Bronze",
          "Gold",
          "Silver",
          "Bronze",
          "Silver",
          "Silver",
          "Bronze",
          "Gold",
          "Gold",
          "Gold",
          "Bronze",
          "Silver",
          "Bronze",
          "Gold",
          "Gold",
          "Gold",
          "Gold",
          "Bronze",
          "Bronze",
          "Gold",
          "Silver",
          "Bronze",
          "Bronze",
          "Bronze",
          "Bronze",
          "Bronze",
          "Bronze",
          "Bronze",
          "Gold",
          "Silver",
          "Bronze",
          "Gold",
          "Silver",
          "Bronze",
          "Bronze",
          "Silver",
          "Bronze",
          "Gold",
          "Silver",
          "Gold",
          "Silver",
          "Silver",
          "Bronze",
          "Gold",
          "Silver",
          "Bronze",
          "Gold",
          "Silver",
          "Silver",
          "Gold",
          "Silver",
          "Bronze",
          "Silver",
          "Silver",
          "Bronze",
          "Gold",
          "Silver",
          "Bronze",
          "Gold",
          "Silver",
          "Bronze",
          "Gold",
          "Silver",
          "Bronze",
          "Gold",
          "Bronze",
          "Bronze",
          "Gold",
          "Silver",
          "Bronze",
          "Gold",
          "Silver",
          "Bronze",
          "Gold",
          "Silver",
          "Bronze",
          "Gold",
          "Gold",
          "Gold",
          "Gold",
          "Silver",
          "Bronze",
          "Silver",
          "Silver",
          "Bronze",
          "Gold",
          "Bronze",
          "Bronze",
          "Gold",
          "Silver",
          "Bronze",
          "Gold",
          "Silver",
          "Bronze",
          "Gold",
          "Bronze",
          "Bronze",
          "Gold",
          "Silver",
          "Bronze",
          "Gold",
          "Silver",
          "Bronze",
          "Gold",
          "Silver",
          "Bronze",
          "Bronze",
          "Silver",
          "Bronze",
          "Bronze",
          "Bronze",
          "Bronze",
          "Gold",
          "Silver",
          "Bronze",
          "Bronze",
          "Bronze",
          "Bronze",
          "Gold",
          "Bronze",
          "Bronze",
          "Gold",
          "Silver",
          "Bronze",
          "Gold",
          "Silver",
          "Bronze",
          "Bronze",
          "Bronze",
          "Bronze",
          "Gold",
          "Silver",
          "Gold",
          "Gold",
          "Gold",
          "Bronze",
          "Gold",
          "Gold",
          "Bronze",
          "Gold",
          "Gold",
          "Gold",
          "Gold",
          "Bronze",
          "Bronze",
          "Gold",
          "Silver",
          "Bronze",
          "Bronze",
          "Silver",
          "Bronze",
          "Bronze",
          "Bronze",
          "Bronze",
          "Silver",
          "Silver",
          "Bronze",
          "Gold",
          "Silver",
          "Bronze",
          "Silver",
          "Silver",
          "Silver",
          "Silver",
          "Silver",
          "Silver",
          "Gold",
          "Silver",
          "Silver",
          "Gold",
          "Silver",
          "Silver",
          "Gold",
          "Silver",
          "Bronze",
          "Bronze",
          "Silver",
          "Bronze",
          "Gold",
          "Silver",
          "Bronze",
          "Silver",
          "Silver",
          "Bronze",
          "Silver",
          "Silver",
          "Bronze",
          "Gold",
          "Silver",
          "Bronze",
          "Gold",
          "Bronze",
          "Bronze",
          "Bronze",
          "Bronze",
          "Bronze",
          "Gold",
          "Bronze",
          "Bronze",
          "Gold",
          "Silver",
          "Silver",
          "Bronze",
          "Bronze",
          "Bronze",
          "Gold",
          "Silver",
          "Bronze",
          "Gold",
          "Silver",
          "Bronze",
          "Gold",
          "Gold",
          "Bronze",
          "Gold",
          "Gold",
          "Gold",
          "Bronze",
          "Bronze",
          "Bronze",
          "Bronze",
          "Bronze",
          "Bronze",
          "Bronze",
          "Silver",
          "Bronze",
          "Gold",
          "Silver",
          "Bronze",
          "Gold",
          "Silver",
          "Gold",
          "Bronze",
          "Bronze",
          "Bronze",
          "Bronze",
          "Bronze",
          "Bronze",
          "Silver",
          "Silver",
          "Silver",
          "Gold",
          "Silver",
          "Silver",
          "Silver",
          "Silver",
          "Bronze",
          "Gold",
          "Silver",
          "Bronze",
          "Gold",
          "Bronze",
          "Bronze",
          "Gold",
          "Silver",
          "Bronze",
          "Gold",
          "Gold",
          "Gold",
          "Bronze",
          "Bronze",
          "Bronze",
          "Gold",
          "Silver",
          "Bronze",
          "Bronze",
          "Bronze",
          "Bronze",
          "Gold",
          "Silver",
          "Gold",
          "Gold",
          "Gold",
          "Bronze",
          "Gold",
          "Silver",
          "Gold",
          "Silver",
          "Silver",
          "Silver",
          "Gold",
          "Bronze",
          "Bronze",
          "Gold",
          "Gold",
          "Bronze",
          "Silver",
          "Silver",
          "Bronze",
          "Bronze",
          "Silver",
          "Bronze",
          "Gold",
          "Silver",
          "Bronze",
          "Bronze",
          "Silver",
          "Bronze",
          "Silver",
          "Silver",
          "Bronze",
          "Gold",
          "Silver",
          "Gold",
          "Bronze",
          "Silver",
          "Bronze",
          "Gold",
          "Silver",
          "Gold",
          "Bronze",
          "Silver",
          "Bronze",
          "Gold",
          "Silver",
          "Bronze",
          "Silver",
          "Silver",
          "Bronze",
          "Gold",
          "Bronze",
          "Bronze",
          "Bronze",
          "Bronze",
          "Bronze",
          "Silver",
          "Silver",
          "Silver",
          "Gold",
          "Silver",
          "Bronze",
          "Gold",
          "Silver",
          "Bronze",
          "Gold",
          "Silver",
          "Bronze",
          "Gold",
          "Silver",
          "Bronze",
          "Silver",
          "Silver",
          "Silver",
          "Bronze",
          "Bronze",
          "Bronze",
          "Gold",
          "Silver",
          "Silver",
          "Gold",
          "Gold",
          "Gold",
          "Gold",
          "Silver",
          "Bronze",
          "Silver",
          "Silver",
          "Silver",
          "Silver",
          "Silver",
          "Bronze",
          "Gold",
          "Gold",
          "Bronze",
          "Gold",
          "Silver",
          "Gold",
          "Gold",
          "Gold",
          "Bronze",
          "Gold",
          "Bronze",
          "Bronze",
          "Gold",
          "Silver",
          "Silver",
          "Gold",
          "Silver",
          "Bronze",
          "Gold",
          "Silver",
          "Bronze",
          "Gold",
          "Silver",
          "Bronze",
          "Gold",
          "Bronze",
          "Bronze",
          "Silver",
          "Silver",
          "Bronze",
          "Gold",
          "Bronze",
          "Bronze",
          "Gold",
          "Silver",
          "Gold",
          "Gold",
          "Bronze",
          "Bronze",
          "Bronze",
          "Silver",
          "Bronze",
          "Gold",
          "Gold",
          "Bronze",
          "Silver",
          "Silver",
          "Silver",
          "Silver",
          "Silver",
          "Bronze",
          "Bronze",
          "Bronze",
          "Bronze",
          "Bronze",
          "Silver",
          "Bronze",
          "Gold",
          "Silver",
          "Bronze",
          "Silver",
          "Silver",
          "Silver",
          "Silver",
          "Silver",
          "Bronze",
          "Gold",
          "Silver",
          "Bronze",
          "Silver",
          "Silver",
          "Bronze",
          "Gold",
          "Gold",
          "Bronze",
          "Gold",
          "Bronze",
          "Bronze"
         ],
         "x0": " ",
         "xaxis": "x",
         "y": [
          67,
          67,
          67,
          83,
          84,
          60,
          57,
          50,
          69,
          65,
          65,
          65,
          47,
          47,
          59,
          70,
          77,
          73,
          77,
          77,
          80,
          55,
          73,
          72,
          80,
          80,
          79,
          65,
          58,
          58,
          62,
          85,
          62,
          84,
          74,
          82,
          79,
          70,
          94,
          72,
          72,
          85,
          57,
          57,
          56,
          62,
          62,
          62,
          68,
          68,
          68,
          77,
          83,
          83,
          120,
          120,
          120,
          128,
          120,
          128,
          77,
          77,
          77,
          94,
          92,
          94,
          86,
          86,
          86,
          67,
          67,
          67,
          75,
          75,
          80,
          134,
          125,
          120,
          74,
          74,
          74,
          50,
          43,
          52,
          63,
          57,
          61,
          65,
          59,
          60,
          50,
          50,
          45,
          53,
          53,
          55,
          53,
          51,
          54,
          55,
          61,
          61,
          65,
          59,
          57,
          61,
          69,
          58,
          57,
          55,
          60,
          47,
          47,
          47,
          60,
          60,
          60,
          85,
          85,
          70,
          75,
          75,
          75,
          69,
          69,
          64,
          58,
          72,
          58,
          74,
          74,
          72,
          65,
          65,
          65,
          49,
          45,
          49,
          62,
          59,
          66,
          95,
          136,
          95,
          72,
          72,
          72,
          70,
          80,
          80,
          88,
          88,
          88,
          56,
          72,
          68,
          59,
          59,
          70,
          65,
          65,
          51,
          130,
          99,
          93,
          74,
          79,
          60,
          77,
          87,
          88,
          67,
          75,
          70,
          56,
          56,
          56,
          57,
          57,
          57,
          52,
          52,
          52,
          91,
          91,
          91,
          49,
          49,
          49,
          81,
          81,
          81,
          64,
          64,
          64,
          60,
          64,
          60,
          75,
          75,
          75,
          101,
          108,
          101,
          69,
          69,
          69,
          51,
          50,
          50,
          60,
          60,
          60,
          75,
          75,
          75,
          78,
          88,
          85,
          65,
          80,
          75,
          95,
          95,
          95,
          93,
          85,
          85,
          83,
          76,
          70,
          90,
          90,
          80,
          89,
          90,
          90,
          95,
          85,
          95,
          80,
          82,
          80,
          94,
          94,
          94,
          70,
          76,
          69,
          70,
          78,
          70,
          63,
          63,
          67,
          70,
          70,
          70,
          68,
          68,
          68,
          88,
          88,
          88,
          93,
          88,
          65,
          90,
          90,
          90,
          70,
          70,
          70,
          69,
          65,
          65,
          70,
          70,
          61,
          80,
          93,
          90,
          76,
          73,
          82,
          83,
          83,
          83,
          58,
          65,
          65,
          55,
          55,
          50,
          64,
          64,
          64,
          59,
          56,
          59,
          66,
          90,
          72,
          74,
          56,
          61,
          80,
          60,
          60,
          68,
          70,
          70,
          58,
          58,
          58,
          77,
          77,
          77,
          49,
          49,
          57,
          48,
          52,
          62,
          48,
          48,
          48,
          57,
          55,
          55,
          75,
          73,
          59,
          55,
          63,
          76,
          70,
          70,
          70,
          80,
          65,
          82,
          77,
          77,
          77,
          74,
          74,
          74,
          70,
          100,
          74,
          76,
          78,
          85,
          56,
          56,
          56,
          75,
          64,
          68,
          65,
          74,
          74,
          50,
          62,
          64,
          66,
          60,
          66,
          76,
          75,
          68,
          66,
          68,
          56,
          86,
          86,
          86,
          85,
          65,
          85,
          54,
          54,
          54,
          67,
          55,
          60,
          62,
          62,
          62,
          59,
          51,
          70,
          43,
          47,
          33,
          49,
          45,
          35,
          105,
          105,
          94,
          65,
          68,
          63,
          81,
          77,
          83,
          66,
          62,
          67,
          60,
          60,
          60,
          100,
          105,
          108,
          66,
          66,
          66,
          80,
          81,
          81,
          125,
          125,
          120,
          73,
          73,
          73,
          94,
          90,
          90,
          51,
          63,
          48,
          78,
          78,
          78,
          52,
          52,
          52,
          66,
          65,
          63,
          108,
          97,
          128,
          59,
          57,
          59,
          70,
          70,
          70,
          78,
          74,
          64,
          69,
          55,
          55,
          55,
          47,
          53,
          47,
          50,
          49,
          93,
          96,
          102,
          92,
          95,
          93,
          94,
          102,
          90,
          110,
          84,
          84,
          73,
          76,
          70,
          70,
          71,
          70,
          92,
          92,
          90,
          92,
          92,
          92,
          58,
          82,
          78,
          73,
          73,
          75,
          74,
          72,
          72,
          59,
          59,
          57,
          75,
          76,
          74,
          71,
          62,
          76,
          98,
          109,
          92,
          75,
          66,
          68,
          81,
          81,
          81,
          98,
          95,
          98,
          80,
          80,
          80,
          75,
          70,
          74,
          72,
          72,
          72,
          75,
          57,
          77,
          72,
          63,
          68,
          74,
          62,
          70,
          66,
          66,
          56,
          63,
          57,
          59,
          75,
          69,
          75,
          73,
          64,
          73,
          97,
          97,
          84,
          85,
          71,
          71,
          68,
          65,
          83,
          88,
          80,
          88,
          78,
          78,
          78,
          82,
          82,
          80,
          55,
          70,
          93,
          55,
          55,
          55,
          85,
          85,
          85,
          55,
          72,
          72,
          95,
          80,
          80,
          77,
          72,
          79,
          64,
          86,
          64,
          84,
          91,
          69,
          85,
          86,
          80,
          74,
          86,
          82,
          75,
          86,
          90,
          78,
          72,
          72,
          76,
          71,
          71,
          77,
          74,
          74,
          83,
          84,
          84,
          74,
          74,
          74,
          90,
          86,
          70,
          80,
          80,
          77,
          76,
          78,
          59,
          86,
          86,
          86,
          92,
          92,
          92,
          59,
          52,
          59,
          76,
          65,
          61,
          65,
          70,
          61,
          66,
          75,
          54,
          68,
          68,
          68,
          61,
          61,
          61,
          64,
          64,
          64,
          60,
          65,
          65,
          61,
          67,
          60,
          66,
          85,
          74,
          57,
          67,
          70,
          73,
          58,
          70,
          64,
          64,
          64,
          55,
          55,
          55,
          60,
          46,
          65,
          63,
          63,
          63,
          61,
          67,
          51,
          67,
          60,
          55,
          45,
          54,
          45,
          68,
          68,
          68,
          58,
          63,
          59,
          90,
          93,
          90,
          80,
          80,
          80,
          57,
          57,
          57,
          52,
          50,
          49,
          80,
          75,
          74,
          69,
          69,
          66,
          90,
          71,
          76,
          86,
          79,
          84,
          84,
          66,
          84,
          70,
          65,
          70,
          59,
          64,
          62,
          66,
          66,
          64,
          60,
          47,
          47,
          59,
          59,
          59,
          56,
          59,
          59,
          100,
          107,
          90,
          79,
          70,
          70,
          106,
          89,
          88,
          75,
          65,
          68,
          56,
          56,
          56,
          62,
          62,
          62,
          105,
          109,
          105,
          85,
          97,
          97,
          69,
          70,
          64,
          94,
          94,
          94,
          77,
          77,
          77,
          140,
          140,
          130,
          47,
          48,
          47,
          76,
          76,
          75,
          69,
          69,
          58,
          53,
          58,
          58,
          63,
          63,
          63,
          100,
          123,
          141,
          63,
          62,
          65,
          65,
          59,
          59,
          102,
          102,
          100,
          98,
          98,
          98,
          86,
          86,
          86,
          85,
          90,
          91,
          60,
          66,
          60,
          74,
          74,
          74,
          80,
          80,
          80,
          125,
          125,
          125,
          130,
          130,
          130,
          65,
          65,
          74,
          67,
          66,
          80,
          57,
          57,
          57,
          56,
          48,
          48,
          75,
          75,
          73,
          69,
          69,
          69,
          58,
          58,
          58,
          65,
          61,
          63
         ],
         "y0": " ",
         "yaxis": "y"
        }
       ],
       "layout": {
        "boxmode": "group",
        "legend": {
         "tracegroupgap": 0
        },
        "template": {
         "data": {
          "bar": [
           {
            "error_x": {
             "color": "#2a3f5f"
            },
            "error_y": {
             "color": "#2a3f5f"
            },
            "marker": {
             "line": {
              "color": "#E5ECF6",
              "width": 0.5
             },
             "pattern": {
              "fillmode": "overlay",
              "size": 10,
              "solidity": 0.2
             }
            },
            "type": "bar"
           }
          ],
          "barpolar": [
           {
            "marker": {
             "line": {
              "color": "#E5ECF6",
              "width": 0.5
             },
             "pattern": {
              "fillmode": "overlay",
              "size": 10,
              "solidity": 0.2
             }
            },
            "type": "barpolar"
           }
          ],
          "carpet": [
           {
            "aaxis": {
             "endlinecolor": "#2a3f5f",
             "gridcolor": "white",
             "linecolor": "white",
             "minorgridcolor": "white",
             "startlinecolor": "#2a3f5f"
            },
            "baxis": {
             "endlinecolor": "#2a3f5f",
             "gridcolor": "white",
             "linecolor": "white",
             "minorgridcolor": "white",
             "startlinecolor": "#2a3f5f"
            },
            "type": "carpet"
           }
          ],
          "choropleth": [
           {
            "colorbar": {
             "outlinewidth": 0,
             "ticks": ""
            },
            "type": "choropleth"
           }
          ],
          "contour": [
           {
            "colorbar": {
             "outlinewidth": 0,
             "ticks": ""
            },
            "colorscale": [
             [
              0,
              "#0d0887"
             ],
             [
              0.1111111111111111,
              "#46039f"
             ],
             [
              0.2222222222222222,
              "#7201a8"
             ],
             [
              0.3333333333333333,
              "#9c179e"
             ],
             [
              0.4444444444444444,
              "#bd3786"
             ],
             [
              0.5555555555555556,
              "#d8576b"
             ],
             [
              0.6666666666666666,
              "#ed7953"
             ],
             [
              0.7777777777777778,
              "#fb9f3a"
             ],
             [
              0.8888888888888888,
              "#fdca26"
             ],
             [
              1,
              "#f0f921"
             ]
            ],
            "type": "contour"
           }
          ],
          "contourcarpet": [
           {
            "colorbar": {
             "outlinewidth": 0,
             "ticks": ""
            },
            "type": "contourcarpet"
           }
          ],
          "heatmap": [
           {
            "colorbar": {
             "outlinewidth": 0,
             "ticks": ""
            },
            "colorscale": [
             [
              0,
              "#0d0887"
             ],
             [
              0.1111111111111111,
              "#46039f"
             ],
             [
              0.2222222222222222,
              "#7201a8"
             ],
             [
              0.3333333333333333,
              "#9c179e"
             ],
             [
              0.4444444444444444,
              "#bd3786"
             ],
             [
              0.5555555555555556,
              "#d8576b"
             ],
             [
              0.6666666666666666,
              "#ed7953"
             ],
             [
              0.7777777777777778,
              "#fb9f3a"
             ],
             [
              0.8888888888888888,
              "#fdca26"
             ],
             [
              1,
              "#f0f921"
             ]
            ],
            "type": "heatmap"
           }
          ],
          "heatmapgl": [
           {
            "colorbar": {
             "outlinewidth": 0,
             "ticks": ""
            },
            "colorscale": [
             [
              0,
              "#0d0887"
             ],
             [
              0.1111111111111111,
              "#46039f"
             ],
             [
              0.2222222222222222,
              "#7201a8"
             ],
             [
              0.3333333333333333,
              "#9c179e"
             ],
             [
              0.4444444444444444,
              "#bd3786"
             ],
             [
              0.5555555555555556,
              "#d8576b"
             ],
             [
              0.6666666666666666,
              "#ed7953"
             ],
             [
              0.7777777777777778,
              "#fb9f3a"
             ],
             [
              0.8888888888888888,
              "#fdca26"
             ],
             [
              1,
              "#f0f921"
             ]
            ],
            "type": "heatmapgl"
           }
          ],
          "histogram": [
           {
            "marker": {
             "pattern": {
              "fillmode": "overlay",
              "size": 10,
              "solidity": 0.2
             }
            },
            "type": "histogram"
           }
          ],
          "histogram2d": [
           {
            "colorbar": {
             "outlinewidth": 0,
             "ticks": ""
            },
            "colorscale": [
             [
              0,
              "#0d0887"
             ],
             [
              0.1111111111111111,
              "#46039f"
             ],
             [
              0.2222222222222222,
              "#7201a8"
             ],
             [
              0.3333333333333333,
              "#9c179e"
             ],
             [
              0.4444444444444444,
              "#bd3786"
             ],
             [
              0.5555555555555556,
              "#d8576b"
             ],
             [
              0.6666666666666666,
              "#ed7953"
             ],
             [
              0.7777777777777778,
              "#fb9f3a"
             ],
             [
              0.8888888888888888,
              "#fdca26"
             ],
             [
              1,
              "#f0f921"
             ]
            ],
            "type": "histogram2d"
           }
          ],
          "histogram2dcontour": [
           {
            "colorbar": {
             "outlinewidth": 0,
             "ticks": ""
            },
            "colorscale": [
             [
              0,
              "#0d0887"
             ],
             [
              0.1111111111111111,
              "#46039f"
             ],
             [
              0.2222222222222222,
              "#7201a8"
             ],
             [
              0.3333333333333333,
              "#9c179e"
             ],
             [
              0.4444444444444444,
              "#bd3786"
             ],
             [
              0.5555555555555556,
              "#d8576b"
             ],
             [
              0.6666666666666666,
              "#ed7953"
             ],
             [
              0.7777777777777778,
              "#fb9f3a"
             ],
             [
              0.8888888888888888,
              "#fdca26"
             ],
             [
              1,
              "#f0f921"
             ]
            ],
            "type": "histogram2dcontour"
           }
          ],
          "mesh3d": [
           {
            "colorbar": {
             "outlinewidth": 0,
             "ticks": ""
            },
            "type": "mesh3d"
           }
          ],
          "parcoords": [
           {
            "line": {
             "colorbar": {
              "outlinewidth": 0,
              "ticks": ""
             }
            },
            "type": "parcoords"
           }
          ],
          "pie": [
           {
            "automargin": true,
            "type": "pie"
           }
          ],
          "scatter": [
           {
            "fillpattern": {
             "fillmode": "overlay",
             "size": 10,
             "solidity": 0.2
            },
            "type": "scatter"
           }
          ],
          "scatter3d": [
           {
            "line": {
             "colorbar": {
              "outlinewidth": 0,
              "ticks": ""
             }
            },
            "marker": {
             "colorbar": {
              "outlinewidth": 0,
              "ticks": ""
             }
            },
            "type": "scatter3d"
           }
          ],
          "scattercarpet": [
           {
            "marker": {
             "colorbar": {
              "outlinewidth": 0,
              "ticks": ""
             }
            },
            "type": "scattercarpet"
           }
          ],
          "scattergeo": [
           {
            "marker": {
             "colorbar": {
              "outlinewidth": 0,
              "ticks": ""
             }
            },
            "type": "scattergeo"
           }
          ],
          "scattergl": [
           {
            "marker": {
             "colorbar": {
              "outlinewidth": 0,
              "ticks": ""
             }
            },
            "type": "scattergl"
           }
          ],
          "scattermapbox": [
           {
            "marker": {
             "colorbar": {
              "outlinewidth": 0,
              "ticks": ""
             }
            },
            "type": "scattermapbox"
           }
          ],
          "scatterpolar": [
           {
            "marker": {
             "colorbar": {
              "outlinewidth": 0,
              "ticks": ""
             }
            },
            "type": "scatterpolar"
           }
          ],
          "scatterpolargl": [
           {
            "marker": {
             "colorbar": {
              "outlinewidth": 0,
              "ticks": ""
             }
            },
            "type": "scatterpolargl"
           }
          ],
          "scatterternary": [
           {
            "marker": {
             "colorbar": {
              "outlinewidth": 0,
              "ticks": ""
             }
            },
            "type": "scatterternary"
           }
          ],
          "surface": [
           {
            "colorbar": {
             "outlinewidth": 0,
             "ticks": ""
            },
            "colorscale": [
             [
              0,
              "#0d0887"
             ],
             [
              0.1111111111111111,
              "#46039f"
             ],
             [
              0.2222222222222222,
              "#7201a8"
             ],
             [
              0.3333333333333333,
              "#9c179e"
             ],
             [
              0.4444444444444444,
              "#bd3786"
             ],
             [
              0.5555555555555556,
              "#d8576b"
             ],
             [
              0.6666666666666666,
              "#ed7953"
             ],
             [
              0.7777777777777778,
              "#fb9f3a"
             ],
             [
              0.8888888888888888,
              "#fdca26"
             ],
             [
              1,
              "#f0f921"
             ]
            ],
            "type": "surface"
           }
          ],
          "table": [
           {
            "cells": {
             "fill": {
              "color": "#EBF0F8"
             },
             "line": {
              "color": "white"
             }
            },
            "header": {
             "fill": {
              "color": "#C8D4E3"
             },
             "line": {
              "color": "white"
             }
            },
            "type": "table"
           }
          ]
         },
         "layout": {
          "annotationdefaults": {
           "arrowcolor": "#2a3f5f",
           "arrowhead": 0,
           "arrowwidth": 1
          },
          "autotypenumbers": "strict",
          "coloraxis": {
           "colorbar": {
            "outlinewidth": 0,
            "ticks": ""
           }
          },
          "colorscale": {
           "diverging": [
            [
             0,
             "#8e0152"
            ],
            [
             0.1,
             "#c51b7d"
            ],
            [
             0.2,
             "#de77ae"
            ],
            [
             0.3,
             "#f1b6da"
            ],
            [
             0.4,
             "#fde0ef"
            ],
            [
             0.5,
             "#f7f7f7"
            ],
            [
             0.6,
             "#e6f5d0"
            ],
            [
             0.7,
             "#b8e186"
            ],
            [
             0.8,
             "#7fbc41"
            ],
            [
             0.9,
             "#4d9221"
            ],
            [
             1,
             "#276419"
            ]
           ],
           "sequential": [
            [
             0,
             "#0d0887"
            ],
            [
             0.1111111111111111,
             "#46039f"
            ],
            [
             0.2222222222222222,
             "#7201a8"
            ],
            [
             0.3333333333333333,
             "#9c179e"
            ],
            [
             0.4444444444444444,
             "#bd3786"
            ],
            [
             0.5555555555555556,
             "#d8576b"
            ],
            [
             0.6666666666666666,
             "#ed7953"
            ],
            [
             0.7777777777777778,
             "#fb9f3a"
            ],
            [
             0.8888888888888888,
             "#fdca26"
            ],
            [
             1,
             "#f0f921"
            ]
           ],
           "sequentialminus": [
            [
             0,
             "#0d0887"
            ],
            [
             0.1111111111111111,
             "#46039f"
            ],
            [
             0.2222222222222222,
             "#7201a8"
            ],
            [
             0.3333333333333333,
             "#9c179e"
            ],
            [
             0.4444444444444444,
             "#bd3786"
            ],
            [
             0.5555555555555556,
             "#d8576b"
            ],
            [
             0.6666666666666666,
             "#ed7953"
            ],
            [
             0.7777777777777778,
             "#fb9f3a"
            ],
            [
             0.8888888888888888,
             "#fdca26"
            ],
            [
             1,
             "#f0f921"
            ]
           ]
          },
          "colorway": [
           "#636efa",
           "#EF553B",
           "#00cc96",
           "#ab63fa",
           "#FFA15A",
           "#19d3f3",
           "#FF6692",
           "#B6E880",
           "#FF97FF",
           "#FECB52"
          ],
          "font": {
           "color": "#2a3f5f"
          },
          "geo": {
           "bgcolor": "white",
           "lakecolor": "white",
           "landcolor": "#E5ECF6",
           "showlakes": true,
           "showland": true,
           "subunitcolor": "white"
          },
          "hoverlabel": {
           "align": "left"
          },
          "hovermode": "closest",
          "mapbox": {
           "style": "light"
          },
          "paper_bgcolor": "white",
          "plot_bgcolor": "#E5ECF6",
          "polar": {
           "angularaxis": {
            "gridcolor": "white",
            "linecolor": "white",
            "ticks": ""
           },
           "bgcolor": "#E5ECF6",
           "radialaxis": {
            "gridcolor": "white",
            "linecolor": "white",
            "ticks": ""
           }
          },
          "scene": {
           "xaxis": {
            "backgroundcolor": "#E5ECF6",
            "gridcolor": "white",
            "gridwidth": 2,
            "linecolor": "white",
            "showbackground": true,
            "ticks": "",
            "zerolinecolor": "white"
           },
           "yaxis": {
            "backgroundcolor": "#E5ECF6",
            "gridcolor": "white",
            "gridwidth": 2,
            "linecolor": "white",
            "showbackground": true,
            "ticks": "",
            "zerolinecolor": "white"
           },
           "zaxis": {
            "backgroundcolor": "#E5ECF6",
            "gridcolor": "white",
            "gridwidth": 2,
            "linecolor": "white",
            "showbackground": true,
            "ticks": "",
            "zerolinecolor": "white"
           }
          },
          "shapedefaults": {
           "line": {
            "color": "#2a3f5f"
           }
          },
          "ternary": {
           "aaxis": {
            "gridcolor": "white",
            "linecolor": "white",
            "ticks": ""
           },
           "baxis": {
            "gridcolor": "white",
            "linecolor": "white",
            "ticks": ""
           },
           "bgcolor": "#E5ECF6",
           "caxis": {
            "gridcolor": "white",
            "linecolor": "white",
            "ticks": ""
           }
          },
          "title": {
           "x": 0.05
          },
          "xaxis": {
           "automargin": true,
           "gridcolor": "white",
           "linecolor": "white",
           "ticks": "",
           "title": {
            "standoff": 15
           },
           "zerolinecolor": "white",
           "zerolinewidth": 2
          },
          "yaxis": {
           "automargin": true,
           "gridcolor": "white",
           "linecolor": "white",
           "ticks": "",
           "title": {
            "standoff": 15
           },
           "zerolinecolor": "white",
           "zerolinewidth": 2
          }
         }
        },
        "title": {
         "text": "Weight Distribution by Predicted Medal"
        },
        "xaxis": {
         "anchor": "y",
         "domain": [
          0,
          1
         ],
         "title": {
          "text": "Predicted Medal"
         }
        },
        "yaxis": {
         "anchor": "x",
         "domain": [
          0,
          1
         ],
         "title": {
          "text": "Weight"
         }
        }
       }
      }
     },
     "metadata": {},
     "output_type": "display_data"
    }
   ],
   "source": [
    "# Scatter plot of Age vs Height colored by predicted medal\n",
    "fig = px.scatter(df, x='Age', y='Height', color='pred_medal', title='Age vs Height by Predicted Medal')\n",
    "fig.update_layout(xaxis_title='Age', yaxis_title='Height')\n",
    "fig.show()\n",
    "\n",
    "# Box plot of Weight by predicted medal\n",
    "fig = px.box(df, x='pred_medal', y='Weight', title='Weight Distribution by Predicted Medal')\n",
    "fig.update_layout(xaxis_title='Predicted Medal', yaxis_title='Weight')\n",
    "fig.show()\n"
   ]
  }
 ],
 "metadata": {
  "kernelspec": {
   "display_name": "base",
   "language": "python",
   "name": "python3"
  },
  "language_info": {
   "codemirror_mode": {
    "name": "ipython",
    "version": 3
   },
   "file_extension": ".py",
   "mimetype": "text/x-python",
   "name": "python",
   "nbconvert_exporter": "python",
   "pygments_lexer": "ipython3",
   "version": "3.11.5"
  }
 },
 "nbformat": 4,
 "nbformat_minor": 2
}
