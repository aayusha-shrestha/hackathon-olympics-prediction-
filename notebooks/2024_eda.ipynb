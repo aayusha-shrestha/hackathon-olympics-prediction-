{
 "cells": [
  {
   "cell_type": "code",
   "execution_count": 1,
   "metadata": {},
   "outputs": [],
   "source": [
    "import pandas as pd\n",
    "import numpy as np\n",
    "import matplotlib.pyplot as plt\n",
    "import seaborn as sns\n",
    "import plotly.express as px\n",
    "import plotly.graph_objects as go"
   ]
  },
  {
   "cell_type": "code",
   "execution_count": 2,
   "metadata": {},
   "outputs": [],
   "source": [
    "import warnings\n",
    "warnings.filterwarnings(\"ignore\")\n",
    "pd.set_option(\"display.max_rows\", 15)"
   ]
  },
  {
   "cell_type": "code",
   "execution_count": 3,
   "metadata": {},
   "outputs": [],
   "source": [
    "df = pd.read_csv(\"../data/2024_result/2024_result.csv\")"
   ]
  },
  {
   "cell_type": "code",
   "execution_count": 4,
   "metadata": {},
   "outputs": [],
   "source": [
    "df['Host'] = 0 \n",
    "df.loc[df['Team'] == 'France', 'Host'] = 1"
   ]
  },
  {
   "cell_type": "code",
   "execution_count": 5,
   "metadata": {},
   "outputs": [],
   "source": [
    "df = df.drop(columns=['Year', 'Medal'])"
   ]
  },
  {
   "cell_type": "code",
   "execution_count": 6,
   "metadata": {},
   "outputs": [
    {
     "data": {
      "text/html": [
       "<div>\n",
       "<style scoped>\n",
       "    .dataframe tbody tr th:only-of-type {\n",
       "        vertical-align: middle;\n",
       "    }\n",
       "\n",
       "    .dataframe tbody tr th {\n",
       "        vertical-align: top;\n",
       "    }\n",
       "\n",
       "    .dataframe thead th {\n",
       "        text-align: right;\n",
       "    }\n",
       "</style>\n",
       "<table border=\"1\" class=\"dataframe\">\n",
       "  <thead>\n",
       "    <tr style=\"text-align: right;\">\n",
       "      <th></th>\n",
       "      <th>Bronze</th>\n",
       "      <th>Silver</th>\n",
       "      <th>Gold</th>\n",
       "      <th>ID</th>\n",
       "      <th>Sex</th>\n",
       "      <th>Age</th>\n",
       "      <th>Height</th>\n",
       "      <th>Weight</th>\n",
       "      <th>BMI</th>\n",
       "      <th>Host</th>\n",
       "      <th>Population</th>\n",
       "      <th>GDP_Per_Capita</th>\n",
       "      <th>Event</th>\n",
       "      <th>Name</th>\n",
       "      <th>Team</th>\n",
       "      <th>Sport</th>\n",
       "    </tr>\n",
       "  </thead>\n",
       "  <tbody>\n",
       "    <tr>\n",
       "      <th>0</th>\n",
       "      <td>0.875</td>\n",
       "      <td>0.000000</td>\n",
       "      <td>0.125000</td>\n",
       "      <td>110716</td>\n",
       "      <td>0</td>\n",
       "      <td>27.0</td>\n",
       "      <td>172.0</td>\n",
       "      <td>67.0</td>\n",
       "      <td>22.647377</td>\n",
       "      <td>0</td>\n",
       "      <td>3.628642e+07</td>\n",
       "      <td>42348.945461</td>\n",
       "      <td>Alpine Skiing Women's Super G</td>\n",
       "      <td>Georgia Simmerling</td>\n",
       "      <td>Canada</td>\n",
       "      <td>Alpine Skiing</td>\n",
       "    </tr>\n",
       "    <tr>\n",
       "      <th>1</th>\n",
       "      <td>0.875</td>\n",
       "      <td>0.000000</td>\n",
       "      <td>0.125000</td>\n",
       "      <td>110716</td>\n",
       "      <td>0</td>\n",
       "      <td>27.0</td>\n",
       "      <td>172.0</td>\n",
       "      <td>67.0</td>\n",
       "      <td>22.647377</td>\n",
       "      <td>0</td>\n",
       "      <td>3.628642e+07</td>\n",
       "      <td>42348.945461</td>\n",
       "      <td>Alpine Skiing Women's Super G</td>\n",
       "      <td>Georgia Simmerling</td>\n",
       "      <td>Canada</td>\n",
       "      <td>Alpine Skiing</td>\n",
       "    </tr>\n",
       "    <tr>\n",
       "      <th>2</th>\n",
       "      <td>0.875</td>\n",
       "      <td>0.000000</td>\n",
       "      <td>0.125000</td>\n",
       "      <td>110716</td>\n",
       "      <td>0</td>\n",
       "      <td>27.0</td>\n",
       "      <td>172.0</td>\n",
       "      <td>67.0</td>\n",
       "      <td>22.647377</td>\n",
       "      <td>0</td>\n",
       "      <td>3.628642e+07</td>\n",
       "      <td>42348.945461</td>\n",
       "      <td>Alpine Skiing Women's Super G</td>\n",
       "      <td>Georgia Simmerling</td>\n",
       "      <td>Canada</td>\n",
       "      <td>Alpine Skiing</td>\n",
       "    </tr>\n",
       "    <tr>\n",
       "      <th>3</th>\n",
       "      <td>0.100</td>\n",
       "      <td>0.000000</td>\n",
       "      <td>0.900000</td>\n",
       "      <td>96508</td>\n",
       "      <td>1</td>\n",
       "      <td>20.0</td>\n",
       "      <td>185.0</td>\n",
       "      <td>77.0</td>\n",
       "      <td>22.498174</td>\n",
       "      <td>0</td>\n",
       "      <td>2.412716e+07</td>\n",
       "      <td>49896.681101</td>\n",
       "      <td>Archery Men's Individual</td>\n",
       "      <td>Alec Potts</td>\n",
       "      <td>Australia</td>\n",
       "      <td>Archery</td>\n",
       "    </tr>\n",
       "    <tr>\n",
       "      <th>4</th>\n",
       "      <td>0.100</td>\n",
       "      <td>0.833333</td>\n",
       "      <td>0.066667</td>\n",
       "      <td>68149</td>\n",
       "      <td>1</td>\n",
       "      <td>21.0</td>\n",
       "      <td>174.0</td>\n",
       "      <td>80.0</td>\n",
       "      <td>26.423570</td>\n",
       "      <td>0</td>\n",
       "      <td>5.124571e+07</td>\n",
       "      <td>27608.247429</td>\n",
       "      <td>Archery Men's Individual</td>\n",
       "      <td>Lee Seung-Yun</td>\n",
       "      <td>South Korea</td>\n",
       "      <td>Archery</td>\n",
       "    </tr>\n",
       "    <tr>\n",
       "      <th>...</th>\n",
       "      <td>...</td>\n",
       "      <td>...</td>\n",
       "      <td>...</td>\n",
       "      <td>...</td>\n",
       "      <td>...</td>\n",
       "      <td>...</td>\n",
       "      <td>...</td>\n",
       "      <td>...</td>\n",
       "      <td>...</td>\n",
       "      <td>...</td>\n",
       "      <td>...</td>\n",
       "      <td>...</td>\n",
       "      <td>...</td>\n",
       "      <td>...</td>\n",
       "      <td>...</td>\n",
       "      <td>...</td>\n",
       "    </tr>\n",
       "    <tr>\n",
       "      <th>844</th>\n",
       "      <td>0.300</td>\n",
       "      <td>0.400000</td>\n",
       "      <td>0.300000</td>\n",
       "      <td>74069</td>\n",
       "      <td>0</td>\n",
       "      <td>23.0</td>\n",
       "      <td>162.0</td>\n",
       "      <td>58.0</td>\n",
       "      <td>22.100290</td>\n",
       "      <td>0</td>\n",
       "      <td>1.324171e+09</td>\n",
       "      <td>1717.473878</td>\n",
       "      <td>Wrestling Women's Lightweight, Freestyle</td>\n",
       "      <td>Sakshi Malik</td>\n",
       "      <td>India</td>\n",
       "      <td>Wrestling</td>\n",
       "    </tr>\n",
       "    <tr>\n",
       "      <th>845</th>\n",
       "      <td>0.800</td>\n",
       "      <td>0.000000</td>\n",
       "      <td>0.200000</td>\n",
       "      <td>3537</td>\n",
       "      <td>0</td>\n",
       "      <td>27.0</td>\n",
       "      <td>160.0</td>\n",
       "      <td>58.0</td>\n",
       "      <td>22.656250</td>\n",
       "      <td>0</td>\n",
       "      <td>1.140325e+07</td>\n",
       "      <td>3666.357154</td>\n",
       "      <td>Wrestling Women's Lightweight, Freestyle</td>\n",
       "      <td>Marwa Al-Amri</td>\n",
       "      <td>Tunisia</td>\n",
       "      <td>Wrestling</td>\n",
       "    </tr>\n",
       "    <tr>\n",
       "      <th>846</th>\n",
       "      <td>0.100</td>\n",
       "      <td>0.000000</td>\n",
       "      <td>0.900000</td>\n",
       "      <td>74264</td>\n",
       "      <td>0</td>\n",
       "      <td>23.0</td>\n",
       "      <td>163.0</td>\n",
       "      <td>65.0</td>\n",
       "      <td>24.464602</td>\n",
       "      <td>0</td>\n",
       "      <td>9.507120e+06</td>\n",
       "      <td>5025.405064</td>\n",
       "      <td>Wrestling Women's Middleweight, Freestyle</td>\n",
       "      <td>Mariya Ruslanovna Mamoshuk</td>\n",
       "      <td>Belarus</td>\n",
       "      <td>Wrestling</td>\n",
       "    </tr>\n",
       "    <tr>\n",
       "      <th>847</th>\n",
       "      <td>0.500</td>\n",
       "      <td>0.400000</td>\n",
       "      <td>0.100000</td>\n",
       "      <td>58163</td>\n",
       "      <td>0</td>\n",
       "      <td>21.0</td>\n",
       "      <td>160.0</td>\n",
       "      <td>61.0</td>\n",
       "      <td>23.828125</td>\n",
       "      <td>0</td>\n",
       "      <td>1.269945e+08</td>\n",
       "      <td>38972.340639</td>\n",
       "      <td>Wrestling Women's Middleweight, Freestyle</td>\n",
       "      <td>Risako Kawai</td>\n",
       "      <td>Japan</td>\n",
       "      <td>Wrestling</td>\n",
       "    </tr>\n",
       "    <tr>\n",
       "      <th>848</th>\n",
       "      <td>0.800</td>\n",
       "      <td>0.200000</td>\n",
       "      <td>0.000000</td>\n",
       "      <td>79362</td>\n",
       "      <td>0</td>\n",
       "      <td>36.0</td>\n",
       "      <td>167.0</td>\n",
       "      <td>63.0</td>\n",
       "      <td>22.589551</td>\n",
       "      <td>0</td>\n",
       "      <td>3.794802e+07</td>\n",
       "      <td>12430.629602</td>\n",
       "      <td>Wrestling Women's Middleweight, Freestyle</td>\n",
       "      <td>Monika Ewa Michalik (Rogien-)</td>\n",
       "      <td>Poland</td>\n",
       "      <td>Wrestling</td>\n",
       "    </tr>\n",
       "  </tbody>\n",
       "</table>\n",
       "<p>849 rows × 16 columns</p>\n",
       "</div>"
      ],
      "text/plain": [
       "     Bronze    Silver      Gold      ID  Sex   Age  Height  Weight        BMI  \\\n",
       "0     0.875  0.000000  0.125000  110716    0  27.0   172.0    67.0  22.647377   \n",
       "1     0.875  0.000000  0.125000  110716    0  27.0   172.0    67.0  22.647377   \n",
       "2     0.875  0.000000  0.125000  110716    0  27.0   172.0    67.0  22.647377   \n",
       "3     0.100  0.000000  0.900000   96508    1  20.0   185.0    77.0  22.498174   \n",
       "4     0.100  0.833333  0.066667   68149    1  21.0   174.0    80.0  26.423570   \n",
       "..      ...       ...       ...     ...  ...   ...     ...     ...        ...   \n",
       "844   0.300  0.400000  0.300000   74069    0  23.0   162.0    58.0  22.100290   \n",
       "845   0.800  0.000000  0.200000    3537    0  27.0   160.0    58.0  22.656250   \n",
       "846   0.100  0.000000  0.900000   74264    0  23.0   163.0    65.0  24.464602   \n",
       "847   0.500  0.400000  0.100000   58163    0  21.0   160.0    61.0  23.828125   \n",
       "848   0.800  0.200000  0.000000   79362    0  36.0   167.0    63.0  22.589551   \n",
       "\n",
       "     Host    Population  GDP_Per_Capita  \\\n",
       "0       0  3.628642e+07    42348.945461   \n",
       "1       0  3.628642e+07    42348.945461   \n",
       "2       0  3.628642e+07    42348.945461   \n",
       "3       0  2.412716e+07    49896.681101   \n",
       "4       0  5.124571e+07    27608.247429   \n",
       "..    ...           ...             ...   \n",
       "844     0  1.324171e+09     1717.473878   \n",
       "845     0  1.140325e+07     3666.357154   \n",
       "846     0  9.507120e+06     5025.405064   \n",
       "847     0  1.269945e+08    38972.340639   \n",
       "848     0  3.794802e+07    12430.629602   \n",
       "\n",
       "                                         Event                           Name  \\\n",
       "0                Alpine Skiing Women's Super G             Georgia Simmerling   \n",
       "1                Alpine Skiing Women's Super G             Georgia Simmerling   \n",
       "2                Alpine Skiing Women's Super G             Georgia Simmerling   \n",
       "3                     Archery Men's Individual                     Alec Potts   \n",
       "4                     Archery Men's Individual                  Lee Seung-Yun   \n",
       "..                                         ...                            ...   \n",
       "844   Wrestling Women's Lightweight, Freestyle                   Sakshi Malik   \n",
       "845   Wrestling Women's Lightweight, Freestyle                  Marwa Al-Amri   \n",
       "846  Wrestling Women's Middleweight, Freestyle     Mariya Ruslanovna Mamoshuk   \n",
       "847  Wrestling Women's Middleweight, Freestyle                   Risako Kawai   \n",
       "848  Wrestling Women's Middleweight, Freestyle  Monika Ewa Michalik (Rogien-)   \n",
       "\n",
       "            Team          Sport  \n",
       "0         Canada  Alpine Skiing  \n",
       "1         Canada  Alpine Skiing  \n",
       "2         Canada  Alpine Skiing  \n",
       "3      Australia        Archery  \n",
       "4    South Korea        Archery  \n",
       "..           ...            ...  \n",
       "844        India      Wrestling  \n",
       "845      Tunisia      Wrestling  \n",
       "846      Belarus      Wrestling  \n",
       "847        Japan      Wrestling  \n",
       "848       Poland      Wrestling  \n",
       "\n",
       "[849 rows x 16 columns]"
      ]
     },
     "execution_count": 6,
     "metadata": {},
     "output_type": "execute_result"
    }
   ],
   "source": [
    "df"
   ]
  },
  {
   "cell_type": "code",
   "execution_count": 7,
   "metadata": {},
   "outputs": [],
   "source": [
    "df['Sex'] = df['Sex'].astype('category')"
   ]
  },
  {
   "cell_type": "code",
   "execution_count": 8,
   "metadata": {},
   "outputs": [],
   "source": [
    "df['pred_medal'] = df[['Bronze', 'Silver', 'Gold']].idxmax(axis=1)"
   ]
  },
  {
   "cell_type": "code",
   "execution_count": 9,
   "metadata": {},
   "outputs": [
    {
     "data": {
      "text/plain": [
       "pred_medal\n",
       "Bronze    334\n",
       "Gold      278\n",
       "Silver    237\n",
       "Name: count, dtype: int64"
      ]
     },
     "execution_count": 9,
     "metadata": {},
     "output_type": "execute_result"
    }
   ],
   "source": [
    "df['pred_medal'].value_counts()"
   ]
  },
  {
   "cell_type": "code",
   "execution_count": 10,
   "metadata": {},
   "outputs": [
    {
     "data": {
      "application/vnd.plotly.v1+json": {
       "config": {
        "plotlyServerURL": "https://plot.ly"
       },
       "data": [
        {
         "alignmentgroup": "True",
         "hovertemplate": "pred_medal=Bronze<br>Sport=%{x}<br>value=%{y}<extra></extra>",
         "legendgroup": "Bronze",
         "marker": {
          "color": "#636efa",
          "pattern": {
           "shape": ""
          }
         },
         "name": "Bronze",
         "offsetgroup": "Bronze",
         "orientation": "v",
         "showlegend": true,
         "textposition": "auto",
         "type": "bar",
         "x": [
          "Athletics",
          "Swimming",
          "Wrestling",
          "Canoeing",
          "Cycling",
          "Weightlifting",
          "Rowing",
          "Judo",
          "Boxing",
          "Shooting",
          "Fencing",
          "Sailing",
          "Taekwondo",
          "Diving",
          "Gymnastics",
          "Badminton",
          "Tennis",
          "Table Tennis",
          "Equestrianism",
          "Synchronized Swimming",
          "Water Polo",
          "Volleyball",
          "Triathlon",
          "Trampolining",
          "Rugby Sevens",
          "Basketball",
          "Beach Volleyball",
          "Rhythmic Gymnastics",
          "Modern Pentathlon",
          "Archery",
          "Hockey",
          "Handball",
          "Golf",
          "Football",
          "Alpine Skiing"
         ],
         "xaxis": "x",
         "y": [
          57,
          35,
          24,
          15,
          15,
          21,
          16,
          17,
          19,
          13,
          10,
          16,
          8,
          9,
          4,
          5,
          4,
          5,
          3,
          4,
          2,
          2,
          3,
          1,
          2,
          2,
          1,
          3,
          3,
          2,
          2,
          2,
          4,
          2,
          3
         ],
         "yaxis": "y"
        },
        {
         "alignmentgroup": "True",
         "hovertemplate": "pred_medal=Gold<br>Sport=%{x}<br>value=%{y}<extra></extra>",
         "legendgroup": "Gold",
         "marker": {
          "color": "#EF553B",
          "pattern": {
           "shape": ""
          }
         },
         "name": "Gold",
         "offsetgroup": "Gold",
         "orientation": "v",
         "showlegend": true,
         "textposition": "auto",
         "type": "bar",
         "x": [
          "Athletics",
          "Swimming",
          "Wrestling",
          "Canoeing",
          "Cycling",
          "Weightlifting",
          "Rowing",
          "Judo",
          "Boxing",
          "Shooting",
          "Fencing",
          "Sailing",
          "Taekwondo",
          "Diving",
          "Gymnastics",
          "Badminton",
          "Tennis",
          "Table Tennis",
          "Equestrianism",
          "Synchronized Swimming",
          "Water Polo",
          "Volleyball",
          "Triathlon",
          "Trampolining",
          "Rugby Sevens",
          "Basketball",
          "Beach Volleyball",
          "Rhythmic Gymnastics",
          "Modern Pentathlon",
          "Archery",
          "Hockey",
          "Handball",
          "Golf",
          "Football",
          "Alpine Skiing"
         ],
         "xaxis": "x",
         "y": [
          40,
          29,
          16,
          20,
          24,
          13,
          18,
          13,
          11,
          13,
          14,
          8,
          5,
          7,
          4,
          6,
          4,
          5,
          3,
          1,
          2,
          2,
          0,
          1,
          2,
          2,
          3,
          1,
          2,
          2,
          2,
          2,
          1,
          2,
          0
         ],
         "yaxis": "y"
        },
        {
         "alignmentgroup": "True",
         "hovertemplate": "pred_medal=Silver<br>Sport=%{x}<br>value=%{y}<extra></extra>",
         "legendgroup": "Silver",
         "marker": {
          "color": "#00cc96",
          "pattern": {
           "shape": ""
          }
         },
         "name": "Silver",
         "offsetgroup": "Silver",
         "orientation": "v",
         "showlegend": true,
         "textposition": "auto",
         "type": "bar",
         "x": [
          "Athletics",
          "Swimming",
          "Wrestling",
          "Canoeing",
          "Cycling",
          "Weightlifting",
          "Rowing",
          "Judo",
          "Boxing",
          "Shooting",
          "Fencing",
          "Sailing",
          "Taekwondo",
          "Diving",
          "Gymnastics",
          "Badminton",
          "Tennis",
          "Table Tennis",
          "Equestrianism",
          "Synchronized Swimming",
          "Water Polo",
          "Volleyball",
          "Triathlon",
          "Trampolining",
          "Rugby Sevens",
          "Basketball",
          "Beach Volleyball",
          "Rhythmic Gymnastics",
          "Modern Pentathlon",
          "Archery",
          "Hockey",
          "Handball",
          "Golf",
          "Football",
          "Alpine Skiing"
         ],
         "xaxis": "x",
         "y": [
          41,
          23,
          17,
          10,
          6,
          8,
          8,
          12,
          12,
          13,
          6,
          6,
          11,
          8,
          10,
          4,
          7,
          2,
          3,
          1,
          2,
          2,
          3,
          4,
          2,
          2,
          2,
          2,
          1,
          2,
          2,
          2,
          1,
          2,
          0
         ],
         "yaxis": "y"
        }
       ],
       "layout": {
        "barmode": "stack",
        "legend": {
         "title": {
          "text": "pred_medal"
         },
         "tracegroupgap": 0
        },
        "template": {
         "data": {
          "bar": [
           {
            "error_x": {
             "color": "#2a3f5f"
            },
            "error_y": {
             "color": "#2a3f5f"
            },
            "marker": {
             "line": {
              "color": "#E5ECF6",
              "width": 0.5
             },
             "pattern": {
              "fillmode": "overlay",
              "size": 10,
              "solidity": 0.2
             }
            },
            "type": "bar"
           }
          ],
          "barpolar": [
           {
            "marker": {
             "line": {
              "color": "#E5ECF6",
              "width": 0.5
             },
             "pattern": {
              "fillmode": "overlay",
              "size": 10,
              "solidity": 0.2
             }
            },
            "type": "barpolar"
           }
          ],
          "carpet": [
           {
            "aaxis": {
             "endlinecolor": "#2a3f5f",
             "gridcolor": "white",
             "linecolor": "white",
             "minorgridcolor": "white",
             "startlinecolor": "#2a3f5f"
            },
            "baxis": {
             "endlinecolor": "#2a3f5f",
             "gridcolor": "white",
             "linecolor": "white",
             "minorgridcolor": "white",
             "startlinecolor": "#2a3f5f"
            },
            "type": "carpet"
           }
          ],
          "choropleth": [
           {
            "colorbar": {
             "outlinewidth": 0,
             "ticks": ""
            },
            "type": "choropleth"
           }
          ],
          "contour": [
           {
            "colorbar": {
             "outlinewidth": 0,
             "ticks": ""
            },
            "colorscale": [
             [
              0,
              "#0d0887"
             ],
             [
              0.1111111111111111,
              "#46039f"
             ],
             [
              0.2222222222222222,
              "#7201a8"
             ],
             [
              0.3333333333333333,
              "#9c179e"
             ],
             [
              0.4444444444444444,
              "#bd3786"
             ],
             [
              0.5555555555555556,
              "#d8576b"
             ],
             [
              0.6666666666666666,
              "#ed7953"
             ],
             [
              0.7777777777777778,
              "#fb9f3a"
             ],
             [
              0.8888888888888888,
              "#fdca26"
             ],
             [
              1,
              "#f0f921"
             ]
            ],
            "type": "contour"
           }
          ],
          "contourcarpet": [
           {
            "colorbar": {
             "outlinewidth": 0,
             "ticks": ""
            },
            "type": "contourcarpet"
           }
          ],
          "heatmap": [
           {
            "colorbar": {
             "outlinewidth": 0,
             "ticks": ""
            },
            "colorscale": [
             [
              0,
              "#0d0887"
             ],
             [
              0.1111111111111111,
              "#46039f"
             ],
             [
              0.2222222222222222,
              "#7201a8"
             ],
             [
              0.3333333333333333,
              "#9c179e"
             ],
             [
              0.4444444444444444,
              "#bd3786"
             ],
             [
              0.5555555555555556,
              "#d8576b"
             ],
             [
              0.6666666666666666,
              "#ed7953"
             ],
             [
              0.7777777777777778,
              "#fb9f3a"
             ],
             [
              0.8888888888888888,
              "#fdca26"
             ],
             [
              1,
              "#f0f921"
             ]
            ],
            "type": "heatmap"
           }
          ],
          "heatmapgl": [
           {
            "colorbar": {
             "outlinewidth": 0,
             "ticks": ""
            },
            "colorscale": [
             [
              0,
              "#0d0887"
             ],
             [
              0.1111111111111111,
              "#46039f"
             ],
             [
              0.2222222222222222,
              "#7201a8"
             ],
             [
              0.3333333333333333,
              "#9c179e"
             ],
             [
              0.4444444444444444,
              "#bd3786"
             ],
             [
              0.5555555555555556,
              "#d8576b"
             ],
             [
              0.6666666666666666,
              "#ed7953"
             ],
             [
              0.7777777777777778,
              "#fb9f3a"
             ],
             [
              0.8888888888888888,
              "#fdca26"
             ],
             [
              1,
              "#f0f921"
             ]
            ],
            "type": "heatmapgl"
           }
          ],
          "histogram": [
           {
            "marker": {
             "pattern": {
              "fillmode": "overlay",
              "size": 10,
              "solidity": 0.2
             }
            },
            "type": "histogram"
           }
          ],
          "histogram2d": [
           {
            "colorbar": {
             "outlinewidth": 0,
             "ticks": ""
            },
            "colorscale": [
             [
              0,
              "#0d0887"
             ],
             [
              0.1111111111111111,
              "#46039f"
             ],
             [
              0.2222222222222222,
              "#7201a8"
             ],
             [
              0.3333333333333333,
              "#9c179e"
             ],
             [
              0.4444444444444444,
              "#bd3786"
             ],
             [
              0.5555555555555556,
              "#d8576b"
             ],
             [
              0.6666666666666666,
              "#ed7953"
             ],
             [
              0.7777777777777778,
              "#fb9f3a"
             ],
             [
              0.8888888888888888,
              "#fdca26"
             ],
             [
              1,
              "#f0f921"
             ]
            ],
            "type": "histogram2d"
           }
          ],
          "histogram2dcontour": [
           {
            "colorbar": {
             "outlinewidth": 0,
             "ticks": ""
            },
            "colorscale": [
             [
              0,
              "#0d0887"
             ],
             [
              0.1111111111111111,
              "#46039f"
             ],
             [
              0.2222222222222222,
              "#7201a8"
             ],
             [
              0.3333333333333333,
              "#9c179e"
             ],
             [
              0.4444444444444444,
              "#bd3786"
             ],
             [
              0.5555555555555556,
              "#d8576b"
             ],
             [
              0.6666666666666666,
              "#ed7953"
             ],
             [
              0.7777777777777778,
              "#fb9f3a"
             ],
             [
              0.8888888888888888,
              "#fdca26"
             ],
             [
              1,
              "#f0f921"
             ]
            ],
            "type": "histogram2dcontour"
           }
          ],
          "mesh3d": [
           {
            "colorbar": {
             "outlinewidth": 0,
             "ticks": ""
            },
            "type": "mesh3d"
           }
          ],
          "parcoords": [
           {
            "line": {
             "colorbar": {
              "outlinewidth": 0,
              "ticks": ""
             }
            },
            "type": "parcoords"
           }
          ],
          "pie": [
           {
            "automargin": true,
            "type": "pie"
           }
          ],
          "scatter": [
           {
            "fillpattern": {
             "fillmode": "overlay",
             "size": 10,
             "solidity": 0.2
            },
            "type": "scatter"
           }
          ],
          "scatter3d": [
           {
            "line": {
             "colorbar": {
              "outlinewidth": 0,
              "ticks": ""
             }
            },
            "marker": {
             "colorbar": {
              "outlinewidth": 0,
              "ticks": ""
             }
            },
            "type": "scatter3d"
           }
          ],
          "scattercarpet": [
           {
            "marker": {
             "colorbar": {
              "outlinewidth": 0,
              "ticks": ""
             }
            },
            "type": "scattercarpet"
           }
          ],
          "scattergeo": [
           {
            "marker": {
             "colorbar": {
              "outlinewidth": 0,
              "ticks": ""
             }
            },
            "type": "scattergeo"
           }
          ],
          "scattergl": [
           {
            "marker": {
             "colorbar": {
              "outlinewidth": 0,
              "ticks": ""
             }
            },
            "type": "scattergl"
           }
          ],
          "scattermapbox": [
           {
            "marker": {
             "colorbar": {
              "outlinewidth": 0,
              "ticks": ""
             }
            },
            "type": "scattermapbox"
           }
          ],
          "scatterpolar": [
           {
            "marker": {
             "colorbar": {
              "outlinewidth": 0,
              "ticks": ""
             }
            },
            "type": "scatterpolar"
           }
          ],
          "scatterpolargl": [
           {
            "marker": {
             "colorbar": {
              "outlinewidth": 0,
              "ticks": ""
             }
            },
            "type": "scatterpolargl"
           }
          ],
          "scatterternary": [
           {
            "marker": {
             "colorbar": {
              "outlinewidth": 0,
              "ticks": ""
             }
            },
            "type": "scatterternary"
           }
          ],
          "surface": [
           {
            "colorbar": {
             "outlinewidth": 0,
             "ticks": ""
            },
            "colorscale": [
             [
              0,
              "#0d0887"
             ],
             [
              0.1111111111111111,
              "#46039f"
             ],
             [
              0.2222222222222222,
              "#7201a8"
             ],
             [
              0.3333333333333333,
              "#9c179e"
             ],
             [
              0.4444444444444444,
              "#bd3786"
             ],
             [
              0.5555555555555556,
              "#d8576b"
             ],
             [
              0.6666666666666666,
              "#ed7953"
             ],
             [
              0.7777777777777778,
              "#fb9f3a"
             ],
             [
              0.8888888888888888,
              "#fdca26"
             ],
             [
              1,
              "#f0f921"
             ]
            ],
            "type": "surface"
           }
          ],
          "table": [
           {
            "cells": {
             "fill": {
              "color": "#EBF0F8"
             },
             "line": {
              "color": "white"
             }
            },
            "header": {
             "fill": {
              "color": "#C8D4E3"
             },
             "line": {
              "color": "white"
             }
            },
            "type": "table"
           }
          ]
         },
         "layout": {
          "annotationdefaults": {
           "arrowcolor": "#2a3f5f",
           "arrowhead": 0,
           "arrowwidth": 1
          },
          "autotypenumbers": "strict",
          "coloraxis": {
           "colorbar": {
            "outlinewidth": 0,
            "ticks": ""
           }
          },
          "colorscale": {
           "diverging": [
            [
             0,
             "#8e0152"
            ],
            [
             0.1,
             "#c51b7d"
            ],
            [
             0.2,
             "#de77ae"
            ],
            [
             0.3,
             "#f1b6da"
            ],
            [
             0.4,
             "#fde0ef"
            ],
            [
             0.5,
             "#f7f7f7"
            ],
            [
             0.6,
             "#e6f5d0"
            ],
            [
             0.7,
             "#b8e186"
            ],
            [
             0.8,
             "#7fbc41"
            ],
            [
             0.9,
             "#4d9221"
            ],
            [
             1,
             "#276419"
            ]
           ],
           "sequential": [
            [
             0,
             "#0d0887"
            ],
            [
             0.1111111111111111,
             "#46039f"
            ],
            [
             0.2222222222222222,
             "#7201a8"
            ],
            [
             0.3333333333333333,
             "#9c179e"
            ],
            [
             0.4444444444444444,
             "#bd3786"
            ],
            [
             0.5555555555555556,
             "#d8576b"
            ],
            [
             0.6666666666666666,
             "#ed7953"
            ],
            [
             0.7777777777777778,
             "#fb9f3a"
            ],
            [
             0.8888888888888888,
             "#fdca26"
            ],
            [
             1,
             "#f0f921"
            ]
           ],
           "sequentialminus": [
            [
             0,
             "#0d0887"
            ],
            [
             0.1111111111111111,
             "#46039f"
            ],
            [
             0.2222222222222222,
             "#7201a8"
            ],
            [
             0.3333333333333333,
             "#9c179e"
            ],
            [
             0.4444444444444444,
             "#bd3786"
            ],
            [
             0.5555555555555556,
             "#d8576b"
            ],
            [
             0.6666666666666666,
             "#ed7953"
            ],
            [
             0.7777777777777778,
             "#fb9f3a"
            ],
            [
             0.8888888888888888,
             "#fdca26"
            ],
            [
             1,
             "#f0f921"
            ]
           ]
          },
          "colorway": [
           "#636efa",
           "#EF553B",
           "#00cc96",
           "#ab63fa",
           "#FFA15A",
           "#19d3f3",
           "#FF6692",
           "#B6E880",
           "#FF97FF",
           "#FECB52"
          ],
          "font": {
           "color": "#2a3f5f"
          },
          "geo": {
           "bgcolor": "white",
           "lakecolor": "white",
           "landcolor": "#E5ECF6",
           "showlakes": true,
           "showland": true,
           "subunitcolor": "white"
          },
          "hoverlabel": {
           "align": "left"
          },
          "hovermode": "closest",
          "mapbox": {
           "style": "light"
          },
          "paper_bgcolor": "white",
          "plot_bgcolor": "#E5ECF6",
          "polar": {
           "angularaxis": {
            "gridcolor": "white",
            "linecolor": "white",
            "ticks": ""
           },
           "bgcolor": "#E5ECF6",
           "radialaxis": {
            "gridcolor": "white",
            "linecolor": "white",
            "ticks": ""
           }
          },
          "scene": {
           "xaxis": {
            "backgroundcolor": "#E5ECF6",
            "gridcolor": "white",
            "gridwidth": 2,
            "linecolor": "white",
            "showbackground": true,
            "ticks": "",
            "zerolinecolor": "white"
           },
           "yaxis": {
            "backgroundcolor": "#E5ECF6",
            "gridcolor": "white",
            "gridwidth": 2,
            "linecolor": "white",
            "showbackground": true,
            "ticks": "",
            "zerolinecolor": "white"
           },
           "zaxis": {
            "backgroundcolor": "#E5ECF6",
            "gridcolor": "white",
            "gridwidth": 2,
            "linecolor": "white",
            "showbackground": true,
            "ticks": "",
            "zerolinecolor": "white"
           }
          },
          "shapedefaults": {
           "line": {
            "color": "#2a3f5f"
           }
          },
          "ternary": {
           "aaxis": {
            "gridcolor": "white",
            "linecolor": "white",
            "ticks": ""
           },
           "baxis": {
            "gridcolor": "white",
            "linecolor": "white",
            "ticks": ""
           },
           "bgcolor": "#E5ECF6",
           "caxis": {
            "gridcolor": "white",
            "linecolor": "white",
            "ticks": ""
           }
          },
          "title": {
           "x": 0.05
          },
          "xaxis": {
           "automargin": true,
           "gridcolor": "white",
           "linecolor": "white",
           "ticks": "",
           "title": {
            "standoff": 15
           },
           "zerolinecolor": "white",
           "zerolinewidth": 2
          },
          "yaxis": {
           "automargin": true,
           "gridcolor": "white",
           "linecolor": "white",
           "ticks": "",
           "title": {
            "standoff": 15
           },
           "zerolinecolor": "white",
           "zerolinewidth": 2
          }
         }
        },
        "title": {
         "text": "Predicted Medals by Sport"
        },
        "xaxis": {
         "anchor": "y",
         "domain": [
          0,
          1
         ],
         "title": {
          "text": "Sport"
         }
        },
        "yaxis": {
         "anchor": "x",
         "domain": [
          0,
          1
         ],
         "title": {
          "text": "value"
         }
        }
       }
      }
     },
     "metadata": {},
     "output_type": "display_data"
    }
   ],
   "source": [
    "medals_by_sport = df.groupby(['Sport', 'pred_medal']).size().unstack().fillna(0)\n",
    "medals_by_sport_sorted = medals_by_sport.sum(axis=1).sort_values(ascending=False).index\n",
    "medals_by_sport_sorted_df = medals_by_sport.loc[medals_by_sport_sorted]\n",
    "\n",
    "# Plot predicted medals by sport (sorted)\n",
    "fig = px.bar(medals_by_sport_sorted_df, title='Predicted Medals by Sport', barmode='stack')\n",
    "fig.show()"
   ]
  },
  {
   "cell_type": "code",
   "execution_count": 11,
   "metadata": {},
   "outputs": [
    {
     "data": {
      "application/vnd.plotly.v1+json": {
       "config": {
        "plotlyServerURL": "https://plot.ly"
       },
       "data": [
        {
         "alignmentgroup": "True",
         "hovertemplate": "Medal Type=Bronze<br>Sex=1<br>Sport=%{x}<br>count=%{y}<extra></extra>",
         "legendgroup": "Bronze",
         "marker": {
          "color": "lightblue",
          "pattern": {
           "shape": ""
          }
         },
         "name": "Bronze",
         "offsetgroup": "Bronze",
         "orientation": "v",
         "showlegend": true,
         "textposition": "auto",
         "type": "bar",
         "x": [
          "Athletics",
          "Athletics",
          "Athletics",
          "Athletics",
          "Athletics",
          "Athletics",
          "Athletics",
          "Athletics",
          "Athletics",
          "Athletics",
          "Athletics",
          "Athletics",
          "Athletics",
          "Athletics",
          "Athletics",
          "Athletics",
          "Athletics",
          "Athletics",
          "Athletics",
          "Athletics",
          "Athletics",
          "Athletics",
          "Athletics",
          "Athletics",
          "Athletics",
          "Athletics",
          "Athletics",
          "Athletics",
          "Athletics",
          "Athletics",
          "Canoeing",
          "Canoeing",
          "Canoeing",
          "Canoeing",
          "Canoeing",
          "Canoeing",
          "Canoeing",
          "Canoeing",
          "Canoeing",
          "Canoeing",
          "Canoeing",
          "Canoeing",
          "Canoeing",
          "Gymnastics",
          "Gymnastics",
          "Taekwondo",
          "Taekwondo",
          "Trampolining"
         ],
         "xaxis": "x",
         "y": [
          1,
          1,
          1,
          1,
          1,
          1,
          1,
          1,
          1,
          1,
          1,
          1,
          1,
          1,
          1,
          1,
          1,
          1,
          1,
          1,
          1,
          1,
          1,
          1,
          1,
          1,
          1,
          1,
          1,
          1,
          1,
          1,
          1,
          1,
          1,
          1,
          1,
          1,
          1,
          1,
          1,
          1,
          1,
          1,
          1,
          1,
          1,
          1
         ],
         "yaxis": "y"
        },
        {
         "alignmentgroup": "True",
         "hovertemplate": "Medal Type=Bronze<br>Sex=0<br>Sport=%{x}<br>count=%{y}<extra></extra>",
         "legendgroup": "Bronze",
         "marker": {
          "color": "lightblue",
          "pattern": {
           "shape": ""
          }
         },
         "name": "Bronze",
         "offsetgroup": "Bronze",
         "orientation": "v",
         "showlegend": false,
         "textposition": "auto",
         "type": "bar",
         "x": [
          "Athletics",
          "Athletics",
          "Athletics",
          "Athletics",
          "Athletics",
          "Athletics",
          "Athletics",
          "Athletics",
          "Athletics",
          "Athletics",
          "Athletics",
          "Athletics",
          "Athletics",
          "Athletics",
          "Athletics",
          "Athletics",
          "Athletics",
          "Athletics",
          "Athletics",
          "Athletics",
          "Athletics",
          "Athletics",
          "Athletics",
          "Athletics",
          "Athletics",
          "Athletics",
          "Athletics",
          "Canoeing",
          "Canoeing",
          "Gymnastics",
          "Gymnastics",
          "Taekwondo",
          "Taekwondo",
          "Taekwondo",
          "Taekwondo",
          "Taekwondo",
          "Taekwondo"
         ],
         "xaxis": "x2",
         "y": [
          1,
          1,
          1,
          1,
          1,
          1,
          1,
          1,
          1,
          1,
          1,
          1,
          1,
          1,
          1,
          1,
          1,
          1,
          1,
          1,
          1,
          1,
          1,
          1,
          1,
          1,
          1,
          1,
          1,
          1,
          1,
          1,
          1,
          1,
          1,
          1,
          1
         ],
         "yaxis": "y2"
        },
        {
         "alignmentgroup": "True",
         "hovertemplate": "Medal Type=Silver<br>Sex=1<br>Sport=%{x}<br>count=%{y}<extra></extra>",
         "legendgroup": "Silver",
         "marker": {
          "color": "lightgreen",
          "pattern": {
           "shape": ""
          }
         },
         "name": "Silver",
         "offsetgroup": "Silver",
         "orientation": "v",
         "showlegend": true,
         "textposition": "auto",
         "type": "bar",
         "x": [
          "Athletics",
          "Athletics",
          "Athletics",
          "Athletics",
          "Athletics",
          "Athletics",
          "Athletics",
          "Athletics",
          "Athletics",
          "Athletics",
          "Athletics",
          "Athletics",
          "Athletics",
          "Athletics",
          "Athletics",
          "Athletics",
          "Athletics",
          "Athletics",
          "Athletics",
          "Athletics",
          "Athletics",
          "Athletics",
          "Canoeing",
          "Canoeing",
          "Canoeing",
          "Canoeing",
          "Canoeing",
          "Canoeing",
          "Canoeing",
          "Canoeing",
          "Canoeing",
          "Gymnastics",
          "Gymnastics",
          "Gymnastics",
          "Gymnastics",
          "Gymnastics",
          "Gymnastics",
          "Gymnastics",
          "Gymnastics",
          "Taekwondo",
          "Taekwondo",
          "Taekwondo",
          "Taekwondo",
          "Taekwondo",
          "Taekwondo",
          "Taekwondo",
          "Taekwondo",
          "Trampolining",
          "Trampolining"
         ],
         "xaxis": "x",
         "y": [
          1,
          1,
          1,
          1,
          1,
          1,
          1,
          1,
          1,
          1,
          1,
          1,
          1,
          1,
          1,
          1,
          1,
          1,
          1,
          1,
          1,
          1,
          1,
          1,
          1,
          1,
          1,
          1,
          1,
          1,
          1,
          1,
          1,
          1,
          1,
          1,
          1,
          1,
          1,
          1,
          1,
          1,
          1,
          1,
          1,
          1,
          1,
          1,
          1
         ],
         "yaxis": "y"
        },
        {
         "alignmentgroup": "True",
         "hovertemplate": "Medal Type=Silver<br>Sex=0<br>Sport=%{x}<br>count=%{y}<extra></extra>",
         "legendgroup": "Silver",
         "marker": {
          "color": "lightgreen",
          "pattern": {
           "shape": ""
          }
         },
         "name": "Silver",
         "offsetgroup": "Silver",
         "orientation": "v",
         "showlegend": false,
         "textposition": "auto",
         "type": "bar",
         "x": [
          "Athletics",
          "Athletics",
          "Athletics",
          "Athletics",
          "Athletics",
          "Athletics",
          "Athletics",
          "Athletics",
          "Athletics",
          "Athletics",
          "Athletics",
          "Athletics",
          "Athletics",
          "Athletics",
          "Athletics",
          "Athletics",
          "Athletics",
          "Athletics",
          "Athletics",
          "Canoeing",
          "Gymnastics",
          "Gymnastics",
          "Taekwondo",
          "Taekwondo",
          "Taekwondo",
          "Trampolining",
          "Trampolining"
         ],
         "xaxis": "x2",
         "y": [
          1,
          1,
          1,
          1,
          1,
          1,
          1,
          1,
          1,
          1,
          1,
          1,
          1,
          1,
          1,
          1,
          1,
          1,
          1,
          1,
          1,
          1,
          1,
          1,
          1,
          1,
          1
         ],
         "yaxis": "y2"
        },
        {
         "alignmentgroup": "True",
         "hovertemplate": "Medal Type=Gold<br>Sex=1<br>Sport=%{x}<br>count=%{y}<extra></extra>",
         "legendgroup": "Gold",
         "marker": {
          "color": "lightcoral",
          "pattern": {
           "shape": ""
          }
         },
         "name": "Gold",
         "offsetgroup": "Gold",
         "orientation": "v",
         "showlegend": true,
         "textposition": "auto",
         "type": "bar",
         "x": [
          "Athletics",
          "Athletics",
          "Athletics",
          "Athletics",
          "Athletics",
          "Athletics",
          "Athletics",
          "Athletics",
          "Athletics",
          "Athletics",
          "Athletics",
          "Athletics",
          "Athletics",
          "Athletics",
          "Athletics",
          "Athletics",
          "Athletics",
          "Athletics",
          "Athletics",
          "Athletics",
          "Canoeing",
          "Canoeing",
          "Canoeing",
          "Canoeing",
          "Canoeing",
          "Canoeing",
          "Canoeing",
          "Canoeing",
          "Canoeing",
          "Canoeing",
          "Canoeing",
          "Gymnastics",
          "Gymnastics",
          "Taekwondo",
          "Taekwondo"
         ],
         "xaxis": "x",
         "y": [
          1,
          1,
          1,
          1,
          1,
          1,
          1,
          1,
          1,
          1,
          1,
          1,
          1,
          1,
          1,
          1,
          1,
          1,
          1,
          1,
          1,
          1,
          1,
          1,
          1,
          1,
          1,
          1,
          1,
          1,
          1,
          1,
          1,
          1,
          1
         ],
         "yaxis": "y"
        },
        {
         "alignmentgroup": "True",
         "hovertemplate": "Medal Type=Gold<br>Sex=0<br>Sport=%{x}<br>count=%{y}<extra></extra>",
         "legendgroup": "Gold",
         "marker": {
          "color": "lightcoral",
          "pattern": {
           "shape": ""
          }
         },
         "name": "Gold",
         "offsetgroup": "Gold",
         "orientation": "v",
         "showlegend": false,
         "textposition": "auto",
         "type": "bar",
         "x": [
          "Athletics",
          "Athletics",
          "Athletics",
          "Athletics",
          "Athletics",
          "Athletics",
          "Athletics",
          "Athletics",
          "Athletics",
          "Athletics",
          "Athletics",
          "Athletics",
          "Athletics",
          "Athletics",
          "Athletics",
          "Athletics",
          "Athletics",
          "Athletics",
          "Athletics",
          "Athletics",
          "Canoeing",
          "Canoeing",
          "Canoeing",
          "Canoeing",
          "Canoeing",
          "Canoeing",
          "Canoeing",
          "Canoeing",
          "Canoeing",
          "Gymnastics",
          "Gymnastics",
          "Taekwondo",
          "Taekwondo",
          "Taekwondo",
          "Trampolining"
         ],
         "xaxis": "x2",
         "y": [
          1,
          1,
          1,
          1,
          1,
          1,
          1,
          1,
          1,
          1,
          1,
          1,
          1,
          1,
          1,
          1,
          1,
          1,
          1,
          1,
          1,
          1,
          1,
          1,
          1,
          1,
          1,
          1,
          1,
          1,
          1,
          1,
          1,
          1,
          1
         ],
         "yaxis": "y2"
        }
       ],
       "layout": {
        "annotations": [
         {
          "font": {},
          "showarrow": false,
          "text": "Sex=1",
          "x": 0.245,
          "xanchor": "center",
          "xref": "paper",
          "y": 1,
          "yanchor": "bottom",
          "yref": "paper"
         },
         {
          "font": {},
          "showarrow": false,
          "text": "Sex=0",
          "x": 0.755,
          "xanchor": "center",
          "xref": "paper",
          "y": 1,
          "yanchor": "bottom",
          "yref": "paper"
         }
        ],
        "barmode": "relative",
        "legend": {
         "title": {
          "text": "Medal Type"
         },
         "tracegroupgap": 0
        },
        "template": {
         "data": {
          "bar": [
           {
            "error_x": {
             "color": "#2a3f5f"
            },
            "error_y": {
             "color": "#2a3f5f"
            },
            "marker": {
             "line": {
              "color": "#E5ECF6",
              "width": 0.5
             },
             "pattern": {
              "fillmode": "overlay",
              "size": 10,
              "solidity": 0.2
             }
            },
            "type": "bar"
           }
          ],
          "barpolar": [
           {
            "marker": {
             "line": {
              "color": "#E5ECF6",
              "width": 0.5
             },
             "pattern": {
              "fillmode": "overlay",
              "size": 10,
              "solidity": 0.2
             }
            },
            "type": "barpolar"
           }
          ],
          "carpet": [
           {
            "aaxis": {
             "endlinecolor": "#2a3f5f",
             "gridcolor": "white",
             "linecolor": "white",
             "minorgridcolor": "white",
             "startlinecolor": "#2a3f5f"
            },
            "baxis": {
             "endlinecolor": "#2a3f5f",
             "gridcolor": "white",
             "linecolor": "white",
             "minorgridcolor": "white",
             "startlinecolor": "#2a3f5f"
            },
            "type": "carpet"
           }
          ],
          "choropleth": [
           {
            "colorbar": {
             "outlinewidth": 0,
             "ticks": ""
            },
            "type": "choropleth"
           }
          ],
          "contour": [
           {
            "colorbar": {
             "outlinewidth": 0,
             "ticks": ""
            },
            "colorscale": [
             [
              0,
              "#0d0887"
             ],
             [
              0.1111111111111111,
              "#46039f"
             ],
             [
              0.2222222222222222,
              "#7201a8"
             ],
             [
              0.3333333333333333,
              "#9c179e"
             ],
             [
              0.4444444444444444,
              "#bd3786"
             ],
             [
              0.5555555555555556,
              "#d8576b"
             ],
             [
              0.6666666666666666,
              "#ed7953"
             ],
             [
              0.7777777777777778,
              "#fb9f3a"
             ],
             [
              0.8888888888888888,
              "#fdca26"
             ],
             [
              1,
              "#f0f921"
             ]
            ],
            "type": "contour"
           }
          ],
          "contourcarpet": [
           {
            "colorbar": {
             "outlinewidth": 0,
             "ticks": ""
            },
            "type": "contourcarpet"
           }
          ],
          "heatmap": [
           {
            "colorbar": {
             "outlinewidth": 0,
             "ticks": ""
            },
            "colorscale": [
             [
              0,
              "#0d0887"
             ],
             [
              0.1111111111111111,
              "#46039f"
             ],
             [
              0.2222222222222222,
              "#7201a8"
             ],
             [
              0.3333333333333333,
              "#9c179e"
             ],
             [
              0.4444444444444444,
              "#bd3786"
             ],
             [
              0.5555555555555556,
              "#d8576b"
             ],
             [
              0.6666666666666666,
              "#ed7953"
             ],
             [
              0.7777777777777778,
              "#fb9f3a"
             ],
             [
              0.8888888888888888,
              "#fdca26"
             ],
             [
              1,
              "#f0f921"
             ]
            ],
            "type": "heatmap"
           }
          ],
          "heatmapgl": [
           {
            "colorbar": {
             "outlinewidth": 0,
             "ticks": ""
            },
            "colorscale": [
             [
              0,
              "#0d0887"
             ],
             [
              0.1111111111111111,
              "#46039f"
             ],
             [
              0.2222222222222222,
              "#7201a8"
             ],
             [
              0.3333333333333333,
              "#9c179e"
             ],
             [
              0.4444444444444444,
              "#bd3786"
             ],
             [
              0.5555555555555556,
              "#d8576b"
             ],
             [
              0.6666666666666666,
              "#ed7953"
             ],
             [
              0.7777777777777778,
              "#fb9f3a"
             ],
             [
              0.8888888888888888,
              "#fdca26"
             ],
             [
              1,
              "#f0f921"
             ]
            ],
            "type": "heatmapgl"
           }
          ],
          "histogram": [
           {
            "marker": {
             "pattern": {
              "fillmode": "overlay",
              "size": 10,
              "solidity": 0.2
             }
            },
            "type": "histogram"
           }
          ],
          "histogram2d": [
           {
            "colorbar": {
             "outlinewidth": 0,
             "ticks": ""
            },
            "colorscale": [
             [
              0,
              "#0d0887"
             ],
             [
              0.1111111111111111,
              "#46039f"
             ],
             [
              0.2222222222222222,
              "#7201a8"
             ],
             [
              0.3333333333333333,
              "#9c179e"
             ],
             [
              0.4444444444444444,
              "#bd3786"
             ],
             [
              0.5555555555555556,
              "#d8576b"
             ],
             [
              0.6666666666666666,
              "#ed7953"
             ],
             [
              0.7777777777777778,
              "#fb9f3a"
             ],
             [
              0.8888888888888888,
              "#fdca26"
             ],
             [
              1,
              "#f0f921"
             ]
            ],
            "type": "histogram2d"
           }
          ],
          "histogram2dcontour": [
           {
            "colorbar": {
             "outlinewidth": 0,
             "ticks": ""
            },
            "colorscale": [
             [
              0,
              "#0d0887"
             ],
             [
              0.1111111111111111,
              "#46039f"
             ],
             [
              0.2222222222222222,
              "#7201a8"
             ],
             [
              0.3333333333333333,
              "#9c179e"
             ],
             [
              0.4444444444444444,
              "#bd3786"
             ],
             [
              0.5555555555555556,
              "#d8576b"
             ],
             [
              0.6666666666666666,
              "#ed7953"
             ],
             [
              0.7777777777777778,
              "#fb9f3a"
             ],
             [
              0.8888888888888888,
              "#fdca26"
             ],
             [
              1,
              "#f0f921"
             ]
            ],
            "type": "histogram2dcontour"
           }
          ],
          "mesh3d": [
           {
            "colorbar": {
             "outlinewidth": 0,
             "ticks": ""
            },
            "type": "mesh3d"
           }
          ],
          "parcoords": [
           {
            "line": {
             "colorbar": {
              "outlinewidth": 0,
              "ticks": ""
             }
            },
            "type": "parcoords"
           }
          ],
          "pie": [
           {
            "automargin": true,
            "type": "pie"
           }
          ],
          "scatter": [
           {
            "fillpattern": {
             "fillmode": "overlay",
             "size": 10,
             "solidity": 0.2
            },
            "type": "scatter"
           }
          ],
          "scatter3d": [
           {
            "line": {
             "colorbar": {
              "outlinewidth": 0,
              "ticks": ""
             }
            },
            "marker": {
             "colorbar": {
              "outlinewidth": 0,
              "ticks": ""
             }
            },
            "type": "scatter3d"
           }
          ],
          "scattercarpet": [
           {
            "marker": {
             "colorbar": {
              "outlinewidth": 0,
              "ticks": ""
             }
            },
            "type": "scattercarpet"
           }
          ],
          "scattergeo": [
           {
            "marker": {
             "colorbar": {
              "outlinewidth": 0,
              "ticks": ""
             }
            },
            "type": "scattergeo"
           }
          ],
          "scattergl": [
           {
            "marker": {
             "colorbar": {
              "outlinewidth": 0,
              "ticks": ""
             }
            },
            "type": "scattergl"
           }
          ],
          "scattermapbox": [
           {
            "marker": {
             "colorbar": {
              "outlinewidth": 0,
              "ticks": ""
             }
            },
            "type": "scattermapbox"
           }
          ],
          "scatterpolar": [
           {
            "marker": {
             "colorbar": {
              "outlinewidth": 0,
              "ticks": ""
             }
            },
            "type": "scatterpolar"
           }
          ],
          "scatterpolargl": [
           {
            "marker": {
             "colorbar": {
              "outlinewidth": 0,
              "ticks": ""
             }
            },
            "type": "scatterpolargl"
           }
          ],
          "scatterternary": [
           {
            "marker": {
             "colorbar": {
              "outlinewidth": 0,
              "ticks": ""
             }
            },
            "type": "scatterternary"
           }
          ],
          "surface": [
           {
            "colorbar": {
             "outlinewidth": 0,
             "ticks": ""
            },
            "colorscale": [
             [
              0,
              "#0d0887"
             ],
             [
              0.1111111111111111,
              "#46039f"
             ],
             [
              0.2222222222222222,
              "#7201a8"
             ],
             [
              0.3333333333333333,
              "#9c179e"
             ],
             [
              0.4444444444444444,
              "#bd3786"
             ],
             [
              0.5555555555555556,
              "#d8576b"
             ],
             [
              0.6666666666666666,
              "#ed7953"
             ],
             [
              0.7777777777777778,
              "#fb9f3a"
             ],
             [
              0.8888888888888888,
              "#fdca26"
             ],
             [
              1,
              "#f0f921"
             ]
            ],
            "type": "surface"
           }
          ],
          "table": [
           {
            "cells": {
             "fill": {
              "color": "#EBF0F8"
             },
             "line": {
              "color": "white"
             }
            },
            "header": {
             "fill": {
              "color": "#C8D4E3"
             },
             "line": {
              "color": "white"
             }
            },
            "type": "table"
           }
          ]
         },
         "layout": {
          "annotationdefaults": {
           "arrowcolor": "#2a3f5f",
           "arrowhead": 0,
           "arrowwidth": 1
          },
          "autotypenumbers": "strict",
          "coloraxis": {
           "colorbar": {
            "outlinewidth": 0,
            "ticks": ""
           }
          },
          "colorscale": {
           "diverging": [
            [
             0,
             "#8e0152"
            ],
            [
             0.1,
             "#c51b7d"
            ],
            [
             0.2,
             "#de77ae"
            ],
            [
             0.3,
             "#f1b6da"
            ],
            [
             0.4,
             "#fde0ef"
            ],
            [
             0.5,
             "#f7f7f7"
            ],
            [
             0.6,
             "#e6f5d0"
            ],
            [
             0.7,
             "#b8e186"
            ],
            [
             0.8,
             "#7fbc41"
            ],
            [
             0.9,
             "#4d9221"
            ],
            [
             1,
             "#276419"
            ]
           ],
           "sequential": [
            [
             0,
             "#0d0887"
            ],
            [
             0.1111111111111111,
             "#46039f"
            ],
            [
             0.2222222222222222,
             "#7201a8"
            ],
            [
             0.3333333333333333,
             "#9c179e"
            ],
            [
             0.4444444444444444,
             "#bd3786"
            ],
            [
             0.5555555555555556,
             "#d8576b"
            ],
            [
             0.6666666666666666,
             "#ed7953"
            ],
            [
             0.7777777777777778,
             "#fb9f3a"
            ],
            [
             0.8888888888888888,
             "#fdca26"
            ],
            [
             1,
             "#f0f921"
            ]
           ],
           "sequentialminus": [
            [
             0,
             "#0d0887"
            ],
            [
             0.1111111111111111,
             "#46039f"
            ],
            [
             0.2222222222222222,
             "#7201a8"
            ],
            [
             0.3333333333333333,
             "#9c179e"
            ],
            [
             0.4444444444444444,
             "#bd3786"
            ],
            [
             0.5555555555555556,
             "#d8576b"
            ],
            [
             0.6666666666666666,
             "#ed7953"
            ],
            [
             0.7777777777777778,
             "#fb9f3a"
            ],
            [
             0.8888888888888888,
             "#fdca26"
            ],
            [
             1,
             "#f0f921"
            ]
           ]
          },
          "colorway": [
           "#636efa",
           "#EF553B",
           "#00cc96",
           "#ab63fa",
           "#FFA15A",
           "#19d3f3",
           "#FF6692",
           "#B6E880",
           "#FF97FF",
           "#FECB52"
          ],
          "font": {
           "color": "#2a3f5f"
          },
          "geo": {
           "bgcolor": "white",
           "lakecolor": "white",
           "landcolor": "#E5ECF6",
           "showlakes": true,
           "showland": true,
           "subunitcolor": "white"
          },
          "hoverlabel": {
           "align": "left"
          },
          "hovermode": "closest",
          "mapbox": {
           "style": "light"
          },
          "paper_bgcolor": "white",
          "plot_bgcolor": "#E5ECF6",
          "polar": {
           "angularaxis": {
            "gridcolor": "white",
            "linecolor": "white",
            "ticks": ""
           },
           "bgcolor": "#E5ECF6",
           "radialaxis": {
            "gridcolor": "white",
            "linecolor": "white",
            "ticks": ""
           }
          },
          "scene": {
           "xaxis": {
            "backgroundcolor": "#E5ECF6",
            "gridcolor": "white",
            "gridwidth": 2,
            "linecolor": "white",
            "showbackground": true,
            "ticks": "",
            "zerolinecolor": "white"
           },
           "yaxis": {
            "backgroundcolor": "#E5ECF6",
            "gridcolor": "white",
            "gridwidth": 2,
            "linecolor": "white",
            "showbackground": true,
            "ticks": "",
            "zerolinecolor": "white"
           },
           "zaxis": {
            "backgroundcolor": "#E5ECF6",
            "gridcolor": "white",
            "gridwidth": 2,
            "linecolor": "white",
            "showbackground": true,
            "ticks": "",
            "zerolinecolor": "white"
           }
          },
          "shapedefaults": {
           "line": {
            "color": "#2a3f5f"
           }
          },
          "ternary": {
           "aaxis": {
            "gridcolor": "white",
            "linecolor": "white",
            "ticks": ""
           },
           "baxis": {
            "gridcolor": "white",
            "linecolor": "white",
            "ticks": ""
           },
           "bgcolor": "#E5ECF6",
           "caxis": {
            "gridcolor": "white",
            "linecolor": "white",
            "ticks": ""
           }
          },
          "title": {
           "x": 0.05
          },
          "xaxis": {
           "automargin": true,
           "gridcolor": "white",
           "linecolor": "white",
           "ticks": "",
           "title": {
            "standoff": 15
           },
           "zerolinecolor": "white",
           "zerolinewidth": 2
          },
          "yaxis": {
           "automargin": true,
           "gridcolor": "white",
           "linecolor": "white",
           "ticks": "",
           "title": {
            "standoff": 15
           },
           "zerolinecolor": "white",
           "zerolinewidth": 2
          }
         }
        },
        "title": {
         "text": "Predicted Medals by Sport: Sex"
        },
        "xaxis": {
         "anchor": "y",
         "domain": [
          0,
          0.49
         ],
         "title": {}
        },
        "xaxis2": {
         "anchor": "y2",
         "domain": [
          0.51,
          1
         ],
         "matches": "x",
         "title": {
          "text": "Sport"
         }
        },
        "yaxis": {
         "anchor": "x",
         "domain": [
          0,
          1
         ],
         "title": {
          "text": "Number of Medals"
         }
        },
        "yaxis2": {
         "anchor": "x2",
         "domain": [
          0,
          1
         ],
         "matches": "y",
         "showticklabels": false
        }
       }
      }
     },
     "metadata": {},
     "output_type": "display_data"
    }
   ],
   "source": [
    "# Filter data for sports with significant medal predictions\n",
    "sports_with_predictions = df.groupby('Sport')['pred_medal'].sum().sort_values(ascending=False).index[:5]\n",
    "df_filtered = df[df['Sport'].isin(sports_with_predictions)]\n",
    "\n",
    "# Plot predicted medals by sport and host status\n",
    "fig = px.bar(df_filtered, x='Sport', color='pred_medal', facet_col='Sex', title='Predicted Medals by Sport: Sex',\n",
    "             labels={'pred_medal': 'Medal Type', 'Sport': 'Sport'}, category_orders={'pred_medal': ['Bronze', 'Silver', 'Gold']},\n",
    "             color_discrete_sequence=['lightblue', 'lightgreen', 'lightcoral'])\n",
    "fig.update_layout(xaxis_title=None, yaxis_title='Number of Medals', legend_title='Medal Type')\n",
    "fig.show()\n"
   ]
  },
  {
   "cell_type": "code",
   "execution_count": 12,
   "metadata": {},
   "outputs": [
    {
     "data": {
      "application/vnd.plotly.v1+json": {
       "config": {
        "plotlyServerURL": "https://plot.ly"
       },
       "data": [
        {
         "hovertemplate": "Sex=0<br>Age=%{x}<br>Predicted Medal=%{y}<extra></extra>",
         "legendgroup": "0",
         "marker": {
          "color": "magenta",
          "size": 8,
          "symbol": "circle"
         },
         "mode": "markers",
         "name": "0",
         "orientation": "h",
         "showlegend": true,
         "type": "scatter",
         "x": [
          27,
          27,
          27,
          28,
          29,
          26,
          26,
          22,
          25,
          21,
          24,
          19,
          27,
          24,
          28,
          27,
          29,
          22,
          31,
          20,
          20,
          24,
          24,
          29,
          20,
          22,
          24,
          21,
          22,
          31,
          22,
          24,
          25,
          29,
          23,
          29,
          24,
          24,
          24,
          23,
          23,
          23,
          37,
          37,
          26,
          25,
          25,
          25,
          27,
          21,
          27,
          26,
          37,
          26,
          21,
          32,
          21,
          26,
          26,
          26,
          32,
          31,
          26,
          24,
          26,
          19,
          27,
          30,
          27,
          20,
          20,
          20,
          27,
          26,
          26,
          21,
          21,
          23,
          21,
          24,
          25,
          26,
          29,
          25,
          33,
          34,
          34,
          27,
          25,
          23,
          23,
          28,
          26,
          26,
          24,
          26,
          23,
          29,
          24,
          24,
          20,
          20,
          20,
          27,
          27,
          27,
          25,
          25,
          25,
          35,
          22,
          35,
          26,
          26,
          26,
          24,
          26,
          24,
          24,
          22,
          23,
          21,
          22,
          29,
          17,
          15,
          17,
          26,
          24,
          20,
          18,
          18,
          18,
          30,
          23,
          23,
          40,
          28,
          27,
          27,
          27,
          27,
          23,
          22,
          30,
          26,
          26,
          26,
          25,
          33,
          25,
          28,
          32,
          28,
          26,
          26,
          23,
          26,
          28,
          26,
          16,
          19,
          16,
          16,
          24,
          16,
          29,
          32,
          24,
          28,
          27,
          26,
          25,
          25,
          21,
          25,
          25,
          25,
          21,
          25,
          27,
          23,
          25,
          27,
          25,
          28,
          29,
          25,
          24,
          25,
          26,
          26,
          26,
          27,
          25,
          24,
          21,
          18,
          25,
          23,
          20,
          23,
          31,
          27,
          25,
          25,
          25,
          23,
          27,
          22,
          29,
          34,
          32,
          27,
          25,
          28,
          24,
          31,
          27,
          27,
          21,
          23,
          27,
          24,
          24,
          23,
          26,
          29,
          25,
          23,
          25,
          27,
          29,
          31,
          31,
          27,
          31,
          19,
          33,
          25,
          47,
          19,
          19,
          19,
          33,
          33,
          33,
          27,
          33,
          33,
          28,
          26,
          28,
          25,
          33,
          33,
          20,
          22,
          20,
          21,
          19,
          27,
          21,
          22,
          23,
          16,
          16,
          16,
          25,
          25,
          25,
          27,
          27,
          27,
          22,
          27,
          27,
          22,
          22,
          24,
          21,
          24,
          19,
          25,
          21,
          22,
          20,
          22,
          22,
          23,
          23,
          23,
          25,
          25,
          25,
          22,
          21,
          25,
          33,
          33,
          21,
          33,
          25,
          15,
          25,
          18,
          23,
          18,
          22,
          18,
          20,
          22,
          20,
          23,
          28,
          22,
          31,
          31,
          30,
          30,
          26,
          35,
          27,
          29,
          25,
          27,
          27,
          30,
          30,
          30,
          25,
          25,
          23,
          27,
          22,
          29,
          21,
          21,
          21,
          20,
          31,
          31,
          22,
          24,
          18,
          21,
          22,
          22,
          22,
          23,
          23,
          23,
          27,
          28,
          24,
          24,
          24,
          26,
          22,
          21,
          29,
          27,
          29,
          21,
          21,
          24,
          23,
          23,
          27,
          23,
          21,
          36
         ],
         "xaxis": "x",
         "y": [
          "Bronze",
          "Bronze",
          "Bronze",
          "Gold",
          "Silver",
          "Bronze",
          "Gold",
          "Silver",
          "Gold",
          "Gold",
          "Silver",
          "Bronze",
          "Gold",
          "Silver",
          "Bronze",
          "Gold",
          "Silver",
          "Bronze",
          "Gold",
          "Bronze",
          "Bronze",
          "Silver",
          "Silver",
          "Bronze",
          "Gold",
          "Silver",
          "Silver",
          "Gold",
          "Silver",
          "Bronze",
          "Gold",
          "Silver",
          "Bronze",
          "Silver",
          "Silver",
          "Bronze",
          "Bronze",
          "Bronze",
          "Bronze",
          "Gold",
          "Gold",
          "Gold",
          "Gold",
          "Gold",
          "Bronze",
          "Bronze",
          "Bronze",
          "Bronze",
          "Bronze",
          "Silver",
          "Bronze",
          "Gold",
          "Silver",
          "Gold",
          "Bronze",
          "Silver",
          "Bronze",
          "Bronze",
          "Bronze",
          "Bronze",
          "Silver",
          "Silver",
          "Bronze",
          "Gold",
          "Silver",
          "Bronze",
          "Bronze",
          "Silver",
          "Bronze",
          "Gold",
          "Gold",
          "Gold",
          "Gold",
          "Silver",
          "Silver",
          "Bronze",
          "Gold",
          "Silver",
          "Bronze",
          "Gold",
          "Silver",
          "Bronze",
          "Gold",
          "Silver",
          "Gold",
          "Gold",
          "Gold",
          "Bronze",
          "Gold",
          "Silver",
          "Bronze",
          "Gold",
          "Bronze",
          "Bronze",
          "Gold",
          "Silver",
          "Gold",
          "Gold",
          "Bronze",
          "Bronze",
          "Gold",
          "Gold",
          "Gold",
          "Gold",
          "Gold",
          "Gold",
          "Gold",
          "Gold",
          "Bronze",
          "Bronze",
          "Silver",
          "Bronze",
          "Bronze",
          "Bronze",
          "Bronze",
          "Bronze",
          "Bronze",
          "Bronze",
          "Gold",
          "Silver",
          "Bronze",
          "Gold",
          "Silver",
          "Bronze",
          "Silver",
          "Silver",
          "Silver",
          "Gold",
          "Silver",
          "Bronze",
          "Silver",
          "Silver",
          "Silver",
          "Gold",
          "Bronze",
          "Bronze",
          "Gold",
          "Bronze",
          "Gold",
          "Bronze",
          "Bronze",
          "Bronze",
          "Gold",
          "Silver",
          "Bronze",
          "Gold",
          "Bronze",
          "Bronze",
          "Gold",
          "Silver",
          "Bronze",
          "Gold",
          "Silver",
          "Gold",
          "Gold",
          "Silver",
          "Bronze",
          "Bronze",
          "Silver",
          "Bronze",
          "Gold",
          "Silver",
          "Bronze",
          "Gold",
          "Silver",
          "Bronze",
          "Gold",
          "Silver",
          "Bronze",
          "Gold",
          "Silver",
          "Bronze",
          "Gold",
          "Gold",
          "Bronze",
          "Bronze",
          "Bronze",
          "Bronze",
          "Gold",
          "Silver",
          "Bronze",
          "Gold",
          "Silver",
          "Bronze",
          "Bronze",
          "Silver",
          "Bronze",
          "Gold",
          "Silver",
          "Gold",
          "Silver",
          "Silver",
          "Bronze",
          "Gold",
          "Bronze",
          "Bronze",
          "Gold",
          "Silver",
          "Bronze",
          "Bronze",
          "Silver",
          "Bronze",
          "Gold",
          "Silver",
          "Bronze",
          "Gold",
          "Gold",
          "Bronze",
          "Gold",
          "Bronze",
          "Bronze",
          "Gold",
          "Silver",
          "Bronze",
          "Gold",
          "Silver",
          "Bronze",
          "Gold",
          "Bronze",
          "Bronze",
          "Gold",
          "Silver",
          "Bronze",
          "Gold",
          "Gold",
          "Bronze",
          "Gold",
          "Silver",
          "Bronze",
          "Gold",
          "Silver",
          "Bronze",
          "Bronze",
          "Bronze",
          "Bronze",
          "Gold",
          "Silver",
          "Gold",
          "Gold",
          "Silver",
          "Bronze",
          "Silver",
          "Silver",
          "Silver",
          "Silver",
          "Silver",
          "Silver",
          "Gold",
          "Silver",
          "Silver",
          "Gold",
          "Silver",
          "Gold",
          "Gold",
          "Bronze",
          "Bronze",
          "Gold",
          "Silver",
          "Bronze",
          "Gold",
          "Silver",
          "Bronze",
          "Gold",
          "Silver",
          "Bronze",
          "Bronze",
          "Bronze",
          "Bronze",
          "Bronze",
          "Bronze",
          "Bronze",
          "Silver",
          "Silver",
          "Silver",
          "Gold",
          "Silver",
          "Silver",
          "Silver",
          "Silver",
          "Bronze",
          "Gold",
          "Silver",
          "Bronze",
          "Gold",
          "Silver",
          "Bronze",
          "Gold",
          "Silver",
          "Bronze",
          "Gold",
          "Gold",
          "Gold",
          "Bronze",
          "Bronze",
          "Bronze",
          "Gold",
          "Silver",
          "Bronze",
          "Gold",
          "Gold",
          "Bronze",
          "Gold",
          "Silver",
          "Bronze",
          "Gold",
          "Bronze",
          "Bronze",
          "Gold",
          "Silver",
          "Bronze",
          "Bronze",
          "Silver",
          "Bronze",
          "Gold",
          "Silver",
          "Bronze",
          "Silver",
          "Silver",
          "Silver",
          "Silver",
          "Bronze",
          "Gold",
          "Silver",
          "Bronze",
          "Gold",
          "Silver",
          "Silver",
          "Silver",
          "Silver",
          "Silver",
          "Gold",
          "Silver",
          "Bronze",
          "Gold",
          "Silver",
          "Bronze",
          "Gold",
          "Silver",
          "Gold",
          "Gold",
          "Bronze",
          "Bronze",
          "Gold",
          "Silver",
          "Bronze",
          "Gold",
          "Gold",
          "Gold",
          "Gold",
          "Silver",
          "Bronze",
          "Gold",
          "Silver",
          "Bronze",
          "Silver",
          "Silver",
          "Silver",
          "Gold",
          "Silver",
          "Bronze",
          "Gold",
          "Silver",
          "Bronze",
          "Silver",
          "Silver",
          "Bronze",
          "Gold",
          "Silver",
          "Bronze",
          "Gold",
          "Bronze",
          "Bronze"
         ],
         "yaxis": "y"
        },
        {
         "hovertemplate": "Sex=1<br>Age=%{x}<br>Predicted Medal=%{y}<extra></extra>",
         "legendgroup": "1",
         "marker": {
          "color": "darkblue",
          "size": 8,
          "symbol": "circle"
         },
         "mode": "markers",
         "name": "1",
         "orientation": "h",
         "showlegend": true,
         "type": "scatter",
         "x": [
          20,
          21,
          25,
          26,
          26,
          26,
          25,
          25,
          24,
          24,
          26,
          24,
          25,
          25,
          29,
          25,
          33,
          24,
          25,
          24,
          24,
          27,
          21,
          27,
          21,
          21,
          20,
          26,
          25,
          21,
          23,
          27,
          24,
          24,
          24,
          29,
          25,
          25,
          22,
          28,
          28,
          28,
          21,
          21,
          21,
          24,
          26,
          26,
          26,
          26,
          26,
          34,
          34,
          27,
          26,
          26,
          26,
          27,
          24,
          27,
          27,
          27,
          27,
          26,
          26,
          26,
          22,
          22,
          23,
          27,
          23,
          24,
          27,
          27,
          27,
          27,
          27,
          26,
          22,
          22,
          22,
          28,
          29,
          28,
          24,
          23,
          25,
          29,
          26,
          19,
          21,
          26,
          27,
          27,
          27,
          23,
          23,
          19,
          28,
          25,
          24,
          24,
          23,
          19,
          23,
          26,
          27,
          31,
          24,
          25,
          21,
          25,
          28,
          20,
          23,
          23,
          24,
          30,
          24,
          23,
          25,
          23,
          25,
          24,
          21,
          28,
          33,
          28,
          29,
          29,
          29,
          32,
          32,
          22,
          28,
          29,
          29,
          27,
          22,
          27,
          30,
          24,
          30,
          20,
          26,
          21,
          26,
          21,
          28,
          34,
          34,
          34,
          32,
          23,
          23,
          31,
          31,
          31,
          25,
          23,
          22,
          23,
          23,
          23,
          31,
          31,
          31,
          31,
          34,
          34,
          31,
          26,
          25,
          27,
          23,
          30,
          19,
          23,
          19,
          25,
          25,
          25,
          20,
          20,
          20,
          22,
          21,
          23,
          19,
          19,
          19,
          24,
          24,
          24,
          21,
          35,
          50,
          34,
          32,
          34,
          24,
          23,
          26,
          26,
          26,
          26,
          26,
          26,
          26,
          27,
          27,
          22,
          23,
          38,
          36,
          27,
          22,
          21,
          40,
          38,
          38,
          31,
          31,
          31,
          19,
          22,
          20,
          25,
          25,
          25,
          19,
          19,
          21,
          25,
          28,
          29,
          28,
          30,
          22,
          23,
          30,
          22,
          25,
          25,
          28,
          22,
          21,
          22,
          30,
          22,
          22,
          24,
          25,
          25,
          24,
          24,
          29,
          27,
          21,
          25,
          29,
          28,
          26,
          25,
          28,
          29,
          23,
          29,
          30,
          29,
          27,
          21,
          27,
          27,
          26,
          28,
          31,
          24,
          22,
          27,
          27,
          26,
          27,
          29,
          30,
          30,
          30,
          25,
          28,
          29,
          30,
          26,
          25,
          25,
          29,
          25,
          26,
          26,
          28,
          27,
          30,
          32,
          27,
          27,
          27,
          41,
          24,
          30,
          28,
          23,
          21,
          37,
          31,
          31,
          20,
          26,
          26,
          26,
          21,
          52,
          28,
          28,
          24,
          21,
          21,
          21,
          33,
          33,
          33,
          25,
          21,
          21,
          24,
          24,
          20,
          26,
          21,
          30,
          21,
          22,
          24,
          21,
          25,
          22,
          28,
          19,
          25,
          20,
          20,
          23,
          19,
          23,
          19,
          21,
          21,
          19,
          20,
          19,
          19,
          22,
          22,
          22,
          24,
          20,
          22,
          23,
          20,
          22,
          36,
          22,
          23,
          22,
          22,
          22,
          30,
          30,
          30,
          27,
          27,
          27,
          23,
          26,
          23,
          20,
          20,
          20,
          18,
          20,
          21,
          21,
          23,
          26,
          22,
          22,
          25,
          31,
          34,
          34,
          26,
          26,
          26,
          32,
          20,
          20,
          24,
          24,
          24,
          24,
          32,
          32,
          29,
          29,
          25,
          22,
          20,
          20,
          20,
          25,
          25,
          25,
          19,
          24,
          23,
          22,
          22,
          27,
          24,
          22,
          21,
          25,
          25,
          25,
          22,
          22,
          26,
          21,
          22,
          31,
          20,
          27,
          25,
          22,
          24,
          24,
          20,
          20,
          31,
          26,
          26,
          30,
          26,
          21,
          20,
          25,
          21,
          25,
          30,
          30,
          33,
          21,
          29,
          25,
          31,
          31,
          31,
          25,
          25,
          31,
          20,
          27,
          20,
          24,
          25,
          26,
          27,
          26,
          22
         ],
         "xaxis": "x",
         "y": [
          "Gold",
          "Silver",
          "Bronze",
          "Silver",
          "Silver",
          "Silver",
          "Gold",
          "Gold",
          "Bronze",
          "Gold",
          "Silver",
          "Bronze",
          "Gold",
          "Gold",
          "Bronze",
          "Gold",
          "Silver",
          "Bronze",
          "Bronze",
          "Bronze",
          "Bronze",
          "Silver",
          "Silver",
          "Silver",
          "Silver",
          "Silver",
          "Bronze",
          "Gold",
          "Gold",
          "Bronze",
          "Gold",
          "Silver",
          "Bronze",
          "Gold",
          "Gold",
          "Bronze",
          "Gold",
          "Gold",
          "Bronze",
          "Bronze",
          "Bronze",
          "Bronze",
          "Bronze",
          "Bronze",
          "Bronze",
          "Gold",
          "Bronze",
          "Bronze",
          "Silver",
          "Silver",
          "Bronze",
          "Silver",
          "Silver",
          "Bronze",
          "Bronze",
          "Bronze",
          "Bronze",
          "Gold",
          "Silver",
          "Gold",
          "Silver",
          "Silver",
          "Silver",
          "Gold",
          "Gold",
          "Gold",
          "Silver",
          "Silver",
          "Bronze",
          "Gold",
          "Silver",
          "Bronze",
          "Bronze",
          "Bronze",
          "Bronze",
          "Gold",
          "Gold",
          "Gold",
          "Bronze",
          "Bronze",
          "Bronze",
          "Gold",
          "Silver",
          "Gold",
          "Silver",
          "Bronze",
          "Gold",
          "Silver",
          "Bronze",
          "Gold",
          "Silver",
          "Bronze",
          "Silver",
          "Silver",
          "Silver",
          "Gold",
          "Silver",
          "Bronze",
          "Bronze",
          "Silver",
          "Bronze",
          "Gold",
          "Bronze",
          "Bronze",
          "Bronze",
          "Silver",
          "Bronze",
          "Gold",
          "Silver",
          "Bronze",
          "Bronze",
          "Silver",
          "Bronze",
          "Gold",
          "Silver",
          "Bronze",
          "Gold",
          "Silver",
          "Bronze",
          "Gold",
          "Bronze",
          "Bronze",
          "Silver",
          "Silver",
          "Bronze",
          "Bronze",
          "Silver",
          "Bronze",
          "Bronze",
          "Bronze",
          "Bronze",
          "Gold",
          "Gold",
          "Gold",
          "Gold",
          "Silver",
          "Bronze",
          "Bronze",
          "Silver",
          "Bronze",
          "Bronze",
          "Silver",
          "Bronze",
          "Gold",
          "Silver",
          "Gold",
          "Gold",
          "Silver",
          "Bronze",
          "Gold",
          "Gold",
          "Gold",
          "Gold",
          "Silver",
          "Bronze",
          "Gold",
          "Gold",
          "Gold",
          "Gold",
          "Silver",
          "Gold",
          "Gold",
          "Gold",
          "Gold",
          "Gold",
          "Gold",
          "Gold",
          "Gold",
          "Gold",
          "Gold",
          "Gold",
          "Bronze",
          "Bronze",
          "Gold",
          "Silver",
          "Bronze",
          "Gold",
          "Silver",
          "Bronze",
          "Gold",
          "Gold",
          "Gold",
          "Gold",
          "Bronze",
          "Bronze",
          "Gold",
          "Silver",
          "Bronze",
          "Bronze",
          "Bronze",
          "Bronze",
          "Gold",
          "Gold",
          "Gold",
          "Silver",
          "Gold",
          "Silver",
          "Bronze",
          "Silver",
          "Bronze",
          "Gold",
          "Silver",
          "Bronze",
          "Gold",
          "Gold",
          "Gold",
          "Gold",
          "Gold",
          "Gold",
          "Gold",
          "Silver",
          "Bronze",
          "Gold",
          "Silver",
          "Bronze",
          "Gold",
          "Silver",
          "Bronze",
          "Gold",
          "Bronze",
          "Bronze",
          "Silver",
          "Silver",
          "Silver",
          "Gold",
          "Silver",
          "Bronze",
          "Silver",
          "Silver",
          "Silver",
          "Gold",
          "Silver",
          "Bronze",
          "Gold",
          "Silver",
          "Bronze",
          "Gold",
          "Silver",
          "Bronze",
          "Gold",
          "Silver",
          "Bronze",
          "Gold",
          "Silver",
          "Bronze",
          "Gold",
          "Silver",
          "Gold",
          "Silver",
          "Silver",
          "Bronze",
          "Gold",
          "Bronze",
          "Bronze",
          "Gold",
          "Bronze",
          "Bronze",
          "Gold",
          "Silver",
          "Bronze",
          "Gold",
          "Silver",
          "Bronze",
          "Gold",
          "Silver",
          "Bronze",
          "Gold",
          "Bronze",
          "Bronze",
          "Gold",
          "Silver",
          "Bronze",
          "Gold",
          "Gold",
          "Bronze",
          "Gold",
          "Silver",
          "Bronze",
          "Gold",
          "Silver",
          "Bronze",
          "Gold",
          "Silver",
          "Bronze",
          "Gold",
          "Gold",
          "Gold",
          "Gold",
          "Silver",
          "Bronze",
          "Gold",
          "Silver",
          "Bronze",
          "Bronze",
          "Silver",
          "Bronze",
          "Bronze",
          "Bronze",
          "Bronze",
          "Gold",
          "Silver",
          "Bronze",
          "Bronze",
          "Bronze",
          "Bronze",
          "Gold",
          "Gold",
          "Bronze",
          "Gold",
          "Gold",
          "Bronze",
          "Gold",
          "Gold",
          "Gold",
          "Gold",
          "Bronze",
          "Bronze",
          "Gold",
          "Silver",
          "Bronze",
          "Bronze",
          "Bronze",
          "Bronze",
          "Bronze",
          "Bronze",
          "Bronze",
          "Silver",
          "Silver",
          "Bronze",
          "Gold",
          "Silver",
          "Bronze",
          "Gold",
          "Gold",
          "Bronze",
          "Gold",
          "Silver",
          "Bronze",
          "Silver",
          "Silver",
          "Bronze",
          "Gold",
          "Silver",
          "Bronze",
          "Gold",
          "Silver",
          "Bronze",
          "Gold",
          "Gold",
          "Bronze",
          "Bronze",
          "Bronze",
          "Bronze",
          "Gold",
          "Gold",
          "Bronze",
          "Gold",
          "Silver",
          "Silver",
          "Bronze",
          "Bronze",
          "Bronze",
          "Gold",
          "Silver",
          "Bronze",
          "Gold",
          "Silver",
          "Bronze",
          "Gold",
          "Gold",
          "Bronze",
          "Gold",
          "Gold",
          "Gold",
          "Bronze",
          "Bronze",
          "Bronze",
          "Bronze",
          "Bronze",
          "Bronze",
          "Gold",
          "Silver",
          "Gold",
          "Silver",
          "Silver",
          "Silver",
          "Gold",
          "Silver",
          "Bronze",
          "Gold",
          "Silver",
          "Silver",
          "Silver",
          "Silver",
          "Bronze",
          "Gold",
          "Silver",
          "Silver",
          "Gold",
          "Bronze",
          "Bronze",
          "Gold",
          "Silver",
          "Silver",
          "Bronze",
          "Bronze",
          "Bronze",
          "Bronze",
          "Gold",
          "Silver",
          "Bronze",
          "Gold",
          "Silver",
          "Bronze",
          "Bronze",
          "Bronze",
          "Bronze",
          "Bronze",
          "Bronze",
          "Bronze",
          "Gold",
          "Silver",
          "Bronze",
          "Gold",
          "Bronze",
          "Bronze",
          "Gold",
          "Silver",
          "Bronze",
          "Bronze",
          "Bronze",
          "Bronze",
          "Silver",
          "Silver",
          "Bronze",
          "Gold",
          "Bronze",
          "Bronze",
          "Gold",
          "Silver",
          "Bronze",
          "Gold",
          "Silver",
          "Bronze",
          "Gold",
          "Gold",
          "Bronze",
          "Gold",
          "Gold",
          "Bronze",
          "Gold",
          "Silver",
          "Bronze",
          "Bronze",
          "Silver",
          "Bronze",
          "Silver",
          "Silver",
          "Bronze",
          "Gold",
          "Bronze",
          "Bronze",
          "Gold",
          "Gold",
          "Gold",
          "Silver",
          "Silver",
          "Bronze",
          "Bronze",
          "Bronze",
          "Bronze",
          "Bronze",
          "Silver",
          "Bronze",
          "Gold",
          "Bronze",
          "Bronze"
         ],
         "yaxis": "y"
        }
       ],
       "layout": {
        "legend": {
         "title": {
          "text": "Sex"
         },
         "tracegroupgap": 0
        },
        "template": {
         "data": {
          "bar": [
           {
            "error_x": {
             "color": "#2a3f5f"
            },
            "error_y": {
             "color": "#2a3f5f"
            },
            "marker": {
             "line": {
              "color": "#E5ECF6",
              "width": 0.5
             },
             "pattern": {
              "fillmode": "overlay",
              "size": 10,
              "solidity": 0.2
             }
            },
            "type": "bar"
           }
          ],
          "barpolar": [
           {
            "marker": {
             "line": {
              "color": "#E5ECF6",
              "width": 0.5
             },
             "pattern": {
              "fillmode": "overlay",
              "size": 10,
              "solidity": 0.2
             }
            },
            "type": "barpolar"
           }
          ],
          "carpet": [
           {
            "aaxis": {
             "endlinecolor": "#2a3f5f",
             "gridcolor": "white",
             "linecolor": "white",
             "minorgridcolor": "white",
             "startlinecolor": "#2a3f5f"
            },
            "baxis": {
             "endlinecolor": "#2a3f5f",
             "gridcolor": "white",
             "linecolor": "white",
             "minorgridcolor": "white",
             "startlinecolor": "#2a3f5f"
            },
            "type": "carpet"
           }
          ],
          "choropleth": [
           {
            "colorbar": {
             "outlinewidth": 0,
             "ticks": ""
            },
            "type": "choropleth"
           }
          ],
          "contour": [
           {
            "colorbar": {
             "outlinewidth": 0,
             "ticks": ""
            },
            "colorscale": [
             [
              0,
              "#0d0887"
             ],
             [
              0.1111111111111111,
              "#46039f"
             ],
             [
              0.2222222222222222,
              "#7201a8"
             ],
             [
              0.3333333333333333,
              "#9c179e"
             ],
             [
              0.4444444444444444,
              "#bd3786"
             ],
             [
              0.5555555555555556,
              "#d8576b"
             ],
             [
              0.6666666666666666,
              "#ed7953"
             ],
             [
              0.7777777777777778,
              "#fb9f3a"
             ],
             [
              0.8888888888888888,
              "#fdca26"
             ],
             [
              1,
              "#f0f921"
             ]
            ],
            "type": "contour"
           }
          ],
          "contourcarpet": [
           {
            "colorbar": {
             "outlinewidth": 0,
             "ticks": ""
            },
            "type": "contourcarpet"
           }
          ],
          "heatmap": [
           {
            "colorbar": {
             "outlinewidth": 0,
             "ticks": ""
            },
            "colorscale": [
             [
              0,
              "#0d0887"
             ],
             [
              0.1111111111111111,
              "#46039f"
             ],
             [
              0.2222222222222222,
              "#7201a8"
             ],
             [
              0.3333333333333333,
              "#9c179e"
             ],
             [
              0.4444444444444444,
              "#bd3786"
             ],
             [
              0.5555555555555556,
              "#d8576b"
             ],
             [
              0.6666666666666666,
              "#ed7953"
             ],
             [
              0.7777777777777778,
              "#fb9f3a"
             ],
             [
              0.8888888888888888,
              "#fdca26"
             ],
             [
              1,
              "#f0f921"
             ]
            ],
            "type": "heatmap"
           }
          ],
          "heatmapgl": [
           {
            "colorbar": {
             "outlinewidth": 0,
             "ticks": ""
            },
            "colorscale": [
             [
              0,
              "#0d0887"
             ],
             [
              0.1111111111111111,
              "#46039f"
             ],
             [
              0.2222222222222222,
              "#7201a8"
             ],
             [
              0.3333333333333333,
              "#9c179e"
             ],
             [
              0.4444444444444444,
              "#bd3786"
             ],
             [
              0.5555555555555556,
              "#d8576b"
             ],
             [
              0.6666666666666666,
              "#ed7953"
             ],
             [
              0.7777777777777778,
              "#fb9f3a"
             ],
             [
              0.8888888888888888,
              "#fdca26"
             ],
             [
              1,
              "#f0f921"
             ]
            ],
            "type": "heatmapgl"
           }
          ],
          "histogram": [
           {
            "marker": {
             "pattern": {
              "fillmode": "overlay",
              "size": 10,
              "solidity": 0.2
             }
            },
            "type": "histogram"
           }
          ],
          "histogram2d": [
           {
            "colorbar": {
             "outlinewidth": 0,
             "ticks": ""
            },
            "colorscale": [
             [
              0,
              "#0d0887"
             ],
             [
              0.1111111111111111,
              "#46039f"
             ],
             [
              0.2222222222222222,
              "#7201a8"
             ],
             [
              0.3333333333333333,
              "#9c179e"
             ],
             [
              0.4444444444444444,
              "#bd3786"
             ],
             [
              0.5555555555555556,
              "#d8576b"
             ],
             [
              0.6666666666666666,
              "#ed7953"
             ],
             [
              0.7777777777777778,
              "#fb9f3a"
             ],
             [
              0.8888888888888888,
              "#fdca26"
             ],
             [
              1,
              "#f0f921"
             ]
            ],
            "type": "histogram2d"
           }
          ],
          "histogram2dcontour": [
           {
            "colorbar": {
             "outlinewidth": 0,
             "ticks": ""
            },
            "colorscale": [
             [
              0,
              "#0d0887"
             ],
             [
              0.1111111111111111,
              "#46039f"
             ],
             [
              0.2222222222222222,
              "#7201a8"
             ],
             [
              0.3333333333333333,
              "#9c179e"
             ],
             [
              0.4444444444444444,
              "#bd3786"
             ],
             [
              0.5555555555555556,
              "#d8576b"
             ],
             [
              0.6666666666666666,
              "#ed7953"
             ],
             [
              0.7777777777777778,
              "#fb9f3a"
             ],
             [
              0.8888888888888888,
              "#fdca26"
             ],
             [
              1,
              "#f0f921"
             ]
            ],
            "type": "histogram2dcontour"
           }
          ],
          "mesh3d": [
           {
            "colorbar": {
             "outlinewidth": 0,
             "ticks": ""
            },
            "type": "mesh3d"
           }
          ],
          "parcoords": [
           {
            "line": {
             "colorbar": {
              "outlinewidth": 0,
              "ticks": ""
             }
            },
            "type": "parcoords"
           }
          ],
          "pie": [
           {
            "automargin": true,
            "type": "pie"
           }
          ],
          "scatter": [
           {
            "fillpattern": {
             "fillmode": "overlay",
             "size": 10,
             "solidity": 0.2
            },
            "type": "scatter"
           }
          ],
          "scatter3d": [
           {
            "line": {
             "colorbar": {
              "outlinewidth": 0,
              "ticks": ""
             }
            },
            "marker": {
             "colorbar": {
              "outlinewidth": 0,
              "ticks": ""
             }
            },
            "type": "scatter3d"
           }
          ],
          "scattercarpet": [
           {
            "marker": {
             "colorbar": {
              "outlinewidth": 0,
              "ticks": ""
             }
            },
            "type": "scattercarpet"
           }
          ],
          "scattergeo": [
           {
            "marker": {
             "colorbar": {
              "outlinewidth": 0,
              "ticks": ""
             }
            },
            "type": "scattergeo"
           }
          ],
          "scattergl": [
           {
            "marker": {
             "colorbar": {
              "outlinewidth": 0,
              "ticks": ""
             }
            },
            "type": "scattergl"
           }
          ],
          "scattermapbox": [
           {
            "marker": {
             "colorbar": {
              "outlinewidth": 0,
              "ticks": ""
             }
            },
            "type": "scattermapbox"
           }
          ],
          "scatterpolar": [
           {
            "marker": {
             "colorbar": {
              "outlinewidth": 0,
              "ticks": ""
             }
            },
            "type": "scatterpolar"
           }
          ],
          "scatterpolargl": [
           {
            "marker": {
             "colorbar": {
              "outlinewidth": 0,
              "ticks": ""
             }
            },
            "type": "scatterpolargl"
           }
          ],
          "scatterternary": [
           {
            "marker": {
             "colorbar": {
              "outlinewidth": 0,
              "ticks": ""
             }
            },
            "type": "scatterternary"
           }
          ],
          "surface": [
           {
            "colorbar": {
             "outlinewidth": 0,
             "ticks": ""
            },
            "colorscale": [
             [
              0,
              "#0d0887"
             ],
             [
              0.1111111111111111,
              "#46039f"
             ],
             [
              0.2222222222222222,
              "#7201a8"
             ],
             [
              0.3333333333333333,
              "#9c179e"
             ],
             [
              0.4444444444444444,
              "#bd3786"
             ],
             [
              0.5555555555555556,
              "#d8576b"
             ],
             [
              0.6666666666666666,
              "#ed7953"
             ],
             [
              0.7777777777777778,
              "#fb9f3a"
             ],
             [
              0.8888888888888888,
              "#fdca26"
             ],
             [
              1,
              "#f0f921"
             ]
            ],
            "type": "surface"
           }
          ],
          "table": [
           {
            "cells": {
             "fill": {
              "color": "#EBF0F8"
             },
             "line": {
              "color": "white"
             }
            },
            "header": {
             "fill": {
              "color": "#C8D4E3"
             },
             "line": {
              "color": "white"
             }
            },
            "type": "table"
           }
          ]
         },
         "layout": {
          "annotationdefaults": {
           "arrowcolor": "#2a3f5f",
           "arrowhead": 0,
           "arrowwidth": 1
          },
          "autotypenumbers": "strict",
          "coloraxis": {
           "colorbar": {
            "outlinewidth": 0,
            "ticks": ""
           }
          },
          "colorscale": {
           "diverging": [
            [
             0,
             "#8e0152"
            ],
            [
             0.1,
             "#c51b7d"
            ],
            [
             0.2,
             "#de77ae"
            ],
            [
             0.3,
             "#f1b6da"
            ],
            [
             0.4,
             "#fde0ef"
            ],
            [
             0.5,
             "#f7f7f7"
            ],
            [
             0.6,
             "#e6f5d0"
            ],
            [
             0.7,
             "#b8e186"
            ],
            [
             0.8,
             "#7fbc41"
            ],
            [
             0.9,
             "#4d9221"
            ],
            [
             1,
             "#276419"
            ]
           ],
           "sequential": [
            [
             0,
             "#0d0887"
            ],
            [
             0.1111111111111111,
             "#46039f"
            ],
            [
             0.2222222222222222,
             "#7201a8"
            ],
            [
             0.3333333333333333,
             "#9c179e"
            ],
            [
             0.4444444444444444,
             "#bd3786"
            ],
            [
             0.5555555555555556,
             "#d8576b"
            ],
            [
             0.6666666666666666,
             "#ed7953"
            ],
            [
             0.7777777777777778,
             "#fb9f3a"
            ],
            [
             0.8888888888888888,
             "#fdca26"
            ],
            [
             1,
             "#f0f921"
            ]
           ],
           "sequentialminus": [
            [
             0,
             "#0d0887"
            ],
            [
             0.1111111111111111,
             "#46039f"
            ],
            [
             0.2222222222222222,
             "#7201a8"
            ],
            [
             0.3333333333333333,
             "#9c179e"
            ],
            [
             0.4444444444444444,
             "#bd3786"
            ],
            [
             0.5555555555555556,
             "#d8576b"
            ],
            [
             0.6666666666666666,
             "#ed7953"
            ],
            [
             0.7777777777777778,
             "#fb9f3a"
            ],
            [
             0.8888888888888888,
             "#fdca26"
            ],
            [
             1,
             "#f0f921"
            ]
           ]
          },
          "colorway": [
           "#636efa",
           "#EF553B",
           "#00cc96",
           "#ab63fa",
           "#FFA15A",
           "#19d3f3",
           "#FF6692",
           "#B6E880",
           "#FF97FF",
           "#FECB52"
          ],
          "font": {
           "color": "#2a3f5f"
          },
          "geo": {
           "bgcolor": "white",
           "lakecolor": "white",
           "landcolor": "#E5ECF6",
           "showlakes": true,
           "showland": true,
           "subunitcolor": "white"
          },
          "hoverlabel": {
           "align": "left"
          },
          "hovermode": "closest",
          "mapbox": {
           "style": "light"
          },
          "paper_bgcolor": "white",
          "plot_bgcolor": "#E5ECF6",
          "polar": {
           "angularaxis": {
            "gridcolor": "white",
            "linecolor": "white",
            "ticks": ""
           },
           "bgcolor": "#E5ECF6",
           "radialaxis": {
            "gridcolor": "white",
            "linecolor": "white",
            "ticks": ""
           }
          },
          "scene": {
           "xaxis": {
            "backgroundcolor": "#E5ECF6",
            "gridcolor": "white",
            "gridwidth": 2,
            "linecolor": "white",
            "showbackground": true,
            "ticks": "",
            "zerolinecolor": "white"
           },
           "yaxis": {
            "backgroundcolor": "#E5ECF6",
            "gridcolor": "white",
            "gridwidth": 2,
            "linecolor": "white",
            "showbackground": true,
            "ticks": "",
            "zerolinecolor": "white"
           },
           "zaxis": {
            "backgroundcolor": "#E5ECF6",
            "gridcolor": "white",
            "gridwidth": 2,
            "linecolor": "white",
            "showbackground": true,
            "ticks": "",
            "zerolinecolor": "white"
           }
          },
          "shapedefaults": {
           "line": {
            "color": "#2a3f5f"
           }
          },
          "ternary": {
           "aaxis": {
            "gridcolor": "white",
            "linecolor": "white",
            "ticks": ""
           },
           "baxis": {
            "gridcolor": "white",
            "linecolor": "white",
            "ticks": ""
           },
           "bgcolor": "#E5ECF6",
           "caxis": {
            "gridcolor": "white",
            "linecolor": "white",
            "ticks": ""
           }
          },
          "title": {
           "x": 0.05
          },
          "xaxis": {
           "automargin": true,
           "gridcolor": "white",
           "linecolor": "white",
           "ticks": "",
           "title": {
            "standoff": 15
           },
           "zerolinecolor": "white",
           "zerolinewidth": 2
          },
          "yaxis": {
           "automargin": true,
           "gridcolor": "white",
           "linecolor": "white",
           "ticks": "",
           "title": {
            "standoff": 15
           },
           "zerolinecolor": "white",
           "zerolinewidth": 2
          }
         }
        },
        "title": {
         "text": "Age vs Predicted Medal by Sex"
        },
        "xaxis": {
         "anchor": "y",
         "domain": [
          0,
          1
         ],
         "title": {
          "text": "Age"
         }
        },
        "yaxis": {
         "anchor": "x",
         "categoryarray": [
          "Gold",
          "Silver",
          "Bronze"
         ],
         "categoryorder": "array",
         "domain": [
          0,
          1
         ],
         "title": {
          "text": "Predicted Medal"
         }
        }
       }
      }
     },
     "metadata": {},
     "output_type": "display_data"
    }
   ],
   "source": [
    "# Scatter plot of Age vs predicted medal, colored by host status\n",
    "fig = px.scatter(df, x='Age', y='pred_medal', color='Sex', title='Age vs Predicted Medal by Sex',\n",
    "                 labels={'Age': 'Age', 'pred_medal': 'Predicted Medal', 'Sex': 'Sex'},\n",
    "                 color_discrete_sequence=['magenta', 'darkblue'],\n",
    "                 category_orders={'pred_medal': ['Bronze', 'Silver', 'Gold'], 'Sex': ['M', 'F']})\n",
    "fig.update_traces(marker=dict(size=8))\n",
    "fig.update_layout(xaxis_title='Age', yaxis_title='Predicted Medal', legend_title='Sex')\n",
    "fig.show()\n"
   ]
  },
  {
   "cell_type": "code",
   "execution_count": 13,
   "metadata": {},
   "outputs": [
    {
     "data": {
      "application/vnd.plotly.v1+json": {
       "config": {
        "plotlyServerURL": "https://plot.ly"
       },
       "data": [
        {
         "hovertemplate": "pred_medal=Bronze<br>Age=%{x}<br>Height=%{y}<extra></extra>",
         "legendgroup": "Bronze",
         "marker": {
          "color": "#636efa",
          "symbol": "circle"
         },
         "mode": "markers",
         "name": "Bronze",
         "orientation": "v",
         "showlegend": true,
         "type": "scatter",
         "x": [
          27,
          27,
          27,
          25,
          26,
          24,
          24,
          29,
          24,
          25,
          24,
          24,
          20,
          21,
          24,
          29,
          22,
          28,
          28,
          28,
          21,
          21,
          21,
          26,
          26,
          26,
          27,
          26,
          26,
          26,
          23,
          24,
          27,
          27,
          27,
          19,
          28,
          22,
          20,
          20,
          29,
          31,
          25,
          29,
          24,
          24,
          24,
          26,
          25,
          25,
          25,
          27,
          27,
          21,
          21,
          26,
          26,
          26,
          26,
          19,
          27,
          27,
          22,
          22,
          22,
          21,
          21,
          23,
          26,
          26,
          26,
          19,
          28,
          24,
          23,
          19,
          23,
          27,
          25,
          21,
          28,
          23,
          24,
          25,
          23,
          27,
          23,
          26,
          26,
          21,
          28,
          28,
          29,
          29,
          29,
          29,
          27,
          27,
          30,
          30,
          28,
          23,
          24,
          24,
          26,
          25,
          30,
          19,
          25,
          35,
          35,
          26,
          26,
          26,
          24,
          26,
          24,
          23,
          29,
          20,
          20,
          23,
          19,
          19,
          19,
          20,
          23,
          23,
          28,
          34,
          34,
          26,
          22,
          36,
          27,
          27,
          27,
          30,
          26,
          26,
          25,
          21,
          23,
          38,
          38,
          26,
          26,
          20,
          21,
          16,
          16,
          29,
          24,
          22,
          26,
          22,
          28,
          22,
          25,
          25,
          24,
          29,
          25,
          21,
          25,
          25,
          25,
          27,
          27,
          25,
          29,
          26,
          26,
          25,
          24,
          25,
          23,
          23,
          29,
          29,
          30,
          21,
          26,
          24,
          27,
          29,
          25,
          23,
          22,
          29,
          27,
          24,
          27,
          27,
          29,
          27,
          25,
          25,
          25,
          26,
          26,
          28,
          32,
          27,
          27,
          27,
          23,
          25,
          27,
          29,
          31,
          31,
          30,
          21,
          26,
          26,
          52,
          28,
          28,
          24,
          21,
          21,
          21,
          33,
          47,
          21,
          20,
          30,
          24,
          22,
          25,
          23,
          19,
          23,
          19,
          19,
          22,
          22,
          22,
          22,
          22,
          23,
          30,
          30,
          30,
          33,
          33,
          20,
          27,
          23,
          16,
          16,
          16,
          25,
          25,
          25,
          24,
          19,
          22,
          22,
          25,
          25,
          25,
          25,
          27,
          27,
          27,
          21,
          15,
          21,
          25,
          18,
          23,
          18,
          20,
          20,
          22,
          26,
          26,
          26,
          29,
          24,
          24,
          24,
          24,
          29,
          23,
          22,
          29,
          20,
          20,
          20,
          25,
          25,
          25,
          23,
          22,
          27,
          21,
          25,
          25,
          25,
          26,
          22,
          31,
          31,
          31,
          18,
          23,
          28,
          25,
          24,
          31,
          30,
          20,
          25,
          25,
          33,
          29,
          25,
          31,
          20,
          27,
          20,
          24,
          26,
          26,
          22,
          21,
          29,
          24,
          27,
          21,
          36
         ],
         "xaxis": "x",
         "y": [
          172,
          172,
          172,
          186,
          165,
          181,
          170,
          181,
          187,
          185,
          198,
          198,
          180,
          191,
          174,
          191,
          171,
          180,
          180,
          180,
          180,
          180,
          180,
          185,
          185,
          207,
          196,
          198,
          198,
          198,
          185,
          185,
          180,
          180,
          180,
          172,
          170,
          160,
          164,
          164,
          166,
          178,
          173,
          170,
          166,
          166,
          166,
          175,
          170,
          170,
          170,
          175,
          175,
          170,
          170,
          176,
          176,
          176,
          156,
          179,
          172,
          172,
          194,
          194,
          194,
          173,
          156,
          198,
          179,
          198,
          165,
          168,
          185,
          186,
          156,
          152,
          185,
          185,
          172,
          174,
          170,
          180,
          198,
          179,
          180,
          160,
          173,
          180,
          180,
          187,
          171,
          175,
          185,
          185,
          185,
          175,
          176,
          176,
          178,
          184,
          192,
          173,
          181,
          181,
          173,
          186,
          177,
          180,
          165,
          166,
          166,
          176,
          176,
          176,
          170,
          167,
          170,
          170,
          167,
          168,
          168,
          172,
          167,
          167,
          167,
          167,
          168,
          168,
          163,
          190,
          180,
          193,
          180,
          188,
          167,
          167,
          167,
          170,
          183,
          183,
          176,
          172,
          173,
          193,
          193,
          170,
          170,
          163,
          162,
          140,
          148,
          188,
          168,
          180,
          172,
          172,
          189,
          181,
          193,
          193,
          170,
          180,
          185,
          156,
          178,
          178,
          178,
          160,
          169,
          172,
          182,
          173,
          178,
          180,
          168,
          170,
          173,
          173,
          197,
          197,
          188,
          198,
          193,
          187,
          181,
          194,
          190,
          183,
          176,
          180,
          173,
          182,
          170,
          180,
          182,
          165,
          183,
          191,
          191,
          185,
          185,
          181,
          184,
          186,
          186,
          186,
          167,
          170,
          166,
          179,
          159,
          159,
          167,
          171,
          173,
          173,
          183,
          179,
          179,
          179,
          172,
          172,
          172,
          180,
          168,
          184,
          183,
          191,
          180,
          184,
          194,
          187,
          188,
          180,
          188,
          186,
          191,
          191,
          191,
          185,
          183,
          172,
          197,
          197,
          197,
          165,
          165,
          173,
          174,
          167,
          185,
          185,
          185,
          173,
          173,
          173,
          173,
          173,
          172,
          180,
          169,
          169,
          169,
          176,
          172,
          172,
          172,
          161,
          150,
          182,
          197,
          185,
          174,
          173,
          178,
          178,
          176,
          188,
          188,
          183,
          177,
          170,
          170,
          170,
          170,
          202,
          193,
          190,
          178,
          159,
          159,
          159,
          160,
          160,
          160,
          180,
          175,
          170,
          165,
          172,
          172,
          172,
          165,
          197,
          182,
          169,
          169,
          155,
          160,
          178,
          168,
          160,
          183,
          180,
          177,
          178,
          178,
          167,
          173,
          170,
          180,
          187,
          192,
          187,
          172,
          170,
          170,
          170,
          151,
          169,
          172,
          160,
          160,
          167
         ],
         "yaxis": "y"
        },
        {
         "hovertemplate": "pred_medal=Gold<br>Age=%{x}<br>Height=%{y}<extra></extra>",
         "legendgroup": "Gold",
         "marker": {
          "color": "#EF553B",
          "symbol": "circle"
         },
         "mode": "markers",
         "name": "Gold",
         "orientation": "v",
         "showlegend": true,
         "type": "scatter",
         "x": [
          20,
          28,
          25,
          25,
          24,
          25,
          25,
          25,
          26,
          25,
          23,
          24,
          24,
          25,
          25,
          24,
          27,
          27,
          26,
          26,
          26,
          27,
          26,
          25,
          21,
          27,
          27,
          31,
          20,
          21,
          22,
          23,
          23,
          23,
          37,
          37,
          26,
          26,
          24,
          20,
          20,
          20,
          27,
          27,
          26,
          28,
          27,
          21,
          28,
          24,
          25,
          29,
          33,
          19,
          23,
          24,
          31,
          20,
          24,
          23,
          34,
          34,
          25,
          28,
          32,
          32,
          22,
          28,
          20,
          21,
          26,
          34,
          34,
          34,
          32,
          24,
          23,
          29,
          20,
          20,
          20,
          27,
          27,
          27,
          31,
          31,
          31,
          25,
          22,
          23,
          23,
          23,
          31,
          31,
          31,
          31,
          34,
          34,
          31,
          27,
          19,
          25,
          25,
          25,
          25,
          25,
          24,
          21,
          20,
          22,
          24,
          24,
          24,
          26,
          30,
          40,
          35,
          27,
          24,
          26,
          26,
          26,
          26,
          26,
          26,
          27,
          23,
          23,
          26,
          25,
          28,
          28,
          27,
          26,
          40,
          19,
          19,
          16,
          16,
          25,
          29,
          28,
          28,
          23,
          25,
          22,
          22,
          24,
          24,
          27,
          25,
          25,
          21,
          23,
          25,
          25,
          29,
          27,
          21,
          25,
          23,
          29,
          27,
          27,
          28,
          22,
          26,
          30,
          30,
          30,
          31,
          25,
          25,
          27,
          34,
          25,
          31,
          25,
          21,
          30,
          27,
          24,
          24,
          26,
          23,
          27,
          19,
          41,
          24,
          28,
          23,
          37,
          31,
          31,
          20,
          26,
          33,
          27,
          28,
          28,
          25,
          24,
          24,
          26,
          21,
          28,
          20,
          20,
          21,
          21,
          20,
          24,
          23,
          36,
          22,
          22,
          22,
          22,
          25,
          20,
          21,
          21,
          22,
          21,
          25,
          20,
          23,
          23,
          23,
          22,
          23,
          23,
          33,
          33,
          33,
          18,
          21,
          25,
          18,
          23,
          31,
          26,
          32,
          35,
          25,
          32,
          25,
          29,
          27,
          19,
          22,
          24,
          21,
          21,
          21,
          20,
          22,
          21,
          22,
          22,
          22,
          23,
          20,
          22,
          20,
          20,
          26,
          26,
          26,
          21,
          31,
          31,
          31,
          27,
          26,
          29,
          23,
          23
         ],
         "xaxis": "x",
         "y": [
          185,
          180,
          168,
          168,
          177,
          182,
          182,
          175,
          188,
          180,
          195,
          175,
          175,
          175,
          175,
          186,
          175,
          175,
          175,
          175,
          175,
          183,
          160,
          168,
          165,
          170,
          162,
          162,
          160,
          168,
          173,
          166,
          166,
          166,
          180,
          180,
          180,
          180,
          173,
          192,
          192,
          192,
          180,
          177,
          175,
          175,
          166,
          179,
          199,
          191,
          183,
          178,
          182,
          173,
          168,
          165,
          185,
          177,
          200,
          174,
          158,
          158,
          167,
          180,
          193,
          193,
          175,
          196,
          189,
          199,
          174,
          191,
          191,
          191,
          177,
          167,
          178,
          165,
          169,
          169,
          169,
          172,
          172,
          172,
          180,
          180,
          180,
          187,
          178,
          188,
          188,
          188,
          175,
          175,
          175,
          183,
          171,
          171,
          181,
          185,
          184,
          180,
          180,
          180,
          158,
          158,
          171,
          176,
          188,
          173,
          175,
          175,
          175,
          150,
          163,
          173,
          173,
          168,
          190,
          177,
          177,
          177,
          173,
          173,
          173,
          190,
          184,
          169,
          165,
          167,
          176,
          176,
          184,
          168,
          188,
          166,
          170,
          151,
          152,
          190,
          177,
          174,
          181,
          167,
          186,
          169,
          169,
          191,
          179,
          187,
          153,
          153,
          160,
          164,
          160,
          160,
          192,
          182,
          169,
          190,
          194,
          196,
          202,
          202,
          182,
          177,
          187,
          190,
          190,
          190,
          178,
          183,
          183,
          182,
          165,
          170,
          183,
          176,
          168,
          178,
          193,
          168,
          168,
          184,
          178,
          172,
          170,
          175,
          169,
          178,
          176,
          170,
          172,
          172,
          189,
          176,
          158,
          164,
          181,
          181,
          185,
          189,
          189,
          184,
          184,
          200,
          187,
          187,
          181,
          181,
          187,
          190,
          188,
          185,
          185,
          193,
          193,
          193,
          170,
          179,
          178,
          179,
          180,
          173,
          175,
          178,
          173,
          173,
          173,
          169,
          177,
          177,
          170,
          170,
          165,
          176,
          207,
          176,
          172,
          176,
          180,
          178,
          193,
          170,
          172,
          206,
          185,
          195,
          172,
          181,
          172,
          173,
          180,
          147,
          147,
          165,
          155,
          155,
          157,
          157,
          159,
          170,
          163,
          165,
          180,
          180,
          190,
          190,
          179,
          181,
          177,
          177,
          177,
          166,
          164,
          174,
          164,
          163
         ],
         "yaxis": "y"
        },
        {
         "hovertemplate": "pred_medal=Silver<br>Age=%{x}<br>Height=%{y}<extra></extra>",
         "legendgroup": "Silver",
         "marker": {
          "color": "#00cc96",
          "symbol": "circle"
         },
         "mode": "markers",
         "name": "Silver",
         "orientation": "v",
         "showlegend": true,
         "type": "scatter",
         "x": [
          21,
          29,
          26,
          26,
          26,
          26,
          33,
          27,
          21,
          27,
          21,
          21,
          27,
          26,
          26,
          34,
          34,
          24,
          27,
          27,
          27,
          22,
          22,
          23,
          22,
          24,
          24,
          29,
          24,
          24,
          22,
          24,
          22,
          24,
          29,
          23,
          21,
          37,
          32,
          32,
          31,
          26,
          30,
          29,
          26,
          26,
          23,
          24,
          25,
          29,
          25,
          21,
          27,
          27,
          27,
          23,
          25,
          26,
          24,
          25,
          23,
          30,
          23,
          25,
          24,
          33,
          29,
          22,
          24,
          26,
          21,
          23,
          26,
          23,
          23,
          23,
          22,
          22,
          22,
          21,
          17,
          15,
          17,
          24,
          18,
          18,
          18,
          21,
          50,
          32,
          23,
          27,
          38,
          22,
          33,
          32,
          22,
          26,
          28,
          31,
          31,
          31,
          22,
          25,
          25,
          25,
          19,
          19,
          24,
          28,
          32,
          30,
          27,
          30,
          25,
          21,
          30,
          22,
          21,
          25,
          25,
          28,
          24,
          26,
          26,
          28,
          18,
          20,
          28,
          27,
          31,
          27,
          27,
          27,
          32,
          28,
          28,
          23,
          26,
          29,
          30,
          29,
          25,
          31,
          21,
          33,
          33,
          25,
          19,
          19,
          19,
          33,
          33,
          33,
          33,
          33,
          26,
          21,
          21,
          21,
          22,
          25,
          19,
          19,
          19,
          20,
          20,
          22,
          19,
          22,
          27,
          27,
          27,
          27,
          27,
          22,
          22,
          24,
          21,
          22,
          21,
          26,
          25,
          20,
          20,
          20,
          20,
          23,
          26,
          22,
          22,
          22,
          22,
          28,
          34,
          34,
          31,
          31,
          30,
          30,
          27,
          20,
          20,
          27,
          27,
          30,
          30,
          30,
          32,
          25,
          25,
          22,
          24,
          22,
          22,
          22,
          21,
          24,
          23,
          27,
          27,
          24,
          21,
          21,
          30,
          30,
          25,
          25,
          25,
          24,
          24,
          24,
          22,
          27,
          21,
          21,
          23
         ],
         "xaxis": "x",
         "y": [
          174,
          158,
          176,
          176,
          176,
          183,
          185,
          188,
          167,
          188,
          178,
          178,
          188,
          207,
          207,
          187,
          187,
          192,
          183,
          183,
          183,
          183,
          183,
          201,
          157,
          168,
          165,
          160,
          162,
          162,
          163,
          179,
          173,
          180,
          171,
          178,
          184,
          191,
          170,
          155,
          160,
          173,
          176,
          179,
          172,
          172,
          172,
          203,
          203,
          185,
          184,
          165,
          171,
          171,
          171,
          169,
          196,
          182,
          174,
          169,
          178,
          197,
          168,
          175,
          188,
          189,
          181,
          186,
          188,
          182,
          184,
          182,
          176,
          183,
          187,
          181,
          165,
          185,
          178,
          166,
          164,
          162,
          164,
          159,
          157,
          157,
          157,
          193,
          176,
          176,
          177,
          197,
          186,
          175,
          176,
          168,
          173,
          175,
          168,
          155,
          155,
          155,
          161,
          164,
          164,
          164,
          162,
          143,
          156,
          196,
          184,
          179,
          168,
          166,
          197,
          160,
          181,
          182,
          178,
          162,
          162,
          170,
          169,
          168,
          168,
          185,
          168,
          170,
          196,
          200,
          187,
          178,
          193,
          183,
          173,
          175,
          198,
          172,
          180,
          197,
          173,
          164,
          168,
          169,
          176,
          178,
          178,
          162,
          155,
          155,
          155,
          175,
          175,
          175,
          162,
          162,
          172,
          191,
          191,
          191,
          196,
          193,
          191,
          196,
          196,
          188,
          196,
          173,
          175,
          180,
          175,
          175,
          175,
          175,
          175,
          179,
          179,
          173,
          178,
          179,
          162,
          180,
          160,
          178,
          178,
          178,
          188,
          190,
          200,
          186,
          186,
          164,
          188,
          182,
          175,
          175,
          168,
          168,
          180,
          180,
          170,
          173,
          173,
          155,
          155,
          178,
          168,
          168,
          205,
          192,
          191,
          173,
          183,
          168,
          176,
          176,
          154,
          163,
          159,
          173,
          165,
          160,
          180,
          184,
          170,
          170,
          192,
          192,
          170,
          163,
          163,
          163,
          152,
          175,
          159,
          159,
          162
         ],
         "yaxis": "y"
        }
       ],
       "layout": {
        "legend": {
         "title": {
          "text": "pred_medal"
         },
         "tracegroupgap": 0
        },
        "template": {
         "data": {
          "bar": [
           {
            "error_x": {
             "color": "#2a3f5f"
            },
            "error_y": {
             "color": "#2a3f5f"
            },
            "marker": {
             "line": {
              "color": "#E5ECF6",
              "width": 0.5
             },
             "pattern": {
              "fillmode": "overlay",
              "size": 10,
              "solidity": 0.2
             }
            },
            "type": "bar"
           }
          ],
          "barpolar": [
           {
            "marker": {
             "line": {
              "color": "#E5ECF6",
              "width": 0.5
             },
             "pattern": {
              "fillmode": "overlay",
              "size": 10,
              "solidity": 0.2
             }
            },
            "type": "barpolar"
           }
          ],
          "carpet": [
           {
            "aaxis": {
             "endlinecolor": "#2a3f5f",
             "gridcolor": "white",
             "linecolor": "white",
             "minorgridcolor": "white",
             "startlinecolor": "#2a3f5f"
            },
            "baxis": {
             "endlinecolor": "#2a3f5f",
             "gridcolor": "white",
             "linecolor": "white",
             "minorgridcolor": "white",
             "startlinecolor": "#2a3f5f"
            },
            "type": "carpet"
           }
          ],
          "choropleth": [
           {
            "colorbar": {
             "outlinewidth": 0,
             "ticks": ""
            },
            "type": "choropleth"
           }
          ],
          "contour": [
           {
            "colorbar": {
             "outlinewidth": 0,
             "ticks": ""
            },
            "colorscale": [
             [
              0,
              "#0d0887"
             ],
             [
              0.1111111111111111,
              "#46039f"
             ],
             [
              0.2222222222222222,
              "#7201a8"
             ],
             [
              0.3333333333333333,
              "#9c179e"
             ],
             [
              0.4444444444444444,
              "#bd3786"
             ],
             [
              0.5555555555555556,
              "#d8576b"
             ],
             [
              0.6666666666666666,
              "#ed7953"
             ],
             [
              0.7777777777777778,
              "#fb9f3a"
             ],
             [
              0.8888888888888888,
              "#fdca26"
             ],
             [
              1,
              "#f0f921"
             ]
            ],
            "type": "contour"
           }
          ],
          "contourcarpet": [
           {
            "colorbar": {
             "outlinewidth": 0,
             "ticks": ""
            },
            "type": "contourcarpet"
           }
          ],
          "heatmap": [
           {
            "colorbar": {
             "outlinewidth": 0,
             "ticks": ""
            },
            "colorscale": [
             [
              0,
              "#0d0887"
             ],
             [
              0.1111111111111111,
              "#46039f"
             ],
             [
              0.2222222222222222,
              "#7201a8"
             ],
             [
              0.3333333333333333,
              "#9c179e"
             ],
             [
              0.4444444444444444,
              "#bd3786"
             ],
             [
              0.5555555555555556,
              "#d8576b"
             ],
             [
              0.6666666666666666,
              "#ed7953"
             ],
             [
              0.7777777777777778,
              "#fb9f3a"
             ],
             [
              0.8888888888888888,
              "#fdca26"
             ],
             [
              1,
              "#f0f921"
             ]
            ],
            "type": "heatmap"
           }
          ],
          "heatmapgl": [
           {
            "colorbar": {
             "outlinewidth": 0,
             "ticks": ""
            },
            "colorscale": [
             [
              0,
              "#0d0887"
             ],
             [
              0.1111111111111111,
              "#46039f"
             ],
             [
              0.2222222222222222,
              "#7201a8"
             ],
             [
              0.3333333333333333,
              "#9c179e"
             ],
             [
              0.4444444444444444,
              "#bd3786"
             ],
             [
              0.5555555555555556,
              "#d8576b"
             ],
             [
              0.6666666666666666,
              "#ed7953"
             ],
             [
              0.7777777777777778,
              "#fb9f3a"
             ],
             [
              0.8888888888888888,
              "#fdca26"
             ],
             [
              1,
              "#f0f921"
             ]
            ],
            "type": "heatmapgl"
           }
          ],
          "histogram": [
           {
            "marker": {
             "pattern": {
              "fillmode": "overlay",
              "size": 10,
              "solidity": 0.2
             }
            },
            "type": "histogram"
           }
          ],
          "histogram2d": [
           {
            "colorbar": {
             "outlinewidth": 0,
             "ticks": ""
            },
            "colorscale": [
             [
              0,
              "#0d0887"
             ],
             [
              0.1111111111111111,
              "#46039f"
             ],
             [
              0.2222222222222222,
              "#7201a8"
             ],
             [
              0.3333333333333333,
              "#9c179e"
             ],
             [
              0.4444444444444444,
              "#bd3786"
             ],
             [
              0.5555555555555556,
              "#d8576b"
             ],
             [
              0.6666666666666666,
              "#ed7953"
             ],
             [
              0.7777777777777778,
              "#fb9f3a"
             ],
             [
              0.8888888888888888,
              "#fdca26"
             ],
             [
              1,
              "#f0f921"
             ]
            ],
            "type": "histogram2d"
           }
          ],
          "histogram2dcontour": [
           {
            "colorbar": {
             "outlinewidth": 0,
             "ticks": ""
            },
            "colorscale": [
             [
              0,
              "#0d0887"
             ],
             [
              0.1111111111111111,
              "#46039f"
             ],
             [
              0.2222222222222222,
              "#7201a8"
             ],
             [
              0.3333333333333333,
              "#9c179e"
             ],
             [
              0.4444444444444444,
              "#bd3786"
             ],
             [
              0.5555555555555556,
              "#d8576b"
             ],
             [
              0.6666666666666666,
              "#ed7953"
             ],
             [
              0.7777777777777778,
              "#fb9f3a"
             ],
             [
              0.8888888888888888,
              "#fdca26"
             ],
             [
              1,
              "#f0f921"
             ]
            ],
            "type": "histogram2dcontour"
           }
          ],
          "mesh3d": [
           {
            "colorbar": {
             "outlinewidth": 0,
             "ticks": ""
            },
            "type": "mesh3d"
           }
          ],
          "parcoords": [
           {
            "line": {
             "colorbar": {
              "outlinewidth": 0,
              "ticks": ""
             }
            },
            "type": "parcoords"
           }
          ],
          "pie": [
           {
            "automargin": true,
            "type": "pie"
           }
          ],
          "scatter": [
           {
            "fillpattern": {
             "fillmode": "overlay",
             "size": 10,
             "solidity": 0.2
            },
            "type": "scatter"
           }
          ],
          "scatter3d": [
           {
            "line": {
             "colorbar": {
              "outlinewidth": 0,
              "ticks": ""
             }
            },
            "marker": {
             "colorbar": {
              "outlinewidth": 0,
              "ticks": ""
             }
            },
            "type": "scatter3d"
           }
          ],
          "scattercarpet": [
           {
            "marker": {
             "colorbar": {
              "outlinewidth": 0,
              "ticks": ""
             }
            },
            "type": "scattercarpet"
           }
          ],
          "scattergeo": [
           {
            "marker": {
             "colorbar": {
              "outlinewidth": 0,
              "ticks": ""
             }
            },
            "type": "scattergeo"
           }
          ],
          "scattergl": [
           {
            "marker": {
             "colorbar": {
              "outlinewidth": 0,
              "ticks": ""
             }
            },
            "type": "scattergl"
           }
          ],
          "scattermapbox": [
           {
            "marker": {
             "colorbar": {
              "outlinewidth": 0,
              "ticks": ""
             }
            },
            "type": "scattermapbox"
           }
          ],
          "scatterpolar": [
           {
            "marker": {
             "colorbar": {
              "outlinewidth": 0,
              "ticks": ""
             }
            },
            "type": "scatterpolar"
           }
          ],
          "scatterpolargl": [
           {
            "marker": {
             "colorbar": {
              "outlinewidth": 0,
              "ticks": ""
             }
            },
            "type": "scatterpolargl"
           }
          ],
          "scatterternary": [
           {
            "marker": {
             "colorbar": {
              "outlinewidth": 0,
              "ticks": ""
             }
            },
            "type": "scatterternary"
           }
          ],
          "surface": [
           {
            "colorbar": {
             "outlinewidth": 0,
             "ticks": ""
            },
            "colorscale": [
             [
              0,
              "#0d0887"
             ],
             [
              0.1111111111111111,
              "#46039f"
             ],
             [
              0.2222222222222222,
              "#7201a8"
             ],
             [
              0.3333333333333333,
              "#9c179e"
             ],
             [
              0.4444444444444444,
              "#bd3786"
             ],
             [
              0.5555555555555556,
              "#d8576b"
             ],
             [
              0.6666666666666666,
              "#ed7953"
             ],
             [
              0.7777777777777778,
              "#fb9f3a"
             ],
             [
              0.8888888888888888,
              "#fdca26"
             ],
             [
              1,
              "#f0f921"
             ]
            ],
            "type": "surface"
           }
          ],
          "table": [
           {
            "cells": {
             "fill": {
              "color": "#EBF0F8"
             },
             "line": {
              "color": "white"
             }
            },
            "header": {
             "fill": {
              "color": "#C8D4E3"
             },
             "line": {
              "color": "white"
             }
            },
            "type": "table"
           }
          ]
         },
         "layout": {
          "annotationdefaults": {
           "arrowcolor": "#2a3f5f",
           "arrowhead": 0,
           "arrowwidth": 1
          },
          "autotypenumbers": "strict",
          "coloraxis": {
           "colorbar": {
            "outlinewidth": 0,
            "ticks": ""
           }
          },
          "colorscale": {
           "diverging": [
            [
             0,
             "#8e0152"
            ],
            [
             0.1,
             "#c51b7d"
            ],
            [
             0.2,
             "#de77ae"
            ],
            [
             0.3,
             "#f1b6da"
            ],
            [
             0.4,
             "#fde0ef"
            ],
            [
             0.5,
             "#f7f7f7"
            ],
            [
             0.6,
             "#e6f5d0"
            ],
            [
             0.7,
             "#b8e186"
            ],
            [
             0.8,
             "#7fbc41"
            ],
            [
             0.9,
             "#4d9221"
            ],
            [
             1,
             "#276419"
            ]
           ],
           "sequential": [
            [
             0,
             "#0d0887"
            ],
            [
             0.1111111111111111,
             "#46039f"
            ],
            [
             0.2222222222222222,
             "#7201a8"
            ],
            [
             0.3333333333333333,
             "#9c179e"
            ],
            [
             0.4444444444444444,
             "#bd3786"
            ],
            [
             0.5555555555555556,
             "#d8576b"
            ],
            [
             0.6666666666666666,
             "#ed7953"
            ],
            [
             0.7777777777777778,
             "#fb9f3a"
            ],
            [
             0.8888888888888888,
             "#fdca26"
            ],
            [
             1,
             "#f0f921"
            ]
           ],
           "sequentialminus": [
            [
             0,
             "#0d0887"
            ],
            [
             0.1111111111111111,
             "#46039f"
            ],
            [
             0.2222222222222222,
             "#7201a8"
            ],
            [
             0.3333333333333333,
             "#9c179e"
            ],
            [
             0.4444444444444444,
             "#bd3786"
            ],
            [
             0.5555555555555556,
             "#d8576b"
            ],
            [
             0.6666666666666666,
             "#ed7953"
            ],
            [
             0.7777777777777778,
             "#fb9f3a"
            ],
            [
             0.8888888888888888,
             "#fdca26"
            ],
            [
             1,
             "#f0f921"
            ]
           ]
          },
          "colorway": [
           "#636efa",
           "#EF553B",
           "#00cc96",
           "#ab63fa",
           "#FFA15A",
           "#19d3f3",
           "#FF6692",
           "#B6E880",
           "#FF97FF",
           "#FECB52"
          ],
          "font": {
           "color": "#2a3f5f"
          },
          "geo": {
           "bgcolor": "white",
           "lakecolor": "white",
           "landcolor": "#E5ECF6",
           "showlakes": true,
           "showland": true,
           "subunitcolor": "white"
          },
          "hoverlabel": {
           "align": "left"
          },
          "hovermode": "closest",
          "mapbox": {
           "style": "light"
          },
          "paper_bgcolor": "white",
          "plot_bgcolor": "#E5ECF6",
          "polar": {
           "angularaxis": {
            "gridcolor": "white",
            "linecolor": "white",
            "ticks": ""
           },
           "bgcolor": "#E5ECF6",
           "radialaxis": {
            "gridcolor": "white",
            "linecolor": "white",
            "ticks": ""
           }
          },
          "scene": {
           "xaxis": {
            "backgroundcolor": "#E5ECF6",
            "gridcolor": "white",
            "gridwidth": 2,
            "linecolor": "white",
            "showbackground": true,
            "ticks": "",
            "zerolinecolor": "white"
           },
           "yaxis": {
            "backgroundcolor": "#E5ECF6",
            "gridcolor": "white",
            "gridwidth": 2,
            "linecolor": "white",
            "showbackground": true,
            "ticks": "",
            "zerolinecolor": "white"
           },
           "zaxis": {
            "backgroundcolor": "#E5ECF6",
            "gridcolor": "white",
            "gridwidth": 2,
            "linecolor": "white",
            "showbackground": true,
            "ticks": "",
            "zerolinecolor": "white"
           }
          },
          "shapedefaults": {
           "line": {
            "color": "#2a3f5f"
           }
          },
          "ternary": {
           "aaxis": {
            "gridcolor": "white",
            "linecolor": "white",
            "ticks": ""
           },
           "baxis": {
            "gridcolor": "white",
            "linecolor": "white",
            "ticks": ""
           },
           "bgcolor": "#E5ECF6",
           "caxis": {
            "gridcolor": "white",
            "linecolor": "white",
            "ticks": ""
           }
          },
          "title": {
           "x": 0.05
          },
          "xaxis": {
           "automargin": true,
           "gridcolor": "white",
           "linecolor": "white",
           "ticks": "",
           "title": {
            "standoff": 15
           },
           "zerolinecolor": "white",
           "zerolinewidth": 2
          },
          "yaxis": {
           "automargin": true,
           "gridcolor": "white",
           "linecolor": "white",
           "ticks": "",
           "title": {
            "standoff": 15
           },
           "zerolinecolor": "white",
           "zerolinewidth": 2
          }
         }
        },
        "title": {
         "text": "Age vs Height by Predicted Medal"
        },
        "xaxis": {
         "anchor": "y",
         "domain": [
          0,
          1
         ],
         "title": {
          "text": "Age"
         }
        },
        "yaxis": {
         "anchor": "x",
         "domain": [
          0,
          1
         ],
         "title": {
          "text": "Height"
         }
        }
       }
      }
     },
     "metadata": {},
     "output_type": "display_data"
    },
    {
     "data": {
      "application/vnd.plotly.v1+json": {
       "config": {
        "plotlyServerURL": "https://plot.ly"
       },
       "data": [
        {
         "alignmentgroup": "True",
         "hovertemplate": "pred_medal=%{x}<br>Weight=%{y}<extra></extra>",
         "legendgroup": "",
         "marker": {
          "color": "#636efa"
         },
         "name": "",
         "notched": false,
         "offsetgroup": "",
         "orientation": "v",
         "showlegend": false,
         "type": "box",
         "x": [
          "Bronze",
          "Bronze",
          "Bronze",
          "Gold",
          "Silver",
          "Bronze",
          "Gold",
          "Silver",
          "Bronze",
          "Silver",
          "Silver",
          "Silver",
          "Gold",
          "Gold",
          "Bronze",
          "Gold",
          "Silver",
          "Bronze",
          "Gold",
          "Gold",
          "Bronze",
          "Gold",
          "Silver",
          "Bronze",
          "Bronze",
          "Bronze",
          "Bronze",
          "Silver",
          "Silver",
          "Silver",
          "Silver",
          "Silver",
          "Bronze",
          "Gold",
          "Gold",
          "Bronze",
          "Gold",
          "Silver",
          "Bronze",
          "Gold",
          "Gold",
          "Bronze",
          "Gold",
          "Gold",
          "Bronze",
          "Bronze",
          "Bronze",
          "Bronze",
          "Bronze",
          "Bronze",
          "Bronze",
          "Gold",
          "Bronze",
          "Bronze",
          "Silver",
          "Silver",
          "Bronze",
          "Silver",
          "Silver",
          "Bronze",
          "Bronze",
          "Bronze",
          "Bronze",
          "Gold",
          "Silver",
          "Gold",
          "Silver",
          "Silver",
          "Silver",
          "Gold",
          "Gold",
          "Gold",
          "Silver",
          "Silver",
          "Bronze",
          "Gold",
          "Silver",
          "Bronze",
          "Bronze",
          "Bronze",
          "Bronze",
          "Gold",
          "Silver",
          "Gold",
          "Gold",
          "Silver",
          "Bronze",
          "Gold",
          "Silver",
          "Bronze",
          "Gold",
          "Silver",
          "Bronze",
          "Gold",
          "Bronze",
          "Bronze",
          "Silver",
          "Silver",
          "Bronze",
          "Gold",
          "Silver",
          "Silver",
          "Gold",
          "Silver",
          "Bronze",
          "Gold",
          "Silver",
          "Bronze",
          "Silver",
          "Silver",
          "Bronze",
          "Bronze",
          "Bronze",
          "Bronze",
          "Gold",
          "Gold",
          "Gold",
          "Gold",
          "Gold",
          "Bronze",
          "Bronze",
          "Bronze",
          "Bronze",
          "Bronze",
          "Silver",
          "Bronze",
          "Gold",
          "Silver",
          "Gold",
          "Bronze",
          "Silver",
          "Bronze",
          "Bronze",
          "Bronze",
          "Bronze",
          "Silver",
          "Silver",
          "Bronze",
          "Gold",
          "Silver",
          "Bronze",
          "Bronze",
          "Silver",
          "Bronze",
          "Gold",
          "Gold",
          "Gold",
          "Gold",
          "Gold",
          "Gold",
          "Bronze",
          "Bronze",
          "Bronze",
          "Gold",
          "Silver",
          "Gold",
          "Silver",
          "Silver",
          "Bronze",
          "Gold",
          "Silver",
          "Bronze",
          "Gold",
          "Silver",
          "Bronze",
          "Gold",
          "Silver",
          "Bronze",
          "Gold",
          "Silver",
          "Bronze",
          "Gold",
          "Silver",
          "Gold",
          "Gold",
          "Silver",
          "Bronze",
          "Silver",
          "Silver",
          "Silver",
          "Gold",
          "Silver",
          "Bronze",
          "Bronze",
          "Silver",
          "Bronze",
          "Gold",
          "Bronze",
          "Bronze",
          "Bronze",
          "Silver",
          "Bronze",
          "Gold",
          "Silver",
          "Bronze",
          "Bronze",
          "Silver",
          "Bronze",
          "Gold",
          "Silver",
          "Bronze",
          "Gold",
          "Silver",
          "Bronze",
          "Gold",
          "Bronze",
          "Bronze",
          "Gold",
          "Gold",
          "Bronze",
          "Gold",
          "Silver",
          "Bronze",
          "Gold",
          "Bronze",
          "Bronze",
          "Silver",
          "Silver",
          "Bronze",
          "Bronze",
          "Silver",
          "Bronze",
          "Bronze",
          "Bronze",
          "Bronze",
          "Gold",
          "Gold",
          "Gold",
          "Gold",
          "Silver",
          "Bronze",
          "Bronze",
          "Silver",
          "Bronze",
          "Bronze",
          "Silver",
          "Bronze",
          "Gold",
          "Silver",
          "Gold",
          "Gold",
          "Silver",
          "Bronze",
          "Gold",
          "Gold",
          "Gold",
          "Gold",
          "Silver",
          "Bronze",
          "Gold",
          "Silver",
          "Gold",
          "Gold",
          "Bronze",
          "Bronze",
          "Gold",
          "Gold",
          "Gold",
          "Gold",
          "Gold",
          "Gold",
          "Gold",
          "Gold",
          "Gold",
          "Gold",
          "Silver",
          "Gold",
          "Gold",
          "Gold",
          "Gold",
          "Gold",
          "Gold",
          "Gold",
          "Gold",
          "Gold",
          "Gold",
          "Gold",
          "Bronze",
          "Bronze",
          "Gold",
          "Silver",
          "Bronze",
          "Gold",
          "Silver",
          "Bronze",
          "Gold",
          "Gold",
          "Gold",
          "Gold",
          "Gold",
          "Bronze",
          "Bronze",
          "Silver",
          "Bronze",
          "Bronze",
          "Bronze",
          "Bronze",
          "Bronze",
          "Bronze",
          "Bronze",
          "Gold",
          "Silver",
          "Bronze",
          "Gold",
          "Silver",
          "Bronze",
          "Gold",
          "Bronze",
          "Bronze",
          "Gold",
          "Silver",
          "Bronze",
          "Bronze",
          "Bronze",
          "Bronze",
          "Gold",
          "Gold",
          "Gold",
          "Silver",
          "Silver",
          "Silver",
          "Gold",
          "Silver",
          "Bronze",
          "Silver",
          "Silver",
          "Silver",
          "Gold",
          "Bronze",
          "Bronze",
          "Gold",
          "Silver",
          "Bronze",
          "Gold",
          "Silver",
          "Bronze",
          "Gold",
          "Silver",
          "Bronze",
          "Gold",
          "Silver",
          "Bronze",
          "Gold",
          "Gold",
          "Gold",
          "Gold",
          "Gold",
          "Gold",
          "Gold",
          "Silver",
          "Bronze",
          "Gold",
          "Silver",
          "Bronze",
          "Bronze",
          "Bronze",
          "Bronze",
          "Gold",
          "Silver",
          "Bronze",
          "Gold",
          "Bronze",
          "Bronze",
          "Gold",
          "Silver",
          "Bronze",
          "Gold",
          "Silver",
          "Gold",
          "Gold",
          "Silver",
          "Bronze",
          "Gold",
          "Silver",
          "Bronze",
          "Gold",
          "Bronze",
          "Bronze",
          "Bronze",
          "Silver",
          "Bronze",
          "Silver",
          "Silver",
          "Silver",
          "Gold",
          "Silver",
          "Bronze",
          "Silver",
          "Silver",
          "Silver",
          "Gold",
          "Silver",
          "Bronze",
          "Gold",
          "Silver",
          "Bronze",
          "Gold",
          "Silver",
          "Bronze",
          "Gold",
          "Silver",
          "Bronze",
          "Gold",
          "Silver",
          "Bronze",
          "Gold",
          "Silver",
          "Bronze",
          "Gold",
          "Silver",
          "Bronze",
          "Gold",
          "Silver",
          "Bronze",
          "Gold",
          "Silver",
          "Bronze",
          "Gold",
          "Silver",
          "Gold",
          "Silver",
          "Silver",
          "Bronze",
          "Gold",
          "Bronze",
          "Bronze",
          "Gold",
          "Bronze",
          "Bronze",
          "Gold",
          "Silver",
          "Bronze",
          "Gold",
          "Gold",
          "Bronze",
          "Bronze",
          "Bronze",
          "Bronze",
          "Gold",
          "Silver",
          "Bronze",
          "Gold",
          "Silver",
          "Bronze",
          "Bronze",
          "Silver",
          "Bronze",
          "Gold",
          "Silver",
          "Gold",
          "Silver",
          "Silver",
          "Bronze",
          "Gold",
          "Silver",
          "Bronze",
          "Gold",
          "Bronze",
          "Bronze",
          "Gold",
          "Silver",
          "Bronze",
          "Bronze",
          "Silver",
          "Bronze",
          "Gold",
          "Silver",
          "Bronze",
          "Gold",
          "Bronze",
          "Bronze",
          "Gold",
          "Silver",
          "Bronze",
          "Gold",
          "Gold",
          "Bronze",
          "Gold",
          "Silver",
          "Bronze",
          "Gold",
          "Silver",
          "Bronze",
          "Gold",
          "Silver",
          "Bronze",
          "Gold",
          "Gold",
          "Gold",
          "Gold",
          "Silver",
          "Bronze",
          "Gold",
          "Gold",
          "Bronze",
          "Gold",
          "Bronze",
          "Bronze",
          "Gold",
          "Silver",
          "Bronze",
          "Gold",
          "Silver",
          "Bronze",
          "Gold",
          "Bronze",
          "Bronze",
          "Gold",
          "Silver",
          "Bronze",
          "Gold",
          "Silver",
          "Bronze",
          "Gold",
          "Silver",
          "Bronze",
          "Bronze",
          "Silver",
          "Bronze",
          "Bronze",
          "Bronze",
          "Bronze",
          "Gold",
          "Silver",
          "Bronze",
          "Bronze",
          "Bronze",
          "Bronze",
          "Gold",
          "Gold",
          "Bronze",
          "Gold",
          "Silver",
          "Bronze",
          "Gold",
          "Silver",
          "Bronze",
          "Bronze",
          "Bronze",
          "Bronze",
          "Gold",
          "Silver",
          "Gold",
          "Gold",
          "Gold",
          "Bronze",
          "Gold",
          "Gold",
          "Bronze",
          "Gold",
          "Gold",
          "Gold",
          "Gold",
          "Bronze",
          "Bronze",
          "Gold",
          "Silver",
          "Bronze",
          "Bronze",
          "Bronze",
          "Bronze",
          "Bronze",
          "Bronze",
          "Bronze",
          "Silver",
          "Silver",
          "Bronze",
          "Gold",
          "Silver",
          "Bronze",
          "Silver",
          "Silver",
          "Silver",
          "Silver",
          "Silver",
          "Silver",
          "Gold",
          "Silver",
          "Silver",
          "Gold",
          "Silver",
          "Gold",
          "Gold",
          "Silver",
          "Bronze",
          "Gold",
          "Gold",
          "Bronze",
          "Gold",
          "Silver",
          "Bronze",
          "Silver",
          "Silver",
          "Bronze",
          "Gold",
          "Silver",
          "Bronze",
          "Gold",
          "Silver",
          "Bronze",
          "Gold",
          "Gold",
          "Bronze",
          "Bronze",
          "Bronze",
          "Bronze",
          "Gold",
          "Gold",
          "Bronze",
          "Gold",
          "Silver",
          "Silver",
          "Bronze",
          "Bronze",
          "Bronze",
          "Gold",
          "Silver",
          "Bronze",
          "Gold",
          "Silver",
          "Bronze",
          "Gold",
          "Gold",
          "Bronze",
          "Gold",
          "Gold",
          "Gold",
          "Bronze",
          "Bronze",
          "Bronze",
          "Gold",
          "Bronze",
          "Bronze",
          "Gold",
          "Silver",
          "Bronze",
          "Gold",
          "Silver",
          "Bronze",
          "Gold",
          "Silver",
          "Bronze",
          "Bronze",
          "Bronze",
          "Bronze",
          "Bronze",
          "Bronze",
          "Bronze",
          "Silver",
          "Silver",
          "Silver",
          "Gold",
          "Silver",
          "Silver",
          "Silver",
          "Silver",
          "Bronze",
          "Gold",
          "Silver",
          "Bronze",
          "Gold",
          "Silver",
          "Bronze",
          "Gold",
          "Silver",
          "Bronze",
          "Gold",
          "Gold",
          "Gold",
          "Bronze",
          "Bronze",
          "Bronze",
          "Gold",
          "Silver",
          "Bronze",
          "Bronze",
          "Bronze",
          "Bronze",
          "Gold",
          "Silver",
          "Gold",
          "Gold",
          "Gold",
          "Bronze",
          "Gold",
          "Silver",
          "Bronze",
          "Silver",
          "Silver",
          "Silver",
          "Gold",
          "Silver",
          "Bronze",
          "Gold",
          "Silver",
          "Silver",
          "Silver",
          "Silver",
          "Bronze",
          "Gold",
          "Bronze",
          "Bronze",
          "Gold",
          "Silver",
          "Bronze",
          "Bronze",
          "Silver",
          "Bronze",
          "Gold",
          "Silver",
          "Bronze",
          "Gold",
          "Silver",
          "Silver",
          "Gold",
          "Bronze",
          "Bronze",
          "Gold",
          "Silver",
          "Silver",
          "Silver",
          "Silver",
          "Bronze",
          "Gold",
          "Silver",
          "Bronze",
          "Silver",
          "Silver",
          "Bronze",
          "Gold",
          "Silver",
          "Silver",
          "Bronze",
          "Bronze",
          "Bronze",
          "Silver",
          "Silver",
          "Silver",
          "Gold",
          "Silver",
          "Bronze",
          "Gold",
          "Silver",
          "Bronze",
          "Gold",
          "Silver",
          "Bronze",
          "Gold",
          "Silver",
          "Bronze",
          "Bronze",
          "Bronze",
          "Bronze",
          "Bronze",
          "Bronze",
          "Bronze",
          "Gold",
          "Silver",
          "Bronze",
          "Gold",
          "Bronze",
          "Bronze",
          "Gold",
          "Silver",
          "Bronze",
          "Bronze",
          "Bronze",
          "Bronze",
          "Silver",
          "Silver",
          "Bronze",
          "Gold",
          "Bronze",
          "Bronze",
          "Gold",
          "Silver",
          "Gold",
          "Gold",
          "Bronze",
          "Bronze",
          "Gold",
          "Silver",
          "Bronze",
          "Gold",
          "Gold",
          "Gold",
          "Gold",
          "Silver",
          "Bronze",
          "Gold",
          "Silver",
          "Bronze",
          "Gold",
          "Silver",
          "Bronze",
          "Gold",
          "Silver",
          "Bronze",
          "Gold",
          "Gold",
          "Bronze",
          "Gold",
          "Gold",
          "Bronze",
          "Gold",
          "Silver",
          "Bronze",
          "Bronze",
          "Silver",
          "Bronze",
          "Silver",
          "Silver",
          "Bronze",
          "Gold",
          "Bronze",
          "Bronze",
          "Gold",
          "Gold",
          "Gold",
          "Silver",
          "Silver",
          "Bronze",
          "Bronze",
          "Bronze",
          "Bronze",
          "Bronze",
          "Silver",
          "Bronze",
          "Gold",
          "Bronze",
          "Bronze",
          "Silver",
          "Silver",
          "Silver",
          "Gold",
          "Silver",
          "Bronze",
          "Gold",
          "Silver",
          "Bronze",
          "Silver",
          "Silver",
          "Bronze",
          "Gold",
          "Silver",
          "Bronze",
          "Gold",
          "Bronze",
          "Bronze"
         ],
         "x0": " ",
         "xaxis": "x",
         "y": [
          67,
          67,
          67,
          77,
          80,
          102,
          68,
          50,
          69,
          65,
          65,
          65,
          47,
          47,
          59,
          70,
          77,
          73,
          77,
          77,
          80,
          55,
          73,
          72,
          80,
          79,
          79,
          65,
          58,
          65,
          85,
          85,
          62,
          84,
          74,
          82,
          79,
          82,
          68,
          72,
          72,
          85,
          57,
          57,
          56,
          62,
          62,
          62,
          68,
          68,
          68,
          77,
          83,
          83,
          120,
          120,
          120,
          120,
          120,
          128,
          77,
          77,
          77,
          94,
          92,
          94,
          86,
          86,
          86,
          67,
          67,
          67,
          75,
          75,
          80,
          134,
          125,
          120,
          74,
          74,
          74,
          50,
          43,
          52,
          63,
          55,
          61,
          65,
          59,
          60,
          47,
          50,
          45,
          53,
          55,
          55,
          42,
          42,
          53,
          55,
          61,
          70,
          65,
          59,
          57,
          61,
          72,
          58,
          57,
          59,
          60,
          47,
          47,
          47,
          60,
          60,
          60,
          85,
          85,
          70,
          75,
          75,
          75,
          64,
          69,
          64,
          58,
          72,
          58,
          74,
          72,
          74,
          65,
          65,
          65,
          49,
          45,
          45,
          62,
          59,
          66,
          95,
          136,
          95,
          72,
          72,
          72,
          70,
          77,
          80,
          88,
          88,
          88,
          68,
          72,
          56,
          59,
          59,
          70,
          65,
          65,
          51,
          96,
          102,
          93,
          78,
          94,
          72,
          77,
          87,
          88,
          67,
          75,
          70,
          56,
          56,
          56,
          57,
          57,
          57,
          52,
          52,
          52,
          91,
          91,
          91,
          49,
          49,
          49,
          81,
          81,
          81,
          64,
          64,
          64,
          60,
          64,
          60,
          75,
          75,
          75,
          105,
          108,
          101,
          69,
          69,
          69,
          51,
          51,
          50,
          60,
          60,
          60,
          75,
          75,
          75,
          78,
          88,
          85,
          65,
          80,
          75,
          95,
          95,
          95,
          93,
          93,
          85,
          83,
          76,
          70,
          80,
          90,
          80,
          89,
          90,
          90,
          90,
          85,
          95,
          80,
          82,
          95,
          94,
          94,
          94,
          70,
          76,
          69,
          70,
          78,
          70,
          63,
          67,
          67,
          70,
          70,
          70,
          68,
          68,
          68,
          88,
          88,
          88,
          93,
          88,
          65,
          90,
          90,
          90,
          70,
          70,
          70,
          69,
          65,
          65,
          74,
          61,
          70,
          93,
          93,
          90,
          77,
          73,
          74,
          83,
          83,
          83,
          58,
          58,
          65,
          50,
          55,
          50,
          64,
          64,
          64,
          59,
          56,
          59,
          66,
          90,
          72,
          74,
          70,
          61,
          80,
          60,
          60,
          68,
          65,
          70,
          58,
          58,
          58,
          77,
          77,
          77,
          57,
          49,
          57,
          48,
          52,
          62,
          48,
          48,
          48,
          57,
          55,
          55,
          75,
          73,
          59,
          66,
          80,
          76,
          65,
          70,
          70,
          80,
          65,
          80,
          77,
          77,
          77,
          74,
          74,
          74,
          70,
          100,
          74,
          76,
          78,
          85,
          56,
          56,
          56,
          75,
          64,
          68,
          65,
          74,
          74,
          50,
          71,
          64,
          66,
          60,
          66,
          80,
          69,
          72,
          65,
          68,
          71,
          86,
          86,
          86,
          85,
          65,
          85,
          54,
          54,
          54,
          67,
          55,
          60,
          62,
          62,
          62,
          59,
          51,
          61,
          44,
          47,
          33,
          49,
          46,
          37,
          92,
          98,
          88,
          73,
          74,
          65,
          69,
          79,
          77,
          69,
          62,
          63,
          60,
          60,
          60,
          100,
          105,
          108,
          66,
          66,
          66,
          80,
          81,
          81,
          125,
          120,
          120,
          73,
          73,
          81,
          94,
          90,
          90,
          51,
          51,
          48,
          78,
          78,
          78,
          52,
          52,
          52,
          66,
          65,
          63,
          108,
          97,
          128,
          59,
          57,
          59,
          70,
          70,
          70,
          78,
          74,
          64,
          69,
          60,
          55,
          56,
          47,
          53,
          49,
          50,
          49,
          93,
          96,
          100,
          92,
          95,
          86,
          94,
          102,
          90,
          110,
          110,
          84,
          73,
          76,
          70,
          70,
          71,
          69,
          90,
          92,
          95,
          92,
          92,
          92,
          75,
          82,
          74,
          73,
          73,
          86,
          74,
          66,
          72,
          59,
          59,
          57,
          66,
          68,
          74,
          71,
          62,
          76,
          86,
          109,
          92,
          75,
          75,
          68,
          81,
          81,
          81,
          98,
          95,
          98,
          80,
          80,
          80,
          75,
          70,
          74,
          72,
          72,
          72,
          65,
          65,
          57,
          72,
          63,
          68,
          74,
          62,
          60,
          66,
          56,
          56,
          63,
          57,
          59,
          75,
          69,
          75,
          73,
          64,
          73,
          97,
          84,
          84,
          85,
          71,
          71,
          68,
          65,
          83,
          80,
          80,
          88,
          78,
          78,
          78,
          82,
          82,
          80,
          55,
          70,
          93,
          55,
          55,
          55,
          85,
          85,
          85,
          55,
          72,
          72,
          95,
          80,
          95,
          77,
          72,
          79,
          86,
          86,
          64,
          84,
          91,
          95,
          86,
          88,
          80,
          74,
          86,
          82,
          89,
          86,
          90,
          78,
          78,
          72,
          71,
          76,
          71,
          77,
          77,
          74,
          83,
          84,
          84,
          74,
          74,
          74,
          90,
          86,
          70,
          80,
          84,
          77,
          78,
          76,
          59,
          86,
          86,
          86,
          92,
          92,
          92,
          59,
          52,
          52,
          63,
          65,
          61,
          65,
          70,
          61,
          66,
          75,
          54,
          68,
          68,
          68,
          61,
          61,
          61,
          64,
          64,
          64,
          60,
          65,
          65,
          61,
          61,
          65,
          66,
          65,
          74,
          57,
          67,
          70,
          73,
          58,
          77,
          64,
          64,
          64,
          55,
          55,
          55,
          59,
          46,
          65,
          63,
          63,
          63,
          61,
          67,
          61,
          60,
          60,
          55,
          54,
          54,
          45,
          68,
          68,
          68,
          58,
          63,
          59,
          90,
          90,
          93,
          80,
          80,
          80,
          57,
          57,
          57,
          52,
          50,
          49,
          80,
          75,
          80,
          66,
          69,
          65,
          76,
          71,
          71,
          74,
          86,
          86,
          84,
          66,
          66,
          60,
          60,
          70,
          59,
          62,
          65,
          66,
          66,
          64,
          60,
          47,
          47,
          59,
          59,
          59,
          59,
          56,
          56,
          100,
          107,
          100,
          78,
          78,
          82,
          106,
          91,
          88,
          74,
          65,
          86,
          56,
          56,
          56,
          62,
          62,
          62,
          105,
          109,
          105,
          85,
          85,
          97,
          69,
          70,
          64,
          94,
          94,
          94,
          77,
          77,
          77,
          140,
          160,
          130,
          47,
          48,
          47,
          76,
          75,
          75,
          69,
          69,
          58,
          58,
          58,
          58,
          63,
          63,
          63,
          100,
          123,
          141,
          63,
          62,
          65,
          65,
          59,
          59,
          102,
          102,
          97,
          98,
          98,
          98,
          86,
          86,
          86,
          85,
          90,
          85,
          66,
          66,
          60,
          74,
          74,
          74,
          80,
          80,
          80,
          125,
          125,
          125,
          130,
          130,
          130,
          65,
          65,
          74,
          67,
          80,
          66,
          57,
          57,
          57,
          56,
          48,
          48,
          75,
          75,
          73,
          69,
          69,
          69,
          58,
          58,
          58,
          65,
          61,
          63
         ],
         "y0": " ",
         "yaxis": "y"
        }
       ],
       "layout": {
        "boxmode": "group",
        "legend": {
         "tracegroupgap": 0
        },
        "template": {
         "data": {
          "bar": [
           {
            "error_x": {
             "color": "#2a3f5f"
            },
            "error_y": {
             "color": "#2a3f5f"
            },
            "marker": {
             "line": {
              "color": "#E5ECF6",
              "width": 0.5
             },
             "pattern": {
              "fillmode": "overlay",
              "size": 10,
              "solidity": 0.2
             }
            },
            "type": "bar"
           }
          ],
          "barpolar": [
           {
            "marker": {
             "line": {
              "color": "#E5ECF6",
              "width": 0.5
             },
             "pattern": {
              "fillmode": "overlay",
              "size": 10,
              "solidity": 0.2
             }
            },
            "type": "barpolar"
           }
          ],
          "carpet": [
           {
            "aaxis": {
             "endlinecolor": "#2a3f5f",
             "gridcolor": "white",
             "linecolor": "white",
             "minorgridcolor": "white",
             "startlinecolor": "#2a3f5f"
            },
            "baxis": {
             "endlinecolor": "#2a3f5f",
             "gridcolor": "white",
             "linecolor": "white",
             "minorgridcolor": "white",
             "startlinecolor": "#2a3f5f"
            },
            "type": "carpet"
           }
          ],
          "choropleth": [
           {
            "colorbar": {
             "outlinewidth": 0,
             "ticks": ""
            },
            "type": "choropleth"
           }
          ],
          "contour": [
           {
            "colorbar": {
             "outlinewidth": 0,
             "ticks": ""
            },
            "colorscale": [
             [
              0,
              "#0d0887"
             ],
             [
              0.1111111111111111,
              "#46039f"
             ],
             [
              0.2222222222222222,
              "#7201a8"
             ],
             [
              0.3333333333333333,
              "#9c179e"
             ],
             [
              0.4444444444444444,
              "#bd3786"
             ],
             [
              0.5555555555555556,
              "#d8576b"
             ],
             [
              0.6666666666666666,
              "#ed7953"
             ],
             [
              0.7777777777777778,
              "#fb9f3a"
             ],
             [
              0.8888888888888888,
              "#fdca26"
             ],
             [
              1,
              "#f0f921"
             ]
            ],
            "type": "contour"
           }
          ],
          "contourcarpet": [
           {
            "colorbar": {
             "outlinewidth": 0,
             "ticks": ""
            },
            "type": "contourcarpet"
           }
          ],
          "heatmap": [
           {
            "colorbar": {
             "outlinewidth": 0,
             "ticks": ""
            },
            "colorscale": [
             [
              0,
              "#0d0887"
             ],
             [
              0.1111111111111111,
              "#46039f"
             ],
             [
              0.2222222222222222,
              "#7201a8"
             ],
             [
              0.3333333333333333,
              "#9c179e"
             ],
             [
              0.4444444444444444,
              "#bd3786"
             ],
             [
              0.5555555555555556,
              "#d8576b"
             ],
             [
              0.6666666666666666,
              "#ed7953"
             ],
             [
              0.7777777777777778,
              "#fb9f3a"
             ],
             [
              0.8888888888888888,
              "#fdca26"
             ],
             [
              1,
              "#f0f921"
             ]
            ],
            "type": "heatmap"
           }
          ],
          "heatmapgl": [
           {
            "colorbar": {
             "outlinewidth": 0,
             "ticks": ""
            },
            "colorscale": [
             [
              0,
              "#0d0887"
             ],
             [
              0.1111111111111111,
              "#46039f"
             ],
             [
              0.2222222222222222,
              "#7201a8"
             ],
             [
              0.3333333333333333,
              "#9c179e"
             ],
             [
              0.4444444444444444,
              "#bd3786"
             ],
             [
              0.5555555555555556,
              "#d8576b"
             ],
             [
              0.6666666666666666,
              "#ed7953"
             ],
             [
              0.7777777777777778,
              "#fb9f3a"
             ],
             [
              0.8888888888888888,
              "#fdca26"
             ],
             [
              1,
              "#f0f921"
             ]
            ],
            "type": "heatmapgl"
           }
          ],
          "histogram": [
           {
            "marker": {
             "pattern": {
              "fillmode": "overlay",
              "size": 10,
              "solidity": 0.2
             }
            },
            "type": "histogram"
           }
          ],
          "histogram2d": [
           {
            "colorbar": {
             "outlinewidth": 0,
             "ticks": ""
            },
            "colorscale": [
             [
              0,
              "#0d0887"
             ],
             [
              0.1111111111111111,
              "#46039f"
             ],
             [
              0.2222222222222222,
              "#7201a8"
             ],
             [
              0.3333333333333333,
              "#9c179e"
             ],
             [
              0.4444444444444444,
              "#bd3786"
             ],
             [
              0.5555555555555556,
              "#d8576b"
             ],
             [
              0.6666666666666666,
              "#ed7953"
             ],
             [
              0.7777777777777778,
              "#fb9f3a"
             ],
             [
              0.8888888888888888,
              "#fdca26"
             ],
             [
              1,
              "#f0f921"
             ]
            ],
            "type": "histogram2d"
           }
          ],
          "histogram2dcontour": [
           {
            "colorbar": {
             "outlinewidth": 0,
             "ticks": ""
            },
            "colorscale": [
             [
              0,
              "#0d0887"
             ],
             [
              0.1111111111111111,
              "#46039f"
             ],
             [
              0.2222222222222222,
              "#7201a8"
             ],
             [
              0.3333333333333333,
              "#9c179e"
             ],
             [
              0.4444444444444444,
              "#bd3786"
             ],
             [
              0.5555555555555556,
              "#d8576b"
             ],
             [
              0.6666666666666666,
              "#ed7953"
             ],
             [
              0.7777777777777778,
              "#fb9f3a"
             ],
             [
              0.8888888888888888,
              "#fdca26"
             ],
             [
              1,
              "#f0f921"
             ]
            ],
            "type": "histogram2dcontour"
           }
          ],
          "mesh3d": [
           {
            "colorbar": {
             "outlinewidth": 0,
             "ticks": ""
            },
            "type": "mesh3d"
           }
          ],
          "parcoords": [
           {
            "line": {
             "colorbar": {
              "outlinewidth": 0,
              "ticks": ""
             }
            },
            "type": "parcoords"
           }
          ],
          "pie": [
           {
            "automargin": true,
            "type": "pie"
           }
          ],
          "scatter": [
           {
            "fillpattern": {
             "fillmode": "overlay",
             "size": 10,
             "solidity": 0.2
            },
            "type": "scatter"
           }
          ],
          "scatter3d": [
           {
            "line": {
             "colorbar": {
              "outlinewidth": 0,
              "ticks": ""
             }
            },
            "marker": {
             "colorbar": {
              "outlinewidth": 0,
              "ticks": ""
             }
            },
            "type": "scatter3d"
           }
          ],
          "scattercarpet": [
           {
            "marker": {
             "colorbar": {
              "outlinewidth": 0,
              "ticks": ""
             }
            },
            "type": "scattercarpet"
           }
          ],
          "scattergeo": [
           {
            "marker": {
             "colorbar": {
              "outlinewidth": 0,
              "ticks": ""
             }
            },
            "type": "scattergeo"
           }
          ],
          "scattergl": [
           {
            "marker": {
             "colorbar": {
              "outlinewidth": 0,
              "ticks": ""
             }
            },
            "type": "scattergl"
           }
          ],
          "scattermapbox": [
           {
            "marker": {
             "colorbar": {
              "outlinewidth": 0,
              "ticks": ""
             }
            },
            "type": "scattermapbox"
           }
          ],
          "scatterpolar": [
           {
            "marker": {
             "colorbar": {
              "outlinewidth": 0,
              "ticks": ""
             }
            },
            "type": "scatterpolar"
           }
          ],
          "scatterpolargl": [
           {
            "marker": {
             "colorbar": {
              "outlinewidth": 0,
              "ticks": ""
             }
            },
            "type": "scatterpolargl"
           }
          ],
          "scatterternary": [
           {
            "marker": {
             "colorbar": {
              "outlinewidth": 0,
              "ticks": ""
             }
            },
            "type": "scatterternary"
           }
          ],
          "surface": [
           {
            "colorbar": {
             "outlinewidth": 0,
             "ticks": ""
            },
            "colorscale": [
             [
              0,
              "#0d0887"
             ],
             [
              0.1111111111111111,
              "#46039f"
             ],
             [
              0.2222222222222222,
              "#7201a8"
             ],
             [
              0.3333333333333333,
              "#9c179e"
             ],
             [
              0.4444444444444444,
              "#bd3786"
             ],
             [
              0.5555555555555556,
              "#d8576b"
             ],
             [
              0.6666666666666666,
              "#ed7953"
             ],
             [
              0.7777777777777778,
              "#fb9f3a"
             ],
             [
              0.8888888888888888,
              "#fdca26"
             ],
             [
              1,
              "#f0f921"
             ]
            ],
            "type": "surface"
           }
          ],
          "table": [
           {
            "cells": {
             "fill": {
              "color": "#EBF0F8"
             },
             "line": {
              "color": "white"
             }
            },
            "header": {
             "fill": {
              "color": "#C8D4E3"
             },
             "line": {
              "color": "white"
             }
            },
            "type": "table"
           }
          ]
         },
         "layout": {
          "annotationdefaults": {
           "arrowcolor": "#2a3f5f",
           "arrowhead": 0,
           "arrowwidth": 1
          },
          "autotypenumbers": "strict",
          "coloraxis": {
           "colorbar": {
            "outlinewidth": 0,
            "ticks": ""
           }
          },
          "colorscale": {
           "diverging": [
            [
             0,
             "#8e0152"
            ],
            [
             0.1,
             "#c51b7d"
            ],
            [
             0.2,
             "#de77ae"
            ],
            [
             0.3,
             "#f1b6da"
            ],
            [
             0.4,
             "#fde0ef"
            ],
            [
             0.5,
             "#f7f7f7"
            ],
            [
             0.6,
             "#e6f5d0"
            ],
            [
             0.7,
             "#b8e186"
            ],
            [
             0.8,
             "#7fbc41"
            ],
            [
             0.9,
             "#4d9221"
            ],
            [
             1,
             "#276419"
            ]
           ],
           "sequential": [
            [
             0,
             "#0d0887"
            ],
            [
             0.1111111111111111,
             "#46039f"
            ],
            [
             0.2222222222222222,
             "#7201a8"
            ],
            [
             0.3333333333333333,
             "#9c179e"
            ],
            [
             0.4444444444444444,
             "#bd3786"
            ],
            [
             0.5555555555555556,
             "#d8576b"
            ],
            [
             0.6666666666666666,
             "#ed7953"
            ],
            [
             0.7777777777777778,
             "#fb9f3a"
            ],
            [
             0.8888888888888888,
             "#fdca26"
            ],
            [
             1,
             "#f0f921"
            ]
           ],
           "sequentialminus": [
            [
             0,
             "#0d0887"
            ],
            [
             0.1111111111111111,
             "#46039f"
            ],
            [
             0.2222222222222222,
             "#7201a8"
            ],
            [
             0.3333333333333333,
             "#9c179e"
            ],
            [
             0.4444444444444444,
             "#bd3786"
            ],
            [
             0.5555555555555556,
             "#d8576b"
            ],
            [
             0.6666666666666666,
             "#ed7953"
            ],
            [
             0.7777777777777778,
             "#fb9f3a"
            ],
            [
             0.8888888888888888,
             "#fdca26"
            ],
            [
             1,
             "#f0f921"
            ]
           ]
          },
          "colorway": [
           "#636efa",
           "#EF553B",
           "#00cc96",
           "#ab63fa",
           "#FFA15A",
           "#19d3f3",
           "#FF6692",
           "#B6E880",
           "#FF97FF",
           "#FECB52"
          ],
          "font": {
           "color": "#2a3f5f"
          },
          "geo": {
           "bgcolor": "white",
           "lakecolor": "white",
           "landcolor": "#E5ECF6",
           "showlakes": true,
           "showland": true,
           "subunitcolor": "white"
          },
          "hoverlabel": {
           "align": "left"
          },
          "hovermode": "closest",
          "mapbox": {
           "style": "light"
          },
          "paper_bgcolor": "white",
          "plot_bgcolor": "#E5ECF6",
          "polar": {
           "angularaxis": {
            "gridcolor": "white",
            "linecolor": "white",
            "ticks": ""
           },
           "bgcolor": "#E5ECF6",
           "radialaxis": {
            "gridcolor": "white",
            "linecolor": "white",
            "ticks": ""
           }
          },
          "scene": {
           "xaxis": {
            "backgroundcolor": "#E5ECF6",
            "gridcolor": "white",
            "gridwidth": 2,
            "linecolor": "white",
            "showbackground": true,
            "ticks": "",
            "zerolinecolor": "white"
           },
           "yaxis": {
            "backgroundcolor": "#E5ECF6",
            "gridcolor": "white",
            "gridwidth": 2,
            "linecolor": "white",
            "showbackground": true,
            "ticks": "",
            "zerolinecolor": "white"
           },
           "zaxis": {
            "backgroundcolor": "#E5ECF6",
            "gridcolor": "white",
            "gridwidth": 2,
            "linecolor": "white",
            "showbackground": true,
            "ticks": "",
            "zerolinecolor": "white"
           }
          },
          "shapedefaults": {
           "line": {
            "color": "#2a3f5f"
           }
          },
          "ternary": {
           "aaxis": {
            "gridcolor": "white",
            "linecolor": "white",
            "ticks": ""
           },
           "baxis": {
            "gridcolor": "white",
            "linecolor": "white",
            "ticks": ""
           },
           "bgcolor": "#E5ECF6",
           "caxis": {
            "gridcolor": "white",
            "linecolor": "white",
            "ticks": ""
           }
          },
          "title": {
           "x": 0.05
          },
          "xaxis": {
           "automargin": true,
           "gridcolor": "white",
           "linecolor": "white",
           "ticks": "",
           "title": {
            "standoff": 15
           },
           "zerolinecolor": "white",
           "zerolinewidth": 2
          },
          "yaxis": {
           "automargin": true,
           "gridcolor": "white",
           "linecolor": "white",
           "ticks": "",
           "title": {
            "standoff": 15
           },
           "zerolinecolor": "white",
           "zerolinewidth": 2
          }
         }
        },
        "title": {
         "text": "Weight Distribution by Predicted Medal"
        },
        "xaxis": {
         "anchor": "y",
         "domain": [
          0,
          1
         ],
         "title": {
          "text": "Predicted Medal"
         }
        },
        "yaxis": {
         "anchor": "x",
         "domain": [
          0,
          1
         ],
         "title": {
          "text": "Weight"
         }
        }
       }
      }
     },
     "metadata": {},
     "output_type": "display_data"
    }
   ],
   "source": [
    "# Scatter plot of Age vs Height colored by predicted medal\n",
    "fig = px.scatter(df, x='Age', y='Height', color='pred_medal', title='Age vs Height by Predicted Medal')\n",
    "fig.update_layout(xaxis_title='Age', yaxis_title='Height')\n",
    "fig.show()\n",
    "\n",
    "# Box plot of Weight by predicted medal\n",
    "fig = px.box(df, x='pred_medal', y='Weight', title='Weight Distribution by Predicted Medal')\n",
    "fig.update_layout(xaxis_title='Predicted Medal', yaxis_title='Weight')\n",
    "fig.show()\n"
   ]
  },
  {
   "cell_type": "code",
   "execution_count": 14,
   "metadata": {},
   "outputs": [
    {
     "data": {
      "application/vnd.plotly.v1+json": {
       "config": {
        "plotlyServerURL": "https://plot.ly"
       },
       "data": [
        {
         "hovertemplate": "pred_medal=Bronze<br>Height (cm)=%{x}<br>Weight (kg)=%{y}<br>BMI=%{marker.size}<extra></extra>",
         "legendgroup": "Bronze",
         "marker": {
          "color": "#636efa",
          "size": [
           22.647376960519203,
           22.647376960519203,
           22.647376960519203,
           29.48317724592438,
           25.34435261707989,
           18.009218277830346,
           25.25951557093426,
           24.41927902078691,
           20.58966513197403,
           23.37472607742878,
           20.15100499948985,
           20.15100499948985,
           19.1358024691358,
           22.47745401715962,
           22.46003435064077,
           23.299799895836188,
           19.15119181970521,
           19.1358024691358,
           19.1358024691358,
           19.1358024691358,
           20.98765432098765,
           20.98765432098765,
           20.98765432098765,
           24.25127830533236,
           24.25127830533236,
           28.00532101099209,
           33.31945022907122,
           19.64085297418631,
           19.64085297418631,
           19.64085297418631,
           23.37472607742878,
           35.06208911614317,
           22.839506172839503,
           22.839506172839503,
           22.839506172839503,
           20.61925365062196,
           20.761245674740486,
           17.578124999999996,
           20.449137418203453,
           20.449137418203453,
           19.23356074902017,
           17.99015275849009,
           19.37919743392696,
           20.761245674740486,
           17.056176513282043,
           17.056176513282043,
           17.056176513282043,
           22.857142857142858,
           25.95155709342561,
           25.95155709342561,
           25.95155709342561,
           20.897959183673468,
           20.897959183673468,
           25.60553633217993,
           25.60553633217993,
           20.983987603305785,
           20.983987603305785,
           20.983987603305785,
           18.49112426035503,
           20.598608033457133,
           32.11195240670633,
           32.11195240670633,
           23.381868423849507,
           23.381868423849507,
           23.381868423849507,
           23.38868655818771,
           20.95660749506904,
           23.72206917661463,
           22.47120876377142,
           22.44668911335578,
           20.56932966023876,
           18.42403628117914,
           26.58875091307524,
           26.30361891548156,
           20.134779750164363,
           21.208448753462605,
           23.66691015339664,
           23.66691015339664,
           21.63331530557058,
           19.817677368212443,
           20.761245674740486,
           23.148148148148145,
           25.7626772778288,
           21.53490839861428,
           21.29629629629629,
           19.53125,
           20.04744562130375,
           23.148148148148145,
           23.148148148148145,
           24.307243558580453,
           22.229061933586404,
           24.489795918367346,
           27.757487216946675,
           27.757487216946675,
           27.757487216946675,
           22.857142857142858,
           25.82644628099173,
           25.82644628099173,
           28.08988764044944,
           26.583175803402646,
           25.77039930555556,
           23.05456246449932,
           20.45114617990904,
           20.45114617990904,
           20.381569714992143,
           20.23355301190889,
           28.72737719046251,
           22.839506172839503,
           23.875114784205696,
           18.144868631151112,
           18.144868631151112,
           20.66115702479339,
           20.66115702479339,
           20.66115702479339,
           20.41522491349481,
           20.07960127648894,
           20.41522491349481,
           24.913494809688583,
           21.8724228190326,
           21.258503401360542,
           21.258503401360542,
           23.661438615467823,
           20.7967298935064,
           20.7967298935064,
           20.7967298935064,
           22.23098712754133,
           19.48696145124717,
           19.48696145124717,
           22.20633068613798,
           21.05263157894737,
           21.604938271604937,
           21.47708663319821,
           22.839506172839503,
           24.049343594386603,
           20.07960127648894,
           20.07960127648894,
           20.07960127648894,
           23.529411764705884,
           22.096807907073963,
           22.096807907073963,
           20.66115702479339,
           24.337479718766904,
           23.722810651876102,
           23.087868130688072,
           23.087868130688072,
           29.411764705882355,
           29.411764705882355,
           22.582709172343712,
           23.243408017070564,
           16.836734693877553,
           16.89189189189189,
           24.898143956541425,
           23.030045351473927,
           23.76543209876543,
           21.29529475392104,
           20.28123309897241,
           30.234315948601665,
           24.724520008546747,
           32.21562994979731,
           32.21562994979731,
           25.25951557093426,
           25,
           26.29656683710737,
           19.72386587771203,
           24.61810377477591,
           24.61810377477591,
           24.61810377477591,
           20.3125,
           22.05805118868388,
           36.50621957815036,
           38.64267600531336,
           23.38868655818771,
           20.199469763918696,
           18.51851851851852,
           19.48696145124717,
           18.339100346020764,
           16.372080590731397,
           16.372080590731397,
           25.76721894405937,
           24.4788579968564,
           24.332277048438208,
           22.95684113865932,
           22.55094096485812,
           20.0177299894192,
           21.06162815542871,
           25.241789775746625,
           20.498614958448755,
           25.68007405416704,
           21.306818181818183,
           22.22222222222222,
           19.045073340238563,
           22.34029706557179,
           21.45328719723184,
           23.456790123456788,
           27.77442337881898,
           24.977043158861346,
           24.187046492878256,
           26.863298703434666,
           26.863298703434666,
           23.37472607742878,
           23.37472607742878,
           24.41927902078691,
           21.85727788279773,
           20.811654526534856,
           20.811654526534856,
           20.811654526534856,
           20.43816558499767,
           23.529411764705884,
           21.773842357381334,
           20.598608033457133,
           22.15102250702108,
           22.15102250702108,
           26.89232313815483,
           24.96494647925858,
           23.722810651876102,
           23.722810651876102,
           24.78425751739377,
           24.9680097375238,
           24.9680097375238,
           27.46481071127618,
           26.365603028664147,
           26.365603028664147,
           26.365603028664147,
           24.69135802469136,
           32.95068027210885,
           23.334120982986768,
           19.1107527844964,
           26.040952824758094,
           24.69135802469136,
           24.22022684310019,
           23.91327452439154,
           20.58966513197403,
           20.088275237664103,
           23.456790123456788,
           20.088275237664103,
           21.389756041160823,
           20.28453167402209,
           20.28453167402209,
           20.28453167402209,
           20.45288531775018,
           22.99262444384723,
           19.94321254732288,
           23.70584142853462,
           23.70584142853462,
           23.70584142853462,
           19.10009182736456,
           19.10009182736456,
           20.381569714992143,
           20.147971991015982,
           19.362472659471475,
           19.86851716581446,
           19.86851716581446,
           19.86851716581446,
           20.381569714992143,
           20.381569714992143,
           20.381569714992143,
           21.71806608974573,
           24.72518293294129,
           23.661438615467823,
           23.76543209876543,
           19.257028815517668,
           19.257028815517668,
           19.257028815517668,
           20.983987603305785,
           21.29529475392104,
           21.29529475392104,
           21.29529475392104,
           21.218317194552675,
           20,
           17.81185847119913,
           20.61377515524749,
           16.654492330168004,
           18.826793499801823,
           16.372080590731397,
           25.24933720489837,
           25.24933720489837,
           20.983987603305785,
           24.332277048438208,
           24.332277048438208,
           20.902385858042937,
           20.747550193111813,
           22.145328719723185,
           20.41522491349481,
           20.41522491349481,
           20.41522491349481,
           24.50740123517302,
           22.014013799028163,
           24.37673130193906,
           27.143037495265748,
           22.15102250702108,
           22.15102250702108,
           22.15102250702108,
           24.21875,
           24.21875,
           24.21875,
           32.407407407407405,
           27.755102040816325,
           33.564013840830455,
           23.507805325987142,
           31.77393185505679,
           31.77393185505679,
           31.77393185505679,
           28.282828282828287,
           41.22755031049499,
           39.24646781789639,
           26.25958474843318,
           26.25958474843318,
           24.14151925078044,
           24.609375,
           44.50195682363338,
           23.030045351473927,
           23.046875,
           28.96473468900236,
           30.24691358024691,
           27.4506048708864,
           26.82742078020452,
           26.82742078020452,
           21.513858510523864,
           24.72518293294129,
           25.60553633217993,
           38.58024691358025,
           37.17578426606422,
           35.26475694444444,
           37.17578426606422,
           21.97133585722012,
           25.60553633217993,
           27.68166089965398,
           22.837370242214536,
           21.05170825840972,
           25.55932915514163,
           23.323418063818284,
           22.65625,
           23.828125,
           22.58955143605005
          ],
          "sizemode": "area",
          "sizeref": 0.11125489205908344,
          "symbol": "circle"
         },
         "mode": "markers",
         "name": "Bronze",
         "orientation": "v",
         "showlegend": true,
         "type": "scatter",
         "x": [
          172,
          172,
          172,
          186,
          165,
          181,
          170,
          181,
          187,
          185,
          198,
          198,
          180,
          191,
          174,
          191,
          171,
          180,
          180,
          180,
          180,
          180,
          180,
          185,
          185,
          207,
          196,
          198,
          198,
          198,
          185,
          185,
          180,
          180,
          180,
          172,
          170,
          160,
          164,
          164,
          166,
          178,
          173,
          170,
          166,
          166,
          166,
          175,
          170,
          170,
          170,
          175,
          175,
          170,
          170,
          176,
          176,
          176,
          156,
          179,
          172,
          172,
          194,
          194,
          194,
          173,
          156,
          198,
          179,
          198,
          165,
          168,
          185,
          186,
          156,
          152,
          185,
          185,
          172,
          174,
          170,
          180,
          198,
          179,
          180,
          160,
          173,
          180,
          180,
          187,
          171,
          175,
          185,
          185,
          185,
          175,
          176,
          176,
          178,
          184,
          192,
          173,
          181,
          181,
          173,
          186,
          177,
          180,
          165,
          166,
          166,
          176,
          176,
          176,
          170,
          167,
          170,
          170,
          167,
          168,
          168,
          172,
          167,
          167,
          167,
          167,
          168,
          168,
          163,
          190,
          180,
          193,
          180,
          188,
          167,
          167,
          167,
          170,
          183,
          183,
          176,
          172,
          173,
          193,
          193,
          170,
          170,
          163,
          162,
          140,
          148,
          188,
          168,
          180,
          172,
          172,
          189,
          181,
          193,
          193,
          170,
          180,
          185,
          156,
          178,
          178,
          178,
          160,
          169,
          172,
          182,
          173,
          178,
          180,
          168,
          170,
          173,
          173,
          197,
          197,
          188,
          198,
          193,
          187,
          181,
          194,
          190,
          183,
          176,
          180,
          173,
          182,
          170,
          180,
          182,
          165,
          183,
          191,
          191,
          185,
          185,
          181,
          184,
          186,
          186,
          186,
          167,
          170,
          166,
          179,
          159,
          159,
          167,
          171,
          173,
          173,
          183,
          179,
          179,
          179,
          172,
          172,
          172,
          180,
          168,
          184,
          183,
          191,
          180,
          184,
          194,
          187,
          188,
          180,
          188,
          186,
          191,
          191,
          191,
          185,
          183,
          172,
          197,
          197,
          197,
          165,
          165,
          173,
          174,
          167,
          185,
          185,
          185,
          173,
          173,
          173,
          173,
          173,
          172,
          180,
          169,
          169,
          169,
          176,
          172,
          172,
          172,
          161,
          150,
          182,
          197,
          185,
          174,
          173,
          178,
          178,
          176,
          188,
          188,
          183,
          177,
          170,
          170,
          170,
          170,
          202,
          193,
          190,
          178,
          159,
          159,
          159,
          160,
          160,
          160,
          180,
          175,
          170,
          165,
          172,
          172,
          172,
          165,
          197,
          182,
          169,
          169,
          155,
          160,
          178,
          168,
          160,
          183,
          180,
          177,
          178,
          178,
          167,
          173,
          170,
          180,
          187,
          192,
          187,
          172,
          170,
          170,
          170,
          151,
          169,
          172,
          160,
          160,
          167
         ],
         "xaxis": "x",
         "y": [
          67,
          67,
          67,
          102,
          69,
          59,
          73,
          80,
          72,
          80,
          79,
          79,
          62,
          82,
          68,
          85,
          56,
          62,
          62,
          62,
          68,
          68,
          68,
          83,
          83,
          120,
          128,
          77,
          77,
          77,
          80,
          120,
          74,
          74,
          74,
          61,
          60,
          45,
          55,
          55,
          53,
          57,
          58,
          60,
          47,
          47,
          47,
          70,
          75,
          75,
          75,
          64,
          64,
          74,
          74,
          65,
          65,
          65,
          45,
          66,
          95,
          95,
          88,
          88,
          88,
          70,
          51,
          93,
          72,
          88,
          56,
          52,
          91,
          91,
          49,
          49,
          81,
          81,
          64,
          60,
          60,
          75,
          101,
          69,
          69,
          50,
          60,
          75,
          75,
          85,
          65,
          75,
          95,
          95,
          95,
          70,
          80,
          80,
          89,
          90,
          95,
          69,
          67,
          67,
          61,
          70,
          90,
          74,
          65,
          50,
          50,
          64,
          64,
          64,
          59,
          56,
          59,
          72,
          61,
          60,
          60,
          70,
          58,
          58,
          58,
          62,
          55,
          55,
          59,
          76,
          70,
          80,
          74,
          85,
          56,
          56,
          56,
          68,
          74,
          74,
          64,
          72,
          71,
          86,
          86,
          85,
          85,
          60,
          61,
          33,
          37,
          88,
          65,
          77,
          63,
          60,
          108,
          81,
          120,
          120,
          73,
          81,
          90,
          48,
          78,
          78,
          78,
          52,
          63,
          108,
          128,
          70,
          64,
          60,
          55,
          53,
          49,
          49,
          100,
          95,
          86,
          90,
          84,
          70,
          69,
          95,
          74,
          86,
          66,
          72,
          57,
          74,
          62,
          76,
          92,
          68,
          81,
          98,
          98,
          80,
          80,
          80,
          74,
          72,
          72,
          72,
          57,
          68,
          60,
          66,
          56,
          56,
          75,
          73,
          71,
          71,
          83,
          80,
          80,
          88,
          78,
          78,
          78,
          80,
          93,
          79,
          64,
          95,
          80,
          82,
          90,
          72,
          71,
          76,
          71,
          74,
          74,
          74,
          74,
          70,
          77,
          59,
          92,
          92,
          92,
          52,
          52,
          61,
          61,
          54,
          68,
          68,
          68,
          61,
          61,
          61,
          65,
          74,
          70,
          77,
          55,
          55,
          55,
          65,
          63,
          63,
          63,
          55,
          45,
          59,
          80,
          57,
          57,
          49,
          80,
          80,
          65,
          86,
          86,
          70,
          65,
          64,
          59,
          59,
          59,
          100,
          82,
          88,
          86,
          56,
          56,
          56,
          62,
          62,
          62,
          105,
          85,
          97,
          64,
          94,
          94,
          94,
          77,
          160,
          130,
          75,
          75,
          58,
          63,
          141,
          65,
          59,
          97,
          98,
          86,
          85,
          85,
          60,
          74,
          74,
          125,
          130,
          130,
          130,
          65,
          74,
          80,
          66,
          48,
          73,
          69,
          58,
          61,
          63
         ],
         "yaxis": "y"
        },
        {
         "hovertemplate": "pred_medal=Gold<br>Height (cm)=%{x}<br>Weight (kg)=%{y}<br>BMI=%{marker.size}<extra></extra>",
         "legendgroup": "Gold",
         "marker": {
          "color": "#EF553B",
          "size": [
           22.4981738495252,
           20.98765432098765,
           16.65249433106576,
           16.65249433106576,
           22.34351559258195,
           23.24598478444632,
           23.24598478444632,
           17.959183673469386,
           23.766410140335,
           22.839506172839503,
           20.77580539119001,
           23.51020408163265,
           23.51020408163265,
           18.612244897959183,
           18.612244897959183,
           22.25690831309978,
           30.693877551020407,
           30.693877551020407,
           21.877551020408163,
           21.877551020408163,
           21.877551020408163,
           40.01313864253934,
           19.53125,
           18.42403628117914,
           23.1404958677686,
           22.49134948096886,
           17.908855357415025,
           20.19509221155312,
           21.484375,
           23.030045351473927,
           20.381569714992143,
           21.773842357381334,
           21.773842357381334,
           21.773842357381334,
           26.234567901234566,
           26.234567901234566,
           17.901234567901234,
           17.901234567901234,
           20.715693808680545,
           19.53125,
           19.53125,
           19.53125,
           21.604938271604937,
           24.577867151840145,
           26.12244897959184,
           22.20408163265306,
           20.322252866889244,
           20.286507911738084,
           24.24181207545264,
           21.380992845590857,
           22.99262444384723,
           21.146319909102385,
           21.132713440405748,
           18.710949246550168,
           18.42403628117914,
           17.99816345270891,
           18.699780861943022,
           23.93948099205209,
           26.25,
           22.79032897344431,
           20.429418362441915,
           20.429418362441915,
           21.513858510523864,
           23.148148148148145,
           24.967113211092915,
           24.967113211092915,
           27.755102040816325,
           21.60558100791337,
           25.195263290501387,
           23.98929319966668,
           26.42356982428326,
           25.766837531865903,
           25.766837531865903,
           25.766837531865903,
           22.34351559258195,
           25.099501595611173,
           22.09317005428608,
           23.1404958677686,
           24.508945765204302,
           24.508945765204302,
           24.508945765204302,
           22.985397512168745,
           22.985397512168745,
           22.985397512168745,
           27.160493827160494,
           27.160493827160494,
           27.160493827160494,
           26.59498412879979,
           20.515086478979924,
           25.46401086464464,
           25.46401086464464,
           25.46401086464464,
           22.857142857142858,
           22.857142857142858,
           22.857142857142858,
           20.603780345785182,
           22.229061933586404,
           22.229061933586404,
           22.587833094227893,
           27.173119065010955,
           22.74338374291116,
           25.61728395061728,
           25.61728395061728,
           25.61728395061728,
           23.233456176894723,
           23.233456176894723,
           22.571047501795427,
           23.889462809917354,
           22.634676324128566,
           22.72043837081092,
           25.142857142857142,
           25.142857142857142,
           25.142857142857142,
           21.33333333333333,
           21.453573713726524,
           25.05930702662969,
           22.052190183434128,
           23.030045351473927,
           22.1606648199446,
           24.577867151840145,
           24.577867151840145,
           24.577867151840145,
           24.72518293294129,
           24.72518293294129,
           24.72518293294129,
           19.390581717451525,
           22.448015122873343,
           26.25958474843318,
           23.875114784205696,
           17.92821542543655,
           21.306818181818183,
           21.306818181818183,
           23.62948960302457,
           23.030045351473927,
           24.332277048438208,
           24.31412396574249,
           20.41522491349481,
           19.29739923687557,
           21.208448753462605,
           25.48476454293629,
           23.301094832264035,
           22.79032897344431,
           21.06162815542871,
           21.513858510523864,
           28.90507573129841,
           23.1084345786212,
           23.1084345786212,
           34.264411611523805,
           22.783308885490467,
           26.88095170007721,
           21.78649237472767,
           21.78649237472767,
           20.3125,
           24.538964901844142,
           23.046875,
           23.046875,
           21.158854166666668,
           20.830817534114235,
           19.607156612163443,
           25.7617728531856,
           24.44468062493357,
           24.46897126197418,
           26.958141358690323,
           26.958141358690323,
           22.03840115928028,
           22.34351559258195,
           25.737081414967538,
           25.48476454293629,
           25.48476454293629,
           25.48476454293629,
           23.671253629592226,
           21.798202394816204,
           21.798202394816204,
           22.34029706557179,
           21.6712580348944,
           22.837370242214536,
           21.20099137030069,
           27.76342975206612,
           26.573129251700685,
           25.5649539199596,
           20.13476871862332,
           23.030045351473927,
           23.030045351473927,
           21.26654064272212,
           23.355636914531,
           21.29529475392104,
           20.41522491349481,
           24.489795918367346,
           24.158817968558527,
           23.04002019946976,
           20.66115702479339,
           33.564013840830455,
           28.393726338561383,
           28.393726338561383,
           23.79552644102909,
           21.952479338842977,
           22.031725684986377,
           20.449137418203453,
           28.997893837184456,
           28.997893837184456,
           22.4981738495252,
           24.075473810923548,
           24.075473810923548,
           24.8109640831758,
           21.85727788279773,
           22.25,
           22.305470559638533,
           22.305470559638533,
           23.503556057507403,
           23.503556057507403,
           23.735308416025617,
           24.930747922437675,
           22.634676324128566,
           22.79035792549306,
           22.20598977355733,
           23.087868130688072,
           23.087868130688072,
           23.087868130688072,
           20.41522491349481,
           19.66230766829999,
           20.515086478979924,
           20.598608033457133,
           18.51851851851852,
           22.052190183434128,
           18.612244897959183,
           23.04002019946976,
           21.38394199605733,
           21.38394199605733,
           21.38394199605733,
           20.65754000210077,
           19.4707778735357,
           19.4707778735357,
           20.761245674740486,
           20.761245674740486,
           19.83471074380165,
           18.72417355371901,
           21.00399075824407,
           18.401342975206614,
           17.577068685776098,
           21.306818181818183,
           23.456790123456788,
           23.355636914531,
           22.55094096485812,
           20.41522491349481,
           20.28123309897241,
           23.56489772834386,
           22.79035792549306,
           27.87639710716634,
           25.013520822065985,
           32.05030371478282,
           28.73174689021093,
           23.05456246449932,
           43.20987654320987,
           21.75019667731038,
           21.75019667731038,
           27.915518824609737,
           28.720083246618103,
           24.14151925078044,
           23.53036634346221,
           23.53036634346221,
           24.91990032039872,
           34.602076124567475,
           23.711844630960897,
           23.875114784205696,
           31.48148148148148,
           31.48148148148148,
           27.14681440443213,
           27.14681440443213,
           26.840610467838083,
           22.587833094227893,
           25.53544639152223,
           25.53544639152223,
           25.53544639152223,
           24.31412396574249,
           20.820939916716245,
           24.77209671026556,
           21.564544913741823,
           24.46460160337235
          ],
          "sizemode": "area",
          "sizeref": 0.11125489205908344,
          "symbol": "circle"
         },
         "mode": "markers",
         "name": "Gold",
         "orientation": "v",
         "showlegend": true,
         "type": "scatter",
         "x": [
          185,
          180,
          168,
          168,
          177,
          182,
          182,
          175,
          188,
          180,
          195,
          175,
          175,
          175,
          175,
          186,
          175,
          175,
          175,
          175,
          175,
          183,
          160,
          168,
          165,
          170,
          162,
          162,
          160,
          168,
          173,
          166,
          166,
          166,
          180,
          180,
          180,
          180,
          173,
          192,
          192,
          192,
          180,
          177,
          175,
          175,
          166,
          179,
          199,
          191,
          183,
          178,
          182,
          173,
          168,
          165,
          185,
          177,
          200,
          174,
          158,
          158,
          167,
          180,
          193,
          193,
          175,
          196,
          189,
          199,
          174,
          191,
          191,
          191,
          177,
          167,
          178,
          165,
          169,
          169,
          169,
          172,
          172,
          172,
          180,
          180,
          180,
          187,
          178,
          188,
          188,
          188,
          175,
          175,
          175,
          183,
          171,
          171,
          181,
          185,
          184,
          180,
          180,
          180,
          158,
          158,
          171,
          176,
          188,
          173,
          175,
          175,
          175,
          150,
          163,
          173,
          173,
          168,
          190,
          177,
          177,
          177,
          173,
          173,
          173,
          190,
          184,
          169,
          165,
          167,
          176,
          176,
          184,
          168,
          188,
          166,
          170,
          151,
          152,
          190,
          177,
          174,
          181,
          167,
          186,
          169,
          169,
          191,
          179,
          187,
          153,
          153,
          160,
          164,
          160,
          160,
          192,
          182,
          169,
          190,
          194,
          196,
          202,
          202,
          182,
          177,
          187,
          190,
          190,
          190,
          178,
          183,
          183,
          182,
          165,
          170,
          183,
          176,
          168,
          178,
          193,
          168,
          168,
          184,
          178,
          172,
          170,
          175,
          169,
          178,
          176,
          170,
          172,
          172,
          189,
          176,
          158,
          164,
          181,
          181,
          185,
          189,
          189,
          184,
          184,
          200,
          187,
          187,
          181,
          181,
          187,
          190,
          188,
          185,
          185,
          193,
          193,
          193,
          170,
          179,
          178,
          179,
          180,
          173,
          175,
          178,
          173,
          173,
          173,
          169,
          177,
          177,
          170,
          170,
          165,
          176,
          207,
          176,
          172,
          176,
          180,
          178,
          193,
          170,
          172,
          206,
          185,
          195,
          172,
          181,
          172,
          173,
          180,
          147,
          147,
          165,
          155,
          155,
          157,
          157,
          159,
          170,
          163,
          165,
          180,
          180,
          190,
          190,
          179,
          181,
          177,
          177,
          177,
          166,
          164,
          174,
          164,
          163
         ],
         "xaxis": "x2",
         "y": [
          77,
          68,
          47,
          47,
          70,
          77,
          77,
          55,
          84,
          74,
          79,
          72,
          72,
          57,
          57,
          77,
          94,
          94,
          67,
          67,
          67,
          134,
          50,
          52,
          63,
          65,
          47,
          53,
          55,
          65,
          61,
          60,
          60,
          60,
          85,
          85,
          58,
          58,
          62,
          72,
          72,
          72,
          70,
          77,
          80,
          68,
          56,
          65,
          96,
          78,
          77,
          67,
          70,
          56,
          52,
          49,
          64,
          75,
          105,
          69,
          51,
          51,
          60,
          75,
          93,
          93,
          85,
          83,
          90,
          95,
          80,
          94,
          94,
          94,
          70,
          70,
          70,
          63,
          70,
          70,
          70,
          68,
          68,
          68,
          88,
          88,
          88,
          93,
          65,
          90,
          90,
          90,
          70,
          70,
          70,
          69,
          65,
          65,
          74,
          93,
          77,
          83,
          83,
          83,
          58,
          58,
          66,
          74,
          80,
          68,
          77,
          77,
          77,
          48,
          57,
          75,
          66,
          65,
          80,
          77,
          77,
          77,
          74,
          74,
          74,
          70,
          76,
          75,
          65,
          50,
          66,
          66,
          80,
          65,
          86,
          67,
          59,
          44,
          49,
          92,
          73,
          69,
          69,
          60,
          100,
          66,
          66,
          125,
          73,
          94,
          51,
          51,
          52,
          66,
          59,
          59,
          78,
          69,
          56,
          93,
          92,
          94,
          110,
          110,
          73,
          70,
          90,
          92,
          92,
          92,
          75,
          73,
          73,
          74,
          59,
          66,
          71,
          86,
          75,
          81,
          75,
          65,
          65,
          72,
          74,
          63,
          59,
          75,
          69,
          73,
          64,
          97,
          84,
          84,
          85,
          68,
          55,
          55,
          95,
          95,
          77,
          86,
          86,
          84,
          74,
          89,
          78,
          78,
          77,
          77,
          83,
          90,
          80,
          78,
          76,
          86,
          86,
          86,
          59,
          63,
          65,
          66,
          60,
          66,
          57,
          73,
          64,
          64,
          64,
          59,
          61,
          61,
          60,
          60,
          54,
          58,
          90,
          57,
          52,
          66,
          76,
          74,
          84,
          59,
          60,
          100,
          78,
          106,
          74,
          105,
          85,
          69,
          140,
          47,
          47,
          76,
          69,
          58,
          58,
          58,
          63,
          100,
          63,
          65,
          102,
          102,
          98,
          98,
          86,
          74,
          80,
          80,
          80,
          67,
          56,
          75,
          58,
          65
         ],
         "yaxis": "y2"
        },
        {
         "hovertemplate": "pred_medal=Silver<br>Height (cm)=%{x}<br>Weight (kg)=%{y}<br>BMI=%{marker.size}<extra></extra>",
         "legendgroup": "Silver",
         "marker": {
          "color": "#00cc96",
          "size": [
           26.42356982428326,
           20.0288415318058,
           20.983987603305785,
           20.983987603305785,
           20.983987603305785,
           22.99262444384723,
           21.32943754565376,
           18.390674513354465,
           20.7967298935064,
           18.390674513354465,
           26.82742078020452,
           26.82742078020452,
           23.20054323223178,
           28.00532101099209,
           28.00532101099209,
           34.31610855329005,
           34.31610855329005,
           24.95659722222222,
           25.68007405416704,
           25.68007405416704,
           25.68007405416704,
           22.39541341933172,
           22.39541341933172,
           30.93982822207372,
           17.444926771877153,
           19.48696145124717,
           21.6712580348944,
           19.53125,
           16.00365797896662,
           16.00365797896662,
           22.95908765854944,
           21.84700852033332,
           19.71332152761536,
           22.22222222222222,
           19.49317738791424,
           18.621386188612547,
           20.38043478260869,
           19.73630108823772,
           24.913494809688583,
           20.39542143600416,
           17.578124999999996,
           19.71332152761536,
           43.904958677685954,
           22.47120876377142,
           19.94321254732288,
           19.94321254732288,
           21.97133585722012,
           24.75187459050208,
           22.8105510932078,
           25.4200146092038,
           22.152646502835537,
           20.56932966023876,
           19.49317738791424,
           19.49317738791424,
           19.49317738791424,
           18.20664542558034,
           23.688046647230323,
           24.45356840961236,
           21.13885585942661,
           22.40817898532965,
           23.671253629592226,
           27.82859645958412,
           21.258503401360542,
           25.46938775510204,
           24.898143956541425,
           22.395789591556788,
           23.198315069747565,
           26.01456815816857,
           25.46401086464464,
           25.661152034778407,
           24.22022684310019,
           22.94408887815481,
           25.180785123966945,
           26.27728507868255,
           26.59498412879979,
           22.28259210646805,
           20.202020202020204,
           26.29656683710737,
           22.09317005428608,
           23.588329220496444,
           21.192742415229034,
           18.670934308794383,
           21.192742415229034,
           20.56880661366243,
           19.473406629072173,
           19.473406629072173,
           19.473406629072173,
           19.59784155279337,
           25.82644628099173,
           22.59814049586777,
           20.747550193111813,
           25.76721894405937,
           22.54595907041276,
           20.897959183673468,
           22.92097107438017,
           21.258503401360542,
           23.05456246449932,
           22.20408163265306,
           23.030045351473927,
           22.476586888657646,
           22.476586888657646,
           22.476586888657646,
           21.218317194552675,
           23.051754907792983,
           23.051754907792983,
           23.051754907792983,
           19.43301326017375,
           22.984008997995016,
           18.902038132807363,
           25.51020408163265,
           21.85727788279773,
           24.65590961580475,
           21.9671201814059,
           21.773842357381334,
           27.055579891262337,
           25.78125,
           24.41927902078691,
           24.45356840961236,
           28.40550435551067,
           19.81405273586343,
           24.76756591982929,
           33.564013840830455,
           19.95728440880922,
           24.801587301587304,
           24.801587301587304,
           21.62162162162162,
           16.65249433106576,
           17.301038062283737,
           24.989587671803417,
           25.5,
           21.7335354170837,
           22.408786769347305,
           24.69864962817794,
           24.48565200513601,
           19.71332152761536,
           22.20408163265306,
           27.80328537904296,
           25.351541373715524,
           25,
           24.4788579968564,
           23.38868655818771,
           23.42355740630577,
           21.9671201814059,
           19.95728440880922,
           20.983987603305785,
           25.88057063502083,
           25.88057063502083,
           26.672763298277697,
           22.892819979188346,
           22.892819979188346,
           22.892819979188346,
           27.755102040816325,
           27.755102040816325,
           27.755102040816325,
           27.43484224965706,
           27.43484224965706,
           27.041644131963228,
           19.73630108823772,
           24.94449165318933,
           23.57391518872837,
           22.907122032486463,
           23.087868130688072,
           23.57391518872837,
           21.86588921282799,
           21.86588921282799,
           24.332277048438208,
           21.86588921282799,
           21.71806608974573,
           22.857142857142858,
           23.148148148148145,
           20.897959183673468,
           20.897959183673468,
           20.897959183673468,
           21.22448979591837,
           21.22448979591837,
           19.03810742486189,
           19.03810742486189,
           21.71806608974573,
           21.146319909102385,
           18.10180705970476,
           17.527815881725342,
           20.679012345679013,
           21.09375,
           21.461936624163616,
           21.461936624163616,
           21.461936624163616,
           17.824807605251245,
           24.930747922437675,
           23.25,
           23.12406058503873,
           23.12406058503873,
           18.590124925639504,
           21.22000905387053,
           20.830817534114235,
           23.18367346938776,
           23.18367346938776,
           23.384353741496604,
           23.384353741496604,
           18.51851851851852,
           18.51851851851852,
           21.45328719723184,
           22.052190183434128,
           22.052190183434128,
           19.562955254942764,
           19.562955254942764,
           18.621386188612547,
           19.841269841269845,
           19.841269841269845,
           25.46103509815586,
           21.158854166666668,
           24.94449165318933,
           21.71806608974573,
           32.54800083609543,
           24.801587301587304,
           24.857954545454547,
           24.857954545454547,
           20.23950075898128,
           25.970115548195267,
           24.91990032039872,
           41.09726352367269,
           22.77318640955005,
           23.046875,
           26.54320987654321,
           26.583175803402646,
           22.837370242214536,
           22.837370242214536,
           33.90842013888889,
           33.90842013888889,
           22.49134948096886,
           21.453573713726524,
           21.453573713726524,
           21.453573713726524,
           20.775623268698062,
           24.489795918367346,
           27.29322416043669,
           27.29322416043669,
           22.10028959000152
          ],
          "sizemode": "area",
          "sizeref": 0.11125489205908344,
          "symbol": "circle"
         },
         "mode": "markers",
         "name": "Silver",
         "orientation": "v",
         "showlegend": true,
         "type": "scatter",
         "x": [
          174,
          158,
          176,
          176,
          176,
          183,
          185,
          188,
          167,
          188,
          178,
          178,
          188,
          207,
          207,
          187,
          187,
          192,
          183,
          183,
          183,
          183,
          183,
          201,
          157,
          168,
          165,
          160,
          162,
          162,
          163,
          179,
          173,
          180,
          171,
          178,
          184,
          191,
          170,
          155,
          160,
          173,
          176,
          179,
          172,
          172,
          172,
          203,
          203,
          185,
          184,
          165,
          171,
          171,
          171,
          169,
          196,
          182,
          174,
          169,
          178,
          197,
          168,
          175,
          188,
          189,
          181,
          186,
          188,
          182,
          184,
          182,
          176,
          183,
          187,
          181,
          165,
          185,
          178,
          166,
          164,
          162,
          164,
          159,
          157,
          157,
          157,
          193,
          176,
          176,
          177,
          197,
          186,
          175,
          176,
          168,
          173,
          175,
          168,
          155,
          155,
          155,
          161,
          164,
          164,
          164,
          162,
          143,
          156,
          196,
          184,
          179,
          168,
          166,
          197,
          160,
          181,
          182,
          178,
          162,
          162,
          170,
          169,
          168,
          168,
          185,
          168,
          170,
          196,
          200,
          187,
          178,
          193,
          183,
          173,
          175,
          198,
          172,
          180,
          197,
          173,
          164,
          168,
          169,
          176,
          178,
          178,
          162,
          155,
          155,
          155,
          175,
          175,
          175,
          162,
          162,
          172,
          191,
          191,
          191,
          196,
          193,
          191,
          196,
          196,
          188,
          196,
          173,
          175,
          180,
          175,
          175,
          175,
          175,
          175,
          179,
          179,
          173,
          178,
          179,
          162,
          180,
          160,
          178,
          178,
          178,
          188,
          190,
          200,
          186,
          186,
          164,
          188,
          182,
          175,
          175,
          168,
          168,
          180,
          180,
          170,
          173,
          173,
          155,
          155,
          178,
          168,
          168,
          205,
          192,
          191,
          173,
          183,
          168,
          176,
          176,
          154,
          163,
          159,
          173,
          165,
          160,
          180,
          184,
          170,
          170,
          192,
          192,
          170,
          163,
          163,
          163,
          152,
          175,
          159,
          159,
          162
         ],
         "xaxis": "x3",
         "y": [
          80,
          50,
          65,
          65,
          65,
          77,
          73,
          65,
          58,
          65,
          85,
          85,
          82,
          120,
          120,
          120,
          120,
          92,
          86,
          86,
          86,
          75,
          75,
          125,
          43,
          55,
          59,
          50,
          42,
          42,
          61,
          70,
          59,
          72,
          57,
          59,
          69,
          72,
          72,
          49,
          45,
          59,
          136,
          72,
          59,
          59,
          65,
          102,
          94,
          87,
          75,
          56,
          57,
          57,
          57,
          52,
          91,
          81,
          64,
          64,
          75,
          108,
          60,
          78,
          88,
          80,
          76,
          90,
          90,
          85,
          82,
          76,
          78,
          88,
          93,
          73,
          55,
          90,
          70,
          65,
          57,
          49,
          57,
          52,
          48,
          48,
          48,
          73,
          80,
          70,
          65,
          100,
          78,
          64,
          71,
          60,
          69,
          68,
          65,
          54,
          54,
          54,
          55,
          62,
          62,
          62,
          51,
          47,
          46,
          98,
          74,
          79,
          62,
          60,
          105,
          66,
          80,
          81,
          90,
          52,
          65,
          97,
          57,
          70,
          70,
          74,
          47,
          50,
          96,
          102,
          76,
          71,
          92,
          82,
          59,
          68,
          109,
          75,
          81,
          95,
          70,
          63,
          62,
          57,
          65,
          82,
          82,
          70,
          55,
          55,
          55,
          85,
          85,
          85,
          72,
          72,
          80,
          72,
          91,
          86,
          88,
          86,
          86,
          84,
          84,
          86,
          84,
          65,
          70,
          75,
          64,
          64,
          64,
          65,
          65,
          61,
          61,
          65,
          67,
          58,
          46,
          67,
          54,
          68,
          68,
          68,
          63,
          90,
          93,
          80,
          80,
          50,
          75,
          69,
          71,
          71,
          66,
          66,
          60,
          60,
          62,
          66,
          66,
          47,
          47,
          59,
          56,
          56,
          107,
          78,
          91,
          65,
          109,
          70,
          77,
          77,
          48,
          69,
          63,
          123,
          62,
          59,
          86,
          90,
          66,
          66,
          125,
          125,
          65,
          57,
          57,
          57,
          48,
          75,
          69,
          69,
          58
         ],
         "yaxis": "y3"
        }
       ],
       "layout": {
        "annotations": [
         {
          "font": {},
          "showarrow": false,
          "text": "pred_medal=Bronze",
          "x": 0.15999999999999998,
          "xanchor": "center",
          "xref": "paper",
          "y": 1,
          "yanchor": "bottom",
          "yref": "paper"
         },
         {
          "font": {},
          "showarrow": false,
          "text": "pred_medal=Gold",
          "x": 0.49999999999999994,
          "xanchor": "center",
          "xref": "paper",
          "y": 1,
          "yanchor": "bottom",
          "yref": "paper"
         },
         {
          "font": {},
          "showarrow": false,
          "text": "pred_medal=Silver",
          "x": 0.8399999999999999,
          "xanchor": "center",
          "xref": "paper",
          "y": 1,
          "yanchor": "bottom",
          "yref": "paper"
         }
        ],
        "legend": {
         "itemsizing": "constant",
         "title": {
          "text": "pred_medal"
         },
         "tracegroupgap": 0
        },
        "template": {
         "data": {
          "bar": [
           {
            "error_x": {
             "color": "#2a3f5f"
            },
            "error_y": {
             "color": "#2a3f5f"
            },
            "marker": {
             "line": {
              "color": "#E5ECF6",
              "width": 0.5
             },
             "pattern": {
              "fillmode": "overlay",
              "size": 10,
              "solidity": 0.2
             }
            },
            "type": "bar"
           }
          ],
          "barpolar": [
           {
            "marker": {
             "line": {
              "color": "#E5ECF6",
              "width": 0.5
             },
             "pattern": {
              "fillmode": "overlay",
              "size": 10,
              "solidity": 0.2
             }
            },
            "type": "barpolar"
           }
          ],
          "carpet": [
           {
            "aaxis": {
             "endlinecolor": "#2a3f5f",
             "gridcolor": "white",
             "linecolor": "white",
             "minorgridcolor": "white",
             "startlinecolor": "#2a3f5f"
            },
            "baxis": {
             "endlinecolor": "#2a3f5f",
             "gridcolor": "white",
             "linecolor": "white",
             "minorgridcolor": "white",
             "startlinecolor": "#2a3f5f"
            },
            "type": "carpet"
           }
          ],
          "choropleth": [
           {
            "colorbar": {
             "outlinewidth": 0,
             "ticks": ""
            },
            "type": "choropleth"
           }
          ],
          "contour": [
           {
            "colorbar": {
             "outlinewidth": 0,
             "ticks": ""
            },
            "colorscale": [
             [
              0,
              "#0d0887"
             ],
             [
              0.1111111111111111,
              "#46039f"
             ],
             [
              0.2222222222222222,
              "#7201a8"
             ],
             [
              0.3333333333333333,
              "#9c179e"
             ],
             [
              0.4444444444444444,
              "#bd3786"
             ],
             [
              0.5555555555555556,
              "#d8576b"
             ],
             [
              0.6666666666666666,
              "#ed7953"
             ],
             [
              0.7777777777777778,
              "#fb9f3a"
             ],
             [
              0.8888888888888888,
              "#fdca26"
             ],
             [
              1,
              "#f0f921"
             ]
            ],
            "type": "contour"
           }
          ],
          "contourcarpet": [
           {
            "colorbar": {
             "outlinewidth": 0,
             "ticks": ""
            },
            "type": "contourcarpet"
           }
          ],
          "heatmap": [
           {
            "colorbar": {
             "outlinewidth": 0,
             "ticks": ""
            },
            "colorscale": [
             [
              0,
              "#0d0887"
             ],
             [
              0.1111111111111111,
              "#46039f"
             ],
             [
              0.2222222222222222,
              "#7201a8"
             ],
             [
              0.3333333333333333,
              "#9c179e"
             ],
             [
              0.4444444444444444,
              "#bd3786"
             ],
             [
              0.5555555555555556,
              "#d8576b"
             ],
             [
              0.6666666666666666,
              "#ed7953"
             ],
             [
              0.7777777777777778,
              "#fb9f3a"
             ],
             [
              0.8888888888888888,
              "#fdca26"
             ],
             [
              1,
              "#f0f921"
             ]
            ],
            "type": "heatmap"
           }
          ],
          "heatmapgl": [
           {
            "colorbar": {
             "outlinewidth": 0,
             "ticks": ""
            },
            "colorscale": [
             [
              0,
              "#0d0887"
             ],
             [
              0.1111111111111111,
              "#46039f"
             ],
             [
              0.2222222222222222,
              "#7201a8"
             ],
             [
              0.3333333333333333,
              "#9c179e"
             ],
             [
              0.4444444444444444,
              "#bd3786"
             ],
             [
              0.5555555555555556,
              "#d8576b"
             ],
             [
              0.6666666666666666,
              "#ed7953"
             ],
             [
              0.7777777777777778,
              "#fb9f3a"
             ],
             [
              0.8888888888888888,
              "#fdca26"
             ],
             [
              1,
              "#f0f921"
             ]
            ],
            "type": "heatmapgl"
           }
          ],
          "histogram": [
           {
            "marker": {
             "pattern": {
              "fillmode": "overlay",
              "size": 10,
              "solidity": 0.2
             }
            },
            "type": "histogram"
           }
          ],
          "histogram2d": [
           {
            "colorbar": {
             "outlinewidth": 0,
             "ticks": ""
            },
            "colorscale": [
             [
              0,
              "#0d0887"
             ],
             [
              0.1111111111111111,
              "#46039f"
             ],
             [
              0.2222222222222222,
              "#7201a8"
             ],
             [
              0.3333333333333333,
              "#9c179e"
             ],
             [
              0.4444444444444444,
              "#bd3786"
             ],
             [
              0.5555555555555556,
              "#d8576b"
             ],
             [
              0.6666666666666666,
              "#ed7953"
             ],
             [
              0.7777777777777778,
              "#fb9f3a"
             ],
             [
              0.8888888888888888,
              "#fdca26"
             ],
             [
              1,
              "#f0f921"
             ]
            ],
            "type": "histogram2d"
           }
          ],
          "histogram2dcontour": [
           {
            "colorbar": {
             "outlinewidth": 0,
             "ticks": ""
            },
            "colorscale": [
             [
              0,
              "#0d0887"
             ],
             [
              0.1111111111111111,
              "#46039f"
             ],
             [
              0.2222222222222222,
              "#7201a8"
             ],
             [
              0.3333333333333333,
              "#9c179e"
             ],
             [
              0.4444444444444444,
              "#bd3786"
             ],
             [
              0.5555555555555556,
              "#d8576b"
             ],
             [
              0.6666666666666666,
              "#ed7953"
             ],
             [
              0.7777777777777778,
              "#fb9f3a"
             ],
             [
              0.8888888888888888,
              "#fdca26"
             ],
             [
              1,
              "#f0f921"
             ]
            ],
            "type": "histogram2dcontour"
           }
          ],
          "mesh3d": [
           {
            "colorbar": {
             "outlinewidth": 0,
             "ticks": ""
            },
            "type": "mesh3d"
           }
          ],
          "parcoords": [
           {
            "line": {
             "colorbar": {
              "outlinewidth": 0,
              "ticks": ""
             }
            },
            "type": "parcoords"
           }
          ],
          "pie": [
           {
            "automargin": true,
            "type": "pie"
           }
          ],
          "scatter": [
           {
            "fillpattern": {
             "fillmode": "overlay",
             "size": 10,
             "solidity": 0.2
            },
            "type": "scatter"
           }
          ],
          "scatter3d": [
           {
            "line": {
             "colorbar": {
              "outlinewidth": 0,
              "ticks": ""
             }
            },
            "marker": {
             "colorbar": {
              "outlinewidth": 0,
              "ticks": ""
             }
            },
            "type": "scatter3d"
           }
          ],
          "scattercarpet": [
           {
            "marker": {
             "colorbar": {
              "outlinewidth": 0,
              "ticks": ""
             }
            },
            "type": "scattercarpet"
           }
          ],
          "scattergeo": [
           {
            "marker": {
             "colorbar": {
              "outlinewidth": 0,
              "ticks": ""
             }
            },
            "type": "scattergeo"
           }
          ],
          "scattergl": [
           {
            "marker": {
             "colorbar": {
              "outlinewidth": 0,
              "ticks": ""
             }
            },
            "type": "scattergl"
           }
          ],
          "scattermapbox": [
           {
            "marker": {
             "colorbar": {
              "outlinewidth": 0,
              "ticks": ""
             }
            },
            "type": "scattermapbox"
           }
          ],
          "scatterpolar": [
           {
            "marker": {
             "colorbar": {
              "outlinewidth": 0,
              "ticks": ""
             }
            },
            "type": "scatterpolar"
           }
          ],
          "scatterpolargl": [
           {
            "marker": {
             "colorbar": {
              "outlinewidth": 0,
              "ticks": ""
             }
            },
            "type": "scatterpolargl"
           }
          ],
          "scatterternary": [
           {
            "marker": {
             "colorbar": {
              "outlinewidth": 0,
              "ticks": ""
             }
            },
            "type": "scatterternary"
           }
          ],
          "surface": [
           {
            "colorbar": {
             "outlinewidth": 0,
             "ticks": ""
            },
            "colorscale": [
             [
              0,
              "#0d0887"
             ],
             [
              0.1111111111111111,
              "#46039f"
             ],
             [
              0.2222222222222222,
              "#7201a8"
             ],
             [
              0.3333333333333333,
              "#9c179e"
             ],
             [
              0.4444444444444444,
              "#bd3786"
             ],
             [
              0.5555555555555556,
              "#d8576b"
             ],
             [
              0.6666666666666666,
              "#ed7953"
             ],
             [
              0.7777777777777778,
              "#fb9f3a"
             ],
             [
              0.8888888888888888,
              "#fdca26"
             ],
             [
              1,
              "#f0f921"
             ]
            ],
            "type": "surface"
           }
          ],
          "table": [
           {
            "cells": {
             "fill": {
              "color": "#EBF0F8"
             },
             "line": {
              "color": "white"
             }
            },
            "header": {
             "fill": {
              "color": "#C8D4E3"
             },
             "line": {
              "color": "white"
             }
            },
            "type": "table"
           }
          ]
         },
         "layout": {
          "annotationdefaults": {
           "arrowcolor": "#2a3f5f",
           "arrowhead": 0,
           "arrowwidth": 1
          },
          "autotypenumbers": "strict",
          "coloraxis": {
           "colorbar": {
            "outlinewidth": 0,
            "ticks": ""
           }
          },
          "colorscale": {
           "diverging": [
            [
             0,
             "#8e0152"
            ],
            [
             0.1,
             "#c51b7d"
            ],
            [
             0.2,
             "#de77ae"
            ],
            [
             0.3,
             "#f1b6da"
            ],
            [
             0.4,
             "#fde0ef"
            ],
            [
             0.5,
             "#f7f7f7"
            ],
            [
             0.6,
             "#e6f5d0"
            ],
            [
             0.7,
             "#b8e186"
            ],
            [
             0.8,
             "#7fbc41"
            ],
            [
             0.9,
             "#4d9221"
            ],
            [
             1,
             "#276419"
            ]
           ],
           "sequential": [
            [
             0,
             "#0d0887"
            ],
            [
             0.1111111111111111,
             "#46039f"
            ],
            [
             0.2222222222222222,
             "#7201a8"
            ],
            [
             0.3333333333333333,
             "#9c179e"
            ],
            [
             0.4444444444444444,
             "#bd3786"
            ],
            [
             0.5555555555555556,
             "#d8576b"
            ],
            [
             0.6666666666666666,
             "#ed7953"
            ],
            [
             0.7777777777777778,
             "#fb9f3a"
            ],
            [
             0.8888888888888888,
             "#fdca26"
            ],
            [
             1,
             "#f0f921"
            ]
           ],
           "sequentialminus": [
            [
             0,
             "#0d0887"
            ],
            [
             0.1111111111111111,
             "#46039f"
            ],
            [
             0.2222222222222222,
             "#7201a8"
            ],
            [
             0.3333333333333333,
             "#9c179e"
            ],
            [
             0.4444444444444444,
             "#bd3786"
            ],
            [
             0.5555555555555556,
             "#d8576b"
            ],
            [
             0.6666666666666666,
             "#ed7953"
            ],
            [
             0.7777777777777778,
             "#fb9f3a"
            ],
            [
             0.8888888888888888,
             "#fdca26"
            ],
            [
             1,
             "#f0f921"
            ]
           ]
          },
          "colorway": [
           "#636efa",
           "#EF553B",
           "#00cc96",
           "#ab63fa",
           "#FFA15A",
           "#19d3f3",
           "#FF6692",
           "#B6E880",
           "#FF97FF",
           "#FECB52"
          ],
          "font": {
           "color": "#2a3f5f"
          },
          "geo": {
           "bgcolor": "white",
           "lakecolor": "white",
           "landcolor": "#E5ECF6",
           "showlakes": true,
           "showland": true,
           "subunitcolor": "white"
          },
          "hoverlabel": {
           "align": "left"
          },
          "hovermode": "closest",
          "mapbox": {
           "style": "light"
          },
          "paper_bgcolor": "white",
          "plot_bgcolor": "#E5ECF6",
          "polar": {
           "angularaxis": {
            "gridcolor": "white",
            "linecolor": "white",
            "ticks": ""
           },
           "bgcolor": "#E5ECF6",
           "radialaxis": {
            "gridcolor": "white",
            "linecolor": "white",
            "ticks": ""
           }
          },
          "scene": {
           "xaxis": {
            "backgroundcolor": "#E5ECF6",
            "gridcolor": "white",
            "gridwidth": 2,
            "linecolor": "white",
            "showbackground": true,
            "ticks": "",
            "zerolinecolor": "white"
           },
           "yaxis": {
            "backgroundcolor": "#E5ECF6",
            "gridcolor": "white",
            "gridwidth": 2,
            "linecolor": "white",
            "showbackground": true,
            "ticks": "",
            "zerolinecolor": "white"
           },
           "zaxis": {
            "backgroundcolor": "#E5ECF6",
            "gridcolor": "white",
            "gridwidth": 2,
            "linecolor": "white",
            "showbackground": true,
            "ticks": "",
            "zerolinecolor": "white"
           }
          },
          "shapedefaults": {
           "line": {
            "color": "#2a3f5f"
           }
          },
          "ternary": {
           "aaxis": {
            "gridcolor": "white",
            "linecolor": "white",
            "ticks": ""
           },
           "baxis": {
            "gridcolor": "white",
            "linecolor": "white",
            "ticks": ""
           },
           "bgcolor": "#E5ECF6",
           "caxis": {
            "gridcolor": "white",
            "linecolor": "white",
            "ticks": ""
           }
          },
          "title": {
           "x": 0.05
          },
          "xaxis": {
           "automargin": true,
           "gridcolor": "white",
           "linecolor": "white",
           "ticks": "",
           "title": {
            "standoff": 15
           },
           "zerolinecolor": "white",
           "zerolinewidth": 2
          },
          "yaxis": {
           "automargin": true,
           "gridcolor": "white",
           "linecolor": "white",
           "ticks": "",
           "title": {
            "standoff": 15
           },
           "zerolinecolor": "white",
           "zerolinewidth": 2
          }
         }
        },
        "title": {
         "text": "Weight vs Height by BMI and Predicted Medal"
        },
        "xaxis": {
         "anchor": "y",
         "domain": [
          0,
          0.31999999999999995
         ],
         "title": {
          "text": "Height (cm)"
         }
        },
        "xaxis2": {
         "anchor": "y2",
         "domain": [
          0.33999999999999997,
          0.6599999999999999
         ],
         "matches": "x",
         "title": {
          "text": "Height (cm)"
         }
        },
        "xaxis3": {
         "anchor": "y3",
         "domain": [
          0.6799999999999999,
          0.9999999999999999
         ],
         "matches": "x",
         "title": {
          "text": "Height (cm)"
         }
        },
        "yaxis": {
         "anchor": "x",
         "domain": [
          0,
          1
         ],
         "title": {
          "text": "Weight (kg)"
         }
        },
        "yaxis2": {
         "anchor": "x2",
         "domain": [
          0,
          1
         ],
         "matches": "y",
         "showticklabels": false
        },
        "yaxis3": {
         "anchor": "x3",
         "domain": [
          0,
          1
         ],
         "matches": "y",
         "showticklabels": false
        }
       }
      }
     },
     "metadata": {},
     "output_type": "display_data"
    }
   ],
   "source": [
    "data = df[['Age', 'Height', 'Weight', 'BMI', 'pred_medal']]\n",
    "\n",
    "# Scatter plot\n",
    "fig = px.scatter(data, x='Height', y='Weight', color='pred_medal', size='BMI',\n",
    "                facet_col='pred_medal', title='Weight vs Height by BMI and Predicted Medal',\n",
    "                 labels={'Height': 'Height (cm)', 'Weight': 'Weight (kg)', 'BMI': 'BMI'})\n",
    "fig.show()\n"
   ]
  },
  {
   "cell_type": "code",
   "execution_count": 15,
   "metadata": {},
   "outputs": [
    {
     "data": {
      "application/vnd.plotly.v1+json": {
       "config": {
        "plotlyServerURL": "https://plot.ly"
       },
       "data": [
        {
         "hovertemplate": "pred_medal=Bronze<br>Height (cm)=%{x}<br>Weight (kg)=%{y}<br>BMI=%{z}<extra></extra>",
         "legendgroup": "Bronze",
         "marker": {
          "color": "#636efa",
          "symbol": "circle"
         },
         "mode": "markers",
         "name": "Bronze",
         "scene": "scene",
         "showlegend": true,
         "type": "scatter3d",
         "x": [
          172,
          172,
          172,
          186,
          165,
          181,
          170,
          181,
          187,
          185,
          198,
          198,
          180,
          191,
          174,
          191,
          171,
          180,
          180,
          180,
          180,
          180,
          180,
          185,
          185,
          207,
          196,
          198,
          198,
          198,
          185,
          185,
          180,
          180,
          180,
          172,
          170,
          160,
          164,
          164,
          166,
          178,
          173,
          170,
          166,
          166,
          166,
          175,
          170,
          170,
          170,
          175,
          175,
          170,
          170,
          176,
          176,
          176,
          156,
          179,
          172,
          172,
          194,
          194,
          194,
          173,
          156,
          198,
          179,
          198,
          165,
          168,
          185,
          186,
          156,
          152,
          185,
          185,
          172,
          174,
          170,
          180,
          198,
          179,
          180,
          160,
          173,
          180,
          180,
          187,
          171,
          175,
          185,
          185,
          185,
          175,
          176,
          176,
          178,
          184,
          192,
          173,
          181,
          181,
          173,
          186,
          177,
          180,
          165,
          166,
          166,
          176,
          176,
          176,
          170,
          167,
          170,
          170,
          167,
          168,
          168,
          172,
          167,
          167,
          167,
          167,
          168,
          168,
          163,
          190,
          180,
          193,
          180,
          188,
          167,
          167,
          167,
          170,
          183,
          183,
          176,
          172,
          173,
          193,
          193,
          170,
          170,
          163,
          162,
          140,
          148,
          188,
          168,
          180,
          172,
          172,
          189,
          181,
          193,
          193,
          170,
          180,
          185,
          156,
          178,
          178,
          178,
          160,
          169,
          172,
          182,
          173,
          178,
          180,
          168,
          170,
          173,
          173,
          197,
          197,
          188,
          198,
          193,
          187,
          181,
          194,
          190,
          183,
          176,
          180,
          173,
          182,
          170,
          180,
          182,
          165,
          183,
          191,
          191,
          185,
          185,
          181,
          184,
          186,
          186,
          186,
          167,
          170,
          166,
          179,
          159,
          159,
          167,
          171,
          173,
          173,
          183,
          179,
          179,
          179,
          172,
          172,
          172,
          180,
          168,
          184,
          183,
          191,
          180,
          184,
          194,
          187,
          188,
          180,
          188,
          186,
          191,
          191,
          191,
          185,
          183,
          172,
          197,
          197,
          197,
          165,
          165,
          173,
          174,
          167,
          185,
          185,
          185,
          173,
          173,
          173,
          173,
          173,
          172,
          180,
          169,
          169,
          169,
          176,
          172,
          172,
          172,
          161,
          150,
          182,
          197,
          185,
          174,
          173,
          178,
          178,
          176,
          188,
          188,
          183,
          177,
          170,
          170,
          170,
          170,
          202,
          193,
          190,
          178,
          159,
          159,
          159,
          160,
          160,
          160,
          180,
          175,
          170,
          165,
          172,
          172,
          172,
          165,
          197,
          182,
          169,
          169,
          155,
          160,
          178,
          168,
          160,
          183,
          180,
          177,
          178,
          178,
          167,
          173,
          170,
          180,
          187,
          192,
          187,
          172,
          170,
          170,
          170,
          151,
          169,
          172,
          160,
          160,
          167
         ],
         "y": [
          67,
          67,
          67,
          102,
          69,
          59,
          73,
          80,
          72,
          80,
          79,
          79,
          62,
          82,
          68,
          85,
          56,
          62,
          62,
          62,
          68,
          68,
          68,
          83,
          83,
          120,
          128,
          77,
          77,
          77,
          80,
          120,
          74,
          74,
          74,
          61,
          60,
          45,
          55,
          55,
          53,
          57,
          58,
          60,
          47,
          47,
          47,
          70,
          75,
          75,
          75,
          64,
          64,
          74,
          74,
          65,
          65,
          65,
          45,
          66,
          95,
          95,
          88,
          88,
          88,
          70,
          51,
          93,
          72,
          88,
          56,
          52,
          91,
          91,
          49,
          49,
          81,
          81,
          64,
          60,
          60,
          75,
          101,
          69,
          69,
          50,
          60,
          75,
          75,
          85,
          65,
          75,
          95,
          95,
          95,
          70,
          80,
          80,
          89,
          90,
          95,
          69,
          67,
          67,
          61,
          70,
          90,
          74,
          65,
          50,
          50,
          64,
          64,
          64,
          59,
          56,
          59,
          72,
          61,
          60,
          60,
          70,
          58,
          58,
          58,
          62,
          55,
          55,
          59,
          76,
          70,
          80,
          74,
          85,
          56,
          56,
          56,
          68,
          74,
          74,
          64,
          72,
          71,
          86,
          86,
          85,
          85,
          60,
          61,
          33,
          37,
          88,
          65,
          77,
          63,
          60,
          108,
          81,
          120,
          120,
          73,
          81,
          90,
          48,
          78,
          78,
          78,
          52,
          63,
          108,
          128,
          70,
          64,
          60,
          55,
          53,
          49,
          49,
          100,
          95,
          86,
          90,
          84,
          70,
          69,
          95,
          74,
          86,
          66,
          72,
          57,
          74,
          62,
          76,
          92,
          68,
          81,
          98,
          98,
          80,
          80,
          80,
          74,
          72,
          72,
          72,
          57,
          68,
          60,
          66,
          56,
          56,
          75,
          73,
          71,
          71,
          83,
          80,
          80,
          88,
          78,
          78,
          78,
          80,
          93,
          79,
          64,
          95,
          80,
          82,
          90,
          72,
          71,
          76,
          71,
          74,
          74,
          74,
          74,
          70,
          77,
          59,
          92,
          92,
          92,
          52,
          52,
          61,
          61,
          54,
          68,
          68,
          68,
          61,
          61,
          61,
          65,
          74,
          70,
          77,
          55,
          55,
          55,
          65,
          63,
          63,
          63,
          55,
          45,
          59,
          80,
          57,
          57,
          49,
          80,
          80,
          65,
          86,
          86,
          70,
          65,
          64,
          59,
          59,
          59,
          100,
          82,
          88,
          86,
          56,
          56,
          56,
          62,
          62,
          62,
          105,
          85,
          97,
          64,
          94,
          94,
          94,
          77,
          160,
          130,
          75,
          75,
          58,
          63,
          141,
          65,
          59,
          97,
          98,
          86,
          85,
          85,
          60,
          74,
          74,
          125,
          130,
          130,
          130,
          65,
          74,
          80,
          66,
          48,
          73,
          69,
          58,
          61,
          63
         ],
         "z": [
          22.647376960519203,
          22.647376960519203,
          22.647376960519203,
          29.48317724592438,
          25.34435261707989,
          18.009218277830346,
          25.25951557093426,
          24.41927902078691,
          20.58966513197403,
          23.37472607742878,
          20.15100499948985,
          20.15100499948985,
          19.1358024691358,
          22.47745401715962,
          22.46003435064077,
          23.299799895836188,
          19.15119181970521,
          19.1358024691358,
          19.1358024691358,
          19.1358024691358,
          20.98765432098765,
          20.98765432098765,
          20.98765432098765,
          24.25127830533236,
          24.25127830533236,
          28.00532101099209,
          33.31945022907122,
          19.64085297418631,
          19.64085297418631,
          19.64085297418631,
          23.37472607742878,
          35.06208911614317,
          22.839506172839503,
          22.839506172839503,
          22.839506172839503,
          20.61925365062196,
          20.761245674740486,
          17.578124999999996,
          20.449137418203453,
          20.449137418203453,
          19.23356074902017,
          17.99015275849009,
          19.37919743392696,
          20.761245674740486,
          17.056176513282043,
          17.056176513282043,
          17.056176513282043,
          22.857142857142858,
          25.95155709342561,
          25.95155709342561,
          25.95155709342561,
          20.897959183673468,
          20.897959183673468,
          25.60553633217993,
          25.60553633217993,
          20.983987603305785,
          20.983987603305785,
          20.983987603305785,
          18.49112426035503,
          20.598608033457133,
          32.11195240670633,
          32.11195240670633,
          23.381868423849507,
          23.381868423849507,
          23.381868423849507,
          23.38868655818771,
          20.95660749506904,
          23.72206917661463,
          22.47120876377142,
          22.44668911335578,
          20.56932966023876,
          18.42403628117914,
          26.58875091307524,
          26.30361891548156,
          20.134779750164363,
          21.208448753462605,
          23.66691015339664,
          23.66691015339664,
          21.63331530557058,
          19.817677368212443,
          20.761245674740486,
          23.148148148148145,
          25.7626772778288,
          21.53490839861428,
          21.29629629629629,
          19.53125,
          20.04744562130375,
          23.148148148148145,
          23.148148148148145,
          24.307243558580453,
          22.229061933586404,
          24.489795918367346,
          27.757487216946675,
          27.757487216946675,
          27.757487216946675,
          22.857142857142858,
          25.82644628099173,
          25.82644628099173,
          28.08988764044944,
          26.583175803402646,
          25.77039930555556,
          23.05456246449932,
          20.45114617990904,
          20.45114617990904,
          20.381569714992143,
          20.23355301190889,
          28.72737719046251,
          22.839506172839503,
          23.875114784205696,
          18.144868631151112,
          18.144868631151112,
          20.66115702479339,
          20.66115702479339,
          20.66115702479339,
          20.41522491349481,
          20.07960127648894,
          20.41522491349481,
          24.913494809688583,
          21.8724228190326,
          21.258503401360542,
          21.258503401360542,
          23.661438615467823,
          20.7967298935064,
          20.7967298935064,
          20.7967298935064,
          22.23098712754133,
          19.48696145124717,
          19.48696145124717,
          22.20633068613798,
          21.05263157894737,
          21.604938271604937,
          21.47708663319821,
          22.839506172839503,
          24.049343594386603,
          20.07960127648894,
          20.07960127648894,
          20.07960127648894,
          23.529411764705884,
          22.096807907073963,
          22.096807907073963,
          20.66115702479339,
          24.337479718766904,
          23.722810651876102,
          23.087868130688072,
          23.087868130688072,
          29.411764705882355,
          29.411764705882355,
          22.582709172343712,
          23.243408017070564,
          16.836734693877553,
          16.89189189189189,
          24.898143956541425,
          23.030045351473927,
          23.76543209876543,
          21.29529475392104,
          20.28123309897241,
          30.234315948601665,
          24.724520008546747,
          32.21562994979731,
          32.21562994979731,
          25.25951557093426,
          25,
          26.29656683710737,
          19.72386587771203,
          24.61810377477591,
          24.61810377477591,
          24.61810377477591,
          20.3125,
          22.05805118868388,
          36.50621957815036,
          38.64267600531336,
          23.38868655818771,
          20.199469763918696,
          18.51851851851852,
          19.48696145124717,
          18.339100346020764,
          16.372080590731397,
          16.372080590731397,
          25.76721894405937,
          24.4788579968564,
          24.332277048438208,
          22.95684113865932,
          22.55094096485812,
          20.0177299894192,
          21.06162815542871,
          25.241789775746625,
          20.498614958448755,
          25.68007405416704,
          21.306818181818183,
          22.22222222222222,
          19.045073340238563,
          22.34029706557179,
          21.45328719723184,
          23.456790123456788,
          27.77442337881898,
          24.977043158861346,
          24.187046492878256,
          26.863298703434666,
          26.863298703434666,
          23.37472607742878,
          23.37472607742878,
          24.41927902078691,
          21.85727788279773,
          20.811654526534856,
          20.811654526534856,
          20.811654526534856,
          20.43816558499767,
          23.529411764705884,
          21.773842357381334,
          20.598608033457133,
          22.15102250702108,
          22.15102250702108,
          26.89232313815483,
          24.96494647925858,
          23.722810651876102,
          23.722810651876102,
          24.78425751739377,
          24.9680097375238,
          24.9680097375238,
          27.46481071127618,
          26.365603028664147,
          26.365603028664147,
          26.365603028664147,
          24.69135802469136,
          32.95068027210885,
          23.334120982986768,
          19.1107527844964,
          26.040952824758094,
          24.69135802469136,
          24.22022684310019,
          23.91327452439154,
          20.58966513197403,
          20.088275237664103,
          23.456790123456788,
          20.088275237664103,
          21.389756041160823,
          20.28453167402209,
          20.28453167402209,
          20.28453167402209,
          20.45288531775018,
          22.99262444384723,
          19.94321254732288,
          23.70584142853462,
          23.70584142853462,
          23.70584142853462,
          19.10009182736456,
          19.10009182736456,
          20.381569714992143,
          20.147971991015982,
          19.362472659471475,
          19.86851716581446,
          19.86851716581446,
          19.86851716581446,
          20.381569714992143,
          20.381569714992143,
          20.381569714992143,
          21.71806608974573,
          24.72518293294129,
          23.661438615467823,
          23.76543209876543,
          19.257028815517668,
          19.257028815517668,
          19.257028815517668,
          20.983987603305785,
          21.29529475392104,
          21.29529475392104,
          21.29529475392104,
          21.218317194552675,
          20,
          17.81185847119913,
          20.61377515524749,
          16.654492330168004,
          18.826793499801823,
          16.372080590731397,
          25.24933720489837,
          25.24933720489837,
          20.983987603305785,
          24.332277048438208,
          24.332277048438208,
          20.902385858042937,
          20.747550193111813,
          22.145328719723185,
          20.41522491349481,
          20.41522491349481,
          20.41522491349481,
          24.50740123517302,
          22.014013799028163,
          24.37673130193906,
          27.143037495265748,
          22.15102250702108,
          22.15102250702108,
          22.15102250702108,
          24.21875,
          24.21875,
          24.21875,
          32.407407407407405,
          27.755102040816325,
          33.564013840830455,
          23.507805325987142,
          31.77393185505679,
          31.77393185505679,
          31.77393185505679,
          28.282828282828287,
          41.22755031049499,
          39.24646781789639,
          26.25958474843318,
          26.25958474843318,
          24.14151925078044,
          24.609375,
          44.50195682363338,
          23.030045351473927,
          23.046875,
          28.96473468900236,
          30.24691358024691,
          27.4506048708864,
          26.82742078020452,
          26.82742078020452,
          21.513858510523864,
          24.72518293294129,
          25.60553633217993,
          38.58024691358025,
          37.17578426606422,
          35.26475694444444,
          37.17578426606422,
          21.97133585722012,
          25.60553633217993,
          27.68166089965398,
          22.837370242214536,
          21.05170825840972,
          25.55932915514163,
          23.323418063818284,
          22.65625,
          23.828125,
          22.58955143605005
         ]
        },
        {
         "hovertemplate": "pred_medal=Gold<br>Height (cm)=%{x}<br>Weight (kg)=%{y}<br>BMI=%{z}<extra></extra>",
         "legendgroup": "Gold",
         "marker": {
          "color": "#EF553B",
          "symbol": "diamond"
         },
         "mode": "markers",
         "name": "Gold",
         "scene": "scene",
         "showlegend": true,
         "type": "scatter3d",
         "x": [
          185,
          180,
          168,
          168,
          177,
          182,
          182,
          175,
          188,
          180,
          195,
          175,
          175,
          175,
          175,
          186,
          175,
          175,
          175,
          175,
          175,
          183,
          160,
          168,
          165,
          170,
          162,
          162,
          160,
          168,
          173,
          166,
          166,
          166,
          180,
          180,
          180,
          180,
          173,
          192,
          192,
          192,
          180,
          177,
          175,
          175,
          166,
          179,
          199,
          191,
          183,
          178,
          182,
          173,
          168,
          165,
          185,
          177,
          200,
          174,
          158,
          158,
          167,
          180,
          193,
          193,
          175,
          196,
          189,
          199,
          174,
          191,
          191,
          191,
          177,
          167,
          178,
          165,
          169,
          169,
          169,
          172,
          172,
          172,
          180,
          180,
          180,
          187,
          178,
          188,
          188,
          188,
          175,
          175,
          175,
          183,
          171,
          171,
          181,
          185,
          184,
          180,
          180,
          180,
          158,
          158,
          171,
          176,
          188,
          173,
          175,
          175,
          175,
          150,
          163,
          173,
          173,
          168,
          190,
          177,
          177,
          177,
          173,
          173,
          173,
          190,
          184,
          169,
          165,
          167,
          176,
          176,
          184,
          168,
          188,
          166,
          170,
          151,
          152,
          190,
          177,
          174,
          181,
          167,
          186,
          169,
          169,
          191,
          179,
          187,
          153,
          153,
          160,
          164,
          160,
          160,
          192,
          182,
          169,
          190,
          194,
          196,
          202,
          202,
          182,
          177,
          187,
          190,
          190,
          190,
          178,
          183,
          183,
          182,
          165,
          170,
          183,
          176,
          168,
          178,
          193,
          168,
          168,
          184,
          178,
          172,
          170,
          175,
          169,
          178,
          176,
          170,
          172,
          172,
          189,
          176,
          158,
          164,
          181,
          181,
          185,
          189,
          189,
          184,
          184,
          200,
          187,
          187,
          181,
          181,
          187,
          190,
          188,
          185,
          185,
          193,
          193,
          193,
          170,
          179,
          178,
          179,
          180,
          173,
          175,
          178,
          173,
          173,
          173,
          169,
          177,
          177,
          170,
          170,
          165,
          176,
          207,
          176,
          172,
          176,
          180,
          178,
          193,
          170,
          172,
          206,
          185,
          195,
          172,
          181,
          172,
          173,
          180,
          147,
          147,
          165,
          155,
          155,
          157,
          157,
          159,
          170,
          163,
          165,
          180,
          180,
          190,
          190,
          179,
          181,
          177,
          177,
          177,
          166,
          164,
          174,
          164,
          163
         ],
         "y": [
          77,
          68,
          47,
          47,
          70,
          77,
          77,
          55,
          84,
          74,
          79,
          72,
          72,
          57,
          57,
          77,
          94,
          94,
          67,
          67,
          67,
          134,
          50,
          52,
          63,
          65,
          47,
          53,
          55,
          65,
          61,
          60,
          60,
          60,
          85,
          85,
          58,
          58,
          62,
          72,
          72,
          72,
          70,
          77,
          80,
          68,
          56,
          65,
          96,
          78,
          77,
          67,
          70,
          56,
          52,
          49,
          64,
          75,
          105,
          69,
          51,
          51,
          60,
          75,
          93,
          93,
          85,
          83,
          90,
          95,
          80,
          94,
          94,
          94,
          70,
          70,
          70,
          63,
          70,
          70,
          70,
          68,
          68,
          68,
          88,
          88,
          88,
          93,
          65,
          90,
          90,
          90,
          70,
          70,
          70,
          69,
          65,
          65,
          74,
          93,
          77,
          83,
          83,
          83,
          58,
          58,
          66,
          74,
          80,
          68,
          77,
          77,
          77,
          48,
          57,
          75,
          66,
          65,
          80,
          77,
          77,
          77,
          74,
          74,
          74,
          70,
          76,
          75,
          65,
          50,
          66,
          66,
          80,
          65,
          86,
          67,
          59,
          44,
          49,
          92,
          73,
          69,
          69,
          60,
          100,
          66,
          66,
          125,
          73,
          94,
          51,
          51,
          52,
          66,
          59,
          59,
          78,
          69,
          56,
          93,
          92,
          94,
          110,
          110,
          73,
          70,
          90,
          92,
          92,
          92,
          75,
          73,
          73,
          74,
          59,
          66,
          71,
          86,
          75,
          81,
          75,
          65,
          65,
          72,
          74,
          63,
          59,
          75,
          69,
          73,
          64,
          97,
          84,
          84,
          85,
          68,
          55,
          55,
          95,
          95,
          77,
          86,
          86,
          84,
          74,
          89,
          78,
          78,
          77,
          77,
          83,
          90,
          80,
          78,
          76,
          86,
          86,
          86,
          59,
          63,
          65,
          66,
          60,
          66,
          57,
          73,
          64,
          64,
          64,
          59,
          61,
          61,
          60,
          60,
          54,
          58,
          90,
          57,
          52,
          66,
          76,
          74,
          84,
          59,
          60,
          100,
          78,
          106,
          74,
          105,
          85,
          69,
          140,
          47,
          47,
          76,
          69,
          58,
          58,
          58,
          63,
          100,
          63,
          65,
          102,
          102,
          98,
          98,
          86,
          74,
          80,
          80,
          80,
          67,
          56,
          75,
          58,
          65
         ],
         "z": [
          22.4981738495252,
          20.98765432098765,
          16.65249433106576,
          16.65249433106576,
          22.34351559258195,
          23.24598478444632,
          23.24598478444632,
          17.959183673469386,
          23.766410140335,
          22.839506172839503,
          20.77580539119001,
          23.51020408163265,
          23.51020408163265,
          18.612244897959183,
          18.612244897959183,
          22.25690831309978,
          30.693877551020407,
          30.693877551020407,
          21.877551020408163,
          21.877551020408163,
          21.877551020408163,
          40.01313864253934,
          19.53125,
          18.42403628117914,
          23.1404958677686,
          22.49134948096886,
          17.908855357415025,
          20.19509221155312,
          21.484375,
          23.030045351473927,
          20.381569714992143,
          21.773842357381334,
          21.773842357381334,
          21.773842357381334,
          26.234567901234566,
          26.234567901234566,
          17.901234567901234,
          17.901234567901234,
          20.715693808680545,
          19.53125,
          19.53125,
          19.53125,
          21.604938271604937,
          24.577867151840145,
          26.12244897959184,
          22.20408163265306,
          20.322252866889244,
          20.286507911738084,
          24.24181207545264,
          21.380992845590857,
          22.99262444384723,
          21.146319909102385,
          21.132713440405748,
          18.710949246550168,
          18.42403628117914,
          17.99816345270891,
          18.699780861943022,
          23.93948099205209,
          26.25,
          22.79032897344431,
          20.429418362441915,
          20.429418362441915,
          21.513858510523864,
          23.148148148148145,
          24.967113211092915,
          24.967113211092915,
          27.755102040816325,
          21.60558100791337,
          25.195263290501387,
          23.98929319966668,
          26.42356982428326,
          25.766837531865903,
          25.766837531865903,
          25.766837531865903,
          22.34351559258195,
          25.099501595611173,
          22.09317005428608,
          23.1404958677686,
          24.508945765204302,
          24.508945765204302,
          24.508945765204302,
          22.985397512168745,
          22.985397512168745,
          22.985397512168745,
          27.160493827160494,
          27.160493827160494,
          27.160493827160494,
          26.59498412879979,
          20.515086478979924,
          25.46401086464464,
          25.46401086464464,
          25.46401086464464,
          22.857142857142858,
          22.857142857142858,
          22.857142857142858,
          20.603780345785182,
          22.229061933586404,
          22.229061933586404,
          22.587833094227893,
          27.173119065010955,
          22.74338374291116,
          25.61728395061728,
          25.61728395061728,
          25.61728395061728,
          23.233456176894723,
          23.233456176894723,
          22.571047501795427,
          23.889462809917354,
          22.634676324128566,
          22.72043837081092,
          25.142857142857142,
          25.142857142857142,
          25.142857142857142,
          21.33333333333333,
          21.453573713726524,
          25.05930702662969,
          22.052190183434128,
          23.030045351473927,
          22.1606648199446,
          24.577867151840145,
          24.577867151840145,
          24.577867151840145,
          24.72518293294129,
          24.72518293294129,
          24.72518293294129,
          19.390581717451525,
          22.448015122873343,
          26.25958474843318,
          23.875114784205696,
          17.92821542543655,
          21.306818181818183,
          21.306818181818183,
          23.62948960302457,
          23.030045351473927,
          24.332277048438208,
          24.31412396574249,
          20.41522491349481,
          19.29739923687557,
          21.208448753462605,
          25.48476454293629,
          23.301094832264035,
          22.79032897344431,
          21.06162815542871,
          21.513858510523864,
          28.90507573129841,
          23.1084345786212,
          23.1084345786212,
          34.264411611523805,
          22.783308885490467,
          26.88095170007721,
          21.78649237472767,
          21.78649237472767,
          20.3125,
          24.538964901844142,
          23.046875,
          23.046875,
          21.158854166666668,
          20.830817534114235,
          19.607156612163443,
          25.7617728531856,
          24.44468062493357,
          24.46897126197418,
          26.958141358690323,
          26.958141358690323,
          22.03840115928028,
          22.34351559258195,
          25.737081414967538,
          25.48476454293629,
          25.48476454293629,
          25.48476454293629,
          23.671253629592226,
          21.798202394816204,
          21.798202394816204,
          22.34029706557179,
          21.6712580348944,
          22.837370242214536,
          21.20099137030069,
          27.76342975206612,
          26.573129251700685,
          25.5649539199596,
          20.13476871862332,
          23.030045351473927,
          23.030045351473927,
          21.26654064272212,
          23.355636914531,
          21.29529475392104,
          20.41522491349481,
          24.489795918367346,
          24.158817968558527,
          23.04002019946976,
          20.66115702479339,
          33.564013840830455,
          28.393726338561383,
          28.393726338561383,
          23.79552644102909,
          21.952479338842977,
          22.031725684986377,
          20.449137418203453,
          28.997893837184456,
          28.997893837184456,
          22.4981738495252,
          24.075473810923548,
          24.075473810923548,
          24.8109640831758,
          21.85727788279773,
          22.25,
          22.305470559638533,
          22.305470559638533,
          23.503556057507403,
          23.503556057507403,
          23.735308416025617,
          24.930747922437675,
          22.634676324128566,
          22.79035792549306,
          22.20598977355733,
          23.087868130688072,
          23.087868130688072,
          23.087868130688072,
          20.41522491349481,
          19.66230766829999,
          20.515086478979924,
          20.598608033457133,
          18.51851851851852,
          22.052190183434128,
          18.612244897959183,
          23.04002019946976,
          21.38394199605733,
          21.38394199605733,
          21.38394199605733,
          20.65754000210077,
          19.4707778735357,
          19.4707778735357,
          20.761245674740486,
          20.761245674740486,
          19.83471074380165,
          18.72417355371901,
          21.00399075824407,
          18.401342975206614,
          17.577068685776098,
          21.306818181818183,
          23.456790123456788,
          23.355636914531,
          22.55094096485812,
          20.41522491349481,
          20.28123309897241,
          23.56489772834386,
          22.79035792549306,
          27.87639710716634,
          25.013520822065985,
          32.05030371478282,
          28.73174689021093,
          23.05456246449932,
          43.20987654320987,
          21.75019667731038,
          21.75019667731038,
          27.915518824609737,
          28.720083246618103,
          24.14151925078044,
          23.53036634346221,
          23.53036634346221,
          24.91990032039872,
          34.602076124567475,
          23.711844630960897,
          23.875114784205696,
          31.48148148148148,
          31.48148148148148,
          27.14681440443213,
          27.14681440443213,
          26.840610467838083,
          22.587833094227893,
          25.53544639152223,
          25.53544639152223,
          25.53544639152223,
          24.31412396574249,
          20.820939916716245,
          24.77209671026556,
          21.564544913741823,
          24.46460160337235
         ]
        },
        {
         "hovertemplate": "pred_medal=Silver<br>Height (cm)=%{x}<br>Weight (kg)=%{y}<br>BMI=%{z}<extra></extra>",
         "legendgroup": "Silver",
         "marker": {
          "color": "#00cc96",
          "symbol": "square"
         },
         "mode": "markers",
         "name": "Silver",
         "scene": "scene",
         "showlegend": true,
         "type": "scatter3d",
         "x": [
          174,
          158,
          176,
          176,
          176,
          183,
          185,
          188,
          167,
          188,
          178,
          178,
          188,
          207,
          207,
          187,
          187,
          192,
          183,
          183,
          183,
          183,
          183,
          201,
          157,
          168,
          165,
          160,
          162,
          162,
          163,
          179,
          173,
          180,
          171,
          178,
          184,
          191,
          170,
          155,
          160,
          173,
          176,
          179,
          172,
          172,
          172,
          203,
          203,
          185,
          184,
          165,
          171,
          171,
          171,
          169,
          196,
          182,
          174,
          169,
          178,
          197,
          168,
          175,
          188,
          189,
          181,
          186,
          188,
          182,
          184,
          182,
          176,
          183,
          187,
          181,
          165,
          185,
          178,
          166,
          164,
          162,
          164,
          159,
          157,
          157,
          157,
          193,
          176,
          176,
          177,
          197,
          186,
          175,
          176,
          168,
          173,
          175,
          168,
          155,
          155,
          155,
          161,
          164,
          164,
          164,
          162,
          143,
          156,
          196,
          184,
          179,
          168,
          166,
          197,
          160,
          181,
          182,
          178,
          162,
          162,
          170,
          169,
          168,
          168,
          185,
          168,
          170,
          196,
          200,
          187,
          178,
          193,
          183,
          173,
          175,
          198,
          172,
          180,
          197,
          173,
          164,
          168,
          169,
          176,
          178,
          178,
          162,
          155,
          155,
          155,
          175,
          175,
          175,
          162,
          162,
          172,
          191,
          191,
          191,
          196,
          193,
          191,
          196,
          196,
          188,
          196,
          173,
          175,
          180,
          175,
          175,
          175,
          175,
          175,
          179,
          179,
          173,
          178,
          179,
          162,
          180,
          160,
          178,
          178,
          178,
          188,
          190,
          200,
          186,
          186,
          164,
          188,
          182,
          175,
          175,
          168,
          168,
          180,
          180,
          170,
          173,
          173,
          155,
          155,
          178,
          168,
          168,
          205,
          192,
          191,
          173,
          183,
          168,
          176,
          176,
          154,
          163,
          159,
          173,
          165,
          160,
          180,
          184,
          170,
          170,
          192,
          192,
          170,
          163,
          163,
          163,
          152,
          175,
          159,
          159,
          162
         ],
         "y": [
          80,
          50,
          65,
          65,
          65,
          77,
          73,
          65,
          58,
          65,
          85,
          85,
          82,
          120,
          120,
          120,
          120,
          92,
          86,
          86,
          86,
          75,
          75,
          125,
          43,
          55,
          59,
          50,
          42,
          42,
          61,
          70,
          59,
          72,
          57,
          59,
          69,
          72,
          72,
          49,
          45,
          59,
          136,
          72,
          59,
          59,
          65,
          102,
          94,
          87,
          75,
          56,
          57,
          57,
          57,
          52,
          91,
          81,
          64,
          64,
          75,
          108,
          60,
          78,
          88,
          80,
          76,
          90,
          90,
          85,
          82,
          76,
          78,
          88,
          93,
          73,
          55,
          90,
          70,
          65,
          57,
          49,
          57,
          52,
          48,
          48,
          48,
          73,
          80,
          70,
          65,
          100,
          78,
          64,
          71,
          60,
          69,
          68,
          65,
          54,
          54,
          54,
          55,
          62,
          62,
          62,
          51,
          47,
          46,
          98,
          74,
          79,
          62,
          60,
          105,
          66,
          80,
          81,
          90,
          52,
          65,
          97,
          57,
          70,
          70,
          74,
          47,
          50,
          96,
          102,
          76,
          71,
          92,
          82,
          59,
          68,
          109,
          75,
          81,
          95,
          70,
          63,
          62,
          57,
          65,
          82,
          82,
          70,
          55,
          55,
          55,
          85,
          85,
          85,
          72,
          72,
          80,
          72,
          91,
          86,
          88,
          86,
          86,
          84,
          84,
          86,
          84,
          65,
          70,
          75,
          64,
          64,
          64,
          65,
          65,
          61,
          61,
          65,
          67,
          58,
          46,
          67,
          54,
          68,
          68,
          68,
          63,
          90,
          93,
          80,
          80,
          50,
          75,
          69,
          71,
          71,
          66,
          66,
          60,
          60,
          62,
          66,
          66,
          47,
          47,
          59,
          56,
          56,
          107,
          78,
          91,
          65,
          109,
          70,
          77,
          77,
          48,
          69,
          63,
          123,
          62,
          59,
          86,
          90,
          66,
          66,
          125,
          125,
          65,
          57,
          57,
          57,
          48,
          75,
          69,
          69,
          58
         ],
         "z": [
          26.42356982428326,
          20.0288415318058,
          20.983987603305785,
          20.983987603305785,
          20.983987603305785,
          22.99262444384723,
          21.32943754565376,
          18.390674513354465,
          20.7967298935064,
          18.390674513354465,
          26.82742078020452,
          26.82742078020452,
          23.20054323223178,
          28.00532101099209,
          28.00532101099209,
          34.31610855329005,
          34.31610855329005,
          24.95659722222222,
          25.68007405416704,
          25.68007405416704,
          25.68007405416704,
          22.39541341933172,
          22.39541341933172,
          30.93982822207372,
          17.444926771877153,
          19.48696145124717,
          21.6712580348944,
          19.53125,
          16.00365797896662,
          16.00365797896662,
          22.95908765854944,
          21.84700852033332,
          19.71332152761536,
          22.22222222222222,
          19.49317738791424,
          18.621386188612547,
          20.38043478260869,
          19.73630108823772,
          24.913494809688583,
          20.39542143600416,
          17.578124999999996,
          19.71332152761536,
          43.904958677685954,
          22.47120876377142,
          19.94321254732288,
          19.94321254732288,
          21.97133585722012,
          24.75187459050208,
          22.8105510932078,
          25.4200146092038,
          22.152646502835537,
          20.56932966023876,
          19.49317738791424,
          19.49317738791424,
          19.49317738791424,
          18.20664542558034,
          23.688046647230323,
          24.45356840961236,
          21.13885585942661,
          22.40817898532965,
          23.671253629592226,
          27.82859645958412,
          21.258503401360542,
          25.46938775510204,
          24.898143956541425,
          22.395789591556788,
          23.198315069747565,
          26.01456815816857,
          25.46401086464464,
          25.661152034778407,
          24.22022684310019,
          22.94408887815481,
          25.180785123966945,
          26.27728507868255,
          26.59498412879979,
          22.28259210646805,
          20.202020202020204,
          26.29656683710737,
          22.09317005428608,
          23.588329220496444,
          21.192742415229034,
          18.670934308794383,
          21.192742415229034,
          20.56880661366243,
          19.473406629072173,
          19.473406629072173,
          19.473406629072173,
          19.59784155279337,
          25.82644628099173,
          22.59814049586777,
          20.747550193111813,
          25.76721894405937,
          22.54595907041276,
          20.897959183673468,
          22.92097107438017,
          21.258503401360542,
          23.05456246449932,
          22.20408163265306,
          23.030045351473927,
          22.476586888657646,
          22.476586888657646,
          22.476586888657646,
          21.218317194552675,
          23.051754907792983,
          23.051754907792983,
          23.051754907792983,
          19.43301326017375,
          22.984008997995016,
          18.902038132807363,
          25.51020408163265,
          21.85727788279773,
          24.65590961580475,
          21.9671201814059,
          21.773842357381334,
          27.055579891262337,
          25.78125,
          24.41927902078691,
          24.45356840961236,
          28.40550435551067,
          19.81405273586343,
          24.76756591982929,
          33.564013840830455,
          19.95728440880922,
          24.801587301587304,
          24.801587301587304,
          21.62162162162162,
          16.65249433106576,
          17.301038062283737,
          24.989587671803417,
          25.5,
          21.7335354170837,
          22.408786769347305,
          24.69864962817794,
          24.48565200513601,
          19.71332152761536,
          22.20408163265306,
          27.80328537904296,
          25.351541373715524,
          25,
          24.4788579968564,
          23.38868655818771,
          23.42355740630577,
          21.9671201814059,
          19.95728440880922,
          20.983987603305785,
          25.88057063502083,
          25.88057063502083,
          26.672763298277697,
          22.892819979188346,
          22.892819979188346,
          22.892819979188346,
          27.755102040816325,
          27.755102040816325,
          27.755102040816325,
          27.43484224965706,
          27.43484224965706,
          27.041644131963228,
          19.73630108823772,
          24.94449165318933,
          23.57391518872837,
          22.907122032486463,
          23.087868130688072,
          23.57391518872837,
          21.86588921282799,
          21.86588921282799,
          24.332277048438208,
          21.86588921282799,
          21.71806608974573,
          22.857142857142858,
          23.148148148148145,
          20.897959183673468,
          20.897959183673468,
          20.897959183673468,
          21.22448979591837,
          21.22448979591837,
          19.03810742486189,
          19.03810742486189,
          21.71806608974573,
          21.146319909102385,
          18.10180705970476,
          17.527815881725342,
          20.679012345679013,
          21.09375,
          21.461936624163616,
          21.461936624163616,
          21.461936624163616,
          17.824807605251245,
          24.930747922437675,
          23.25,
          23.12406058503873,
          23.12406058503873,
          18.590124925639504,
          21.22000905387053,
          20.830817534114235,
          23.18367346938776,
          23.18367346938776,
          23.384353741496604,
          23.384353741496604,
          18.51851851851852,
          18.51851851851852,
          21.45328719723184,
          22.052190183434128,
          22.052190183434128,
          19.562955254942764,
          19.562955254942764,
          18.621386188612547,
          19.841269841269845,
          19.841269841269845,
          25.46103509815586,
          21.158854166666668,
          24.94449165318933,
          21.71806608974573,
          32.54800083609543,
          24.801587301587304,
          24.857954545454547,
          24.857954545454547,
          20.23950075898128,
          25.970115548195267,
          24.91990032039872,
          41.09726352367269,
          22.77318640955005,
          23.046875,
          26.54320987654321,
          26.583175803402646,
          22.837370242214536,
          22.837370242214536,
          33.90842013888889,
          33.90842013888889,
          22.49134948096886,
          21.453573713726524,
          21.453573713726524,
          21.453573713726524,
          20.775623268698062,
          24.489795918367346,
          27.29322416043669,
          27.29322416043669,
          22.10028959000152
         ]
        }
       ],
       "layout": {
        "legend": {
         "title": {
          "text": "pred_medal"
         },
         "tracegroupgap": 0
        },
        "scene": {
         "domain": {
          "x": [
           0,
           1
          ],
          "y": [
           0,
           1
          ]
         },
         "xaxis": {
          "title": {
           "text": "Height (cm)"
          }
         },
         "yaxis": {
          "title": {
           "text": "Weight (kg)"
          }
         },
         "zaxis": {
          "title": {
           "text": "BMI"
          }
         }
        },
        "template": {
         "data": {
          "bar": [
           {
            "error_x": {
             "color": "#2a3f5f"
            },
            "error_y": {
             "color": "#2a3f5f"
            },
            "marker": {
             "line": {
              "color": "#E5ECF6",
              "width": 0.5
             },
             "pattern": {
              "fillmode": "overlay",
              "size": 10,
              "solidity": 0.2
             }
            },
            "type": "bar"
           }
          ],
          "barpolar": [
           {
            "marker": {
             "line": {
              "color": "#E5ECF6",
              "width": 0.5
             },
             "pattern": {
              "fillmode": "overlay",
              "size": 10,
              "solidity": 0.2
             }
            },
            "type": "barpolar"
           }
          ],
          "carpet": [
           {
            "aaxis": {
             "endlinecolor": "#2a3f5f",
             "gridcolor": "white",
             "linecolor": "white",
             "minorgridcolor": "white",
             "startlinecolor": "#2a3f5f"
            },
            "baxis": {
             "endlinecolor": "#2a3f5f",
             "gridcolor": "white",
             "linecolor": "white",
             "minorgridcolor": "white",
             "startlinecolor": "#2a3f5f"
            },
            "type": "carpet"
           }
          ],
          "choropleth": [
           {
            "colorbar": {
             "outlinewidth": 0,
             "ticks": ""
            },
            "type": "choropleth"
           }
          ],
          "contour": [
           {
            "colorbar": {
             "outlinewidth": 0,
             "ticks": ""
            },
            "colorscale": [
             [
              0,
              "#0d0887"
             ],
             [
              0.1111111111111111,
              "#46039f"
             ],
             [
              0.2222222222222222,
              "#7201a8"
             ],
             [
              0.3333333333333333,
              "#9c179e"
             ],
             [
              0.4444444444444444,
              "#bd3786"
             ],
             [
              0.5555555555555556,
              "#d8576b"
             ],
             [
              0.6666666666666666,
              "#ed7953"
             ],
             [
              0.7777777777777778,
              "#fb9f3a"
             ],
             [
              0.8888888888888888,
              "#fdca26"
             ],
             [
              1,
              "#f0f921"
             ]
            ],
            "type": "contour"
           }
          ],
          "contourcarpet": [
           {
            "colorbar": {
             "outlinewidth": 0,
             "ticks": ""
            },
            "type": "contourcarpet"
           }
          ],
          "heatmap": [
           {
            "colorbar": {
             "outlinewidth": 0,
             "ticks": ""
            },
            "colorscale": [
             [
              0,
              "#0d0887"
             ],
             [
              0.1111111111111111,
              "#46039f"
             ],
             [
              0.2222222222222222,
              "#7201a8"
             ],
             [
              0.3333333333333333,
              "#9c179e"
             ],
             [
              0.4444444444444444,
              "#bd3786"
             ],
             [
              0.5555555555555556,
              "#d8576b"
             ],
             [
              0.6666666666666666,
              "#ed7953"
             ],
             [
              0.7777777777777778,
              "#fb9f3a"
             ],
             [
              0.8888888888888888,
              "#fdca26"
             ],
             [
              1,
              "#f0f921"
             ]
            ],
            "type": "heatmap"
           }
          ],
          "heatmapgl": [
           {
            "colorbar": {
             "outlinewidth": 0,
             "ticks": ""
            },
            "colorscale": [
             [
              0,
              "#0d0887"
             ],
             [
              0.1111111111111111,
              "#46039f"
             ],
             [
              0.2222222222222222,
              "#7201a8"
             ],
             [
              0.3333333333333333,
              "#9c179e"
             ],
             [
              0.4444444444444444,
              "#bd3786"
             ],
             [
              0.5555555555555556,
              "#d8576b"
             ],
             [
              0.6666666666666666,
              "#ed7953"
             ],
             [
              0.7777777777777778,
              "#fb9f3a"
             ],
             [
              0.8888888888888888,
              "#fdca26"
             ],
             [
              1,
              "#f0f921"
             ]
            ],
            "type": "heatmapgl"
           }
          ],
          "histogram": [
           {
            "marker": {
             "pattern": {
              "fillmode": "overlay",
              "size": 10,
              "solidity": 0.2
             }
            },
            "type": "histogram"
           }
          ],
          "histogram2d": [
           {
            "colorbar": {
             "outlinewidth": 0,
             "ticks": ""
            },
            "colorscale": [
             [
              0,
              "#0d0887"
             ],
             [
              0.1111111111111111,
              "#46039f"
             ],
             [
              0.2222222222222222,
              "#7201a8"
             ],
             [
              0.3333333333333333,
              "#9c179e"
             ],
             [
              0.4444444444444444,
              "#bd3786"
             ],
             [
              0.5555555555555556,
              "#d8576b"
             ],
             [
              0.6666666666666666,
              "#ed7953"
             ],
             [
              0.7777777777777778,
              "#fb9f3a"
             ],
             [
              0.8888888888888888,
              "#fdca26"
             ],
             [
              1,
              "#f0f921"
             ]
            ],
            "type": "histogram2d"
           }
          ],
          "histogram2dcontour": [
           {
            "colorbar": {
             "outlinewidth": 0,
             "ticks": ""
            },
            "colorscale": [
             [
              0,
              "#0d0887"
             ],
             [
              0.1111111111111111,
              "#46039f"
             ],
             [
              0.2222222222222222,
              "#7201a8"
             ],
             [
              0.3333333333333333,
              "#9c179e"
             ],
             [
              0.4444444444444444,
              "#bd3786"
             ],
             [
              0.5555555555555556,
              "#d8576b"
             ],
             [
              0.6666666666666666,
              "#ed7953"
             ],
             [
              0.7777777777777778,
              "#fb9f3a"
             ],
             [
              0.8888888888888888,
              "#fdca26"
             ],
             [
              1,
              "#f0f921"
             ]
            ],
            "type": "histogram2dcontour"
           }
          ],
          "mesh3d": [
           {
            "colorbar": {
             "outlinewidth": 0,
             "ticks": ""
            },
            "type": "mesh3d"
           }
          ],
          "parcoords": [
           {
            "line": {
             "colorbar": {
              "outlinewidth": 0,
              "ticks": ""
             }
            },
            "type": "parcoords"
           }
          ],
          "pie": [
           {
            "automargin": true,
            "type": "pie"
           }
          ],
          "scatter": [
           {
            "fillpattern": {
             "fillmode": "overlay",
             "size": 10,
             "solidity": 0.2
            },
            "type": "scatter"
           }
          ],
          "scatter3d": [
           {
            "line": {
             "colorbar": {
              "outlinewidth": 0,
              "ticks": ""
             }
            },
            "marker": {
             "colorbar": {
              "outlinewidth": 0,
              "ticks": ""
             }
            },
            "type": "scatter3d"
           }
          ],
          "scattercarpet": [
           {
            "marker": {
             "colorbar": {
              "outlinewidth": 0,
              "ticks": ""
             }
            },
            "type": "scattercarpet"
           }
          ],
          "scattergeo": [
           {
            "marker": {
             "colorbar": {
              "outlinewidth": 0,
              "ticks": ""
             }
            },
            "type": "scattergeo"
           }
          ],
          "scattergl": [
           {
            "marker": {
             "colorbar": {
              "outlinewidth": 0,
              "ticks": ""
             }
            },
            "type": "scattergl"
           }
          ],
          "scattermapbox": [
           {
            "marker": {
             "colorbar": {
              "outlinewidth": 0,
              "ticks": ""
             }
            },
            "type": "scattermapbox"
           }
          ],
          "scatterpolar": [
           {
            "marker": {
             "colorbar": {
              "outlinewidth": 0,
              "ticks": ""
             }
            },
            "type": "scatterpolar"
           }
          ],
          "scatterpolargl": [
           {
            "marker": {
             "colorbar": {
              "outlinewidth": 0,
              "ticks": ""
             }
            },
            "type": "scatterpolargl"
           }
          ],
          "scatterternary": [
           {
            "marker": {
             "colorbar": {
              "outlinewidth": 0,
              "ticks": ""
             }
            },
            "type": "scatterternary"
           }
          ],
          "surface": [
           {
            "colorbar": {
             "outlinewidth": 0,
             "ticks": ""
            },
            "colorscale": [
             [
              0,
              "#0d0887"
             ],
             [
              0.1111111111111111,
              "#46039f"
             ],
             [
              0.2222222222222222,
              "#7201a8"
             ],
             [
              0.3333333333333333,
              "#9c179e"
             ],
             [
              0.4444444444444444,
              "#bd3786"
             ],
             [
              0.5555555555555556,
              "#d8576b"
             ],
             [
              0.6666666666666666,
              "#ed7953"
             ],
             [
              0.7777777777777778,
              "#fb9f3a"
             ],
             [
              0.8888888888888888,
              "#fdca26"
             ],
             [
              1,
              "#f0f921"
             ]
            ],
            "type": "surface"
           }
          ],
          "table": [
           {
            "cells": {
             "fill": {
              "color": "#EBF0F8"
             },
             "line": {
              "color": "white"
             }
            },
            "header": {
             "fill": {
              "color": "#C8D4E3"
             },
             "line": {
              "color": "white"
             }
            },
            "type": "table"
           }
          ]
         },
         "layout": {
          "annotationdefaults": {
           "arrowcolor": "#2a3f5f",
           "arrowhead": 0,
           "arrowwidth": 1
          },
          "autotypenumbers": "strict",
          "coloraxis": {
           "colorbar": {
            "outlinewidth": 0,
            "ticks": ""
           }
          },
          "colorscale": {
           "diverging": [
            [
             0,
             "#8e0152"
            ],
            [
             0.1,
             "#c51b7d"
            ],
            [
             0.2,
             "#de77ae"
            ],
            [
             0.3,
             "#f1b6da"
            ],
            [
             0.4,
             "#fde0ef"
            ],
            [
             0.5,
             "#f7f7f7"
            ],
            [
             0.6,
             "#e6f5d0"
            ],
            [
             0.7,
             "#b8e186"
            ],
            [
             0.8,
             "#7fbc41"
            ],
            [
             0.9,
             "#4d9221"
            ],
            [
             1,
             "#276419"
            ]
           ],
           "sequential": [
            [
             0,
             "#0d0887"
            ],
            [
             0.1111111111111111,
             "#46039f"
            ],
            [
             0.2222222222222222,
             "#7201a8"
            ],
            [
             0.3333333333333333,
             "#9c179e"
            ],
            [
             0.4444444444444444,
             "#bd3786"
            ],
            [
             0.5555555555555556,
             "#d8576b"
            ],
            [
             0.6666666666666666,
             "#ed7953"
            ],
            [
             0.7777777777777778,
             "#fb9f3a"
            ],
            [
             0.8888888888888888,
             "#fdca26"
            ],
            [
             1,
             "#f0f921"
            ]
           ],
           "sequentialminus": [
            [
             0,
             "#0d0887"
            ],
            [
             0.1111111111111111,
             "#46039f"
            ],
            [
             0.2222222222222222,
             "#7201a8"
            ],
            [
             0.3333333333333333,
             "#9c179e"
            ],
            [
             0.4444444444444444,
             "#bd3786"
            ],
            [
             0.5555555555555556,
             "#d8576b"
            ],
            [
             0.6666666666666666,
             "#ed7953"
            ],
            [
             0.7777777777777778,
             "#fb9f3a"
            ],
            [
             0.8888888888888888,
             "#fdca26"
            ],
            [
             1,
             "#f0f921"
            ]
           ]
          },
          "colorway": [
           "#636efa",
           "#EF553B",
           "#00cc96",
           "#ab63fa",
           "#FFA15A",
           "#19d3f3",
           "#FF6692",
           "#B6E880",
           "#FF97FF",
           "#FECB52"
          ],
          "font": {
           "color": "#2a3f5f"
          },
          "geo": {
           "bgcolor": "white",
           "lakecolor": "white",
           "landcolor": "#E5ECF6",
           "showlakes": true,
           "showland": true,
           "subunitcolor": "white"
          },
          "hoverlabel": {
           "align": "left"
          },
          "hovermode": "closest",
          "mapbox": {
           "style": "light"
          },
          "paper_bgcolor": "white",
          "plot_bgcolor": "#E5ECF6",
          "polar": {
           "angularaxis": {
            "gridcolor": "white",
            "linecolor": "white",
            "ticks": ""
           },
           "bgcolor": "#E5ECF6",
           "radialaxis": {
            "gridcolor": "white",
            "linecolor": "white",
            "ticks": ""
           }
          },
          "scene": {
           "xaxis": {
            "backgroundcolor": "#E5ECF6",
            "gridcolor": "white",
            "gridwidth": 2,
            "linecolor": "white",
            "showbackground": true,
            "ticks": "",
            "zerolinecolor": "white"
           },
           "yaxis": {
            "backgroundcolor": "#E5ECF6",
            "gridcolor": "white",
            "gridwidth": 2,
            "linecolor": "white",
            "showbackground": true,
            "ticks": "",
            "zerolinecolor": "white"
           },
           "zaxis": {
            "backgroundcolor": "#E5ECF6",
            "gridcolor": "white",
            "gridwidth": 2,
            "linecolor": "white",
            "showbackground": true,
            "ticks": "",
            "zerolinecolor": "white"
           }
          },
          "shapedefaults": {
           "line": {
            "color": "#2a3f5f"
           }
          },
          "ternary": {
           "aaxis": {
            "gridcolor": "white",
            "linecolor": "white",
            "ticks": ""
           },
           "baxis": {
            "gridcolor": "white",
            "linecolor": "white",
            "ticks": ""
           },
           "bgcolor": "#E5ECF6",
           "caxis": {
            "gridcolor": "white",
            "linecolor": "white",
            "ticks": ""
           }
          },
          "title": {
           "x": 0.05
          },
          "xaxis": {
           "automargin": true,
           "gridcolor": "white",
           "linecolor": "white",
           "ticks": "",
           "title": {
            "standoff": 15
           },
           "zerolinecolor": "white",
           "zerolinewidth": 2
          },
          "yaxis": {
           "automargin": true,
           "gridcolor": "white",
           "linecolor": "white",
           "ticks": "",
           "title": {
            "standoff": 15
           },
           "zerolinecolor": "white",
           "zerolinewidth": 2
          }
         }
        },
        "title": {
         "text": "3D Scatter Plot: Weight, Height, BMI and Predicted Medal"
        }
       }
      }
     },
     "metadata": {},
     "output_type": "display_data"
    }
   ],
   "source": [
    "# 3D Scatter plot\n",
    "fig = px.scatter_3d(data, x='Height', y='Weight', z='BMI', color='pred_medal',\n",
    "                    symbol='pred_medal', title='3D Scatter Plot: Weight, Height, BMI and Predicted Medal',\n",
    "                    labels={'Height': 'Height (cm)', 'Weight': 'Weight (kg)', 'BMI': 'BMI'})\n",
    "fig.show()\n"
   ]
  },
  {
   "cell_type": "code",
   "execution_count": 16,
   "metadata": {},
   "outputs": [
    {
     "data": {
      "application/vnd.plotly.v1+json": {
       "config": {
        "plotlyServerURL": "https://plot.ly"
       },
       "data": [
        {
         "alignmentgroup": "True",
         "box": {
          "visible": true
         },
         "customdata": [
          [
           172,
           67,
           22.647376960519203
          ],
          [
           172,
           67,
           22.647376960519203
          ],
          [
           172,
           67,
           22.647376960519203
          ],
          [
           186,
           102,
           29.48317724592438
          ],
          [
           165,
           69,
           25.34435261707989
          ],
          [
           181,
           59,
           18.009218277830346
          ],
          [
           170,
           73,
           25.25951557093426
          ],
          [
           181,
           80,
           24.41927902078691
          ],
          [
           187,
           72,
           20.58966513197403
          ],
          [
           185,
           80,
           23.37472607742878
          ],
          [
           198,
           79,
           20.15100499948985
          ],
          [
           198,
           79,
           20.15100499948985
          ],
          [
           180,
           62,
           19.1358024691358
          ],
          [
           191,
           82,
           22.47745401715962
          ],
          [
           174,
           68,
           22.46003435064077
          ],
          [
           191,
           85,
           23.299799895836188
          ],
          [
           171,
           56,
           19.15119181970521
          ],
          [
           180,
           62,
           19.1358024691358
          ],
          [
           180,
           62,
           19.1358024691358
          ],
          [
           180,
           62,
           19.1358024691358
          ],
          [
           180,
           68,
           20.98765432098765
          ],
          [
           180,
           68,
           20.98765432098765
          ],
          [
           180,
           68,
           20.98765432098765
          ],
          [
           185,
           83,
           24.25127830533236
          ],
          [
           185,
           83,
           24.25127830533236
          ],
          [
           207,
           120,
           28.00532101099209
          ],
          [
           196,
           128,
           33.31945022907122
          ],
          [
           198,
           77,
           19.64085297418631
          ],
          [
           198,
           77,
           19.64085297418631
          ],
          [
           198,
           77,
           19.64085297418631
          ],
          [
           185,
           80,
           23.37472607742878
          ],
          [
           185,
           120,
           35.06208911614317
          ],
          [
           180,
           74,
           22.839506172839503
          ],
          [
           180,
           74,
           22.839506172839503
          ],
          [
           180,
           74,
           22.839506172839503
          ],
          [
           172,
           61,
           20.61925365062196
          ],
          [
           170,
           60,
           20.761245674740486
          ],
          [
           160,
           45,
           17.578124999999996
          ],
          [
           164,
           55,
           20.449137418203453
          ],
          [
           164,
           55,
           20.449137418203453
          ],
          [
           166,
           53,
           19.23356074902017
          ],
          [
           178,
           57,
           17.99015275849009
          ],
          [
           173,
           58,
           19.37919743392696
          ],
          [
           170,
           60,
           20.761245674740486
          ],
          [
           166,
           47,
           17.056176513282043
          ],
          [
           166,
           47,
           17.056176513282043
          ],
          [
           166,
           47,
           17.056176513282043
          ],
          [
           175,
           70,
           22.857142857142858
          ],
          [
           170,
           75,
           25.95155709342561
          ],
          [
           170,
           75,
           25.95155709342561
          ],
          [
           170,
           75,
           25.95155709342561
          ],
          [
           175,
           64,
           20.897959183673468
          ],
          [
           175,
           64,
           20.897959183673468
          ],
          [
           170,
           74,
           25.60553633217993
          ],
          [
           170,
           74,
           25.60553633217993
          ],
          [
           176,
           65,
           20.983987603305785
          ],
          [
           176,
           65,
           20.983987603305785
          ],
          [
           176,
           65,
           20.983987603305785
          ],
          [
           156,
           45,
           18.49112426035503
          ],
          [
           179,
           66,
           20.598608033457133
          ],
          [
           172,
           95,
           32.11195240670633
          ],
          [
           172,
           95,
           32.11195240670633
          ],
          [
           194,
           88,
           23.381868423849507
          ],
          [
           194,
           88,
           23.381868423849507
          ],
          [
           194,
           88,
           23.381868423849507
          ],
          [
           173,
           70,
           23.38868655818771
          ],
          [
           156,
           51,
           20.95660749506904
          ],
          [
           198,
           93,
           23.72206917661463
          ],
          [
           179,
           72,
           22.47120876377142
          ],
          [
           198,
           88,
           22.44668911335578
          ],
          [
           165,
           56,
           20.56932966023876
          ],
          [
           168,
           52,
           18.42403628117914
          ],
          [
           185,
           91,
           26.58875091307524
          ],
          [
           186,
           91,
           26.30361891548156
          ],
          [
           156,
           49,
           20.134779750164363
          ],
          [
           152,
           49,
           21.208448753462605
          ],
          [
           185,
           81,
           23.66691015339664
          ],
          [
           185,
           81,
           23.66691015339664
          ],
          [
           172,
           64,
           21.63331530557058
          ],
          [
           174,
           60,
           19.817677368212443
          ],
          [
           170,
           60,
           20.761245674740486
          ],
          [
           180,
           75,
           23.148148148148145
          ],
          [
           198,
           101,
           25.7626772778288
          ],
          [
           179,
           69,
           21.53490839861428
          ],
          [
           180,
           69,
           21.29629629629629
          ],
          [
           160,
           50,
           19.53125
          ],
          [
           173,
           60,
           20.04744562130375
          ],
          [
           180,
           75,
           23.148148148148145
          ],
          [
           180,
           75,
           23.148148148148145
          ],
          [
           187,
           85,
           24.307243558580453
          ],
          [
           171,
           65,
           22.229061933586404
          ],
          [
           175,
           75,
           24.489795918367346
          ],
          [
           185,
           95,
           27.757487216946675
          ],
          [
           185,
           95,
           27.757487216946675
          ],
          [
           185,
           95,
           27.757487216946675
          ],
          [
           175,
           70,
           22.857142857142858
          ],
          [
           176,
           80,
           25.82644628099173
          ],
          [
           176,
           80,
           25.82644628099173
          ],
          [
           178,
           89,
           28.08988764044944
          ],
          [
           184,
           90,
           26.583175803402646
          ],
          [
           192,
           95,
           25.77039930555556
          ],
          [
           173,
           69,
           23.05456246449932
          ],
          [
           181,
           67,
           20.45114617990904
          ],
          [
           181,
           67,
           20.45114617990904
          ],
          [
           173,
           61,
           20.381569714992143
          ],
          [
           186,
           70,
           20.23355301190889
          ],
          [
           177,
           90,
           28.72737719046251
          ],
          [
           180,
           74,
           22.839506172839503
          ],
          [
           165,
           65,
           23.875114784205696
          ],
          [
           166,
           50,
           18.144868631151112
          ],
          [
           166,
           50,
           18.144868631151112
          ],
          [
           176,
           64,
           20.66115702479339
          ],
          [
           176,
           64,
           20.66115702479339
          ],
          [
           176,
           64,
           20.66115702479339
          ],
          [
           170,
           59,
           20.41522491349481
          ],
          [
           167,
           56,
           20.07960127648894
          ],
          [
           170,
           59,
           20.41522491349481
          ],
          [
           170,
           72,
           24.913494809688583
          ],
          [
           167,
           61,
           21.8724228190326
          ],
          [
           168,
           60,
           21.258503401360542
          ],
          [
           168,
           60,
           21.258503401360542
          ],
          [
           172,
           70,
           23.661438615467823
          ],
          [
           167,
           58,
           20.7967298935064
          ],
          [
           167,
           58,
           20.7967298935064
          ],
          [
           167,
           58,
           20.7967298935064
          ],
          [
           167,
           62,
           22.23098712754133
          ],
          [
           168,
           55,
           19.48696145124717
          ],
          [
           168,
           55,
           19.48696145124717
          ],
          [
           163,
           59,
           22.20633068613798
          ],
          [
           190,
           76,
           21.05263157894737
          ],
          [
           180,
           70,
           21.604938271604937
          ],
          [
           193,
           80,
           21.47708663319821
          ],
          [
           180,
           74,
           22.839506172839503
          ],
          [
           188,
           85,
           24.049343594386603
          ],
          [
           167,
           56,
           20.07960127648894
          ],
          [
           167,
           56,
           20.07960127648894
          ],
          [
           167,
           56,
           20.07960127648894
          ],
          [
           170,
           68,
           23.529411764705884
          ],
          [
           183,
           74,
           22.096807907073963
          ],
          [
           183,
           74,
           22.096807907073963
          ],
          [
           176,
           64,
           20.66115702479339
          ],
          [
           172,
           72,
           24.337479718766904
          ],
          [
           173,
           71,
           23.722810651876102
          ],
          [
           193,
           86,
           23.087868130688072
          ],
          [
           193,
           86,
           23.087868130688072
          ],
          [
           170,
           85,
           29.411764705882355
          ],
          [
           170,
           85,
           29.411764705882355
          ],
          [
           163,
           60,
           22.582709172343712
          ],
          [
           162,
           61,
           23.243408017070564
          ],
          [
           140,
           33,
           16.836734693877553
          ],
          [
           148,
           37,
           16.89189189189189
          ],
          [
           188,
           88,
           24.898143956541425
          ],
          [
           168,
           65,
           23.030045351473927
          ],
          [
           180,
           77,
           23.76543209876543
          ],
          [
           172,
           63,
           21.29529475392104
          ],
          [
           172,
           60,
           20.28123309897241
          ],
          [
           189,
           108,
           30.234315948601665
          ],
          [
           181,
           81,
           24.724520008546747
          ],
          [
           193,
           120,
           32.21562994979731
          ],
          [
           193,
           120,
           32.21562994979731
          ],
          [
           170,
           73,
           25.25951557093426
          ],
          [
           180,
           81,
           25
          ],
          [
           185,
           90,
           26.29656683710737
          ],
          [
           156,
           48,
           19.72386587771203
          ],
          [
           178,
           78,
           24.61810377477591
          ],
          [
           178,
           78,
           24.61810377477591
          ],
          [
           178,
           78,
           24.61810377477591
          ],
          [
           160,
           52,
           20.3125
          ],
          [
           169,
           63,
           22.05805118868388
          ],
          [
           172,
           108,
           36.50621957815036
          ],
          [
           182,
           128,
           38.64267600531336
          ],
          [
           173,
           70,
           23.38868655818771
          ],
          [
           178,
           64,
           20.199469763918696
          ],
          [
           180,
           60,
           18.51851851851852
          ],
          [
           168,
           55,
           19.48696145124717
          ],
          [
           170,
           53,
           18.339100346020764
          ],
          [
           173,
           49,
           16.372080590731397
          ],
          [
           173,
           49,
           16.372080590731397
          ],
          [
           197,
           100,
           25.76721894405937
          ],
          [
           197,
           95,
           24.4788579968564
          ],
          [
           188,
           86,
           24.332277048438208
          ],
          [
           198,
           90,
           22.95684113865932
          ],
          [
           193,
           84,
           22.55094096485812
          ],
          [
           187,
           70,
           20.0177299894192
          ],
          [
           181,
           69,
           21.06162815542871
          ],
          [
           194,
           95,
           25.241789775746625
          ],
          [
           190,
           74,
           20.498614958448755
          ],
          [
           183,
           86,
           25.68007405416704
          ],
          [
           176,
           66,
           21.306818181818183
          ],
          [
           180,
           72,
           22.22222222222222
          ],
          [
           173,
           57,
           19.045073340238563
          ],
          [
           182,
           74,
           22.34029706557179
          ],
          [
           170,
           62,
           21.45328719723184
          ],
          [
           180,
           76,
           23.456790123456788
          ],
          [
           182,
           92,
           27.77442337881898
          ],
          [
           165,
           68,
           24.977043158861346
          ],
          [
           183,
           81,
           24.187046492878256
          ],
          [
           191,
           98,
           26.863298703434666
          ],
          [
           191,
           98,
           26.863298703434666
          ],
          [
           185,
           80,
           23.37472607742878
          ],
          [
           185,
           80,
           23.37472607742878
          ],
          [
           181,
           80,
           24.41927902078691
          ],
          [
           184,
           74,
           21.85727788279773
          ],
          [
           186,
           72,
           20.811654526534856
          ],
          [
           186,
           72,
           20.811654526534856
          ],
          [
           186,
           72,
           20.811654526534856
          ],
          [
           167,
           57,
           20.43816558499767
          ],
          [
           170,
           68,
           23.529411764705884
          ],
          [
           166,
           60,
           21.773842357381334
          ],
          [
           179,
           66,
           20.598608033457133
          ],
          [
           159,
           56,
           22.15102250702108
          ],
          [
           159,
           56,
           22.15102250702108
          ],
          [
           167,
           75,
           26.89232313815483
          ],
          [
           171,
           73,
           24.96494647925858
          ],
          [
           173,
           71,
           23.722810651876102
          ],
          [
           173,
           71,
           23.722810651876102
          ],
          [
           183,
           83,
           24.78425751739377
          ],
          [
           179,
           80,
           24.9680097375238
          ],
          [
           179,
           80,
           24.9680097375238
          ],
          [
           179,
           88,
           27.46481071127618
          ],
          [
           172,
           78,
           26.365603028664147
          ],
          [
           172,
           78,
           26.365603028664147
          ],
          [
           172,
           78,
           26.365603028664147
          ],
          [
           180,
           80,
           24.69135802469136
          ],
          [
           168,
           93,
           32.95068027210885
          ],
          [
           184,
           79,
           23.334120982986768
          ],
          [
           183,
           64,
           19.1107527844964
          ],
          [
           191,
           95,
           26.040952824758094
          ],
          [
           180,
           80,
           24.69135802469136
          ],
          [
           184,
           82,
           24.22022684310019
          ],
          [
           194,
           90,
           23.91327452439154
          ],
          [
           187,
           72,
           20.58966513197403
          ],
          [
           188,
           71,
           20.088275237664103
          ],
          [
           180,
           76,
           23.456790123456788
          ],
          [
           188,
           71,
           20.088275237664103
          ],
          [
           186,
           74,
           21.389756041160823
          ],
          [
           191,
           74,
           20.28453167402209
          ],
          [
           191,
           74,
           20.28453167402209
          ],
          [
           191,
           74,
           20.28453167402209
          ],
          [
           185,
           70,
           20.45288531775018
          ],
          [
           183,
           77,
           22.99262444384723
          ],
          [
           172,
           59,
           19.94321254732288
          ],
          [
           197,
           92,
           23.70584142853462
          ],
          [
           197,
           92,
           23.70584142853462
          ],
          [
           197,
           92,
           23.70584142853462
          ],
          [
           165,
           52,
           19.10009182736456
          ],
          [
           165,
           52,
           19.10009182736456
          ],
          [
           173,
           61,
           20.381569714992143
          ],
          [
           174,
           61,
           20.147971991015982
          ],
          [
           167,
           54,
           19.362472659471475
          ],
          [
           185,
           68,
           19.86851716581446
          ],
          [
           185,
           68,
           19.86851716581446
          ],
          [
           185,
           68,
           19.86851716581446
          ],
          [
           173,
           61,
           20.381569714992143
          ],
          [
           173,
           61,
           20.381569714992143
          ],
          [
           173,
           61,
           20.381569714992143
          ],
          [
           173,
           65,
           21.71806608974573
          ],
          [
           173,
           74,
           24.72518293294129
          ],
          [
           172,
           70,
           23.661438615467823
          ],
          [
           180,
           77,
           23.76543209876543
          ],
          [
           169,
           55,
           19.257028815517668
          ],
          [
           169,
           55,
           19.257028815517668
          ],
          [
           169,
           55,
           19.257028815517668
          ],
          [
           176,
           65,
           20.983987603305785
          ],
          [
           172,
           63,
           21.29529475392104
          ],
          [
           172,
           63,
           21.29529475392104
          ],
          [
           172,
           63,
           21.29529475392104
          ],
          [
           161,
           55,
           21.218317194552675
          ],
          [
           150,
           45,
           20
          ],
          [
           182,
           59,
           17.81185847119913
          ],
          [
           197,
           80,
           20.61377515524749
          ],
          [
           185,
           57,
           16.654492330168004
          ],
          [
           174,
           57,
           18.826793499801823
          ],
          [
           173,
           49,
           16.372080590731397
          ],
          [
           178,
           80,
           25.24933720489837
          ],
          [
           178,
           80,
           25.24933720489837
          ],
          [
           176,
           65,
           20.983987603305785
          ],
          [
           188,
           86,
           24.332277048438208
          ],
          [
           188,
           86,
           24.332277048438208
          ],
          [
           183,
           70,
           20.902385858042937
          ],
          [
           177,
           65,
           20.747550193111813
          ],
          [
           170,
           64,
           22.145328719723185
          ],
          [
           170,
           59,
           20.41522491349481
          ],
          [
           170,
           59,
           20.41522491349481
          ],
          [
           170,
           59,
           20.41522491349481
          ],
          [
           202,
           100,
           24.50740123517302
          ],
          [
           193,
           82,
           22.014013799028163
          ],
          [
           190,
           88,
           24.37673130193906
          ],
          [
           178,
           86,
           27.143037495265748
          ],
          [
           159,
           56,
           22.15102250702108
          ],
          [
           159,
           56,
           22.15102250702108
          ],
          [
           159,
           56,
           22.15102250702108
          ],
          [
           160,
           62,
           24.21875
          ],
          [
           160,
           62,
           24.21875
          ],
          [
           160,
           62,
           24.21875
          ],
          [
           180,
           105,
           32.407407407407405
          ],
          [
           175,
           85,
           27.755102040816325
          ],
          [
           170,
           97,
           33.564013840830455
          ],
          [
           165,
           64,
           23.507805325987142
          ],
          [
           172,
           94,
           31.77393185505679
          ],
          [
           172,
           94,
           31.77393185505679
          ],
          [
           172,
           94,
           31.77393185505679
          ],
          [
           165,
           77,
           28.282828282828287
          ],
          [
           197,
           160,
           41.22755031049499
          ],
          [
           182,
           130,
           39.24646781789639
          ],
          [
           169,
           75,
           26.25958474843318
          ],
          [
           169,
           75,
           26.25958474843318
          ],
          [
           155,
           58,
           24.14151925078044
          ],
          [
           160,
           63,
           24.609375
          ],
          [
           178,
           141,
           44.50195682363338
          ],
          [
           168,
           65,
           23.030045351473927
          ],
          [
           160,
           59,
           23.046875
          ],
          [
           183,
           97,
           28.96473468900236
          ],
          [
           180,
           98,
           30.24691358024691
          ],
          [
           177,
           86,
           27.4506048708864
          ],
          [
           178,
           85,
           26.82742078020452
          ],
          [
           178,
           85,
           26.82742078020452
          ],
          [
           167,
           60,
           21.513858510523864
          ],
          [
           173,
           74,
           24.72518293294129
          ],
          [
           170,
           74,
           25.60553633217993
          ],
          [
           180,
           125,
           38.58024691358025
          ],
          [
           187,
           130,
           37.17578426606422
          ],
          [
           192,
           130,
           35.26475694444444
          ],
          [
           187,
           130,
           37.17578426606422
          ],
          [
           172,
           65,
           21.97133585722012
          ],
          [
           170,
           74,
           25.60553633217993
          ],
          [
           170,
           80,
           27.68166089965398
          ],
          [
           170,
           66,
           22.837370242214536
          ],
          [
           151,
           48,
           21.05170825840972
          ],
          [
           169,
           73,
           25.55932915514163
          ],
          [
           172,
           69,
           23.323418063818284
          ],
          [
           160,
           58,
           22.65625
          ],
          [
           160,
           61,
           23.828125
          ],
          [
           167,
           63,
           22.58955143605005
          ]
         ],
         "hovertemplate": "pred_medal=%{x}<br>Age=%{y}<br>Height=%{customdata[0]}<br>Weight=%{customdata[1]}<br>BMI=%{customdata[2]}<extra></extra>",
         "legendgroup": "Bronze",
         "marker": {
          "color": "#636efa"
         },
         "name": "Bronze",
         "offsetgroup": "Bronze",
         "orientation": "v",
         "points": "all",
         "scalegroup": "True",
         "showlegend": true,
         "type": "violin",
         "x": [
          "Bronze",
          "Bronze",
          "Bronze",
          "Bronze",
          "Bronze",
          "Bronze",
          "Bronze",
          "Bronze",
          "Bronze",
          "Bronze",
          "Bronze",
          "Bronze",
          "Bronze",
          "Bronze",
          "Bronze",
          "Bronze",
          "Bronze",
          "Bronze",
          "Bronze",
          "Bronze",
          "Bronze",
          "Bronze",
          "Bronze",
          "Bronze",
          "Bronze",
          "Bronze",
          "Bronze",
          "Bronze",
          "Bronze",
          "Bronze",
          "Bronze",
          "Bronze",
          "Bronze",
          "Bronze",
          "Bronze",
          "Bronze",
          "Bronze",
          "Bronze",
          "Bronze",
          "Bronze",
          "Bronze",
          "Bronze",
          "Bronze",
          "Bronze",
          "Bronze",
          "Bronze",
          "Bronze",
          "Bronze",
          "Bronze",
          "Bronze",
          "Bronze",
          "Bronze",
          "Bronze",
          "Bronze",
          "Bronze",
          "Bronze",
          "Bronze",
          "Bronze",
          "Bronze",
          "Bronze",
          "Bronze",
          "Bronze",
          "Bronze",
          "Bronze",
          "Bronze",
          "Bronze",
          "Bronze",
          "Bronze",
          "Bronze",
          "Bronze",
          "Bronze",
          "Bronze",
          "Bronze",
          "Bronze",
          "Bronze",
          "Bronze",
          "Bronze",
          "Bronze",
          "Bronze",
          "Bronze",
          "Bronze",
          "Bronze",
          "Bronze",
          "Bronze",
          "Bronze",
          "Bronze",
          "Bronze",
          "Bronze",
          "Bronze",
          "Bronze",
          "Bronze",
          "Bronze",
          "Bronze",
          "Bronze",
          "Bronze",
          "Bronze",
          "Bronze",
          "Bronze",
          "Bronze",
          "Bronze",
          "Bronze",
          "Bronze",
          "Bronze",
          "Bronze",
          "Bronze",
          "Bronze",
          "Bronze",
          "Bronze",
          "Bronze",
          "Bronze",
          "Bronze",
          "Bronze",
          "Bronze",
          "Bronze",
          "Bronze",
          "Bronze",
          "Bronze",
          "Bronze",
          "Bronze",
          "Bronze",
          "Bronze",
          "Bronze",
          "Bronze",
          "Bronze",
          "Bronze",
          "Bronze",
          "Bronze",
          "Bronze",
          "Bronze",
          "Bronze",
          "Bronze",
          "Bronze",
          "Bronze",
          "Bronze",
          "Bronze",
          "Bronze",
          "Bronze",
          "Bronze",
          "Bronze",
          "Bronze",
          "Bronze",
          "Bronze",
          "Bronze",
          "Bronze",
          "Bronze",
          "Bronze",
          "Bronze",
          "Bronze",
          "Bronze",
          "Bronze",
          "Bronze",
          "Bronze",
          "Bronze",
          "Bronze",
          "Bronze",
          "Bronze",
          "Bronze",
          "Bronze",
          "Bronze",
          "Bronze",
          "Bronze",
          "Bronze",
          "Bronze",
          "Bronze",
          "Bronze",
          "Bronze",
          "Bronze",
          "Bronze",
          "Bronze",
          "Bronze",
          "Bronze",
          "Bronze",
          "Bronze",
          "Bronze",
          "Bronze",
          "Bronze",
          "Bronze",
          "Bronze",
          "Bronze",
          "Bronze",
          "Bronze",
          "Bronze",
          "Bronze",
          "Bronze",
          "Bronze",
          "Bronze",
          "Bronze",
          "Bronze",
          "Bronze",
          "Bronze",
          "Bronze",
          "Bronze",
          "Bronze",
          "Bronze",
          "Bronze",
          "Bronze",
          "Bronze",
          "Bronze",
          "Bronze",
          "Bronze",
          "Bronze",
          "Bronze",
          "Bronze",
          "Bronze",
          "Bronze",
          "Bronze",
          "Bronze",
          "Bronze",
          "Bronze",
          "Bronze",
          "Bronze",
          "Bronze",
          "Bronze",
          "Bronze",
          "Bronze",
          "Bronze",
          "Bronze",
          "Bronze",
          "Bronze",
          "Bronze",
          "Bronze",
          "Bronze",
          "Bronze",
          "Bronze",
          "Bronze",
          "Bronze",
          "Bronze",
          "Bronze",
          "Bronze",
          "Bronze",
          "Bronze",
          "Bronze",
          "Bronze",
          "Bronze",
          "Bronze",
          "Bronze",
          "Bronze",
          "Bronze",
          "Bronze",
          "Bronze",
          "Bronze",
          "Bronze",
          "Bronze",
          "Bronze",
          "Bronze",
          "Bronze",
          "Bronze",
          "Bronze",
          "Bronze",
          "Bronze",
          "Bronze",
          "Bronze",
          "Bronze",
          "Bronze",
          "Bronze",
          "Bronze",
          "Bronze",
          "Bronze",
          "Bronze",
          "Bronze",
          "Bronze",
          "Bronze",
          "Bronze",
          "Bronze",
          "Bronze",
          "Bronze",
          "Bronze",
          "Bronze",
          "Bronze",
          "Bronze",
          "Bronze",
          "Bronze",
          "Bronze",
          "Bronze",
          "Bronze",
          "Bronze",
          "Bronze",
          "Bronze",
          "Bronze",
          "Bronze",
          "Bronze",
          "Bronze",
          "Bronze",
          "Bronze",
          "Bronze",
          "Bronze",
          "Bronze",
          "Bronze",
          "Bronze",
          "Bronze",
          "Bronze",
          "Bronze",
          "Bronze",
          "Bronze",
          "Bronze",
          "Bronze",
          "Bronze",
          "Bronze",
          "Bronze",
          "Bronze",
          "Bronze",
          "Bronze",
          "Bronze",
          "Bronze",
          "Bronze",
          "Bronze",
          "Bronze",
          "Bronze",
          "Bronze",
          "Bronze",
          "Bronze",
          "Bronze",
          "Bronze",
          "Bronze",
          "Bronze",
          "Bronze",
          "Bronze",
          "Bronze",
          "Bronze",
          "Bronze",
          "Bronze",
          "Bronze",
          "Bronze",
          "Bronze",
          "Bronze",
          "Bronze",
          "Bronze",
          "Bronze",
          "Bronze",
          "Bronze",
          "Bronze",
          "Bronze",
          "Bronze",
          "Bronze"
         ],
         "x0": " ",
         "xaxis": "x",
         "y": [
          27,
          27,
          27,
          25,
          26,
          24,
          24,
          29,
          24,
          25,
          24,
          24,
          20,
          21,
          24,
          29,
          22,
          28,
          28,
          28,
          21,
          21,
          21,
          26,
          26,
          26,
          27,
          26,
          26,
          26,
          23,
          24,
          27,
          27,
          27,
          19,
          28,
          22,
          20,
          20,
          29,
          31,
          25,
          29,
          24,
          24,
          24,
          26,
          25,
          25,
          25,
          27,
          27,
          21,
          21,
          26,
          26,
          26,
          26,
          19,
          27,
          27,
          22,
          22,
          22,
          21,
          21,
          23,
          26,
          26,
          26,
          19,
          28,
          24,
          23,
          19,
          23,
          27,
          25,
          21,
          28,
          23,
          24,
          25,
          23,
          27,
          23,
          26,
          26,
          21,
          28,
          28,
          29,
          29,
          29,
          29,
          27,
          27,
          30,
          30,
          28,
          23,
          24,
          24,
          26,
          25,
          30,
          19,
          25,
          35,
          35,
          26,
          26,
          26,
          24,
          26,
          24,
          23,
          29,
          20,
          20,
          23,
          19,
          19,
          19,
          20,
          23,
          23,
          28,
          34,
          34,
          26,
          22,
          36,
          27,
          27,
          27,
          30,
          26,
          26,
          25,
          21,
          23,
          38,
          38,
          26,
          26,
          20,
          21,
          16,
          16,
          29,
          24,
          22,
          26,
          22,
          28,
          22,
          25,
          25,
          24,
          29,
          25,
          21,
          25,
          25,
          25,
          27,
          27,
          25,
          29,
          26,
          26,
          25,
          24,
          25,
          23,
          23,
          29,
          29,
          30,
          21,
          26,
          24,
          27,
          29,
          25,
          23,
          22,
          29,
          27,
          24,
          27,
          27,
          29,
          27,
          25,
          25,
          25,
          26,
          26,
          28,
          32,
          27,
          27,
          27,
          23,
          25,
          27,
          29,
          31,
          31,
          30,
          21,
          26,
          26,
          52,
          28,
          28,
          24,
          21,
          21,
          21,
          33,
          47,
          21,
          20,
          30,
          24,
          22,
          25,
          23,
          19,
          23,
          19,
          19,
          22,
          22,
          22,
          22,
          22,
          23,
          30,
          30,
          30,
          33,
          33,
          20,
          27,
          23,
          16,
          16,
          16,
          25,
          25,
          25,
          24,
          19,
          22,
          22,
          25,
          25,
          25,
          25,
          27,
          27,
          27,
          21,
          15,
          21,
          25,
          18,
          23,
          18,
          20,
          20,
          22,
          26,
          26,
          26,
          29,
          24,
          24,
          24,
          24,
          29,
          23,
          22,
          29,
          20,
          20,
          20,
          25,
          25,
          25,
          23,
          22,
          27,
          21,
          25,
          25,
          25,
          26,
          22,
          31,
          31,
          31,
          18,
          23,
          28,
          25,
          24,
          31,
          30,
          20,
          25,
          25,
          33,
          29,
          25,
          31,
          20,
          27,
          20,
          24,
          26,
          26,
          22,
          21,
          29,
          24,
          27,
          21,
          36
         ],
         "y0": " ",
         "yaxis": "y"
        },
        {
         "alignmentgroup": "True",
         "box": {
          "visible": true
         },
         "customdata": [
          [
           185,
           77,
           22.4981738495252
          ],
          [
           180,
           68,
           20.98765432098765
          ],
          [
           168,
           47,
           16.65249433106576
          ],
          [
           168,
           47,
           16.65249433106576
          ],
          [
           177,
           70,
           22.34351559258195
          ],
          [
           182,
           77,
           23.24598478444632
          ],
          [
           182,
           77,
           23.24598478444632
          ],
          [
           175,
           55,
           17.959183673469386
          ],
          [
           188,
           84,
           23.766410140335
          ],
          [
           180,
           74,
           22.839506172839503
          ],
          [
           195,
           79,
           20.77580539119001
          ],
          [
           175,
           72,
           23.51020408163265
          ],
          [
           175,
           72,
           23.51020408163265
          ],
          [
           175,
           57,
           18.612244897959183
          ],
          [
           175,
           57,
           18.612244897959183
          ],
          [
           186,
           77,
           22.25690831309978
          ],
          [
           175,
           94,
           30.693877551020407
          ],
          [
           175,
           94,
           30.693877551020407
          ],
          [
           175,
           67,
           21.877551020408163
          ],
          [
           175,
           67,
           21.877551020408163
          ],
          [
           175,
           67,
           21.877551020408163
          ],
          [
           183,
           134,
           40.01313864253934
          ],
          [
           160,
           50,
           19.53125
          ],
          [
           168,
           52,
           18.42403628117914
          ],
          [
           165,
           63,
           23.1404958677686
          ],
          [
           170,
           65,
           22.49134948096886
          ],
          [
           162,
           47,
           17.908855357415025
          ],
          [
           162,
           53,
           20.19509221155312
          ],
          [
           160,
           55,
           21.484375
          ],
          [
           168,
           65,
           23.030045351473927
          ],
          [
           173,
           61,
           20.381569714992143
          ],
          [
           166,
           60,
           21.773842357381334
          ],
          [
           166,
           60,
           21.773842357381334
          ],
          [
           166,
           60,
           21.773842357381334
          ],
          [
           180,
           85,
           26.234567901234566
          ],
          [
           180,
           85,
           26.234567901234566
          ],
          [
           180,
           58,
           17.901234567901234
          ],
          [
           180,
           58,
           17.901234567901234
          ],
          [
           173,
           62,
           20.715693808680545
          ],
          [
           192,
           72,
           19.53125
          ],
          [
           192,
           72,
           19.53125
          ],
          [
           192,
           72,
           19.53125
          ],
          [
           180,
           70,
           21.604938271604937
          ],
          [
           177,
           77,
           24.577867151840145
          ],
          [
           175,
           80,
           26.12244897959184
          ],
          [
           175,
           68,
           22.20408163265306
          ],
          [
           166,
           56,
           20.322252866889244
          ],
          [
           179,
           65,
           20.286507911738084
          ],
          [
           199,
           96,
           24.24181207545264
          ],
          [
           191,
           78,
           21.380992845590857
          ],
          [
           183,
           77,
           22.99262444384723
          ],
          [
           178,
           67,
           21.146319909102385
          ],
          [
           182,
           70,
           21.132713440405748
          ],
          [
           173,
           56,
           18.710949246550168
          ],
          [
           168,
           52,
           18.42403628117914
          ],
          [
           165,
           49,
           17.99816345270891
          ],
          [
           185,
           64,
           18.699780861943022
          ],
          [
           177,
           75,
           23.93948099205209
          ],
          [
           200,
           105,
           26.25
          ],
          [
           174,
           69,
           22.79032897344431
          ],
          [
           158,
           51,
           20.429418362441915
          ],
          [
           158,
           51,
           20.429418362441915
          ],
          [
           167,
           60,
           21.513858510523864
          ],
          [
           180,
           75,
           23.148148148148145
          ],
          [
           193,
           93,
           24.967113211092915
          ],
          [
           193,
           93,
           24.967113211092915
          ],
          [
           175,
           85,
           27.755102040816325
          ],
          [
           196,
           83,
           21.60558100791337
          ],
          [
           189,
           90,
           25.195263290501387
          ],
          [
           199,
           95,
           23.98929319966668
          ],
          [
           174,
           80,
           26.42356982428326
          ],
          [
           191,
           94,
           25.766837531865903
          ],
          [
           191,
           94,
           25.766837531865903
          ],
          [
           191,
           94,
           25.766837531865903
          ],
          [
           177,
           70,
           22.34351559258195
          ],
          [
           167,
           70,
           25.099501595611173
          ],
          [
           178,
           70,
           22.09317005428608
          ],
          [
           165,
           63,
           23.1404958677686
          ],
          [
           169,
           70,
           24.508945765204302
          ],
          [
           169,
           70,
           24.508945765204302
          ],
          [
           169,
           70,
           24.508945765204302
          ],
          [
           172,
           68,
           22.985397512168745
          ],
          [
           172,
           68,
           22.985397512168745
          ],
          [
           172,
           68,
           22.985397512168745
          ],
          [
           180,
           88,
           27.160493827160494
          ],
          [
           180,
           88,
           27.160493827160494
          ],
          [
           180,
           88,
           27.160493827160494
          ],
          [
           187,
           93,
           26.59498412879979
          ],
          [
           178,
           65,
           20.515086478979924
          ],
          [
           188,
           90,
           25.46401086464464
          ],
          [
           188,
           90,
           25.46401086464464
          ],
          [
           188,
           90,
           25.46401086464464
          ],
          [
           175,
           70,
           22.857142857142858
          ],
          [
           175,
           70,
           22.857142857142858
          ],
          [
           175,
           70,
           22.857142857142858
          ],
          [
           183,
           69,
           20.603780345785182
          ],
          [
           171,
           65,
           22.229061933586404
          ],
          [
           171,
           65,
           22.229061933586404
          ],
          [
           181,
           74,
           22.587833094227893
          ],
          [
           185,
           93,
           27.173119065010955
          ],
          [
           184,
           77,
           22.74338374291116
          ],
          [
           180,
           83,
           25.61728395061728
          ],
          [
           180,
           83,
           25.61728395061728
          ],
          [
           180,
           83,
           25.61728395061728
          ],
          [
           158,
           58,
           23.233456176894723
          ],
          [
           158,
           58,
           23.233456176894723
          ],
          [
           171,
           66,
           22.571047501795427
          ],
          [
           176,
           74,
           23.889462809917354
          ],
          [
           188,
           80,
           22.634676324128566
          ],
          [
           173,
           68,
           22.72043837081092
          ],
          [
           175,
           77,
           25.142857142857142
          ],
          [
           175,
           77,
           25.142857142857142
          ],
          [
           175,
           77,
           25.142857142857142
          ],
          [
           150,
           48,
           21.33333333333333
          ],
          [
           163,
           57,
           21.453573713726524
          ],
          [
           173,
           75,
           25.05930702662969
          ],
          [
           173,
           66,
           22.052190183434128
          ],
          [
           168,
           65,
           23.030045351473927
          ],
          [
           190,
           80,
           22.1606648199446
          ],
          [
           177,
           77,
           24.577867151840145
          ],
          [
           177,
           77,
           24.577867151840145
          ],
          [
           177,
           77,
           24.577867151840145
          ],
          [
           173,
           74,
           24.72518293294129
          ],
          [
           173,
           74,
           24.72518293294129
          ],
          [
           173,
           74,
           24.72518293294129
          ],
          [
           190,
           70,
           19.390581717451525
          ],
          [
           184,
           76,
           22.448015122873343
          ],
          [
           169,
           75,
           26.25958474843318
          ],
          [
           165,
           65,
           23.875114784205696
          ],
          [
           167,
           50,
           17.92821542543655
          ],
          [
           176,
           66,
           21.306818181818183
          ],
          [
           176,
           66,
           21.306818181818183
          ],
          [
           184,
           80,
           23.62948960302457
          ],
          [
           168,
           65,
           23.030045351473927
          ],
          [
           188,
           86,
           24.332277048438208
          ],
          [
           166,
           67,
           24.31412396574249
          ],
          [
           170,
           59,
           20.41522491349481
          ],
          [
           151,
           44,
           19.29739923687557
          ],
          [
           152,
           49,
           21.208448753462605
          ],
          [
           190,
           92,
           25.48476454293629
          ],
          [
           177,
           73,
           23.301094832264035
          ],
          [
           174,
           69,
           22.79032897344431
          ],
          [
           181,
           69,
           21.06162815542871
          ],
          [
           167,
           60,
           21.513858510523864
          ],
          [
           186,
           100,
           28.90507573129841
          ],
          [
           169,
           66,
           23.1084345786212
          ],
          [
           169,
           66,
           23.1084345786212
          ],
          [
           191,
           125,
           34.264411611523805
          ],
          [
           179,
           73,
           22.783308885490467
          ],
          [
           187,
           94,
           26.88095170007721
          ],
          [
           153,
           51,
           21.78649237472767
          ],
          [
           153,
           51,
           21.78649237472767
          ],
          [
           160,
           52,
           20.3125
          ],
          [
           164,
           66,
           24.538964901844142
          ],
          [
           160,
           59,
           23.046875
          ],
          [
           160,
           59,
           23.046875
          ],
          [
           192,
           78,
           21.158854166666668
          ],
          [
           182,
           69,
           20.830817534114235
          ],
          [
           169,
           56,
           19.607156612163443
          ],
          [
           190,
           93,
           25.7617728531856
          ],
          [
           194,
           92,
           24.44468062493357
          ],
          [
           196,
           94,
           24.46897126197418
          ],
          [
           202,
           110,
           26.958141358690323
          ],
          [
           202,
           110,
           26.958141358690323
          ],
          [
           182,
           73,
           22.03840115928028
          ],
          [
           177,
           70,
           22.34351559258195
          ],
          [
           187,
           90,
           25.737081414967538
          ],
          [
           190,
           92,
           25.48476454293629
          ],
          [
           190,
           92,
           25.48476454293629
          ],
          [
           190,
           92,
           25.48476454293629
          ],
          [
           178,
           75,
           23.671253629592226
          ],
          [
           183,
           73,
           21.798202394816204
          ],
          [
           183,
           73,
           21.798202394816204
          ],
          [
           182,
           74,
           22.34029706557179
          ],
          [
           165,
           59,
           21.6712580348944
          ],
          [
           170,
           66,
           22.837370242214536
          ],
          [
           183,
           71,
           21.20099137030069
          ],
          [
           176,
           86,
           27.76342975206612
          ],
          [
           168,
           75,
           26.573129251700685
          ],
          [
           178,
           81,
           25.5649539199596
          ],
          [
           193,
           75,
           20.13476871862332
          ],
          [
           168,
           65,
           23.030045351473927
          ],
          [
           168,
           65,
           23.030045351473927
          ],
          [
           184,
           72,
           21.26654064272212
          ],
          [
           178,
           74,
           23.355636914531
          ],
          [
           172,
           63,
           21.29529475392104
          ],
          [
           170,
           59,
           20.41522491349481
          ],
          [
           175,
           75,
           24.489795918367346
          ],
          [
           169,
           69,
           24.158817968558527
          ],
          [
           178,
           73,
           23.04002019946976
          ],
          [
           176,
           64,
           20.66115702479339
          ],
          [
           170,
           97,
           33.564013840830455
          ],
          [
           172,
           84,
           28.393726338561383
          ],
          [
           172,
           84,
           28.393726338561383
          ],
          [
           189,
           85,
           23.79552644102909
          ],
          [
           176,
           68,
           21.952479338842977
          ],
          [
           158,
           55,
           22.031725684986377
          ],
          [
           164,
           55,
           20.449137418203453
          ],
          [
           181,
           95,
           28.997893837184456
          ],
          [
           181,
           95,
           28.997893837184456
          ],
          [
           185,
           77,
           22.4981738495252
          ],
          [
           189,
           86,
           24.075473810923548
          ],
          [
           189,
           86,
           24.075473810923548
          ],
          [
           184,
           84,
           24.8109640831758
          ],
          [
           184,
           74,
           21.85727788279773
          ],
          [
           200,
           89,
           22.25
          ],
          [
           187,
           78,
           22.305470559638533
          ],
          [
           187,
           78,
           22.305470559638533
          ],
          [
           181,
           77,
           23.503556057507403
          ],
          [
           181,
           77,
           23.503556057507403
          ],
          [
           187,
           83,
           23.735308416025617
          ],
          [
           190,
           90,
           24.930747922437675
          ],
          [
           188,
           80,
           22.634676324128566
          ],
          [
           185,
           78,
           22.79035792549306
          ],
          [
           185,
           76,
           22.20598977355733
          ],
          [
           193,
           86,
           23.087868130688072
          ],
          [
           193,
           86,
           23.087868130688072
          ],
          [
           193,
           86,
           23.087868130688072
          ],
          [
           170,
           59,
           20.41522491349481
          ],
          [
           179,
           63,
           19.66230766829999
          ],
          [
           178,
           65,
           20.515086478979924
          ],
          [
           179,
           66,
           20.598608033457133
          ],
          [
           180,
           60,
           18.51851851851852
          ],
          [
           173,
           66,
           22.052190183434128
          ],
          [
           175,
           57,
           18.612244897959183
          ],
          [
           178,
           73,
           23.04002019946976
          ],
          [
           173,
           64,
           21.38394199605733
          ],
          [
           173,
           64,
           21.38394199605733
          ],
          [
           173,
           64,
           21.38394199605733
          ],
          [
           169,
           59,
           20.65754000210077
          ],
          [
           177,
           61,
           19.4707778735357
          ],
          [
           177,
           61,
           19.4707778735357
          ],
          [
           170,
           60,
           20.761245674740486
          ],
          [
           170,
           60,
           20.761245674740486
          ],
          [
           165,
           54,
           19.83471074380165
          ],
          [
           176,
           58,
           18.72417355371901
          ],
          [
           207,
           90,
           21.00399075824407
          ],
          [
           176,
           57,
           18.401342975206614
          ],
          [
           172,
           52,
           17.577068685776098
          ],
          [
           176,
           66,
           21.306818181818183
          ],
          [
           180,
           76,
           23.456790123456788
          ],
          [
           178,
           74,
           23.355636914531
          ],
          [
           193,
           84,
           22.55094096485812
          ],
          [
           170,
           59,
           20.41522491349481
          ],
          [
           172,
           60,
           20.28123309897241
          ],
          [
           206,
           100,
           23.56489772834386
          ],
          [
           185,
           78,
           22.79035792549306
          ],
          [
           195,
           106,
           27.87639710716634
          ],
          [
           172,
           74,
           25.013520822065985
          ],
          [
           181,
           105,
           32.05030371478282
          ],
          [
           172,
           85,
           28.73174689021093
          ],
          [
           173,
           69,
           23.05456246449932
          ],
          [
           180,
           140,
           43.20987654320987
          ],
          [
           147,
           47,
           21.75019667731038
          ],
          [
           147,
           47,
           21.75019667731038
          ],
          [
           165,
           76,
           27.915518824609737
          ],
          [
           155,
           69,
           28.720083246618103
          ],
          [
           155,
           58,
           24.14151925078044
          ],
          [
           157,
           58,
           23.53036634346221
          ],
          [
           157,
           58,
           23.53036634346221
          ],
          [
           159,
           63,
           24.91990032039872
          ],
          [
           170,
           100,
           34.602076124567475
          ],
          [
           163,
           63,
           23.711844630960897
          ],
          [
           165,
           65,
           23.875114784205696
          ],
          [
           180,
           102,
           31.48148148148148
          ],
          [
           180,
           102,
           31.48148148148148
          ],
          [
           190,
           98,
           27.14681440443213
          ],
          [
           190,
           98,
           27.14681440443213
          ],
          [
           179,
           86,
           26.840610467838083
          ],
          [
           181,
           74,
           22.587833094227893
          ],
          [
           177,
           80,
           25.53544639152223
          ],
          [
           177,
           80,
           25.53544639152223
          ],
          [
           177,
           80,
           25.53544639152223
          ],
          [
           166,
           67,
           24.31412396574249
          ],
          [
           164,
           56,
           20.820939916716245
          ],
          [
           174,
           75,
           24.77209671026556
          ],
          [
           164,
           58,
           21.564544913741823
          ],
          [
           163,
           65,
           24.46460160337235
          ]
         ],
         "hovertemplate": "pred_medal=%{x}<br>Age=%{y}<br>Height=%{customdata[0]}<br>Weight=%{customdata[1]}<br>BMI=%{customdata[2]}<extra></extra>",
         "legendgroup": "Gold",
         "marker": {
          "color": "#EF553B"
         },
         "name": "Gold",
         "offsetgroup": "Gold",
         "orientation": "v",
         "points": "all",
         "scalegroup": "True",
         "showlegend": true,
         "type": "violin",
         "x": [
          "Gold",
          "Gold",
          "Gold",
          "Gold",
          "Gold",
          "Gold",
          "Gold",
          "Gold",
          "Gold",
          "Gold",
          "Gold",
          "Gold",
          "Gold",
          "Gold",
          "Gold",
          "Gold",
          "Gold",
          "Gold",
          "Gold",
          "Gold",
          "Gold",
          "Gold",
          "Gold",
          "Gold",
          "Gold",
          "Gold",
          "Gold",
          "Gold",
          "Gold",
          "Gold",
          "Gold",
          "Gold",
          "Gold",
          "Gold",
          "Gold",
          "Gold",
          "Gold",
          "Gold",
          "Gold",
          "Gold",
          "Gold",
          "Gold",
          "Gold",
          "Gold",
          "Gold",
          "Gold",
          "Gold",
          "Gold",
          "Gold",
          "Gold",
          "Gold",
          "Gold",
          "Gold",
          "Gold",
          "Gold",
          "Gold",
          "Gold",
          "Gold",
          "Gold",
          "Gold",
          "Gold",
          "Gold",
          "Gold",
          "Gold",
          "Gold",
          "Gold",
          "Gold",
          "Gold",
          "Gold",
          "Gold",
          "Gold",
          "Gold",
          "Gold",
          "Gold",
          "Gold",
          "Gold",
          "Gold",
          "Gold",
          "Gold",
          "Gold",
          "Gold",
          "Gold",
          "Gold",
          "Gold",
          "Gold",
          "Gold",
          "Gold",
          "Gold",
          "Gold",
          "Gold",
          "Gold",
          "Gold",
          "Gold",
          "Gold",
          "Gold",
          "Gold",
          "Gold",
          "Gold",
          "Gold",
          "Gold",
          "Gold",
          "Gold",
          "Gold",
          "Gold",
          "Gold",
          "Gold",
          "Gold",
          "Gold",
          "Gold",
          "Gold",
          "Gold",
          "Gold",
          "Gold",
          "Gold",
          "Gold",
          "Gold",
          "Gold",
          "Gold",
          "Gold",
          "Gold",
          "Gold",
          "Gold",
          "Gold",
          "Gold",
          "Gold",
          "Gold",
          "Gold",
          "Gold",
          "Gold",
          "Gold",
          "Gold",
          "Gold",
          "Gold",
          "Gold",
          "Gold",
          "Gold",
          "Gold",
          "Gold",
          "Gold",
          "Gold",
          "Gold",
          "Gold",
          "Gold",
          "Gold",
          "Gold",
          "Gold",
          "Gold",
          "Gold",
          "Gold",
          "Gold",
          "Gold",
          "Gold",
          "Gold",
          "Gold",
          "Gold",
          "Gold",
          "Gold",
          "Gold",
          "Gold",
          "Gold",
          "Gold",
          "Gold",
          "Gold",
          "Gold",
          "Gold",
          "Gold",
          "Gold",
          "Gold",
          "Gold",
          "Gold",
          "Gold",
          "Gold",
          "Gold",
          "Gold",
          "Gold",
          "Gold",
          "Gold",
          "Gold",
          "Gold",
          "Gold",
          "Gold",
          "Gold",
          "Gold",
          "Gold",
          "Gold",
          "Gold",
          "Gold",
          "Gold",
          "Gold",
          "Gold",
          "Gold",
          "Gold",
          "Gold",
          "Gold",
          "Gold",
          "Gold",
          "Gold",
          "Gold",
          "Gold",
          "Gold",
          "Gold",
          "Gold",
          "Gold",
          "Gold",
          "Gold",
          "Gold",
          "Gold",
          "Gold",
          "Gold",
          "Gold",
          "Gold",
          "Gold",
          "Gold",
          "Gold",
          "Gold",
          "Gold",
          "Gold",
          "Gold",
          "Gold",
          "Gold",
          "Gold",
          "Gold",
          "Gold",
          "Gold",
          "Gold",
          "Gold",
          "Gold",
          "Gold",
          "Gold",
          "Gold",
          "Gold",
          "Gold",
          "Gold",
          "Gold",
          "Gold",
          "Gold",
          "Gold",
          "Gold",
          "Gold",
          "Gold",
          "Gold",
          "Gold",
          "Gold",
          "Gold",
          "Gold",
          "Gold",
          "Gold",
          "Gold",
          "Gold",
          "Gold",
          "Gold",
          "Gold",
          "Gold",
          "Gold",
          "Gold",
          "Gold",
          "Gold",
          "Gold",
          "Gold",
          "Gold",
          "Gold",
          "Gold",
          "Gold",
          "Gold",
          "Gold",
          "Gold",
          "Gold",
          "Gold",
          "Gold",
          "Gold",
          "Gold",
          "Gold",
          "Gold",
          "Gold",
          "Gold",
          "Gold",
          "Gold",
          "Gold"
         ],
         "x0": " ",
         "xaxis": "x",
         "y": [
          20,
          28,
          25,
          25,
          24,
          25,
          25,
          25,
          26,
          25,
          23,
          24,
          24,
          25,
          25,
          24,
          27,
          27,
          26,
          26,
          26,
          27,
          26,
          25,
          21,
          27,
          27,
          31,
          20,
          21,
          22,
          23,
          23,
          23,
          37,
          37,
          26,
          26,
          24,
          20,
          20,
          20,
          27,
          27,
          26,
          28,
          27,
          21,
          28,
          24,
          25,
          29,
          33,
          19,
          23,
          24,
          31,
          20,
          24,
          23,
          34,
          34,
          25,
          28,
          32,
          32,
          22,
          28,
          20,
          21,
          26,
          34,
          34,
          34,
          32,
          24,
          23,
          29,
          20,
          20,
          20,
          27,
          27,
          27,
          31,
          31,
          31,
          25,
          22,
          23,
          23,
          23,
          31,
          31,
          31,
          31,
          34,
          34,
          31,
          27,
          19,
          25,
          25,
          25,
          25,
          25,
          24,
          21,
          20,
          22,
          24,
          24,
          24,
          26,
          30,
          40,
          35,
          27,
          24,
          26,
          26,
          26,
          26,
          26,
          26,
          27,
          23,
          23,
          26,
          25,
          28,
          28,
          27,
          26,
          40,
          19,
          19,
          16,
          16,
          25,
          29,
          28,
          28,
          23,
          25,
          22,
          22,
          24,
          24,
          27,
          25,
          25,
          21,
          23,
          25,
          25,
          29,
          27,
          21,
          25,
          23,
          29,
          27,
          27,
          28,
          22,
          26,
          30,
          30,
          30,
          31,
          25,
          25,
          27,
          34,
          25,
          31,
          25,
          21,
          30,
          27,
          24,
          24,
          26,
          23,
          27,
          19,
          41,
          24,
          28,
          23,
          37,
          31,
          31,
          20,
          26,
          33,
          27,
          28,
          28,
          25,
          24,
          24,
          26,
          21,
          28,
          20,
          20,
          21,
          21,
          20,
          24,
          23,
          36,
          22,
          22,
          22,
          22,
          25,
          20,
          21,
          21,
          22,
          21,
          25,
          20,
          23,
          23,
          23,
          22,
          23,
          23,
          33,
          33,
          33,
          18,
          21,
          25,
          18,
          23,
          31,
          26,
          32,
          35,
          25,
          32,
          25,
          29,
          27,
          19,
          22,
          24,
          21,
          21,
          21,
          20,
          22,
          21,
          22,
          22,
          22,
          23,
          20,
          22,
          20,
          20,
          26,
          26,
          26,
          21,
          31,
          31,
          31,
          27,
          26,
          29,
          23,
          23
         ],
         "y0": " ",
         "yaxis": "y"
        },
        {
         "alignmentgroup": "True",
         "box": {
          "visible": true
         },
         "customdata": [
          [
           174,
           80,
           26.42356982428326
          ],
          [
           158,
           50,
           20.0288415318058
          ],
          [
           176,
           65,
           20.983987603305785
          ],
          [
           176,
           65,
           20.983987603305785
          ],
          [
           176,
           65,
           20.983987603305785
          ],
          [
           183,
           77,
           22.99262444384723
          ],
          [
           185,
           73,
           21.32943754565376
          ],
          [
           188,
           65,
           18.390674513354465
          ],
          [
           167,
           58,
           20.7967298935064
          ],
          [
           188,
           65,
           18.390674513354465
          ],
          [
           178,
           85,
           26.82742078020452
          ],
          [
           178,
           85,
           26.82742078020452
          ],
          [
           188,
           82,
           23.20054323223178
          ],
          [
           207,
           120,
           28.00532101099209
          ],
          [
           207,
           120,
           28.00532101099209
          ],
          [
           187,
           120,
           34.31610855329005
          ],
          [
           187,
           120,
           34.31610855329005
          ],
          [
           192,
           92,
           24.95659722222222
          ],
          [
           183,
           86,
           25.68007405416704
          ],
          [
           183,
           86,
           25.68007405416704
          ],
          [
           183,
           86,
           25.68007405416704
          ],
          [
           183,
           75,
           22.39541341933172
          ],
          [
           183,
           75,
           22.39541341933172
          ],
          [
           201,
           125,
           30.93982822207372
          ],
          [
           157,
           43,
           17.444926771877153
          ],
          [
           168,
           55,
           19.48696145124717
          ],
          [
           165,
           59,
           21.6712580348944
          ],
          [
           160,
           50,
           19.53125
          ],
          [
           162,
           42,
           16.00365797896662
          ],
          [
           162,
           42,
           16.00365797896662
          ],
          [
           163,
           61,
           22.95908765854944
          ],
          [
           179,
           70,
           21.84700852033332
          ],
          [
           173,
           59,
           19.71332152761536
          ],
          [
           180,
           72,
           22.22222222222222
          ],
          [
           171,
           57,
           19.49317738791424
          ],
          [
           178,
           59,
           18.621386188612547
          ],
          [
           184,
           69,
           20.38043478260869
          ],
          [
           191,
           72,
           19.73630108823772
          ],
          [
           170,
           72,
           24.913494809688583
          ],
          [
           155,
           49,
           20.39542143600416
          ],
          [
           160,
           45,
           17.578124999999996
          ],
          [
           173,
           59,
           19.71332152761536
          ],
          [
           176,
           136,
           43.904958677685954
          ],
          [
           179,
           72,
           22.47120876377142
          ],
          [
           172,
           59,
           19.94321254732288
          ],
          [
           172,
           59,
           19.94321254732288
          ],
          [
           172,
           65,
           21.97133585722012
          ],
          [
           203,
           102,
           24.75187459050208
          ],
          [
           203,
           94,
           22.8105510932078
          ],
          [
           185,
           87,
           25.4200146092038
          ],
          [
           184,
           75,
           22.152646502835537
          ],
          [
           165,
           56,
           20.56932966023876
          ],
          [
           171,
           57,
           19.49317738791424
          ],
          [
           171,
           57,
           19.49317738791424
          ],
          [
           171,
           57,
           19.49317738791424
          ],
          [
           169,
           52,
           18.20664542558034
          ],
          [
           196,
           91,
           23.688046647230323
          ],
          [
           182,
           81,
           24.45356840961236
          ],
          [
           174,
           64,
           21.13885585942661
          ],
          [
           169,
           64,
           22.40817898532965
          ],
          [
           178,
           75,
           23.671253629592226
          ],
          [
           197,
           108,
           27.82859645958412
          ],
          [
           168,
           60,
           21.258503401360542
          ],
          [
           175,
           78,
           25.46938775510204
          ],
          [
           188,
           88,
           24.898143956541425
          ],
          [
           189,
           80,
           22.395789591556788
          ],
          [
           181,
           76,
           23.198315069747565
          ],
          [
           186,
           90,
           26.01456815816857
          ],
          [
           188,
           90,
           25.46401086464464
          ],
          [
           182,
           85,
           25.661152034778407
          ],
          [
           184,
           82,
           24.22022684310019
          ],
          [
           182,
           76,
           22.94408887815481
          ],
          [
           176,
           78,
           25.180785123966945
          ],
          [
           183,
           88,
           26.27728507868255
          ],
          [
           187,
           93,
           26.59498412879979
          ],
          [
           181,
           73,
           22.28259210646805
          ],
          [
           165,
           55,
           20.202020202020204
          ],
          [
           185,
           90,
           26.29656683710737
          ],
          [
           178,
           70,
           22.09317005428608
          ],
          [
           166,
           65,
           23.588329220496444
          ],
          [
           164,
           57,
           21.192742415229034
          ],
          [
           162,
           49,
           18.670934308794383
          ],
          [
           164,
           57,
           21.192742415229034
          ],
          [
           159,
           52,
           20.56880661366243
          ],
          [
           157,
           48,
           19.473406629072173
          ],
          [
           157,
           48,
           19.473406629072173
          ],
          [
           157,
           48,
           19.473406629072173
          ],
          [
           193,
           73,
           19.59784155279337
          ],
          [
           176,
           80,
           25.82644628099173
          ],
          [
           176,
           70,
           22.59814049586777
          ],
          [
           177,
           65,
           20.747550193111813
          ],
          [
           197,
           100,
           25.76721894405937
          ],
          [
           186,
           78,
           22.54595907041276
          ],
          [
           175,
           64,
           20.897959183673468
          ],
          [
           176,
           71,
           22.92097107438017
          ],
          [
           168,
           60,
           21.258503401360542
          ],
          [
           173,
           69,
           23.05456246449932
          ],
          [
           175,
           68,
           22.20408163265306
          ],
          [
           168,
           65,
           23.030045351473927
          ],
          [
           155,
           54,
           22.476586888657646
          ],
          [
           155,
           54,
           22.476586888657646
          ],
          [
           155,
           54,
           22.476586888657646
          ],
          [
           161,
           55,
           21.218317194552675
          ],
          [
           164,
           62,
           23.051754907792983
          ],
          [
           164,
           62,
           23.051754907792983
          ],
          [
           164,
           62,
           23.051754907792983
          ],
          [
           162,
           51,
           19.43301326017375
          ],
          [
           143,
           47,
           22.984008997995016
          ],
          [
           156,
           46,
           18.902038132807363
          ],
          [
           196,
           98,
           25.51020408163265
          ],
          [
           184,
           74,
           21.85727788279773
          ],
          [
           179,
           79,
           24.65590961580475
          ],
          [
           168,
           62,
           21.9671201814059
          ],
          [
           166,
           60,
           21.773842357381334
          ],
          [
           197,
           105,
           27.055579891262337
          ],
          [
           160,
           66,
           25.78125
          ],
          [
           181,
           80,
           24.41927902078691
          ],
          [
           182,
           81,
           24.45356840961236
          ],
          [
           178,
           90,
           28.40550435551067
          ],
          [
           162,
           52,
           19.81405273586343
          ],
          [
           162,
           65,
           24.76756591982929
          ],
          [
           170,
           97,
           33.564013840830455
          ],
          [
           169,
           57,
           19.95728440880922
          ],
          [
           168,
           70,
           24.801587301587304
          ],
          [
           168,
           70,
           24.801587301587304
          ],
          [
           185,
           74,
           21.62162162162162
          ],
          [
           168,
           47,
           16.65249433106576
          ],
          [
           170,
           50,
           17.301038062283737
          ],
          [
           196,
           96,
           24.989587671803417
          ],
          [
           200,
           102,
           25.5
          ],
          [
           187,
           76,
           21.7335354170837
          ],
          [
           178,
           71,
           22.408786769347305
          ],
          [
           193,
           92,
           24.69864962817794
          ],
          [
           183,
           82,
           24.48565200513601
          ],
          [
           173,
           59,
           19.71332152761536
          ],
          [
           175,
           68,
           22.20408163265306
          ],
          [
           198,
           109,
           27.80328537904296
          ],
          [
           172,
           75,
           25.351541373715524
          ],
          [
           180,
           81,
           25
          ],
          [
           197,
           95,
           24.4788579968564
          ],
          [
           173,
           70,
           23.38868655818771
          ],
          [
           164,
           63,
           23.42355740630577
          ],
          [
           168,
           62,
           21.9671201814059
          ],
          [
           169,
           57,
           19.95728440880922
          ],
          [
           176,
           65,
           20.983987603305785
          ],
          [
           178,
           82,
           25.88057063502083
          ],
          [
           178,
           82,
           25.88057063502083
          ],
          [
           162,
           70,
           26.672763298277697
          ],
          [
           155,
           55,
           22.892819979188346
          ],
          [
           155,
           55,
           22.892819979188346
          ],
          [
           155,
           55,
           22.892819979188346
          ],
          [
           175,
           85,
           27.755102040816325
          ],
          [
           175,
           85,
           27.755102040816325
          ],
          [
           175,
           85,
           27.755102040816325
          ],
          [
           162,
           72,
           27.43484224965706
          ],
          [
           162,
           72,
           27.43484224965706
          ],
          [
           172,
           80,
           27.041644131963228
          ],
          [
           191,
           72,
           19.73630108823772
          ],
          [
           191,
           91,
           24.94449165318933
          ],
          [
           191,
           86,
           23.57391518872837
          ],
          [
           196,
           88,
           22.907122032486463
          ],
          [
           193,
           86,
           23.087868130688072
          ],
          [
           191,
           86,
           23.57391518872837
          ],
          [
           196,
           84,
           21.86588921282799
          ],
          [
           196,
           84,
           21.86588921282799
          ],
          [
           188,
           86,
           24.332277048438208
          ],
          [
           196,
           84,
           21.86588921282799
          ],
          [
           173,
           65,
           21.71806608974573
          ],
          [
           175,
           70,
           22.857142857142858
          ],
          [
           180,
           75,
           23.148148148148145
          ],
          [
           175,
           64,
           20.897959183673468
          ],
          [
           175,
           64,
           20.897959183673468
          ],
          [
           175,
           64,
           20.897959183673468
          ],
          [
           175,
           65,
           21.22448979591837
          ],
          [
           175,
           65,
           21.22448979591837
          ],
          [
           179,
           61,
           19.03810742486189
          ],
          [
           179,
           61,
           19.03810742486189
          ],
          [
           173,
           65,
           21.71806608974573
          ],
          [
           178,
           67,
           21.146319909102385
          ],
          [
           179,
           58,
           18.10180705970476
          ],
          [
           162,
           46,
           17.527815881725342
          ],
          [
           180,
           67,
           20.679012345679013
          ],
          [
           160,
           54,
           21.09375
          ],
          [
           178,
           68,
           21.461936624163616
          ],
          [
           178,
           68,
           21.461936624163616
          ],
          [
           178,
           68,
           21.461936624163616
          ],
          [
           188,
           63,
           17.824807605251245
          ],
          [
           190,
           90,
           24.930747922437675
          ],
          [
           200,
           93,
           23.25
          ],
          [
           186,
           80,
           23.12406058503873
          ],
          [
           186,
           80,
           23.12406058503873
          ],
          [
           164,
           50,
           18.590124925639504
          ],
          [
           188,
           75,
           21.22000905387053
          ],
          [
           182,
           69,
           20.830817534114235
          ],
          [
           175,
           71,
           23.18367346938776
          ],
          [
           175,
           71,
           23.18367346938776
          ],
          [
           168,
           66,
           23.384353741496604
          ],
          [
           168,
           66,
           23.384353741496604
          ],
          [
           180,
           60,
           18.51851851851852
          ],
          [
           180,
           60,
           18.51851851851852
          ],
          [
           170,
           62,
           21.45328719723184
          ],
          [
           173,
           66,
           22.052190183434128
          ],
          [
           173,
           66,
           22.052190183434128
          ],
          [
           155,
           47,
           19.562955254942764
          ],
          [
           155,
           47,
           19.562955254942764
          ],
          [
           178,
           59,
           18.621386188612547
          ],
          [
           168,
           56,
           19.841269841269845
          ],
          [
           168,
           56,
           19.841269841269845
          ],
          [
           205,
           107,
           25.46103509815586
          ],
          [
           192,
           78,
           21.158854166666668
          ],
          [
           191,
           91,
           24.94449165318933
          ],
          [
           173,
           65,
           21.71806608974573
          ],
          [
           183,
           109,
           32.54800083609543
          ],
          [
           168,
           70,
           24.801587301587304
          ],
          [
           176,
           77,
           24.857954545454547
          ],
          [
           176,
           77,
           24.857954545454547
          ],
          [
           154,
           48,
           20.23950075898128
          ],
          [
           163,
           69,
           25.970115548195267
          ],
          [
           159,
           63,
           24.91990032039872
          ],
          [
           173,
           123,
           41.09726352367269
          ],
          [
           165,
           62,
           22.77318640955005
          ],
          [
           160,
           59,
           23.046875
          ],
          [
           180,
           86,
           26.54320987654321
          ],
          [
           184,
           90,
           26.583175803402646
          ],
          [
           170,
           66,
           22.837370242214536
          ],
          [
           170,
           66,
           22.837370242214536
          ],
          [
           192,
           125,
           33.90842013888889
          ],
          [
           192,
           125,
           33.90842013888889
          ],
          [
           170,
           65,
           22.49134948096886
          ],
          [
           163,
           57,
           21.453573713726524
          ],
          [
           163,
           57,
           21.453573713726524
          ],
          [
           163,
           57,
           21.453573713726524
          ],
          [
           152,
           48,
           20.775623268698062
          ],
          [
           175,
           75,
           24.489795918367346
          ],
          [
           159,
           69,
           27.29322416043669
          ],
          [
           159,
           69,
           27.29322416043669
          ],
          [
           162,
           58,
           22.10028959000152
          ]
         ],
         "hovertemplate": "pred_medal=%{x}<br>Age=%{y}<br>Height=%{customdata[0]}<br>Weight=%{customdata[1]}<br>BMI=%{customdata[2]}<extra></extra>",
         "legendgroup": "Silver",
         "marker": {
          "color": "#00cc96"
         },
         "name": "Silver",
         "offsetgroup": "Silver",
         "orientation": "v",
         "points": "all",
         "scalegroup": "True",
         "showlegend": true,
         "type": "violin",
         "x": [
          "Silver",
          "Silver",
          "Silver",
          "Silver",
          "Silver",
          "Silver",
          "Silver",
          "Silver",
          "Silver",
          "Silver",
          "Silver",
          "Silver",
          "Silver",
          "Silver",
          "Silver",
          "Silver",
          "Silver",
          "Silver",
          "Silver",
          "Silver",
          "Silver",
          "Silver",
          "Silver",
          "Silver",
          "Silver",
          "Silver",
          "Silver",
          "Silver",
          "Silver",
          "Silver",
          "Silver",
          "Silver",
          "Silver",
          "Silver",
          "Silver",
          "Silver",
          "Silver",
          "Silver",
          "Silver",
          "Silver",
          "Silver",
          "Silver",
          "Silver",
          "Silver",
          "Silver",
          "Silver",
          "Silver",
          "Silver",
          "Silver",
          "Silver",
          "Silver",
          "Silver",
          "Silver",
          "Silver",
          "Silver",
          "Silver",
          "Silver",
          "Silver",
          "Silver",
          "Silver",
          "Silver",
          "Silver",
          "Silver",
          "Silver",
          "Silver",
          "Silver",
          "Silver",
          "Silver",
          "Silver",
          "Silver",
          "Silver",
          "Silver",
          "Silver",
          "Silver",
          "Silver",
          "Silver",
          "Silver",
          "Silver",
          "Silver",
          "Silver",
          "Silver",
          "Silver",
          "Silver",
          "Silver",
          "Silver",
          "Silver",
          "Silver",
          "Silver",
          "Silver",
          "Silver",
          "Silver",
          "Silver",
          "Silver",
          "Silver",
          "Silver",
          "Silver",
          "Silver",
          "Silver",
          "Silver",
          "Silver",
          "Silver",
          "Silver",
          "Silver",
          "Silver",
          "Silver",
          "Silver",
          "Silver",
          "Silver",
          "Silver",
          "Silver",
          "Silver",
          "Silver",
          "Silver",
          "Silver",
          "Silver",
          "Silver",
          "Silver",
          "Silver",
          "Silver",
          "Silver",
          "Silver",
          "Silver",
          "Silver",
          "Silver",
          "Silver",
          "Silver",
          "Silver",
          "Silver",
          "Silver",
          "Silver",
          "Silver",
          "Silver",
          "Silver",
          "Silver",
          "Silver",
          "Silver",
          "Silver",
          "Silver",
          "Silver",
          "Silver",
          "Silver",
          "Silver",
          "Silver",
          "Silver",
          "Silver",
          "Silver",
          "Silver",
          "Silver",
          "Silver",
          "Silver",
          "Silver",
          "Silver",
          "Silver",
          "Silver",
          "Silver",
          "Silver",
          "Silver",
          "Silver",
          "Silver",
          "Silver",
          "Silver",
          "Silver",
          "Silver",
          "Silver",
          "Silver",
          "Silver",
          "Silver",
          "Silver",
          "Silver",
          "Silver",
          "Silver",
          "Silver",
          "Silver",
          "Silver",
          "Silver",
          "Silver",
          "Silver",
          "Silver",
          "Silver",
          "Silver",
          "Silver",
          "Silver",
          "Silver",
          "Silver",
          "Silver",
          "Silver",
          "Silver",
          "Silver",
          "Silver",
          "Silver",
          "Silver",
          "Silver",
          "Silver",
          "Silver",
          "Silver",
          "Silver",
          "Silver",
          "Silver",
          "Silver",
          "Silver",
          "Silver",
          "Silver",
          "Silver",
          "Silver",
          "Silver",
          "Silver",
          "Silver",
          "Silver",
          "Silver",
          "Silver",
          "Silver",
          "Silver",
          "Silver",
          "Silver",
          "Silver",
          "Silver",
          "Silver",
          "Silver",
          "Silver",
          "Silver",
          "Silver",
          "Silver",
          "Silver",
          "Silver",
          "Silver",
          "Silver",
          "Silver",
          "Silver",
          "Silver",
          "Silver",
          "Silver",
          "Silver",
          "Silver",
          "Silver",
          "Silver",
          "Silver",
          "Silver"
         ],
         "x0": " ",
         "xaxis": "x",
         "y": [
          21,
          29,
          26,
          26,
          26,
          26,
          33,
          27,
          21,
          27,
          21,
          21,
          27,
          26,
          26,
          34,
          34,
          24,
          27,
          27,
          27,
          22,
          22,
          23,
          22,
          24,
          24,
          29,
          24,
          24,
          22,
          24,
          22,
          24,
          29,
          23,
          21,
          37,
          32,
          32,
          31,
          26,
          30,
          29,
          26,
          26,
          23,
          24,
          25,
          29,
          25,
          21,
          27,
          27,
          27,
          23,
          25,
          26,
          24,
          25,
          23,
          30,
          23,
          25,
          24,
          33,
          29,
          22,
          24,
          26,
          21,
          23,
          26,
          23,
          23,
          23,
          22,
          22,
          22,
          21,
          17,
          15,
          17,
          24,
          18,
          18,
          18,
          21,
          50,
          32,
          23,
          27,
          38,
          22,
          33,
          32,
          22,
          26,
          28,
          31,
          31,
          31,
          22,
          25,
          25,
          25,
          19,
          19,
          24,
          28,
          32,
          30,
          27,
          30,
          25,
          21,
          30,
          22,
          21,
          25,
          25,
          28,
          24,
          26,
          26,
          28,
          18,
          20,
          28,
          27,
          31,
          27,
          27,
          27,
          32,
          28,
          28,
          23,
          26,
          29,
          30,
          29,
          25,
          31,
          21,
          33,
          33,
          25,
          19,
          19,
          19,
          33,
          33,
          33,
          33,
          33,
          26,
          21,
          21,
          21,
          22,
          25,
          19,
          19,
          19,
          20,
          20,
          22,
          19,
          22,
          27,
          27,
          27,
          27,
          27,
          22,
          22,
          24,
          21,
          22,
          21,
          26,
          25,
          20,
          20,
          20,
          20,
          23,
          26,
          22,
          22,
          22,
          22,
          28,
          34,
          34,
          31,
          31,
          30,
          30,
          27,
          20,
          20,
          27,
          27,
          30,
          30,
          30,
          32,
          25,
          25,
          22,
          24,
          22,
          22,
          22,
          21,
          24,
          23,
          27,
          27,
          24,
          21,
          21,
          30,
          30,
          25,
          25,
          25,
          24,
          24,
          24,
          22,
          27,
          21,
          21,
          23
         ],
         "y0": " ",
         "yaxis": "y"
        }
       ],
       "layout": {
        "legend": {
         "title": {
          "text": "pred_medal"
         },
         "tracegroupgap": 0
        },
        "template": {
         "data": {
          "bar": [
           {
            "error_x": {
             "color": "#2a3f5f"
            },
            "error_y": {
             "color": "#2a3f5f"
            },
            "marker": {
             "line": {
              "color": "#E5ECF6",
              "width": 0.5
             },
             "pattern": {
              "fillmode": "overlay",
              "size": 10,
              "solidity": 0.2
             }
            },
            "type": "bar"
           }
          ],
          "barpolar": [
           {
            "marker": {
             "line": {
              "color": "#E5ECF6",
              "width": 0.5
             },
             "pattern": {
              "fillmode": "overlay",
              "size": 10,
              "solidity": 0.2
             }
            },
            "type": "barpolar"
           }
          ],
          "carpet": [
           {
            "aaxis": {
             "endlinecolor": "#2a3f5f",
             "gridcolor": "white",
             "linecolor": "white",
             "minorgridcolor": "white",
             "startlinecolor": "#2a3f5f"
            },
            "baxis": {
             "endlinecolor": "#2a3f5f",
             "gridcolor": "white",
             "linecolor": "white",
             "minorgridcolor": "white",
             "startlinecolor": "#2a3f5f"
            },
            "type": "carpet"
           }
          ],
          "choropleth": [
           {
            "colorbar": {
             "outlinewidth": 0,
             "ticks": ""
            },
            "type": "choropleth"
           }
          ],
          "contour": [
           {
            "colorbar": {
             "outlinewidth": 0,
             "ticks": ""
            },
            "colorscale": [
             [
              0,
              "#0d0887"
             ],
             [
              0.1111111111111111,
              "#46039f"
             ],
             [
              0.2222222222222222,
              "#7201a8"
             ],
             [
              0.3333333333333333,
              "#9c179e"
             ],
             [
              0.4444444444444444,
              "#bd3786"
             ],
             [
              0.5555555555555556,
              "#d8576b"
             ],
             [
              0.6666666666666666,
              "#ed7953"
             ],
             [
              0.7777777777777778,
              "#fb9f3a"
             ],
             [
              0.8888888888888888,
              "#fdca26"
             ],
             [
              1,
              "#f0f921"
             ]
            ],
            "type": "contour"
           }
          ],
          "contourcarpet": [
           {
            "colorbar": {
             "outlinewidth": 0,
             "ticks": ""
            },
            "type": "contourcarpet"
           }
          ],
          "heatmap": [
           {
            "colorbar": {
             "outlinewidth": 0,
             "ticks": ""
            },
            "colorscale": [
             [
              0,
              "#0d0887"
             ],
             [
              0.1111111111111111,
              "#46039f"
             ],
             [
              0.2222222222222222,
              "#7201a8"
             ],
             [
              0.3333333333333333,
              "#9c179e"
             ],
             [
              0.4444444444444444,
              "#bd3786"
             ],
             [
              0.5555555555555556,
              "#d8576b"
             ],
             [
              0.6666666666666666,
              "#ed7953"
             ],
             [
              0.7777777777777778,
              "#fb9f3a"
             ],
             [
              0.8888888888888888,
              "#fdca26"
             ],
             [
              1,
              "#f0f921"
             ]
            ],
            "type": "heatmap"
           }
          ],
          "heatmapgl": [
           {
            "colorbar": {
             "outlinewidth": 0,
             "ticks": ""
            },
            "colorscale": [
             [
              0,
              "#0d0887"
             ],
             [
              0.1111111111111111,
              "#46039f"
             ],
             [
              0.2222222222222222,
              "#7201a8"
             ],
             [
              0.3333333333333333,
              "#9c179e"
             ],
             [
              0.4444444444444444,
              "#bd3786"
             ],
             [
              0.5555555555555556,
              "#d8576b"
             ],
             [
              0.6666666666666666,
              "#ed7953"
             ],
             [
              0.7777777777777778,
              "#fb9f3a"
             ],
             [
              0.8888888888888888,
              "#fdca26"
             ],
             [
              1,
              "#f0f921"
             ]
            ],
            "type": "heatmapgl"
           }
          ],
          "histogram": [
           {
            "marker": {
             "pattern": {
              "fillmode": "overlay",
              "size": 10,
              "solidity": 0.2
             }
            },
            "type": "histogram"
           }
          ],
          "histogram2d": [
           {
            "colorbar": {
             "outlinewidth": 0,
             "ticks": ""
            },
            "colorscale": [
             [
              0,
              "#0d0887"
             ],
             [
              0.1111111111111111,
              "#46039f"
             ],
             [
              0.2222222222222222,
              "#7201a8"
             ],
             [
              0.3333333333333333,
              "#9c179e"
             ],
             [
              0.4444444444444444,
              "#bd3786"
             ],
             [
              0.5555555555555556,
              "#d8576b"
             ],
             [
              0.6666666666666666,
              "#ed7953"
             ],
             [
              0.7777777777777778,
              "#fb9f3a"
             ],
             [
              0.8888888888888888,
              "#fdca26"
             ],
             [
              1,
              "#f0f921"
             ]
            ],
            "type": "histogram2d"
           }
          ],
          "histogram2dcontour": [
           {
            "colorbar": {
             "outlinewidth": 0,
             "ticks": ""
            },
            "colorscale": [
             [
              0,
              "#0d0887"
             ],
             [
              0.1111111111111111,
              "#46039f"
             ],
             [
              0.2222222222222222,
              "#7201a8"
             ],
             [
              0.3333333333333333,
              "#9c179e"
             ],
             [
              0.4444444444444444,
              "#bd3786"
             ],
             [
              0.5555555555555556,
              "#d8576b"
             ],
             [
              0.6666666666666666,
              "#ed7953"
             ],
             [
              0.7777777777777778,
              "#fb9f3a"
             ],
             [
              0.8888888888888888,
              "#fdca26"
             ],
             [
              1,
              "#f0f921"
             ]
            ],
            "type": "histogram2dcontour"
           }
          ],
          "mesh3d": [
           {
            "colorbar": {
             "outlinewidth": 0,
             "ticks": ""
            },
            "type": "mesh3d"
           }
          ],
          "parcoords": [
           {
            "line": {
             "colorbar": {
              "outlinewidth": 0,
              "ticks": ""
             }
            },
            "type": "parcoords"
           }
          ],
          "pie": [
           {
            "automargin": true,
            "type": "pie"
           }
          ],
          "scatter": [
           {
            "fillpattern": {
             "fillmode": "overlay",
             "size": 10,
             "solidity": 0.2
            },
            "type": "scatter"
           }
          ],
          "scatter3d": [
           {
            "line": {
             "colorbar": {
              "outlinewidth": 0,
              "ticks": ""
             }
            },
            "marker": {
             "colorbar": {
              "outlinewidth": 0,
              "ticks": ""
             }
            },
            "type": "scatter3d"
           }
          ],
          "scattercarpet": [
           {
            "marker": {
             "colorbar": {
              "outlinewidth": 0,
              "ticks": ""
             }
            },
            "type": "scattercarpet"
           }
          ],
          "scattergeo": [
           {
            "marker": {
             "colorbar": {
              "outlinewidth": 0,
              "ticks": ""
             }
            },
            "type": "scattergeo"
           }
          ],
          "scattergl": [
           {
            "marker": {
             "colorbar": {
              "outlinewidth": 0,
              "ticks": ""
             }
            },
            "type": "scattergl"
           }
          ],
          "scattermapbox": [
           {
            "marker": {
             "colorbar": {
              "outlinewidth": 0,
              "ticks": ""
             }
            },
            "type": "scattermapbox"
           }
          ],
          "scatterpolar": [
           {
            "marker": {
             "colorbar": {
              "outlinewidth": 0,
              "ticks": ""
             }
            },
            "type": "scatterpolar"
           }
          ],
          "scatterpolargl": [
           {
            "marker": {
             "colorbar": {
              "outlinewidth": 0,
              "ticks": ""
             }
            },
            "type": "scatterpolargl"
           }
          ],
          "scatterternary": [
           {
            "marker": {
             "colorbar": {
              "outlinewidth": 0,
              "ticks": ""
             }
            },
            "type": "scatterternary"
           }
          ],
          "surface": [
           {
            "colorbar": {
             "outlinewidth": 0,
             "ticks": ""
            },
            "colorscale": [
             [
              0,
              "#0d0887"
             ],
             [
              0.1111111111111111,
              "#46039f"
             ],
             [
              0.2222222222222222,
              "#7201a8"
             ],
             [
              0.3333333333333333,
              "#9c179e"
             ],
             [
              0.4444444444444444,
              "#bd3786"
             ],
             [
              0.5555555555555556,
              "#d8576b"
             ],
             [
              0.6666666666666666,
              "#ed7953"
             ],
             [
              0.7777777777777778,
              "#fb9f3a"
             ],
             [
              0.8888888888888888,
              "#fdca26"
             ],
             [
              1,
              "#f0f921"
             ]
            ],
            "type": "surface"
           }
          ],
          "table": [
           {
            "cells": {
             "fill": {
              "color": "#EBF0F8"
             },
             "line": {
              "color": "white"
             }
            },
            "header": {
             "fill": {
              "color": "#C8D4E3"
             },
             "line": {
              "color": "white"
             }
            },
            "type": "table"
           }
          ]
         },
         "layout": {
          "annotationdefaults": {
           "arrowcolor": "#2a3f5f",
           "arrowhead": 0,
           "arrowwidth": 1
          },
          "autotypenumbers": "strict",
          "coloraxis": {
           "colorbar": {
            "outlinewidth": 0,
            "ticks": ""
           }
          },
          "colorscale": {
           "diverging": [
            [
             0,
             "#8e0152"
            ],
            [
             0.1,
             "#c51b7d"
            ],
            [
             0.2,
             "#de77ae"
            ],
            [
             0.3,
             "#f1b6da"
            ],
            [
             0.4,
             "#fde0ef"
            ],
            [
             0.5,
             "#f7f7f7"
            ],
            [
             0.6,
             "#e6f5d0"
            ],
            [
             0.7,
             "#b8e186"
            ],
            [
             0.8,
             "#7fbc41"
            ],
            [
             0.9,
             "#4d9221"
            ],
            [
             1,
             "#276419"
            ]
           ],
           "sequential": [
            [
             0,
             "#0d0887"
            ],
            [
             0.1111111111111111,
             "#46039f"
            ],
            [
             0.2222222222222222,
             "#7201a8"
            ],
            [
             0.3333333333333333,
             "#9c179e"
            ],
            [
             0.4444444444444444,
             "#bd3786"
            ],
            [
             0.5555555555555556,
             "#d8576b"
            ],
            [
             0.6666666666666666,
             "#ed7953"
            ],
            [
             0.7777777777777778,
             "#fb9f3a"
            ],
            [
             0.8888888888888888,
             "#fdca26"
            ],
            [
             1,
             "#f0f921"
            ]
           ],
           "sequentialminus": [
            [
             0,
             "#0d0887"
            ],
            [
             0.1111111111111111,
             "#46039f"
            ],
            [
             0.2222222222222222,
             "#7201a8"
            ],
            [
             0.3333333333333333,
             "#9c179e"
            ],
            [
             0.4444444444444444,
             "#bd3786"
            ],
            [
             0.5555555555555556,
             "#d8576b"
            ],
            [
             0.6666666666666666,
             "#ed7953"
            ],
            [
             0.7777777777777778,
             "#fb9f3a"
            ],
            [
             0.8888888888888888,
             "#fdca26"
            ],
            [
             1,
             "#f0f921"
            ]
           ]
          },
          "colorway": [
           "#636efa",
           "#EF553B",
           "#00cc96",
           "#ab63fa",
           "#FFA15A",
           "#19d3f3",
           "#FF6692",
           "#B6E880",
           "#FF97FF",
           "#FECB52"
          ],
          "font": {
           "color": "#2a3f5f"
          },
          "geo": {
           "bgcolor": "white",
           "lakecolor": "white",
           "landcolor": "#E5ECF6",
           "showlakes": true,
           "showland": true,
           "subunitcolor": "white"
          },
          "hoverlabel": {
           "align": "left"
          },
          "hovermode": "closest",
          "mapbox": {
           "style": "light"
          },
          "paper_bgcolor": "white",
          "plot_bgcolor": "#E5ECF6",
          "polar": {
           "angularaxis": {
            "gridcolor": "white",
            "linecolor": "white",
            "ticks": ""
           },
           "bgcolor": "#E5ECF6",
           "radialaxis": {
            "gridcolor": "white",
            "linecolor": "white",
            "ticks": ""
           }
          },
          "scene": {
           "xaxis": {
            "backgroundcolor": "#E5ECF6",
            "gridcolor": "white",
            "gridwidth": 2,
            "linecolor": "white",
            "showbackground": true,
            "ticks": "",
            "zerolinecolor": "white"
           },
           "yaxis": {
            "backgroundcolor": "#E5ECF6",
            "gridcolor": "white",
            "gridwidth": 2,
            "linecolor": "white",
            "showbackground": true,
            "ticks": "",
            "zerolinecolor": "white"
           },
           "zaxis": {
            "backgroundcolor": "#E5ECF6",
            "gridcolor": "white",
            "gridwidth": 2,
            "linecolor": "white",
            "showbackground": true,
            "ticks": "",
            "zerolinecolor": "white"
           }
          },
          "shapedefaults": {
           "line": {
            "color": "#2a3f5f"
           }
          },
          "ternary": {
           "aaxis": {
            "gridcolor": "white",
            "linecolor": "white",
            "ticks": ""
           },
           "baxis": {
            "gridcolor": "white",
            "linecolor": "white",
            "ticks": ""
           },
           "bgcolor": "#E5ECF6",
           "caxis": {
            "gridcolor": "white",
            "linecolor": "white",
            "ticks": ""
           }
          },
          "title": {
           "x": 0.05
          },
          "xaxis": {
           "automargin": true,
           "gridcolor": "white",
           "linecolor": "white",
           "ticks": "",
           "title": {
            "standoff": 15
           },
           "zerolinecolor": "white",
           "zerolinewidth": 2
          },
          "yaxis": {
           "automargin": true,
           "gridcolor": "white",
           "linecolor": "white",
           "ticks": "",
           "title": {
            "standoff": 15
           },
           "zerolinecolor": "white",
           "zerolinewidth": 2
          }
         }
        },
        "title": {
         "text": "Violin Plot: Age Distribution by Predicted Medal"
        },
        "violinmode": "overlay",
        "xaxis": {
         "anchor": "y",
         "categoryarray": [
          "Bronze",
          "Gold",
          "Silver"
         ],
         "categoryorder": "array",
         "domain": [
          0,
          1
         ],
         "title": {
          "text": "pred_medal"
         }
        },
        "yaxis": {
         "anchor": "x",
         "domain": [
          0,
          1
         ],
         "title": {
          "text": "Age"
         }
        }
       }
      }
     },
     "metadata": {},
     "output_type": "display_data"
    }
   ],
   "source": [
    "# Violin plot\n",
    "fig = px.violin(data, y='Age', x='pred_medal', color='pred_medal',\n",
    "                box=True, points=\"all\", hover_data=data.columns,\n",
    "                title='Violin Plot: Age Distribution by Predicted Medal')\n",
    "fig.show()\n"
   ]
  },
  {
   "cell_type": "code",
   "execution_count": 18,
   "metadata": {},
   "outputs": [
    {
     "data": {
      "application/vnd.plotly.v1+json": {
       "config": {
        "plotlyServerURL": "https://plot.ly"
       },
       "data": [
        {
         "customdata": [
          [
           "Alpine Skiing Women's Super G",
           "Canada"
          ],
          [
           "Alpine Skiing Women's Super G",
           "Canada"
          ],
          [
           "Alpine Skiing Women's Super G",
           "Canada"
          ]
         ],
         "hovertemplate": "Sport=Alpine Skiing<br>Age=%{x}<br>Height=%{y}<br>Weight=%{z}<br>Event=%{customdata[0]}<br>Team=%{customdata[1]}<extra></extra>",
         "legendgroup": "Alpine Skiing",
         "marker": {
          "color": "#636efa",
          "symbol": "circle"
         },
         "mode": "markers",
         "name": "Alpine Skiing",
         "scene": "scene",
         "showlegend": true,
         "type": "scatter3d",
         "x": [
          27,
          27,
          27
         ],
         "y": [
          172,
          172,
          172
         ],
         "z": [
          67,
          67,
          67
         ]
        },
        {
         "customdata": [
          [
           "Archery Men's Individual",
           "Australia"
          ],
          [
           "Archery Men's Individual",
           "South Korea"
          ],
          [
           "Archery Men's Individual",
           "Australia"
          ],
          [
           "Archery Women's Individual",
           "Germany"
          ],
          [
           "Archery Women's Individual",
           "South Korea"
          ],
          [
           "Archery Women's Individual",
           "Chinese Taipei"
          ]
         ],
         "hovertemplate": "Sport=Archery<br>Age=%{x}<br>Height=%{y}<br>Weight=%{z}<br>Event=%{customdata[0]}<br>Team=%{customdata[1]}<extra></extra>",
         "legendgroup": "Archery",
         "marker": {
          "color": "#EF553B",
          "symbol": "circle"
         },
         "mode": "markers",
         "name": "Archery",
         "scene": "scene",
         "showlegend": true,
         "type": "scatter3d",
         "x": [
          20,
          21,
          25,
          28,
          29,
          26
         ],
         "y": [
          185,
          174,
          186,
          180,
          158,
          165
         ],
         "z": [
          77,
          80,
          102,
          68,
          50,
          69
         ]
        },
        {
         "customdata": [
          [
           "Athletics Men's 1,500 metres",
           "United States"
          ],
          [
           "Athletics Men's 1,500 metres",
           "United States"
          ],
          [
           "Athletics Men's 1,500 metres",
           "United States"
          ],
          [
           "Athletics Men's 10,000 metres",
           "Kenya"
          ],
          [
           "Athletics Men's 10,000 metres",
           "Kenya"
          ],
          [
           "Athletics Men's 10,000 metres",
           "Ethiopia"
          ],
          [
           "Athletics Men's 100 metres",
           "Japan"
          ],
          [
           "Athletics Men's 100 metres",
           "Jamaica"
          ],
          [
           "Athletics Men's 100 metres",
           "Canada"
          ],
          [
           "Athletics Men's 110 metres Hurdles",
           "Cuba"
          ],
          [
           "Athletics Men's 110 metres Hurdles",
           "Cuba"
          ],
          [
           "Athletics Men's 110 metres Hurdles",
           "France"
          ],
          [
           "Athletics Men's 20 kilometres Walk",
           "China"
          ],
          [
           "Athletics Men's 20 kilometres Walk",
           "Slovakia"
          ],
          [
           "Athletics Men's 20 kilometres Walk",
           "Australia"
          ],
          [
           "Athletics Men's 200 metres",
           "Japan"
          ],
          [
           "Athletics Men's 200 metres",
           "Canada"
          ],
          [
           "Athletics Men's 200 metres",
           "Canada"
          ],
          [
           "Athletics Men's 3,000 metres Steeplechase",
           "United States"
          ],
          [
           "Athletics Men's 3,000 metres Steeplechase",
           "Kenya"
          ],
          [
           "Athletics Men's 3,000 metres Steeplechase",
           "United States"
          ],
          [
           "Athletics Men's 4 x 100 metres Relay",
           "Jamaica"
          ],
          [
           "Athletics Men's 4 x 100 metres Relay",
           "Jamaica"
          ],
          [
           "Athletics Men's 4 x 100 metres Relay",
           "Canada"
          ],
          [
           "Athletics Men's 4 x 400 metres Relay",
           "Jamaica"
          ],
          [
           "Athletics Men's 4 x 400 metres Relay",
           "United States"
          ],
          [
           "Athletics Men's 4 x 400 metres Relay",
           "Bahamas"
          ],
          [
           "Athletics Men's 400 metres",
           "Jamaica"
          ],
          [
           "Athletics Men's 400 metres",
           "United States"
          ],
          [
           "Athletics Men's 400 metres",
           "Bahamas"
          ],
          [
           "Athletics Men's 400 metres Hurdles",
           "Kenya"
          ],
          [
           "Athletics Men's 400 metres Hurdles",
           "Kenya"
          ],
          [
           "Athletics Men's 400 metres Hurdles",
           "Turkey"
          ],
          [
           "Athletics Men's 5,000 metres",
           "United States"
          ],
          [
           "Athletics Men's 5,000 metres",
           "United States"
          ],
          [
           "Athletics Men's 5,000 metres",
           "Ethiopia"
          ],
          [
           "Athletics Men's 50 kilometres Walk",
           "Japan"
          ],
          [
           "Athletics Men's 50 kilometres Walk",
           "Japan"
          ],
          [
           "Athletics Men's 50 kilometres Walk",
           "Japan"
          ],
          [
           "Athletics Men's 800 metres",
           "United States"
          ],
          [
           "Athletics Men's 800 metres",
           "United States"
          ],
          [
           "Athletics Men's 800 metres",
           "United States"
          ],
          [
           "Athletics Men's Decathlon",
           "France"
          ],
          [
           "Athletics Men's Decathlon",
           "Canada"
          ],
          [
           "Athletics Men's Decathlon",
           "Canada"
          ],
          [
           "Athletics Men's Discus Throw",
           "Germany"
          ],
          [
           "Athletics Men's Discus Throw",
           "Germany"
          ],
          [
           "Athletics Men's Discus Throw",
           "Germany"
          ],
          [
           "Athletics Men's Hammer Throw",
           "Tajikistan"
          ],
          [
           "Athletics Men's Hammer Throw",
           "Tajikistan"
          ],
          [
           "Athletics Men's Hammer Throw",
           "Poland"
          ],
          [
           "Athletics Men's High Jump",
           "Ukraine"
          ],
          [
           "Athletics Men's High Jump",
           "Ukraine"
          ],
          [
           "Athletics Men's High Jump",
           "Ukraine"
          ],
          [
           "Athletics Men's Javelin Throw",
           "Kenya"
          ],
          [
           "Athletics Men's Javelin Throw",
           "Germany"
          ],
          [
           "Athletics Men's Javelin Throw",
           "Kenya"
          ],
          [
           "Athletics Men's Long Jump",
           "United States"
          ],
          [
           "Athletics Men's Long Jump",
           "United States"
          ],
          [
           "Athletics Men's Long Jump",
           "United States"
          ],
          [
           "Athletics Men's Marathon",
           "Ethiopia"
          ],
          [
           "Athletics Men's Marathon",
           "Ethiopia"
          ],
          [
           "Athletics Men's Marathon",
           "Ethiopia"
          ],
          [
           "Athletics Men's Pole Vault",
           "Brazil"
          ],
          [
           "Athletics Men's Pole Vault",
           "Brazil"
          ],
          [
           "Athletics Men's Pole Vault",
           "United States"
          ],
          [
           "Athletics Men's Shot Put",
           "United States"
          ],
          [
           "Athletics Men's Shot Put",
           "United States"
          ],
          [
           "Athletics Men's Shot Put",
           "New Zealand"
          ],
          [
           "Athletics Men's Triple Jump",
           "China"
          ],
          [
           "Athletics Men's Triple Jump",
           "China"
          ],
          [
           "Athletics Men's Triple Jump",
           "China"
          ],
          [
           "Athletics Women's 1,500 metres",
           "Kenya"
          ],
          [
           "Athletics Women's 1,500 metres",
           "Kenya"
          ],
          [
           "Athletics Women's 1,500 metres",
           "Ethiopia"
          ],
          [
           "Athletics Women's 100 metres",
           "Jamaica"
          ],
          [
           "Athletics Women's 100 metres",
           "United States"
          ],
          [
           "Athletics Women's 100 metres",
           "Great Britain"
          ],
          [
           "Athletics Women's 100 metres Hurdles",
           "United States"
          ],
          [
           "Athletics Women's 100 metres Hurdles",
           "United States"
          ],
          [
           "Athletics Women's 100 metres Hurdles",
           "United States"
          ],
          [
           "Athletics Women's 20 kilometres Walk",
           "Mexico"
          ],
          [
           "Athletics Women's 20 kilometres Walk",
           "China"
          ],
          [
           "Athletics Women's 20 kilometres Walk",
           "China"
          ],
          [
           "Athletics Women's 200 metres",
           "Jamaica"
          ],
          [
           "Athletics Women's 200 metres",
           "Great Britain"
          ],
          [
           "Athletics Women's 200 metres",
           "Great Britain"
          ],
          [
           "Athletics Women's 3,000 metres Steeplechase",
           "Kenya"
          ],
          [
           "Athletics Women's 3,000 metres Steeplechase",
           "Kenya"
          ],
          [
           "Athletics Women's 3,000 metres Steeplechase",
           "United States"
          ],
          [
           "Athletics Women's 4 x 100 metres Relay",
           "Jamaica"
          ],
          [
           "Athletics Women's 4 x 100 metres Relay",
           "United States"
          ],
          [
           "Athletics Women's 4 x 100 metres Relay",
           "Netherlands"
          ],
          [
           "Athletics Women's 4 x 400 metres Relay",
           "Jamaica"
          ],
          [
           "Athletics Women's 4 x 400 metres Relay",
           "United States"
          ],
          [
           "Athletics Women's 4 x 400 metres Relay",
           "Great Britain"
          ],
          [
           "Athletics Women's 400 metres",
           "Jamaica"
          ],
          [
           "Athletics Women's 400 metres",
           "United States"
          ],
          [
           "Athletics Women's 400 metres",
           "Great Britain"
          ],
          [
           "Athletics Women's 400 metres Hurdles",
           "Denmark"
          ],
          [
           "Athletics Women's 400 metres Hurdles",
           "United States"
          ],
          [
           "Athletics Women's 400 metres Hurdles",
           "Great Britain"
          ],
          [
           "Athletics Women's 5,000 metres",
           "Ethiopia"
          ],
          [
           "Athletics Women's 5,000 metres",
           "Ethiopia"
          ],
          [
           "Athletics Women's 5,000 metres",
           "Ethiopia"
          ],
          [
           "Athletics Women's 800 metres",
           "Burundi"
          ],
          [
           "Athletics Women's 800 metres",
           "Burundi"
          ],
          [
           "Athletics Women's 800 metres",
           "Burundi"
          ],
          [
           "Athletics Women's Discus Throw",
           "France"
          ],
          [
           "Athletics Women's Discus Throw",
           "France"
          ],
          [
           "Athletics Women's Discus Throw",
           "Cuba"
          ],
          [
           "Athletics Women's Hammer Throw",
           "Great Britain"
          ],
          [
           "Athletics Women's Hammer Throw",
           "Great Britain"
          ],
          [
           "Athletics Women's Hammer Throw",
           "Great Britain"
          ],
          [
           "Athletics Women's Heptathlon",
           "Canada"
          ],
          [
           "Athletics Women's Heptathlon",
           "Belgium"
          ],
          [
           "Athletics Women's Heptathlon",
           "Canada"
          ],
          [
           "Athletics Women's High Jump",
           "Bulgaria"
          ],
          [
           "Athletics Women's High Jump",
           "Spain"
          ],
          [
           "Athletics Women's High Jump",
           "Bulgaria"
          ],
          [
           "Athletics Women's Javelin Throw",
           "Croatia"
          ],
          [
           "Athletics Women's Javelin Throw",
           "South Africa"
          ],
          [
           "Athletics Women's Javelin Throw",
           "Croatia"
          ],
          [
           "Athletics Women's Long Jump",
           "Serbia"
          ],
          [
           "Athletics Women's Long Jump",
           "Serbia"
          ],
          [
           "Athletics Women's Long Jump",
           "Serbia"
          ],
          [
           "Athletics Women's Marathon",
           "Bahrain"
          ],
          [
           "Athletics Women's Marathon",
           "Kenya"
          ],
          [
           "Athletics Women's Marathon",
           "Ethiopia"
          ],
          [
           "Athletics Women's Pole Vault",
           "United States"
          ],
          [
           "Athletics Women's Pole Vault",
           "Greece"
          ],
          [
           "Athletics Women's Pole Vault",
           "New Zealand"
          ],
          [
           "Athletics Women's Shot Put",
           "Hungary"
          ],
          [
           "Athletics Women's Shot Put",
           "United States"
          ],
          [
           "Athletics Women's Shot Put",
           "Hungary"
          ],
          [
           "Athletics Women's Triple Jump",
           "Venezuela"
          ],
          [
           "Athletics Women's Triple Jump",
           "Venezuela"
          ],
          [
           "Athletics Women's Triple Jump",
           "Venezuela"
          ]
         ],
         "hovertemplate": "Sport=Athletics<br>Age=%{x}<br>Height=%{y}<br>Weight=%{z}<br>Event=%{customdata[0]}<br>Team=%{customdata[1]}<extra></extra>",
         "legendgroup": "Athletics",
         "marker": {
          "color": "#00cc96",
          "symbol": "circle"
         },
         "mode": "markers",
         "name": "Athletics",
         "scene": "scene",
         "showlegend": true,
         "type": "scatter3d",
         "x": [
          26,
          26,
          26,
          25,
          25,
          24,
          24,
          26,
          24,
          25,
          25,
          29,
          25,
          33,
          24,
          25,
          24,
          24,
          27,
          21,
          27,
          21,
          21,
          20,
          26,
          25,
          21,
          23,
          27,
          24,
          24,
          24,
          29,
          25,
          25,
          22,
          28,
          28,
          28,
          21,
          21,
          21,
          24,
          26,
          26,
          26,
          26,
          26,
          34,
          34,
          27,
          26,
          26,
          26,
          27,
          24,
          27,
          27,
          27,
          27,
          26,
          26,
          26,
          22,
          22,
          23,
          27,
          23,
          24,
          27,
          27,
          27,
          26,
          22,
          25,
          21,
          24,
          19,
          27,
          24,
          28,
          27,
          29,
          22,
          31,
          20,
          20,
          24,
          24,
          29,
          20,
          22,
          24,
          21,
          22,
          31,
          22,
          24,
          25,
          29,
          23,
          29,
          24,
          24,
          24,
          23,
          23,
          23,
          37,
          37,
          26,
          25,
          25,
          25,
          27,
          21,
          27,
          26,
          37,
          26,
          21,
          32,
          21,
          26,
          26,
          26,
          32,
          31,
          26,
          24,
          26,
          19,
          27,
          30,
          27,
          20,
          20,
          20
         ],
         "y": [
          176,
          176,
          176,
          168,
          168,
          181,
          177,
          183,
          170,
          182,
          182,
          181,
          175,
          185,
          187,
          185,
          198,
          198,
          188,
          167,
          188,
          178,
          178,
          180,
          188,
          180,
          191,
          195,
          188,
          174,
          175,
          175,
          191,
          175,
          175,
          171,
          180,
          180,
          180,
          180,
          180,
          180,
          186,
          185,
          185,
          207,
          207,
          207,
          187,
          187,
          196,
          198,
          198,
          198,
          175,
          192,
          175,
          183,
          183,
          183,
          175,
          175,
          175,
          183,
          183,
          185,
          183,
          201,
          185,
          180,
          180,
          180,
          160,
          157,
          168,
          165,
          168,
          172,
          170,
          165,
          170,
          162,
          160,
          160,
          162,
          164,
          164,
          162,
          162,
          166,
          160,
          163,
          179,
          168,
          173,
          178,
          173,
          180,
          173,
          171,
          178,
          170,
          166,
          166,
          166,
          166,
          166,
          166,
          180,
          180,
          175,
          170,
          170,
          170,
          175,
          184,
          175,
          180,
          191,
          180,
          170,
          170,
          170,
          176,
          176,
          176,
          155,
          160,
          156,
          173,
          173,
          179,
          172,
          176,
          172,
          192,
          192,
          192
         ],
         "z": [
          65,
          65,
          65,
          47,
          47,
          59,
          70,
          77,
          73,
          77,
          77,
          80,
          55,
          73,
          72,
          80,
          79,
          79,
          65,
          58,
          65,
          85,
          85,
          62,
          84,
          74,
          82,
          79,
          82,
          68,
          72,
          72,
          85,
          57,
          57,
          56,
          62,
          62,
          62,
          68,
          68,
          68,
          77,
          83,
          83,
          120,
          120,
          120,
          120,
          120,
          128,
          77,
          77,
          77,
          94,
          92,
          94,
          86,
          86,
          86,
          67,
          67,
          67,
          75,
          75,
          80,
          134,
          125,
          120,
          74,
          74,
          74,
          50,
          43,
          52,
          63,
          55,
          61,
          65,
          59,
          60,
          47,
          50,
          45,
          53,
          55,
          55,
          42,
          42,
          53,
          55,
          61,
          70,
          65,
          59,
          57,
          61,
          72,
          58,
          57,
          59,
          60,
          47,
          47,
          47,
          60,
          60,
          60,
          85,
          85,
          70,
          75,
          75,
          75,
          64,
          69,
          64,
          58,
          72,
          58,
          74,
          72,
          74,
          65,
          65,
          65,
          49,
          45,
          45,
          62,
          59,
          66,
          95,
          136,
          95,
          72,
          72,
          72
         ]
        },
        {
         "customdata": [
          [
           "Badminton Men's Doubles",
           "Malaysia"
          ],
          [
           "Badminton Men's Doubles",
           "Malaysia"
          ],
          [
           "Badminton Men's Doubles",
           "Great Britain"
          ],
          [
           "Badminton Men's Singles",
           "Denmark"
          ],
          [
           "Badminton Men's Singles",
           "Denmark"
          ],
          [
           "Badminton Men's Singles",
           "Denmark"
          ],
          [
           "Badminton Mixed Doubles",
           "Malaysia"
          ],
          [
           "Badminton Mixed Doubles",
           "Indonesia"
          ],
          [
           "Badminton Mixed Doubles",
           "Malaysia"
          ],
          [
           "Badminton Women's Doubles",
           "South Korea-1"
          ],
          [
           "Badminton Women's Doubles",
           "South Korea-1"
          ],
          [
           "Badminton Women's Doubles",
           "South Korea-1"
          ],
          [
           "Badminton Women's Singles",
           "India"
          ],
          [
           "Badminton Women's Singles",
           "Spain"
          ],
          [
           "Badminton Women's Singles",
           "Japan"
          ]
         ],
         "hovertemplate": "Sport=Badminton<br>Age=%{x}<br>Height=%{y}<br>Weight=%{z}<br>Event=%{customdata[0]}<br>Team=%{customdata[1]}<extra></extra>",
         "legendgroup": "Badminton",
         "marker": {
          "color": "#ab63fa",
          "symbol": "circle"
         },
         "mode": "markers",
         "name": "Badminton",
         "scene": "scene",
         "showlegend": true,
         "type": "scatter3d",
         "x": [
          27,
          27,
          26,
          22,
          22,
          22,
          28,
          29,
          27,
          26,
          26,
          21,
          21,
          23,
          21
         ],
         "y": [
          180,
          177,
          175,
          194,
          194,
          194,
          175,
          179,
          166,
          172,
          172,
          173,
          179,
          172,
          156
         ],
         "z": [
          70,
          77,
          80,
          88,
          88,
          88,
          68,
          72,
          56,
          59,
          59,
          70,
          65,
          65,
          51
         ]
        },
        {
         "customdata": [
          [
           "Basketball Men's Basketball",
           "Serbia"
          ],
          [
           "Basketball Men's Basketball",
           "United States"
          ],
          [
           "Basketball Men's Basketball",
           "Spain"
          ],
          [
           "Basketball Women's Basketball",
           "Spain"
          ],
          [
           "Basketball Women's Basketball",
           "United States"
          ],
          [
           "Basketball Women's Basketball",
           "Serbia"
          ]
         ],
         "hovertemplate": "Sport=Basketball<br>Age=%{x}<br>Height=%{y}<br>Weight=%{z}<br>Event=%{customdata[0]}<br>Team=%{customdata[1]}<extra></extra>",
         "legendgroup": "Basketball",
         "marker": {
          "color": "#FFA15A",
          "symbol": "circle"
         },
         "mode": "markers",
         "name": "Basketball",
         "scene": "scene",
         "showlegend": true,
         "type": "scatter3d",
         "x": [
          28,
          24,
          23,
          24,
          25,
          26
         ],
         "y": [
          199,
          203,
          198,
          191,
          203,
          179
         ],
         "z": [
          96,
          102,
          93,
          78,
          94,
          72
         ]
        },
        {
         "customdata": [
          [
           "Beach Volleyball Men's Beach Volleyball",
           "Italy"
          ],
          [
           "Beach Volleyball Men's Beach Volleyball",
           "Brazil-1"
          ],
          [
           "Beach Volleyball Men's Beach Volleyball",
           "Netherlands-1"
          ],
          [
           "Beach Volleyball Women's Beach Volleyball",
           "Brazil-1"
          ],
          [
           "Beach Volleyball Women's Beach Volleyball",
           "Germany-1"
          ],
          [
           "Beach Volleyball Women's Beach Volleyball",
           "Brazil-1"
          ]
         ],
         "hovertemplate": "Sport=Beach Volleyball<br>Age=%{x}<br>Height=%{y}<br>Weight=%{z}<br>Event=%{customdata[0]}<br>Team=%{customdata[1]}<extra></extra>",
         "legendgroup": "Beach Volleyball",
         "marker": {
          "color": "#19d3f3",
          "symbol": "circle"
         },
         "mode": "markers",
         "name": "Beach Volleyball",
         "scene": "scene",
         "showlegend": true,
         "type": "scatter3d",
         "x": [
          25,
          29,
          26,
          29,
          25,
          33
         ],
         "y": [
          183,
          185,
          198,
          178,
          184,
          182
         ],
         "z": [
          77,
          87,
          88,
          67,
          75,
          70
         ]
        },
        {
         "customdata": [
          [
           "Boxing Men's Bantamweight",
           "United States"
          ],
          [
           "Boxing Men's Bantamweight",
           "Uzbekistan"
          ],
          [
           "Boxing Men's Bantamweight",
           "Russia"
          ],
          [
           "Boxing Men's Featherweight",
           "Brazil"
          ],
          [
           "Boxing Men's Featherweight",
           "Brazil"
          ],
          [
           "Boxing Men's Featherweight",
           "Brazil"
          ],
          [
           "Boxing Men's Flyweight",
           "China"
          ],
          [
           "Boxing Men's Flyweight",
           "Uzbekistan"
          ],
          [
           "Boxing Men's Flyweight",
           "Venezuela"
          ],
          [
           "Boxing Men's Heavyweight",
           "Kazakhstan"
          ],
          [
           "Boxing Men's Heavyweight",
           "Russia"
          ],
          [
           "Boxing Men's Heavyweight",
           "Uzbekistan"
          ],
          [
           "Boxing Men's Light-Flyweight",
           "Colombia"
          ],
          [
           "Boxing Men's Light-Flyweight",
           "Uzbekistan"
          ],
          [
           "Boxing Men's Light-Flyweight",
           "Cuba"
          ],
          [
           "Boxing Men's Light-Heavyweight",
           "Great Britain"
          ],
          [
           "Boxing Men's Light-Heavyweight",
           "Cuba"
          ],
          [
           "Boxing Men's Light-Heavyweight",
           "France"
          ],
          [
           "Boxing Men's Light-Welterweight",
           "Azerbaijan"
          ],
          [
           "Boxing Men's Light-Welterweight",
           "Russia"
          ],
          [
           "Boxing Men's Light-Welterweight",
           "Germany"
          ],
          [
           "Boxing Men's Lightweight",
           "France"
          ],
          [
           "Boxing Men's Lightweight",
           "Uzbekistan"
          ],
          [
           "Boxing Men's Lightweight",
           "Mongolia"
          ],
          [
           "Boxing Men's Middleweight",
           "Uzbekistan"
          ],
          [
           "Boxing Men's Middleweight",
           "Cuba"
          ],
          [
           "Boxing Men's Middleweight",
           "Azerbaijan"
          ],
          [
           "Boxing Men's Super-Heavyweight",
           "France"
          ],
          [
           "Boxing Men's Super-Heavyweight",
           "Great Britain"
          ],
          [
           "Boxing Men's Super-Heavyweight",
           "Croatia"
          ],
          [
           "Boxing Men's Welterweight",
           "Uzbekistan"
          ],
          [
           "Boxing Men's Welterweight",
           "France"
          ],
          [
           "Boxing Men's Welterweight",
           "Morocco"
          ],
          [
           "Boxing Women's Flyweight",
           "France"
          ],
          [
           "Boxing Women's Flyweight",
           "France"
          ],
          [
           "Boxing Women's Flyweight",
           "Colombia"
          ],
          [
           "Boxing Women's Lightweight",
           "China"
          ],
          [
           "Boxing Women's Lightweight",
           "France"
          ],
          [
           "Boxing Women's Lightweight",
           "Russia"
          ],
          [
           "Boxing Women's Middleweight",
           "Netherlands"
          ],
          [
           "Boxing Women's Middleweight",
           "China"
          ],
          [
           "Boxing Women's Middleweight",
           "China"
          ]
         ],
         "hovertemplate": "Sport=Boxing<br>Age=%{x}<br>Height=%{y}<br>Weight=%{z}<br>Event=%{customdata[0]}<br>Team=%{customdata[1]}<extra></extra>",
         "legendgroup": "Boxing",
         "marker": {
          "color": "#FF6692",
          "symbol": "circle"
         },
         "mode": "markers",
         "name": "Boxing",
         "scene": "scene",
         "showlegend": true,
         "type": "scatter3d",
         "x": [
          19,
          21,
          26,
          27,
          27,
          27,
          23,
          23,
          19,
          28,
          25,
          24,
          24,
          23,
          19,
          23,
          26,
          27,
          31,
          24,
          25,
          21,
          25,
          28,
          20,
          23,
          23,
          24,
          30,
          24,
          23,
          25,
          23,
          34,
          34,
          27,
          25,
          23,
          23,
          28,
          26,
          26
         ],
         "y": [
          173,
          165,
          165,
          171,
          171,
          171,
          168,
          169,
          168,
          185,
          196,
          186,
          165,
          156,
          152,
          185,
          182,
          185,
          185,
          174,
          172,
          174,
          169,
          170,
          177,
          178,
          180,
          200,
          197,
          198,
          174,
          179,
          180,
          158,
          158,
          160,
          167,
          168,
          173,
          180,
          180,
          180
         ],
         "z": [
          56,
          56,
          56,
          57,
          57,
          57,
          52,
          52,
          52,
          91,
          91,
          91,
          49,
          49,
          49,
          81,
          81,
          81,
          64,
          64,
          64,
          60,
          64,
          60,
          75,
          75,
          75,
          105,
          108,
          101,
          69,
          69,
          69,
          51,
          51,
          50,
          60,
          60,
          60,
          75,
          75,
          75
         ]
        },
        {
         "customdata": [
          [
           "Canoeing Men's Canadian Doubles, 1,000 metres",
           "Brazil"
          ],
          [
           "Canoeing Men's Canadian Doubles, 1,000 metres",
           "Germany"
          ],
          [
           "Canoeing Men's Canadian Doubles, 1,000 metres",
           "Ukraine"
          ],
          [
           "Canoeing Men's Canadian Doubles, Slalom",
           "France"
          ],
          [
           "Canoeing Men's Canadian Doubles, Slalom",
           "Slovakia"
          ],
          [
           "Canoeing Men's Canadian Doubles, Slalom",
           "France"
          ],
          [
           "Canoeing Men's Canadian Singles, 1,000 metres",
           "Russia"
          ],
          [
           "Canoeing Men's Canadian Singles, 1,000 metres",
           "Russia"
          ],
          [
           "Canoeing Men's Canadian Singles, 1,000 metres",
           "Russia"
          ],
          [
           "Canoeing Men's Canadian Singles, 200 metres",
           "Azerbaijan"
          ],
          [
           "Canoeing Men's Canadian Singles, 200 metres",
           "Azerbaijan"
          ],
          [
           "Canoeing Men's Canadian Singles, 200 metres",
           "Brazil"
          ],
          [
           "Canoeing Men's Canadian Singles, Slalom",
           "Slovakia"
          ],
          [
           "Canoeing Men's Canadian Singles, Slalom",
           "France"
          ],
          [
           "Canoeing Men's Canadian Singles, Slalom",
           "Japan"
          ],
          [
           "Canoeing Men's Kayak Doubles, 1,000 metres",
           "Australia"
          ],
          [
           "Canoeing Men's Kayak Doubles, 1,000 metres",
           "Germany"
          ],
          [
           "Canoeing Men's Kayak Doubles, 1,000 metres",
           "Australia"
          ],
          [
           "Canoeing Men's Kayak Doubles, 200 metres",
           "Lithuania"
          ],
          [
           "Canoeing Men's Kayak Doubles, 200 metres",
           "Spain"
          ],
          [
           "Canoeing Men's Kayak Doubles, 200 metres",
           "Lithuania"
          ],
          [
           "Canoeing Men's Kayak Fours, 1,000 metres",
           "Slovakia"
          ],
          [
           "Canoeing Men's Kayak Fours, 1,000 metres",
           "Germany"
          ],
          [
           "Canoeing Men's Kayak Fours, 1,000 metres",
           "Slovakia"
          ],
          [
           "Canoeing Men's Kayak Singles, 1,000 metres",
           "Serbia"
          ],
          [
           "Canoeing Men's Kayak Singles, 1,000 metres",
           "Spain"
          ],
          [
           "Canoeing Men's Kayak Singles, 1,000 metres",
           "Russia"
          ],
          [
           "Canoeing Men's Kayak Singles, 200 metres",
           "France"
          ],
          [
           "Canoeing Men's Kayak Singles, 200 metres",
           "France"
          ],
          [
           "Canoeing Men's Kayak Singles, 200 metres",
           "France"
          ],
          [
           "Canoeing Men's Kayak Singles, Slalom",
           "Slovenia"
          ],
          [
           "Canoeing Men's Kayak Singles, Slalom",
           "Great Britain"
          ],
          [
           "Canoeing Men's Kayak Singles, Slalom",
           "Czech Republic"
          ],
          [
           "Canoeing Women's Kayak Fours, 500 metres",
           "Germany"
          ],
          [
           "Canoeing Women's Kayak Fours, 500 metres",
           "Hungary"
          ],
          [
           "Canoeing Women's Kayak Fours, 500 metres",
           "Germany"
          ],
          [
           "Canoeing Women's Kayak Singles, 200 metres",
           "Poland"
          ],
          [
           "Canoeing Women's Kayak Singles, 200 metres",
           "Belarus"
          ],
          [
           "Canoeing Women's Kayak Singles, 200 metres",
           "Belarus"
          ],
          [
           "Canoeing Women's Kayak Singles, 500 metres",
           "Denmark"
          ],
          [
           "Canoeing Women's Kayak Singles, 500 metres",
           "Denmark"
          ],
          [
           "Canoeing Women's Kayak Singles, 500 metres",
           "Denmark"
          ],
          [
           "Canoeing Women's Kayak Singles, Slalom",
           "New Zealand"
          ],
          [
           "Canoeing Women's Kayak Singles, Slalom",
           "New Zealand"
          ],
          [
           "Canoeing Women's Kayak Singles, Slalom",
           "New Zealand"
          ]
         ],
         "hovertemplate": "Sport=Canoeing<br>Age=%{x}<br>Height=%{y}<br>Weight=%{z}<br>Event=%{customdata[0]}<br>Team=%{customdata[1]}<extra></extra>",
         "legendgroup": "Canoeing",
         "marker": {
          "color": "#B6E880",
          "symbol": "circle"
         },
         "mode": "markers",
         "name": "Canoeing",
         "scene": "scene",
         "showlegend": true,
         "type": "scatter3d",
         "x": [
          25,
          24,
          21,
          28,
          33,
          28,
          29,
          29,
          29,
          32,
          32,
          22,
          28,
          29,
          29,
          27,
          22,
          27,
          30,
          24,
          30,
          20,
          26,
          21,
          26,
          21,
          28,
          34,
          34,
          34,
          32,
          23,
          23,
          24,
          26,
          23,
          29,
          24,
          24,
          20,
          20,
          20,
          27,
          27,
          27
         ],
         "y": [
          175,
          188,
          187,
          171,
          189,
          175,
          185,
          185,
          185,
          193,
          193,
          175,
          196,
          181,
          175,
          176,
          186,
          176,
          178,
          188,
          184,
          189,
          182,
          199,
          174,
          184,
          192,
          191,
          191,
          191,
          177,
          182,
          173,
          167,
          176,
          178,
          165,
          181,
          181,
          169,
          169,
          169,
          172,
          172,
          172
         ],
         "z": [
          78,
          88,
          85,
          65,
          80,
          75,
          95,
          95,
          95,
          93,
          93,
          85,
          83,
          76,
          70,
          80,
          90,
          80,
          89,
          90,
          90,
          90,
          85,
          95,
          80,
          82,
          95,
          94,
          94,
          94,
          70,
          76,
          69,
          70,
          78,
          70,
          63,
          67,
          67,
          70,
          70,
          70,
          68,
          68,
          68
         ]
        },
        {
         "customdata": [
          [
           "Cycling Men's 1,000 metres Time Trial",
           "France"
          ],
          [
           "Cycling Men's 1,000 metres Time Trial",
           "France"
          ],
          [
           "Cycling Men's 1,000 metres Time Trial",
           "France"
          ],
          [
           "Cycling Men's BMX",
           "Netherlands"
          ],
          [
           "Cycling Men's BMX",
           "United States"
          ],
          [
           "Cycling Men's BMX",
           "Colombia"
          ],
          [
           "Cycling Men's Keirin",
           "Netherlands"
          ],
          [
           "Cycling Men's Keirin",
           "Netherlands"
          ],
          [
           "Cycling Men's Keirin",
           "Netherlands"
          ],
          [
           "Cycling Men's Madison",
           "Great Britain"
          ],
          [
           "Cycling Men's Madison",
           "Great Britain"
          ],
          [
           "Cycling Men's Madison",
           "Great Britain"
          ],
          [
           "Cycling Men's Mountainbike, Cross-Country",
           "Denmark"
          ],
          [
           "Cycling Men's Mountainbike, Cross-Country",
           "Spain"
          ],
          [
           "Cycling Men's Mountainbike, Cross-Country",
           "Spain"
          ],
          [
           "Cycling Men's Road Race, Individual",
           "Belgium"
          ],
          [
           "Cycling Men's Road Race, Individual",
           "Poland"
          ],
          [
           "Cycling Men's Road Race, Individual",
           "Netherlands"
          ],
          [
           "Cycling Men's Sprint",
           "New Zealand"
          ],
          [
           "Cycling Men's Sprint",
           "Great Britain"
          ],
          [
           "Cycling Men's Sprint",
           "Russia"
          ],
          [
           "Cycling Men's Team Pursuit, 4,000 metres",
           "Australia"
          ],
          [
           "Cycling Men's Team Pursuit, 4,000 metres",
           "Great Britain"
          ],
          [
           "Cycling Men's Team Pursuit, 4,000 metres",
           "Denmark"
          ],
          [
           "Cycling Men's Team Sprint",
           "New Zealand"
          ],
          [
           "Cycling Men's Team Sprint",
           "New Zealand"
          ],
          [
           "Cycling Men's Team Sprint",
           "New Zealand"
          ],
          [
           "Cycling Women's BMX",
           "United States"
          ],
          [
           "Cycling Women's BMX",
           "United States"
          ],
          [
           "Cycling Women's BMX",
           "Venezuela"
          ],
          [
           "Cycling Women's Mountainbike, Cross-Country",
           "Canada"
          ],
          [
           "Cycling Women's Mountainbike, Cross-Country",
           "Sweden"
          ],
          [
           "Cycling Women's Mountainbike, Cross-Country",
           "Canada"
          ],
          [
           "Cycling Women's Omnium",
           "Belgium"
          ],
          [
           "Cycling Women's Omnium",
           "Belgium"
          ],
          [
           "Cycling Women's Omnium",
           "Belgium"
          ],
          [
           "Cycling Women's Road Race, Individual",
           "Italy"
          ],
          [
           "Cycling Women's Road Race, Individual",
           "Netherlands"
          ],
          [
           "Cycling Women's Road Race, Individual",
           "Italy"
          ],
          [
           "Cycling Women's Sprint",
           "Great Britain"
          ],
          [
           "Cycling Women's Sprint",
           "Netherlands"
          ],
          [
           "Cycling Women's Sprint",
           "Great Britain"
          ],
          [
           "Cycling Women's Team Pursuit",
           "United States"
          ],
          [
           "Cycling Women's Team Pursuit",
           "Great Britain"
          ],
          [
           "Cycling Women's Team Pursuit",
           "Canada"
          ]
         ],
         "hovertemplate": "Sport=Cycling<br>Age=%{x}<br>Height=%{y}<br>Weight=%{z}<br>Event=%{customdata[0]}<br>Team=%{customdata[1]}<extra></extra>",
         "legendgroup": "Cycling",
         "marker": {
          "color": "#FF97FF",
          "symbol": "circle"
         },
         "mode": "markers",
         "name": "Cycling",
         "scene": "scene",
         "showlegend": true,
         "type": "scatter3d",
         "x": [
          31,
          31,
          31,
          25,
          23,
          22,
          23,
          23,
          23,
          31,
          31,
          31,
          31,
          34,
          34,
          31,
          26,
          25,
          27,
          23,
          30,
          19,
          23,
          19,
          25,
          25,
          25,
          25,
          25,
          25,
          35,
          22,
          35,
          26,
          26,
          26,
          24,
          26,
          24,
          24,
          22,
          23,
          21,
          22,
          29
         ],
         "y": [
          180,
          180,
          180,
          187,
          183,
          178,
          188,
          188,
          188,
          175,
          175,
          175,
          183,
          171,
          171,
          181,
          173,
          186,
          185,
          187,
          177,
          184,
          181,
          180,
          180,
          180,
          180,
          158,
          158,
          165,
          166,
          165,
          166,
          176,
          176,
          176,
          170,
          167,
          170,
          171,
          185,
          170,
          176,
          178,
          167
         ],
         "z": [
          88,
          88,
          88,
          93,
          88,
          65,
          90,
          90,
          90,
          70,
          70,
          70,
          69,
          65,
          65,
          74,
          61,
          70,
          93,
          93,
          90,
          77,
          73,
          74,
          83,
          83,
          83,
          58,
          58,
          65,
          50,
          55,
          50,
          64,
          64,
          64,
          59,
          56,
          59,
          66,
          90,
          72,
          74,
          70,
          61
         ]
        },
        {
         "customdata": [
          [
           "Diving Men's Platform",
           "United States"
          ],
          [
           "Diving Men's Platform",
           "China"
          ],
          [
           "Diving Men's Platform",
           "China"
          ],
          [
           "Diving Men's Springboard",
           "United States"
          ],
          [
           "Diving Men's Springboard",
           "Great Britain"
          ],
          [
           "Diving Men's Springboard",
           "Great Britain"
          ],
          [
           "Diving Men's Synchronized Platform",
           "Great Britain"
          ],
          [
           "Diving Men's Synchronized Platform",
           "Great Britain"
          ],
          [
           "Diving Men's Synchronized Platform",
           "Great Britain"
          ],
          [
           "Diving Men's Synchronized Springboard",
           "United States"
          ],
          [
           "Diving Men's Synchronized Springboard",
           "United States"
          ],
          [
           "Diving Men's Synchronized Springboard",
           "United States"
          ],
          [
           "Diving Women's Platform",
           "China"
          ],
          [
           "Diving Women's Platform",
           "China"
          ],
          [
           "Diving Women's Platform",
           "China"
          ],
          [
           "Diving Women's Springboard",
           "Malaysia"
          ],
          [
           "Diving Women's Springboard",
           "China"
          ],
          [
           "Diving Women's Springboard",
           "Australia"
          ],
          [
           "Diving Women's Synchronized Platform",
           "China"
          ],
          [
           "Diving Women's Synchronized Platform",
           "China"
          ],
          [
           "Diving Women's Synchronized Platform",
           "China"
          ],
          [
           "Diving Women's Synchronized Springboard",
           "Italy"
          ],
          [
           "Diving Women's Synchronized Springboard",
           "Australia"
          ],
          [
           "Diving Women's Synchronized Springboard",
           "Australia"
          ]
         ],
         "hovertemplate": "Sport=Diving<br>Age=%{x}<br>Height=%{y}<br>Weight=%{z}<br>Event=%{customdata[0]}<br>Team=%{customdata[1]}<extra></extra>",
         "legendgroup": "Diving",
         "marker": {
          "color": "#FECB52",
          "symbol": "circle"
         },
         "mode": "markers",
         "name": "Diving",
         "scene": "scene",
         "showlegend": true,
         "type": "scatter3d",
         "x": [
          20,
          20,
          20,
          22,
          21,
          23,
          19,
          19,
          19,
          24,
          24,
          24,
          17,
          15,
          17,
          26,
          24,
          20,
          18,
          18,
          18,
          30,
          23,
          23
         ],
         "y": [
          188,
          168,
          168,
          173,
          166,
          172,
          167,
          167,
          167,
          175,
          175,
          175,
          164,
          162,
          164,
          150,
          159,
          167,
          157,
          157,
          157,
          163,
          168,
          168
         ],
         "z": [
          80,
          60,
          60,
          68,
          65,
          70,
          58,
          58,
          58,
          77,
          77,
          77,
          57,
          49,
          57,
          48,
          52,
          62,
          48,
          48,
          48,
          57,
          55,
          55
         ]
        },
        {
         "customdata": [
          [
           "Equestrianism Mixed Dressage, Individual",
           "Great Britain"
          ],
          [
           "Equestrianism Mixed Dressage, Individual",
           "Germany"
          ],
          [
           "Equestrianism Mixed Dressage, Individual",
           "United States"
          ],
          [
           "Equestrianism Mixed Jumping, Individual",
           "United States"
          ],
          [
           "Equestrianism Mixed Jumping, Individual",
           "France"
          ],
          [
           "Equestrianism Mixed Jumping, Individual",
           "Germany"
          ],
          [
           "Equestrianism Mixed Three-Day Event, Individual",
           "Germany"
          ],
          [
           "Equestrianism Mixed Three-Day Event, Individual",
           "France"
          ],
          [
           "Equestrianism Mixed Three-Day Event, Individual",
           "Australia"
          ]
         ],
         "hovertemplate": "Sport=Equestrianism<br>Age=%{x}<br>Height=%{y}<br>Weight=%{z}<br>Event=%{customdata[0]}<br>Team=%{customdata[1]}<extra></extra>",
         "legendgroup": "Equestrianism",
         "marker": {
          "color": "#636efa",
          "symbol": "circle"
         },
         "mode": "markers",
         "name": "Equestrianism",
         "scene": "scene",
         "showlegend": true,
         "type": "scatter3d",
         "x": [
          40,
          21,
          28,
          35,
          50,
          34,
          27,
          32,
          34
         ],
         "y": [
          173,
          193,
          163,
          173,
          176,
          190,
          168,
          176,
          180
         ],
         "z": [
          75,
          73,
          59,
          66,
          80,
          76,
          65,
          70,
          70
         ]
        },
        {
         "customdata": [
          [
           "Fencing Men's Foil, Individual",
           "France"
          ],
          [
           "Fencing Men's Foil, Individual",
           "Italy"
          ],
          [
           "Fencing Men's Foil, Individual",
           "United States"
          ],
          [
           "Fencing Men's Foil, Team",
           "France"
          ],
          [
           "Fencing Men's Foil, Team",
           "France"
          ],
          [
           "Fencing Men's Foil, Team",
           "France"
          ],
          [
           "Fencing Men's Sabre, Individual",
           "United States"
          ],
          [
           "Fencing Men's Sabre, Individual",
           "United States"
          ],
          [
           "Fencing Men's Sabre, Individual",
           "United States"
          ],
          [
           "Fencing Men's epee, Individual",
           "Italy"
          ],
          [
           "Fencing Men's epee, Individual",
           "France"
          ],
          [
           "Fencing Men's epee, Individual",
           "Italy"
          ],
          [
           "Fencing Men's epee, Team",
           "Italy"
          ],
          [
           "Fencing Men's epee, Team",
           "France"
          ],
          [
           "Fencing Men's epee, Team",
           "Hungary"
          ],
          [
           "Fencing Women's Foil, Individual",
           "Tunisia"
          ],
          [
           "Fencing Women's Foil, Individual",
           "Tunisia"
          ],
          [
           "Fencing Women's Foil, Individual",
           "Tunisia"
          ],
          [
           "Fencing Women's Sabre, Individual",
           "Ukraine"
          ],
          [
           "Fencing Women's Sabre, Individual",
           "Russia"
          ],
          [
           "Fencing Women's Sabre, Individual",
           "United States"
          ],
          [
           "Fencing Women's Sabre, Team",
           "Ukraine"
          ],
          [
           "Fencing Women's Sabre, Team",
           "United States"
          ],
          [
           "Fencing Women's Sabre, Team",
           "United States"
          ],
          [
           "Fencing Women's epee, Individual",
           "Italy"
          ],
          [
           "Fencing Women's epee, Individual",
           "Hungary"
          ],
          [
           "Fencing Women's epee, Individual",
           "Russia"
          ],
          [
           "Fencing Women's epee, Team",
           "China"
          ],
          [
           "Fencing Women's epee, Team",
           "Romania"
          ],
          [
           "Fencing Women's epee, Team",
           "China"
          ]
         ],
         "hovertemplate": "Sport=Fencing<br>Age=%{x}<br>Height=%{y}<br>Weight=%{z}<br>Event=%{customdata[0]}<br>Team=%{customdata[1]}<extra></extra>",
         "legendgroup": "Fencing",
         "marker": {
          "color": "#EF553B",
          "symbol": "circle"
         },
         "mode": "markers",
         "name": "Fencing",
         "scene": "scene",
         "showlegend": true,
         "type": "scatter3d",
         "x": [
          24,
          23,
          26,
          26,
          26,
          26,
          26,
          26,
          26,
          27,
          27,
          22,
          23,
          38,
          36,
          27,
          27,
          27,
          23,
          22,
          30,
          26,
          26,
          26,
          25,
          33,
          25,
          28,
          32,
          28
         ],
         "y": [
          190,
          177,
          193,
          177,
          177,
          177,
          173,
          173,
          173,
          190,
          197,
          180,
          184,
          186,
          188,
          167,
          167,
          167,
          169,
          175,
          170,
          165,
          183,
          183,
          167,
          176,
          176,
          176,
          168,
          176
         ],
         "z": [
          80,
          65,
          80,
          77,
          77,
          77,
          74,
          74,
          74,
          70,
          100,
          74,
          76,
          78,
          85,
          56,
          56,
          56,
          75,
          64,
          68,
          65,
          74,
          74,
          50,
          71,
          64,
          66,
          60,
          66
         ]
        },
        {
         "customdata": [
          [
           "Football Men's Football",
           "Germany"
          ],
          [
           "Football Men's Football",
           "Brazil"
          ],
          [
           "Football Men's Football",
           "Nigeria"
          ],
          [
           "Football Women's Football",
           "Sweden"
          ],
          [
           "Football Women's Football",
           "Germany"
          ],
          [
           "Football Women's Football",
           "Canada"
          ]
         ],
         "hovertemplate": "Sport=Football<br>Age=%{x}<br>Height=%{y}<br>Weight=%{z}<br>Event=%{customdata[0]}<br>Team=%{customdata[1]}<extra></extra>",
         "legendgroup": "Football",
         "marker": {
          "color": "#00cc96",
          "symbol": "circle"
         },
         "mode": "markers",
         "name": "Football",
         "scene": "scene",
         "showlegend": true,
         "type": "scatter3d",
         "x": [
          27,
          22,
          21,
          26,
          26,
          23
         ],
         "y": [
          184,
          173,
          172,
          168,
          175,
          173
         ],
         "z": [
          80,
          69,
          72,
          65,
          68,
          71
         ]
        },
        {
         "customdata": [
          [
           "Golf Men's Individual",
           "Sweden"
          ],
          [
           "Golf Men's Individual",
           "United States"
          ],
          [
           "Golf Men's Individual",
           "United States"
          ],
          [
           "Golf Women's Individual",
           "China"
          ],
          [
           "Golf Women's Individual",
           "South Korea"
          ],
          [
           "Golf Women's Individual",
           "China"
          ]
         ],
         "hovertemplate": "Sport=Golf<br>Age=%{x}<br>Height=%{y}<br>Weight=%{z}<br>Event=%{customdata[0]}<br>Team=%{customdata[1]}<extra></extra>",
         "legendgroup": "Golf",
         "marker": {
          "color": "#ab63fa",
          "symbol": "circle"
         },
         "mode": "markers",
         "name": "Golf",
         "scene": "scene",
         "showlegend": true,
         "type": "scatter3d",
         "x": [
          40,
          38,
          38,
          26,
          28,
          26
         ],
         "y": [
          188,
          193,
          193,
          170,
          168,
          170
         ],
         "z": [
          86,
          86,
          86,
          85,
          65,
          85
         ]
        },
        {
         "customdata": [
          [
           "Gymnastics Men's Horse Vault",
           "North Korea"
          ],
          [
           "Gymnastics Men's Horse Vault",
           "North Korea"
          ],
          [
           "Gymnastics Men's Horse Vault",
           "North Korea"
          ],
          [
           "Gymnastics Men's Individual All-Around",
           "Russia"
          ],
          [
           "Gymnastics Men's Individual All-Around",
           "Ukraine"
          ],
          [
           "Gymnastics Men's Individual All-Around",
           "China"
          ],
          [
           "Gymnastics Men's Rings",
           "Greece"
          ],
          [
           "Gymnastics Men's Rings",
           "Greece"
          ],
          [
           "Gymnastics Men's Rings",
           "Greece"
          ],
          [
           "Gymnastics Men's Team All-Around",
           "Russia"
          ],
          [
           "Gymnastics Men's Team All-Around",
           "Japan"
          ],
          [
           "Gymnastics Men's Team All-Around",
           "China"
          ],
          [
           "Gymnastics Women's Individual All-Around",
           "Russia"
          ],
          [
           "Gymnastics Women's Individual All-Around",
           "United States"
          ],
          [
           "Gymnastics Women's Individual All-Around",
           "China"
          ],
          [
           "Gymnastics Women's Team All-Around",
           "United States"
          ],
          [
           "Gymnastics Women's Team All-Around",
           "Netherlands"
          ],
          [
           "Gymnastics Women's Team All-Around",
           "China"
          ]
         ],
         "hovertemplate": "Sport=Gymnastics<br>Age=%{x}<br>Height=%{y}<br>Weight=%{z}<br>Event=%{customdata[0]}<br>Team=%{customdata[1]}<extra></extra>",
         "legendgroup": "Gymnastics",
         "marker": {
          "color": "#FFA15A",
          "symbol": "circle"
         },
         "mode": "markers",
         "name": "Gymnastics",
         "scene": "scene",
         "showlegend": true,
         "type": "scatter3d",
         "x": [
          31,
          31,
          31,
          19,
          22,
          20,
          25,
          25,
          25,
          19,
          19,
          21,
          16,
          19,
          16,
          16,
          24,
          16
         ],
         "y": [
          155,
          155,
          155,
          166,
          161,
          163,
          164,
          164,
          164,
          170,
          162,
          162,
          151,
          143,
          140,
          152,
          156,
          148
         ],
         "z": [
          54,
          54,
          54,
          67,
          55,
          60,
          62,
          62,
          62,
          59,
          51,
          61,
          44,
          47,
          33,
          49,
          46,
          37
         ]
        },
        {
         "customdata": [
          [
           "Handball Men's Handball",
           "France"
          ],
          [
           "Handball Men's Handball",
           "Denmark"
          ],
          [
           "Handball Men's Handball",
           "Germany"
          ],
          [
           "Handball Women's Handball",
           "France"
          ],
          [
           "Handball Women's Handball",
           "Russia"
          ],
          [
           "Handball Women's Handball",
           "Norway"
          ]
         ],
         "hovertemplate": "Sport=Handball<br>Age=%{x}<br>Height=%{y}<br>Weight=%{z}<br>Event=%{customdata[0]}<br>Team=%{customdata[1]}<extra></extra>",
         "legendgroup": "Handball",
         "marker": {
          "color": "#19d3f3",
          "symbol": "circle"
         },
         "mode": "markers",
         "name": "Handball",
         "scene": "scene",
         "showlegend": true,
         "type": "scatter3d",
         "x": [
          25,
          28,
          29,
          29,
          32,
          24
         ],
         "y": [
          190,
          196,
          188,
          177,
          184,
          168
         ],
         "z": [
          92,
          98,
          88,
          73,
          74,
          65
         ]
        },
        {
         "customdata": [
          [
           "Hockey Men's Hockey",
           "Belgium"
          ],
          [
           "Hockey Men's Hockey",
           "Argentina"
          ],
          [
           "Hockey Men's Hockey",
           "Germany"
          ],
          [
           "Hockey Women's Hockey",
           "Netherlands"
          ],
          [
           "Hockey Women's Hockey",
           "Great Britain"
          ],
          [
           "Hockey Women's Hockey",
           "Germany"
          ]
         ],
         "hovertemplate": "Sport=Hockey<br>Age=%{x}<br>Height=%{y}<br>Weight=%{z}<br>Event=%{customdata[0]}<br>Team=%{customdata[1]}<extra></extra>",
         "legendgroup": "Hockey",
         "marker": {
          "color": "#FF6692",
          "symbol": "circle"
         },
         "mode": "markers",
         "name": "Hockey",
         "scene": "scene",
         "showlegend": true,
         "type": "scatter3d",
         "x": [
          28,
          30,
          22,
          28,
          27,
          26
         ],
         "y": [
          174,
          179,
          180,
          181,
          168,
          172
         ],
         "z": [
          69,
          79,
          77,
          69,
          62,
          63
         ]
        },
        {
         "customdata": [
          [
           "Judo Men's Extra-Lightweight",
           "Kazakhstan"
          ],
          [
           "Judo Men's Extra-Lightweight",
           "Russia"
          ],
          [
           "Judo Men's Extra-Lightweight",
           "Uzbekistan"
          ],
          [
           "Judo Men's Half-Heavyweight",
           "Japan"
          ],
          [
           "Judo Men's Half-Heavyweight",
           "Czech Republic"
          ],
          [
           "Judo Men's Half-Heavyweight",
           "France"
          ],
          [
           "Judo Men's Half-Lightweight",
           "South Korea"
          ],
          [
           "Judo Men's Half-Lightweight",
           "Italy"
          ],
          [
           "Judo Men's Half-Lightweight",
           "South Korea"
          ],
          [
           "Judo Men's Half-Middleweight",
           "United States"
          ],
          [
           "Judo Men's Half-Middleweight",
           "Russia"
          ],
          [
           "Judo Men's Half-Middleweight",
           "Japan"
          ],
          [
           "Judo Men's Heavyweight",
           "Japan"
          ],
          [
           "Judo Men's Heavyweight",
           "Israel"
          ],
          [
           "Judo Men's Heavyweight",
           "Israel"
          ],
          [
           "Judo Men's Lightweight",
           "Azerbaijan"
          ],
          [
           "Judo Men's Lightweight",
           "Japan"
          ],
          [
           "Judo Men's Lightweight",
           "Moldova"
          ],
          [
           "Judo Men's Middleweight",
           "Georgia"
          ],
          [
           "Judo Men's Middleweight",
           "Japan"
          ],
          [
           "Judo Men's Middleweight",
           "China"
          ],
          [
           "Judo Women's Extra-Lightweight",
           "South Korea"
          ],
          [
           "Judo Women's Extra-Lightweight",
           "South Korea"
          ],
          [
           "Judo Women's Extra-Lightweight",
           "Japan"
          ],
          [
           "Judo Women's Half-Heavyweight",
           "Slovenia"
          ],
          [
           "Judo Women's Half-Heavyweight",
           "Slovenia"
          ],
          [
           "Judo Women's Half-Heavyweight",
           "Slovenia"
          ],
          [
           "Judo Women's Half-Lightweight",
           "Italy"
          ],
          [
           "Judo Women's Half-Lightweight",
           "Albania"
          ],
          [
           "Judo Women's Half-Lightweight",
           "Russia"
          ],
          [
           "Judo Women's Half-Middleweight",
           "France"
          ],
          [
           "Judo Women's Half-Middleweight",
           "Slovenia"
          ],
          [
           "Judo Women's Half-Middleweight",
           "Israel"
          ],
          [
           "Judo Women's Heavyweight",
           "Japan"
          ],
          [
           "Judo Women's Heavyweight",
           "France"
          ],
          [
           "Judo Women's Heavyweight",
           "China"
          ],
          [
           "Judo Women's Lightweight",
           "Mongolia"
          ],
          [
           "Judo Women's Lightweight",
           "Brazil"
          ],
          [
           "Judo Women's Lightweight",
           "Mongolia"
          ],
          [
           "Judo Women's Middleweight",
           "Japan"
          ],
          [
           "Judo Women's Middleweight",
           "Japan"
          ],
          [
           "Judo Women's Middleweight",
           "Germany"
          ]
         ],
         "hovertemplate": "Sport=Judo<br>Age=%{x}<br>Height=%{y}<br>Weight=%{z}<br>Event=%{customdata[0]}<br>Team=%{customdata[1]}<extra></extra>",
         "legendgroup": "Judo",
         "marker": {
          "color": "#B6E880",
          "symbol": "circle"
         },
         "mode": "markers",
         "name": "Judo",
         "scene": "scene",
         "showlegend": true,
         "type": "scatter3d",
         "x": [
          23,
          30,
          22,
          25,
          25,
          28,
          22,
          21,
          22,
          30,
          22,
          22,
          24,
          25,
          25,
          24,
          24,
          29,
          27,
          21,
          25,
          25,
          25,
          21,
          25,
          25,
          25,
          21,
          25,
          27,
          23,
          25,
          27,
          25,
          28,
          29,
          25,
          24,
          25,
          26,
          26,
          26
         ],
         "y": [
          167,
          166,
          172,
          186,
          197,
          189,
          169,
          160,
          169,
          181,
          182,
          181,
          191,
          193,
          193,
          179,
          170,
          180,
          187,
          178,
          185,
          153,
          153,
          156,
          178,
          178,
          178,
          160,
          162,
          160,
          164,
          162,
          169,
          172,
          170,
          182,
          160,
          169,
          160,
          168,
          168,
          173
         ],
         "z": [
          60,
          60,
          60,
          100,
          105,
          108,
          66,
          66,
          66,
          80,
          81,
          81,
          125,
          120,
          120,
          73,
          73,
          81,
          94,
          90,
          90,
          51,
          51,
          48,
          78,
          78,
          78,
          52,
          52,
          52,
          66,
          65,
          63,
          108,
          97,
          128,
          59,
          57,
          59,
          70,
          70,
          70
         ]
        },
        {
         "customdata": [
          [
           "Modern Pentathlon Men's Individual",
           "Ukraine"
          ],
          [
           "Modern Pentathlon Men's Individual",
           "Russia"
          ],
          [
           "Modern Pentathlon Men's Individual",
           "Mexico"
          ],
          [
           "Modern Pentathlon Women's Individual",
           "France"
          ],
          [
           "Modern Pentathlon Women's Individual",
           "Poland"
          ],
          [
           "Modern Pentathlon Women's Individual",
           "Australia"
          ]
         ],
         "hovertemplate": "Sport=Modern Pentathlon<br>Age=%{x}<br>Height=%{y}<br>Weight=%{z}<br>Event=%{customdata[0]}<br>Team=%{customdata[1]}<extra></extra>",
         "legendgroup": "Modern Pentathlon",
         "marker": {
          "color": "#FF97FF",
          "symbol": "circle"
         },
         "mode": "markers",
         "name": "Modern Pentathlon",
         "scene": "scene",
         "showlegend": true,
         "type": "scatter3d",
         "x": [
          29,
          28,
          26,
          27,
          25,
          24
         ],
         "y": [
          192,
          185,
          178,
          182,
          180,
          168
         ],
         "z": [
          78,
          74,
          64,
          69,
          60,
          55
         ]
        },
        {
         "customdata": [
          [
           "Rhythmic Gymnastics Women's Group",
           "Spain"
          ],
          [
           "Rhythmic Gymnastics Women's Group",
           "Russia"
          ],
          [
           "Rhythmic Gymnastics Women's Group",
           "Bulgaria"
          ],
          [
           "Rhythmic Gymnastics Women's Individual",
           "Ukraine"
          ],
          [
           "Rhythmic Gymnastics Women's Individual",
           "Russia"
          ],
          [
           "Rhythmic Gymnastics Women's Individual",
           "Ukraine"
          ]
         ],
         "hovertemplate": "Sport=Rhythmic Gymnastics<br>Age=%{x}<br>Height=%{y}<br>Weight=%{z}<br>Event=%{customdata[0]}<br>Team=%{customdata[1]}<extra></extra>",
         "legendgroup": "Rhythmic Gymnastics",
         "marker": {
          "color": "#FECB52",
          "symbol": "circle"
         },
         "mode": "markers",
         "name": "Rhythmic Gymnastics",
         "scene": "scene",
         "showlegend": true,
         "type": "scatter3d",
         "x": [
          21,
          18,
          25,
          23,
          20,
          23
         ],
         "y": [
          169,
          168,
          170,
          173,
          170,
          173
         ],
         "z": [
          56,
          47,
          53,
          49,
          50,
          49
         ]
        },
        {
         "customdata": [
          [
           "Rowing Men's Coxed Eights",
           "Australia"
          ],
          [
           "Rowing Men's Coxed Eights",
           "Great Britain"
          ],
          [
           "Rowing Men's Coxed Eights",
           "Netherlands"
          ],
          [
           "Rowing Men's Coxless Fours",
           "Australia"
          ],
          [
           "Rowing Men's Coxless Fours",
           "Netherlands"
          ],
          [
           "Rowing Men's Coxless Fours",
           "Italy"
          ],
          [
           "Rowing Men's Coxless Pairs",
           "South Africa"
          ],
          [
           "Rowing Men's Coxless Pairs",
           "Germany"
          ],
          [
           "Rowing Men's Coxless Pairs",
           "Italy"
          ],
          [
           "Rowing Men's Double Sculls",
           "Lithuania"
          ],
          [
           "Rowing Men's Double Sculls",
           "Lithuania"
          ],
          [
           "Rowing Men's Double Sculls",
           "Norway"
          ],
          [
           "Rowing Men's Lightweight Coxless Fours",
           "Denmark"
          ],
          [
           "Rowing Men's Lightweight Coxless Fours",
           "Switzerland"
          ],
          [
           "Rowing Men's Lightweight Coxless Fours",
           "France"
          ],
          [
           "Rowing Men's Lightweight Double Sculls",
           "Ireland"
          ],
          [
           "Rowing Men's Lightweight Double Sculls",
           "France"
          ],
          [
           "Rowing Men's Lightweight Double Sculls",
           "Norway"
          ],
          [
           "Rowing Men's Quadruple Sculls",
           "Australia"
          ],
          [
           "Rowing Men's Quadruple Sculls",
           "Germany"
          ],
          [
           "Rowing Men's Quadruple Sculls",
           "Estonia"
          ],
          [
           "Rowing Men's Single Sculls",
           "Lithuania"
          ],
          [
           "Rowing Men's Single Sculls",
           "Lithuania"
          ],
          [
           "Rowing Men's Single Sculls",
           "Lithuania"
          ],
          [
           "Rowing Women's Coxed Eights",
           "Great Britain"
          ],
          [
           "Rowing Women's Coxed Eights",
           "United States"
          ],
          [
           "Rowing Women's Coxed Eights",
           "Romania"
          ],
          [
           "Rowing Women's Coxless Pairs",
           "New Zealand"
          ],
          [
           "Rowing Women's Coxless Pairs",
           "New Zealand"
          ],
          [
           "Rowing Women's Coxless Pairs",
           "Denmark"
          ],
          [
           "Rowing Women's Double Sculls",
           "Netherlands"
          ],
          [
           "Rowing Women's Double Sculls",
           "Lithuania"
          ],
          [
           "Rowing Women's Double Sculls",
           "Romania"
          ],
          [
           "Rowing Women's Lightweight Double Sculls",
           "Canada"
          ],
          [
           "Rowing Women's Lightweight Double Sculls",
           "Netherlands"
          ],
          [
           "Rowing Women's Lightweight Double Sculls",
           "China"
          ],
          [
           "Rowing Women's Quadruple Sculls",
           "Netherlands"
          ],
          [
           "Rowing Women's Quadruple Sculls",
           "Poland"
          ],
          [
           "Rowing Women's Quadruple Sculls",
           "Poland"
          ],
          [
           "Rowing Women's Single Sculls",
           "United States"
          ],
          [
           "Rowing Women's Single Sculls",
           "Lithuania"
          ],
          [
           "Rowing Women's Single Sculls",
           "China"
          ]
         ],
         "hovertemplate": "Sport=Rowing<br>Age=%{x}<br>Height=%{y}<br>Weight=%{z}<br>Event=%{customdata[0]}<br>Team=%{customdata[1]}<extra></extra>",
         "legendgroup": "Rowing",
         "marker": {
          "color": "#636efa",
          "symbol": "circle"
         },
         "mode": "markers",
         "name": "Rowing",
         "scene": "scene",
         "showlegend": true,
         "type": "scatter3d",
         "x": [
          25,
          28,
          29,
          23,
          29,
          30,
          29,
          27,
          21,
          27,
          27,
          26,
          28,
          31,
          24,
          22,
          27,
          27,
          26,
          27,
          29,
          30,
          30,
          30,
          31,
          27,
          25,
          25,
          25,
          23,
          27,
          22,
          29,
          34,
          32,
          27,
          25,
          28,
          24,
          31,
          27,
          27
         ],
         "y": [
          190,
          196,
          197,
          194,
          197,
          188,
          196,
          200,
          198,
          202,
          202,
          193,
          182,
          187,
          187,
          177,
          178,
          181,
          187,
          193,
          194,
          190,
          190,
          190,
          178,
          183,
          190,
          183,
          183,
          183,
          182,
          176,
          180,
          165,
          173,
          173,
          170,
          175,
          182,
          183,
          170,
          180
         ],
         "z": [
          93,
          96,
          100,
          92,
          95,
          86,
          94,
          102,
          90,
          110,
          110,
          84,
          73,
          76,
          70,
          70,
          71,
          69,
          90,
          92,
          95,
          92,
          92,
          92,
          75,
          82,
          74,
          73,
          73,
          86,
          74,
          66,
          72,
          59,
          59,
          57,
          66,
          68,
          74,
          71,
          62,
          76
         ]
        },
        {
         "customdata": [
          [
           "Rugby Sevens Men's Rugby Sevens",
           "Great Britain"
          ],
          [
           "Rugby Sevens Men's Rugby Sevens",
           "Fiji"
          ],
          [
           "Rugby Sevens Men's Rugby Sevens",
           "South Africa"
          ],
          [
           "Rugby Sevens Women's Rugby Sevens",
           "New Zealand"
          ],
          [
           "Rugby Sevens Women's Rugby Sevens",
           "Australia"
          ],
          [
           "Rugby Sevens Women's Rugby Sevens",
           "Canada"
          ]
         ],
         "hovertemplate": "Sport=Rugby Sevens<br>Age=%{x}<br>Height=%{y}<br>Weight=%{z}<br>Event=%{customdata[0]}<br>Team=%{customdata[1]}<extra></extra>",
         "legendgroup": "Rugby Sevens",
         "marker": {
          "color": "#EF553B",
          "symbol": "circle"
         },
         "mode": "markers",
         "name": "Rugby Sevens",
         "scene": "scene",
         "showlegend": true,
         "type": "scatter3d",
         "x": [
          25,
          28,
          29,
          21,
          23,
          27
         ],
         "y": [
          176,
          198,
          182,
          168,
          172,
          165
         ],
         "z": [
          86,
          109,
          92,
          75,
          75,
          68
         ]
        },
        {
         "customdata": [
          [
           "Sailing Men's One Person Dinghy",
           "Croatia"
          ],
          [
           "Sailing Men's One Person Dinghy",
           "Australia"
          ],
          [
           "Sailing Men's One Person Dinghy",
           "New Zealand"
          ],
          [
           "Sailing Men's One Person Heavyweight Dinghy",
           "United States"
          ],
          [
           "Sailing Men's One Person Heavyweight Dinghy",
           "Great Britain"
          ],
          [
           "Sailing Men's One Person Heavyweight Dinghy",
           "United States"
          ],
          [
           "Sailing Men's Skiff",
           "Germany"
          ],
          [
           "Sailing Men's Skiff",
           "Germany"
          ],
          [
           "Sailing Men's Skiff",
           "Germany"
          ],
          [
           "Sailing Men's Two Person Dinghy",
           "Australia"
          ],
          [
           "Sailing Men's Two Person Dinghy",
           "Croatia"
          ],
          [
           "Sailing Men's Two Person Dinghy",
           "Greece"
          ],
          [
           "Sailing Men's Windsurfer",
           "France"
          ],
          [
           "Sailing Men's Windsurfer",
           "France"
          ],
          [
           "Sailing Men's Windsurfer",
           "France"
          ],
          [
           "Sailing Mixed Multihull",
           "Australia"
          ],
          [
           "Sailing Mixed Multihull",
           "Australia"
          ],
          [
           "Sailing Mixed Multihull",
           "Austria"
          ],
          [
           "Sailing Women's One Person Dinghy",
           "Ireland"
          ],
          [
           "Sailing Women's One Person Dinghy",
           "Argentina"
          ],
          [
           "Sailing Women's One Person Dinghy",
           "Denmark"
          ],
          [
           "Sailing Women's Skiff",
           "New Zealand"
          ],
          [
           "Sailing Women's Skiff",
           "Brazil"
          ],
          [
           "Sailing Women's Skiff",
           "Denmark"
          ],
          [
           "Sailing Women's Two Person Dinghy",
           "France"
          ],
          [
           "Sailing Women's Two Person Dinghy",
           "France"
          ],
          [
           "Sailing Women's Two Person Dinghy",
           "France"
          ],
          [
           "Sailing Women's Windsurfer",
           "China"
          ],
          [
           "Sailing Women's Windsurfer",
           "France"
          ],
          [
           "Sailing Women's Windsurfer",
           "Russia"
          ]
         ],
         "hovertemplate": "Sport=Sailing<br>Age=%{x}<br>Height=%{y}<br>Weight=%{z}<br>Event=%{customdata[0]}<br>Team=%{customdata[1]}<extra></extra>",
         "legendgroup": "Sailing",
         "marker": {
          "color": "#00cc96",
          "symbol": "circle"
         },
         "mode": "markers",
         "name": "Sailing",
         "scene": "scene",
         "showlegend": true,
         "type": "scatter3d",
         "x": [
          30,
          26,
          25,
          25,
          29,
          25,
          26,
          26,
          28,
          27,
          30,
          32,
          27,
          27,
          27,
          24,
          24,
          23,
          26,
          29,
          25,
          23,
          25,
          27,
          29,
          31,
          31,
          27,
          31,
          19
         ],
         "y": [
          178,
          180,
          183,
          191,
          197,
          191,
          185,
          185,
          181,
          193,
          173,
          184,
          186,
          186,
          186,
          168,
          168,
          167,
          184,
          164,
          170,
          178,
          168,
          166,
          179,
          159,
          159,
          172,
          169,
          170
         ],
         "z": [
          81,
          81,
          81,
          98,
          95,
          98,
          80,
          80,
          80,
          75,
          70,
          74,
          72,
          72,
          72,
          65,
          65,
          57,
          72,
          63,
          68,
          74,
          62,
          60,
          66,
          56,
          56,
          63,
          57,
          59
         ]
        },
        {
         "customdata": [
          [
           "Shooting Men's Air Pistol, 10 metres",
           "Vietnam"
          ],
          [
           "Shooting Men's Air Pistol, 10 metres",
           "Brazil"
          ],
          [
           "Shooting Men's Air Pistol, 10 metres",
           "North Korea"
          ],
          [
           "Shooting Men's Air Rifle, 10 metres",
           "Russia"
          ],
          [
           "Shooting Men's Air Rifle, 10 metres",
           "Ukraine"
          ],
          [
           "Shooting Men's Air Rifle, 10 metres",
           "Russia"
          ],
          [
           "Shooting Men's Double Trap",
           "Italy"
          ],
          [
           "Shooting Men's Double Trap",
           "Great Britain"
          ],
          [
           "Shooting Men's Double Trap",
           "Great Britain"
          ],
          [
           "Shooting Men's Rapid-Fire Pistol, 25 metres",
           "France"
          ],
          [
           "Shooting Men's Rapid-Fire Pistol, 25 metres",
           "China"
          ],
          [
           "Shooting Men's Rapid-Fire Pistol, 25 metres",
           "China"
          ],
          [
           "Shooting Men's Skeet",
           "Sweden"
          ],
          [
           "Shooting Men's Skeet",
           "Italy"
          ],
          [
           "Shooting Men's Skeet",
           "Kuwait"
          ],
          [
           "Shooting Men's Small-Bore Rifle, Prone, 50 metres",
           "Germany"
          ],
          [
           "Shooting Men's Small-Bore Rifle, Prone, 50 metres",
           "Germany"
          ],
          [
           "Shooting Men's Small-Bore Rifle, Prone, 50 metres",
           "Russia"
          ],
          [
           "Shooting Men's Small-Bore Rifle, Three Positions, 50 metres",
           "France"
          ],
          [
           "Shooting Men's Small-Bore Rifle, Three Positions, 50 metres",
           "France"
          ],
          [
           "Shooting Men's Small-Bore Rifle, Three Positions, 50 metres",
           "France"
          ],
          [
           "Shooting Men's Trap",
           "Croatia"
          ],
          [
           "Shooting Men's Trap",
           "Croatia"
          ],
          [
           "Shooting Men's Trap",
           "Great Britain"
          ],
          [
           "Shooting Women's Air Pistol, 10 metres",
           "Germany"
          ],
          [
           "Shooting Women's Air Pistol, 10 metres",
           "China"
          ],
          [
           "Shooting Women's Air Pistol, 10 metres",
           "Switzerland"
          ],
          [
           "Shooting Women's Air Rifle, 10 metres",
           "United States"
          ],
          [
           "Shooting Women's Air Rifle, 10 metres",
           "United States"
          ],
          [
           "Shooting Women's Air Rifle, 10 metres",
           "United States"
          ],
          [
           "Shooting Women's Skeet",
           "Italy"
          ],
          [
           "Shooting Women's Skeet",
           "Italy"
          ],
          [
           "Shooting Women's Skeet",
           "Italy"
          ],
          [
           "Shooting Women's Small-Bore Rifle, Three Positions, 50 metres",
           "China"
          ],
          [
           "Shooting Women's Small-Bore Rifle, Three Positions, 50 metres",
           "Germany"
          ],
          [
           "Shooting Women's Small-Bore Rifle, Three Positions, 50 metres",
           "Germany"
          ],
          [
           "Shooting Women's Trap",
           "New Zealand"
          ],
          [
           "Shooting Women's Trap",
           "Australia"
          ],
          [
           "Shooting Women's Trap",
           "New Zealand"
          ]
         ],
         "hovertemplate": "Sport=Shooting<br>Age=%{x}<br>Height=%{y}<br>Weight=%{z}<br>Event=%{customdata[0]}<br>Team=%{customdata[1]}<extra></extra>",
         "legendgroup": "Shooting",
         "marker": {
          "color": "#ab63fa",
          "symbol": "circle"
         },
         "mode": "markers",
         "name": "Shooting",
         "scene": "scene",
         "showlegend": true,
         "type": "scatter3d",
         "x": [
          41,
          24,
          30,
          28,
          23,
          21,
          37,
          31,
          31,
          20,
          26,
          26,
          26,
          21,
          52,
          28,
          28,
          24,
          21,
          21,
          21,
          33,
          33,
          33,
          33,
          25,
          47,
          19,
          19,
          19,
          33,
          33,
          33,
          27,
          33,
          33,
          28,
          26,
          28
         ],
         "y": [
          175,
          169,
          167,
          178,
          176,
          171,
          170,
          172,
          172,
          189,
          173,
          173,
          176,
          176,
          183,
          179,
          179,
          179,
          172,
          172,
          172,
          178,
          178,
          180,
          158,
          162,
          168,
          155,
          155,
          155,
          175,
          175,
          175,
          164,
          162,
          162,
          181,
          172,
          181
         ],
         "z": [
          75,
          69,
          75,
          73,
          64,
          73,
          97,
          84,
          84,
          85,
          71,
          71,
          68,
          65,
          83,
          80,
          80,
          88,
          78,
          78,
          78,
          82,
          82,
          80,
          55,
          70,
          93,
          55,
          55,
          55,
          85,
          85,
          85,
          55,
          72,
          72,
          95,
          80,
          95
         ]
        },
        {
         "customdata": [
          [
           "Swimming Men's 1,500 metres Freestyle",
           "United States"
          ],
          [
           "Swimming Men's 1,500 metres Freestyle",
           "Italy"
          ],
          [
           "Swimming Men's 1,500 metres Freestyle",
           "Italy"
          ],
          [
           "Swimming Men's 10 kilometres Open Water",
           "Netherlands"
          ],
          [
           "Swimming Men's 10 kilometres Open Water",
           "Netherlands"
          ],
          [
           "Swimming Men's 10 kilometres Open Water",
           "France"
          ],
          [
           "Swimming Men's 100 metres Backstroke",
           "Great Britain"
          ],
          [
           "Swimming Men's 100 metres Backstroke",
           "United States"
          ],
          [
           "Swimming Men's 100 metres Backstroke",
           "United States"
          ],
          [
           "Swimming Men's 100 metres Breaststroke",
           "Great Britain"
          ],
          [
           "Swimming Men's 100 metres Breaststroke",
           "United States"
          ],
          [
           "Swimming Men's 100 metres Breaststroke",
           "United States"
          ],
          [
           "Swimming Men's 100 metres Butterfly",
           "Singapore"
          ],
          [
           "Swimming Men's 100 metres Butterfly",
           "United States"
          ],
          [
           "Swimming Men's 100 metres Butterfly",
           "Australia"
          ],
          [
           "Swimming Men's 100 metres Freestyle",
           "Belgium"
          ],
          [
           "Swimming Men's 100 metres Freestyle",
           "United States"
          ],
          [
           "Swimming Men's 100 metres Freestyle",
           "Australia"
          ],
          [
           "Swimming Men's 200 metres Backstroke",
           "China"
          ],
          [
           "Swimming Men's 200 metres Backstroke",
           "China"
          ],
          [
           "Swimming Men's 200 metres Backstroke",
           "Australia"
          ],
          [
           "Swimming Men's 200 metres Breaststroke",
           "Russia"
          ],
          [
           "Swimming Men's 200 metres Breaststroke",
           "United States"
          ],
          [
           "Swimming Men's 200 metres Breaststroke",
           "Russia"
          ],
          [
           "Swimming Men's 200 metres Butterfly",
           "Japan"
          ],
          [
           "Swimming Men's 200 metres Butterfly",
           "Japan"
          ],
          [
           "Swimming Men's 200 metres Butterfly",
           "Hungary"
          ],
          [
           "Swimming Men's 200 metres Freestyle",
           "Great Britain"
          ],
          [
           "Swimming Men's 200 metres Freestyle",
           "United States"
          ],
          [
           "Swimming Men's 200 metres Freestyle",
           "United States"
          ],
          [
           "Swimming Men's 200 metres Individual Medley",
           "China"
          ],
          [
           "Swimming Men's 200 metres Individual Medley",
           "China"
          ],
          [
           "Swimming Men's 200 metres Individual Medley",
           "China"
          ],
          [
           "Swimming Men's 4 x 100 metres Freestyle Relay",
           "France"
          ],
          [
           "Swimming Men's 4 x 100 metres Freestyle Relay",
           "United States"
          ],
          [
           "Swimming Men's 4 x 100 metres Freestyle Relay",
           "Australia"
          ],
          [
           "Swimming Men's 4 x 200 metres Freestyle Relay",
           "Great Britain"
          ],
          [
           "Swimming Men's 4 x 200 metres Freestyle Relay",
           "United States"
          ],
          [
           "Swimming Men's 4 x 200 metres Freestyle Relay",
           "Japan"
          ],
          [
           "Swimming Men's 400 metres Freestyle",
           "Greece"
          ],
          [
           "Swimming Men's 400 metres Freestyle",
           "Great Britain"
          ],
          [
           "Swimming Men's 400 metres Freestyle",
           "Japan"
          ],
          [
           "Swimming Men's 400 metres Individual Medley",
           "United States"
          ],
          [
           "Swimming Men's 400 metres Individual Medley",
           "United States"
          ],
          [
           "Swimming Men's 400 metres Individual Medley",
           "United States"
          ],
          [
           "Swimming Men's 50 metres Freestyle",
           "Australia"
          ],
          [
           "Swimming Men's 50 metres Freestyle",
           "Australia"
          ],
          [
           "Swimming Men's 50 metres Freestyle",
           "Australia"
          ],
          [
           "Swimming Women's 10 kilometres Open Water",
           "Italy"
          ],
          [
           "Swimming Women's 10 kilometres Open Water",
           "Brazil"
          ],
          [
           "Swimming Women's 10 kilometres Open Water",
           "Brazil"
          ],
          [
           "Swimming Women's 100 metres Backstroke",
           "China"
          ],
          [
           "Swimming Women's 100 metres Backstroke",
           "Netherlands"
          ],
          [
           "Swimming Women's 100 metres Backstroke",
           "Canada"
          ],
          [
           "Swimming Women's 100 metres Breaststroke",
           "Australia"
          ],
          [
           "Swimming Women's 100 metres Breaststroke",
           "United States"
          ],
          [
           "Swimming Women's 100 metres Breaststroke",
           "Denmark"
          ],
          [
           "Swimming Women's 100 metres Butterfly",
           "Australia"
          ],
          [
           "Swimming Women's 100 metres Butterfly",
           "United States"
          ],
          [
           "Swimming Women's 100 metres Butterfly",
           "Canada"
          ],
          [
           "Swimming Women's 100 metres Freestyle",
           "Canada"
          ],
          [
           "Swimming Women's 100 metres Freestyle",
           "Canada"
          ],
          [
           "Swimming Women's 100 metres Freestyle",
           "Canada"
          ],
          [
           "Swimming Women's 200 metres Backstroke",
           "Canada"
          ],
          [
           "Swimming Women's 200 metres Backstroke",
           "Canada"
          ],
          [
           "Swimming Women's 200 metres Backstroke",
           "Canada"
          ],
          [
           "Swimming Women's 200 metres Breaststroke",
           "Japan"
          ],
          [
           "Swimming Women's 200 metres Breaststroke",
           "Japan"
          ],
          [
           "Swimming Women's 200 metres Breaststroke",
           "Japan"
          ],
          [
           "Swimming Women's 200 metres Freestyle",
           "Australia"
          ],
          [
           "Swimming Women's 200 metres Freestyle",
           "Hungary"
          ],
          [
           "Swimming Women's 200 metres Freestyle",
           "Hungary"
          ],
          [
           "Swimming Women's 4 x 100 metres Freestyle Relay",
           "Australia"
          ],
          [
           "Swimming Women's 4 x 100 metres Freestyle Relay",
           "Australia"
          ],
          [
           "Swimming Women's 4 x 100 metres Freestyle Relay",
           "Canada"
          ],
          [
           "Swimming Women's 4 x 200 metres Freestyle Relay",
           "Australia"
          ],
          [
           "Swimming Women's 4 x 200 metres Freestyle Relay",
           "United States"
          ],
          [
           "Swimming Women's 4 x 200 metres Freestyle Relay",
           "Canada"
          ],
          [
           "Swimming Women's 400 metres Freestyle",
           "Great Britain"
          ],
          [
           "Swimming Women's 400 metres Freestyle",
           "United States"
          ],
          [
           "Swimming Women's 400 metres Freestyle",
           "Canada"
          ],
          [
           "Swimming Women's 50 metres Freestyle",
           "United States"
          ],
          [
           "Swimming Women's 50 metres Freestyle",
           "Australia"
          ],
          [
           "Swimming Women's 50 metres Freestyle",
           "Canada"
          ],
          [
           "Swimming Women's 800 metres Freestyle",
           "Australia"
          ],
          [
           "Swimming Women's 800 metres Freestyle",
           "Australia"
          ],
          [
           "Swimming Women's 800 metres Freestyle",
           "Australia"
          ]
         ],
         "hovertemplate": "Sport=Swimming<br>Age=%{x}<br>Height=%{y}<br>Weight=%{z}<br>Event=%{customdata[0]}<br>Team=%{customdata[1]}<extra></extra>",
         "legendgroup": "Swimming",
         "marker": {
          "color": "#FFA15A",
          "symbol": "circle"
         },
         "mode": "markers",
         "name": "Swimming",
         "scene": "scene",
         "showlegend": true,
         "type": "scatter3d",
         "x": [
          25,
          21,
          21,
          24,
          24,
          20,
          26,
          21,
          30,
          21,
          22,
          24,
          21,
          25,
          22,
          28,
          19,
          25,
          20,
          20,
          23,
          19,
          23,
          19,
          21,
          21,
          19,
          20,
          19,
          19,
          22,
          22,
          22,
          24,
          20,
          22,
          23,
          20,
          22,
          36,
          22,
          23,
          22,
          22,
          22,
          30,
          30,
          30,
          25,
          33,
          33,
          20,
          22,
          20,
          21,
          19,
          27,
          21,
          22,
          23,
          16,
          16,
          16,
          25,
          25,
          25,
          27,
          27,
          27,
          22,
          27,
          27,
          22,
          22,
          24,
          21,
          24,
          19,
          25,
          21,
          22,
          20,
          22,
          22,
          23,
          23,
          23
         ],
         "y": [
          185,
          191,
          184,
          189,
          189,
          183,
          184,
          191,
          191,
          191,
          196,
          180,
          184,
          193,
          184,
          200,
          191,
          194,
          187,
          187,
          187,
          188,
          180,
          188,
          181,
          181,
          186,
          187,
          196,
          196,
          191,
          191,
          191,
          190,
          188,
          185,
          188,
          196,
          183,
          185,
          185,
          172,
          193,
          193,
          193,
          197,
          197,
          197,
          170,
          165,
          165,
          179,
          173,
          173,
          178,
          175,
          174,
          179,
          180,
          167,
          185,
          185,
          185,
          173,
          173,
          173,
          175,
          175,
          175,
          180,
          175,
          175,
          179,
          179,
          173,
          173,
          173,
          173,
          175,
          178,
          172,
          178,
          179,
          180,
          173,
          173,
          173
         ],
         "z": [
          77,
          72,
          79,
          86,
          86,
          64,
          84,
          91,
          95,
          86,
          88,
          80,
          74,
          86,
          82,
          89,
          86,
          90,
          78,
          78,
          72,
          71,
          76,
          71,
          77,
          77,
          74,
          83,
          84,
          84,
          74,
          74,
          74,
          90,
          86,
          70,
          80,
          84,
          77,
          78,
          76,
          59,
          86,
          86,
          86,
          92,
          92,
          92,
          59,
          52,
          52,
          63,
          65,
          61,
          65,
          70,
          61,
          66,
          75,
          54,
          68,
          68,
          68,
          61,
          61,
          61,
          64,
          64,
          64,
          60,
          65,
          65,
          61,
          61,
          65,
          66,
          65,
          74,
          57,
          67,
          70,
          73,
          58,
          77,
          64,
          64,
          64
         ]
        },
        {
         "customdata": [
          [
           "Synchronized Swimming Women's Duet",
           "Japan"
          ],
          [
           "Synchronized Swimming Women's Duet",
           "Japan"
          ],
          [
           "Synchronized Swimming Women's Duet",
           "Japan"
          ],
          [
           "Synchronized Swimming Women's Team",
           "China"
          ],
          [
           "Synchronized Swimming Women's Team",
           "Russia"
          ],
          [
           "Synchronized Swimming Women's Team",
           "Japan"
          ]
         ],
         "hovertemplate": "Sport=Synchronized Swimming<br>Age=%{x}<br>Height=%{y}<br>Weight=%{z}<br>Event=%{customdata[0]}<br>Team=%{customdata[1]}<extra></extra>",
         "legendgroup": "Synchronized Swimming",
         "marker": {
          "color": "#19d3f3",
          "symbol": "circle"
         },
         "mode": "markers",
         "name": "Synchronized Swimming",
         "scene": "scene",
         "showlegend": true,
         "type": "scatter3d",
         "x": [
          25,
          25,
          25,
          22,
          21,
          25
         ],
         "y": [
          169,
          169,
          169,
          169,
          162,
          176
         ],
         "z": [
          55,
          55,
          55,
          59,
          46,
          65
         ]
        },
        {
         "customdata": [
          [
           "Table Tennis Men's Singles",
           "Japan"
          ],
          [
           "Table Tennis Men's Singles",
           "Japan"
          ],
          [
           "Table Tennis Men's Singles",
           "Japan"
          ],
          [
           "Table Tennis Men's Team",
           "Japan"
          ],
          [
           "Table Tennis Men's Team",
           "China"
          ],
          [
           "Table Tennis Men's Team",
           "Japan"
          ],
          [
           "Table Tennis Women's Singles",
           "Germany"
          ],
          [
           "Table Tennis Women's Singles",
           "Germany"
          ],
          [
           "Table Tennis Women's Singles",
           "North Korea"
          ],
          [
           "Table Tennis Women's Team",
           "Germany"
          ],
          [
           "Table Tennis Women's Team",
           "China"
          ],
          [
           "Table Tennis Women's Team",
           "Japan"
          ]
         ],
         "hovertemplate": "Sport=Table Tennis<br>Age=%{x}<br>Height=%{y}<br>Weight=%{z}<br>Event=%{customdata[0]}<br>Team=%{customdata[1]}<extra></extra>",
         "legendgroup": "Table Tennis",
         "marker": {
          "color": "#FF6692",
          "symbol": "circle"
         },
         "mode": "markers",
         "name": "Table Tennis",
         "scene": "scene",
         "showlegend": true,
         "type": "scatter3d",
         "x": [
          27,
          27,
          27,
          23,
          26,
          23,
          33,
          33,
          21,
          33,
          25,
          15
         ],
         "y": [
          172,
          172,
          172,
          177,
          180,
          177,
          170,
          170,
          161,
          165,
          160,
          150
         ],
         "z": [
          63,
          63,
          63,
          61,
          67,
          61,
          60,
          60,
          55,
          54,
          54,
          45
         ]
        },
        {
         "customdata": [
          [
           "Taekwondo Men's Featherweight",
           "Jordan"
          ],
          [
           "Taekwondo Men's Featherweight",
           "Jordan"
          ],
          [
           "Taekwondo Men's Featherweight",
           "Jordan"
          ],
          [
           "Taekwondo Men's Flyweight",
           "Thailand"
          ],
          [
           "Taekwondo Men's Flyweight",
           "China"
          ],
          [
           "Taekwondo Men's Flyweight",
           "South Korea"
          ],
          [
           "Taekwondo Men's Heavyweight",
           "Niger"
          ],
          [
           "Taekwondo Men's Heavyweight",
           "Brazil"
          ],
          [
           "Taekwondo Men's Heavyweight",
           "Azerbaijan"
          ],
          [
           "Taekwondo Men's Welterweight",
           "Cote d'Ivoire"
          ],
          [
           "Taekwondo Men's Welterweight",
           "Cote d'Ivoire"
          ],
          [
           "Taekwondo Men's Welterweight",
           "Azerbaijan"
          ],
          [
           "Taekwondo Women's Featherweight",
           "Spain"
          ],
          [
           "Taekwondo Women's Featherweight",
           "Iran"
          ],
          [
           "Taekwondo Women's Featherweight",
           "Egypt"
          ],
          [
           "Taekwondo Women's Flyweight",
           "Serbia"
          ],
          [
           "Taekwondo Women's Flyweight",
           "South Korea"
          ],
          [
           "Taekwondo Women's Flyweight",
           "Thailand"
          ],
          [
           "Taekwondo Women's Heavyweight",
           "United States"
          ],
          [
           "Taekwondo Women's Heavyweight",
           "China"
          ],
          [
           "Taekwondo Women's Heavyweight",
           "United States"
          ],
          [
           "Taekwondo Women's Welterweight",
           "France"
          ],
          [
           "Taekwondo Women's Welterweight",
           "South Korea"
          ],
          [
           "Taekwondo Women's Welterweight",
           "Cote d'Ivoire"
          ]
         ],
         "hovertemplate": "Sport=Taekwondo<br>Age=%{x}<br>Height=%{y}<br>Weight=%{z}<br>Event=%{customdata[0]}<br>Team=%{customdata[1]}<extra></extra>",
         "legendgroup": "Taekwondo",
         "marker": {
          "color": "#B6E880",
          "symbol": "circle"
         },
         "mode": "markers",
         "name": "Taekwondo",
         "scene": "scene",
         "showlegend": true,
         "type": "scatter3d",
         "x": [
          20,
          20,
          20,
          18,
          20,
          21,
          21,
          23,
          26,
          22,
          22,
          25,
          25,
          18,
          23,
          18,
          22,
          18,
          20,
          22,
          20,
          23,
          28,
          22
         ],
         "y": [
          178,
          178,
          178,
          176,
          188,
          182,
          207,
          190,
          200,
          186,
          186,
          197,
          176,
          185,
          174,
          172,
          164,
          173,
          178,
          188,
          178,
          176,
          182,
          176
         ],
         "z": [
          68,
          68,
          68,
          58,
          63,
          59,
          90,
          90,
          93,
          80,
          80,
          80,
          57,
          57,
          57,
          52,
          50,
          49,
          80,
          75,
          80,
          66,
          69,
          65
         ]
        },
        {
         "customdata": [
          [
           "Tennis Men's Doubles",
           "Romania"
          ],
          [
           "Tennis Men's Doubles",
           "Spain-2"
          ],
          [
           "Tennis Men's Doubles",
           "Spain-2"
          ],
          [
           "Tennis Men's Singles",
           "Japan"
          ],
          [
           "Tennis Men's Singles",
           "United States"
          ],
          [
           "Tennis Men's Singles",
           "United States"
          ],
          [
           "Tennis Mixed Doubles",
           "United States-1"
          ],
          [
           "Tennis Mixed Doubles",
           "United States-2"
          ],
          [
           "Tennis Mixed Doubles",
           "United States-2"
          ],
          [
           "Tennis Women's Doubles",
           "Russia-2"
          ],
          [
           "Tennis Women's Doubles",
           "Russia-2"
          ],
          [
           "Tennis Women's Doubles",
           "Czech Republic-1"
          ],
          [
           "Tennis Women's Singles",
           "Switzerland"
          ],
          [
           "Tennis Women's Singles",
           "Switzerland"
          ],
          [
           "Tennis Women's Singles",
           "Czech Republic"
          ]
         ],
         "hovertemplate": "Sport=Tennis<br>Age=%{x}<br>Height=%{y}<br>Weight=%{z}<br>Event=%{customdata[0]}<br>Team=%{customdata[1]}<extra></extra>",
         "legendgroup": "Tennis",
         "marker": {
          "color": "#FF97FF",
          "symbol": "circle"
         },
         "mode": "markers",
         "name": "Tennis",
         "scene": "scene",
         "showlegend": true,
         "type": "scatter3d",
         "x": [
          31,
          34,
          34,
          26,
          26,
          26,
          32,
          31,
          31,
          30,
          30,
          26,
          35,
          27,
          29
         ],
         "y": [
          180,
          175,
          175,
          178,
          188,
          188,
          193,
          168,
          168,
          180,
          180,
          183,
          170,
          170,
          177
         ],
         "z": [
          76,
          71,
          71,
          74,
          86,
          86,
          84,
          66,
          66,
          60,
          60,
          70,
          59,
          62,
          65
         ]
        },
        {
         "customdata": [
          [
           "Trampolining Men's Individual",
           "Belarus"
          ],
          [
           "Trampolining Men's Individual",
           "Belarus"
          ],
          [
           "Trampolining Men's Individual",
           "China"
          ],
          [
           "Trampolining Women's Individual",
           "Great Britain"
          ],
          [
           "Trampolining Women's Individual",
           "China"
          ],
          [
           "Trampolining Women's Individual",
           "China"
          ]
         ],
         "hovertemplate": "Sport=Trampolining<br>Age=%{x}<br>Height=%{y}<br>Weight=%{z}<br>Event=%{customdata[0]}<br>Team=%{customdata[1]}<extra></extra>",
         "legendgroup": "Trampolining",
         "marker": {
          "color": "#FECB52",
          "symbol": "circle"
         },
         "mode": "markers",
         "name": "Trampolining",
         "scene": "scene",
         "showlegend": true,
         "type": "scatter3d",
         "x": [
          20,
          20,
          24,
          25,
          27,
          27
         ],
         "y": [
          173,
          173,
          170,
          172,
          155,
          155
         ],
         "z": [
          66,
          66,
          64,
          60,
          47,
          47
         ]
        },
        {
         "customdata": [
          [
           "Triathlon Men's Olympic Distance",
           "South Africa"
          ],
          [
           "Triathlon Men's Olympic Distance",
           "South Africa"
          ],
          [
           "Triathlon Men's Olympic Distance",
           "South Africa"
          ],
          [
           "Triathlon Women's Olympic Distance",
           "United States"
          ],
          [
           "Triathlon Women's Olympic Distance",
           "Great Britain"
          ],
          [
           "Triathlon Women's Olympic Distance",
           "Great Britain"
          ]
         ],
         "hovertemplate": "Sport=Triathlon<br>Age=%{x}<br>Height=%{y}<br>Weight=%{z}<br>Event=%{customdata[0]}<br>Team=%{customdata[1]}<extra></extra>",
         "legendgroup": "Triathlon",
         "marker": {
          "color": "#636efa",
          "symbol": "circle"
         },
         "mode": "markers",
         "name": "Triathlon",
         "scene": "scene",
         "showlegend": true,
         "type": "scatter3d",
         "x": [
          24,
          24,
          24,
          30,
          30,
          30
         ],
         "y": [
          170,
          170,
          170,
          178,
          168,
          168
         ],
         "z": [
          59,
          59,
          59,
          59,
          56,
          56
         ]
        },
        {
         "customdata": [
          [
           "Volleyball Men's Volleyball",
           "Italy"
          ],
          [
           "Volleyball Men's Volleyball",
           "Brazil"
          ],
          [
           "Volleyball Men's Volleyball",
           "United States"
          ],
          [
           "Volleyball Women's Volleyball",
           "Serbia"
          ],
          [
           "Volleyball Women's Volleyball",
           "China"
          ],
          [
           "Volleyball Women's Volleyball",
           "United States"
          ]
         ],
         "hovertemplate": "Sport=Volleyball<br>Age=%{x}<br>Height=%{y}<br>Weight=%{z}<br>Event=%{customdata[0]}<br>Team=%{customdata[1]}<extra></extra>",
         "legendgroup": "Volleyball",
         "marker": {
          "color": "#EF553B",
          "symbol": "circle"
         },
         "mode": "markers",
         "name": "Volleyball",
         "scene": "scene",
         "showlegend": true,
         "type": "scatter3d",
         "x": [
          32,
          32,
          29,
          25,
          25,
          23
         ],
         "y": [
          206,
          205,
          202,
          185,
          192,
          193
         ],
         "z": [
          100,
          107,
          100,
          78,
          78,
          82
         ]
        },
        {
         "customdata": [
          [
           "Water Polo Men's Water Polo",
           "Croatia"
          ],
          [
           "Water Polo Men's Water Polo",
           "Serbia"
          ],
          [
           "Water Polo Men's Water Polo",
           "Italy"
          ],
          [
           "Water Polo Women's Water Polo",
           "Italy"
          ],
          [
           "Water Polo Women's Water Polo",
           "United States"
          ],
          [
           "Water Polo Women's Water Polo",
           "Russia"
          ]
         ],
         "hovertemplate": "Sport=Water Polo<br>Age=%{x}<br>Height=%{y}<br>Weight=%{z}<br>Event=%{customdata[0]}<br>Team=%{customdata[1]}<extra></extra>",
         "legendgroup": "Water Polo",
         "marker": {
          "color": "#00cc96",
          "symbol": "circle"
         },
         "mode": "markers",
         "name": "Water Polo",
         "scene": "scene",
         "showlegend": true,
         "type": "scatter3d",
         "x": [
          29,
          25,
          22,
          27,
          22,
          29
         ],
         "y": [
          195,
          191,
          190,
          172,
          173,
          178
         ],
         "z": [
          106,
          91,
          88,
          74,
          65,
          86
         ]
        },
        {
         "customdata": [
          [
           "Weightlifting Men's Bantamweight",
           "Thailand"
          ],
          [
           "Weightlifting Men's Bantamweight",
           "Thailand"
          ],
          [
           "Weightlifting Men's Bantamweight",
           "Thailand"
          ],
          [
           "Weightlifting Men's Featherweight",
           "Kazakhstan"
          ],
          [
           "Weightlifting Men's Featherweight",
           "Kazakhstan"
          ],
          [
           "Weightlifting Men's Featherweight",
           "Kazakhstan"
          ],
          [
           "Weightlifting Men's Heavyweight",
           "Armenia"
          ],
          [
           "Weightlifting Men's Heavyweight",
           "Uzbekistan"
          ],
          [
           "Weightlifting Men's Heavyweight",
           "Kazakhstan"
          ],
          [
           "Weightlifting Men's Light-Heavyweight",
           "China"
          ],
          [
           "Weightlifting Men's Light-Heavyweight",
           "Kazakhstan"
          ],
          [
           "Weightlifting Men's Light-Heavyweight",
           "Iran"
          ],
          [
           "Weightlifting Men's Lightweight",
           "Turkmenistan"
          ],
          [
           "Weightlifting Men's Lightweight",
           "China"
          ],
          [
           "Weightlifting Men's Lightweight",
           "Colombia"
          ],
          [
           "Weightlifting Men's Middle-Heavyweight",
           "Lithuania"
          ],
          [
           "Weightlifting Men's Middle-Heavyweight",
           "Lithuania"
          ],
          [
           "Weightlifting Men's Middle-Heavyweight",
           "Lithuania"
          ],
          [
           "Weightlifting Men's Middleweight",
           "Kazakhstan"
          ],
          [
           "Weightlifting Men's Middleweight",
           "Kazakhstan"
          ],
          [
           "Weightlifting Men's Middleweight",
           "Egypt"
          ],
          [
           "Weightlifting Men's Super-Heavyweight",
           "Armenia"
          ],
          [
           "Weightlifting Men's Super-Heavyweight",
           "Georgia"
          ],
          [
           "Weightlifting Men's Super-Heavyweight",
           "Georgia"
          ],
          [
           "Weightlifting Women's Flyweight",
           "Indonesia"
          ],
          [
           "Weightlifting Women's Flyweight",
           "Thailand"
          ],
          [
           "Weightlifting Women's Flyweight",
           "Indonesia"
          ],
          [
           "Weightlifting Women's Heavyweight",
           "Belarus"
          ],
          [
           "Weightlifting Women's Heavyweight",
           "Spain"
          ],
          [
           "Weightlifting Women's Heavyweight",
           "Spain"
          ],
          [
           "Weightlifting Women's Light-Heavyweight",
           "Kazakhstan"
          ],
          [
           "Weightlifting Women's Light-Heavyweight",
           "China"
          ],
          [
           "Weightlifting Women's Light-Heavyweight",
           "Egypt"
          ],
          [
           "Weightlifting Women's Lightweight",
           "Thailand"
          ],
          [
           "Weightlifting Women's Lightweight",
           "Chinese Taipei"
          ],
          [
           "Weightlifting Women's Lightweight",
           "Chinese Taipei"
          ],
          [
           "Weightlifting Women's Middleweight",
           "North Korea"
          ],
          [
           "Weightlifting Women's Middleweight",
           "China"
          ],
          [
           "Weightlifting Women's Middleweight",
           "Kazakhstan"
          ],
          [
           "Weightlifting Women's Super-Heavyweight",
           "North Korea"
          ],
          [
           "Weightlifting Women's Super-Heavyweight",
           "China"
          ],
          [
           "Weightlifting Women's Super-Heavyweight",
           "United States"
          ]
         ],
         "hovertemplate": "Sport=Weightlifting<br>Age=%{x}<br>Height=%{y}<br>Weight=%{z}<br>Event=%{customdata[0]}<br>Team=%{customdata[1]}<extra></extra>",
         "legendgroup": "Weightlifting",
         "marker": {
          "color": "#ab63fa",
          "symbol": "circle"
         },
         "mode": "markers",
         "name": "Weightlifting",
         "scene": "scene",
         "showlegend": true,
         "type": "scatter3d",
         "x": [
          20,
          20,
          20,
          25,
          25,
          25,
          19,
          24,
          23,
          22,
          22,
          27,
          24,
          22,
          21,
          25,
          25,
          25,
          22,
          22,
          26,
          21,
          22,
          31,
          21,
          21,
          21,
          20,
          31,
          31,
          22,
          24,
          18,
          21,
          22,
          22,
          22,
          23,
          23,
          23,
          27,
          28
         ],
         "y": [
          159,
          159,
          159,
          160,
          160,
          160,
          181,
          183,
          180,
          172,
          175,
          170,
          173,
          168,
          165,
          172,
          172,
          172,
          176,
          176,
          165,
          180,
          197,
          182,
          147,
          154,
          147,
          165,
          169,
          169,
          155,
          163,
          155,
          155,
          157,
          157,
          159,
          159,
          160,
          170,
          173,
          178
         ],
         "z": [
          56,
          56,
          56,
          62,
          62,
          62,
          105,
          109,
          105,
          85,
          85,
          97,
          69,
          70,
          64,
          94,
          94,
          94,
          77,
          77,
          77,
          140,
          160,
          130,
          47,
          48,
          47,
          76,
          75,
          75,
          69,
          69,
          58,
          58,
          58,
          58,
          63,
          63,
          63,
          100,
          123,
          141
         ]
        },
        {
         "customdata": [
          [
           "Wrestling Men's Featherweight, Freestyle",
           "Japan"
          ],
          [
           "Wrestling Men's Featherweight, Freestyle",
           "Iran"
          ],
          [
           "Wrestling Men's Featherweight, Freestyle",
           "Azerbaijan"
          ],
          [
           "Wrestling Men's Featherweight, Greco-Roman",
           "Japan"
          ],
          [
           "Wrestling Men's Featherweight, Greco-Roman",
           "Cuba"
          ],
          [
           "Wrestling Men's Featherweight, Greco-Roman",
           "Uzbekistan"
          ],
          [
           "Wrestling Men's Heavyweight, Freestyle",
           "United States"
          ],
          [
           "Wrestling Men's Heavyweight, Freestyle",
           "United States"
          ],
          [
           "Wrestling Men's Heavyweight, Freestyle",
           "Uzbekistan"
          ],
          [
           "Wrestling Men's Heavyweight, Greco-Roman",
           "Cuba"
          ],
          [
           "Wrestling Men's Heavyweight, Greco-Roman",
           "Cuba"
          ],
          [
           "Wrestling Men's Heavyweight, Greco-Roman",
           "Turkey"
          ],
          [
           "Wrestling Men's Light-Heavyweight, Freestyle",
           "Turkey"
          ],
          [
           "Wrestling Men's Light-Heavyweight, Freestyle",
           "United States"
          ],
          [
           "Wrestling Men's Light-Heavyweight, Freestyle",
           "Russia"
          ],
          [
           "Wrestling Men's Light-Heavyweight, Greco-Roman",
           "Ukraine"
          ],
          [
           "Wrestling Men's Light-Heavyweight, Greco-Roman",
           "Germany"
          ],
          [
           "Wrestling Men's Light-Heavyweight, Greco-Roman",
           "Ukraine"
          ],
          [
           "Wrestling Men's Lightweight, Greco-Roman",
           "Serbia and Montenegro"
          ],
          [
           "Wrestling Men's Lightweight, Greco-Roman",
           "Serbia and Montenegro"
          ],
          [
           "Wrestling Men's Lightweight, Greco-Roman",
           "Norway"
          ],
          [
           "Wrestling Men's Middleweight, Freestyle",
           "Iran"
          ],
          [
           "Wrestling Men's Middleweight, Freestyle",
           "Russia"
          ],
          [
           "Wrestling Men's Middleweight, Freestyle",
           "Turkey"
          ],
          [
           "Wrestling Men's Middleweight, Greco-Roman",
           "Denmark"
          ],
          [
           "Wrestling Men's Middleweight, Greco-Roman",
           "Denmark"
          ],
          [
           "Wrestling Men's Middleweight, Greco-Roman",
           "Denmark"
          ],
          [
           "Wrestling Men's Super-Heavyweight, Freestyle",
           "Turkey"
          ],
          [
           "Wrestling Men's Super-Heavyweight, Freestyle",
           "Turkey"
          ],
          [
           "Wrestling Men's Super-Heavyweight, Freestyle",
           "Belarus"
          ],
          [
           "Wrestling Men's Super-Heavyweight, Greco-Roman",
           "Russia"
          ],
          [
           "Wrestling Men's Super-Heavyweight, Greco-Roman",
           "Azerbaijan"
          ],
          [
           "Wrestling Men's Super-Heavyweight, Greco-Roman",
           "Russia"
          ],
          [
           "Wrestling Men's Welterweight, Freestyle",
           "Italy"
          ],
          [
           "Wrestling Men's Welterweight, Freestyle",
           "Russia"
          ],
          [
           "Wrestling Men's Welterweight, Freestyle",
           "Azerbaijan"
          ],
          [
           "Wrestling Men's Welterweight, Greco-Roman",
           "Armenia"
          ],
          [
           "Wrestling Men's Welterweight, Greco-Roman",
           "Iran"
          ],
          [
           "Wrestling Men's Welterweight, Greco-Roman",
           "Georgia"
          ],
          [
           "Wrestling Women's Featherweight, Freestyle",
           "United States"
          ],
          [
           "Wrestling Women's Featherweight, Freestyle",
           "United States"
          ],
          [
           "Wrestling Women's Featherweight, Freestyle",
           "United States"
          ],
          [
           "Wrestling Women's Flyweight, Freestyle",
           "Sweden"
          ],
          [
           "Wrestling Women's Flyweight, Freestyle",
           "Japan"
          ],
          [
           "Wrestling Women's Flyweight, Freestyle",
           "Bulgaria"
          ],
          [
           "Wrestling Women's Heavyweight, Freestyle",
           "Russia"
          ],
          [
           "Wrestling Women's Heavyweight, Freestyle",
           "Canada"
          ],
          [
           "Wrestling Women's Heavyweight, Freestyle",
           "Sweden"
          ],
          [
           "Wrestling Women's Light-Heavyweight, Freestyle",
           "Japan"
          ],
          [
           "Wrestling Women's Light-Heavyweight, Freestyle",
           "Japan"
          ],
          [
           "Wrestling Women's Light-Heavyweight, Freestyle",
           "Kazakhstan"
          ],
          [
           "Wrestling Women's Lightweight, Freestyle",
           "Russia"
          ],
          [
           "Wrestling Women's Lightweight, Freestyle",
           "India"
          ],
          [
           "Wrestling Women's Lightweight, Freestyle",
           "Tunisia"
          ],
          [
           "Wrestling Women's Middleweight, Freestyle",
           "Belarus"
          ],
          [
           "Wrestling Women's Middleweight, Freestyle",
           "Japan"
          ],
          [
           "Wrestling Women's Middleweight, Freestyle",
           "Poland"
          ]
         ],
         "hovertemplate": "Sport=Wrestling<br>Age=%{x}<br>Height=%{y}<br>Weight=%{z}<br>Event=%{customdata[0]}<br>Team=%{customdata[1]}<extra></extra>",
         "legendgroup": "Wrestling",
         "marker": {
          "color": "#FFA15A",
          "symbol": "circle"
         },
         "mode": "markers",
         "name": "Wrestling",
         "scene": "scene",
         "showlegend": true,
         "type": "scatter3d",
         "x": [
          20,
          27,
          25,
          22,
          24,
          24,
          20,
          20,
          31,
          26,
          26,
          30,
          26,
          21,
          20,
          25,
          21,
          25,
          30,
          30,
          33,
          21,
          29,
          25,
          31,
          31,
          31,
          25,
          25,
          31,
          20,
          27,
          20,
          24,
          25,
          26,
          27,
          26,
          22,
          24,
          24,
          24,
          26,
          22,
          21,
          29,
          27,
          29,
          21,
          21,
          24,
          23,
          23,
          27,
          23,
          21,
          36
         ],
         "y": [
          163,
          165,
          168,
          165,
          160,
          160,
          180,
          180,
          183,
          190,
          190,
          180,
          179,
          180,
          177,
          178,
          184,
          178,
          170,
          170,
          167,
          181,
          173,
          170,
          177,
          177,
          177,
          192,
          192,
          180,
          187,
          192,
          187,
          172,
          170,
          170,
          166,
          170,
          170,
          163,
          163,
          163,
          164,
          152,
          151,
          174,
          175,
          169,
          159,
          159,
          172,
          164,
          162,
          160,
          163,
          160,
          167
         ],
         "z": [
          63,
          62,
          65,
          65,
          59,
          59,
          102,
          102,
          97,
          98,
          98,
          98,
          86,
          86,
          86,
          85,
          90,
          85,
          66,
          66,
          60,
          74,
          74,
          74,
          80,
          80,
          80,
          125,
          125,
          125,
          130,
          130,
          130,
          65,
          65,
          74,
          67,
          80,
          66,
          57,
          57,
          57,
          56,
          48,
          48,
          75,
          75,
          73,
          69,
          69,
          69,
          58,
          58,
          58,
          65,
          61,
          63
         ]
        }
       ],
       "layout": {
        "legend": {
         "title": {
          "text": "Sport"
         },
         "tracegroupgap": 0
        },
        "scene": {
         "domain": {
          "x": [
           0,
           1
          ],
          "y": [
           0,
           1
          ]
         },
         "xaxis": {
          "title": {
           "text": "Age"
          }
         },
         "yaxis": {
          "title": {
           "text": "Height"
          }
         },
         "zaxis": {
          "title": {
           "text": "Weight"
          }
         }
        },
        "template": {
         "data": {
          "bar": [
           {
            "error_x": {
             "color": "#2a3f5f"
            },
            "error_y": {
             "color": "#2a3f5f"
            },
            "marker": {
             "line": {
              "color": "#E5ECF6",
              "width": 0.5
             },
             "pattern": {
              "fillmode": "overlay",
              "size": 10,
              "solidity": 0.2
             }
            },
            "type": "bar"
           }
          ],
          "barpolar": [
           {
            "marker": {
             "line": {
              "color": "#E5ECF6",
              "width": 0.5
             },
             "pattern": {
              "fillmode": "overlay",
              "size": 10,
              "solidity": 0.2
             }
            },
            "type": "barpolar"
           }
          ],
          "carpet": [
           {
            "aaxis": {
             "endlinecolor": "#2a3f5f",
             "gridcolor": "white",
             "linecolor": "white",
             "minorgridcolor": "white",
             "startlinecolor": "#2a3f5f"
            },
            "baxis": {
             "endlinecolor": "#2a3f5f",
             "gridcolor": "white",
             "linecolor": "white",
             "minorgridcolor": "white",
             "startlinecolor": "#2a3f5f"
            },
            "type": "carpet"
           }
          ],
          "choropleth": [
           {
            "colorbar": {
             "outlinewidth": 0,
             "ticks": ""
            },
            "type": "choropleth"
           }
          ],
          "contour": [
           {
            "colorbar": {
             "outlinewidth": 0,
             "ticks": ""
            },
            "colorscale": [
             [
              0,
              "#0d0887"
             ],
             [
              0.1111111111111111,
              "#46039f"
             ],
             [
              0.2222222222222222,
              "#7201a8"
             ],
             [
              0.3333333333333333,
              "#9c179e"
             ],
             [
              0.4444444444444444,
              "#bd3786"
             ],
             [
              0.5555555555555556,
              "#d8576b"
             ],
             [
              0.6666666666666666,
              "#ed7953"
             ],
             [
              0.7777777777777778,
              "#fb9f3a"
             ],
             [
              0.8888888888888888,
              "#fdca26"
             ],
             [
              1,
              "#f0f921"
             ]
            ],
            "type": "contour"
           }
          ],
          "contourcarpet": [
           {
            "colorbar": {
             "outlinewidth": 0,
             "ticks": ""
            },
            "type": "contourcarpet"
           }
          ],
          "heatmap": [
           {
            "colorbar": {
             "outlinewidth": 0,
             "ticks": ""
            },
            "colorscale": [
             [
              0,
              "#0d0887"
             ],
             [
              0.1111111111111111,
              "#46039f"
             ],
             [
              0.2222222222222222,
              "#7201a8"
             ],
             [
              0.3333333333333333,
              "#9c179e"
             ],
             [
              0.4444444444444444,
              "#bd3786"
             ],
             [
              0.5555555555555556,
              "#d8576b"
             ],
             [
              0.6666666666666666,
              "#ed7953"
             ],
             [
              0.7777777777777778,
              "#fb9f3a"
             ],
             [
              0.8888888888888888,
              "#fdca26"
             ],
             [
              1,
              "#f0f921"
             ]
            ],
            "type": "heatmap"
           }
          ],
          "heatmapgl": [
           {
            "colorbar": {
             "outlinewidth": 0,
             "ticks": ""
            },
            "colorscale": [
             [
              0,
              "#0d0887"
             ],
             [
              0.1111111111111111,
              "#46039f"
             ],
             [
              0.2222222222222222,
              "#7201a8"
             ],
             [
              0.3333333333333333,
              "#9c179e"
             ],
             [
              0.4444444444444444,
              "#bd3786"
             ],
             [
              0.5555555555555556,
              "#d8576b"
             ],
             [
              0.6666666666666666,
              "#ed7953"
             ],
             [
              0.7777777777777778,
              "#fb9f3a"
             ],
             [
              0.8888888888888888,
              "#fdca26"
             ],
             [
              1,
              "#f0f921"
             ]
            ],
            "type": "heatmapgl"
           }
          ],
          "histogram": [
           {
            "marker": {
             "pattern": {
              "fillmode": "overlay",
              "size": 10,
              "solidity": 0.2
             }
            },
            "type": "histogram"
           }
          ],
          "histogram2d": [
           {
            "colorbar": {
             "outlinewidth": 0,
             "ticks": ""
            },
            "colorscale": [
             [
              0,
              "#0d0887"
             ],
             [
              0.1111111111111111,
              "#46039f"
             ],
             [
              0.2222222222222222,
              "#7201a8"
             ],
             [
              0.3333333333333333,
              "#9c179e"
             ],
             [
              0.4444444444444444,
              "#bd3786"
             ],
             [
              0.5555555555555556,
              "#d8576b"
             ],
             [
              0.6666666666666666,
              "#ed7953"
             ],
             [
              0.7777777777777778,
              "#fb9f3a"
             ],
             [
              0.8888888888888888,
              "#fdca26"
             ],
             [
              1,
              "#f0f921"
             ]
            ],
            "type": "histogram2d"
           }
          ],
          "histogram2dcontour": [
           {
            "colorbar": {
             "outlinewidth": 0,
             "ticks": ""
            },
            "colorscale": [
             [
              0,
              "#0d0887"
             ],
             [
              0.1111111111111111,
              "#46039f"
             ],
             [
              0.2222222222222222,
              "#7201a8"
             ],
             [
              0.3333333333333333,
              "#9c179e"
             ],
             [
              0.4444444444444444,
              "#bd3786"
             ],
             [
              0.5555555555555556,
              "#d8576b"
             ],
             [
              0.6666666666666666,
              "#ed7953"
             ],
             [
              0.7777777777777778,
              "#fb9f3a"
             ],
             [
              0.8888888888888888,
              "#fdca26"
             ],
             [
              1,
              "#f0f921"
             ]
            ],
            "type": "histogram2dcontour"
           }
          ],
          "mesh3d": [
           {
            "colorbar": {
             "outlinewidth": 0,
             "ticks": ""
            },
            "type": "mesh3d"
           }
          ],
          "parcoords": [
           {
            "line": {
             "colorbar": {
              "outlinewidth": 0,
              "ticks": ""
             }
            },
            "type": "parcoords"
           }
          ],
          "pie": [
           {
            "automargin": true,
            "type": "pie"
           }
          ],
          "scatter": [
           {
            "fillpattern": {
             "fillmode": "overlay",
             "size": 10,
             "solidity": 0.2
            },
            "type": "scatter"
           }
          ],
          "scatter3d": [
           {
            "line": {
             "colorbar": {
              "outlinewidth": 0,
              "ticks": ""
             }
            },
            "marker": {
             "colorbar": {
              "outlinewidth": 0,
              "ticks": ""
             }
            },
            "type": "scatter3d"
           }
          ],
          "scattercarpet": [
           {
            "marker": {
             "colorbar": {
              "outlinewidth": 0,
              "ticks": ""
             }
            },
            "type": "scattercarpet"
           }
          ],
          "scattergeo": [
           {
            "marker": {
             "colorbar": {
              "outlinewidth": 0,
              "ticks": ""
             }
            },
            "type": "scattergeo"
           }
          ],
          "scattergl": [
           {
            "marker": {
             "colorbar": {
              "outlinewidth": 0,
              "ticks": ""
             }
            },
            "type": "scattergl"
           }
          ],
          "scattermapbox": [
           {
            "marker": {
             "colorbar": {
              "outlinewidth": 0,
              "ticks": ""
             }
            },
            "type": "scattermapbox"
           }
          ],
          "scatterpolar": [
           {
            "marker": {
             "colorbar": {
              "outlinewidth": 0,
              "ticks": ""
             }
            },
            "type": "scatterpolar"
           }
          ],
          "scatterpolargl": [
           {
            "marker": {
             "colorbar": {
              "outlinewidth": 0,
              "ticks": ""
             }
            },
            "type": "scatterpolargl"
           }
          ],
          "scatterternary": [
           {
            "marker": {
             "colorbar": {
              "outlinewidth": 0,
              "ticks": ""
             }
            },
            "type": "scatterternary"
           }
          ],
          "surface": [
           {
            "colorbar": {
             "outlinewidth": 0,
             "ticks": ""
            },
            "colorscale": [
             [
              0,
              "#0d0887"
             ],
             [
              0.1111111111111111,
              "#46039f"
             ],
             [
              0.2222222222222222,
              "#7201a8"
             ],
             [
              0.3333333333333333,
              "#9c179e"
             ],
             [
              0.4444444444444444,
              "#bd3786"
             ],
             [
              0.5555555555555556,
              "#d8576b"
             ],
             [
              0.6666666666666666,
              "#ed7953"
             ],
             [
              0.7777777777777778,
              "#fb9f3a"
             ],
             [
              0.8888888888888888,
              "#fdca26"
             ],
             [
              1,
              "#f0f921"
             ]
            ],
            "type": "surface"
           }
          ],
          "table": [
           {
            "cells": {
             "fill": {
              "color": "#EBF0F8"
             },
             "line": {
              "color": "white"
             }
            },
            "header": {
             "fill": {
              "color": "#C8D4E3"
             },
             "line": {
              "color": "white"
             }
            },
            "type": "table"
           }
          ]
         },
         "layout": {
          "annotationdefaults": {
           "arrowcolor": "#2a3f5f",
           "arrowhead": 0,
           "arrowwidth": 1
          },
          "autotypenumbers": "strict",
          "coloraxis": {
           "colorbar": {
            "outlinewidth": 0,
            "ticks": ""
           }
          },
          "colorscale": {
           "diverging": [
            [
             0,
             "#8e0152"
            ],
            [
             0.1,
             "#c51b7d"
            ],
            [
             0.2,
             "#de77ae"
            ],
            [
             0.3,
             "#f1b6da"
            ],
            [
             0.4,
             "#fde0ef"
            ],
            [
             0.5,
             "#f7f7f7"
            ],
            [
             0.6,
             "#e6f5d0"
            ],
            [
             0.7,
             "#b8e186"
            ],
            [
             0.8,
             "#7fbc41"
            ],
            [
             0.9,
             "#4d9221"
            ],
            [
             1,
             "#276419"
            ]
           ],
           "sequential": [
            [
             0,
             "#0d0887"
            ],
            [
             0.1111111111111111,
             "#46039f"
            ],
            [
             0.2222222222222222,
             "#7201a8"
            ],
            [
             0.3333333333333333,
             "#9c179e"
            ],
            [
             0.4444444444444444,
             "#bd3786"
            ],
            [
             0.5555555555555556,
             "#d8576b"
            ],
            [
             0.6666666666666666,
             "#ed7953"
            ],
            [
             0.7777777777777778,
             "#fb9f3a"
            ],
            [
             0.8888888888888888,
             "#fdca26"
            ],
            [
             1,
             "#f0f921"
            ]
           ],
           "sequentialminus": [
            [
             0,
             "#0d0887"
            ],
            [
             0.1111111111111111,
             "#46039f"
            ],
            [
             0.2222222222222222,
             "#7201a8"
            ],
            [
             0.3333333333333333,
             "#9c179e"
            ],
            [
             0.4444444444444444,
             "#bd3786"
            ],
            [
             0.5555555555555556,
             "#d8576b"
            ],
            [
             0.6666666666666666,
             "#ed7953"
            ],
            [
             0.7777777777777778,
             "#fb9f3a"
            ],
            [
             0.8888888888888888,
             "#fdca26"
            ],
            [
             1,
             "#f0f921"
            ]
           ]
          },
          "colorway": [
           "#636efa",
           "#EF553B",
           "#00cc96",
           "#ab63fa",
           "#FFA15A",
           "#19d3f3",
           "#FF6692",
           "#B6E880",
           "#FF97FF",
           "#FECB52"
          ],
          "font": {
           "color": "#2a3f5f"
          },
          "geo": {
           "bgcolor": "white",
           "lakecolor": "white",
           "landcolor": "#E5ECF6",
           "showlakes": true,
           "showland": true,
           "subunitcolor": "white"
          },
          "hoverlabel": {
           "align": "left"
          },
          "hovermode": "closest",
          "mapbox": {
           "style": "light"
          },
          "paper_bgcolor": "white",
          "plot_bgcolor": "#E5ECF6",
          "polar": {
           "angularaxis": {
            "gridcolor": "white",
            "linecolor": "white",
            "ticks": ""
           },
           "bgcolor": "#E5ECF6",
           "radialaxis": {
            "gridcolor": "white",
            "linecolor": "white",
            "ticks": ""
           }
          },
          "scene": {
           "xaxis": {
            "backgroundcolor": "#E5ECF6",
            "gridcolor": "white",
            "gridwidth": 2,
            "linecolor": "white",
            "showbackground": true,
            "ticks": "",
            "zerolinecolor": "white"
           },
           "yaxis": {
            "backgroundcolor": "#E5ECF6",
            "gridcolor": "white",
            "gridwidth": 2,
            "linecolor": "white",
            "showbackground": true,
            "ticks": "",
            "zerolinecolor": "white"
           },
           "zaxis": {
            "backgroundcolor": "#E5ECF6",
            "gridcolor": "white",
            "gridwidth": 2,
            "linecolor": "white",
            "showbackground": true,
            "ticks": "",
            "zerolinecolor": "white"
           }
          },
          "shapedefaults": {
           "line": {
            "color": "#2a3f5f"
           }
          },
          "ternary": {
           "aaxis": {
            "gridcolor": "white",
            "linecolor": "white",
            "ticks": ""
           },
           "baxis": {
            "gridcolor": "white",
            "linecolor": "white",
            "ticks": ""
           },
           "bgcolor": "#E5ECF6",
           "caxis": {
            "gridcolor": "white",
            "linecolor": "white",
            "ticks": ""
           }
          },
          "title": {
           "x": 0.05
          },
          "xaxis": {
           "automargin": true,
           "gridcolor": "white",
           "linecolor": "white",
           "ticks": "",
           "title": {
            "standoff": 15
           },
           "zerolinecolor": "white",
           "zerolinewidth": 2
          },
          "yaxis": {
           "automargin": true,
           "gridcolor": "white",
           "linecolor": "white",
           "ticks": "",
           "title": {
            "standoff": 15
           },
           "zerolinecolor": "white",
           "zerolinewidth": 2
          }
         }
        },
        "title": {
         "text": "3D Scatter Plot of Age, Height, and Weight"
        }
       }
      }
     },
     "metadata": {},
     "output_type": "display_data"
    }
   ],
   "source": [
    "fig1 = px.scatter_3d(df, x='Age', y='Height', z='Weight',\n",
    "                     color='Sport', hover_data=['Event', 'Team'],\n",
    "                     title='3D Scatter Plot of Age, Height, and Weight')\n",
    "\n",
    "fig1.show()"
   ]
  },
  {
   "cell_type": "code",
   "execution_count": 19,
   "metadata": {},
   "outputs": [
    {
     "data": {
      "application/vnd.plotly.v1+json": {
       "config": {
        "plotlyServerURL": "https://plot.ly"
       },
       "data": [
        {
         "customdata": [
          [
           "Alpine Skiing Women's Super G",
           "Canada"
          ],
          [
           "Alpine Skiing Women's Super G",
           "Canada"
          ],
          [
           "Alpine Skiing Women's Super G",
           "Canada"
          ]
         ],
         "hovertemplate": "Sport=Alpine Skiing<br>BMI=%{x}<br>Population=%{y}<br>GDP_Per_Capita=%{z}<br>Event=%{customdata[0]}<br>Team=%{customdata[1]}<extra></extra>",
         "legendgroup": "Alpine Skiing",
         "marker": {
          "color": "#636efa",
          "symbol": "circle"
         },
         "mode": "markers",
         "name": "Alpine Skiing",
         "scene": "scene",
         "showlegend": true,
         "type": "scatter3d",
         "x": [
          22.647376960519203,
          22.647376960519203,
          22.647376960519203
         ],
         "y": [
          36286425,
          36286425,
          36286425
         ],
         "z": [
          42348.94546059788,
          42348.94546059788,
          42348.94546059788
         ]
        },
        {
         "customdata": [
          [
           "Archery Men's Individual",
           "Australia"
          ],
          [
           "Archery Men's Individual",
           "South Korea"
          ],
          [
           "Archery Men's Individual",
           "Australia"
          ],
          [
           "Archery Women's Individual",
           "Germany"
          ],
          [
           "Archery Women's Individual",
           "South Korea"
          ],
          [
           "Archery Women's Individual",
           "Chinese Taipei"
          ]
         ],
         "hovertemplate": "Sport=Archery<br>BMI=%{x}<br>Population=%{y}<br>GDP_Per_Capita=%{z}<br>Event=%{customdata[0]}<br>Team=%{customdata[1]}<extra></extra>",
         "legendgroup": "Archery",
         "marker": {
          "color": "#EF553B",
          "symbol": "circle"
         },
         "mode": "markers",
         "name": "Archery",
         "scene": "scene",
         "showlegend": true,
         "type": "scatter3d",
         "x": [
          22.4981738495252,
          26.42356982428326,
          29.48317724592438,
          20.98765432098765,
          20.0288415318058,
          25.34435261707989
         ],
         "y": [
          24127159,
          51245707,
          24127159,
          52053704,
          51245707,
          1378665000
         ],
         "z": [
          49896.68110092457,
          27608.2474287116,
          49896.68110092457,
          1745.3669388251749,
          27608.2474287116,
          8117.267465431786
         ]
        },
        {
         "customdata": [
          [
           "Athletics Men's 1,500 metres",
           "United States"
          ],
          [
           "Athletics Men's 1,500 metres",
           "United States"
          ],
          [
           "Athletics Men's 1,500 metres",
           "United States"
          ],
          [
           "Athletics Men's 10,000 metres",
           "Kenya"
          ],
          [
           "Athletics Men's 10,000 metres",
           "Kenya"
          ],
          [
           "Athletics Men's 10,000 metres",
           "Ethiopia"
          ],
          [
           "Athletics Men's 100 metres",
           "Japan"
          ],
          [
           "Athletics Men's 100 metres",
           "Jamaica"
          ],
          [
           "Athletics Men's 100 metres",
           "Canada"
          ],
          [
           "Athletics Men's 110 metres Hurdles",
           "Cuba"
          ],
          [
           "Athletics Men's 110 metres Hurdles",
           "Cuba"
          ],
          [
           "Athletics Men's 110 metres Hurdles",
           "France"
          ],
          [
           "Athletics Men's 20 kilometres Walk",
           "China"
          ],
          [
           "Athletics Men's 20 kilometres Walk",
           "Slovakia"
          ],
          [
           "Athletics Men's 20 kilometres Walk",
           "Australia"
          ],
          [
           "Athletics Men's 200 metres",
           "Japan"
          ],
          [
           "Athletics Men's 200 metres",
           "Canada"
          ],
          [
           "Athletics Men's 200 metres",
           "Canada"
          ],
          [
           "Athletics Men's 3,000 metres Steeplechase",
           "United States"
          ],
          [
           "Athletics Men's 3,000 metres Steeplechase",
           "Kenya"
          ],
          [
           "Athletics Men's 3,000 metres Steeplechase",
           "United States"
          ],
          [
           "Athletics Men's 4 x 100 metres Relay",
           "Jamaica"
          ],
          [
           "Athletics Men's 4 x 100 metres Relay",
           "Jamaica"
          ],
          [
           "Athletics Men's 4 x 100 metres Relay",
           "Canada"
          ],
          [
           "Athletics Men's 4 x 400 metres Relay",
           "Jamaica"
          ],
          [
           "Athletics Men's 4 x 400 metres Relay",
           "United States"
          ],
          [
           "Athletics Men's 4 x 400 metres Relay",
           "Bahamas"
          ],
          [
           "Athletics Men's 400 metres",
           "Jamaica"
          ],
          [
           "Athletics Men's 400 metres",
           "United States"
          ],
          [
           "Athletics Men's 400 metres",
           "Bahamas"
          ],
          [
           "Athletics Men's 400 metres Hurdles",
           "Kenya"
          ],
          [
           "Athletics Men's 400 metres Hurdles",
           "Kenya"
          ],
          [
           "Athletics Men's 400 metres Hurdles",
           "Turkey"
          ],
          [
           "Athletics Men's 5,000 metres",
           "United States"
          ],
          [
           "Athletics Men's 5,000 metres",
           "United States"
          ],
          [
           "Athletics Men's 5,000 metres",
           "Ethiopia"
          ],
          [
           "Athletics Men's 50 kilometres Walk",
           "Japan"
          ],
          [
           "Athletics Men's 50 kilometres Walk",
           "Japan"
          ],
          [
           "Athletics Men's 50 kilometres Walk",
           "Japan"
          ],
          [
           "Athletics Men's 800 metres",
           "United States"
          ],
          [
           "Athletics Men's 800 metres",
           "United States"
          ],
          [
           "Athletics Men's 800 metres",
           "United States"
          ],
          [
           "Athletics Men's Decathlon",
           "France"
          ],
          [
           "Athletics Men's Decathlon",
           "Canada"
          ],
          [
           "Athletics Men's Decathlon",
           "Canada"
          ],
          [
           "Athletics Men's Discus Throw",
           "Germany"
          ],
          [
           "Athletics Men's Discus Throw",
           "Germany"
          ],
          [
           "Athletics Men's Discus Throw",
           "Germany"
          ],
          [
           "Athletics Men's Hammer Throw",
           "Tajikistan"
          ],
          [
           "Athletics Men's Hammer Throw",
           "Tajikistan"
          ],
          [
           "Athletics Men's Hammer Throw",
           "Poland"
          ],
          [
           "Athletics Men's High Jump",
           "Ukraine"
          ],
          [
           "Athletics Men's High Jump",
           "Ukraine"
          ],
          [
           "Athletics Men's High Jump",
           "Ukraine"
          ],
          [
           "Athletics Men's Javelin Throw",
           "Kenya"
          ],
          [
           "Athletics Men's Javelin Throw",
           "Germany"
          ],
          [
           "Athletics Men's Javelin Throw",
           "Kenya"
          ],
          [
           "Athletics Men's Long Jump",
           "United States"
          ],
          [
           "Athletics Men's Long Jump",
           "United States"
          ],
          [
           "Athletics Men's Long Jump",
           "United States"
          ],
          [
           "Athletics Men's Marathon",
           "Ethiopia"
          ],
          [
           "Athletics Men's Marathon",
           "Ethiopia"
          ],
          [
           "Athletics Men's Marathon",
           "Ethiopia"
          ],
          [
           "Athletics Men's Pole Vault",
           "Brazil"
          ],
          [
           "Athletics Men's Pole Vault",
           "Brazil"
          ],
          [
           "Athletics Men's Pole Vault",
           "United States"
          ],
          [
           "Athletics Men's Shot Put",
           "United States"
          ],
          [
           "Athletics Men's Shot Put",
           "United States"
          ],
          [
           "Athletics Men's Shot Put",
           "New Zealand"
          ],
          [
           "Athletics Men's Triple Jump",
           "China"
          ],
          [
           "Athletics Men's Triple Jump",
           "China"
          ],
          [
           "Athletics Men's Triple Jump",
           "China"
          ],
          [
           "Athletics Women's 1,500 metres",
           "Kenya"
          ],
          [
           "Athletics Women's 1,500 metres",
           "Kenya"
          ],
          [
           "Athletics Women's 1,500 metres",
           "Ethiopia"
          ],
          [
           "Athletics Women's 100 metres",
           "Jamaica"
          ],
          [
           "Athletics Women's 100 metres",
           "United States"
          ],
          [
           "Athletics Women's 100 metres",
           "Great Britain"
          ],
          [
           "Athletics Women's 100 metres Hurdles",
           "United States"
          ],
          [
           "Athletics Women's 100 metres Hurdles",
           "United States"
          ],
          [
           "Athletics Women's 100 metres Hurdles",
           "United States"
          ],
          [
           "Athletics Women's 20 kilometres Walk",
           "Mexico"
          ],
          [
           "Athletics Women's 20 kilometres Walk",
           "China"
          ],
          [
           "Athletics Women's 20 kilometres Walk",
           "China"
          ],
          [
           "Athletics Women's 200 metres",
           "Jamaica"
          ],
          [
           "Athletics Women's 200 metres",
           "Great Britain"
          ],
          [
           "Athletics Women's 200 metres",
           "Great Britain"
          ],
          [
           "Athletics Women's 3,000 metres Steeplechase",
           "Kenya"
          ],
          [
           "Athletics Women's 3,000 metres Steeplechase",
           "Kenya"
          ],
          [
           "Athletics Women's 3,000 metres Steeplechase",
           "United States"
          ],
          [
           "Athletics Women's 4 x 100 metres Relay",
           "Jamaica"
          ],
          [
           "Athletics Women's 4 x 100 metres Relay",
           "United States"
          ],
          [
           "Athletics Women's 4 x 100 metres Relay",
           "Netherlands"
          ],
          [
           "Athletics Women's 4 x 400 metres Relay",
           "Jamaica"
          ],
          [
           "Athletics Women's 4 x 400 metres Relay",
           "United States"
          ],
          [
           "Athletics Women's 4 x 400 metres Relay",
           "Great Britain"
          ],
          [
           "Athletics Women's 400 metres",
           "Jamaica"
          ],
          [
           "Athletics Women's 400 metres",
           "United States"
          ],
          [
           "Athletics Women's 400 metres",
           "Great Britain"
          ],
          [
           "Athletics Women's 400 metres Hurdles",
           "Denmark"
          ],
          [
           "Athletics Women's 400 metres Hurdles",
           "United States"
          ],
          [
           "Athletics Women's 400 metres Hurdles",
           "Great Britain"
          ],
          [
           "Athletics Women's 5,000 metres",
           "Ethiopia"
          ],
          [
           "Athletics Women's 5,000 metres",
           "Ethiopia"
          ],
          [
           "Athletics Women's 5,000 metres",
           "Ethiopia"
          ],
          [
           "Athletics Women's 800 metres",
           "Burundi"
          ],
          [
           "Athletics Women's 800 metres",
           "Burundi"
          ],
          [
           "Athletics Women's 800 metres",
           "Burundi"
          ],
          [
           "Athletics Women's Discus Throw",
           "France"
          ],
          [
           "Athletics Women's Discus Throw",
           "France"
          ],
          [
           "Athletics Women's Discus Throw",
           "Cuba"
          ],
          [
           "Athletics Women's Hammer Throw",
           "Great Britain"
          ],
          [
           "Athletics Women's Hammer Throw",
           "Great Britain"
          ],
          [
           "Athletics Women's Hammer Throw",
           "Great Britain"
          ],
          [
           "Athletics Women's Heptathlon",
           "Canada"
          ],
          [
           "Athletics Women's Heptathlon",
           "Belgium"
          ],
          [
           "Athletics Women's Heptathlon",
           "Canada"
          ],
          [
           "Athletics Women's High Jump",
           "Bulgaria"
          ],
          [
           "Athletics Women's High Jump",
           "Spain"
          ],
          [
           "Athletics Women's High Jump",
           "Bulgaria"
          ],
          [
           "Athletics Women's Javelin Throw",
           "Croatia"
          ],
          [
           "Athletics Women's Javelin Throw",
           "South Africa"
          ],
          [
           "Athletics Women's Javelin Throw",
           "Croatia"
          ],
          [
           "Athletics Women's Long Jump",
           "Serbia"
          ],
          [
           "Athletics Women's Long Jump",
           "Serbia"
          ],
          [
           "Athletics Women's Long Jump",
           "Serbia"
          ],
          [
           "Athletics Women's Marathon",
           "Bahrain"
          ],
          [
           "Athletics Women's Marathon",
           "Kenya"
          ],
          [
           "Athletics Women's Marathon",
           "Ethiopia"
          ],
          [
           "Athletics Women's Pole Vault",
           "United States"
          ],
          [
           "Athletics Women's Pole Vault",
           "Greece"
          ],
          [
           "Athletics Women's Pole Vault",
           "New Zealand"
          ],
          [
           "Athletics Women's Shot Put",
           "Hungary"
          ],
          [
           "Athletics Women's Shot Put",
           "United States"
          ],
          [
           "Athletics Women's Shot Put",
           "Hungary"
          ],
          [
           "Athletics Women's Triple Jump",
           "Venezuela"
          ],
          [
           "Athletics Women's Triple Jump",
           "Venezuela"
          ],
          [
           "Athletics Women's Triple Jump",
           "Venezuela"
          ]
         ],
         "hovertemplate": "Sport=Athletics<br>BMI=%{x}<br>Population=%{y}<br>GDP_Per_Capita=%{z}<br>Event=%{customdata[0]}<br>Team=%{customdata[1]}<extra></extra>",
         "legendgroup": "Athletics",
         "marker": {
          "color": "#00cc96",
          "symbol": "circle"
         },
         "mode": "markers",
         "name": "Athletics",
         "scene": "scene",
         "showlegend": true,
         "type": "scatter3d",
         "x": [
          20.983987603305785,
          20.983987603305785,
          20.983987603305785,
          16.65249433106576,
          16.65249433106576,
          18.009218277830346,
          22.34351559258195,
          22.99262444384723,
          25.25951557093426,
          23.24598478444632,
          23.24598478444632,
          24.41927902078691,
          17.959183673469386,
          21.32943754565376,
          20.58966513197403,
          23.37472607742878,
          20.15100499948985,
          20.15100499948985,
          18.390674513354465,
          20.7967298935064,
          18.390674513354465,
          26.82742078020452,
          26.82742078020452,
          19.1358024691358,
          23.766410140335,
          22.839506172839503,
          22.47745401715962,
          20.77580539119001,
          23.20054323223178,
          22.46003435064077,
          23.51020408163265,
          23.51020408163265,
          23.299799895836188,
          18.612244897959183,
          18.612244897959183,
          19.15119181970521,
          19.1358024691358,
          19.1358024691358,
          19.1358024691358,
          20.98765432098765,
          20.98765432098765,
          20.98765432098765,
          22.25690831309978,
          24.25127830533236,
          24.25127830533236,
          28.00532101099209,
          28.00532101099209,
          28.00532101099209,
          34.31610855329005,
          34.31610855329005,
          33.31945022907122,
          19.64085297418631,
          19.64085297418631,
          19.64085297418631,
          30.693877551020407,
          24.95659722222222,
          30.693877551020407,
          25.68007405416704,
          25.68007405416704,
          25.68007405416704,
          21.877551020408163,
          21.877551020408163,
          21.877551020408163,
          22.39541341933172,
          22.39541341933172,
          23.37472607742878,
          40.01313864253934,
          30.93982822207372,
          35.06208911614317,
          22.839506172839503,
          22.839506172839503,
          22.839506172839503,
          19.53125,
          17.444926771877153,
          18.42403628117914,
          23.1404958677686,
          19.48696145124717,
          20.61925365062196,
          22.49134948096886,
          21.6712580348944,
          20.761245674740486,
          17.908855357415025,
          19.53125,
          17.578124999999996,
          20.19509221155312,
          20.449137418203453,
          20.449137418203453,
          16.00365797896662,
          16.00365797896662,
          19.23356074902017,
          21.484375,
          22.95908765854944,
          21.84700852033332,
          23.030045351473927,
          19.71332152761536,
          17.99015275849009,
          20.381569714992143,
          22.22222222222222,
          19.37919743392696,
          19.49317738791424,
          18.621386188612547,
          20.761245674740486,
          17.056176513282043,
          17.056176513282043,
          17.056176513282043,
          21.773842357381334,
          21.773842357381334,
          21.773842357381334,
          26.234567901234566,
          26.234567901234566,
          22.857142857142858,
          25.95155709342561,
          25.95155709342561,
          25.95155709342561,
          20.897959183673468,
          20.38043478260869,
          20.897959183673468,
          17.901234567901234,
          19.73630108823772,
          17.901234567901234,
          25.60553633217993,
          24.913494809688583,
          25.60553633217993,
          20.983987603305785,
          20.983987603305785,
          20.983987603305785,
          20.39542143600416,
          17.578124999999996,
          18.49112426035503,
          20.715693808680545,
          19.71332152761536,
          20.598608033457133,
          32.11195240670633,
          43.904958677685954,
          32.11195240670633,
          19.53125,
          19.53125,
          19.53125
         ],
         "y": [
          323127513,
          323127513,
          323127513,
          48461567,
          48461567,
          102403196,
          126994511,
          2881355,
          36286425,
          46443959,
          46443959,
          66896109,
          1378665000,
          5428704,
          24127159,
          126994511,
          36286425,
          36286425,
          323127513,
          48461567,
          323127513,
          2881355,
          2881355,
          36286425,
          2881355,
          323127513,
          19153000,
          2881355,
          323127513,
          33245773,
          48461567,
          48461567,
          79512426,
          323127513,
          323127513,
          102403196,
          126994511,
          126994511,
          126994511,
          323127513,
          323127513,
          323127513,
          66896109,
          36286425,
          36286425,
          20619075,
          20619075,
          32294655,
          8734951,
          8734951,
          37948016,
          45004645,
          45004645,
          45004645,
          48461567,
          9219637,
          48461567,
          323127513,
          323127513,
          323127513,
          102403196,
          102403196,
          102403196,
          207652865,
          207652865,
          323127513,
          323127513,
          323127513,
          4692700,
          1378665000,
          1378665000,
          1378665000,
          48461567,
          48461567,
          102403196,
          2881355,
          323127513,
          65637239,
          323127513,
          323127513,
          323127513,
          127540423,
          1378665000,
          1378665000,
          2881355,
          65637239,
          65637239,
          48461567,
          48461567,
          323127513,
          2881355,
          323127513,
          4286401,
          2881355,
          323127513,
          65637239,
          2881355,
          323127513,
          65637239,
          146596557,
          323127513,
          65637239,
          102403196,
          102403196,
          102403196,
          10524117,
          10524117,
          10524117,
          66896109,
          66896109,
          11475982,
          65637239,
          65637239,
          65637239,
          36286425,
          11348159,
          36286425,
          79512426,
          46443959,
          79512426,
          7840709,
          4639657,
          7840709,
          7057412,
          7057412,
          7057412,
          423196,
          48461567,
          102403196,
          323127513,
          57685327,
          4692700,
          9817958,
          323127513,
          9817958,
          31568179,
          31568179,
          31568179
         ],
         "z": [
          57588.53807058303,
          57588.53807058303,
          57588.53807058303,
          1462.503743286637,
          1462.503743286637,
          712.8779499611379,
          38972.340639146816,
          4883.860270104311,
          42348.94546059788,
          26616.75779655097,
          26616.75779655097,
          36870.21913445626,
          8117.267465431786,
          16529.54096679536,
          49896.68110092457,
          38972.340639146816,
          42348.94546059788,
          42348.94546059788,
          57588.53807058303,
          1462.503743286637,
          57588.53807058303,
          4883.860270104311,
          4883.860270104311,
          42348.94546059788,
          4883.860270104311,
          57588.53807058303,
          21669.410913093976,
          4883.860270104311,
          57588.53807058303,
          46596.33599126086,
          1462.503743286637,
          1462.503743286637,
          10862.726425533889,
          57588.53807058303,
          57588.53807058303,
          712.8779499611379,
          38972.340639146816,
          38972.340639146816,
          38972.340639146816,
          57588.53807058303,
          57588.53807058303,
          57588.53807058303,
          36870.21913445626,
          42348.94546059788,
          42348.94546059788,
          12654.354998995825,
          12654.354998995825,
          12430.629601767552,
          795.9607474654362,
          795.9607474654362,
          12430.629601767552,
          2185.72803066435,
          2185.72803066435,
          2185.72803066435,
          1462.503743286637,
          55746.84238111751,
          1462.503743286637,
          57588.53807058303,
          57588.53807058303,
          57588.53807058303,
          712.8779499611379,
          712.8779499611379,
          712.8779499611379,
          8639.365743445373,
          8639.365743445373,
          57588.53807058303,
          57588.53807058303,
          57588.53807058303,
          40331.95910482274,
          8117.267465431786,
          8117.267465431786,
          8117.267465431786,
          1462.503743286637,
          1462.503743286637,
          712.8779499611379,
          4883.860270104311,
          57588.53807058303,
          40412.03361998853,
          57588.53807058303,
          57588.53807058303,
          57588.53807058303,
          8450.494010348126,
          8117.267465431786,
          8117.267465431786,
          4883.860270104311,
          40412.03361998853,
          40412.03361998853,
          1462.503743286637,
          1462.503743286637,
          57588.53807058303,
          4883.860270104311,
          57588.53807058303,
          30523.985055897447,
          4883.860270104311,
          57588.53807058303,
          40412.03361998853,
          4883.860270104311,
          57588.53807058303,
          40412.03361998853,
          1771.58660190996,
          57588.53807058303,
          40412.03361998853,
          712.8779499611379,
          712.8779499611379,
          712.8779499611379,
          281.18133762577827,
          281.18133762577827,
          281.18133762577827,
          36870.21913445626,
          36870.21913445626,
          7961.845879507305,
          40412.03361998853,
          40412.03361998853,
          40412.03361998853,
          42348.94546059788,
          41260.977551146825,
          42348.94546059788,
          10862.726425533889,
          26616.75779655097,
          10862.726425533889,
          24880.164070125,
          3180.00587263802,
          24880.164070125,
          5426.198278872465,
          5426.198278872465,
          5426.198278872465,
          26939.41802185822,
          1462.503743286637,
          712.8779499611379,
          57588.53807058303,
          31174.56108785804,
          40331.95910482274,
          12820.088196305349,
          57588.53807058303,
          12820.088196305349,
          11227.231378468485,
          11227.231378468485,
          11227.231378468485
         ]
        },
        {
         "customdata": [
          [
           "Badminton Men's Doubles",
           "Malaysia"
          ],
          [
           "Badminton Men's Doubles",
           "Malaysia"
          ],
          [
           "Badminton Men's Doubles",
           "Great Britain"
          ],
          [
           "Badminton Men's Singles",
           "Denmark"
          ],
          [
           "Badminton Men's Singles",
           "Denmark"
          ],
          [
           "Badminton Men's Singles",
           "Denmark"
          ],
          [
           "Badminton Mixed Doubles",
           "Malaysia"
          ],
          [
           "Badminton Mixed Doubles",
           "Indonesia"
          ],
          [
           "Badminton Mixed Doubles",
           "Malaysia"
          ],
          [
           "Badminton Women's Doubles",
           "South Korea-1"
          ],
          [
           "Badminton Women's Doubles",
           "South Korea-1"
          ],
          [
           "Badminton Women's Doubles",
           "South Korea-1"
          ],
          [
           "Badminton Women's Singles",
           "India"
          ],
          [
           "Badminton Women's Singles",
           "Spain"
          ],
          [
           "Badminton Women's Singles",
           "Japan"
          ]
         ],
         "hovertemplate": "Sport=Badminton<br>BMI=%{x}<br>Population=%{y}<br>GDP_Per_Capita=%{z}<br>Event=%{customdata[0]}<br>Team=%{customdata[1]}<extra></extra>",
         "legendgroup": "Badminton",
         "marker": {
          "color": "#ab63fa",
          "symbol": "circle"
         },
         "mode": "markers",
         "name": "Badminton",
         "scene": "scene",
         "showlegend": true,
         "type": "scatter3d",
         "x": [
          21.604938271604937,
          24.577867151840145,
          26.12244897959184,
          23.381868423849507,
          23.381868423849507,
          23.381868423849507,
          22.20408163265306,
          22.47120876377142,
          20.322252866889244,
          19.94321254732288,
          19.94321254732288,
          23.38868655818771,
          20.286507911738084,
          21.97133585722012,
          20.95660749506904
         ],
         "y": [
          22728254,
          1296075000,
          65637239,
          209137,
          209137,
          209137,
          6665000,
          138523285,
          22728254,
          51245707,
          51245707,
          51245707,
          1324171354,
          46443959,
          126994511
         ],
         "z": [
          67864.68986246719,
          1508.6680978826616,
          40412.03361998853,
          3955.3653042164574,
          3955.3653042164574,
          3955.3653042164574,
          25756.663778327784,
          533.8624114335685,
          67864.68986246719,
          27608.2474287116,
          27608.2474287116,
          27608.2474287116,
          1717.4738780298928,
          26616.75779655097,
          38972.340639146816
         ]
        },
        {
         "customdata": [
          [
           "Basketball Men's Basketball",
           "Serbia"
          ],
          [
           "Basketball Men's Basketball",
           "United States"
          ],
          [
           "Basketball Men's Basketball",
           "Spain"
          ],
          [
           "Basketball Women's Basketball",
           "Spain"
          ],
          [
           "Basketball Women's Basketball",
           "United States"
          ],
          [
           "Basketball Women's Basketball",
           "Serbia"
          ]
         ],
         "hovertemplate": "Sport=Basketball<br>BMI=%{x}<br>Population=%{y}<br>GDP_Per_Capita=%{z}<br>Event=%{customdata[0]}<br>Team=%{customdata[1]}<extra></extra>",
         "legendgroup": "Basketball",
         "marker": {
          "color": "#FFA15A",
          "symbol": "circle"
         },
         "mode": "markers",
         "name": "Basketball",
         "scene": "scene",
         "showlegend": true,
         "type": "scatter3d",
         "x": [
          24.24181207545264,
          24.75187459050208,
          23.72206917661463,
          21.380992845590857,
          22.8105510932078,
          22.47120876377142
         ],
         "y": [
          7057412,
          323127513,
          46443959,
          46443959,
          323127513,
          7057412
         ],
         "z": [
          5426.198278872465,
          57588.53807058303,
          26616.75779655097,
          26616.75779655097,
          57588.53807058303,
          5426.198278872465
         ]
        },
        {
         "customdata": [
          [
           "Beach Volleyball Men's Beach Volleyball",
           "Italy"
          ],
          [
           "Beach Volleyball Men's Beach Volleyball",
           "Brazil-1"
          ],
          [
           "Beach Volleyball Men's Beach Volleyball",
           "Netherlands-1"
          ],
          [
           "Beach Volleyball Women's Beach Volleyball",
           "Brazil-1"
          ],
          [
           "Beach Volleyball Women's Beach Volleyball",
           "Germany-1"
          ],
          [
           "Beach Volleyball Women's Beach Volleyball",
           "Brazil-1"
          ]
         ],
         "hovertemplate": "Sport=Beach Volleyball<br>BMI=%{x}<br>Population=%{y}<br>GDP_Per_Capita=%{z}<br>Event=%{customdata[0]}<br>Team=%{customdata[1]}<extra></extra>",
         "legendgroup": "Beach Volleyball",
         "marker": {
          "color": "#19d3f3",
          "symbol": "circle"
         },
         "mode": "markers",
         "name": "Beach Volleyball",
         "scene": "scene",
         "showlegend": true,
         "type": "scatter3d",
         "x": [
          22.99262444384723,
          25.4200146092038,
          22.44668911335578,
          21.146319909102385,
          22.152646502835537,
          21.132713440405748
         ],
         "y": [
          60600590,
          207652865,
          10709973,
          207652865,
          3283400,
          207652865
         ],
         "z": [
          30668.981428999723,
          8639.365743445373,
          48424.57559631472,
          8639.365743445373,
          13855.477762191642,
          8639.365743445373
         ]
        },
        {
         "customdata": [
          [
           "Boxing Men's Bantamweight",
           "United States"
          ],
          [
           "Boxing Men's Bantamweight",
           "Uzbekistan"
          ],
          [
           "Boxing Men's Bantamweight",
           "Russia"
          ],
          [
           "Boxing Men's Featherweight",
           "Brazil"
          ],
          [
           "Boxing Men's Featherweight",
           "Brazil"
          ],
          [
           "Boxing Men's Featherweight",
           "Brazil"
          ],
          [
           "Boxing Men's Flyweight",
           "China"
          ],
          [
           "Boxing Men's Flyweight",
           "Uzbekistan"
          ],
          [
           "Boxing Men's Flyweight",
           "Venezuela"
          ],
          [
           "Boxing Men's Heavyweight",
           "Kazakhstan"
          ],
          [
           "Boxing Men's Heavyweight",
           "Russia"
          ],
          [
           "Boxing Men's Heavyweight",
           "Uzbekistan"
          ],
          [
           "Boxing Men's Light-Flyweight",
           "Colombia"
          ],
          [
           "Boxing Men's Light-Flyweight",
           "Uzbekistan"
          ],
          [
           "Boxing Men's Light-Flyweight",
           "Cuba"
          ],
          [
           "Boxing Men's Light-Heavyweight",
           "Great Britain"
          ],
          [
           "Boxing Men's Light-Heavyweight",
           "Cuba"
          ],
          [
           "Boxing Men's Light-Heavyweight",
           "France"
          ],
          [
           "Boxing Men's Light-Welterweight",
           "Azerbaijan"
          ],
          [
           "Boxing Men's Light-Welterweight",
           "Russia"
          ],
          [
           "Boxing Men's Light-Welterweight",
           "Germany"
          ],
          [
           "Boxing Men's Lightweight",
           "France"
          ],
          [
           "Boxing Men's Lightweight",
           "Uzbekistan"
          ],
          [
           "Boxing Men's Lightweight",
           "Mongolia"
          ],
          [
           "Boxing Men's Middleweight",
           "Uzbekistan"
          ],
          [
           "Boxing Men's Middleweight",
           "Cuba"
          ],
          [
           "Boxing Men's Middleweight",
           "Azerbaijan"
          ],
          [
           "Boxing Men's Super-Heavyweight",
           "France"
          ],
          [
           "Boxing Men's Super-Heavyweight",
           "Great Britain"
          ],
          [
           "Boxing Men's Super-Heavyweight",
           "Croatia"
          ],
          [
           "Boxing Men's Welterweight",
           "Uzbekistan"
          ],
          [
           "Boxing Men's Welterweight",
           "France"
          ],
          [
           "Boxing Men's Welterweight",
           "Morocco"
          ],
          [
           "Boxing Women's Flyweight",
           "France"
          ],
          [
           "Boxing Women's Flyweight",
           "France"
          ],
          [
           "Boxing Women's Flyweight",
           "Colombia"
          ],
          [
           "Boxing Women's Lightweight",
           "China"
          ],
          [
           "Boxing Women's Lightweight",
           "France"
          ],
          [
           "Boxing Women's Lightweight",
           "Russia"
          ],
          [
           "Boxing Women's Middleweight",
           "Netherlands"
          ],
          [
           "Boxing Women's Middleweight",
           "China"
          ],
          [
           "Boxing Women's Middleweight",
           "China"
          ]
         ],
         "hovertemplate": "Sport=Boxing<br>BMI=%{x}<br>Population=%{y}<br>GDP_Per_Capita=%{z}<br>Event=%{customdata[0]}<br>Team=%{customdata[1]}<extra></extra>",
         "legendgroup": "Boxing",
         "marker": {
          "color": "#FF6692",
          "symbol": "circle"
         },
         "mode": "markers",
         "name": "Boxing",
         "scene": "scene",
         "showlegend": true,
         "type": "scatter3d",
         "x": [
          18.710949246550168,
          20.56932966023876,
          20.56932966023876,
          19.49317738791424,
          19.49317738791424,
          19.49317738791424,
          18.42403628117914,
          18.20664542558034,
          18.42403628117914,
          26.58875091307524,
          23.688046647230323,
          26.30361891548156,
          17.99816345270891,
          20.134779750164363,
          21.208448753462605,
          23.66691015339664,
          24.45356840961236,
          23.66691015339664,
          18.699780861943022,
          21.13885585942661,
          21.63331530557058,
          19.817677368212443,
          22.40817898532965,
          20.761245674740486,
          23.93948099205209,
          23.671253629592226,
          23.148148148148145,
          26.25,
          27.82859645958412,
          25.7626772778288,
          22.79032897344431,
          21.53490839861428,
          21.29629629629629,
          20.429418362441915,
          20.429418362441915,
          19.53125,
          21.513858510523864,
          21.258503401360542,
          20.04744562130375,
          23.148148148148145,
          23.148148148148145,
          23.148148148148145
         ],
         "y": [
          323127513,
          31848200,
          144342396,
          207652865,
          207652865,
          207652865,
          1378665000,
          31848200,
          31568179,
          17797032,
          144342396,
          31848200,
          48653419,
          31848200,
          11475982,
          65637239,
          11475982,
          66896109,
          9762274,
          144342396,
          2881922,
          66896109,
          31848200,
          26895000,
          31848200,
          11475982,
          9762274,
          66896109,
          65637239,
          5373361,
          31848200,
          66896109,
          35276786,
          66896109,
          66896109,
          48653419,
          1378665000,
          66896109,
          144342396,
          49449403,
          1378665000,
          1378665000
         ],
         "z": [
          57588.53807058303,
          2117.7444302576096,
          8759.03611775209,
          8639.365743445373,
          8639.365743445373,
          8639.365743445373,
          8117.267465431786,
          2117.7444302576096,
          954.8590895460428,
          7714.841843760241,
          8759.03611775209,
          2117.7444302576096,
          5813.6945194576165,
          2117.7444302576096,
          7961.845879507305,
          40412.03361998853,
          7961.845879507305,
          36870.21913445626,
          3880.73873089556,
          8759.03611775209,
          3684.8048103264896,
          36870.21913445626,
          2117.7444302576096,
          18864.26291809831,
          2117.7444302576096,
          7961.845879507305,
          3880.73873089556,
          36870.21913445626,
          40412.03361998853,
          5177.748864250074,
          2117.7444302576096,
          36870.21913445626,
          2892.77556054736,
          36870.21913445626,
          36870.21913445626,
          5813.6945194576165,
          8117.267465431786,
          36870.21913445626,
          8759.03611775209,
          1919.266717705585,
          8117.267465431786,
          8117.267465431786
         ]
        },
        {
         "customdata": [
          [
           "Canoeing Men's Canadian Doubles, 1,000 metres",
           "Brazil"
          ],
          [
           "Canoeing Men's Canadian Doubles, 1,000 metres",
           "Germany"
          ],
          [
           "Canoeing Men's Canadian Doubles, 1,000 metres",
           "Ukraine"
          ],
          [
           "Canoeing Men's Canadian Doubles, Slalom",
           "France"
          ],
          [
           "Canoeing Men's Canadian Doubles, Slalom",
           "Slovakia"
          ],
          [
           "Canoeing Men's Canadian Doubles, Slalom",
           "France"
          ],
          [
           "Canoeing Men's Canadian Singles, 1,000 metres",
           "Russia"
          ],
          [
           "Canoeing Men's Canadian Singles, 1,000 metres",
           "Russia"
          ],
          [
           "Canoeing Men's Canadian Singles, 1,000 metres",
           "Russia"
          ],
          [
           "Canoeing Men's Canadian Singles, 200 metres",
           "Azerbaijan"
          ],
          [
           "Canoeing Men's Canadian Singles, 200 metres",
           "Azerbaijan"
          ],
          [
           "Canoeing Men's Canadian Singles, 200 metres",
           "Brazil"
          ],
          [
           "Canoeing Men's Canadian Singles, Slalom",
           "Slovakia"
          ],
          [
           "Canoeing Men's Canadian Singles, Slalom",
           "France"
          ],
          [
           "Canoeing Men's Canadian Singles, Slalom",
           "Japan"
          ],
          [
           "Canoeing Men's Kayak Doubles, 1,000 metres",
           "Australia"
          ],
          [
           "Canoeing Men's Kayak Doubles, 1,000 metres",
           "Germany"
          ],
          [
           "Canoeing Men's Kayak Doubles, 1,000 metres",
           "Australia"
          ],
          [
           "Canoeing Men's Kayak Doubles, 200 metres",
           "Lithuania"
          ],
          [
           "Canoeing Men's Kayak Doubles, 200 metres",
           "Spain"
          ],
          [
           "Canoeing Men's Kayak Doubles, 200 metres",
           "Lithuania"
          ],
          [
           "Canoeing Men's Kayak Fours, 1,000 metres",
           "Slovakia"
          ],
          [
           "Canoeing Men's Kayak Fours, 1,000 metres",
           "Germany"
          ],
          [
           "Canoeing Men's Kayak Fours, 1,000 metres",
           "Slovakia"
          ],
          [
           "Canoeing Men's Kayak Singles, 1,000 metres",
           "Serbia"
          ],
          [
           "Canoeing Men's Kayak Singles, 1,000 metres",
           "Spain"
          ],
          [
           "Canoeing Men's Kayak Singles, 1,000 metres",
           "Russia"
          ],
          [
           "Canoeing Men's Kayak Singles, 200 metres",
           "France"
          ],
          [
           "Canoeing Men's Kayak Singles, 200 metres",
           "France"
          ],
          [
           "Canoeing Men's Kayak Singles, 200 metres",
           "France"
          ],
          [
           "Canoeing Men's Kayak Singles, Slalom",
           "Slovenia"
          ],
          [
           "Canoeing Men's Kayak Singles, Slalom",
           "Great Britain"
          ],
          [
           "Canoeing Men's Kayak Singles, Slalom",
           "Czech Republic"
          ],
          [
           "Canoeing Women's Kayak Fours, 500 metres",
           "Germany"
          ],
          [
           "Canoeing Women's Kayak Fours, 500 metres",
           "Hungary"
          ],
          [
           "Canoeing Women's Kayak Fours, 500 metres",
           "Germany"
          ],
          [
           "Canoeing Women's Kayak Singles, 200 metres",
           "Poland"
          ],
          [
           "Canoeing Women's Kayak Singles, 200 metres",
           "Belarus"
          ],
          [
           "Canoeing Women's Kayak Singles, 200 metres",
           "Belarus"
          ],
          [
           "Canoeing Women's Kayak Singles, 500 metres",
           "Denmark"
          ],
          [
           "Canoeing Women's Kayak Singles, 500 metres",
           "Denmark"
          ],
          [
           "Canoeing Women's Kayak Singles, 500 metres",
           "Denmark"
          ],
          [
           "Canoeing Women's Kayak Singles, Slalom",
           "New Zealand"
          ],
          [
           "Canoeing Women's Kayak Singles, Slalom",
           "New Zealand"
          ],
          [
           "Canoeing Women's Kayak Singles, Slalom",
           "New Zealand"
          ]
         ],
         "hovertemplate": "Sport=Canoeing<br>BMI=%{x}<br>Population=%{y}<br>GDP_Per_Capita=%{z}<br>Event=%{customdata[0]}<br>Team=%{customdata[1]}<extra></extra>",
         "legendgroup": "Canoeing",
         "marker": {
          "color": "#B6E880",
          "symbol": "circle"
         },
         "mode": "markers",
         "name": "Canoeing",
         "scene": "scene",
         "showlegend": true,
         "type": "scatter3d",
         "x": [
          25.46938775510204,
          24.898143956541425,
          24.307243558580453,
          22.229061933586404,
          22.395789591556788,
          24.489795918367346,
          27.757487216946675,
          27.757487216946675,
          27.757487216946675,
          24.967113211092915,
          24.967113211092915,
          27.755102040816325,
          21.60558100791337,
          23.198315069747565,
          22.857142857142858,
          25.82644628099173,
          26.01456815816857,
          25.82644628099173,
          28.08988764044944,
          25.46401086464464,
          26.583175803402646,
          25.195263290501387,
          25.661152034778407,
          23.98929319966668,
          26.42356982428326,
          24.22022684310019,
          25.77039930555556,
          25.766837531865903,
          25.766837531865903,
          25.766837531865903,
          22.34351559258195,
          22.94408887815481,
          23.05456246449932,
          25.099501595611173,
          25.180785123966945,
          22.09317005428608,
          23.1404958677686,
          20.45114617990904,
          20.45114617990904,
          24.508945765204302,
          24.508945765204302,
          24.508945765204302,
          22.985397512168745,
          22.985397512168745,
          22.985397512168745
         ],
         "y": [
          207652865,
          10421137,
          45004645,
          66896109,
          5428704,
          66896109,
          144342396,
          144342396,
          144342396,
          9762274,
          9762274,
          207652865,
          5428704,
          66896109,
          126994511,
          24127159,
          66896109,
          24127159,
          2872298,
          46443959,
          2872298,
          5428704,
          55718260,
          5428704,
          7057412,
          46443959,
          144342396,
          66896109,
          66896109,
          66896109,
          142849449,
          65637239,
          10561633,
          3816486,
          9817958,
          7565525,
          37948016,
          9507120,
          9507120,
          4490967,
          4490967,
          4490967,
          4692700,
          4692700,
          4692700
         ],
         "z": [
          8639.365743445373,
          35589.68911684018,
          2185.72803066435,
          36870.21913445626,
          16529.54096679536,
          36870.21913445626,
          8759.03611775209,
          8759.03611775209,
          8759.03611775209,
          3880.73873089556,
          3880.73873089556,
          8639.365743445373,
          16529.54096679536,
          36870.21913445626,
          38972.340639146816,
          49896.68110092457,
          36870.21913445626,
          49896.68110092457,
          14912.68654279316,
          26616.75779655097,
          14912.68654279316,
          16529.54096679536,
          4019.795861131114,
          16529.54096679536,
          5426.198278872465,
          26616.75779655097,
          8759.03611775209,
          36870.21913445626,
          36870.21913445626,
          36870.21913445626,
          10674.987707365,
          40412.03361998853,
          18483.71647977161,
          2662.1174915311717,
          12820.088196305349,
          5678.386637822733,
          12430.629601767552,
          5025.405063877017,
          5025.405063877017,
          38146.71539174766,
          38146.71539174766,
          38146.71539174766,
          40331.95910482274,
          40331.95910482274,
          40331.95910482274
         ]
        },
        {
         "customdata": [
          [
           "Cycling Men's 1,000 metres Time Trial",
           "France"
          ],
          [
           "Cycling Men's 1,000 metres Time Trial",
           "France"
          ],
          [
           "Cycling Men's 1,000 metres Time Trial",
           "France"
          ],
          [
           "Cycling Men's BMX",
           "Netherlands"
          ],
          [
           "Cycling Men's BMX",
           "United States"
          ],
          [
           "Cycling Men's BMX",
           "Colombia"
          ],
          [
           "Cycling Men's Keirin",
           "Netherlands"
          ],
          [
           "Cycling Men's Keirin",
           "Netherlands"
          ],
          [
           "Cycling Men's Keirin",
           "Netherlands"
          ],
          [
           "Cycling Men's Madison",
           "Great Britain"
          ],
          [
           "Cycling Men's Madison",
           "Great Britain"
          ],
          [
           "Cycling Men's Madison",
           "Great Britain"
          ],
          [
           "Cycling Men's Mountainbike, Cross-Country",
           "Denmark"
          ],
          [
           "Cycling Men's Mountainbike, Cross-Country",
           "Spain"
          ],
          [
           "Cycling Men's Mountainbike, Cross-Country",
           "Spain"
          ],
          [
           "Cycling Men's Road Race, Individual",
           "Belgium"
          ],
          [
           "Cycling Men's Road Race, Individual",
           "Poland"
          ],
          [
           "Cycling Men's Road Race, Individual",
           "Netherlands"
          ],
          [
           "Cycling Men's Sprint",
           "New Zealand"
          ],
          [
           "Cycling Men's Sprint",
           "Great Britain"
          ],
          [
           "Cycling Men's Sprint",
           "Russia"
          ],
          [
           "Cycling Men's Team Pursuit, 4,000 metres",
           "Australia"
          ],
          [
           "Cycling Men's Team Pursuit, 4,000 metres",
           "Great Britain"
          ],
          [
           "Cycling Men's Team Pursuit, 4,000 metres",
           "Denmark"
          ],
          [
           "Cycling Men's Team Sprint",
           "New Zealand"
          ],
          [
           "Cycling Men's Team Sprint",
           "New Zealand"
          ],
          [
           "Cycling Men's Team Sprint",
           "New Zealand"
          ],
          [
           "Cycling Women's BMX",
           "United States"
          ],
          [
           "Cycling Women's BMX",
           "United States"
          ],
          [
           "Cycling Women's BMX",
           "Venezuela"
          ],
          [
           "Cycling Women's Mountainbike, Cross-Country",
           "Canada"
          ],
          [
           "Cycling Women's Mountainbike, Cross-Country",
           "Sweden"
          ],
          [
           "Cycling Women's Mountainbike, Cross-Country",
           "Canada"
          ],
          [
           "Cycling Women's Omnium",
           "Belgium"
          ],
          [
           "Cycling Women's Omnium",
           "Belgium"
          ],
          [
           "Cycling Women's Omnium",
           "Belgium"
          ],
          [
           "Cycling Women's Road Race, Individual",
           "Italy"
          ],
          [
           "Cycling Women's Road Race, Individual",
           "Netherlands"
          ],
          [
           "Cycling Women's Road Race, Individual",
           "Italy"
          ],
          [
           "Cycling Women's Sprint",
           "Great Britain"
          ],
          [
           "Cycling Women's Sprint",
           "Netherlands"
          ],
          [
           "Cycling Women's Sprint",
           "Great Britain"
          ],
          [
           "Cycling Women's Team Pursuit",
           "United States"
          ],
          [
           "Cycling Women's Team Pursuit",
           "Great Britain"
          ],
          [
           "Cycling Women's Team Pursuit",
           "Canada"
          ]
         ],
         "hovertemplate": "Sport=Cycling<br>BMI=%{x}<br>Population=%{y}<br>GDP_Per_Capita=%{z}<br>Event=%{customdata[0]}<br>Team=%{customdata[1]}<extra></extra>",
         "legendgroup": "Cycling",
         "marker": {
          "color": "#FF97FF",
          "symbol": "circle"
         },
         "mode": "markers",
         "name": "Cycling",
         "scene": "scene",
         "showlegend": true,
         "type": "scatter3d",
         "x": [
          27.160493827160494,
          27.160493827160494,
          27.160493827160494,
          26.59498412879979,
          26.27728507868255,
          20.515086478979924,
          25.46401086464464,
          25.46401086464464,
          25.46401086464464,
          22.857142857142858,
          22.857142857142858,
          22.857142857142858,
          20.603780345785182,
          22.229061933586404,
          22.229061933586404,
          22.587833094227893,
          20.381569714992143,
          20.23355301190889,
          27.173119065010955,
          26.59498412879979,
          28.72737719046251,
          22.74338374291116,
          22.28259210646805,
          22.839506172839503,
          25.61728395061728,
          25.61728395061728,
          25.61728395061728,
          23.233456176894723,
          23.233456176894723,
          23.875114784205696,
          18.144868631151112,
          20.202020202020204,
          18.144868631151112,
          20.66115702479339,
          20.66115702479339,
          20.66115702479339,
          20.41522491349481,
          20.07960127648894,
          20.41522491349481,
          22.571047501795427,
          26.29656683710737,
          24.913494809688583,
          23.889462809917354,
          22.09317005428608,
          21.8724228190326
         ],
         "y": [
          66896109,
          66896109,
          66896109,
          36286425,
          323127513,
          48653419,
          54541493,
          54541493,
          54541493,
          65637239,
          65637239,
          65637239,
          97826000,
          46443959,
          46443959,
          11348159,
          37948016,
          45271947,
          4692700,
          65637239,
          144342396,
          24127159,
          65637239,
          4026152,
          4692700,
          4692700,
          4692700,
          323127513,
          323127513,
          31568179,
          36286425,
          9903122,
          36286425,
          11348159,
          11348159,
          11348159,
          60600590,
          10045158,
          60600590,
          65637239,
          56797087,
          65637239,
          323127513,
          65637239,
          36286425
         ],
         "z": [
          36870.21913445626,
          36870.21913445626,
          36870.21913445626,
          42348.94546059788,
          57588.53807058303,
          5813.6945194576165,
          6826.344825471998,
          6826.344825471998,
          6826.344825471998,
          40412.03361998853,
          40412.03361998853,
          40412.03361998853,
          835.6572524841158,
          26616.75779655097,
          26616.75779655097,
          41260.977551146825,
          12430.629601767552,
          3104.65829575449,
          40331.95910482274,
          40412.03361998853,
          8759.03611775209,
          49896.68110092457,
          40412.03361998853,
          8927.201627344768,
          40331.95910482274,
          40331.95910482274,
          40331.95910482274,
          57588.53807058303,
          57588.53807058303,
          12755.000081880738,
          42348.94546059788,
          51844.761261862746,
          42348.94546059788,
          41260.977551146825,
          41260.977551146825,
          41260.977551146825,
          30668.981428999723,
          23497.72740674225,
          30668.981428999723,
          40412.03361998853,
          23166.80406268323,
          40412.03361998853,
          57588.53807058303,
          40412.03361998853,
          42348.94546059788
         ]
        },
        {
         "customdata": [
          [
           "Diving Men's Platform",
           "United States"
          ],
          [
           "Diving Men's Platform",
           "China"
          ],
          [
           "Diving Men's Platform",
           "China"
          ],
          [
           "Diving Men's Springboard",
           "United States"
          ],
          [
           "Diving Men's Springboard",
           "Great Britain"
          ],
          [
           "Diving Men's Springboard",
           "Great Britain"
          ],
          [
           "Diving Men's Synchronized Platform",
           "Great Britain"
          ],
          [
           "Diving Men's Synchronized Platform",
           "Great Britain"
          ],
          [
           "Diving Men's Synchronized Platform",
           "Great Britain"
          ],
          [
           "Diving Men's Synchronized Springboard",
           "United States"
          ],
          [
           "Diving Men's Synchronized Springboard",
           "United States"
          ],
          [
           "Diving Men's Synchronized Springboard",
           "United States"
          ],
          [
           "Diving Women's Platform",
           "China"
          ],
          [
           "Diving Women's Platform",
           "China"
          ],
          [
           "Diving Women's Platform",
           "China"
          ],
          [
           "Diving Women's Springboard",
           "Malaysia"
          ],
          [
           "Diving Women's Springboard",
           "China"
          ],
          [
           "Diving Women's Springboard",
           "Australia"
          ],
          [
           "Diving Women's Synchronized Platform",
           "China"
          ],
          [
           "Diving Women's Synchronized Platform",
           "China"
          ],
          [
           "Diving Women's Synchronized Platform",
           "China"
          ],
          [
           "Diving Women's Synchronized Springboard",
           "Italy"
          ],
          [
           "Diving Women's Synchronized Springboard",
           "Australia"
          ],
          [
           "Diving Women's Synchronized Springboard",
           "Australia"
          ]
         ],
         "hovertemplate": "Sport=Diving<br>BMI=%{x}<br>Population=%{y}<br>GDP_Per_Capita=%{z}<br>Event=%{customdata[0]}<br>Team=%{customdata[1]}<extra></extra>",
         "legendgroup": "Diving",
         "marker": {
          "color": "#FECB52",
          "symbol": "circle"
         },
         "mode": "markers",
         "name": "Diving",
         "scene": "scene",
         "showlegend": true,
         "type": "scatter3d",
         "x": [
          22.634676324128566,
          21.258503401360542,
          21.258503401360542,
          22.72043837081092,
          23.588329220496444,
          23.661438615467823,
          20.7967298935064,
          20.7967298935064,
          20.7967298935064,
          25.142857142857142,
          25.142857142857142,
          25.142857142857142,
          21.192742415229034,
          18.670934308794383,
          21.192742415229034,
          21.33333333333333,
          20.56880661366243,
          22.23098712754133,
          19.473406629072173,
          19.473406629072173,
          19.473406629072173,
          21.453573713726524,
          19.48696145124717,
          19.48696145124717
         ],
         "y": [
          323127513,
          1378665000,
          1378665000,
          323127513,
          65637239,
          65637239,
          65637239,
          65637239,
          65637239,
          323127513,
          323127513,
          323127513,
          1378665000,
          1378665000,
          1378665000,
          4259800,
          1378665000,
          24127159,
          1378665000,
          1378665000,
          1378665000,
          60600590,
          24127159,
          24127159
         ],
         "z": [
          57588.53807058303,
          8117.267465431786,
          8117.267465431786,
          57588.53807058303,
          40412.03361998853,
          40412.03361998853,
          40412.03361998853,
          40412.03361998853,
          40412.03361998853,
          57588.53807058303,
          57588.53807058303,
          57588.53807058303,
          8117.267465431786,
          8117.267465431786,
          8117.267465431786,
          31287.778647512507,
          8117.267465431786,
          49896.68110092457,
          8117.267465431786,
          8117.267465431786,
          8117.267465431786,
          30668.981428999723,
          49896.68110092457,
          49896.68110092457
         ]
        },
        {
         "customdata": [
          [
           "Equestrianism Mixed Dressage, Individual",
           "Great Britain"
          ],
          [
           "Equestrianism Mixed Dressage, Individual",
           "Germany"
          ],
          [
           "Equestrianism Mixed Dressage, Individual",
           "United States"
          ],
          [
           "Equestrianism Mixed Jumping, Individual",
           "United States"
          ],
          [
           "Equestrianism Mixed Jumping, Individual",
           "France"
          ],
          [
           "Equestrianism Mixed Jumping, Individual",
           "Germany"
          ],
          [
           "Equestrianism Mixed Three-Day Event, Individual",
           "Germany"
          ],
          [
           "Equestrianism Mixed Three-Day Event, Individual",
           "France"
          ],
          [
           "Equestrianism Mixed Three-Day Event, Individual",
           "Australia"
          ]
         ],
         "hovertemplate": "Sport=Equestrianism<br>BMI=%{x}<br>Population=%{y}<br>GDP_Per_Capita=%{z}<br>Event=%{customdata[0]}<br>Team=%{customdata[1]}<extra></extra>",
         "legendgroup": "Equestrianism",
         "marker": {
          "color": "#636efa",
          "symbol": "circle"
         },
         "mode": "markers",
         "name": "Equestrianism",
         "scene": "scene",
         "showlegend": true,
         "type": "scatter3d",
         "x": [
          25.05930702662969,
          19.59784155279337,
          22.20633068613798,
          22.052190183434128,
          25.82644628099173,
          21.05263157894737,
          23.030045351473927,
          22.59814049586777,
          21.604938271604937
         ],
         "y": [
          65637239,
          10398489,
          323127513,
          323127513,
          66896109,
          10596487,
          37948016,
          66896109,
          24127159
         ],
         "z": [
          40412.03361998853,
          4633.312922662492,
          57588.53807058303,
          57588.53807058303,
          36870.21913445626,
          12888.3045908829,
          12430.629601767552,
          36870.21913445626,
          49896.68110092457
         ]
        },
        {
         "customdata": [
          [
           "Fencing Men's Foil, Individual",
           "France"
          ],
          [
           "Fencing Men's Foil, Individual",
           "Italy"
          ],
          [
           "Fencing Men's Foil, Individual",
           "United States"
          ],
          [
           "Fencing Men's Foil, Team",
           "France"
          ],
          [
           "Fencing Men's Foil, Team",
           "France"
          ],
          [
           "Fencing Men's Foil, Team",
           "France"
          ],
          [
           "Fencing Men's Sabre, Individual",
           "United States"
          ],
          [
           "Fencing Men's Sabre, Individual",
           "United States"
          ],
          [
           "Fencing Men's Sabre, Individual",
           "United States"
          ],
          [
           "Fencing Men's epee, Individual",
           "Italy"
          ],
          [
           "Fencing Men's epee, Individual",
           "France"
          ],
          [
           "Fencing Men's epee, Individual",
           "Italy"
          ],
          [
           "Fencing Men's epee, Team",
           "Italy"
          ],
          [
           "Fencing Men's epee, Team",
           "France"
          ],
          [
           "Fencing Men's epee, Team",
           "Hungary"
          ],
          [
           "Fencing Women's Foil, Individual",
           "Tunisia"
          ],
          [
           "Fencing Women's Foil, Individual",
           "Tunisia"
          ],
          [
           "Fencing Women's Foil, Individual",
           "Tunisia"
          ],
          [
           "Fencing Women's Sabre, Individual",
           "Ukraine"
          ],
          [
           "Fencing Women's Sabre, Individual",
           "Russia"
          ],
          [
           "Fencing Women's Sabre, Individual",
           "United States"
          ],
          [
           "Fencing Women's Sabre, Team",
           "Ukraine"
          ],
          [
           "Fencing Women's Sabre, Team",
           "United States"
          ],
          [
           "Fencing Women's Sabre, Team",
           "United States"
          ],
          [
           "Fencing Women's epee, Individual",
           "Italy"
          ],
          [
           "Fencing Women's epee, Individual",
           "Hungary"
          ],
          [
           "Fencing Women's epee, Individual",
           "Russia"
          ],
          [
           "Fencing Women's epee, Team",
           "China"
          ],
          [
           "Fencing Women's epee, Team",
           "Romania"
          ],
          [
           "Fencing Women's epee, Team",
           "China"
          ]
         ],
         "hovertemplate": "Sport=Fencing<br>BMI=%{x}<br>Population=%{y}<br>GDP_Per_Capita=%{z}<br>Event=%{customdata[0]}<br>Team=%{customdata[1]}<extra></extra>",
         "legendgroup": "Fencing",
         "marker": {
          "color": "#EF553B",
          "symbol": "circle"
         },
         "mode": "markers",
         "name": "Fencing",
         "scene": "scene",
         "showlegend": true,
         "type": "scatter3d",
         "x": [
          22.1606648199446,
          20.747550193111813,
          21.47708663319821,
          24.577867151840145,
          24.577867151840145,
          24.577867151840145,
          24.72518293294129,
          24.72518293294129,
          24.72518293294129,
          19.390581717451525,
          25.76721894405937,
          22.839506172839503,
          22.448015122873343,
          22.54595907041276,
          24.049343594386603,
          20.07960127648894,
          20.07960127648894,
          20.07960127648894,
          26.25958474843318,
          20.897959183673468,
          23.529411764705884,
          23.875114784205696,
          22.096807907073963,
          22.096807907073963,
          17.92821542543655,
          22.92097107438017,
          20.66115702479339,
          21.306818181818183,
          21.258503401360542,
          21.306818181818183
         ],
         "y": [
          66896109,
          60600590,
          323127513,
          66896109,
          66896109,
          66896109,
          323127513,
          323127513,
          323127513,
          60600590,
          66896109,
          60600590,
          60600590,
          66896109,
          9817958,
          11403248,
          11403248,
          11403248,
          45004645,
          144342396,
          323127513,
          45004645,
          323127513,
          323127513,
          60600590,
          9817958,
          144342396,
          1378665000,
          19705301,
          1378665000
         ],
         "z": [
          36870.21913445626,
          30668.981428999723,
          57588.53807058303,
          36870.21913445626,
          36870.21913445626,
          36870.21913445626,
          57588.53807058303,
          57588.53807058303,
          57588.53807058303,
          30668.981428999723,
          36870.21913445626,
          30668.981428999723,
          30668.981428999723,
          36870.21913445626,
          12820.088196305349,
          3666.357154406197,
          3666.357154406197,
          3666.357154406197,
          2185.72803066435,
          8759.03611775209,
          57588.53807058303,
          2185.72803066435,
          57588.53807058303,
          57588.53807058303,
          30668.981428999723,
          12820.088196305349,
          8759.03611775209,
          8117.267465431786,
          9567.097781913297,
          8117.267465431786
         ]
        },
        {
         "customdata": [
          [
           "Football Men's Football",
           "Germany"
          ],
          [
           "Football Men's Football",
           "Brazil"
          ],
          [
           "Football Men's Football",
           "Nigeria"
          ],
          [
           "Football Women's Football",
           "Sweden"
          ],
          [
           "Football Women's Football",
           "Germany"
          ],
          [
           "Football Women's Football",
           "Canada"
          ]
         ],
         "hovertemplate": "Sport=Football<br>BMI=%{x}<br>Population=%{y}<br>GDP_Per_Capita=%{z}<br>Event=%{customdata[0]}<br>Team=%{customdata[1]}<extra></extra>",
         "legendgroup": "Football",
         "marker": {
          "color": "#00cc96",
          "symbol": "circle"
         },
         "mode": "markers",
         "name": "Football",
         "scene": "scene",
         "showlegend": true,
         "type": "scatter3d",
         "x": [
          23.62948960302457,
          23.05456246449932,
          24.337479718766904,
          23.030045351473927,
          22.20408163265306,
          23.722810651876102
         ],
         "y": [
          13177000,
          207652865,
          163644603,
          9903122,
          8336605,
          36286425
         ],
         "z": [
          3942.812419544392,
          8639.365743445373,
          1039.31208844269,
          51844.761261862746,
          12914.330681957246,
          42348.94546059788
         ]
        },
        {
         "customdata": [
          [
           "Golf Men's Individual",
           "Sweden"
          ],
          [
           "Golf Men's Individual",
           "United States"
          ],
          [
           "Golf Men's Individual",
           "United States"
          ],
          [
           "Golf Women's Individual",
           "China"
          ],
          [
           "Golf Women's Individual",
           "South Korea"
          ],
          [
           "Golf Women's Individual",
           "China"
          ]
         ],
         "hovertemplate": "Sport=Golf<br>BMI=%{x}<br>Population=%{y}<br>GDP_Per_Capita=%{z}<br>Event=%{customdata[0]}<br>Team=%{customdata[1]}<extra></extra>",
         "legendgroup": "Golf",
         "marker": {
          "color": "#ab63fa",
          "symbol": "circle"
         },
         "mode": "markers",
         "name": "Golf",
         "scene": "scene",
         "showlegend": true,
         "type": "scatter3d",
         "x": [
          24.332277048438208,
          23.087868130688072,
          23.087868130688072,
          29.411764705882355,
          23.030045351473927,
          29.411764705882355
         ],
         "y": [
          9903122,
          323127513,
          323127513,
          1378665000,
          51245707,
          1378665000
         ],
         "z": [
          51844.761261862746,
          57588.53807058303,
          57588.53807058303,
          8117.267465431786,
          27608.2474287116,
          8117.267465431786
         ]
        },
        {
         "customdata": [
          [
           "Gymnastics Men's Horse Vault",
           "North Korea"
          ],
          [
           "Gymnastics Men's Horse Vault",
           "North Korea"
          ],
          [
           "Gymnastics Men's Horse Vault",
           "North Korea"
          ],
          [
           "Gymnastics Men's Individual All-Around",
           "Russia"
          ],
          [
           "Gymnastics Men's Individual All-Around",
           "Ukraine"
          ],
          [
           "Gymnastics Men's Individual All-Around",
           "China"
          ],
          [
           "Gymnastics Men's Rings",
           "Greece"
          ],
          [
           "Gymnastics Men's Rings",
           "Greece"
          ],
          [
           "Gymnastics Men's Rings",
           "Greece"
          ],
          [
           "Gymnastics Men's Team All-Around",
           "Russia"
          ],
          [
           "Gymnastics Men's Team All-Around",
           "Japan"
          ],
          [
           "Gymnastics Men's Team All-Around",
           "China"
          ],
          [
           "Gymnastics Women's Individual All-Around",
           "Russia"
          ],
          [
           "Gymnastics Women's Individual All-Around",
           "United States"
          ],
          [
           "Gymnastics Women's Individual All-Around",
           "China"
          ],
          [
           "Gymnastics Women's Team All-Around",
           "United States"
          ],
          [
           "Gymnastics Women's Team All-Around",
           "Netherlands"
          ],
          [
           "Gymnastics Women's Team All-Around",
           "China"
          ]
         ],
         "hovertemplate": "Sport=Gymnastics<br>BMI=%{x}<br>Population=%{y}<br>GDP_Per_Capita=%{z}<br>Event=%{customdata[0]}<br>Team=%{customdata[1]}<extra></extra>",
         "legendgroup": "Gymnastics",
         "marker": {
          "color": "#FFA15A",
          "symbol": "circle"
         },
         "mode": "markers",
         "name": "Gymnastics",
         "scene": "scene",
         "showlegend": true,
         "type": "scatter3d",
         "x": [
          22.476586888657646,
          22.476586888657646,
          22.476586888657646,
          24.31412396574249,
          21.218317194552675,
          22.582709172343712,
          23.051754907792983,
          23.051754907792983,
          23.051754907792983,
          20.41522491349481,
          19.43301326017375,
          23.243408017070564,
          19.29739923687557,
          22.984008997995016,
          16.836734693877553,
          21.208448753462605,
          18.902038132807363,
          16.89189189189189
         ],
         "y": [
          25368620,
          25368620,
          25368620,
          144342396,
          45004645,
          1378665000,
          10255063,
          10255063,
          10255063,
          144342396,
          126994511,
          1378665000,
          144342396,
          323127513,
          1378665000,
          323127513,
          207652865,
          1378665000
         ],
         "z": [
          39339.29757318257,
          39339.29757318257,
          39339.29757318257,
          8759.03611775209,
          2185.72803066435,
          8117.267465431786,
          6011.615220357014,
          6011.615220357014,
          6011.615220357014,
          8759.03611775209,
          38972.340639146816,
          8117.267465431786,
          8759.03611775209,
          57588.53807058303,
          8117.267465431786,
          57588.53807058303,
          8639.365743445373,
          8117.267465431786
         ]
        },
        {
         "customdata": [
          [
           "Handball Men's Handball",
           "France"
          ],
          [
           "Handball Men's Handball",
           "Denmark"
          ],
          [
           "Handball Men's Handball",
           "Germany"
          ],
          [
           "Handball Women's Handball",
           "France"
          ],
          [
           "Handball Women's Handball",
           "Russia"
          ],
          [
           "Handball Women's Handball",
           "Norway"
          ]
         ],
         "hovertemplate": "Sport=Handball<br>BMI=%{x}<br>Population=%{y}<br>GDP_Per_Capita=%{z}<br>Event=%{customdata[0]}<br>Team=%{customdata[1]}<extra></extra>",
         "legendgroup": "Handball",
         "marker": {
          "color": "#19d3f3",
          "symbol": "circle"
         },
         "mode": "markers",
         "name": "Handball",
         "scene": "scene",
         "showlegend": true,
         "type": "scatter3d",
         "x": [
          25.48476454293629,
          25.51020408163265,
          24.898143956541425,
          23.301094832264035,
          21.85727788279773,
          23.030045351473927
         ],
         "y": [
          66896109,
          4408100,
          209896000,
          66896109,
          144342396,
          5232929
         ],
         "z": [
          36870.21913445626,
          39970.2562445037,
          6109.925868048938,
          36870.21913445626,
          8759.03611775209,
          70890.03556873862
         ]
        },
        {
         "customdata": [
          [
           "Hockey Men's Hockey",
           "Belgium"
          ],
          [
           "Hockey Men's Hockey",
           "Argentina"
          ],
          [
           "Hockey Men's Hockey",
           "Germany"
          ],
          [
           "Hockey Women's Hockey",
           "Netherlands"
          ],
          [
           "Hockey Women's Hockey",
           "Great Britain"
          ],
          [
           "Hockey Women's Hockey",
           "Germany"
          ]
         ],
         "hovertemplate": "Sport=Hockey<br>BMI=%{x}<br>Population=%{y}<br>GDP_Per_Capita=%{z}<br>Event=%{customdata[0]}<br>Team=%{customdata[1]}<extra></extra>",
         "legendgroup": "Hockey",
         "marker": {
          "color": "#FF6692",
          "symbol": "circle"
         },
         "mode": "markers",
         "name": "Hockey",
         "scene": "scene",
         "showlegend": true,
         "type": "scatter3d",
         "x": [
          22.79032897344431,
          24.65590961580475,
          23.76543209876543,
          21.06162815542871,
          21.9671201814059,
          21.29529475392104
         ],
         "y": [
          11348159,
          43847430,
          132800684,
          60789140,
          65637239,
          8541575
         ],
         "z": [
          41260.977551146825,
          12654.354998995825,
          1573.967139332195,
          35396.66572422649,
          40412.03361998853,
          51704.54118759212
         ]
        },
        {
         "customdata": [
          [
           "Judo Men's Extra-Lightweight",
           "Kazakhstan"
          ],
          [
           "Judo Men's Extra-Lightweight",
           "Russia"
          ],
          [
           "Judo Men's Extra-Lightweight",
           "Uzbekistan"
          ],
          [
           "Judo Men's Half-Heavyweight",
           "Japan"
          ],
          [
           "Judo Men's Half-Heavyweight",
           "Czech Republic"
          ],
          [
           "Judo Men's Half-Heavyweight",
           "France"
          ],
          [
           "Judo Men's Half-Lightweight",
           "South Korea"
          ],
          [
           "Judo Men's Half-Lightweight",
           "Italy"
          ],
          [
           "Judo Men's Half-Lightweight",
           "South Korea"
          ],
          [
           "Judo Men's Half-Middleweight",
           "United States"
          ],
          [
           "Judo Men's Half-Middleweight",
           "Russia"
          ],
          [
           "Judo Men's Half-Middleweight",
           "Japan"
          ],
          [
           "Judo Men's Heavyweight",
           "Japan"
          ],
          [
           "Judo Men's Heavyweight",
           "Israel"
          ],
          [
           "Judo Men's Heavyweight",
           "Israel"
          ],
          [
           "Judo Men's Lightweight",
           "Azerbaijan"
          ],
          [
           "Judo Men's Lightweight",
           "Japan"
          ],
          [
           "Judo Men's Lightweight",
           "Moldova"
          ],
          [
           "Judo Men's Middleweight",
           "Georgia"
          ],
          [
           "Judo Men's Middleweight",
           "Japan"
          ],
          [
           "Judo Men's Middleweight",
           "China"
          ],
          [
           "Judo Women's Extra-Lightweight",
           "South Korea"
          ],
          [
           "Judo Women's Extra-Lightweight",
           "South Korea"
          ],
          [
           "Judo Women's Extra-Lightweight",
           "Japan"
          ],
          [
           "Judo Women's Half-Heavyweight",
           "Slovenia"
          ],
          [
           "Judo Women's Half-Heavyweight",
           "Slovenia"
          ],
          [
           "Judo Women's Half-Heavyweight",
           "Slovenia"
          ],
          [
           "Judo Women's Half-Lightweight",
           "Italy"
          ],
          [
           "Judo Women's Half-Lightweight",
           "Albania"
          ],
          [
           "Judo Women's Half-Lightweight",
           "Russia"
          ],
          [
           "Judo Women's Half-Middleweight",
           "France"
          ],
          [
           "Judo Women's Half-Middleweight",
           "Slovenia"
          ],
          [
           "Judo Women's Half-Middleweight",
           "Israel"
          ],
          [
           "Judo Women's Heavyweight",
           "Japan"
          ],
          [
           "Judo Women's Heavyweight",
           "France"
          ],
          [
           "Judo Women's Heavyweight",
           "China"
          ],
          [
           "Judo Women's Lightweight",
           "Mongolia"
          ],
          [
           "Judo Women's Lightweight",
           "Brazil"
          ],
          [
           "Judo Women's Lightweight",
           "Mongolia"
          ],
          [
           "Judo Women's Middleweight",
           "Japan"
          ],
          [
           "Judo Women's Middleweight",
           "Japan"
          ],
          [
           "Judo Women's Middleweight",
           "Germany"
          ]
         ],
         "hovertemplate": "Sport=Judo<br>BMI=%{x}<br>Population=%{y}<br>GDP_Per_Capita=%{z}<br>Event=%{customdata[0]}<br>Team=%{customdata[1]}<extra></extra>",
         "legendgroup": "Judo",
         "marker": {
          "color": "#B6E880",
          "symbol": "circle"
         },
         "mode": "markers",
         "name": "Judo",
         "scene": "scene",
         "showlegend": true,
         "type": "scatter3d",
         "x": [
          21.513858510523864,
          21.773842357381334,
          20.28123309897241,
          28.90507573129841,
          27.055579891262337,
          30.234315948601665,
          23.1084345786212,
          25.78125,
          23.1084345786212,
          24.41927902078691,
          24.45356840961236,
          24.724520008546747,
          34.264411611523805,
          32.21562994979731,
          32.21562994979731,
          22.783308885490467,
          25.25951557093426,
          25,
          26.88095170007721,
          28.40550435551067,
          26.29656683710737,
          21.78649237472767,
          21.78649237472767,
          19.72386587771203,
          24.61810377477591,
          24.61810377477591,
          24.61810377477591,
          20.3125,
          19.81405273586343,
          20.3125,
          24.538964901844142,
          24.76756591982929,
          22.05805118868388,
          36.50621957815036,
          33.564013840830455,
          38.64267600531336,
          23.046875,
          19.95728440880922,
          23.046875,
          24.801587301587304,
          24.801587301587304,
          23.38868655818771
         ],
         "y": [
          17797032,
          144342396,
          31848200,
          126994511,
          10561633,
          66896109,
          51245707,
          60600590,
          51245707,
          323127513,
          144342396,
          126994511,
          126994511,
          8547100,
          8547100,
          9762274,
          126994511,
          22242653,
          3719300,
          126994511,
          1378665000,
          51245707,
          51245707,
          126994511,
          113661809,
          113661809,
          113661809,
          60600590,
          5313399,
          144342396,
          66896109,
          34356300,
          8547100,
          126994511,
          66896109,
          1378665000,
          26895000,
          207652865,
          26895000,
          126994511,
          126994511,
          10398489
         ],
         "z": [
          7714.841843760241,
          8759.03611775209,
          2117.7444302576096,
          38972.340639146816,
          18483.71647977161,
          36870.21913445626,
          27608.2474287116,
          30668.981428999723,
          27608.2474287116,
          57588.53807058303,
          8759.03611775209,
          38972.340639146816,
          38972.340639146816,
          37180.84981153631,
          37180.84981153631,
          3880.73873089556,
          38972.340639146816,
          1668.162731196781,
          3865.785693318275,
          38972.340639146816,
          8117.267465431786,
          27608.2474287116,
          27608.2474287116,
          38972.340639146816,
          9765.717028017913,
          9765.717028017913,
          9765.717028017913,
          30668.981428999723,
          53401.31487251981,
          8759.03611775209,
          36870.21913445626,
          12430.629601767552,
          37180.84981153631,
          38972.340639146816,
          36870.21913445626,
          8117.267465431786,
          18864.26291809831,
          8639.365743445373,
          18864.26291809831,
          38972.340639146816,
          38972.340639146816,
          4633.312922662492
         ]
        },
        {
         "customdata": [
          [
           "Modern Pentathlon Men's Individual",
           "Ukraine"
          ],
          [
           "Modern Pentathlon Men's Individual",
           "Russia"
          ],
          [
           "Modern Pentathlon Men's Individual",
           "Mexico"
          ],
          [
           "Modern Pentathlon Women's Individual",
           "France"
          ],
          [
           "Modern Pentathlon Women's Individual",
           "Poland"
          ],
          [
           "Modern Pentathlon Women's Individual",
           "Australia"
          ]
         ],
         "hovertemplate": "Sport=Modern Pentathlon<br>BMI=%{x}<br>Population=%{y}<br>GDP_Per_Capita=%{z}<br>Event=%{customdata[0]}<br>Team=%{customdata[1]}<extra></extra>",
         "legendgroup": "Modern Pentathlon",
         "marker": {
          "color": "#FF97FF",
          "symbol": "circle"
         },
         "mode": "markers",
         "name": "Modern Pentathlon",
         "scene": "scene",
         "showlegend": true,
         "type": "scatter3d",
         "x": [
          21.158854166666668,
          21.62162162162162,
          20.199469763918696,
          20.830817534114235,
          18.51851851851852,
          19.48696145124717
         ],
         "y": [
          45004645,
          144342396,
          127540423,
          66896109,
          37948016,
          24127159
         ],
         "z": [
          2185.72803066435,
          8759.03611775209,
          8450.494010348126,
          36870.21913445626,
          12430.629601767552,
          49896.68110092457
         ]
        },
        {
         "customdata": [
          [
           "Rhythmic Gymnastics Women's Group",
           "Spain"
          ],
          [
           "Rhythmic Gymnastics Women's Group",
           "Russia"
          ],
          [
           "Rhythmic Gymnastics Women's Group",
           "Bulgaria"
          ],
          [
           "Rhythmic Gymnastics Women's Individual",
           "Ukraine"
          ],
          [
           "Rhythmic Gymnastics Women's Individual",
           "Russia"
          ],
          [
           "Rhythmic Gymnastics Women's Individual",
           "Ukraine"
          ]
         ],
         "hovertemplate": "Sport=Rhythmic Gymnastics<br>BMI=%{x}<br>Population=%{y}<br>GDP_Per_Capita=%{z}<br>Event=%{customdata[0]}<br>Team=%{customdata[1]}<extra></extra>",
         "legendgroup": "Rhythmic Gymnastics",
         "marker": {
          "color": "#FECB52",
          "symbol": "circle"
         },
         "mode": "markers",
         "name": "Rhythmic Gymnastics",
         "scene": "scene",
         "showlegend": true,
         "type": "scatter3d",
         "x": [
          19.607156612163443,
          16.65249433106576,
          18.339100346020764,
          16.372080590731397,
          17.301038062283737,
          16.372080590731397
         ],
         "y": [
          46443959,
          144342396,
          19497986,
          45004645,
          144342396,
          45004645
         ],
         "z": [
          26616.75779655097,
          8759.03611775209,
          1242.4310438846526,
          2185.72803066435,
          8759.03611775209,
          2185.72803066435
         ]
        },
        {
         "customdata": [
          [
           "Rowing Men's Coxed Eights",
           "Australia"
          ],
          [
           "Rowing Men's Coxed Eights",
           "Great Britain"
          ],
          [
           "Rowing Men's Coxed Eights",
           "Netherlands"
          ],
          [
           "Rowing Men's Coxless Fours",
           "Australia"
          ],
          [
           "Rowing Men's Coxless Fours",
           "Netherlands"
          ],
          [
           "Rowing Men's Coxless Fours",
           "Italy"
          ],
          [
           "Rowing Men's Coxless Pairs",
           "South Africa"
          ],
          [
           "Rowing Men's Coxless Pairs",
           "Germany"
          ],
          [
           "Rowing Men's Coxless Pairs",
           "Italy"
          ],
          [
           "Rowing Men's Double Sculls",
           "Lithuania"
          ],
          [
           "Rowing Men's Double Sculls",
           "Lithuania"
          ],
          [
           "Rowing Men's Double Sculls",
           "Norway"
          ],
          [
           "Rowing Men's Lightweight Coxless Fours",
           "Denmark"
          ],
          [
           "Rowing Men's Lightweight Coxless Fours",
           "Switzerland"
          ],
          [
           "Rowing Men's Lightweight Coxless Fours",
           "France"
          ],
          [
           "Rowing Men's Lightweight Double Sculls",
           "Ireland"
          ],
          [
           "Rowing Men's Lightweight Double Sculls",
           "France"
          ],
          [
           "Rowing Men's Lightweight Double Sculls",
           "Norway"
          ],
          [
           "Rowing Men's Quadruple Sculls",
           "Australia"
          ],
          [
           "Rowing Men's Quadruple Sculls",
           "Germany"
          ],
          [
           "Rowing Men's Quadruple Sculls",
           "Estonia"
          ],
          [
           "Rowing Men's Single Sculls",
           "Lithuania"
          ],
          [
           "Rowing Men's Single Sculls",
           "Lithuania"
          ],
          [
           "Rowing Men's Single Sculls",
           "Lithuania"
          ],
          [
           "Rowing Women's Coxed Eights",
           "Great Britain"
          ],
          [
           "Rowing Women's Coxed Eights",
           "United States"
          ],
          [
           "Rowing Women's Coxed Eights",
           "Romania"
          ],
          [
           "Rowing Women's Coxless Pairs",
           "New Zealand"
          ],
          [
           "Rowing Women's Coxless Pairs",
           "New Zealand"
          ],
          [
           "Rowing Women's Coxless Pairs",
           "Denmark"
          ],
          [
           "Rowing Women's Double Sculls",
           "Netherlands"
          ],
          [
           "Rowing Women's Double Sculls",
           "Lithuania"
          ],
          [
           "Rowing Women's Double Sculls",
           "Romania"
          ],
          [
           "Rowing Women's Lightweight Double Sculls",
           "Canada"
          ],
          [
           "Rowing Women's Lightweight Double Sculls",
           "Netherlands"
          ],
          [
           "Rowing Women's Lightweight Double Sculls",
           "China"
          ],
          [
           "Rowing Women's Quadruple Sculls",
           "Netherlands"
          ],
          [
           "Rowing Women's Quadruple Sculls",
           "Poland"
          ],
          [
           "Rowing Women's Quadruple Sculls",
           "Poland"
          ],
          [
           "Rowing Women's Single Sculls",
           "United States"
          ],
          [
           "Rowing Women's Single Sculls",
           "Lithuania"
          ],
          [
           "Rowing Women's Single Sculls",
           "China"
          ]
         ],
         "hovertemplate": "Sport=Rowing<br>BMI=%{x}<br>Population=%{y}<br>GDP_Per_Capita=%{z}<br>Event=%{customdata[0]}<br>Team=%{customdata[1]}<extra></extra>",
         "legendgroup": "Rowing",
         "marker": {
          "color": "#636efa",
          "symbol": "circle"
         },
         "mode": "markers",
         "name": "Rowing",
         "scene": "scene",
         "showlegend": true,
         "type": "scatter3d",
         "x": [
          25.7617728531856,
          24.989587671803417,
          25.76721894405937,
          24.44468062493357,
          24.4788579968564,
          24.332277048438208,
          24.46897126197418,
          25.5,
          22.95684113865932,
          26.958141358690323,
          26.958141358690323,
          22.55094096485812,
          22.03840115928028,
          21.7335354170837,
          20.0177299894192,
          22.34351559258195,
          22.408786769347305,
          21.06162815542871,
          25.737081414967538,
          24.69864962817794,
          25.241789775746625,
          25.48476454293629,
          25.48476454293629,
          25.48476454293629,
          23.671253629592226,
          24.48565200513601,
          20.498614958448755,
          21.798202394816204,
          21.798202394816204,
          25.68007405416704,
          22.34029706557179,
          21.306818181818183,
          22.22222222222222,
          21.6712580348944,
          19.71332152761536,
          19.045073340238563,
          22.837370242214536,
          22.20408163265306,
          22.34029706557179,
          21.20099137030069,
          21.45328719723184,
          23.456790123456788
         ],
         "y": [
          24127159,
          65637239,
          7549433,
          24127159,
          11128246,
          60600590,
          54000000,
          22242653,
          60600590,
          2872298,
          2872298,
          5232929,
          19325000,
          10332785,
          66896109,
          4773095,
          66896109,
          5232929,
          24127159,
          20657957,
          1316481,
          2872298,
          2872298,
          2872298,
          65637239,
          323127513,
          19705301,
          4692700,
          4692700,
          4381336,
          9901664,
          2872298,
          19705301,
          36286425,
          218035000,
          1378665000,
          37824487,
          37948016,
          37948016,
          323127513,
          2872298,
          1378665000
         ],
         "z": [
          49896.68110092457,
          40412.03361998853,
          10869.54642360994,
          49896.68110092457,
          44740.58324814775,
          30668.981428999723,
          1729.3999780356835,
          8535.046875626696,
          30668.981428999723,
          14912.68654279316,
          14912.68654279316,
          70890.03556873862,
          2529.518179054095,
          25052.33939008549,
          36870.21913445626,
          64100.42995227615,
          36870.21913445626,
          70890.03556873862,
          49896.68110092457,
          5828.74566230123,
          17736.802695352115,
          14912.68654279316,
          14912.68654279316,
          14912.68654279316,
          40412.03361998853,
          57588.53807058303,
          9567.097781913297,
          40331.95910482274,
          40331.95910482274,
          37321.4433901355,
          16478.831592157032,
          14912.68654279316,
          9567.097781913297,
          42348.94546059788,
          8611.401839154265,
          8117.267465431786,
          13143.521218687236,
          12430.629601767552,
          12430.629601767552,
          57588.53807058303,
          14912.68654279316,
          8117.267465431786
         ]
        },
        {
         "customdata": [
          [
           "Rugby Sevens Men's Rugby Sevens",
           "Great Britain"
          ],
          [
           "Rugby Sevens Men's Rugby Sevens",
           "Fiji"
          ],
          [
           "Rugby Sevens Men's Rugby Sevens",
           "South Africa"
          ],
          [
           "Rugby Sevens Women's Rugby Sevens",
           "New Zealand"
          ],
          [
           "Rugby Sevens Women's Rugby Sevens",
           "Australia"
          ],
          [
           "Rugby Sevens Women's Rugby Sevens",
           "Canada"
          ]
         ],
         "hovertemplate": "Sport=Rugby Sevens<br>BMI=%{x}<br>Population=%{y}<br>GDP_Per_Capita=%{z}<br>Event=%{customdata[0]}<br>Team=%{customdata[1]}<extra></extra>",
         "legendgroup": "Rugby Sevens",
         "marker": {
          "color": "#EF553B",
          "symbol": "circle"
         },
         "mode": "markers",
         "name": "Rugby Sevens",
         "scene": "scene",
         "showlegend": true,
         "type": "scatter3d",
         "x": [
          27.76342975206612,
          27.80328537904296,
          27.77442337881898,
          26.573129251700685,
          25.351541373715524,
          24.977043158861346
         ],
         "y": [
          65637239,
          128063000,
          191889000,
          4692700,
          24127159,
          36286425
         ],
         "z": [
          40412.03361998853,
          39339.29757318257,
          3573.941184747432,
          40331.95910482274,
          49896.68110092457,
          42348.94546059788
         ]
        },
        {
         "customdata": [
          [
           "Sailing Men's One Person Dinghy",
           "Croatia"
          ],
          [
           "Sailing Men's One Person Dinghy",
           "Australia"
          ],
          [
           "Sailing Men's One Person Dinghy",
           "New Zealand"
          ],
          [
           "Sailing Men's One Person Heavyweight Dinghy",
           "United States"
          ],
          [
           "Sailing Men's One Person Heavyweight Dinghy",
           "Great Britain"
          ],
          [
           "Sailing Men's One Person Heavyweight Dinghy",
           "United States"
          ],
          [
           "Sailing Men's Skiff",
           "Germany"
          ],
          [
           "Sailing Men's Skiff",
           "Germany"
          ],
          [
           "Sailing Men's Skiff",
           "Germany"
          ],
          [
           "Sailing Men's Two Person Dinghy",
           "Australia"
          ],
          [
           "Sailing Men's Two Person Dinghy",
           "Croatia"
          ],
          [
           "Sailing Men's Two Person Dinghy",
           "Greece"
          ],
          [
           "Sailing Men's Windsurfer",
           "France"
          ],
          [
           "Sailing Men's Windsurfer",
           "France"
          ],
          [
           "Sailing Men's Windsurfer",
           "France"
          ],
          [
           "Sailing Mixed Multihull",
           "Australia"
          ],
          [
           "Sailing Mixed Multihull",
           "Australia"
          ],
          [
           "Sailing Mixed Multihull",
           "Austria"
          ],
          [
           "Sailing Women's One Person Dinghy",
           "Ireland"
          ],
          [
           "Sailing Women's One Person Dinghy",
           "Argentina"
          ],
          [
           "Sailing Women's One Person Dinghy",
           "Denmark"
          ],
          [
           "Sailing Women's Skiff",
           "New Zealand"
          ],
          [
           "Sailing Women's Skiff",
           "Brazil"
          ],
          [
           "Sailing Women's Skiff",
           "Denmark"
          ],
          [
           "Sailing Women's Two Person Dinghy",
           "France"
          ],
          [
           "Sailing Women's Two Person Dinghy",
           "France"
          ],
          [
           "Sailing Women's Two Person Dinghy",
           "France"
          ],
          [
           "Sailing Women's Windsurfer",
           "China"
          ],
          [
           "Sailing Women's Windsurfer",
           "France"
          ],
          [
           "Sailing Women's Windsurfer",
           "Russia"
          ]
         ],
         "hovertemplate": "Sport=Sailing<br>BMI=%{x}<br>Population=%{y}<br>GDP_Per_Capita=%{z}<br>Event=%{customdata[0]}<br>Team=%{customdata[1]}<extra></extra>",
         "legendgroup": "Sailing",
         "marker": {
          "color": "#00cc96",
          "symbol": "circle"
         },
         "mode": "markers",
         "name": "Sailing",
         "scene": "scene",
         "showlegend": true,
         "type": "scatter3d",
         "x": [
          25.5649539199596,
          25,
          24.187046492878256,
          26.863298703434666,
          24.4788579968564,
          26.863298703434666,
          23.37472607742878,
          23.37472607742878,
          24.41927902078691,
          20.13476871862332,
          23.38868655818771,
          21.85727788279773,
          20.811654526534856,
          20.811654526534856,
          20.811654526534856,
          23.030045351473927,
          23.030045351473927,
          20.43816558499767,
          21.26654064272212,
          23.42355740630577,
          23.529411764705884,
          23.355636914531,
          21.9671201814059,
          21.773842357381334,
          20.598608033457133,
          22.15102250702108,
          22.15102250702108,
          21.29529475392104,
          19.95728440880922,
          20.41522491349481
         ],
         "y": [
          7549433,
          24127159,
          4692700,
          323127513,
          65637239,
          323127513,
          31362000,
          31362000,
          45004645,
          24127159,
          142742350,
          9988380,
          66896109,
          66896109,
          66896109,
          24127159,
          24127159,
          8747358,
          4773095,
          43847430,
          57685327,
          4692700,
          207652865,
          4408100,
          66896109,
          66896109,
          66896109,
          1378665000,
          66896109,
          144342396
         ],
         "z": [
          10869.54642360994,
          49896.68110092457,
          40331.95910482274,
          57588.53807058303,
          40412.03361998853,
          57588.53807058303,
          24167.804306056067,
          24167.804306056067,
          2185.72803066435,
          49896.68110092457,
          11635.26037297,
          149.33318903120045,
          36870.21913445626,
          36870.21913445626,
          36870.21913445626,
          49896.68110092457,
          49896.68110092457,
          44731.0108553361,
          64100.42995227615,
          12654.354998995825,
          31174.56108785804,
          40331.95910482274,
          8639.365743445373,
          39970.2562445037,
          36870.21913445626,
          36870.21913445626,
          36870.21913445626,
          8117.267465431786,
          36870.21913445626,
          8759.03611775209
         ]
        },
        {
         "customdata": [
          [
           "Shooting Men's Air Pistol, 10 metres",
           "Vietnam"
          ],
          [
           "Shooting Men's Air Pistol, 10 metres",
           "Brazil"
          ],
          [
           "Shooting Men's Air Pistol, 10 metres",
           "North Korea"
          ],
          [
           "Shooting Men's Air Rifle, 10 metres",
           "Russia"
          ],
          [
           "Shooting Men's Air Rifle, 10 metres",
           "Ukraine"
          ],
          [
           "Shooting Men's Air Rifle, 10 metres",
           "Russia"
          ],
          [
           "Shooting Men's Double Trap",
           "Italy"
          ],
          [
           "Shooting Men's Double Trap",
           "Great Britain"
          ],
          [
           "Shooting Men's Double Trap",
           "Great Britain"
          ],
          [
           "Shooting Men's Rapid-Fire Pistol, 25 metres",
           "France"
          ],
          [
           "Shooting Men's Rapid-Fire Pistol, 25 metres",
           "China"
          ],
          [
           "Shooting Men's Rapid-Fire Pistol, 25 metres",
           "China"
          ],
          [
           "Shooting Men's Skeet",
           "Sweden"
          ],
          [
           "Shooting Men's Skeet",
           "Italy"
          ],
          [
           "Shooting Men's Skeet",
           "Kuwait"
          ],
          [
           "Shooting Men's Small-Bore Rifle, Prone, 50 metres",
           "Germany"
          ],
          [
           "Shooting Men's Small-Bore Rifle, Prone, 50 metres",
           "Germany"
          ],
          [
           "Shooting Men's Small-Bore Rifle, Prone, 50 metres",
           "Russia"
          ],
          [
           "Shooting Men's Small-Bore Rifle, Three Positions, 50 metres",
           "France"
          ],
          [
           "Shooting Men's Small-Bore Rifle, Three Positions, 50 metres",
           "France"
          ],
          [
           "Shooting Men's Small-Bore Rifle, Three Positions, 50 metres",
           "France"
          ],
          [
           "Shooting Men's Trap",
           "Croatia"
          ],
          [
           "Shooting Men's Trap",
           "Croatia"
          ],
          [
           "Shooting Men's Trap",
           "Great Britain"
          ],
          [
           "Shooting Women's Air Pistol, 10 metres",
           "Germany"
          ],
          [
           "Shooting Women's Air Pistol, 10 metres",
           "China"
          ],
          [
           "Shooting Women's Air Pistol, 10 metres",
           "Switzerland"
          ],
          [
           "Shooting Women's Air Rifle, 10 metres",
           "United States"
          ],
          [
           "Shooting Women's Air Rifle, 10 metres",
           "United States"
          ],
          [
           "Shooting Women's Air Rifle, 10 metres",
           "United States"
          ],
          [
           "Shooting Women's Skeet",
           "Italy"
          ],
          [
           "Shooting Women's Skeet",
           "Italy"
          ],
          [
           "Shooting Women's Skeet",
           "Italy"
          ],
          [
           "Shooting Women's Small-Bore Rifle, Three Positions, 50 metres",
           "China"
          ],
          [
           "Shooting Women's Small-Bore Rifle, Three Positions, 50 metres",
           "Germany"
          ],
          [
           "Shooting Women's Small-Bore Rifle, Three Positions, 50 metres",
           "Germany"
          ],
          [
           "Shooting Women's Trap",
           "New Zealand"
          ],
          [
           "Shooting Women's Trap",
           "Australia"
          ],
          [
           "Shooting Women's Trap",
           "New Zealand"
          ]
         ],
         "hovertemplate": "Sport=Shooting<br>BMI=%{x}<br>Population=%{y}<br>GDP_Per_Capita=%{z}<br>Event=%{customdata[0]}<br>Team=%{customdata[1]}<extra></extra>",
         "legendgroup": "Shooting",
         "marker": {
          "color": "#ab63fa",
          "symbol": "circle"
         },
         "mode": "markers",
         "name": "Shooting",
         "scene": "scene",
         "showlegend": true,
         "type": "scatter3d",
         "x": [
          24.489795918367346,
          24.158817968558527,
          26.89232313815483,
          23.04002019946976,
          20.66115702479339,
          24.96494647925858,
          33.564013840830455,
          28.393726338561383,
          28.393726338561383,
          23.79552644102909,
          23.722810651876102,
          23.722810651876102,
          21.952479338842977,
          20.983987603305785,
          24.78425751739377,
          24.9680097375238,
          24.9680097375238,
          27.46481071127618,
          26.365603028664147,
          26.365603028664147,
          26.365603028664147,
          25.88057063502083,
          25.88057063502083,
          24.69135802469136,
          22.031725684986377,
          26.672763298277697,
          32.95068027210885,
          22.892819979188346,
          22.892819979188346,
          22.892819979188346,
          27.755102040816325,
          27.755102040816325,
          27.755102040816325,
          20.449137418203453,
          27.43484224965706,
          27.43484224965706,
          28.997893837184456,
          27.041644131963228,
          28.997893837184456
         ],
         "y": [
          22031750,
          207652865,
          25368620,
          144342396,
          45004645,
          144342396,
          60600590,
          65637239,
          65637239,
          66896109,
          1378665000,
          1378665000,
          9903122,
          60600590,
          2569804,
          9519374,
          9519374,
          144342396,
          66896109,
          66896109,
          66896109,
          9903122,
          9903122,
          65637239,
          38363667,
          1378665000,
          209896000,
          323127513,
          323127513,
          323127513,
          60600590,
          60600590,
          60600590,
          1378665000,
          127540423,
          127540423,
          4692700,
          24127159,
          4692700
         ],
         "z": [
          51936.888711646105,
          8639.365743445373,
          13137.9080701614,
          8759.03611775209,
          2185.72803066435,
          8759.03611775209,
          30668.981428999723,
          40412.03361998853,
          40412.03361998853,
          36870.21913445626,
          8117.267465431786,
          8117.267465431786,
          51844.761261862746,
          30668.981428999723,
          59044.247287786486,
          57134.07706824042,
          57134.07706824042,
          8759.03611775209,
          36870.21913445626,
          36870.21913445626,
          36870.21913445626,
          51844.761261862746,
          51844.761261862746,
          40412.03361998853,
          2459.0206846825326,
          8117.267465431786,
          6109.925868048938,
          57588.53807058303,
          57588.53807058303,
          57588.53807058303,
          30668.981428999723,
          30668.981428999723,
          30668.981428999723,
          8117.267465431786,
          8450.494010348126,
          8450.494010348126,
          40331.95910482274,
          49896.68110092457,
          40331.95910482274
         ]
        },
        {
         "customdata": [
          [
           "Swimming Men's 1,500 metres Freestyle",
           "United States"
          ],
          [
           "Swimming Men's 1,500 metres Freestyle",
           "Italy"
          ],
          [
           "Swimming Men's 1,500 metres Freestyle",
           "Italy"
          ],
          [
           "Swimming Men's 10 kilometres Open Water",
           "Netherlands"
          ],
          [
           "Swimming Men's 10 kilometres Open Water",
           "Netherlands"
          ],
          [
           "Swimming Men's 10 kilometres Open Water",
           "France"
          ],
          [
           "Swimming Men's 100 metres Backstroke",
           "Great Britain"
          ],
          [
           "Swimming Men's 100 metres Backstroke",
           "United States"
          ],
          [
           "Swimming Men's 100 metres Backstroke",
           "United States"
          ],
          [
           "Swimming Men's 100 metres Breaststroke",
           "Great Britain"
          ],
          [
           "Swimming Men's 100 metres Breaststroke",
           "United States"
          ],
          [
           "Swimming Men's 100 metres Breaststroke",
           "United States"
          ],
          [
           "Swimming Men's 100 metres Butterfly",
           "Singapore"
          ],
          [
           "Swimming Men's 100 metres Butterfly",
           "United States"
          ],
          [
           "Swimming Men's 100 metres Butterfly",
           "Australia"
          ],
          [
           "Swimming Men's 100 metres Freestyle",
           "Belgium"
          ],
          [
           "Swimming Men's 100 metres Freestyle",
           "United States"
          ],
          [
           "Swimming Men's 100 metres Freestyle",
           "Australia"
          ],
          [
           "Swimming Men's 200 metres Backstroke",
           "China"
          ],
          [
           "Swimming Men's 200 metres Backstroke",
           "China"
          ],
          [
           "Swimming Men's 200 metres Backstroke",
           "Australia"
          ],
          [
           "Swimming Men's 200 metres Breaststroke",
           "Russia"
          ],
          [
           "Swimming Men's 200 metres Breaststroke",
           "United States"
          ],
          [
           "Swimming Men's 200 metres Breaststroke",
           "Russia"
          ],
          [
           "Swimming Men's 200 metres Butterfly",
           "Japan"
          ],
          [
           "Swimming Men's 200 metres Butterfly",
           "Japan"
          ],
          [
           "Swimming Men's 200 metres Butterfly",
           "Hungary"
          ],
          [
           "Swimming Men's 200 metres Freestyle",
           "Great Britain"
          ],
          [
           "Swimming Men's 200 metres Freestyle",
           "United States"
          ],
          [
           "Swimming Men's 200 metres Freestyle",
           "United States"
          ],
          [
           "Swimming Men's 200 metres Individual Medley",
           "China"
          ],
          [
           "Swimming Men's 200 metres Individual Medley",
           "China"
          ],
          [
           "Swimming Men's 200 metres Individual Medley",
           "China"
          ],
          [
           "Swimming Men's 4 x 100 metres Freestyle Relay",
           "France"
          ],
          [
           "Swimming Men's 4 x 100 metres Freestyle Relay",
           "United States"
          ],
          [
           "Swimming Men's 4 x 100 metres Freestyle Relay",
           "Australia"
          ],
          [
           "Swimming Men's 4 x 200 metres Freestyle Relay",
           "Great Britain"
          ],
          [
           "Swimming Men's 4 x 200 metres Freestyle Relay",
           "United States"
          ],
          [
           "Swimming Men's 4 x 200 metres Freestyle Relay",
           "Japan"
          ],
          [
           "Swimming Men's 400 metres Freestyle",
           "Greece"
          ],
          [
           "Swimming Men's 400 metres Freestyle",
           "Great Britain"
          ],
          [
           "Swimming Men's 400 metres Freestyle",
           "Japan"
          ],
          [
           "Swimming Men's 400 metres Individual Medley",
           "United States"
          ],
          [
           "Swimming Men's 400 metres Individual Medley",
           "United States"
          ],
          [
           "Swimming Men's 400 metres Individual Medley",
           "United States"
          ],
          [
           "Swimming Men's 50 metres Freestyle",
           "Australia"
          ],
          [
           "Swimming Men's 50 metres Freestyle",
           "Australia"
          ],
          [
           "Swimming Men's 50 metres Freestyle",
           "Australia"
          ],
          [
           "Swimming Women's 10 kilometres Open Water",
           "Italy"
          ],
          [
           "Swimming Women's 10 kilometres Open Water",
           "Brazil"
          ],
          [
           "Swimming Women's 10 kilometres Open Water",
           "Brazil"
          ],
          [
           "Swimming Women's 100 metres Backstroke",
           "China"
          ],
          [
           "Swimming Women's 100 metres Backstroke",
           "Netherlands"
          ],
          [
           "Swimming Women's 100 metres Backstroke",
           "Canada"
          ],
          [
           "Swimming Women's 100 metres Breaststroke",
           "Australia"
          ],
          [
           "Swimming Women's 100 metres Breaststroke",
           "United States"
          ],
          [
           "Swimming Women's 100 metres Breaststroke",
           "Denmark"
          ],
          [
           "Swimming Women's 100 metres Butterfly",
           "Australia"
          ],
          [
           "Swimming Women's 100 metres Butterfly",
           "United States"
          ],
          [
           "Swimming Women's 100 metres Butterfly",
           "Canada"
          ],
          [
           "Swimming Women's 100 metres Freestyle",
           "Canada"
          ],
          [
           "Swimming Women's 100 metres Freestyle",
           "Canada"
          ],
          [
           "Swimming Women's 100 metres Freestyle",
           "Canada"
          ],
          [
           "Swimming Women's 200 metres Backstroke",
           "Canada"
          ],
          [
           "Swimming Women's 200 metres Backstroke",
           "Canada"
          ],
          [
           "Swimming Women's 200 metres Backstroke",
           "Canada"
          ],
          [
           "Swimming Women's 200 metres Breaststroke",
           "Japan"
          ],
          [
           "Swimming Women's 200 metres Breaststroke",
           "Japan"
          ],
          [
           "Swimming Women's 200 metres Breaststroke",
           "Japan"
          ],
          [
           "Swimming Women's 200 metres Freestyle",
           "Australia"
          ],
          [
           "Swimming Women's 200 metres Freestyle",
           "Hungary"
          ],
          [
           "Swimming Women's 200 metres Freestyle",
           "Hungary"
          ],
          [
           "Swimming Women's 4 x 100 metres Freestyle Relay",
           "Australia"
          ],
          [
           "Swimming Women's 4 x 100 metres Freestyle Relay",
           "Australia"
          ],
          [
           "Swimming Women's 4 x 100 metres Freestyle Relay",
           "Canada"
          ],
          [
           "Swimming Women's 4 x 200 metres Freestyle Relay",
           "Australia"
          ],
          [
           "Swimming Women's 4 x 200 metres Freestyle Relay",
           "United States"
          ],
          [
           "Swimming Women's 4 x 200 metres Freestyle Relay",
           "Canada"
          ],
          [
           "Swimming Women's 400 metres Freestyle",
           "Great Britain"
          ],
          [
           "Swimming Women's 400 metres Freestyle",
           "United States"
          ],
          [
           "Swimming Women's 400 metres Freestyle",
           "Canada"
          ],
          [
           "Swimming Women's 50 metres Freestyle",
           "United States"
          ],
          [
           "Swimming Women's 50 metres Freestyle",
           "Australia"
          ],
          [
           "Swimming Women's 50 metres Freestyle",
           "Canada"
          ],
          [
           "Swimming Women's 800 metres Freestyle",
           "Australia"
          ],
          [
           "Swimming Women's 800 metres Freestyle",
           "Australia"
          ],
          [
           "Swimming Women's 800 metres Freestyle",
           "Australia"
          ]
         ],
         "hovertemplate": "Sport=Swimming<br>BMI=%{x}<br>Population=%{y}<br>GDP_Per_Capita=%{z}<br>Event=%{customdata[0]}<br>Team=%{customdata[1]}<extra></extra>",
         "legendgroup": "Swimming",
         "marker": {
          "color": "#FFA15A",
          "symbol": "circle"
         },
         "mode": "markers",
         "name": "Swimming",
         "scene": "scene",
         "showlegend": true,
         "type": "scatter3d",
         "x": [
          22.4981738495252,
          19.73630108823772,
          23.334120982986768,
          24.075473810923548,
          24.075473810923548,
          19.1107527844964,
          24.8109640831758,
          24.94449165318933,
          26.040952824758094,
          23.57391518872837,
          22.907122032486463,
          24.69135802469136,
          21.85727788279773,
          23.087868130688072,
          24.22022684310019,
          22.25,
          23.57391518872837,
          23.91327452439154,
          22.305470559638533,
          22.305470559638533,
          20.58966513197403,
          20.088275237664103,
          23.456790123456788,
          20.088275237664103,
          23.503556057507403,
          23.503556057507403,
          21.389756041160823,
          23.735308416025617,
          21.86588921282799,
          21.86588921282799,
          20.28453167402209,
          20.28453167402209,
          20.28453167402209,
          24.930747922437675,
          24.332277048438208,
          20.45288531775018,
          22.634676324128566,
          21.86588921282799,
          22.99262444384723,
          22.79035792549306,
          22.20598977355733,
          19.94321254732288,
          23.087868130688072,
          23.087868130688072,
          23.087868130688072,
          23.70584142853462,
          23.70584142853462,
          23.70584142853462,
          20.41522491349481,
          19.10009182736456,
          19.10009182736456,
          19.66230766829999,
          21.71806608974573,
          20.381569714992143,
          20.515086478979924,
          22.857142857142858,
          20.147971991015982,
          20.598608033457133,
          23.148148148148145,
          19.362472659471475,
          19.86851716581446,
          19.86851716581446,
          19.86851716581446,
          20.381569714992143,
          20.381569714992143,
          20.381569714992143,
          20.897959183673468,
          20.897959183673468,
          20.897959183673468,
          18.51851851851852,
          21.22448979591837,
          21.22448979591837,
          19.03810742486189,
          19.03810742486189,
          21.71806608974573,
          22.052190183434128,
          21.71806608974573,
          24.72518293294129,
          18.612244897959183,
          21.146319909102385,
          23.661438615467823,
          23.04002019946976,
          18.10180705970476,
          23.76543209876543,
          21.38394199605733,
          21.38394199605733,
          21.38394199605733
         ],
         "y": [
          323127513,
          60600590,
          60600590,
          4591910,
          4591910,
          66896109,
          65637239,
          323127513,
          323127513,
          65637239,
          323127513,
          323127513,
          5607283,
          323127513,
          24127159,
          11348159,
          323127513,
          24127159,
          1378665000,
          1378665000,
          24127159,
          144342396,
          323127513,
          144342396,
          126994511,
          126994511,
          9817958,
          65637239,
          323127513,
          323127513,
          1378665000,
          1378665000,
          1378665000,
          66896109,
          323127513,
          24127159,
          65637239,
          323127513,
          126994511,
          50199700,
          65637239,
          126994511,
          323127513,
          323127513,
          323127513,
          24127159,
          24127159,
          24127159,
          60600590,
          207652865,
          207652865,
          1378665000,
          9818227,
          36286425,
          24127159,
          323127513,
          4286401,
          24127159,
          323127513,
          36286425,
          36286425,
          36286425,
          36286425,
          36286425,
          36286425,
          36286425,
          126994511,
          126994511,
          126994511,
          24127159,
          9817958,
          9817958,
          24127159,
          24127159,
          36286425,
          24127159,
          323127513,
          36286425,
          65637239,
          323127513,
          36286425,
          323127513,
          24127159,
          36286425,
          24127159,
          24127159,
          24127159
         ],
         "z": [
          57588.53807058303,
          30668.981428999723,
          30668.981428999723,
          57570.26916019426,
          57570.26916019426,
          36870.21913445626,
          40412.03361998853,
          57588.53807058303,
          57588.53807058303,
          40412.03361998853,
          57588.53807058303,
          57588.53807058303,
          55243.13287571767,
          57588.53807058303,
          49896.68110092457,
          41260.977551146825,
          57588.53807058303,
          49896.68110092457,
          8117.267465431786,
          8117.267465431786,
          49896.68110092457,
          8759.03611775209,
          57588.53807058303,
          8759.03611775209,
          38972.340639146816,
          38972.340639146816,
          12820.088196305349,
          40412.03361998853,
          57588.53807058303,
          57588.53807058303,
          8117.267465431786,
          8117.267465431786,
          8117.267465431786,
          36870.21913445626,
          57588.53807058303,
          49896.68110092457,
          40412.03361998853,
          57588.53807058303,
          38972.340639146816,
          804.4926233461783,
          40412.03361998853,
          38972.340639146816,
          57588.53807058303,
          57588.53807058303,
          57588.53807058303,
          49896.68110092457,
          49896.68110092457,
          49896.68110092457,
          30668.981428999723,
          8639.365743445373,
          8639.365743445373,
          8117.267465431786,
          7281.817735364298,
          42348.94546059788,
          49896.68110092457,
          57588.53807058303,
          30523.985055897447,
          49896.68110092457,
          57588.53807058303,
          42348.94546059788,
          42348.94546059788,
          42348.94546059788,
          42348.94546059788,
          42348.94546059788,
          42348.94546059788,
          42348.94546059788,
          38972.340639146816,
          38972.340639146816,
          38972.340639146816,
          49896.68110092457,
          12820.088196305349,
          12820.088196305349,
          49896.68110092457,
          49896.68110092457,
          42348.94546059788,
          49896.68110092457,
          57588.53807058303,
          42348.94546059788,
          40412.03361998853,
          57588.53807058303,
          42348.94546059788,
          57588.53807058303,
          49896.68110092457,
          42348.94546059788,
          49896.68110092457,
          49896.68110092457,
          49896.68110092457
         ]
        },
        {
         "customdata": [
          [
           "Synchronized Swimming Women's Duet",
           "Japan"
          ],
          [
           "Synchronized Swimming Women's Duet",
           "Japan"
          ],
          [
           "Synchronized Swimming Women's Duet",
           "Japan"
          ],
          [
           "Synchronized Swimming Women's Team",
           "China"
          ],
          [
           "Synchronized Swimming Women's Team",
           "Russia"
          ],
          [
           "Synchronized Swimming Women's Team",
           "Japan"
          ]
         ],
         "hovertemplate": "Sport=Synchronized Swimming<br>BMI=%{x}<br>Population=%{y}<br>GDP_Per_Capita=%{z}<br>Event=%{customdata[0]}<br>Team=%{customdata[1]}<extra></extra>",
         "legendgroup": "Synchronized Swimming",
         "marker": {
          "color": "#19d3f3",
          "symbol": "circle"
         },
         "mode": "markers",
         "name": "Synchronized Swimming",
         "scene": "scene",
         "showlegend": true,
         "type": "scatter3d",
         "x": [
          19.257028815517668,
          19.257028815517668,
          19.257028815517668,
          20.65754000210077,
          17.527815881725342,
          20.983987603305785
         ],
         "y": [
          126994511,
          126994511,
          126994511,
          1378665000,
          144342396,
          126994511
         ],
         "z": [
          38972.340639146816,
          38972.340639146816,
          38972.340639146816,
          8117.267465431786,
          8759.03611775209,
          38972.340639146816
         ]
        },
        {
         "customdata": [
          [
           "Table Tennis Men's Singles",
           "Japan"
          ],
          [
           "Table Tennis Men's Singles",
           "Japan"
          ],
          [
           "Table Tennis Men's Singles",
           "Japan"
          ],
          [
           "Table Tennis Men's Team",
           "Japan"
          ],
          [
           "Table Tennis Men's Team",
           "China"
          ],
          [
           "Table Tennis Men's Team",
           "Japan"
          ],
          [
           "Table Tennis Women's Singles",
           "Germany"
          ],
          [
           "Table Tennis Women's Singles",
           "Germany"
          ],
          [
           "Table Tennis Women's Singles",
           "North Korea"
          ],
          [
           "Table Tennis Women's Team",
           "Germany"
          ],
          [
           "Table Tennis Women's Team",
           "China"
          ],
          [
           "Table Tennis Women's Team",
           "Japan"
          ]
         ],
         "hovertemplate": "Sport=Table Tennis<br>BMI=%{x}<br>Population=%{y}<br>GDP_Per_Capita=%{z}<br>Event=%{customdata[0]}<br>Team=%{customdata[1]}<extra></extra>",
         "legendgroup": "Table Tennis",
         "marker": {
          "color": "#FF6692",
          "symbol": "circle"
         },
         "mode": "markers",
         "name": "Table Tennis",
         "scene": "scene",
         "showlegend": true,
         "type": "scatter3d",
         "x": [
          21.29529475392104,
          21.29529475392104,
          21.29529475392104,
          19.4707778735357,
          20.679012345679013,
          19.4707778735357,
          20.761245674740486,
          20.761245674740486,
          21.218317194552675,
          19.83471074380165,
          21.09375,
          20
         ],
         "y": [
          126994511,
          126994511,
          126994511,
          126994511,
          1378665000,
          126994511,
          50199853,
          50199853,
          25368620,
          1217550000,
          1378665000,
          126994511
         ],
         "z": [
          38972.340639146816,
          38972.340639146816,
          38972.340639146816,
          38972.340639146816,
          8117.267465431786,
          38972.340639146816,
          24358.782175822605,
          24358.782175822605,
          13137.9080701614,
          709.4137550850386,
          8117.267465431786,
          38972.340639146816
         ]
        },
        {
         "customdata": [
          [
           "Taekwondo Men's Featherweight",
           "Jordan"
          ],
          [
           "Taekwondo Men's Featherweight",
           "Jordan"
          ],
          [
           "Taekwondo Men's Featherweight",
           "Jordan"
          ],
          [
           "Taekwondo Men's Flyweight",
           "Thailand"
          ],
          [
           "Taekwondo Men's Flyweight",
           "China"
          ],
          [
           "Taekwondo Men's Flyweight",
           "South Korea"
          ],
          [
           "Taekwondo Men's Heavyweight",
           "Niger"
          ],
          [
           "Taekwondo Men's Heavyweight",
           "Brazil"
          ],
          [
           "Taekwondo Men's Heavyweight",
           "Azerbaijan"
          ],
          [
           "Taekwondo Men's Welterweight",
           "Cote d'Ivoire"
          ],
          [
           "Taekwondo Men's Welterweight",
           "Cote d'Ivoire"
          ],
          [
           "Taekwondo Men's Welterweight",
           "Azerbaijan"
          ],
          [
           "Taekwondo Women's Featherweight",
           "Spain"
          ],
          [
           "Taekwondo Women's Featherweight",
           "Iran"
          ],
          [
           "Taekwondo Women's Featherweight",
           "Egypt"
          ],
          [
           "Taekwondo Women's Flyweight",
           "Serbia"
          ],
          [
           "Taekwondo Women's Flyweight",
           "South Korea"
          ],
          [
           "Taekwondo Women's Flyweight",
           "Thailand"
          ],
          [
           "Taekwondo Women's Heavyweight",
           "United States"
          ],
          [
           "Taekwondo Women's Heavyweight",
           "China"
          ],
          [
           "Taekwondo Women's Heavyweight",
           "United States"
          ],
          [
           "Taekwondo Women's Welterweight",
           "France"
          ],
          [
           "Taekwondo Women's Welterweight",
           "South Korea"
          ],
          [
           "Taekwondo Women's Welterweight",
           "Cote d'Ivoire"
          ]
         ],
         "hovertemplate": "Sport=Taekwondo<br>BMI=%{x}<br>Population=%{y}<br>GDP_Per_Capita=%{z}<br>Event=%{customdata[0]}<br>Team=%{customdata[1]}<extra></extra>",
         "legendgroup": "Taekwondo",
         "marker": {
          "color": "#B6E880",
          "symbol": "circle"
         },
         "mode": "markers",
         "name": "Taekwondo",
         "scene": "scene",
         "showlegend": true,
         "type": "scatter3d",
         "x": [
          21.461936624163616,
          21.461936624163616,
          21.461936624163616,
          18.72417355371901,
          17.824807605251245,
          17.81185847119913,
          21.00399075824407,
          24.930747922437675,
          23.25,
          23.12406058503873,
          23.12406058503873,
          20.61377515524749,
          18.401342975206614,
          16.654492330168004,
          18.826793499801823,
          17.577068685776098,
          18.590124925639504,
          16.372080590731397,
          25.24933720489837,
          21.22000905387053,
          25.24933720489837,
          21.306818181818183,
          20.830817534114235,
          20.983987603305785
         ],
         "y": [
          9455802,
          9455802,
          9455802,
          68863514,
          1378665000,
          51245707,
          88828310,
          207652865,
          9762274,
          23695919,
          23695919,
          9762274,
          46443959,
          1337090,
          95688681,
          7057412,
          51245707,
          68863514,
          323127513,
          1378665000,
          323127513,
          66896109,
          51245707,
          23695919
         ],
         "z": [
          4087.937516720303,
          4087.937516720303,
          4087.937516720303,
          5979.293546255484,
          8117.267465431786,
          27608.2474287116,
          4088.309213876904,
          8639.365743445373,
          3880.73873089556,
          1493.5060606401069,
          1493.5060606401069,
          3880.73873089556,
          26616.75779655097,
          18094.548052783062,
          3479.2812462117427,
          5426.198278872465,
          27608.2474287116,
          5979.293546255484,
          57588.53807058303,
          8117.267465431786,
          57588.53807058303,
          36870.21913445626,
          27608.2474287116,
          1493.5060606401069
         ]
        },
        {
         "customdata": [
          [
           "Tennis Men's Doubles",
           "Romania"
          ],
          [
           "Tennis Men's Doubles",
           "Spain-2"
          ],
          [
           "Tennis Men's Doubles",
           "Spain-2"
          ],
          [
           "Tennis Men's Singles",
           "Japan"
          ],
          [
           "Tennis Men's Singles",
           "United States"
          ],
          [
           "Tennis Men's Singles",
           "United States"
          ],
          [
           "Tennis Mixed Doubles",
           "United States-1"
          ],
          [
           "Tennis Mixed Doubles",
           "United States-2"
          ],
          [
           "Tennis Mixed Doubles",
           "United States-2"
          ],
          [
           "Tennis Women's Doubles",
           "Russia-2"
          ],
          [
           "Tennis Women's Doubles",
           "Russia-2"
          ],
          [
           "Tennis Women's Doubles",
           "Czech Republic-1"
          ],
          [
           "Tennis Women's Singles",
           "Switzerland"
          ],
          [
           "Tennis Women's Singles",
           "Switzerland"
          ],
          [
           "Tennis Women's Singles",
           "Czech Republic"
          ]
         ],
         "hovertemplate": "Sport=Tennis<br>BMI=%{x}<br>Population=%{y}<br>GDP_Per_Capita=%{z}<br>Event=%{customdata[0]}<br>Team=%{customdata[1]}<extra></extra>",
         "legendgroup": "Tennis",
         "marker": {
          "color": "#FF97FF",
          "symbol": "circle"
         },
         "mode": "markers",
         "name": "Tennis",
         "scene": "scene",
         "showlegend": true,
         "type": "scatter3d",
         "x": [
          23.456790123456788,
          23.18367346938776,
          23.18367346938776,
          23.355636914531,
          24.332277048438208,
          24.332277048438208,
          22.55094096485812,
          23.384353741496604,
          23.384353741496604,
          18.51851851851852,
          18.51851851851852,
          20.902385858042937,
          20.41522491349481,
          21.45328719723184,
          20.747550193111813
         ],
         "y": [
          19705301,
          46443959,
          46443959,
          126994511,
          323127513,
          323127513,
          323127513,
          323127513,
          323127513,
          144342396,
          144342396,
          10561633,
          127854000,
          9817958,
          10561633
         ],
         "z": [
          9567.097781913297,
          26616.75779655097,
          26616.75779655097,
          38972.340639146816,
          57588.53807058303,
          57588.53807058303,
          57588.53807058303,
          57588.53807058303,
          57588.53807058303,
          8759.03611775209,
          8759.03611775209,
          18483.71647977161,
          35433.98896374302,
          12820.088196305349,
          18483.71647977161
         ]
        },
        {
         "customdata": [
          [
           "Trampolining Men's Individual",
           "Belarus"
          ],
          [
           "Trampolining Men's Individual",
           "Belarus"
          ],
          [
           "Trampolining Men's Individual",
           "China"
          ],
          [
           "Trampolining Women's Individual",
           "Great Britain"
          ],
          [
           "Trampolining Women's Individual",
           "China"
          ],
          [
           "Trampolining Women's Individual",
           "China"
          ]
         ],
         "hovertemplate": "Sport=Trampolining<br>BMI=%{x}<br>Population=%{y}<br>GDP_Per_Capita=%{z}<br>Event=%{customdata[0]}<br>Team=%{customdata[1]}<extra></extra>",
         "legendgroup": "Trampolining",
         "marker": {
          "color": "#FECB52",
          "symbol": "circle"
         },
         "mode": "markers",
         "name": "Trampolining",
         "scene": "scene",
         "showlegend": true,
         "type": "scatter3d",
         "x": [
          22.052190183434128,
          22.052190183434128,
          22.145328719723185,
          20.28123309897241,
          19.562955254942764,
          19.562955254942764
         ],
         "y": [
          9507120,
          9507120,
          1378665000,
          65637239,
          1378665000,
          1378665000
         ],
         "z": [
          5025.405063877017,
          5025.405063877017,
          8117.267465431786,
          40412.03361998853,
          8117.267465431786,
          8117.267465431786
         ]
        },
        {
         "customdata": [
          [
           "Triathlon Men's Olympic Distance",
           "South Africa"
          ],
          [
           "Triathlon Men's Olympic Distance",
           "South Africa"
          ],
          [
           "Triathlon Men's Olympic Distance",
           "South Africa"
          ],
          [
           "Triathlon Women's Olympic Distance",
           "United States"
          ],
          [
           "Triathlon Women's Olympic Distance",
           "Great Britain"
          ],
          [
           "Triathlon Women's Olympic Distance",
           "Great Britain"
          ]
         ],
         "hovertemplate": "Sport=Triathlon<br>BMI=%{x}<br>Population=%{y}<br>GDP_Per_Capita=%{z}<br>Event=%{customdata[0]}<br>Team=%{customdata[1]}<extra></extra>",
         "legendgroup": "Triathlon",
         "marker": {
          "color": "#636efa",
          "symbol": "circle"
         },
         "mode": "markers",
         "name": "Triathlon",
         "scene": "scene",
         "showlegend": true,
         "type": "scatter3d",
         "x": [
          20.41522491349481,
          20.41522491349481,
          20.41522491349481,
          18.621386188612547,
          19.841269841269845,
          19.841269841269845
         ],
         "y": [
          275854000,
          275854000,
          275854000,
          323127513,
          65637239,
          65637239
         ],
         "z": [
          32949.1977640346,
          32949.1977640346,
          32949.1977640346,
          57588.53807058303,
          40412.03361998853,
          40412.03361998853
         ]
        },
        {
         "customdata": [
          [
           "Volleyball Men's Volleyball",
           "Italy"
          ],
          [
           "Volleyball Men's Volleyball",
           "Brazil"
          ],
          [
           "Volleyball Men's Volleyball",
           "United States"
          ],
          [
           "Volleyball Women's Volleyball",
           "Serbia"
          ],
          [
           "Volleyball Women's Volleyball",
           "China"
          ],
          [
           "Volleyball Women's Volleyball",
           "United States"
          ]
         ],
         "hovertemplate": "Sport=Volleyball<br>BMI=%{x}<br>Population=%{y}<br>GDP_Per_Capita=%{z}<br>Event=%{customdata[0]}<br>Team=%{customdata[1]}<extra></extra>",
         "legendgroup": "Volleyball",
         "marker": {
          "color": "#EF553B",
          "symbol": "circle"
         },
         "mode": "markers",
         "name": "Volleyball",
         "scene": "scene",
         "showlegend": true,
         "type": "scatter3d",
         "x": [
          23.56489772834386,
          25.46103509815586,
          24.50740123517302,
          22.79035792549306,
          21.158854166666668,
          22.014013799028163
         ],
         "y": [
          60600590,
          207652865,
          323127513,
          7057412,
          1378665000,
          323127513
         ],
         "z": [
          30668.981428999723,
          8639.365743445373,
          57588.53807058303,
          5426.198278872465,
          8117.267465431786,
          57588.53807058303
         ]
        },
        {
         "customdata": [
          [
           "Water Polo Men's Water Polo",
           "Croatia"
          ],
          [
           "Water Polo Men's Water Polo",
           "Serbia"
          ],
          [
           "Water Polo Men's Water Polo",
           "Italy"
          ],
          [
           "Water Polo Women's Water Polo",
           "Italy"
          ],
          [
           "Water Polo Women's Water Polo",
           "United States"
          ],
          [
           "Water Polo Women's Water Polo",
           "Russia"
          ]
         ],
         "hovertemplate": "Sport=Water Polo<br>BMI=%{x}<br>Population=%{y}<br>GDP_Per_Capita=%{z}<br>Event=%{customdata[0]}<br>Team=%{customdata[1]}<extra></extra>",
         "legendgroup": "Water Polo",
         "marker": {
          "color": "#00cc96",
          "symbol": "circle"
         },
         "mode": "markers",
         "name": "Water Polo",
         "scene": "scene",
         "showlegend": true,
         "type": "scatter3d",
         "x": [
          27.87639710716634,
          24.94449165318933,
          24.37673130193906,
          25.013520822065985,
          21.71806608974573,
          27.143037495265748
         ],
         "y": [
          46814237,
          7057412,
          60600590,
          60600590,
          323127513,
          144342396
         ],
         "z": [
          1338.299606305678,
          5426.198278872465,
          30668.981428999723,
          30668.981428999723,
          57588.53807058303,
          8759.03611775209
         ]
        },
        {
         "customdata": [
          [
           "Weightlifting Men's Bantamweight",
           "Thailand"
          ],
          [
           "Weightlifting Men's Bantamweight",
           "Thailand"
          ],
          [
           "Weightlifting Men's Bantamweight",
           "Thailand"
          ],
          [
           "Weightlifting Men's Featherweight",
           "Kazakhstan"
          ],
          [
           "Weightlifting Men's Featherweight",
           "Kazakhstan"
          ],
          [
           "Weightlifting Men's Featherweight",
           "Kazakhstan"
          ],
          [
           "Weightlifting Men's Heavyweight",
           "Armenia"
          ],
          [
           "Weightlifting Men's Heavyweight",
           "Uzbekistan"
          ],
          [
           "Weightlifting Men's Heavyweight",
           "Kazakhstan"
          ],
          [
           "Weightlifting Men's Light-Heavyweight",
           "China"
          ],
          [
           "Weightlifting Men's Light-Heavyweight",
           "Kazakhstan"
          ],
          [
           "Weightlifting Men's Light-Heavyweight",
           "Iran"
          ],
          [
           "Weightlifting Men's Lightweight",
           "Turkmenistan"
          ],
          [
           "Weightlifting Men's Lightweight",
           "China"
          ],
          [
           "Weightlifting Men's Lightweight",
           "Colombia"
          ],
          [
           "Weightlifting Men's Middle-Heavyweight",
           "Lithuania"
          ],
          [
           "Weightlifting Men's Middle-Heavyweight",
           "Lithuania"
          ],
          [
           "Weightlifting Men's Middle-Heavyweight",
           "Lithuania"
          ],
          [
           "Weightlifting Men's Middleweight",
           "Kazakhstan"
          ],
          [
           "Weightlifting Men's Middleweight",
           "Kazakhstan"
          ],
          [
           "Weightlifting Men's Middleweight",
           "Egypt"
          ],
          [
           "Weightlifting Men's Super-Heavyweight",
           "Armenia"
          ],
          [
           "Weightlifting Men's Super-Heavyweight",
           "Georgia"
          ],
          [
           "Weightlifting Men's Super-Heavyweight",
           "Georgia"
          ],
          [
           "Weightlifting Women's Flyweight",
           "Indonesia"
          ],
          [
           "Weightlifting Women's Flyweight",
           "Thailand"
          ],
          [
           "Weightlifting Women's Flyweight",
           "Indonesia"
          ],
          [
           "Weightlifting Women's Heavyweight",
           "Belarus"
          ],
          [
           "Weightlifting Women's Heavyweight",
           "Spain"
          ],
          [
           "Weightlifting Women's Heavyweight",
           "Spain"
          ],
          [
           "Weightlifting Women's Light-Heavyweight",
           "Kazakhstan"
          ],
          [
           "Weightlifting Women's Light-Heavyweight",
           "China"
          ],
          [
           "Weightlifting Women's Light-Heavyweight",
           "Egypt"
          ],
          [
           "Weightlifting Women's Lightweight",
           "Thailand"
          ],
          [
           "Weightlifting Women's Lightweight",
           "Chinese Taipei"
          ],
          [
           "Weightlifting Women's Lightweight",
           "Chinese Taipei"
          ],
          [
           "Weightlifting Women's Middleweight",
           "North Korea"
          ],
          [
           "Weightlifting Women's Middleweight",
           "China"
          ],
          [
           "Weightlifting Women's Middleweight",
           "Kazakhstan"
          ],
          [
           "Weightlifting Women's Super-Heavyweight",
           "North Korea"
          ],
          [
           "Weightlifting Women's Super-Heavyweight",
           "China"
          ],
          [
           "Weightlifting Women's Super-Heavyweight",
           "United States"
          ]
         ],
         "hovertemplate": "Sport=Weightlifting<br>BMI=%{x}<br>Population=%{y}<br>GDP_Per_Capita=%{z}<br>Event=%{customdata[0]}<br>Team=%{customdata[1]}<extra></extra>",
         "legendgroup": "Weightlifting",
         "marker": {
          "color": "#ab63fa",
          "symbol": "circle"
         },
         "mode": "markers",
         "name": "Weightlifting",
         "scene": "scene",
         "showlegend": true,
         "type": "scatter3d",
         "x": [
          22.15102250702108,
          22.15102250702108,
          22.15102250702108,
          24.21875,
          24.21875,
          24.21875,
          32.05030371478282,
          32.54800083609543,
          32.407407407407405,
          28.73174689021093,
          27.755102040816325,
          33.564013840830455,
          23.05456246449932,
          24.801587301587304,
          23.507805325987142,
          31.77393185505679,
          31.77393185505679,
          31.77393185505679,
          24.857954545454547,
          24.857954545454547,
          28.282828282828287,
          43.20987654320987,
          41.22755031049499,
          39.24646781789639,
          21.75019667731038,
          20.23950075898128,
          21.75019667731038,
          27.915518824609737,
          26.25958474843318,
          26.25958474843318,
          28.720083246618103,
          25.970115548195267,
          24.14151925078044,
          24.14151925078044,
          23.53036634346221,
          23.53036634346221,
          24.91990032039872,
          24.91990032039872,
          24.609375,
          34.602076124567475,
          41.09726352367269,
          44.50195682363338
         ],
         "y": [
          68863514,
          68863514,
          68863514,
          17797032,
          17797032,
          17797032,
          2924816,
          31848200,
          17797032,
          1378665000,
          17797032,
          175287587,
          79512426,
          1378665000,
          48653419,
          2872298,
          2872298,
          2872298,
          17797032,
          17797032,
          95688681,
          2924816,
          3719300,
          3719300,
          37491165,
          68863514,
          37491165,
          9507120,
          46443959,
          46443959,
          17797032,
          1378665000,
          95688681,
          68863514,
          8850974,
          8850974,
          25368620,
          1378665000,
          17797032,
          25368620,
          1378665000,
          323127513
         ],
         "z": [
          5979.293546255484,
          5979.293546255484,
          5979.293546255484,
          7714.841843760241,
          7714.841843760241,
          7714.841843760241,
          3605.743116842559,
          2117.7444302576096,
          7714.841843760241,
          8117.267465431786,
          7714.841843760241,
          3739.116138765183,
          10862.726425533889,
          8117.267465431786,
          5813.6945194576165,
          14912.68654279316,
          14912.68654279316,
          14912.68654279316,
          7714.841843760241,
          7714.841843760241,
          3479.2812462117427,
          3605.743116842559,
          3865.785693318275,
          3865.785693318275,
          6191.714945034939,
          5979.293546255484,
          6191.714945034939,
          5025.405063877017,
          26616.75779655097,
          26616.75779655097,
          7714.841843760241,
          8117.267465431786,
          3479.2812462117427,
          5979.293546255484,
          30143.62745827797,
          30143.62745827797,
          916.8992515009978,
          8117.267465431786,
          7714.841843760241,
          27608.2474287116,
          8117.267465431786,
          57588.53807058303
         ]
        },
        {
         "customdata": [
          [
           "Wrestling Men's Featherweight, Freestyle",
           "Japan"
          ],
          [
           "Wrestling Men's Featherweight, Freestyle",
           "Iran"
          ],
          [
           "Wrestling Men's Featherweight, Freestyle",
           "Azerbaijan"
          ],
          [
           "Wrestling Men's Featherweight, Greco-Roman",
           "Japan"
          ],
          [
           "Wrestling Men's Featherweight, Greco-Roman",
           "Cuba"
          ],
          [
           "Wrestling Men's Featherweight, Greco-Roman",
           "Uzbekistan"
          ],
          [
           "Wrestling Men's Heavyweight, Freestyle",
           "United States"
          ],
          [
           "Wrestling Men's Heavyweight, Freestyle",
           "United States"
          ],
          [
           "Wrestling Men's Heavyweight, Freestyle",
           "Uzbekistan"
          ],
          [
           "Wrestling Men's Heavyweight, Greco-Roman",
           "Cuba"
          ],
          [
           "Wrestling Men's Heavyweight, Greco-Roman",
           "Cuba"
          ],
          [
           "Wrestling Men's Heavyweight, Greco-Roman",
           "Turkey"
          ],
          [
           "Wrestling Men's Light-Heavyweight, Freestyle",
           "Turkey"
          ],
          [
           "Wrestling Men's Light-Heavyweight, Freestyle",
           "United States"
          ],
          [
           "Wrestling Men's Light-Heavyweight, Freestyle",
           "Russia"
          ],
          [
           "Wrestling Men's Light-Heavyweight, Greco-Roman",
           "Ukraine"
          ],
          [
           "Wrestling Men's Light-Heavyweight, Greco-Roman",
           "Germany"
          ],
          [
           "Wrestling Men's Light-Heavyweight, Greco-Roman",
           "Ukraine"
          ],
          [
           "Wrestling Men's Lightweight, Greco-Roman",
           "Serbia and Montenegro"
          ],
          [
           "Wrestling Men's Lightweight, Greco-Roman",
           "Serbia and Montenegro"
          ],
          [
           "Wrestling Men's Lightweight, Greco-Roman",
           "Norway"
          ],
          [
           "Wrestling Men's Middleweight, Freestyle",
           "Iran"
          ],
          [
           "Wrestling Men's Middleweight, Freestyle",
           "Russia"
          ],
          [
           "Wrestling Men's Middleweight, Freestyle",
           "Turkey"
          ],
          [
           "Wrestling Men's Middleweight, Greco-Roman",
           "Denmark"
          ],
          [
           "Wrestling Men's Middleweight, Greco-Roman",
           "Denmark"
          ],
          [
           "Wrestling Men's Middleweight, Greco-Roman",
           "Denmark"
          ],
          [
           "Wrestling Men's Super-Heavyweight, Freestyle",
           "Turkey"
          ],
          [
           "Wrestling Men's Super-Heavyweight, Freestyle",
           "Turkey"
          ],
          [
           "Wrestling Men's Super-Heavyweight, Freestyle",
           "Belarus"
          ],
          [
           "Wrestling Men's Super-Heavyweight, Greco-Roman",
           "Russia"
          ],
          [
           "Wrestling Men's Super-Heavyweight, Greco-Roman",
           "Azerbaijan"
          ],
          [
           "Wrestling Men's Super-Heavyweight, Greco-Roman",
           "Russia"
          ],
          [
           "Wrestling Men's Welterweight, Freestyle",
           "Italy"
          ],
          [
           "Wrestling Men's Welterweight, Freestyle",
           "Russia"
          ],
          [
           "Wrestling Men's Welterweight, Freestyle",
           "Azerbaijan"
          ],
          [
           "Wrestling Men's Welterweight, Greco-Roman",
           "Armenia"
          ],
          [
           "Wrestling Men's Welterweight, Greco-Roman",
           "Iran"
          ],
          [
           "Wrestling Men's Welterweight, Greco-Roman",
           "Georgia"
          ],
          [
           "Wrestling Women's Featherweight, Freestyle",
           "United States"
          ],
          [
           "Wrestling Women's Featherweight, Freestyle",
           "United States"
          ],
          [
           "Wrestling Women's Featherweight, Freestyle",
           "United States"
          ],
          [
           "Wrestling Women's Flyweight, Freestyle",
           "Sweden"
          ],
          [
           "Wrestling Women's Flyweight, Freestyle",
           "Japan"
          ],
          [
           "Wrestling Women's Flyweight, Freestyle",
           "Bulgaria"
          ],
          [
           "Wrestling Women's Heavyweight, Freestyle",
           "Russia"
          ],
          [
           "Wrestling Women's Heavyweight, Freestyle",
           "Canada"
          ],
          [
           "Wrestling Women's Heavyweight, Freestyle",
           "Sweden"
          ],
          [
           "Wrestling Women's Light-Heavyweight, Freestyle",
           "Japan"
          ],
          [
           "Wrestling Women's Light-Heavyweight, Freestyle",
           "Japan"
          ],
          [
           "Wrestling Women's Light-Heavyweight, Freestyle",
           "Kazakhstan"
          ],
          [
           "Wrestling Women's Lightweight, Freestyle",
           "Russia"
          ],
          [
           "Wrestling Women's Lightweight, Freestyle",
           "India"
          ],
          [
           "Wrestling Women's Lightweight, Freestyle",
           "Tunisia"
          ],
          [
           "Wrestling Women's Middleweight, Freestyle",
           "Belarus"
          ],
          [
           "Wrestling Women's Middleweight, Freestyle",
           "Japan"
          ],
          [
           "Wrestling Women's Middleweight, Freestyle",
           "Poland"
          ]
         ],
         "hovertemplate": "Sport=Wrestling<br>BMI=%{x}<br>Population=%{y}<br>GDP_Per_Capita=%{z}<br>Event=%{customdata[0]}<br>Team=%{customdata[1]}<extra></extra>",
         "legendgroup": "Wrestling",
         "marker": {
          "color": "#FFA15A",
          "symbol": "circle"
         },
         "mode": "markers",
         "name": "Wrestling",
         "scene": "scene",
         "showlegend": true,
         "type": "scatter3d",
         "x": [
          23.711844630960897,
          22.77318640955005,
          23.030045351473927,
          23.875114784205696,
          23.046875,
          23.046875,
          31.48148148148148,
          31.48148148148148,
          28.96473468900236,
          27.14681440443213,
          27.14681440443213,
          30.24691358024691,
          26.840610467838083,
          26.54320987654321,
          27.4506048708864,
          26.82742078020452,
          26.583175803402646,
          26.82742078020452,
          22.837370242214536,
          22.837370242214536,
          21.513858510523864,
          22.587833094227893,
          24.72518293294129,
          25.60553633217993,
          25.53544639152223,
          25.53544639152223,
          25.53544639152223,
          33.90842013888889,
          33.90842013888889,
          38.58024691358025,
          37.17578426606422,
          35.26475694444444,
          37.17578426606422,
          21.97133585722012,
          22.49134948096886,
          25.60553633217993,
          24.31412396574249,
          27.68166089965398,
          22.837370242214536,
          21.453573713726524,
          21.453573713726524,
          21.453573713726524,
          20.820939916716245,
          20.775623268698062,
          21.05170825840972,
          24.77209671026556,
          24.489795918367346,
          25.55932915514163,
          27.29322416043669,
          27.29322416043669,
          23.323418063818284,
          21.564544913741823,
          22.10028959000152,
          22.65625,
          24.46460160337235,
          23.828125,
          22.58955143605005
         ],
         "y": [
          126994511,
          24650400,
          9762274,
          126994511,
          11475982,
          31848200,
          323127513,
          323127513,
          31848200,
          11475982,
          11475982,
          79512426,
          79512426,
          323127513,
          144342396,
          45004645,
          323127513,
          45004645,
          7057412,
          7057412,
          5232929,
          46787750,
          144342396,
          79512426,
          8840998,
          8840998,
          8840998,
          79512426,
          79512426,
          9507120,
          144342396,
          9762274,
          144342396,
          60600590,
          144342396,
          9762274,
          2924816,
          11348159,
          3719300,
          323127513,
          323127513,
          323127513,
          9903122,
          126994511,
          128063000,
          144342396,
          36286425,
          9903122,
          126994511,
          126994511,
          17797032,
          144342396,
          1324171354,
          11403248,
          9507120,
          126994511,
          37948016
         ],
         "z": [
          38972.340639146816,
          558.2268023770001,
          3880.73873089556,
          38972.340639146816,
          7961.845879507305,
          2117.7444302576096,
          57588.53807058303,
          57588.53807058303,
          2117.7444302576096,
          7961.845879507305,
          7961.845879507305,
          10862.726425533889,
          10862.726425533889,
          57588.53807058303,
          8759.03611775209,
          2185.72803066435,
          57588.53807058303,
          2185.72803066435,
          5426.198278872465,
          5426.198278872465,
          70890.03556873862,
          2303.01883093184,
          8759.03611775209,
          10862.726425533889,
          32587.26410446412,
          32587.26410446412,
          32587.26410446412,
          10862.726425533889,
          10862.726425533889,
          5025.405063877017,
          8759.03611775209,
          3880.73873089556,
          8759.03611775209,
          30668.981428999723,
          8759.03611775209,
          3880.73873089556,
          3605.743116842559,
          41260.977551146825,
          3865.785693318275,
          57588.53807058303,
          57588.53807058303,
          57588.53807058303,
          51844.761261862746,
          38972.340639146816,
          39339.29757318257,
          8759.03611775209,
          42348.94546059788,
          51844.761261862746,
          38972.340639146816,
          38972.340639146816,
          7714.841843760241,
          8759.03611775209,
          1717.4738780298928,
          3666.357154406197,
          5025.405063877017,
          38972.340639146816,
          12430.629601767552
         ]
        }
       ],
       "layout": {
        "legend": {
         "title": {
          "text": "Sport"
         },
         "tracegroupgap": 0
        },
        "scene": {
         "domain": {
          "x": [
           0,
           1
          ],
          "y": [
           0,
           1
          ]
         },
         "xaxis": {
          "title": {
           "text": "BMI"
          }
         },
         "yaxis": {
          "title": {
           "text": "Population"
          }
         },
         "zaxis": {
          "title": {
           "text": "GDP_Per_Capita"
          }
         }
        },
        "template": {
         "data": {
          "bar": [
           {
            "error_x": {
             "color": "#2a3f5f"
            },
            "error_y": {
             "color": "#2a3f5f"
            },
            "marker": {
             "line": {
              "color": "#E5ECF6",
              "width": 0.5
             },
             "pattern": {
              "fillmode": "overlay",
              "size": 10,
              "solidity": 0.2
             }
            },
            "type": "bar"
           }
          ],
          "barpolar": [
           {
            "marker": {
             "line": {
              "color": "#E5ECF6",
              "width": 0.5
             },
             "pattern": {
              "fillmode": "overlay",
              "size": 10,
              "solidity": 0.2
             }
            },
            "type": "barpolar"
           }
          ],
          "carpet": [
           {
            "aaxis": {
             "endlinecolor": "#2a3f5f",
             "gridcolor": "white",
             "linecolor": "white",
             "minorgridcolor": "white",
             "startlinecolor": "#2a3f5f"
            },
            "baxis": {
             "endlinecolor": "#2a3f5f",
             "gridcolor": "white",
             "linecolor": "white",
             "minorgridcolor": "white",
             "startlinecolor": "#2a3f5f"
            },
            "type": "carpet"
           }
          ],
          "choropleth": [
           {
            "colorbar": {
             "outlinewidth": 0,
             "ticks": ""
            },
            "type": "choropleth"
           }
          ],
          "contour": [
           {
            "colorbar": {
             "outlinewidth": 0,
             "ticks": ""
            },
            "colorscale": [
             [
              0,
              "#0d0887"
             ],
             [
              0.1111111111111111,
              "#46039f"
             ],
             [
              0.2222222222222222,
              "#7201a8"
             ],
             [
              0.3333333333333333,
              "#9c179e"
             ],
             [
              0.4444444444444444,
              "#bd3786"
             ],
             [
              0.5555555555555556,
              "#d8576b"
             ],
             [
              0.6666666666666666,
              "#ed7953"
             ],
             [
              0.7777777777777778,
              "#fb9f3a"
             ],
             [
              0.8888888888888888,
              "#fdca26"
             ],
             [
              1,
              "#f0f921"
             ]
            ],
            "type": "contour"
           }
          ],
          "contourcarpet": [
           {
            "colorbar": {
             "outlinewidth": 0,
             "ticks": ""
            },
            "type": "contourcarpet"
           }
          ],
          "heatmap": [
           {
            "colorbar": {
             "outlinewidth": 0,
             "ticks": ""
            },
            "colorscale": [
             [
              0,
              "#0d0887"
             ],
             [
              0.1111111111111111,
              "#46039f"
             ],
             [
              0.2222222222222222,
              "#7201a8"
             ],
             [
              0.3333333333333333,
              "#9c179e"
             ],
             [
              0.4444444444444444,
              "#bd3786"
             ],
             [
              0.5555555555555556,
              "#d8576b"
             ],
             [
              0.6666666666666666,
              "#ed7953"
             ],
             [
              0.7777777777777778,
              "#fb9f3a"
             ],
             [
              0.8888888888888888,
              "#fdca26"
             ],
             [
              1,
              "#f0f921"
             ]
            ],
            "type": "heatmap"
           }
          ],
          "heatmapgl": [
           {
            "colorbar": {
             "outlinewidth": 0,
             "ticks": ""
            },
            "colorscale": [
             [
              0,
              "#0d0887"
             ],
             [
              0.1111111111111111,
              "#46039f"
             ],
             [
              0.2222222222222222,
              "#7201a8"
             ],
             [
              0.3333333333333333,
              "#9c179e"
             ],
             [
              0.4444444444444444,
              "#bd3786"
             ],
             [
              0.5555555555555556,
              "#d8576b"
             ],
             [
              0.6666666666666666,
              "#ed7953"
             ],
             [
              0.7777777777777778,
              "#fb9f3a"
             ],
             [
              0.8888888888888888,
              "#fdca26"
             ],
             [
              1,
              "#f0f921"
             ]
            ],
            "type": "heatmapgl"
           }
          ],
          "histogram": [
           {
            "marker": {
             "pattern": {
              "fillmode": "overlay",
              "size": 10,
              "solidity": 0.2
             }
            },
            "type": "histogram"
           }
          ],
          "histogram2d": [
           {
            "colorbar": {
             "outlinewidth": 0,
             "ticks": ""
            },
            "colorscale": [
             [
              0,
              "#0d0887"
             ],
             [
              0.1111111111111111,
              "#46039f"
             ],
             [
              0.2222222222222222,
              "#7201a8"
             ],
             [
              0.3333333333333333,
              "#9c179e"
             ],
             [
              0.4444444444444444,
              "#bd3786"
             ],
             [
              0.5555555555555556,
              "#d8576b"
             ],
             [
              0.6666666666666666,
              "#ed7953"
             ],
             [
              0.7777777777777778,
              "#fb9f3a"
             ],
             [
              0.8888888888888888,
              "#fdca26"
             ],
             [
              1,
              "#f0f921"
             ]
            ],
            "type": "histogram2d"
           }
          ],
          "histogram2dcontour": [
           {
            "colorbar": {
             "outlinewidth": 0,
             "ticks": ""
            },
            "colorscale": [
             [
              0,
              "#0d0887"
             ],
             [
              0.1111111111111111,
              "#46039f"
             ],
             [
              0.2222222222222222,
              "#7201a8"
             ],
             [
              0.3333333333333333,
              "#9c179e"
             ],
             [
              0.4444444444444444,
              "#bd3786"
             ],
             [
              0.5555555555555556,
              "#d8576b"
             ],
             [
              0.6666666666666666,
              "#ed7953"
             ],
             [
              0.7777777777777778,
              "#fb9f3a"
             ],
             [
              0.8888888888888888,
              "#fdca26"
             ],
             [
              1,
              "#f0f921"
             ]
            ],
            "type": "histogram2dcontour"
           }
          ],
          "mesh3d": [
           {
            "colorbar": {
             "outlinewidth": 0,
             "ticks": ""
            },
            "type": "mesh3d"
           }
          ],
          "parcoords": [
           {
            "line": {
             "colorbar": {
              "outlinewidth": 0,
              "ticks": ""
             }
            },
            "type": "parcoords"
           }
          ],
          "pie": [
           {
            "automargin": true,
            "type": "pie"
           }
          ],
          "scatter": [
           {
            "fillpattern": {
             "fillmode": "overlay",
             "size": 10,
             "solidity": 0.2
            },
            "type": "scatter"
           }
          ],
          "scatter3d": [
           {
            "line": {
             "colorbar": {
              "outlinewidth": 0,
              "ticks": ""
             }
            },
            "marker": {
             "colorbar": {
              "outlinewidth": 0,
              "ticks": ""
             }
            },
            "type": "scatter3d"
           }
          ],
          "scattercarpet": [
           {
            "marker": {
             "colorbar": {
              "outlinewidth": 0,
              "ticks": ""
             }
            },
            "type": "scattercarpet"
           }
          ],
          "scattergeo": [
           {
            "marker": {
             "colorbar": {
              "outlinewidth": 0,
              "ticks": ""
             }
            },
            "type": "scattergeo"
           }
          ],
          "scattergl": [
           {
            "marker": {
             "colorbar": {
              "outlinewidth": 0,
              "ticks": ""
             }
            },
            "type": "scattergl"
           }
          ],
          "scattermapbox": [
           {
            "marker": {
             "colorbar": {
              "outlinewidth": 0,
              "ticks": ""
             }
            },
            "type": "scattermapbox"
           }
          ],
          "scatterpolar": [
           {
            "marker": {
             "colorbar": {
              "outlinewidth": 0,
              "ticks": ""
             }
            },
            "type": "scatterpolar"
           }
          ],
          "scatterpolargl": [
           {
            "marker": {
             "colorbar": {
              "outlinewidth": 0,
              "ticks": ""
             }
            },
            "type": "scatterpolargl"
           }
          ],
          "scatterternary": [
           {
            "marker": {
             "colorbar": {
              "outlinewidth": 0,
              "ticks": ""
             }
            },
            "type": "scatterternary"
           }
          ],
          "surface": [
           {
            "colorbar": {
             "outlinewidth": 0,
             "ticks": ""
            },
            "colorscale": [
             [
              0,
              "#0d0887"
             ],
             [
              0.1111111111111111,
              "#46039f"
             ],
             [
              0.2222222222222222,
              "#7201a8"
             ],
             [
              0.3333333333333333,
              "#9c179e"
             ],
             [
              0.4444444444444444,
              "#bd3786"
             ],
             [
              0.5555555555555556,
              "#d8576b"
             ],
             [
              0.6666666666666666,
              "#ed7953"
             ],
             [
              0.7777777777777778,
              "#fb9f3a"
             ],
             [
              0.8888888888888888,
              "#fdca26"
             ],
             [
              1,
              "#f0f921"
             ]
            ],
            "type": "surface"
           }
          ],
          "table": [
           {
            "cells": {
             "fill": {
              "color": "#EBF0F8"
             },
             "line": {
              "color": "white"
             }
            },
            "header": {
             "fill": {
              "color": "#C8D4E3"
             },
             "line": {
              "color": "white"
             }
            },
            "type": "table"
           }
          ]
         },
         "layout": {
          "annotationdefaults": {
           "arrowcolor": "#2a3f5f",
           "arrowhead": 0,
           "arrowwidth": 1
          },
          "autotypenumbers": "strict",
          "coloraxis": {
           "colorbar": {
            "outlinewidth": 0,
            "ticks": ""
           }
          },
          "colorscale": {
           "diverging": [
            [
             0,
             "#8e0152"
            ],
            [
             0.1,
             "#c51b7d"
            ],
            [
             0.2,
             "#de77ae"
            ],
            [
             0.3,
             "#f1b6da"
            ],
            [
             0.4,
             "#fde0ef"
            ],
            [
             0.5,
             "#f7f7f7"
            ],
            [
             0.6,
             "#e6f5d0"
            ],
            [
             0.7,
             "#b8e186"
            ],
            [
             0.8,
             "#7fbc41"
            ],
            [
             0.9,
             "#4d9221"
            ],
            [
             1,
             "#276419"
            ]
           ],
           "sequential": [
            [
             0,
             "#0d0887"
            ],
            [
             0.1111111111111111,
             "#46039f"
            ],
            [
             0.2222222222222222,
             "#7201a8"
            ],
            [
             0.3333333333333333,
             "#9c179e"
            ],
            [
             0.4444444444444444,
             "#bd3786"
            ],
            [
             0.5555555555555556,
             "#d8576b"
            ],
            [
             0.6666666666666666,
             "#ed7953"
            ],
            [
             0.7777777777777778,
             "#fb9f3a"
            ],
            [
             0.8888888888888888,
             "#fdca26"
            ],
            [
             1,
             "#f0f921"
            ]
           ],
           "sequentialminus": [
            [
             0,
             "#0d0887"
            ],
            [
             0.1111111111111111,
             "#46039f"
            ],
            [
             0.2222222222222222,
             "#7201a8"
            ],
            [
             0.3333333333333333,
             "#9c179e"
            ],
            [
             0.4444444444444444,
             "#bd3786"
            ],
            [
             0.5555555555555556,
             "#d8576b"
            ],
            [
             0.6666666666666666,
             "#ed7953"
            ],
            [
             0.7777777777777778,
             "#fb9f3a"
            ],
            [
             0.8888888888888888,
             "#fdca26"
            ],
            [
             1,
             "#f0f921"
            ]
           ]
          },
          "colorway": [
           "#636efa",
           "#EF553B",
           "#00cc96",
           "#ab63fa",
           "#FFA15A",
           "#19d3f3",
           "#FF6692",
           "#B6E880",
           "#FF97FF",
           "#FECB52"
          ],
          "font": {
           "color": "#2a3f5f"
          },
          "geo": {
           "bgcolor": "white",
           "lakecolor": "white",
           "landcolor": "#E5ECF6",
           "showlakes": true,
           "showland": true,
           "subunitcolor": "white"
          },
          "hoverlabel": {
           "align": "left"
          },
          "hovermode": "closest",
          "mapbox": {
           "style": "light"
          },
          "paper_bgcolor": "white",
          "plot_bgcolor": "#E5ECF6",
          "polar": {
           "angularaxis": {
            "gridcolor": "white",
            "linecolor": "white",
            "ticks": ""
           },
           "bgcolor": "#E5ECF6",
           "radialaxis": {
            "gridcolor": "white",
            "linecolor": "white",
            "ticks": ""
           }
          },
          "scene": {
           "xaxis": {
            "backgroundcolor": "#E5ECF6",
            "gridcolor": "white",
            "gridwidth": 2,
            "linecolor": "white",
            "showbackground": true,
            "ticks": "",
            "zerolinecolor": "white"
           },
           "yaxis": {
            "backgroundcolor": "#E5ECF6",
            "gridcolor": "white",
            "gridwidth": 2,
            "linecolor": "white",
            "showbackground": true,
            "ticks": "",
            "zerolinecolor": "white"
           },
           "zaxis": {
            "backgroundcolor": "#E5ECF6",
            "gridcolor": "white",
            "gridwidth": 2,
            "linecolor": "white",
            "showbackground": true,
            "ticks": "",
            "zerolinecolor": "white"
           }
          },
          "shapedefaults": {
           "line": {
            "color": "#2a3f5f"
           }
          },
          "ternary": {
           "aaxis": {
            "gridcolor": "white",
            "linecolor": "white",
            "ticks": ""
           },
           "baxis": {
            "gridcolor": "white",
            "linecolor": "white",
            "ticks": ""
           },
           "bgcolor": "#E5ECF6",
           "caxis": {
            "gridcolor": "white",
            "linecolor": "white",
            "ticks": ""
           }
          },
          "title": {
           "x": 0.05
          },
          "xaxis": {
           "automargin": true,
           "gridcolor": "white",
           "linecolor": "white",
           "ticks": "",
           "title": {
            "standoff": 15
           },
           "zerolinecolor": "white",
           "zerolinewidth": 2
          },
          "yaxis": {
           "automargin": true,
           "gridcolor": "white",
           "linecolor": "white",
           "ticks": "",
           "title": {
            "standoff": 15
           },
           "zerolinecolor": "white",
           "zerolinewidth": 2
          }
         }
        },
        "title": {
         "text": "3D Scatter Plot of BMI, Population, and GDP Per Capita"
        }
       }
      }
     },
     "metadata": {},
     "output_type": "display_data"
    }
   ],
   "source": [
    "# 3D Scatter Plot for BMI, Population, and GDP_Per_Capita\n",
    "fig2 = px.scatter_3d(df, x='BMI', y='Population', z='GDP_Per_Capita',\n",
    "                     color='Sport', hover_data=['Event', 'Team'],\n",
    "                     title='3D Scatter Plot of BMI, Population, and GDP Per Capita')\n",
    "\n",
    "fig2.show()\n"
   ]
  },
  {
   "cell_type": "code",
   "execution_count": 21,
   "metadata": {},
   "outputs": [
    {
     "data": {
      "application/vnd.plotly.v1+json": {
       "config": {
        "plotlyServerURL": "https://plot.ly"
       },
       "data": [
        {
         "customdata": [
          [
           "Alpine Skiing Women's Super G",
           "Canada"
          ],
          [
           "Alpine Skiing Women's Super G",
           "Canada"
          ],
          [
           "Alpine Skiing Women's Super G",
           "Canada"
          ]
         ],
         "hovertemplate": "Sport=Alpine Skiing<br>Gold=%{x}<br>Silver=%{y}<br>Bronze=%{z}<br>Event=%{customdata[0]}<br>Team=%{customdata[1]}<extra></extra>",
         "legendgroup": "Alpine Skiing",
         "marker": {
          "color": "#636efa",
          "symbol": "circle"
         },
         "mode": "markers",
         "name": "Alpine Skiing",
         "scene": "scene",
         "showlegend": true,
         "type": "scatter3d",
         "x": [
          0.125,
          0.125,
          0.125
         ],
         "y": [
          0,
          0,
          0
         ],
         "z": [
          0.875,
          0.875,
          0.875
         ]
        },
        {
         "customdata": [
          [
           "Archery Men's Individual",
           "Australia"
          ],
          [
           "Archery Men's Individual",
           "South Korea"
          ],
          [
           "Archery Men's Individual",
           "Australia"
          ],
          [
           "Archery Women's Individual",
           "Germany"
          ],
          [
           "Archery Women's Individual",
           "South Korea"
          ],
          [
           "Archery Women's Individual",
           "Chinese Taipei"
          ]
         ],
         "hovertemplate": "Sport=Archery<br>Gold=%{x}<br>Silver=%{y}<br>Bronze=%{z}<br>Event=%{customdata[0]}<br>Team=%{customdata[1]}<extra></extra>",
         "legendgroup": "Archery",
         "marker": {
          "color": "#EF553B",
          "symbol": "circle"
         },
         "mode": "markers",
         "name": "Archery",
         "scene": "scene",
         "showlegend": true,
         "type": "scatter3d",
         "x": [
          0.9,
          0.0666666666666666,
          0.3,
          0.8,
          0,
          0
         ],
         "y": [
          0,
          0.8333333333333333,
          0,
          0,
          0.8,
          0.1
         ],
         "z": [
          0.1,
          0.1,
          0.7,
          0.2,
          0.2,
          0.9
         ]
        },
        {
         "customdata": [
          [
           "Athletics Men's 1,500 metres",
           "United States"
          ],
          [
           "Athletics Men's 1,500 metres",
           "United States"
          ],
          [
           "Athletics Men's 1,500 metres",
           "United States"
          ],
          [
           "Athletics Men's 10,000 metres",
           "Kenya"
          ],
          [
           "Athletics Men's 10,000 metres",
           "Kenya"
          ],
          [
           "Athletics Men's 10,000 metres",
           "Ethiopia"
          ],
          [
           "Athletics Men's 100 metres",
           "Japan"
          ],
          [
           "Athletics Men's 100 metres",
           "Jamaica"
          ],
          [
           "Athletics Men's 100 metres",
           "Canada"
          ],
          [
           "Athletics Men's 110 metres Hurdles",
           "Cuba"
          ],
          [
           "Athletics Men's 110 metres Hurdles",
           "Cuba"
          ],
          [
           "Athletics Men's 110 metres Hurdles",
           "France"
          ],
          [
           "Athletics Men's 20 kilometres Walk",
           "China"
          ],
          [
           "Athletics Men's 20 kilometres Walk",
           "Slovakia"
          ],
          [
           "Athletics Men's 20 kilometres Walk",
           "Australia"
          ],
          [
           "Athletics Men's 200 metres",
           "Japan"
          ],
          [
           "Athletics Men's 200 metres",
           "Canada"
          ],
          [
           "Athletics Men's 200 metres",
           "Canada"
          ],
          [
           "Athletics Men's 3,000 metres Steeplechase",
           "United States"
          ],
          [
           "Athletics Men's 3,000 metres Steeplechase",
           "Kenya"
          ],
          [
           "Athletics Men's 3,000 metres Steeplechase",
           "United States"
          ],
          [
           "Athletics Men's 4 x 100 metres Relay",
           "Jamaica"
          ],
          [
           "Athletics Men's 4 x 100 metres Relay",
           "Jamaica"
          ],
          [
           "Athletics Men's 4 x 100 metres Relay",
           "Canada"
          ],
          [
           "Athletics Men's 4 x 400 metres Relay",
           "Jamaica"
          ],
          [
           "Athletics Men's 4 x 400 metres Relay",
           "United States"
          ],
          [
           "Athletics Men's 4 x 400 metres Relay",
           "Bahamas"
          ],
          [
           "Athletics Men's 400 metres",
           "Jamaica"
          ],
          [
           "Athletics Men's 400 metres",
           "United States"
          ],
          [
           "Athletics Men's 400 metres",
           "Bahamas"
          ],
          [
           "Athletics Men's 400 metres Hurdles",
           "Kenya"
          ],
          [
           "Athletics Men's 400 metres Hurdles",
           "Kenya"
          ],
          [
           "Athletics Men's 400 metres Hurdles",
           "Turkey"
          ],
          [
           "Athletics Men's 5,000 metres",
           "United States"
          ],
          [
           "Athletics Men's 5,000 metres",
           "United States"
          ],
          [
           "Athletics Men's 5,000 metres",
           "Ethiopia"
          ],
          [
           "Athletics Men's 50 kilometres Walk",
           "Japan"
          ],
          [
           "Athletics Men's 50 kilometres Walk",
           "Japan"
          ],
          [
           "Athletics Men's 50 kilometres Walk",
           "Japan"
          ],
          [
           "Athletics Men's 800 metres",
           "United States"
          ],
          [
           "Athletics Men's 800 metres",
           "United States"
          ],
          [
           "Athletics Men's 800 metres",
           "United States"
          ],
          [
           "Athletics Men's Decathlon",
           "France"
          ],
          [
           "Athletics Men's Decathlon",
           "Canada"
          ],
          [
           "Athletics Men's Decathlon",
           "Canada"
          ],
          [
           "Athletics Men's Discus Throw",
           "Germany"
          ],
          [
           "Athletics Men's Discus Throw",
           "Germany"
          ],
          [
           "Athletics Men's Discus Throw",
           "Germany"
          ],
          [
           "Athletics Men's Hammer Throw",
           "Tajikistan"
          ],
          [
           "Athletics Men's Hammer Throw",
           "Tajikistan"
          ],
          [
           "Athletics Men's Hammer Throw",
           "Poland"
          ],
          [
           "Athletics Men's High Jump",
           "Ukraine"
          ],
          [
           "Athletics Men's High Jump",
           "Ukraine"
          ],
          [
           "Athletics Men's High Jump",
           "Ukraine"
          ],
          [
           "Athletics Men's Javelin Throw",
           "Kenya"
          ],
          [
           "Athletics Men's Javelin Throw",
           "Germany"
          ],
          [
           "Athletics Men's Javelin Throw",
           "Kenya"
          ],
          [
           "Athletics Men's Long Jump",
           "United States"
          ],
          [
           "Athletics Men's Long Jump",
           "United States"
          ],
          [
           "Athletics Men's Long Jump",
           "United States"
          ],
          [
           "Athletics Men's Marathon",
           "Ethiopia"
          ],
          [
           "Athletics Men's Marathon",
           "Ethiopia"
          ],
          [
           "Athletics Men's Marathon",
           "Ethiopia"
          ],
          [
           "Athletics Men's Pole Vault",
           "Brazil"
          ],
          [
           "Athletics Men's Pole Vault",
           "Brazil"
          ],
          [
           "Athletics Men's Pole Vault",
           "United States"
          ],
          [
           "Athletics Men's Shot Put",
           "United States"
          ],
          [
           "Athletics Men's Shot Put",
           "United States"
          ],
          [
           "Athletics Men's Shot Put",
           "New Zealand"
          ],
          [
           "Athletics Men's Triple Jump",
           "China"
          ],
          [
           "Athletics Men's Triple Jump",
           "China"
          ],
          [
           "Athletics Men's Triple Jump",
           "China"
          ],
          [
           "Athletics Women's 1,500 metres",
           "Kenya"
          ],
          [
           "Athletics Women's 1,500 metres",
           "Kenya"
          ],
          [
           "Athletics Women's 1,500 metres",
           "Ethiopia"
          ],
          [
           "Athletics Women's 100 metres",
           "Jamaica"
          ],
          [
           "Athletics Women's 100 metres",
           "United States"
          ],
          [
           "Athletics Women's 100 metres",
           "Great Britain"
          ],
          [
           "Athletics Women's 100 metres Hurdles",
           "United States"
          ],
          [
           "Athletics Women's 100 metres Hurdles",
           "United States"
          ],
          [
           "Athletics Women's 100 metres Hurdles",
           "United States"
          ],
          [
           "Athletics Women's 20 kilometres Walk",
           "Mexico"
          ],
          [
           "Athletics Women's 20 kilometres Walk",
           "China"
          ],
          [
           "Athletics Women's 20 kilometres Walk",
           "China"
          ],
          [
           "Athletics Women's 200 metres",
           "Jamaica"
          ],
          [
           "Athletics Women's 200 metres",
           "Great Britain"
          ],
          [
           "Athletics Women's 200 metres",
           "Great Britain"
          ],
          [
           "Athletics Women's 3,000 metres Steeplechase",
           "Kenya"
          ],
          [
           "Athletics Women's 3,000 metres Steeplechase",
           "Kenya"
          ],
          [
           "Athletics Women's 3,000 metres Steeplechase",
           "United States"
          ],
          [
           "Athletics Women's 4 x 100 metres Relay",
           "Jamaica"
          ],
          [
           "Athletics Women's 4 x 100 metres Relay",
           "United States"
          ],
          [
           "Athletics Women's 4 x 100 metres Relay",
           "Netherlands"
          ],
          [
           "Athletics Women's 4 x 400 metres Relay",
           "Jamaica"
          ],
          [
           "Athletics Women's 4 x 400 metres Relay",
           "United States"
          ],
          [
           "Athletics Women's 4 x 400 metres Relay",
           "Great Britain"
          ],
          [
           "Athletics Women's 400 metres",
           "Jamaica"
          ],
          [
           "Athletics Women's 400 metres",
           "United States"
          ],
          [
           "Athletics Women's 400 metres",
           "Great Britain"
          ],
          [
           "Athletics Women's 400 metres Hurdles",
           "Denmark"
          ],
          [
           "Athletics Women's 400 metres Hurdles",
           "United States"
          ],
          [
           "Athletics Women's 400 metres Hurdles",
           "Great Britain"
          ],
          [
           "Athletics Women's 5,000 metres",
           "Ethiopia"
          ],
          [
           "Athletics Women's 5,000 metres",
           "Ethiopia"
          ],
          [
           "Athletics Women's 5,000 metres",
           "Ethiopia"
          ],
          [
           "Athletics Women's 800 metres",
           "Burundi"
          ],
          [
           "Athletics Women's 800 metres",
           "Burundi"
          ],
          [
           "Athletics Women's 800 metres",
           "Burundi"
          ],
          [
           "Athletics Women's Discus Throw",
           "France"
          ],
          [
           "Athletics Women's Discus Throw",
           "France"
          ],
          [
           "Athletics Women's Discus Throw",
           "Cuba"
          ],
          [
           "Athletics Women's Hammer Throw",
           "Great Britain"
          ],
          [
           "Athletics Women's Hammer Throw",
           "Great Britain"
          ],
          [
           "Athletics Women's Hammer Throw",
           "Great Britain"
          ],
          [
           "Athletics Women's Heptathlon",
           "Canada"
          ],
          [
           "Athletics Women's Heptathlon",
           "Belgium"
          ],
          [
           "Athletics Women's Heptathlon",
           "Canada"
          ],
          [
           "Athletics Women's High Jump",
           "Bulgaria"
          ],
          [
           "Athletics Women's High Jump",
           "Spain"
          ],
          [
           "Athletics Women's High Jump",
           "Bulgaria"
          ],
          [
           "Athletics Women's Javelin Throw",
           "Croatia"
          ],
          [
           "Athletics Women's Javelin Throw",
           "South Africa"
          ],
          [
           "Athletics Women's Javelin Throw",
           "Croatia"
          ],
          [
           "Athletics Women's Long Jump",
           "Serbia"
          ],
          [
           "Athletics Women's Long Jump",
           "Serbia"
          ],
          [
           "Athletics Women's Long Jump",
           "Serbia"
          ],
          [
           "Athletics Women's Marathon",
           "Bahrain"
          ],
          [
           "Athletics Women's Marathon",
           "Kenya"
          ],
          [
           "Athletics Women's Marathon",
           "Ethiopia"
          ],
          [
           "Athletics Women's Pole Vault",
           "United States"
          ],
          [
           "Athletics Women's Pole Vault",
           "Greece"
          ],
          [
           "Athletics Women's Pole Vault",
           "New Zealand"
          ],
          [
           "Athletics Women's Shot Put",
           "Hungary"
          ],
          [
           "Athletics Women's Shot Put",
           "United States"
          ],
          [
           "Athletics Women's Shot Put",
           "Hungary"
          ],
          [
           "Athletics Women's Triple Jump",
           "Venezuela"
          ],
          [
           "Athletics Women's Triple Jump",
           "Venezuela"
          ],
          [
           "Athletics Women's Triple Jump",
           "Venezuela"
          ]
         ],
         "hovertemplate": "Sport=Athletics<br>Gold=%{x}<br>Silver=%{y}<br>Bronze=%{z}<br>Event=%{customdata[0]}<br>Team=%{customdata[1]}<extra></extra>",
         "legendgroup": "Athletics",
         "marker": {
          "color": "#00cc96",
          "symbol": "circle"
         },
         "mode": "markers",
         "name": "Athletics",
         "scene": "scene",
         "showlegend": true,
         "type": "scatter3d",
         "x": [
          0.1,
          0.1,
          0.1,
          0.7,
          0.7,
          0.4,
          0.9,
          0.1,
          0,
          0.7,
          0.7,
          0.2,
          0.9,
          0.1,
          0,
          0.4,
          0,
          0,
          0.2,
          0.1,
          0.2,
          0.1,
          0.1,
          0.05,
          0.7,
          0.5,
          0.1,
          0.8,
          0,
          0.175,
          0.6,
          0.6,
          0,
          0.7166666666666667,
          0.7166666666666667,
          0.1,
          0.1,
          0.1,
          0.1,
          0.2,
          0.2,
          0.2,
          1,
          0.1,
          0.1,
          0,
          0,
          0,
          0.3,
          0.3,
          0,
          0.2,
          0.2,
          0.2,
          0.5,
          0.2,
          0.5,
          0.1166666666666666,
          0.1166666666666666,
          0.1166666666666666,
          1,
          1,
          1,
          0,
          0,
          0,
          0.9,
          0.2333333333333333,
          0.2,
          0,
          0,
          0,
          0.8,
          0.1,
          0.5,
          0.8,
          0.2,
          0.1,
          0.6,
          0.1,
          0.1,
          0.4666666666666666,
          0.05,
          0.2,
          0.9,
          0,
          0,
          0.4,
          0.4,
          0.2,
          0.6,
          0,
          0.3,
          0.8,
          0.1,
          0.2,
          0.5916666666666666,
          0,
          0.2,
          0.3,
          0.24,
          0.1,
          0,
          0,
          0,
          0.8,
          0.8,
          0.8,
          0.5,
          0.5,
          0,
          0.2,
          0.2,
          0.2,
          0.025,
          0,
          0.025,
          0.8,
          0,
          0.8,
          0.4,
          0.2,
          0.4,
          0.4,
          0.4,
          0.4,
          0.4,
          0.15,
          0.3,
          0.8,
          0,
          0.3,
          0.3,
          0,
          0.3,
          0.7,
          0.7,
          0.7
         ],
         "y": [
          0.7,
          0.7,
          0.7,
          0.2,
          0.2,
          0,
          0,
          0.8,
          0,
          0.3,
          0.3,
          0.2,
          0,
          0.7,
          0,
          0,
          0,
          0,
          0.55,
          0.8,
          0.55,
          0.9,
          0.9,
          0.125,
          0.2,
          0.3,
          0.2,
          0.2,
          0.9,
          0,
          0.2,
          0.2,
          0.1,
          0.1833333333333333,
          0.1833333333333333,
          0.1,
          0,
          0,
          0,
          0.2,
          0.2,
          0.2,
          0,
          0.3,
          0.3,
          0.7,
          0.7,
          0.2,
          0.5,
          0.5,
          0.2,
          0,
          0,
          0,
          0.2,
          0.7,
          0.2,
          0.65,
          0.65,
          0.65,
          0,
          0,
          0,
          0.8,
          0.8,
          0.2,
          0,
          0.5666666666666667,
          0.1,
          0.1,
          0.1,
          0.1,
          0,
          0.9,
          0.2,
          0.05,
          0.8,
          0,
          0.1,
          0.9,
          0.2,
          0.3,
          0.85,
          0.275,
          0,
          0.1,
          0.1,
          0.5,
          0.5,
          0,
          0.4,
          0.9,
          0.45,
          0.1,
          0.9,
          0,
          0,
          1,
          0,
          0.5,
          0.76,
          0.2,
          0.2,
          0.2,
          0.2,
          0.1,
          0.1,
          0.1,
          0.3,
          0.3,
          0.1,
          0,
          0,
          0,
          0.3,
          0.9,
          0.3,
          0,
          0.9,
          0,
          0.1,
          0.5,
          0.1,
          0,
          0,
          0,
          0.5,
          0.85,
          0.2,
          0.15,
          0.9,
          0.1,
          0,
          0.8,
          0,
          0.1,
          0.1,
          0.1
         ],
         "z": [
          0.2,
          0.2,
          0.2,
          0.1,
          0.1,
          0.6,
          0.1,
          0.1,
          1,
          0,
          0,
          0.6,
          0.1,
          0.2,
          1,
          0.6,
          1,
          1,
          0.25,
          0.1,
          0.25,
          0,
          0,
          0.825,
          0.1,
          0.2,
          0.7,
          0,
          0.1,
          0.825,
          0.2,
          0.2,
          0.9,
          0.1,
          0.1,
          0.8,
          0.9,
          0.9,
          0.9,
          0.6,
          0.6,
          0.6,
          0,
          0.6,
          0.6,
          0.3,
          0.3,
          0.8,
          0.2,
          0.2,
          0.8,
          0.8,
          0.8,
          0.8,
          0.3,
          0.1,
          0.3,
          0.2333333333333333,
          0.2333333333333333,
          0.2333333333333333,
          0,
          0,
          0,
          0.2,
          0.2,
          0.8,
          0.1,
          0.2,
          0.7,
          0.9,
          0.9,
          0.9,
          0.2,
          0,
          0.3,
          0.15,
          0,
          0.9,
          0.3,
          0,
          0.7,
          0.2333333333333333,
          0.1,
          0.525,
          0.1,
          0.9,
          0.9,
          0.1,
          0.1,
          0.8,
          0,
          0.1,
          0.25,
          0.1,
          0,
          0.8,
          0.4083333333333333,
          0,
          0.8,
          0.2,
          0,
          0.7,
          0.8,
          0.8,
          0.8,
          0.1,
          0.1,
          0.1,
          0.2,
          0.2,
          0.9,
          0.8,
          0.8,
          0.8,
          0.675,
          0.1,
          0.675,
          0.2,
          0.1,
          0.2,
          0.5,
          0.3,
          0.5,
          0.6,
          0.6,
          0.6,
          0.1,
          0,
          0.5,
          0.05,
          0.1,
          0.6,
          0.7,
          0.2,
          0.7,
          0.2,
          0.2,
          0.2
         ]
        },
        {
         "customdata": [
          [
           "Badminton Men's Doubles",
           "Malaysia"
          ],
          [
           "Badminton Men's Doubles",
           "Malaysia"
          ],
          [
           "Badminton Men's Doubles",
           "Great Britain"
          ],
          [
           "Badminton Men's Singles",
           "Denmark"
          ],
          [
           "Badminton Men's Singles",
           "Denmark"
          ],
          [
           "Badminton Men's Singles",
           "Denmark"
          ],
          [
           "Badminton Mixed Doubles",
           "Malaysia"
          ],
          [
           "Badminton Mixed Doubles",
           "Indonesia"
          ],
          [
           "Badminton Mixed Doubles",
           "Malaysia"
          ],
          [
           "Badminton Women's Doubles",
           "South Korea-1"
          ],
          [
           "Badminton Women's Doubles",
           "South Korea-1"
          ],
          [
           "Badminton Women's Doubles",
           "South Korea-1"
          ],
          [
           "Badminton Women's Singles",
           "India"
          ],
          [
           "Badminton Women's Singles",
           "Spain"
          ],
          [
           "Badminton Women's Singles",
           "Japan"
          ]
         ],
         "hovertemplate": "Sport=Badminton<br>Gold=%{x}<br>Silver=%{y}<br>Bronze=%{z}<br>Event=%{customdata[0]}<br>Team=%{customdata[1]}<extra></extra>",
         "legendgroup": "Badminton",
         "marker": {
          "color": "#ab63fa",
          "symbol": "circle"
         },
         "mode": "markers",
         "name": "Badminton",
         "scene": "scene",
         "showlegend": true,
         "type": "scatter3d",
         "x": [
          0.8,
          0.5,
          0.5,
          0.2,
          0.2,
          0.2,
          0.95,
          0.3,
          0.475,
          0.2,
          0.2,
          0,
          0.6,
          0.2,
          0
         ],
         "y": [
          0,
          0.2,
          0.1,
          0.1,
          0.1,
          0.1,
          0.05,
          0.7,
          0.225,
          0.6,
          0.6,
          0.1,
          0.3,
          0.8,
          0.2
         ],
         "z": [
          0.2,
          0.3,
          0.4,
          0.7,
          0.7,
          0.7,
          0,
          0,
          0.3,
          0.2,
          0.2,
          0.9,
          0.1,
          0,
          0.8
         ]
        },
        {
         "customdata": [
          [
           "Basketball Men's Basketball",
           "Serbia"
          ],
          [
           "Basketball Men's Basketball",
           "United States"
          ],
          [
           "Basketball Men's Basketball",
           "Spain"
          ],
          [
           "Basketball Women's Basketball",
           "Spain"
          ],
          [
           "Basketball Women's Basketball",
           "United States"
          ],
          [
           "Basketball Women's Basketball",
           "Serbia"
          ]
         ],
         "hovertemplate": "Sport=Basketball<br>Gold=%{x}<br>Silver=%{y}<br>Bronze=%{z}<br>Event=%{customdata[0]}<br>Team=%{customdata[1]}<extra></extra>",
         "legendgroup": "Basketball",
         "marker": {
          "color": "#FFA15A",
          "symbol": "circle"
         },
         "mode": "markers",
         "name": "Basketball",
         "scene": "scene",
         "showlegend": true,
         "type": "scatter3d",
         "x": [
          1,
          0,
          0,
          0.9,
          0,
          0
         ],
         "y": [
          0,
          1,
          0,
          0,
          0.9,
          0
         ],
         "z": [
          0,
          0,
          1,
          0.1,
          0.1,
          1
         ]
        },
        {
         "customdata": [
          [
           "Beach Volleyball Men's Beach Volleyball",
           "Italy"
          ],
          [
           "Beach Volleyball Men's Beach Volleyball",
           "Brazil-1"
          ],
          [
           "Beach Volleyball Men's Beach Volleyball",
           "Netherlands-1"
          ],
          [
           "Beach Volleyball Women's Beach Volleyball",
           "Brazil-1"
          ],
          [
           "Beach Volleyball Women's Beach Volleyball",
           "Germany-1"
          ],
          [
           "Beach Volleyball Women's Beach Volleyball",
           "Brazil-1"
          ]
         ],
         "hovertemplate": "Sport=Beach Volleyball<br>Gold=%{x}<br>Silver=%{y}<br>Bronze=%{z}<br>Event=%{customdata[0]}<br>Team=%{customdata[1]}<extra></extra>",
         "legendgroup": "Beach Volleyball",
         "marker": {
          "color": "#19d3f3",
          "symbol": "circle"
         },
         "mode": "markers",
         "name": "Beach Volleyball",
         "scene": "scene",
         "showlegend": true,
         "type": "scatter3d",
         "x": [
          1,
          0.2,
          0.2,
          0.7,
          0,
          0.6
         ],
         "y": [
          0,
          0.5,
          0,
          0.2,
          1,
          0.2
         ],
         "z": [
          0,
          0.3,
          0.8,
          0.1,
          0,
          0.2
         ]
        },
        {
         "customdata": [
          [
           "Boxing Men's Bantamweight",
           "United States"
          ],
          [
           "Boxing Men's Bantamweight",
           "Uzbekistan"
          ],
          [
           "Boxing Men's Bantamweight",
           "Russia"
          ],
          [
           "Boxing Men's Featherweight",
           "Brazil"
          ],
          [
           "Boxing Men's Featherweight",
           "Brazil"
          ],
          [
           "Boxing Men's Featherweight",
           "Brazil"
          ],
          [
           "Boxing Men's Flyweight",
           "China"
          ],
          [
           "Boxing Men's Flyweight",
           "Uzbekistan"
          ],
          [
           "Boxing Men's Flyweight",
           "Venezuela"
          ],
          [
           "Boxing Men's Heavyweight",
           "Kazakhstan"
          ],
          [
           "Boxing Men's Heavyweight",
           "Russia"
          ],
          [
           "Boxing Men's Heavyweight",
           "Uzbekistan"
          ],
          [
           "Boxing Men's Light-Flyweight",
           "Colombia"
          ],
          [
           "Boxing Men's Light-Flyweight",
           "Uzbekistan"
          ],
          [
           "Boxing Men's Light-Flyweight",
           "Cuba"
          ],
          [
           "Boxing Men's Light-Heavyweight",
           "Great Britain"
          ],
          [
           "Boxing Men's Light-Heavyweight",
           "Cuba"
          ],
          [
           "Boxing Men's Light-Heavyweight",
           "France"
          ],
          [
           "Boxing Men's Light-Welterweight",
           "Azerbaijan"
          ],
          [
           "Boxing Men's Light-Welterweight",
           "Russia"
          ],
          [
           "Boxing Men's Light-Welterweight",
           "Germany"
          ],
          [
           "Boxing Men's Lightweight",
           "France"
          ],
          [
           "Boxing Men's Lightweight",
           "Uzbekistan"
          ],
          [
           "Boxing Men's Lightweight",
           "Mongolia"
          ],
          [
           "Boxing Men's Middleweight",
           "Uzbekistan"
          ],
          [
           "Boxing Men's Middleweight",
           "Cuba"
          ],
          [
           "Boxing Men's Middleweight",
           "Azerbaijan"
          ],
          [
           "Boxing Men's Super-Heavyweight",
           "France"
          ],
          [
           "Boxing Men's Super-Heavyweight",
           "Great Britain"
          ],
          [
           "Boxing Men's Super-Heavyweight",
           "Croatia"
          ],
          [
           "Boxing Men's Welterweight",
           "Uzbekistan"
          ],
          [
           "Boxing Men's Welterweight",
           "France"
          ],
          [
           "Boxing Men's Welterweight",
           "Morocco"
          ],
          [
           "Boxing Women's Flyweight",
           "France"
          ],
          [
           "Boxing Women's Flyweight",
           "France"
          ],
          [
           "Boxing Women's Flyweight",
           "Colombia"
          ],
          [
           "Boxing Women's Lightweight",
           "China"
          ],
          [
           "Boxing Women's Lightweight",
           "France"
          ],
          [
           "Boxing Women's Lightweight",
           "Russia"
          ],
          [
           "Boxing Women's Middleweight",
           "Netherlands"
          ],
          [
           "Boxing Women's Middleweight",
           "China"
          ],
          [
           "Boxing Women's Middleweight",
           "China"
          ]
         ],
         "hovertemplate": "Sport=Boxing<br>Gold=%{x}<br>Silver=%{y}<br>Bronze=%{z}<br>Event=%{customdata[0]}<br>Team=%{customdata[1]}<extra></extra>",
         "legendgroup": "Boxing",
         "marker": {
          "color": "#FF6692",
          "symbol": "circle"
         },
         "mode": "markers",
         "name": "Boxing",
         "scene": "scene",
         "showlegend": true,
         "type": "scatter3d",
         "x": [
          0.5333333333333333,
          0,
          0.2,
          0.1,
          0.1,
          0.1,
          0.6,
          0,
          0.1,
          0.3,
          0.3,
          0.1,
          0.6,
          0.2,
          0.1,
          0.5,
          0.1,
          0.2,
          0.6,
          0.1,
          0.3,
          0.4,
          0.1,
          0.1,
          0.8,
          0.1,
          0.1,
          0.5,
          0.3,
          0.1,
          0.7,
          0.2,
          0.1,
          0.5,
          0.5,
          0.3,
          0.7,
          0.2,
          0.1,
          0.8,
          0,
          0
         ],
         "y": [
          0.1666666666666666,
          0.6,
          0.1,
          0.8,
          0.8,
          0.8,
          0.2,
          0.8,
          0.1,
          0.3,
          0.55,
          0,
          0.4,
          0.4,
          0.2,
          0,
          0.6,
          0,
          0,
          0.7,
          0.2,
          0.2,
          0.7,
          0.3,
          0,
          0.7,
          0.1,
          0.1,
          0.7,
          0.2,
          0.1,
          0.1,
          0,
          0.2,
          0.2,
          0.1,
          0.1666666666666666,
          0.8,
          0.1,
          0,
          0.1,
          0.1
         ],
         "z": [
          0.3,
          0.4,
          0.7,
          0.1,
          0.1,
          0.1,
          0.2,
          0.2,
          0.8,
          0.4,
          0.15,
          0.9,
          0,
          0.4,
          0.7,
          0.5,
          0.3,
          0.8,
          0.4,
          0.2,
          0.5,
          0.4,
          0.2,
          0.6,
          0.2,
          0.2,
          0.8,
          0.4,
          0,
          0.7,
          0.2,
          0.7,
          0.9,
          0.3,
          0.3,
          0.6,
          0.1333333333333333,
          0,
          0.8,
          0.2,
          0.9,
          0.9
         ]
        },
        {
         "customdata": [
          [
           "Canoeing Men's Canadian Doubles, 1,000 metres",
           "Brazil"
          ],
          [
           "Canoeing Men's Canadian Doubles, 1,000 metres",
           "Germany"
          ],
          [
           "Canoeing Men's Canadian Doubles, 1,000 metres",
           "Ukraine"
          ],
          [
           "Canoeing Men's Canadian Doubles, Slalom",
           "France"
          ],
          [
           "Canoeing Men's Canadian Doubles, Slalom",
           "Slovakia"
          ],
          [
           "Canoeing Men's Canadian Doubles, Slalom",
           "France"
          ],
          [
           "Canoeing Men's Canadian Singles, 1,000 metres",
           "Russia"
          ],
          [
           "Canoeing Men's Canadian Singles, 1,000 metres",
           "Russia"
          ],
          [
           "Canoeing Men's Canadian Singles, 1,000 metres",
           "Russia"
          ],
          [
           "Canoeing Men's Canadian Singles, 200 metres",
           "Azerbaijan"
          ],
          [
           "Canoeing Men's Canadian Singles, 200 metres",
           "Azerbaijan"
          ],
          [
           "Canoeing Men's Canadian Singles, 200 metres",
           "Brazil"
          ],
          [
           "Canoeing Men's Canadian Singles, Slalom",
           "Slovakia"
          ],
          [
           "Canoeing Men's Canadian Singles, Slalom",
           "France"
          ],
          [
           "Canoeing Men's Canadian Singles, Slalom",
           "Japan"
          ],
          [
           "Canoeing Men's Kayak Doubles, 1,000 metres",
           "Australia"
          ],
          [
           "Canoeing Men's Kayak Doubles, 1,000 metres",
           "Germany"
          ],
          [
           "Canoeing Men's Kayak Doubles, 1,000 metres",
           "Australia"
          ],
          [
           "Canoeing Men's Kayak Doubles, 200 metres",
           "Lithuania"
          ],
          [
           "Canoeing Men's Kayak Doubles, 200 metres",
           "Spain"
          ],
          [
           "Canoeing Men's Kayak Doubles, 200 metres",
           "Lithuania"
          ],
          [
           "Canoeing Men's Kayak Fours, 1,000 metres",
           "Slovakia"
          ],
          [
           "Canoeing Men's Kayak Fours, 1,000 metres",
           "Germany"
          ],
          [
           "Canoeing Men's Kayak Fours, 1,000 metres",
           "Slovakia"
          ],
          [
           "Canoeing Men's Kayak Singles, 1,000 metres",
           "Serbia"
          ],
          [
           "Canoeing Men's Kayak Singles, 1,000 metres",
           "Spain"
          ],
          [
           "Canoeing Men's Kayak Singles, 1,000 metres",
           "Russia"
          ],
          [
           "Canoeing Men's Kayak Singles, 200 metres",
           "France"
          ],
          [
           "Canoeing Men's Kayak Singles, 200 metres",
           "France"
          ],
          [
           "Canoeing Men's Kayak Singles, 200 metres",
           "France"
          ],
          [
           "Canoeing Men's Kayak Singles, Slalom",
           "Slovenia"
          ],
          [
           "Canoeing Men's Kayak Singles, Slalom",
           "Great Britain"
          ],
          [
           "Canoeing Men's Kayak Singles, Slalom",
           "Czech Republic"
          ],
          [
           "Canoeing Women's Kayak Fours, 500 metres",
           "Germany"
          ],
          [
           "Canoeing Women's Kayak Fours, 500 metres",
           "Hungary"
          ],
          [
           "Canoeing Women's Kayak Fours, 500 metres",
           "Germany"
          ],
          [
           "Canoeing Women's Kayak Singles, 200 metres",
           "Poland"
          ],
          [
           "Canoeing Women's Kayak Singles, 200 metres",
           "Belarus"
          ],
          [
           "Canoeing Women's Kayak Singles, 200 metres",
           "Belarus"
          ],
          [
           "Canoeing Women's Kayak Singles, 500 metres",
           "Denmark"
          ],
          [
           "Canoeing Women's Kayak Singles, 500 metres",
           "Denmark"
          ],
          [
           "Canoeing Women's Kayak Singles, 500 metres",
           "Denmark"
          ],
          [
           "Canoeing Women's Kayak Singles, Slalom",
           "New Zealand"
          ],
          [
           "Canoeing Women's Kayak Singles, Slalom",
           "New Zealand"
          ],
          [
           "Canoeing Women's Kayak Singles, Slalom",
           "New Zealand"
          ]
         ],
         "hovertemplate": "Sport=Canoeing<br>Gold=%{x}<br>Silver=%{y}<br>Bronze=%{z}<br>Event=%{customdata[0]}<br>Team=%{customdata[1]}<extra></extra>",
         "legendgroup": "Canoeing",
         "marker": {
          "color": "#B6E880",
          "symbol": "circle"
         },
         "mode": "markers",
         "name": "Canoeing",
         "scene": "scene",
         "showlegend": true,
         "type": "scatter3d",
         "x": [
          0.4,
          0.1,
          0.1,
          0.4,
          0.2,
          0.2,
          0.3,
          0.3,
          0.3,
          1,
          1,
          0.8,
          0.7,
          0.4,
          0.2,
          0.2,
          0,
          0.2,
          0.3,
          0,
          0.1,
          0.8,
          0,
          0.7,
          0.6,
          0,
          0.2,
          0.8,
          0.8,
          0.8,
          0.6,
          0.1,
          0.2,
          0.9,
          0.4,
          0.8,
          0.7,
          0.1,
          0.1,
          0.8,
          0.8,
          0.8,
          0.6,
          0.6,
          0.6
         ],
         "y": [
          0.4,
          0.9,
          0,
          0,
          0.8,
          0.1,
          0,
          0,
          0,
          0,
          0,
          0,
          0.2,
          0.6,
          0,
          0.4,
          1,
          0.4,
          0.2,
          0.9,
          0.1,
          0.2,
          1,
          0.1,
          0.3,
          1,
          0.3,
          0.1,
          0.1,
          0.1,
          0.3,
          0.8,
          0,
          0,
          0.6,
          0,
          0.1,
          0.1,
          0.1,
          0.1,
          0.1,
          0.1,
          0,
          0,
          0
         ],
         "z": [
          0.2,
          0,
          0.9,
          0.6,
          0,
          0.7,
          0.7,
          0.7,
          0.7,
          0,
          0,
          0.2,
          0.1,
          0,
          0.8,
          0.4,
          0,
          0.4,
          0.5,
          0.1,
          0.8,
          0,
          0,
          0.2,
          0.1,
          0,
          0.5,
          0.1,
          0.1,
          0.1,
          0.1,
          0.1,
          0.8,
          0.1,
          0,
          0.2,
          0.2,
          0.8,
          0.8,
          0.1,
          0.1,
          0.1,
          0.4,
          0.4,
          0.4
         ]
        },
        {
         "customdata": [
          [
           "Cycling Men's 1,000 metres Time Trial",
           "France"
          ],
          [
           "Cycling Men's 1,000 metres Time Trial",
           "France"
          ],
          [
           "Cycling Men's 1,000 metres Time Trial",
           "France"
          ],
          [
           "Cycling Men's BMX",
           "Netherlands"
          ],
          [
           "Cycling Men's BMX",
           "United States"
          ],
          [
           "Cycling Men's BMX",
           "Colombia"
          ],
          [
           "Cycling Men's Keirin",
           "Netherlands"
          ],
          [
           "Cycling Men's Keirin",
           "Netherlands"
          ],
          [
           "Cycling Men's Keirin",
           "Netherlands"
          ],
          [
           "Cycling Men's Madison",
           "Great Britain"
          ],
          [
           "Cycling Men's Madison",
           "Great Britain"
          ],
          [
           "Cycling Men's Madison",
           "Great Britain"
          ],
          [
           "Cycling Men's Mountainbike, Cross-Country",
           "Denmark"
          ],
          [
           "Cycling Men's Mountainbike, Cross-Country",
           "Spain"
          ],
          [
           "Cycling Men's Mountainbike, Cross-Country",
           "Spain"
          ],
          [
           "Cycling Men's Road Race, Individual",
           "Belgium"
          ],
          [
           "Cycling Men's Road Race, Individual",
           "Poland"
          ],
          [
           "Cycling Men's Road Race, Individual",
           "Netherlands"
          ],
          [
           "Cycling Men's Sprint",
           "New Zealand"
          ],
          [
           "Cycling Men's Sprint",
           "Great Britain"
          ],
          [
           "Cycling Men's Sprint",
           "Russia"
          ],
          [
           "Cycling Men's Team Pursuit, 4,000 metres",
           "Australia"
          ],
          [
           "Cycling Men's Team Pursuit, 4,000 metres",
           "Great Britain"
          ],
          [
           "Cycling Men's Team Pursuit, 4,000 metres",
           "Denmark"
          ],
          [
           "Cycling Men's Team Sprint",
           "New Zealand"
          ],
          [
           "Cycling Men's Team Sprint",
           "New Zealand"
          ],
          [
           "Cycling Men's Team Sprint",
           "New Zealand"
          ],
          [
           "Cycling Women's BMX",
           "United States"
          ],
          [
           "Cycling Women's BMX",
           "United States"
          ],
          [
           "Cycling Women's BMX",
           "Venezuela"
          ],
          [
           "Cycling Women's Mountainbike, Cross-Country",
           "Canada"
          ],
          [
           "Cycling Women's Mountainbike, Cross-Country",
           "Sweden"
          ],
          [
           "Cycling Women's Mountainbike, Cross-Country",
           "Canada"
          ],
          [
           "Cycling Women's Omnium",
           "Belgium"
          ],
          [
           "Cycling Women's Omnium",
           "Belgium"
          ],
          [
           "Cycling Women's Omnium",
           "Belgium"
          ],
          [
           "Cycling Women's Road Race, Individual",
           "Italy"
          ],
          [
           "Cycling Women's Road Race, Individual",
           "Netherlands"
          ],
          [
           "Cycling Women's Road Race, Individual",
           "Italy"
          ],
          [
           "Cycling Women's Sprint",
           "Great Britain"
          ],
          [
           "Cycling Women's Sprint",
           "Netherlands"
          ],
          [
           "Cycling Women's Sprint",
           "Great Britain"
          ],
          [
           "Cycling Women's Team Pursuit",
           "United States"
          ],
          [
           "Cycling Women's Team Pursuit",
           "Great Britain"
          ],
          [
           "Cycling Women's Team Pursuit",
           "Canada"
          ]
         ],
         "hovertemplate": "Sport=Cycling<br>Gold=%{x}<br>Silver=%{y}<br>Bronze=%{z}<br>Event=%{customdata[0]}<br>Team=%{customdata[1]}<extra></extra>",
         "legendgroup": "Cycling",
         "marker": {
          "color": "#FF97FF",
          "symbol": "circle"
         },
         "mode": "markers",
         "name": "Cycling",
         "scene": "scene",
         "showlegend": true,
         "type": "scatter3d",
         "x": [
          0.6,
          0.6,
          0.6,
          0.9,
          0,
          0.5,
          0.8,
          0.8,
          0.8,
          0.5,
          0.5,
          0.5,
          0.9,
          0.6,
          0.6,
          0.6,
          0.3,
          0.5,
          0.8,
          0.35,
          0.1,
          0.9666666666666666,
          0.1,
          0.1,
          0.6,
          0.6,
          0.6,
          0.5599999999999999,
          0.5599999999999999,
          0,
          0.1,
          0.1,
          0.1,
          0.2,
          0.2,
          0.2,
          0.2,
          0,
          0.2,
          1,
          0.1,
          0.1,
          0.85,
          0,
          0
         ],
         "y": [
          0.2,
          0.2,
          0.2,
          0,
          1,
          0.3,
          0.2,
          0.2,
          0.2,
          0.4,
          0.4,
          0.4,
          0,
          0.1,
          0.1,
          0.2,
          0.3,
          0,
          0.1,
          0.45,
          0.1,
          0.0333333333333333,
          0.9,
          0,
          0.1,
          0.1,
          0.1,
          0.44,
          0.44,
          0.1,
          0.1,
          0.8,
          0.1,
          0.1,
          0.1,
          0.1,
          0,
          0.5,
          0,
          0,
          0.8,
          0.2,
          0.15,
          0.8,
          0.1
         ],
         "z": [
          0.2,
          0.2,
          0.2,
          0.1,
          0,
          0.2,
          0,
          0,
          0,
          0.1,
          0.1,
          0.1,
          0.1,
          0.3,
          0.3,
          0.2,
          0.4,
          0.5,
          0.1,
          0.2,
          0.8,
          0,
          0,
          0.9,
          0.3,
          0.3,
          0.3,
          0,
          0,
          0.9,
          0.8,
          0.1,
          0.8,
          0.7,
          0.7,
          0.7,
          0.8,
          0.5,
          0.8,
          0,
          0.1,
          0.7,
          0,
          0.2,
          0.9
         ]
        },
        {
         "customdata": [
          [
           "Diving Men's Platform",
           "United States"
          ],
          [
           "Diving Men's Platform",
           "China"
          ],
          [
           "Diving Men's Platform",
           "China"
          ],
          [
           "Diving Men's Springboard",
           "United States"
          ],
          [
           "Diving Men's Springboard",
           "Great Britain"
          ],
          [
           "Diving Men's Springboard",
           "Great Britain"
          ],
          [
           "Diving Men's Synchronized Platform",
           "Great Britain"
          ],
          [
           "Diving Men's Synchronized Platform",
           "Great Britain"
          ],
          [
           "Diving Men's Synchronized Platform",
           "Great Britain"
          ],
          [
           "Diving Men's Synchronized Springboard",
           "United States"
          ],
          [
           "Diving Men's Synchronized Springboard",
           "United States"
          ],
          [
           "Diving Men's Synchronized Springboard",
           "United States"
          ],
          [
           "Diving Women's Platform",
           "China"
          ],
          [
           "Diving Women's Platform",
           "China"
          ],
          [
           "Diving Women's Platform",
           "China"
          ],
          [
           "Diving Women's Springboard",
           "Malaysia"
          ],
          [
           "Diving Women's Springboard",
           "China"
          ],
          [
           "Diving Women's Springboard",
           "Australia"
          ],
          [
           "Diving Women's Synchronized Platform",
           "China"
          ],
          [
           "Diving Women's Synchronized Platform",
           "China"
          ],
          [
           "Diving Women's Synchronized Platform",
           "China"
          ],
          [
           "Diving Women's Synchronized Springboard",
           "Italy"
          ],
          [
           "Diving Women's Synchronized Springboard",
           "Australia"
          ],
          [
           "Diving Women's Synchronized Springboard",
           "Australia"
          ]
         ],
         "hovertemplate": "Sport=Diving<br>Gold=%{x}<br>Silver=%{y}<br>Bronze=%{z}<br>Event=%{customdata[0]}<br>Team=%{customdata[1]}<extra></extra>",
         "legendgroup": "Diving",
         "marker": {
          "color": "#FECB52",
          "symbol": "circle"
         },
         "mode": "markers",
         "name": "Diving",
         "scene": "scene",
         "showlegend": true,
         "type": "scatter3d",
         "x": [
          1,
          0.3,
          0.3,
          0.9,
          0.45,
          0,
          0,
          0,
          0,
          1,
          1,
          1,
          0.3,
          0,
          0.3,
          0.8,
          0.05,
          0,
          0.1,
          0.1,
          0.1,
          0.8166666666666667,
          0.1,
          0.1
         ],
         "y": [
          0,
          0.025,
          0.025,
          0.1,
          0.55,
          0.5,
          0.1,
          0.1,
          0.1,
          0,
          0,
          0,
          0.4,
          0.8,
          0.4,
          0.1,
          0.95,
          0,
          0.8,
          0.8,
          0.8,
          0,
          0.1,
          0.1
         ],
         "z": [
          0,
          0.675,
          0.675,
          0,
          0,
          0.5,
          0.9,
          0.9,
          0.9,
          0,
          0,
          0,
          0.3,
          0.2,
          0.3,
          0.1,
          0,
          1,
          0.1,
          0.1,
          0.1,
          0.1833333333333333,
          0.8,
          0.8
         ]
        },
        {
         "customdata": [
          [
           "Equestrianism Mixed Dressage, Individual",
           "Great Britain"
          ],
          [
           "Equestrianism Mixed Dressage, Individual",
           "Germany"
          ],
          [
           "Equestrianism Mixed Dressage, Individual",
           "United States"
          ],
          [
           "Equestrianism Mixed Jumping, Individual",
           "United States"
          ],
          [
           "Equestrianism Mixed Jumping, Individual",
           "France"
          ],
          [
           "Equestrianism Mixed Jumping, Individual",
           "Germany"
          ],
          [
           "Equestrianism Mixed Three-Day Event, Individual",
           "Germany"
          ],
          [
           "Equestrianism Mixed Three-Day Event, Individual",
           "France"
          ],
          [
           "Equestrianism Mixed Three-Day Event, Individual",
           "Australia"
          ]
         ],
         "hovertemplate": "Sport=Equestrianism<br>Gold=%{x}<br>Silver=%{y}<br>Bronze=%{z}<br>Event=%{customdata[0]}<br>Team=%{customdata[1]}<extra></extra>",
         "legendgroup": "Equestrianism",
         "marker": {
          "color": "#636efa",
          "symbol": "circle"
         },
         "mode": "markers",
         "name": "Equestrianism",
         "scene": "scene",
         "showlegend": true,
         "type": "scatter3d",
         "x": [
          0.7,
          0.3,
          0,
          0.8,
          0,
          0,
          0.9,
          0,
          0.2
         ],
         "y": [
          0.1,
          0.7,
          0.1,
          0.1,
          0.9,
          0.1,
          0,
          1,
          0
         ],
         "z": [
          0.2,
          0,
          0.9,
          0.1,
          0.1,
          0.9,
          0.1,
          0,
          0.8
         ]
        },
        {
         "customdata": [
          [
           "Fencing Men's Foil, Individual",
           "France"
          ],
          [
           "Fencing Men's Foil, Individual",
           "Italy"
          ],
          [
           "Fencing Men's Foil, Individual",
           "United States"
          ],
          [
           "Fencing Men's Foil, Team",
           "France"
          ],
          [
           "Fencing Men's Foil, Team",
           "France"
          ],
          [
           "Fencing Men's Foil, Team",
           "France"
          ],
          [
           "Fencing Men's Sabre, Individual",
           "United States"
          ],
          [
           "Fencing Men's Sabre, Individual",
           "United States"
          ],
          [
           "Fencing Men's Sabre, Individual",
           "United States"
          ],
          [
           "Fencing Men's epee, Individual",
           "Italy"
          ],
          [
           "Fencing Men's epee, Individual",
           "France"
          ],
          [
           "Fencing Men's epee, Individual",
           "Italy"
          ],
          [
           "Fencing Men's epee, Team",
           "Italy"
          ],
          [
           "Fencing Men's epee, Team",
           "France"
          ],
          [
           "Fencing Men's epee, Team",
           "Hungary"
          ],
          [
           "Fencing Women's Foil, Individual",
           "Tunisia"
          ],
          [
           "Fencing Women's Foil, Individual",
           "Tunisia"
          ],
          [
           "Fencing Women's Foil, Individual",
           "Tunisia"
          ],
          [
           "Fencing Women's Sabre, Individual",
           "Ukraine"
          ],
          [
           "Fencing Women's Sabre, Individual",
           "Russia"
          ],
          [
           "Fencing Women's Sabre, Individual",
           "United States"
          ],
          [
           "Fencing Women's Sabre, Team",
           "Ukraine"
          ],
          [
           "Fencing Women's Sabre, Team",
           "United States"
          ],
          [
           "Fencing Women's Sabre, Team",
           "United States"
          ],
          [
           "Fencing Women's epee, Individual",
           "Italy"
          ],
          [
           "Fencing Women's epee, Individual",
           "Hungary"
          ],
          [
           "Fencing Women's epee, Individual",
           "Russia"
          ],
          [
           "Fencing Women's epee, Team",
           "China"
          ],
          [
           "Fencing Women's epee, Team",
           "Romania"
          ],
          [
           "Fencing Women's epee, Team",
           "China"
          ]
         ],
         "hovertemplate": "Sport=Fencing<br>Gold=%{x}<br>Silver=%{y}<br>Bronze=%{z}<br>Event=%{customdata[0]}<br>Team=%{customdata[1]}<extra></extra>",
         "legendgroup": "Fencing",
         "marker": {
          "color": "#EF553B",
          "symbol": "circle"
         },
         "mode": "markers",
         "name": "Fencing",
         "scene": "scene",
         "showlegend": true,
         "type": "scatter3d",
         "x": [
          0.9,
          0.1,
          0.2,
          0.8,
          0.8,
          0.8,
          0.8,
          0.8,
          0.8,
          0.9,
          0.3,
          0.2,
          0.8,
          0.1,
          0.2,
          0.1,
          0.1,
          0.1,
          0.6,
          0,
          0,
          0.5,
          0.05,
          0.05,
          0.9,
          0.1,
          0,
          0.9,
          0,
          0.9
         ],
         "y": [
          0,
          0.9,
          0,
          0.1,
          0.1,
          0.1,
          0.2,
          0.2,
          0.2,
          0,
          0.7,
          0.4,
          0.1,
          0.7,
          0,
          0.25,
          0.25,
          0.25,
          0,
          1,
          0.2,
          0.2,
          0.25,
          0.25,
          0,
          0.9,
          0.1,
          0,
          1,
          0
         ],
         "z": [
          0.1,
          0,
          0.8,
          0.1,
          0.1,
          0.1,
          0,
          0,
          0,
          0.1,
          0,
          0.4,
          0.1,
          0.2,
          0.8,
          0.65,
          0.65,
          0.65,
          0.4,
          0,
          0.8,
          0.3,
          0.7,
          0.7,
          0.1,
          0,
          0.9,
          0.1,
          0,
          0.1
         ]
        },
        {
         "customdata": [
          [
           "Football Men's Football",
           "Germany"
          ],
          [
           "Football Men's Football",
           "Brazil"
          ],
          [
           "Football Men's Football",
           "Nigeria"
          ],
          [
           "Football Women's Football",
           "Sweden"
          ],
          [
           "Football Women's Football",
           "Germany"
          ],
          [
           "Football Women's Football",
           "Canada"
          ]
         ],
         "hovertemplate": "Sport=Football<br>Gold=%{x}<br>Silver=%{y}<br>Bronze=%{z}<br>Event=%{customdata[0]}<br>Team=%{customdata[1]}<extra></extra>",
         "legendgroup": "Football",
         "marker": {
          "color": "#00cc96",
          "symbol": "circle"
         },
         "mode": "markers",
         "name": "Football",
         "scene": "scene",
         "showlegend": true,
         "type": "scatter3d",
         "x": [
          1,
          0,
          0,
          1,
          0,
          0
         ],
         "y": [
          0,
          1,
          0.1,
          0,
          1,
          0
         ],
         "z": [
          0,
          0,
          0.9,
          0,
          0,
          1
         ]
        },
        {
         "customdata": [
          [
           "Golf Men's Individual",
           "Sweden"
          ],
          [
           "Golf Men's Individual",
           "United States"
          ],
          [
           "Golf Men's Individual",
           "United States"
          ],
          [
           "Golf Women's Individual",
           "China"
          ],
          [
           "Golf Women's Individual",
           "South Korea"
          ],
          [
           "Golf Women's Individual",
           "China"
          ]
         ],
         "hovertemplate": "Sport=Golf<br>Gold=%{x}<br>Silver=%{y}<br>Bronze=%{z}<br>Event=%{customdata[0]}<br>Team=%{customdata[1]}<extra></extra>",
         "legendgroup": "Golf",
         "marker": {
          "color": "#ab63fa",
          "symbol": "circle"
         },
         "mode": "markers",
         "name": "Golf",
         "scene": "scene",
         "showlegend": true,
         "type": "scatter3d",
         "x": [
          0.7,
          0.1,
          0.1,
          0.3,
          0.1,
          0.3
         ],
         "y": [
          0.2,
          0.3,
          0.3,
          0.3,
          0.8,
          0.3
         ],
         "z": [
          0.1,
          0.6,
          0.6,
          0.4,
          0.1,
          0.4
         ]
        },
        {
         "customdata": [
          [
           "Gymnastics Men's Horse Vault",
           "North Korea"
          ],
          [
           "Gymnastics Men's Horse Vault",
           "North Korea"
          ],
          [
           "Gymnastics Men's Horse Vault",
           "North Korea"
          ],
          [
           "Gymnastics Men's Individual All-Around",
           "Russia"
          ],
          [
           "Gymnastics Men's Individual All-Around",
           "Ukraine"
          ],
          [
           "Gymnastics Men's Individual All-Around",
           "China"
          ],
          [
           "Gymnastics Men's Rings",
           "Greece"
          ],
          [
           "Gymnastics Men's Rings",
           "Greece"
          ],
          [
           "Gymnastics Men's Rings",
           "Greece"
          ],
          [
           "Gymnastics Men's Team All-Around",
           "Russia"
          ],
          [
           "Gymnastics Men's Team All-Around",
           "Japan"
          ],
          [
           "Gymnastics Men's Team All-Around",
           "China"
          ],
          [
           "Gymnastics Women's Individual All-Around",
           "Russia"
          ],
          [
           "Gymnastics Women's Individual All-Around",
           "United States"
          ],
          [
           "Gymnastics Women's Individual All-Around",
           "China"
          ],
          [
           "Gymnastics Women's Team All-Around",
           "United States"
          ],
          [
           "Gymnastics Women's Team All-Around",
           "Netherlands"
          ],
          [
           "Gymnastics Women's Team All-Around",
           "China"
          ]
         ],
         "hovertemplate": "Sport=Gymnastics<br>Gold=%{x}<br>Silver=%{y}<br>Bronze=%{z}<br>Event=%{customdata[0]}<br>Team=%{customdata[1]}<extra></extra>",
         "legendgroup": "Gymnastics",
         "marker": {
          "color": "#FFA15A",
          "symbol": "circle"
         },
         "mode": "markers",
         "name": "Gymnastics",
         "scene": "scene",
         "showlegend": true,
         "type": "scatter3d",
         "x": [
          0.1,
          0.1,
          0.1,
          0.7,
          0.2,
          0,
          0.1,
          0.1,
          0.1,
          0.8,
          0.4,
          0.1,
          0.8,
          0,
          0.1,
          0.7,
          0,
          0
         ],
         "y": [
          0.9,
          0.9,
          0.9,
          0.3,
          0.5,
          0,
          0.9,
          0.9,
          0.9,
          0.1,
          0.6,
          0,
          0,
          0.5788095238095238,
          0,
          0.1,
          0.8,
          0
         ],
         "z": [
          0,
          0,
          0,
          0,
          0.3,
          1,
          0,
          0,
          0,
          0.1,
          0,
          0.9,
          0.2,
          0.4211904761904762,
          0.9,
          0.2,
          0.2,
          1
         ]
        },
        {
         "customdata": [
          [
           "Handball Men's Handball",
           "France"
          ],
          [
           "Handball Men's Handball",
           "Denmark"
          ],
          [
           "Handball Men's Handball",
           "Germany"
          ],
          [
           "Handball Women's Handball",
           "France"
          ],
          [
           "Handball Women's Handball",
           "Russia"
          ],
          [
           "Handball Women's Handball",
           "Norway"
          ]
         ],
         "hovertemplate": "Sport=Handball<br>Gold=%{x}<br>Silver=%{y}<br>Bronze=%{z}<br>Event=%{customdata[0]}<br>Team=%{customdata[1]}<extra></extra>",
         "legendgroup": "Handball",
         "marker": {
          "color": "#19d3f3",
          "symbol": "circle"
         },
         "mode": "markers",
         "name": "Handball",
         "scene": "scene",
         "showlegend": true,
         "type": "scatter3d",
         "x": [
          1,
          0,
          0.1,
          1,
          0,
          0
         ],
         "y": [
          0,
          1,
          0,
          0,
          0.9,
          0
         ],
         "z": [
          0,
          0,
          0.9,
          0,
          0.1,
          1
         ]
        },
        {
         "customdata": [
          [
           "Hockey Men's Hockey",
           "Belgium"
          ],
          [
           "Hockey Men's Hockey",
           "Argentina"
          ],
          [
           "Hockey Men's Hockey",
           "Germany"
          ],
          [
           "Hockey Women's Hockey",
           "Netherlands"
          ],
          [
           "Hockey Women's Hockey",
           "Great Britain"
          ],
          [
           "Hockey Women's Hockey",
           "Germany"
          ]
         ],
         "hovertemplate": "Sport=Hockey<br>Gold=%{x}<br>Silver=%{y}<br>Bronze=%{z}<br>Event=%{customdata[0]}<br>Team=%{customdata[1]}<extra></extra>",
         "legendgroup": "Hockey",
         "marker": {
          "color": "#FF6692",
          "symbol": "circle"
         },
         "mode": "markers",
         "name": "Hockey",
         "scene": "scene",
         "showlegend": true,
         "type": "scatter3d",
         "x": [
          1,
          0,
          0,
          0.9,
          0,
          0.1
         ],
         "y": [
          0,
          1,
          0,
          0.1,
          1,
          0
         ],
         "z": [
          0,
          0,
          1,
          0,
          0,
          0.9
         ]
        },
        {
         "customdata": [
          [
           "Judo Men's Extra-Lightweight",
           "Kazakhstan"
          ],
          [
           "Judo Men's Extra-Lightweight",
           "Russia"
          ],
          [
           "Judo Men's Extra-Lightweight",
           "Uzbekistan"
          ],
          [
           "Judo Men's Half-Heavyweight",
           "Japan"
          ],
          [
           "Judo Men's Half-Heavyweight",
           "Czech Republic"
          ],
          [
           "Judo Men's Half-Heavyweight",
           "France"
          ],
          [
           "Judo Men's Half-Lightweight",
           "South Korea"
          ],
          [
           "Judo Men's Half-Lightweight",
           "Italy"
          ],
          [
           "Judo Men's Half-Lightweight",
           "South Korea"
          ],
          [
           "Judo Men's Half-Middleweight",
           "United States"
          ],
          [
           "Judo Men's Half-Middleweight",
           "Russia"
          ],
          [
           "Judo Men's Half-Middleweight",
           "Japan"
          ],
          [
           "Judo Men's Heavyweight",
           "Japan"
          ],
          [
           "Judo Men's Heavyweight",
           "Israel"
          ],
          [
           "Judo Men's Heavyweight",
           "Israel"
          ],
          [
           "Judo Men's Lightweight",
           "Azerbaijan"
          ],
          [
           "Judo Men's Lightweight",
           "Japan"
          ],
          [
           "Judo Men's Lightweight",
           "Moldova"
          ],
          [
           "Judo Men's Middleweight",
           "Georgia"
          ],
          [
           "Judo Men's Middleweight",
           "Japan"
          ],
          [
           "Judo Men's Middleweight",
           "China"
          ],
          [
           "Judo Women's Extra-Lightweight",
           "South Korea"
          ],
          [
           "Judo Women's Extra-Lightweight",
           "South Korea"
          ],
          [
           "Judo Women's Extra-Lightweight",
           "Japan"
          ],
          [
           "Judo Women's Half-Heavyweight",
           "Slovenia"
          ],
          [
           "Judo Women's Half-Heavyweight",
           "Slovenia"
          ],
          [
           "Judo Women's Half-Heavyweight",
           "Slovenia"
          ],
          [
           "Judo Women's Half-Lightweight",
           "Italy"
          ],
          [
           "Judo Women's Half-Lightweight",
           "Albania"
          ],
          [
           "Judo Women's Half-Lightweight",
           "Russia"
          ],
          [
           "Judo Women's Half-Middleweight",
           "France"
          ],
          [
           "Judo Women's Half-Middleweight",
           "Slovenia"
          ],
          [
           "Judo Women's Half-Middleweight",
           "Israel"
          ],
          [
           "Judo Women's Heavyweight",
           "Japan"
          ],
          [
           "Judo Women's Heavyweight",
           "France"
          ],
          [
           "Judo Women's Heavyweight",
           "China"
          ],
          [
           "Judo Women's Lightweight",
           "Mongolia"
          ],
          [
           "Judo Women's Lightweight",
           "Brazil"
          ],
          [
           "Judo Women's Lightweight",
           "Mongolia"
          ],
          [
           "Judo Women's Middleweight",
           "Japan"
          ],
          [
           "Judo Women's Middleweight",
           "Japan"
          ],
          [
           "Judo Women's Middleweight",
           "Germany"
          ]
         ],
         "hovertemplate": "Sport=Judo<br>Gold=%{x}<br>Silver=%{y}<br>Bronze=%{z}<br>Event=%{customdata[0]}<br>Team=%{customdata[1]}<extra></extra>",
         "legendgroup": "Judo",
         "marker": {
          "color": "#B6E880",
          "symbol": "circle"
         },
         "mode": "markers",
         "name": "Judo",
         "scene": "scene",
         "showlegend": true,
         "type": "scatter3d",
         "x": [
          0.9,
          0,
          0.1,
          0.4,
          0.2,
          0.4,
          0.6,
          0.4,
          0.6,
          0.3666666666666666,
          0.1,
          0,
          0.8,
          0.3,
          0.3,
          0.9,
          0.2,
          0.1,
          0.8,
          0.1,
          0,
          0.4,
          0.4,
          0.1,
          0,
          0,
          0,
          0.7,
          0.1,
          0.1,
          0.8,
          0.1,
          0,
          0.2,
          0.1,
          0.1,
          0.8,
          0.1,
          0.8,
          0.1,
          0.1,
          0
         ],
         "y": [
          0.1,
          0.9,
          0,
          0.3,
          0.7,
          0.1,
          0.2,
          0.4,
          0.2,
          0.4,
          0.7,
          0.2,
          0,
          0.3,
          0.3,
          0,
          0.1,
          0.1,
          0.0333333333333333,
          0.7,
          0.2,
          0.3,
          0.3,
          0.025,
          0,
          0,
          0,
          0,
          0.8,
          0.1,
          0.1,
          0.7,
          0.1,
          0,
          0.7,
          0,
          0,
          0.9,
          0,
          0.7,
          0.7,
          0.1
         ],
         "z": [
          0,
          0.1,
          0.9,
          0.3,
          0.1,
          0.5,
          0.2,
          0.2,
          0.2,
          0.2333333333333333,
          0.2,
          0.8,
          0.2,
          0.4,
          0.4,
          0.1,
          0.7,
          0.8,
          0.1666666666666666,
          0.2,
          0.8,
          0.3,
          0.3,
          0.875,
          1,
          1,
          1,
          0.3,
          0.1,
          0.8,
          0.1,
          0.2,
          0.9,
          0.8,
          0.2,
          0.9,
          0.2,
          0,
          0.2,
          0.2,
          0.2,
          0.9
         ]
        },
        {
         "customdata": [
          [
           "Modern Pentathlon Men's Individual",
           "Ukraine"
          ],
          [
           "Modern Pentathlon Men's Individual",
           "Russia"
          ],
          [
           "Modern Pentathlon Men's Individual",
           "Mexico"
          ],
          [
           "Modern Pentathlon Women's Individual",
           "France"
          ],
          [
           "Modern Pentathlon Women's Individual",
           "Poland"
          ],
          [
           "Modern Pentathlon Women's Individual",
           "Australia"
          ]
         ],
         "hovertemplate": "Sport=Modern Pentathlon<br>Gold=%{x}<br>Silver=%{y}<br>Bronze=%{z}<br>Event=%{customdata[0]}<br>Team=%{customdata[1]}<extra></extra>",
         "legendgroup": "Modern Pentathlon",
         "marker": {
          "color": "#FF97FF",
          "symbol": "circle"
         },
         "mode": "markers",
         "name": "Modern Pentathlon",
         "scene": "scene",
         "showlegend": true,
         "type": "scatter3d",
         "x": [
          0.7,
          0.1,
          0.4,
          0.9,
          0.1,
          0.1
         ],
         "y": [
          0.1,
          0.8,
          0,
          0.1,
          0.3,
          0.2
         ],
         "z": [
          0.2,
          0.1,
          0.6,
          0,
          0.6,
          0.7
         ]
        },
        {
         "customdata": [
          [
           "Rhythmic Gymnastics Women's Group",
           "Spain"
          ],
          [
           "Rhythmic Gymnastics Women's Group",
           "Russia"
          ],
          [
           "Rhythmic Gymnastics Women's Group",
           "Bulgaria"
          ],
          [
           "Rhythmic Gymnastics Women's Individual",
           "Ukraine"
          ],
          [
           "Rhythmic Gymnastics Women's Individual",
           "Russia"
          ],
          [
           "Rhythmic Gymnastics Women's Individual",
           "Ukraine"
          ]
         ],
         "hovertemplate": "Sport=Rhythmic Gymnastics<br>Gold=%{x}<br>Silver=%{y}<br>Bronze=%{z}<br>Event=%{customdata[0]}<br>Team=%{customdata[1]}<extra></extra>",
         "legendgroup": "Rhythmic Gymnastics",
         "marker": {
          "color": "#FECB52",
          "symbol": "circle"
         },
         "mode": "markers",
         "name": "Rhythmic Gymnastics",
         "scene": "scene",
         "showlegend": true,
         "type": "scatter3d",
         "x": [
          1,
          0,
          0,
          0.2,
          0,
          0.2
         ],
         "y": [
          0,
          1,
          0,
          0,
          1,
          0
         ],
         "z": [
          0,
          0,
          1,
          0.8,
          0,
          0.8
         ]
        },
        {
         "customdata": [
          [
           "Rowing Men's Coxed Eights",
           "Australia"
          ],
          [
           "Rowing Men's Coxed Eights",
           "Great Britain"
          ],
          [
           "Rowing Men's Coxed Eights",
           "Netherlands"
          ],
          [
           "Rowing Men's Coxless Fours",
           "Australia"
          ],
          [
           "Rowing Men's Coxless Fours",
           "Netherlands"
          ],
          [
           "Rowing Men's Coxless Fours",
           "Italy"
          ],
          [
           "Rowing Men's Coxless Pairs",
           "South Africa"
          ],
          [
           "Rowing Men's Coxless Pairs",
           "Germany"
          ],
          [
           "Rowing Men's Coxless Pairs",
           "Italy"
          ],
          [
           "Rowing Men's Double Sculls",
           "Lithuania"
          ],
          [
           "Rowing Men's Double Sculls",
           "Lithuania"
          ],
          [
           "Rowing Men's Double Sculls",
           "Norway"
          ],
          [
           "Rowing Men's Lightweight Coxless Fours",
           "Denmark"
          ],
          [
           "Rowing Men's Lightweight Coxless Fours",
           "Switzerland"
          ],
          [
           "Rowing Men's Lightweight Coxless Fours",
           "France"
          ],
          [
           "Rowing Men's Lightweight Double Sculls",
           "Ireland"
          ],
          [
           "Rowing Men's Lightweight Double Sculls",
           "France"
          ],
          [
           "Rowing Men's Lightweight Double Sculls",
           "Norway"
          ],
          [
           "Rowing Men's Quadruple Sculls",
           "Australia"
          ],
          [
           "Rowing Men's Quadruple Sculls",
           "Germany"
          ],
          [
           "Rowing Men's Quadruple Sculls",
           "Estonia"
          ],
          [
           "Rowing Men's Single Sculls",
           "Lithuania"
          ],
          [
           "Rowing Men's Single Sculls",
           "Lithuania"
          ],
          [
           "Rowing Men's Single Sculls",
           "Lithuania"
          ],
          [
           "Rowing Women's Coxed Eights",
           "Great Britain"
          ],
          [
           "Rowing Women's Coxed Eights",
           "United States"
          ],
          [
           "Rowing Women's Coxed Eights",
           "Romania"
          ],
          [
           "Rowing Women's Coxless Pairs",
           "New Zealand"
          ],
          [
           "Rowing Women's Coxless Pairs",
           "New Zealand"
          ],
          [
           "Rowing Women's Coxless Pairs",
           "Denmark"
          ],
          [
           "Rowing Women's Double Sculls",
           "Netherlands"
          ],
          [
           "Rowing Women's Double Sculls",
           "Lithuania"
          ],
          [
           "Rowing Women's Double Sculls",
           "Romania"
          ],
          [
           "Rowing Women's Lightweight Double Sculls",
           "Canada"
          ],
          [
           "Rowing Women's Lightweight Double Sculls",
           "Netherlands"
          ],
          [
           "Rowing Women's Lightweight Double Sculls",
           "China"
          ],
          [
           "Rowing Women's Quadruple Sculls",
           "Netherlands"
          ],
          [
           "Rowing Women's Quadruple Sculls",
           "Poland"
          ],
          [
           "Rowing Women's Quadruple Sculls",
           "Poland"
          ],
          [
           "Rowing Women's Single Sculls",
           "United States"
          ],
          [
           "Rowing Women's Single Sculls",
           "Lithuania"
          ],
          [
           "Rowing Women's Single Sculls",
           "China"
          ]
         ],
         "hovertemplate": "Sport=Rowing<br>Gold=%{x}<br>Silver=%{y}<br>Bronze=%{z}<br>Event=%{customdata[0]}<br>Team=%{customdata[1]}<extra></extra>",
         "legendgroup": "Rowing",
         "marker": {
          "color": "#636efa",
          "symbol": "circle"
         },
         "mode": "markers",
         "name": "Rowing",
         "scene": "scene",
         "showlegend": true,
         "type": "scatter3d",
         "x": [
          0.9,
          0,
          0,
          0.9,
          0.1,
          0.1,
          0.9,
          0.1,
          0,
          0.7,
          0.7,
          0.1,
          0.7,
          0.1,
          0,
          0.9,
          0.4,
          0,
          0.9,
          0.3,
          0,
          0.6,
          0.6,
          0.6,
          1,
          0,
          0,
          0.4,
          0.4,
          0,
          0.7,
          0.1,
          0,
          0.7,
          0.1,
          0.1,
          0.9,
          0,
          0,
          0.9,
          0.25,
          0
         ],
         "y": [
          0.1,
          1,
          0,
          0,
          0.3,
          0,
          0,
          0.5,
          0,
          0.2,
          0.2,
          0,
          0.1,
          0.8,
          0,
          0.1,
          0.6,
          0,
          0,
          0.7,
          0.1,
          0.3,
          0.3,
          0.3,
          0,
          1,
          0.1,
          0.25,
          0.25,
          0,
          0.2,
          0.3666666666666666,
          0.1,
          0.1,
          0.8,
          0.1,
          0,
          0.7,
          0.1,
          0,
          0.15,
          0
         ],
         "z": [
          0,
          0,
          1,
          0.1,
          0.6,
          0.9,
          0.1,
          0.4,
          1,
          0.1,
          0.1,
          0.9,
          0.2,
          0.1,
          1,
          0,
          0,
          1,
          0.1,
          0,
          0.9,
          0.1,
          0.1,
          0.1,
          0,
          0,
          0.9,
          0.35,
          0.35,
          1,
          0.1,
          0.5333333333333333,
          0.9,
          0.2,
          0.1,
          0.8,
          0.1,
          0.3,
          0.9,
          0.1,
          0.6,
          1
         ]
        },
        {
         "customdata": [
          [
           "Rugby Sevens Men's Rugby Sevens",
           "Great Britain"
          ],
          [
           "Rugby Sevens Men's Rugby Sevens",
           "Fiji"
          ],
          [
           "Rugby Sevens Men's Rugby Sevens",
           "South Africa"
          ],
          [
           "Rugby Sevens Women's Rugby Sevens",
           "New Zealand"
          ],
          [
           "Rugby Sevens Women's Rugby Sevens",
           "Australia"
          ],
          [
           "Rugby Sevens Women's Rugby Sevens",
           "Canada"
          ]
         ],
         "hovertemplate": "Sport=Rugby Sevens<br>Gold=%{x}<br>Silver=%{y}<br>Bronze=%{z}<br>Event=%{customdata[0]}<br>Team=%{customdata[1]}<extra></extra>",
         "legendgroup": "Rugby Sevens",
         "marker": {
          "color": "#EF553B",
          "symbol": "circle"
         },
         "mode": "markers",
         "name": "Rugby Sevens",
         "scene": "scene",
         "showlegend": true,
         "type": "scatter3d",
         "x": [
          1,
          0,
          0,
          1,
          0,
          0
         ],
         "y": [
          0,
          1,
          0,
          0,
          1,
          0
         ],
         "z": [
          0,
          0,
          1,
          0,
          0,
          1
         ]
        },
        {
         "customdata": [
          [
           "Sailing Men's One Person Dinghy",
           "Croatia"
          ],
          [
           "Sailing Men's One Person Dinghy",
           "Australia"
          ],
          [
           "Sailing Men's One Person Dinghy",
           "New Zealand"
          ],
          [
           "Sailing Men's One Person Heavyweight Dinghy",
           "United States"
          ],
          [
           "Sailing Men's One Person Heavyweight Dinghy",
           "Great Britain"
          ],
          [
           "Sailing Men's One Person Heavyweight Dinghy",
           "United States"
          ],
          [
           "Sailing Men's Skiff",
           "Germany"
          ],
          [
           "Sailing Men's Skiff",
           "Germany"
          ],
          [
           "Sailing Men's Skiff",
           "Germany"
          ],
          [
           "Sailing Men's Two Person Dinghy",
           "Australia"
          ],
          [
           "Sailing Men's Two Person Dinghy",
           "Croatia"
          ],
          [
           "Sailing Men's Two Person Dinghy",
           "Greece"
          ],
          [
           "Sailing Men's Windsurfer",
           "France"
          ],
          [
           "Sailing Men's Windsurfer",
           "France"
          ],
          [
           "Sailing Men's Windsurfer",
           "France"
          ],
          [
           "Sailing Mixed Multihull",
           "Australia"
          ],
          [
           "Sailing Mixed Multihull",
           "Australia"
          ],
          [
           "Sailing Mixed Multihull",
           "Austria"
          ],
          [
           "Sailing Women's One Person Dinghy",
           "Ireland"
          ],
          [
           "Sailing Women's One Person Dinghy",
           "Argentina"
          ],
          [
           "Sailing Women's One Person Dinghy",
           "Denmark"
          ],
          [
           "Sailing Women's Skiff",
           "New Zealand"
          ],
          [
           "Sailing Women's Skiff",
           "Brazil"
          ],
          [
           "Sailing Women's Skiff",
           "Denmark"
          ],
          [
           "Sailing Women's Two Person Dinghy",
           "France"
          ],
          [
           "Sailing Women's Two Person Dinghy",
           "France"
          ],
          [
           "Sailing Women's Two Person Dinghy",
           "France"
          ],
          [
           "Sailing Women's Windsurfer",
           "China"
          ],
          [
           "Sailing Women's Windsurfer",
           "France"
          ],
          [
           "Sailing Women's Windsurfer",
           "Russia"
          ]
         ],
         "hovertemplate": "Sport=Sailing<br>Gold=%{x}<br>Silver=%{y}<br>Bronze=%{z}<br>Event=%{customdata[0]}<br>Team=%{customdata[1]}<extra></extra>",
         "legendgroup": "Sailing",
         "marker": {
          "color": "#00cc96",
          "symbol": "circle"
         },
         "mode": "markers",
         "name": "Sailing",
         "scene": "scene",
         "showlegend": true,
         "type": "scatter3d",
         "x": [
          0.9,
          0.1,
          0.2,
          0.1,
          0,
          0.1,
          0.1,
          0.1,
          0.1,
          0.8,
          0.1,
          0.1,
          0.1,
          0.1,
          0.1,
          0.9,
          0.9,
          0,
          0.65,
          0.2,
          0,
          0.9,
          0.1,
          0.1,
          0.5,
          0.2,
          0.2,
          0.9,
          0.2,
          0.6
         ],
         "y": [
          0.1,
          0.9,
          0,
          0.1,
          1,
          0.1,
          0.2,
          0.2,
          0.1,
          0.1,
          0.9,
          0.1,
          0.1,
          0.1,
          0.1,
          0.1,
          0.1,
          0,
          0.15,
          0.8,
          0.4,
          0,
          0.8,
          0,
          0,
          0.2,
          0.2,
          0.1,
          0.8,
          0.3
         ],
         "z": [
          0,
          0,
          0.8,
          0.8,
          0,
          0.8,
          0.7,
          0.7,
          0.8,
          0.1,
          0,
          0.8,
          0.8,
          0.8,
          0.8,
          0,
          0,
          1,
          0.2,
          0,
          0.6,
          0.1,
          0.1,
          0.9,
          0.5,
          0.6,
          0.6,
          0,
          0,
          0.1
         ]
        },
        {
         "customdata": [
          [
           "Shooting Men's Air Pistol, 10 metres",
           "Vietnam"
          ],
          [
           "Shooting Men's Air Pistol, 10 metres",
           "Brazil"
          ],
          [
           "Shooting Men's Air Pistol, 10 metres",
           "North Korea"
          ],
          [
           "Shooting Men's Air Rifle, 10 metres",
           "Russia"
          ],
          [
           "Shooting Men's Air Rifle, 10 metres",
           "Ukraine"
          ],
          [
           "Shooting Men's Air Rifle, 10 metres",
           "Russia"
          ],
          [
           "Shooting Men's Double Trap",
           "Italy"
          ],
          [
           "Shooting Men's Double Trap",
           "Great Britain"
          ],
          [
           "Shooting Men's Double Trap",
           "Great Britain"
          ],
          [
           "Shooting Men's Rapid-Fire Pistol, 25 metres",
           "France"
          ],
          [
           "Shooting Men's Rapid-Fire Pistol, 25 metres",
           "China"
          ],
          [
           "Shooting Men's Rapid-Fire Pistol, 25 metres",
           "China"
          ],
          [
           "Shooting Men's Skeet",
           "Sweden"
          ],
          [
           "Shooting Men's Skeet",
           "Italy"
          ],
          [
           "Shooting Men's Skeet",
           "Kuwait"
          ],
          [
           "Shooting Men's Small-Bore Rifle, Prone, 50 metres",
           "Germany"
          ],
          [
           "Shooting Men's Small-Bore Rifle, Prone, 50 metres",
           "Germany"
          ],
          [
           "Shooting Men's Small-Bore Rifle, Prone, 50 metres",
           "Russia"
          ],
          [
           "Shooting Men's Small-Bore Rifle, Three Positions, 50 metres",
           "France"
          ],
          [
           "Shooting Men's Small-Bore Rifle, Three Positions, 50 metres",
           "France"
          ],
          [
           "Shooting Men's Small-Bore Rifle, Three Positions, 50 metres",
           "France"
          ],
          [
           "Shooting Men's Trap",
           "Croatia"
          ],
          [
           "Shooting Men's Trap",
           "Croatia"
          ],
          [
           "Shooting Men's Trap",
           "Great Britain"
          ],
          [
           "Shooting Women's Air Pistol, 10 metres",
           "Germany"
          ],
          [
           "Shooting Women's Air Pistol, 10 metres",
           "China"
          ],
          [
           "Shooting Women's Air Pistol, 10 metres",
           "Switzerland"
          ],
          [
           "Shooting Women's Air Rifle, 10 metres",
           "United States"
          ],
          [
           "Shooting Women's Air Rifle, 10 metres",
           "United States"
          ],
          [
           "Shooting Women's Air Rifle, 10 metres",
           "United States"
          ],
          [
           "Shooting Women's Skeet",
           "Italy"
          ],
          [
           "Shooting Women's Skeet",
           "Italy"
          ],
          [
           "Shooting Women's Skeet",
           "Italy"
          ],
          [
           "Shooting Women's Small-Bore Rifle, Three Positions, 50 metres",
           "China"
          ],
          [
           "Shooting Women's Small-Bore Rifle, Three Positions, 50 metres",
           "Germany"
          ],
          [
           "Shooting Women's Small-Bore Rifle, Three Positions, 50 metres",
           "Germany"
          ],
          [
           "Shooting Women's Trap",
           "New Zealand"
          ],
          [
           "Shooting Women's Trap",
           "Australia"
          ],
          [
           "Shooting Women's Trap",
           "New Zealand"
          ]
         ],
         "hovertemplate": "Sport=Shooting<br>Gold=%{x}<br>Silver=%{y}<br>Bronze=%{z}<br>Event=%{customdata[0]}<br>Team=%{customdata[1]}<extra></extra>",
         "legendgroup": "Shooting",
         "marker": {
          "color": "#ab63fa",
          "symbol": "circle"
         },
         "mode": "markers",
         "name": "Shooting",
         "scene": "scene",
         "showlegend": true,
         "type": "scatter3d",
         "x": [
          0.8,
          0.7,
          0,
          0.9333333333333332,
          0.8,
          0.4,
          0.8,
          0.5,
          0.5,
          0.8,
          0.1,
          0.1,
          0.7,
          0,
          0.2,
          0.3,
          0.3,
          0,
          0.1,
          0.1,
          0.1,
          0.4,
          0.4,
          0.2,
          0.8,
          0,
          0.2,
          0.1,
          0.1,
          0.1,
          0.3,
          0.3,
          0.3,
          0.8,
          0,
          0,
          0.8,
          0,
          0.8
         ],
         "y": [
          0.1,
          0.2,
          0.1,
          0.0666666666666666,
          0.1,
          0,
          0.2,
          0.3,
          0.3,
          0.1,
          0.1,
          0.1,
          0,
          1,
          0,
          0.2,
          0.2,
          0,
          0,
          0,
          0,
          0.4,
          0.4,
          0.1,
          0.2,
          0.8,
          0.0666666666666666,
          0.9,
          0.9,
          0.9,
          0.6,
          0.6,
          0.6,
          0,
          0.6,
          0.6,
          0,
          0.8,
          0
         ],
         "z": [
          0.1,
          0.1,
          0.9,
          0,
          0.1,
          0.6,
          0,
          0.2,
          0.2,
          0.1,
          0.8,
          0.8,
          0.3,
          0,
          0.8,
          0.5,
          0.5,
          1,
          0.9,
          0.9,
          0.9,
          0.2,
          0.2,
          0.7,
          0,
          0.2,
          0.7333333333333333,
          0,
          0,
          0,
          0.1,
          0.1,
          0.1,
          0.2,
          0.4,
          0.4,
          0.2,
          0.2,
          0.2
         ]
        },
        {
         "customdata": [
          [
           "Swimming Men's 1,500 metres Freestyle",
           "United States"
          ],
          [
           "Swimming Men's 1,500 metres Freestyle",
           "Italy"
          ],
          [
           "Swimming Men's 1,500 metres Freestyle",
           "Italy"
          ],
          [
           "Swimming Men's 10 kilometres Open Water",
           "Netherlands"
          ],
          [
           "Swimming Men's 10 kilometres Open Water",
           "Netherlands"
          ],
          [
           "Swimming Men's 10 kilometres Open Water",
           "France"
          ],
          [
           "Swimming Men's 100 metres Backstroke",
           "Great Britain"
          ],
          [
           "Swimming Men's 100 metres Backstroke",
           "United States"
          ],
          [
           "Swimming Men's 100 metres Backstroke",
           "United States"
          ],
          [
           "Swimming Men's 100 metres Breaststroke",
           "Great Britain"
          ],
          [
           "Swimming Men's 100 metres Breaststroke",
           "United States"
          ],
          [
           "Swimming Men's 100 metres Breaststroke",
           "United States"
          ],
          [
           "Swimming Men's 100 metres Butterfly",
           "Singapore"
          ],
          [
           "Swimming Men's 100 metres Butterfly",
           "United States"
          ],
          [
           "Swimming Men's 100 metres Butterfly",
           "Australia"
          ],
          [
           "Swimming Men's 100 metres Freestyle",
           "Belgium"
          ],
          [
           "Swimming Men's 100 metres Freestyle",
           "United States"
          ],
          [
           "Swimming Men's 100 metres Freestyle",
           "Australia"
          ],
          [
           "Swimming Men's 200 metres Backstroke",
           "China"
          ],
          [
           "Swimming Men's 200 metres Backstroke",
           "China"
          ],
          [
           "Swimming Men's 200 metres Backstroke",
           "Australia"
          ],
          [
           "Swimming Men's 200 metres Breaststroke",
           "Russia"
          ],
          [
           "Swimming Men's 200 metres Breaststroke",
           "United States"
          ],
          [
           "Swimming Men's 200 metres Breaststroke",
           "Russia"
          ],
          [
           "Swimming Men's 200 metres Butterfly",
           "Japan"
          ],
          [
           "Swimming Men's 200 metres Butterfly",
           "Japan"
          ],
          [
           "Swimming Men's 200 metres Butterfly",
           "Hungary"
          ],
          [
           "Swimming Men's 200 metres Freestyle",
           "Great Britain"
          ],
          [
           "Swimming Men's 200 metres Freestyle",
           "United States"
          ],
          [
           "Swimming Men's 200 metres Freestyle",
           "United States"
          ],
          [
           "Swimming Men's 200 metres Individual Medley",
           "China"
          ],
          [
           "Swimming Men's 200 metres Individual Medley",
           "China"
          ],
          [
           "Swimming Men's 200 metres Individual Medley",
           "China"
          ],
          [
           "Swimming Men's 4 x 100 metres Freestyle Relay",
           "France"
          ],
          [
           "Swimming Men's 4 x 100 metres Freestyle Relay",
           "United States"
          ],
          [
           "Swimming Men's 4 x 100 metres Freestyle Relay",
           "Australia"
          ],
          [
           "Swimming Men's 4 x 200 metres Freestyle Relay",
           "Great Britain"
          ],
          [
           "Swimming Men's 4 x 200 metres Freestyle Relay",
           "United States"
          ],
          [
           "Swimming Men's 4 x 200 metres Freestyle Relay",
           "Japan"
          ],
          [
           "Swimming Men's 400 metres Freestyle",
           "Greece"
          ],
          [
           "Swimming Men's 400 metres Freestyle",
           "Great Britain"
          ],
          [
           "Swimming Men's 400 metres Freestyle",
           "Japan"
          ],
          [
           "Swimming Men's 400 metres Individual Medley",
           "United States"
          ],
          [
           "Swimming Men's 400 metres Individual Medley",
           "United States"
          ],
          [
           "Swimming Men's 400 metres Individual Medley",
           "United States"
          ],
          [
           "Swimming Men's 50 metres Freestyle",
           "Australia"
          ],
          [
           "Swimming Men's 50 metres Freestyle",
           "Australia"
          ],
          [
           "Swimming Men's 50 metres Freestyle",
           "Australia"
          ],
          [
           "Swimming Women's 10 kilometres Open Water",
           "Italy"
          ],
          [
           "Swimming Women's 10 kilometres Open Water",
           "Brazil"
          ],
          [
           "Swimming Women's 10 kilometres Open Water",
           "Brazil"
          ],
          [
           "Swimming Women's 100 metres Backstroke",
           "China"
          ],
          [
           "Swimming Women's 100 metres Backstroke",
           "Netherlands"
          ],
          [
           "Swimming Women's 100 metres Backstroke",
           "Canada"
          ],
          [
           "Swimming Women's 100 metres Breaststroke",
           "Australia"
          ],
          [
           "Swimming Women's 100 metres Breaststroke",
           "United States"
          ],
          [
           "Swimming Women's 100 metres Breaststroke",
           "Denmark"
          ],
          [
           "Swimming Women's 100 metres Butterfly",
           "Australia"
          ],
          [
           "Swimming Women's 100 metres Butterfly",
           "United States"
          ],
          [
           "Swimming Women's 100 metres Butterfly",
           "Canada"
          ],
          [
           "Swimming Women's 100 metres Freestyle",
           "Canada"
          ],
          [
           "Swimming Women's 100 metres Freestyle",
           "Canada"
          ],
          [
           "Swimming Women's 100 metres Freestyle",
           "Canada"
          ],
          [
           "Swimming Women's 200 metres Backstroke",
           "Canada"
          ],
          [
           "Swimming Women's 200 metres Backstroke",
           "Canada"
          ],
          [
           "Swimming Women's 200 metres Backstroke",
           "Canada"
          ],
          [
           "Swimming Women's 200 metres Breaststroke",
           "Japan"
          ],
          [
           "Swimming Women's 200 metres Breaststroke",
           "Japan"
          ],
          [
           "Swimming Women's 200 metres Breaststroke",
           "Japan"
          ],
          [
           "Swimming Women's 200 metres Freestyle",
           "Australia"
          ],
          [
           "Swimming Women's 200 metres Freestyle",
           "Hungary"
          ],
          [
           "Swimming Women's 200 metres Freestyle",
           "Hungary"
          ],
          [
           "Swimming Women's 4 x 100 metres Freestyle Relay",
           "Australia"
          ],
          [
           "Swimming Women's 4 x 100 metres Freestyle Relay",
           "Australia"
          ],
          [
           "Swimming Women's 4 x 100 metres Freestyle Relay",
           "Canada"
          ],
          [
           "Swimming Women's 4 x 200 metres Freestyle Relay",
           "Australia"
          ],
          [
           "Swimming Women's 4 x 200 metres Freestyle Relay",
           "United States"
          ],
          [
           "Swimming Women's 4 x 200 metres Freestyle Relay",
           "Canada"
          ],
          [
           "Swimming Women's 400 metres Freestyle",
           "Great Britain"
          ],
          [
           "Swimming Women's 400 metres Freestyle",
           "United States"
          ],
          [
           "Swimming Women's 400 metres Freestyle",
           "Canada"
          ],
          [
           "Swimming Women's 50 metres Freestyle",
           "United States"
          ],
          [
           "Swimming Women's 50 metres Freestyle",
           "Australia"
          ],
          [
           "Swimming Women's 50 metres Freestyle",
           "Canada"
          ],
          [
           "Swimming Women's 800 metres Freestyle",
           "Australia"
          ],
          [
           "Swimming Women's 800 metres Freestyle",
           "Australia"
          ],
          [
           "Swimming Women's 800 metres Freestyle",
           "Australia"
          ]
         ],
         "hovertemplate": "Sport=Swimming<br>Gold=%{x}<br>Silver=%{y}<br>Bronze=%{z}<br>Event=%{customdata[0]}<br>Team=%{customdata[1]}<extra></extra>",
         "legendgroup": "Swimming",
         "marker": {
          "color": "#FFA15A",
          "symbol": "circle"
         },
         "mode": "markers",
         "name": "Swimming",
         "scene": "scene",
         "showlegend": true,
         "type": "scatter3d",
         "x": [
          0.6,
          0.1,
          0,
          0.4,
          0.4,
          0,
          0.7,
          0,
          0.02,
          0.4,
          0.2,
          0.1,
          0.5,
          0.1,
          0.3,
          1,
          0.1,
          0.1,
          0.85,
          0.85,
          0,
          0.2,
          0.2,
          0.2,
          0.7,
          0.7,
          0.2,
          0.9,
          0.05,
          0.05,
          0,
          0,
          0,
          0.8,
          0,
          0.175,
          0.9,
          0.05,
          0.2,
          0.7,
          0.7,
          0.1,
          0.6,
          0.6,
          0.6,
          0.3,
          0.3,
          0.3,
          0.6,
          0.2,
          0.2,
          0.6,
          0,
          0.15,
          0.975,
          0.075,
          0.4,
          0.975,
          0.2,
          0.3,
          0.2783333333333333,
          0.2783333333333333,
          0.2783333333333333,
          0.3,
          0.3,
          0.3,
          0,
          0,
          0,
          0.8916666666666666,
          0.265,
          0.265,
          0.325,
          0.325,
          0.1,
          0.7,
          0,
          0,
          0.9,
          0.125,
          0,
          0.5650000000000001,
          0.1,
          0,
          0.9,
          0.9,
          0.9
         ],
         "y": [
          0.1,
          0.8,
          0,
          0.3,
          0.3,
          0.1,
          0,
          1,
          0.2799999999999999,
          0.6,
          0.75,
          0.1,
          0.4,
          0.6,
          0.0333333333333333,
          0,
          0.9,
          0,
          0.05,
          0.05,
          0,
          0.1,
          0.2,
          0.1,
          0.1,
          0.1,
          0,
          0.1,
          0.85,
          0.85,
          0.2,
          0.2,
          0.2,
          0.2,
          1,
          0.025,
          0.1,
          0.85,
          0.05,
          0.1,
          0.3,
          0,
          0.35,
          0.35,
          0.35,
          0,
          0,
          0,
          0,
          0.2333333333333333,
          0.2333333333333333,
          0.2,
          1,
          0.025,
          0.025,
          0.925,
          0,
          0.025,
          0.7,
          0.2,
          0.335,
          0.335,
          0.335,
          0,
          0,
          0,
          0.7,
          0.7,
          0.7,
          0.1083333333333333,
          0.735,
          0.735,
          0.675,
          0.675,
          0,
          0.2,
          1,
          0.1,
          0,
          0.4983333333333332,
          0,
          0.435,
          0.8,
          0.1,
          0.1,
          0.1,
          0.1
         ],
         "z": [
          0.3,
          0.1,
          1,
          0.3,
          0.3,
          0.9,
          0.3,
          0,
          0.7,
          0,
          0.05,
          0.8,
          0.1,
          0.3,
          0.6666666666666666,
          0,
          0,
          0.9,
          0.1,
          0.1,
          1,
          0.7,
          0.6,
          0.7,
          0.2,
          0.2,
          0.8,
          0,
          0.1,
          0.1,
          0.8,
          0.8,
          0.8,
          0,
          0,
          0.8,
          0,
          0.1,
          0.75,
          0.2,
          0,
          0.9,
          0.05,
          0.05,
          0.05,
          0.7,
          0.7,
          0.7,
          0.4,
          0.5666666666666667,
          0.5666666666666667,
          0.2,
          0,
          0.825,
          0,
          0,
          0.6,
          0,
          0.1,
          0.5,
          0.3866666666666667,
          0.3866666666666667,
          0.3866666666666667,
          0.7,
          0.7,
          0.7,
          0.3,
          0.3,
          0.3,
          0,
          0,
          0,
          0,
          0,
          0.9,
          0.1,
          0,
          0.9,
          0.1,
          0.3766666666666666,
          1,
          0,
          0.1,
          0.9,
          0,
          0,
          0
         ]
        },
        {
         "customdata": [
          [
           "Synchronized Swimming Women's Duet",
           "Japan"
          ],
          [
           "Synchronized Swimming Women's Duet",
           "Japan"
          ],
          [
           "Synchronized Swimming Women's Duet",
           "Japan"
          ],
          [
           "Synchronized Swimming Women's Team",
           "China"
          ],
          [
           "Synchronized Swimming Women's Team",
           "Russia"
          ],
          [
           "Synchronized Swimming Women's Team",
           "Japan"
          ]
         ],
         "hovertemplate": "Sport=Synchronized Swimming<br>Gold=%{x}<br>Silver=%{y}<br>Bronze=%{z}<br>Event=%{customdata[0]}<br>Team=%{customdata[1]}<extra></extra>",
         "legendgroup": "Synchronized Swimming",
         "marker": {
          "color": "#19d3f3",
          "symbol": "circle"
         },
         "mode": "markers",
         "name": "Synchronized Swimming",
         "scene": "scene",
         "showlegend": true,
         "type": "scatter3d",
         "x": [
          0.1,
          0.1,
          0.1,
          1,
          0,
          0
         ],
         "y": [
          0,
          0,
          0,
          0,
          1,
          0
         ],
         "z": [
          0.9,
          0.9,
          0.9,
          0,
          0,
          1
         ]
        },
        {
         "customdata": [
          [
           "Table Tennis Men's Singles",
           "Japan"
          ],
          [
           "Table Tennis Men's Singles",
           "Japan"
          ],
          [
           "Table Tennis Men's Singles",
           "Japan"
          ],
          [
           "Table Tennis Men's Team",
           "Japan"
          ],
          [
           "Table Tennis Men's Team",
           "China"
          ],
          [
           "Table Tennis Men's Team",
           "Japan"
          ],
          [
           "Table Tennis Women's Singles",
           "Germany"
          ],
          [
           "Table Tennis Women's Singles",
           "Germany"
          ],
          [
           "Table Tennis Women's Singles",
           "North Korea"
          ],
          [
           "Table Tennis Women's Team",
           "Germany"
          ],
          [
           "Table Tennis Women's Team",
           "China"
          ],
          [
           "Table Tennis Women's Team",
           "Japan"
          ]
         ],
         "hovertemplate": "Sport=Table Tennis<br>Gold=%{x}<br>Silver=%{y}<br>Bronze=%{z}<br>Event=%{customdata[0]}<br>Team=%{customdata[1]}<extra></extra>",
         "legendgroup": "Table Tennis",
         "marker": {
          "color": "#FF6692",
          "symbol": "circle"
         },
         "mode": "markers",
         "name": "Table Tennis",
         "scene": "scene",
         "showlegend": true,
         "type": "scatter3d",
         "x": [
          0,
          0,
          0,
          0.8,
          0.1,
          0.8,
          0.9,
          0.9,
          0.2,
          0.8,
          0.18,
          0.3
         ],
         "y": [
          0.1,
          0.1,
          0.1,
          0,
          0.8,
          0,
          0.1,
          0.1,
          0,
          0.1,
          0.82,
          0.225
         ],
         "z": [
          0.9,
          0.9,
          0.9,
          0.2,
          0.1,
          0.2,
          0,
          0,
          0.8,
          0.1,
          0,
          0.475
         ]
        },
        {
         "customdata": [
          [
           "Taekwondo Men's Featherweight",
           "Jordan"
          ],
          [
           "Taekwondo Men's Featherweight",
           "Jordan"
          ],
          [
           "Taekwondo Men's Featherweight",
           "Jordan"
          ],
          [
           "Taekwondo Men's Flyweight",
           "Thailand"
          ],
          [
           "Taekwondo Men's Flyweight",
           "China"
          ],
          [
           "Taekwondo Men's Flyweight",
           "South Korea"
          ],
          [
           "Taekwondo Men's Heavyweight",
           "Niger"
          ],
          [
           "Taekwondo Men's Heavyweight",
           "Brazil"
          ],
          [
           "Taekwondo Men's Heavyweight",
           "Azerbaijan"
          ],
          [
           "Taekwondo Men's Welterweight",
           "Cote d'Ivoire"
          ],
          [
           "Taekwondo Men's Welterweight",
           "Cote d'Ivoire"
          ],
          [
           "Taekwondo Men's Welterweight",
           "Azerbaijan"
          ],
          [
           "Taekwondo Women's Featherweight",
           "Spain"
          ],
          [
           "Taekwondo Women's Featherweight",
           "Iran"
          ],
          [
           "Taekwondo Women's Featherweight",
           "Egypt"
          ],
          [
           "Taekwondo Women's Flyweight",
           "Serbia"
          ],
          [
           "Taekwondo Women's Flyweight",
           "South Korea"
          ],
          [
           "Taekwondo Women's Flyweight",
           "Thailand"
          ],
          [
           "Taekwondo Women's Heavyweight",
           "United States"
          ],
          [
           "Taekwondo Women's Heavyweight",
           "China"
          ],
          [
           "Taekwondo Women's Heavyweight",
           "United States"
          ],
          [
           "Taekwondo Women's Welterweight",
           "France"
          ],
          [
           "Taekwondo Women's Welterweight",
           "South Korea"
          ],
          [
           "Taekwondo Women's Welterweight",
           "Cote d'Ivoire"
          ]
         ],
         "hovertemplate": "Sport=Taekwondo<br>Gold=%{x}<br>Silver=%{y}<br>Bronze=%{z}<br>Event=%{customdata[0]}<br>Team=%{customdata[1]}<extra></extra>",
         "legendgroup": "Taekwondo",
         "marker": {
          "color": "#B6E880",
          "symbol": "circle"
         },
         "mode": "markers",
         "name": "Taekwondo",
         "scene": "scene",
         "showlegend": true,
         "type": "scatter3d",
         "x": [
          0.1,
          0.1,
          0.1,
          0.8,
          0.1,
          0.1,
          1,
          0,
          0.1,
          0.2,
          0.2,
          0,
          0.9,
          0.3,
          0.2,
          0.9,
          0.225,
          0.1,
          0.2,
          0,
          0.2,
          0.6,
          0.1,
          0.1
         ],
         "y": [
          0.8,
          0.8,
          0.8,
          0,
          0.6,
          0.2,
          0,
          0.6,
          0.5,
          0.7,
          0.7,
          0,
          0,
          0.2,
          0.2,
          0,
          0.775,
          0,
          0.1,
          0.9,
          0.1,
          0.2,
          0.7,
          0.25
         ],
         "z": [
          0.1,
          0.1,
          0.1,
          0.2,
          0.3,
          0.7,
          0,
          0.4,
          0.4,
          0.1,
          0.1,
          1,
          0.1,
          0.5,
          0.6,
          0.1,
          0,
          0.9,
          0.7,
          0.1,
          0.7,
          0.2,
          0.2,
          0.65
         ]
        },
        {
         "customdata": [
          [
           "Tennis Men's Doubles",
           "Romania"
          ],
          [
           "Tennis Men's Doubles",
           "Spain-2"
          ],
          [
           "Tennis Men's Doubles",
           "Spain-2"
          ],
          [
           "Tennis Men's Singles",
           "Japan"
          ],
          [
           "Tennis Men's Singles",
           "United States"
          ],
          [
           "Tennis Men's Singles",
           "United States"
          ],
          [
           "Tennis Mixed Doubles",
           "United States-1"
          ],
          [
           "Tennis Mixed Doubles",
           "United States-2"
          ],
          [
           "Tennis Mixed Doubles",
           "United States-2"
          ],
          [
           "Tennis Women's Doubles",
           "Russia-2"
          ],
          [
           "Tennis Women's Doubles",
           "Russia-2"
          ],
          [
           "Tennis Women's Doubles",
           "Czech Republic-1"
          ],
          [
           "Tennis Women's Singles",
           "Switzerland"
          ],
          [
           "Tennis Women's Singles",
           "Switzerland"
          ],
          [
           "Tennis Women's Singles",
           "Czech Republic"
          ]
         ],
         "hovertemplate": "Sport=Tennis<br>Gold=%{x}<br>Silver=%{y}<br>Bronze=%{z}<br>Event=%{customdata[0]}<br>Team=%{customdata[1]}<extra></extra>",
         "legendgroup": "Tennis",
         "marker": {
          "color": "#FF97FF",
          "symbol": "circle"
         },
         "mode": "markers",
         "name": "Tennis",
         "scene": "scene",
         "showlegend": true,
         "type": "scatter3d",
         "x": [
          0.8,
          0.3,
          0.3,
          0.6,
          0.1,
          0.1,
          0.7,
          0.1,
          0.1,
          0.2,
          0.2,
          0.1,
          0.9,
          0.1,
          0.2
         ],
         "y": [
          0.1,
          0.4,
          0.4,
          0,
          0.3,
          0.3,
          0.3,
          0.8,
          0.8,
          0.8,
          0.8,
          0,
          0.1,
          0.9,
          0
         ],
         "z": [
          0.1,
          0.3,
          0.3,
          0.4,
          0.6,
          0.6,
          0,
          0.1,
          0.1,
          0,
          0,
          0.9,
          0,
          0,
          0.8
         ]
        },
        {
         "customdata": [
          [
           "Trampolining Men's Individual",
           "Belarus"
          ],
          [
           "Trampolining Men's Individual",
           "Belarus"
          ],
          [
           "Trampolining Men's Individual",
           "China"
          ],
          [
           "Trampolining Women's Individual",
           "Great Britain"
          ],
          [
           "Trampolining Women's Individual",
           "China"
          ],
          [
           "Trampolining Women's Individual",
           "China"
          ]
         ],
         "hovertemplate": "Sport=Trampolining<br>Gold=%{x}<br>Silver=%{y}<br>Bronze=%{z}<br>Event=%{customdata[0]}<br>Team=%{customdata[1]}<extra></extra>",
         "legendgroup": "Trampolining",
         "marker": {
          "color": "#FECB52",
          "symbol": "circle"
         },
         "mode": "markers",
         "name": "Trampolining",
         "scene": "scene",
         "showlegend": true,
         "type": "scatter3d",
         "x": [
          0.2,
          0.2,
          0,
          0.8,
          0.1,
          0.1
         ],
         "y": [
          0.7,
          0.7,
          0,
          0.1,
          0.6,
          0.6
         ],
         "z": [
          0.1,
          0.1,
          1,
          0.1,
          0.3,
          0.3
         ]
        },
        {
         "customdata": [
          [
           "Triathlon Men's Olympic Distance",
           "South Africa"
          ],
          [
           "Triathlon Men's Olympic Distance",
           "South Africa"
          ],
          [
           "Triathlon Men's Olympic Distance",
           "South Africa"
          ],
          [
           "Triathlon Women's Olympic Distance",
           "United States"
          ],
          [
           "Triathlon Women's Olympic Distance",
           "Great Britain"
          ],
          [
           "Triathlon Women's Olympic Distance",
           "Great Britain"
          ]
         ],
         "hovertemplate": "Sport=Triathlon<br>Gold=%{x}<br>Silver=%{y}<br>Bronze=%{z}<br>Event=%{customdata[0]}<br>Team=%{customdata[1]}<extra></extra>",
         "legendgroup": "Triathlon",
         "marker": {
          "color": "#636efa",
          "symbol": "circle"
         },
         "mode": "markers",
         "name": "Triathlon",
         "scene": "scene",
         "showlegend": true,
         "type": "scatter3d",
         "x": [
          0.2,
          0.2,
          0.2,
          0.1,
          0,
          0
         ],
         "y": [
          0,
          0,
          0,
          0.9,
          1,
          1
         ],
         "z": [
          0.8,
          0.8,
          0.8,
          0,
          0,
          0
         ]
        },
        {
         "customdata": [
          [
           "Volleyball Men's Volleyball",
           "Italy"
          ],
          [
           "Volleyball Men's Volleyball",
           "Brazil"
          ],
          [
           "Volleyball Men's Volleyball",
           "United States"
          ],
          [
           "Volleyball Women's Volleyball",
           "Serbia"
          ],
          [
           "Volleyball Women's Volleyball",
           "China"
          ],
          [
           "Volleyball Women's Volleyball",
           "United States"
          ]
         ],
         "hovertemplate": "Sport=Volleyball<br>Gold=%{x}<br>Silver=%{y}<br>Bronze=%{z}<br>Event=%{customdata[0]}<br>Team=%{customdata[1]}<extra></extra>",
         "legendgroup": "Volleyball",
         "marker": {
          "color": "#EF553B",
          "symbol": "circle"
         },
         "mode": "markers",
         "name": "Volleyball",
         "scene": "scene",
         "showlegend": true,
         "type": "scatter3d",
         "x": [
          1,
          0,
          0,
          0.9,
          0,
          0
         ],
         "y": [
          0,
          1,
          0.1,
          0.1,
          1,
          0.1
         ],
         "z": [
          0,
          0,
          0.9,
          0,
          0,
          0.9
         ]
        },
        {
         "customdata": [
          [
           "Water Polo Men's Water Polo",
           "Croatia"
          ],
          [
           "Water Polo Men's Water Polo",
           "Serbia"
          ],
          [
           "Water Polo Men's Water Polo",
           "Italy"
          ],
          [
           "Water Polo Women's Water Polo",
           "Italy"
          ],
          [
           "Water Polo Women's Water Polo",
           "United States"
          ],
          [
           "Water Polo Women's Water Polo",
           "Russia"
          ]
         ],
         "hovertemplate": "Sport=Water Polo<br>Gold=%{x}<br>Silver=%{y}<br>Bronze=%{z}<br>Event=%{customdata[0]}<br>Team=%{customdata[1]}<extra></extra>",
         "legendgroup": "Water Polo",
         "marker": {
          "color": "#00cc96",
          "symbol": "circle"
         },
         "mode": "markers",
         "name": "Water Polo",
         "scene": "scene",
         "showlegend": true,
         "type": "scatter3d",
         "x": [
          0.9,
          0.2,
          0.1,
          1,
          0,
          0
         ],
         "y": [
          0,
          0.75,
          0,
          0,
          1,
          0
         ],
         "z": [
          0.1,
          0.05,
          0.9,
          0,
          0,
          1
         ]
        },
        {
         "customdata": [
          [
           "Weightlifting Men's Bantamweight",
           "Thailand"
          ],
          [
           "Weightlifting Men's Bantamweight",
           "Thailand"
          ],
          [
           "Weightlifting Men's Bantamweight",
           "Thailand"
          ],
          [
           "Weightlifting Men's Featherweight",
           "Kazakhstan"
          ],
          [
           "Weightlifting Men's Featherweight",
           "Kazakhstan"
          ],
          [
           "Weightlifting Men's Featherweight",
           "Kazakhstan"
          ],
          [
           "Weightlifting Men's Heavyweight",
           "Armenia"
          ],
          [
           "Weightlifting Men's Heavyweight",
           "Uzbekistan"
          ],
          [
           "Weightlifting Men's Heavyweight",
           "Kazakhstan"
          ],
          [
           "Weightlifting Men's Light-Heavyweight",
           "China"
          ],
          [
           "Weightlifting Men's Light-Heavyweight",
           "Kazakhstan"
          ],
          [
           "Weightlifting Men's Light-Heavyweight",
           "Iran"
          ],
          [
           "Weightlifting Men's Lightweight",
           "Turkmenistan"
          ],
          [
           "Weightlifting Men's Lightweight",
           "China"
          ],
          [
           "Weightlifting Men's Lightweight",
           "Colombia"
          ],
          [
           "Weightlifting Men's Middle-Heavyweight",
           "Lithuania"
          ],
          [
           "Weightlifting Men's Middle-Heavyweight",
           "Lithuania"
          ],
          [
           "Weightlifting Men's Middle-Heavyweight",
           "Lithuania"
          ],
          [
           "Weightlifting Men's Middleweight",
           "Kazakhstan"
          ],
          [
           "Weightlifting Men's Middleweight",
           "Kazakhstan"
          ],
          [
           "Weightlifting Men's Middleweight",
           "Egypt"
          ],
          [
           "Weightlifting Men's Super-Heavyweight",
           "Armenia"
          ],
          [
           "Weightlifting Men's Super-Heavyweight",
           "Georgia"
          ],
          [
           "Weightlifting Men's Super-Heavyweight",
           "Georgia"
          ],
          [
           "Weightlifting Women's Flyweight",
           "Indonesia"
          ],
          [
           "Weightlifting Women's Flyweight",
           "Thailand"
          ],
          [
           "Weightlifting Women's Flyweight",
           "Indonesia"
          ],
          [
           "Weightlifting Women's Heavyweight",
           "Belarus"
          ],
          [
           "Weightlifting Women's Heavyweight",
           "Spain"
          ],
          [
           "Weightlifting Women's Heavyweight",
           "Spain"
          ],
          [
           "Weightlifting Women's Light-Heavyweight",
           "Kazakhstan"
          ],
          [
           "Weightlifting Women's Light-Heavyweight",
           "China"
          ],
          [
           "Weightlifting Women's Light-Heavyweight",
           "Egypt"
          ],
          [
           "Weightlifting Women's Lightweight",
           "Thailand"
          ],
          [
           "Weightlifting Women's Lightweight",
           "Chinese Taipei"
          ],
          [
           "Weightlifting Women's Lightweight",
           "Chinese Taipei"
          ],
          [
           "Weightlifting Women's Middleweight",
           "North Korea"
          ],
          [
           "Weightlifting Women's Middleweight",
           "China"
          ],
          [
           "Weightlifting Women's Middleweight",
           "Kazakhstan"
          ],
          [
           "Weightlifting Women's Super-Heavyweight",
           "North Korea"
          ],
          [
           "Weightlifting Women's Super-Heavyweight",
           "China"
          ],
          [
           "Weightlifting Women's Super-Heavyweight",
           "United States"
          ]
         ],
         "hovertemplate": "Sport=Weightlifting<br>Gold=%{x}<br>Silver=%{y}<br>Bronze=%{z}<br>Event=%{customdata[0]}<br>Team=%{customdata[1]}<extra></extra>",
         "legendgroup": "Weightlifting",
         "marker": {
          "color": "#ab63fa",
          "symbol": "circle"
         },
         "mode": "markers",
         "name": "Weightlifting",
         "scene": "scene",
         "showlegend": true,
         "type": "scatter3d",
         "x": [
          0.3,
          0.3,
          0.3,
          0.2,
          0.2,
          0.2,
          0.5,
          0.1,
          0.2,
          0.8,
          0.3,
          0.4,
          0.7,
          0.2,
          0,
          0.3,
          0.3,
          0.3,
          0.2,
          0.2,
          0.1,
          0.7,
          0.1,
          0.1,
          0.8,
          0.4,
          0.8,
          0.9,
          0.1,
          0.1,
          0.7,
          0,
          0.2,
          0.9,
          0.6666666666666666,
          0.6666666666666666,
          0.6,
          0,
          0.2,
          0.55,
          0,
          0.1
         ],
         "y": [
          0.3,
          0.3,
          0.3,
          0.2,
          0.2,
          0.2,
          0.2,
          0.8,
          0.4,
          0,
          0.3,
          0.1,
          0.1,
          0.7,
          0,
          0.2,
          0.2,
          0.2,
          0.7,
          0.7,
          0.1,
          0,
          0.2,
          0,
          0.1,
          0.5,
          0.1,
          0,
          0.1,
          0.1,
          0.2,
          0.7,
          0,
          0,
          0.2,
          0.2,
          0.1,
          0.875,
          0.1,
          0.3,
          0.8,
          0
         ],
         "z": [
          0.4,
          0.4,
          0.4,
          0.6,
          0.6,
          0.6,
          0.3,
          0.1,
          0.4,
          0.2,
          0.4,
          0.5,
          0.2,
          0.1,
          1,
          0.5,
          0.5,
          0.5,
          0.1,
          0.1,
          0.8,
          0.3,
          0.7,
          0.9,
          0.1,
          0.1,
          0.1,
          0.1,
          0.8,
          0.8,
          0.1,
          0.3,
          0.8,
          0.1,
          0.1333333333333333,
          0.1333333333333333,
          0.3,
          0.125,
          0.7,
          0.15,
          0.2,
          0.9
         ]
        },
        {
         "customdata": [
          [
           "Wrestling Men's Featherweight, Freestyle",
           "Japan"
          ],
          [
           "Wrestling Men's Featherweight, Freestyle",
           "Iran"
          ],
          [
           "Wrestling Men's Featherweight, Freestyle",
           "Azerbaijan"
          ],
          [
           "Wrestling Men's Featherweight, Greco-Roman",
           "Japan"
          ],
          [
           "Wrestling Men's Featherweight, Greco-Roman",
           "Cuba"
          ],
          [
           "Wrestling Men's Featherweight, Greco-Roman",
           "Uzbekistan"
          ],
          [
           "Wrestling Men's Heavyweight, Freestyle",
           "United States"
          ],
          [
           "Wrestling Men's Heavyweight, Freestyle",
           "United States"
          ],
          [
           "Wrestling Men's Heavyweight, Freestyle",
           "Uzbekistan"
          ],
          [
           "Wrestling Men's Heavyweight, Greco-Roman",
           "Cuba"
          ],
          [
           "Wrestling Men's Heavyweight, Greco-Roman",
           "Cuba"
          ],
          [
           "Wrestling Men's Heavyweight, Greco-Roman",
           "Turkey"
          ],
          [
           "Wrestling Men's Light-Heavyweight, Freestyle",
           "Turkey"
          ],
          [
           "Wrestling Men's Light-Heavyweight, Freestyle",
           "United States"
          ],
          [
           "Wrestling Men's Light-Heavyweight, Freestyle",
           "Russia"
          ],
          [
           "Wrestling Men's Light-Heavyweight, Greco-Roman",
           "Ukraine"
          ],
          [
           "Wrestling Men's Light-Heavyweight, Greco-Roman",
           "Germany"
          ],
          [
           "Wrestling Men's Light-Heavyweight, Greco-Roman",
           "Ukraine"
          ],
          [
           "Wrestling Men's Lightweight, Greco-Roman",
           "Serbia and Montenegro"
          ],
          [
           "Wrestling Men's Lightweight, Greco-Roman",
           "Serbia and Montenegro"
          ],
          [
           "Wrestling Men's Lightweight, Greco-Roman",
           "Norway"
          ],
          [
           "Wrestling Men's Middleweight, Freestyle",
           "Iran"
          ],
          [
           "Wrestling Men's Middleweight, Freestyle",
           "Russia"
          ],
          [
           "Wrestling Men's Middleweight, Freestyle",
           "Turkey"
          ],
          [
           "Wrestling Men's Middleweight, Greco-Roman",
           "Denmark"
          ],
          [
           "Wrestling Men's Middleweight, Greco-Roman",
           "Denmark"
          ],
          [
           "Wrestling Men's Middleweight, Greco-Roman",
           "Denmark"
          ],
          [
           "Wrestling Men's Super-Heavyweight, Freestyle",
           "Turkey"
          ],
          [
           "Wrestling Men's Super-Heavyweight, Freestyle",
           "Turkey"
          ],
          [
           "Wrestling Men's Super-Heavyweight, Freestyle",
           "Belarus"
          ],
          [
           "Wrestling Men's Super-Heavyweight, Greco-Roman",
           "Russia"
          ],
          [
           "Wrestling Men's Super-Heavyweight, Greco-Roman",
           "Azerbaijan"
          ],
          [
           "Wrestling Men's Super-Heavyweight, Greco-Roman",
           "Russia"
          ],
          [
           "Wrestling Men's Welterweight, Freestyle",
           "Italy"
          ],
          [
           "Wrestling Men's Welterweight, Freestyle",
           "Russia"
          ],
          [
           "Wrestling Men's Welterweight, Freestyle",
           "Azerbaijan"
          ],
          [
           "Wrestling Men's Welterweight, Greco-Roman",
           "Armenia"
          ],
          [
           "Wrestling Men's Welterweight, Greco-Roman",
           "Iran"
          ],
          [
           "Wrestling Men's Welterweight, Greco-Roman",
           "Georgia"
          ],
          [
           "Wrestling Women's Featherweight, Freestyle",
           "United States"
          ],
          [
           "Wrestling Women's Featherweight, Freestyle",
           "United States"
          ],
          [
           "Wrestling Women's Featherweight, Freestyle",
           "United States"
          ],
          [
           "Wrestling Women's Flyweight, Freestyle",
           "Sweden"
          ],
          [
           "Wrestling Women's Flyweight, Freestyle",
           "Japan"
          ],
          [
           "Wrestling Women's Flyweight, Freestyle",
           "Bulgaria"
          ],
          [
           "Wrestling Women's Heavyweight, Freestyle",
           "Russia"
          ],
          [
           "Wrestling Women's Heavyweight, Freestyle",
           "Canada"
          ],
          [
           "Wrestling Women's Heavyweight, Freestyle",
           "Sweden"
          ],
          [
           "Wrestling Women's Light-Heavyweight, Freestyle",
           "Japan"
          ],
          [
           "Wrestling Women's Light-Heavyweight, Freestyle",
           "Japan"
          ],
          [
           "Wrestling Women's Light-Heavyweight, Freestyle",
           "Kazakhstan"
          ],
          [
           "Wrestling Women's Lightweight, Freestyle",
           "Russia"
          ],
          [
           "Wrestling Women's Lightweight, Freestyle",
           "India"
          ],
          [
           "Wrestling Women's Lightweight, Freestyle",
           "Tunisia"
          ],
          [
           "Wrestling Women's Middleweight, Freestyle",
           "Belarus"
          ],
          [
           "Wrestling Women's Middleweight, Freestyle",
           "Japan"
          ],
          [
           "Wrestling Women's Middleweight, Freestyle",
           "Poland"
          ]
         ],
         "hovertemplate": "Sport=Wrestling<br>Gold=%{x}<br>Silver=%{y}<br>Bronze=%{z}<br>Event=%{customdata[0]}<br>Team=%{customdata[1]}<extra></extra>",
         "legendgroup": "Wrestling",
         "marker": {
          "color": "#FFA15A",
          "symbol": "circle"
         },
         "mode": "markers",
         "name": "Wrestling",
         "scene": "scene",
         "showlegend": true,
         "type": "scatter3d",
         "x": [
          0.6,
          0.1,
          0.1,
          0.7,
          0.1,
          0.0666666666666666,
          0.48,
          0.48,
          0.2,
          0.6,
          0.6,
          0.2,
          0.6,
          0.2799999999999999,
          0.2,
          0.3,
          0,
          0.3,
          0.4,
          0.4,
          0.1,
          0.6,
          0.3,
          0.1,
          0.5,
          0.5,
          0.5,
          0.2,
          0.2,
          0.1,
          0.2,
          0.1,
          0.2,
          0.2,
          0,
          0.1,
          0.7,
          0,
          0.1,
          0,
          0,
          0,
          0.6,
          0,
          0,
          0.6083333333333333,
          0,
          0.1,
          0.2,
          0.2,
          0.1,
          0.7,
          0.3,
          0.2,
          0.9,
          0.1,
          0
         ],
         "y": [
          0.1,
          0.6,
          0.1,
          0.2,
          0.7,
          0.1,
          0.3,
          0.3,
          0,
          0.4,
          0.4,
          0.1,
          0.3,
          0.5,
          0.4,
          0.1,
          0.6,
          0.1,
          0.4,
          0.4,
          0,
          0,
          0.2,
          0,
          0.3,
          0.3,
          0.3,
          0.5,
          0.5,
          0.1,
          0,
          0.1,
          0,
          0.1,
          0.8,
          0,
          0.2,
          0.3,
          0,
          1,
          1,
          1,
          0.4,
          0.9,
          0.2,
          0.0916666666666666,
          0.6,
          0.1,
          0.6,
          0.6,
          0,
          0.1,
          0.4,
          0,
          0,
          0.4,
          0.2
         ],
         "z": [
          0.3,
          0.3,
          0.8,
          0.1,
          0.2,
          0.8333333333333333,
          0.22,
          0.22,
          0.8,
          0,
          0,
          0.7,
          0.1,
          0.22,
          0.4,
          0.6,
          0.4,
          0.6,
          0.2,
          0.2,
          0.9,
          0.4,
          0.5,
          0.9,
          0.2,
          0.2,
          0.2,
          0.3,
          0.3,
          0.8,
          0.8,
          0.8,
          0.8,
          0.7,
          0.2,
          0.9,
          0.1,
          0.7,
          0.9,
          0,
          0,
          0,
          0,
          0.1,
          0.8,
          0.3,
          0.4,
          0.8,
          0.2,
          0.2,
          0.9,
          0.2,
          0.3,
          0.8,
          0.1,
          0.5,
          0.8
         ]
        }
       ],
       "layout": {
        "legend": {
         "title": {
          "text": "Sport"
         },
         "tracegroupgap": 0
        },
        "scene": {
         "domain": {
          "x": [
           0,
           1
          ],
          "y": [
           0,
           1
          ]
         },
         "xaxis": {
          "title": {
           "text": "Gold"
          }
         },
         "yaxis": {
          "title": {
           "text": "Silver"
          }
         },
         "zaxis": {
          "title": {
           "text": "Bronze"
          }
         }
        },
        "template": {
         "data": {
          "bar": [
           {
            "error_x": {
             "color": "#2a3f5f"
            },
            "error_y": {
             "color": "#2a3f5f"
            },
            "marker": {
             "line": {
              "color": "#E5ECF6",
              "width": 0.5
             },
             "pattern": {
              "fillmode": "overlay",
              "size": 10,
              "solidity": 0.2
             }
            },
            "type": "bar"
           }
          ],
          "barpolar": [
           {
            "marker": {
             "line": {
              "color": "#E5ECF6",
              "width": 0.5
             },
             "pattern": {
              "fillmode": "overlay",
              "size": 10,
              "solidity": 0.2
             }
            },
            "type": "barpolar"
           }
          ],
          "carpet": [
           {
            "aaxis": {
             "endlinecolor": "#2a3f5f",
             "gridcolor": "white",
             "linecolor": "white",
             "minorgridcolor": "white",
             "startlinecolor": "#2a3f5f"
            },
            "baxis": {
             "endlinecolor": "#2a3f5f",
             "gridcolor": "white",
             "linecolor": "white",
             "minorgridcolor": "white",
             "startlinecolor": "#2a3f5f"
            },
            "type": "carpet"
           }
          ],
          "choropleth": [
           {
            "colorbar": {
             "outlinewidth": 0,
             "ticks": ""
            },
            "type": "choropleth"
           }
          ],
          "contour": [
           {
            "colorbar": {
             "outlinewidth": 0,
             "ticks": ""
            },
            "colorscale": [
             [
              0,
              "#0d0887"
             ],
             [
              0.1111111111111111,
              "#46039f"
             ],
             [
              0.2222222222222222,
              "#7201a8"
             ],
             [
              0.3333333333333333,
              "#9c179e"
             ],
             [
              0.4444444444444444,
              "#bd3786"
             ],
             [
              0.5555555555555556,
              "#d8576b"
             ],
             [
              0.6666666666666666,
              "#ed7953"
             ],
             [
              0.7777777777777778,
              "#fb9f3a"
             ],
             [
              0.8888888888888888,
              "#fdca26"
             ],
             [
              1,
              "#f0f921"
             ]
            ],
            "type": "contour"
           }
          ],
          "contourcarpet": [
           {
            "colorbar": {
             "outlinewidth": 0,
             "ticks": ""
            },
            "type": "contourcarpet"
           }
          ],
          "heatmap": [
           {
            "colorbar": {
             "outlinewidth": 0,
             "ticks": ""
            },
            "colorscale": [
             [
              0,
              "#0d0887"
             ],
             [
              0.1111111111111111,
              "#46039f"
             ],
             [
              0.2222222222222222,
              "#7201a8"
             ],
             [
              0.3333333333333333,
              "#9c179e"
             ],
             [
              0.4444444444444444,
              "#bd3786"
             ],
             [
              0.5555555555555556,
              "#d8576b"
             ],
             [
              0.6666666666666666,
              "#ed7953"
             ],
             [
              0.7777777777777778,
              "#fb9f3a"
             ],
             [
              0.8888888888888888,
              "#fdca26"
             ],
             [
              1,
              "#f0f921"
             ]
            ],
            "type": "heatmap"
           }
          ],
          "heatmapgl": [
           {
            "colorbar": {
             "outlinewidth": 0,
             "ticks": ""
            },
            "colorscale": [
             [
              0,
              "#0d0887"
             ],
             [
              0.1111111111111111,
              "#46039f"
             ],
             [
              0.2222222222222222,
              "#7201a8"
             ],
             [
              0.3333333333333333,
              "#9c179e"
             ],
             [
              0.4444444444444444,
              "#bd3786"
             ],
             [
              0.5555555555555556,
              "#d8576b"
             ],
             [
              0.6666666666666666,
              "#ed7953"
             ],
             [
              0.7777777777777778,
              "#fb9f3a"
             ],
             [
              0.8888888888888888,
              "#fdca26"
             ],
             [
              1,
              "#f0f921"
             ]
            ],
            "type": "heatmapgl"
           }
          ],
          "histogram": [
           {
            "marker": {
             "pattern": {
              "fillmode": "overlay",
              "size": 10,
              "solidity": 0.2
             }
            },
            "type": "histogram"
           }
          ],
          "histogram2d": [
           {
            "colorbar": {
             "outlinewidth": 0,
             "ticks": ""
            },
            "colorscale": [
             [
              0,
              "#0d0887"
             ],
             [
              0.1111111111111111,
              "#46039f"
             ],
             [
              0.2222222222222222,
              "#7201a8"
             ],
             [
              0.3333333333333333,
              "#9c179e"
             ],
             [
              0.4444444444444444,
              "#bd3786"
             ],
             [
              0.5555555555555556,
              "#d8576b"
             ],
             [
              0.6666666666666666,
              "#ed7953"
             ],
             [
              0.7777777777777778,
              "#fb9f3a"
             ],
             [
              0.8888888888888888,
              "#fdca26"
             ],
             [
              1,
              "#f0f921"
             ]
            ],
            "type": "histogram2d"
           }
          ],
          "histogram2dcontour": [
           {
            "colorbar": {
             "outlinewidth": 0,
             "ticks": ""
            },
            "colorscale": [
             [
              0,
              "#0d0887"
             ],
             [
              0.1111111111111111,
              "#46039f"
             ],
             [
              0.2222222222222222,
              "#7201a8"
             ],
             [
              0.3333333333333333,
              "#9c179e"
             ],
             [
              0.4444444444444444,
              "#bd3786"
             ],
             [
              0.5555555555555556,
              "#d8576b"
             ],
             [
              0.6666666666666666,
              "#ed7953"
             ],
             [
              0.7777777777777778,
              "#fb9f3a"
             ],
             [
              0.8888888888888888,
              "#fdca26"
             ],
             [
              1,
              "#f0f921"
             ]
            ],
            "type": "histogram2dcontour"
           }
          ],
          "mesh3d": [
           {
            "colorbar": {
             "outlinewidth": 0,
             "ticks": ""
            },
            "type": "mesh3d"
           }
          ],
          "parcoords": [
           {
            "line": {
             "colorbar": {
              "outlinewidth": 0,
              "ticks": ""
             }
            },
            "type": "parcoords"
           }
          ],
          "pie": [
           {
            "automargin": true,
            "type": "pie"
           }
          ],
          "scatter": [
           {
            "fillpattern": {
             "fillmode": "overlay",
             "size": 10,
             "solidity": 0.2
            },
            "type": "scatter"
           }
          ],
          "scatter3d": [
           {
            "line": {
             "colorbar": {
              "outlinewidth": 0,
              "ticks": ""
             }
            },
            "marker": {
             "colorbar": {
              "outlinewidth": 0,
              "ticks": ""
             }
            },
            "type": "scatter3d"
           }
          ],
          "scattercarpet": [
           {
            "marker": {
             "colorbar": {
              "outlinewidth": 0,
              "ticks": ""
             }
            },
            "type": "scattercarpet"
           }
          ],
          "scattergeo": [
           {
            "marker": {
             "colorbar": {
              "outlinewidth": 0,
              "ticks": ""
             }
            },
            "type": "scattergeo"
           }
          ],
          "scattergl": [
           {
            "marker": {
             "colorbar": {
              "outlinewidth": 0,
              "ticks": ""
             }
            },
            "type": "scattergl"
           }
          ],
          "scattermapbox": [
           {
            "marker": {
             "colorbar": {
              "outlinewidth": 0,
              "ticks": ""
             }
            },
            "type": "scattermapbox"
           }
          ],
          "scatterpolar": [
           {
            "marker": {
             "colorbar": {
              "outlinewidth": 0,
              "ticks": ""
             }
            },
            "type": "scatterpolar"
           }
          ],
          "scatterpolargl": [
           {
            "marker": {
             "colorbar": {
              "outlinewidth": 0,
              "ticks": ""
             }
            },
            "type": "scatterpolargl"
           }
          ],
          "scatterternary": [
           {
            "marker": {
             "colorbar": {
              "outlinewidth": 0,
              "ticks": ""
             }
            },
            "type": "scatterternary"
           }
          ],
          "surface": [
           {
            "colorbar": {
             "outlinewidth": 0,
             "ticks": ""
            },
            "colorscale": [
             [
              0,
              "#0d0887"
             ],
             [
              0.1111111111111111,
              "#46039f"
             ],
             [
              0.2222222222222222,
              "#7201a8"
             ],
             [
              0.3333333333333333,
              "#9c179e"
             ],
             [
              0.4444444444444444,
              "#bd3786"
             ],
             [
              0.5555555555555556,
              "#d8576b"
             ],
             [
              0.6666666666666666,
              "#ed7953"
             ],
             [
              0.7777777777777778,
              "#fb9f3a"
             ],
             [
              0.8888888888888888,
              "#fdca26"
             ],
             [
              1,
              "#f0f921"
             ]
            ],
            "type": "surface"
           }
          ],
          "table": [
           {
            "cells": {
             "fill": {
              "color": "#EBF0F8"
             },
             "line": {
              "color": "white"
             }
            },
            "header": {
             "fill": {
              "color": "#C8D4E3"
             },
             "line": {
              "color": "white"
             }
            },
            "type": "table"
           }
          ]
         },
         "layout": {
          "annotationdefaults": {
           "arrowcolor": "#2a3f5f",
           "arrowhead": 0,
           "arrowwidth": 1
          },
          "autotypenumbers": "strict",
          "coloraxis": {
           "colorbar": {
            "outlinewidth": 0,
            "ticks": ""
           }
          },
          "colorscale": {
           "diverging": [
            [
             0,
             "#8e0152"
            ],
            [
             0.1,
             "#c51b7d"
            ],
            [
             0.2,
             "#de77ae"
            ],
            [
             0.3,
             "#f1b6da"
            ],
            [
             0.4,
             "#fde0ef"
            ],
            [
             0.5,
             "#f7f7f7"
            ],
            [
             0.6,
             "#e6f5d0"
            ],
            [
             0.7,
             "#b8e186"
            ],
            [
             0.8,
             "#7fbc41"
            ],
            [
             0.9,
             "#4d9221"
            ],
            [
             1,
             "#276419"
            ]
           ],
           "sequential": [
            [
             0,
             "#0d0887"
            ],
            [
             0.1111111111111111,
             "#46039f"
            ],
            [
             0.2222222222222222,
             "#7201a8"
            ],
            [
             0.3333333333333333,
             "#9c179e"
            ],
            [
             0.4444444444444444,
             "#bd3786"
            ],
            [
             0.5555555555555556,
             "#d8576b"
            ],
            [
             0.6666666666666666,
             "#ed7953"
            ],
            [
             0.7777777777777778,
             "#fb9f3a"
            ],
            [
             0.8888888888888888,
             "#fdca26"
            ],
            [
             1,
             "#f0f921"
            ]
           ],
           "sequentialminus": [
            [
             0,
             "#0d0887"
            ],
            [
             0.1111111111111111,
             "#46039f"
            ],
            [
             0.2222222222222222,
             "#7201a8"
            ],
            [
             0.3333333333333333,
             "#9c179e"
            ],
            [
             0.4444444444444444,
             "#bd3786"
            ],
            [
             0.5555555555555556,
             "#d8576b"
            ],
            [
             0.6666666666666666,
             "#ed7953"
            ],
            [
             0.7777777777777778,
             "#fb9f3a"
            ],
            [
             0.8888888888888888,
             "#fdca26"
            ],
            [
             1,
             "#f0f921"
            ]
           ]
          },
          "colorway": [
           "#636efa",
           "#EF553B",
           "#00cc96",
           "#ab63fa",
           "#FFA15A",
           "#19d3f3",
           "#FF6692",
           "#B6E880",
           "#FF97FF",
           "#FECB52"
          ],
          "font": {
           "color": "#2a3f5f"
          },
          "geo": {
           "bgcolor": "white",
           "lakecolor": "white",
           "landcolor": "#E5ECF6",
           "showlakes": true,
           "showland": true,
           "subunitcolor": "white"
          },
          "hoverlabel": {
           "align": "left"
          },
          "hovermode": "closest",
          "mapbox": {
           "style": "light"
          },
          "paper_bgcolor": "white",
          "plot_bgcolor": "#E5ECF6",
          "polar": {
           "angularaxis": {
            "gridcolor": "white",
            "linecolor": "white",
            "ticks": ""
           },
           "bgcolor": "#E5ECF6",
           "radialaxis": {
            "gridcolor": "white",
            "linecolor": "white",
            "ticks": ""
           }
          },
          "scene": {
           "xaxis": {
            "backgroundcolor": "#E5ECF6",
            "gridcolor": "white",
            "gridwidth": 2,
            "linecolor": "white",
            "showbackground": true,
            "ticks": "",
            "zerolinecolor": "white"
           },
           "yaxis": {
            "backgroundcolor": "#E5ECF6",
            "gridcolor": "white",
            "gridwidth": 2,
            "linecolor": "white",
            "showbackground": true,
            "ticks": "",
            "zerolinecolor": "white"
           },
           "zaxis": {
            "backgroundcolor": "#E5ECF6",
            "gridcolor": "white",
            "gridwidth": 2,
            "linecolor": "white",
            "showbackground": true,
            "ticks": "",
            "zerolinecolor": "white"
           }
          },
          "shapedefaults": {
           "line": {
            "color": "#2a3f5f"
           }
          },
          "ternary": {
           "aaxis": {
            "gridcolor": "white",
            "linecolor": "white",
            "ticks": ""
           },
           "baxis": {
            "gridcolor": "white",
            "linecolor": "white",
            "ticks": ""
           },
           "bgcolor": "#E5ECF6",
           "caxis": {
            "gridcolor": "white",
            "linecolor": "white",
            "ticks": ""
           }
          },
          "title": {
           "x": 0.05
          },
          "xaxis": {
           "automargin": true,
           "gridcolor": "white",
           "linecolor": "white",
           "ticks": "",
           "title": {
            "standoff": 15
           },
           "zerolinecolor": "white",
           "zerolinewidth": 2
          },
          "yaxis": {
           "automargin": true,
           "gridcolor": "white",
           "linecolor": "white",
           "ticks": "",
           "title": {
            "standoff": 15
           },
           "zerolinecolor": "white",
           "zerolinewidth": 2
          }
         }
        },
        "title": {
         "text": "3D Scatter Plot of Medal Distribution by Event"
        }
       }
      }
     },
     "metadata": {},
     "output_type": "display_data"
    }
   ],
   "source": [
    "# 3D Scatter Plot for Medal Distribution by Event\n",
    "fig3 = px.scatter_3d(df, x='Gold', y='Silver', z='Bronze',\n",
    "                     color='Sport', hover_data=['Event', 'Team'],\n",
    "                     title='3D Scatter Plot of Medal Distribution by Event')\n",
    "\n",
    "fig3.show()\n"
   ]
  }
 ],
 "metadata": {
  "kernelspec": {
   "display_name": "base",
   "language": "python",
   "name": "python3"
  },
  "language_info": {
   "codemirror_mode": {
    "name": "ipython",
    "version": 3
   },
   "file_extension": ".py",
   "mimetype": "text/x-python",
   "name": "python",
   "nbconvert_exporter": "python",
   "pygments_lexer": "ipython3",
   "version": "3.11.5"
  }
 },
 "nbformat": 4,
 "nbformat_minor": 2
}
