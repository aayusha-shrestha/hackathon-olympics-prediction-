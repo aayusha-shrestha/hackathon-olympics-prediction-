{
 "cells": [
  {
   "cell_type": "code",
   "execution_count": 78,
   "metadata": {},
   "outputs": [],
   "source": [
    "import pandas as pd\n",
    "import numpy as np\n",
    "import matplotlib.pyplot as plt\n",
    "import seaborn as sns\n",
    "import plotly.express as px\n",
    "import plotly.graph_objects as go"
   ]
  },
  {
   "cell_type": "code",
   "execution_count": 79,
   "metadata": {},
   "outputs": [],
   "source": [
    "import warnings\n",
    "warnings.filterwarnings(\"ignore\")\n",
    "pd.set_option(\"display.max_rows\", 15)"
   ]
  },
  {
   "cell_type": "code",
   "execution_count": 80,
   "metadata": {},
   "outputs": [],
   "source": [
    "df = pd.read_csv(\"../data/2024_result/2024_result.csv\")"
   ]
  },
  {
   "cell_type": "code",
   "execution_count": 81,
   "metadata": {},
   "outputs": [],
   "source": [
    "df['Host'] = 0 \n",
    "df.loc[df['Team'] == 'France', 'Host'] = 1"
   ]
  },
  {
   "cell_type": "code",
   "execution_count": 82,
   "metadata": {},
   "outputs": [],
   "source": [
    "df = df.drop(columns=['Year', 'Medal'])"
   ]
  },
  {
   "cell_type": "code",
   "execution_count": 83,
   "metadata": {},
   "outputs": [
    {
     "data": {
      "text/html": [
       "<div>\n",
       "<style scoped>\n",
       "    .dataframe tbody tr th:only-of-type {\n",
       "        vertical-align: middle;\n",
       "    }\n",
       "\n",
       "    .dataframe tbody tr th {\n",
       "        vertical-align: top;\n",
       "    }\n",
       "\n",
       "    .dataframe thead th {\n",
       "        text-align: right;\n",
       "    }\n",
       "</style>\n",
       "<table border=\"1\" class=\"dataframe\">\n",
       "  <thead>\n",
       "    <tr style=\"text-align: right;\">\n",
       "      <th></th>\n",
       "      <th>Bronze</th>\n",
       "      <th>Silver</th>\n",
       "      <th>Gold</th>\n",
       "      <th>ID</th>\n",
       "      <th>Sex</th>\n",
       "      <th>Age</th>\n",
       "      <th>Height</th>\n",
       "      <th>Weight</th>\n",
       "      <th>BMI</th>\n",
       "      <th>Host</th>\n",
       "      <th>Event</th>\n",
       "      <th>Name</th>\n",
       "      <th>Team</th>\n",
       "      <th>Sport</th>\n",
       "    </tr>\n",
       "  </thead>\n",
       "  <tbody>\n",
       "    <tr>\n",
       "      <th>0</th>\n",
       "      <td>0.900000</td>\n",
       "      <td>0.0</td>\n",
       "      <td>0.100000</td>\n",
       "      <td>110716</td>\n",
       "      <td>0</td>\n",
       "      <td>27.0</td>\n",
       "      <td>172.0</td>\n",
       "      <td>67.0</td>\n",
       "      <td>22.647377</td>\n",
       "      <td>0</td>\n",
       "      <td>Alpine Skiing Women's Super G</td>\n",
       "      <td>Georgia Simmerling</td>\n",
       "      <td>Canada</td>\n",
       "      <td>Alpine Skiing</td>\n",
       "    </tr>\n",
       "    <tr>\n",
       "      <th>1</th>\n",
       "      <td>0.900000</td>\n",
       "      <td>0.0</td>\n",
       "      <td>0.100000</td>\n",
       "      <td>110716</td>\n",
       "      <td>0</td>\n",
       "      <td>27.0</td>\n",
       "      <td>172.0</td>\n",
       "      <td>67.0</td>\n",
       "      <td>22.647377</td>\n",
       "      <td>0</td>\n",
       "      <td>Alpine Skiing Women's Super G</td>\n",
       "      <td>Georgia Simmerling</td>\n",
       "      <td>Canada</td>\n",
       "      <td>Alpine Skiing</td>\n",
       "    </tr>\n",
       "    <tr>\n",
       "      <th>2</th>\n",
       "      <td>0.900000</td>\n",
       "      <td>0.0</td>\n",
       "      <td>0.100000</td>\n",
       "      <td>110716</td>\n",
       "      <td>0</td>\n",
       "      <td>27.0</td>\n",
       "      <td>172.0</td>\n",
       "      <td>67.0</td>\n",
       "      <td>22.647377</td>\n",
       "      <td>0</td>\n",
       "      <td>Alpine Skiing Women's Super G</td>\n",
       "      <td>Georgia Simmerling</td>\n",
       "      <td>Canada</td>\n",
       "      <td>Alpine Skiing</td>\n",
       "    </tr>\n",
       "    <tr>\n",
       "      <th>3</th>\n",
       "      <td>0.100000</td>\n",
       "      <td>0.0</td>\n",
       "      <td>0.900000</td>\n",
       "      <td>124031</td>\n",
       "      <td>1</td>\n",
       "      <td>27.0</td>\n",
       "      <td>180.0</td>\n",
       "      <td>83.0</td>\n",
       "      <td>25.617284</td>\n",
       "      <td>1</td>\n",
       "      <td>Archery Men's Individual</td>\n",
       "      <td>Jean-Charles Valladont</td>\n",
       "      <td>France</td>\n",
       "      <td>Archery</td>\n",
       "    </tr>\n",
       "    <tr>\n",
       "      <th>4</th>\n",
       "      <td>0.100000</td>\n",
       "      <td>0.9</td>\n",
       "      <td>0.000000</td>\n",
       "      <td>64487</td>\n",
       "      <td>1</td>\n",
       "      <td>23.0</td>\n",
       "      <td>181.0</td>\n",
       "      <td>84.0</td>\n",
       "      <td>25.640243</td>\n",
       "      <td>0</td>\n",
       "      <td>Archery Men's Individual</td>\n",
       "      <td>Ku Bon-Chan</td>\n",
       "      <td>South Korea</td>\n",
       "      <td>Archery</td>\n",
       "    </tr>\n",
       "    <tr>\n",
       "      <th>...</th>\n",
       "      <td>...</td>\n",
       "      <td>...</td>\n",
       "      <td>...</td>\n",
       "      <td>...</td>\n",
       "      <td>...</td>\n",
       "      <td>...</td>\n",
       "      <td>...</td>\n",
       "      <td>...</td>\n",
       "      <td>...</td>\n",
       "      <td>...</td>\n",
       "      <td>...</td>\n",
       "      <td>...</td>\n",
       "      <td>...</td>\n",
       "      <td>...</td>\n",
       "    </tr>\n",
       "    <tr>\n",
       "      <th>844</th>\n",
       "      <td>0.000000</td>\n",
       "      <td>0.4</td>\n",
       "      <td>0.600000</td>\n",
       "      <td>134776</td>\n",
       "      <td>0</td>\n",
       "      <td>23.0</td>\n",
       "      <td>164.0</td>\n",
       "      <td>58.0</td>\n",
       "      <td>21.564545</td>\n",
       "      <td>0</td>\n",
       "      <td>Wrestling Women's Lightweight, Freestyle</td>\n",
       "      <td>Valeriya Sergeyevna Zholobova-Koblova</td>\n",
       "      <td>Russia</td>\n",
       "      <td>Wrestling</td>\n",
       "    </tr>\n",
       "    <tr>\n",
       "      <th>845</th>\n",
       "      <td>0.716667</td>\n",
       "      <td>0.0</td>\n",
       "      <td>0.283333</td>\n",
       "      <td>111288</td>\n",
       "      <td>0</td>\n",
       "      <td>31.0</td>\n",
       "      <td>160.0</td>\n",
       "      <td>58.0</td>\n",
       "      <td>22.656250</td>\n",
       "      <td>0</td>\n",
       "      <td>Wrestling Women's Lightweight, Freestyle</td>\n",
       "      <td>Nataliya Siniin</td>\n",
       "      <td>Ukraine</td>\n",
       "      <td>Wrestling</td>\n",
       "    </tr>\n",
       "    <tr>\n",
       "      <th>846</th>\n",
       "      <td>0.200000</td>\n",
       "      <td>0.1</td>\n",
       "      <td>0.700000</td>\n",
       "      <td>74264</td>\n",
       "      <td>0</td>\n",
       "      <td>23.0</td>\n",
       "      <td>163.0</td>\n",
       "      <td>65.0</td>\n",
       "      <td>24.464602</td>\n",
       "      <td>0</td>\n",
       "      <td>Wrestling Women's Middleweight, Freestyle</td>\n",
       "      <td>Mariya Ruslanovna Mamoshuk</td>\n",
       "      <td>Belarus</td>\n",
       "      <td>Wrestling</td>\n",
       "    </tr>\n",
       "    <tr>\n",
       "      <th>847</th>\n",
       "      <td>0.600000</td>\n",
       "      <td>0.2</td>\n",
       "      <td>0.200000</td>\n",
       "      <td>58163</td>\n",
       "      <td>0</td>\n",
       "      <td>21.0</td>\n",
       "      <td>160.0</td>\n",
       "      <td>61.0</td>\n",
       "      <td>23.828125</td>\n",
       "      <td>0</td>\n",
       "      <td>Wrestling Women's Middleweight, Freestyle</td>\n",
       "      <td>Risako Kawai</td>\n",
       "      <td>Japan</td>\n",
       "      <td>Wrestling</td>\n",
       "    </tr>\n",
       "    <tr>\n",
       "      <th>848</th>\n",
       "      <td>0.900000</td>\n",
       "      <td>0.0</td>\n",
       "      <td>0.100000</td>\n",
       "      <td>79362</td>\n",
       "      <td>0</td>\n",
       "      <td>36.0</td>\n",
       "      <td>167.0</td>\n",
       "      <td>63.0</td>\n",
       "      <td>22.589551</td>\n",
       "      <td>0</td>\n",
       "      <td>Wrestling Women's Middleweight, Freestyle</td>\n",
       "      <td>Monika Ewa Michalik (Rogien-)</td>\n",
       "      <td>Poland</td>\n",
       "      <td>Wrestling</td>\n",
       "    </tr>\n",
       "  </tbody>\n",
       "</table>\n",
       "<p>849 rows × 14 columns</p>\n",
       "</div>"
      ],
      "text/plain": [
       "       Bronze  Silver      Gold      ID  Sex   Age  Height  Weight        BMI  \\\n",
       "0    0.900000     0.0  0.100000  110716    0  27.0   172.0    67.0  22.647377   \n",
       "1    0.900000     0.0  0.100000  110716    0  27.0   172.0    67.0  22.647377   \n",
       "2    0.900000     0.0  0.100000  110716    0  27.0   172.0    67.0  22.647377   \n",
       "3    0.100000     0.0  0.900000  124031    1  27.0   180.0    83.0  25.617284   \n",
       "4    0.100000     0.9  0.000000   64487    1  23.0   181.0    84.0  25.640243   \n",
       "..        ...     ...       ...     ...  ...   ...     ...     ...        ...   \n",
       "844  0.000000     0.4  0.600000  134776    0  23.0   164.0    58.0  21.564545   \n",
       "845  0.716667     0.0  0.283333  111288    0  31.0   160.0    58.0  22.656250   \n",
       "846  0.200000     0.1  0.700000   74264    0  23.0   163.0    65.0  24.464602   \n",
       "847  0.600000     0.2  0.200000   58163    0  21.0   160.0    61.0  23.828125   \n",
       "848  0.900000     0.0  0.100000   79362    0  36.0   167.0    63.0  22.589551   \n",
       "\n",
       "     Host                                      Event  \\\n",
       "0       0              Alpine Skiing Women's Super G   \n",
       "1       0              Alpine Skiing Women's Super G   \n",
       "2       0              Alpine Skiing Women's Super G   \n",
       "3       1                   Archery Men's Individual   \n",
       "4       0                   Archery Men's Individual   \n",
       "..    ...                                        ...   \n",
       "844     0   Wrestling Women's Lightweight, Freestyle   \n",
       "845     0   Wrestling Women's Lightweight, Freestyle   \n",
       "846     0  Wrestling Women's Middleweight, Freestyle   \n",
       "847     0  Wrestling Women's Middleweight, Freestyle   \n",
       "848     0  Wrestling Women's Middleweight, Freestyle   \n",
       "\n",
       "                                      Name         Team          Sport  \n",
       "0                       Georgia Simmerling       Canada  Alpine Skiing  \n",
       "1                       Georgia Simmerling       Canada  Alpine Skiing  \n",
       "2                       Georgia Simmerling       Canada  Alpine Skiing  \n",
       "3                   Jean-Charles Valladont       France        Archery  \n",
       "4                              Ku Bon-Chan  South Korea        Archery  \n",
       "..                                     ...          ...            ...  \n",
       "844  Valeriya Sergeyevna Zholobova-Koblova       Russia      Wrestling  \n",
       "845                        Nataliya Siniin      Ukraine      Wrestling  \n",
       "846             Mariya Ruslanovna Mamoshuk      Belarus      Wrestling  \n",
       "847                           Risako Kawai        Japan      Wrestling  \n",
       "848          Monika Ewa Michalik (Rogien-)       Poland      Wrestling  \n",
       "\n",
       "[849 rows x 14 columns]"
      ]
     },
     "execution_count": 83,
     "metadata": {},
     "output_type": "execute_result"
    }
   ],
   "source": [
    "df"
   ]
  },
  {
   "cell_type": "code",
   "execution_count": 84,
   "metadata": {},
   "outputs": [],
   "source": [
    "df['Sex'] = df['Sex'].astype('category')"
   ]
  },
  {
   "cell_type": "code",
   "execution_count": 85,
   "metadata": {},
   "outputs": [],
   "source": [
    "df['pred_medal'] = df[['Bronze', 'Silver', 'Gold']].idxmax(axis=1)"
   ]
  },
  {
   "cell_type": "code",
   "execution_count": 86,
   "metadata": {},
   "outputs": [
    {
     "data": {
      "text/plain": [
       "pred_medal\n",
       "Bronze    331\n",
       "Gold      266\n",
       "Silver    252\n",
       "Name: count, dtype: int64"
      ]
     },
     "execution_count": 86,
     "metadata": {},
     "output_type": "execute_result"
    }
   ],
   "source": [
    "df['pred_medal'].value_counts()"
   ]
  },
  {
   "cell_type": "code",
   "execution_count": 87,
   "metadata": {},
   "outputs": [
    {
     "data": {
      "application/vnd.plotly.v1+json": {
       "config": {
        "plotlyServerURL": "https://plot.ly"
       },
       "data": [
        {
         "alignmentgroup": "True",
         "hovertemplate": "pred_medal=Bronze<br>Sport=%{x}<br>value=%{y}<extra></extra>",
         "legendgroup": "Bronze",
         "marker": {
          "color": "#636efa",
          "pattern": {
           "shape": ""
          }
         },
         "name": "Bronze",
         "offsetgroup": "Bronze",
         "orientation": "v",
         "showlegend": true,
         "textposition": "auto",
         "type": "bar",
         "x": [
          "Athletics",
          "Swimming",
          "Wrestling",
          "Canoeing",
          "Cycling",
          "Weightlifting",
          "Rowing",
          "Judo",
          "Boxing",
          "Shooting",
          "Fencing",
          "Sailing",
          "Taekwondo",
          "Diving",
          "Gymnastics",
          "Badminton",
          "Tennis",
          "Table Tennis",
          "Equestrianism",
          "Synchronized Swimming",
          "Water Polo",
          "Volleyball",
          "Triathlon",
          "Trampolining",
          "Rugby Sevens",
          "Basketball",
          "Beach Volleyball",
          "Rhythmic Gymnastics",
          "Modern Pentathlon",
          "Archery",
          "Hockey",
          "Handball",
          "Golf",
          "Football",
          "Alpine Skiing"
         ],
         "xaxis": "x",
         "y": [
          58,
          40,
          24,
          7,
          21,
          11,
          16,
          18,
          21,
          12,
          10,
          17,
          10,
          9,
          4,
          7,
          5,
          4,
          3,
          4,
          2,
          2,
          3,
          3,
          2,
          2,
          1,
          2,
          1,
          2,
          2,
          2,
          1,
          2,
          3
         ],
         "yaxis": "y"
        },
        {
         "alignmentgroup": "True",
         "hovertemplate": "pred_medal=Gold<br>Sport=%{x}<br>value=%{y}<extra></extra>",
         "legendgroup": "Gold",
         "marker": {
          "color": "#EF553B",
          "pattern": {
           "shape": ""
          }
         },
         "name": "Gold",
         "offsetgroup": "Gold",
         "orientation": "v",
         "showlegend": true,
         "textposition": "auto",
         "type": "bar",
         "x": [
          "Athletics",
          "Swimming",
          "Wrestling",
          "Canoeing",
          "Cycling",
          "Weightlifting",
          "Rowing",
          "Judo",
          "Boxing",
          "Shooting",
          "Fencing",
          "Sailing",
          "Taekwondo",
          "Diving",
          "Gymnastics",
          "Badminton",
          "Tennis",
          "Table Tennis",
          "Equestrianism",
          "Synchronized Swimming",
          "Water Polo",
          "Volleyball",
          "Triathlon",
          "Trampolining",
          "Rugby Sevens",
          "Basketball",
          "Beach Volleyball",
          "Rhythmic Gymnastics",
          "Modern Pentathlon",
          "Archery",
          "Hockey",
          "Handball",
          "Golf",
          "Football",
          "Alpine Skiing"
         ],
         "xaxis": "x",
         "y": [
          43,
          23,
          13,
          22,
          18,
          15,
          15,
          13,
          9,
          12,
          14,
          7,
          4,
          7,
          4,
          4,
          5,
          6,
          3,
          1,
          2,
          2,
          0,
          1,
          2,
          2,
          4,
          1,
          2,
          2,
          2,
          2,
          4,
          2,
          0
         ],
         "yaxis": "y"
        },
        {
         "alignmentgroup": "True",
         "hovertemplate": "pred_medal=Silver<br>Sport=%{x}<br>value=%{y}<extra></extra>",
         "legendgroup": "Silver",
         "marker": {
          "color": "#00cc96",
          "pattern": {
           "shape": ""
          }
         },
         "name": "Silver",
         "offsetgroup": "Silver",
         "orientation": "v",
         "showlegend": true,
         "textposition": "auto",
         "type": "bar",
         "x": [
          "Athletics",
          "Swimming",
          "Wrestling",
          "Canoeing",
          "Cycling",
          "Weightlifting",
          "Rowing",
          "Judo",
          "Boxing",
          "Shooting",
          "Fencing",
          "Sailing",
          "Taekwondo",
          "Diving",
          "Gymnastics",
          "Badminton",
          "Tennis",
          "Table Tennis",
          "Equestrianism",
          "Synchronized Swimming",
          "Water Polo",
          "Volleyball",
          "Triathlon",
          "Trampolining",
          "Rugby Sevens",
          "Basketball",
          "Beach Volleyball",
          "Rhythmic Gymnastics",
          "Modern Pentathlon",
          "Archery",
          "Hockey",
          "Handball",
          "Golf",
          "Football",
          "Alpine Skiing"
         ],
         "xaxis": "x",
         "y": [
          37,
          24,
          20,
          16,
          6,
          16,
          11,
          11,
          12,
          15,
          6,
          6,
          10,
          8,
          10,
          4,
          5,
          2,
          3,
          1,
          2,
          2,
          3,
          2,
          2,
          2,
          1,
          3,
          3,
          2,
          2,
          2,
          1,
          2,
          0
         ],
         "yaxis": "y"
        }
       ],
       "layout": {
        "barmode": "stack",
        "legend": {
         "title": {
          "text": "pred_medal"
         },
         "tracegroupgap": 0
        },
        "template": {
         "data": {
          "bar": [
           {
            "error_x": {
             "color": "#2a3f5f"
            },
            "error_y": {
             "color": "#2a3f5f"
            },
            "marker": {
             "line": {
              "color": "#E5ECF6",
              "width": 0.5
             },
             "pattern": {
              "fillmode": "overlay",
              "size": 10,
              "solidity": 0.2
             }
            },
            "type": "bar"
           }
          ],
          "barpolar": [
           {
            "marker": {
             "line": {
              "color": "#E5ECF6",
              "width": 0.5
             },
             "pattern": {
              "fillmode": "overlay",
              "size": 10,
              "solidity": 0.2
             }
            },
            "type": "barpolar"
           }
          ],
          "carpet": [
           {
            "aaxis": {
             "endlinecolor": "#2a3f5f",
             "gridcolor": "white",
             "linecolor": "white",
             "minorgridcolor": "white",
             "startlinecolor": "#2a3f5f"
            },
            "baxis": {
             "endlinecolor": "#2a3f5f",
             "gridcolor": "white",
             "linecolor": "white",
             "minorgridcolor": "white",
             "startlinecolor": "#2a3f5f"
            },
            "type": "carpet"
           }
          ],
          "choropleth": [
           {
            "colorbar": {
             "outlinewidth": 0,
             "ticks": ""
            },
            "type": "choropleth"
           }
          ],
          "contour": [
           {
            "colorbar": {
             "outlinewidth": 0,
             "ticks": ""
            },
            "colorscale": [
             [
              0,
              "#0d0887"
             ],
             [
              0.1111111111111111,
              "#46039f"
             ],
             [
              0.2222222222222222,
              "#7201a8"
             ],
             [
              0.3333333333333333,
              "#9c179e"
             ],
             [
              0.4444444444444444,
              "#bd3786"
             ],
             [
              0.5555555555555556,
              "#d8576b"
             ],
             [
              0.6666666666666666,
              "#ed7953"
             ],
             [
              0.7777777777777778,
              "#fb9f3a"
             ],
             [
              0.8888888888888888,
              "#fdca26"
             ],
             [
              1,
              "#f0f921"
             ]
            ],
            "type": "contour"
           }
          ],
          "contourcarpet": [
           {
            "colorbar": {
             "outlinewidth": 0,
             "ticks": ""
            },
            "type": "contourcarpet"
           }
          ],
          "heatmap": [
           {
            "colorbar": {
             "outlinewidth": 0,
             "ticks": ""
            },
            "colorscale": [
             [
              0,
              "#0d0887"
             ],
             [
              0.1111111111111111,
              "#46039f"
             ],
             [
              0.2222222222222222,
              "#7201a8"
             ],
             [
              0.3333333333333333,
              "#9c179e"
             ],
             [
              0.4444444444444444,
              "#bd3786"
             ],
             [
              0.5555555555555556,
              "#d8576b"
             ],
             [
              0.6666666666666666,
              "#ed7953"
             ],
             [
              0.7777777777777778,
              "#fb9f3a"
             ],
             [
              0.8888888888888888,
              "#fdca26"
             ],
             [
              1,
              "#f0f921"
             ]
            ],
            "type": "heatmap"
           }
          ],
          "heatmapgl": [
           {
            "colorbar": {
             "outlinewidth": 0,
             "ticks": ""
            },
            "colorscale": [
             [
              0,
              "#0d0887"
             ],
             [
              0.1111111111111111,
              "#46039f"
             ],
             [
              0.2222222222222222,
              "#7201a8"
             ],
             [
              0.3333333333333333,
              "#9c179e"
             ],
             [
              0.4444444444444444,
              "#bd3786"
             ],
             [
              0.5555555555555556,
              "#d8576b"
             ],
             [
              0.6666666666666666,
              "#ed7953"
             ],
             [
              0.7777777777777778,
              "#fb9f3a"
             ],
             [
              0.8888888888888888,
              "#fdca26"
             ],
             [
              1,
              "#f0f921"
             ]
            ],
            "type": "heatmapgl"
           }
          ],
          "histogram": [
           {
            "marker": {
             "pattern": {
              "fillmode": "overlay",
              "size": 10,
              "solidity": 0.2
             }
            },
            "type": "histogram"
           }
          ],
          "histogram2d": [
           {
            "colorbar": {
             "outlinewidth": 0,
             "ticks": ""
            },
            "colorscale": [
             [
              0,
              "#0d0887"
             ],
             [
              0.1111111111111111,
              "#46039f"
             ],
             [
              0.2222222222222222,
              "#7201a8"
             ],
             [
              0.3333333333333333,
              "#9c179e"
             ],
             [
              0.4444444444444444,
              "#bd3786"
             ],
             [
              0.5555555555555556,
              "#d8576b"
             ],
             [
              0.6666666666666666,
              "#ed7953"
             ],
             [
              0.7777777777777778,
              "#fb9f3a"
             ],
             [
              0.8888888888888888,
              "#fdca26"
             ],
             [
              1,
              "#f0f921"
             ]
            ],
            "type": "histogram2d"
           }
          ],
          "histogram2dcontour": [
           {
            "colorbar": {
             "outlinewidth": 0,
             "ticks": ""
            },
            "colorscale": [
             [
              0,
              "#0d0887"
             ],
             [
              0.1111111111111111,
              "#46039f"
             ],
             [
              0.2222222222222222,
              "#7201a8"
             ],
             [
              0.3333333333333333,
              "#9c179e"
             ],
             [
              0.4444444444444444,
              "#bd3786"
             ],
             [
              0.5555555555555556,
              "#d8576b"
             ],
             [
              0.6666666666666666,
              "#ed7953"
             ],
             [
              0.7777777777777778,
              "#fb9f3a"
             ],
             [
              0.8888888888888888,
              "#fdca26"
             ],
             [
              1,
              "#f0f921"
             ]
            ],
            "type": "histogram2dcontour"
           }
          ],
          "mesh3d": [
           {
            "colorbar": {
             "outlinewidth": 0,
             "ticks": ""
            },
            "type": "mesh3d"
           }
          ],
          "parcoords": [
           {
            "line": {
             "colorbar": {
              "outlinewidth": 0,
              "ticks": ""
             }
            },
            "type": "parcoords"
           }
          ],
          "pie": [
           {
            "automargin": true,
            "type": "pie"
           }
          ],
          "scatter": [
           {
            "fillpattern": {
             "fillmode": "overlay",
             "size": 10,
             "solidity": 0.2
            },
            "type": "scatter"
           }
          ],
          "scatter3d": [
           {
            "line": {
             "colorbar": {
              "outlinewidth": 0,
              "ticks": ""
             }
            },
            "marker": {
             "colorbar": {
              "outlinewidth": 0,
              "ticks": ""
             }
            },
            "type": "scatter3d"
           }
          ],
          "scattercarpet": [
           {
            "marker": {
             "colorbar": {
              "outlinewidth": 0,
              "ticks": ""
             }
            },
            "type": "scattercarpet"
           }
          ],
          "scattergeo": [
           {
            "marker": {
             "colorbar": {
              "outlinewidth": 0,
              "ticks": ""
             }
            },
            "type": "scattergeo"
           }
          ],
          "scattergl": [
           {
            "marker": {
             "colorbar": {
              "outlinewidth": 0,
              "ticks": ""
             }
            },
            "type": "scattergl"
           }
          ],
          "scattermapbox": [
           {
            "marker": {
             "colorbar": {
              "outlinewidth": 0,
              "ticks": ""
             }
            },
            "type": "scattermapbox"
           }
          ],
          "scatterpolar": [
           {
            "marker": {
             "colorbar": {
              "outlinewidth": 0,
              "ticks": ""
             }
            },
            "type": "scatterpolar"
           }
          ],
          "scatterpolargl": [
           {
            "marker": {
             "colorbar": {
              "outlinewidth": 0,
              "ticks": ""
             }
            },
            "type": "scatterpolargl"
           }
          ],
          "scatterternary": [
           {
            "marker": {
             "colorbar": {
              "outlinewidth": 0,
              "ticks": ""
             }
            },
            "type": "scatterternary"
           }
          ],
          "surface": [
           {
            "colorbar": {
             "outlinewidth": 0,
             "ticks": ""
            },
            "colorscale": [
             [
              0,
              "#0d0887"
             ],
             [
              0.1111111111111111,
              "#46039f"
             ],
             [
              0.2222222222222222,
              "#7201a8"
             ],
             [
              0.3333333333333333,
              "#9c179e"
             ],
             [
              0.4444444444444444,
              "#bd3786"
             ],
             [
              0.5555555555555556,
              "#d8576b"
             ],
             [
              0.6666666666666666,
              "#ed7953"
             ],
             [
              0.7777777777777778,
              "#fb9f3a"
             ],
             [
              0.8888888888888888,
              "#fdca26"
             ],
             [
              1,
              "#f0f921"
             ]
            ],
            "type": "surface"
           }
          ],
          "table": [
           {
            "cells": {
             "fill": {
              "color": "#EBF0F8"
             },
             "line": {
              "color": "white"
             }
            },
            "header": {
             "fill": {
              "color": "#C8D4E3"
             },
             "line": {
              "color": "white"
             }
            },
            "type": "table"
           }
          ]
         },
         "layout": {
          "annotationdefaults": {
           "arrowcolor": "#2a3f5f",
           "arrowhead": 0,
           "arrowwidth": 1
          },
          "autotypenumbers": "strict",
          "coloraxis": {
           "colorbar": {
            "outlinewidth": 0,
            "ticks": ""
           }
          },
          "colorscale": {
           "diverging": [
            [
             0,
             "#8e0152"
            ],
            [
             0.1,
             "#c51b7d"
            ],
            [
             0.2,
             "#de77ae"
            ],
            [
             0.3,
             "#f1b6da"
            ],
            [
             0.4,
             "#fde0ef"
            ],
            [
             0.5,
             "#f7f7f7"
            ],
            [
             0.6,
             "#e6f5d0"
            ],
            [
             0.7,
             "#b8e186"
            ],
            [
             0.8,
             "#7fbc41"
            ],
            [
             0.9,
             "#4d9221"
            ],
            [
             1,
             "#276419"
            ]
           ],
           "sequential": [
            [
             0,
             "#0d0887"
            ],
            [
             0.1111111111111111,
             "#46039f"
            ],
            [
             0.2222222222222222,
             "#7201a8"
            ],
            [
             0.3333333333333333,
             "#9c179e"
            ],
            [
             0.4444444444444444,
             "#bd3786"
            ],
            [
             0.5555555555555556,
             "#d8576b"
            ],
            [
             0.6666666666666666,
             "#ed7953"
            ],
            [
             0.7777777777777778,
             "#fb9f3a"
            ],
            [
             0.8888888888888888,
             "#fdca26"
            ],
            [
             1,
             "#f0f921"
            ]
           ],
           "sequentialminus": [
            [
             0,
             "#0d0887"
            ],
            [
             0.1111111111111111,
             "#46039f"
            ],
            [
             0.2222222222222222,
             "#7201a8"
            ],
            [
             0.3333333333333333,
             "#9c179e"
            ],
            [
             0.4444444444444444,
             "#bd3786"
            ],
            [
             0.5555555555555556,
             "#d8576b"
            ],
            [
             0.6666666666666666,
             "#ed7953"
            ],
            [
             0.7777777777777778,
             "#fb9f3a"
            ],
            [
             0.8888888888888888,
             "#fdca26"
            ],
            [
             1,
             "#f0f921"
            ]
           ]
          },
          "colorway": [
           "#636efa",
           "#EF553B",
           "#00cc96",
           "#ab63fa",
           "#FFA15A",
           "#19d3f3",
           "#FF6692",
           "#B6E880",
           "#FF97FF",
           "#FECB52"
          ],
          "font": {
           "color": "#2a3f5f"
          },
          "geo": {
           "bgcolor": "white",
           "lakecolor": "white",
           "landcolor": "#E5ECF6",
           "showlakes": true,
           "showland": true,
           "subunitcolor": "white"
          },
          "hoverlabel": {
           "align": "left"
          },
          "hovermode": "closest",
          "mapbox": {
           "style": "light"
          },
          "paper_bgcolor": "white",
          "plot_bgcolor": "#E5ECF6",
          "polar": {
           "angularaxis": {
            "gridcolor": "white",
            "linecolor": "white",
            "ticks": ""
           },
           "bgcolor": "#E5ECF6",
           "radialaxis": {
            "gridcolor": "white",
            "linecolor": "white",
            "ticks": ""
           }
          },
          "scene": {
           "xaxis": {
            "backgroundcolor": "#E5ECF6",
            "gridcolor": "white",
            "gridwidth": 2,
            "linecolor": "white",
            "showbackground": true,
            "ticks": "",
            "zerolinecolor": "white"
           },
           "yaxis": {
            "backgroundcolor": "#E5ECF6",
            "gridcolor": "white",
            "gridwidth": 2,
            "linecolor": "white",
            "showbackground": true,
            "ticks": "",
            "zerolinecolor": "white"
           },
           "zaxis": {
            "backgroundcolor": "#E5ECF6",
            "gridcolor": "white",
            "gridwidth": 2,
            "linecolor": "white",
            "showbackground": true,
            "ticks": "",
            "zerolinecolor": "white"
           }
          },
          "shapedefaults": {
           "line": {
            "color": "#2a3f5f"
           }
          },
          "ternary": {
           "aaxis": {
            "gridcolor": "white",
            "linecolor": "white",
            "ticks": ""
           },
           "baxis": {
            "gridcolor": "white",
            "linecolor": "white",
            "ticks": ""
           },
           "bgcolor": "#E5ECF6",
           "caxis": {
            "gridcolor": "white",
            "linecolor": "white",
            "ticks": ""
           }
          },
          "title": {
           "x": 0.05
          },
          "xaxis": {
           "automargin": true,
           "gridcolor": "white",
           "linecolor": "white",
           "ticks": "",
           "title": {
            "standoff": 15
           },
           "zerolinecolor": "white",
           "zerolinewidth": 2
          },
          "yaxis": {
           "automargin": true,
           "gridcolor": "white",
           "linecolor": "white",
           "ticks": "",
           "title": {
            "standoff": 15
           },
           "zerolinecolor": "white",
           "zerolinewidth": 2
          }
         }
        },
        "title": {
         "text": "Predicted Medals by Sport"
        },
        "xaxis": {
         "anchor": "y",
         "domain": [
          0,
          1
         ],
         "title": {
          "text": "Sport"
         }
        },
        "yaxis": {
         "anchor": "x",
         "domain": [
          0,
          1
         ],
         "title": {
          "text": "value"
         }
        }
       }
      }
     },
     "metadata": {},
     "output_type": "display_data"
    }
   ],
   "source": [
    "medals_by_sport = df.groupby(['Sport', 'pred_medal']).size().unstack().fillna(0)\n",
    "medals_by_sport_sorted = medals_by_sport.sum(axis=1).sort_values(ascending=False).index\n",
    "medals_by_sport_sorted_df = medals_by_sport.loc[medals_by_sport_sorted]\n",
    "\n",
    "# Plot predicted medals by sport (sorted)\n",
    "fig = px.bar(medals_by_sport_sorted_df, title='Predicted Medals by Sport', barmode='stack')\n",
    "fig.show()"
   ]
  },
  {
   "cell_type": "code",
   "execution_count": 88,
   "metadata": {},
   "outputs": [
    {
     "data": {
      "application/vnd.plotly.v1+json": {
       "config": {
        "plotlyServerURL": "https://plot.ly"
       },
       "data": [
        {
         "alignmentgroup": "True",
         "hovertemplate": "Medal Type=Bronze<br>Sex=1<br>Sport=%{x}<br>count=%{y}<extra></extra>",
         "legendgroup": "Bronze",
         "marker": {
          "color": "lightblue",
          "pattern": {
           "shape": ""
          }
         },
         "name": "Bronze",
         "offsetgroup": "Bronze",
         "orientation": "v",
         "showlegend": true,
         "textposition": "auto",
         "type": "bar",
         "x": [
          "Athletics",
          "Athletics",
          "Athletics",
          "Athletics",
          "Athletics",
          "Athletics",
          "Athletics",
          "Athletics",
          "Athletics",
          "Athletics",
          "Athletics",
          "Athletics",
          "Athletics",
          "Athletics",
          "Athletics",
          "Athletics",
          "Athletics",
          "Athletics",
          "Athletics",
          "Athletics",
          "Athletics",
          "Athletics",
          "Athletics",
          "Athletics",
          "Athletics",
          "Athletics",
          "Athletics",
          "Athletics",
          "Athletics",
          "Athletics",
          "Athletics",
          "Athletics",
          "Athletics",
          "Athletics",
          "Athletics",
          "Athletics",
          "Gymnastics",
          "Gymnastics",
          "Taekwondo",
          "Taekwondo",
          "Taekwondo",
          "Taekwondo",
          "Trampolining",
          "Weightlifting",
          "Weightlifting",
          "Weightlifting",
          "Weightlifting",
          "Weightlifting",
          "Weightlifting"
         ],
         "xaxis": "x",
         "y": [
          1,
          1,
          1,
          1,
          1,
          1,
          1,
          1,
          1,
          1,
          1,
          1,
          1,
          1,
          1,
          1,
          1,
          1,
          1,
          1,
          1,
          1,
          1,
          1,
          1,
          1,
          1,
          1,
          1,
          1,
          1,
          1,
          1,
          1,
          1,
          1,
          1,
          1,
          1,
          1,
          1,
          1,
          1,
          1,
          1,
          1,
          1,
          1,
          1
         ],
         "yaxis": "y"
        },
        {
         "alignmentgroup": "True",
         "hovertemplate": "Medal Type=Bronze<br>Sex=0<br>Sport=%{x}<br>count=%{y}<extra></extra>",
         "legendgroup": "Bronze",
         "marker": {
          "color": "lightblue",
          "pattern": {
           "shape": ""
          }
         },
         "name": "Bronze",
         "offsetgroup": "Bronze",
         "orientation": "v",
         "showlegend": false,
         "textposition": "auto",
         "type": "bar",
         "x": [
          "Athletics",
          "Athletics",
          "Athletics",
          "Athletics",
          "Athletics",
          "Athletics",
          "Athletics",
          "Athletics",
          "Athletics",
          "Athletics",
          "Athletics",
          "Athletics",
          "Athletics",
          "Athletics",
          "Athletics",
          "Athletics",
          "Athletics",
          "Athletics",
          "Athletics",
          "Athletics",
          "Athletics",
          "Athletics",
          "Gymnastics",
          "Gymnastics",
          "Taekwondo",
          "Taekwondo",
          "Taekwondo",
          "Taekwondo",
          "Taekwondo",
          "Taekwondo",
          "Trampolining",
          "Trampolining",
          "Weightlifting",
          "Weightlifting",
          "Weightlifting",
          "Weightlifting",
          "Weightlifting"
         ],
         "xaxis": "x2",
         "y": [
          1,
          1,
          1,
          1,
          1,
          1,
          1,
          1,
          1,
          1,
          1,
          1,
          1,
          1,
          1,
          1,
          1,
          1,
          1,
          1,
          1,
          1,
          1,
          1,
          1,
          1,
          1,
          1,
          1,
          1,
          1,
          1,
          1,
          1,
          1,
          1,
          1
         ],
         "yaxis": "y2"
        },
        {
         "alignmentgroup": "True",
         "hovertemplate": "Medal Type=Silver<br>Sex=1<br>Sport=%{x}<br>count=%{y}<extra></extra>",
         "legendgroup": "Silver",
         "marker": {
          "color": "lightgreen",
          "pattern": {
           "shape": ""
          }
         },
         "name": "Silver",
         "offsetgroup": "Silver",
         "orientation": "v",
         "showlegend": true,
         "textposition": "auto",
         "type": "bar",
         "x": [
          "Athletics",
          "Athletics",
          "Athletics",
          "Athletics",
          "Athletics",
          "Athletics",
          "Athletics",
          "Athletics",
          "Athletics",
          "Athletics",
          "Athletics",
          "Athletics",
          "Athletics",
          "Athletics",
          "Athletics",
          "Gymnastics",
          "Gymnastics",
          "Gymnastics",
          "Gymnastics",
          "Gymnastics",
          "Gymnastics",
          "Gymnastics",
          "Gymnastics",
          "Taekwondo",
          "Taekwondo",
          "Taekwondo",
          "Taekwondo",
          "Taekwondo",
          "Trampolining",
          "Trampolining",
          "Weightlifting",
          "Weightlifting",
          "Weightlifting",
          "Weightlifting",
          "Weightlifting",
          "Weightlifting",
          "Weightlifting",
          "Weightlifting",
          "Weightlifting",
          "Weightlifting",
          "Weightlifting"
         ],
         "xaxis": "x",
         "y": [
          1,
          1,
          1,
          1,
          1,
          1,
          1,
          1,
          1,
          1,
          1,
          1,
          1,
          1,
          1,
          1,
          1,
          1,
          1,
          1,
          1,
          1,
          1,
          1,
          1,
          1,
          1,
          1,
          1,
          1,
          1,
          1,
          1,
          1,
          1,
          1,
          1,
          1,
          1,
          1,
          1
         ],
         "yaxis": "y"
        },
        {
         "alignmentgroup": "True",
         "hovertemplate": "Medal Type=Silver<br>Sex=0<br>Sport=%{x}<br>count=%{y}<extra></extra>",
         "legendgroup": "Silver",
         "marker": {
          "color": "lightgreen",
          "pattern": {
           "shape": ""
          }
         },
         "name": "Silver",
         "offsetgroup": "Silver",
         "orientation": "v",
         "showlegend": false,
         "textposition": "auto",
         "type": "bar",
         "x": [
          "Athletics",
          "Athletics",
          "Athletics",
          "Athletics",
          "Athletics",
          "Athletics",
          "Athletics",
          "Athletics",
          "Athletics",
          "Athletics",
          "Athletics",
          "Athletics",
          "Athletics",
          "Athletics",
          "Athletics",
          "Athletics",
          "Athletics",
          "Athletics",
          "Athletics",
          "Athletics",
          "Athletics",
          "Athletics",
          "Gymnastics",
          "Gymnastics",
          "Taekwondo",
          "Taekwondo",
          "Taekwondo",
          "Taekwondo",
          "Taekwondo",
          "Weightlifting",
          "Weightlifting",
          "Weightlifting",
          "Weightlifting",
          "Weightlifting"
         ],
         "xaxis": "x2",
         "y": [
          1,
          1,
          1,
          1,
          1,
          1,
          1,
          1,
          1,
          1,
          1,
          1,
          1,
          1,
          1,
          1,
          1,
          1,
          1,
          1,
          1,
          1,
          1,
          1,
          1,
          1,
          1,
          1,
          1,
          1,
          1,
          1,
          1,
          1
         ],
         "yaxis": "y2"
        },
        {
         "alignmentgroup": "True",
         "hovertemplate": "Medal Type=Gold<br>Sex=1<br>Sport=%{x}<br>count=%{y}<extra></extra>",
         "legendgroup": "Gold",
         "marker": {
          "color": "lightcoral",
          "pattern": {
           "shape": ""
          }
         },
         "name": "Gold",
         "offsetgroup": "Gold",
         "orientation": "v",
         "showlegend": true,
         "textposition": "auto",
         "type": "bar",
         "x": [
          "Athletics",
          "Athletics",
          "Athletics",
          "Athletics",
          "Athletics",
          "Athletics",
          "Athletics",
          "Athletics",
          "Athletics",
          "Athletics",
          "Athletics",
          "Athletics",
          "Athletics",
          "Athletics",
          "Athletics",
          "Athletics",
          "Athletics",
          "Athletics",
          "Athletics",
          "Athletics",
          "Athletics",
          "Gymnastics",
          "Gymnastics",
          "Taekwondo",
          "Taekwondo",
          "Taekwondo",
          "Weightlifting",
          "Weightlifting",
          "Weightlifting",
          "Weightlifting",
          "Weightlifting",
          "Weightlifting",
          "Weightlifting"
         ],
         "xaxis": "x",
         "y": [
          1,
          1,
          1,
          1,
          1,
          1,
          1,
          1,
          1,
          1,
          1,
          1,
          1,
          1,
          1,
          1,
          1,
          1,
          1,
          1,
          1,
          1,
          1,
          1,
          1,
          1,
          1,
          1,
          1,
          1,
          1,
          1,
          1
         ],
         "yaxis": "y"
        },
        {
         "alignmentgroup": "True",
         "hovertemplate": "Medal Type=Gold<br>Sex=0<br>Sport=%{x}<br>count=%{y}<extra></extra>",
         "legendgroup": "Gold",
         "marker": {
          "color": "lightcoral",
          "pattern": {
           "shape": ""
          }
         },
         "name": "Gold",
         "offsetgroup": "Gold",
         "orientation": "v",
         "showlegend": false,
         "textposition": "auto",
         "type": "bar",
         "x": [
          "Athletics",
          "Athletics",
          "Athletics",
          "Athletics",
          "Athletics",
          "Athletics",
          "Athletics",
          "Athletics",
          "Athletics",
          "Athletics",
          "Athletics",
          "Athletics",
          "Athletics",
          "Athletics",
          "Athletics",
          "Athletics",
          "Athletics",
          "Athletics",
          "Athletics",
          "Athletics",
          "Athletics",
          "Athletics",
          "Gymnastics",
          "Gymnastics",
          "Taekwondo",
          "Trampolining",
          "Weightlifting",
          "Weightlifting",
          "Weightlifting",
          "Weightlifting",
          "Weightlifting",
          "Weightlifting",
          "Weightlifting",
          "Weightlifting"
         ],
         "xaxis": "x2",
         "y": [
          1,
          1,
          1,
          1,
          1,
          1,
          1,
          1,
          1,
          1,
          1,
          1,
          1,
          1,
          1,
          1,
          1,
          1,
          1,
          1,
          1,
          1,
          1,
          1,
          1,
          1,
          1,
          1,
          1,
          1,
          1,
          1,
          1,
          1
         ],
         "yaxis": "y2"
        }
       ],
       "layout": {
        "annotations": [
         {
          "font": {},
          "showarrow": false,
          "text": "Sex=1",
          "x": 0.245,
          "xanchor": "center",
          "xref": "paper",
          "y": 1,
          "yanchor": "bottom",
          "yref": "paper"
         },
         {
          "font": {},
          "showarrow": false,
          "text": "Sex=0",
          "x": 0.755,
          "xanchor": "center",
          "xref": "paper",
          "y": 1,
          "yanchor": "bottom",
          "yref": "paper"
         }
        ],
        "barmode": "relative",
        "legend": {
         "title": {
          "text": "Medal Type"
         },
         "tracegroupgap": 0
        },
        "template": {
         "data": {
          "bar": [
           {
            "error_x": {
             "color": "#2a3f5f"
            },
            "error_y": {
             "color": "#2a3f5f"
            },
            "marker": {
             "line": {
              "color": "#E5ECF6",
              "width": 0.5
             },
             "pattern": {
              "fillmode": "overlay",
              "size": 10,
              "solidity": 0.2
             }
            },
            "type": "bar"
           }
          ],
          "barpolar": [
           {
            "marker": {
             "line": {
              "color": "#E5ECF6",
              "width": 0.5
             },
             "pattern": {
              "fillmode": "overlay",
              "size": 10,
              "solidity": 0.2
             }
            },
            "type": "barpolar"
           }
          ],
          "carpet": [
           {
            "aaxis": {
             "endlinecolor": "#2a3f5f",
             "gridcolor": "white",
             "linecolor": "white",
             "minorgridcolor": "white",
             "startlinecolor": "#2a3f5f"
            },
            "baxis": {
             "endlinecolor": "#2a3f5f",
             "gridcolor": "white",
             "linecolor": "white",
             "minorgridcolor": "white",
             "startlinecolor": "#2a3f5f"
            },
            "type": "carpet"
           }
          ],
          "choropleth": [
           {
            "colorbar": {
             "outlinewidth": 0,
             "ticks": ""
            },
            "type": "choropleth"
           }
          ],
          "contour": [
           {
            "colorbar": {
             "outlinewidth": 0,
             "ticks": ""
            },
            "colorscale": [
             [
              0,
              "#0d0887"
             ],
             [
              0.1111111111111111,
              "#46039f"
             ],
             [
              0.2222222222222222,
              "#7201a8"
             ],
             [
              0.3333333333333333,
              "#9c179e"
             ],
             [
              0.4444444444444444,
              "#bd3786"
             ],
             [
              0.5555555555555556,
              "#d8576b"
             ],
             [
              0.6666666666666666,
              "#ed7953"
             ],
             [
              0.7777777777777778,
              "#fb9f3a"
             ],
             [
              0.8888888888888888,
              "#fdca26"
             ],
             [
              1,
              "#f0f921"
             ]
            ],
            "type": "contour"
           }
          ],
          "contourcarpet": [
           {
            "colorbar": {
             "outlinewidth": 0,
             "ticks": ""
            },
            "type": "contourcarpet"
           }
          ],
          "heatmap": [
           {
            "colorbar": {
             "outlinewidth": 0,
             "ticks": ""
            },
            "colorscale": [
             [
              0,
              "#0d0887"
             ],
             [
              0.1111111111111111,
              "#46039f"
             ],
             [
              0.2222222222222222,
              "#7201a8"
             ],
             [
              0.3333333333333333,
              "#9c179e"
             ],
             [
              0.4444444444444444,
              "#bd3786"
             ],
             [
              0.5555555555555556,
              "#d8576b"
             ],
             [
              0.6666666666666666,
              "#ed7953"
             ],
             [
              0.7777777777777778,
              "#fb9f3a"
             ],
             [
              0.8888888888888888,
              "#fdca26"
             ],
             [
              1,
              "#f0f921"
             ]
            ],
            "type": "heatmap"
           }
          ],
          "heatmapgl": [
           {
            "colorbar": {
             "outlinewidth": 0,
             "ticks": ""
            },
            "colorscale": [
             [
              0,
              "#0d0887"
             ],
             [
              0.1111111111111111,
              "#46039f"
             ],
             [
              0.2222222222222222,
              "#7201a8"
             ],
             [
              0.3333333333333333,
              "#9c179e"
             ],
             [
              0.4444444444444444,
              "#bd3786"
             ],
             [
              0.5555555555555556,
              "#d8576b"
             ],
             [
              0.6666666666666666,
              "#ed7953"
             ],
             [
              0.7777777777777778,
              "#fb9f3a"
             ],
             [
              0.8888888888888888,
              "#fdca26"
             ],
             [
              1,
              "#f0f921"
             ]
            ],
            "type": "heatmapgl"
           }
          ],
          "histogram": [
           {
            "marker": {
             "pattern": {
              "fillmode": "overlay",
              "size": 10,
              "solidity": 0.2
             }
            },
            "type": "histogram"
           }
          ],
          "histogram2d": [
           {
            "colorbar": {
             "outlinewidth": 0,
             "ticks": ""
            },
            "colorscale": [
             [
              0,
              "#0d0887"
             ],
             [
              0.1111111111111111,
              "#46039f"
             ],
             [
              0.2222222222222222,
              "#7201a8"
             ],
             [
              0.3333333333333333,
              "#9c179e"
             ],
             [
              0.4444444444444444,
              "#bd3786"
             ],
             [
              0.5555555555555556,
              "#d8576b"
             ],
             [
              0.6666666666666666,
              "#ed7953"
             ],
             [
              0.7777777777777778,
              "#fb9f3a"
             ],
             [
              0.8888888888888888,
              "#fdca26"
             ],
             [
              1,
              "#f0f921"
             ]
            ],
            "type": "histogram2d"
           }
          ],
          "histogram2dcontour": [
           {
            "colorbar": {
             "outlinewidth": 0,
             "ticks": ""
            },
            "colorscale": [
             [
              0,
              "#0d0887"
             ],
             [
              0.1111111111111111,
              "#46039f"
             ],
             [
              0.2222222222222222,
              "#7201a8"
             ],
             [
              0.3333333333333333,
              "#9c179e"
             ],
             [
              0.4444444444444444,
              "#bd3786"
             ],
             [
              0.5555555555555556,
              "#d8576b"
             ],
             [
              0.6666666666666666,
              "#ed7953"
             ],
             [
              0.7777777777777778,
              "#fb9f3a"
             ],
             [
              0.8888888888888888,
              "#fdca26"
             ],
             [
              1,
              "#f0f921"
             ]
            ],
            "type": "histogram2dcontour"
           }
          ],
          "mesh3d": [
           {
            "colorbar": {
             "outlinewidth": 0,
             "ticks": ""
            },
            "type": "mesh3d"
           }
          ],
          "parcoords": [
           {
            "line": {
             "colorbar": {
              "outlinewidth": 0,
              "ticks": ""
             }
            },
            "type": "parcoords"
           }
          ],
          "pie": [
           {
            "automargin": true,
            "type": "pie"
           }
          ],
          "scatter": [
           {
            "fillpattern": {
             "fillmode": "overlay",
             "size": 10,
             "solidity": 0.2
            },
            "type": "scatter"
           }
          ],
          "scatter3d": [
           {
            "line": {
             "colorbar": {
              "outlinewidth": 0,
              "ticks": ""
             }
            },
            "marker": {
             "colorbar": {
              "outlinewidth": 0,
              "ticks": ""
             }
            },
            "type": "scatter3d"
           }
          ],
          "scattercarpet": [
           {
            "marker": {
             "colorbar": {
              "outlinewidth": 0,
              "ticks": ""
             }
            },
            "type": "scattercarpet"
           }
          ],
          "scattergeo": [
           {
            "marker": {
             "colorbar": {
              "outlinewidth": 0,
              "ticks": ""
             }
            },
            "type": "scattergeo"
           }
          ],
          "scattergl": [
           {
            "marker": {
             "colorbar": {
              "outlinewidth": 0,
              "ticks": ""
             }
            },
            "type": "scattergl"
           }
          ],
          "scattermapbox": [
           {
            "marker": {
             "colorbar": {
              "outlinewidth": 0,
              "ticks": ""
             }
            },
            "type": "scattermapbox"
           }
          ],
          "scatterpolar": [
           {
            "marker": {
             "colorbar": {
              "outlinewidth": 0,
              "ticks": ""
             }
            },
            "type": "scatterpolar"
           }
          ],
          "scatterpolargl": [
           {
            "marker": {
             "colorbar": {
              "outlinewidth": 0,
              "ticks": ""
             }
            },
            "type": "scatterpolargl"
           }
          ],
          "scatterternary": [
           {
            "marker": {
             "colorbar": {
              "outlinewidth": 0,
              "ticks": ""
             }
            },
            "type": "scatterternary"
           }
          ],
          "surface": [
           {
            "colorbar": {
             "outlinewidth": 0,
             "ticks": ""
            },
            "colorscale": [
             [
              0,
              "#0d0887"
             ],
             [
              0.1111111111111111,
              "#46039f"
             ],
             [
              0.2222222222222222,
              "#7201a8"
             ],
             [
              0.3333333333333333,
              "#9c179e"
             ],
             [
              0.4444444444444444,
              "#bd3786"
             ],
             [
              0.5555555555555556,
              "#d8576b"
             ],
             [
              0.6666666666666666,
              "#ed7953"
             ],
             [
              0.7777777777777778,
              "#fb9f3a"
             ],
             [
              0.8888888888888888,
              "#fdca26"
             ],
             [
              1,
              "#f0f921"
             ]
            ],
            "type": "surface"
           }
          ],
          "table": [
           {
            "cells": {
             "fill": {
              "color": "#EBF0F8"
             },
             "line": {
              "color": "white"
             }
            },
            "header": {
             "fill": {
              "color": "#C8D4E3"
             },
             "line": {
              "color": "white"
             }
            },
            "type": "table"
           }
          ]
         },
         "layout": {
          "annotationdefaults": {
           "arrowcolor": "#2a3f5f",
           "arrowhead": 0,
           "arrowwidth": 1
          },
          "autotypenumbers": "strict",
          "coloraxis": {
           "colorbar": {
            "outlinewidth": 0,
            "ticks": ""
           }
          },
          "colorscale": {
           "diverging": [
            [
             0,
             "#8e0152"
            ],
            [
             0.1,
             "#c51b7d"
            ],
            [
             0.2,
             "#de77ae"
            ],
            [
             0.3,
             "#f1b6da"
            ],
            [
             0.4,
             "#fde0ef"
            ],
            [
             0.5,
             "#f7f7f7"
            ],
            [
             0.6,
             "#e6f5d0"
            ],
            [
             0.7,
             "#b8e186"
            ],
            [
             0.8,
             "#7fbc41"
            ],
            [
             0.9,
             "#4d9221"
            ],
            [
             1,
             "#276419"
            ]
           ],
           "sequential": [
            [
             0,
             "#0d0887"
            ],
            [
             0.1111111111111111,
             "#46039f"
            ],
            [
             0.2222222222222222,
             "#7201a8"
            ],
            [
             0.3333333333333333,
             "#9c179e"
            ],
            [
             0.4444444444444444,
             "#bd3786"
            ],
            [
             0.5555555555555556,
             "#d8576b"
            ],
            [
             0.6666666666666666,
             "#ed7953"
            ],
            [
             0.7777777777777778,
             "#fb9f3a"
            ],
            [
             0.8888888888888888,
             "#fdca26"
            ],
            [
             1,
             "#f0f921"
            ]
           ],
           "sequentialminus": [
            [
             0,
             "#0d0887"
            ],
            [
             0.1111111111111111,
             "#46039f"
            ],
            [
             0.2222222222222222,
             "#7201a8"
            ],
            [
             0.3333333333333333,
             "#9c179e"
            ],
            [
             0.4444444444444444,
             "#bd3786"
            ],
            [
             0.5555555555555556,
             "#d8576b"
            ],
            [
             0.6666666666666666,
             "#ed7953"
            ],
            [
             0.7777777777777778,
             "#fb9f3a"
            ],
            [
             0.8888888888888888,
             "#fdca26"
            ],
            [
             1,
             "#f0f921"
            ]
           ]
          },
          "colorway": [
           "#636efa",
           "#EF553B",
           "#00cc96",
           "#ab63fa",
           "#FFA15A",
           "#19d3f3",
           "#FF6692",
           "#B6E880",
           "#FF97FF",
           "#FECB52"
          ],
          "font": {
           "color": "#2a3f5f"
          },
          "geo": {
           "bgcolor": "white",
           "lakecolor": "white",
           "landcolor": "#E5ECF6",
           "showlakes": true,
           "showland": true,
           "subunitcolor": "white"
          },
          "hoverlabel": {
           "align": "left"
          },
          "hovermode": "closest",
          "mapbox": {
           "style": "light"
          },
          "paper_bgcolor": "white",
          "plot_bgcolor": "#E5ECF6",
          "polar": {
           "angularaxis": {
            "gridcolor": "white",
            "linecolor": "white",
            "ticks": ""
           },
           "bgcolor": "#E5ECF6",
           "radialaxis": {
            "gridcolor": "white",
            "linecolor": "white",
            "ticks": ""
           }
          },
          "scene": {
           "xaxis": {
            "backgroundcolor": "#E5ECF6",
            "gridcolor": "white",
            "gridwidth": 2,
            "linecolor": "white",
            "showbackground": true,
            "ticks": "",
            "zerolinecolor": "white"
           },
           "yaxis": {
            "backgroundcolor": "#E5ECF6",
            "gridcolor": "white",
            "gridwidth": 2,
            "linecolor": "white",
            "showbackground": true,
            "ticks": "",
            "zerolinecolor": "white"
           },
           "zaxis": {
            "backgroundcolor": "#E5ECF6",
            "gridcolor": "white",
            "gridwidth": 2,
            "linecolor": "white",
            "showbackground": true,
            "ticks": "",
            "zerolinecolor": "white"
           }
          },
          "shapedefaults": {
           "line": {
            "color": "#2a3f5f"
           }
          },
          "ternary": {
           "aaxis": {
            "gridcolor": "white",
            "linecolor": "white",
            "ticks": ""
           },
           "baxis": {
            "gridcolor": "white",
            "linecolor": "white",
            "ticks": ""
           },
           "bgcolor": "#E5ECF6",
           "caxis": {
            "gridcolor": "white",
            "linecolor": "white",
            "ticks": ""
           }
          },
          "title": {
           "x": 0.05
          },
          "xaxis": {
           "automargin": true,
           "gridcolor": "white",
           "linecolor": "white",
           "ticks": "",
           "title": {
            "standoff": 15
           },
           "zerolinecolor": "white",
           "zerolinewidth": 2
          },
          "yaxis": {
           "automargin": true,
           "gridcolor": "white",
           "linecolor": "white",
           "ticks": "",
           "title": {
            "standoff": 15
           },
           "zerolinecolor": "white",
           "zerolinewidth": 2
          }
         }
        },
        "title": {
         "text": "Predicted Medals by Sport: Sex"
        },
        "xaxis": {
         "anchor": "y",
         "domain": [
          0,
          0.49
         ],
         "title": {}
        },
        "xaxis2": {
         "anchor": "y2",
         "domain": [
          0.51,
          1
         ],
         "matches": "x",
         "title": {
          "text": "Sport"
         }
        },
        "yaxis": {
         "anchor": "x",
         "domain": [
          0,
          1
         ],
         "title": {
          "text": "Number of Medals"
         }
        },
        "yaxis2": {
         "anchor": "x2",
         "domain": [
          0,
          1
         ],
         "matches": "y",
         "showticklabels": false
        }
       }
      }
     },
     "metadata": {},
     "output_type": "display_data"
    }
   ],
   "source": [
    "# Filter data for sports with significant medal predictions\n",
    "sports_with_predictions = df.groupby('Sport')['pred_medal'].sum().sort_values(ascending=False).index[:5]\n",
    "df_filtered = df[df['Sport'].isin(sports_with_predictions)]\n",
    "\n",
    "# Plot predicted medals by sport and host status\n",
    "fig = px.bar(df_filtered, x='Sport', color='pred_medal', facet_col='Sex', title='Predicted Medals by Sport: Sex',\n",
    "             labels={'pred_medal': 'Medal Type', 'Sport': 'Sport'}, category_orders={'pred_medal': ['Bronze', 'Silver', 'Gold']},\n",
    "             color_discrete_sequence=['lightblue', 'lightgreen', 'lightcoral'])\n",
    "fig.update_layout(xaxis_title=None, yaxis_title='Number of Medals', legend_title='Medal Type')\n",
    "fig.show()\n"
   ]
  },
  {
   "cell_type": "code",
   "execution_count": 89,
   "metadata": {},
   "outputs": [
    {
     "data": {
      "application/vnd.plotly.v1+json": {
       "config": {
        "plotlyServerURL": "https://plot.ly"
       },
       "data": [
        {
         "hovertemplate": "Sex=0<br>Age=%{x}<br>Predicted Medal=%{y}<extra></extra>",
         "legendgroup": "0",
         "marker": {
          "color": "magenta",
          "size": 8,
          "symbol": "circle"
         },
         "mode": "markers",
         "name": "0",
         "orientation": "h",
         "showlegend": true,
         "type": "scatter",
         "x": [
          27,
          27,
          27,
          20,
          29,
          26,
          26,
          22,
          25,
          21,
          24,
          19,
          27,
          24,
          28,
          29,
          29,
          22,
          31,
          31,
          20,
          29,
          19,
          25,
          20,
          22,
          22,
          30,
          22,
          31,
          22,
          22,
          25,
          29,
          26,
          29,
          24,
          24,
          24,
          23,
          23,
          23,
          37,
          37,
          26,
          25,
          25,
          25,
          21,
          21,
          27,
          26,
          37,
          26,
          21,
          21,
          32,
          26,
          26,
          26,
          32,
          31,
          32,
          24,
          26,
          19,
          27,
          30,
          27,
          20,
          20,
          20,
          27,
          26,
          26,
          21,
          21,
          23,
          21,
          20,
          21,
          28,
          29,
          25,
          33,
          34,
          27,
          27,
          25,
          23,
          23,
          28,
          28,
          26,
          23,
          26,
          24,
          29,
          29,
          24,
          20,
          20,
          20,
          27,
          27,
          27,
          25,
          25,
          25,
          22,
          22,
          35,
          26,
          26,
          26,
          24,
          26,
          24,
          24,
          22,
          23,
          21,
          21,
          29,
          15,
          15,
          17,
          26,
          24,
          20,
          18,
          18,
          18,
          30,
          23,
          23,
          40,
          28,
          23,
          27,
          27,
          27,
          23,
          22,
          30,
          26,
          26,
          26,
          25,
          27,
          25,
          28,
          32,
          28,
          22,
          26,
          27,
          26,
          28,
          26,
          17,
          19,
          16,
          16,
          18,
          16,
          22,
          26,
          25,
          23,
          27,
          27,
          25,
          24,
          21,
          25,
          25,
          25,
          21,
          25,
          27,
          23,
          25,
          27,
          25,
          28,
          29,
          25,
          24,
          25,
          26,
          26,
          26,
          27,
          24,
          24,
          24,
          18,
          25,
          18,
          20,
          23,
          29,
          27,
          24,
          25,
          25,
          23,
          27,
          29,
          29,
          34,
          32,
          27,
          32,
          25,
          24,
          31,
          27,
          27,
          21,
          28,
          27,
          23,
          26,
          29,
          25,
          23,
          25,
          21,
          29,
          29,
          31,
          27,
          31,
          19,
          33,
          25,
          47,
          19,
          19,
          19,
          33,
          33,
          33,
          27,
          33,
          33,
          28,
          26,
          26,
          25,
          33,
          25,
          22,
          22,
          20,
          21,
          19,
          27,
          21,
          22,
          23,
          16,
          16,
          16,
          25,
          25,
          25,
          27,
          27,
          27,
          22,
          27,
          27,
          22,
          19,
          16,
          21,
          20,
          19,
          25,
          21,
          22,
          20,
          22,
          28,
          23,
          23,
          23,
          25,
          25,
          25,
          23,
          21,
          25,
          22,
          33,
          21,
          15,
          25,
          15,
          25,
          23,
          25,
          18,
          22,
          18,
          20,
          22,
          24,
          28,
          28,
          23,
          31,
          26,
          28,
          26,
          35,
          22,
          27,
          25,
          27,
          27,
          30,
          30,
          30,
          34,
          24,
          27,
          30,
          22,
          29,
          21,
          21,
          21,
          20,
          20,
          31,
          22,
          24,
          18,
          25,
          21,
          21,
          22,
          23,
          23,
          23,
          27,
          28,
          24,
          24,
          24,
          26,
          22,
          21,
          29,
          27,
          29,
          21,
          21,
          24,
          23,
          23,
          31,
          23,
          21,
          36
         ],
         "xaxis": "x",
         "y": [
          "Bronze",
          "Bronze",
          "Bronze",
          "Gold",
          "Silver",
          "Bronze",
          "Gold",
          "Silver",
          "Gold",
          "Gold",
          "Silver",
          "Bronze",
          "Gold",
          "Silver",
          "Bronze",
          "Silver",
          "Silver",
          "Bronze",
          "Gold",
          "Gold",
          "Bronze",
          "Bronze",
          "Silver",
          "Bronze",
          "Silver",
          "Silver",
          "Silver",
          "Gold",
          "Silver",
          "Bronze",
          "Gold",
          "Silver",
          "Bronze",
          "Gold",
          "Silver",
          "Bronze",
          "Bronze",
          "Bronze",
          "Bronze",
          "Gold",
          "Gold",
          "Gold",
          "Silver",
          "Silver",
          "Bronze",
          "Bronze",
          "Bronze",
          "Bronze",
          "Silver",
          "Silver",
          "Silver",
          "Gold",
          "Silver",
          "Gold",
          "Gold",
          "Gold",
          "Bronze",
          "Bronze",
          "Bronze",
          "Bronze",
          "Gold",
          "Silver",
          "Gold",
          "Gold",
          "Silver",
          "Silver",
          "Bronze",
          "Silver",
          "Bronze",
          "Gold",
          "Gold",
          "Gold",
          "Gold",
          "Silver",
          "Silver",
          "Bronze",
          "Gold",
          "Silver",
          "Bronze",
          "Gold",
          "Silver",
          "Bronze",
          "Gold",
          "Silver",
          "Gold",
          "Gold",
          "Bronze",
          "Bronze",
          "Gold",
          "Silver",
          "Bronze",
          "Gold",
          "Gold",
          "Bronze",
          "Gold",
          "Silver",
          "Gold",
          "Gold",
          "Gold",
          "Bronze",
          "Gold",
          "Gold",
          "Gold",
          "Gold",
          "Gold",
          "Gold",
          "Gold",
          "Bronze",
          "Bronze",
          "Silver",
          "Silver",
          "Bronze",
          "Bronze",
          "Bronze",
          "Bronze",
          "Bronze",
          "Bronze",
          "Bronze",
          "Gold",
          "Silver",
          "Bronze",
          "Gold",
          "Silver",
          "Bronze",
          "Silver",
          "Silver",
          "Bronze",
          "Gold",
          "Silver",
          "Bronze",
          "Silver",
          "Silver",
          "Silver",
          "Gold",
          "Bronze",
          "Bronze",
          "Gold",
          "Bronze",
          "Gold",
          "Bronze",
          "Bronze",
          "Bronze",
          "Gold",
          "Silver",
          "Bronze",
          "Gold",
          "Bronze",
          "Bronze",
          "Gold",
          "Silver",
          "Bronze",
          "Gold",
          "Silver",
          "Gold",
          "Gold",
          "Silver",
          "Bronze",
          "Gold",
          "Silver",
          "Gold",
          "Gold",
          "Silver",
          "Bronze",
          "Gold",
          "Silver",
          "Bronze",
          "Gold",
          "Silver",
          "Bronze",
          "Gold",
          "Silver",
          "Bronze",
          "Bronze",
          "Bronze",
          "Bronze",
          "Bronze",
          "Bronze",
          "Bronze",
          "Gold",
          "Silver",
          "Bronze",
          "Gold",
          "Silver",
          "Bronze",
          "Bronze",
          "Silver",
          "Bronze",
          "Gold",
          "Silver",
          "Gold",
          "Silver",
          "Silver",
          "Bronze",
          "Gold",
          "Silver",
          "Silver",
          "Gold",
          "Silver",
          "Bronze",
          "Silver",
          "Silver",
          "Bronze",
          "Gold",
          "Silver",
          "Bronze",
          "Silver",
          "Silver",
          "Bronze",
          "Gold",
          "Bronze",
          "Bronze",
          "Gold",
          "Silver",
          "Bronze",
          "Gold",
          "Silver",
          "Bronze",
          "Gold",
          "Bronze",
          "Bronze",
          "Gold",
          "Silver",
          "Bronze",
          "Bronze",
          "Gold",
          "Silver",
          "Bronze",
          "Gold",
          "Silver",
          "Bronze",
          "Bronze",
          "Bronze",
          "Bronze",
          "Gold",
          "Silver",
          "Gold",
          "Gold",
          "Silver",
          "Bronze",
          "Silver",
          "Silver",
          "Silver",
          "Silver",
          "Silver",
          "Silver",
          "Gold",
          "Silver",
          "Silver",
          "Gold",
          "Silver",
          "Silver",
          "Bronze",
          "Bronze",
          "Bronze",
          "Bronze",
          "Silver",
          "Bronze",
          "Gold",
          "Silver",
          "Bronze",
          "Gold",
          "Silver",
          "Gold",
          "Bronze",
          "Bronze",
          "Bronze",
          "Bronze",
          "Bronze",
          "Bronze",
          "Silver",
          "Silver",
          "Silver",
          "Gold",
          "Silver",
          "Silver",
          "Silver",
          "Silver",
          "Bronze",
          "Gold",
          "Silver",
          "Bronze",
          "Gold",
          "Bronze",
          "Bronze",
          "Gold",
          "Silver",
          "Bronze",
          "Gold",
          "Gold",
          "Gold",
          "Bronze",
          "Bronze",
          "Bronze",
          "Gold",
          "Silver",
          "Bronze",
          "Gold",
          "Gold",
          "Bronze",
          "Gold",
          "Silver",
          "Gold",
          "Bronze",
          "Silver",
          "Bronze",
          "Gold",
          "Silver",
          "Bronze",
          "Bronze",
          "Silver",
          "Bronze",
          "Silver",
          "Silver",
          "Bronze",
          "Silver",
          "Bronze",
          "Silver",
          "Bronze",
          "Gold",
          "Silver",
          "Bronze",
          "Gold",
          "Bronze",
          "Bronze",
          "Silver",
          "Silver",
          "Silver",
          "Gold",
          "Silver",
          "Bronze",
          "Gold",
          "Silver",
          "Bronze",
          "Gold",
          "Silver",
          "Gold",
          "Gold",
          "Gold",
          "Bronze",
          "Gold",
          "Bronze",
          "Bronze",
          "Gold",
          "Silver",
          "Silver",
          "Gold",
          "Silver",
          "Bronze",
          "Gold",
          "Silver",
          "Bronze",
          "Silver",
          "Silver",
          "Silver",
          "Silver",
          "Silver",
          "Bronze",
          "Gold",
          "Silver",
          "Bronze",
          "Silver",
          "Silver",
          "Bronze",
          "Gold",
          "Gold",
          "Bronze",
          "Gold",
          "Bronze",
          "Bronze"
         ],
         "yaxis": "y"
        },
        {
         "hovertemplate": "Sex=1<br>Age=%{x}<br>Predicted Medal=%{y}<extra></extra>",
         "legendgroup": "1",
         "marker": {
          "color": "darkblue",
          "size": 8,
          "symbol": "circle"
         },
         "mode": "markers",
         "name": "1",
         "orientation": "h",
         "showlegend": true,
         "type": "scatter",
         "x": [
          27,
          23,
          25,
          26,
          26,
          26,
          25,
          25,
          24,
          24,
          26,
          24,
          25,
          25,
          29,
          25,
          33,
          24,
          25,
          25,
          24,
          27,
          21,
          21,
          20,
          21,
          20,
          26,
          25,
          21,
          23,
          25,
          20,
          24,
          24,
          29,
          25,
          25,
          22,
          28,
          28,
          28,
          21,
          21,
          21,
          24,
          26,
          26,
          26,
          26,
          26,
          27,
          34,
          27,
          26,
          26,
          26,
          27,
          24,
          27,
          27,
          27,
          27,
          26,
          26,
          26,
          22,
          22,
          23,
          27,
          23,
          24,
          27,
          27,
          27,
          27,
          26,
          26,
          22,
          22,
          22,
          29,
          28,
          28,
          26,
          23,
          25,
          29,
          26,
          19,
          21,
          26,
          27,
          27,
          27,
          23,
          23,
          19,
          28,
          25,
          24,
          24,
          23,
          20,
          27,
          26,
          23,
          31,
          25,
          25,
          21,
          25,
          28,
          20,
          23,
          23,
          24,
          30,
          24,
          23,
          23,
          25,
          25,
          24,
          21,
          28,
          33,
          28,
          29,
          29,
          29,
          32,
          22,
          22,
          28,
          29,
          29,
          22,
          22,
          27,
          23,
          24,
          30,
          21,
          26,
          21,
          26,
          21,
          26,
          34,
          34,
          34,
          32,
          23,
          23,
          31,
          31,
          31,
          25,
          23,
          22,
          23,
          23,
          23,
          31,
          31,
          31,
          31,
          34,
          34,
          27,
          25,
          26,
          25,
          23,
          30,
          22,
          23,
          23,
          25,
          25,
          25,
          20,
          20,
          20,
          22,
          23,
          23,
          19,
          19,
          19,
          24,
          24,
          24,
          21,
          53,
          34,
          27,
          32,
          34,
          24,
          23,
          23,
          26,
          26,
          26,
          26,
          26,
          26,
          27,
          27,
          22,
          23,
          38,
          36,
          21,
          21,
          19,
          40,
          40,
          38,
          31,
          31,
          31,
          19,
          22,
          20,
          25,
          25,
          25,
          19,
          19,
          25,
          28,
          29,
          22,
          26,
          27,
          29,
          23,
          30,
          22,
          25,
          25,
          28,
          22,
          22,
          21,
          30,
          22,
          22,
          24,
          24,
          25,
          24,
          32,
          24,
          27,
          21,
          25,
          29,
          28,
          26,
          25,
          28,
          22,
          23,
          29,
          32,
          25,
          27,
          21,
          27,
          26,
          26,
          28,
          31,
          24,
          22,
          27,
          28,
          28,
          27,
          34,
          30,
          30,
          30,
          25,
          28,
          29,
          30,
          26,
          25,
          25,
          29,
          25,
          26,
          28,
          28,
          27,
          30,
          32,
          27,
          27,
          27,
          24,
          30,
          41,
          24,
          30,
          28,
          23,
          21,
          37,
          37,
          31,
          20,
          26,
          26,
          26,
          21,
          52,
          24,
          28,
          24,
          21,
          21,
          21,
          33,
          33,
          33,
          25,
          21,
          21,
          20,
          24,
          20,
          26,
          21,
          19,
          21,
          21,
          24,
          21,
          25,
          22,
          23,
          19,
          25,
          20,
          23,
          23,
          23,
          19,
          19,
          21,
          19,
          19,
          20,
          19,
          19,
          22,
          22,
          22,
          24,
          20,
          22,
          23,
          21,
          22,
          22,
          36,
          23,
          22,
          22,
          22,
          30,
          30,
          30,
          27,
          27,
          27,
          23,
          26,
          21,
          20,
          20,
          20,
          18,
          20,
          21,
          21,
          26,
          23,
          22,
          22,
          25,
          31,
          34,
          31,
          26,
          37,
          23,
          32,
          32,
          20,
          20,
          24,
          24,
          24,
          24,
          32,
          32,
          29,
          29,
          19,
          22,
          20,
          20,
          20,
          25,
          25,
          25,
          19,
          24,
          23,
          22,
          27,
          27,
          24,
          22,
          21,
          25,
          25,
          25,
          22,
          22,
          26,
          21,
          21,
          31,
          20,
          27,
          25,
          22,
          24,
          24,
          20,
          20,
          31,
          26,
          30,
          30,
          26,
          20,
          26,
          23,
          21,
          26,
          33,
          30,
          33,
          29,
          29,
          25,
          31,
          31,
          31,
          25,
          25,
          22,
          20,
          20,
          27,
          24,
          25,
          26,
          27,
          25,
          26
         ],
         "xaxis": "x",
         "y": [
          "Gold",
          "Silver",
          "Bronze",
          "Silver",
          "Silver",
          "Silver",
          "Gold",
          "Gold",
          "Bronze",
          "Gold",
          "Silver",
          "Bronze",
          "Gold",
          "Gold",
          "Bronze",
          "Gold",
          "Bronze",
          "Bronze",
          "Bronze",
          "Bronze",
          "Bronze",
          "Gold",
          "Silver",
          "Silver",
          "Bronze",
          "Silver",
          "Bronze",
          "Gold",
          "Bronze",
          "Bronze",
          "Gold",
          "Silver",
          "Bronze",
          "Gold",
          "Gold",
          "Bronze",
          "Gold",
          "Gold",
          "Bronze",
          "Bronze",
          "Bronze",
          "Bronze",
          "Bronze",
          "Bronze",
          "Bronze",
          "Gold",
          "Bronze",
          "Bronze",
          "Bronze",
          "Bronze",
          "Bronze",
          "Bronze",
          "Silver",
          "Bronze",
          "Bronze",
          "Bronze",
          "Bronze",
          "Silver",
          "Silver",
          "Silver",
          "Gold",
          "Gold",
          "Gold",
          "Gold",
          "Gold",
          "Gold",
          "Silver",
          "Silver",
          "Bronze",
          "Gold",
          "Silver",
          "Bronze",
          "Bronze",
          "Bronze",
          "Bronze",
          "Gold",
          "Bronze",
          "Bronze",
          "Bronze",
          "Bronze",
          "Bronze",
          "Silver",
          "Gold",
          "Gold",
          "Silver",
          "Bronze",
          "Gold",
          "Gold",
          "Bronze",
          "Bronze",
          "Bronze",
          "Bronze",
          "Silver",
          "Silver",
          "Silver",
          "Silver",
          "Silver",
          "Bronze",
          "Bronze",
          "Silver",
          "Bronze",
          "Gold",
          "Silver",
          "Bronze",
          "Bronze",
          "Silver",
          "Bronze",
          "Gold",
          "Bronze",
          "Bronze",
          "Gold",
          "Silver",
          "Bronze",
          "Gold",
          "Silver",
          "Bronze",
          "Bronze",
          "Silver",
          "Bronze",
          "Gold",
          "Bronze",
          "Bronze",
          "Silver",
          "Silver",
          "Bronze",
          "Bronze",
          "Silver",
          "Bronze",
          "Silver",
          "Silver",
          "Silver",
          "Gold",
          "Gold",
          "Gold",
          "Gold",
          "Silver",
          "Bronze",
          "Silver",
          "Silver",
          "Silver",
          "Silver",
          "Silver",
          "Bronze",
          "Gold",
          "Silver",
          "Gold",
          "Gold",
          "Silver",
          "Gold",
          "Gold",
          "Gold",
          "Gold",
          "Gold",
          "Silver",
          "Bronze",
          "Bronze",
          "Bronze",
          "Bronze",
          "Gold",
          "Silver",
          "Gold",
          "Gold",
          "Gold",
          "Gold",
          "Bronze",
          "Bronze",
          "Bronze",
          "Gold",
          "Gold",
          "Gold",
          "Gold",
          "Bronze",
          "Bronze",
          "Gold",
          "Gold",
          "Bronze",
          "Gold",
          "Silver",
          "Bronze",
          "Gold",
          "Gold",
          "Gold",
          "Gold",
          "Bronze",
          "Bronze",
          "Gold",
          "Silver",
          "Silver",
          "Bronze",
          "Bronze",
          "Bronze",
          "Gold",
          "Gold",
          "Gold",
          "Silver",
          "Silver",
          "Bronze",
          "Gold",
          "Silver",
          "Bronze",
          "Gold",
          "Silver",
          "Bronze",
          "Gold",
          "Gold",
          "Gold",
          "Gold",
          "Gold",
          "Gold",
          "Gold",
          "Silver",
          "Bronze",
          "Gold",
          "Silver",
          "Bronze",
          "Gold",
          "Silver",
          "Bronze",
          "Gold",
          "Gold",
          "Bronze",
          "Silver",
          "Silver",
          "Silver",
          "Gold",
          "Silver",
          "Bronze",
          "Silver",
          "Silver",
          "Silver",
          "Gold",
          "Silver",
          "Bronze",
          "Gold",
          "Silver",
          "Bronze",
          "Gold",
          "Silver",
          "Bronze",
          "Gold",
          "Silver",
          "Bronze",
          "Silver",
          "Silver",
          "Bronze",
          "Gold",
          "Gold",
          "Gold",
          "Bronze",
          "Silver",
          "Bronze",
          "Gold",
          "Gold",
          "Gold",
          "Gold",
          "Bronze",
          "Bronze",
          "Gold",
          "Silver",
          "Bronze",
          "Gold",
          "Silver",
          "Bronze",
          "Gold",
          "Silver",
          "Bronze",
          "Gold",
          "Silver",
          "Bronze",
          "Gold",
          "Silver",
          "Bronze",
          "Gold",
          "Bronze",
          "Bronze",
          "Gold",
          "Silver",
          "Bronze",
          "Gold",
          "Silver",
          "Bronze",
          "Gold",
          "Silver",
          "Bronze",
          "Gold",
          "Gold",
          "Gold",
          "Gold",
          "Silver",
          "Bronze",
          "Gold",
          "Silver",
          "Bronze",
          "Bronze",
          "Silver",
          "Bronze",
          "Bronze",
          "Bronze",
          "Bronze",
          "Gold",
          "Silver",
          "Bronze",
          "Bronze",
          "Bronze",
          "Bronze",
          "Gold",
          "Bronze",
          "Gold",
          "Gold",
          "Bronze",
          "Gold",
          "Gold",
          "Bronze",
          "Gold",
          "Gold",
          "Gold",
          "Gold",
          "Bronze",
          "Bronze",
          "Gold",
          "Silver",
          "Bronze",
          "Bronze",
          "Silver",
          "Bronze",
          "Bronze",
          "Bronze",
          "Bronze",
          "Silver",
          "Silver",
          "Bronze",
          "Gold",
          "Silver",
          "Bronze",
          "Bronze",
          "Silver",
          "Bronze",
          "Gold",
          "Silver",
          "Bronze",
          "Silver",
          "Silver",
          "Bronze",
          "Silver",
          "Silver",
          "Bronze",
          "Gold",
          "Silver",
          "Bronze",
          "Gold",
          "Bronze",
          "Bronze",
          "Bronze",
          "Bronze",
          "Bronze",
          "Gold",
          "Bronze",
          "Bronze",
          "Gold",
          "Silver",
          "Silver",
          "Bronze",
          "Bronze",
          "Bronze",
          "Gold",
          "Silver",
          "Bronze",
          "Gold",
          "Silver",
          "Bronze",
          "Gold",
          "Gold",
          "Bronze",
          "Gold",
          "Gold",
          "Gold",
          "Bronze",
          "Bronze",
          "Bronze",
          "Bronze",
          "Bronze",
          "Bronze",
          "Gold",
          "Silver",
          "Gold",
          "Silver",
          "Silver",
          "Silver",
          "Gold",
          "Bronze",
          "Bronze",
          "Gold",
          "Gold",
          "Bronze",
          "Silver",
          "Silver",
          "Bronze",
          "Gold",
          "Silver",
          "Gold",
          "Bronze",
          "Silver",
          "Bronze",
          "Gold",
          "Gold",
          "Silver",
          "Silver",
          "Bronze",
          "Bronze",
          "Bronze",
          "Bronze",
          "Gold",
          "Silver",
          "Bronze",
          "Gold",
          "Silver",
          "Bronze",
          "Silver",
          "Silver",
          "Silver",
          "Bronze",
          "Bronze",
          "Bronze",
          "Gold",
          "Silver",
          "Silver",
          "Gold",
          "Gold",
          "Gold",
          "Gold",
          "Silver",
          "Bronze",
          "Silver",
          "Silver",
          "Silver",
          "Silver",
          "Silver",
          "Bronze",
          "Gold",
          "Gold",
          "Bronze",
          "Gold",
          "Silver",
          "Bronze",
          "Gold",
          "Bronze",
          "Bronze",
          "Silver",
          "Silver",
          "Bronze",
          "Gold",
          "Bronze",
          "Bronze",
          "Gold",
          "Silver",
          "Gold",
          "Gold",
          "Bronze",
          "Bronze",
          "Bronze",
          "Silver",
          "Bronze",
          "Gold",
          "Gold",
          "Bronze",
          "Silver",
          "Silver",
          "Silver",
          "Silver",
          "Silver",
          "Bronze",
          "Bronze",
          "Bronze",
          "Bronze",
          "Bronze",
          "Silver",
          "Bronze",
          "Gold",
          "Silver",
          "Bronze"
         ],
         "yaxis": "y"
        }
       ],
       "layout": {
        "legend": {
         "title": {
          "text": "Sex"
         },
         "tracegroupgap": 0
        },
        "template": {
         "data": {
          "bar": [
           {
            "error_x": {
             "color": "#2a3f5f"
            },
            "error_y": {
             "color": "#2a3f5f"
            },
            "marker": {
             "line": {
              "color": "#E5ECF6",
              "width": 0.5
             },
             "pattern": {
              "fillmode": "overlay",
              "size": 10,
              "solidity": 0.2
             }
            },
            "type": "bar"
           }
          ],
          "barpolar": [
           {
            "marker": {
             "line": {
              "color": "#E5ECF6",
              "width": 0.5
             },
             "pattern": {
              "fillmode": "overlay",
              "size": 10,
              "solidity": 0.2
             }
            },
            "type": "barpolar"
           }
          ],
          "carpet": [
           {
            "aaxis": {
             "endlinecolor": "#2a3f5f",
             "gridcolor": "white",
             "linecolor": "white",
             "minorgridcolor": "white",
             "startlinecolor": "#2a3f5f"
            },
            "baxis": {
             "endlinecolor": "#2a3f5f",
             "gridcolor": "white",
             "linecolor": "white",
             "minorgridcolor": "white",
             "startlinecolor": "#2a3f5f"
            },
            "type": "carpet"
           }
          ],
          "choropleth": [
           {
            "colorbar": {
             "outlinewidth": 0,
             "ticks": ""
            },
            "type": "choropleth"
           }
          ],
          "contour": [
           {
            "colorbar": {
             "outlinewidth": 0,
             "ticks": ""
            },
            "colorscale": [
             [
              0,
              "#0d0887"
             ],
             [
              0.1111111111111111,
              "#46039f"
             ],
             [
              0.2222222222222222,
              "#7201a8"
             ],
             [
              0.3333333333333333,
              "#9c179e"
             ],
             [
              0.4444444444444444,
              "#bd3786"
             ],
             [
              0.5555555555555556,
              "#d8576b"
             ],
             [
              0.6666666666666666,
              "#ed7953"
             ],
             [
              0.7777777777777778,
              "#fb9f3a"
             ],
             [
              0.8888888888888888,
              "#fdca26"
             ],
             [
              1,
              "#f0f921"
             ]
            ],
            "type": "contour"
           }
          ],
          "contourcarpet": [
           {
            "colorbar": {
             "outlinewidth": 0,
             "ticks": ""
            },
            "type": "contourcarpet"
           }
          ],
          "heatmap": [
           {
            "colorbar": {
             "outlinewidth": 0,
             "ticks": ""
            },
            "colorscale": [
             [
              0,
              "#0d0887"
             ],
             [
              0.1111111111111111,
              "#46039f"
             ],
             [
              0.2222222222222222,
              "#7201a8"
             ],
             [
              0.3333333333333333,
              "#9c179e"
             ],
             [
              0.4444444444444444,
              "#bd3786"
             ],
             [
              0.5555555555555556,
              "#d8576b"
             ],
             [
              0.6666666666666666,
              "#ed7953"
             ],
             [
              0.7777777777777778,
              "#fb9f3a"
             ],
             [
              0.8888888888888888,
              "#fdca26"
             ],
             [
              1,
              "#f0f921"
             ]
            ],
            "type": "heatmap"
           }
          ],
          "heatmapgl": [
           {
            "colorbar": {
             "outlinewidth": 0,
             "ticks": ""
            },
            "colorscale": [
             [
              0,
              "#0d0887"
             ],
             [
              0.1111111111111111,
              "#46039f"
             ],
             [
              0.2222222222222222,
              "#7201a8"
             ],
             [
              0.3333333333333333,
              "#9c179e"
             ],
             [
              0.4444444444444444,
              "#bd3786"
             ],
             [
              0.5555555555555556,
              "#d8576b"
             ],
             [
              0.6666666666666666,
              "#ed7953"
             ],
             [
              0.7777777777777778,
              "#fb9f3a"
             ],
             [
              0.8888888888888888,
              "#fdca26"
             ],
             [
              1,
              "#f0f921"
             ]
            ],
            "type": "heatmapgl"
           }
          ],
          "histogram": [
           {
            "marker": {
             "pattern": {
              "fillmode": "overlay",
              "size": 10,
              "solidity": 0.2
             }
            },
            "type": "histogram"
           }
          ],
          "histogram2d": [
           {
            "colorbar": {
             "outlinewidth": 0,
             "ticks": ""
            },
            "colorscale": [
             [
              0,
              "#0d0887"
             ],
             [
              0.1111111111111111,
              "#46039f"
             ],
             [
              0.2222222222222222,
              "#7201a8"
             ],
             [
              0.3333333333333333,
              "#9c179e"
             ],
             [
              0.4444444444444444,
              "#bd3786"
             ],
             [
              0.5555555555555556,
              "#d8576b"
             ],
             [
              0.6666666666666666,
              "#ed7953"
             ],
             [
              0.7777777777777778,
              "#fb9f3a"
             ],
             [
              0.8888888888888888,
              "#fdca26"
             ],
             [
              1,
              "#f0f921"
             ]
            ],
            "type": "histogram2d"
           }
          ],
          "histogram2dcontour": [
           {
            "colorbar": {
             "outlinewidth": 0,
             "ticks": ""
            },
            "colorscale": [
             [
              0,
              "#0d0887"
             ],
             [
              0.1111111111111111,
              "#46039f"
             ],
             [
              0.2222222222222222,
              "#7201a8"
             ],
             [
              0.3333333333333333,
              "#9c179e"
             ],
             [
              0.4444444444444444,
              "#bd3786"
             ],
             [
              0.5555555555555556,
              "#d8576b"
             ],
             [
              0.6666666666666666,
              "#ed7953"
             ],
             [
              0.7777777777777778,
              "#fb9f3a"
             ],
             [
              0.8888888888888888,
              "#fdca26"
             ],
             [
              1,
              "#f0f921"
             ]
            ],
            "type": "histogram2dcontour"
           }
          ],
          "mesh3d": [
           {
            "colorbar": {
             "outlinewidth": 0,
             "ticks": ""
            },
            "type": "mesh3d"
           }
          ],
          "parcoords": [
           {
            "line": {
             "colorbar": {
              "outlinewidth": 0,
              "ticks": ""
             }
            },
            "type": "parcoords"
           }
          ],
          "pie": [
           {
            "automargin": true,
            "type": "pie"
           }
          ],
          "scatter": [
           {
            "fillpattern": {
             "fillmode": "overlay",
             "size": 10,
             "solidity": 0.2
            },
            "type": "scatter"
           }
          ],
          "scatter3d": [
           {
            "line": {
             "colorbar": {
              "outlinewidth": 0,
              "ticks": ""
             }
            },
            "marker": {
             "colorbar": {
              "outlinewidth": 0,
              "ticks": ""
             }
            },
            "type": "scatter3d"
           }
          ],
          "scattercarpet": [
           {
            "marker": {
             "colorbar": {
              "outlinewidth": 0,
              "ticks": ""
             }
            },
            "type": "scattercarpet"
           }
          ],
          "scattergeo": [
           {
            "marker": {
             "colorbar": {
              "outlinewidth": 0,
              "ticks": ""
             }
            },
            "type": "scattergeo"
           }
          ],
          "scattergl": [
           {
            "marker": {
             "colorbar": {
              "outlinewidth": 0,
              "ticks": ""
             }
            },
            "type": "scattergl"
           }
          ],
          "scattermapbox": [
           {
            "marker": {
             "colorbar": {
              "outlinewidth": 0,
              "ticks": ""
             }
            },
            "type": "scattermapbox"
           }
          ],
          "scatterpolar": [
           {
            "marker": {
             "colorbar": {
              "outlinewidth": 0,
              "ticks": ""
             }
            },
            "type": "scatterpolar"
           }
          ],
          "scatterpolargl": [
           {
            "marker": {
             "colorbar": {
              "outlinewidth": 0,
              "ticks": ""
             }
            },
            "type": "scatterpolargl"
           }
          ],
          "scatterternary": [
           {
            "marker": {
             "colorbar": {
              "outlinewidth": 0,
              "ticks": ""
             }
            },
            "type": "scatterternary"
           }
          ],
          "surface": [
           {
            "colorbar": {
             "outlinewidth": 0,
             "ticks": ""
            },
            "colorscale": [
             [
              0,
              "#0d0887"
             ],
             [
              0.1111111111111111,
              "#46039f"
             ],
             [
              0.2222222222222222,
              "#7201a8"
             ],
             [
              0.3333333333333333,
              "#9c179e"
             ],
             [
              0.4444444444444444,
              "#bd3786"
             ],
             [
              0.5555555555555556,
              "#d8576b"
             ],
             [
              0.6666666666666666,
              "#ed7953"
             ],
             [
              0.7777777777777778,
              "#fb9f3a"
             ],
             [
              0.8888888888888888,
              "#fdca26"
             ],
             [
              1,
              "#f0f921"
             ]
            ],
            "type": "surface"
           }
          ],
          "table": [
           {
            "cells": {
             "fill": {
              "color": "#EBF0F8"
             },
             "line": {
              "color": "white"
             }
            },
            "header": {
             "fill": {
              "color": "#C8D4E3"
             },
             "line": {
              "color": "white"
             }
            },
            "type": "table"
           }
          ]
         },
         "layout": {
          "annotationdefaults": {
           "arrowcolor": "#2a3f5f",
           "arrowhead": 0,
           "arrowwidth": 1
          },
          "autotypenumbers": "strict",
          "coloraxis": {
           "colorbar": {
            "outlinewidth": 0,
            "ticks": ""
           }
          },
          "colorscale": {
           "diverging": [
            [
             0,
             "#8e0152"
            ],
            [
             0.1,
             "#c51b7d"
            ],
            [
             0.2,
             "#de77ae"
            ],
            [
             0.3,
             "#f1b6da"
            ],
            [
             0.4,
             "#fde0ef"
            ],
            [
             0.5,
             "#f7f7f7"
            ],
            [
             0.6,
             "#e6f5d0"
            ],
            [
             0.7,
             "#b8e186"
            ],
            [
             0.8,
             "#7fbc41"
            ],
            [
             0.9,
             "#4d9221"
            ],
            [
             1,
             "#276419"
            ]
           ],
           "sequential": [
            [
             0,
             "#0d0887"
            ],
            [
             0.1111111111111111,
             "#46039f"
            ],
            [
             0.2222222222222222,
             "#7201a8"
            ],
            [
             0.3333333333333333,
             "#9c179e"
            ],
            [
             0.4444444444444444,
             "#bd3786"
            ],
            [
             0.5555555555555556,
             "#d8576b"
            ],
            [
             0.6666666666666666,
             "#ed7953"
            ],
            [
             0.7777777777777778,
             "#fb9f3a"
            ],
            [
             0.8888888888888888,
             "#fdca26"
            ],
            [
             1,
             "#f0f921"
            ]
           ],
           "sequentialminus": [
            [
             0,
             "#0d0887"
            ],
            [
             0.1111111111111111,
             "#46039f"
            ],
            [
             0.2222222222222222,
             "#7201a8"
            ],
            [
             0.3333333333333333,
             "#9c179e"
            ],
            [
             0.4444444444444444,
             "#bd3786"
            ],
            [
             0.5555555555555556,
             "#d8576b"
            ],
            [
             0.6666666666666666,
             "#ed7953"
            ],
            [
             0.7777777777777778,
             "#fb9f3a"
            ],
            [
             0.8888888888888888,
             "#fdca26"
            ],
            [
             1,
             "#f0f921"
            ]
           ]
          },
          "colorway": [
           "#636efa",
           "#EF553B",
           "#00cc96",
           "#ab63fa",
           "#FFA15A",
           "#19d3f3",
           "#FF6692",
           "#B6E880",
           "#FF97FF",
           "#FECB52"
          ],
          "font": {
           "color": "#2a3f5f"
          },
          "geo": {
           "bgcolor": "white",
           "lakecolor": "white",
           "landcolor": "#E5ECF6",
           "showlakes": true,
           "showland": true,
           "subunitcolor": "white"
          },
          "hoverlabel": {
           "align": "left"
          },
          "hovermode": "closest",
          "mapbox": {
           "style": "light"
          },
          "paper_bgcolor": "white",
          "plot_bgcolor": "#E5ECF6",
          "polar": {
           "angularaxis": {
            "gridcolor": "white",
            "linecolor": "white",
            "ticks": ""
           },
           "bgcolor": "#E5ECF6",
           "radialaxis": {
            "gridcolor": "white",
            "linecolor": "white",
            "ticks": ""
           }
          },
          "scene": {
           "xaxis": {
            "backgroundcolor": "#E5ECF6",
            "gridcolor": "white",
            "gridwidth": 2,
            "linecolor": "white",
            "showbackground": true,
            "ticks": "",
            "zerolinecolor": "white"
           },
           "yaxis": {
            "backgroundcolor": "#E5ECF6",
            "gridcolor": "white",
            "gridwidth": 2,
            "linecolor": "white",
            "showbackground": true,
            "ticks": "",
            "zerolinecolor": "white"
           },
           "zaxis": {
            "backgroundcolor": "#E5ECF6",
            "gridcolor": "white",
            "gridwidth": 2,
            "linecolor": "white",
            "showbackground": true,
            "ticks": "",
            "zerolinecolor": "white"
           }
          },
          "shapedefaults": {
           "line": {
            "color": "#2a3f5f"
           }
          },
          "ternary": {
           "aaxis": {
            "gridcolor": "white",
            "linecolor": "white",
            "ticks": ""
           },
           "baxis": {
            "gridcolor": "white",
            "linecolor": "white",
            "ticks": ""
           },
           "bgcolor": "#E5ECF6",
           "caxis": {
            "gridcolor": "white",
            "linecolor": "white",
            "ticks": ""
           }
          },
          "title": {
           "x": 0.05
          },
          "xaxis": {
           "automargin": true,
           "gridcolor": "white",
           "linecolor": "white",
           "ticks": "",
           "title": {
            "standoff": 15
           },
           "zerolinecolor": "white",
           "zerolinewidth": 2
          },
          "yaxis": {
           "automargin": true,
           "gridcolor": "white",
           "linecolor": "white",
           "ticks": "",
           "title": {
            "standoff": 15
           },
           "zerolinecolor": "white",
           "zerolinewidth": 2
          }
         }
        },
        "title": {
         "text": "Age vs Predicted Medal by Sex"
        },
        "xaxis": {
         "anchor": "y",
         "domain": [
          0,
          1
         ],
         "title": {
          "text": "Age"
         }
        },
        "yaxis": {
         "anchor": "x",
         "categoryarray": [
          "Gold",
          "Silver",
          "Bronze"
         ],
         "categoryorder": "array",
         "domain": [
          0,
          1
         ],
         "title": {
          "text": "Predicted Medal"
         }
        }
       }
      }
     },
     "metadata": {},
     "output_type": "display_data"
    }
   ],
   "source": [
    "# Scatter plot of Age vs predicted medal, colored by host status\n",
    "fig = px.scatter(df, x='Age', y='pred_medal', color='Sex', title='Age vs Predicted Medal by Sex',\n",
    "                 labels={'Age': 'Age', 'pred_medal': 'Predicted Medal', 'Sex': 'Sex'},\n",
    "                 color_discrete_sequence=['magenta', 'darkblue'],\n",
    "                 category_orders={'pred_medal': ['Bronze', 'Silver', 'Gold'], 'Sex': ['M', 'F']})\n",
    "fig.update_traces(marker=dict(size=8))\n",
    "fig.update_layout(xaxis_title='Age', yaxis_title='Predicted Medal', legend_title='Sex')\n",
    "fig.show()\n"
   ]
  },
  {
   "cell_type": "code",
   "execution_count": 90,
   "metadata": {},
   "outputs": [
    {
     "data": {
      "application/vnd.plotly.v1+json": {
       "config": {
        "plotlyServerURL": "https://plot.ly"
       },
       "data": [
        {
         "hovertemplate": "pred_medal=Bronze<br>Age=%{x}<br>Height=%{y}<extra></extra>",
         "legendgroup": "Bronze",
         "marker": {
          "color": "#636efa",
          "symbol": "circle"
         },
         "mode": "markers",
         "name": "Bronze",
         "orientation": "v",
         "showlegend": true,
         "type": "scatter",
         "x": [
          27,
          27,
          27,
          25,
          26,
          24,
          24,
          29,
          33,
          24,
          25,
          25,
          24,
          20,
          20,
          25,
          21,
          20,
          29,
          22,
          28,
          28,
          28,
          21,
          21,
          21,
          26,
          26,
          26,
          26,
          26,
          27,
          27,
          26,
          26,
          26,
          23,
          24,
          27,
          27,
          27,
          19,
          28,
          22,
          20,
          29,
          25,
          31,
          25,
          29,
          24,
          24,
          24,
          26,
          25,
          25,
          25,
          32,
          26,
          26,
          26,
          27,
          27,
          26,
          26,
          22,
          22,
          22,
          21,
          21,
          23,
          28,
          26,
          19,
          21,
          26,
          19,
          28,
          24,
          20,
          27,
          23,
          25,
          25,
          28,
          23,
          24,
          24,
          23,
          25,
          27,
          27,
          23,
          26,
          21,
          28,
          28,
          29,
          30,
          23,
          24,
          31,
          31,
          31,
          31,
          31,
          31,
          25,
          26,
          30,
          23,
          25,
          25,
          35,
          26,
          26,
          26,
          24,
          26,
          24,
          23,
          29,
          20,
          20,
          19,
          19,
          19,
          17,
          20,
          23,
          23,
          28,
          34,
          34,
          23,
          22,
          36,
          27,
          27,
          27,
          30,
          26,
          26,
          25,
          19,
          27,
          38,
          20,
          25,
          16,
          16,
          22,
          25,
          29,
          27,
          22,
          28,
          30,
          22,
          32,
          24,
          25,
          25,
          24,
          21,
          25,
          25,
          25,
          27,
          27,
          25,
          29,
          26,
          26,
          25,
          23,
          22,
          32,
          21,
          26,
          26,
          24,
          28,
          34,
          24,
          23,
          29,
          29,
          27,
          24,
          27,
          27,
          29,
          27,
          25,
          25,
          25,
          26,
          28,
          28,
          32,
          27,
          27,
          27,
          23,
          30,
          25,
          21,
          29,
          29,
          31,
          30,
          21,
          26,
          26,
          52,
          24,
          24,
          21,
          21,
          21,
          33,
          47,
          21,
          20,
          20,
          19,
          24,
          22,
          25,
          23,
          23,
          23,
          19,
          19,
          19,
          19,
          22,
          22,
          22,
          22,
          22,
          23,
          30,
          30,
          30,
          25,
          33,
          25,
          22,
          20,
          27,
          16,
          16,
          16,
          25,
          25,
          25,
          16,
          19,
          21,
          22,
          28,
          25,
          25,
          25,
          25,
          27,
          27,
          27,
          21,
          20,
          21,
          23,
          25,
          25,
          25,
          18,
          20,
          24,
          23,
          26,
          23,
          26,
          26,
          27,
          24,
          27,
          27,
          24,
          24,
          24,
          29,
          27,
          22,
          29,
          25,
          25,
          25,
          21,
          26,
          31,
          31,
          24,
          18,
          23,
          28,
          25,
          24,
          24,
          31,
          30,
          30,
          21,
          26,
          33,
          33,
          25,
          22,
          20,
          20,
          27,
          24,
          26,
          26,
          21,
          29,
          24,
          31,
          21,
          36
         ],
         "xaxis": "x",
         "y": [
          172,
          172,
          172,
          174,
          165,
          181,
          170,
          181,
          185,
          187,
          185,
          185,
          198,
          180,
          180,
          180,
          191,
          193,
          191,
          171,
          180,
          180,
          180,
          180,
          180,
          180,
          185,
          185,
          207,
          207,
          207,
          196,
          196,
          198,
          198,
          198,
          185,
          185,
          180,
          180,
          180,
          172,
          170,
          160,
          164,
          166,
          173,
          178,
          173,
          170,
          166,
          166,
          166,
          175,
          170,
          170,
          170,
          170,
          176,
          176,
          176,
          172,
          172,
          175,
          175,
          194,
          194,
          194,
          173,
          156,
          198,
          170,
          198,
          173,
          165,
          165,
          168,
          185,
          186,
          165,
          185,
          185,
          172,
          172,
          170,
          180,
          198,
          198,
          180,
          179,
          160,
          160,
          173,
          180,
          187,
          171,
          175,
          175,
          184,
          173,
          181,
          180,
          180,
          180,
          175,
          175,
          175,
          186,
          173,
          177,
          191,
          165,
          165,
          166,
          176,
          176,
          176,
          170,
          167,
          170,
          170,
          167,
          168,
          168,
          167,
          167,
          167,
          164,
          167,
          168,
          168,
          163,
          190,
          180,
          182,
          180,
          188,
          167,
          167,
          167,
          170,
          183,
          183,
          176,
          170,
          160,
          193,
          163,
          170,
          140,
          151,
          194,
          168,
          186,
          173,
          172,
          189,
          181,
          181,
          173,
          170,
          185,
          153,
          170,
          156,
          178,
          178,
          178,
          160,
          169,
          172,
          182,
          173,
          178,
          170,
          173,
          201,
          195,
          198,
          193,
          193,
          187,
          175,
          184,
          186,
          186,
          180,
          180,
          173,
          182,
          170,
          180,
          182,
          165,
          183,
          191,
          191,
          185,
          181,
          181,
          184,
          186,
          186,
          186,
          167,
          180,
          170,
          173,
          179,
          179,
          159,
          167,
          171,
          173,
          173,
          183,
          179,
          179,
          172,
          172,
          172,
          180,
          168,
          184,
          183,
          183,
          184,
          180,
          184,
          194,
          187,
          187,
          180,
          188,
          188,
          186,
          186,
          191,
          191,
          191,
          185,
          183,
          172,
          197,
          197,
          197,
          170,
          165,
          170,
          182,
          173,
          174,
          185,
          185,
          185,
          173,
          173,
          173,
          180,
          173,
          178,
          172,
          178,
          169,
          169,
          169,
          176,
          172,
          172,
          172,
          161,
          188,
          182,
          190,
          197,
          176,
          176,
          173,
          178,
          182,
          176,
          188,
          191,
          183,
          183,
          170,
          170,
          155,
          155,
          170,
          170,
          170,
          208,
          178,
          190,
          176,
          160,
          160,
          160,
          165,
          165,
          182,
          169,
          163,
          155,
          160,
          178,
          168,
          160,
          160,
          188,
          180,
          180,
          184,
          176,
          167,
          167,
          170,
          198,
          187,
          187,
          192,
          172,
          170,
          170,
          151,
          169,
          172,
          160,
          160,
          167
         ],
         "yaxis": "y"
        },
        {
         "hovertemplate": "pred_medal=Gold<br>Age=%{x}<br>Height=%{y}<extra></extra>",
         "legendgroup": "Gold",
         "marker": {
          "color": "#EF553B",
          "symbol": "circle"
         },
         "mode": "markers",
         "name": "Gold",
         "orientation": "v",
         "showlegend": true,
         "type": "scatter",
         "x": [
          27,
          20,
          25,
          25,
          24,
          25,
          25,
          25,
          27,
          26,
          23,
          24,
          24,
          25,
          25,
          24,
          27,
          27,
          27,
          26,
          26,
          26,
          27,
          26,
          25,
          21,
          27,
          31,
          31,
          30,
          22,
          29,
          23,
          23,
          23,
          26,
          26,
          21,
          21,
          32,
          32,
          24,
          20,
          20,
          20,
          27,
          27,
          28,
          21,
          28,
          20,
          25,
          29,
          29,
          33,
          24,
          31,
          21,
          20,
          23,
          34,
          25,
          28,
          28,
          32,
          22,
          22,
          28,
          21,
          21,
          26,
          26,
          34,
          34,
          34,
          32,
          23,
          24,
          29,
          29,
          20,
          20,
          20,
          27,
          27,
          27,
          25,
          22,
          23,
          23,
          23,
          31,
          34,
          34,
          27,
          25,
          23,
          22,
          25,
          25,
          25,
          25,
          24,
          21,
          20,
          22,
          24,
          24,
          24,
          26,
          30,
          40,
          23,
          27,
          24,
          26,
          26,
          26,
          26,
          26,
          26,
          27,
          23,
          23,
          26,
          25,
          28,
          28,
          21,
          22,
          40,
          40,
          26,
          26,
          19,
          19,
          17,
          16,
          28,
          22,
          26,
          23,
          23,
          22,
          22,
          21,
          24,
          24,
          25,
          24,
          27,
          21,
          23,
          25,
          25,
          29,
          27,
          24,
          25,
          23,
          25,
          27,
          28,
          22,
          28,
          30,
          30,
          30,
          29,
          27,
          34,
          32,
          31,
          25,
          21,
          30,
          27,
          24,
          26,
          23,
          27,
          19,
          41,
          24,
          28,
          23,
          37,
          37,
          31,
          20,
          26,
          33,
          27,
          28,
          25,
          26,
          23,
          20,
          21,
          20,
          24,
          23,
          22,
          36,
          22,
          22,
          22,
          21,
          21,
          23,
          22,
          21,
          25,
          20,
          23,
          23,
          23,
          23,
          23,
          21,
          22,
          33,
          15,
          15,
          18,
          21,
          26,
          18,
          31,
          31,
          32,
          32,
          35,
          25,
          32,
          34,
          29,
          30,
          19,
          22,
          27,
          27,
          24,
          21,
          21,
          21,
          21,
          20,
          20,
          22,
          25,
          22,
          23,
          20,
          22,
          26,
          26,
          26,
          23,
          29,
          29,
          27,
          29,
          23,
          23,
          23
         ],
         "xaxis": "x",
         "y": [
          180,
          169,
          168,
          168,
          177,
          182,
          182,
          175,
          188,
          188,
          195,
          175,
          175,
          175,
          175,
          186,
          183,
          183,
          183,
          175,
          175,
          175,
          183,
          160,
          168,
          165,
          170,
          162,
          162,
          170,
          173,
          171,
          166,
          166,
          166,
          180,
          180,
          170,
          170,
          155,
          155,
          173,
          192,
          192,
          192,
          180,
          166,
          175,
          179,
          213,
          185,
          183,
          185,
          178,
          182,
          165,
          185,
          174,
          177,
          174,
          158,
          167,
          180,
          180,
          193,
          175,
          175,
          196,
          199,
          199,
          174,
          174,
          191,
          191,
          191,
          177,
          178,
          167,
          165,
          165,
          169,
          169,
          169,
          172,
          172,
          172,
          187,
          178,
          188,
          188,
          188,
          183,
          171,
          171,
          177,
          183,
          187,
          184,
          180,
          180,
          180,
          158,
          171,
          176,
          188,
          173,
          175,
          175,
          175,
          150,
          163,
          173,
          165,
          180,
          190,
          177,
          177,
          177,
          173,
          173,
          173,
          190,
          184,
          169,
          165,
          167,
          176,
          176,
          183,
          172,
          188,
          188,
          170,
          170,
          166,
          170,
          146,
          152,
          202,
          178,
          184,
          172,
          167,
          169,
          169,
          160,
          191,
          191,
          193,
          179,
          187,
          160,
          164,
          160,
          160,
          192,
          182,
          175,
          190,
          194,
          187,
          202,
          182,
          177,
          190,
          190,
          190,
          190,
          172,
          182,
          165,
          184,
          183,
          181,
          168,
          178,
          193,
          185,
          184,
          178,
          172,
          170,
          175,
          169,
          178,
          176,
          170,
          170,
          172,
          189,
          176,
          158,
          164,
          181,
          185,
          184,
          187,
          187,
          181,
          187,
          190,
          188,
          185,
          185,
          193,
          193,
          193,
          178,
          179,
          167,
          180,
          173,
          175,
          178,
          173,
          173,
          173,
          174,
          177,
          162,
          168,
          170,
          150,
          150,
          176,
          207,
          200,
          172,
          192,
          180,
          193,
          193,
          170,
          172,
          206,
          194,
          195,
          178,
          181,
          172,
          170,
          170,
          173,
          180,
          180,
          147,
          147,
          165,
          165,
          155,
          149,
          159,
          170,
          163,
          165,
          190,
          179,
          179,
          174,
          173,
          173,
          166,
          174,
          164,
          164,
          163
         ],
         "yaxis": "y"
        },
        {
         "hovertemplate": "pred_medal=Silver<br>Age=%{x}<br>Height=%{y}<extra></extra>",
         "legendgroup": "Silver",
         "marker": {
          "color": "#00cc96",
          "symbol": "circle"
         },
         "mode": "markers",
         "name": "Silver",
         "orientation": "v",
         "showlegend": true,
         "type": "scatter",
         "x": [
          23,
          29,
          26,
          26,
          26,
          26,
          21,
          21,
          21,
          25,
          34,
          27,
          24,
          27,
          22,
          22,
          23,
          22,
          24,
          24,
          29,
          29,
          19,
          20,
          22,
          22,
          22,
          22,
          26,
          37,
          37,
          21,
          21,
          27,
          37,
          31,
          26,
          19,
          30,
          29,
          26,
          26,
          23,
          26,
          21,
          25,
          27,
          27,
          27,
          23,
          23,
          25,
          23,
          26,
          25,
          23,
          30,
          23,
          25,
          24,
          33,
          29,
          29,
          29,
          29,
          22,
          22,
          27,
          23,
          24,
          26,
          21,
          23,
          26,
          23,
          23,
          22,
          22,
          22,
          21,
          23,
          23,
          15,
          15,
          24,
          18,
          18,
          18,
          21,
          53,
          32,
          23,
          27,
          38,
          22,
          27,
          32,
          21,
          26,
          28,
          31,
          31,
          31,
          22,
          25,
          25,
          25,
          19,
          19,
          18,
          29,
          26,
          27,
          27,
          30,
          25,
          25,
          22,
          21,
          25,
          25,
          28,
          24,
          26,
          26,
          28,
          24,
          24,
          18,
          18,
          20,
          28,
          29,
          27,
          31,
          27,
          27,
          27,
          25,
          25,
          32,
          25,
          28,
          28,
          26,
          29,
          30,
          29,
          25,
          31,
          21,
          28,
          33,
          33,
          25,
          19,
          19,
          19,
          33,
          33,
          33,
          33,
          33,
          26,
          26,
          21,
          24,
          21,
          21,
          21,
          21,
          25,
          19,
          19,
          19,
          20,
          21,
          22,
          19,
          22,
          27,
          27,
          27,
          27,
          27,
          22,
          19,
          20,
          22,
          21,
          26,
          25,
          20,
          20,
          20,
          22,
          22,
          23,
          22,
          22,
          28,
          28,
          34,
          37,
          31,
          28,
          22,
          20,
          20,
          30,
          30,
          30,
          32,
          24,
          19,
          22,
          20,
          20,
          20,
          24,
          23,
          22,
          25,
          25,
          25,
          22,
          22,
          21,
          21,
          21,
          23,
          27,
          27,
          20,
          20,
          20,
          30,
          31,
          31,
          31,
          25,
          25,
          25,
          25,
          24,
          24,
          24,
          26,
          22,
          27,
          21,
          21
         ],
         "xaxis": "x",
         "y": [
          181,
          158,
          176,
          176,
          176,
          183,
          167,
          167,
          178,
          173,
          187,
          175,
          192,
          175,
          183,
          183,
          201,
          157,
          167,
          165,
          160,
          160,
          162,
          160,
          163,
          163,
          173,
          185,
          173,
          180,
          180,
          184,
          184,
          175,
          191,
          160,
          173,
          179,
          176,
          179,
          172,
          172,
          172,
          201,
          193,
          184,
          171,
          171,
          171,
          168,
          169,
          196,
          156,
          182,
          169,
          178,
          197,
          168,
          175,
          188,
          189,
          185,
          185,
          185,
          181,
          186,
          186,
          176,
          189,
          188,
          182,
          184,
          182,
          176,
          183,
          181,
          165,
          165,
          185,
          168,
          172,
          172,
          162,
          162,
          159,
          157,
          157,
          157,
          193,
          173,
          176,
          177,
          197,
          186,
          175,
          178,
          168,
          188,
          175,
          168,
          155,
          155,
          155,
          161,
          164,
          164,
          164,
          162,
          143,
          156,
          200,
          175,
          173,
          168,
          166,
          186,
          197,
          182,
          178,
          162,
          162,
          170,
          169,
          168,
          168,
          185,
          168,
          168,
          168,
          170,
          170,
          196,
          197,
          200,
          187,
          178,
          193,
          183,
          183,
          183,
          173,
          173,
          198,
          168,
          180,
          197,
          173,
          164,
          168,
          169,
          176,
          179,
          178,
          178,
          162,
          155,
          155,
          155,
          175,
          175,
          175,
          162,
          162,
          172,
          172,
          191,
          189,
          191,
          195,
          191,
          184,
          193,
          191,
          196,
          196,
          188,
          193,
          173,
          175,
          180,
          175,
          175,
          175,
          175,
          175,
          179,
          184,
          193,
          179,
          162,
          180,
          160,
          178,
          178,
          178,
          186,
          186,
          174,
          164,
          188,
          182,
          182,
          175,
          186,
          168,
          176,
          170,
          173,
          173,
          168,
          178,
          178,
          205,
          171,
          197,
          173,
          159,
          159,
          159,
          183,
          180,
          168,
          172,
          172,
          172,
          176,
          176,
          154,
          155,
          155,
          159,
          173,
          165,
          180,
          180,
          177,
          170,
          177,
          177,
          177,
          192,
          192,
          170,
          171,
          163,
          163,
          163,
          164,
          152,
          175,
          159,
          159
         ],
         "yaxis": "y"
        }
       ],
       "layout": {
        "legend": {
         "title": {
          "text": "pred_medal"
         },
         "tracegroupgap": 0
        },
        "template": {
         "data": {
          "bar": [
           {
            "error_x": {
             "color": "#2a3f5f"
            },
            "error_y": {
             "color": "#2a3f5f"
            },
            "marker": {
             "line": {
              "color": "#E5ECF6",
              "width": 0.5
             },
             "pattern": {
              "fillmode": "overlay",
              "size": 10,
              "solidity": 0.2
             }
            },
            "type": "bar"
           }
          ],
          "barpolar": [
           {
            "marker": {
             "line": {
              "color": "#E5ECF6",
              "width": 0.5
             },
             "pattern": {
              "fillmode": "overlay",
              "size": 10,
              "solidity": 0.2
             }
            },
            "type": "barpolar"
           }
          ],
          "carpet": [
           {
            "aaxis": {
             "endlinecolor": "#2a3f5f",
             "gridcolor": "white",
             "linecolor": "white",
             "minorgridcolor": "white",
             "startlinecolor": "#2a3f5f"
            },
            "baxis": {
             "endlinecolor": "#2a3f5f",
             "gridcolor": "white",
             "linecolor": "white",
             "minorgridcolor": "white",
             "startlinecolor": "#2a3f5f"
            },
            "type": "carpet"
           }
          ],
          "choropleth": [
           {
            "colorbar": {
             "outlinewidth": 0,
             "ticks": ""
            },
            "type": "choropleth"
           }
          ],
          "contour": [
           {
            "colorbar": {
             "outlinewidth": 0,
             "ticks": ""
            },
            "colorscale": [
             [
              0,
              "#0d0887"
             ],
             [
              0.1111111111111111,
              "#46039f"
             ],
             [
              0.2222222222222222,
              "#7201a8"
             ],
             [
              0.3333333333333333,
              "#9c179e"
             ],
             [
              0.4444444444444444,
              "#bd3786"
             ],
             [
              0.5555555555555556,
              "#d8576b"
             ],
             [
              0.6666666666666666,
              "#ed7953"
             ],
             [
              0.7777777777777778,
              "#fb9f3a"
             ],
             [
              0.8888888888888888,
              "#fdca26"
             ],
             [
              1,
              "#f0f921"
             ]
            ],
            "type": "contour"
           }
          ],
          "contourcarpet": [
           {
            "colorbar": {
             "outlinewidth": 0,
             "ticks": ""
            },
            "type": "contourcarpet"
           }
          ],
          "heatmap": [
           {
            "colorbar": {
             "outlinewidth": 0,
             "ticks": ""
            },
            "colorscale": [
             [
              0,
              "#0d0887"
             ],
             [
              0.1111111111111111,
              "#46039f"
             ],
             [
              0.2222222222222222,
              "#7201a8"
             ],
             [
              0.3333333333333333,
              "#9c179e"
             ],
             [
              0.4444444444444444,
              "#bd3786"
             ],
             [
              0.5555555555555556,
              "#d8576b"
             ],
             [
              0.6666666666666666,
              "#ed7953"
             ],
             [
              0.7777777777777778,
              "#fb9f3a"
             ],
             [
              0.8888888888888888,
              "#fdca26"
             ],
             [
              1,
              "#f0f921"
             ]
            ],
            "type": "heatmap"
           }
          ],
          "heatmapgl": [
           {
            "colorbar": {
             "outlinewidth": 0,
             "ticks": ""
            },
            "colorscale": [
             [
              0,
              "#0d0887"
             ],
             [
              0.1111111111111111,
              "#46039f"
             ],
             [
              0.2222222222222222,
              "#7201a8"
             ],
             [
              0.3333333333333333,
              "#9c179e"
             ],
             [
              0.4444444444444444,
              "#bd3786"
             ],
             [
              0.5555555555555556,
              "#d8576b"
             ],
             [
              0.6666666666666666,
              "#ed7953"
             ],
             [
              0.7777777777777778,
              "#fb9f3a"
             ],
             [
              0.8888888888888888,
              "#fdca26"
             ],
             [
              1,
              "#f0f921"
             ]
            ],
            "type": "heatmapgl"
           }
          ],
          "histogram": [
           {
            "marker": {
             "pattern": {
              "fillmode": "overlay",
              "size": 10,
              "solidity": 0.2
             }
            },
            "type": "histogram"
           }
          ],
          "histogram2d": [
           {
            "colorbar": {
             "outlinewidth": 0,
             "ticks": ""
            },
            "colorscale": [
             [
              0,
              "#0d0887"
             ],
             [
              0.1111111111111111,
              "#46039f"
             ],
             [
              0.2222222222222222,
              "#7201a8"
             ],
             [
              0.3333333333333333,
              "#9c179e"
             ],
             [
              0.4444444444444444,
              "#bd3786"
             ],
             [
              0.5555555555555556,
              "#d8576b"
             ],
             [
              0.6666666666666666,
              "#ed7953"
             ],
             [
              0.7777777777777778,
              "#fb9f3a"
             ],
             [
              0.8888888888888888,
              "#fdca26"
             ],
             [
              1,
              "#f0f921"
             ]
            ],
            "type": "histogram2d"
           }
          ],
          "histogram2dcontour": [
           {
            "colorbar": {
             "outlinewidth": 0,
             "ticks": ""
            },
            "colorscale": [
             [
              0,
              "#0d0887"
             ],
             [
              0.1111111111111111,
              "#46039f"
             ],
             [
              0.2222222222222222,
              "#7201a8"
             ],
             [
              0.3333333333333333,
              "#9c179e"
             ],
             [
              0.4444444444444444,
              "#bd3786"
             ],
             [
              0.5555555555555556,
              "#d8576b"
             ],
             [
              0.6666666666666666,
              "#ed7953"
             ],
             [
              0.7777777777777778,
              "#fb9f3a"
             ],
             [
              0.8888888888888888,
              "#fdca26"
             ],
             [
              1,
              "#f0f921"
             ]
            ],
            "type": "histogram2dcontour"
           }
          ],
          "mesh3d": [
           {
            "colorbar": {
             "outlinewidth": 0,
             "ticks": ""
            },
            "type": "mesh3d"
           }
          ],
          "parcoords": [
           {
            "line": {
             "colorbar": {
              "outlinewidth": 0,
              "ticks": ""
             }
            },
            "type": "parcoords"
           }
          ],
          "pie": [
           {
            "automargin": true,
            "type": "pie"
           }
          ],
          "scatter": [
           {
            "fillpattern": {
             "fillmode": "overlay",
             "size": 10,
             "solidity": 0.2
            },
            "type": "scatter"
           }
          ],
          "scatter3d": [
           {
            "line": {
             "colorbar": {
              "outlinewidth": 0,
              "ticks": ""
             }
            },
            "marker": {
             "colorbar": {
              "outlinewidth": 0,
              "ticks": ""
             }
            },
            "type": "scatter3d"
           }
          ],
          "scattercarpet": [
           {
            "marker": {
             "colorbar": {
              "outlinewidth": 0,
              "ticks": ""
             }
            },
            "type": "scattercarpet"
           }
          ],
          "scattergeo": [
           {
            "marker": {
             "colorbar": {
              "outlinewidth": 0,
              "ticks": ""
             }
            },
            "type": "scattergeo"
           }
          ],
          "scattergl": [
           {
            "marker": {
             "colorbar": {
              "outlinewidth": 0,
              "ticks": ""
             }
            },
            "type": "scattergl"
           }
          ],
          "scattermapbox": [
           {
            "marker": {
             "colorbar": {
              "outlinewidth": 0,
              "ticks": ""
             }
            },
            "type": "scattermapbox"
           }
          ],
          "scatterpolar": [
           {
            "marker": {
             "colorbar": {
              "outlinewidth": 0,
              "ticks": ""
             }
            },
            "type": "scatterpolar"
           }
          ],
          "scatterpolargl": [
           {
            "marker": {
             "colorbar": {
              "outlinewidth": 0,
              "ticks": ""
             }
            },
            "type": "scatterpolargl"
           }
          ],
          "scatterternary": [
           {
            "marker": {
             "colorbar": {
              "outlinewidth": 0,
              "ticks": ""
             }
            },
            "type": "scatterternary"
           }
          ],
          "surface": [
           {
            "colorbar": {
             "outlinewidth": 0,
             "ticks": ""
            },
            "colorscale": [
             [
              0,
              "#0d0887"
             ],
             [
              0.1111111111111111,
              "#46039f"
             ],
             [
              0.2222222222222222,
              "#7201a8"
             ],
             [
              0.3333333333333333,
              "#9c179e"
             ],
             [
              0.4444444444444444,
              "#bd3786"
             ],
             [
              0.5555555555555556,
              "#d8576b"
             ],
             [
              0.6666666666666666,
              "#ed7953"
             ],
             [
              0.7777777777777778,
              "#fb9f3a"
             ],
             [
              0.8888888888888888,
              "#fdca26"
             ],
             [
              1,
              "#f0f921"
             ]
            ],
            "type": "surface"
           }
          ],
          "table": [
           {
            "cells": {
             "fill": {
              "color": "#EBF0F8"
             },
             "line": {
              "color": "white"
             }
            },
            "header": {
             "fill": {
              "color": "#C8D4E3"
             },
             "line": {
              "color": "white"
             }
            },
            "type": "table"
           }
          ]
         },
         "layout": {
          "annotationdefaults": {
           "arrowcolor": "#2a3f5f",
           "arrowhead": 0,
           "arrowwidth": 1
          },
          "autotypenumbers": "strict",
          "coloraxis": {
           "colorbar": {
            "outlinewidth": 0,
            "ticks": ""
           }
          },
          "colorscale": {
           "diverging": [
            [
             0,
             "#8e0152"
            ],
            [
             0.1,
             "#c51b7d"
            ],
            [
             0.2,
             "#de77ae"
            ],
            [
             0.3,
             "#f1b6da"
            ],
            [
             0.4,
             "#fde0ef"
            ],
            [
             0.5,
             "#f7f7f7"
            ],
            [
             0.6,
             "#e6f5d0"
            ],
            [
             0.7,
             "#b8e186"
            ],
            [
             0.8,
             "#7fbc41"
            ],
            [
             0.9,
             "#4d9221"
            ],
            [
             1,
             "#276419"
            ]
           ],
           "sequential": [
            [
             0,
             "#0d0887"
            ],
            [
             0.1111111111111111,
             "#46039f"
            ],
            [
             0.2222222222222222,
             "#7201a8"
            ],
            [
             0.3333333333333333,
             "#9c179e"
            ],
            [
             0.4444444444444444,
             "#bd3786"
            ],
            [
             0.5555555555555556,
             "#d8576b"
            ],
            [
             0.6666666666666666,
             "#ed7953"
            ],
            [
             0.7777777777777778,
             "#fb9f3a"
            ],
            [
             0.8888888888888888,
             "#fdca26"
            ],
            [
             1,
             "#f0f921"
            ]
           ],
           "sequentialminus": [
            [
             0,
             "#0d0887"
            ],
            [
             0.1111111111111111,
             "#46039f"
            ],
            [
             0.2222222222222222,
             "#7201a8"
            ],
            [
             0.3333333333333333,
             "#9c179e"
            ],
            [
             0.4444444444444444,
             "#bd3786"
            ],
            [
             0.5555555555555556,
             "#d8576b"
            ],
            [
             0.6666666666666666,
             "#ed7953"
            ],
            [
             0.7777777777777778,
             "#fb9f3a"
            ],
            [
             0.8888888888888888,
             "#fdca26"
            ],
            [
             1,
             "#f0f921"
            ]
           ]
          },
          "colorway": [
           "#636efa",
           "#EF553B",
           "#00cc96",
           "#ab63fa",
           "#FFA15A",
           "#19d3f3",
           "#FF6692",
           "#B6E880",
           "#FF97FF",
           "#FECB52"
          ],
          "font": {
           "color": "#2a3f5f"
          },
          "geo": {
           "bgcolor": "white",
           "lakecolor": "white",
           "landcolor": "#E5ECF6",
           "showlakes": true,
           "showland": true,
           "subunitcolor": "white"
          },
          "hoverlabel": {
           "align": "left"
          },
          "hovermode": "closest",
          "mapbox": {
           "style": "light"
          },
          "paper_bgcolor": "white",
          "plot_bgcolor": "#E5ECF6",
          "polar": {
           "angularaxis": {
            "gridcolor": "white",
            "linecolor": "white",
            "ticks": ""
           },
           "bgcolor": "#E5ECF6",
           "radialaxis": {
            "gridcolor": "white",
            "linecolor": "white",
            "ticks": ""
           }
          },
          "scene": {
           "xaxis": {
            "backgroundcolor": "#E5ECF6",
            "gridcolor": "white",
            "gridwidth": 2,
            "linecolor": "white",
            "showbackground": true,
            "ticks": "",
            "zerolinecolor": "white"
           },
           "yaxis": {
            "backgroundcolor": "#E5ECF6",
            "gridcolor": "white",
            "gridwidth": 2,
            "linecolor": "white",
            "showbackground": true,
            "ticks": "",
            "zerolinecolor": "white"
           },
           "zaxis": {
            "backgroundcolor": "#E5ECF6",
            "gridcolor": "white",
            "gridwidth": 2,
            "linecolor": "white",
            "showbackground": true,
            "ticks": "",
            "zerolinecolor": "white"
           }
          },
          "shapedefaults": {
           "line": {
            "color": "#2a3f5f"
           }
          },
          "ternary": {
           "aaxis": {
            "gridcolor": "white",
            "linecolor": "white",
            "ticks": ""
           },
           "baxis": {
            "gridcolor": "white",
            "linecolor": "white",
            "ticks": ""
           },
           "bgcolor": "#E5ECF6",
           "caxis": {
            "gridcolor": "white",
            "linecolor": "white",
            "ticks": ""
           }
          },
          "title": {
           "x": 0.05
          },
          "xaxis": {
           "automargin": true,
           "gridcolor": "white",
           "linecolor": "white",
           "ticks": "",
           "title": {
            "standoff": 15
           },
           "zerolinecolor": "white",
           "zerolinewidth": 2
          },
          "yaxis": {
           "automargin": true,
           "gridcolor": "white",
           "linecolor": "white",
           "ticks": "",
           "title": {
            "standoff": 15
           },
           "zerolinecolor": "white",
           "zerolinewidth": 2
          }
         }
        },
        "title": {
         "text": "Age vs Height by Predicted Medal"
        },
        "xaxis": {
         "anchor": "y",
         "domain": [
          0,
          1
         ],
         "title": {
          "text": "Age"
         }
        },
        "yaxis": {
         "anchor": "x",
         "domain": [
          0,
          1
         ],
         "title": {
          "text": "Height"
         }
        }
       }
      }
     },
     "metadata": {},
     "output_type": "display_data"
    },
    {
     "data": {
      "application/vnd.plotly.v1+json": {
       "config": {
        "plotlyServerURL": "https://plot.ly"
       },
       "data": [
        {
         "alignmentgroup": "True",
         "hovertemplate": "pred_medal=%{x}<br>Weight=%{y}<extra></extra>",
         "legendgroup": "",
         "marker": {
          "color": "#636efa"
         },
         "name": "",
         "notched": false,
         "offsetgroup": "",
         "orientation": "v",
         "showlegend": false,
         "type": "box",
         "x": [
          "Bronze",
          "Bronze",
          "Bronze",
          "Gold",
          "Silver",
          "Bronze",
          "Gold",
          "Silver",
          "Bronze",
          "Silver",
          "Silver",
          "Silver",
          "Gold",
          "Gold",
          "Bronze",
          "Gold",
          "Silver",
          "Bronze",
          "Gold",
          "Gold",
          "Bronze",
          "Gold",
          "Bronze",
          "Bronze",
          "Bronze",
          "Bronze",
          "Bronze",
          "Gold",
          "Silver",
          "Silver",
          "Bronze",
          "Silver",
          "Bronze",
          "Gold",
          "Bronze",
          "Bronze",
          "Gold",
          "Silver",
          "Bronze",
          "Gold",
          "Gold",
          "Bronze",
          "Gold",
          "Gold",
          "Bronze",
          "Bronze",
          "Bronze",
          "Bronze",
          "Bronze",
          "Bronze",
          "Bronze",
          "Gold",
          "Bronze",
          "Bronze",
          "Bronze",
          "Bronze",
          "Bronze",
          "Bronze",
          "Silver",
          "Bronze",
          "Bronze",
          "Bronze",
          "Bronze",
          "Silver",
          "Silver",
          "Silver",
          "Gold",
          "Gold",
          "Gold",
          "Gold",
          "Gold",
          "Gold",
          "Silver",
          "Silver",
          "Bronze",
          "Gold",
          "Silver",
          "Bronze",
          "Bronze",
          "Bronze",
          "Bronze",
          "Gold",
          "Silver",
          "Gold",
          "Gold",
          "Silver",
          "Bronze",
          "Gold",
          "Silver",
          "Bronze",
          "Silver",
          "Silver",
          "Bronze",
          "Gold",
          "Gold",
          "Bronze",
          "Bronze",
          "Silver",
          "Bronze",
          "Silver",
          "Silver",
          "Silver",
          "Gold",
          "Silver",
          "Bronze",
          "Gold",
          "Silver",
          "Bronze",
          "Gold",
          "Silver",
          "Bronze",
          "Bronze",
          "Bronze",
          "Bronze",
          "Gold",
          "Gold",
          "Gold",
          "Silver",
          "Silver",
          "Bronze",
          "Bronze",
          "Bronze",
          "Bronze",
          "Silver",
          "Silver",
          "Silver",
          "Gold",
          "Silver",
          "Gold",
          "Gold",
          "Gold",
          "Bronze",
          "Bronze",
          "Bronze",
          "Bronze",
          "Gold",
          "Silver",
          "Gold",
          "Gold",
          "Silver",
          "Silver",
          "Bronze",
          "Silver",
          "Bronze",
          "Gold",
          "Gold",
          "Gold",
          "Gold",
          "Bronze",
          "Bronze",
          "Bronze",
          "Bronze",
          "Bronze",
          "Gold",
          "Silver",
          "Gold",
          "Silver",
          "Silver",
          "Bronze",
          "Gold",
          "Silver",
          "Bronze",
          "Gold",
          "Silver",
          "Bronze",
          "Gold",
          "Silver",
          "Bronze",
          "Gold",
          "Gold",
          "Bronze",
          "Gold",
          "Silver",
          "Gold",
          "Bronze",
          "Bronze",
          "Bronze",
          "Silver",
          "Silver",
          "Silver",
          "Silver",
          "Silver",
          "Bronze",
          "Bronze",
          "Silver",
          "Bronze",
          "Gold",
          "Silver",
          "Bronze",
          "Bronze",
          "Silver",
          "Bronze",
          "Gold",
          "Bronze",
          "Bronze",
          "Gold",
          "Silver",
          "Bronze",
          "Gold",
          "Silver",
          "Bronze",
          "Bronze",
          "Silver",
          "Bronze",
          "Gold",
          "Bronze",
          "Bronze",
          "Gold",
          "Bronze",
          "Bronze",
          "Gold",
          "Silver",
          "Bronze",
          "Gold",
          "Gold",
          "Bronze",
          "Silver",
          "Silver",
          "Bronze",
          "Bronze",
          "Silver",
          "Bronze",
          "Silver",
          "Silver",
          "Silver",
          "Gold",
          "Gold",
          "Gold",
          "Gold",
          "Silver",
          "Bronze",
          "Silver",
          "Silver",
          "Silver",
          "Silver",
          "Silver",
          "Bronze",
          "Gold",
          "Silver",
          "Gold",
          "Gold",
          "Silver",
          "Gold",
          "Gold",
          "Gold",
          "Gold",
          "Gold",
          "Silver",
          "Bronze",
          "Gold",
          "Silver",
          "Gold",
          "Gold",
          "Gold",
          "Bronze",
          "Gold",
          "Gold",
          "Gold",
          "Gold",
          "Gold",
          "Gold",
          "Bronze",
          "Bronze",
          "Bronze",
          "Gold",
          "Silver",
          "Gold",
          "Gold",
          "Gold",
          "Gold",
          "Bronze",
          "Bronze",
          "Bronze",
          "Gold",
          "Gold",
          "Gold",
          "Gold",
          "Bronze",
          "Bronze",
          "Gold",
          "Gold",
          "Bronze",
          "Gold",
          "Silver",
          "Bronze",
          "Gold",
          "Gold",
          "Gold",
          "Gold",
          "Bronze",
          "Bronze",
          "Silver",
          "Silver",
          "Bronze",
          "Bronze",
          "Bronze",
          "Bronze",
          "Bronze",
          "Bronze",
          "Bronze",
          "Gold",
          "Silver",
          "Bronze",
          "Gold",
          "Silver",
          "Bronze",
          "Gold",
          "Bronze",
          "Bronze",
          "Gold",
          "Silver",
          "Silver",
          "Bronze",
          "Bronze",
          "Bronze",
          "Gold",
          "Gold",
          "Gold",
          "Silver",
          "Silver",
          "Bronze",
          "Gold",
          "Silver",
          "Bronze",
          "Silver",
          "Silver",
          "Silver",
          "Gold",
          "Bronze",
          "Bronze",
          "Gold",
          "Silver",
          "Bronze",
          "Gold",
          "Silver",
          "Bronze",
          "Gold",
          "Silver",
          "Bronze",
          "Gold",
          "Silver",
          "Bronze",
          "Gold",
          "Gold",
          "Gold",
          "Gold",
          "Gold",
          "Gold",
          "Gold",
          "Silver",
          "Bronze",
          "Gold",
          "Silver",
          "Bronze",
          "Bronze",
          "Bronze",
          "Bronze",
          "Gold",
          "Silver",
          "Bronze",
          "Gold",
          "Bronze",
          "Bronze",
          "Gold",
          "Silver",
          "Bronze",
          "Gold",
          "Silver",
          "Gold",
          "Gold",
          "Silver",
          "Bronze",
          "Gold",
          "Silver",
          "Bronze",
          "Gold",
          "Gold",
          "Bronze",
          "Gold",
          "Silver",
          "Gold",
          "Silver",
          "Silver",
          "Silver",
          "Gold",
          "Silver",
          "Bronze",
          "Silver",
          "Silver",
          "Silver",
          "Gold",
          "Silver",
          "Bronze",
          "Gold",
          "Silver",
          "Bronze",
          "Gold",
          "Silver",
          "Bronze",
          "Gold",
          "Silver",
          "Bronze",
          "Gold",
          "Silver",
          "Bronze",
          "Gold",
          "Silver",
          "Bronze",
          "Gold",
          "Silver",
          "Bronze",
          "Gold",
          "Silver",
          "Bronze",
          "Silver",
          "Silver",
          "Bronze",
          "Gold",
          "Gold",
          "Gold",
          "Bronze",
          "Silver",
          "Bronze",
          "Gold",
          "Gold",
          "Gold",
          "Gold",
          "Bronze",
          "Bronze",
          "Gold",
          "Silver",
          "Bronze",
          "Bronze",
          "Bronze",
          "Bronze",
          "Bronze",
          "Bronze",
          "Bronze",
          "Gold",
          "Silver",
          "Bronze",
          "Gold",
          "Silver",
          "Bronze",
          "Bronze",
          "Silver",
          "Bronze",
          "Gold",
          "Silver",
          "Gold",
          "Silver",
          "Silver",
          "Bronze",
          "Gold",
          "Silver",
          "Bronze",
          "Gold",
          "Silver",
          "Silver",
          "Gold",
          "Silver",
          "Bronze",
          "Silver",
          "Silver",
          "Bronze",
          "Gold",
          "Silver",
          "Bronze",
          "Gold",
          "Silver",
          "Bronze",
          "Gold",
          "Silver",
          "Bronze",
          "Gold",
          "Bronze",
          "Bronze",
          "Gold",
          "Silver",
          "Bronze",
          "Gold",
          "Silver",
          "Bronze",
          "Gold",
          "Silver",
          "Bronze",
          "Gold",
          "Gold",
          "Gold",
          "Gold",
          "Silver",
          "Bronze",
          "Silver",
          "Silver",
          "Bronze",
          "Gold",
          "Bronze",
          "Bronze",
          "Gold",
          "Silver",
          "Bronze",
          "Gold",
          "Silver",
          "Bronze",
          "Gold",
          "Bronze",
          "Bronze",
          "Gold",
          "Silver",
          "Bronze",
          "Gold",
          "Silver",
          "Bronze",
          "Gold",
          "Silver",
          "Bronze",
          "Bronze",
          "Silver",
          "Bronze",
          "Bronze",
          "Bronze",
          "Bronze",
          "Gold",
          "Silver",
          "Bronze",
          "Bronze",
          "Bronze",
          "Bronze",
          "Gold",
          "Bronze",
          "Bronze",
          "Gold",
          "Silver",
          "Bronze",
          "Gold",
          "Silver",
          "Bronze",
          "Bronze",
          "Bronze",
          "Bronze",
          "Gold",
          "Silver",
          "Gold",
          "Gold",
          "Gold",
          "Bronze",
          "Gold",
          "Gold",
          "Bronze",
          "Gold",
          "Gold",
          "Gold",
          "Gold",
          "Bronze",
          "Bronze",
          "Gold",
          "Silver",
          "Bronze",
          "Bronze",
          "Silver",
          "Bronze",
          "Bronze",
          "Bronze",
          "Bronze",
          "Silver",
          "Silver",
          "Bronze",
          "Gold",
          "Silver",
          "Bronze",
          "Silver",
          "Silver",
          "Silver",
          "Silver",
          "Silver",
          "Silver",
          "Gold",
          "Silver",
          "Silver",
          "Gold",
          "Silver",
          "Silver",
          "Gold",
          "Silver",
          "Bronze",
          "Bronze",
          "Silver",
          "Bronze",
          "Gold",
          "Silver",
          "Bronze",
          "Silver",
          "Silver",
          "Bronze",
          "Silver",
          "Silver",
          "Bronze",
          "Gold",
          "Silver",
          "Bronze",
          "Gold",
          "Bronze",
          "Bronze",
          "Bronze",
          "Bronze",
          "Bronze",
          "Gold",
          "Bronze",
          "Bronze",
          "Gold",
          "Silver",
          "Silver",
          "Bronze",
          "Bronze",
          "Bronze",
          "Gold",
          "Silver",
          "Bronze",
          "Gold",
          "Silver",
          "Bronze",
          "Gold",
          "Gold",
          "Bronze",
          "Gold",
          "Gold",
          "Gold",
          "Bronze",
          "Bronze",
          "Bronze",
          "Bronze",
          "Bronze",
          "Bronze",
          "Bronze",
          "Silver",
          "Bronze",
          "Gold",
          "Silver",
          "Bronze",
          "Gold",
          "Silver",
          "Gold",
          "Bronze",
          "Bronze",
          "Bronze",
          "Bronze",
          "Bronze",
          "Bronze",
          "Silver",
          "Silver",
          "Silver",
          "Gold",
          "Silver",
          "Silver",
          "Silver",
          "Silver",
          "Bronze",
          "Gold",
          "Silver",
          "Bronze",
          "Gold",
          "Bronze",
          "Bronze",
          "Gold",
          "Silver",
          "Bronze",
          "Gold",
          "Gold",
          "Gold",
          "Bronze",
          "Bronze",
          "Bronze",
          "Gold",
          "Silver",
          "Bronze",
          "Bronze",
          "Bronze",
          "Bronze",
          "Gold",
          "Silver",
          "Gold",
          "Gold",
          "Gold",
          "Bronze",
          "Gold",
          "Silver",
          "Gold",
          "Silver",
          "Silver",
          "Silver",
          "Gold",
          "Bronze",
          "Bronze",
          "Gold",
          "Gold",
          "Bronze",
          "Silver",
          "Silver",
          "Bronze",
          "Bronze",
          "Silver",
          "Bronze",
          "Gold",
          "Silver",
          "Bronze",
          "Bronze",
          "Silver",
          "Bronze",
          "Silver",
          "Silver",
          "Bronze",
          "Gold",
          "Silver",
          "Gold",
          "Bronze",
          "Silver",
          "Bronze",
          "Gold",
          "Silver",
          "Gold",
          "Bronze",
          "Silver",
          "Bronze",
          "Gold",
          "Silver",
          "Bronze",
          "Silver",
          "Silver",
          "Bronze",
          "Gold",
          "Bronze",
          "Bronze",
          "Bronze",
          "Bronze",
          "Bronze",
          "Silver",
          "Silver",
          "Silver",
          "Gold",
          "Silver",
          "Bronze",
          "Gold",
          "Silver",
          "Bronze",
          "Gold",
          "Silver",
          "Bronze",
          "Gold",
          "Silver",
          "Bronze",
          "Silver",
          "Silver",
          "Silver",
          "Bronze",
          "Bronze",
          "Bronze",
          "Gold",
          "Silver",
          "Silver",
          "Gold",
          "Gold",
          "Gold",
          "Gold",
          "Silver",
          "Bronze",
          "Silver",
          "Silver",
          "Silver",
          "Silver",
          "Silver",
          "Bronze",
          "Gold",
          "Gold",
          "Bronze",
          "Gold",
          "Silver",
          "Gold",
          "Gold",
          "Gold",
          "Bronze",
          "Gold",
          "Bronze",
          "Bronze",
          "Gold",
          "Silver",
          "Silver",
          "Gold",
          "Silver",
          "Bronze",
          "Gold",
          "Silver",
          "Bronze",
          "Gold",
          "Silver",
          "Bronze",
          "Gold",
          "Bronze",
          "Bronze",
          "Silver",
          "Silver",
          "Bronze",
          "Gold",
          "Bronze",
          "Bronze",
          "Gold",
          "Silver",
          "Gold",
          "Gold",
          "Bronze",
          "Bronze",
          "Bronze",
          "Silver",
          "Bronze",
          "Gold",
          "Gold",
          "Bronze",
          "Silver",
          "Silver",
          "Silver",
          "Silver",
          "Silver",
          "Bronze",
          "Bronze",
          "Bronze",
          "Bronze",
          "Bronze",
          "Silver",
          "Bronze",
          "Gold",
          "Silver",
          "Bronze",
          "Silver",
          "Silver",
          "Silver",
          "Silver",
          "Silver",
          "Bronze",
          "Gold",
          "Silver",
          "Bronze",
          "Silver",
          "Silver",
          "Bronze",
          "Gold",
          "Gold",
          "Bronze",
          "Gold",
          "Bronze",
          "Bronze"
         ],
         "x0": " ",
         "xaxis": "x",
         "y": [
          67,
          67,
          67,
          83,
          84,
          60,
          57,
          50,
          69,
          65,
          65,
          65,
          47,
          47,
          59,
          70,
          77,
          73,
          77,
          77,
          80,
          55,
          73,
          72,
          80,
          80,
          79,
          65,
          58,
          58,
          62,
          85,
          62,
          84,
          74,
          82,
          79,
          70,
          94,
          72,
          72,
          85,
          57,
          57,
          56,
          62,
          62,
          62,
          68,
          68,
          68,
          77,
          83,
          83,
          120,
          120,
          120,
          128,
          120,
          128,
          77,
          77,
          77,
          94,
          92,
          94,
          86,
          86,
          86,
          67,
          67,
          67,
          75,
          75,
          80,
          134,
          125,
          120,
          74,
          74,
          74,
          50,
          43,
          52,
          63,
          57,
          61,
          65,
          59,
          60,
          50,
          50,
          45,
          53,
          53,
          55,
          53,
          51,
          54,
          55,
          61,
          61,
          65,
          59,
          57,
          61,
          69,
          58,
          57,
          55,
          60,
          47,
          47,
          47,
          60,
          60,
          60,
          85,
          85,
          70,
          75,
          75,
          75,
          69,
          69,
          64,
          58,
          72,
          58,
          74,
          74,
          72,
          65,
          65,
          65,
          49,
          45,
          49,
          62,
          59,
          66,
          95,
          136,
          95,
          72,
          72,
          72,
          70,
          80,
          80,
          88,
          88,
          88,
          56,
          72,
          68,
          59,
          59,
          70,
          65,
          65,
          51,
          130,
          99,
          93,
          74,
          79,
          60,
          77,
          87,
          88,
          67,
          75,
          70,
          56,
          56,
          56,
          57,
          57,
          57,
          52,
          52,
          52,
          91,
          91,
          91,
          49,
          49,
          49,
          81,
          81,
          81,
          64,
          64,
          64,
          60,
          64,
          60,
          75,
          75,
          75,
          101,
          108,
          101,
          69,
          69,
          69,
          51,
          50,
          50,
          60,
          60,
          60,
          75,
          75,
          75,
          78,
          88,
          85,
          65,
          80,
          75,
          95,
          95,
          95,
          93,
          85,
          85,
          83,
          76,
          70,
          90,
          90,
          80,
          89,
          90,
          90,
          95,
          85,
          95,
          80,
          82,
          80,
          94,
          94,
          94,
          70,
          76,
          69,
          70,
          78,
          70,
          63,
          63,
          67,
          70,
          70,
          70,
          68,
          68,
          68,
          88,
          88,
          88,
          93,
          88,
          65,
          90,
          90,
          90,
          70,
          70,
          70,
          69,
          65,
          65,
          70,
          70,
          61,
          80,
          93,
          90,
          76,
          73,
          82,
          83,
          83,
          83,
          58,
          65,
          65,
          55,
          55,
          50,
          64,
          64,
          64,
          59,
          56,
          59,
          66,
          90,
          72,
          74,
          56,
          61,
          80,
          60,
          60,
          68,
          70,
          70,
          58,
          58,
          58,
          77,
          77,
          77,
          49,
          49,
          57,
          48,
          52,
          62,
          48,
          48,
          48,
          57,
          55,
          55,
          75,
          73,
          59,
          55,
          63,
          76,
          70,
          70,
          70,
          80,
          65,
          82,
          77,
          77,
          77,
          74,
          74,
          74,
          70,
          100,
          74,
          76,
          78,
          85,
          56,
          56,
          56,
          75,
          64,
          68,
          65,
          74,
          74,
          50,
          62,
          64,
          66,
          60,
          66,
          76,
          75,
          68,
          66,
          68,
          56,
          86,
          86,
          86,
          85,
          65,
          85,
          54,
          54,
          54,
          67,
          55,
          60,
          62,
          62,
          62,
          59,
          51,
          70,
          43,
          47,
          33,
          49,
          45,
          35,
          105,
          105,
          94,
          65,
          68,
          63,
          81,
          77,
          83,
          66,
          62,
          67,
          60,
          60,
          60,
          100,
          105,
          108,
          66,
          66,
          66,
          80,
          81,
          81,
          125,
          125,
          120,
          73,
          73,
          73,
          94,
          90,
          90,
          51,
          63,
          48,
          78,
          78,
          78,
          52,
          52,
          52,
          66,
          65,
          63,
          108,
          97,
          128,
          59,
          57,
          59,
          70,
          70,
          70,
          78,
          74,
          64,
          69,
          55,
          55,
          55,
          47,
          53,
          47,
          50,
          49,
          93,
          96,
          102,
          92,
          95,
          93,
          94,
          102,
          90,
          110,
          84,
          84,
          73,
          76,
          70,
          70,
          71,
          70,
          92,
          92,
          90,
          92,
          92,
          92,
          58,
          82,
          78,
          73,
          73,
          75,
          74,
          72,
          72,
          59,
          59,
          57,
          75,
          76,
          74,
          71,
          62,
          76,
          98,
          109,
          92,
          75,
          66,
          68,
          81,
          81,
          81,
          98,
          95,
          98,
          80,
          80,
          80,
          75,
          70,
          74,
          72,
          72,
          72,
          75,
          57,
          77,
          72,
          63,
          68,
          74,
          62,
          70,
          66,
          66,
          56,
          63,
          57,
          59,
          75,
          69,
          75,
          73,
          64,
          73,
          97,
          97,
          84,
          85,
          71,
          71,
          68,
          65,
          83,
          88,
          80,
          88,
          78,
          78,
          78,
          82,
          82,
          80,
          55,
          70,
          93,
          55,
          55,
          55,
          85,
          85,
          85,
          55,
          72,
          72,
          95,
          80,
          80,
          77,
          72,
          79,
          64,
          86,
          64,
          84,
          91,
          69,
          85,
          86,
          80,
          74,
          86,
          82,
          75,
          86,
          90,
          78,
          72,
          72,
          76,
          71,
          71,
          77,
          74,
          74,
          83,
          84,
          84,
          74,
          74,
          74,
          90,
          86,
          70,
          80,
          80,
          77,
          76,
          78,
          59,
          86,
          86,
          86,
          92,
          92,
          92,
          59,
          52,
          59,
          76,
          65,
          61,
          65,
          70,
          61,
          66,
          75,
          54,
          68,
          68,
          68,
          61,
          61,
          61,
          64,
          64,
          64,
          60,
          65,
          65,
          61,
          67,
          60,
          66,
          85,
          74,
          57,
          67,
          70,
          73,
          58,
          70,
          64,
          64,
          64,
          55,
          55,
          55,
          60,
          46,
          65,
          63,
          63,
          63,
          61,
          67,
          51,
          67,
          60,
          55,
          45,
          54,
          45,
          68,
          68,
          68,
          58,
          63,
          59,
          90,
          93,
          90,
          80,
          80,
          80,
          57,
          57,
          57,
          52,
          50,
          49,
          80,
          75,
          74,
          69,
          69,
          66,
          90,
          71,
          76,
          86,
          79,
          84,
          84,
          66,
          84,
          70,
          65,
          70,
          59,
          64,
          62,
          66,
          66,
          64,
          60,
          47,
          47,
          59,
          59,
          59,
          56,
          59,
          59,
          100,
          107,
          90,
          79,
          70,
          70,
          106,
          89,
          88,
          75,
          65,
          68,
          56,
          56,
          56,
          62,
          62,
          62,
          105,
          109,
          105,
          85,
          97,
          97,
          69,
          70,
          64,
          94,
          94,
          94,
          77,
          77,
          77,
          140,
          140,
          130,
          47,
          48,
          47,
          76,
          76,
          75,
          69,
          69,
          58,
          53,
          58,
          58,
          63,
          63,
          63,
          100,
          123,
          141,
          63,
          62,
          65,
          65,
          59,
          59,
          102,
          102,
          100,
          98,
          98,
          98,
          86,
          86,
          86,
          85,
          90,
          91,
          60,
          66,
          60,
          74,
          74,
          74,
          80,
          80,
          80,
          125,
          125,
          125,
          130,
          130,
          130,
          65,
          65,
          74,
          67,
          66,
          80,
          57,
          57,
          57,
          56,
          48,
          48,
          75,
          75,
          73,
          69,
          69,
          69,
          58,
          58,
          58,
          65,
          61,
          63
         ],
         "y0": " ",
         "yaxis": "y"
        }
       ],
       "layout": {
        "boxmode": "group",
        "legend": {
         "tracegroupgap": 0
        },
        "template": {
         "data": {
          "bar": [
           {
            "error_x": {
             "color": "#2a3f5f"
            },
            "error_y": {
             "color": "#2a3f5f"
            },
            "marker": {
             "line": {
              "color": "#E5ECF6",
              "width": 0.5
             },
             "pattern": {
              "fillmode": "overlay",
              "size": 10,
              "solidity": 0.2
             }
            },
            "type": "bar"
           }
          ],
          "barpolar": [
           {
            "marker": {
             "line": {
              "color": "#E5ECF6",
              "width": 0.5
             },
             "pattern": {
              "fillmode": "overlay",
              "size": 10,
              "solidity": 0.2
             }
            },
            "type": "barpolar"
           }
          ],
          "carpet": [
           {
            "aaxis": {
             "endlinecolor": "#2a3f5f",
             "gridcolor": "white",
             "linecolor": "white",
             "minorgridcolor": "white",
             "startlinecolor": "#2a3f5f"
            },
            "baxis": {
             "endlinecolor": "#2a3f5f",
             "gridcolor": "white",
             "linecolor": "white",
             "minorgridcolor": "white",
             "startlinecolor": "#2a3f5f"
            },
            "type": "carpet"
           }
          ],
          "choropleth": [
           {
            "colorbar": {
             "outlinewidth": 0,
             "ticks": ""
            },
            "type": "choropleth"
           }
          ],
          "contour": [
           {
            "colorbar": {
             "outlinewidth": 0,
             "ticks": ""
            },
            "colorscale": [
             [
              0,
              "#0d0887"
             ],
             [
              0.1111111111111111,
              "#46039f"
             ],
             [
              0.2222222222222222,
              "#7201a8"
             ],
             [
              0.3333333333333333,
              "#9c179e"
             ],
             [
              0.4444444444444444,
              "#bd3786"
             ],
             [
              0.5555555555555556,
              "#d8576b"
             ],
             [
              0.6666666666666666,
              "#ed7953"
             ],
             [
              0.7777777777777778,
              "#fb9f3a"
             ],
             [
              0.8888888888888888,
              "#fdca26"
             ],
             [
              1,
              "#f0f921"
             ]
            ],
            "type": "contour"
           }
          ],
          "contourcarpet": [
           {
            "colorbar": {
             "outlinewidth": 0,
             "ticks": ""
            },
            "type": "contourcarpet"
           }
          ],
          "heatmap": [
           {
            "colorbar": {
             "outlinewidth": 0,
             "ticks": ""
            },
            "colorscale": [
             [
              0,
              "#0d0887"
             ],
             [
              0.1111111111111111,
              "#46039f"
             ],
             [
              0.2222222222222222,
              "#7201a8"
             ],
             [
              0.3333333333333333,
              "#9c179e"
             ],
             [
              0.4444444444444444,
              "#bd3786"
             ],
             [
              0.5555555555555556,
              "#d8576b"
             ],
             [
              0.6666666666666666,
              "#ed7953"
             ],
             [
              0.7777777777777778,
              "#fb9f3a"
             ],
             [
              0.8888888888888888,
              "#fdca26"
             ],
             [
              1,
              "#f0f921"
             ]
            ],
            "type": "heatmap"
           }
          ],
          "heatmapgl": [
           {
            "colorbar": {
             "outlinewidth": 0,
             "ticks": ""
            },
            "colorscale": [
             [
              0,
              "#0d0887"
             ],
             [
              0.1111111111111111,
              "#46039f"
             ],
             [
              0.2222222222222222,
              "#7201a8"
             ],
             [
              0.3333333333333333,
              "#9c179e"
             ],
             [
              0.4444444444444444,
              "#bd3786"
             ],
             [
              0.5555555555555556,
              "#d8576b"
             ],
             [
              0.6666666666666666,
              "#ed7953"
             ],
             [
              0.7777777777777778,
              "#fb9f3a"
             ],
             [
              0.8888888888888888,
              "#fdca26"
             ],
             [
              1,
              "#f0f921"
             ]
            ],
            "type": "heatmapgl"
           }
          ],
          "histogram": [
           {
            "marker": {
             "pattern": {
              "fillmode": "overlay",
              "size": 10,
              "solidity": 0.2
             }
            },
            "type": "histogram"
           }
          ],
          "histogram2d": [
           {
            "colorbar": {
             "outlinewidth": 0,
             "ticks": ""
            },
            "colorscale": [
             [
              0,
              "#0d0887"
             ],
             [
              0.1111111111111111,
              "#46039f"
             ],
             [
              0.2222222222222222,
              "#7201a8"
             ],
             [
              0.3333333333333333,
              "#9c179e"
             ],
             [
              0.4444444444444444,
              "#bd3786"
             ],
             [
              0.5555555555555556,
              "#d8576b"
             ],
             [
              0.6666666666666666,
              "#ed7953"
             ],
             [
              0.7777777777777778,
              "#fb9f3a"
             ],
             [
              0.8888888888888888,
              "#fdca26"
             ],
             [
              1,
              "#f0f921"
             ]
            ],
            "type": "histogram2d"
           }
          ],
          "histogram2dcontour": [
           {
            "colorbar": {
             "outlinewidth": 0,
             "ticks": ""
            },
            "colorscale": [
             [
              0,
              "#0d0887"
             ],
             [
              0.1111111111111111,
              "#46039f"
             ],
             [
              0.2222222222222222,
              "#7201a8"
             ],
             [
              0.3333333333333333,
              "#9c179e"
             ],
             [
              0.4444444444444444,
              "#bd3786"
             ],
             [
              0.5555555555555556,
              "#d8576b"
             ],
             [
              0.6666666666666666,
              "#ed7953"
             ],
             [
              0.7777777777777778,
              "#fb9f3a"
             ],
             [
              0.8888888888888888,
              "#fdca26"
             ],
             [
              1,
              "#f0f921"
             ]
            ],
            "type": "histogram2dcontour"
           }
          ],
          "mesh3d": [
           {
            "colorbar": {
             "outlinewidth": 0,
             "ticks": ""
            },
            "type": "mesh3d"
           }
          ],
          "parcoords": [
           {
            "line": {
             "colorbar": {
              "outlinewidth": 0,
              "ticks": ""
             }
            },
            "type": "parcoords"
           }
          ],
          "pie": [
           {
            "automargin": true,
            "type": "pie"
           }
          ],
          "scatter": [
           {
            "fillpattern": {
             "fillmode": "overlay",
             "size": 10,
             "solidity": 0.2
            },
            "type": "scatter"
           }
          ],
          "scatter3d": [
           {
            "line": {
             "colorbar": {
              "outlinewidth": 0,
              "ticks": ""
             }
            },
            "marker": {
             "colorbar": {
              "outlinewidth": 0,
              "ticks": ""
             }
            },
            "type": "scatter3d"
           }
          ],
          "scattercarpet": [
           {
            "marker": {
             "colorbar": {
              "outlinewidth": 0,
              "ticks": ""
             }
            },
            "type": "scattercarpet"
           }
          ],
          "scattergeo": [
           {
            "marker": {
             "colorbar": {
              "outlinewidth": 0,
              "ticks": ""
             }
            },
            "type": "scattergeo"
           }
          ],
          "scattergl": [
           {
            "marker": {
             "colorbar": {
              "outlinewidth": 0,
              "ticks": ""
             }
            },
            "type": "scattergl"
           }
          ],
          "scattermapbox": [
           {
            "marker": {
             "colorbar": {
              "outlinewidth": 0,
              "ticks": ""
             }
            },
            "type": "scattermapbox"
           }
          ],
          "scatterpolar": [
           {
            "marker": {
             "colorbar": {
              "outlinewidth": 0,
              "ticks": ""
             }
            },
            "type": "scatterpolar"
           }
          ],
          "scatterpolargl": [
           {
            "marker": {
             "colorbar": {
              "outlinewidth": 0,
              "ticks": ""
             }
            },
            "type": "scatterpolargl"
           }
          ],
          "scatterternary": [
           {
            "marker": {
             "colorbar": {
              "outlinewidth": 0,
              "ticks": ""
             }
            },
            "type": "scatterternary"
           }
          ],
          "surface": [
           {
            "colorbar": {
             "outlinewidth": 0,
             "ticks": ""
            },
            "colorscale": [
             [
              0,
              "#0d0887"
             ],
             [
              0.1111111111111111,
              "#46039f"
             ],
             [
              0.2222222222222222,
              "#7201a8"
             ],
             [
              0.3333333333333333,
              "#9c179e"
             ],
             [
              0.4444444444444444,
              "#bd3786"
             ],
             [
              0.5555555555555556,
              "#d8576b"
             ],
             [
              0.6666666666666666,
              "#ed7953"
             ],
             [
              0.7777777777777778,
              "#fb9f3a"
             ],
             [
              0.8888888888888888,
              "#fdca26"
             ],
             [
              1,
              "#f0f921"
             ]
            ],
            "type": "surface"
           }
          ],
          "table": [
           {
            "cells": {
             "fill": {
              "color": "#EBF0F8"
             },
             "line": {
              "color": "white"
             }
            },
            "header": {
             "fill": {
              "color": "#C8D4E3"
             },
             "line": {
              "color": "white"
             }
            },
            "type": "table"
           }
          ]
         },
         "layout": {
          "annotationdefaults": {
           "arrowcolor": "#2a3f5f",
           "arrowhead": 0,
           "arrowwidth": 1
          },
          "autotypenumbers": "strict",
          "coloraxis": {
           "colorbar": {
            "outlinewidth": 0,
            "ticks": ""
           }
          },
          "colorscale": {
           "diverging": [
            [
             0,
             "#8e0152"
            ],
            [
             0.1,
             "#c51b7d"
            ],
            [
             0.2,
             "#de77ae"
            ],
            [
             0.3,
             "#f1b6da"
            ],
            [
             0.4,
             "#fde0ef"
            ],
            [
             0.5,
             "#f7f7f7"
            ],
            [
             0.6,
             "#e6f5d0"
            ],
            [
             0.7,
             "#b8e186"
            ],
            [
             0.8,
             "#7fbc41"
            ],
            [
             0.9,
             "#4d9221"
            ],
            [
             1,
             "#276419"
            ]
           ],
           "sequential": [
            [
             0,
             "#0d0887"
            ],
            [
             0.1111111111111111,
             "#46039f"
            ],
            [
             0.2222222222222222,
             "#7201a8"
            ],
            [
             0.3333333333333333,
             "#9c179e"
            ],
            [
             0.4444444444444444,
             "#bd3786"
            ],
            [
             0.5555555555555556,
             "#d8576b"
            ],
            [
             0.6666666666666666,
             "#ed7953"
            ],
            [
             0.7777777777777778,
             "#fb9f3a"
            ],
            [
             0.8888888888888888,
             "#fdca26"
            ],
            [
             1,
             "#f0f921"
            ]
           ],
           "sequentialminus": [
            [
             0,
             "#0d0887"
            ],
            [
             0.1111111111111111,
             "#46039f"
            ],
            [
             0.2222222222222222,
             "#7201a8"
            ],
            [
             0.3333333333333333,
             "#9c179e"
            ],
            [
             0.4444444444444444,
             "#bd3786"
            ],
            [
             0.5555555555555556,
             "#d8576b"
            ],
            [
             0.6666666666666666,
             "#ed7953"
            ],
            [
             0.7777777777777778,
             "#fb9f3a"
            ],
            [
             0.8888888888888888,
             "#fdca26"
            ],
            [
             1,
             "#f0f921"
            ]
           ]
          },
          "colorway": [
           "#636efa",
           "#EF553B",
           "#00cc96",
           "#ab63fa",
           "#FFA15A",
           "#19d3f3",
           "#FF6692",
           "#B6E880",
           "#FF97FF",
           "#FECB52"
          ],
          "font": {
           "color": "#2a3f5f"
          },
          "geo": {
           "bgcolor": "white",
           "lakecolor": "white",
           "landcolor": "#E5ECF6",
           "showlakes": true,
           "showland": true,
           "subunitcolor": "white"
          },
          "hoverlabel": {
           "align": "left"
          },
          "hovermode": "closest",
          "mapbox": {
           "style": "light"
          },
          "paper_bgcolor": "white",
          "plot_bgcolor": "#E5ECF6",
          "polar": {
           "angularaxis": {
            "gridcolor": "white",
            "linecolor": "white",
            "ticks": ""
           },
           "bgcolor": "#E5ECF6",
           "radialaxis": {
            "gridcolor": "white",
            "linecolor": "white",
            "ticks": ""
           }
          },
          "scene": {
           "xaxis": {
            "backgroundcolor": "#E5ECF6",
            "gridcolor": "white",
            "gridwidth": 2,
            "linecolor": "white",
            "showbackground": true,
            "ticks": "",
            "zerolinecolor": "white"
           },
           "yaxis": {
            "backgroundcolor": "#E5ECF6",
            "gridcolor": "white",
            "gridwidth": 2,
            "linecolor": "white",
            "showbackground": true,
            "ticks": "",
            "zerolinecolor": "white"
           },
           "zaxis": {
            "backgroundcolor": "#E5ECF6",
            "gridcolor": "white",
            "gridwidth": 2,
            "linecolor": "white",
            "showbackground": true,
            "ticks": "",
            "zerolinecolor": "white"
           }
          },
          "shapedefaults": {
           "line": {
            "color": "#2a3f5f"
           }
          },
          "ternary": {
           "aaxis": {
            "gridcolor": "white",
            "linecolor": "white",
            "ticks": ""
           },
           "baxis": {
            "gridcolor": "white",
            "linecolor": "white",
            "ticks": ""
           },
           "bgcolor": "#E5ECF6",
           "caxis": {
            "gridcolor": "white",
            "linecolor": "white",
            "ticks": ""
           }
          },
          "title": {
           "x": 0.05
          },
          "xaxis": {
           "automargin": true,
           "gridcolor": "white",
           "linecolor": "white",
           "ticks": "",
           "title": {
            "standoff": 15
           },
           "zerolinecolor": "white",
           "zerolinewidth": 2
          },
          "yaxis": {
           "automargin": true,
           "gridcolor": "white",
           "linecolor": "white",
           "ticks": "",
           "title": {
            "standoff": 15
           },
           "zerolinecolor": "white",
           "zerolinewidth": 2
          }
         }
        },
        "title": {
         "text": "Weight Distribution by Predicted Medal"
        },
        "xaxis": {
         "anchor": "y",
         "domain": [
          0,
          1
         ],
         "title": {
          "text": "Predicted Medal"
         }
        },
        "yaxis": {
         "anchor": "x",
         "domain": [
          0,
          1
         ],
         "title": {
          "text": "Weight"
         }
        }
       }
      }
     },
     "metadata": {},
     "output_type": "display_data"
    }
   ],
   "source": [
    "# Scatter plot of Age vs Height colored by predicted medal\n",
    "fig = px.scatter(df, x='Age', y='Height', color='pred_medal', title='Age vs Height by Predicted Medal')\n",
    "fig.update_layout(xaxis_title='Age', yaxis_title='Height')\n",
    "fig.show()\n",
    "\n",
    "# Box plot of Weight by predicted medal\n",
    "fig = px.box(df, x='pred_medal', y='Weight', title='Weight Distribution by Predicted Medal')\n",
    "fig.update_layout(xaxis_title='Predicted Medal', yaxis_title='Weight')\n",
    "fig.show()\n"
   ]
  },
  {
   "cell_type": "code",
   "execution_count": 93,
   "metadata": {},
   "outputs": [
    {
     "data": {
      "application/vnd.plotly.v1+json": {
       "config": {
        "plotlyServerURL": "https://plot.ly"
       },
       "data": [
        {
         "hovertemplate": "pred_medal=Bronze<br>Height (cm)=%{x}<br>Weight (kg)=%{y}<br>BMI=%{marker.size}<extra></extra>",
         "legendgroup": "Bronze",
         "marker": {
          "color": "#636efa",
          "size": [
           22.647376960519203,
           22.647376960519203,
           22.647376960519203,
           19.817677368212443,
           25.34435261707989,
           18.009218277830346,
           25.25951557093426,
           24.41927902078691,
           21.32943754565376,
           20.58966513197403,
           23.37472607742878,
           23.37472607742878,
           20.15100499948985,
           19.1358024691358,
           19.1358024691358,
           22.839506172839503,
           22.47745401715962,
           25.23557679400789,
           23.299799895836188,
           19.15119181970521,
           19.1358024691358,
           19.1358024691358,
           19.1358024691358,
           20.98765432098765,
           20.98765432098765,
           20.98765432098765,
           24.25127830533236,
           24.25127830533236,
           28.00532101099209,
           28.00532101099209,
           28.00532101099209,
           33.31945022907122,
           33.31945022907122,
           19.64085297418631,
           19.64085297418631,
           19.64085297418631,
           23.37472607742878,
           35.06208911614317,
           22.839506172839503,
           22.839506172839503,
           22.839506172839503,
           20.61925365062196,
           20.761245674740486,
           17.578124999999996,
           20.449137418203453,
           19.23356074902017,
           18.04270105917337,
           17.99015275849009,
           19.37919743392696,
           20.761245674740486,
           17.056176513282043,
           17.056176513282043,
           17.056176513282043,
           22.857142857142858,
           25.95155709342561,
           25.95155709342561,
           25.95155709342561,
           24.913494809688583,
           20.983987603305785,
           20.983987603305785,
           20.983987603305785,
           32.11195240670633,
           32.11195240670633,
           26.12244897959184,
           26.12244897959184,
           23.381868423849507,
           23.381868423849507,
           23.381868423849507,
           23.38868655818771,
           20.95660749506904,
           23.72206917661463,
           20.761245674740486,
           22.44668911335578,
           18.710949246550168,
           20.56932966023876,
           20.56932966023876,
           18.42403628117914,
           26.58875091307524,
           26.30361891548156,
           17.99816345270891,
           23.66691015339664,
           23.66691015339664,
           21.63331530557058,
           21.63331530557058,
           20.761245674740486,
           23.148148148148145,
           25.7626772778288,
           25.7626772778288,
           21.29629629629629,
           21.53490839861428,
           19.53125,
           19.53125,
           20.04744562130375,
           23.148148148148145,
           24.307243558580453,
           22.229061933586404,
           24.489795918367346,
           22.857142857142858,
           26.583175803402646,
           23.05456246449932,
           20.45114617990904,
           27.160493827160494,
           27.160493827160494,
           27.160493827160494,
           22.857142857142858,
           22.857142857142858,
           22.857142857142858,
           20.23355301190889,
           20.381569714992143,
           28.72737719046251,
           22.47745401715962,
           23.875114784205696,
           23.875114784205696,
           18.144868631151112,
           20.66115702479339,
           20.66115702479339,
           20.66115702479339,
           20.41522491349481,
           20.07960127648894,
           20.41522491349481,
           24.913494809688583,
           21.8724228190326,
           21.258503401360542,
           21.258503401360542,
           20.7967298935064,
           20.7967298935064,
           20.7967298935064,
           21.192742415229034,
           22.23098712754133,
           19.48696145124717,
           19.48696145124717,
           22.20633068613798,
           21.05263157894737,
           21.604938271604937,
           24.755464315903875,
           22.839506172839503,
           24.049343594386603,
           20.07960127648894,
           20.07960127648894,
           20.07960127648894,
           23.529411764705884,
           22.096807907073963,
           22.096807907073963,
           20.66115702479339,
           23.529411764705884,
           21.875,
           23.087868130688072,
           22.582709172343712,
           24.221453287197235,
           16.836734693877553,
           15.350203938423752,
           24.97608672547561,
           22.321428571428577,
           23.991212856977683,
           22.386314277122523,
           20.28123309897241,
           30.234315948601665,
           24.41927902078691,
           24.724520008546747,
           24.3910588392529,
           25.25951557093426,
           26.29656683710737,
           21.78649237472767,
           21.79930795847751,
           19.72386587771203,
           24.61810377477591,
           24.61810377477591,
           24.61810377477591,
           20.3125,
           22.05805118868388,
           36.50621957815036,
           38.64267600531336,
           23.38868655818771,
           20.199469763918696,
           18.339100346020764,
           16.372080590731397,
           25.24689982921216,
           24.45759368836292,
           22.95684113865932,
           22.55094096485812,
           22.55094096485812,
           20.0177299894192,
           22.857142857142858,
           26.583175803402646,
           22.54595907041276,
           21.678806798473808,
           22.22222222222222,
           22.22222222222222,
           19.045073340238563,
           22.34029706557179,
           21.45328719723184,
           23.456790123456788,
           27.77442337881898,
           24.977043158861346,
           24.187046492878256,
           26.863298703434666,
           26.863298703434666,
           23.37472607742878,
           24.41927902078691,
           24.41927902078691,
           21.85727788279773,
           20.811654526534856,
           20.811654526534856,
           20.811654526534856,
           20.43816558499767,
           23.76543209876543,
           23.529411764705884,
           23.38868655818771,
           20.598608033457133,
           20.598608033457133,
           22.15102250702108,
           26.89232313815483,
           24.96494647925858,
           23.722810651876102,
           23.722810651876102,
           24.78425751739377,
           27.46481071127618,
           27.46481071127618,
           26.365603028664147,
           26.365603028664147,
           26.365603028664147,
           24.69135802469136,
           32.95068027210885,
           23.334120982986768,
           19.1107527844964,
           19.1107527844964,
           20.38043478260869,
           24.69135802469136,
           24.22022684310019,
           23.91327452439154,
           20.58966513197403,
           20.58966513197403,
           23.456790123456788,
           20.088275237664103,
           20.088275237664103,
           21.389756041160823,
           21.389756041160823,
           20.28453167402209,
           20.28453167402209,
           20.28453167402209,
           20.45288531775018,
           22.99262444384723,
           19.94321254732288,
           23.70584142853462,
           23.70584142853462,
           23.70584142853462,
           20.41522491349481,
           19.10009182736456,
           20.41522491349481,
           22.94408887815481,
           20.381569714992143,
           20.147971991015982,
           19.86851716581446,
           19.86851716581446,
           19.86851716581446,
           20.381569714992143,
           20.381569714992143,
           20.381569714992143,
           18.51851851851852,
           24.72518293294129,
           21.146319909102385,
           23.661438615467823,
           22.09317005428608,
           19.257028815517668,
           19.257028815517668,
           19.257028815517668,
           20.983987603305785,
           21.29529475392104,
           21.29529475392104,
           21.29529475392104,
           21.218317194552675,
           17.824807605251245,
           17.81185847119913,
           24.930747922437675,
           20.61377515524749,
           18.401342975206614,
           18.401342975206614,
           16.372080590731397,
           25.24933720489837,
           22.34029706557179,
           21.306818181818183,
           24.332277048438208,
           23.025684602944,
           20.902385858042937,
           20.902385858042937,
           21.45328719723184,
           22.145328719723185,
           19.562955254942764,
           19.562955254942764,
           20.41522491349481,
           20.41522491349481,
           20.41522491349481,
           20.802514792899405,
           22.09317005428608,
           24.37673130193906,
           21.952479338842977,
           24.21875,
           24.21875,
           24.21875,
           23.507805325987142,
           28.282828282828287,
           39.24646781789639,
           26.25958474843318,
           25.970115548195267,
           24.14151925078044,
           24.609375,
           44.50195682363338,
           23.030045351473927,
           23.046875,
           23.046875,
           28.293345405160707,
           30.24691358024691,
           30.24691358024691,
           26.583175803402646,
           29.3775826446281,
           21.513858510523864,
           21.513858510523864,
           25.60553633217993,
           31.88450158147128,
           37.17578426606422,
           37.17578426606422,
           35.26475694444444,
           21.97133585722012,
           25.60553633217993,
           27.68166089965398,
           21.05170825840972,
           25.55932915514163,
           23.323418063818284,
           22.65625,
           23.828125,
           22.58955143605005
          ],
          "sizemode": "area",
          "sizeref": 0.11125489205908344,
          "symbol": "circle"
         },
         "mode": "markers",
         "name": "Bronze",
         "orientation": "v",
         "showlegend": true,
         "type": "scatter",
         "x": [
          172,
          172,
          172,
          174,
          165,
          181,
          170,
          181,
          185,
          187,
          185,
          185,
          198,
          180,
          180,
          180,
          191,
          193,
          191,
          171,
          180,
          180,
          180,
          180,
          180,
          180,
          185,
          185,
          207,
          207,
          207,
          196,
          196,
          198,
          198,
          198,
          185,
          185,
          180,
          180,
          180,
          172,
          170,
          160,
          164,
          166,
          173,
          178,
          173,
          170,
          166,
          166,
          166,
          175,
          170,
          170,
          170,
          170,
          176,
          176,
          176,
          172,
          172,
          175,
          175,
          194,
          194,
          194,
          173,
          156,
          198,
          170,
          198,
          173,
          165,
          165,
          168,
          185,
          186,
          165,
          185,
          185,
          172,
          172,
          170,
          180,
          198,
          198,
          180,
          179,
          160,
          160,
          173,
          180,
          187,
          171,
          175,
          175,
          184,
          173,
          181,
          180,
          180,
          180,
          175,
          175,
          175,
          186,
          173,
          177,
          191,
          165,
          165,
          166,
          176,
          176,
          176,
          170,
          167,
          170,
          170,
          167,
          168,
          168,
          167,
          167,
          167,
          164,
          167,
          168,
          168,
          163,
          190,
          180,
          182,
          180,
          188,
          167,
          167,
          167,
          170,
          183,
          183,
          176,
          170,
          160,
          193,
          163,
          170,
          140,
          151,
          194,
          168,
          186,
          173,
          172,
          189,
          181,
          181,
          173,
          170,
          185,
          153,
          170,
          156,
          178,
          178,
          178,
          160,
          169,
          172,
          182,
          173,
          178,
          170,
          173,
          201,
          195,
          198,
          193,
          193,
          187,
          175,
          184,
          186,
          186,
          180,
          180,
          173,
          182,
          170,
          180,
          182,
          165,
          183,
          191,
          191,
          185,
          181,
          181,
          184,
          186,
          186,
          186,
          167,
          180,
          170,
          173,
          179,
          179,
          159,
          167,
          171,
          173,
          173,
          183,
          179,
          179,
          172,
          172,
          172,
          180,
          168,
          184,
          183,
          183,
          184,
          180,
          184,
          194,
          187,
          187,
          180,
          188,
          188,
          186,
          186,
          191,
          191,
          191,
          185,
          183,
          172,
          197,
          197,
          197,
          170,
          165,
          170,
          182,
          173,
          174,
          185,
          185,
          185,
          173,
          173,
          173,
          180,
          173,
          178,
          172,
          178,
          169,
          169,
          169,
          176,
          172,
          172,
          172,
          161,
          188,
          182,
          190,
          197,
          176,
          176,
          173,
          178,
          182,
          176,
          188,
          191,
          183,
          183,
          170,
          170,
          155,
          155,
          170,
          170,
          170,
          208,
          178,
          190,
          176,
          160,
          160,
          160,
          165,
          165,
          182,
          169,
          163,
          155,
          160,
          178,
          168,
          160,
          160,
          188,
          180,
          180,
          184,
          176,
          167,
          167,
          170,
          198,
          187,
          187,
          192,
          172,
          170,
          170,
          151,
          169,
          172,
          160,
          160,
          167
         ],
         "xaxis": "x",
         "y": [
          67,
          67,
          67,
          60,
          69,
          59,
          73,
          80,
          73,
          72,
          80,
          80,
          79,
          62,
          62,
          74,
          82,
          94,
          85,
          56,
          62,
          62,
          62,
          68,
          68,
          68,
          83,
          83,
          120,
          120,
          120,
          128,
          128,
          77,
          77,
          77,
          80,
          120,
          74,
          74,
          74,
          61,
          60,
          45,
          55,
          53,
          54,
          57,
          58,
          60,
          47,
          47,
          47,
          70,
          75,
          75,
          75,
          72,
          65,
          65,
          65,
          95,
          95,
          80,
          80,
          88,
          88,
          88,
          70,
          51,
          93,
          60,
          88,
          56,
          56,
          56,
          52,
          91,
          91,
          49,
          81,
          81,
          64,
          64,
          60,
          75,
          101,
          101,
          69,
          69,
          50,
          50,
          60,
          75,
          85,
          65,
          75,
          70,
          90,
          69,
          67,
          88,
          88,
          88,
          70,
          70,
          70,
          70,
          61,
          90,
          82,
          65,
          65,
          50,
          64,
          64,
          64,
          59,
          56,
          59,
          72,
          61,
          60,
          60,
          58,
          58,
          58,
          57,
          62,
          55,
          55,
          59,
          76,
          70,
          82,
          74,
          85,
          56,
          56,
          56,
          68,
          74,
          74,
          64,
          68,
          56,
          86,
          60,
          70,
          33,
          35,
          94,
          63,
          83,
          67,
          60,
          108,
          80,
          81,
          73,
          73,
          90,
          51,
          63,
          48,
          78,
          78,
          78,
          52,
          63,
          108,
          128,
          70,
          64,
          53,
          49,
          102,
          93,
          90,
          84,
          84,
          70,
          70,
          90,
          78,
          75,
          72,
          72,
          57,
          74,
          62,
          76,
          92,
          68,
          81,
          98,
          98,
          80,
          80,
          80,
          74,
          72,
          72,
          72,
          57,
          77,
          68,
          70,
          66,
          66,
          56,
          75,
          73,
          71,
          71,
          83,
          88,
          88,
          78,
          78,
          78,
          80,
          93,
          79,
          64,
          64,
          69,
          80,
          82,
          90,
          72,
          72,
          76,
          71,
          71,
          74,
          74,
          74,
          74,
          74,
          70,
          77,
          59,
          92,
          92,
          92,
          59,
          52,
          59,
          76,
          61,
          61,
          68,
          68,
          68,
          61,
          61,
          61,
          60,
          74,
          67,
          70,
          70,
          55,
          55,
          55,
          65,
          63,
          63,
          63,
          55,
          63,
          59,
          90,
          80,
          57,
          57,
          49,
          80,
          74,
          66,
          86,
          84,
          70,
          70,
          62,
          64,
          47,
          47,
          59,
          59,
          59,
          90,
          70,
          88,
          68,
          62,
          62,
          62,
          64,
          77,
          130,
          75,
          69,
          58,
          63,
          141,
          65,
          59,
          59,
          100,
          98,
          98,
          90,
          91,
          60,
          60,
          74,
          125,
          130,
          130,
          130,
          65,
          74,
          80,
          48,
          73,
          69,
          58,
          61,
          63
         ],
         "yaxis": "y"
        },
        {
         "hovertemplate": "pred_medal=Gold<br>Height (cm)=%{x}<br>Weight (kg)=%{y}<br>BMI=%{marker.size}<extra></extra>",
         "legendgroup": "Gold",
         "marker": {
          "color": "#EF553B",
          "size": [
           25.61728395061728,
           19.95728440880922,
           16.65249433106576,
           16.65249433106576,
           22.34351559258195,
           23.24598478444632,
           23.24598478444632,
           17.959183673469386,
           18.390674513354465,
           23.766410140335,
           20.77580539119001,
           23.51020408163265,
           23.51020408163265,
           18.612244897959183,
           18.612244897959183,
           22.25690831309978,
           25.68007405416704,
           25.68007405416704,
           25.68007405416704,
           21.877551020408163,
           21.877551020408163,
           21.877551020408163,
           40.01313864253934,
           19.53125,
           18.42403628117914,
           23.1404958677686,
           22.49134948096886,
           20.19509221155312,
           20.19509221155312,
           22.49134948096886,
           20.381569714992143,
           19.49317738791424,
           21.773842357381334,
           21.773842357381334,
           21.773842357381334,
           17.901234567901234,
           17.901234567901234,
           25.60553633217993,
           25.60553633217993,
           20.39542143600416,
           20.39542143600416,
           20.715693808680545,
           19.53125,
           19.53125,
           19.53125,
           21.604938271604937,
           20.322252866889244,
           22.20408163265306,
           20.286507911738084,
           28.65392669003064,
           21.62162162162162,
           22.99262444384723,
           25.4200146092038,
           21.146319909102385,
           21.132713440405748,
           17.99816345270891,
           18.699780861943022,
           19.817677368212443,
           23.93948099205209,
           22.79032897344431,
           20.429418362441915,
           21.513858510523864,
           23.148148148148145,
           23.148148148148145,
           24.967113211092915,
           27.755102040816325,
           27.755102040816325,
           21.60558100791337,
           23.98929319966668,
           23.98929319966668,
           26.42356982428326,
           26.42356982428326,
           25.766837531865903,
           25.766837531865903,
           25.766837531865903,
           22.34351559258195,
           22.09317005428608,
           25.099501595611173,
           23.1404958677686,
           23.1404958677686,
           24.508945765204302,
           24.508945765204302,
           24.508945765204302,
           22.985397512168745,
           22.985397512168745,
           22.985397512168745,
           26.59498412879979,
           20.515086478979924,
           25.46401086464464,
           25.46401086464464,
           25.46401086464464,
           20.603780345785182,
           22.229061933586404,
           22.229061933586404,
           22.34351559258195,
           23.88844098062049,
           26.59498412879979,
           22.448015122873343,
           25.61728395061728,
           25.61728395061728,
           25.61728395061728,
           23.233456176894723,
           22.571047501795427,
           23.889462809917354,
           22.634676324128566,
           22.72043837081092,
           25.142857142857142,
           25.142857142857142,
           25.142857142857142,
           21.33333333333333,
           21.453573713726524,
           25.05930702662969,
           20.202020202020204,
           21.604938271604937,
           22.1606648199446,
           24.577867151840145,
           24.577867151840145,
           24.577867151840145,
           24.72518293294129,
           24.72518293294129,
           24.72518293294129,
           19.390581717451525,
           22.448015122873343,
           26.25958474843318,
           23.875114784205696,
           17.92821542543655,
           21.306818181818183,
           21.306818181818183,
           22.69401893158948,
           22.30935640886966,
           24.332277048438208,
           24.332277048438208,
           29.411764705882355,
           29.411764705882355,
           24.31412396574249,
           20.41522491349481,
           20.17264027021956,
           21.208448753462605,
           25.73277129693168,
           20.515086478979924,
           23.92485822306238,
           22.30935640886966,
           21.513858510523864,
           23.1084345786212,
           23.1084345786212,
           25.78125,
           34.264411611523805,
           34.264411611523805,
           32.21562994979731,
           22.783308885490467,
           26.88095170007721,
           20.3125,
           24.538964901844142,
           23.046875,
           23.046875,
           21.158854166666668,
           20.830817534114235,
           17.959183673469386,
           25.7617728531856,
           24.44468062493357,
           26.88095170007721,
           26.958141358690323,
           22.03840115928028,
           22.34351559258195,
           25.48476454293629,
           25.48476454293629,
           25.48476454293629,
           25.48476454293629,
           19.60519199567334,
           22.34029706557179,
           21.6712580348944,
           22.152646502835537,
           21.20099137030069,
           29.913616800463966,
           26.573129251700685,
           25.5649539199596,
           20.13476871862332,
           21.91380569758948,
           21.26654064272212,
           23.355636914531,
           21.29529475392104,
           20.41522491349481,
           24.489795918367346,
           24.158817968558527,
           23.04002019946976,
           20.66115702479339,
           33.564013840830455,
           33.564013840830455,
           28.393726338561383,
           23.79552644102909,
           21.952479338842977,
           22.031725684986377,
           20.449137418203453,
           28.997893837184456,
           22.4981738495252,
           24.8109640831758,
           21.447567845806283,
           22.305470559638533,
           23.503556057507403,
           23.735308416025617,
           24.930747922437675,
           22.634676324128566,
           22.20598977355733,
           22.79035792549306,
           23.087868130688072,
           23.087868130688072,
           23.087868130688072,
           20.515086478979924,
           20.598608033457133,
           19.362472659471475,
           18.51851851851852,
           22.052190183434128,
           18.612244897959183,
           23.04002019946976,
           21.38394199605733,
           21.38394199605733,
           21.38394199605733,
           19.817677368212443,
           19.4707778735357,
           19.43301326017375,
           23.73866213151928,
           20.761245674740486,
           20,
           20,
           18.72417355371901,
           21.00399075824407,
           23.25,
           17.577068685776098,
           24.4140625,
           23.456790123456788,
           22.55094096485812,
           22.55094096485812,
           20.41522491349481,
           20.28123309897241,
           23.56489772834386,
           20.99054097141036,
           27.87639710716634,
           23.671253629592226,
           32.05030371478282,
           28.73174689021093,
           33.564013840830455,
           33.564013840830455,
           23.05456246449932,
           43.20987654320987,
           43.20987654320987,
           21.75019667731038,
           21.75019667731038,
           27.915518824609737,
           27.915518824609737,
           28.720083246618103,
           23.872798522589072,
           24.91990032039872,
           34.602076124567475,
           23.711844630960897,
           23.875114784205696,
           27.14681440443213,
           26.840610467838083,
           26.840610467838083,
           28.075042938300964,
           24.72518293294129,
           24.72518293294129,
           24.31412396574249,
           24.77209671026556,
           21.564544913741823,
           21.564544913741823,
           24.46460160337235
          ],
          "sizemode": "area",
          "sizeref": 0.11125489205908344,
          "symbol": "circle"
         },
         "mode": "markers",
         "name": "Gold",
         "orientation": "v",
         "showlegend": true,
         "type": "scatter",
         "x": [
          180,
          169,
          168,
          168,
          177,
          182,
          182,
          175,
          188,
          188,
          195,
          175,
          175,
          175,
          175,
          186,
          183,
          183,
          183,
          175,
          175,
          175,
          183,
          160,
          168,
          165,
          170,
          162,
          162,
          170,
          173,
          171,
          166,
          166,
          166,
          180,
          180,
          170,
          170,
          155,
          155,
          173,
          192,
          192,
          192,
          180,
          166,
          175,
          179,
          213,
          185,
          183,
          185,
          178,
          182,
          165,
          185,
          174,
          177,
          174,
          158,
          167,
          180,
          180,
          193,
          175,
          175,
          196,
          199,
          199,
          174,
          174,
          191,
          191,
          191,
          177,
          178,
          167,
          165,
          165,
          169,
          169,
          169,
          172,
          172,
          172,
          187,
          178,
          188,
          188,
          188,
          183,
          171,
          171,
          177,
          183,
          187,
          184,
          180,
          180,
          180,
          158,
          171,
          176,
          188,
          173,
          175,
          175,
          175,
          150,
          163,
          173,
          165,
          180,
          190,
          177,
          177,
          177,
          173,
          173,
          173,
          190,
          184,
          169,
          165,
          167,
          176,
          176,
          183,
          172,
          188,
          188,
          170,
          170,
          166,
          170,
          146,
          152,
          202,
          178,
          184,
          172,
          167,
          169,
          169,
          160,
          191,
          191,
          193,
          179,
          187,
          160,
          164,
          160,
          160,
          192,
          182,
          175,
          190,
          194,
          187,
          202,
          182,
          177,
          190,
          190,
          190,
          190,
          172,
          182,
          165,
          184,
          183,
          181,
          168,
          178,
          193,
          185,
          184,
          178,
          172,
          170,
          175,
          169,
          178,
          176,
          170,
          170,
          172,
          189,
          176,
          158,
          164,
          181,
          185,
          184,
          187,
          187,
          181,
          187,
          190,
          188,
          185,
          185,
          193,
          193,
          193,
          178,
          179,
          167,
          180,
          173,
          175,
          178,
          173,
          173,
          173,
          174,
          177,
          162,
          168,
          170,
          150,
          150,
          176,
          207,
          200,
          172,
          192,
          180,
          193,
          193,
          170,
          172,
          206,
          194,
          195,
          178,
          181,
          172,
          170,
          170,
          173,
          180,
          180,
          147,
          147,
          165,
          165,
          155,
          149,
          159,
          170,
          163,
          165,
          190,
          179,
          179,
          174,
          173,
          173,
          166,
          174,
          164,
          164,
          163
         ],
         "xaxis": "x2",
         "y": [
          83,
          57,
          47,
          47,
          70,
          77,
          77,
          55,
          65,
          84,
          79,
          72,
          72,
          57,
          57,
          77,
          86,
          86,
          86,
          67,
          67,
          67,
          134,
          50,
          52,
          63,
          65,
          53,
          53,
          65,
          61,
          57,
          60,
          60,
          60,
          58,
          58,
          74,
          74,
          49,
          49,
          62,
          72,
          72,
          72,
          70,
          56,
          68,
          65,
          130,
          74,
          77,
          87,
          67,
          70,
          49,
          64,
          60,
          75,
          69,
          51,
          60,
          75,
          75,
          93,
          85,
          85,
          83,
          95,
          95,
          80,
          80,
          94,
          94,
          94,
          70,
          70,
          70,
          63,
          63,
          70,
          70,
          70,
          68,
          68,
          68,
          93,
          65,
          90,
          90,
          90,
          69,
          65,
          65,
          70,
          80,
          93,
          76,
          83,
          83,
          83,
          58,
          66,
          74,
          80,
          68,
          77,
          77,
          77,
          48,
          57,
          75,
          55,
          70,
          80,
          77,
          77,
          77,
          74,
          74,
          74,
          70,
          76,
          75,
          65,
          50,
          66,
          66,
          76,
          66,
          86,
          86,
          85,
          85,
          67,
          59,
          43,
          49,
          105,
          65,
          81,
          66,
          60,
          66,
          66,
          66,
          125,
          125,
          120,
          73,
          94,
          52,
          66,
          59,
          59,
          78,
          69,
          55,
          93,
          92,
          94,
          110,
          73,
          70,
          92,
          92,
          92,
          92,
          58,
          74,
          59,
          75,
          71,
          98,
          75,
          81,
          75,
          75,
          72,
          74,
          63,
          59,
          75,
          69,
          73,
          64,
          97,
          97,
          84,
          85,
          68,
          55,
          55,
          95,
          77,
          84,
          75,
          78,
          77,
          83,
          90,
          80,
          76,
          78,
          86,
          86,
          86,
          65,
          66,
          54,
          60,
          66,
          57,
          73,
          64,
          64,
          64,
          60,
          61,
          51,
          67,
          60,
          45,
          45,
          58,
          90,
          93,
          52,
          90,
          76,
          84,
          84,
          59,
          60,
          100,
          79,
          106,
          75,
          105,
          85,
          97,
          97,
          69,
          140,
          140,
          47,
          47,
          76,
          76,
          69,
          53,
          63,
          100,
          63,
          65,
          98,
          86,
          86,
          85,
          74,
          74,
          67,
          75,
          58,
          58,
          65
         ],
         "yaxis": "y2"
        },
        {
         "hovertemplate": "pred_medal=Silver<br>Height (cm)=%{x}<br>Weight (kg)=%{y}<br>BMI=%{marker.size}<extra></extra>",
         "legendgroup": "Silver",
         "marker": {
          "color": "#00cc96",
          "size": [
           25.640242971826257,
           20.0288415318058,
           20.983987603305785,
           20.983987603305785,
           20.983987603305785,
           22.99262444384723,
           20.7967298935064,
           20.7967298935064,
           26.82742078020452,
           23.38868655818771,
           34.31610855329005,
           30.693877551020407,
           24.95659722222222,
           30.693877551020407,
           22.39541341933172,
           22.39541341933172,
           30.93982822207372,
           17.444926771877153,
           20.43816558499767,
           21.6712580348944,
           19.53125,
           19.53125,
           19.43301326017375,
           21.484375,
           22.95908765854944,
           22.95908765854944,
           19.71332152761536,
           20.16070124178232,
           18.376825152861773,
           26.234567901234566,
           26.234567901234566,
           20.38043478260869,
           20.38043478260869,
           20.897959183673468,
           19.73630108823772,
           17.578124999999996,
           19.71332152761536,
           20.598608033457133,
           43.904958677685954,
           22.47120876377142,
           19.94321254732288,
           19.94321254732288,
           21.97133585722012,
           24.504343951882387,
           21.20862305028323,
           22.152646502835537,
           19.49317738791424,
           19.49317738791424,
           19.49317738791424,
           18.42403628117914,
           18.20664542558034,
           23.688046647230323,
           20.134779750164363,
           24.45356840961236,
           22.40817898532965,
           23.671253629592226,
           27.82859645958412,
           21.258503401360542,
           25.46938775510204,
           24.898143956541425,
           22.395789591556788,
           27.757487216946675,
           27.757487216946675,
           27.757487216946675,
           23.198315069747565,
           26.01456815816857,
           26.01456815816857,
           25.82644628099173,
           24.915315920606925,
           25.46401086464464,
           25.661152034778407,
           24.22022684310019,
           22.94408887815481,
           25.180785123966945,
           26.27728507868255,
           22.28259210646805,
           20.202020202020204,
           20.202020202020204,
           26.29656683710737,
           19.841269841269845,
           23.661438615467823,
           23.661438615467823,
           18.670934308794383,
           18.670934308794383,
           20.56880661366243,
           19.473406629072173,
           19.473406629072173,
           19.473406629072173,
           19.59784155279337,
           21.04981790236894,
           22.59814049586777,
           20.747550193111813,
           25.76721894405937,
           22.54595907041276,
           20.897959183673468,
           19.56823633379624,
           21.258503401360542,
           21.22000905387053,
           22.20408163265306,
           23.030045351473927,
           22.476586888657646,
           22.476586888657646,
           22.476586888657646,
           21.218317194552675,
           23.051754907792983,
           23.051754907792983,
           23.051754907792983,
           19.43301326017375,
           22.984008997995016,
           18.49112426035503,
           26.25,
           22.20408163265306,
           25.72755521400648,
           21.9671201814059,
           21.773842357381334,
           28.90507573129841,
           27.055579891262337,
           24.45356840961236,
           28.40550435551067,
           19.81405273586343,
           24.76756591982929,
           33.564013840830455,
           19.95728440880922,
           24.801587301587304,
           24.801587301587304,
           21.62162162162162,
           19.48696145124717,
           19.48696145124717,
           16.65249433106576,
           16.262975778546714,
           17.301038062283737,
           24.989587671803417,
           24.4788579968564,
           25.5,
           21.7335354170837,
           22.408786769347305,
           24.69864962817794,
           24.48565200513601,
           21.798202394816204,
           21.798202394816204,
           19.71332152761536,
           25.393431120318084,
           27.80328537904296,
           23.384353741496604,
           25,
           24.4788579968564,
           23.38868655818771,
           23.42355740630577,
           21.9671201814059,
           19.95728440880922,
           20.983987603305785,
           24.9680097375238,
           25.88057063502083,
           25.88057063502083,
           26.672763298277697,
           22.892819979188346,
           22.892819979188346,
           22.892819979188346,
           27.755102040816325,
           27.755102040816325,
           27.755102040816325,
           27.43484224965706,
           27.43484224965706,
           27.041644131963228,
           27.041644131963228,
           19.73630108823772,
           24.075473810923548,
           24.94449165318933,
           22.35371466140697,
           23.57391518872837,
           21.85727788279773,
           23.087868130688072,
           23.57391518872837,
           21.86588921282799,
           21.86588921282799,
           24.332277048438208,
           21.47708663319821,
           21.71806608974573,
           22.857142857142858,
           23.148148148148145,
           20.897959183673468,
           20.897959183673468,
           20.897959183673468,
           21.22448979591837,
           21.22448979591837,
           19.03810742486189,
           19.78969754253308,
           22.819404547773097,
           18.10180705970476,
           17.527815881725342,
           20.679012345679013,
           21.09375,
           21.461936624163616,
           21.461936624163616,
           21.461936624163616,
           23.12406058503873,
           23.12406058503873,
           18.826793499801823,
           18.590124925639504,
           21.22000905387053,
           20.830817534114235,
           20.830817534114235,
           23.18367346938776,
           22.835009827725745,
           23.384353741496604,
           20.983987603305785,
           22.145328719723185,
           22.052190183434128,
           22.052190183434128,
           19.841269841269845,
           18.621386188612547,
           18.621386188612547,
           25.46103509815586,
           23.938989774631512,
           22.93282486021284,
           21.71806608974573,
           22.15102250702108,
           22.15102250702108,
           22.15102250702108,
           32.54800083609543,
           32.407407407407405,
           24.801587301587304,
           31.77393185505679,
           31.77393185505679,
           31.77393185505679,
           24.857954545454547,
           24.857954545454547,
           20.23950075898128,
           24.14151925078044,
           24.14151925078044,
           24.91990032039872,
           41.09726352367269,
           22.77318640955005,
           31.48148148148148,
           31.48148148148148,
           27.4506048708864,
           22.837370242214536,
           25.53544639152223,
           25.53544639152223,
           25.53544639152223,
           33.90842013888889,
           33.90842013888889,
           22.49134948096886,
           22.571047501795427,
           21.453573713726524,
           21.453573713726524,
           21.453573713726524,
           20.820939916716245,
           20.775623268698062,
           24.489795918367346,
           27.29322416043669,
           27.29322416043669
          ],
          "sizemode": "area",
          "sizeref": 0.11125489205908344,
          "symbol": "circle"
         },
         "mode": "markers",
         "name": "Silver",
         "orientation": "v",
         "showlegend": true,
         "type": "scatter",
         "x": [
          181,
          158,
          176,
          176,
          176,
          183,
          167,
          167,
          178,
          173,
          187,
          175,
          192,
          175,
          183,
          183,
          201,
          157,
          167,
          165,
          160,
          160,
          162,
          160,
          163,
          163,
          173,
          185,
          173,
          180,
          180,
          184,
          184,
          175,
          191,
          160,
          173,
          179,
          176,
          179,
          172,
          172,
          172,
          201,
          193,
          184,
          171,
          171,
          171,
          168,
          169,
          196,
          156,
          182,
          169,
          178,
          197,
          168,
          175,
          188,
          189,
          185,
          185,
          185,
          181,
          186,
          186,
          176,
          189,
          188,
          182,
          184,
          182,
          176,
          183,
          181,
          165,
          165,
          185,
          168,
          172,
          172,
          162,
          162,
          159,
          157,
          157,
          157,
          193,
          173,
          176,
          177,
          197,
          186,
          175,
          178,
          168,
          188,
          175,
          168,
          155,
          155,
          155,
          161,
          164,
          164,
          164,
          162,
          143,
          156,
          200,
          175,
          173,
          168,
          166,
          186,
          197,
          182,
          178,
          162,
          162,
          170,
          169,
          168,
          168,
          185,
          168,
          168,
          168,
          170,
          170,
          196,
          197,
          200,
          187,
          178,
          193,
          183,
          183,
          183,
          173,
          173,
          198,
          168,
          180,
          197,
          173,
          164,
          168,
          169,
          176,
          179,
          178,
          178,
          162,
          155,
          155,
          155,
          175,
          175,
          175,
          162,
          162,
          172,
          172,
          191,
          189,
          191,
          195,
          191,
          184,
          193,
          191,
          196,
          196,
          188,
          193,
          173,
          175,
          180,
          175,
          175,
          175,
          175,
          175,
          179,
          184,
          193,
          179,
          162,
          180,
          160,
          178,
          178,
          178,
          186,
          186,
          174,
          164,
          188,
          182,
          182,
          175,
          186,
          168,
          176,
          170,
          173,
          173,
          168,
          178,
          178,
          205,
          171,
          197,
          173,
          159,
          159,
          159,
          183,
          180,
          168,
          172,
          172,
          172,
          176,
          176,
          154,
          155,
          155,
          159,
          173,
          165,
          180,
          180,
          177,
          170,
          177,
          177,
          177,
          192,
          192,
          170,
          171,
          163,
          163,
          163,
          164,
          152,
          175,
          159,
          159
         ],
         "xaxis": "x3",
         "y": [
          84,
          50,
          65,
          65,
          65,
          77,
          58,
          58,
          85,
          70,
          120,
          94,
          92,
          94,
          75,
          75,
          125,
          43,
          57,
          59,
          50,
          50,
          51,
          55,
          61,
          61,
          59,
          69,
          55,
          85,
          85,
          69,
          69,
          64,
          72,
          45,
          59,
          66,
          136,
          72,
          59,
          59,
          65,
          99,
          79,
          75,
          57,
          57,
          57,
          52,
          52,
          91,
          49,
          81,
          64,
          75,
          108,
          60,
          78,
          88,
          80,
          95,
          95,
          95,
          76,
          90,
          90,
          80,
          89,
          90,
          85,
          82,
          76,
          78,
          88,
          73,
          55,
          55,
          90,
          56,
          70,
          70,
          49,
          49,
          52,
          48,
          48,
          48,
          73,
          63,
          70,
          65,
          100,
          78,
          64,
          62,
          60,
          75,
          68,
          65,
          54,
          54,
          54,
          55,
          62,
          62,
          62,
          51,
          47,
          45,
          105,
          68,
          77,
          62,
          60,
          100,
          105,
          81,
          90,
          52,
          65,
          97,
          57,
          70,
          70,
          74,
          55,
          55,
          47,
          47,
          50,
          96,
          95,
          102,
          76,
          71,
          92,
          82,
          73,
          73,
          59,
          76,
          109,
          66,
          81,
          95,
          70,
          63,
          62,
          57,
          65,
          80,
          82,
          82,
          70,
          55,
          55,
          55,
          85,
          85,
          85,
          72,
          72,
          80,
          80,
          72,
          86,
          91,
          85,
          86,
          74,
          86,
          86,
          84,
          84,
          86,
          80,
          65,
          70,
          75,
          64,
          64,
          64,
          65,
          65,
          61,
          67,
          85,
          58,
          46,
          67,
          54,
          68,
          68,
          68,
          80,
          80,
          57,
          50,
          75,
          69,
          69,
          71,
          79,
          66,
          65,
          64,
          66,
          66,
          56,
          59,
          59,
          107,
          70,
          89,
          65,
          56,
          56,
          56,
          109,
          105,
          70,
          94,
          94,
          94,
          77,
          77,
          48,
          58,
          58,
          63,
          123,
          62,
          102,
          102,
          86,
          66,
          80,
          80,
          80,
          125,
          125,
          65,
          66,
          57,
          57,
          57,
          56,
          48,
          75,
          69,
          69
         ],
         "yaxis": "y3"
        }
       ],
       "layout": {
        "annotations": [
         {
          "font": {},
          "showarrow": false,
          "text": "pred_medal=Bronze",
          "x": 0.15999999999999998,
          "xanchor": "center",
          "xref": "paper",
          "y": 1,
          "yanchor": "bottom",
          "yref": "paper"
         },
         {
          "font": {},
          "showarrow": false,
          "text": "pred_medal=Gold",
          "x": 0.49999999999999994,
          "xanchor": "center",
          "xref": "paper",
          "y": 1,
          "yanchor": "bottom",
          "yref": "paper"
         },
         {
          "font": {},
          "showarrow": false,
          "text": "pred_medal=Silver",
          "x": 0.8399999999999999,
          "xanchor": "center",
          "xref": "paper",
          "y": 1,
          "yanchor": "bottom",
          "yref": "paper"
         }
        ],
        "legend": {
         "itemsizing": "constant",
         "title": {
          "text": "pred_medal"
         },
         "tracegroupgap": 0
        },
        "template": {
         "data": {
          "bar": [
           {
            "error_x": {
             "color": "#2a3f5f"
            },
            "error_y": {
             "color": "#2a3f5f"
            },
            "marker": {
             "line": {
              "color": "#E5ECF6",
              "width": 0.5
             },
             "pattern": {
              "fillmode": "overlay",
              "size": 10,
              "solidity": 0.2
             }
            },
            "type": "bar"
           }
          ],
          "barpolar": [
           {
            "marker": {
             "line": {
              "color": "#E5ECF6",
              "width": 0.5
             },
             "pattern": {
              "fillmode": "overlay",
              "size": 10,
              "solidity": 0.2
             }
            },
            "type": "barpolar"
           }
          ],
          "carpet": [
           {
            "aaxis": {
             "endlinecolor": "#2a3f5f",
             "gridcolor": "white",
             "linecolor": "white",
             "minorgridcolor": "white",
             "startlinecolor": "#2a3f5f"
            },
            "baxis": {
             "endlinecolor": "#2a3f5f",
             "gridcolor": "white",
             "linecolor": "white",
             "minorgridcolor": "white",
             "startlinecolor": "#2a3f5f"
            },
            "type": "carpet"
           }
          ],
          "choropleth": [
           {
            "colorbar": {
             "outlinewidth": 0,
             "ticks": ""
            },
            "type": "choropleth"
           }
          ],
          "contour": [
           {
            "colorbar": {
             "outlinewidth": 0,
             "ticks": ""
            },
            "colorscale": [
             [
              0,
              "#0d0887"
             ],
             [
              0.1111111111111111,
              "#46039f"
             ],
             [
              0.2222222222222222,
              "#7201a8"
             ],
             [
              0.3333333333333333,
              "#9c179e"
             ],
             [
              0.4444444444444444,
              "#bd3786"
             ],
             [
              0.5555555555555556,
              "#d8576b"
             ],
             [
              0.6666666666666666,
              "#ed7953"
             ],
             [
              0.7777777777777778,
              "#fb9f3a"
             ],
             [
              0.8888888888888888,
              "#fdca26"
             ],
             [
              1,
              "#f0f921"
             ]
            ],
            "type": "contour"
           }
          ],
          "contourcarpet": [
           {
            "colorbar": {
             "outlinewidth": 0,
             "ticks": ""
            },
            "type": "contourcarpet"
           }
          ],
          "heatmap": [
           {
            "colorbar": {
             "outlinewidth": 0,
             "ticks": ""
            },
            "colorscale": [
             [
              0,
              "#0d0887"
             ],
             [
              0.1111111111111111,
              "#46039f"
             ],
             [
              0.2222222222222222,
              "#7201a8"
             ],
             [
              0.3333333333333333,
              "#9c179e"
             ],
             [
              0.4444444444444444,
              "#bd3786"
             ],
             [
              0.5555555555555556,
              "#d8576b"
             ],
             [
              0.6666666666666666,
              "#ed7953"
             ],
             [
              0.7777777777777778,
              "#fb9f3a"
             ],
             [
              0.8888888888888888,
              "#fdca26"
             ],
             [
              1,
              "#f0f921"
             ]
            ],
            "type": "heatmap"
           }
          ],
          "heatmapgl": [
           {
            "colorbar": {
             "outlinewidth": 0,
             "ticks": ""
            },
            "colorscale": [
             [
              0,
              "#0d0887"
             ],
             [
              0.1111111111111111,
              "#46039f"
             ],
             [
              0.2222222222222222,
              "#7201a8"
             ],
             [
              0.3333333333333333,
              "#9c179e"
             ],
             [
              0.4444444444444444,
              "#bd3786"
             ],
             [
              0.5555555555555556,
              "#d8576b"
             ],
             [
              0.6666666666666666,
              "#ed7953"
             ],
             [
              0.7777777777777778,
              "#fb9f3a"
             ],
             [
              0.8888888888888888,
              "#fdca26"
             ],
             [
              1,
              "#f0f921"
             ]
            ],
            "type": "heatmapgl"
           }
          ],
          "histogram": [
           {
            "marker": {
             "pattern": {
              "fillmode": "overlay",
              "size": 10,
              "solidity": 0.2
             }
            },
            "type": "histogram"
           }
          ],
          "histogram2d": [
           {
            "colorbar": {
             "outlinewidth": 0,
             "ticks": ""
            },
            "colorscale": [
             [
              0,
              "#0d0887"
             ],
             [
              0.1111111111111111,
              "#46039f"
             ],
             [
              0.2222222222222222,
              "#7201a8"
             ],
             [
              0.3333333333333333,
              "#9c179e"
             ],
             [
              0.4444444444444444,
              "#bd3786"
             ],
             [
              0.5555555555555556,
              "#d8576b"
             ],
             [
              0.6666666666666666,
              "#ed7953"
             ],
             [
              0.7777777777777778,
              "#fb9f3a"
             ],
             [
              0.8888888888888888,
              "#fdca26"
             ],
             [
              1,
              "#f0f921"
             ]
            ],
            "type": "histogram2d"
           }
          ],
          "histogram2dcontour": [
           {
            "colorbar": {
             "outlinewidth": 0,
             "ticks": ""
            },
            "colorscale": [
             [
              0,
              "#0d0887"
             ],
             [
              0.1111111111111111,
              "#46039f"
             ],
             [
              0.2222222222222222,
              "#7201a8"
             ],
             [
              0.3333333333333333,
              "#9c179e"
             ],
             [
              0.4444444444444444,
              "#bd3786"
             ],
             [
              0.5555555555555556,
              "#d8576b"
             ],
             [
              0.6666666666666666,
              "#ed7953"
             ],
             [
              0.7777777777777778,
              "#fb9f3a"
             ],
             [
              0.8888888888888888,
              "#fdca26"
             ],
             [
              1,
              "#f0f921"
             ]
            ],
            "type": "histogram2dcontour"
           }
          ],
          "mesh3d": [
           {
            "colorbar": {
             "outlinewidth": 0,
             "ticks": ""
            },
            "type": "mesh3d"
           }
          ],
          "parcoords": [
           {
            "line": {
             "colorbar": {
              "outlinewidth": 0,
              "ticks": ""
             }
            },
            "type": "parcoords"
           }
          ],
          "pie": [
           {
            "automargin": true,
            "type": "pie"
           }
          ],
          "scatter": [
           {
            "fillpattern": {
             "fillmode": "overlay",
             "size": 10,
             "solidity": 0.2
            },
            "type": "scatter"
           }
          ],
          "scatter3d": [
           {
            "line": {
             "colorbar": {
              "outlinewidth": 0,
              "ticks": ""
             }
            },
            "marker": {
             "colorbar": {
              "outlinewidth": 0,
              "ticks": ""
             }
            },
            "type": "scatter3d"
           }
          ],
          "scattercarpet": [
           {
            "marker": {
             "colorbar": {
              "outlinewidth": 0,
              "ticks": ""
             }
            },
            "type": "scattercarpet"
           }
          ],
          "scattergeo": [
           {
            "marker": {
             "colorbar": {
              "outlinewidth": 0,
              "ticks": ""
             }
            },
            "type": "scattergeo"
           }
          ],
          "scattergl": [
           {
            "marker": {
             "colorbar": {
              "outlinewidth": 0,
              "ticks": ""
             }
            },
            "type": "scattergl"
           }
          ],
          "scattermapbox": [
           {
            "marker": {
             "colorbar": {
              "outlinewidth": 0,
              "ticks": ""
             }
            },
            "type": "scattermapbox"
           }
          ],
          "scatterpolar": [
           {
            "marker": {
             "colorbar": {
              "outlinewidth": 0,
              "ticks": ""
             }
            },
            "type": "scatterpolar"
           }
          ],
          "scatterpolargl": [
           {
            "marker": {
             "colorbar": {
              "outlinewidth": 0,
              "ticks": ""
             }
            },
            "type": "scatterpolargl"
           }
          ],
          "scatterternary": [
           {
            "marker": {
             "colorbar": {
              "outlinewidth": 0,
              "ticks": ""
             }
            },
            "type": "scatterternary"
           }
          ],
          "surface": [
           {
            "colorbar": {
             "outlinewidth": 0,
             "ticks": ""
            },
            "colorscale": [
             [
              0,
              "#0d0887"
             ],
             [
              0.1111111111111111,
              "#46039f"
             ],
             [
              0.2222222222222222,
              "#7201a8"
             ],
             [
              0.3333333333333333,
              "#9c179e"
             ],
             [
              0.4444444444444444,
              "#bd3786"
             ],
             [
              0.5555555555555556,
              "#d8576b"
             ],
             [
              0.6666666666666666,
              "#ed7953"
             ],
             [
              0.7777777777777778,
              "#fb9f3a"
             ],
             [
              0.8888888888888888,
              "#fdca26"
             ],
             [
              1,
              "#f0f921"
             ]
            ],
            "type": "surface"
           }
          ],
          "table": [
           {
            "cells": {
             "fill": {
              "color": "#EBF0F8"
             },
             "line": {
              "color": "white"
             }
            },
            "header": {
             "fill": {
              "color": "#C8D4E3"
             },
             "line": {
              "color": "white"
             }
            },
            "type": "table"
           }
          ]
         },
         "layout": {
          "annotationdefaults": {
           "arrowcolor": "#2a3f5f",
           "arrowhead": 0,
           "arrowwidth": 1
          },
          "autotypenumbers": "strict",
          "coloraxis": {
           "colorbar": {
            "outlinewidth": 0,
            "ticks": ""
           }
          },
          "colorscale": {
           "diverging": [
            [
             0,
             "#8e0152"
            ],
            [
             0.1,
             "#c51b7d"
            ],
            [
             0.2,
             "#de77ae"
            ],
            [
             0.3,
             "#f1b6da"
            ],
            [
             0.4,
             "#fde0ef"
            ],
            [
             0.5,
             "#f7f7f7"
            ],
            [
             0.6,
             "#e6f5d0"
            ],
            [
             0.7,
             "#b8e186"
            ],
            [
             0.8,
             "#7fbc41"
            ],
            [
             0.9,
             "#4d9221"
            ],
            [
             1,
             "#276419"
            ]
           ],
           "sequential": [
            [
             0,
             "#0d0887"
            ],
            [
             0.1111111111111111,
             "#46039f"
            ],
            [
             0.2222222222222222,
             "#7201a8"
            ],
            [
             0.3333333333333333,
             "#9c179e"
            ],
            [
             0.4444444444444444,
             "#bd3786"
            ],
            [
             0.5555555555555556,
             "#d8576b"
            ],
            [
             0.6666666666666666,
             "#ed7953"
            ],
            [
             0.7777777777777778,
             "#fb9f3a"
            ],
            [
             0.8888888888888888,
             "#fdca26"
            ],
            [
             1,
             "#f0f921"
            ]
           ],
           "sequentialminus": [
            [
             0,
             "#0d0887"
            ],
            [
             0.1111111111111111,
             "#46039f"
            ],
            [
             0.2222222222222222,
             "#7201a8"
            ],
            [
             0.3333333333333333,
             "#9c179e"
            ],
            [
             0.4444444444444444,
             "#bd3786"
            ],
            [
             0.5555555555555556,
             "#d8576b"
            ],
            [
             0.6666666666666666,
             "#ed7953"
            ],
            [
             0.7777777777777778,
             "#fb9f3a"
            ],
            [
             0.8888888888888888,
             "#fdca26"
            ],
            [
             1,
             "#f0f921"
            ]
           ]
          },
          "colorway": [
           "#636efa",
           "#EF553B",
           "#00cc96",
           "#ab63fa",
           "#FFA15A",
           "#19d3f3",
           "#FF6692",
           "#B6E880",
           "#FF97FF",
           "#FECB52"
          ],
          "font": {
           "color": "#2a3f5f"
          },
          "geo": {
           "bgcolor": "white",
           "lakecolor": "white",
           "landcolor": "#E5ECF6",
           "showlakes": true,
           "showland": true,
           "subunitcolor": "white"
          },
          "hoverlabel": {
           "align": "left"
          },
          "hovermode": "closest",
          "mapbox": {
           "style": "light"
          },
          "paper_bgcolor": "white",
          "plot_bgcolor": "#E5ECF6",
          "polar": {
           "angularaxis": {
            "gridcolor": "white",
            "linecolor": "white",
            "ticks": ""
           },
           "bgcolor": "#E5ECF6",
           "radialaxis": {
            "gridcolor": "white",
            "linecolor": "white",
            "ticks": ""
           }
          },
          "scene": {
           "xaxis": {
            "backgroundcolor": "#E5ECF6",
            "gridcolor": "white",
            "gridwidth": 2,
            "linecolor": "white",
            "showbackground": true,
            "ticks": "",
            "zerolinecolor": "white"
           },
           "yaxis": {
            "backgroundcolor": "#E5ECF6",
            "gridcolor": "white",
            "gridwidth": 2,
            "linecolor": "white",
            "showbackground": true,
            "ticks": "",
            "zerolinecolor": "white"
           },
           "zaxis": {
            "backgroundcolor": "#E5ECF6",
            "gridcolor": "white",
            "gridwidth": 2,
            "linecolor": "white",
            "showbackground": true,
            "ticks": "",
            "zerolinecolor": "white"
           }
          },
          "shapedefaults": {
           "line": {
            "color": "#2a3f5f"
           }
          },
          "ternary": {
           "aaxis": {
            "gridcolor": "white",
            "linecolor": "white",
            "ticks": ""
           },
           "baxis": {
            "gridcolor": "white",
            "linecolor": "white",
            "ticks": ""
           },
           "bgcolor": "#E5ECF6",
           "caxis": {
            "gridcolor": "white",
            "linecolor": "white",
            "ticks": ""
           }
          },
          "title": {
           "x": 0.05
          },
          "xaxis": {
           "automargin": true,
           "gridcolor": "white",
           "linecolor": "white",
           "ticks": "",
           "title": {
            "standoff": 15
           },
           "zerolinecolor": "white",
           "zerolinewidth": 2
          },
          "yaxis": {
           "automargin": true,
           "gridcolor": "white",
           "linecolor": "white",
           "ticks": "",
           "title": {
            "standoff": 15
           },
           "zerolinecolor": "white",
           "zerolinewidth": 2
          }
         }
        },
        "title": {
         "text": "Weight vs Height by BMI and Predicted Medal"
        },
        "xaxis": {
         "anchor": "y",
         "domain": [
          0,
          0.31999999999999995
         ],
         "title": {
          "text": "Height (cm)"
         }
        },
        "xaxis2": {
         "anchor": "y2",
         "domain": [
          0.33999999999999997,
          0.6599999999999999
         ],
         "matches": "x",
         "title": {
          "text": "Height (cm)"
         }
        },
        "xaxis3": {
         "anchor": "y3",
         "domain": [
          0.6799999999999999,
          0.9999999999999999
         ],
         "matches": "x",
         "title": {
          "text": "Height (cm)"
         }
        },
        "yaxis": {
         "anchor": "x",
         "domain": [
          0,
          1
         ],
         "title": {
          "text": "Weight (kg)"
         }
        },
        "yaxis2": {
         "anchor": "x2",
         "domain": [
          0,
          1
         ],
         "matches": "y",
         "showticklabels": false
        },
        "yaxis3": {
         "anchor": "x3",
         "domain": [
          0,
          1
         ],
         "matches": "y",
         "showticklabels": false
        }
       }
      }
     },
     "metadata": {},
     "output_type": "display_data"
    }
   ],
   "source": [
    "data = df[['Age', 'Height', 'Weight', 'BMI', 'pred_medal']]\n",
    "\n",
    "# Scatter plot\n",
    "fig = px.scatter(data, x='Height', y='Weight', color='pred_medal', size='BMI',\n",
    "                facet_col='pred_medal', title='Weight vs Height by BMI and Predicted Medal',\n",
    "                 labels={'Height': 'Height (cm)', 'Weight': 'Weight (kg)', 'BMI': 'BMI'})\n",
    "fig.show()\n"
   ]
  },
  {
   "cell_type": "code",
   "execution_count": 95,
   "metadata": {},
   "outputs": [
    {
     "data": {
      "application/vnd.plotly.v1+json": {
       "config": {
        "plotlyServerURL": "https://plot.ly"
       },
       "data": [
        {
         "hovertemplate": "pred_medal=Bronze<br>Height (cm)=%{x}<br>Weight (kg)=%{y}<br>BMI=%{z}<extra></extra>",
         "legendgroup": "Bronze",
         "marker": {
          "color": "#636efa",
          "symbol": "circle"
         },
         "mode": "markers",
         "name": "Bronze",
         "scene": "scene",
         "showlegend": true,
         "type": "scatter3d",
         "x": [
          172,
          172,
          172,
          174,
          165,
          181,
          170,
          181,
          185,
          187,
          185,
          185,
          198,
          180,
          180,
          180,
          191,
          193,
          191,
          171,
          180,
          180,
          180,
          180,
          180,
          180,
          185,
          185,
          207,
          207,
          207,
          196,
          196,
          198,
          198,
          198,
          185,
          185,
          180,
          180,
          180,
          172,
          170,
          160,
          164,
          166,
          173,
          178,
          173,
          170,
          166,
          166,
          166,
          175,
          170,
          170,
          170,
          170,
          176,
          176,
          176,
          172,
          172,
          175,
          175,
          194,
          194,
          194,
          173,
          156,
          198,
          170,
          198,
          173,
          165,
          165,
          168,
          185,
          186,
          165,
          185,
          185,
          172,
          172,
          170,
          180,
          198,
          198,
          180,
          179,
          160,
          160,
          173,
          180,
          187,
          171,
          175,
          175,
          184,
          173,
          181,
          180,
          180,
          180,
          175,
          175,
          175,
          186,
          173,
          177,
          191,
          165,
          165,
          166,
          176,
          176,
          176,
          170,
          167,
          170,
          170,
          167,
          168,
          168,
          167,
          167,
          167,
          164,
          167,
          168,
          168,
          163,
          190,
          180,
          182,
          180,
          188,
          167,
          167,
          167,
          170,
          183,
          183,
          176,
          170,
          160,
          193,
          163,
          170,
          140,
          151,
          194,
          168,
          186,
          173,
          172,
          189,
          181,
          181,
          173,
          170,
          185,
          153,
          170,
          156,
          178,
          178,
          178,
          160,
          169,
          172,
          182,
          173,
          178,
          170,
          173,
          201,
          195,
          198,
          193,
          193,
          187,
          175,
          184,
          186,
          186,
          180,
          180,
          173,
          182,
          170,
          180,
          182,
          165,
          183,
          191,
          191,
          185,
          181,
          181,
          184,
          186,
          186,
          186,
          167,
          180,
          170,
          173,
          179,
          179,
          159,
          167,
          171,
          173,
          173,
          183,
          179,
          179,
          172,
          172,
          172,
          180,
          168,
          184,
          183,
          183,
          184,
          180,
          184,
          194,
          187,
          187,
          180,
          188,
          188,
          186,
          186,
          191,
          191,
          191,
          185,
          183,
          172,
          197,
          197,
          197,
          170,
          165,
          170,
          182,
          173,
          174,
          185,
          185,
          185,
          173,
          173,
          173,
          180,
          173,
          178,
          172,
          178,
          169,
          169,
          169,
          176,
          172,
          172,
          172,
          161,
          188,
          182,
          190,
          197,
          176,
          176,
          173,
          178,
          182,
          176,
          188,
          191,
          183,
          183,
          170,
          170,
          155,
          155,
          170,
          170,
          170,
          208,
          178,
          190,
          176,
          160,
          160,
          160,
          165,
          165,
          182,
          169,
          163,
          155,
          160,
          178,
          168,
          160,
          160,
          188,
          180,
          180,
          184,
          176,
          167,
          167,
          170,
          198,
          187,
          187,
          192,
          172,
          170,
          170,
          151,
          169,
          172,
          160,
          160,
          167
         ],
         "y": [
          67,
          67,
          67,
          60,
          69,
          59,
          73,
          80,
          73,
          72,
          80,
          80,
          79,
          62,
          62,
          74,
          82,
          94,
          85,
          56,
          62,
          62,
          62,
          68,
          68,
          68,
          83,
          83,
          120,
          120,
          120,
          128,
          128,
          77,
          77,
          77,
          80,
          120,
          74,
          74,
          74,
          61,
          60,
          45,
          55,
          53,
          54,
          57,
          58,
          60,
          47,
          47,
          47,
          70,
          75,
          75,
          75,
          72,
          65,
          65,
          65,
          95,
          95,
          80,
          80,
          88,
          88,
          88,
          70,
          51,
          93,
          60,
          88,
          56,
          56,
          56,
          52,
          91,
          91,
          49,
          81,
          81,
          64,
          64,
          60,
          75,
          101,
          101,
          69,
          69,
          50,
          50,
          60,
          75,
          85,
          65,
          75,
          70,
          90,
          69,
          67,
          88,
          88,
          88,
          70,
          70,
          70,
          70,
          61,
          90,
          82,
          65,
          65,
          50,
          64,
          64,
          64,
          59,
          56,
          59,
          72,
          61,
          60,
          60,
          58,
          58,
          58,
          57,
          62,
          55,
          55,
          59,
          76,
          70,
          82,
          74,
          85,
          56,
          56,
          56,
          68,
          74,
          74,
          64,
          68,
          56,
          86,
          60,
          70,
          33,
          35,
          94,
          63,
          83,
          67,
          60,
          108,
          80,
          81,
          73,
          73,
          90,
          51,
          63,
          48,
          78,
          78,
          78,
          52,
          63,
          108,
          128,
          70,
          64,
          53,
          49,
          102,
          93,
          90,
          84,
          84,
          70,
          70,
          90,
          78,
          75,
          72,
          72,
          57,
          74,
          62,
          76,
          92,
          68,
          81,
          98,
          98,
          80,
          80,
          80,
          74,
          72,
          72,
          72,
          57,
          77,
          68,
          70,
          66,
          66,
          56,
          75,
          73,
          71,
          71,
          83,
          88,
          88,
          78,
          78,
          78,
          80,
          93,
          79,
          64,
          64,
          69,
          80,
          82,
          90,
          72,
          72,
          76,
          71,
          71,
          74,
          74,
          74,
          74,
          74,
          70,
          77,
          59,
          92,
          92,
          92,
          59,
          52,
          59,
          76,
          61,
          61,
          68,
          68,
          68,
          61,
          61,
          61,
          60,
          74,
          67,
          70,
          70,
          55,
          55,
          55,
          65,
          63,
          63,
          63,
          55,
          63,
          59,
          90,
          80,
          57,
          57,
          49,
          80,
          74,
          66,
          86,
          84,
          70,
          70,
          62,
          64,
          47,
          47,
          59,
          59,
          59,
          90,
          70,
          88,
          68,
          62,
          62,
          62,
          64,
          77,
          130,
          75,
          69,
          58,
          63,
          141,
          65,
          59,
          59,
          100,
          98,
          98,
          90,
          91,
          60,
          60,
          74,
          125,
          130,
          130,
          130,
          65,
          74,
          80,
          48,
          73,
          69,
          58,
          61,
          63
         ],
         "z": [
          22.647376960519203,
          22.647376960519203,
          22.647376960519203,
          19.817677368212443,
          25.34435261707989,
          18.009218277830346,
          25.25951557093426,
          24.41927902078691,
          21.32943754565376,
          20.58966513197403,
          23.37472607742878,
          23.37472607742878,
          20.15100499948985,
          19.1358024691358,
          19.1358024691358,
          22.839506172839503,
          22.47745401715962,
          25.23557679400789,
          23.299799895836188,
          19.15119181970521,
          19.1358024691358,
          19.1358024691358,
          19.1358024691358,
          20.98765432098765,
          20.98765432098765,
          20.98765432098765,
          24.25127830533236,
          24.25127830533236,
          28.00532101099209,
          28.00532101099209,
          28.00532101099209,
          33.31945022907122,
          33.31945022907122,
          19.64085297418631,
          19.64085297418631,
          19.64085297418631,
          23.37472607742878,
          35.06208911614317,
          22.839506172839503,
          22.839506172839503,
          22.839506172839503,
          20.61925365062196,
          20.761245674740486,
          17.578124999999996,
          20.449137418203453,
          19.23356074902017,
          18.04270105917337,
          17.99015275849009,
          19.37919743392696,
          20.761245674740486,
          17.056176513282043,
          17.056176513282043,
          17.056176513282043,
          22.857142857142858,
          25.95155709342561,
          25.95155709342561,
          25.95155709342561,
          24.913494809688583,
          20.983987603305785,
          20.983987603305785,
          20.983987603305785,
          32.11195240670633,
          32.11195240670633,
          26.12244897959184,
          26.12244897959184,
          23.381868423849507,
          23.381868423849507,
          23.381868423849507,
          23.38868655818771,
          20.95660749506904,
          23.72206917661463,
          20.761245674740486,
          22.44668911335578,
          18.710949246550168,
          20.56932966023876,
          20.56932966023876,
          18.42403628117914,
          26.58875091307524,
          26.30361891548156,
          17.99816345270891,
          23.66691015339664,
          23.66691015339664,
          21.63331530557058,
          21.63331530557058,
          20.761245674740486,
          23.148148148148145,
          25.7626772778288,
          25.7626772778288,
          21.29629629629629,
          21.53490839861428,
          19.53125,
          19.53125,
          20.04744562130375,
          23.148148148148145,
          24.307243558580453,
          22.229061933586404,
          24.489795918367346,
          22.857142857142858,
          26.583175803402646,
          23.05456246449932,
          20.45114617990904,
          27.160493827160494,
          27.160493827160494,
          27.160493827160494,
          22.857142857142858,
          22.857142857142858,
          22.857142857142858,
          20.23355301190889,
          20.381569714992143,
          28.72737719046251,
          22.47745401715962,
          23.875114784205696,
          23.875114784205696,
          18.144868631151112,
          20.66115702479339,
          20.66115702479339,
          20.66115702479339,
          20.41522491349481,
          20.07960127648894,
          20.41522491349481,
          24.913494809688583,
          21.8724228190326,
          21.258503401360542,
          21.258503401360542,
          20.7967298935064,
          20.7967298935064,
          20.7967298935064,
          21.192742415229034,
          22.23098712754133,
          19.48696145124717,
          19.48696145124717,
          22.20633068613798,
          21.05263157894737,
          21.604938271604937,
          24.755464315903875,
          22.839506172839503,
          24.049343594386603,
          20.07960127648894,
          20.07960127648894,
          20.07960127648894,
          23.529411764705884,
          22.096807907073963,
          22.096807907073963,
          20.66115702479339,
          23.529411764705884,
          21.875,
          23.087868130688072,
          22.582709172343712,
          24.221453287197235,
          16.836734693877553,
          15.350203938423752,
          24.97608672547561,
          22.321428571428577,
          23.991212856977683,
          22.386314277122523,
          20.28123309897241,
          30.234315948601665,
          24.41927902078691,
          24.724520008546747,
          24.3910588392529,
          25.25951557093426,
          26.29656683710737,
          21.78649237472767,
          21.79930795847751,
          19.72386587771203,
          24.61810377477591,
          24.61810377477591,
          24.61810377477591,
          20.3125,
          22.05805118868388,
          36.50621957815036,
          38.64267600531336,
          23.38868655818771,
          20.199469763918696,
          18.339100346020764,
          16.372080590731397,
          25.24689982921216,
          24.45759368836292,
          22.95684113865932,
          22.55094096485812,
          22.55094096485812,
          20.0177299894192,
          22.857142857142858,
          26.583175803402646,
          22.54595907041276,
          21.678806798473808,
          22.22222222222222,
          22.22222222222222,
          19.045073340238563,
          22.34029706557179,
          21.45328719723184,
          23.456790123456788,
          27.77442337881898,
          24.977043158861346,
          24.187046492878256,
          26.863298703434666,
          26.863298703434666,
          23.37472607742878,
          24.41927902078691,
          24.41927902078691,
          21.85727788279773,
          20.811654526534856,
          20.811654526534856,
          20.811654526534856,
          20.43816558499767,
          23.76543209876543,
          23.529411764705884,
          23.38868655818771,
          20.598608033457133,
          20.598608033457133,
          22.15102250702108,
          26.89232313815483,
          24.96494647925858,
          23.722810651876102,
          23.722810651876102,
          24.78425751739377,
          27.46481071127618,
          27.46481071127618,
          26.365603028664147,
          26.365603028664147,
          26.365603028664147,
          24.69135802469136,
          32.95068027210885,
          23.334120982986768,
          19.1107527844964,
          19.1107527844964,
          20.38043478260869,
          24.69135802469136,
          24.22022684310019,
          23.91327452439154,
          20.58966513197403,
          20.58966513197403,
          23.456790123456788,
          20.088275237664103,
          20.088275237664103,
          21.389756041160823,
          21.389756041160823,
          20.28453167402209,
          20.28453167402209,
          20.28453167402209,
          20.45288531775018,
          22.99262444384723,
          19.94321254732288,
          23.70584142853462,
          23.70584142853462,
          23.70584142853462,
          20.41522491349481,
          19.10009182736456,
          20.41522491349481,
          22.94408887815481,
          20.381569714992143,
          20.147971991015982,
          19.86851716581446,
          19.86851716581446,
          19.86851716581446,
          20.381569714992143,
          20.381569714992143,
          20.381569714992143,
          18.51851851851852,
          24.72518293294129,
          21.146319909102385,
          23.661438615467823,
          22.09317005428608,
          19.257028815517668,
          19.257028815517668,
          19.257028815517668,
          20.983987603305785,
          21.29529475392104,
          21.29529475392104,
          21.29529475392104,
          21.218317194552675,
          17.824807605251245,
          17.81185847119913,
          24.930747922437675,
          20.61377515524749,
          18.401342975206614,
          18.401342975206614,
          16.372080590731397,
          25.24933720489837,
          22.34029706557179,
          21.306818181818183,
          24.332277048438208,
          23.025684602944,
          20.902385858042937,
          20.902385858042937,
          21.45328719723184,
          22.145328719723185,
          19.562955254942764,
          19.562955254942764,
          20.41522491349481,
          20.41522491349481,
          20.41522491349481,
          20.802514792899405,
          22.09317005428608,
          24.37673130193906,
          21.952479338842977,
          24.21875,
          24.21875,
          24.21875,
          23.507805325987142,
          28.282828282828287,
          39.24646781789639,
          26.25958474843318,
          25.970115548195267,
          24.14151925078044,
          24.609375,
          44.50195682363338,
          23.030045351473927,
          23.046875,
          23.046875,
          28.293345405160707,
          30.24691358024691,
          30.24691358024691,
          26.583175803402646,
          29.3775826446281,
          21.513858510523864,
          21.513858510523864,
          25.60553633217993,
          31.88450158147128,
          37.17578426606422,
          37.17578426606422,
          35.26475694444444,
          21.97133585722012,
          25.60553633217993,
          27.68166089965398,
          21.05170825840972,
          25.55932915514163,
          23.323418063818284,
          22.65625,
          23.828125,
          22.58955143605005
         ]
        },
        {
         "hovertemplate": "pred_medal=Gold<br>Height (cm)=%{x}<br>Weight (kg)=%{y}<br>BMI=%{z}<extra></extra>",
         "legendgroup": "Gold",
         "marker": {
          "color": "#EF553B",
          "symbol": "diamond"
         },
         "mode": "markers",
         "name": "Gold",
         "scene": "scene",
         "showlegend": true,
         "type": "scatter3d",
         "x": [
          180,
          169,
          168,
          168,
          177,
          182,
          182,
          175,
          188,
          188,
          195,
          175,
          175,
          175,
          175,
          186,
          183,
          183,
          183,
          175,
          175,
          175,
          183,
          160,
          168,
          165,
          170,
          162,
          162,
          170,
          173,
          171,
          166,
          166,
          166,
          180,
          180,
          170,
          170,
          155,
          155,
          173,
          192,
          192,
          192,
          180,
          166,
          175,
          179,
          213,
          185,
          183,
          185,
          178,
          182,
          165,
          185,
          174,
          177,
          174,
          158,
          167,
          180,
          180,
          193,
          175,
          175,
          196,
          199,
          199,
          174,
          174,
          191,
          191,
          191,
          177,
          178,
          167,
          165,
          165,
          169,
          169,
          169,
          172,
          172,
          172,
          187,
          178,
          188,
          188,
          188,
          183,
          171,
          171,
          177,
          183,
          187,
          184,
          180,
          180,
          180,
          158,
          171,
          176,
          188,
          173,
          175,
          175,
          175,
          150,
          163,
          173,
          165,
          180,
          190,
          177,
          177,
          177,
          173,
          173,
          173,
          190,
          184,
          169,
          165,
          167,
          176,
          176,
          183,
          172,
          188,
          188,
          170,
          170,
          166,
          170,
          146,
          152,
          202,
          178,
          184,
          172,
          167,
          169,
          169,
          160,
          191,
          191,
          193,
          179,
          187,
          160,
          164,
          160,
          160,
          192,
          182,
          175,
          190,
          194,
          187,
          202,
          182,
          177,
          190,
          190,
          190,
          190,
          172,
          182,
          165,
          184,
          183,
          181,
          168,
          178,
          193,
          185,
          184,
          178,
          172,
          170,
          175,
          169,
          178,
          176,
          170,
          170,
          172,
          189,
          176,
          158,
          164,
          181,
          185,
          184,
          187,
          187,
          181,
          187,
          190,
          188,
          185,
          185,
          193,
          193,
          193,
          178,
          179,
          167,
          180,
          173,
          175,
          178,
          173,
          173,
          173,
          174,
          177,
          162,
          168,
          170,
          150,
          150,
          176,
          207,
          200,
          172,
          192,
          180,
          193,
          193,
          170,
          172,
          206,
          194,
          195,
          178,
          181,
          172,
          170,
          170,
          173,
          180,
          180,
          147,
          147,
          165,
          165,
          155,
          149,
          159,
          170,
          163,
          165,
          190,
          179,
          179,
          174,
          173,
          173,
          166,
          174,
          164,
          164,
          163
         ],
         "y": [
          83,
          57,
          47,
          47,
          70,
          77,
          77,
          55,
          65,
          84,
          79,
          72,
          72,
          57,
          57,
          77,
          86,
          86,
          86,
          67,
          67,
          67,
          134,
          50,
          52,
          63,
          65,
          53,
          53,
          65,
          61,
          57,
          60,
          60,
          60,
          58,
          58,
          74,
          74,
          49,
          49,
          62,
          72,
          72,
          72,
          70,
          56,
          68,
          65,
          130,
          74,
          77,
          87,
          67,
          70,
          49,
          64,
          60,
          75,
          69,
          51,
          60,
          75,
          75,
          93,
          85,
          85,
          83,
          95,
          95,
          80,
          80,
          94,
          94,
          94,
          70,
          70,
          70,
          63,
          63,
          70,
          70,
          70,
          68,
          68,
          68,
          93,
          65,
          90,
          90,
          90,
          69,
          65,
          65,
          70,
          80,
          93,
          76,
          83,
          83,
          83,
          58,
          66,
          74,
          80,
          68,
          77,
          77,
          77,
          48,
          57,
          75,
          55,
          70,
          80,
          77,
          77,
          77,
          74,
          74,
          74,
          70,
          76,
          75,
          65,
          50,
          66,
          66,
          76,
          66,
          86,
          86,
          85,
          85,
          67,
          59,
          43,
          49,
          105,
          65,
          81,
          66,
          60,
          66,
          66,
          66,
          125,
          125,
          120,
          73,
          94,
          52,
          66,
          59,
          59,
          78,
          69,
          55,
          93,
          92,
          94,
          110,
          73,
          70,
          92,
          92,
          92,
          92,
          58,
          74,
          59,
          75,
          71,
          98,
          75,
          81,
          75,
          75,
          72,
          74,
          63,
          59,
          75,
          69,
          73,
          64,
          97,
          97,
          84,
          85,
          68,
          55,
          55,
          95,
          77,
          84,
          75,
          78,
          77,
          83,
          90,
          80,
          76,
          78,
          86,
          86,
          86,
          65,
          66,
          54,
          60,
          66,
          57,
          73,
          64,
          64,
          64,
          60,
          61,
          51,
          67,
          60,
          45,
          45,
          58,
          90,
          93,
          52,
          90,
          76,
          84,
          84,
          59,
          60,
          100,
          79,
          106,
          75,
          105,
          85,
          97,
          97,
          69,
          140,
          140,
          47,
          47,
          76,
          76,
          69,
          53,
          63,
          100,
          63,
          65,
          98,
          86,
          86,
          85,
          74,
          74,
          67,
          75,
          58,
          58,
          65
         ],
         "z": [
          25.61728395061728,
          19.95728440880922,
          16.65249433106576,
          16.65249433106576,
          22.34351559258195,
          23.24598478444632,
          23.24598478444632,
          17.959183673469386,
          18.390674513354465,
          23.766410140335,
          20.77580539119001,
          23.51020408163265,
          23.51020408163265,
          18.612244897959183,
          18.612244897959183,
          22.25690831309978,
          25.68007405416704,
          25.68007405416704,
          25.68007405416704,
          21.877551020408163,
          21.877551020408163,
          21.877551020408163,
          40.01313864253934,
          19.53125,
          18.42403628117914,
          23.1404958677686,
          22.49134948096886,
          20.19509221155312,
          20.19509221155312,
          22.49134948096886,
          20.381569714992143,
          19.49317738791424,
          21.773842357381334,
          21.773842357381334,
          21.773842357381334,
          17.901234567901234,
          17.901234567901234,
          25.60553633217993,
          25.60553633217993,
          20.39542143600416,
          20.39542143600416,
          20.715693808680545,
          19.53125,
          19.53125,
          19.53125,
          21.604938271604937,
          20.322252866889244,
          22.20408163265306,
          20.286507911738084,
          28.65392669003064,
          21.62162162162162,
          22.99262444384723,
          25.4200146092038,
          21.146319909102385,
          21.132713440405748,
          17.99816345270891,
          18.699780861943022,
          19.817677368212443,
          23.93948099205209,
          22.79032897344431,
          20.429418362441915,
          21.513858510523864,
          23.148148148148145,
          23.148148148148145,
          24.967113211092915,
          27.755102040816325,
          27.755102040816325,
          21.60558100791337,
          23.98929319966668,
          23.98929319966668,
          26.42356982428326,
          26.42356982428326,
          25.766837531865903,
          25.766837531865903,
          25.766837531865903,
          22.34351559258195,
          22.09317005428608,
          25.099501595611173,
          23.1404958677686,
          23.1404958677686,
          24.508945765204302,
          24.508945765204302,
          24.508945765204302,
          22.985397512168745,
          22.985397512168745,
          22.985397512168745,
          26.59498412879979,
          20.515086478979924,
          25.46401086464464,
          25.46401086464464,
          25.46401086464464,
          20.603780345785182,
          22.229061933586404,
          22.229061933586404,
          22.34351559258195,
          23.88844098062049,
          26.59498412879979,
          22.448015122873343,
          25.61728395061728,
          25.61728395061728,
          25.61728395061728,
          23.233456176894723,
          22.571047501795427,
          23.889462809917354,
          22.634676324128566,
          22.72043837081092,
          25.142857142857142,
          25.142857142857142,
          25.142857142857142,
          21.33333333333333,
          21.453573713726524,
          25.05930702662969,
          20.202020202020204,
          21.604938271604937,
          22.1606648199446,
          24.577867151840145,
          24.577867151840145,
          24.577867151840145,
          24.72518293294129,
          24.72518293294129,
          24.72518293294129,
          19.390581717451525,
          22.448015122873343,
          26.25958474843318,
          23.875114784205696,
          17.92821542543655,
          21.306818181818183,
          21.306818181818183,
          22.69401893158948,
          22.30935640886966,
          24.332277048438208,
          24.332277048438208,
          29.411764705882355,
          29.411764705882355,
          24.31412396574249,
          20.41522491349481,
          20.17264027021956,
          21.208448753462605,
          25.73277129693168,
          20.515086478979924,
          23.92485822306238,
          22.30935640886966,
          21.513858510523864,
          23.1084345786212,
          23.1084345786212,
          25.78125,
          34.264411611523805,
          34.264411611523805,
          32.21562994979731,
          22.783308885490467,
          26.88095170007721,
          20.3125,
          24.538964901844142,
          23.046875,
          23.046875,
          21.158854166666668,
          20.830817534114235,
          17.959183673469386,
          25.7617728531856,
          24.44468062493357,
          26.88095170007721,
          26.958141358690323,
          22.03840115928028,
          22.34351559258195,
          25.48476454293629,
          25.48476454293629,
          25.48476454293629,
          25.48476454293629,
          19.60519199567334,
          22.34029706557179,
          21.6712580348944,
          22.152646502835537,
          21.20099137030069,
          29.913616800463966,
          26.573129251700685,
          25.5649539199596,
          20.13476871862332,
          21.91380569758948,
          21.26654064272212,
          23.355636914531,
          21.29529475392104,
          20.41522491349481,
          24.489795918367346,
          24.158817968558527,
          23.04002019946976,
          20.66115702479339,
          33.564013840830455,
          33.564013840830455,
          28.393726338561383,
          23.79552644102909,
          21.952479338842977,
          22.031725684986377,
          20.449137418203453,
          28.997893837184456,
          22.4981738495252,
          24.8109640831758,
          21.447567845806283,
          22.305470559638533,
          23.503556057507403,
          23.735308416025617,
          24.930747922437675,
          22.634676324128566,
          22.20598977355733,
          22.79035792549306,
          23.087868130688072,
          23.087868130688072,
          23.087868130688072,
          20.515086478979924,
          20.598608033457133,
          19.362472659471475,
          18.51851851851852,
          22.052190183434128,
          18.612244897959183,
          23.04002019946976,
          21.38394199605733,
          21.38394199605733,
          21.38394199605733,
          19.817677368212443,
          19.4707778735357,
          19.43301326017375,
          23.73866213151928,
          20.761245674740486,
          20,
          20,
          18.72417355371901,
          21.00399075824407,
          23.25,
          17.577068685776098,
          24.4140625,
          23.456790123456788,
          22.55094096485812,
          22.55094096485812,
          20.41522491349481,
          20.28123309897241,
          23.56489772834386,
          20.99054097141036,
          27.87639710716634,
          23.671253629592226,
          32.05030371478282,
          28.73174689021093,
          33.564013840830455,
          33.564013840830455,
          23.05456246449932,
          43.20987654320987,
          43.20987654320987,
          21.75019667731038,
          21.75019667731038,
          27.915518824609737,
          27.915518824609737,
          28.720083246618103,
          23.872798522589072,
          24.91990032039872,
          34.602076124567475,
          23.711844630960897,
          23.875114784205696,
          27.14681440443213,
          26.840610467838083,
          26.840610467838083,
          28.075042938300964,
          24.72518293294129,
          24.72518293294129,
          24.31412396574249,
          24.77209671026556,
          21.564544913741823,
          21.564544913741823,
          24.46460160337235
         ]
        },
        {
         "hovertemplate": "pred_medal=Silver<br>Height (cm)=%{x}<br>Weight (kg)=%{y}<br>BMI=%{z}<extra></extra>",
         "legendgroup": "Silver",
         "marker": {
          "color": "#00cc96",
          "symbol": "square"
         },
         "mode": "markers",
         "name": "Silver",
         "scene": "scene",
         "showlegend": true,
         "type": "scatter3d",
         "x": [
          181,
          158,
          176,
          176,
          176,
          183,
          167,
          167,
          178,
          173,
          187,
          175,
          192,
          175,
          183,
          183,
          201,
          157,
          167,
          165,
          160,
          160,
          162,
          160,
          163,
          163,
          173,
          185,
          173,
          180,
          180,
          184,
          184,
          175,
          191,
          160,
          173,
          179,
          176,
          179,
          172,
          172,
          172,
          201,
          193,
          184,
          171,
          171,
          171,
          168,
          169,
          196,
          156,
          182,
          169,
          178,
          197,
          168,
          175,
          188,
          189,
          185,
          185,
          185,
          181,
          186,
          186,
          176,
          189,
          188,
          182,
          184,
          182,
          176,
          183,
          181,
          165,
          165,
          185,
          168,
          172,
          172,
          162,
          162,
          159,
          157,
          157,
          157,
          193,
          173,
          176,
          177,
          197,
          186,
          175,
          178,
          168,
          188,
          175,
          168,
          155,
          155,
          155,
          161,
          164,
          164,
          164,
          162,
          143,
          156,
          200,
          175,
          173,
          168,
          166,
          186,
          197,
          182,
          178,
          162,
          162,
          170,
          169,
          168,
          168,
          185,
          168,
          168,
          168,
          170,
          170,
          196,
          197,
          200,
          187,
          178,
          193,
          183,
          183,
          183,
          173,
          173,
          198,
          168,
          180,
          197,
          173,
          164,
          168,
          169,
          176,
          179,
          178,
          178,
          162,
          155,
          155,
          155,
          175,
          175,
          175,
          162,
          162,
          172,
          172,
          191,
          189,
          191,
          195,
          191,
          184,
          193,
          191,
          196,
          196,
          188,
          193,
          173,
          175,
          180,
          175,
          175,
          175,
          175,
          175,
          179,
          184,
          193,
          179,
          162,
          180,
          160,
          178,
          178,
          178,
          186,
          186,
          174,
          164,
          188,
          182,
          182,
          175,
          186,
          168,
          176,
          170,
          173,
          173,
          168,
          178,
          178,
          205,
          171,
          197,
          173,
          159,
          159,
          159,
          183,
          180,
          168,
          172,
          172,
          172,
          176,
          176,
          154,
          155,
          155,
          159,
          173,
          165,
          180,
          180,
          177,
          170,
          177,
          177,
          177,
          192,
          192,
          170,
          171,
          163,
          163,
          163,
          164,
          152,
          175,
          159,
          159
         ],
         "y": [
          84,
          50,
          65,
          65,
          65,
          77,
          58,
          58,
          85,
          70,
          120,
          94,
          92,
          94,
          75,
          75,
          125,
          43,
          57,
          59,
          50,
          50,
          51,
          55,
          61,
          61,
          59,
          69,
          55,
          85,
          85,
          69,
          69,
          64,
          72,
          45,
          59,
          66,
          136,
          72,
          59,
          59,
          65,
          99,
          79,
          75,
          57,
          57,
          57,
          52,
          52,
          91,
          49,
          81,
          64,
          75,
          108,
          60,
          78,
          88,
          80,
          95,
          95,
          95,
          76,
          90,
          90,
          80,
          89,
          90,
          85,
          82,
          76,
          78,
          88,
          73,
          55,
          55,
          90,
          56,
          70,
          70,
          49,
          49,
          52,
          48,
          48,
          48,
          73,
          63,
          70,
          65,
          100,
          78,
          64,
          62,
          60,
          75,
          68,
          65,
          54,
          54,
          54,
          55,
          62,
          62,
          62,
          51,
          47,
          45,
          105,
          68,
          77,
          62,
          60,
          100,
          105,
          81,
          90,
          52,
          65,
          97,
          57,
          70,
          70,
          74,
          55,
          55,
          47,
          47,
          50,
          96,
          95,
          102,
          76,
          71,
          92,
          82,
          73,
          73,
          59,
          76,
          109,
          66,
          81,
          95,
          70,
          63,
          62,
          57,
          65,
          80,
          82,
          82,
          70,
          55,
          55,
          55,
          85,
          85,
          85,
          72,
          72,
          80,
          80,
          72,
          86,
          91,
          85,
          86,
          74,
          86,
          86,
          84,
          84,
          86,
          80,
          65,
          70,
          75,
          64,
          64,
          64,
          65,
          65,
          61,
          67,
          85,
          58,
          46,
          67,
          54,
          68,
          68,
          68,
          80,
          80,
          57,
          50,
          75,
          69,
          69,
          71,
          79,
          66,
          65,
          64,
          66,
          66,
          56,
          59,
          59,
          107,
          70,
          89,
          65,
          56,
          56,
          56,
          109,
          105,
          70,
          94,
          94,
          94,
          77,
          77,
          48,
          58,
          58,
          63,
          123,
          62,
          102,
          102,
          86,
          66,
          80,
          80,
          80,
          125,
          125,
          65,
          66,
          57,
          57,
          57,
          56,
          48,
          75,
          69,
          69
         ],
         "z": [
          25.640242971826257,
          20.0288415318058,
          20.983987603305785,
          20.983987603305785,
          20.983987603305785,
          22.99262444384723,
          20.7967298935064,
          20.7967298935064,
          26.82742078020452,
          23.38868655818771,
          34.31610855329005,
          30.693877551020407,
          24.95659722222222,
          30.693877551020407,
          22.39541341933172,
          22.39541341933172,
          30.93982822207372,
          17.444926771877153,
          20.43816558499767,
          21.6712580348944,
          19.53125,
          19.53125,
          19.43301326017375,
          21.484375,
          22.95908765854944,
          22.95908765854944,
          19.71332152761536,
          20.16070124178232,
          18.376825152861773,
          26.234567901234566,
          26.234567901234566,
          20.38043478260869,
          20.38043478260869,
          20.897959183673468,
          19.73630108823772,
          17.578124999999996,
          19.71332152761536,
          20.598608033457133,
          43.904958677685954,
          22.47120876377142,
          19.94321254732288,
          19.94321254732288,
          21.97133585722012,
          24.504343951882387,
          21.20862305028323,
          22.152646502835537,
          19.49317738791424,
          19.49317738791424,
          19.49317738791424,
          18.42403628117914,
          18.20664542558034,
          23.688046647230323,
          20.134779750164363,
          24.45356840961236,
          22.40817898532965,
          23.671253629592226,
          27.82859645958412,
          21.258503401360542,
          25.46938775510204,
          24.898143956541425,
          22.395789591556788,
          27.757487216946675,
          27.757487216946675,
          27.757487216946675,
          23.198315069747565,
          26.01456815816857,
          26.01456815816857,
          25.82644628099173,
          24.915315920606925,
          25.46401086464464,
          25.661152034778407,
          24.22022684310019,
          22.94408887815481,
          25.180785123966945,
          26.27728507868255,
          22.28259210646805,
          20.202020202020204,
          20.202020202020204,
          26.29656683710737,
          19.841269841269845,
          23.661438615467823,
          23.661438615467823,
          18.670934308794383,
          18.670934308794383,
          20.56880661366243,
          19.473406629072173,
          19.473406629072173,
          19.473406629072173,
          19.59784155279337,
          21.04981790236894,
          22.59814049586777,
          20.747550193111813,
          25.76721894405937,
          22.54595907041276,
          20.897959183673468,
          19.56823633379624,
          21.258503401360542,
          21.22000905387053,
          22.20408163265306,
          23.030045351473927,
          22.476586888657646,
          22.476586888657646,
          22.476586888657646,
          21.218317194552675,
          23.051754907792983,
          23.051754907792983,
          23.051754907792983,
          19.43301326017375,
          22.984008997995016,
          18.49112426035503,
          26.25,
          22.20408163265306,
          25.72755521400648,
          21.9671201814059,
          21.773842357381334,
          28.90507573129841,
          27.055579891262337,
          24.45356840961236,
          28.40550435551067,
          19.81405273586343,
          24.76756591982929,
          33.564013840830455,
          19.95728440880922,
          24.801587301587304,
          24.801587301587304,
          21.62162162162162,
          19.48696145124717,
          19.48696145124717,
          16.65249433106576,
          16.262975778546714,
          17.301038062283737,
          24.989587671803417,
          24.4788579968564,
          25.5,
          21.7335354170837,
          22.408786769347305,
          24.69864962817794,
          24.48565200513601,
          21.798202394816204,
          21.798202394816204,
          19.71332152761536,
          25.393431120318084,
          27.80328537904296,
          23.384353741496604,
          25,
          24.4788579968564,
          23.38868655818771,
          23.42355740630577,
          21.9671201814059,
          19.95728440880922,
          20.983987603305785,
          24.9680097375238,
          25.88057063502083,
          25.88057063502083,
          26.672763298277697,
          22.892819979188346,
          22.892819979188346,
          22.892819979188346,
          27.755102040816325,
          27.755102040816325,
          27.755102040816325,
          27.43484224965706,
          27.43484224965706,
          27.041644131963228,
          27.041644131963228,
          19.73630108823772,
          24.075473810923548,
          24.94449165318933,
          22.35371466140697,
          23.57391518872837,
          21.85727788279773,
          23.087868130688072,
          23.57391518872837,
          21.86588921282799,
          21.86588921282799,
          24.332277048438208,
          21.47708663319821,
          21.71806608974573,
          22.857142857142858,
          23.148148148148145,
          20.897959183673468,
          20.897959183673468,
          20.897959183673468,
          21.22448979591837,
          21.22448979591837,
          19.03810742486189,
          19.78969754253308,
          22.819404547773097,
          18.10180705970476,
          17.527815881725342,
          20.679012345679013,
          21.09375,
          21.461936624163616,
          21.461936624163616,
          21.461936624163616,
          23.12406058503873,
          23.12406058503873,
          18.826793499801823,
          18.590124925639504,
          21.22000905387053,
          20.830817534114235,
          20.830817534114235,
          23.18367346938776,
          22.835009827725745,
          23.384353741496604,
          20.983987603305785,
          22.145328719723185,
          22.052190183434128,
          22.052190183434128,
          19.841269841269845,
          18.621386188612547,
          18.621386188612547,
          25.46103509815586,
          23.938989774631512,
          22.93282486021284,
          21.71806608974573,
          22.15102250702108,
          22.15102250702108,
          22.15102250702108,
          32.54800083609543,
          32.407407407407405,
          24.801587301587304,
          31.77393185505679,
          31.77393185505679,
          31.77393185505679,
          24.857954545454547,
          24.857954545454547,
          20.23950075898128,
          24.14151925078044,
          24.14151925078044,
          24.91990032039872,
          41.09726352367269,
          22.77318640955005,
          31.48148148148148,
          31.48148148148148,
          27.4506048708864,
          22.837370242214536,
          25.53544639152223,
          25.53544639152223,
          25.53544639152223,
          33.90842013888889,
          33.90842013888889,
          22.49134948096886,
          22.571047501795427,
          21.453573713726524,
          21.453573713726524,
          21.453573713726524,
          20.820939916716245,
          20.775623268698062,
          24.489795918367346,
          27.29322416043669,
          27.29322416043669
         ]
        }
       ],
       "layout": {
        "legend": {
         "title": {
          "text": "pred_medal"
         },
         "tracegroupgap": 0
        },
        "scene": {
         "domain": {
          "x": [
           0,
           1
          ],
          "y": [
           0,
           1
          ]
         },
         "xaxis": {
          "title": {
           "text": "Height (cm)"
          }
         },
         "yaxis": {
          "title": {
           "text": "Weight (kg)"
          }
         },
         "zaxis": {
          "title": {
           "text": "BMI"
          }
         }
        },
        "template": {
         "data": {
          "bar": [
           {
            "error_x": {
             "color": "#2a3f5f"
            },
            "error_y": {
             "color": "#2a3f5f"
            },
            "marker": {
             "line": {
              "color": "#E5ECF6",
              "width": 0.5
             },
             "pattern": {
              "fillmode": "overlay",
              "size": 10,
              "solidity": 0.2
             }
            },
            "type": "bar"
           }
          ],
          "barpolar": [
           {
            "marker": {
             "line": {
              "color": "#E5ECF6",
              "width": 0.5
             },
             "pattern": {
              "fillmode": "overlay",
              "size": 10,
              "solidity": 0.2
             }
            },
            "type": "barpolar"
           }
          ],
          "carpet": [
           {
            "aaxis": {
             "endlinecolor": "#2a3f5f",
             "gridcolor": "white",
             "linecolor": "white",
             "minorgridcolor": "white",
             "startlinecolor": "#2a3f5f"
            },
            "baxis": {
             "endlinecolor": "#2a3f5f",
             "gridcolor": "white",
             "linecolor": "white",
             "minorgridcolor": "white",
             "startlinecolor": "#2a3f5f"
            },
            "type": "carpet"
           }
          ],
          "choropleth": [
           {
            "colorbar": {
             "outlinewidth": 0,
             "ticks": ""
            },
            "type": "choropleth"
           }
          ],
          "contour": [
           {
            "colorbar": {
             "outlinewidth": 0,
             "ticks": ""
            },
            "colorscale": [
             [
              0,
              "#0d0887"
             ],
             [
              0.1111111111111111,
              "#46039f"
             ],
             [
              0.2222222222222222,
              "#7201a8"
             ],
             [
              0.3333333333333333,
              "#9c179e"
             ],
             [
              0.4444444444444444,
              "#bd3786"
             ],
             [
              0.5555555555555556,
              "#d8576b"
             ],
             [
              0.6666666666666666,
              "#ed7953"
             ],
             [
              0.7777777777777778,
              "#fb9f3a"
             ],
             [
              0.8888888888888888,
              "#fdca26"
             ],
             [
              1,
              "#f0f921"
             ]
            ],
            "type": "contour"
           }
          ],
          "contourcarpet": [
           {
            "colorbar": {
             "outlinewidth": 0,
             "ticks": ""
            },
            "type": "contourcarpet"
           }
          ],
          "heatmap": [
           {
            "colorbar": {
             "outlinewidth": 0,
             "ticks": ""
            },
            "colorscale": [
             [
              0,
              "#0d0887"
             ],
             [
              0.1111111111111111,
              "#46039f"
             ],
             [
              0.2222222222222222,
              "#7201a8"
             ],
             [
              0.3333333333333333,
              "#9c179e"
             ],
             [
              0.4444444444444444,
              "#bd3786"
             ],
             [
              0.5555555555555556,
              "#d8576b"
             ],
             [
              0.6666666666666666,
              "#ed7953"
             ],
             [
              0.7777777777777778,
              "#fb9f3a"
             ],
             [
              0.8888888888888888,
              "#fdca26"
             ],
             [
              1,
              "#f0f921"
             ]
            ],
            "type": "heatmap"
           }
          ],
          "heatmapgl": [
           {
            "colorbar": {
             "outlinewidth": 0,
             "ticks": ""
            },
            "colorscale": [
             [
              0,
              "#0d0887"
             ],
             [
              0.1111111111111111,
              "#46039f"
             ],
             [
              0.2222222222222222,
              "#7201a8"
             ],
             [
              0.3333333333333333,
              "#9c179e"
             ],
             [
              0.4444444444444444,
              "#bd3786"
             ],
             [
              0.5555555555555556,
              "#d8576b"
             ],
             [
              0.6666666666666666,
              "#ed7953"
             ],
             [
              0.7777777777777778,
              "#fb9f3a"
             ],
             [
              0.8888888888888888,
              "#fdca26"
             ],
             [
              1,
              "#f0f921"
             ]
            ],
            "type": "heatmapgl"
           }
          ],
          "histogram": [
           {
            "marker": {
             "pattern": {
              "fillmode": "overlay",
              "size": 10,
              "solidity": 0.2
             }
            },
            "type": "histogram"
           }
          ],
          "histogram2d": [
           {
            "colorbar": {
             "outlinewidth": 0,
             "ticks": ""
            },
            "colorscale": [
             [
              0,
              "#0d0887"
             ],
             [
              0.1111111111111111,
              "#46039f"
             ],
             [
              0.2222222222222222,
              "#7201a8"
             ],
             [
              0.3333333333333333,
              "#9c179e"
             ],
             [
              0.4444444444444444,
              "#bd3786"
             ],
             [
              0.5555555555555556,
              "#d8576b"
             ],
             [
              0.6666666666666666,
              "#ed7953"
             ],
             [
              0.7777777777777778,
              "#fb9f3a"
             ],
             [
              0.8888888888888888,
              "#fdca26"
             ],
             [
              1,
              "#f0f921"
             ]
            ],
            "type": "histogram2d"
           }
          ],
          "histogram2dcontour": [
           {
            "colorbar": {
             "outlinewidth": 0,
             "ticks": ""
            },
            "colorscale": [
             [
              0,
              "#0d0887"
             ],
             [
              0.1111111111111111,
              "#46039f"
             ],
             [
              0.2222222222222222,
              "#7201a8"
             ],
             [
              0.3333333333333333,
              "#9c179e"
             ],
             [
              0.4444444444444444,
              "#bd3786"
             ],
             [
              0.5555555555555556,
              "#d8576b"
             ],
             [
              0.6666666666666666,
              "#ed7953"
             ],
             [
              0.7777777777777778,
              "#fb9f3a"
             ],
             [
              0.8888888888888888,
              "#fdca26"
             ],
             [
              1,
              "#f0f921"
             ]
            ],
            "type": "histogram2dcontour"
           }
          ],
          "mesh3d": [
           {
            "colorbar": {
             "outlinewidth": 0,
             "ticks": ""
            },
            "type": "mesh3d"
           }
          ],
          "parcoords": [
           {
            "line": {
             "colorbar": {
              "outlinewidth": 0,
              "ticks": ""
             }
            },
            "type": "parcoords"
           }
          ],
          "pie": [
           {
            "automargin": true,
            "type": "pie"
           }
          ],
          "scatter": [
           {
            "fillpattern": {
             "fillmode": "overlay",
             "size": 10,
             "solidity": 0.2
            },
            "type": "scatter"
           }
          ],
          "scatter3d": [
           {
            "line": {
             "colorbar": {
              "outlinewidth": 0,
              "ticks": ""
             }
            },
            "marker": {
             "colorbar": {
              "outlinewidth": 0,
              "ticks": ""
             }
            },
            "type": "scatter3d"
           }
          ],
          "scattercarpet": [
           {
            "marker": {
             "colorbar": {
              "outlinewidth": 0,
              "ticks": ""
             }
            },
            "type": "scattercarpet"
           }
          ],
          "scattergeo": [
           {
            "marker": {
             "colorbar": {
              "outlinewidth": 0,
              "ticks": ""
             }
            },
            "type": "scattergeo"
           }
          ],
          "scattergl": [
           {
            "marker": {
             "colorbar": {
              "outlinewidth": 0,
              "ticks": ""
             }
            },
            "type": "scattergl"
           }
          ],
          "scattermapbox": [
           {
            "marker": {
             "colorbar": {
              "outlinewidth": 0,
              "ticks": ""
             }
            },
            "type": "scattermapbox"
           }
          ],
          "scatterpolar": [
           {
            "marker": {
             "colorbar": {
              "outlinewidth": 0,
              "ticks": ""
             }
            },
            "type": "scatterpolar"
           }
          ],
          "scatterpolargl": [
           {
            "marker": {
             "colorbar": {
              "outlinewidth": 0,
              "ticks": ""
             }
            },
            "type": "scatterpolargl"
           }
          ],
          "scatterternary": [
           {
            "marker": {
             "colorbar": {
              "outlinewidth": 0,
              "ticks": ""
             }
            },
            "type": "scatterternary"
           }
          ],
          "surface": [
           {
            "colorbar": {
             "outlinewidth": 0,
             "ticks": ""
            },
            "colorscale": [
             [
              0,
              "#0d0887"
             ],
             [
              0.1111111111111111,
              "#46039f"
             ],
             [
              0.2222222222222222,
              "#7201a8"
             ],
             [
              0.3333333333333333,
              "#9c179e"
             ],
             [
              0.4444444444444444,
              "#bd3786"
             ],
             [
              0.5555555555555556,
              "#d8576b"
             ],
             [
              0.6666666666666666,
              "#ed7953"
             ],
             [
              0.7777777777777778,
              "#fb9f3a"
             ],
             [
              0.8888888888888888,
              "#fdca26"
             ],
             [
              1,
              "#f0f921"
             ]
            ],
            "type": "surface"
           }
          ],
          "table": [
           {
            "cells": {
             "fill": {
              "color": "#EBF0F8"
             },
             "line": {
              "color": "white"
             }
            },
            "header": {
             "fill": {
              "color": "#C8D4E3"
             },
             "line": {
              "color": "white"
             }
            },
            "type": "table"
           }
          ]
         },
         "layout": {
          "annotationdefaults": {
           "arrowcolor": "#2a3f5f",
           "arrowhead": 0,
           "arrowwidth": 1
          },
          "autotypenumbers": "strict",
          "coloraxis": {
           "colorbar": {
            "outlinewidth": 0,
            "ticks": ""
           }
          },
          "colorscale": {
           "diverging": [
            [
             0,
             "#8e0152"
            ],
            [
             0.1,
             "#c51b7d"
            ],
            [
             0.2,
             "#de77ae"
            ],
            [
             0.3,
             "#f1b6da"
            ],
            [
             0.4,
             "#fde0ef"
            ],
            [
             0.5,
             "#f7f7f7"
            ],
            [
             0.6,
             "#e6f5d0"
            ],
            [
             0.7,
             "#b8e186"
            ],
            [
             0.8,
             "#7fbc41"
            ],
            [
             0.9,
             "#4d9221"
            ],
            [
             1,
             "#276419"
            ]
           ],
           "sequential": [
            [
             0,
             "#0d0887"
            ],
            [
             0.1111111111111111,
             "#46039f"
            ],
            [
             0.2222222222222222,
             "#7201a8"
            ],
            [
             0.3333333333333333,
             "#9c179e"
            ],
            [
             0.4444444444444444,
             "#bd3786"
            ],
            [
             0.5555555555555556,
             "#d8576b"
            ],
            [
             0.6666666666666666,
             "#ed7953"
            ],
            [
             0.7777777777777778,
             "#fb9f3a"
            ],
            [
             0.8888888888888888,
             "#fdca26"
            ],
            [
             1,
             "#f0f921"
            ]
           ],
           "sequentialminus": [
            [
             0,
             "#0d0887"
            ],
            [
             0.1111111111111111,
             "#46039f"
            ],
            [
             0.2222222222222222,
             "#7201a8"
            ],
            [
             0.3333333333333333,
             "#9c179e"
            ],
            [
             0.4444444444444444,
             "#bd3786"
            ],
            [
             0.5555555555555556,
             "#d8576b"
            ],
            [
             0.6666666666666666,
             "#ed7953"
            ],
            [
             0.7777777777777778,
             "#fb9f3a"
            ],
            [
             0.8888888888888888,
             "#fdca26"
            ],
            [
             1,
             "#f0f921"
            ]
           ]
          },
          "colorway": [
           "#636efa",
           "#EF553B",
           "#00cc96",
           "#ab63fa",
           "#FFA15A",
           "#19d3f3",
           "#FF6692",
           "#B6E880",
           "#FF97FF",
           "#FECB52"
          ],
          "font": {
           "color": "#2a3f5f"
          },
          "geo": {
           "bgcolor": "white",
           "lakecolor": "white",
           "landcolor": "#E5ECF6",
           "showlakes": true,
           "showland": true,
           "subunitcolor": "white"
          },
          "hoverlabel": {
           "align": "left"
          },
          "hovermode": "closest",
          "mapbox": {
           "style": "light"
          },
          "paper_bgcolor": "white",
          "plot_bgcolor": "#E5ECF6",
          "polar": {
           "angularaxis": {
            "gridcolor": "white",
            "linecolor": "white",
            "ticks": ""
           },
           "bgcolor": "#E5ECF6",
           "radialaxis": {
            "gridcolor": "white",
            "linecolor": "white",
            "ticks": ""
           }
          },
          "scene": {
           "xaxis": {
            "backgroundcolor": "#E5ECF6",
            "gridcolor": "white",
            "gridwidth": 2,
            "linecolor": "white",
            "showbackground": true,
            "ticks": "",
            "zerolinecolor": "white"
           },
           "yaxis": {
            "backgroundcolor": "#E5ECF6",
            "gridcolor": "white",
            "gridwidth": 2,
            "linecolor": "white",
            "showbackground": true,
            "ticks": "",
            "zerolinecolor": "white"
           },
           "zaxis": {
            "backgroundcolor": "#E5ECF6",
            "gridcolor": "white",
            "gridwidth": 2,
            "linecolor": "white",
            "showbackground": true,
            "ticks": "",
            "zerolinecolor": "white"
           }
          },
          "shapedefaults": {
           "line": {
            "color": "#2a3f5f"
           }
          },
          "ternary": {
           "aaxis": {
            "gridcolor": "white",
            "linecolor": "white",
            "ticks": ""
           },
           "baxis": {
            "gridcolor": "white",
            "linecolor": "white",
            "ticks": ""
           },
           "bgcolor": "#E5ECF6",
           "caxis": {
            "gridcolor": "white",
            "linecolor": "white",
            "ticks": ""
           }
          },
          "title": {
           "x": 0.05
          },
          "xaxis": {
           "automargin": true,
           "gridcolor": "white",
           "linecolor": "white",
           "ticks": "",
           "title": {
            "standoff": 15
           },
           "zerolinecolor": "white",
           "zerolinewidth": 2
          },
          "yaxis": {
           "automargin": true,
           "gridcolor": "white",
           "linecolor": "white",
           "ticks": "",
           "title": {
            "standoff": 15
           },
           "zerolinecolor": "white",
           "zerolinewidth": 2
          }
         }
        },
        "title": {
         "text": "3D Scatter Plot: Weight, Height, BMI and Predicted Medal"
        }
       }
      }
     },
     "metadata": {},
     "output_type": "display_data"
    }
   ],
   "source": [
    "# 3D Scatter plot\n",
    "fig = px.scatter_3d(data, x='Height', y='Weight', z='BMI', color='pred_medal',\n",
    "                    symbol='pred_medal', title='3D Scatter Plot: Weight, Height, BMI and Predicted Medal',\n",
    "                    labels={'Height': 'Height (cm)', 'Weight': 'Weight (kg)', 'BMI': 'BMI'})\n",
    "fig.show()\n"
   ]
  },
  {
   "cell_type": "code",
   "execution_count": 98,
   "metadata": {},
   "outputs": [
    {
     "data": {
      "application/vnd.plotly.v1+json": {
       "config": {
        "plotlyServerURL": "https://plot.ly"
       },
       "data": [
        {
         "alignmentgroup": "True",
         "box": {
          "visible": true
         },
         "customdata": [
          [
           172,
           67,
           22.647376960519203
          ],
          [
           172,
           67,
           22.647376960519203
          ],
          [
           172,
           67,
           22.647376960519203
          ],
          [
           174,
           60,
           19.817677368212443
          ],
          [
           165,
           69,
           25.34435261707989
          ],
          [
           181,
           59,
           18.009218277830346
          ],
          [
           170,
           73,
           25.25951557093426
          ],
          [
           181,
           80,
           24.41927902078691
          ],
          [
           185,
           73,
           21.32943754565376
          ],
          [
           187,
           72,
           20.58966513197403
          ],
          [
           185,
           80,
           23.37472607742878
          ],
          [
           185,
           80,
           23.37472607742878
          ],
          [
           198,
           79,
           20.15100499948985
          ],
          [
           180,
           62,
           19.1358024691358
          ],
          [
           180,
           62,
           19.1358024691358
          ],
          [
           180,
           74,
           22.839506172839503
          ],
          [
           191,
           82,
           22.47745401715962
          ],
          [
           193,
           94,
           25.23557679400789
          ],
          [
           191,
           85,
           23.299799895836188
          ],
          [
           171,
           56,
           19.15119181970521
          ],
          [
           180,
           62,
           19.1358024691358
          ],
          [
           180,
           62,
           19.1358024691358
          ],
          [
           180,
           62,
           19.1358024691358
          ],
          [
           180,
           68,
           20.98765432098765
          ],
          [
           180,
           68,
           20.98765432098765
          ],
          [
           180,
           68,
           20.98765432098765
          ],
          [
           185,
           83,
           24.25127830533236
          ],
          [
           185,
           83,
           24.25127830533236
          ],
          [
           207,
           120,
           28.00532101099209
          ],
          [
           207,
           120,
           28.00532101099209
          ],
          [
           207,
           120,
           28.00532101099209
          ],
          [
           196,
           128,
           33.31945022907122
          ],
          [
           196,
           128,
           33.31945022907122
          ],
          [
           198,
           77,
           19.64085297418631
          ],
          [
           198,
           77,
           19.64085297418631
          ],
          [
           198,
           77,
           19.64085297418631
          ],
          [
           185,
           80,
           23.37472607742878
          ],
          [
           185,
           120,
           35.06208911614317
          ],
          [
           180,
           74,
           22.839506172839503
          ],
          [
           180,
           74,
           22.839506172839503
          ],
          [
           180,
           74,
           22.839506172839503
          ],
          [
           172,
           61,
           20.61925365062196
          ],
          [
           170,
           60,
           20.761245674740486
          ],
          [
           160,
           45,
           17.578124999999996
          ],
          [
           164,
           55,
           20.449137418203453
          ],
          [
           166,
           53,
           19.23356074902017
          ],
          [
           173,
           54,
           18.04270105917337
          ],
          [
           178,
           57,
           17.99015275849009
          ],
          [
           173,
           58,
           19.37919743392696
          ],
          [
           170,
           60,
           20.761245674740486
          ],
          [
           166,
           47,
           17.056176513282043
          ],
          [
           166,
           47,
           17.056176513282043
          ],
          [
           166,
           47,
           17.056176513282043
          ],
          [
           175,
           70,
           22.857142857142858
          ],
          [
           170,
           75,
           25.95155709342561
          ],
          [
           170,
           75,
           25.95155709342561
          ],
          [
           170,
           75,
           25.95155709342561
          ],
          [
           170,
           72,
           24.913494809688583
          ],
          [
           176,
           65,
           20.983987603305785
          ],
          [
           176,
           65,
           20.983987603305785
          ],
          [
           176,
           65,
           20.983987603305785
          ],
          [
           172,
           95,
           32.11195240670633
          ],
          [
           172,
           95,
           32.11195240670633
          ],
          [
           175,
           80,
           26.12244897959184
          ],
          [
           175,
           80,
           26.12244897959184
          ],
          [
           194,
           88,
           23.381868423849507
          ],
          [
           194,
           88,
           23.381868423849507
          ],
          [
           194,
           88,
           23.381868423849507
          ],
          [
           173,
           70,
           23.38868655818771
          ],
          [
           156,
           51,
           20.95660749506904
          ],
          [
           198,
           93,
           23.72206917661463
          ],
          [
           170,
           60,
           20.761245674740486
          ],
          [
           198,
           88,
           22.44668911335578
          ],
          [
           173,
           56,
           18.710949246550168
          ],
          [
           165,
           56,
           20.56932966023876
          ],
          [
           165,
           56,
           20.56932966023876
          ],
          [
           168,
           52,
           18.42403628117914
          ],
          [
           185,
           91,
           26.58875091307524
          ],
          [
           186,
           91,
           26.30361891548156
          ],
          [
           165,
           49,
           17.99816345270891
          ],
          [
           185,
           81,
           23.66691015339664
          ],
          [
           185,
           81,
           23.66691015339664
          ],
          [
           172,
           64,
           21.63331530557058
          ],
          [
           172,
           64,
           21.63331530557058
          ],
          [
           170,
           60,
           20.761245674740486
          ],
          [
           180,
           75,
           23.148148148148145
          ],
          [
           198,
           101,
           25.7626772778288
          ],
          [
           198,
           101,
           25.7626772778288
          ],
          [
           180,
           69,
           21.29629629629629
          ],
          [
           179,
           69,
           21.53490839861428
          ],
          [
           160,
           50,
           19.53125
          ],
          [
           160,
           50,
           19.53125
          ],
          [
           173,
           60,
           20.04744562130375
          ],
          [
           180,
           75,
           23.148148148148145
          ],
          [
           187,
           85,
           24.307243558580453
          ],
          [
           171,
           65,
           22.229061933586404
          ],
          [
           175,
           75,
           24.489795918367346
          ],
          [
           175,
           70,
           22.857142857142858
          ],
          [
           184,
           90,
           26.583175803402646
          ],
          [
           173,
           69,
           23.05456246449932
          ],
          [
           181,
           67,
           20.45114617990904
          ],
          [
           180,
           88,
           27.160493827160494
          ],
          [
           180,
           88,
           27.160493827160494
          ],
          [
           180,
           88,
           27.160493827160494
          ],
          [
           175,
           70,
           22.857142857142858
          ],
          [
           175,
           70,
           22.857142857142858
          ],
          [
           175,
           70,
           22.857142857142858
          ],
          [
           186,
           70,
           20.23355301190889
          ],
          [
           173,
           61,
           20.381569714992143
          ],
          [
           177,
           90,
           28.72737719046251
          ],
          [
           191,
           82,
           22.47745401715962
          ],
          [
           165,
           65,
           23.875114784205696
          ],
          [
           165,
           65,
           23.875114784205696
          ],
          [
           166,
           50,
           18.144868631151112
          ],
          [
           176,
           64,
           20.66115702479339
          ],
          [
           176,
           64,
           20.66115702479339
          ],
          [
           176,
           64,
           20.66115702479339
          ],
          [
           170,
           59,
           20.41522491349481
          ],
          [
           167,
           56,
           20.07960127648894
          ],
          [
           170,
           59,
           20.41522491349481
          ],
          [
           170,
           72,
           24.913494809688583
          ],
          [
           167,
           61,
           21.8724228190326
          ],
          [
           168,
           60,
           21.258503401360542
          ],
          [
           168,
           60,
           21.258503401360542
          ],
          [
           167,
           58,
           20.7967298935064
          ],
          [
           167,
           58,
           20.7967298935064
          ],
          [
           167,
           58,
           20.7967298935064
          ],
          [
           164,
           57,
           21.192742415229034
          ],
          [
           167,
           62,
           22.23098712754133
          ],
          [
           168,
           55,
           19.48696145124717
          ],
          [
           168,
           55,
           19.48696145124717
          ],
          [
           163,
           59,
           22.20633068613798
          ],
          [
           190,
           76,
           21.05263157894737
          ],
          [
           180,
           70,
           21.604938271604937
          ],
          [
           182,
           82,
           24.755464315903875
          ],
          [
           180,
           74,
           22.839506172839503
          ],
          [
           188,
           85,
           24.049343594386603
          ],
          [
           167,
           56,
           20.07960127648894
          ],
          [
           167,
           56,
           20.07960127648894
          ],
          [
           167,
           56,
           20.07960127648894
          ],
          [
           170,
           68,
           23.529411764705884
          ],
          [
           183,
           74,
           22.096807907073963
          ],
          [
           183,
           74,
           22.096807907073963
          ],
          [
           176,
           64,
           20.66115702479339
          ],
          [
           170,
           68,
           23.529411764705884
          ],
          [
           160,
           56,
           21.875
          ],
          [
           193,
           86,
           23.087868130688072
          ],
          [
           163,
           60,
           22.582709172343712
          ],
          [
           170,
           70,
           24.221453287197235
          ],
          [
           140,
           33,
           16.836734693877553
          ],
          [
           151,
           35,
           15.350203938423752
          ],
          [
           194,
           94,
           24.97608672547561
          ],
          [
           168,
           63,
           22.321428571428577
          ],
          [
           186,
           83,
           23.991212856977683
          ],
          [
           173,
           67,
           22.386314277122523
          ],
          [
           172,
           60,
           20.28123309897241
          ],
          [
           189,
           108,
           30.234315948601665
          ],
          [
           181,
           80,
           24.41927902078691
          ],
          [
           181,
           81,
           24.724520008546747
          ],
          [
           173,
           73,
           24.3910588392529
          ],
          [
           170,
           73,
           25.25951557093426
          ],
          [
           185,
           90,
           26.29656683710737
          ],
          [
           153,
           51,
           21.78649237472767
          ],
          [
           170,
           63,
           21.79930795847751
          ],
          [
           156,
           48,
           19.72386587771203
          ],
          [
           178,
           78,
           24.61810377477591
          ],
          [
           178,
           78,
           24.61810377477591
          ],
          [
           178,
           78,
           24.61810377477591
          ],
          [
           160,
           52,
           20.3125
          ],
          [
           169,
           63,
           22.05805118868388
          ],
          [
           172,
           108,
           36.50621957815036
          ],
          [
           182,
           128,
           38.64267600531336
          ],
          [
           173,
           70,
           23.38868655818771
          ],
          [
           178,
           64,
           20.199469763918696
          ],
          [
           170,
           53,
           18.339100346020764
          ],
          [
           173,
           49,
           16.372080590731397
          ],
          [
           201,
           102,
           25.24689982921216
          ],
          [
           195,
           93,
           24.45759368836292
          ],
          [
           198,
           90,
           22.95684113865932
          ],
          [
           193,
           84,
           22.55094096485812
          ],
          [
           193,
           84,
           22.55094096485812
          ],
          [
           187,
           70,
           20.0177299894192
          ],
          [
           175,
           70,
           22.857142857142858
          ],
          [
           184,
           90,
           26.583175803402646
          ],
          [
           186,
           78,
           22.54595907041276
          ],
          [
           186,
           75,
           21.678806798473808
          ],
          [
           180,
           72,
           22.22222222222222
          ],
          [
           180,
           72,
           22.22222222222222
          ],
          [
           173,
           57,
           19.045073340238563
          ],
          [
           182,
           74,
           22.34029706557179
          ],
          [
           170,
           62,
           21.45328719723184
          ],
          [
           180,
           76,
           23.456790123456788
          ],
          [
           182,
           92,
           27.77442337881898
          ],
          [
           165,
           68,
           24.977043158861346
          ],
          [
           183,
           81,
           24.187046492878256
          ],
          [
           191,
           98,
           26.863298703434666
          ],
          [
           191,
           98,
           26.863298703434666
          ],
          [
           185,
           80,
           23.37472607742878
          ],
          [
           181,
           80,
           24.41927902078691
          ],
          [
           181,
           80,
           24.41927902078691
          ],
          [
           184,
           74,
           21.85727788279773
          ],
          [
           186,
           72,
           20.811654526534856
          ],
          [
           186,
           72,
           20.811654526534856
          ],
          [
           186,
           72,
           20.811654526534856
          ],
          [
           167,
           57,
           20.43816558499767
          ],
          [
           180,
           77,
           23.76543209876543
          ],
          [
           170,
           68,
           23.529411764705884
          ],
          [
           173,
           70,
           23.38868655818771
          ],
          [
           179,
           66,
           20.598608033457133
          ],
          [
           179,
           66,
           20.598608033457133
          ],
          [
           159,
           56,
           22.15102250702108
          ],
          [
           167,
           75,
           26.89232313815483
          ],
          [
           171,
           73,
           24.96494647925858
          ],
          [
           173,
           71,
           23.722810651876102
          ],
          [
           173,
           71,
           23.722810651876102
          ],
          [
           183,
           83,
           24.78425751739377
          ],
          [
           179,
           88,
           27.46481071127618
          ],
          [
           179,
           88,
           27.46481071127618
          ],
          [
           172,
           78,
           26.365603028664147
          ],
          [
           172,
           78,
           26.365603028664147
          ],
          [
           172,
           78,
           26.365603028664147
          ],
          [
           180,
           80,
           24.69135802469136
          ],
          [
           168,
           93,
           32.95068027210885
          ],
          [
           184,
           79,
           23.334120982986768
          ],
          [
           183,
           64,
           19.1107527844964
          ],
          [
           183,
           64,
           19.1107527844964
          ],
          [
           184,
           69,
           20.38043478260869
          ],
          [
           180,
           80,
           24.69135802469136
          ],
          [
           184,
           82,
           24.22022684310019
          ],
          [
           194,
           90,
           23.91327452439154
          ],
          [
           187,
           72,
           20.58966513197403
          ],
          [
           187,
           72,
           20.58966513197403
          ],
          [
           180,
           76,
           23.456790123456788
          ],
          [
           188,
           71,
           20.088275237664103
          ],
          [
           188,
           71,
           20.088275237664103
          ],
          [
           186,
           74,
           21.389756041160823
          ],
          [
           186,
           74,
           21.389756041160823
          ],
          [
           191,
           74,
           20.28453167402209
          ],
          [
           191,
           74,
           20.28453167402209
          ],
          [
           191,
           74,
           20.28453167402209
          ],
          [
           185,
           70,
           20.45288531775018
          ],
          [
           183,
           77,
           22.99262444384723
          ],
          [
           172,
           59,
           19.94321254732288
          ],
          [
           197,
           92,
           23.70584142853462
          ],
          [
           197,
           92,
           23.70584142853462
          ],
          [
           197,
           92,
           23.70584142853462
          ],
          [
           170,
           59,
           20.41522491349481
          ],
          [
           165,
           52,
           19.10009182736456
          ],
          [
           170,
           59,
           20.41522491349481
          ],
          [
           182,
           76,
           22.94408887815481
          ],
          [
           173,
           61,
           20.381569714992143
          ],
          [
           174,
           61,
           20.147971991015982
          ],
          [
           185,
           68,
           19.86851716581446
          ],
          [
           185,
           68,
           19.86851716581446
          ],
          [
           185,
           68,
           19.86851716581446
          ],
          [
           173,
           61,
           20.381569714992143
          ],
          [
           173,
           61,
           20.381569714992143
          ],
          [
           173,
           61,
           20.381569714992143
          ],
          [
           180,
           60,
           18.51851851851852
          ],
          [
           173,
           74,
           24.72518293294129
          ],
          [
           178,
           67,
           21.146319909102385
          ],
          [
           172,
           70,
           23.661438615467823
          ],
          [
           178,
           70,
           22.09317005428608
          ],
          [
           169,
           55,
           19.257028815517668
          ],
          [
           169,
           55,
           19.257028815517668
          ],
          [
           169,
           55,
           19.257028815517668
          ],
          [
           176,
           65,
           20.983987603305785
          ],
          [
           172,
           63,
           21.29529475392104
          ],
          [
           172,
           63,
           21.29529475392104
          ],
          [
           172,
           63,
           21.29529475392104
          ],
          [
           161,
           55,
           21.218317194552675
          ],
          [
           188,
           63,
           17.824807605251245
          ],
          [
           182,
           59,
           17.81185847119913
          ],
          [
           190,
           90,
           24.930747922437675
          ],
          [
           197,
           80,
           20.61377515524749
          ],
          [
           176,
           57,
           18.401342975206614
          ],
          [
           176,
           57,
           18.401342975206614
          ],
          [
           173,
           49,
           16.372080590731397
          ],
          [
           178,
           80,
           25.24933720489837
          ],
          [
           182,
           74,
           22.34029706557179
          ],
          [
           176,
           66,
           21.306818181818183
          ],
          [
           188,
           86,
           24.332277048438208
          ],
          [
           191,
           84,
           23.025684602944
          ],
          [
           183,
           70,
           20.902385858042937
          ],
          [
           183,
           70,
           20.902385858042937
          ],
          [
           170,
           62,
           21.45328719723184
          ],
          [
           170,
           64,
           22.145328719723185
          ],
          [
           155,
           47,
           19.562955254942764
          ],
          [
           155,
           47,
           19.562955254942764
          ],
          [
           170,
           59,
           20.41522491349481
          ],
          [
           170,
           59,
           20.41522491349481
          ],
          [
           170,
           59,
           20.41522491349481
          ],
          [
           208,
           90,
           20.802514792899405
          ],
          [
           178,
           70,
           22.09317005428608
          ],
          [
           190,
           88,
           24.37673130193906
          ],
          [
           176,
           68,
           21.952479338842977
          ],
          [
           160,
           62,
           24.21875
          ],
          [
           160,
           62,
           24.21875
          ],
          [
           160,
           62,
           24.21875
          ],
          [
           165,
           64,
           23.507805325987142
          ],
          [
           165,
           77,
           28.282828282828287
          ],
          [
           182,
           130,
           39.24646781789639
          ],
          [
           169,
           75,
           26.25958474843318
          ],
          [
           163,
           69,
           25.970115548195267
          ],
          [
           155,
           58,
           24.14151925078044
          ],
          [
           160,
           63,
           24.609375
          ],
          [
           178,
           141,
           44.50195682363338
          ],
          [
           168,
           65,
           23.030045351473927
          ],
          [
           160,
           59,
           23.046875
          ],
          [
           160,
           59,
           23.046875
          ],
          [
           188,
           100,
           28.293345405160707
          ],
          [
           180,
           98,
           30.24691358024691
          ],
          [
           180,
           98,
           30.24691358024691
          ],
          [
           184,
           90,
           26.583175803402646
          ],
          [
           176,
           91,
           29.3775826446281
          ],
          [
           167,
           60,
           21.513858510523864
          ],
          [
           167,
           60,
           21.513858510523864
          ],
          [
           170,
           74,
           25.60553633217993
          ],
          [
           198,
           125,
           31.88450158147128
          ],
          [
           187,
           130,
           37.17578426606422
          ],
          [
           187,
           130,
           37.17578426606422
          ],
          [
           192,
           130,
           35.26475694444444
          ],
          [
           172,
           65,
           21.97133585722012
          ],
          [
           170,
           74,
           25.60553633217993
          ],
          [
           170,
           80,
           27.68166089965398
          ],
          [
           151,
           48,
           21.05170825840972
          ],
          [
           169,
           73,
           25.55932915514163
          ],
          [
           172,
           69,
           23.323418063818284
          ],
          [
           160,
           58,
           22.65625
          ],
          [
           160,
           61,
           23.828125
          ],
          [
           167,
           63,
           22.58955143605005
          ]
         ],
         "hovertemplate": "pred_medal=%{x}<br>Age=%{y}<br>Height=%{customdata[0]}<br>Weight=%{customdata[1]}<br>BMI=%{customdata[2]}<extra></extra>",
         "legendgroup": "Bronze",
         "marker": {
          "color": "#636efa"
         },
         "name": "Bronze",
         "offsetgroup": "Bronze",
         "orientation": "v",
         "points": "all",
         "scalegroup": "True",
         "showlegend": true,
         "type": "violin",
         "x": [
          "Bronze",
          "Bronze",
          "Bronze",
          "Bronze",
          "Bronze",
          "Bronze",
          "Bronze",
          "Bronze",
          "Bronze",
          "Bronze",
          "Bronze",
          "Bronze",
          "Bronze",
          "Bronze",
          "Bronze",
          "Bronze",
          "Bronze",
          "Bronze",
          "Bronze",
          "Bronze",
          "Bronze",
          "Bronze",
          "Bronze",
          "Bronze",
          "Bronze",
          "Bronze",
          "Bronze",
          "Bronze",
          "Bronze",
          "Bronze",
          "Bronze",
          "Bronze",
          "Bronze",
          "Bronze",
          "Bronze",
          "Bronze",
          "Bronze",
          "Bronze",
          "Bronze",
          "Bronze",
          "Bronze",
          "Bronze",
          "Bronze",
          "Bronze",
          "Bronze",
          "Bronze",
          "Bronze",
          "Bronze",
          "Bronze",
          "Bronze",
          "Bronze",
          "Bronze",
          "Bronze",
          "Bronze",
          "Bronze",
          "Bronze",
          "Bronze",
          "Bronze",
          "Bronze",
          "Bronze",
          "Bronze",
          "Bronze",
          "Bronze",
          "Bronze",
          "Bronze",
          "Bronze",
          "Bronze",
          "Bronze",
          "Bronze",
          "Bronze",
          "Bronze",
          "Bronze",
          "Bronze",
          "Bronze",
          "Bronze",
          "Bronze",
          "Bronze",
          "Bronze",
          "Bronze",
          "Bronze",
          "Bronze",
          "Bronze",
          "Bronze",
          "Bronze",
          "Bronze",
          "Bronze",
          "Bronze",
          "Bronze",
          "Bronze",
          "Bronze",
          "Bronze",
          "Bronze",
          "Bronze",
          "Bronze",
          "Bronze",
          "Bronze",
          "Bronze",
          "Bronze",
          "Bronze",
          "Bronze",
          "Bronze",
          "Bronze",
          "Bronze",
          "Bronze",
          "Bronze",
          "Bronze",
          "Bronze",
          "Bronze",
          "Bronze",
          "Bronze",
          "Bronze",
          "Bronze",
          "Bronze",
          "Bronze",
          "Bronze",
          "Bronze",
          "Bronze",
          "Bronze",
          "Bronze",
          "Bronze",
          "Bronze",
          "Bronze",
          "Bronze",
          "Bronze",
          "Bronze",
          "Bronze",
          "Bronze",
          "Bronze",
          "Bronze",
          "Bronze",
          "Bronze",
          "Bronze",
          "Bronze",
          "Bronze",
          "Bronze",
          "Bronze",
          "Bronze",
          "Bronze",
          "Bronze",
          "Bronze",
          "Bronze",
          "Bronze",
          "Bronze",
          "Bronze",
          "Bronze",
          "Bronze",
          "Bronze",
          "Bronze",
          "Bronze",
          "Bronze",
          "Bronze",
          "Bronze",
          "Bronze",
          "Bronze",
          "Bronze",
          "Bronze",
          "Bronze",
          "Bronze",
          "Bronze",
          "Bronze",
          "Bronze",
          "Bronze",
          "Bronze",
          "Bronze",
          "Bronze",
          "Bronze",
          "Bronze",
          "Bronze",
          "Bronze",
          "Bronze",
          "Bronze",
          "Bronze",
          "Bronze",
          "Bronze",
          "Bronze",
          "Bronze",
          "Bronze",
          "Bronze",
          "Bronze",
          "Bronze",
          "Bronze",
          "Bronze",
          "Bronze",
          "Bronze",
          "Bronze",
          "Bronze",
          "Bronze",
          "Bronze",
          "Bronze",
          "Bronze",
          "Bronze",
          "Bronze",
          "Bronze",
          "Bronze",
          "Bronze",
          "Bronze",
          "Bronze",
          "Bronze",
          "Bronze",
          "Bronze",
          "Bronze",
          "Bronze",
          "Bronze",
          "Bronze",
          "Bronze",
          "Bronze",
          "Bronze",
          "Bronze",
          "Bronze",
          "Bronze",
          "Bronze",
          "Bronze",
          "Bronze",
          "Bronze",
          "Bronze",
          "Bronze",
          "Bronze",
          "Bronze",
          "Bronze",
          "Bronze",
          "Bronze",
          "Bronze",
          "Bronze",
          "Bronze",
          "Bronze",
          "Bronze",
          "Bronze",
          "Bronze",
          "Bronze",
          "Bronze",
          "Bronze",
          "Bronze",
          "Bronze",
          "Bronze",
          "Bronze",
          "Bronze",
          "Bronze",
          "Bronze",
          "Bronze",
          "Bronze",
          "Bronze",
          "Bronze",
          "Bronze",
          "Bronze",
          "Bronze",
          "Bronze",
          "Bronze",
          "Bronze",
          "Bronze",
          "Bronze",
          "Bronze",
          "Bronze",
          "Bronze",
          "Bronze",
          "Bronze",
          "Bronze",
          "Bronze",
          "Bronze",
          "Bronze",
          "Bronze",
          "Bronze",
          "Bronze",
          "Bronze",
          "Bronze",
          "Bronze",
          "Bronze",
          "Bronze",
          "Bronze",
          "Bronze",
          "Bronze",
          "Bronze",
          "Bronze",
          "Bronze",
          "Bronze",
          "Bronze",
          "Bronze",
          "Bronze",
          "Bronze",
          "Bronze",
          "Bronze",
          "Bronze",
          "Bronze",
          "Bronze",
          "Bronze",
          "Bronze",
          "Bronze",
          "Bronze",
          "Bronze",
          "Bronze",
          "Bronze",
          "Bronze",
          "Bronze",
          "Bronze",
          "Bronze",
          "Bronze",
          "Bronze",
          "Bronze",
          "Bronze",
          "Bronze",
          "Bronze",
          "Bronze",
          "Bronze",
          "Bronze",
          "Bronze",
          "Bronze",
          "Bronze",
          "Bronze",
          "Bronze",
          "Bronze",
          "Bronze",
          "Bronze",
          "Bronze",
          "Bronze",
          "Bronze",
          "Bronze",
          "Bronze",
          "Bronze",
          "Bronze",
          "Bronze",
          "Bronze",
          "Bronze",
          "Bronze",
          "Bronze",
          "Bronze",
          "Bronze",
          "Bronze",
          "Bronze",
          "Bronze",
          "Bronze",
          "Bronze",
          "Bronze"
         ],
         "x0": " ",
         "xaxis": "x",
         "y": [
          27,
          27,
          27,
          25,
          26,
          24,
          24,
          29,
          33,
          24,
          25,
          25,
          24,
          20,
          20,
          25,
          21,
          20,
          29,
          22,
          28,
          28,
          28,
          21,
          21,
          21,
          26,
          26,
          26,
          26,
          26,
          27,
          27,
          26,
          26,
          26,
          23,
          24,
          27,
          27,
          27,
          19,
          28,
          22,
          20,
          29,
          25,
          31,
          25,
          29,
          24,
          24,
          24,
          26,
          25,
          25,
          25,
          32,
          26,
          26,
          26,
          27,
          27,
          26,
          26,
          22,
          22,
          22,
          21,
          21,
          23,
          28,
          26,
          19,
          21,
          26,
          19,
          28,
          24,
          20,
          27,
          23,
          25,
          25,
          28,
          23,
          24,
          24,
          23,
          25,
          27,
          27,
          23,
          26,
          21,
          28,
          28,
          29,
          30,
          23,
          24,
          31,
          31,
          31,
          31,
          31,
          31,
          25,
          26,
          30,
          23,
          25,
          25,
          35,
          26,
          26,
          26,
          24,
          26,
          24,
          23,
          29,
          20,
          20,
          19,
          19,
          19,
          17,
          20,
          23,
          23,
          28,
          34,
          34,
          23,
          22,
          36,
          27,
          27,
          27,
          30,
          26,
          26,
          25,
          19,
          27,
          38,
          20,
          25,
          16,
          16,
          22,
          25,
          29,
          27,
          22,
          28,
          30,
          22,
          32,
          24,
          25,
          25,
          24,
          21,
          25,
          25,
          25,
          27,
          27,
          25,
          29,
          26,
          26,
          25,
          23,
          22,
          32,
          21,
          26,
          26,
          24,
          28,
          34,
          24,
          23,
          29,
          29,
          27,
          24,
          27,
          27,
          29,
          27,
          25,
          25,
          25,
          26,
          28,
          28,
          32,
          27,
          27,
          27,
          23,
          30,
          25,
          21,
          29,
          29,
          31,
          30,
          21,
          26,
          26,
          52,
          24,
          24,
          21,
          21,
          21,
          33,
          47,
          21,
          20,
          20,
          19,
          24,
          22,
          25,
          23,
          23,
          23,
          19,
          19,
          19,
          19,
          22,
          22,
          22,
          22,
          22,
          23,
          30,
          30,
          30,
          25,
          33,
          25,
          22,
          20,
          27,
          16,
          16,
          16,
          25,
          25,
          25,
          16,
          19,
          21,
          22,
          28,
          25,
          25,
          25,
          25,
          27,
          27,
          27,
          21,
          20,
          21,
          23,
          25,
          25,
          25,
          18,
          20,
          24,
          23,
          26,
          23,
          26,
          26,
          27,
          24,
          27,
          27,
          24,
          24,
          24,
          29,
          27,
          22,
          29,
          25,
          25,
          25,
          21,
          26,
          31,
          31,
          24,
          18,
          23,
          28,
          25,
          24,
          24,
          31,
          30,
          30,
          21,
          26,
          33,
          33,
          25,
          22,
          20,
          20,
          27,
          24,
          26,
          26,
          21,
          29,
          24,
          31,
          21,
          36
         ],
         "y0": " ",
         "yaxis": "y"
        },
        {
         "alignmentgroup": "True",
         "box": {
          "visible": true
         },
         "customdata": [
          [
           180,
           83,
           25.61728395061728
          ],
          [
           169,
           57,
           19.95728440880922
          ],
          [
           168,
           47,
           16.65249433106576
          ],
          [
           168,
           47,
           16.65249433106576
          ],
          [
           177,
           70,
           22.34351559258195
          ],
          [
           182,
           77,
           23.24598478444632
          ],
          [
           182,
           77,
           23.24598478444632
          ],
          [
           175,
           55,
           17.959183673469386
          ],
          [
           188,
           65,
           18.390674513354465
          ],
          [
           188,
           84,
           23.766410140335
          ],
          [
           195,
           79,
           20.77580539119001
          ],
          [
           175,
           72,
           23.51020408163265
          ],
          [
           175,
           72,
           23.51020408163265
          ],
          [
           175,
           57,
           18.612244897959183
          ],
          [
           175,
           57,
           18.612244897959183
          ],
          [
           186,
           77,
           22.25690831309978
          ],
          [
           183,
           86,
           25.68007405416704
          ],
          [
           183,
           86,
           25.68007405416704
          ],
          [
           183,
           86,
           25.68007405416704
          ],
          [
           175,
           67,
           21.877551020408163
          ],
          [
           175,
           67,
           21.877551020408163
          ],
          [
           175,
           67,
           21.877551020408163
          ],
          [
           183,
           134,
           40.01313864253934
          ],
          [
           160,
           50,
           19.53125
          ],
          [
           168,
           52,
           18.42403628117914
          ],
          [
           165,
           63,
           23.1404958677686
          ],
          [
           170,
           65,
           22.49134948096886
          ],
          [
           162,
           53,
           20.19509221155312
          ],
          [
           162,
           53,
           20.19509221155312
          ],
          [
           170,
           65,
           22.49134948096886
          ],
          [
           173,
           61,
           20.381569714992143
          ],
          [
           171,
           57,
           19.49317738791424
          ],
          [
           166,
           60,
           21.773842357381334
          ],
          [
           166,
           60,
           21.773842357381334
          ],
          [
           166,
           60,
           21.773842357381334
          ],
          [
           180,
           58,
           17.901234567901234
          ],
          [
           180,
           58,
           17.901234567901234
          ],
          [
           170,
           74,
           25.60553633217993
          ],
          [
           170,
           74,
           25.60553633217993
          ],
          [
           155,
           49,
           20.39542143600416
          ],
          [
           155,
           49,
           20.39542143600416
          ],
          [
           173,
           62,
           20.715693808680545
          ],
          [
           192,
           72,
           19.53125
          ],
          [
           192,
           72,
           19.53125
          ],
          [
           192,
           72,
           19.53125
          ],
          [
           180,
           70,
           21.604938271604937
          ],
          [
           166,
           56,
           20.322252866889244
          ],
          [
           175,
           68,
           22.20408163265306
          ],
          [
           179,
           65,
           20.286507911738084
          ],
          [
           213,
           130,
           28.65392669003064
          ],
          [
           185,
           74,
           21.62162162162162
          ],
          [
           183,
           77,
           22.99262444384723
          ],
          [
           185,
           87,
           25.4200146092038
          ],
          [
           178,
           67,
           21.146319909102385
          ],
          [
           182,
           70,
           21.132713440405748
          ],
          [
           165,
           49,
           17.99816345270891
          ],
          [
           185,
           64,
           18.699780861943022
          ],
          [
           174,
           60,
           19.817677368212443
          ],
          [
           177,
           75,
           23.93948099205209
          ],
          [
           174,
           69,
           22.79032897344431
          ],
          [
           158,
           51,
           20.429418362441915
          ],
          [
           167,
           60,
           21.513858510523864
          ],
          [
           180,
           75,
           23.148148148148145
          ],
          [
           180,
           75,
           23.148148148148145
          ],
          [
           193,
           93,
           24.967113211092915
          ],
          [
           175,
           85,
           27.755102040816325
          ],
          [
           175,
           85,
           27.755102040816325
          ],
          [
           196,
           83,
           21.60558100791337
          ],
          [
           199,
           95,
           23.98929319966668
          ],
          [
           199,
           95,
           23.98929319966668
          ],
          [
           174,
           80,
           26.42356982428326
          ],
          [
           174,
           80,
           26.42356982428326
          ],
          [
           191,
           94,
           25.766837531865903
          ],
          [
           191,
           94,
           25.766837531865903
          ],
          [
           191,
           94,
           25.766837531865903
          ],
          [
           177,
           70,
           22.34351559258195
          ],
          [
           178,
           70,
           22.09317005428608
          ],
          [
           167,
           70,
           25.099501595611173
          ],
          [
           165,
           63,
           23.1404958677686
          ],
          [
           165,
           63,
           23.1404958677686
          ],
          [
           169,
           70,
           24.508945765204302
          ],
          [
           169,
           70,
           24.508945765204302
          ],
          [
           169,
           70,
           24.508945765204302
          ],
          [
           172,
           68,
           22.985397512168745
          ],
          [
           172,
           68,
           22.985397512168745
          ],
          [
           172,
           68,
           22.985397512168745
          ],
          [
           187,
           93,
           26.59498412879979
          ],
          [
           178,
           65,
           20.515086478979924
          ],
          [
           188,
           90,
           25.46401086464464
          ],
          [
           188,
           90,
           25.46401086464464
          ],
          [
           188,
           90,
           25.46401086464464
          ],
          [
           183,
           69,
           20.603780345785182
          ],
          [
           171,
           65,
           22.229061933586404
          ],
          [
           171,
           65,
           22.229061933586404
          ],
          [
           177,
           70,
           22.34351559258195
          ],
          [
           183,
           80,
           23.88844098062049
          ],
          [
           187,
           93,
           26.59498412879979
          ],
          [
           184,
           76,
           22.448015122873343
          ],
          [
           180,
           83,
           25.61728395061728
          ],
          [
           180,
           83,
           25.61728395061728
          ],
          [
           180,
           83,
           25.61728395061728
          ],
          [
           158,
           58,
           23.233456176894723
          ],
          [
           171,
           66,
           22.571047501795427
          ],
          [
           176,
           74,
           23.889462809917354
          ],
          [
           188,
           80,
           22.634676324128566
          ],
          [
           173,
           68,
           22.72043837081092
          ],
          [
           175,
           77,
           25.142857142857142
          ],
          [
           175,
           77,
           25.142857142857142
          ],
          [
           175,
           77,
           25.142857142857142
          ],
          [
           150,
           48,
           21.33333333333333
          ],
          [
           163,
           57,
           21.453573713726524
          ],
          [
           173,
           75,
           25.05930702662969
          ],
          [
           165,
           55,
           20.202020202020204
          ],
          [
           180,
           70,
           21.604938271604937
          ],
          [
           190,
           80,
           22.1606648199446
          ],
          [
           177,
           77,
           24.577867151840145
          ],
          [
           177,
           77,
           24.577867151840145
          ],
          [
           177,
           77,
           24.577867151840145
          ],
          [
           173,
           74,
           24.72518293294129
          ],
          [
           173,
           74,
           24.72518293294129
          ],
          [
           173,
           74,
           24.72518293294129
          ],
          [
           190,
           70,
           19.390581717451525
          ],
          [
           184,
           76,
           22.448015122873343
          ],
          [
           169,
           75,
           26.25958474843318
          ],
          [
           165,
           65,
           23.875114784205696
          ],
          [
           167,
           50,
           17.92821542543655
          ],
          [
           176,
           66,
           21.306818181818183
          ],
          [
           176,
           66,
           21.306818181818183
          ],
          [
           183,
           76,
           22.69401893158948
          ],
          [
           172,
           66,
           22.30935640886966
          ],
          [
           188,
           86,
           24.332277048438208
          ],
          [
           188,
           86,
           24.332277048438208
          ],
          [
           170,
           85,
           29.411764705882355
          ],
          [
           170,
           85,
           29.411764705882355
          ],
          [
           166,
           67,
           24.31412396574249
          ],
          [
           170,
           59,
           20.41522491349481
          ],
          [
           146,
           43,
           20.17264027021956
          ],
          [
           152,
           49,
           21.208448753462605
          ],
          [
           202,
           105,
           25.73277129693168
          ],
          [
           178,
           65,
           20.515086478979924
          ],
          [
           184,
           81,
           23.92485822306238
          ],
          [
           172,
           66,
           22.30935640886966
          ],
          [
           167,
           60,
           21.513858510523864
          ],
          [
           169,
           66,
           23.1084345786212
          ],
          [
           169,
           66,
           23.1084345786212
          ],
          [
           160,
           66,
           25.78125
          ],
          [
           191,
           125,
           34.264411611523805
          ],
          [
           191,
           125,
           34.264411611523805
          ],
          [
           193,
           120,
           32.21562994979731
          ],
          [
           179,
           73,
           22.783308885490467
          ],
          [
           187,
           94,
           26.88095170007721
          ],
          [
           160,
           52,
           20.3125
          ],
          [
           164,
           66,
           24.538964901844142
          ],
          [
           160,
           59,
           23.046875
          ],
          [
           160,
           59,
           23.046875
          ],
          [
           192,
           78,
           21.158854166666668
          ],
          [
           182,
           69,
           20.830817534114235
          ],
          [
           175,
           55,
           17.959183673469386
          ],
          [
           190,
           93,
           25.7617728531856
          ],
          [
           194,
           92,
           24.44468062493357
          ],
          [
           187,
           94,
           26.88095170007721
          ],
          [
           202,
           110,
           26.958141358690323
          ],
          [
           182,
           73,
           22.03840115928028
          ],
          [
           177,
           70,
           22.34351559258195
          ],
          [
           190,
           92,
           25.48476454293629
          ],
          [
           190,
           92,
           25.48476454293629
          ],
          [
           190,
           92,
           25.48476454293629
          ],
          [
           190,
           92,
           25.48476454293629
          ],
          [
           172,
           58,
           19.60519199567334
          ],
          [
           182,
           74,
           22.34029706557179
          ],
          [
           165,
           59,
           21.6712580348944
          ],
          [
           184,
           75,
           22.152646502835537
          ],
          [
           183,
           71,
           21.20099137030069
          ],
          [
           181,
           98,
           29.913616800463966
          ],
          [
           168,
           75,
           26.573129251700685
          ],
          [
           178,
           81,
           25.5649539199596
          ],
          [
           193,
           75,
           20.13476871862332
          ],
          [
           185,
           75,
           21.91380569758948
          ],
          [
           184,
           72,
           21.26654064272212
          ],
          [
           178,
           74,
           23.355636914531
          ],
          [
           172,
           63,
           21.29529475392104
          ],
          [
           170,
           59,
           20.41522491349481
          ],
          [
           175,
           75,
           24.489795918367346
          ],
          [
           169,
           69,
           24.158817968558527
          ],
          [
           178,
           73,
           23.04002019946976
          ],
          [
           176,
           64,
           20.66115702479339
          ],
          [
           170,
           97,
           33.564013840830455
          ],
          [
           170,
           97,
           33.564013840830455
          ],
          [
           172,
           84,
           28.393726338561383
          ],
          [
           189,
           85,
           23.79552644102909
          ],
          [
           176,
           68,
           21.952479338842977
          ],
          [
           158,
           55,
           22.031725684986377
          ],
          [
           164,
           55,
           20.449137418203453
          ],
          [
           181,
           95,
           28.997893837184456
          ],
          [
           185,
           77,
           22.4981738495252
          ],
          [
           184,
           84,
           24.8109640831758
          ],
          [
           187,
           75,
           21.447567845806283
          ],
          [
           187,
           78,
           22.305470559638533
          ],
          [
           181,
           77,
           23.503556057507403
          ],
          [
           187,
           83,
           23.735308416025617
          ],
          [
           190,
           90,
           24.930747922437675
          ],
          [
           188,
           80,
           22.634676324128566
          ],
          [
           185,
           76,
           22.20598977355733
          ],
          [
           185,
           78,
           22.79035792549306
          ],
          [
           193,
           86,
           23.087868130688072
          ],
          [
           193,
           86,
           23.087868130688072
          ],
          [
           193,
           86,
           23.087868130688072
          ],
          [
           178,
           65,
           20.515086478979924
          ],
          [
           179,
           66,
           20.598608033457133
          ],
          [
           167,
           54,
           19.362472659471475
          ],
          [
           180,
           60,
           18.51851851851852
          ],
          [
           173,
           66,
           22.052190183434128
          ],
          [
           175,
           57,
           18.612244897959183
          ],
          [
           178,
           73,
           23.04002019946976
          ],
          [
           173,
           64,
           21.38394199605733
          ],
          [
           173,
           64,
           21.38394199605733
          ],
          [
           173,
           64,
           21.38394199605733
          ],
          [
           174,
           60,
           19.817677368212443
          ],
          [
           177,
           61,
           19.4707778735357
          ],
          [
           162,
           51,
           19.43301326017375
          ],
          [
           168,
           67,
           23.73866213151928
          ],
          [
           170,
           60,
           20.761245674740486
          ],
          [
           150,
           45,
           20
          ],
          [
           150,
           45,
           20
          ],
          [
           176,
           58,
           18.72417355371901
          ],
          [
           207,
           90,
           21.00399075824407
          ],
          [
           200,
           93,
           23.25
          ],
          [
           172,
           52,
           17.577068685776098
          ],
          [
           192,
           90,
           24.4140625
          ],
          [
           180,
           76,
           23.456790123456788
          ],
          [
           193,
           84,
           22.55094096485812
          ],
          [
           193,
           84,
           22.55094096485812
          ],
          [
           170,
           59,
           20.41522491349481
          ],
          [
           172,
           60,
           20.28123309897241
          ],
          [
           206,
           100,
           23.56489772834386
          ],
          [
           194,
           79,
           20.99054097141036
          ],
          [
           195,
           106,
           27.87639710716634
          ],
          [
           178,
           75,
           23.671253629592226
          ],
          [
           181,
           105,
           32.05030371478282
          ],
          [
           172,
           85,
           28.73174689021093
          ],
          [
           170,
           97,
           33.564013840830455
          ],
          [
           170,
           97,
           33.564013840830455
          ],
          [
           173,
           69,
           23.05456246449932
          ],
          [
           180,
           140,
           43.20987654320987
          ],
          [
           180,
           140,
           43.20987654320987
          ],
          [
           147,
           47,
           21.75019667731038
          ],
          [
           147,
           47,
           21.75019667731038
          ],
          [
           165,
           76,
           27.915518824609737
          ],
          [
           165,
           76,
           27.915518824609737
          ],
          [
           155,
           69,
           28.720083246618103
          ],
          [
           149,
           53,
           23.872798522589072
          ],
          [
           159,
           63,
           24.91990032039872
          ],
          [
           170,
           100,
           34.602076124567475
          ],
          [
           163,
           63,
           23.711844630960897
          ],
          [
           165,
           65,
           23.875114784205696
          ],
          [
           190,
           98,
           27.14681440443213
          ],
          [
           179,
           86,
           26.840610467838083
          ],
          [
           179,
           86,
           26.840610467838083
          ],
          [
           174,
           85,
           28.075042938300964
          ],
          [
           173,
           74,
           24.72518293294129
          ],
          [
           173,
           74,
           24.72518293294129
          ],
          [
           166,
           67,
           24.31412396574249
          ],
          [
           174,
           75,
           24.77209671026556
          ],
          [
           164,
           58,
           21.564544913741823
          ],
          [
           164,
           58,
           21.564544913741823
          ],
          [
           163,
           65,
           24.46460160337235
          ]
         ],
         "hovertemplate": "pred_medal=%{x}<br>Age=%{y}<br>Height=%{customdata[0]}<br>Weight=%{customdata[1]}<br>BMI=%{customdata[2]}<extra></extra>",
         "legendgroup": "Gold",
         "marker": {
          "color": "#EF553B"
         },
         "name": "Gold",
         "offsetgroup": "Gold",
         "orientation": "v",
         "points": "all",
         "scalegroup": "True",
         "showlegend": true,
         "type": "violin",
         "x": [
          "Gold",
          "Gold",
          "Gold",
          "Gold",
          "Gold",
          "Gold",
          "Gold",
          "Gold",
          "Gold",
          "Gold",
          "Gold",
          "Gold",
          "Gold",
          "Gold",
          "Gold",
          "Gold",
          "Gold",
          "Gold",
          "Gold",
          "Gold",
          "Gold",
          "Gold",
          "Gold",
          "Gold",
          "Gold",
          "Gold",
          "Gold",
          "Gold",
          "Gold",
          "Gold",
          "Gold",
          "Gold",
          "Gold",
          "Gold",
          "Gold",
          "Gold",
          "Gold",
          "Gold",
          "Gold",
          "Gold",
          "Gold",
          "Gold",
          "Gold",
          "Gold",
          "Gold",
          "Gold",
          "Gold",
          "Gold",
          "Gold",
          "Gold",
          "Gold",
          "Gold",
          "Gold",
          "Gold",
          "Gold",
          "Gold",
          "Gold",
          "Gold",
          "Gold",
          "Gold",
          "Gold",
          "Gold",
          "Gold",
          "Gold",
          "Gold",
          "Gold",
          "Gold",
          "Gold",
          "Gold",
          "Gold",
          "Gold",
          "Gold",
          "Gold",
          "Gold",
          "Gold",
          "Gold",
          "Gold",
          "Gold",
          "Gold",
          "Gold",
          "Gold",
          "Gold",
          "Gold",
          "Gold",
          "Gold",
          "Gold",
          "Gold",
          "Gold",
          "Gold",
          "Gold",
          "Gold",
          "Gold",
          "Gold",
          "Gold",
          "Gold",
          "Gold",
          "Gold",
          "Gold",
          "Gold",
          "Gold",
          "Gold",
          "Gold",
          "Gold",
          "Gold",
          "Gold",
          "Gold",
          "Gold",
          "Gold",
          "Gold",
          "Gold",
          "Gold",
          "Gold",
          "Gold",
          "Gold",
          "Gold",
          "Gold",
          "Gold",
          "Gold",
          "Gold",
          "Gold",
          "Gold",
          "Gold",
          "Gold",
          "Gold",
          "Gold",
          "Gold",
          "Gold",
          "Gold",
          "Gold",
          "Gold",
          "Gold",
          "Gold",
          "Gold",
          "Gold",
          "Gold",
          "Gold",
          "Gold",
          "Gold",
          "Gold",
          "Gold",
          "Gold",
          "Gold",
          "Gold",
          "Gold",
          "Gold",
          "Gold",
          "Gold",
          "Gold",
          "Gold",
          "Gold",
          "Gold",
          "Gold",
          "Gold",
          "Gold",
          "Gold",
          "Gold",
          "Gold",
          "Gold",
          "Gold",
          "Gold",
          "Gold",
          "Gold",
          "Gold",
          "Gold",
          "Gold",
          "Gold",
          "Gold",
          "Gold",
          "Gold",
          "Gold",
          "Gold",
          "Gold",
          "Gold",
          "Gold",
          "Gold",
          "Gold",
          "Gold",
          "Gold",
          "Gold",
          "Gold",
          "Gold",
          "Gold",
          "Gold",
          "Gold",
          "Gold",
          "Gold",
          "Gold",
          "Gold",
          "Gold",
          "Gold",
          "Gold",
          "Gold",
          "Gold",
          "Gold",
          "Gold",
          "Gold",
          "Gold",
          "Gold",
          "Gold",
          "Gold",
          "Gold",
          "Gold",
          "Gold",
          "Gold",
          "Gold",
          "Gold",
          "Gold",
          "Gold",
          "Gold",
          "Gold",
          "Gold",
          "Gold",
          "Gold",
          "Gold",
          "Gold",
          "Gold",
          "Gold",
          "Gold",
          "Gold",
          "Gold",
          "Gold",
          "Gold",
          "Gold",
          "Gold",
          "Gold",
          "Gold",
          "Gold",
          "Gold",
          "Gold",
          "Gold",
          "Gold",
          "Gold",
          "Gold",
          "Gold",
          "Gold",
          "Gold",
          "Gold",
          "Gold",
          "Gold",
          "Gold",
          "Gold",
          "Gold",
          "Gold",
          "Gold",
          "Gold",
          "Gold",
          "Gold",
          "Gold",
          "Gold",
          "Gold",
          "Gold",
          "Gold",
          "Gold",
          "Gold",
          "Gold",
          "Gold",
          "Gold",
          "Gold",
          "Gold",
          "Gold",
          "Gold",
          "Gold",
          "Gold",
          "Gold",
          "Gold",
          "Gold"
         ],
         "x0": " ",
         "xaxis": "x",
         "y": [
          27,
          20,
          25,
          25,
          24,
          25,
          25,
          25,
          27,
          26,
          23,
          24,
          24,
          25,
          25,
          24,
          27,
          27,
          27,
          26,
          26,
          26,
          27,
          26,
          25,
          21,
          27,
          31,
          31,
          30,
          22,
          29,
          23,
          23,
          23,
          26,
          26,
          21,
          21,
          32,
          32,
          24,
          20,
          20,
          20,
          27,
          27,
          28,
          21,
          28,
          20,
          25,
          29,
          29,
          33,
          24,
          31,
          21,
          20,
          23,
          34,
          25,
          28,
          28,
          32,
          22,
          22,
          28,
          21,
          21,
          26,
          26,
          34,
          34,
          34,
          32,
          23,
          24,
          29,
          29,
          20,
          20,
          20,
          27,
          27,
          27,
          25,
          22,
          23,
          23,
          23,
          31,
          34,
          34,
          27,
          25,
          23,
          22,
          25,
          25,
          25,
          25,
          24,
          21,
          20,
          22,
          24,
          24,
          24,
          26,
          30,
          40,
          23,
          27,
          24,
          26,
          26,
          26,
          26,
          26,
          26,
          27,
          23,
          23,
          26,
          25,
          28,
          28,
          21,
          22,
          40,
          40,
          26,
          26,
          19,
          19,
          17,
          16,
          28,
          22,
          26,
          23,
          23,
          22,
          22,
          21,
          24,
          24,
          25,
          24,
          27,
          21,
          23,
          25,
          25,
          29,
          27,
          24,
          25,
          23,
          25,
          27,
          28,
          22,
          28,
          30,
          30,
          30,
          29,
          27,
          34,
          32,
          31,
          25,
          21,
          30,
          27,
          24,
          26,
          23,
          27,
          19,
          41,
          24,
          28,
          23,
          37,
          37,
          31,
          20,
          26,
          33,
          27,
          28,
          25,
          26,
          23,
          20,
          21,
          20,
          24,
          23,
          22,
          36,
          22,
          22,
          22,
          21,
          21,
          23,
          22,
          21,
          25,
          20,
          23,
          23,
          23,
          23,
          23,
          21,
          22,
          33,
          15,
          15,
          18,
          21,
          26,
          18,
          31,
          31,
          32,
          32,
          35,
          25,
          32,
          34,
          29,
          30,
          19,
          22,
          27,
          27,
          24,
          21,
          21,
          21,
          21,
          20,
          20,
          22,
          25,
          22,
          23,
          20,
          22,
          26,
          26,
          26,
          23,
          29,
          29,
          27,
          29,
          23,
          23,
          23
         ],
         "y0": " ",
         "yaxis": "y"
        },
        {
         "alignmentgroup": "True",
         "box": {
          "visible": true
         },
         "customdata": [
          [
           181,
           84,
           25.640242971826257
          ],
          [
           158,
           50,
           20.0288415318058
          ],
          [
           176,
           65,
           20.983987603305785
          ],
          [
           176,
           65,
           20.983987603305785
          ],
          [
           176,
           65,
           20.983987603305785
          ],
          [
           183,
           77,
           22.99262444384723
          ],
          [
           167,
           58,
           20.7967298935064
          ],
          [
           167,
           58,
           20.7967298935064
          ],
          [
           178,
           85,
           26.82742078020452
          ],
          [
           173,
           70,
           23.38868655818771
          ],
          [
           187,
           120,
           34.31610855329005
          ],
          [
           175,
           94,
           30.693877551020407
          ],
          [
           192,
           92,
           24.95659722222222
          ],
          [
           175,
           94,
           30.693877551020407
          ],
          [
           183,
           75,
           22.39541341933172
          ],
          [
           183,
           75,
           22.39541341933172
          ],
          [
           201,
           125,
           30.93982822207372
          ],
          [
           157,
           43,
           17.444926771877153
          ],
          [
           167,
           57,
           20.43816558499767
          ],
          [
           165,
           59,
           21.6712580348944
          ],
          [
           160,
           50,
           19.53125
          ],
          [
           160,
           50,
           19.53125
          ],
          [
           162,
           51,
           19.43301326017375
          ],
          [
           160,
           55,
           21.484375
          ],
          [
           163,
           61,
           22.95908765854944
          ],
          [
           163,
           61,
           22.95908765854944
          ],
          [
           173,
           59,
           19.71332152761536
          ],
          [
           185,
           69,
           20.16070124178232
          ],
          [
           173,
           55,
           18.376825152861773
          ],
          [
           180,
           85,
           26.234567901234566
          ],
          [
           180,
           85,
           26.234567901234566
          ],
          [
           184,
           69,
           20.38043478260869
          ],
          [
           184,
           69,
           20.38043478260869
          ],
          [
           175,
           64,
           20.897959183673468
          ],
          [
           191,
           72,
           19.73630108823772
          ],
          [
           160,
           45,
           17.578124999999996
          ],
          [
           173,
           59,
           19.71332152761536
          ],
          [
           179,
           66,
           20.598608033457133
          ],
          [
           176,
           136,
           43.904958677685954
          ],
          [
           179,
           72,
           22.47120876377142
          ],
          [
           172,
           59,
           19.94321254732288
          ],
          [
           172,
           59,
           19.94321254732288
          ],
          [
           172,
           65,
           21.97133585722012
          ],
          [
           201,
           99,
           24.504343951882387
          ],
          [
           193,
           79,
           21.20862305028323
          ],
          [
           184,
           75,
           22.152646502835537
          ],
          [
           171,
           57,
           19.49317738791424
          ],
          [
           171,
           57,
           19.49317738791424
          ],
          [
           171,
           57,
           19.49317738791424
          ],
          [
           168,
           52,
           18.42403628117914
          ],
          [
           169,
           52,
           18.20664542558034
          ],
          [
           196,
           91,
           23.688046647230323
          ],
          [
           156,
           49,
           20.134779750164363
          ],
          [
           182,
           81,
           24.45356840961236
          ],
          [
           169,
           64,
           22.40817898532965
          ],
          [
           178,
           75,
           23.671253629592226
          ],
          [
           197,
           108,
           27.82859645958412
          ],
          [
           168,
           60,
           21.258503401360542
          ],
          [
           175,
           78,
           25.46938775510204
          ],
          [
           188,
           88,
           24.898143956541425
          ],
          [
           189,
           80,
           22.395789591556788
          ],
          [
           185,
           95,
           27.757487216946675
          ],
          [
           185,
           95,
           27.757487216946675
          ],
          [
           185,
           95,
           27.757487216946675
          ],
          [
           181,
           76,
           23.198315069747565
          ],
          [
           186,
           90,
           26.01456815816857
          ],
          [
           186,
           90,
           26.01456815816857
          ],
          [
           176,
           80,
           25.82644628099173
          ],
          [
           189,
           89,
           24.915315920606925
          ],
          [
           188,
           90,
           25.46401086464464
          ],
          [
           182,
           85,
           25.661152034778407
          ],
          [
           184,
           82,
           24.22022684310019
          ],
          [
           182,
           76,
           22.94408887815481
          ],
          [
           176,
           78,
           25.180785123966945
          ],
          [
           183,
           88,
           26.27728507868255
          ],
          [
           181,
           73,
           22.28259210646805
          ],
          [
           165,
           55,
           20.202020202020204
          ],
          [
           165,
           55,
           20.202020202020204
          ],
          [
           185,
           90,
           26.29656683710737
          ],
          [
           168,
           56,
           19.841269841269845
          ],
          [
           172,
           70,
           23.661438615467823
          ],
          [
           172,
           70,
           23.661438615467823
          ],
          [
           162,
           49,
           18.670934308794383
          ],
          [
           162,
           49,
           18.670934308794383
          ],
          [
           159,
           52,
           20.56880661366243
          ],
          [
           157,
           48,
           19.473406629072173
          ],
          [
           157,
           48,
           19.473406629072173
          ],
          [
           157,
           48,
           19.473406629072173
          ],
          [
           193,
           73,
           19.59784155279337
          ],
          [
           173,
           63,
           21.04981790236894
          ],
          [
           176,
           70,
           22.59814049586777
          ],
          [
           177,
           65,
           20.747550193111813
          ],
          [
           197,
           100,
           25.76721894405937
          ],
          [
           186,
           78,
           22.54595907041276
          ],
          [
           175,
           64,
           20.897959183673468
          ],
          [
           178,
           62,
           19.56823633379624
          ],
          [
           168,
           60,
           21.258503401360542
          ],
          [
           188,
           75,
           21.22000905387053
          ],
          [
           175,
           68,
           22.20408163265306
          ],
          [
           168,
           65,
           23.030045351473927
          ],
          [
           155,
           54,
           22.476586888657646
          ],
          [
           155,
           54,
           22.476586888657646
          ],
          [
           155,
           54,
           22.476586888657646
          ],
          [
           161,
           55,
           21.218317194552675
          ],
          [
           164,
           62,
           23.051754907792983
          ],
          [
           164,
           62,
           23.051754907792983
          ],
          [
           164,
           62,
           23.051754907792983
          ],
          [
           162,
           51,
           19.43301326017375
          ],
          [
           143,
           47,
           22.984008997995016
          ],
          [
           156,
           45,
           18.49112426035503
          ],
          [
           200,
           105,
           26.25
          ],
          [
           175,
           68,
           22.20408163265306
          ],
          [
           173,
           77,
           25.72755521400648
          ],
          [
           168,
           62,
           21.9671201814059
          ],
          [
           166,
           60,
           21.773842357381334
          ],
          [
           186,
           100,
           28.90507573129841
          ],
          [
           197,
           105,
           27.055579891262337
          ],
          [
           182,
           81,
           24.45356840961236
          ],
          [
           178,
           90,
           28.40550435551067
          ],
          [
           162,
           52,
           19.81405273586343
          ],
          [
           162,
           65,
           24.76756591982929
          ],
          [
           170,
           97,
           33.564013840830455
          ],
          [
           169,
           57,
           19.95728440880922
          ],
          [
           168,
           70,
           24.801587301587304
          ],
          [
           168,
           70,
           24.801587301587304
          ],
          [
           185,
           74,
           21.62162162162162
          ],
          [
           168,
           55,
           19.48696145124717
          ],
          [
           168,
           55,
           19.48696145124717
          ],
          [
           168,
           47,
           16.65249433106576
          ],
          [
           170,
           47,
           16.262975778546714
          ],
          [
           170,
           50,
           17.301038062283737
          ],
          [
           196,
           96,
           24.989587671803417
          ],
          [
           197,
           95,
           24.4788579968564
          ],
          [
           200,
           102,
           25.5
          ],
          [
           187,
           76,
           21.7335354170837
          ],
          [
           178,
           71,
           22.408786769347305
          ],
          [
           193,
           92,
           24.69864962817794
          ],
          [
           183,
           82,
           24.48565200513601
          ],
          [
           183,
           73,
           21.798202394816204
          ],
          [
           183,
           73,
           21.798202394816204
          ],
          [
           173,
           59,
           19.71332152761536
          ],
          [
           173,
           76,
           25.393431120318084
          ],
          [
           198,
           109,
           27.80328537904296
          ],
          [
           168,
           66,
           23.384353741496604
          ],
          [
           180,
           81,
           25
          ],
          [
           197,
           95,
           24.4788579968564
          ],
          [
           173,
           70,
           23.38868655818771
          ],
          [
           164,
           63,
           23.42355740630577
          ],
          [
           168,
           62,
           21.9671201814059
          ],
          [
           169,
           57,
           19.95728440880922
          ],
          [
           176,
           65,
           20.983987603305785
          ],
          [
           179,
           80,
           24.9680097375238
          ],
          [
           178,
           82,
           25.88057063502083
          ],
          [
           178,
           82,
           25.88057063502083
          ],
          [
           162,
           70,
           26.672763298277697
          ],
          [
           155,
           55,
           22.892819979188346
          ],
          [
           155,
           55,
           22.892819979188346
          ],
          [
           155,
           55,
           22.892819979188346
          ],
          [
           175,
           85,
           27.755102040816325
          ],
          [
           175,
           85,
           27.755102040816325
          ],
          [
           175,
           85,
           27.755102040816325
          ],
          [
           162,
           72,
           27.43484224965706
          ],
          [
           162,
           72,
           27.43484224965706
          ],
          [
           172,
           80,
           27.041644131963228
          ],
          [
           172,
           80,
           27.041644131963228
          ],
          [
           191,
           72,
           19.73630108823772
          ],
          [
           189,
           86,
           24.075473810923548
          ],
          [
           191,
           91,
           24.94449165318933
          ],
          [
           195,
           85,
           22.35371466140697
          ],
          [
           191,
           86,
           23.57391518872837
          ],
          [
           184,
           74,
           21.85727788279773
          ],
          [
           193,
           86,
           23.087868130688072
          ],
          [
           191,
           86,
           23.57391518872837
          ],
          [
           196,
           84,
           21.86588921282799
          ],
          [
           196,
           84,
           21.86588921282799
          ],
          [
           188,
           86,
           24.332277048438208
          ],
          [
           193,
           80,
           21.47708663319821
          ],
          [
           173,
           65,
           21.71806608974573
          ],
          [
           175,
           70,
           22.857142857142858
          ],
          [
           180,
           75,
           23.148148148148145
          ],
          [
           175,
           64,
           20.897959183673468
          ],
          [
           175,
           64,
           20.897959183673468
          ],
          [
           175,
           64,
           20.897959183673468
          ],
          [
           175,
           65,
           21.22448979591837
          ],
          [
           175,
           65,
           21.22448979591837
          ],
          [
           179,
           61,
           19.03810742486189
          ],
          [
           184,
           67,
           19.78969754253308
          ],
          [
           193,
           85,
           22.819404547773097
          ],
          [
           179,
           58,
           18.10180705970476
          ],
          [
           162,
           46,
           17.527815881725342
          ],
          [
           180,
           67,
           20.679012345679013
          ],
          [
           160,
           54,
           21.09375
          ],
          [
           178,
           68,
           21.461936624163616
          ],
          [
           178,
           68,
           21.461936624163616
          ],
          [
           178,
           68,
           21.461936624163616
          ],
          [
           186,
           80,
           23.12406058503873
          ],
          [
           186,
           80,
           23.12406058503873
          ],
          [
           174,
           57,
           18.826793499801823
          ],
          [
           164,
           50,
           18.590124925639504
          ],
          [
           188,
           75,
           21.22000905387053
          ],
          [
           182,
           69,
           20.830817534114235
          ],
          [
           182,
           69,
           20.830817534114235
          ],
          [
           175,
           71,
           23.18367346938776
          ],
          [
           186,
           79,
           22.835009827725745
          ],
          [
           168,
           66,
           23.384353741496604
          ],
          [
           176,
           65,
           20.983987603305785
          ],
          [
           170,
           64,
           22.145328719723185
          ],
          [
           173,
           66,
           22.052190183434128
          ],
          [
           173,
           66,
           22.052190183434128
          ],
          [
           168,
           56,
           19.841269841269845
          ],
          [
           178,
           59,
           18.621386188612547
          ],
          [
           178,
           59,
           18.621386188612547
          ],
          [
           205,
           107,
           25.46103509815586
          ],
          [
           171,
           70,
           23.938989774631512
          ],
          [
           197,
           89,
           22.93282486021284
          ],
          [
           173,
           65,
           21.71806608974573
          ],
          [
           159,
           56,
           22.15102250702108
          ],
          [
           159,
           56,
           22.15102250702108
          ],
          [
           159,
           56,
           22.15102250702108
          ],
          [
           183,
           109,
           32.54800083609543
          ],
          [
           180,
           105,
           32.407407407407405
          ],
          [
           168,
           70,
           24.801587301587304
          ],
          [
           172,
           94,
           31.77393185505679
          ],
          [
           172,
           94,
           31.77393185505679
          ],
          [
           172,
           94,
           31.77393185505679
          ],
          [
           176,
           77,
           24.857954545454547
          ],
          [
           176,
           77,
           24.857954545454547
          ],
          [
           154,
           48,
           20.23950075898128
          ],
          [
           155,
           58,
           24.14151925078044
          ],
          [
           155,
           58,
           24.14151925078044
          ],
          [
           159,
           63,
           24.91990032039872
          ],
          [
           173,
           123,
           41.09726352367269
          ],
          [
           165,
           62,
           22.77318640955005
          ],
          [
           180,
           102,
           31.48148148148148
          ],
          [
           180,
           102,
           31.48148148148148
          ],
          [
           177,
           86,
           27.4506048708864
          ],
          [
           170,
           66,
           22.837370242214536
          ],
          [
           177,
           80,
           25.53544639152223
          ],
          [
           177,
           80,
           25.53544639152223
          ],
          [
           177,
           80,
           25.53544639152223
          ],
          [
           192,
           125,
           33.90842013888889
          ],
          [
           192,
           125,
           33.90842013888889
          ],
          [
           170,
           65,
           22.49134948096886
          ],
          [
           171,
           66,
           22.571047501795427
          ],
          [
           163,
           57,
           21.453573713726524
          ],
          [
           163,
           57,
           21.453573713726524
          ],
          [
           163,
           57,
           21.453573713726524
          ],
          [
           164,
           56,
           20.820939916716245
          ],
          [
           152,
           48,
           20.775623268698062
          ],
          [
           175,
           75,
           24.489795918367346
          ],
          [
           159,
           69,
           27.29322416043669
          ],
          [
           159,
           69,
           27.29322416043669
          ]
         ],
         "hovertemplate": "pred_medal=%{x}<br>Age=%{y}<br>Height=%{customdata[0]}<br>Weight=%{customdata[1]}<br>BMI=%{customdata[2]}<extra></extra>",
         "legendgroup": "Silver",
         "marker": {
          "color": "#00cc96"
         },
         "name": "Silver",
         "offsetgroup": "Silver",
         "orientation": "v",
         "points": "all",
         "scalegroup": "True",
         "showlegend": true,
         "type": "violin",
         "x": [
          "Silver",
          "Silver",
          "Silver",
          "Silver",
          "Silver",
          "Silver",
          "Silver",
          "Silver",
          "Silver",
          "Silver",
          "Silver",
          "Silver",
          "Silver",
          "Silver",
          "Silver",
          "Silver",
          "Silver",
          "Silver",
          "Silver",
          "Silver",
          "Silver",
          "Silver",
          "Silver",
          "Silver",
          "Silver",
          "Silver",
          "Silver",
          "Silver",
          "Silver",
          "Silver",
          "Silver",
          "Silver",
          "Silver",
          "Silver",
          "Silver",
          "Silver",
          "Silver",
          "Silver",
          "Silver",
          "Silver",
          "Silver",
          "Silver",
          "Silver",
          "Silver",
          "Silver",
          "Silver",
          "Silver",
          "Silver",
          "Silver",
          "Silver",
          "Silver",
          "Silver",
          "Silver",
          "Silver",
          "Silver",
          "Silver",
          "Silver",
          "Silver",
          "Silver",
          "Silver",
          "Silver",
          "Silver",
          "Silver",
          "Silver",
          "Silver",
          "Silver",
          "Silver",
          "Silver",
          "Silver",
          "Silver",
          "Silver",
          "Silver",
          "Silver",
          "Silver",
          "Silver",
          "Silver",
          "Silver",
          "Silver",
          "Silver",
          "Silver",
          "Silver",
          "Silver",
          "Silver",
          "Silver",
          "Silver",
          "Silver",
          "Silver",
          "Silver",
          "Silver",
          "Silver",
          "Silver",
          "Silver",
          "Silver",
          "Silver",
          "Silver",
          "Silver",
          "Silver",
          "Silver",
          "Silver",
          "Silver",
          "Silver",
          "Silver",
          "Silver",
          "Silver",
          "Silver",
          "Silver",
          "Silver",
          "Silver",
          "Silver",
          "Silver",
          "Silver",
          "Silver",
          "Silver",
          "Silver",
          "Silver",
          "Silver",
          "Silver",
          "Silver",
          "Silver",
          "Silver",
          "Silver",
          "Silver",
          "Silver",
          "Silver",
          "Silver",
          "Silver",
          "Silver",
          "Silver",
          "Silver",
          "Silver",
          "Silver",
          "Silver",
          "Silver",
          "Silver",
          "Silver",
          "Silver",
          "Silver",
          "Silver",
          "Silver",
          "Silver",
          "Silver",
          "Silver",
          "Silver",
          "Silver",
          "Silver",
          "Silver",
          "Silver",
          "Silver",
          "Silver",
          "Silver",
          "Silver",
          "Silver",
          "Silver",
          "Silver",
          "Silver",
          "Silver",
          "Silver",
          "Silver",
          "Silver",
          "Silver",
          "Silver",
          "Silver",
          "Silver",
          "Silver",
          "Silver",
          "Silver",
          "Silver",
          "Silver",
          "Silver",
          "Silver",
          "Silver",
          "Silver",
          "Silver",
          "Silver",
          "Silver",
          "Silver",
          "Silver",
          "Silver",
          "Silver",
          "Silver",
          "Silver",
          "Silver",
          "Silver",
          "Silver",
          "Silver",
          "Silver",
          "Silver",
          "Silver",
          "Silver",
          "Silver",
          "Silver",
          "Silver",
          "Silver",
          "Silver",
          "Silver",
          "Silver",
          "Silver",
          "Silver",
          "Silver",
          "Silver",
          "Silver",
          "Silver",
          "Silver",
          "Silver",
          "Silver",
          "Silver",
          "Silver",
          "Silver",
          "Silver",
          "Silver",
          "Silver",
          "Silver",
          "Silver",
          "Silver",
          "Silver",
          "Silver",
          "Silver",
          "Silver",
          "Silver",
          "Silver",
          "Silver",
          "Silver",
          "Silver",
          "Silver",
          "Silver",
          "Silver",
          "Silver",
          "Silver",
          "Silver",
          "Silver",
          "Silver",
          "Silver",
          "Silver",
          "Silver",
          "Silver",
          "Silver",
          "Silver",
          "Silver",
          "Silver",
          "Silver",
          "Silver",
          "Silver",
          "Silver",
          "Silver",
          "Silver",
          "Silver",
          "Silver",
          "Silver",
          "Silver",
          "Silver",
          "Silver",
          "Silver"
         ],
         "x0": " ",
         "xaxis": "x",
         "y": [
          23,
          29,
          26,
          26,
          26,
          26,
          21,
          21,
          21,
          25,
          34,
          27,
          24,
          27,
          22,
          22,
          23,
          22,
          24,
          24,
          29,
          29,
          19,
          20,
          22,
          22,
          22,
          22,
          26,
          37,
          37,
          21,
          21,
          27,
          37,
          31,
          26,
          19,
          30,
          29,
          26,
          26,
          23,
          26,
          21,
          25,
          27,
          27,
          27,
          23,
          23,
          25,
          23,
          26,
          25,
          23,
          30,
          23,
          25,
          24,
          33,
          29,
          29,
          29,
          29,
          22,
          22,
          27,
          23,
          24,
          26,
          21,
          23,
          26,
          23,
          23,
          22,
          22,
          22,
          21,
          23,
          23,
          15,
          15,
          24,
          18,
          18,
          18,
          21,
          53,
          32,
          23,
          27,
          38,
          22,
          27,
          32,
          21,
          26,
          28,
          31,
          31,
          31,
          22,
          25,
          25,
          25,
          19,
          19,
          18,
          29,
          26,
          27,
          27,
          30,
          25,
          25,
          22,
          21,
          25,
          25,
          28,
          24,
          26,
          26,
          28,
          24,
          24,
          18,
          18,
          20,
          28,
          29,
          27,
          31,
          27,
          27,
          27,
          25,
          25,
          32,
          25,
          28,
          28,
          26,
          29,
          30,
          29,
          25,
          31,
          21,
          28,
          33,
          33,
          25,
          19,
          19,
          19,
          33,
          33,
          33,
          33,
          33,
          26,
          26,
          21,
          24,
          21,
          21,
          21,
          21,
          25,
          19,
          19,
          19,
          20,
          21,
          22,
          19,
          22,
          27,
          27,
          27,
          27,
          27,
          22,
          19,
          20,
          22,
          21,
          26,
          25,
          20,
          20,
          20,
          22,
          22,
          23,
          22,
          22,
          28,
          28,
          34,
          37,
          31,
          28,
          22,
          20,
          20,
          30,
          30,
          30,
          32,
          24,
          19,
          22,
          20,
          20,
          20,
          24,
          23,
          22,
          25,
          25,
          25,
          22,
          22,
          21,
          21,
          21,
          23,
          27,
          27,
          20,
          20,
          20,
          30,
          31,
          31,
          31,
          25,
          25,
          25,
          25,
          24,
          24,
          24,
          26,
          22,
          27,
          21,
          21
         ],
         "y0": " ",
         "yaxis": "y"
        }
       ],
       "layout": {
        "legend": {
         "title": {
          "text": "pred_medal"
         },
         "tracegroupgap": 0
        },
        "template": {
         "data": {
          "bar": [
           {
            "error_x": {
             "color": "#2a3f5f"
            },
            "error_y": {
             "color": "#2a3f5f"
            },
            "marker": {
             "line": {
              "color": "#E5ECF6",
              "width": 0.5
             },
             "pattern": {
              "fillmode": "overlay",
              "size": 10,
              "solidity": 0.2
             }
            },
            "type": "bar"
           }
          ],
          "barpolar": [
           {
            "marker": {
             "line": {
              "color": "#E5ECF6",
              "width": 0.5
             },
             "pattern": {
              "fillmode": "overlay",
              "size": 10,
              "solidity": 0.2
             }
            },
            "type": "barpolar"
           }
          ],
          "carpet": [
           {
            "aaxis": {
             "endlinecolor": "#2a3f5f",
             "gridcolor": "white",
             "linecolor": "white",
             "minorgridcolor": "white",
             "startlinecolor": "#2a3f5f"
            },
            "baxis": {
             "endlinecolor": "#2a3f5f",
             "gridcolor": "white",
             "linecolor": "white",
             "minorgridcolor": "white",
             "startlinecolor": "#2a3f5f"
            },
            "type": "carpet"
           }
          ],
          "choropleth": [
           {
            "colorbar": {
             "outlinewidth": 0,
             "ticks": ""
            },
            "type": "choropleth"
           }
          ],
          "contour": [
           {
            "colorbar": {
             "outlinewidth": 0,
             "ticks": ""
            },
            "colorscale": [
             [
              0,
              "#0d0887"
             ],
             [
              0.1111111111111111,
              "#46039f"
             ],
             [
              0.2222222222222222,
              "#7201a8"
             ],
             [
              0.3333333333333333,
              "#9c179e"
             ],
             [
              0.4444444444444444,
              "#bd3786"
             ],
             [
              0.5555555555555556,
              "#d8576b"
             ],
             [
              0.6666666666666666,
              "#ed7953"
             ],
             [
              0.7777777777777778,
              "#fb9f3a"
             ],
             [
              0.8888888888888888,
              "#fdca26"
             ],
             [
              1,
              "#f0f921"
             ]
            ],
            "type": "contour"
           }
          ],
          "contourcarpet": [
           {
            "colorbar": {
             "outlinewidth": 0,
             "ticks": ""
            },
            "type": "contourcarpet"
           }
          ],
          "heatmap": [
           {
            "colorbar": {
             "outlinewidth": 0,
             "ticks": ""
            },
            "colorscale": [
             [
              0,
              "#0d0887"
             ],
             [
              0.1111111111111111,
              "#46039f"
             ],
             [
              0.2222222222222222,
              "#7201a8"
             ],
             [
              0.3333333333333333,
              "#9c179e"
             ],
             [
              0.4444444444444444,
              "#bd3786"
             ],
             [
              0.5555555555555556,
              "#d8576b"
             ],
             [
              0.6666666666666666,
              "#ed7953"
             ],
             [
              0.7777777777777778,
              "#fb9f3a"
             ],
             [
              0.8888888888888888,
              "#fdca26"
             ],
             [
              1,
              "#f0f921"
             ]
            ],
            "type": "heatmap"
           }
          ],
          "heatmapgl": [
           {
            "colorbar": {
             "outlinewidth": 0,
             "ticks": ""
            },
            "colorscale": [
             [
              0,
              "#0d0887"
             ],
             [
              0.1111111111111111,
              "#46039f"
             ],
             [
              0.2222222222222222,
              "#7201a8"
             ],
             [
              0.3333333333333333,
              "#9c179e"
             ],
             [
              0.4444444444444444,
              "#bd3786"
             ],
             [
              0.5555555555555556,
              "#d8576b"
             ],
             [
              0.6666666666666666,
              "#ed7953"
             ],
             [
              0.7777777777777778,
              "#fb9f3a"
             ],
             [
              0.8888888888888888,
              "#fdca26"
             ],
             [
              1,
              "#f0f921"
             ]
            ],
            "type": "heatmapgl"
           }
          ],
          "histogram": [
           {
            "marker": {
             "pattern": {
              "fillmode": "overlay",
              "size": 10,
              "solidity": 0.2
             }
            },
            "type": "histogram"
           }
          ],
          "histogram2d": [
           {
            "colorbar": {
             "outlinewidth": 0,
             "ticks": ""
            },
            "colorscale": [
             [
              0,
              "#0d0887"
             ],
             [
              0.1111111111111111,
              "#46039f"
             ],
             [
              0.2222222222222222,
              "#7201a8"
             ],
             [
              0.3333333333333333,
              "#9c179e"
             ],
             [
              0.4444444444444444,
              "#bd3786"
             ],
             [
              0.5555555555555556,
              "#d8576b"
             ],
             [
              0.6666666666666666,
              "#ed7953"
             ],
             [
              0.7777777777777778,
              "#fb9f3a"
             ],
             [
              0.8888888888888888,
              "#fdca26"
             ],
             [
              1,
              "#f0f921"
             ]
            ],
            "type": "histogram2d"
           }
          ],
          "histogram2dcontour": [
           {
            "colorbar": {
             "outlinewidth": 0,
             "ticks": ""
            },
            "colorscale": [
             [
              0,
              "#0d0887"
             ],
             [
              0.1111111111111111,
              "#46039f"
             ],
             [
              0.2222222222222222,
              "#7201a8"
             ],
             [
              0.3333333333333333,
              "#9c179e"
             ],
             [
              0.4444444444444444,
              "#bd3786"
             ],
             [
              0.5555555555555556,
              "#d8576b"
             ],
             [
              0.6666666666666666,
              "#ed7953"
             ],
             [
              0.7777777777777778,
              "#fb9f3a"
             ],
             [
              0.8888888888888888,
              "#fdca26"
             ],
             [
              1,
              "#f0f921"
             ]
            ],
            "type": "histogram2dcontour"
           }
          ],
          "mesh3d": [
           {
            "colorbar": {
             "outlinewidth": 0,
             "ticks": ""
            },
            "type": "mesh3d"
           }
          ],
          "parcoords": [
           {
            "line": {
             "colorbar": {
              "outlinewidth": 0,
              "ticks": ""
             }
            },
            "type": "parcoords"
           }
          ],
          "pie": [
           {
            "automargin": true,
            "type": "pie"
           }
          ],
          "scatter": [
           {
            "fillpattern": {
             "fillmode": "overlay",
             "size": 10,
             "solidity": 0.2
            },
            "type": "scatter"
           }
          ],
          "scatter3d": [
           {
            "line": {
             "colorbar": {
              "outlinewidth": 0,
              "ticks": ""
             }
            },
            "marker": {
             "colorbar": {
              "outlinewidth": 0,
              "ticks": ""
             }
            },
            "type": "scatter3d"
           }
          ],
          "scattercarpet": [
           {
            "marker": {
             "colorbar": {
              "outlinewidth": 0,
              "ticks": ""
             }
            },
            "type": "scattercarpet"
           }
          ],
          "scattergeo": [
           {
            "marker": {
             "colorbar": {
              "outlinewidth": 0,
              "ticks": ""
             }
            },
            "type": "scattergeo"
           }
          ],
          "scattergl": [
           {
            "marker": {
             "colorbar": {
              "outlinewidth": 0,
              "ticks": ""
             }
            },
            "type": "scattergl"
           }
          ],
          "scattermapbox": [
           {
            "marker": {
             "colorbar": {
              "outlinewidth": 0,
              "ticks": ""
             }
            },
            "type": "scattermapbox"
           }
          ],
          "scatterpolar": [
           {
            "marker": {
             "colorbar": {
              "outlinewidth": 0,
              "ticks": ""
             }
            },
            "type": "scatterpolar"
           }
          ],
          "scatterpolargl": [
           {
            "marker": {
             "colorbar": {
              "outlinewidth": 0,
              "ticks": ""
             }
            },
            "type": "scatterpolargl"
           }
          ],
          "scatterternary": [
           {
            "marker": {
             "colorbar": {
              "outlinewidth": 0,
              "ticks": ""
             }
            },
            "type": "scatterternary"
           }
          ],
          "surface": [
           {
            "colorbar": {
             "outlinewidth": 0,
             "ticks": ""
            },
            "colorscale": [
             [
              0,
              "#0d0887"
             ],
             [
              0.1111111111111111,
              "#46039f"
             ],
             [
              0.2222222222222222,
              "#7201a8"
             ],
             [
              0.3333333333333333,
              "#9c179e"
             ],
             [
              0.4444444444444444,
              "#bd3786"
             ],
             [
              0.5555555555555556,
              "#d8576b"
             ],
             [
              0.6666666666666666,
              "#ed7953"
             ],
             [
              0.7777777777777778,
              "#fb9f3a"
             ],
             [
              0.8888888888888888,
              "#fdca26"
             ],
             [
              1,
              "#f0f921"
             ]
            ],
            "type": "surface"
           }
          ],
          "table": [
           {
            "cells": {
             "fill": {
              "color": "#EBF0F8"
             },
             "line": {
              "color": "white"
             }
            },
            "header": {
             "fill": {
              "color": "#C8D4E3"
             },
             "line": {
              "color": "white"
             }
            },
            "type": "table"
           }
          ]
         },
         "layout": {
          "annotationdefaults": {
           "arrowcolor": "#2a3f5f",
           "arrowhead": 0,
           "arrowwidth": 1
          },
          "autotypenumbers": "strict",
          "coloraxis": {
           "colorbar": {
            "outlinewidth": 0,
            "ticks": ""
           }
          },
          "colorscale": {
           "diverging": [
            [
             0,
             "#8e0152"
            ],
            [
             0.1,
             "#c51b7d"
            ],
            [
             0.2,
             "#de77ae"
            ],
            [
             0.3,
             "#f1b6da"
            ],
            [
             0.4,
             "#fde0ef"
            ],
            [
             0.5,
             "#f7f7f7"
            ],
            [
             0.6,
             "#e6f5d0"
            ],
            [
             0.7,
             "#b8e186"
            ],
            [
             0.8,
             "#7fbc41"
            ],
            [
             0.9,
             "#4d9221"
            ],
            [
             1,
             "#276419"
            ]
           ],
           "sequential": [
            [
             0,
             "#0d0887"
            ],
            [
             0.1111111111111111,
             "#46039f"
            ],
            [
             0.2222222222222222,
             "#7201a8"
            ],
            [
             0.3333333333333333,
             "#9c179e"
            ],
            [
             0.4444444444444444,
             "#bd3786"
            ],
            [
             0.5555555555555556,
             "#d8576b"
            ],
            [
             0.6666666666666666,
             "#ed7953"
            ],
            [
             0.7777777777777778,
             "#fb9f3a"
            ],
            [
             0.8888888888888888,
             "#fdca26"
            ],
            [
             1,
             "#f0f921"
            ]
           ],
           "sequentialminus": [
            [
             0,
             "#0d0887"
            ],
            [
             0.1111111111111111,
             "#46039f"
            ],
            [
             0.2222222222222222,
             "#7201a8"
            ],
            [
             0.3333333333333333,
             "#9c179e"
            ],
            [
             0.4444444444444444,
             "#bd3786"
            ],
            [
             0.5555555555555556,
             "#d8576b"
            ],
            [
             0.6666666666666666,
             "#ed7953"
            ],
            [
             0.7777777777777778,
             "#fb9f3a"
            ],
            [
             0.8888888888888888,
             "#fdca26"
            ],
            [
             1,
             "#f0f921"
            ]
           ]
          },
          "colorway": [
           "#636efa",
           "#EF553B",
           "#00cc96",
           "#ab63fa",
           "#FFA15A",
           "#19d3f3",
           "#FF6692",
           "#B6E880",
           "#FF97FF",
           "#FECB52"
          ],
          "font": {
           "color": "#2a3f5f"
          },
          "geo": {
           "bgcolor": "white",
           "lakecolor": "white",
           "landcolor": "#E5ECF6",
           "showlakes": true,
           "showland": true,
           "subunitcolor": "white"
          },
          "hoverlabel": {
           "align": "left"
          },
          "hovermode": "closest",
          "mapbox": {
           "style": "light"
          },
          "paper_bgcolor": "white",
          "plot_bgcolor": "#E5ECF6",
          "polar": {
           "angularaxis": {
            "gridcolor": "white",
            "linecolor": "white",
            "ticks": ""
           },
           "bgcolor": "#E5ECF6",
           "radialaxis": {
            "gridcolor": "white",
            "linecolor": "white",
            "ticks": ""
           }
          },
          "scene": {
           "xaxis": {
            "backgroundcolor": "#E5ECF6",
            "gridcolor": "white",
            "gridwidth": 2,
            "linecolor": "white",
            "showbackground": true,
            "ticks": "",
            "zerolinecolor": "white"
           },
           "yaxis": {
            "backgroundcolor": "#E5ECF6",
            "gridcolor": "white",
            "gridwidth": 2,
            "linecolor": "white",
            "showbackground": true,
            "ticks": "",
            "zerolinecolor": "white"
           },
           "zaxis": {
            "backgroundcolor": "#E5ECF6",
            "gridcolor": "white",
            "gridwidth": 2,
            "linecolor": "white",
            "showbackground": true,
            "ticks": "",
            "zerolinecolor": "white"
           }
          },
          "shapedefaults": {
           "line": {
            "color": "#2a3f5f"
           }
          },
          "ternary": {
           "aaxis": {
            "gridcolor": "white",
            "linecolor": "white",
            "ticks": ""
           },
           "baxis": {
            "gridcolor": "white",
            "linecolor": "white",
            "ticks": ""
           },
           "bgcolor": "#E5ECF6",
           "caxis": {
            "gridcolor": "white",
            "linecolor": "white",
            "ticks": ""
           }
          },
          "title": {
           "x": 0.05
          },
          "xaxis": {
           "automargin": true,
           "gridcolor": "white",
           "linecolor": "white",
           "ticks": "",
           "title": {
            "standoff": 15
           },
           "zerolinecolor": "white",
           "zerolinewidth": 2
          },
          "yaxis": {
           "automargin": true,
           "gridcolor": "white",
           "linecolor": "white",
           "ticks": "",
           "title": {
            "standoff": 15
           },
           "zerolinecolor": "white",
           "zerolinewidth": 2
          }
         }
        },
        "title": {
         "text": "Violin Plot: Age Distribution by Predicted Medal"
        },
        "violinmode": "overlay",
        "xaxis": {
         "anchor": "y",
         "categoryarray": [
          "Bronze",
          "Gold",
          "Silver"
         ],
         "categoryorder": "array",
         "domain": [
          0,
          1
         ],
         "title": {
          "text": "pred_medal"
         }
        },
        "yaxis": {
         "anchor": "x",
         "domain": [
          0,
          1
         ],
         "title": {
          "text": "Age"
         }
        }
       }
      }
     },
     "metadata": {},
     "output_type": "display_data"
    }
   ],
   "source": [
    "# Violin plot\n",
    "fig = px.violin(data, y='Age', x='pred_medal', color='pred_medal',\n",
    "                box=True, points=\"all\", hover_data=data.columns,\n",
    "                title='Violin Plot: Age Distribution by Predicted Medal')\n",
    "fig.show()\n"
   ]
  }
 ],
 "metadata": {
  "kernelspec": {
   "display_name": "base",
   "language": "python",
   "name": "python3"
  },
  "language_info": {
   "codemirror_mode": {
    "name": "ipython",
    "version": 3
   },
   "file_extension": ".py",
   "mimetype": "text/x-python",
   "name": "python",
   "nbconvert_exporter": "python",
   "pygments_lexer": "ipython3",
   "version": "3.11.5"
  }
 },
 "nbformat": 4,
 "nbformat_minor": 2
}
