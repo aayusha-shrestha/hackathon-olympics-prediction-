{
 "cells": [
  {
   "cell_type": "code",
   "execution_count": 104,
   "metadata": {},
   "outputs": [],
   "source": [
    "import pandas as pd\n",
    "import numpy as np\n",
    "import matplotlib.pyplot as plt\n",
    "import seaborn as sns\n",
    "import plotly.express as px\n",
    "import plotly.graph_objects as go"
   ]
  },
  {
   "cell_type": "code",
   "execution_count": 105,
   "metadata": {},
   "outputs": [],
   "source": [
    "import warnings\n",
    "warnings.filterwarnings(\"ignore\")"
   ]
  },
  {
   "cell_type": "code",
   "execution_count": 106,
   "metadata": {},
   "outputs": [],
   "source": [
    "from statsmodels.tsa.statespace.sarimax import SARIMAX"
   ]
  },
  {
   "cell_type": "code",
   "execution_count": 107,
   "metadata": {},
   "outputs": [],
   "source": [
    "df = pd.read_csv('../data/all_data/timeseries_data.csv')"
   ]
  },
  {
   "cell_type": "code",
   "execution_count": 108,
   "metadata": {},
   "outputs": [
    {
     "data": {
      "text/html": [
       "<div>\n",
       "<style scoped>\n",
       "    .dataframe tbody tr th:only-of-type {\n",
       "        vertical-align: middle;\n",
       "    }\n",
       "\n",
       "    .dataframe tbody tr th {\n",
       "        vertical-align: top;\n",
       "    }\n",
       "\n",
       "    .dataframe thead th {\n",
       "        text-align: right;\n",
       "    }\n",
       "</style>\n",
       "<table border=\"1\" class=\"dataframe\">\n",
       "  <thead>\n",
       "    <tr style=\"text-align: right;\">\n",
       "      <th></th>\n",
       "      <th>Unnamed: 0</th>\n",
       "      <th>Year</th>\n",
       "      <th>NOC</th>\n",
       "      <th>Athletes</th>\n",
       "      <th>Sports</th>\n",
       "      <th>Events</th>\n",
       "      <th>Gold</th>\n",
       "      <th>Silver</th>\n",
       "      <th>Bronze</th>\n",
       "      <th>Men</th>\n",
       "      <th>Women</th>\n",
       "    </tr>\n",
       "  </thead>\n",
       "  <tbody>\n",
       "    <tr>\n",
       "      <th>0</th>\n",
       "      <td>0</td>\n",
       "      <td>1960</td>\n",
       "      <td>AFG</td>\n",
       "      <td>16</td>\n",
       "      <td>2</td>\n",
       "      <td>13</td>\n",
       "      <td>0</td>\n",
       "      <td>0</td>\n",
       "      <td>0</td>\n",
       "      <td>16</td>\n",
       "      <td>0</td>\n",
       "    </tr>\n",
       "    <tr>\n",
       "      <th>1</th>\n",
       "      <td>1</td>\n",
       "      <td>1960</td>\n",
       "      <td>AHO</td>\n",
       "      <td>5</td>\n",
       "      <td>1</td>\n",
       "      <td>4</td>\n",
       "      <td>0</td>\n",
       "      <td>0</td>\n",
       "      <td>0</td>\n",
       "      <td>5</td>\n",
       "      <td>0</td>\n",
       "    </tr>\n",
       "    <tr>\n",
       "      <th>2</th>\n",
       "      <td>2</td>\n",
       "      <td>1960</td>\n",
       "      <td>ARG</td>\n",
       "      <td>116</td>\n",
       "      <td>15</td>\n",
       "      <td>54</td>\n",
       "      <td>0</td>\n",
       "      <td>3</td>\n",
       "      <td>1</td>\n",
       "      <td>115</td>\n",
       "      <td>1</td>\n",
       "    </tr>\n",
       "    <tr>\n",
       "      <th>3</th>\n",
       "      <td>3</td>\n",
       "      <td>1960</td>\n",
       "      <td>AUS</td>\n",
       "      <td>277</td>\n",
       "      <td>19</td>\n",
       "      <td>125</td>\n",
       "      <td>10</td>\n",
       "      <td>21</td>\n",
       "      <td>11</td>\n",
       "      <td>219</td>\n",
       "      <td>58</td>\n",
       "    </tr>\n",
       "    <tr>\n",
       "      <th>4</th>\n",
       "      <td>4</td>\n",
       "      <td>1960</td>\n",
       "      <td>AUT</td>\n",
       "      <td>141</td>\n",
       "      <td>18</td>\n",
       "      <td>83</td>\n",
       "      <td>1</td>\n",
       "      <td>2</td>\n",
       "      <td>0</td>\n",
       "      <td>96</td>\n",
       "      <td>45</td>\n",
       "    </tr>\n",
       "    <tr>\n",
       "      <th>...</th>\n",
       "      <td>...</td>\n",
       "      <td>...</td>\n",
       "      <td>...</td>\n",
       "      <td>...</td>\n",
       "      <td>...</td>\n",
       "      <td>...</td>\n",
       "      <td>...</td>\n",
       "      <td>...</td>\n",
       "      <td>...</td>\n",
       "      <td>...</td>\n",
       "      <td>...</td>\n",
       "    </tr>\n",
       "    <tr>\n",
       "      <th>2696</th>\n",
       "      <td>2696</td>\n",
       "      <td>2016</td>\n",
       "      <td>VIE</td>\n",
       "      <td>28</td>\n",
       "      <td>10</td>\n",
       "      <td>24</td>\n",
       "      <td>1</td>\n",
       "      <td>1</td>\n",
       "      <td>0</td>\n",
       "      <td>12</td>\n",
       "      <td>16</td>\n",
       "    </tr>\n",
       "    <tr>\n",
       "      <th>2697</th>\n",
       "      <td>2697</td>\n",
       "      <td>2016</td>\n",
       "      <td>VIN</td>\n",
       "      <td>2</td>\n",
       "      <td>1</td>\n",
       "      <td>2</td>\n",
       "      <td>0</td>\n",
       "      <td>0</td>\n",
       "      <td>0</td>\n",
       "      <td>1</td>\n",
       "      <td>1</td>\n",
       "    </tr>\n",
       "    <tr>\n",
       "      <th>2698</th>\n",
       "      <td>2698</td>\n",
       "      <td>2016</td>\n",
       "      <td>YEM</td>\n",
       "      <td>3</td>\n",
       "      <td>3</td>\n",
       "      <td>3</td>\n",
       "      <td>0</td>\n",
       "      <td>0</td>\n",
       "      <td>0</td>\n",
       "      <td>2</td>\n",
       "      <td>1</td>\n",
       "    </tr>\n",
       "    <tr>\n",
       "      <th>2699</th>\n",
       "      <td>2699</td>\n",
       "      <td>2016</td>\n",
       "      <td>ZAM</td>\n",
       "      <td>6</td>\n",
       "      <td>3</td>\n",
       "      <td>6</td>\n",
       "      <td>0</td>\n",
       "      <td>0</td>\n",
       "      <td>0</td>\n",
       "      <td>4</td>\n",
       "      <td>2</td>\n",
       "    </tr>\n",
       "    <tr>\n",
       "      <th>2700</th>\n",
       "      <td>2700</td>\n",
       "      <td>2016</td>\n",
       "      <td>ZIM</td>\n",
       "      <td>31</td>\n",
       "      <td>7</td>\n",
       "      <td>13</td>\n",
       "      <td>0</td>\n",
       "      <td>0</td>\n",
       "      <td>0</td>\n",
       "      <td>9</td>\n",
       "      <td>22</td>\n",
       "    </tr>\n",
       "  </tbody>\n",
       "</table>\n",
       "<p>2701 rows × 11 columns</p>\n",
       "</div>"
      ],
      "text/plain": [
       "      Unnamed: 0  Year  NOC  Athletes  Sports  Events  Gold  Silver  Bronze  \\\n",
       "0              0  1960  AFG        16       2      13     0       0       0   \n",
       "1              1  1960  AHO         5       1       4     0       0       0   \n",
       "2              2  1960  ARG       116      15      54     0       3       1   \n",
       "3              3  1960  AUS       277      19     125    10      21      11   \n",
       "4              4  1960  AUT       141      18      83     1       2       0   \n",
       "...          ...   ...  ...       ...     ...     ...   ...     ...     ...   \n",
       "2696        2696  2016  VIE        28      10      24     1       1       0   \n",
       "2697        2697  2016  VIN         2       1       2     0       0       0   \n",
       "2698        2698  2016  YEM         3       3       3     0       0       0   \n",
       "2699        2699  2016  ZAM         6       3       6     0       0       0   \n",
       "2700        2700  2016  ZIM        31       7      13     0       0       0   \n",
       "\n",
       "      Men  Women  \n",
       "0      16      0  \n",
       "1       5      0  \n",
       "2     115      1  \n",
       "3     219     58  \n",
       "4      96     45  \n",
       "...   ...    ...  \n",
       "2696   12     16  \n",
       "2697    1      1  \n",
       "2698    2      1  \n",
       "2699    4      2  \n",
       "2700    9     22  \n",
       "\n",
       "[2701 rows x 11 columns]"
      ]
     },
     "execution_count": 108,
     "metadata": {},
     "output_type": "execute_result"
    }
   ],
   "source": [
    "df"
   ]
  },
  {
   "cell_type": "code",
   "execution_count": 109,
   "metadata": {},
   "outputs": [],
   "source": [
    "df = df.drop(columns=['Unnamed: 0'])"
   ]
  },
  {
   "cell_type": "code",
   "execution_count": 110,
   "metadata": {},
   "outputs": [
    {
     "data": {
      "text/html": [
       "<div>\n",
       "<style scoped>\n",
       "    .dataframe tbody tr th:only-of-type {\n",
       "        vertical-align: middle;\n",
       "    }\n",
       "\n",
       "    .dataframe tbody tr th {\n",
       "        vertical-align: top;\n",
       "    }\n",
       "\n",
       "    .dataframe thead th {\n",
       "        text-align: right;\n",
       "    }\n",
       "</style>\n",
       "<table border=\"1\" class=\"dataframe\">\n",
       "  <thead>\n",
       "    <tr style=\"text-align: right;\">\n",
       "      <th></th>\n",
       "      <th>Year</th>\n",
       "      <th>NOC</th>\n",
       "      <th>Athletes</th>\n",
       "      <th>Sports</th>\n",
       "      <th>Events</th>\n",
       "      <th>Gold</th>\n",
       "      <th>Silver</th>\n",
       "      <th>Bronze</th>\n",
       "      <th>Men</th>\n",
       "      <th>Women</th>\n",
       "    </tr>\n",
       "  </thead>\n",
       "  <tbody>\n",
       "    <tr>\n",
       "      <th>0</th>\n",
       "      <td>1960</td>\n",
       "      <td>AFG</td>\n",
       "      <td>16</td>\n",
       "      <td>2</td>\n",
       "      <td>13</td>\n",
       "      <td>0</td>\n",
       "      <td>0</td>\n",
       "      <td>0</td>\n",
       "      <td>16</td>\n",
       "      <td>0</td>\n",
       "    </tr>\n",
       "    <tr>\n",
       "      <th>1</th>\n",
       "      <td>1960</td>\n",
       "      <td>AHO</td>\n",
       "      <td>5</td>\n",
       "      <td>1</td>\n",
       "      <td>4</td>\n",
       "      <td>0</td>\n",
       "      <td>0</td>\n",
       "      <td>0</td>\n",
       "      <td>5</td>\n",
       "      <td>0</td>\n",
       "    </tr>\n",
       "    <tr>\n",
       "      <th>2</th>\n",
       "      <td>1960</td>\n",
       "      <td>ARG</td>\n",
       "      <td>116</td>\n",
       "      <td>15</td>\n",
       "      <td>54</td>\n",
       "      <td>0</td>\n",
       "      <td>3</td>\n",
       "      <td>1</td>\n",
       "      <td>115</td>\n",
       "      <td>1</td>\n",
       "    </tr>\n",
       "    <tr>\n",
       "      <th>3</th>\n",
       "      <td>1960</td>\n",
       "      <td>AUS</td>\n",
       "      <td>277</td>\n",
       "      <td>19</td>\n",
       "      <td>125</td>\n",
       "      <td>10</td>\n",
       "      <td>21</td>\n",
       "      <td>11</td>\n",
       "      <td>219</td>\n",
       "      <td>58</td>\n",
       "    </tr>\n",
       "    <tr>\n",
       "      <th>4</th>\n",
       "      <td>1960</td>\n",
       "      <td>AUT</td>\n",
       "      <td>141</td>\n",
       "      <td>18</td>\n",
       "      <td>83</td>\n",
       "      <td>1</td>\n",
       "      <td>2</td>\n",
       "      <td>0</td>\n",
       "      <td>96</td>\n",
       "      <td>45</td>\n",
       "    </tr>\n",
       "    <tr>\n",
       "      <th>...</th>\n",
       "      <td>...</td>\n",
       "      <td>...</td>\n",
       "      <td>...</td>\n",
       "      <td>...</td>\n",
       "      <td>...</td>\n",
       "      <td>...</td>\n",
       "      <td>...</td>\n",
       "      <td>...</td>\n",
       "      <td>...</td>\n",
       "      <td>...</td>\n",
       "    </tr>\n",
       "    <tr>\n",
       "      <th>2696</th>\n",
       "      <td>2016</td>\n",
       "      <td>VIE</td>\n",
       "      <td>28</td>\n",
       "      <td>10</td>\n",
       "      <td>24</td>\n",
       "      <td>1</td>\n",
       "      <td>1</td>\n",
       "      <td>0</td>\n",
       "      <td>12</td>\n",
       "      <td>16</td>\n",
       "    </tr>\n",
       "    <tr>\n",
       "      <th>2697</th>\n",
       "      <td>2016</td>\n",
       "      <td>VIN</td>\n",
       "      <td>2</td>\n",
       "      <td>1</td>\n",
       "      <td>2</td>\n",
       "      <td>0</td>\n",
       "      <td>0</td>\n",
       "      <td>0</td>\n",
       "      <td>1</td>\n",
       "      <td>1</td>\n",
       "    </tr>\n",
       "    <tr>\n",
       "      <th>2698</th>\n",
       "      <td>2016</td>\n",
       "      <td>YEM</td>\n",
       "      <td>3</td>\n",
       "      <td>3</td>\n",
       "      <td>3</td>\n",
       "      <td>0</td>\n",
       "      <td>0</td>\n",
       "      <td>0</td>\n",
       "      <td>2</td>\n",
       "      <td>1</td>\n",
       "    </tr>\n",
       "    <tr>\n",
       "      <th>2699</th>\n",
       "      <td>2016</td>\n",
       "      <td>ZAM</td>\n",
       "      <td>6</td>\n",
       "      <td>3</td>\n",
       "      <td>6</td>\n",
       "      <td>0</td>\n",
       "      <td>0</td>\n",
       "      <td>0</td>\n",
       "      <td>4</td>\n",
       "      <td>2</td>\n",
       "    </tr>\n",
       "    <tr>\n",
       "      <th>2700</th>\n",
       "      <td>2016</td>\n",
       "      <td>ZIM</td>\n",
       "      <td>31</td>\n",
       "      <td>7</td>\n",
       "      <td>13</td>\n",
       "      <td>0</td>\n",
       "      <td>0</td>\n",
       "      <td>0</td>\n",
       "      <td>9</td>\n",
       "      <td>22</td>\n",
       "    </tr>\n",
       "  </tbody>\n",
       "</table>\n",
       "<p>2701 rows × 10 columns</p>\n",
       "</div>"
      ],
      "text/plain": [
       "      Year  NOC  Athletes  Sports  Events  Gold  Silver  Bronze  Men  Women\n",
       "0     1960  AFG        16       2      13     0       0       0   16      0\n",
       "1     1960  AHO         5       1       4     0       0       0    5      0\n",
       "2     1960  ARG       116      15      54     0       3       1  115      1\n",
       "3     1960  AUS       277      19     125    10      21      11  219     58\n",
       "4     1960  AUT       141      18      83     1       2       0   96     45\n",
       "...    ...  ...       ...     ...     ...   ...     ...     ...  ...    ...\n",
       "2696  2016  VIE        28      10      24     1       1       0   12     16\n",
       "2697  2016  VIN         2       1       2     0       0       0    1      1\n",
       "2698  2016  YEM         3       3       3     0       0       0    2      1\n",
       "2699  2016  ZAM         6       3       6     0       0       0    4      2\n",
       "2700  2016  ZIM        31       7      13     0       0       0    9     22\n",
       "\n",
       "[2701 rows x 10 columns]"
      ]
     },
     "execution_count": 110,
     "metadata": {},
     "output_type": "execute_result"
    }
   ],
   "source": [
    "df"
   ]
  },
  {
   "cell_type": "code",
   "execution_count": 111,
   "metadata": {},
   "outputs": [],
   "source": [
    "df['Year'] = pd.to_datetime(df['Year'], format='%Y')\n",
    "df.set_index('Year', inplace=True)"
   ]
  },
  {
   "cell_type": "code",
   "execution_count": 112,
   "metadata": {},
   "outputs": [],
   "source": [
    "usa_data = df[df['NOC'] == 'USA']"
   ]
  },
  {
   "cell_type": "code",
   "execution_count": 113,
   "metadata": {},
   "outputs": [],
   "source": [
    "usa_data['Total_Medals'] = usa_data['Gold'] + usa_data['Silver'] + usa_data['Bronze']"
   ]
  },
  {
   "cell_type": "code",
   "execution_count": 114,
   "metadata": {},
   "outputs": [
    {
     "data": {
      "text/html": [
       "<div>\n",
       "<style scoped>\n",
       "    .dataframe tbody tr th:only-of-type {\n",
       "        vertical-align: middle;\n",
       "    }\n",
       "\n",
       "    .dataframe tbody tr th {\n",
       "        vertical-align: top;\n",
       "    }\n",
       "\n",
       "    .dataframe thead th {\n",
       "        text-align: right;\n",
       "    }\n",
       "</style>\n",
       "<table border=\"1\" class=\"dataframe\">\n",
       "  <thead>\n",
       "    <tr style=\"text-align: right;\">\n",
       "      <th></th>\n",
       "      <th>NOC</th>\n",
       "      <th>Athletes</th>\n",
       "      <th>Sports</th>\n",
       "      <th>Events</th>\n",
       "      <th>Gold</th>\n",
       "      <th>Silver</th>\n",
       "      <th>Bronze</th>\n",
       "      <th>Men</th>\n",
       "      <th>Women</th>\n",
       "      <th>Total_Medals</th>\n",
       "    </tr>\n",
       "    <tr>\n",
       "      <th>Year</th>\n",
       "      <th></th>\n",
       "      <th></th>\n",
       "      <th></th>\n",
       "      <th></th>\n",
       "      <th></th>\n",
       "      <th></th>\n",
       "      <th></th>\n",
       "      <th></th>\n",
       "      <th></th>\n",
       "      <th></th>\n",
       "    </tr>\n",
       "  </thead>\n",
       "  <tbody>\n",
       "    <tr>\n",
       "      <th>1960-01-01</th>\n",
       "      <td>USA</td>\n",
       "      <td>474</td>\n",
       "      <td>23</td>\n",
       "      <td>164</td>\n",
       "      <td>97</td>\n",
       "      <td>24</td>\n",
       "      <td>22</td>\n",
       "      <td>361</td>\n",
       "      <td>113</td>\n",
       "      <td>143</td>\n",
       "    </tr>\n",
       "    <tr>\n",
       "      <th>1964-01-01</th>\n",
       "      <td>USA</td>\n",
       "      <td>619</td>\n",
       "      <td>29</td>\n",
       "      <td>190</td>\n",
       "      <td>96</td>\n",
       "      <td>39</td>\n",
       "      <td>42</td>\n",
       "      <td>452</td>\n",
       "      <td>167</td>\n",
       "      <td>177</td>\n",
       "    </tr>\n",
       "    <tr>\n",
       "      <th>1968-01-01</th>\n",
       "      <td>USA</td>\n",
       "      <td>664</td>\n",
       "      <td>28</td>\n",
       "      <td>199</td>\n",
       "      <td>100</td>\n",
       "      <td>37</td>\n",
       "      <td>36</td>\n",
       "      <td>480</td>\n",
       "      <td>184</td>\n",
       "      <td>173</td>\n",
       "    </tr>\n",
       "    <tr>\n",
       "      <th>1972-01-01</th>\n",
       "      <td>USA</td>\n",
       "      <td>719</td>\n",
       "      <td>31</td>\n",
       "      <td>216</td>\n",
       "      <td>72</td>\n",
       "      <td>77</td>\n",
       "      <td>46</td>\n",
       "      <td>521</td>\n",
       "      <td>198</td>\n",
       "      <td>195</td>\n",
       "    </tr>\n",
       "    <tr>\n",
       "      <th>1976-01-01</th>\n",
       "      <td>USA</td>\n",
       "      <td>660</td>\n",
       "      <td>29</td>\n",
       "      <td>225</td>\n",
       "      <td>73</td>\n",
       "      <td>61</td>\n",
       "      <td>40</td>\n",
       "      <td>446</td>\n",
       "      <td>214</td>\n",
       "      <td>174</td>\n",
       "    </tr>\n",
       "    <tr>\n",
       "      <th>1980-01-01</th>\n",
       "      <td>USA</td>\n",
       "      <td>144</td>\n",
       "      <td>10</td>\n",
       "      <td>38</td>\n",
       "      <td>24</td>\n",
       "      <td>4</td>\n",
       "      <td>1</td>\n",
       "      <td>103</td>\n",
       "      <td>41</td>\n",
       "      <td>29</td>\n",
       "    </tr>\n",
       "    <tr>\n",
       "      <th>1984-01-01</th>\n",
       "      <td>USA</td>\n",
       "      <td>842</td>\n",
       "      <td>35</td>\n",
       "      <td>255</td>\n",
       "      <td>190</td>\n",
       "      <td>121</td>\n",
       "      <td>50</td>\n",
       "      <td>538</td>\n",
       "      <td>304</td>\n",
       "      <td>361</td>\n",
       "    </tr>\n",
       "    <tr>\n",
       "      <th>1988-01-01</th>\n",
       "      <td>USA</td>\n",
       "      <td>896</td>\n",
       "      <td>37</td>\n",
       "      <td>274</td>\n",
       "      <td>89</td>\n",
       "      <td>67</td>\n",
       "      <td>58</td>\n",
       "      <td>549</td>\n",
       "      <td>347</td>\n",
       "      <td>214</td>\n",
       "    </tr>\n",
       "    <tr>\n",
       "      <th>1992-01-01</th>\n",
       "      <td>USA</td>\n",
       "      <td>955</td>\n",
       "      <td>40</td>\n",
       "      <td>303</td>\n",
       "      <td>94</td>\n",
       "      <td>57</td>\n",
       "      <td>86</td>\n",
       "      <td>594</td>\n",
       "      <td>361</td>\n",
       "      <td>237</td>\n",
       "    </tr>\n",
       "    <tr>\n",
       "      <th>1994-01-01</th>\n",
       "      <td>USA</td>\n",
       "      <td>232</td>\n",
       "      <td>12</td>\n",
       "      <td>59</td>\n",
       "      <td>6</td>\n",
       "      <td>8</td>\n",
       "      <td>5</td>\n",
       "      <td>144</td>\n",
       "      <td>88</td>\n",
       "      <td>19</td>\n",
       "    </tr>\n",
       "    <tr>\n",
       "      <th>1996-01-01</th>\n",
       "      <td>USA</td>\n",
       "      <td>742</td>\n",
       "      <td>30</td>\n",
       "      <td>253</td>\n",
       "      <td>148</td>\n",
       "      <td>43</td>\n",
       "      <td>50</td>\n",
       "      <td>434</td>\n",
       "      <td>308</td>\n",
       "      <td>241</td>\n",
       "    </tr>\n",
       "    <tr>\n",
       "      <th>1998-01-01</th>\n",
       "      <td>USA</td>\n",
       "      <td>283</td>\n",
       "      <td>14</td>\n",
       "      <td>68</td>\n",
       "      <td>25</td>\n",
       "      <td>4</td>\n",
       "      <td>5</td>\n",
       "      <td>157</td>\n",
       "      <td>126</td>\n",
       "      <td>34</td>\n",
       "    </tr>\n",
       "    <tr>\n",
       "      <th>2000-01-01</th>\n",
       "      <td>USA</td>\n",
       "      <td>759</td>\n",
       "      <td>31</td>\n",
       "      <td>265</td>\n",
       "      <td>130</td>\n",
       "      <td>61</td>\n",
       "      <td>50</td>\n",
       "      <td>423</td>\n",
       "      <td>336</td>\n",
       "      <td>241</td>\n",
       "    </tr>\n",
       "    <tr>\n",
       "      <th>2002-01-01</th>\n",
       "      <td>USA</td>\n",
       "      <td>311</td>\n",
       "      <td>15</td>\n",
       "      <td>78</td>\n",
       "      <td>10</td>\n",
       "      <td>58</td>\n",
       "      <td>15</td>\n",
       "      <td>178</td>\n",
       "      <td>133</td>\n",
       "      <td>83</td>\n",
       "    </tr>\n",
       "    <tr>\n",
       "      <th>2004-01-01</th>\n",
       "      <td>USA</td>\n",
       "      <td>723</td>\n",
       "      <td>31</td>\n",
       "      <td>254</td>\n",
       "      <td>117</td>\n",
       "      <td>75</td>\n",
       "      <td>70</td>\n",
       "      <td>385</td>\n",
       "      <td>338</td>\n",
       "      <td>262</td>\n",
       "    </tr>\n",
       "    <tr>\n",
       "      <th>2006-01-01</th>\n",
       "      <td>USA</td>\n",
       "      <td>324</td>\n",
       "      <td>15</td>\n",
       "      <td>83</td>\n",
       "      <td>9</td>\n",
       "      <td>11</td>\n",
       "      <td>32</td>\n",
       "      <td>187</td>\n",
       "      <td>137</td>\n",
       "      <td>52</td>\n",
       "    </tr>\n",
       "    <tr>\n",
       "      <th>2008-01-01</th>\n",
       "      <td>USA</td>\n",
       "      <td>756</td>\n",
       "      <td>32</td>\n",
       "      <td>258</td>\n",
       "      <td>127</td>\n",
       "      <td>110</td>\n",
       "      <td>79</td>\n",
       "      <td>390</td>\n",
       "      <td>366</td>\n",
       "      <td>316</td>\n",
       "    </tr>\n",
       "    <tr>\n",
       "      <th>2010-01-01</th>\n",
       "      <td>USA</td>\n",
       "      <td>341</td>\n",
       "      <td>15</td>\n",
       "      <td>84</td>\n",
       "      <td>12</td>\n",
       "      <td>63</td>\n",
       "      <td>22</td>\n",
       "      <td>196</td>\n",
       "      <td>145</td>\n",
       "      <td>97</td>\n",
       "    </tr>\n",
       "    <tr>\n",
       "      <th>2012-01-01</th>\n",
       "      <td>USA</td>\n",
       "      <td>689</td>\n",
       "      <td>31</td>\n",
       "      <td>245</td>\n",
       "      <td>145</td>\n",
       "      <td>57</td>\n",
       "      <td>46</td>\n",
       "      <td>346</td>\n",
       "      <td>343</td>\n",
       "      <td>248</td>\n",
       "    </tr>\n",
       "    <tr>\n",
       "      <th>2014-01-01</th>\n",
       "      <td>USA</td>\n",
       "      <td>367</td>\n",
       "      <td>15</td>\n",
       "      <td>94</td>\n",
       "      <td>10</td>\n",
       "      <td>30</td>\n",
       "      <td>24</td>\n",
       "      <td>209</td>\n",
       "      <td>158</td>\n",
       "      <td>64</td>\n",
       "    </tr>\n",
       "    <tr>\n",
       "      <th>2016-01-01</th>\n",
       "      <td>USA</td>\n",
       "      <td>718</td>\n",
       "      <td>33</td>\n",
       "      <td>245</td>\n",
       "      <td>138</td>\n",
       "      <td>54</td>\n",
       "      <td>71</td>\n",
       "      <td>349</td>\n",
       "      <td>369</td>\n",
       "      <td>263</td>\n",
       "    </tr>\n",
       "  </tbody>\n",
       "</table>\n",
       "</div>"
      ],
      "text/plain": [
       "            NOC  Athletes  Sports  Events  Gold  Silver  Bronze  Men  Women  \\\n",
       "Year                                                                          \n",
       "1960-01-01  USA       474      23     164    97      24      22  361    113   \n",
       "1964-01-01  USA       619      29     190    96      39      42  452    167   \n",
       "1968-01-01  USA       664      28     199   100      37      36  480    184   \n",
       "1972-01-01  USA       719      31     216    72      77      46  521    198   \n",
       "1976-01-01  USA       660      29     225    73      61      40  446    214   \n",
       "1980-01-01  USA       144      10      38    24       4       1  103     41   \n",
       "1984-01-01  USA       842      35     255   190     121      50  538    304   \n",
       "1988-01-01  USA       896      37     274    89      67      58  549    347   \n",
       "1992-01-01  USA       955      40     303    94      57      86  594    361   \n",
       "1994-01-01  USA       232      12      59     6       8       5  144     88   \n",
       "1996-01-01  USA       742      30     253   148      43      50  434    308   \n",
       "1998-01-01  USA       283      14      68    25       4       5  157    126   \n",
       "2000-01-01  USA       759      31     265   130      61      50  423    336   \n",
       "2002-01-01  USA       311      15      78    10      58      15  178    133   \n",
       "2004-01-01  USA       723      31     254   117      75      70  385    338   \n",
       "2006-01-01  USA       324      15      83     9      11      32  187    137   \n",
       "2008-01-01  USA       756      32     258   127     110      79  390    366   \n",
       "2010-01-01  USA       341      15      84    12      63      22  196    145   \n",
       "2012-01-01  USA       689      31     245   145      57      46  346    343   \n",
       "2014-01-01  USA       367      15      94    10      30      24  209    158   \n",
       "2016-01-01  USA       718      33     245   138      54      71  349    369   \n",
       "\n",
       "            Total_Medals  \n",
       "Year                      \n",
       "1960-01-01           143  \n",
       "1964-01-01           177  \n",
       "1968-01-01           173  \n",
       "1972-01-01           195  \n",
       "1976-01-01           174  \n",
       "1980-01-01            29  \n",
       "1984-01-01           361  \n",
       "1988-01-01           214  \n",
       "1992-01-01           237  \n",
       "1994-01-01            19  \n",
       "1996-01-01           241  \n",
       "1998-01-01            34  \n",
       "2000-01-01           241  \n",
       "2002-01-01            83  \n",
       "2004-01-01           262  \n",
       "2006-01-01            52  \n",
       "2008-01-01           316  \n",
       "2010-01-01            97  \n",
       "2012-01-01           248  \n",
       "2014-01-01            64  \n",
       "2016-01-01           263  "
      ]
     },
     "execution_count": 114,
     "metadata": {},
     "output_type": "execute_result"
    }
   ],
   "source": [
    "usa_data"
   ]
  },
  {
   "cell_type": "code",
   "execution_count": 115,
   "metadata": {},
   "outputs": [],
   "source": [
    "usa_data = usa_data.drop(columns=['NOC'])"
   ]
  },
  {
   "cell_type": "markdown",
   "metadata": {},
   "source": [
    "## Hisorical Athlete Participation"
   ]
  },
  {
   "cell_type": "code",
   "execution_count": 116,
   "metadata": {},
   "outputs": [
    {
     "data": {
      "application/vnd.plotly.v1+json": {
       "config": {
        "plotlyServerURL": "https://plot.ly"
       },
       "data": [
        {
         "line": {
          "color": "green"
         },
         "mode": "lines+markers",
         "name": "Sports",
         "type": "scatter",
         "x": [
          "1960-01-01T00:00:00",
          "1964-01-01T00:00:00",
          "1968-01-01T00:00:00",
          "1972-01-01T00:00:00",
          "1976-01-01T00:00:00",
          "1980-01-01T00:00:00",
          "1984-01-01T00:00:00",
          "1988-01-01T00:00:00",
          "1992-01-01T00:00:00",
          "1994-01-01T00:00:00",
          "1996-01-01T00:00:00",
          "1998-01-01T00:00:00",
          "2000-01-01T00:00:00",
          "2002-01-01T00:00:00",
          "2004-01-01T00:00:00",
          "2006-01-01T00:00:00",
          "2008-01-01T00:00:00",
          "2010-01-01T00:00:00",
          "2012-01-01T00:00:00",
          "2014-01-01T00:00:00",
          "2016-01-01T00:00:00"
         ],
         "y": [
          23,
          29,
          28,
          31,
          29,
          10,
          35,
          37,
          40,
          12,
          30,
          14,
          31,
          15,
          31,
          15,
          32,
          15,
          31,
          15,
          33
         ]
        },
        {
         "line": {
          "color": "red"
         },
         "mode": "lines+markers",
         "name": "Events",
         "type": "scatter",
         "x": [
          "1960-01-01T00:00:00",
          "1964-01-01T00:00:00",
          "1968-01-01T00:00:00",
          "1972-01-01T00:00:00",
          "1976-01-01T00:00:00",
          "1980-01-01T00:00:00",
          "1984-01-01T00:00:00",
          "1988-01-01T00:00:00",
          "1992-01-01T00:00:00",
          "1994-01-01T00:00:00",
          "1996-01-01T00:00:00",
          "1998-01-01T00:00:00",
          "2000-01-01T00:00:00",
          "2002-01-01T00:00:00",
          "2004-01-01T00:00:00",
          "2006-01-01T00:00:00",
          "2008-01-01T00:00:00",
          "2010-01-01T00:00:00",
          "2012-01-01T00:00:00",
          "2014-01-01T00:00:00",
          "2016-01-01T00:00:00"
         ],
         "y": [
          164,
          190,
          199,
          216,
          225,
          38,
          255,
          274,
          303,
          59,
          253,
          68,
          265,
          78,
          254,
          83,
          258,
          84,
          245,
          94,
          245
         ]
        },
        {
         "line": {
          "color": "purple"
         },
         "mode": "lines+markers",
         "name": "Total Medals",
         "type": "scatter",
         "x": [
          "1960-01-01T00:00:00",
          "1964-01-01T00:00:00",
          "1968-01-01T00:00:00",
          "1972-01-01T00:00:00",
          "1976-01-01T00:00:00",
          "1980-01-01T00:00:00",
          "1984-01-01T00:00:00",
          "1988-01-01T00:00:00",
          "1992-01-01T00:00:00",
          "1994-01-01T00:00:00",
          "1996-01-01T00:00:00",
          "1998-01-01T00:00:00",
          "2000-01-01T00:00:00",
          "2002-01-01T00:00:00",
          "2004-01-01T00:00:00",
          "2006-01-01T00:00:00",
          "2008-01-01T00:00:00",
          "2010-01-01T00:00:00",
          "2012-01-01T00:00:00",
          "2014-01-01T00:00:00",
          "2016-01-01T00:00:00"
         ],
         "y": [
          143,
          177,
          173,
          195,
          174,
          29,
          361,
          214,
          237,
          19,
          241,
          34,
          241,
          83,
          262,
          52,
          316,
          97,
          248,
          64,
          263
         ]
        }
       ],
       "layout": {
        "legend": {
         "title": {
          "text": "Metrics"
         }
        },
        "template": {
         "data": {
          "bar": [
           {
            "error_x": {
             "color": "#2a3f5f"
            },
            "error_y": {
             "color": "#2a3f5f"
            },
            "marker": {
             "line": {
              "color": "white",
              "width": 0.5
             },
             "pattern": {
              "fillmode": "overlay",
              "size": 10,
              "solidity": 0.2
             }
            },
            "type": "bar"
           }
          ],
          "barpolar": [
           {
            "marker": {
             "line": {
              "color": "white",
              "width": 0.5
             },
             "pattern": {
              "fillmode": "overlay",
              "size": 10,
              "solidity": 0.2
             }
            },
            "type": "barpolar"
           }
          ],
          "carpet": [
           {
            "aaxis": {
             "endlinecolor": "#2a3f5f",
             "gridcolor": "#C8D4E3",
             "linecolor": "#C8D4E3",
             "minorgridcolor": "#C8D4E3",
             "startlinecolor": "#2a3f5f"
            },
            "baxis": {
             "endlinecolor": "#2a3f5f",
             "gridcolor": "#C8D4E3",
             "linecolor": "#C8D4E3",
             "minorgridcolor": "#C8D4E3",
             "startlinecolor": "#2a3f5f"
            },
            "type": "carpet"
           }
          ],
          "choropleth": [
           {
            "colorbar": {
             "outlinewidth": 0,
             "ticks": ""
            },
            "type": "choropleth"
           }
          ],
          "contour": [
           {
            "colorbar": {
             "outlinewidth": 0,
             "ticks": ""
            },
            "colorscale": [
             [
              0,
              "#0d0887"
             ],
             [
              0.1111111111111111,
              "#46039f"
             ],
             [
              0.2222222222222222,
              "#7201a8"
             ],
             [
              0.3333333333333333,
              "#9c179e"
             ],
             [
              0.4444444444444444,
              "#bd3786"
             ],
             [
              0.5555555555555556,
              "#d8576b"
             ],
             [
              0.6666666666666666,
              "#ed7953"
             ],
             [
              0.7777777777777778,
              "#fb9f3a"
             ],
             [
              0.8888888888888888,
              "#fdca26"
             ],
             [
              1,
              "#f0f921"
             ]
            ],
            "type": "contour"
           }
          ],
          "contourcarpet": [
           {
            "colorbar": {
             "outlinewidth": 0,
             "ticks": ""
            },
            "type": "contourcarpet"
           }
          ],
          "heatmap": [
           {
            "colorbar": {
             "outlinewidth": 0,
             "ticks": ""
            },
            "colorscale": [
             [
              0,
              "#0d0887"
             ],
             [
              0.1111111111111111,
              "#46039f"
             ],
             [
              0.2222222222222222,
              "#7201a8"
             ],
             [
              0.3333333333333333,
              "#9c179e"
             ],
             [
              0.4444444444444444,
              "#bd3786"
             ],
             [
              0.5555555555555556,
              "#d8576b"
             ],
             [
              0.6666666666666666,
              "#ed7953"
             ],
             [
              0.7777777777777778,
              "#fb9f3a"
             ],
             [
              0.8888888888888888,
              "#fdca26"
             ],
             [
              1,
              "#f0f921"
             ]
            ],
            "type": "heatmap"
           }
          ],
          "heatmapgl": [
           {
            "colorbar": {
             "outlinewidth": 0,
             "ticks": ""
            },
            "colorscale": [
             [
              0,
              "#0d0887"
             ],
             [
              0.1111111111111111,
              "#46039f"
             ],
             [
              0.2222222222222222,
              "#7201a8"
             ],
             [
              0.3333333333333333,
              "#9c179e"
             ],
             [
              0.4444444444444444,
              "#bd3786"
             ],
             [
              0.5555555555555556,
              "#d8576b"
             ],
             [
              0.6666666666666666,
              "#ed7953"
             ],
             [
              0.7777777777777778,
              "#fb9f3a"
             ],
             [
              0.8888888888888888,
              "#fdca26"
             ],
             [
              1,
              "#f0f921"
             ]
            ],
            "type": "heatmapgl"
           }
          ],
          "histogram": [
           {
            "marker": {
             "pattern": {
              "fillmode": "overlay",
              "size": 10,
              "solidity": 0.2
             }
            },
            "type": "histogram"
           }
          ],
          "histogram2d": [
           {
            "colorbar": {
             "outlinewidth": 0,
             "ticks": ""
            },
            "colorscale": [
             [
              0,
              "#0d0887"
             ],
             [
              0.1111111111111111,
              "#46039f"
             ],
             [
              0.2222222222222222,
              "#7201a8"
             ],
             [
              0.3333333333333333,
              "#9c179e"
             ],
             [
              0.4444444444444444,
              "#bd3786"
             ],
             [
              0.5555555555555556,
              "#d8576b"
             ],
             [
              0.6666666666666666,
              "#ed7953"
             ],
             [
              0.7777777777777778,
              "#fb9f3a"
             ],
             [
              0.8888888888888888,
              "#fdca26"
             ],
             [
              1,
              "#f0f921"
             ]
            ],
            "type": "histogram2d"
           }
          ],
          "histogram2dcontour": [
           {
            "colorbar": {
             "outlinewidth": 0,
             "ticks": ""
            },
            "colorscale": [
             [
              0,
              "#0d0887"
             ],
             [
              0.1111111111111111,
              "#46039f"
             ],
             [
              0.2222222222222222,
              "#7201a8"
             ],
             [
              0.3333333333333333,
              "#9c179e"
             ],
             [
              0.4444444444444444,
              "#bd3786"
             ],
             [
              0.5555555555555556,
              "#d8576b"
             ],
             [
              0.6666666666666666,
              "#ed7953"
             ],
             [
              0.7777777777777778,
              "#fb9f3a"
             ],
             [
              0.8888888888888888,
              "#fdca26"
             ],
             [
              1,
              "#f0f921"
             ]
            ],
            "type": "histogram2dcontour"
           }
          ],
          "mesh3d": [
           {
            "colorbar": {
             "outlinewidth": 0,
             "ticks": ""
            },
            "type": "mesh3d"
           }
          ],
          "parcoords": [
           {
            "line": {
             "colorbar": {
              "outlinewidth": 0,
              "ticks": ""
             }
            },
            "type": "parcoords"
           }
          ],
          "pie": [
           {
            "automargin": true,
            "type": "pie"
           }
          ],
          "scatter": [
           {
            "fillpattern": {
             "fillmode": "overlay",
             "size": 10,
             "solidity": 0.2
            },
            "type": "scatter"
           }
          ],
          "scatter3d": [
           {
            "line": {
             "colorbar": {
              "outlinewidth": 0,
              "ticks": ""
             }
            },
            "marker": {
             "colorbar": {
              "outlinewidth": 0,
              "ticks": ""
             }
            },
            "type": "scatter3d"
           }
          ],
          "scattercarpet": [
           {
            "marker": {
             "colorbar": {
              "outlinewidth": 0,
              "ticks": ""
             }
            },
            "type": "scattercarpet"
           }
          ],
          "scattergeo": [
           {
            "marker": {
             "colorbar": {
              "outlinewidth": 0,
              "ticks": ""
             }
            },
            "type": "scattergeo"
           }
          ],
          "scattergl": [
           {
            "marker": {
             "colorbar": {
              "outlinewidth": 0,
              "ticks": ""
             }
            },
            "type": "scattergl"
           }
          ],
          "scattermapbox": [
           {
            "marker": {
             "colorbar": {
              "outlinewidth": 0,
              "ticks": ""
             }
            },
            "type": "scattermapbox"
           }
          ],
          "scatterpolar": [
           {
            "marker": {
             "colorbar": {
              "outlinewidth": 0,
              "ticks": ""
             }
            },
            "type": "scatterpolar"
           }
          ],
          "scatterpolargl": [
           {
            "marker": {
             "colorbar": {
              "outlinewidth": 0,
              "ticks": ""
             }
            },
            "type": "scatterpolargl"
           }
          ],
          "scatterternary": [
           {
            "marker": {
             "colorbar": {
              "outlinewidth": 0,
              "ticks": ""
             }
            },
            "type": "scatterternary"
           }
          ],
          "surface": [
           {
            "colorbar": {
             "outlinewidth": 0,
             "ticks": ""
            },
            "colorscale": [
             [
              0,
              "#0d0887"
             ],
             [
              0.1111111111111111,
              "#46039f"
             ],
             [
              0.2222222222222222,
              "#7201a8"
             ],
             [
              0.3333333333333333,
              "#9c179e"
             ],
             [
              0.4444444444444444,
              "#bd3786"
             ],
             [
              0.5555555555555556,
              "#d8576b"
             ],
             [
              0.6666666666666666,
              "#ed7953"
             ],
             [
              0.7777777777777778,
              "#fb9f3a"
             ],
             [
              0.8888888888888888,
              "#fdca26"
             ],
             [
              1,
              "#f0f921"
             ]
            ],
            "type": "surface"
           }
          ],
          "table": [
           {
            "cells": {
             "fill": {
              "color": "#EBF0F8"
             },
             "line": {
              "color": "white"
             }
            },
            "header": {
             "fill": {
              "color": "#C8D4E3"
             },
             "line": {
              "color": "white"
             }
            },
            "type": "table"
           }
          ]
         },
         "layout": {
          "annotationdefaults": {
           "arrowcolor": "#2a3f5f",
           "arrowhead": 0,
           "arrowwidth": 1
          },
          "autotypenumbers": "strict",
          "coloraxis": {
           "colorbar": {
            "outlinewidth": 0,
            "ticks": ""
           }
          },
          "colorscale": {
           "diverging": [
            [
             0,
             "#8e0152"
            ],
            [
             0.1,
             "#c51b7d"
            ],
            [
             0.2,
             "#de77ae"
            ],
            [
             0.3,
             "#f1b6da"
            ],
            [
             0.4,
             "#fde0ef"
            ],
            [
             0.5,
             "#f7f7f7"
            ],
            [
             0.6,
             "#e6f5d0"
            ],
            [
             0.7,
             "#b8e186"
            ],
            [
             0.8,
             "#7fbc41"
            ],
            [
             0.9,
             "#4d9221"
            ],
            [
             1,
             "#276419"
            ]
           ],
           "sequential": [
            [
             0,
             "#0d0887"
            ],
            [
             0.1111111111111111,
             "#46039f"
            ],
            [
             0.2222222222222222,
             "#7201a8"
            ],
            [
             0.3333333333333333,
             "#9c179e"
            ],
            [
             0.4444444444444444,
             "#bd3786"
            ],
            [
             0.5555555555555556,
             "#d8576b"
            ],
            [
             0.6666666666666666,
             "#ed7953"
            ],
            [
             0.7777777777777778,
             "#fb9f3a"
            ],
            [
             0.8888888888888888,
             "#fdca26"
            ],
            [
             1,
             "#f0f921"
            ]
           ],
           "sequentialminus": [
            [
             0,
             "#0d0887"
            ],
            [
             0.1111111111111111,
             "#46039f"
            ],
            [
             0.2222222222222222,
             "#7201a8"
            ],
            [
             0.3333333333333333,
             "#9c179e"
            ],
            [
             0.4444444444444444,
             "#bd3786"
            ],
            [
             0.5555555555555556,
             "#d8576b"
            ],
            [
             0.6666666666666666,
             "#ed7953"
            ],
            [
             0.7777777777777778,
             "#fb9f3a"
            ],
            [
             0.8888888888888888,
             "#fdca26"
            ],
            [
             1,
             "#f0f921"
            ]
           ]
          },
          "colorway": [
           "#636efa",
           "#EF553B",
           "#00cc96",
           "#ab63fa",
           "#FFA15A",
           "#19d3f3",
           "#FF6692",
           "#B6E880",
           "#FF97FF",
           "#FECB52"
          ],
          "font": {
           "color": "#2a3f5f"
          },
          "geo": {
           "bgcolor": "white",
           "lakecolor": "white",
           "landcolor": "white",
           "showlakes": true,
           "showland": true,
           "subunitcolor": "#C8D4E3"
          },
          "hoverlabel": {
           "align": "left"
          },
          "hovermode": "closest",
          "mapbox": {
           "style": "light"
          },
          "paper_bgcolor": "white",
          "plot_bgcolor": "white",
          "polar": {
           "angularaxis": {
            "gridcolor": "#EBF0F8",
            "linecolor": "#EBF0F8",
            "ticks": ""
           },
           "bgcolor": "white",
           "radialaxis": {
            "gridcolor": "#EBF0F8",
            "linecolor": "#EBF0F8",
            "ticks": ""
           }
          },
          "scene": {
           "xaxis": {
            "backgroundcolor": "white",
            "gridcolor": "#DFE8F3",
            "gridwidth": 2,
            "linecolor": "#EBF0F8",
            "showbackground": true,
            "ticks": "",
            "zerolinecolor": "#EBF0F8"
           },
           "yaxis": {
            "backgroundcolor": "white",
            "gridcolor": "#DFE8F3",
            "gridwidth": 2,
            "linecolor": "#EBF0F8",
            "showbackground": true,
            "ticks": "",
            "zerolinecolor": "#EBF0F8"
           },
           "zaxis": {
            "backgroundcolor": "white",
            "gridcolor": "#DFE8F3",
            "gridwidth": 2,
            "linecolor": "#EBF0F8",
            "showbackground": true,
            "ticks": "",
            "zerolinecolor": "#EBF0F8"
           }
          },
          "shapedefaults": {
           "line": {
            "color": "#2a3f5f"
           }
          },
          "ternary": {
           "aaxis": {
            "gridcolor": "#DFE8F3",
            "linecolor": "#A2B1C6",
            "ticks": ""
           },
           "baxis": {
            "gridcolor": "#DFE8F3",
            "linecolor": "#A2B1C6",
            "ticks": ""
           },
           "bgcolor": "white",
           "caxis": {
            "gridcolor": "#DFE8F3",
            "linecolor": "#A2B1C6",
            "ticks": ""
           }
          },
          "title": {
           "x": 0.05
          },
          "xaxis": {
           "automargin": true,
           "gridcolor": "#EBF0F8",
           "linecolor": "#EBF0F8",
           "ticks": "",
           "title": {
            "standoff": 15
           },
           "zerolinecolor": "#EBF0F8",
           "zerolinewidth": 2
          },
          "yaxis": {
           "automargin": true,
           "gridcolor": "#EBF0F8",
           "linecolor": "#EBF0F8",
           "ticks": "",
           "title": {
            "standoff": 15
           },
           "zerolinecolor": "#EBF0F8",
           "zerolinewidth": 2
          }
         }
        },
        "title": {
         "text": "Historical Athlete Participation for USA"
        },
        "xaxis": {
         "title": {
          "text": "Year"
         }
        },
        "yaxis": {
         "title": {
          "text": "Count"
         }
        }
       }
      }
     },
     "metadata": {},
     "output_type": "display_data"
    }
   ],
   "source": [
    "fig1 = go.Figure()\n",
    "\n",
    "# Add traces for Athletes, Sports, Events, and Total Medals\n",
    "fig1.add_trace(go.Scatter(x=usa_data.index, y=usa_data['Sports'], mode='lines+markers', name='Sports', line=dict(color='green')))\n",
    "fig1.add_trace(go.Scatter(x=usa_data.index, y=usa_data['Events'], mode='lines+markers', name='Events', line=dict(color='red')))\n",
    "fig1.add_trace(go.Scatter(x=usa_data.index, y=usa_data['Total_Medals'], mode='lines+markers', name='Total Medals', line=dict(color='purple')))\n",
    "\n",
    "# Set title and labels\n",
    "fig1.update_layout(\n",
    "    title='Historical Athlete Participation for USA',\n",
    "    xaxis_title='Year',\n",
    "    yaxis_title='Count',\n",
    "    legend_title='Metrics',\n",
    "    template='plotly_white'\n",
    ")\n",
    "\n",
    "# Show the plot\n",
    "fig1.show()\n"
   ]
  },
  {
   "cell_type": "code",
   "execution_count": 117,
   "metadata": {},
   "outputs": [
    {
     "data": {
      "application/vnd.plotly.v1+json": {
       "config": {
        "plotlyServerURL": "https://plot.ly"
       },
       "data": [
        {
         "line": {
          "color": "gold"
         },
         "mode": "lines+markers",
         "name": "Gold Medals",
         "type": "scatter",
         "x": [
          "1960-01-01T00:00:00",
          "1964-01-01T00:00:00",
          "1968-01-01T00:00:00",
          "1972-01-01T00:00:00",
          "1976-01-01T00:00:00",
          "1980-01-01T00:00:00",
          "1984-01-01T00:00:00",
          "1988-01-01T00:00:00",
          "1992-01-01T00:00:00",
          "1994-01-01T00:00:00",
          "1996-01-01T00:00:00",
          "1998-01-01T00:00:00",
          "2000-01-01T00:00:00",
          "2002-01-01T00:00:00",
          "2004-01-01T00:00:00",
          "2006-01-01T00:00:00",
          "2008-01-01T00:00:00",
          "2010-01-01T00:00:00",
          "2012-01-01T00:00:00",
          "2014-01-01T00:00:00",
          "2016-01-01T00:00:00"
         ],
         "y": [
          97,
          96,
          100,
          72,
          73,
          24,
          190,
          89,
          94,
          6,
          148,
          25,
          130,
          10,
          117,
          9,
          127,
          12,
          145,
          10,
          138
         ]
        },
        {
         "line": {
          "color": "silver"
         },
         "mode": "lines+markers",
         "name": "Silver Medals",
         "type": "scatter",
         "x": [
          "1960-01-01T00:00:00",
          "1964-01-01T00:00:00",
          "1968-01-01T00:00:00",
          "1972-01-01T00:00:00",
          "1976-01-01T00:00:00",
          "1980-01-01T00:00:00",
          "1984-01-01T00:00:00",
          "1988-01-01T00:00:00",
          "1992-01-01T00:00:00",
          "1994-01-01T00:00:00",
          "1996-01-01T00:00:00",
          "1998-01-01T00:00:00",
          "2000-01-01T00:00:00",
          "2002-01-01T00:00:00",
          "2004-01-01T00:00:00",
          "2006-01-01T00:00:00",
          "2008-01-01T00:00:00",
          "2010-01-01T00:00:00",
          "2012-01-01T00:00:00",
          "2014-01-01T00:00:00",
          "2016-01-01T00:00:00"
         ],
         "y": [
          24,
          39,
          37,
          77,
          61,
          4,
          121,
          67,
          57,
          8,
          43,
          4,
          61,
          58,
          75,
          11,
          110,
          63,
          57,
          30,
          54
         ]
        },
        {
         "line": {
          "color": "brown"
         },
         "mode": "lines+markers",
         "name": "Bronze Medals",
         "type": "scatter",
         "x": [
          "1960-01-01T00:00:00",
          "1964-01-01T00:00:00",
          "1968-01-01T00:00:00",
          "1972-01-01T00:00:00",
          "1976-01-01T00:00:00",
          "1980-01-01T00:00:00",
          "1984-01-01T00:00:00",
          "1988-01-01T00:00:00",
          "1992-01-01T00:00:00",
          "1994-01-01T00:00:00",
          "1996-01-01T00:00:00",
          "1998-01-01T00:00:00",
          "2000-01-01T00:00:00",
          "2002-01-01T00:00:00",
          "2004-01-01T00:00:00",
          "2006-01-01T00:00:00",
          "2008-01-01T00:00:00",
          "2010-01-01T00:00:00",
          "2012-01-01T00:00:00",
          "2014-01-01T00:00:00",
          "2016-01-01T00:00:00"
         ],
         "y": [
          22,
          42,
          36,
          46,
          40,
          1,
          50,
          58,
          86,
          5,
          50,
          5,
          50,
          15,
          70,
          32,
          79,
          22,
          46,
          24,
          71
         ]
        }
       ],
       "layout": {
        "legend": {
         "title": {
          "text": "Medal Type"
         }
        },
        "template": {
         "data": {
          "bar": [
           {
            "error_x": {
             "color": "#2a3f5f"
            },
            "error_y": {
             "color": "#2a3f5f"
            },
            "marker": {
             "line": {
              "color": "white",
              "width": 0.5
             },
             "pattern": {
              "fillmode": "overlay",
              "size": 10,
              "solidity": 0.2
             }
            },
            "type": "bar"
           }
          ],
          "barpolar": [
           {
            "marker": {
             "line": {
              "color": "white",
              "width": 0.5
             },
             "pattern": {
              "fillmode": "overlay",
              "size": 10,
              "solidity": 0.2
             }
            },
            "type": "barpolar"
           }
          ],
          "carpet": [
           {
            "aaxis": {
             "endlinecolor": "#2a3f5f",
             "gridcolor": "#C8D4E3",
             "linecolor": "#C8D4E3",
             "minorgridcolor": "#C8D4E3",
             "startlinecolor": "#2a3f5f"
            },
            "baxis": {
             "endlinecolor": "#2a3f5f",
             "gridcolor": "#C8D4E3",
             "linecolor": "#C8D4E3",
             "minorgridcolor": "#C8D4E3",
             "startlinecolor": "#2a3f5f"
            },
            "type": "carpet"
           }
          ],
          "choropleth": [
           {
            "colorbar": {
             "outlinewidth": 0,
             "ticks": ""
            },
            "type": "choropleth"
           }
          ],
          "contour": [
           {
            "colorbar": {
             "outlinewidth": 0,
             "ticks": ""
            },
            "colorscale": [
             [
              0,
              "#0d0887"
             ],
             [
              0.1111111111111111,
              "#46039f"
             ],
             [
              0.2222222222222222,
              "#7201a8"
             ],
             [
              0.3333333333333333,
              "#9c179e"
             ],
             [
              0.4444444444444444,
              "#bd3786"
             ],
             [
              0.5555555555555556,
              "#d8576b"
             ],
             [
              0.6666666666666666,
              "#ed7953"
             ],
             [
              0.7777777777777778,
              "#fb9f3a"
             ],
             [
              0.8888888888888888,
              "#fdca26"
             ],
             [
              1,
              "#f0f921"
             ]
            ],
            "type": "contour"
           }
          ],
          "contourcarpet": [
           {
            "colorbar": {
             "outlinewidth": 0,
             "ticks": ""
            },
            "type": "contourcarpet"
           }
          ],
          "heatmap": [
           {
            "colorbar": {
             "outlinewidth": 0,
             "ticks": ""
            },
            "colorscale": [
             [
              0,
              "#0d0887"
             ],
             [
              0.1111111111111111,
              "#46039f"
             ],
             [
              0.2222222222222222,
              "#7201a8"
             ],
             [
              0.3333333333333333,
              "#9c179e"
             ],
             [
              0.4444444444444444,
              "#bd3786"
             ],
             [
              0.5555555555555556,
              "#d8576b"
             ],
             [
              0.6666666666666666,
              "#ed7953"
             ],
             [
              0.7777777777777778,
              "#fb9f3a"
             ],
             [
              0.8888888888888888,
              "#fdca26"
             ],
             [
              1,
              "#f0f921"
             ]
            ],
            "type": "heatmap"
           }
          ],
          "heatmapgl": [
           {
            "colorbar": {
             "outlinewidth": 0,
             "ticks": ""
            },
            "colorscale": [
             [
              0,
              "#0d0887"
             ],
             [
              0.1111111111111111,
              "#46039f"
             ],
             [
              0.2222222222222222,
              "#7201a8"
             ],
             [
              0.3333333333333333,
              "#9c179e"
             ],
             [
              0.4444444444444444,
              "#bd3786"
             ],
             [
              0.5555555555555556,
              "#d8576b"
             ],
             [
              0.6666666666666666,
              "#ed7953"
             ],
             [
              0.7777777777777778,
              "#fb9f3a"
             ],
             [
              0.8888888888888888,
              "#fdca26"
             ],
             [
              1,
              "#f0f921"
             ]
            ],
            "type": "heatmapgl"
           }
          ],
          "histogram": [
           {
            "marker": {
             "pattern": {
              "fillmode": "overlay",
              "size": 10,
              "solidity": 0.2
             }
            },
            "type": "histogram"
           }
          ],
          "histogram2d": [
           {
            "colorbar": {
             "outlinewidth": 0,
             "ticks": ""
            },
            "colorscale": [
             [
              0,
              "#0d0887"
             ],
             [
              0.1111111111111111,
              "#46039f"
             ],
             [
              0.2222222222222222,
              "#7201a8"
             ],
             [
              0.3333333333333333,
              "#9c179e"
             ],
             [
              0.4444444444444444,
              "#bd3786"
             ],
             [
              0.5555555555555556,
              "#d8576b"
             ],
             [
              0.6666666666666666,
              "#ed7953"
             ],
             [
              0.7777777777777778,
              "#fb9f3a"
             ],
             [
              0.8888888888888888,
              "#fdca26"
             ],
             [
              1,
              "#f0f921"
             ]
            ],
            "type": "histogram2d"
           }
          ],
          "histogram2dcontour": [
           {
            "colorbar": {
             "outlinewidth": 0,
             "ticks": ""
            },
            "colorscale": [
             [
              0,
              "#0d0887"
             ],
             [
              0.1111111111111111,
              "#46039f"
             ],
             [
              0.2222222222222222,
              "#7201a8"
             ],
             [
              0.3333333333333333,
              "#9c179e"
             ],
             [
              0.4444444444444444,
              "#bd3786"
             ],
             [
              0.5555555555555556,
              "#d8576b"
             ],
             [
              0.6666666666666666,
              "#ed7953"
             ],
             [
              0.7777777777777778,
              "#fb9f3a"
             ],
             [
              0.8888888888888888,
              "#fdca26"
             ],
             [
              1,
              "#f0f921"
             ]
            ],
            "type": "histogram2dcontour"
           }
          ],
          "mesh3d": [
           {
            "colorbar": {
             "outlinewidth": 0,
             "ticks": ""
            },
            "type": "mesh3d"
           }
          ],
          "parcoords": [
           {
            "line": {
             "colorbar": {
              "outlinewidth": 0,
              "ticks": ""
             }
            },
            "type": "parcoords"
           }
          ],
          "pie": [
           {
            "automargin": true,
            "type": "pie"
           }
          ],
          "scatter": [
           {
            "fillpattern": {
             "fillmode": "overlay",
             "size": 10,
             "solidity": 0.2
            },
            "type": "scatter"
           }
          ],
          "scatter3d": [
           {
            "line": {
             "colorbar": {
              "outlinewidth": 0,
              "ticks": ""
             }
            },
            "marker": {
             "colorbar": {
              "outlinewidth": 0,
              "ticks": ""
             }
            },
            "type": "scatter3d"
           }
          ],
          "scattercarpet": [
           {
            "marker": {
             "colorbar": {
              "outlinewidth": 0,
              "ticks": ""
             }
            },
            "type": "scattercarpet"
           }
          ],
          "scattergeo": [
           {
            "marker": {
             "colorbar": {
              "outlinewidth": 0,
              "ticks": ""
             }
            },
            "type": "scattergeo"
           }
          ],
          "scattergl": [
           {
            "marker": {
             "colorbar": {
              "outlinewidth": 0,
              "ticks": ""
             }
            },
            "type": "scattergl"
           }
          ],
          "scattermapbox": [
           {
            "marker": {
             "colorbar": {
              "outlinewidth": 0,
              "ticks": ""
             }
            },
            "type": "scattermapbox"
           }
          ],
          "scatterpolar": [
           {
            "marker": {
             "colorbar": {
              "outlinewidth": 0,
              "ticks": ""
             }
            },
            "type": "scatterpolar"
           }
          ],
          "scatterpolargl": [
           {
            "marker": {
             "colorbar": {
              "outlinewidth": 0,
              "ticks": ""
             }
            },
            "type": "scatterpolargl"
           }
          ],
          "scatterternary": [
           {
            "marker": {
             "colorbar": {
              "outlinewidth": 0,
              "ticks": ""
             }
            },
            "type": "scatterternary"
           }
          ],
          "surface": [
           {
            "colorbar": {
             "outlinewidth": 0,
             "ticks": ""
            },
            "colorscale": [
             [
              0,
              "#0d0887"
             ],
             [
              0.1111111111111111,
              "#46039f"
             ],
             [
              0.2222222222222222,
              "#7201a8"
             ],
             [
              0.3333333333333333,
              "#9c179e"
             ],
             [
              0.4444444444444444,
              "#bd3786"
             ],
             [
              0.5555555555555556,
              "#d8576b"
             ],
             [
              0.6666666666666666,
              "#ed7953"
             ],
             [
              0.7777777777777778,
              "#fb9f3a"
             ],
             [
              0.8888888888888888,
              "#fdca26"
             ],
             [
              1,
              "#f0f921"
             ]
            ],
            "type": "surface"
           }
          ],
          "table": [
           {
            "cells": {
             "fill": {
              "color": "#EBF0F8"
             },
             "line": {
              "color": "white"
             }
            },
            "header": {
             "fill": {
              "color": "#C8D4E3"
             },
             "line": {
              "color": "white"
             }
            },
            "type": "table"
           }
          ]
         },
         "layout": {
          "annotationdefaults": {
           "arrowcolor": "#2a3f5f",
           "arrowhead": 0,
           "arrowwidth": 1
          },
          "autotypenumbers": "strict",
          "coloraxis": {
           "colorbar": {
            "outlinewidth": 0,
            "ticks": ""
           }
          },
          "colorscale": {
           "diverging": [
            [
             0,
             "#8e0152"
            ],
            [
             0.1,
             "#c51b7d"
            ],
            [
             0.2,
             "#de77ae"
            ],
            [
             0.3,
             "#f1b6da"
            ],
            [
             0.4,
             "#fde0ef"
            ],
            [
             0.5,
             "#f7f7f7"
            ],
            [
             0.6,
             "#e6f5d0"
            ],
            [
             0.7,
             "#b8e186"
            ],
            [
             0.8,
             "#7fbc41"
            ],
            [
             0.9,
             "#4d9221"
            ],
            [
             1,
             "#276419"
            ]
           ],
           "sequential": [
            [
             0,
             "#0d0887"
            ],
            [
             0.1111111111111111,
             "#46039f"
            ],
            [
             0.2222222222222222,
             "#7201a8"
            ],
            [
             0.3333333333333333,
             "#9c179e"
            ],
            [
             0.4444444444444444,
             "#bd3786"
            ],
            [
             0.5555555555555556,
             "#d8576b"
            ],
            [
             0.6666666666666666,
             "#ed7953"
            ],
            [
             0.7777777777777778,
             "#fb9f3a"
            ],
            [
             0.8888888888888888,
             "#fdca26"
            ],
            [
             1,
             "#f0f921"
            ]
           ],
           "sequentialminus": [
            [
             0,
             "#0d0887"
            ],
            [
             0.1111111111111111,
             "#46039f"
            ],
            [
             0.2222222222222222,
             "#7201a8"
            ],
            [
             0.3333333333333333,
             "#9c179e"
            ],
            [
             0.4444444444444444,
             "#bd3786"
            ],
            [
             0.5555555555555556,
             "#d8576b"
            ],
            [
             0.6666666666666666,
             "#ed7953"
            ],
            [
             0.7777777777777778,
             "#fb9f3a"
            ],
            [
             0.8888888888888888,
             "#fdca26"
            ],
            [
             1,
             "#f0f921"
            ]
           ]
          },
          "colorway": [
           "#636efa",
           "#EF553B",
           "#00cc96",
           "#ab63fa",
           "#FFA15A",
           "#19d3f3",
           "#FF6692",
           "#B6E880",
           "#FF97FF",
           "#FECB52"
          ],
          "font": {
           "color": "#2a3f5f"
          },
          "geo": {
           "bgcolor": "white",
           "lakecolor": "white",
           "landcolor": "white",
           "showlakes": true,
           "showland": true,
           "subunitcolor": "#C8D4E3"
          },
          "hoverlabel": {
           "align": "left"
          },
          "hovermode": "closest",
          "mapbox": {
           "style": "light"
          },
          "paper_bgcolor": "white",
          "plot_bgcolor": "white",
          "polar": {
           "angularaxis": {
            "gridcolor": "#EBF0F8",
            "linecolor": "#EBF0F8",
            "ticks": ""
           },
           "bgcolor": "white",
           "radialaxis": {
            "gridcolor": "#EBF0F8",
            "linecolor": "#EBF0F8",
            "ticks": ""
           }
          },
          "scene": {
           "xaxis": {
            "backgroundcolor": "white",
            "gridcolor": "#DFE8F3",
            "gridwidth": 2,
            "linecolor": "#EBF0F8",
            "showbackground": true,
            "ticks": "",
            "zerolinecolor": "#EBF0F8"
           },
           "yaxis": {
            "backgroundcolor": "white",
            "gridcolor": "#DFE8F3",
            "gridwidth": 2,
            "linecolor": "#EBF0F8",
            "showbackground": true,
            "ticks": "",
            "zerolinecolor": "#EBF0F8"
           },
           "zaxis": {
            "backgroundcolor": "white",
            "gridcolor": "#DFE8F3",
            "gridwidth": 2,
            "linecolor": "#EBF0F8",
            "showbackground": true,
            "ticks": "",
            "zerolinecolor": "#EBF0F8"
           }
          },
          "shapedefaults": {
           "line": {
            "color": "#2a3f5f"
           }
          },
          "ternary": {
           "aaxis": {
            "gridcolor": "#DFE8F3",
            "linecolor": "#A2B1C6",
            "ticks": ""
           },
           "baxis": {
            "gridcolor": "#DFE8F3",
            "linecolor": "#A2B1C6",
            "ticks": ""
           },
           "bgcolor": "white",
           "caxis": {
            "gridcolor": "#DFE8F3",
            "linecolor": "#A2B1C6",
            "ticks": ""
           }
          },
          "title": {
           "x": 0.05
          },
          "xaxis": {
           "automargin": true,
           "gridcolor": "#EBF0F8",
           "linecolor": "#EBF0F8",
           "ticks": "",
           "title": {
            "standoff": 15
           },
           "zerolinecolor": "#EBF0F8",
           "zerolinewidth": 2
          },
          "yaxis": {
           "automargin": true,
           "gridcolor": "#EBF0F8",
           "linecolor": "#EBF0F8",
           "ticks": "",
           "title": {
            "standoff": 15
           },
           "zerolinecolor": "#EBF0F8",
           "zerolinewidth": 2
          }
         }
        },
        "title": {
         "text": "Historical Medal Count for USA"
        },
        "xaxis": {
         "title": {
          "text": "Year"
         }
        },
        "yaxis": {
         "title": {
          "text": "Count"
         }
        }
       }
      }
     },
     "metadata": {},
     "output_type": "display_data"
    }
   ],
   "source": [
    "# Historical Medal Count\n",
    "fig2 = go.Figure()\n",
    "\n",
    "# Add traces for Gold, Silver, and Bronze Medals\n",
    "fig2.add_trace(go.Scatter(x=usa_data.index, y=usa_data['Gold'], mode='lines+markers', name='Gold Medals', line=dict(color='gold')))\n",
    "fig2.add_trace(go.Scatter(x=usa_data.index, y=usa_data['Silver'], mode='lines+markers', name='Silver Medals', line=dict(color='silver')))\n",
    "fig2.add_trace(go.Scatter(x=usa_data.index, y=usa_data['Bronze'], mode='lines+markers', name='Bronze Medals', line=dict(color='brown')))\n",
    "\n",
    "# Set title and labels\n",
    "fig2.update_layout(\n",
    "    title='Historical Medal Count for USA',\n",
    "    xaxis_title='Year',\n",
    "    yaxis_title='Count',\n",
    "    legend_title='Medal Type',\n",
    "    template='plotly_white'\n",
    ")\n",
    "\n",
    "# Show the plot\n",
    "fig2.show()\n"
   ]
  },
  {
   "cell_type": "code",
   "execution_count": 118,
   "metadata": {},
   "outputs": [
    {
     "data": {
      "application/vnd.plotly.v1+json": {
       "config": {
        "plotlyServerURL": "https://plot.ly"
       },
       "data": [
        {
         "line": {
          "color": "green"
         },
         "mode": "lines+markers",
         "name": "Athletes",
         "type": "scatter",
         "x": [
          "1960-01-01T00:00:00",
          "1964-01-01T00:00:00",
          "1968-01-01T00:00:00",
          "1972-01-01T00:00:00",
          "1976-01-01T00:00:00",
          "1980-01-01T00:00:00",
          "1984-01-01T00:00:00",
          "1988-01-01T00:00:00",
          "1992-01-01T00:00:00",
          "1994-01-01T00:00:00",
          "1996-01-01T00:00:00",
          "1998-01-01T00:00:00",
          "2000-01-01T00:00:00",
          "2002-01-01T00:00:00",
          "2004-01-01T00:00:00",
          "2006-01-01T00:00:00",
          "2008-01-01T00:00:00",
          "2010-01-01T00:00:00",
          "2012-01-01T00:00:00",
          "2014-01-01T00:00:00",
          "2016-01-01T00:00:00"
         ],
         "y": [
          474,
          619,
          664,
          719,
          660,
          144,
          842,
          896,
          955,
          232,
          742,
          283,
          759,
          311,
          723,
          324,
          756,
          341,
          689,
          367,
          718
         ]
        },
        {
         "line": {
          "color": "blue"
         },
         "mode": "lines+markers",
         "name": "Sports",
         "type": "scatter",
         "x": [
          "1960-01-01T00:00:00",
          "1964-01-01T00:00:00",
          "1968-01-01T00:00:00",
          "1972-01-01T00:00:00",
          "1976-01-01T00:00:00",
          "1980-01-01T00:00:00",
          "1984-01-01T00:00:00",
          "1988-01-01T00:00:00",
          "1992-01-01T00:00:00",
          "1994-01-01T00:00:00",
          "1996-01-01T00:00:00",
          "1998-01-01T00:00:00",
          "2000-01-01T00:00:00",
          "2002-01-01T00:00:00",
          "2004-01-01T00:00:00",
          "2006-01-01T00:00:00",
          "2008-01-01T00:00:00",
          "2010-01-01T00:00:00",
          "2012-01-01T00:00:00",
          "2014-01-01T00:00:00",
          "2016-01-01T00:00:00"
         ],
         "y": [
          361,
          452,
          480,
          521,
          446,
          103,
          538,
          549,
          594,
          144,
          434,
          157,
          423,
          178,
          385,
          187,
          390,
          196,
          346,
          209,
          349
         ]
        },
        {
         "line": {
          "color": "magenta"
         },
         "mode": "lines+markers",
         "name": "Sports",
         "type": "scatter",
         "x": [
          "1960-01-01T00:00:00",
          "1964-01-01T00:00:00",
          "1968-01-01T00:00:00",
          "1972-01-01T00:00:00",
          "1976-01-01T00:00:00",
          "1980-01-01T00:00:00",
          "1984-01-01T00:00:00",
          "1988-01-01T00:00:00",
          "1992-01-01T00:00:00",
          "1994-01-01T00:00:00",
          "1996-01-01T00:00:00",
          "1998-01-01T00:00:00",
          "2000-01-01T00:00:00",
          "2002-01-01T00:00:00",
          "2004-01-01T00:00:00",
          "2006-01-01T00:00:00",
          "2008-01-01T00:00:00",
          "2010-01-01T00:00:00",
          "2012-01-01T00:00:00",
          "2014-01-01T00:00:00",
          "2016-01-01T00:00:00"
         ],
         "y": [
          113,
          167,
          184,
          198,
          214,
          41,
          304,
          347,
          361,
          88,
          308,
          126,
          336,
          133,
          338,
          137,
          366,
          145,
          343,
          158,
          369
         ]
        }
       ],
       "layout": {
        "legend": {
         "title": {
          "text": "Metrics"
         }
        },
        "template": {
         "data": {
          "bar": [
           {
            "error_x": {
             "color": "#2a3f5f"
            },
            "error_y": {
             "color": "#2a3f5f"
            },
            "marker": {
             "line": {
              "color": "white",
              "width": 0.5
             },
             "pattern": {
              "fillmode": "overlay",
              "size": 10,
              "solidity": 0.2
             }
            },
            "type": "bar"
           }
          ],
          "barpolar": [
           {
            "marker": {
             "line": {
              "color": "white",
              "width": 0.5
             },
             "pattern": {
              "fillmode": "overlay",
              "size": 10,
              "solidity": 0.2
             }
            },
            "type": "barpolar"
           }
          ],
          "carpet": [
           {
            "aaxis": {
             "endlinecolor": "#2a3f5f",
             "gridcolor": "#C8D4E3",
             "linecolor": "#C8D4E3",
             "minorgridcolor": "#C8D4E3",
             "startlinecolor": "#2a3f5f"
            },
            "baxis": {
             "endlinecolor": "#2a3f5f",
             "gridcolor": "#C8D4E3",
             "linecolor": "#C8D4E3",
             "minorgridcolor": "#C8D4E3",
             "startlinecolor": "#2a3f5f"
            },
            "type": "carpet"
           }
          ],
          "choropleth": [
           {
            "colorbar": {
             "outlinewidth": 0,
             "ticks": ""
            },
            "type": "choropleth"
           }
          ],
          "contour": [
           {
            "colorbar": {
             "outlinewidth": 0,
             "ticks": ""
            },
            "colorscale": [
             [
              0,
              "#0d0887"
             ],
             [
              0.1111111111111111,
              "#46039f"
             ],
             [
              0.2222222222222222,
              "#7201a8"
             ],
             [
              0.3333333333333333,
              "#9c179e"
             ],
             [
              0.4444444444444444,
              "#bd3786"
             ],
             [
              0.5555555555555556,
              "#d8576b"
             ],
             [
              0.6666666666666666,
              "#ed7953"
             ],
             [
              0.7777777777777778,
              "#fb9f3a"
             ],
             [
              0.8888888888888888,
              "#fdca26"
             ],
             [
              1,
              "#f0f921"
             ]
            ],
            "type": "contour"
           }
          ],
          "contourcarpet": [
           {
            "colorbar": {
             "outlinewidth": 0,
             "ticks": ""
            },
            "type": "contourcarpet"
           }
          ],
          "heatmap": [
           {
            "colorbar": {
             "outlinewidth": 0,
             "ticks": ""
            },
            "colorscale": [
             [
              0,
              "#0d0887"
             ],
             [
              0.1111111111111111,
              "#46039f"
             ],
             [
              0.2222222222222222,
              "#7201a8"
             ],
             [
              0.3333333333333333,
              "#9c179e"
             ],
             [
              0.4444444444444444,
              "#bd3786"
             ],
             [
              0.5555555555555556,
              "#d8576b"
             ],
             [
              0.6666666666666666,
              "#ed7953"
             ],
             [
              0.7777777777777778,
              "#fb9f3a"
             ],
             [
              0.8888888888888888,
              "#fdca26"
             ],
             [
              1,
              "#f0f921"
             ]
            ],
            "type": "heatmap"
           }
          ],
          "heatmapgl": [
           {
            "colorbar": {
             "outlinewidth": 0,
             "ticks": ""
            },
            "colorscale": [
             [
              0,
              "#0d0887"
             ],
             [
              0.1111111111111111,
              "#46039f"
             ],
             [
              0.2222222222222222,
              "#7201a8"
             ],
             [
              0.3333333333333333,
              "#9c179e"
             ],
             [
              0.4444444444444444,
              "#bd3786"
             ],
             [
              0.5555555555555556,
              "#d8576b"
             ],
             [
              0.6666666666666666,
              "#ed7953"
             ],
             [
              0.7777777777777778,
              "#fb9f3a"
             ],
             [
              0.8888888888888888,
              "#fdca26"
             ],
             [
              1,
              "#f0f921"
             ]
            ],
            "type": "heatmapgl"
           }
          ],
          "histogram": [
           {
            "marker": {
             "pattern": {
              "fillmode": "overlay",
              "size": 10,
              "solidity": 0.2
             }
            },
            "type": "histogram"
           }
          ],
          "histogram2d": [
           {
            "colorbar": {
             "outlinewidth": 0,
             "ticks": ""
            },
            "colorscale": [
             [
              0,
              "#0d0887"
             ],
             [
              0.1111111111111111,
              "#46039f"
             ],
             [
              0.2222222222222222,
              "#7201a8"
             ],
             [
              0.3333333333333333,
              "#9c179e"
             ],
             [
              0.4444444444444444,
              "#bd3786"
             ],
             [
              0.5555555555555556,
              "#d8576b"
             ],
             [
              0.6666666666666666,
              "#ed7953"
             ],
             [
              0.7777777777777778,
              "#fb9f3a"
             ],
             [
              0.8888888888888888,
              "#fdca26"
             ],
             [
              1,
              "#f0f921"
             ]
            ],
            "type": "histogram2d"
           }
          ],
          "histogram2dcontour": [
           {
            "colorbar": {
             "outlinewidth": 0,
             "ticks": ""
            },
            "colorscale": [
             [
              0,
              "#0d0887"
             ],
             [
              0.1111111111111111,
              "#46039f"
             ],
             [
              0.2222222222222222,
              "#7201a8"
             ],
             [
              0.3333333333333333,
              "#9c179e"
             ],
             [
              0.4444444444444444,
              "#bd3786"
             ],
             [
              0.5555555555555556,
              "#d8576b"
             ],
             [
              0.6666666666666666,
              "#ed7953"
             ],
             [
              0.7777777777777778,
              "#fb9f3a"
             ],
             [
              0.8888888888888888,
              "#fdca26"
             ],
             [
              1,
              "#f0f921"
             ]
            ],
            "type": "histogram2dcontour"
           }
          ],
          "mesh3d": [
           {
            "colorbar": {
             "outlinewidth": 0,
             "ticks": ""
            },
            "type": "mesh3d"
           }
          ],
          "parcoords": [
           {
            "line": {
             "colorbar": {
              "outlinewidth": 0,
              "ticks": ""
             }
            },
            "type": "parcoords"
           }
          ],
          "pie": [
           {
            "automargin": true,
            "type": "pie"
           }
          ],
          "scatter": [
           {
            "fillpattern": {
             "fillmode": "overlay",
             "size": 10,
             "solidity": 0.2
            },
            "type": "scatter"
           }
          ],
          "scatter3d": [
           {
            "line": {
             "colorbar": {
              "outlinewidth": 0,
              "ticks": ""
             }
            },
            "marker": {
             "colorbar": {
              "outlinewidth": 0,
              "ticks": ""
             }
            },
            "type": "scatter3d"
           }
          ],
          "scattercarpet": [
           {
            "marker": {
             "colorbar": {
              "outlinewidth": 0,
              "ticks": ""
             }
            },
            "type": "scattercarpet"
           }
          ],
          "scattergeo": [
           {
            "marker": {
             "colorbar": {
              "outlinewidth": 0,
              "ticks": ""
             }
            },
            "type": "scattergeo"
           }
          ],
          "scattergl": [
           {
            "marker": {
             "colorbar": {
              "outlinewidth": 0,
              "ticks": ""
             }
            },
            "type": "scattergl"
           }
          ],
          "scattermapbox": [
           {
            "marker": {
             "colorbar": {
              "outlinewidth": 0,
              "ticks": ""
             }
            },
            "type": "scattermapbox"
           }
          ],
          "scatterpolar": [
           {
            "marker": {
             "colorbar": {
              "outlinewidth": 0,
              "ticks": ""
             }
            },
            "type": "scatterpolar"
           }
          ],
          "scatterpolargl": [
           {
            "marker": {
             "colorbar": {
              "outlinewidth": 0,
              "ticks": ""
             }
            },
            "type": "scatterpolargl"
           }
          ],
          "scatterternary": [
           {
            "marker": {
             "colorbar": {
              "outlinewidth": 0,
              "ticks": ""
             }
            },
            "type": "scatterternary"
           }
          ],
          "surface": [
           {
            "colorbar": {
             "outlinewidth": 0,
             "ticks": ""
            },
            "colorscale": [
             [
              0,
              "#0d0887"
             ],
             [
              0.1111111111111111,
              "#46039f"
             ],
             [
              0.2222222222222222,
              "#7201a8"
             ],
             [
              0.3333333333333333,
              "#9c179e"
             ],
             [
              0.4444444444444444,
              "#bd3786"
             ],
             [
              0.5555555555555556,
              "#d8576b"
             ],
             [
              0.6666666666666666,
              "#ed7953"
             ],
             [
              0.7777777777777778,
              "#fb9f3a"
             ],
             [
              0.8888888888888888,
              "#fdca26"
             ],
             [
              1,
              "#f0f921"
             ]
            ],
            "type": "surface"
           }
          ],
          "table": [
           {
            "cells": {
             "fill": {
              "color": "#EBF0F8"
             },
             "line": {
              "color": "white"
             }
            },
            "header": {
             "fill": {
              "color": "#C8D4E3"
             },
             "line": {
              "color": "white"
             }
            },
            "type": "table"
           }
          ]
         },
         "layout": {
          "annotationdefaults": {
           "arrowcolor": "#2a3f5f",
           "arrowhead": 0,
           "arrowwidth": 1
          },
          "autotypenumbers": "strict",
          "coloraxis": {
           "colorbar": {
            "outlinewidth": 0,
            "ticks": ""
           }
          },
          "colorscale": {
           "diverging": [
            [
             0,
             "#8e0152"
            ],
            [
             0.1,
             "#c51b7d"
            ],
            [
             0.2,
             "#de77ae"
            ],
            [
             0.3,
             "#f1b6da"
            ],
            [
             0.4,
             "#fde0ef"
            ],
            [
             0.5,
             "#f7f7f7"
            ],
            [
             0.6,
             "#e6f5d0"
            ],
            [
             0.7,
             "#b8e186"
            ],
            [
             0.8,
             "#7fbc41"
            ],
            [
             0.9,
             "#4d9221"
            ],
            [
             1,
             "#276419"
            ]
           ],
           "sequential": [
            [
             0,
             "#0d0887"
            ],
            [
             0.1111111111111111,
             "#46039f"
            ],
            [
             0.2222222222222222,
             "#7201a8"
            ],
            [
             0.3333333333333333,
             "#9c179e"
            ],
            [
             0.4444444444444444,
             "#bd3786"
            ],
            [
             0.5555555555555556,
             "#d8576b"
            ],
            [
             0.6666666666666666,
             "#ed7953"
            ],
            [
             0.7777777777777778,
             "#fb9f3a"
            ],
            [
             0.8888888888888888,
             "#fdca26"
            ],
            [
             1,
             "#f0f921"
            ]
           ],
           "sequentialminus": [
            [
             0,
             "#0d0887"
            ],
            [
             0.1111111111111111,
             "#46039f"
            ],
            [
             0.2222222222222222,
             "#7201a8"
            ],
            [
             0.3333333333333333,
             "#9c179e"
            ],
            [
             0.4444444444444444,
             "#bd3786"
            ],
            [
             0.5555555555555556,
             "#d8576b"
            ],
            [
             0.6666666666666666,
             "#ed7953"
            ],
            [
             0.7777777777777778,
             "#fb9f3a"
            ],
            [
             0.8888888888888888,
             "#fdca26"
            ],
            [
             1,
             "#f0f921"
            ]
           ]
          },
          "colorway": [
           "#636efa",
           "#EF553B",
           "#00cc96",
           "#ab63fa",
           "#FFA15A",
           "#19d3f3",
           "#FF6692",
           "#B6E880",
           "#FF97FF",
           "#FECB52"
          ],
          "font": {
           "color": "#2a3f5f"
          },
          "geo": {
           "bgcolor": "white",
           "lakecolor": "white",
           "landcolor": "white",
           "showlakes": true,
           "showland": true,
           "subunitcolor": "#C8D4E3"
          },
          "hoverlabel": {
           "align": "left"
          },
          "hovermode": "closest",
          "mapbox": {
           "style": "light"
          },
          "paper_bgcolor": "white",
          "plot_bgcolor": "white",
          "polar": {
           "angularaxis": {
            "gridcolor": "#EBF0F8",
            "linecolor": "#EBF0F8",
            "ticks": ""
           },
           "bgcolor": "white",
           "radialaxis": {
            "gridcolor": "#EBF0F8",
            "linecolor": "#EBF0F8",
            "ticks": ""
           }
          },
          "scene": {
           "xaxis": {
            "backgroundcolor": "white",
            "gridcolor": "#DFE8F3",
            "gridwidth": 2,
            "linecolor": "#EBF0F8",
            "showbackground": true,
            "ticks": "",
            "zerolinecolor": "#EBF0F8"
           },
           "yaxis": {
            "backgroundcolor": "white",
            "gridcolor": "#DFE8F3",
            "gridwidth": 2,
            "linecolor": "#EBF0F8",
            "showbackground": true,
            "ticks": "",
            "zerolinecolor": "#EBF0F8"
           },
           "zaxis": {
            "backgroundcolor": "white",
            "gridcolor": "#DFE8F3",
            "gridwidth": 2,
            "linecolor": "#EBF0F8",
            "showbackground": true,
            "ticks": "",
            "zerolinecolor": "#EBF0F8"
           }
          },
          "shapedefaults": {
           "line": {
            "color": "#2a3f5f"
           }
          },
          "ternary": {
           "aaxis": {
            "gridcolor": "#DFE8F3",
            "linecolor": "#A2B1C6",
            "ticks": ""
           },
           "baxis": {
            "gridcolor": "#DFE8F3",
            "linecolor": "#A2B1C6",
            "ticks": ""
           },
           "bgcolor": "white",
           "caxis": {
            "gridcolor": "#DFE8F3",
            "linecolor": "#A2B1C6",
            "ticks": ""
           }
          },
          "title": {
           "x": 0.05
          },
          "xaxis": {
           "automargin": true,
           "gridcolor": "#EBF0F8",
           "linecolor": "#EBF0F8",
           "ticks": "",
           "title": {
            "standoff": 15
           },
           "zerolinecolor": "#EBF0F8",
           "zerolinewidth": 2
          },
          "yaxis": {
           "automargin": true,
           "gridcolor": "#EBF0F8",
           "linecolor": "#EBF0F8",
           "ticks": "",
           "title": {
            "standoff": 15
           },
           "zerolinecolor": "#EBF0F8",
           "zerolinewidth": 2
          }
         }
        },
        "title": {
         "text": "Historical Athlete Participation for USA"
        },
        "xaxis": {
         "title": {
          "text": "Year"
         }
        },
        "yaxis": {
         "title": {
          "text": "Count"
         }
        }
       }
      }
     },
     "metadata": {},
     "output_type": "display_data"
    }
   ],
   "source": [
    "fig3 = go.Figure()\n",
    "\n",
    "# Add traces for Athletes, Sports, Events, and Total Medals\n",
    "fig3.add_trace(go.Scatter(x=usa_data.index, y=usa_data['Athletes'], mode='lines+markers', name='Athletes', line=dict(color='green')))\n",
    "fig3.add_trace(go.Scatter(x=usa_data.index, y=usa_data['Men'], mode='lines+markers', name='Sports', line=dict(color='blue')))\n",
    "fig3.add_trace(go.Scatter(x=usa_data.index, y=usa_data['Women'], mode='lines+markers', name='Sports', line=dict(color='magenta')))\n",
    "\n",
    "# Set title and labels\n",
    "fig3.update_layout(\n",
    "    title='Historical Athlete Participation for USA',\n",
    "    xaxis_title='Year',\n",
    "    yaxis_title='Count',\n",
    "    legend_title='Metrics',\n",
    "    template='plotly_white'\n",
    ")\n",
    "\n",
    "# Show the plot\n",
    "fig3.show()\n"
   ]
  },
  {
   "cell_type": "code",
   "execution_count": 119,
   "metadata": {},
   "outputs": [
    {
     "data": {
      "text/html": [
       "<div>\n",
       "<style scoped>\n",
       "    .dataframe tbody tr th:only-of-type {\n",
       "        vertical-align: middle;\n",
       "    }\n",
       "\n",
       "    .dataframe tbody tr th {\n",
       "        vertical-align: top;\n",
       "    }\n",
       "\n",
       "    .dataframe thead th {\n",
       "        text-align: right;\n",
       "    }\n",
       "</style>\n",
       "<table border=\"1\" class=\"dataframe\">\n",
       "  <thead>\n",
       "    <tr style=\"text-align: right;\">\n",
       "      <th></th>\n",
       "      <th>NOC</th>\n",
       "      <th>Athletes</th>\n",
       "      <th>Sports</th>\n",
       "      <th>Events</th>\n",
       "      <th>Gold</th>\n",
       "      <th>Silver</th>\n",
       "      <th>Bronze</th>\n",
       "      <th>Men</th>\n",
       "      <th>Women</th>\n",
       "    </tr>\n",
       "    <tr>\n",
       "      <th>Year</th>\n",
       "      <th></th>\n",
       "      <th></th>\n",
       "      <th></th>\n",
       "      <th></th>\n",
       "      <th></th>\n",
       "      <th></th>\n",
       "      <th></th>\n",
       "      <th></th>\n",
       "      <th></th>\n",
       "    </tr>\n",
       "  </thead>\n",
       "  <tbody>\n",
       "    <tr>\n",
       "      <th>1960-01-01</th>\n",
       "      <td>AFG</td>\n",
       "      <td>16</td>\n",
       "      <td>2</td>\n",
       "      <td>13</td>\n",
       "      <td>0</td>\n",
       "      <td>0</td>\n",
       "      <td>0</td>\n",
       "      <td>16</td>\n",
       "      <td>0</td>\n",
       "    </tr>\n",
       "    <tr>\n",
       "      <th>1960-01-01</th>\n",
       "      <td>AHO</td>\n",
       "      <td>5</td>\n",
       "      <td>1</td>\n",
       "      <td>4</td>\n",
       "      <td>0</td>\n",
       "      <td>0</td>\n",
       "      <td>0</td>\n",
       "      <td>5</td>\n",
       "      <td>0</td>\n",
       "    </tr>\n",
       "    <tr>\n",
       "      <th>1960-01-01</th>\n",
       "      <td>ARG</td>\n",
       "      <td>116</td>\n",
       "      <td>15</td>\n",
       "      <td>54</td>\n",
       "      <td>0</td>\n",
       "      <td>3</td>\n",
       "      <td>1</td>\n",
       "      <td>115</td>\n",
       "      <td>1</td>\n",
       "    </tr>\n",
       "    <tr>\n",
       "      <th>1960-01-01</th>\n",
       "      <td>AUS</td>\n",
       "      <td>277</td>\n",
       "      <td>19</td>\n",
       "      <td>125</td>\n",
       "      <td>10</td>\n",
       "      <td>21</td>\n",
       "      <td>11</td>\n",
       "      <td>219</td>\n",
       "      <td>58</td>\n",
       "    </tr>\n",
       "    <tr>\n",
       "      <th>1960-01-01</th>\n",
       "      <td>AUT</td>\n",
       "      <td>141</td>\n",
       "      <td>18</td>\n",
       "      <td>83</td>\n",
       "      <td>1</td>\n",
       "      <td>2</td>\n",
       "      <td>0</td>\n",
       "      <td>96</td>\n",
       "      <td>45</td>\n",
       "    </tr>\n",
       "    <tr>\n",
       "      <th>...</th>\n",
       "      <td>...</td>\n",
       "      <td>...</td>\n",
       "      <td>...</td>\n",
       "      <td>...</td>\n",
       "      <td>...</td>\n",
       "      <td>...</td>\n",
       "      <td>...</td>\n",
       "      <td>...</td>\n",
       "      <td>...</td>\n",
       "    </tr>\n",
       "    <tr>\n",
       "      <th>2016-01-01</th>\n",
       "      <td>VIE</td>\n",
       "      <td>28</td>\n",
       "      <td>10</td>\n",
       "      <td>24</td>\n",
       "      <td>1</td>\n",
       "      <td>1</td>\n",
       "      <td>0</td>\n",
       "      <td>12</td>\n",
       "      <td>16</td>\n",
       "    </tr>\n",
       "    <tr>\n",
       "      <th>2016-01-01</th>\n",
       "      <td>VIN</td>\n",
       "      <td>2</td>\n",
       "      <td>1</td>\n",
       "      <td>2</td>\n",
       "      <td>0</td>\n",
       "      <td>0</td>\n",
       "      <td>0</td>\n",
       "      <td>1</td>\n",
       "      <td>1</td>\n",
       "    </tr>\n",
       "    <tr>\n",
       "      <th>2016-01-01</th>\n",
       "      <td>YEM</td>\n",
       "      <td>3</td>\n",
       "      <td>3</td>\n",
       "      <td>3</td>\n",
       "      <td>0</td>\n",
       "      <td>0</td>\n",
       "      <td>0</td>\n",
       "      <td>2</td>\n",
       "      <td>1</td>\n",
       "    </tr>\n",
       "    <tr>\n",
       "      <th>2016-01-01</th>\n",
       "      <td>ZAM</td>\n",
       "      <td>6</td>\n",
       "      <td>3</td>\n",
       "      <td>6</td>\n",
       "      <td>0</td>\n",
       "      <td>0</td>\n",
       "      <td>0</td>\n",
       "      <td>4</td>\n",
       "      <td>2</td>\n",
       "    </tr>\n",
       "    <tr>\n",
       "      <th>2016-01-01</th>\n",
       "      <td>ZIM</td>\n",
       "      <td>31</td>\n",
       "      <td>7</td>\n",
       "      <td>13</td>\n",
       "      <td>0</td>\n",
       "      <td>0</td>\n",
       "      <td>0</td>\n",
       "      <td>9</td>\n",
       "      <td>22</td>\n",
       "    </tr>\n",
       "  </tbody>\n",
       "</table>\n",
       "<p>2701 rows × 9 columns</p>\n",
       "</div>"
      ],
      "text/plain": [
       "            NOC  Athletes  Sports  Events  Gold  Silver  Bronze  Men  Women\n",
       "Year                                                                       \n",
       "1960-01-01  AFG        16       2      13     0       0       0   16      0\n",
       "1960-01-01  AHO         5       1       4     0       0       0    5      0\n",
       "1960-01-01  ARG       116      15      54     0       3       1  115      1\n",
       "1960-01-01  AUS       277      19     125    10      21      11  219     58\n",
       "1960-01-01  AUT       141      18      83     1       2       0   96     45\n",
       "...         ...       ...     ...     ...   ...     ...     ...  ...    ...\n",
       "2016-01-01  VIE        28      10      24     1       1       0   12     16\n",
       "2016-01-01  VIN         2       1       2     0       0       0    1      1\n",
       "2016-01-01  YEM         3       3       3     0       0       0    2      1\n",
       "2016-01-01  ZAM         6       3       6     0       0       0    4      2\n",
       "2016-01-01  ZIM        31       7      13     0       0       0    9     22\n",
       "\n",
       "[2701 rows x 9 columns]"
      ]
     },
     "execution_count": 119,
     "metadata": {},
     "output_type": "execute_result"
    }
   ],
   "source": [
    "df"
   ]
  },
  {
   "cell_type": "code",
   "execution_count": 120,
   "metadata": {},
   "outputs": [],
   "source": [
    "df['Total_Medals'] = df['Gold'] + df['Silver'] + df['Bronze']"
   ]
  },
  {
   "cell_type": "code",
   "execution_count": 121,
   "metadata": {},
   "outputs": [
    {
     "data": {
      "application/vnd.plotly.v1+json": {
       "config": {
        "plotlyServerURL": "https://plot.ly"
       },
       "data": [
        {
         "coloraxis": "coloraxis",
         "customdata": [
          [
           0,
           0,
           0
          ],
          [
           0,
           0,
           0
          ],
          [
           0,
           3,
           1
          ],
          [
           10,
           21,
           11
          ],
          [
           1,
           2,
           0
          ],
          [
           0,
           0,
           0
          ],
          [
           0,
           2,
           2
          ],
          [
           0,
           0,
           0
          ],
          [
           0,
           0,
           8
          ],
          [
           1,
           3,
           3
          ],
          [
           1,
           22,
           0
          ],
          [
           0,
           0,
           0
          ],
          [
           0,
           0,
           0
          ],
          [
           0,
           0,
           0
          ],
          [
           2,
           17,
           4
          ],
          [
           0,
           0,
           14
          ],
          [
           1,
           0,
           0
          ],
          [
           0,
           0,
           0
          ],
          [
           6,
           4,
           9
          ],
          [
           0,
           6,
           7
          ],
          [
           2,
           11,
           15
          ],
          [
           38,
           36,
           23
          ],
          [
           0,
           1,
           0
          ],
          [
           3,
           0,
           0
          ],
          [
           0,
           0,
           0
          ],
          [
           0,
           0,
           0
          ],
          [
           13,
           15,
           37
          ],
          [
           0,
           0,
           0
          ],
          [
           0,
           13,
           0
          ],
          [
           0,
           1,
           3
          ],
          [
           0,
           0,
           0
          ],
          [
           0,
           0,
           0
          ],
          [
           0,
           0,
           0
          ],
          [
           0,
           0,
           0
          ],
          [
           33,
           15,
           29
          ],
          [
           9,
           10,
           12
          ],
          [
           0,
           0,
           0
          ],
          [
           0,
           0,
           0
          ],
          [
           0,
           0,
           0
          ],
          [
           0,
           0,
           0
          ],
          [
           0,
           0,
           0
          ],
          [
           0,
           0,
           0
          ],
          [
           0,
           0,
           0
          ],
          [
           0,
           1,
           0
          ],
          [
           0,
           0,
           1
          ],
          [
           0,
           0,
           0
          ],
          [
           0,
           0,
           0
          ],
          [
           0,
           0,
           0
          ],
          [
           0,
           2,
           3
          ],
          [
           0,
           0,
           0
          ],
          [
           3,
           2,
           0
          ],
          [
           2,
           0,
           1
          ],
          [
           13,
           0,
           1
          ],
          [
           0,
           0,
           0
          ],
          [
           0,
           0,
           0
          ],
          [
           0,
           0,
           0
          ],
          [
           4,
           12,
           16
          ],
          [
           0,
           2,
           0
          ],
          [
           0,
           0,
           0
          ],
          [
           0,
           0,
           0
          ],
          [
           3,
           1,
           11
          ],
          [
           0,
           1,
           2
          ],
          [
           0,
           1,
           0
          ],
          [
           0,
           0,
           0
          ],
          [
           0,
           0,
           0
          ],
          [
           0,
           0,
           0
          ],
          [
           0,
           6,
           6
          ],
          [
           4,
           3,
           3
          ],
          [
           4,
           8,
           11
          ],
          [
           0,
           0,
           0
          ],
          [
           0,
           1,
           0
          ],
          [
           0,
           0,
           0
          ],
          [
           5,
           2,
           0
          ],
          [
           0,
           0,
           0
          ],
          [
           0,
           0,
           0
          ],
          [
           67,
           68,
           60
          ],
          [
           0,
           0,
           0
          ],
          [
           97,
           24,
           22
          ],
          [
           0,
           0,
           1
          ],
          [
           0,
           0,
           0
          ],
          [
           0,
           0,
           5
          ],
          [
           16,
           1,
           0
          ],
          [
           0,
           0,
           0
          ],
          [
           0,
           0,
           0
          ],
          [
           0,
           0,
           0
          ],
          [
           0,
           0,
           0
          ],
          [
           0,
           1,
           0
          ],
          [
           8,
           3,
           26
          ],
          [
           3,
           7,
           1
          ],
          [
           2,
           0,
           0
          ],
          [
           2,
           0,
           1
          ],
          [
           0,
           0,
           0
          ],
          [
           0,
           0,
           0
          ],
          [
           0,
           0,
           12
          ],
          [
           3,
           4,
           2
          ],
          [
           0,
           0,
           0
          ],
          [
           2,
           3,
           2
          ],
          [
           0,
           0,
           0
          ],
          [
           0,
           0,
           0
          ],
          [
           0,
           0,
           0
          ],
          [
           0,
           0,
           0
          ],
          [
           0,
           0,
           0
          ],
          [
           0,
           0,
           0
          ],
          [
           0,
           0,
           0
          ],
          [
           0,
           1,
           0
          ],
          [
           7,
           1,
           4
          ],
          [
           0,
           0,
           0
          ],
          [
           0,
           0,
           0
          ],
          [
           0,
           0,
           0
          ],
          [
           1,
           0,
           0
          ],
          [
           6,
           7,
           7
          ],
          [
           4,
           16,
           17
          ],
          [
           6,
           19,
           5
          ],
          [
           25,
           48,
           53
          ],
          [
           0,
           0,
           1
          ],
          [
           0,
           0,
           0
          ],
          [
           0,
           0,
           0
          ],
          [
           42,
           7,
           7
          ],
          [
           15,
           0,
           0
          ],
          [
           0,
           0,
           2
          ],
          [
           0,
           0,
           1
          ],
          [
           0,
           0,
           0
          ],
          [
           0,
           0,
           0
          ],
          [
           0,
           0,
           0
          ],
          [
           14,
           30,
           17
          ],
          [
           0,
           0,
           0
          ],
          [
           32,
           5,
           25
          ],
          [
           0,
           0,
           0
          ],
          [
           0,
           2,
           1
          ],
          [
           0,
           0,
           0
          ],
          [
           0,
           0,
           0
          ],
          [
           0,
           0,
           0
          ],
          [
           0,
           0,
           0
          ],
          [
           0,
           0,
           0
          ],
          [
           0,
           0,
           0
          ],
          [
           0,
           0,
           0
          ],
          [
           0,
           0,
           1
          ],
          [
           0,
           0,
           0
          ],
          [
           0,
           0,
           0
          ],
          [
           0,
           0,
           0
          ],
          [
           0,
           0,
           0
          ],
          [
           6,
           11,
           16
          ],
          [
           0,
           0,
           0
          ],
          [
           0,
           0,
           1
          ],
          [
           1,
           3,
           3
          ],
          [
           4,
           0,
           2
          ],
          [
           0,
           16,
           0
          ],
          [
           0,
           0,
           0
          ],
          [
           0,
           0,
           0
          ],
          [
           0,
           1,
           0
          ],
          [
           10,
           13,
           23
          ],
          [
           0,
           0,
           0
          ],
          [
           0,
           1,
           0
          ],
          [
           0,
           0,
           0
          ],
          [
           2,
           4,
           10
          ],
          [
           0,
           0,
           0
          ],
          [
           0,
           0,
           0
          ],
          [
           1,
           3,
           1
          ],
          [
           9,
           24,
           9
          ],
          [
           0,
           0,
           0
          ],
          [
           5,
           37,
           29
          ],
          [
           0,
           0,
           0
          ],
          [
           0,
           0,
           0
          ],
          [
           0,
           1,
           5
          ],
          [
           0,
           1,
           1
          ],
          [
           2,
           2,
           1
          ],
          [
           0,
           0,
           0
          ],
          [
           87,
           69,
           58
          ],
          [
           0,
           0,
           1
          ],
          [
           96,
           39,
           42
          ],
          [
           0,
           0,
           0
          ],
          [
           0,
           0,
           0
          ],
          [
           2,
           11,
           2
          ],
          [
           0,
           0,
           0
          ],
          [
           0,
           0,
           0
          ],
          [
           0,
           0,
           0
          ],
          [
           0,
           0,
           0
          ],
          [
           0,
           0,
           0
          ],
          [
           0,
           0,
           2
          ],
          [
           5,
           35,
           11
          ],
          [
           3,
           10,
           7
          ],
          [
           0,
           0,
           0
          ],
          [
           0,
           0,
           0
          ],
          [
           0,
           1,
           2
          ],
          [
           0,
           0,
           0
          ],
          [
           0,
           0,
           0
          ],
          [
           0,
           0,
           0
          ],
          [
           0,
           1,
           3
          ],
          [
           2,
           21,
           3
          ],
          [
           4,
           4,
           22
          ],
          [
           0,
           0,
           0
          ],
          [
           0,
           0,
           0
          ],
          [
           0,
           0,
           0
          ],
          [
           0,
           1,
           0
          ],
          [
           0,
           0,
           0
          ],
          [
           0,
           0,
           0
          ],
          [
           0,
           0,
           0
          ],
          [
           0,
           10,
           0
          ],
          [
           5,
           6,
           6
          ],
          [
           0,
           0,
           0
          ],
          [
           0,
           0,
           0
          ],
          [
           0,
           0,
           0
          ],
          [
           0,
           0,
           0
          ],
          [
           0,
           0,
           0
          ],
          [
           1,
           1,
           0
          ],
          [
           2,
           4,
           6
          ],
          [
           16,
           8,
           12
          ],
          [
           19,
           19,
           23
          ],
          [
           8,
           5,
           5
          ],
          [
           15,
           22,
           20
          ],
          [
           0,
           0,
           0
          ],
          [
           0,
           0,
           1
          ],
          [
           0,
           0,
           0
          ],
          [
           0,
           0,
           0
          ],
          [
           0,
           0,
           0
          ],
          [
           0,
           0,
           0
          ],
          [
           0,
           0,
           0
          ],
          [
           32,
           20,
           29
          ],
          [
           0,
           0,
           0
          ],
          [
           0,
           0,
           16
          ],
          [
           2,
           1,
           2
          ],
          [
           0,
           0,
           0
          ],
          [
           0,
           0,
           0
          ],
          [
           0,
           0,
           0
          ],
          [
           0,
           0,
           0
          ],
          [
           0,
           0,
           0
          ],
          [
           13,
           8,
           19
          ],
          [
           0,
           1,
           0
          ],
          [
           16,
           25,
           22
          ],
          [
           3,
           5,
           2
          ],
          [
           0,
           1,
           1
          ],
          [
           0,
           0,
           0
          ],
          [
           0,
           0,
           0
          ],
          [
           0,
           0,
           0
          ],
          [
           0,
           0,
           0
          ],
          [
           0,
           0,
           0
          ],
          [
           0,
           0,
           0
          ],
          [
           3,
           3,
           3
          ],
          [
           0,
           1,
           3
          ],
          [
           0,
           0,
           0
          ],
          [
           0,
           0,
           0
          ],
          [
           0,
           0,
           0
          ],
          [
           0,
           0,
           0
          ],
          [
           0,
           0,
           0
          ],
          [
           9,
           10,
           4
          ],
          [
           0,
           0,
           0
          ],
          [
           14,
           11,
           2
          ],
          [
           5,
           0,
           2
          ],
          [
           13,
           0,
           0
          ],
          [
           0,
           0,
           0
          ],
          [
           0,
           0,
           0
          ],
          [
           0,
           0,
           0
          ],
          [
           5,
           2,
           30
          ],
          [
           0,
           0,
           0
          ],
          [
           0,
           0,
           0
          ],
          [
           5,
           9,
           11
          ],
          [
           0,
           0,
           0
          ],
          [
           0,
           0,
           0
          ],
          [
           0,
           0,
           0
          ],
          [
           0,
           0,
           0
          ],
          [
           0,
           0,
           0
          ],
          [
           0,
           0,
           0
          ],
          [
           0,
           5,
           17
          ],
          [
           0,
           0,
           0
          ],
          [
           7,
           11,
           7
          ],
          [
           0,
           0,
           0
          ],
          [
           8,
           26,
           16
          ],
          [
           0,
           0,
           0
          ],
          [
           0,
           0,
           1
          ],
          [
           0,
           0,
           0
          ],
          [
           1,
           0,
           1
          ],
          [
           2,
           0,
           0
          ],
          [
           0,
           1,
           1
          ],
          [
           89,
           69,
           69
          ],
          [
           0,
           0,
           0
          ],
          [
           100,
           37,
           36
          ],
          [
           1,
           0,
           0
          ],
          [
           0,
           0,
           0
          ],
          [
           13,
           14,
           2
          ],
          [
           0,
           0,
           0
          ],
          [
           0,
           0,
           0
          ],
          [
           0,
           0,
           0
          ],
          [
           0,
           0,
           0
          ],
          [
           0,
           1,
           0
          ],
          [
           11,
           7,
           2
          ],
          [
           1,
           3,
           4
          ],
          [
           0,
           0,
           0
          ],
          [
           0,
           0,
           0
          ],
          [
           0,
           2,
           0
          ],
          [
           0,
           0,
           0
          ],
          [
           0,
           0,
           0
          ],
          [
           0,
           0,
           0
          ],
          [
           0,
           0,
           0
          ],
          [
           0,
           0,
           2
          ],
          [
           6,
           10,
           6
          ],
          [
           0,
           0,
           0
          ],
          [
           0,
           0,
           0
          ],
          [
           0,
           3,
           9
          ],
          [
           0,
           0,
           0
          ],
          [
           0,
           0,
           0
          ],
          [
           0,
           0,
           0
          ],
          [
           0,
           0,
           0
          ],
          [
           0,
           0,
           0
          ],
          [
           0,
           1,
           2
          ],
          [
           0,
           0,
           0
          ],
          [
           3,
           1,
           18
          ],
          [
           1,
           0,
           0
          ],
          [
           0,
           0,
           0
          ],
          [
           0,
           0,
           0
          ],
          [
           0,
           0,
           0
          ],
          [
           0,
           0,
           0
          ],
          [
           1,
           0,
           1
          ],
          [
           0,
           0,
           2
          ],
          [
           0,
           0,
           0
          ],
          [
           3,
           10,
           7
          ],
          [
           2,
           6,
           17
          ],
          [
           48,
           21,
           43
          ],
          [
           0,
           0,
           0
          ],
          [
           8,
           9,
           12
          ],
          [
           35,
           67,
           69
          ],
          [
           0,
           0,
           1
          ],
          [
           0,
           2,
           0
          ],
          [
           0,
           0,
           0
          ],
          [
           0,
           0,
           0
          ],
          [
           0,
           0,
           0
          ],
          [
           0,
           0,
           0
          ],
          [
           10,
           46,
           25
          ],
          [
           0,
           0,
           0
          ],
          [
           0,
           0,
           14
          ],
          [
           0,
           2,
           1
          ],
          [
           0,
           0,
           0
          ],
          [
           0,
           0,
           0
          ],
          [
           0,
           0,
           0
          ],
          [
           0,
           0,
           0
          ],
          [
           12,
           8,
           14
          ],
          [
           0,
           0,
           1
          ],
          [
           30,
           20,
           9
          ],
          [
           5,
           3,
           4
          ],
          [
           0,
           1,
           0
          ],
          [
           0,
           0,
           0
          ],
          [
           0,
           0,
           0
          ],
          [
           0,
           0,
           0
          ],
          [
           0,
           0,
           0
          ],
          [
           0,
           1,
           0
          ],
          [
           0,
           0,
           0
          ],
          [
           0,
           0,
           0
          ],
          [
           0,
           0,
           0
          ],
          [
           0,
           0,
           0
          ],
          [
           0,
           0,
           0
          ],
          [
           0,
           0,
           0
          ],
          [
           0,
           1,
           0
          ],
          [
           0,
           1,
           0
          ],
          [
           0,
           0,
           0
          ],
          [
           0,
           0,
           0
          ],
          [
           0,
           0,
           0
          ],
          [
           0,
           0,
           0
          ],
          [
           0,
           0,
           0
          ],
          [
           4,
           4,
           4
          ],
          [
           0,
           0,
           1
          ],
          [
           4,
           10,
           11
          ],
          [
           9,
           2,
           1
          ],
          [
           0,
           15,
           0
          ],
          [
           0,
           0,
           0
          ],
          [
           0,
           0,
           0
          ],
          [
           0,
           0,
           0
          ],
          [
           0,
           0,
           0
          ],
          [
           28,
           8,
           11
          ],
          [
           0,
           0,
           0
          ],
          [
           1,
           1,
           12
          ],
          [
           0,
           0,
           0
          ],
          [
           3,
           10,
           27
          ],
          [
           0,
           0,
           0
          ],
          [
           0,
           0,
           0
          ],
          [
           0,
           0,
           0
          ],
          [
           0,
           0,
           0
          ],
          [
           0,
           0,
           0
          ],
          [
           0,
           0,
           0
          ],
          [
           7,
           11,
           7
          ],
          [
           0,
           0,
           0
          ],
          [
           5,
           11,
           10
          ],
          [
           0,
           0,
           0
          ],
          [
           0,
           0,
           0
          ],
          [
           0,
           0,
           0
          ],
          [
           3,
           21,
           25
          ],
          [
           0,
           0,
           0
          ],
          [
           0,
           0,
           0
          ],
          [
           0,
           0,
           0
          ],
          [
           0,
           0,
           0
          ],
          [
           0,
           1,
           0
          ],
          [
           0,
           1,
           0
          ],
          [
           1,
           1,
           0
          ],
          [
           143,
           53,
           57
          ],
          [
           0,
           0,
           0
          ],
          [
           72,
           77,
           46
          ],
          [
           0,
           0,
           0
          ],
          [
           0,
           0,
           0
          ],
          [
           15,
           1,
           2
          ],
          [
           0,
           0,
           0
          ],
          [
           0,
           0,
           0
          ],
          [
           0,
           0,
           0
          ],
          [
           0,
           0,
           0
          ],
          [
           0,
           0,
           0
          ],
          [
           0,
           15,
           7
          ],
          [
           1,
           2,
           3
          ],
          [
           0,
           0,
           0
          ],
          [
           0,
           0,
           0
          ],
          [
           0,
           3,
           6
          ],
          [
           0,
           0,
           1
          ],
          [
           0,
           0,
           0
          ],
          [
           0,
           0,
           0
          ],
          [
           0,
           0,
           3
          ],
          [
           8,
           13,
           18
          ],
          [
           1,
           7,
           15
          ],
          [
           0,
           0,
           0
          ],
          [
           0,
           0,
           0
          ],
          [
           0,
           0,
           0
          ],
          [
           0,
           0,
           0
          ],
          [
           0,
           0,
           0
          ],
          [
           0,
           0,
           0
          ],
          [
           6,
           4,
           14
          ],
          [
           3,
           0,
           5
          ],
          [
           0,
           0,
           0
          ],
          [
           0,
           0,
           0
          ],
          [
           0,
           0,
           0
          ],
          [
           0,
           6,
           0
          ],
          [
           0,
           0,
           0
          ],
          [
           9,
           12,
           1
          ],
          [
           5,
           7,
           9
          ],
          [
           23,
           32,
           51
          ],
          [
           7,
           15,
           8
          ],
          [
           114,
           57,
           56
          ],
          [
           0,
           0,
           0
          ],
          [
           0,
           0,
           0
          ],
          [
           0,
           0,
           0
          ],
          [
           0,
           0,
           0
          ],
          [
           0,
           0,
           0
          ],
          [
           14,
           6,
           35
          ],
          [
           0,
           0,
           0
          ],
          [
           0,
           0,
           0
          ],
          [
           0,
           1,
           1
          ],
          [
           0,
           0,
           0
          ],
          [
           0,
           0,
           0
          ],
          [
           0,
           0,
           0
          ],
          [
           0,
           0,
           0
          ],
          [
           3,
           27,
           4
          ],
          [
           1,
           1,
           0
          ],
          [
           25,
           6,
           10
          ],
          [
           1,
           1,
           15
          ],
          [
           0,
           0,
           0
          ],
          [
           0,
           0,
           0
          ],
          [
           0,
           0,
           0
          ],
          [
           0,
           0,
           2
          ],
          [
           0,
           0,
           0
          ],
          [
           0,
           0,
           0
          ],
          [
           0,
           0,
           0
          ],
          [
           1,
           0,
           1
          ],
          [
           0,
           1,
           0
          ],
          [
           0,
           0,
           0
          ],
          [
           0,
           0,
           0
          ],
          [
           1,
           4,
           15
          ],
          [
           0,
           0,
           0
          ],
          [
           5,
           10,
           1
          ],
          [
           15,
           1,
           9
          ],
          [
           0,
           0,
           16
          ],
          [
           0,
           0,
           0
          ],
          [
           0,
           0,
           0
          ],
          [
           0,
           0,
           0
          ],
          [
           0,
           0,
           0
          ],
          [
           0,
           0,
           0
          ],
          [
           18,
           29,
           26
          ],
          [
           0,
           2,
           0
          ],
          [
           1,
           1,
           0
          ],
          [
           0,
           0,
           1
          ],
          [
           4,
           27,
           23
          ],
          [
           0,
           0,
           0
          ],
          [
           0,
           0,
           0
          ],
          [
           0,
           0,
           0
          ],
          [
           2,
           9,
           8
          ],
          [
           0,
           0,
           0
          ],
          [
           9,
           1,
           2
          ],
          [
           2,
           22,
           9
          ],
          [
           0,
           0,
           1
          ],
          [
           0,
           0,
           0
          ],
          [
           1,
           0,
           0
          ],
          [
           0,
           0,
           0
          ],
          [
           0,
           0,
           0
          ],
          [
           145,
           96,
           85
          ],
          [
           0,
           0,
           0
          ],
          [
           73,
           61,
           40
          ],
          [
           0,
           1,
           0
          ],
          [
           2,
           14,
           3
          ],
          [
           0,
           0,
           0
          ],
          [
           0,
           0,
           0
          ],
          [
           0,
           0,
           0
          ],
          [
           0,
           0,
           0
          ],
          [
           0,
           0,
           0
          ],
          [
           6,
           2,
           5
          ],
          [
           4,
           5,
           3
          ],
          [
           1,
           0,
           0
          ],
          [
           0,
           0,
           0
          ],
          [
           0,
           0,
           0
          ],
          [
           0,
           0,
           0
          ],
          [
           4,
           0,
           5
          ],
          [
           8,
           43,
           39
          ],
          [
           0,
           1,
           0
          ],
          [
           0,
           0,
           0
          ],
          [
           0,
           0,
           0
          ],
          [
           0,
           0,
           0
          ],
          [
           0,
           0,
           0
          ],
          [
           0,
           0,
           0
          ],
          [
           8,
           7,
           5
          ],
          [
           0,
           0,
           0
          ],
          [
           4,
           2,
           2
          ],
          [
           0,
           0,
           0
          ],
          [
           0,
           0,
           0
          ],
          [
           2,
           19,
           3
          ],
          [
           2,
           0,
           2
          ],
          [
           4,
           6,
           11
          ],
          [
           18,
           5,
           7
          ],
          [
           0,
           2,
           6
          ],
          [
           6,
           18,
           24
          ],
          [
           130,
           96,
           69
          ],
          [
           1,
           0,
           4
          ],
          [
           0,
           0,
           0
          ],
          [
           0,
           0,
           0
          ],
          [
           0,
           0,
           1
          ],
          [
           8,
           15,
           40
          ],
          [
           16,
           0,
           0
          ],
          [
           0,
           2,
           1
          ],
          [
           0,
           0,
           0
          ],
          [
           0,
           0,
           0
          ],
          [
           8,
           24,
           8
          ],
          [
           0,
           0,
           3
          ],
          [
           0,
           0,
           0
          ],
          [
           0,
           1,
           0
          ],
          [
           0,
           0,
           0
          ],
          [
           0,
           0,
           0
          ],
          [
           0,
           0,
           0
          ],
          [
           0,
           0,
           0
          ],
          [
           0,
           0,
           1
          ],
          [
           2,
           2,
           0
          ],
          [
           0,
           0,
           0
          ],
          [
           0,
           0,
           0
          ],
          [
           0,
           1,
           9
          ],
          [
           0,
           2,
           2
          ],
          [
           0,
           0,
           0
          ],
          [
           0,
           0,
           0
          ],
          [
           0,
           0,
           0
          ],
          [
           0,
           0,
           0
          ],
          [
           0,
           0,
           0
          ],
          [
           0,
           3,
           5
          ],
          [
           0,
           0,
           0
          ],
          [
           0,
           0,
           0
          ],
          [
           1,
           5,
           8
          ],
          [
           0,
           0,
           0
          ],
          [
           0,
           0,
           0
          ],
          [
           3,
           25,
           22
          ],
          [
           0,
           0,
           0
          ],
          [
           0,
           3,
           2
          ],
          [
           0,
           0,
           0
          ],
          [
           7,
           15,
           46
          ],
          [
           0,
           0,
           0
          ],
          [
           0,
           0,
           0
          ],
          [
           0,
           0,
           0
          ],
          [
           0,
           0,
           0
          ],
          [
           0,
           0,
           0
          ],
          [
           4,
           4,
           3
          ],
          [
           6,
           8,
           29
          ],
          [
           0,
           0,
           0
          ],
          [
           0,
           2,
           0
          ],
          [
           17,
           18,
           17
          ],
          [
           0,
           0,
           0
          ],
          [
           0,
           1,
           0
          ],
          [
           199,
           154,
           129
          ],
          [
           24,
           4,
           1
          ],
          [
           0,
           1,
           0
          ],
          [
           0,
           0,
           0
          ],
          [
           12,
           27,
           17
          ],
          [
           0,
           0,
           0
          ],
          [
           15,
           0,
           0
          ],
          [
           0,
           0,
           0
          ],
          [
           0,
           0,
           0
          ],
          [
           0,
           0,
           0
          ],
          [
           0,
           0,
           0
          ],
          [
           0,
           0,
           0
          ],
          [
           7,
           14,
           31
          ],
          [
           1,
           1,
           2
          ],
          [
           0,
           0,
           0
          ],
          [
           0,
           0,
           0
          ],
          [
           0,
           0,
           0
          ],
          [
           1,
           2,
           2
          ],
          [
           0,
           0,
           0
          ],
          [
           0,
           0,
           0
          ],
          [
           0,
           0,
           0
          ],
          [
           0,
           0,
           0
          ],
          [
           0,
           0,
           0
          ],
          [
           0,
           0,
           0
          ],
          [
           1,
           29,
           2
          ],
          [
           0,
           0,
           0
          ],
          [
           0,
           0,
           0
          ],
          [
           0,
           0,
           0
          ],
          [
           20,
           36,
           32
          ],
          [
           0,
           0,
           0
          ],
          [
           0,
           0,
           0
          ],
          [
           0,
           0,
           0
          ],
          [
           0,
           0,
           0
          ],
          [
           24,
           13,
           37
          ],
          [
           0,
           1,
           0
          ],
          [
           0,
           0,
           1
          ],
          [
           0,
           0,
           0
          ],
          [
           0,
           1,
           0
          ],
          [
           0,
           0,
           0
          ],
          [
           0,
           0,
           0
          ],
          [
           0,
           3,
           10
          ],
          [
           0,
           0,
           0
          ],
          [
           0,
           0,
           0
          ],
          [
           0,
           0,
           0
          ],
          [
           0,
           1,
           0
          ],
          [
           0,
           0,
           0
          ],
          [
           2,
           14,
           3
          ],
          [
           0,
           0,
           0
          ],
          [
           8,
           5,
           18
          ],
          [
           20,
           17,
           33
          ],
          [
           33,
           76,
           57
          ],
          [
           0,
           0,
           0
          ],
          [
           0,
           0,
           0
          ],
          [
           11,
           20,
           42
          ],
          [
           13,
           13,
           7
          ],
          [
           0,
           0,
           0
          ],
          [
           0,
           0,
           0
          ],
          [
           0,
           1,
           1
          ],
          [
           0,
           0,
           0
          ],
          [
           0,
           0,
           0
          ],
          [
           0,
           0,
           0
          ],
          [
           0,
           0,
           0
          ],
          [
           0,
           0,
           0
          ],
          [
           0,
           0,
           0
          ],
          [
           0,
           0,
           0
          ],
          [
           0,
           0,
           0
          ],
          [
           0,
           0,
           0
          ],
          [
           0,
           0,
           0
          ],
          [
           0,
           1,
           0
          ],
          [
           0,
           0,
           0
          ],
          [
           0,
           0,
           1
          ],
          [
           0,
           0,
           0
          ],
          [
           0,
           0,
           0
          ],
          [
           31,
           6,
           28
          ],
          [
           0,
           0,
           0
          ],
          [
           0,
           5,
           2
          ],
          [
           0,
           0,
           0
          ],
          [
           10,
           9,
           31
          ],
          [
           1,
           0,
           1
          ],
          [
           6,
           28,
           7
          ],
          [
           0,
           0,
           0
          ],
          [
           0,
           0,
           0
          ],
          [
           0,
           0,
           0
          ],
          [
           0,
           0,
           0
          ],
          [
           0,
           0,
           0
          ],
          [
           0,
           0,
           1
          ],
          [
           0,
           0,
           0
          ],
          [
           0,
           0,
           0
          ],
          [
           2,
           0,
           0
          ],
          [
           0,
           0,
           0
          ],
          [
           0,
           0,
           0
          ],
          [
           2,
           3,
           1
          ],
          [
           0,
           0,
           0
          ],
          [
           0,
           0,
           0
          ],
          [
           0,
           0,
           0
          ],
          [
           0,
           0,
           0
          ],
          [
           0,
           0,
           0
          ],
          [
           0,
           0,
           0
          ],
          [
           0,
           0,
           0
          ],
          [
           0,
           0,
           0
          ],
          [
           0,
           0,
           0
          ],
          [
           20,
           7,
           14
          ],
          [
           0,
           0,
           0
          ],
          [
           0,
           1,
           4
          ],
          [
           0,
           0,
           0
          ],
          [
           6,
           5,
           7
          ],
          [
           16,
           1,
           6
          ],
          [
           0,
           0,
           0
          ],
          [
           16,
           0,
           0
          ],
          [
           0,
           0,
           0
          ],
          [
           0,
           0,
           0
          ],
          [
           0,
           1,
           0
          ],
          [
           0,
           0,
           0
          ],
          [
           0,
           0,
           0
          ],
          [
           0,
           0,
           0
          ],
          [
           1,
           0,
           2
          ],
          [
           0,
           0,
           0
          ],
          [
           0,
           1,
           1
          ],
          [
           0,
           0,
           0
          ],
          [
           40,
           31,
           35
          ],
          [
           0,
           0,
           0
          ],
          [
           0,
           0,
           0
          ],
          [
           0,
           0,
           0
          ],
          [
           0,
           0,
           0
          ],
          [
           0,
           0,
           0
          ],
          [
           0,
           0,
           0
          ],
          [
           0,
           0,
           0
          ],
          [
           0,
           0,
           0
          ],
          [
           0,
           0,
           0
          ],
          [
           0,
           0,
           0
          ],
          [
           0,
           0,
           0
          ],
          [
           2,
           11,
           8
          ],
          [
           0,
           0,
           0
          ],
          [
           10,
           20,
           34
          ],
          [
           0,
           0,
           0
          ],
          [
           0,
           0,
           0
          ],
          [
           0,
           0,
           0
          ],
          [
           0,
           24,
           4
          ],
          [
           0,
           1,
           0
          ],
          [
           0,
           0,
           0
          ],
          [
           0,
           0,
           1
          ],
          [
           0,
           0,
           0
          ],
          [
           0,
           0,
           0
          ],
          [
           0,
           0,
           3
          ],
          [
           0,
           0,
           0
          ],
          [
           29,
           15,
           12
          ],
          [
           0,
           0,
           0
          ],
          [
           190,
           121,
           50
          ],
          [
           0,
           0,
           3
          ],
          [
           0,
           0,
           0
          ],
          [
           47,
           6,
           35
          ],
          [
           0,
           0,
           0
          ],
          [
           0,
           0,
           0
          ],
          [
           0,
           0,
           0
          ],
          [
           0,
           0,
           0
          ],
          [
           0,
           0,
           0
          ],
          [
           0,
           0,
           0
          ],
          [
           0,
           0,
           0
          ],
          [
           0,
           1,
           12
          ],
          [
           0,
           0,
           0
          ],
          [
           0,
           0,
           0
          ],
          [
           18,
           6,
           11
          ],
          [
           4,
           4,
           3
          ],
          [
           0,
           0,
           0
          ],
          [
           0,
           0,
           0
          ],
          [
           0,
           0,
           0
          ],
          [
           0,
           0,
           2
          ],
          [
           0,
           0,
           0
          ],
          [
           0,
           0,
           0
          ],
          [
           0,
           0,
           0
          ],
          [
           0,
           0,
           0
          ],
          [
           0,
           0,
           0
          ],
          [
           0,
           0,
           0
          ],
          [
           1,
           17,
           5
          ],
          [
           0,
           0,
           0
          ],
          [
           10,
           14,
           17
          ],
          [
           0,
           0,
           0
          ],
          [
           0,
           0,
           0
          ],
          [
           4,
           7,
           18
          ],
          [
           0,
           0,
           0
          ],
          [
           0,
           0,
           0
          ],
          [
           0,
           0,
           0
          ],
          [
           0,
           1,
           0
          ],
          [
           6,
           16,
           30
          ],
          [
           0,
           0,
           0
          ],
          [
           0,
           0,
           0
          ],
          [
           0,
           0,
           0
          ],
          [
           0,
           0,
           0
          ],
          [
           0,
           0,
           1
          ],
          [
           0,
           1,
           0
          ],
          [
           0,
           0,
           0
          ],
          [
           3,
           1,
           3
          ],
          [
           0,
           0,
           1
          ],
          [
           0,
           0,
           0
          ],
          [
           0,
           0,
           0
          ],
          [
           0,
           0,
           0
          ],
          [
           0,
           0,
           0
          ],
          [
           1,
           2,
           2
          ],
          [
           0,
           0,
           0
          ],
          [
           8,
           23,
           7
          ],
          [
           13,
           4,
           14
          ],
          [
           36,
           44,
           49
          ],
          [
           0,
           0,
           0
          ],
          [
           0,
           0,
           0
          ],
          [
           22,
           17,
           15
          ],
          [
           89,
           69,
           54
          ],
          [
           0,
           0,
           0
          ],
          [
           0,
           0,
           0
          ],
          [
           0,
           0,
           1
          ],
          [
           0,
           0,
           0
          ],
          [
           0,
           0,
           0
          ],
          [
           0,
           0,
           0
          ],
          [
           0,
           0,
           0
          ],
          [
           0,
           0,
           0
          ],
          [
           0,
           0,
           0
          ],
          [
           0,
           0,
           0
          ],
          [
           0,
           0,
           0
          ],
          [
           20,
           9,
           15
          ],
          [
           0,
           3,
           0
          ],
          [
           0,
           0,
           0
          ],
          [
           0,
           1,
           0
          ],
          [
           0,
           0,
           0
          ],
          [
           0,
           0,
           0
          ],
          [
           0,
           0,
           0
          ],
          [
           0,
           0,
           0
          ],
          [
           0,
           1,
           0
          ],
          [
           13,
           11,
           12
          ],
          [
           0,
           0,
           0
          ],
          [
           0,
           7,
           0
          ],
          [
           0,
           0,
           0
          ],
          [
           4,
           3,
           14
          ],
          [
           5,
           2,
           2
          ],
          [
           28,
           37,
           12
          ],
          [
           0,
           0,
           0
          ],
          [
           0,
           0,
           0
          ],
          [
           0,
           0,
           0
          ],
          [
           0,
           0,
           0
          ],
          [
           0,
           0,
           0
          ],
          [
           0,
           0,
           0
          ],
          [
           0,
           0,
           0
          ],
          [
           0,
           0,
           1
          ],
          [
           0,
           0,
           0
          ],
          [
           1,
           0,
           2
          ],
          [
           0,
           0,
           0
          ],
          [
           0,
           0,
           0
          ],
          [
           0,
           0,
           0
          ],
          [
           0,
           0,
           2
          ],
          [
           0,
           0,
           1
          ],
          [
           0,
           0,
           0
          ],
          [
           0,
           0,
           0
          ],
          [
           0,
           0,
           0
          ],
          [
           0,
           0,
           0
          ],
          [
           0,
           0,
           0
          ],
          [
           0,
           0,
           0
          ],
          [
           0,
           0,
           0
          ],
          [
           6,
           7,
           35
          ],
          [
           0,
           0,
           0
          ],
          [
           0,
           0,
           0
          ],
          [
           2,
           25,
           3
          ],
          [
           4,
           4,
           15
          ],
          [
           0,
           0,
           0
          ],
          [
           0,
           0,
           0
          ],
          [
           0,
           0,
           0
          ],
          [
           0,
           0,
           0
          ],
          [
           0,
           12,
           0
          ],
          [
           0,
           0,
           1
          ],
          [
           0,
           0,
           0
          ],
          [
           2,
           9,
           10
          ],
          [
           1,
           0,
           0
          ],
          [
           0,
           0,
           0
          ],
          [
           0,
           0,
           0
          ],
          [
           0,
           0,
           0
          ],
          [
           8,
           34,
           16
          ],
          [
           0,
           0,
           0
          ],
          [
           0,
           0,
           0
          ],
          [
           0,
           1,
           0
          ],
          [
           0,
           0,
           0
          ],
          [
           0,
           0,
           0
          ],
          [
           0,
           0,
           0
          ],
          [
           0,
           0,
           0
          ],
          [
           0,
           0,
           0
          ],
          [
           0,
           0,
           0
          ],
          [
           0,
           0,
           0
          ],
          [
           8,
           13,
           7
          ],
          [
           1,
           0,
           0
          ],
          [
           7,
           5,
           33
          ],
          [
           0,
           0,
           0
          ],
          [
           0,
           0,
           0
          ],
          [
           0,
           0,
           0
          ],
          [
           3,
           5,
           6
          ],
          [
           0,
           0,
           0
          ],
          [
           0,
           0,
           1
          ],
          [
           0,
           0,
           0
          ],
          [
           0,
           0,
           0
          ],
          [
           0,
           0,
           0
          ],
          [
           0,
           0,
           0
          ],
          [
           1,
           1,
           0
          ],
          [
           0,
           0,
           0
          ],
          [
           0,
           0,
           0
          ],
          [
           173,
           81,
           111
          ],
          [
           0,
           0,
           0
          ],
          [
           89,
           67,
           58
          ],
          [
           0,
           0,
           0
          ],
          [
           0,
           0,
           0
          ],
          [
           0,
           0,
           0
          ],
          [
           0,
           0,
           0
          ],
          [
           0,
           0,
           0
          ],
          [
           0,
           0,
           0
          ],
          [
           15,
           32,
           22
          ],
          [
           0,
           0,
           0
          ],
          [
           0,
           0,
           0
          ],
          [
           0,
           0,
           0
          ],
          [
           0,
           0,
           0
          ],
          [
           1,
           0,
           1
          ],
          [
           0,
           0,
           0
          ],
          [
           0,
           0,
           0
          ],
          [
           0,
           0,
           0
          ],
          [
           0,
           0,
           2
          ],
          [
           0,
           0,
           0
          ],
          [
           13,
           23,
           16
          ],
          [
           9,
           16,
           9
          ],
          [
           0,
           0,
           1
          ],
          [
           0,
           0,
           0
          ],
          [
           0,
           0,
           0
          ],
          [
           0,
           1,
           2
          ],
          [
           0,
           0,
           0
          ],
          [
           0,
           0,
           0
          ],
          [
           0,
           0,
           0
          ],
          [
           0,
           0,
           0
          ],
          [
           0,
           0,
           0
          ],
          [
           0,
           0,
           0
          ],
          [
           0,
           0,
           0
          ],
          [
           12,
           1,
           0
          ],
          [
           0,
           0,
           0
          ],
          [
           3,
           7,
           7
          ],
          [
           0,
           0,
           0
          ],
          [
           0,
           0,
           0
          ],
          [
           32,
           33,
           15
          ],
          [
           0,
           0,
           0
          ],
          [
           0,
           0,
           0
          ],
          [
           0,
           0,
           0
          ],
          [
           0,
           0,
           0
          ],
          [
           18,
           46,
           17
          ],
          [
           0,
           0,
           0
          ],
          [
           0,
           0,
           0
          ],
          [
           0,
           0,
           0
          ],
          [
           0,
           0,
           0
          ],
          [
           0,
           0,
           1
          ],
          [
           0,
           0,
           0
          ],
          [
           0,
           12,
           3
          ],
          [
           39,
           11,
           13
          ],
          [
           0,
           0,
           0
          ],
          [
           2,
           2,
           7
          ],
          [
           0,
           0,
           0
          ],
          [
           0,
           0,
           0
          ],
          [
           0,
           0,
           0
          ],
          [
           0,
           0,
           0
          ],
          [
           0,
           0,
           0
          ],
          [
           26,
           15,
           3
          ],
          [
           1,
           0,
           2
          ],
          [
           1,
           0,
           2
          ],
          [
           104,
           64,
           62
          ],
          [
           0,
           0,
           0
          ],
          [
           7,
           5,
           8
          ],
          [
           14,
           11,
           44
          ],
          [
           0,
           0,
           0
          ],
          [
           0,
           0,
           0
          ],
          [
           8,
           3,
           39
          ],
          [
           0,
           0,
           0
          ],
          [
           94,
           74,
           67
          ],
          [
           0,
           0,
           3
          ],
          [
           2,
           0,
           0
          ],
          [
           0,
           0,
           0
          ],
          [
           0,
           0,
           0
          ],
          [
           0,
           0,
           0
          ],
          [
           0,
           0,
           0
          ],
          [
           0,
           0,
           0
          ],
          [
           0,
           0,
           0
          ],
          [
           0,
           0,
           0
          ],
          [
           14,
           23,
           8
          ],
          [
           1,
           3,
           1
          ],
          [
           0,
           0,
           0
          ],
          [
           0,
           1,
           2
          ],
          [
           0,
           1,
           2
          ],
          [
           1,
           1,
           0
          ],
          [
           0,
           0,
           0
          ],
          [
           0,
           0,
           0
          ],
          [
           0,
           0,
           0
          ],
          [
           0,
           0,
           0
          ],
          [
           23,
           19,
           21
          ],
          [
           0,
           0,
           0
          ],
          [
           0,
           3,
           1
          ],
          [
           0,
           0,
           0
          ],
          [
           6,
           10,
           43
          ],
          [
           2,
           4,
           2
          ],
          [
           13,
           2,
           11
          ],
          [
           0,
           0,
           0
          ],
          [
           0,
           0,
           0
          ],
          [
           0,
           0,
           0
          ],
          [
           0,
           2,
           1
          ],
          [
           0,
           0,
           0
          ],
          [
           0,
           0,
           0
          ],
          [
           0,
           0,
           0
          ],
          [
           0,
           0,
           0
          ],
          [
           1,
           0,
           12
          ],
          [
           0,
           2,
           0
          ],
          [
           0,
           0,
           0
          ],
          [
           1,
           1,
           1
          ],
          [
           0,
           0,
           2
          ],
          [
           0,
           0,
           0
          ],
          [
           0,
           0,
           0
          ],
          [
           0,
           1,
           0
          ],
          [
           0,
           0,
           2
          ],
          [
           0,
           0,
           0
          ],
          [
           0,
           0,
           0
          ],
          [
           0,
           0,
           0
          ],
          [
           0,
           0,
           0
          ],
          [
           0,
           0,
           0
          ],
          [
           0,
           0,
           0
          ],
          [
           0,
           0,
           0
          ],
          [
           0,
           2,
           0
          ],
          [
           0,
           0,
           0
          ],
          [
           6,
           21,
           8
          ],
          [
           0,
           0,
           0
          ],
          [
           0,
           7,
           4
          ],
          [
           11,
           26,
           6
          ],
          [
           1,
           7,
           5
          ],
          [
           0,
           0,
           0
          ],
          [
           0,
           0,
           7
          ],
          [
           0,
           0,
           0
          ],
          [
           0,
           0,
           0
          ],
          [
           0,
           1,
           0
          ],
          [
           0,
           0,
           1
          ],
          [
           0,
           0,
           0
          ],
          [
           5,
           22,
           19
          ],
          [
           0,
           0,
           0
          ],
          [
           3,
           0,
           2
          ],
          [
           0,
           0,
           1
          ],
          [
           0,
           0,
           1
          ],
          [
           5,
           20,
           9
          ],
          [
           0,
           3,
           0
          ],
          [
           0,
           0,
           0
          ],
          [
           0,
           0,
           0
          ],
          [
           0,
           0,
           0
          ],
          [
           0,
           0,
           0
          ],
          [
           0,
           0,
           0
          ],
          [
           0,
           0,
           0
          ],
          [
           0,
           0,
           5
          ],
          [
           0,
           0,
           0
          ],
          [
           0,
           0,
           0
          ],
          [
           0,
           0,
           0
          ],
          [
           3,
           0,
           5
          ],
          [
           0,
           0,
           1
          ],
          [
           2,
           27,
           13
          ],
          [
           0,
           0,
           0
          ],
          [
           0,
           0,
           0
          ],
          [
           0,
           0,
           0
          ],
          [
           4,
           3,
           27
          ],
          [
           0,
           0,
           0
          ],
          [
           0,
           0,
           1
          ],
          [
           0,
           0,
           0
          ],
          [
           0,
           20,
           0
          ],
          [
           0,
           0,
           0
          ],
          [
           0,
           0,
           0
          ],
          [
           2,
           2,
           1
          ],
          [
           0,
           0,
           0
          ],
          [
           0,
           0,
           0
          ],
          [
           0,
           0,
           0
          ],
          [
           94,
           57,
           86
          ],
          [
           0,
           0,
           0
          ],
          [
           0,
           0,
           0
          ],
          [
           0,
           0,
           0
          ],
          [
           0,
           0,
           0
          ],
          [
           0,
           0,
           0
          ],
          [
           0,
           0,
           0
          ],
          [
           0,
           0,
           0
          ],
          [
           0,
           0,
           0
          ],
          [
           0,
           0,
           0
          ],
          [
           0,
           0,
           0
          ],
          [
           0,
           0,
           0
          ],
          [
           0,
           0,
           0
          ],
          [
           0,
           0,
           3
          ],
          [
           2,
           3,
           7
          ],
          [
           0,
           0,
           0
          ],
          [
           0,
           0,
           0
          ],
          [
           0,
           0,
           0
          ],
          [
           0,
           2,
           0
          ],
          [
           0,
           0,
           0
          ],
          [
           0,
           0,
           0
          ],
          [
           3,
           29,
           5
          ],
          [
           0,
           0,
           0
          ],
          [
           0,
           1,
           2
          ],
          [
           0,
           0,
           0
          ],
          [
           0,
           0,
           0
          ],
          [
           0,
           0,
           0
          ],
          [
           0,
           0,
           0
          ],
          [
           0,
           0,
           0
          ],
          [
           0,
           0,
           0
          ],
          [
           0,
           1,
           29
          ],
          [
           0,
           1,
           10
          ],
          [
           0,
           0,
           3
          ],
          [
           0,
           0,
           0
          ],
          [
           18,
           10,
           12
          ],
          [
           0,
           0,
           0
          ],
          [
           0,
           0,
           0
          ],
          [
           0,
           0,
           0
          ],
          [
           0,
           0,
           0
          ],
          [
           0,
           0,
           0
          ],
          [
           14,
           6,
           12
          ],
          [
           0,
           0,
           0
          ],
          [
           3,
           5,
           2
          ],
          [
           1,
           2,
           0
          ],
          [
           5,
           0,
           1
          ],
          [
           0,
           0,
           0
          ],
          [
           0,
           0,
           0
          ],
          [
           0,
           0,
           0
          ],
          [
           0,
           0,
           0
          ],
          [
           0,
           0,
           0
          ],
          [
           0,
           0,
           0
          ],
          [
           0,
           0,
           0
          ],
          [
           0,
           0,
           0
          ],
          [
           0,
           1,
           3
          ],
          [
           8,
           17,
           5
          ],
          [
           0,
           0,
           0
          ],
          [
           0,
           0,
           0
          ],
          [
           0,
           0,
           0
          ],
          [
           0,
           0,
           0
          ],
          [
           0,
           0,
           0
          ],
          [
           0,
           0,
           0
          ],
          [
           16,
           13,
           4
          ],
          [
           0,
           0,
           0
          ],
          [
           0,
           0,
           3
          ],
          [
           0,
           0,
           0
          ],
          [
           4,
           8,
           4
          ],
          [
           0,
           0,
           0
          ],
          [
           23,
           1,
           0
          ],
          [
           0,
           0,
           0
          ],
          [
           0,
           0,
           0
          ],
          [
           1,
           0,
           1
          ],
          [
           6,
           8,
           5
          ],
          [
           1,
           0,
           0
          ],
          [
           0,
           0,
           0
          ],
          [
           0,
           0,
           0
          ],
          [
           2,
           0,
           1
          ],
          [
           0,
           0,
           0
          ],
          [
           0,
           0,
           0
          ],
          [
           0,
           0,
           0
          ],
          [
           0,
           19,
           1
          ],
          [
           1,
           1,
           0
          ],
          [
           0,
           0,
           0
          ],
          [
           0,
           0,
           0
          ],
          [
           32,
           15,
           83
          ],
          [
           0,
           1,
           2
          ],
          [
           0,
           1,
           0
          ],
          [
           0,
           5,
           0
          ],
          [
           0,
           0,
           0
          ],
          [
           0,
           0,
           0
          ],
          [
           1,
           0,
           0
          ],
          [
           2,
           2,
           2
          ],
          [
           0,
           0,
           0
          ],
          [
           0,
           0,
           0
          ],
          [
           0,
           0,
           0
          ],
          [
           0,
           0,
           0
          ],
          [
           0,
           0,
           0
          ],
          [
           1,
           6,
           11
          ],
          [
           0,
           0,
           0
          ],
          [
           0,
           0,
           0
          ],
          [
           5,
           14,
           43
          ],
          [
           0,
           0,
           0
          ],
          [
           3,
           12,
           6
          ],
          [
           0,
           0,
           0
          ],
          [
           0,
           0,
           0
          ],
          [
           0,
           0,
           0
          ],
          [
           8,
           30,
           12
          ],
          [
           0,
           0,
           0
          ],
          [
           0,
           0,
           0
          ],
          [
           0,
           0,
           0
          ],
          [
           0,
           0,
           0
          ],
          [
           19,
           70,
           17
          ],
          [
           0,
           0,
           0
          ],
          [
           0,
           0,
           0
          ],
          [
           0,
           0,
           0
          ],
          [
           0,
           0,
           0
          ],
          [
           0,
           0,
           0
          ],
          [
           0,
           0,
           0
          ],
          [
           0,
           0,
           0
          ],
          [
           1,
           0,
           0
          ],
          [
           11,
           8,
           0
          ],
          [
           37,
           8,
           10
          ],
          [
           0,
           0,
           0
          ],
          [
           4,
           5,
           4
          ],
          [
           10,
           1,
           0
          ],
          [
           0,
           0,
           0
          ],
          [
           0,
           0,
           0
          ],
          [
           0,
           0,
           0
          ],
          [
           1,
           0,
           0
          ],
          [
           0,
           0,
           0
          ],
          [
           0,
           0,
           0
          ],
          [
           23,
           21,
           21
          ],
          [
           0,
           0,
           0
          ],
          [
           2,
           0,
           1
          ],
          [
           0,
           0,
           0
          ],
          [
           1,
           2,
           1
          ],
          [
           21,
           10,
           20
          ],
          [
           0,
           0,
           0
          ],
          [
           0,
           0,
           0
          ],
          [
           2,
           15,
           9
          ],
          [
           0,
           0,
           0
          ],
          [
           0,
           0,
           2
          ],
          [
           0,
           0,
           0
          ],
          [
           42,
           35,
           46
          ],
          [
           0,
           0,
           0
          ],
          [
           4,
           4,
           0
          ],
          [
           0,
           0,
           0
          ],
          [
           0,
           0,
           0
          ],
          [
           0,
           0,
           0
          ],
          [
           0,
           0,
           0
          ],
          [
           0,
           0,
           0
          ],
          [
           0,
           0,
           0
          ],
          [
           1,
           0,
           0
          ],
          [
           0,
           0,
           0
          ],
          [
           8,
           9,
           25
          ],
          [
           2,
           1,
           1
          ],
          [
           0,
           0,
           1
          ],
          [
           1,
           1,
           1
          ],
          [
           3,
           0,
           1
          ],
          [
           0,
           0,
           0
          ],
          [
           0,
           0,
           0
          ],
          [
           0,
           0,
           1
          ],
          [
           0,
           0,
           0
          ],
          [
           19,
           24,
           28
          ],
          [
           0,
           0,
           0
          ],
          [
           1,
           3,
           12
          ],
          [
           0,
           0,
           0
          ],
          [
           3,
           26,
           13
          ],
          [
           3,
           2,
           4
          ],
          [
           1,
           4,
           3
          ],
          [
           0,
           0,
           0
          ],
          [
           3,
           23,
           6
          ],
          [
           0,
           0,
           0
          ],
          [
           0,
           0,
           0
          ],
          [
           0,
           0,
           0
          ],
          [
           0,
           1,
           0
          ],
          [
           0,
           0,
           0
          ],
          [
           0,
           0,
           0
          ],
          [
           0,
           0,
           0
          ],
          [
           0,
           0,
           0
          ],
          [
           0,
           0,
           0
          ],
          [
           0,
           0,
           11
          ],
          [
           0,
           0,
           0
          ],
          [
           0,
           0,
           0
          ],
          [
           0,
           0,
           2
          ],
          [
           0,
           2,
           1
          ],
          [
           0,
           0,
           0
          ],
          [
           0,
           2,
           1
          ],
          [
           0,
           0,
           0
          ],
          [
           0,
           0,
           1
          ],
          [
           0,
           0,
           1
          ],
          [
           0,
           0,
           0
          ],
          [
           0,
           0,
           0
          ],
          [
           0,
           0,
           0
          ],
          [
           0,
           0,
           0
          ],
          [
           0,
           0,
           1
          ],
          [
           0,
           0,
           0
          ],
          [
           0,
           0,
           0
          ],
          [
           0,
           0,
           0
          ],
          [
           0,
           2,
           0
          ],
          [
           0,
           0,
           0
          ],
          [
           33,
           8,
           21
          ],
          [
           0,
           0,
           0
          ],
          [
           16,
           4,
           2
          ],
          [
           2,
           3,
           17
          ],
          [
           0,
           0,
           0
          ],
          [
           1,
           1,
           3
          ],
          [
           0,
           0,
           0
          ],
          [
           0,
           0,
           0
          ],
          [
           0,
           0,
           0
          ],
          [
           0,
           0,
           0
          ],
          [
           0,
           0,
           0
          ],
          [
           0,
           1,
           0
          ],
          [
           0,
           0,
           0
          ],
          [
           0,
           0,
           0
          ],
          [
           7,
           8,
           7
          ],
          [
           1,
           0,
           2
          ],
          [
           2,
           0,
           1
          ],
          [
           0,
           0,
           1
          ],
          [
           0,
           0,
           0
          ],
          [
           12,
           9,
           11
          ],
          [
           3,
           1,
           0
          ],
          [
           35,
           45,
           34
          ],
          [
           0,
           0,
           0
          ],
          [
           0,
           0,
           0
          ],
          [
           1,
           12,
           10
          ],
          [
           0,
           0,
           0
          ],
          [
           0,
           0,
           0
          ],
          [
           0,
           0,
           0
          ],
          [
           0,
           0,
           0
          ],
          [
           0,
           0,
           0
          ],
          [
           0,
           2,
           0
          ],
          [
           0,
           0,
           0
          ],
          [
           0,
           0,
           0
          ],
          [
           0,
           0,
           0
          ],
          [
           0,
           0,
           0
          ],
          [
           0,
           0,
           0
          ],
          [
           5,
           6,
           0
          ],
          [
           0,
           0,
           0
          ],
          [
           1,
           1,
           1
          ],
          [
           3,
           22,
           5
          ],
          [
           0,
           0,
           0
          ],
          [
           1,
           0,
           0
          ],
          [
           0,
           0,
           0
          ],
          [
           0,
           1,
           0
          ],
          [
           1,
           0,
           1
          ],
          [
           0,
           0,
           0
          ],
          [
           0,
           0,
           0
          ],
          [
           0,
           0,
           0
          ],
          [
           0,
           1,
           0
          ],
          [
           0,
           0,
           2
          ],
          [
           0,
           0,
           0
          ],
          [
           4,
           1,
           1
          ],
          [
           0,
           0,
           0
          ],
          [
           0,
           0,
           1
          ],
          [
           9,
           5,
           16
          ],
          [
           0,
           0,
           0
          ],
          [
           148,
           43,
           50
          ],
          [
           0,
           1,
           1
          ],
          [
           0,
           0,
           0
          ],
          [
           0,
           0,
           0
          ],
          [
           0,
           0,
           0
          ],
          [
           0,
           0,
           0
          ],
          [
           0,
           0,
           0
          ],
          [
           0,
           1,
           0
          ],
          [
           0,
           0,
           0
          ],
          [
           0,
           0,
           0
          ],
          [
           0,
           0,
           0
          ],
          [
           0,
           0,
           0
          ],
          [
           0,
           0,
           1
          ],
          [
           3,
           5,
           12
          ],
          [
           0,
           0,
           0
          ],
          [
           0,
           0,
           1
          ],
          [
           0,
           0,
           0
          ],
          [
           0,
           0,
           0
          ],
          [
           0,
           0,
           2
          ],
          [
           1,
           0,
           0
          ],
          [
           14,
           28,
           7
          ],
          [
           0,
           0,
           0
          ],
          [
           0,
           9,
           5
          ],
          [
           0,
           0,
           0
          ],
          [
           21,
           1,
           1
          ],
          [
           0,
           5,
           0
          ],
          [
           0,
           0,
           0
          ],
          [
           0,
           0,
           0
          ],
          [
           2,
           7,
           49
          ],
          [
           2,
           1,
           12
          ],
          [
           0,
           0,
           4
          ],
          [
           0,
           0,
           0
          ],
          [
           22,
           12,
           10
          ],
          [
           0,
           0,
           0
          ],
          [
           0,
           0,
           0
          ],
          [
           0,
           0,
           0
          ],
          [
           0,
           0,
           0
          ],
          [
           0,
           0,
           0
          ],
          [
           0,
           0,
           0
          ],
          [
           0,
           0,
           0
          ],
          [
           3,
           9,
           5
          ],
          [
           0,
           0,
           0
          ],
          [
           8,
           1,
           4
          ],
          [
           0,
           0,
           2
          ],
          [
           0,
           0,
           0
          ],
          [
           0,
           0,
           0
          ],
          [
           5,
           3,
           1
          ],
          [
           0,
           0,
           0
          ],
          [
           0,
           0,
           0
          ],
          [
           0,
           0,
           0
          ],
          [
           0,
           0,
           0
          ],
          [
           0,
           0,
           0
          ],
          [
           0,
           0,
           0
          ],
          [
           0,
           0,
           0
          ],
          [
           0,
           0,
           0
          ],
          [
           5,
           4,
           2
          ],
          [
           13,
           15,
           12
          ],
          [
           0,
           0,
           0
          ],
          [
           0,
           0,
           0
          ],
          [
           0,
           0,
           0
          ],
          [
           0,
           0,
           0
          ],
          [
           0,
           0,
           0
          ],
          [
           0,
           0,
           0
          ],
          [
           0,
           0,
           0
          ],
          [
           14,
           32,
           6
          ],
          [
           0,
           0,
           0
          ],
          [
           0,
           0,
           0
          ],
          [
           6,
           5,
           3
          ],
          [
           0,
           0,
           0
          ],
          [
           0,
           2,
           5
          ],
          [
           0,
           0,
           0
          ],
          [
           0,
           0,
           0
          ],
          [
           0,
           1,
           0
          ],
          [
           0,
           0,
           0
          ],
          [
           25,
           4,
           5
          ],
          [
           0,
           0,
           0
          ],
          [
           0,
           0,
           0
          ],
          [
           0,
           0,
           0
          ],
          [
           0,
           0,
           0
          ],
          [
           1,
           1,
           3
          ],
          [
           0,
           0,
           0
          ],
          [
           0,
           0,
           0
          ],
          [
           0,
           0,
           0
          ],
          [
           0,
           17,
           3
          ],
          [
           0,
           0,
           1
          ],
          [
           0,
           0,
           0
          ],
          [
           0,
           0,
           0
          ],
          [
           60,
           69,
           54
          ],
          [
           3,
           1,
           0
          ],
          [
           2,
           0,
           1
          ],
          [
           6,
           0,
           5
          ],
          [
           0,
           0,
           0
          ],
          [
           0,
           0,
           1
          ],
          [
           0,
           0,
           0
          ],
          [
           0,
           3,
           4
          ],
          [
           0,
           0,
           0
          ],
          [
           0,
           0,
           0
          ],
          [
           0,
           0,
           0
          ],
          [
           0,
           0,
           0
          ],
          [
           0,
           0,
           0
          ],
          [
           3,
           8,
           11
          ],
          [
           0,
           0,
           0
          ],
          [
           0,
           0,
           0
          ],
          [
           0,
           12,
           36
          ],
          [
           0,
           0,
           0
          ],
          [
           5,
           6,
           2
          ],
          [
           0,
           0,
           0
          ],
          [
           0,
           0,
           0
          ],
          [
           0,
           0,
           0
          ],
          [
           4,
           4,
           23
          ],
          [
           0,
           0,
           0
          ],
          [
           0,
           0,
           0
          ],
          [
           0,
           0,
           0
          ],
          [
           0,
           0,
           16
          ],
          [
           39,
           23,
           17
          ],
          [
           0,
           0,
           0
          ],
          [
           14,
           0,
           0
          ],
          [
           0,
           0,
           0
          ],
          [
           0,
           0,
           0
          ],
          [
           1,
           0,
           0
          ],
          [
           0,
           0,
           0
          ],
          [
           0,
           0,
           0
          ],
          [
           0,
           0,
           2
          ],
          [
           1,
           0,
           9
          ],
          [
           18,
           34,
           12
          ],
          [
           0,
           0,
           0
          ],
          [
           2,
           3,
           4
          ],
          [
           18,
           3,
           4
          ],
          [
           0,
           0,
           0
          ],
          [
           0,
           0,
           0
          ],
          [
           0,
           0,
           0
          ],
          [
           0,
           0,
           0
          ],
          [
           0,
           0,
           0
          ],
          [
           0,
           0,
           0
          ],
          [
           0,
           0,
           0
          ],
          [
           3,
           19,
           20
          ],
          [
           1,
           0,
           2
          ],
          [
           4,
           1,
           3
          ],
          [
           0,
           0,
           0
          ],
          [
           3,
           1,
           1
          ],
          [
           22,
           30,
           14
          ],
          [
           0,
           0,
           0
          ],
          [
           0,
           0,
           0
          ],
          [
           0,
           0,
           0
          ],
          [
           22,
           20,
           12
          ],
          [
           0,
           0,
           0
          ],
          [
           0,
           0,
           6
          ],
          [
           0,
           0,
           0
          ],
          [
           31,
           23,
           63
          ],
          [
           0,
           0,
           0
          ],
          [
           4,
           6,
           8
          ],
          [
           0,
           0,
           0
          ],
          [
           0,
           0,
           0
          ],
          [
           0,
           0,
           0
          ],
          [
           0,
           0,
           0
          ],
          [
           0,
           0,
           0
          ],
          [
           0,
           0,
           0
          ],
          [
           0,
           0,
           0
          ],
          [
           0,
           0,
           0
          ],
          [
           25,
           24,
           4
          ],
          [
           2,
           4,
           2
          ],
          [
           0,
           0,
           1
          ],
          [
           0,
           0,
           0
          ],
          [
           3,
           0,
           1
          ],
          [
           0,
           1,
           0
          ],
          [
           0,
           0,
           0
          ],
          [
           0,
           0,
           1
          ],
          [
           0,
           0,
           1
          ],
          [
           0,
           0,
           0
          ],
          [
           22,
           14,
           29
          ],
          [
           0,
           0,
           0
          ],
          [
           0,
           20,
           3
          ],
          [
           0,
           0,
           0
          ],
          [
           5,
           31,
           8
          ],
          [
           3,
           4,
           0
          ],
          [
           2,
           3,
           2
          ],
          [
           0,
           0,
           1
          ],
          [
           12,
           26,
           34
          ],
          [
           0,
           1,
           1
          ],
          [
           0,
           0,
           1
          ],
          [
           0,
           0,
           0
          ],
          [
           1,
           1,
           1
          ],
          [
           0,
           0,
           0
          ],
          [
           0,
           0,
           0
          ],
          [
           0,
           0,
           0
          ],
          [
           0,
           0,
           0
          ],
          [
           0,
           0,
           0
          ],
          [
           0,
           0,
           0
          ],
          [
           2,
           0,
           15
          ],
          [
           0,
           0,
           0
          ],
          [
           0,
           0,
           0
          ],
          [
           0,
           1,
           4
          ],
          [
           0,
           0,
           0
          ],
          [
           0,
           0,
           0
          ],
          [
           0,
           1,
           1
          ],
          [
           0,
           0,
           0
          ],
          [
           1,
           2,
           3
          ],
          [
           0,
           0,
           0
          ],
          [
           0,
           0,
           1
          ],
          [
           0,
           0,
           0
          ],
          [
           0,
           0,
           0
          ],
          [
           0,
           0,
           0
          ],
          [
           1,
           0,
           0
          ],
          [
           0,
           0,
           0
          ],
          [
           0,
           0,
           0
          ],
          [
           0,
           0,
           0
          ],
          [
           0,
           0,
           0
          ],
          [
           0,
           0,
           0
          ],
          [
           27,
           29,
           23
          ],
          [
           0,
           0,
           0
          ],
          [
           6,
           2,
           0
          ],
          [
           20,
           4,
           19
          ],
          [
           0,
           0,
           0
          ],
          [
           1,
           0,
           3
          ],
          [
           0,
           0,
           0
          ],
          [
           0,
           0,
           0
          ],
          [
           0,
           0,
           0
          ],
          [
           0,
           0,
           0
          ],
          [
           0,
           0,
           0
          ],
          [
           0,
           0,
           0
          ],
          [
           0,
           0,
           0
          ],
          [
           0,
           0,
           0
          ],
          [
           0,
           0,
           0
          ],
          [
           7,
           10,
           7
          ],
          [
           0,
           0,
           2
          ],
          [
           0,
           1,
           3
          ],
          [
           0,
           0,
           0
          ],
          [
           0,
           0,
           1
          ],
          [
           27,
           6,
           13
          ],
          [
           0,
           2,
           3
          ],
          [
           66,
           66,
           54
          ],
          [
           0,
           0,
           0
          ],
          [
           11,
           1,
           13
          ],
          [
           0,
           0,
           0
          ],
          [
           0,
           0,
           0
          ],
          [
           0,
           0,
           0
          ],
          [
           0,
           0,
           0
          ],
          [
           3,
           0,
           0
          ],
          [
           0,
           0,
           0
          ],
          [
           0,
           0,
           0
          ],
          [
           0,
           0,
           0
          ],
          [
           0,
           1,
           0
          ],
          [
           0,
           0,
           0
          ],
          [
           0,
           0,
           0
          ],
          [
           1,
           11,
           2
          ],
          [
           0,
           0,
           0
          ],
          [
           2,
           3,
           1
          ],
          [
           4,
           20,
           8
          ],
          [
           0,
           0,
           0
          ],
          [
           0,
           0,
           0
          ],
          [
           0,
           0,
           0
          ],
          [
           0,
           0,
           0
          ],
          [
           1,
           0,
           2
          ],
          [
           0,
           0,
           0
          ],
          [
           0,
           0,
           0
          ],
          [
           0,
           0,
           0
          ],
          [
           0,
           1,
           4
          ],
          [
           0,
           1,
           1
          ],
          [
           0,
           0,
           0
          ],
          [
           3,
           0,
           2
          ],
          [
           0,
           0,
           0
          ],
          [
           0,
           0,
           0
          ],
          [
           3,
           19,
           12
          ],
          [
           0,
           1,
           0
          ],
          [
           130,
           61,
           50
          ],
          [
           1,
           1,
           2
          ],
          [
           0,
           0,
           0
          ],
          [
           0,
           0,
           0
          ],
          [
           0,
           1,
           0
          ],
          [
           0,
           0,
           0
          ],
          [
           0,
           0,
           0
          ],
          [
           0,
           0,
           0
          ],
          [
           0,
           0,
           0
          ],
          [
           0,
           0,
           0
          ],
          [
           0,
           0,
           0
          ],
          [
           0,
           0,
           0
          ],
          [
           2,
           0,
           0
          ],
          [
           3,
           4,
           13
          ],
          [
           0,
           0,
           0
          ],
          [
           0,
           0,
           0
          ],
          [
           0,
           0,
           0
          ],
          [
           0,
           0,
           0
          ],
          [
           0,
           0,
           1
          ],
          [
           0,
           0,
           0
          ],
          [
           0,
           1,
           2
          ],
          [
           52,
           7,
           15
          ],
          [
           0,
           0,
           0
          ],
          [
           2,
           5,
           9
          ],
          [
           0,
           0,
           0
          ],
          [
           3,
           1,
           0
          ],
          [
           0,
           0,
           0
          ],
          [
           1,
           2,
           0
          ],
          [
           0,
           0,
           0
          ],
          [
           0,
           0,
           0
          ],
          [
           1,
           1,
           1
          ],
          [
           0,
           0,
           0
          ],
          [
           7,
           5,
           1
          ],
          [
           5,
           5,
           5
          ],
          [
           5,
           0,
           1
          ],
          [
           0,
           0,
           0
          ],
          [
           26,
           23,
           12
          ],
          [
           0,
           0,
           0
          ],
          [
           0,
           0,
           0
          ],
          [
           0,
           0,
           0
          ],
          [
           0,
           0,
           0
          ],
          [
           0,
           0,
           0
          ],
          [
           0,
           0,
           0
          ],
          [
           0,
           0,
           0
          ],
          [
           0,
           0,
           0
          ],
          [
           0,
           0,
           0
          ],
          [
           4,
           11,
           6
          ],
          [
           0,
           0,
           0
          ],
          [
           0,
           1,
           1
          ],
          [
           0,
           0,
           0
          ],
          [
           0,
           0,
           0
          ],
          [
           0,
           0,
           0
          ],
          [
           5,
           2,
           0
          ],
          [
           0,
           0,
           0
          ],
          [
           0,
           0,
           0
          ],
          [
           0,
           0,
           0
          ],
          [
           0,
           0,
           0
          ],
          [
           0,
           0,
           0
          ],
          [
           0,
           0,
           0
          ],
          [
           0,
           0,
           0
          ],
          [
           0,
           0,
           0
          ],
          [
           0,
           0,
           0
          ],
          [
           3,
           5,
           0
          ],
          [
           0,
           0,
           0
          ],
          [
           23,
           11,
           7
          ],
          [
           0,
           0,
           0
          ],
          [
           0,
           1,
           1
          ],
          [
           0,
           0,
           0
          ],
          [
           0,
           0,
           0
          ],
          [
           6,
           5,
           27
          ],
          [
           0,
           0,
           0
          ],
          [
           0,
           0,
           4
          ],
          [
           0,
           0,
           0
          ],
          [
           3,
           7,
           14
          ],
          [
           0,
           0,
           0
          ],
          [
           0,
           2,
           24
          ],
          [
           0,
           0,
           0
          ],
          [
           0,
           0,
           0
          ],
          [
           0,
           0,
           0
          ],
          [
           0,
           0,
           0
          ],
          [
           0,
           0,
           0
          ],
          [
           0,
           0,
           0
          ],
          [
           10,
           58,
           15
          ],
          [
           0,
           0,
           0
          ],
          [
           0,
           0,
           0
          ],
          [
           0,
           0,
           0
          ],
          [
           0,
           0,
           0
          ],
          [
           0,
           0,
           0
          ],
          [
           0,
           0,
           0
          ],
          [
           0,
           0,
           0
          ],
          [
           0,
           0,
           0
          ],
          [
           0,
           0,
           0
          ],
          [
           28,
           0,
           21
          ],
          [
           0,
           0,
           0
          ],
          [
           0,
           0,
           0
          ],
          [
           0,
           0,
           0
          ],
          [
           49,
           77,
           31
          ],
          [
           3,
           4,
           1
          ],
          [
           1,
           0,
           4
          ],
          [
           1,
           0,
           1
          ],
          [
           0,
           0,
           0
          ],
          [
           0,
           0,
           0
          ],
          [
           0,
           0,
           0
          ],
          [
           1,
           0,
           2
          ],
          [
           0,
           0,
           0
          ],
          [
           0,
           0,
           0
          ],
          [
           0,
           0,
           0
          ],
          [
           0,
           0,
           0
          ],
          [
           0,
           0,
           0
          ],
          [
           2,
           5,
           8
          ],
          [
           0,
           0,
           0
          ],
          [
           0,
           0,
           0
          ],
          [
           18,
           19,
           3
          ],
          [
           0,
           0,
           0
          ],
          [
           0,
           0,
           0
          ],
          [
           2,
           1,
           14
          ],
          [
           0,
           0,
           0
          ],
          [
           0,
           0,
           0
          ],
          [
           0,
           0,
           0
          ],
          [
           3,
           10,
           4
          ],
          [
           0,
           0,
           0
          ],
          [
           0,
           0,
           0
          ],
          [
           0,
           0,
           0
          ],
          [
           3,
           0,
           1
          ],
          [
           52,
           27,
           15
          ],
          [
           0,
           0,
           0
          ],
          [
           1,
           0,
           0
          ],
          [
           0,
           0,
           0
          ],
          [
           0,
           0,
           0
          ],
          [
           0,
           0,
           2
          ],
          [
           0,
           0,
           0
          ],
          [
           0,
           0,
           0
          ],
          [
           0,
           0,
           0
          ],
          [
           15,
           3,
           3
          ],
          [
           32,
           8,
           22
          ],
          [
           0,
           0,
           0
          ],
          [
           1,
           6,
           6
          ],
          [
           19,
           1,
           9
          ],
          [
           0,
           0,
           0
          ],
          [
           1,
           0,
           0
          ],
          [
           0,
           0,
           0
          ],
          [
           1,
           1,
           3
          ],
          [
           0,
           0,
           1
          ],
          [
           0,
           0,
           0
          ],
          [
           4,
           17,
           9
          ],
          [
           0,
           1,
           2
          ],
          [
           2,
           3,
           2
          ],
          [
           0,
           0,
           0
          ],
          [
           0,
           2,
           0
          ],
          [
           21,
           10,
           22
          ],
          [
           0,
           0,
           0
          ],
          [
           0,
           0,
           0
          ],
          [
           0,
           0,
           0
          ],
          [
           17,
           25,
           15
          ],
          [
           0,
           0,
           0
          ],
          [
           2,
           2,
           0
          ],
          [
           0,
           0,
           0
          ],
          [
           41,
           45,
           63
          ],
          [
           0,
           0,
           0
          ],
          [
           8,
           18,
           5
          ],
          [
           0,
           0,
           0
          ],
          [
           0,
           0,
           0
          ],
          [
           0,
           0,
           0
          ],
          [
           0,
           0,
           0
          ],
          [
           0,
           0,
           0
          ],
          [
           0,
           0,
           0
          ],
          [
           0,
           2,
           0
          ],
          [
           0,
           0,
           0
          ],
          [
           24,
           12,
           4
          ],
          [
           1,
           1,
           3
          ],
          [
           0,
           1,
           0
          ],
          [
           2,
           2,
           2
          ],
          [
           0,
           0,
           0
          ],
          [
           0,
           0,
           0
          ],
          [
           0,
           0,
           0
          ],
          [
           1,
           0,
           1
          ],
          [
           0,
           0,
           0
          ],
          [
           24,
           41,
           39
          ],
          [
           0,
           0,
           0
          ],
          [
           6,
           1,
           6
          ],
          [
           0,
           0,
           0
          ],
          [
           21,
           20,
           52
          ],
          [
           1,
           4,
           3
          ],
          [
           1,
           4,
           2
          ],
          [
           0,
           0,
           0
          ],
          [
           0,
           0,
           0
          ],
          [
           14,
           28,
           10
          ],
          [
           0,
           0,
           0
          ],
          [
           0,
           0,
           0
          ],
          [
           0,
           0,
           0
          ],
          [
           0,
           4,
           0
          ],
          [
           0,
           0,
           0
          ],
          [
           0,
           0,
           0
          ],
          [
           0,
           0,
           0
          ],
          [
           0,
           0,
           0
          ],
          [
           0,
           0,
           0
          ],
          [
           0,
           0,
           0
          ],
          [
           1,
           2,
           0
          ],
          [
           0,
           0,
           0
          ],
          [
           0,
           0,
           0
          ],
          [
           2,
           1,
           0
          ],
          [
           0,
           0,
           0
          ],
          [
           0,
           0,
           0
          ],
          [
           0,
           0,
           0
          ],
          [
           0,
           0,
           0
          ],
          [
           0,
           3,
           1
          ],
          [
           0,
           0,
           1
          ],
          [
           0,
           0,
           0
          ],
          [
           0,
           0,
           0
          ],
          [
           0,
           0,
           0
          ],
          [
           0,
           0,
           0
          ],
          [
           0,
           0,
           0
          ],
          [
           0,
           0,
           0
          ],
          [
           0,
           0,
           0
          ],
          [
           0,
           0,
           0
          ],
          [
           0,
           0,
           0
          ],
          [
           0,
           0,
           0
          ],
          [
           4,
           51,
           22
          ],
          [
           0,
           0,
           0
          ],
          [
           0,
           0,
           8
          ],
          [
           0,
           0,
           0
          ],
          [
           5,
           0,
           2
          ],
          [
           0,
           0,
           0
          ],
          [
           4,
           2,
           0
          ],
          [
           0,
           0,
           0
          ],
          [
           0,
           0,
           0
          ],
          [
           0,
           0,
           0
          ],
          [
           0,
           17,
           0
          ],
          [
           0,
           0,
           0
          ],
          [
           0,
           0,
           0
          ],
          [
           0,
           0,
           0
          ],
          [
           0,
           0,
           0
          ],
          [
           0,
           0,
           0
          ],
          [
           4,
           2,
           6
          ],
          [
           0,
           2,
           1
          ],
          [
           0,
           4,
           1
          ],
          [
           0,
           0,
           0
          ],
          [
           0,
           0,
           0
          ],
          [
           23,
           5,
           11
          ],
          [
           4,
           3,
           3
          ],
          [
           48,
           46,
           95
          ],
          [
           0,
           0,
           0
          ],
          [
           0,
           0,
           0
          ],
          [
           0,
           13,
           0
          ],
          [
           0,
           0,
           0
          ],
          [
           0,
           0,
           0
          ],
          [
           0,
           0,
           0
          ],
          [
           0,
           0,
           0
          ],
          [
           0,
           0,
           0
          ],
          [
           0,
           2,
           3
          ],
          [
           0,
           0,
           0
          ],
          [
           0,
           0,
           0
          ],
          [
           0,
           0,
           0
          ],
          [
           0,
           0,
           0
          ],
          [
           0,
           0,
           0
          ],
          [
           0,
           0,
           0
          ],
          [
           1,
           2,
           4
          ],
          [
           0,
           0,
           0
          ],
          [
           3,
           2,
           5
          ],
          [
           5,
           5,
           2
          ],
          [
           0,
           0,
           0
          ],
          [
           0,
           0,
           1
          ],
          [
           0,
           0,
           0
          ],
          [
           0,
           0,
           0
          ],
          [
           3,
           1,
           4
          ],
          [
           0,
           0,
           0
          ],
          [
           0,
           0,
           0
          ],
          [
           0,
           0,
           0
          ],
          [
           0,
           0,
           0
          ],
          [
           2,
           4,
           3
          ],
          [
           0,
           0,
           1
          ],
          [
           0,
           0,
           0
          ],
          [
           3,
           3,
           5
          ],
          [
           1,
           0,
           0
          ],
          [
           0,
           0,
           0
          ],
          [
           8,
           8,
           31
          ],
          [
           0,
           0,
           0
          ],
          [
           117,
           75,
           70
          ],
          [
           2,
           1,
           2
          ],
          [
           0,
           0,
           0
          ],
          [
           0,
           0,
           2
          ],
          [
           0,
           0,
           0
          ],
          [
           0,
           0,
           0
          ],
          [
           0,
           0,
           0
          ],
          [
           0,
           0,
           0
          ],
          [
           1,
           1,
           1
          ],
          [
           0,
           0,
           0
          ],
          [
           0,
           0,
           0
          ],
          [
           0,
           0,
           0
          ],
          [
           0,
           0,
           0
          ],
          [
           0,
           0,
           0
          ],
          [
           1,
           0,
           1
          ],
          [
           16,
           7,
           7
          ],
          [
           0,
           0,
           0
          ],
          [
           0,
           0,
           0
          ],
          [
           0,
           0,
           0
          ],
          [
           0,
           0,
           0
          ],
          [
           0,
           1,
           0
          ],
          [
           0,
           0,
           0
          ],
          [
           0,
           1,
           0
          ],
          [
           30,
           28,
           11
          ],
          [
           0,
           0,
           0
          ],
          [
           2,
           5,
           6
          ],
          [
           1,
           2,
           0
          ],
          [
           0,
           0,
           0
          ],
          [
           1,
           2,
           24
          ],
          [
           0,
           0,
           0
          ],
          [
           0,
           0,
           0
          ],
          [
           3,
           0,
           0
          ],
          [
           0,
           0,
           0
          ],
          [
           0,
           34,
           7
          ],
          [
           3,
           2,
           10
          ],
          [
           0,
           1,
           0
          ],
          [
           0,
           0,
           0
          ],
          [
           23,
           25,
           6
          ],
          [
           0,
           0,
           0
          ],
          [
           0,
           0,
           0
          ],
          [
           0,
           0,
           0
          ],
          [
           0,
           0,
           0
          ],
          [
           0,
           0,
           0
          ],
          [
           0,
           0,
           0
          ],
          [
           0,
           0,
           0
          ],
          [
           0,
           0,
           0
          ],
          [
           11,
           0,
           14
          ],
          [
           1,
           0,
           0
          ],
          [
           0,
           0,
           0
          ],
          [
           0,
           0,
           0
          ],
          [
           0,
           0,
           0
          ],
          [
           14,
           3,
           2
          ],
          [
           0,
           0,
           1
          ],
          [
           0,
           0,
           0
          ],
          [
           0,
           0,
           0
          ],
          [
           0,
           0,
           0
          ],
          [
           0,
           0,
           0
          ],
          [
           0,
           0,
           0
          ],
          [
           0,
           0,
           0
          ],
          [
           0,
           0,
           0
          ],
          [
           0,
           0,
           0
          ],
          [
           0,
           0,
           0
          ],
          [
           3,
           2,
           8
          ],
          [
           0,
           0,
           0
          ],
          [
           2,
           9,
           12
          ],
          [
           0,
           0,
           0
          ],
          [
           0,
           1,
           1
          ],
          [
           0,
           0,
           0
          ],
          [
           0,
           0,
           0
          ],
          [
           0,
           0,
           0
          ],
          [
           0,
           0,
           0
          ],
          [
           16,
           12,
           13
          ],
          [
           0,
           0,
           0
          ],
          [
           0,
           0,
           0
          ],
          [
           0,
           0,
           0
          ],
          [
           5,
           7,
           9
          ],
          [
           0,
           1,
           0
          ],
          [
           35,
           21,
           8
          ],
          [
           0,
           0,
           0
          ],
          [
           0,
           0,
           0
          ],
          [
           0,
           0,
           0
          ],
          [
           0,
           0,
           0
          ],
          [
           0,
           0,
           3
          ],
          [
           9,
           11,
           32
          ],
          [
           0,
           0,
           0
          ],
          [
           0,
           0,
           0
          ],
          [
           0,
           0,
           1
          ],
          [
           0,
           0,
           0
          ],
          [
           0,
           0,
           0
          ],
          [
           0,
           1,
           1
          ],
          [
           0,
           0,
           0
          ],
          [
           0,
           0,
           0
          ],
          [
           0,
           0,
           0
          ],
          [
           20,
           0,
           31
          ],
          [
           0,
           0,
           5
          ],
          [
           0,
           0,
           0
          ],
          [
           0,
           0,
           0
          ],
          [
           31,
           42,
           76
          ],
          [
           0,
           1,
           2
          ],
          [
           1,
           2,
           4
          ],
          [
           0,
           6,
           1
          ],
          [
           0,
           0,
           0
          ],
          [
           0,
           0,
           0
          ],
          [
           0,
           0,
           0
          ],
          [
           1,
           4,
           0
          ],
          [
           0,
           0,
           0
          ],
          [
           0,
           0,
           0
          ],
          [
           0,
           0,
           0
          ],
          [
           0,
           0,
           0
          ],
          [
           0,
           0,
           0
          ],
          [
           8,
           5,
           16
          ],
          [
           0,
           0,
           0
          ],
          [
           0,
           0,
           0
          ],
          [
           14,
           34,
           30
          ],
          [
           0,
           0,
           0
          ],
          [
           1,
           1,
           3
          ],
          [
           0,
           0,
           0
          ],
          [
           0,
           0,
           0
          ],
          [
           0,
           0,
           0
          ],
          [
           11,
           13,
           11
          ],
          [
           0,
           0,
           0
          ],
          [
           0,
           0,
           0
          ],
          [
           0,
           0,
           0
          ],
          [
           0,
           1,
           0
          ],
          [
           74,
           53,
           57
          ],
          [
           0,
           0,
           0
          ],
          [
           1,
           0,
           0
          ],
          [
           0,
           0,
           0
          ],
          [
           0,
           0,
           0
          ],
          [
           0,
           1,
           1
          ],
          [
           0,
           0,
           0
          ],
          [
           0,
           0,
           0
          ],
          [
           0,
           0,
           0
          ],
          [
           0,
           2,
           3
          ],
          [
           2,
           34,
           11
          ],
          [
           0,
           0,
           0
          ],
          [
           3,
           4,
           0
          ],
          [
           6,
           7,
           6
          ],
          [
           0,
           0,
           0
          ],
          [
           1,
           1,
           0
          ],
          [
           0,
           1,
           0
          ],
          [
           0,
           0,
           1
          ],
          [
           0,
           0,
           0
          ],
          [
           0,
           0,
           0
          ],
          [
           7,
           47,
           16
          ],
          [
           1,
           2,
           0
          ],
          [
           4,
           1,
           2
          ],
          [
           0,
           0,
           0
          ],
          [
           1,
           2,
           2
          ],
          [
           25,
           24,
           28
          ],
          [
           0,
           0,
           0
          ],
          [
           0,
           0,
           0
          ],
          [
           0,
           0,
           0
          ],
          [
           31,
           25,
           25
          ],
          [
           0,
           0,
           0
          ],
          [
           3,
           0,
           3
          ],
          [
           0,
           0,
           0
          ],
          [
           42,
           16,
           41
          ],
          [
           0,
           0,
           0
          ],
          [
           0,
           3,
           4
          ],
          [
           0,
           0,
           0
          ],
          [
           0,
           0,
           0
          ],
          [
           0,
           0,
           0
          ],
          [
           0,
           0,
           0
          ],
          [
           0,
           0,
           0
          ],
          [
           0,
           0,
           0
          ],
          [
           0,
           0,
           0
          ],
          [
           0,
           0,
           0
          ],
          [
           16,
           8,
           3
          ],
          [
           2,
           2,
           3
          ],
          [
           1,
           0,
           2
          ],
          [
           1,
           0,
           1
          ],
          [
           0,
           1,
           2
          ],
          [
           0,
           0,
           0
          ],
          [
           0,
           14,
           0
          ],
          [
           0,
           0,
           1
          ],
          [
           0,
           0,
           0
          ],
          [
           8,
           14,
           20
          ],
          [
           0,
           0,
           0
          ],
          [
           5,
           3,
           5
          ],
          [
           0,
           0,
           0
          ],
          [
           23,
           15,
           13
          ],
          [
           2,
           4,
           7
          ],
          [
           6,
           4,
           4
          ],
          [
           0,
           1,
           1
          ],
          [
           0,
           0,
           0
          ],
          [
           40,
           11,
           26
          ],
          [
           0,
           0,
           0
          ],
          [
           0,
           0,
           0
          ],
          [
           0,
           0,
           0
          ],
          [
           1,
           1,
           1
          ],
          [
           0,
           0,
           0
          ],
          [
           0,
           0,
           0
          ],
          [
           0,
           0,
           0
          ],
          [
           0,
           0,
           0
          ],
          [
           0,
           0,
           0
          ],
          [
           0,
           0,
           0
          ],
          [
           0,
           2,
           3
          ],
          [
           0,
           0,
           0
          ],
          [
           0,
           0,
           0
          ],
          [
           0,
           1,
           1
          ],
          [
           0,
           1,
           0
          ],
          [
           0,
           0,
           0
          ],
          [
           0,
           0,
           1
          ],
          [
           0,
           0,
           0
          ],
          [
           2,
           0,
           2
          ],
          [
           2,
           1,
           0
          ],
          [
           0,
           0,
           0
          ],
          [
           0,
           0,
           0
          ],
          [
           0,
           0,
           0
          ],
          [
           0,
           0,
           0
          ],
          [
           0,
           0,
           0
          ],
          [
           0,
           0,
           0
          ],
          [
           0,
           0,
           0
          ],
          [
           0,
           0,
           1
          ],
          [
           0,
           0,
           0
          ],
          [
           0,
           0,
           0
          ],
          [
           0,
           0,
           0
          ],
          [
           0,
           0,
           0
          ],
          [
           39,
           18,
           4
          ],
          [
           0,
           0,
           0
          ],
          [
           0,
           16,
           7
          ],
          [
           10,
           4,
           1
          ],
          [
           0,
           0,
           0
          ],
          [
           4,
           2,
           9
          ],
          [
           0,
           0,
           0
          ],
          [
           0,
           0,
           0
          ],
          [
           1,
           0,
           0
          ],
          [
           0,
           0,
           0
          ],
          [
           0,
           0,
           0
          ],
          [
           0,
           0,
           0
          ],
          [
           0,
           0,
           0
          ],
          [
           0,
           0,
           0
          ],
          [
           0,
           0,
           0
          ],
          [
           6,
           13,
           1
          ],
          [
           1,
           1,
           0
          ],
          [
           2,
           1,
           3
          ],
          [
           0,
           0,
           0
          ],
          [
           0,
           0,
           0
          ],
          [
           5,
           1,
           16
          ],
          [
           0,
           1,
           0
          ],
          [
           43,
           46,
           53
          ],
          [
           0,
           0,
           0
          ],
          [
           0,
           0,
           0
          ],
          [
           0,
           0,
           0
          ],
          [
           0,
           0,
           0
          ],
          [
           0,
           3,
           0
          ],
          [
           0,
           0,
           0
          ],
          [
           0,
           0,
           0
          ],
          [
           1,
           2,
           2
          ],
          [
           0,
           0,
           0
          ],
          [
           0,
           0,
           0
          ],
          [
           0,
           0,
           0
          ],
          [
           0,
           1,
           14
          ],
          [
           0,
           0,
           0
          ],
          [
           0,
           0,
           0
          ],
          [
           0,
           1,
           0
          ],
          [
           3,
           1,
           7
          ],
          [
           0,
           0,
           0
          ],
          [
           4,
           5,
           1
          ],
          [
           0,
           5,
           2
          ],
          [
           0,
           0,
           0
          ],
          [
           0,
           0,
           0
          ],
          [
           0,
           0,
           0
          ],
          [
           0,
           0,
           0
          ],
          [
           2,
           2,
           0
          ],
          [
           0,
           1,
           1
          ],
          [
           0,
           0,
           0
          ],
          [
           0,
           0,
           0
          ],
          [
           0,
           0,
           1
          ],
          [
           0,
           0,
           4
          ],
          [
           5,
           1,
           0
          ],
          [
           1,
           0,
           0
          ],
          [
           1,
           3,
           3
          ],
          [
           0,
           0,
           0
          ],
          [
           0,
           0,
           0
          ],
          [
           0,
           0,
           0
          ],
          [
           10,
           5,
           16
          ],
          [
           0,
           0,
           0
          ],
          [
           127,
           110,
           79
          ],
          [
           1,
           2,
           3
          ],
          [
           0,
           0,
           0
          ],
          [
           0,
           0,
           1
          ],
          [
           0,
           1,
           0
          ],
          [
           0,
           0,
           0
          ],
          [
           0,
           0,
           0
          ],
          [
           0,
           0,
           0
          ],
          [
           1,
           3,
           0
          ],
          [
           0,
           0,
           0
          ],
          [
           0,
           0,
           0
          ],
          [
           0,
           0,
           0
          ],
          [
           0,
           0,
           0
          ],
          [
           0,
           0,
           0
          ],
          [
           2,
           1,
           0
          ],
          [
           11,
           9,
           6
          ],
          [
           0,
           0,
           0
          ],
          [
           0,
           0,
           0
          ],
          [
           0,
           0,
           0
          ],
          [
           0,
           0,
           0
          ],
          [
           1,
           1,
           1
          ],
          [
           0,
           0,
           0
          ],
          [
           0,
           0,
           0
          ],
          [
           67,
           15,
           8
          ],
          [
           0,
           0,
           0
          ],
          [
           0,
           0,
           0
          ],
          [
           9,
           3,
           7
          ],
          [
           0,
           0,
           0
          ],
          [
           0,
           2,
           1
          ],
          [
           0,
           0,
           0
          ],
          [
           2,
           0,
           7
          ],
          [
           0,
           0,
           0
          ],
          [
           0,
           0,
           0
          ],
          [
           0,
           1,
           0
          ],
          [
           0,
           0,
           0
          ],
          [
           0,
           1,
           46
          ],
          [
           2,
           6,
           6
          ],
          [
           1,
           0,
           0
          ],
          [
           0,
           0,
           0
          ],
          [
           15,
           24,
           15
          ],
          [
           0,
           0,
           0
          ],
          [
           0,
           0,
           0
          ],
          [
           0,
           0,
           0
          ],
          [
           0,
           0,
           0
          ],
          [
           0,
           0,
           0
          ],
          [
           0,
           0,
           0
          ],
          [
           0,
           0,
           0
          ],
          [
           0,
           0,
           0
          ],
          [
           0,
           0,
           0
          ],
          [
           1,
           1,
           3
          ],
          [
           0,
           0,
           0
          ],
          [
           0,
           5,
           2
          ],
          [
           0,
           1,
           0
          ],
          [
           0,
           0,
           0
          ],
          [
           6,
           10,
           2
          ],
          [
           0,
           3,
           0
          ],
          [
           0,
           0,
           0
          ],
          [
           0,
           0,
           0
          ],
          [
           0,
           0,
           0
          ],
          [
           0,
           0,
           0
          ],
          [
           0,
           0,
           0
          ],
          [
           0,
           0,
           0
          ],
          [
           0,
           0,
           0
          ],
          [
           0,
           0,
           0
          ],
          [
           0,
           0,
           0
          ],
          [
           0,
           0,
           0
          ],
          [
           4,
           1,
           6
          ],
          [
           0,
           0,
           0
          ],
          [
           15,
           11,
           8
          ],
          [
           0,
           0,
           0
          ],
          [
           0,
           0,
           0
          ],
          [
           0,
           0,
           0
          ],
          [
           1,
           3,
           4
          ],
          [
           0,
           0,
           0
          ],
          [
           0,
           0,
           0
          ],
          [
           0,
           0,
           0
          ],
          [
           0,
           0,
           0
          ],
          [
           6,
           5,
           14
          ],
          [
           0,
           2,
           1
          ],
          [
           0,
           0,
           0
          ],
          [
           0,
           0,
           0
          ],
          [
           6,
           0,
           6
          ],
          [
           1,
           1,
           1
          ],
          [
           11,
           3,
           4
          ],
          [
           0,
           0,
           0
          ],
          [
           0,
           0,
           0
          ],
          [
           0,
           0,
           0
          ],
          [
           0,
           0,
           0
          ],
          [
           12,
           63,
           22
          ],
          [
           0,
           0,
           0
          ],
          [
           0,
           0,
           1
          ],
          [
           0,
           0,
           0
          ],
          [
           1,
           0,
           0
          ],
          [
           0,
           0,
           0
          ],
          [
           0,
           0,
           0
          ],
          [
           0,
           0,
           0
          ],
          [
           1,
           15,
           3
          ],
          [
           0,
           1,
           2
          ],
          [
           0,
           0,
           0
          ],
          [
           0,
           0,
           0
          ],
          [
           18,
           37,
           59
          ],
          [
           0,
           0,
           0
          ],
          [
           2,
           2,
           6
          ],
          [
           4,
           0,
           0
          ],
          [
           0,
           0,
           0
          ],
          [
           0,
           0,
           0
          ],
          [
           0,
           0,
           0
          ],
          [
           0,
           1,
           2
          ],
          [
           0,
           0,
           0
          ],
          [
           0,
           0,
           0
          ],
          [
           0,
           0,
           0
          ],
          [
           0,
           0,
           0
          ],
          [
           0,
           0,
           0
          ],
          [
           3,
           9,
           8
          ],
          [
           0,
           0,
           0
          ],
          [
           0,
           1,
           0
          ],
          [
           14,
           33,
           11
          ],
          [
           0,
           0,
           1
          ],
          [
           0,
           0,
           0
          ],
          [
           0,
           1,
           1
          ],
          [
           0,
           0,
           0
          ],
          [
           0,
           0,
           0
          ],
          [
           0,
           0,
           0
          ],
          [
           1,
           21,
           33
          ],
          [
           0,
           0,
           0
          ],
          [
           0,
           0,
           0
          ],
          [
           0,
           0,
           0
          ],
          [
           0,
           0,
           0
          ],
          [
           56,
           40,
           29
          ],
          [
           0,
           0,
           0
          ],
          [
           0,
           0,
           0
          ],
          [
           0,
           0,
           0
          ],
          [
           0,
           0,
           0
          ],
          [
           1,
           3,
           4
          ],
          [
           0,
           0,
           0
          ],
          [
           0,
           0,
           0
          ],
          [
           0,
           0,
           0
          ],
          [
           15,
           4,
           15
          ],
          [
           5,
           3,
           6
          ],
          [
           0,
           1,
           0
          ],
          [
           4,
           4,
           6
          ],
          [
           3,
           5,
           8
          ],
          [
           0,
           0,
           0
          ],
          [
           0,
           0,
           0
          ],
          [
           1,
           1,
           0
          ],
          [
           0,
           0,
           0
          ],
          [
           0,
           2,
           0
          ],
          [
           0,
           0,
           0
          ],
          [
           0,
           0,
           0
          ],
          [
           5,
           33,
           24
          ],
          [
           0,
           1,
           1
          ],
          [
           3,
           1,
           3
          ],
          [
           0,
           0,
           0
          ],
          [
           0,
           1,
           4
          ],
          [
           30,
           30,
           22
          ],
          [
           0,
           0,
           0
          ],
          [
           0,
           1,
           0
          ],
          [
           0,
           0,
           0
          ],
          [
           46,
           30,
           47
          ],
          [
           0,
           0,
           0
          ],
          [
           1,
           3,
           3
          ],
          [
           0,
           0,
           0
          ],
          [
           45,
           27,
           22
          ],
          [
           0,
           0,
           0
          ],
          [
           0,
           0,
           3
          ],
          [
           1,
           0,
           0
          ],
          [
           0,
           1,
           0
          ],
          [
           0,
           0,
           0
          ],
          [
           0,
           0,
           0
          ],
          [
           0,
           0,
           0
          ],
          [
           0,
           0,
           0
          ],
          [
           0,
           0,
           1
          ],
          [
           0,
           0,
           0
          ],
          [
           12,
           8,
           6
          ],
          [
           0,
           1,
           1
          ],
          [
           0,
           2,
           4
          ],
          [
           0,
           0,
           0
          ],
          [
           4,
           5,
           3
          ],
          [
           1,
           1,
           3
          ],
          [
           0,
           0,
           0
          ],
          [
           0,
           0,
           0
          ],
          [
           0,
           0,
           0
          ],
          [
           0,
           0,
           0
          ],
          [
           16,
           22,
           28
          ],
          [
           0,
           0,
           0
          ],
          [
           8,
           9,
           8
          ],
          [
           0,
           0,
           0
          ],
          [
           6,
           43,
           33
          ],
          [
           7,
           1,
           4
          ],
          [
           2,
           4,
           5
          ],
          [
           0,
           0,
           0
          ],
          [
           0,
           0,
           0
          ],
          [
           18,
           13,
           30
          ],
          [
           0,
           0,
           3
          ],
          [
           0,
           0,
           1
          ],
          [
           0,
           0,
           0
          ],
          [
           1,
           0,
           2
          ],
          [
           0,
           0,
           0
          ],
          [
           0,
           0,
           0
          ],
          [
           0,
           0,
           0
          ],
          [
           0,
           0,
           0
          ],
          [
           0,
           0,
           0
          ],
          [
           0,
           0,
           0
          ],
          [
           2,
           1,
           2
          ],
          [
           0,
           0,
           0
          ],
          [
           0,
           0,
           0
          ],
          [
           0,
           0,
           1
          ],
          [
           0,
           1,
           1
          ],
          [
           0,
           0,
           0
          ],
          [
           0,
           0,
           2
          ],
          [
           0,
           0,
           0
          ],
          [
           15,
           5,
           3
          ],
          [
           0,
           2,
           3
          ],
          [
           0,
           0,
           0
          ],
          [
           0,
           0,
           0
          ],
          [
           0,
           0,
           0
          ],
          [
           0,
           0,
           0
          ],
          [
           0,
           14,
           0
          ],
          [
           0,
           0,
           0
          ],
          [
           0,
           0,
           0
          ],
          [
           0,
           0,
           0
          ],
          [
           0,
           0,
           0
          ],
          [
           0,
           0,
           0
          ],
          [
           0,
           0,
           0
          ],
          [
           0,
           0,
           0
          ],
          [
           21,
           29,
           19
          ],
          [
           0,
           0,
           0
          ],
          [
           0,
           0,
           0
          ],
          [
           0,
           0,
           0
          ],
          [
           9,
           1,
           1
          ],
          [
           0,
           0,
           0
          ],
          [
           9,
           3,
           15
          ],
          [
           0,
           0,
           0
          ],
          [
           0,
           0,
           0
          ],
          [
           0,
           0,
           0
          ],
          [
           0,
           0,
           0
          ],
          [
           0,
           0,
           0
          ],
          [
           0,
           0,
           0
          ],
          [
           0,
           0,
           0
          ],
          [
           0,
           0,
           0
          ],
          [
           0,
           0,
           0
          ],
          [
           2,
           2,
           8
          ],
          [
           0,
           2,
           0
          ],
          [
           4,
           0,
           2
          ],
          [
           0,
           1,
           1
          ],
          [
           0,
           0,
           2
          ],
          [
           2,
           8,
           3
          ],
          [
           6,
           2,
           1
          ],
          [
           50,
           38,
           51
          ],
          [
           0,
           0,
           0
          ],
          [
           0,
           0,
           0
          ],
          [
           0,
           0,
           0
          ],
          [
           0,
           0,
           0
          ],
          [
           0,
           0,
           4
          ],
          [
           0,
           0,
           0
          ],
          [
           0,
           0,
           0
          ],
          [
           1,
           1,
           3
          ],
          [
           0,
           0,
           0
          ],
          [
           0,
           0,
           0
          ],
          [
           1,
           1,
           14
          ],
          [
           0,
           0,
           0
          ],
          [
           0,
           0,
           0
          ],
          [
           0,
           0,
           0
          ],
          [
           2,
           2,
           0
          ],
          [
           0,
           0,
           0
          ],
          [
           0,
           1,
           4
          ],
          [
           2,
           17,
           3
          ],
          [
           0,
           0,
           0
          ],
          [
           0,
           0,
           0
          ],
          [
           0,
           0,
           0
          ],
          [
           0,
           0,
           0
          ],
          [
           0,
           2,
           1
          ],
          [
           0,
           0,
           1
          ],
          [
           0,
           0,
           0
          ],
          [
           0,
           0,
           0
          ],
          [
           0,
           0,
           0
          ],
          [
           0,
           1,
           1
          ],
          [
           1,
           4,
           5
          ],
          [
           1,
           1,
           1
          ],
          [
           2,
           2,
           1
          ],
          [
           0,
           0,
           0
          ],
          [
           0,
           0,
           0
          ],
          [
           1,
           0,
           0
          ],
          [
           9,
           5,
           12
          ],
          [
           0,
           0,
           0
          ],
          [
           145,
           57,
           46
          ],
          [
           1,
           0,
           2
          ],
          [
           0,
           0,
           0
          ],
          [
           1,
           0,
           0
          ],
          [
           0,
           0,
           0
          ],
          [
           0,
           0,
           0
          ],
          [
           0,
           0,
           0
          ],
          [
           0,
           0,
           0
          ],
          [
           0,
           0,
           0
          ],
          [
           0,
           0,
           0
          ],
          [
           0,
           0,
           0
          ],
          [
           0,
           0,
           0
          ],
          [
           0,
           0,
           0
          ],
          [
           0,
           2,
           1
          ],
          [
           4,
           12,
           11
          ],
          [
           0,
           0,
           0
          ],
          [
           0,
           0,
           0
          ],
          [
           0,
           0,
           0
          ],
          [
           0,
           0,
           0
          ],
          [
           5,
           0,
           1
          ],
          [
           0,
           0,
           0
          ],
          [
           0,
           0,
           0
          ],
          [
           59,
           22,
           5
          ],
          [
           0,
           0,
           0
          ],
          [
           0,
           0,
           0
          ],
          [
           3,
           4,
           5
          ],
          [
           0,
           1,
           0
          ],
          [
           0,
           0,
           0
          ],
          [
           2,
           7,
           2
          ],
          [
           0,
           0,
           0
          ],
          [
           0,
           0,
           0
          ],
          [
           0,
           0,
           0
          ],
          [
           0,
           0,
           0
          ],
          [
           2,
           7,
           24
          ],
          [
           4,
           4,
           9
          ],
          [
           1,
           4,
           5
          ],
          [
           0,
           0,
           0
          ],
          [
           15,
           12,
           9
          ],
          [
           0,
           0,
           0
          ],
          [
           0,
           0,
           0
          ],
          [
           0,
           0,
           0
          ],
          [
           0,
           0,
           0
          ],
          [
           0,
           0,
           0
          ],
          [
           0,
           0,
           0
          ],
          [
           0,
           0,
           0
          ],
          [
           0,
           0,
           0
          ],
          [
           0,
           0,
           0
          ],
          [
           0,
           0,
           0
          ],
          [
           0,
           2,
           12
          ],
          [
           0,
           0,
           0
          ],
          [
           0,
           0,
           0
          ],
          [
           0,
           4,
           6
          ],
          [
           0,
           0,
           1
          ],
          [
           7,
           5,
           2
          ],
          [
           0,
           5,
           6
          ],
          [
           0,
           0,
           0
          ],
          [
           0,
           0,
           0
          ],
          [
           0,
           0,
           0
          ],
          [
           0,
           0,
           0
          ],
          [
           0,
           0,
           0
          ],
          [
           0,
           0,
           0
          ],
          [
           0,
           0,
           0
          ],
          [
           0,
           0,
           0
          ],
          [
           0,
           0,
           0
          ],
          [
           0,
           0,
           0
          ],
          [
           0,
           0,
           0
          ],
          [
           0,
           0,
           0
          ],
          [
           13,
           7,
           9
          ],
          [
           0,
           0,
           0
          ],
          [
           13,
           2,
           8
          ],
          [
           0,
           0,
           0
          ],
          [
           0,
           0,
           0
          ],
          [
           0,
           0,
           0
          ],
          [
           0,
           0,
           0
          ],
          [
           4,
           4,
           3
          ],
          [
           0,
           0,
           0
          ],
          [
           0,
           0,
           0
          ],
          [
           27,
           20,
           11
          ],
          [
           2,
           2,
           4
          ],
          [
           0,
           0,
           0
          ],
          [
           0,
           0,
           0
          ],
          [
           6,
           4,
           20
          ],
          [
           1,
           0,
           0
          ],
          [
           8,
           30,
           11
          ],
          [
           0,
           0,
           0
          ],
          [
           0,
           0,
           0
          ],
          [
           0,
           0,
           0
          ],
          [
           0,
           0,
           0
          ],
          [
           0,
           0,
           0
          ],
          [
           0,
           0,
           0
          ],
          [
           0,
           0,
           0
          ],
          [
           4,
           0,
           1
          ],
          [
           10,
           30,
           24
          ],
          [
           0,
           0,
           0
          ],
          [
           0,
           0,
           0
          ],
          [
           0,
           0,
           0
          ],
          [
           0,
           0,
           0
          ],
          [
           0,
           0,
           0
          ],
          [
           0,
           2,
           0
          ],
          [
           0,
           0,
           0
          ],
          [
           0,
           0,
           0
          ],
          [
           0,
           0,
           0
          ],
          [
           21,
           1,
           0
          ],
          [
           1,
           3,
           0
          ],
          [
           0,
           0,
           0
          ],
          [
           0,
           0,
           0
          ],
          [
           23,
           34,
           25
          ],
          [
           0,
           0,
           2
          ],
          [
           1,
           7,
           10
          ],
          [
           1,
           0,
           5
          ],
          [
           0,
           0,
           0
          ],
          [
           0,
           0,
           0
          ],
          [
           0,
           1,
           0
          ],
          [
           2,
           17,
           2
          ],
          [
           0,
           0,
           0
          ],
          [
           0,
           0,
           0
          ],
          [
           0,
           0,
           0
          ],
          [
           0,
           0,
           0
          ],
          [
           0,
           0,
           0
          ],
          [
           1,
           4,
           7
          ],
          [
           0,
           0,
           0
          ],
          [
           0,
           0,
           0
          ],
          [
           36,
           8,
           6
          ],
          [
           1,
           1,
           0
          ],
          [
           0,
           0,
           0
          ],
          [
           0,
           1,
           6
          ],
          [
           0,
           0,
           0
          ],
          [
           0,
           0,
           0
          ],
          [
           0,
           0,
           0
          ],
          [
           4,
           4,
           61
          ],
          [
           0,
           0,
           0
          ],
          [
           0,
           0,
           0
          ],
          [
           0,
           0,
           0
          ],
          [
           0,
           0,
           0
          ],
          [
           46,
           30,
           37
          ],
          [
           1,
           0,
           1
          ],
          [
           0,
           0,
           0
          ],
          [
           0,
           0,
           0
          ],
          [
           0,
           0,
           0
          ],
          [
           3,
           2,
           3
          ],
          [
           0,
           0,
           0
          ],
          [
           0,
           0,
           0
          ],
          [
           0,
           0,
           0
          ],
          [
           7,
           15,
           2
          ],
          [
           5,
           2,
           4
          ],
          [
           0,
           0,
           0
          ],
          [
           1,
           2,
           12
          ],
          [
           15,
           10,
           16
          ],
          [
           0,
           0,
           0
          ],
          [
           0,
           0,
           0
          ],
          [
           0,
           0,
           1
          ],
          [
           0,
           0,
           0
          ],
          [
           0,
           0,
           3
          ],
          [
           0,
           0,
           0
          ],
          [
           0,
           0,
           0
          ],
          [
           9,
           19,
           17
          ],
          [
           0,
           0,
           4
          ],
          [
           1,
           2,
           5
          ],
          [
           13,
           0,
           0
          ],
          [
           0,
           0,
           1
          ],
          [
           20,
           55,
           21
          ],
          [
           0,
           0,
           0
          ],
          [
           0,
           0,
           0
          ],
          [
           63,
           55,
           25
          ],
          [
           0,
           0,
           0
          ],
          [
           2,
           1,
           4
          ],
          [
           0,
           0,
           0
          ],
          [
           49,
           43,
           67
          ],
          [
           0,
           0,
           0
          ],
          [
           3,
           1,
           3
          ],
          [
           0,
           1,
           0
          ],
          [
           0,
           0,
           0
          ],
          [
           0,
           0,
           0
          ],
          [
           0,
           0,
           0
          ],
          [
           0,
           0,
           0
          ],
          [
           0,
           0,
           0
          ],
          [
           0,
           0,
           0
          ],
          [
           0,
           0,
           0
          ],
          [
           12,
           3,
           7
          ],
          [
           2,
           2,
           0
          ],
          [
           0,
           1,
           1
          ],
          [
           1,
           0,
           1
          ],
          [
           3,
           1,
           4
          ],
          [
           0,
           3,
           0
          ],
          [
           0,
           0,
           0
          ],
          [
           0,
           0,
           0
          ],
          [
           0,
           0,
           2
          ],
          [
           0,
           0,
           0
          ],
          [
           8,
           40,
           24
          ],
          [
           0,
           0,
           0
          ],
          [
           10,
           16,
           2
          ],
          [
           1,
           0,
           0
          ],
          [
           17,
           13,
           34
          ],
          [
           3,
           5,
           10
          ],
          [
           6,
           6,
           0
          ],
          [
           0,
           0,
           0
          ],
          [
           0,
           0,
           0
          ],
          [
           13,
           3,
           10
          ],
          [
           1,
           0,
           0
          ],
          [
           0,
           0,
           0
          ],
          [
           0,
           0,
           0
          ],
          [
           0,
           0,
           0
          ],
          [
           0,
           0,
           0
          ],
          [
           0,
           0,
           0
          ],
          [
           0,
           0,
           0
          ],
          [
           0,
           0,
           0
          ],
          [
           0,
           0,
           0
          ],
          [
           0,
           2,
           5
          ],
          [
           0,
           0,
           0
          ],
          [
           0,
           0,
           0
          ],
          [
           0,
           0,
           1
          ],
          [
           0,
           7,
           1
          ],
          [
           0,
           0,
           0
          ],
          [
           0,
           0,
           0
          ],
          [
           0,
           0,
           0
          ],
          [
           0,
           3,
           2
          ],
          [
           0,
           1,
           1
          ],
          [
           0,
           0,
           0
          ],
          [
           0,
           0,
           0
          ],
          [
           0,
           0,
           0
          ],
          [
           0,
           0,
           0
          ],
          [
           0,
           0,
           0
          ],
          [
           0,
           0,
           0
          ],
          [
           0,
           0,
           0
          ],
          [
           0,
           0,
           0
          ],
          [
           0,
           0,
           0
          ],
          [
           0,
           0,
           0
          ],
          [
           0,
           0,
           0
          ],
          [
           0,
           0,
           0
          ],
          [
           9,
           25,
           13
          ],
          [
           0,
           0,
           0
          ],
          [
           0,
           0,
           17
          ],
          [
           0,
           1,
           0
          ],
          [
           0,
           0,
           19
          ],
          [
           0,
           0,
           0
          ],
          [
           6,
           24,
           5
          ],
          [
           0,
           0,
           0
          ],
          [
           0,
           0,
           0
          ],
          [
           0,
           0,
           0
          ],
          [
           0,
           0,
           0
          ],
          [
           0,
           0,
           0
          ],
          [
           0,
           1,
           0
          ],
          [
           0,
           0,
           0
          ],
          [
           0,
           0,
           0
          ],
          [
           0,
           0,
           0
          ],
          [
           3,
           3,
           10
          ],
          [
           0,
           0,
           1
          ],
          [
           2,
           3,
           2
          ],
          [
           1,
           0,
           0
          ],
          [
           0,
           1,
           0
          ],
          [
           0,
           0,
           0
          ],
          [
           4,
           2,
           10
          ],
          [
           2,
           6,
           14
          ],
          [
           52,
           28,
           35
          ],
          [
           0,
           0,
           0
          ],
          [
           0,
           0,
           0
          ],
          [
           0,
           0,
           0
          ],
          [
           0,
           0,
           0
          ],
          [
           1,
           0,
           0
          ],
          [
           0,
           0,
           0
          ],
          [
           1,
           2,
           1
          ],
          [
           0,
           0,
           0
          ],
          [
           0,
           0,
           0
          ],
          [
           14,
           27,
           13
          ],
          [
           0,
           0,
           0
          ],
          [
           0,
           0,
           0
          ],
          [
           0,
           0,
           0
          ],
          [
           0,
           0,
           0
          ],
          [
           6,
           3,
           2
          ],
          [
           0,
           0,
           0
          ],
          [
           3,
           5,
           0
          ],
          [
           2,
           23,
           3
          ],
          [
           0,
           0,
           0
          ],
          [
           0,
           0,
           0
          ],
          [
           0,
           0,
           0
          ],
          [
           0,
           0,
           0
          ],
          [
           2,
           2,
           2
          ],
          [
           1,
           0,
           0
          ],
          [
           0,
           0,
           0
          ],
          [
           0,
           0,
           0
          ],
          [
           0,
           0,
           0
          ],
          [
           1,
           0,
           4
          ],
          [
           0,
           0,
           1
          ],
          [
           0,
           0,
           3
          ],
          [
           1,
           3,
           4
          ],
          [
           0,
           0,
           0
          ],
          [
           0,
           0,
           1
          ],
          [
           0,
           0,
           0
          ],
          [
           2,
           8,
           5
          ],
          [
           0,
           0,
           0
          ],
          [
           138,
           54,
           71
          ],
          [
           4,
           2,
           7
          ],
          [
           0,
           0,
           0
          ],
          [
           0,
           1,
           2
          ],
          [
           1,
           1,
           0
          ],
          [
           0,
           0,
           0
          ],
          [
           0,
           0,
           0
          ],
          [
           0,
           0,
           0
          ],
          [
           0,
           0,
           0
          ]
         ],
         "geo": "geo",
         "hovertemplate": "<b>%{hovertext}</b><br><br>NOC=%{location}<br>Gold=%{customdata[0]}<br>Silver=%{customdata[1]}<br>Bronze=%{customdata[2]}<br>Total Medals=%{z}<extra></extra>",
         "hovertext": [
          "AFG",
          "AHO",
          "ARG",
          "AUS",
          "AUT",
          "BAH",
          "BEL",
          "BER",
          "BRA",
          "BUL",
          "CAN",
          "CHI",
          "COL",
          "CUB",
          "DEN",
          "ESP",
          "ETH",
          "FIJ",
          "FIN",
          "FRA",
          "GBR",
          "GER",
          "GHA",
          "GRE",
          "GUY",
          "HKG",
          "HUN",
          "INA",
          "IND",
          "IRI",
          "IRL",
          "IRQ",
          "ISL",
          "ISR",
          "ITA",
          "JPN",
          "KEN",
          "KOR",
          "LBR",
          "LIB",
          "LIE",
          "LUX",
          "MAL",
          "MAR",
          "MEX",
          "MLT",
          "MON",
          "MYA",
          "NED",
          "NGR",
          "NOR",
          "NZL",
          "PAK",
          "PAN",
          "PER",
          "PHI",
          "POL",
          "POR",
          "PUR",
          "RHO",
          "ROU",
          "RSA",
          "SGP",
          "SMR",
          "SRI",
          "SUD",
          "SUI",
          "SWE",
          "TCH",
          "THA",
          "TPE",
          "TUN",
          "TUR",
          "UAR",
          "UGA",
          "URS",
          "URU",
          "USA",
          "VEN",
          "VNM",
          "WIF",
          "YUG",
          "ZIM",
          "AFG",
          "AHO",
          "ALG",
          "ARG",
          "AUS",
          "AUT",
          "BAH",
          "BEL",
          "BER",
          "BOL",
          "BRA",
          "BUL",
          "CAM",
          "CAN",
          "CGO",
          "CHA",
          "CHI",
          "CIV",
          "CMR",
          "COL",
          "CRC",
          "CUB",
          "DEN",
          "DOM",
          "EGY",
          "ESP",
          "ETH",
          "FIN",
          "FRA",
          "GBR",
          "GER",
          "GHA",
          "GRE",
          "HKG",
          "HUN",
          "IND",
          "IRI",
          "IRL",
          "IRQ",
          "ISL",
          "ISR",
          "ITA",
          "JAM",
          "JPN",
          "KEN",
          "KOR",
          "LBR",
          "LIB",
          "LIE",
          "LUX",
          "MAD",
          "MAR",
          "MAS",
          "MEX",
          "MGL",
          "MLI",
          "MON",
          "MYA",
          "NED",
          "NEP",
          "NGR",
          "NOR",
          "NZL",
          "PAK",
          "PAN",
          "PER",
          "PHI",
          "POL",
          "POR",
          "PRK",
          "PUR",
          "ROU",
          "SEN",
          "SRI",
          "SUI",
          "SWE",
          "TAN",
          "TCH",
          "THA",
          "TPE",
          "TTO",
          "TUN",
          "TUR",
          "UGA",
          "URS",
          "URU",
          "USA",
          "VEN",
          "VNM",
          "YUG",
          "ZAM",
          "ZIM",
          "AFG",
          "AHO",
          "ALG",
          "ARG",
          "AUS",
          "AUT",
          "BAH",
          "BAR",
          "BEL",
          "BER",
          "BIZ",
          "BOL",
          "BRA",
          "BUL",
          "CAN",
          "CHA",
          "CHI",
          "CIV",
          "CMR",
          "COD",
          "COL",
          "CRC",
          "CUB",
          "DEN",
          "DOM",
          "ECU",
          "EGY",
          "ESA",
          "ESP",
          "ETH",
          "FIN",
          "FRA",
          "FRG",
          "GBR",
          "GDR",
          "GHA",
          "GRE",
          "GUA",
          "GUI",
          "GUY",
          "HKG",
          "HON",
          "HUN",
          "INA",
          "IND",
          "IRI",
          "IRL",
          "IRQ",
          "ISL",
          "ISR",
          "ISV",
          "ITA",
          "JAM",
          "JPN",
          "KEN",
          "KOR",
          "LIB",
          "LIE",
          "LUX",
          "MAD",
          "MAR",
          "MAS",
          "MEX",
          "MGL",
          "MLI",
          "MLT",
          "MON",
          "MYA",
          "NCA",
          "NED",
          "NGR",
          "NOR",
          "NZL",
          "PAK",
          "PAN",
          "PER",
          "PHI",
          "POL",
          "POR",
          "PUR",
          "ROU",
          "SEN",
          "SGP",
          "SLE",
          "SMR",
          "SRI",
          "SUD",
          "SUI",
          "SUR",
          "SWE",
          "TAN",
          "TCH",
          "THA",
          "TPE",
          "TTO",
          "TUN",
          "TUR",
          "UGA",
          "URS",
          "URU",
          "USA",
          "VEN",
          "VNM",
          "YUG",
          "ZAM",
          "AFG",
          "AHO",
          "ALG",
          "ARG",
          "AUS",
          "AUT",
          "BAH",
          "BAR",
          "BEL",
          "BEN",
          "BER",
          "BIZ",
          "BOL",
          "BRA",
          "BUL",
          "BUR",
          "CAM",
          "CAN",
          "CGO",
          "CHA",
          "CHI",
          "CIV",
          "CMR",
          "COL",
          "CRC",
          "CUB",
          "DEN",
          "DOM",
          "ECU",
          "EGY",
          "ESA",
          "ESP",
          "ETH",
          "FIJ",
          "FIN",
          "FRA",
          "FRG",
          "GAB",
          "GBR",
          "GDR",
          "GHA",
          "GRE",
          "GUA",
          "GUY",
          "HAI",
          "HKG",
          "HUN",
          "INA",
          "IND",
          "IRI",
          "IRL",
          "ISL",
          "ISR",
          "ISV",
          "ITA",
          "JAM",
          "JPN",
          "KEN",
          "KOR",
          "KSA",
          "KUW",
          "LBR",
          "LES",
          "LIB",
          "LIE",
          "LUX",
          "MAD",
          "MAR",
          "MAS",
          "MAW",
          "MEX",
          "MGL",
          "MLI",
          "MLT",
          "MON",
          "MYA",
          "NCA",
          "NED",
          "NGR",
          "NOR",
          "NZL",
          "PAK",
          "PAN",
          "PAR",
          "PER",
          "PHI",
          "POL",
          "POR",
          "PRK",
          "PUR",
          "ROU",
          "SEN",
          "SGP",
          "SMR",
          "SOM",
          "SRI",
          "SUD",
          "SUI",
          "SUR",
          "SWE",
          "SWZ",
          "SYR",
          "TAN",
          "TCH",
          "THA",
          "TOG",
          "TPE",
          "TTO",
          "TUN",
          "TUR",
          "UGA",
          "URS",
          "URU",
          "USA",
          "VEN",
          "VNM",
          "YUG",
          "ZAM",
          "AHO",
          "AND",
          "ANT",
          "ARG",
          "AUS",
          "AUT",
          "BAH",
          "BAR",
          "BEL",
          "BER",
          "BIZ",
          "BOL",
          "BRA",
          "BUL",
          "CAN",
          "CAY",
          "CHI",
          "CIV",
          "CMR",
          "COL",
          "CRC",
          "CUB",
          "DEN",
          "DOM",
          "ECU",
          "EGY",
          "ESP",
          "FIJ",
          "FIN",
          "FRA",
          "FRG",
          "GBR",
          "GDR",
          "GRE",
          "GUA",
          "HAI",
          "HKG",
          "HON",
          "HUN",
          "INA",
          "IND",
          "IRI",
          "IRL",
          "ISL",
          "ISR",
          "ISV",
          "ITA",
          "JAM",
          "JPN",
          "KOR",
          "KSA",
          "KUW",
          "LIB",
          "LIE",
          "LUX",
          "MAR",
          "MAS",
          "MEX",
          "MGL",
          "MON",
          "NCA",
          "NED",
          "NEP",
          "NOR",
          "NZL",
          "PAK",
          "PAN",
          "PAR",
          "PER",
          "PHI",
          "PNG",
          "POL",
          "POR",
          "PRK",
          "PUR",
          "ROU",
          "SEN",
          "SGP",
          "SMR",
          "SUI",
          "SUR",
          "SWE",
          "TCH",
          "THA",
          "TPE",
          "TTO",
          "TUN",
          "TUR",
          "URS",
          "URU",
          "USA",
          "VEN",
          "YUG",
          "AFG",
          "ALG",
          "AND",
          "ANG",
          "ARG",
          "AUS",
          "AUT",
          "BEL",
          "BEN",
          "BOL",
          "BOT",
          "BRA",
          "BUL",
          "CAN",
          "CGO",
          "CHN",
          "CMR",
          "COL",
          "CRC",
          "CUB",
          "CYP",
          "DEN",
          "DOM",
          "ECU",
          "ESP",
          "ETH",
          "FIN",
          "FRA",
          "FRG",
          "GBR",
          "GDR",
          "GRE",
          "GUA",
          "GUI",
          "GUY",
          "HUN",
          "IND",
          "IRL",
          "IRQ",
          "ISL",
          "ITA",
          "JAM",
          "JOR",
          "JPN",
          "KOR",
          "KUW",
          "LAO",
          "LES",
          "LIB",
          "LIE",
          "LUX",
          "MAD",
          "MEX",
          "MGL",
          "MLI",
          "MLT",
          "MOZ",
          "MYA",
          "NCA",
          "NED",
          "NEP",
          "NGR",
          "NOR",
          "NZL",
          "PER",
          "POL",
          "POR",
          "PRK",
          "PUR",
          "ROU",
          "SEN",
          "SEY",
          "SLE",
          "SMR",
          "SRI",
          "SUI",
          "SWE",
          "SYR",
          "TAN",
          "TCH",
          "TTO",
          "UGA",
          "URS",
          "USA",
          "VEN",
          "VIE",
          "YUG",
          "ZAM",
          "ZIM",
          "AHO",
          "ALG",
          "AND",
          "ANT",
          "ARG",
          "AUS",
          "AUT",
          "BAH",
          "BAN",
          "BAR",
          "BEL",
          "BEN",
          "BER",
          "BHU",
          "BIZ",
          "BOL",
          "BOT",
          "BRA",
          "BRN",
          "BUL",
          "CAF",
          "CAN",
          "CAY",
          "CGO",
          "CHA",
          "CHI",
          "CHN",
          "CIV",
          "CMR",
          "COD",
          "COL",
          "CRC",
          "CYP",
          "DEN",
          "DJI",
          "DOM",
          "ECU",
          "EGY",
          "ESA",
          "ESP",
          "FIJ",
          "FIN",
          "FRA",
          "FRG",
          "GAB",
          "GAM",
          "GBR",
          "GDR",
          "GEQ",
          "GHA",
          "GRE",
          "GRN",
          "GUA",
          "GUI",
          "GUY",
          "HAI",
          "HKG",
          "HON",
          "HUN",
          "INA",
          "IND",
          "IRL",
          "IRQ",
          "ISL",
          "ISR",
          "ISV",
          "ITA",
          "IVB",
          "JAM",
          "JOR",
          "JPN",
          "KEN",
          "KOR",
          "KSA",
          "KUW",
          "LBR",
          "LES",
          "LIB",
          "LIE",
          "LUX",
          "MAD",
          "MAR",
          "MAS",
          "MAW",
          "MEX",
          "MGL",
          "MLI",
          "MLT",
          "MON",
          "MOZ",
          "MRI",
          "MTN",
          "MYA",
          "NCA",
          "NED",
          "NEP",
          "NGR",
          "NIG",
          "NOR",
          "NZL",
          "OMA",
          "PAK",
          "PAN",
          "PAR",
          "PER",
          "PHI",
          "PNG",
          "POL",
          "POR",
          "PRK",
          "PUR",
          "QAT",
          "ROU",
          "RWA",
          "SAM",
          "SEN",
          "SEY",
          "SGP",
          "SLE",
          "SMR",
          "SOL",
          "SOM",
          "SRI",
          "SUD",
          "SUI",
          "SUR",
          "SWE",
          "SWZ",
          "SYR",
          "TAN",
          "TCH",
          "THA",
          "TOG",
          "TPE",
          "TTO",
          "TUN",
          "TUR",
          "UGA",
          "URS",
          "URU",
          "USA",
          "VEN",
          "YAR",
          "YUG",
          "ZAM",
          "ZIM",
          "AHO",
          "ALG",
          "AND",
          "ANG",
          "ANT",
          "ARG",
          "ARU",
          "ASA",
          "AUS",
          "AUT",
          "BAH",
          "BAN",
          "BAR",
          "BEL",
          "BEN",
          "BER",
          "BHU",
          "BIZ",
          "BOL",
          "BOT",
          "BRA",
          "BRN",
          "BUL",
          "BUR",
          "CAF",
          "CAN",
          "CAY",
          "CGO",
          "CHA",
          "CHI",
          "CHN",
          "CIV",
          "CMR",
          "COD",
          "COK",
          "COL",
          "CRC",
          "CYP",
          "DEN",
          "DJI",
          "DOM",
          "ECU",
          "EGY",
          "ESA",
          "ESP",
          "FIJ",
          "FIN",
          "FRA",
          "FRG",
          "GAB",
          "GAM",
          "GBR",
          "GDR",
          "GEQ",
          "GHA",
          "GRE",
          "GRN",
          "GUA",
          "GUI",
          "GUM",
          "GUY",
          "HAI",
          "HKG",
          "HON",
          "HUN",
          "INA",
          "IND",
          "IRI",
          "IRL",
          "IRQ",
          "ISL",
          "ISR",
          "ISV",
          "ITA",
          "IVB",
          "JAM",
          "JOR",
          "JPN",
          "KEN",
          "KOR",
          "KSA",
          "KUW",
          "LAO",
          "LBA",
          "LBR",
          "LES",
          "LIB",
          "LIE",
          "LUX",
          "MAR",
          "MAS",
          "MAW",
          "MDV",
          "MEX",
          "MGL",
          "MLI",
          "MLT",
          "MON",
          "MOZ",
          "MRI",
          "MTN",
          "MYA",
          "NED",
          "NEP",
          "NGR",
          "NOR",
          "NZL",
          "OMA",
          "PAK",
          "PAN",
          "PAR",
          "PER",
          "PHI",
          "PNG",
          "POL",
          "POR",
          "PRK",
          "PUR",
          "QAT",
          "ROU",
          "RWA",
          "SAM",
          "SEN",
          "SGP",
          "SLE",
          "SMR",
          "SOL",
          "SOM",
          "SRI",
          "SUD",
          "SUI",
          "SUR",
          "SWE",
          "SWZ",
          "SYR",
          "TAN",
          "TCH",
          "TGA",
          "THA",
          "TOG",
          "TPE",
          "TTO",
          "TUN",
          "TUR",
          "UAE",
          "UGA",
          "URS",
          "URU",
          "USA",
          "VAN",
          "VEN",
          "VIE",
          "VIN",
          "YAR",
          "YMD",
          "YUG",
          "ZAM",
          "ZIM",
          "AHO",
          "ALB",
          "ALG",
          "AND",
          "ANG",
          "ANT",
          "ARG",
          "ARU",
          "AUS",
          "AUT",
          "BAH",
          "BAN",
          "BAR",
          "BEL",
          "BEN",
          "BER",
          "BHU",
          "BIH",
          "BIZ",
          "BOL",
          "BOT",
          "BRA",
          "BRN",
          "BUL",
          "BUR",
          "CAF",
          "CAN",
          "CAY",
          "CGO",
          "CHA",
          "CHI",
          "CHN",
          "CIV",
          "CMR",
          "COD",
          "COK",
          "COL",
          "CRC",
          "CRO",
          "CUB",
          "CYP",
          "DEN",
          "DJI",
          "DOM",
          "ECU",
          "EGY",
          "ESA",
          "ESP",
          "EST",
          "ETH",
          "EUN",
          "FIJ",
          "FIN",
          "FRA",
          "GAB",
          "GAM",
          "GBR",
          "GEQ",
          "GER",
          "GHA",
          "GRE",
          "GUA",
          "GUI",
          "GUM",
          "GUY",
          "HAI",
          "HKG",
          "HON",
          "HUN",
          "INA",
          "IND",
          "IOA",
          "IRI",
          "IRL",
          "IRQ",
          "ISL",
          "ISR",
          "ISV",
          "ITA",
          "IVB",
          "JAM",
          "JOR",
          "JPN",
          "KEN",
          "KOR",
          "KSA",
          "KUW",
          "LAO",
          "LAT",
          "LBA",
          "LES",
          "LIB",
          "LIE",
          "LTU",
          "LUX",
          "MAD",
          "MAR",
          "MAS",
          "MAW",
          "MDV",
          "MEX",
          "MGL",
          "MLI",
          "MLT",
          "MON",
          "MOZ",
          "MRI",
          "MTN",
          "MYA",
          "NAM",
          "NCA",
          "NED",
          "NEP",
          "NGR",
          "NOR",
          "NZL",
          "OMA",
          "PAK",
          "PAN",
          "PAR",
          "PER",
          "PHI",
          "PNG",
          "POL",
          "POR",
          "PRK",
          "PUR",
          "QAT",
          "ROU",
          "RSA",
          "RWA",
          "SAM",
          "SEN",
          "SEY",
          "SGP",
          "SLE",
          "SLO",
          "SMR",
          "SRI",
          "SUD",
          "SUI",
          "SUR",
          "SWE",
          "SWZ",
          "SYR",
          "TAN",
          "TCH",
          "TGA",
          "THA",
          "TOG",
          "TPE",
          "TTO",
          "TUN",
          "TUR",
          "UAE",
          "UGA",
          "URU",
          "USA",
          "VAN",
          "VEN",
          "VIE",
          "VIN",
          "YEM",
          "YUG",
          "ZAM",
          "ZIM",
          "AND",
          "ARG",
          "ARM",
          "ASA",
          "AUS",
          "AUT",
          "BEL",
          "BER",
          "BIH",
          "BLR",
          "BRA",
          "BUL",
          "CAN",
          "CHI",
          "CHN",
          "CRO",
          "CZE",
          "DEN",
          "ESP",
          "EST",
          "FIJ",
          "FIN",
          "FRA",
          "GBR",
          "GEO",
          "GER",
          "GRE",
          "HUN",
          "ISL",
          "ISR",
          "ISV",
          "ITA",
          "JAM",
          "JPN",
          "KAZ",
          "KOR",
          "LAT",
          "LIE",
          "LTU",
          "LUX",
          "MDA",
          "MEX",
          "MGL",
          "MON",
          "NED",
          "NOR",
          "NZL",
          "POL",
          "POR",
          "PUR",
          "ROU",
          "RSA",
          "RUS",
          "SEN",
          "SLO",
          "SMR",
          "SUI",
          "SVK",
          "SWE",
          "TPE",
          "TTO",
          "UKR",
          "USA",
          "UZB",
          "AHO",
          "ALB",
          "ALG",
          "AND",
          "ANG",
          "ANT",
          "ARG",
          "ARM",
          "ARU",
          "ASA",
          "AUS",
          "AUT",
          "AZE",
          "BAH",
          "BAN",
          "BAR",
          "BDI",
          "BEL",
          "BEN",
          "BER",
          "BHU",
          "BIH",
          "BIZ",
          "BLR",
          "BOL",
          "BOT",
          "BRA",
          "BRU",
          "BUL",
          "BUR",
          "CAF",
          "CAM",
          "CAN",
          "CAY",
          "CGO",
          "CHA",
          "CHI",
          "CHN",
          "CIV",
          "CMR",
          "COD",
          "COK",
          "COL",
          "COM",
          "CPV",
          "CRC",
          "CRO",
          "CUB",
          "CYP",
          "CZE",
          "DEN",
          "DJI",
          "DMA",
          "DOM",
          "ECU",
          "EGY",
          "ESA",
          "ESP",
          "EST",
          "ETH",
          "FIJ",
          "FIN",
          "FRA",
          "GAB",
          "GAM",
          "GBR",
          "GBS",
          "GEO",
          "GEQ",
          "GER",
          "GHA",
          "GRE",
          "GRN",
          "GUA",
          "GUI",
          "GUM",
          "GUY",
          "HAI",
          "HKG",
          "HON",
          "HUN",
          "INA",
          "IND",
          "IRI",
          "IRL",
          "IRQ",
          "ISL",
          "ISR",
          "ISV",
          "ITA",
          "IVB",
          "JAM",
          "JOR",
          "JPN",
          "KAZ",
          "KEN",
          "KGZ",
          "KOR",
          "KSA",
          "KUW",
          "LAO",
          "LAT",
          "LBA",
          "LBR",
          "LCA",
          "LES",
          "LIE",
          "LTU",
          "LUX",
          "MAD",
          "MAR",
          "MAS",
          "MAW",
          "MDA",
          "MDV",
          "MEX",
          "MGL",
          "MKD",
          "MLI",
          "MLT",
          "MON",
          "MOZ",
          "MRI",
          "MTN",
          "MYA",
          "NAM",
          "NCA",
          "NED",
          "NEP",
          "NGR",
          "NOR",
          "NRU",
          "NZL",
          "OMA",
          "PAK",
          "PAN",
          "PAR",
          "PER",
          "PHI",
          "PLE",
          "PNG",
          "POL",
          "POR",
          "PRK",
          "PUR",
          "QAT",
          "ROU",
          "RSA",
          "RUS",
          "RWA",
          "SAM",
          "SCG",
          "SEN",
          "SEY",
          "SGP",
          "SKN",
          "SLE",
          "SLO",
          "SMR",
          "SOM",
          "SRI",
          "STP",
          "SUD",
          "SUI",
          "SUR",
          "SVK",
          "SWE",
          "SWZ",
          "SYR",
          "TAN",
          "TGA",
          "THA",
          "TJK",
          "TKM",
          "TOG",
          "TPE",
          "TTO",
          "TUN",
          "TUR",
          "UAE",
          "UGA",
          "UKR",
          "URU",
          "USA",
          "UZB",
          "VAN",
          "VEN",
          "VIE",
          "VIN",
          "YEM",
          "ZAM",
          "ZIM",
          "AND",
          "ARG",
          "ARM",
          "AUS",
          "AUT",
          "AZE",
          "BEL",
          "BER",
          "BIH",
          "BLR",
          "BUL",
          "CAN",
          "CHI",
          "CHN",
          "CRO",
          "CZE",
          "DEN",
          "ESP",
          "EST",
          "FIN",
          "FRA",
          "GBR",
          "GEO",
          "GER",
          "GRE",
          "HUN",
          "IND",
          "IRL",
          "ISL",
          "ISR",
          "ISV",
          "ITA",
          "JAM",
          "JPN",
          "KAZ",
          "KEN",
          "KGZ",
          "KOR",
          "LAT",
          "LIE",
          "LTU",
          "LUX",
          "MDA",
          "MGL",
          "MKD",
          "MON",
          "NED",
          "NOR",
          "NZL",
          "POL",
          "POR",
          "PRK",
          "PUR",
          "ROU",
          "RSA",
          "RUS",
          "SCG",
          "SLO",
          "SUI",
          "SVK",
          "SWE",
          "TPE",
          "TTO",
          "UKR",
          "URU",
          "USA",
          "UZB",
          "VEN",
          "AHO",
          "ALB",
          "ALG",
          "AND",
          "ANG",
          "ANT",
          "ARG",
          "ARM",
          "ARU",
          "ASA",
          "AUS",
          "AUT",
          "AZE",
          "BAH",
          "BAN",
          "BAR",
          "BDI",
          "BEL",
          "BEN",
          "BER",
          "BHU",
          "BIH",
          "BIZ",
          "BLR",
          "BOL",
          "BOT",
          "BRA",
          "BRU",
          "BUL",
          "BUR",
          "CAF",
          "CAM",
          "CAN",
          "CAY",
          "CGO",
          "CHA",
          "CHI",
          "CHN",
          "CIV",
          "CMR",
          "COD",
          "COK",
          "COL",
          "COM",
          "CPV",
          "CRC",
          "CRO",
          "CUB",
          "CYP",
          "CZE",
          "DEN",
          "DJI",
          "DMA",
          "DOM",
          "ECU",
          "EGY",
          "ERI",
          "ESA",
          "ESP",
          "EST",
          "ETH",
          "FIJ",
          "FIN",
          "FRA",
          "FSM",
          "GAB",
          "GAM",
          "GBR",
          "GBS",
          "GEO",
          "GEQ",
          "GER",
          "GHA",
          "GRE",
          "GRN",
          "GUA",
          "GUI",
          "GUM",
          "GUY",
          "HAI",
          "HKG",
          "HON",
          "HUN",
          "INA",
          "IND",
          "IOA",
          "IRI",
          "IRL",
          "IRQ",
          "ISL",
          "ISR",
          "ISV",
          "ITA",
          "IVB",
          "JAM",
          "JOR",
          "JPN",
          "KAZ",
          "KEN",
          "KGZ",
          "KOR",
          "KSA",
          "KUW",
          "LAO",
          "LAT",
          "LBA",
          "LBR",
          "LCA",
          "LES",
          "LIB",
          "LIE",
          "LTU",
          "LUX",
          "MAD",
          "MAR",
          "MAS",
          "MAW",
          "MDA",
          "MDV",
          "MEX",
          "MGL",
          "MKD",
          "MLI",
          "MLT",
          "MON",
          "MOZ",
          "MRI",
          "MTN",
          "MYA",
          "NAM",
          "NCA",
          "NED",
          "NEP",
          "NGR",
          "NOR",
          "NRU",
          "NZL",
          "OMA",
          "PAK",
          "PAN",
          "PAR",
          "PER",
          "PHI",
          "PLE",
          "PLW",
          "PNG",
          "POL",
          "POR",
          "PRK",
          "PUR",
          "QAT",
          "ROU",
          "RSA",
          "RUS",
          "RWA",
          "SCG",
          "SEN",
          "SEY",
          "SGP",
          "SKN",
          "SLO",
          "SMR",
          "SOL",
          "SOM",
          "SRI",
          "STP",
          "SUD",
          "SUI",
          "SUR",
          "SVK",
          "SWE",
          "SWZ",
          "SYR",
          "TAN",
          "TGA",
          "THA",
          "TJK",
          "TKM",
          "TOG",
          "TPE",
          "TTO",
          "TUN",
          "TUR",
          "UAE",
          "UGA",
          "UKR",
          "URU",
          "USA",
          "UZB",
          "VAN",
          "VEN",
          "VIE",
          "VIN",
          "YEM",
          "ZAM",
          "ZIM",
          "AND",
          "ARG",
          "ARM",
          "AUS",
          "AUT",
          "AZE",
          "BEL",
          "BER",
          "BIH",
          "BLR",
          "BRA",
          "BUL",
          "CAN",
          "CHI",
          "CHN",
          "CMR",
          "CRO",
          "CYP",
          "CZE",
          "DEN",
          "ESP",
          "EST",
          "FIJ",
          "FIN",
          "FRA",
          "GBR",
          "GEO",
          "GER",
          "GRE",
          "HKG",
          "HUN",
          "IND",
          "IRI",
          "IRL",
          "ISL",
          "ISR",
          "ISV",
          "ITA",
          "JAM",
          "JPN",
          "KAZ",
          "KEN",
          "KGZ",
          "KOR",
          "LAT",
          "LIB",
          "LIE",
          "LTU",
          "MDA",
          "MEX",
          "MGL",
          "MKD",
          "MON",
          "NED",
          "NEP",
          "NOR",
          "NZL",
          "POL",
          "ROU",
          "RSA",
          "RUS",
          "SCG",
          "SLO",
          "SMR",
          "SUI",
          "SVK",
          "SWE",
          "THA",
          "TJK",
          "TPE",
          "TTO",
          "TUR",
          "UKR",
          "USA",
          "UZB",
          "VEN",
          "AFG",
          "AHO",
          "ALB",
          "ALG",
          "AND",
          "ANG",
          "ANT",
          "ARG",
          "ARM",
          "ARU",
          "ASA",
          "AUS",
          "AUT",
          "AZE",
          "BAH",
          "BAN",
          "BAR",
          "BDI",
          "BEL",
          "BEN",
          "BER",
          "BHU",
          "BIH",
          "BIZ",
          "BLR",
          "BOL",
          "BOT",
          "BRA",
          "BRN",
          "BRU",
          "BUL",
          "BUR",
          "CAF",
          "CAM",
          "CAN",
          "CAY",
          "CGO",
          "CHA",
          "CHI",
          "CHN",
          "CIV",
          "CMR",
          "COD",
          "COK",
          "COL",
          "COM",
          "CPV",
          "CRC",
          "CRO",
          "CUB",
          "CYP",
          "CZE",
          "DEN",
          "DMA",
          "DOM",
          "ECU",
          "EGY",
          "ERI",
          "ESA",
          "ESP",
          "EST",
          "ETH",
          "FIJ",
          "FIN",
          "FRA",
          "FSM",
          "GAB",
          "GAM",
          "GBR",
          "GBS",
          "GEO",
          "GEQ",
          "GER",
          "GHA",
          "GRE",
          "GRN",
          "GUA",
          "GUI",
          "GUM",
          "GUY",
          "HAI",
          "HKG",
          "HON",
          "HUN",
          "INA",
          "IND",
          "IRI",
          "IRL",
          "IRQ",
          "ISL",
          "ISR",
          "ISV",
          "ITA",
          "IVB",
          "JAM",
          "JOR",
          "JPN",
          "KAZ",
          "KEN",
          "KGZ",
          "KIR",
          "KOR",
          "KSA",
          "KUW",
          "LAO",
          "LAT",
          "LBA",
          "LBR",
          "LCA",
          "LES",
          "LIB",
          "LIE",
          "LTU",
          "LUX",
          "MAD",
          "MAR",
          "MAS",
          "MAW",
          "MDA",
          "MDV",
          "MEX",
          "MGL",
          "MKD",
          "MLI",
          "MLT",
          "MON",
          "MOZ",
          "MRI",
          "MTN",
          "MYA",
          "NAM",
          "NCA",
          "NED",
          "NEP",
          "NGR",
          "NIG",
          "NOR",
          "NRU",
          "NZL",
          "OMA",
          "PAK",
          "PAN",
          "PAR",
          "PER",
          "PHI",
          "PLE",
          "PLW",
          "PNG",
          "POL",
          "POR",
          "PRK",
          "PUR",
          "QAT",
          "ROU",
          "RSA",
          "RUS",
          "RWA",
          "SAM",
          "SCG",
          "SEN",
          "SEY",
          "SGP",
          "SKN",
          "SLE",
          "SLO",
          "SMR",
          "SOL",
          "SOM",
          "SRI",
          "STP",
          "SUD",
          "SUI",
          "SUR",
          "SVK",
          "SWE",
          "SWZ",
          "SYR",
          "TAN",
          "TGA",
          "THA",
          "TJK",
          "TKM",
          "TLS",
          "TOG",
          "TPE",
          "TTO",
          "TUN",
          "TUR",
          "UAE",
          "UGA",
          "UKR",
          "URU",
          "USA",
          "UZB",
          "VAN",
          "VEN",
          "VIE",
          "VIN",
          "YEM",
          "ZAM",
          "ZIM",
          "ALB",
          "ALG",
          "AND",
          "ARG",
          "ARM",
          "AUS",
          "AUT",
          "AZE",
          "BEL",
          "BER",
          "BIH",
          "BLR",
          "BRA",
          "BUL",
          "CAN",
          "CHI",
          "CHN",
          "CRO",
          "CYP",
          "CZE",
          "DEN",
          "ESP",
          "EST",
          "ETH",
          "FIN",
          "FRA",
          "GBR",
          "GEO",
          "GER",
          "GRE",
          "HKG",
          "HUN",
          "IND",
          "IRI",
          "IRL",
          "ISL",
          "ISR",
          "ITA",
          "JPN",
          "KAZ",
          "KEN",
          "KGZ",
          "KOR",
          "LAT",
          "LIB",
          "LIE",
          "LTU",
          "LUX",
          "MAD",
          "MDA",
          "MGL",
          "MKD",
          "MON",
          "NED",
          "NEP",
          "NOR",
          "NZL",
          "POL",
          "POR",
          "PRK",
          "ROU",
          "RSA",
          "RUS",
          "SCG",
          "SLO",
          "SMR",
          "SUI",
          "SVK",
          "SWE",
          "THA",
          "TJK",
          "TPE",
          "TUR",
          "UKR",
          "USA",
          "UZB",
          "VEN",
          "AFG",
          "AHO",
          "ALB",
          "ALG",
          "AND",
          "ANG",
          "ANT",
          "ARG",
          "ARM",
          "ARU",
          "ASA",
          "AUS",
          "AUT",
          "AZE",
          "BAH",
          "BAN",
          "BAR",
          "BDI",
          "BEL",
          "BEN",
          "BER",
          "BHU",
          "BIH",
          "BIZ",
          "BLR",
          "BOL",
          "BOT",
          "BRA",
          "BRN",
          "BUL",
          "BUR",
          "CAF",
          "CAM",
          "CAN",
          "CAY",
          "CGO",
          "CHA",
          "CHI",
          "CHN",
          "CIV",
          "CMR",
          "COD",
          "COK",
          "COL",
          "COM",
          "CPV",
          "CRC",
          "CRO",
          "CUB",
          "CYP",
          "CZE",
          "DEN",
          "DMA",
          "DOM",
          "ECU",
          "EGY",
          "ERI",
          "ESA",
          "ESP",
          "EST",
          "ETH",
          "FIJ",
          "FIN",
          "FRA",
          "FSM",
          "GAB",
          "GAM",
          "GBR",
          "GBS",
          "GEO",
          "GEQ",
          "GER",
          "GHA",
          "GRE",
          "GRN",
          "GUA",
          "GUI",
          "GUM",
          "GUY",
          "HAI",
          "HKG",
          "HON",
          "HUN",
          "INA",
          "IND",
          "IRI",
          "IRL",
          "IRQ",
          "ISL",
          "ISR",
          "ISV",
          "ITA",
          "IVB",
          "JAM",
          "JOR",
          "JPN",
          "KAZ",
          "KEN",
          "KGZ",
          "KIR",
          "KOR",
          "KSA",
          "KUW",
          "LAO",
          "LAT",
          "LBA",
          "LBR",
          "LCA",
          "LES",
          "LIB",
          "LIE",
          "LTU",
          "LUX",
          "MAD",
          "MAR",
          "MAS",
          "MAW",
          "MDA",
          "MDV",
          "MEX",
          "MGL",
          "MHL",
          "MKD",
          "MLI",
          "MLT",
          "MNE",
          "MON",
          "MOZ",
          "MRI",
          "MTN",
          "MYA",
          "NAM",
          "NCA",
          "NED",
          "NEP",
          "NGR",
          "NOR",
          "NRU",
          "NZL",
          "OMA",
          "PAK",
          "PAN",
          "PAR",
          "PER",
          "PHI",
          "PLE",
          "PLW",
          "PNG",
          "POL",
          "POR",
          "PRK",
          "PUR",
          "QAT",
          "ROU",
          "RSA",
          "RUS",
          "RWA",
          "SAM",
          "SEN",
          "SEY",
          "SGP",
          "SKN",
          "SLE",
          "SLO",
          "SMR",
          "SOL",
          "SOM",
          "SRB",
          "SRI",
          "STP",
          "SUD",
          "SUI",
          "SUR",
          "SVK",
          "SWE",
          "SWZ",
          "SYR",
          "TAN",
          "TGA",
          "THA",
          "TJK",
          "TKM",
          "TLS",
          "TOG",
          "TPE",
          "TTO",
          "TUN",
          "TUR",
          "TUV",
          "UAE",
          "UGA",
          "UKR",
          "URU",
          "USA",
          "UZB",
          "VAN",
          "VEN",
          "VIE",
          "VIN",
          "YEM",
          "ZAM",
          "ZIM",
          "ALB",
          "ALG",
          "AND",
          "ARG",
          "ARM",
          "AUS",
          "AUT",
          "AZE",
          "BEL",
          "BER",
          "BIH",
          "BLR",
          "BRA",
          "BUL",
          "CAN",
          "CAY",
          "CHI",
          "CHN",
          "COL",
          "CRO",
          "CYP",
          "CZE",
          "DEN",
          "ESP",
          "EST",
          "ETH",
          "FIN",
          "FRA",
          "GBR",
          "GEO",
          "GER",
          "GHA",
          "GRE",
          "HKG",
          "HUN",
          "IND",
          "IRI",
          "IRL",
          "ISL",
          "ISR",
          "ITA",
          "JAM",
          "JPN",
          "KAZ",
          "KGZ",
          "KOR",
          "LAT",
          "LIB",
          "LIE",
          "LTU",
          "MAR",
          "MDA",
          "MEX",
          "MGL",
          "MKD",
          "MNE",
          "MON",
          "NED",
          "NEP",
          "NOR",
          "NZL",
          "PAK",
          "PER",
          "POL",
          "POR",
          "PRK",
          "ROU",
          "RSA",
          "RUS",
          "SLO",
          "SMR",
          "SRB",
          "SUI",
          "SVK",
          "SWE",
          "TJK",
          "TPE",
          "TUR",
          "UKR",
          "USA",
          "UZB",
          "AFG",
          "ALB",
          "ALG",
          "AND",
          "ANG",
          "ANT",
          "ARG",
          "ARM",
          "ARU",
          "ASA",
          "AUS",
          "AUT",
          "AZE",
          "BAH",
          "BAN",
          "BAR",
          "BDI",
          "BEL",
          "BEN",
          "BER",
          "BHU",
          "BIH",
          "BIZ",
          "BLR",
          "BOL",
          "BOT",
          "BRA",
          "BRN",
          "BRU",
          "BUL",
          "BUR",
          "CAF",
          "CAM",
          "CAN",
          "CAY",
          "CGO",
          "CHA",
          "CHI",
          "CHN",
          "CIV",
          "CMR",
          "COD",
          "COK",
          "COL",
          "COM",
          "CPV",
          "CRC",
          "CRO",
          "CUB",
          "CYP",
          "CZE",
          "DEN",
          "DJI",
          "DMA",
          "DOM",
          "ECU",
          "EGY",
          "ERI",
          "ESA",
          "ESP",
          "EST",
          "ETH",
          "FIJ",
          "FIN",
          "FRA",
          "FSM",
          "GAB",
          "GAM",
          "GBR",
          "GBS",
          "GEO",
          "GEQ",
          "GER",
          "GHA",
          "GRE",
          "GRN",
          "GUA",
          "GUI",
          "GUM",
          "GUY",
          "HAI",
          "HKG",
          "HON",
          "HUN",
          "INA",
          "IND",
          "IOA",
          "IRI",
          "IRL",
          "IRQ",
          "ISL",
          "ISR",
          "ISV",
          "ITA",
          "IVB",
          "JAM",
          "JOR",
          "JPN",
          "KAZ",
          "KEN",
          "KGZ",
          "KIR",
          "KOR",
          "KSA",
          "KUW",
          "LAO",
          "LAT",
          "LBA",
          "LBR",
          "LCA",
          "LES",
          "LIB",
          "LIE",
          "LTU",
          "LUX",
          "MAD",
          "MAR",
          "MAS",
          "MAW",
          "MDA",
          "MDV",
          "MEX",
          "MGL",
          "MHL",
          "MKD",
          "MLI",
          "MLT",
          "MNE",
          "MON",
          "MOZ",
          "MRI",
          "MTN",
          "MYA",
          "NAM",
          "NCA",
          "NED",
          "NEP",
          "NGR",
          "NIG",
          "NOR",
          "NRU",
          "NZL",
          "OMA",
          "PAK",
          "PAN",
          "PAR",
          "PER",
          "PHI",
          "PLE",
          "PLW",
          "PNG",
          "POL",
          "POR",
          "PRK",
          "PUR",
          "QAT",
          "ROU",
          "RSA",
          "RUS",
          "RWA",
          "SAM",
          "SEN",
          "SEY",
          "SGP",
          "SKN",
          "SLE",
          "SLO",
          "SMR",
          "SOL",
          "SRB",
          "SRI",
          "STP",
          "SUD",
          "SUI",
          "SUR",
          "SVK",
          "SWE",
          "SWZ",
          "SYR",
          "TAN",
          "TGA",
          "THA",
          "TJK",
          "TKM",
          "TLS",
          "TOG",
          "TPE",
          "TTO",
          "TUN",
          "TUR",
          "TUV",
          "UAE",
          "UGA",
          "UKR",
          "URU",
          "USA",
          "UZB",
          "VAN",
          "VEN",
          "VIE",
          "VIN",
          "YEM",
          "ZAM",
          "ZIM",
          "ALB",
          "AND",
          "ARG",
          "ARM",
          "AUS",
          "AUT",
          "AZE",
          "BEL",
          "BER",
          "BIH",
          "BLR",
          "BRA",
          "BUL",
          "CAN",
          "CAY",
          "CHI",
          "CHN",
          "CRO",
          "CYP",
          "CZE",
          "DEN",
          "DMA",
          "ESP",
          "EST",
          "FIN",
          "FRA",
          "GBR",
          "GEO",
          "GER",
          "GRE",
          "HKG",
          "HUN",
          "IND",
          "IOA",
          "IRI",
          "IRL",
          "ISL",
          "ISR",
          "ISV",
          "ITA",
          "IVB",
          "JAM",
          "JPN",
          "KAZ",
          "KOR",
          "LAT",
          "LIB",
          "LIE",
          "LTU",
          "LUX",
          "MAR",
          "MDA",
          "MEX",
          "MGL",
          "MKD",
          "MLT",
          "MNE",
          "MON",
          "NED",
          "NEP",
          "NOR",
          "NZL",
          "PAK",
          "PAR",
          "PER",
          "POL",
          "POR",
          "ROU",
          "RUS",
          "SLO",
          "SMR",
          "SRB",
          "SUI",
          "SVK",
          "SWE",
          "TGA",
          "THA",
          "TJK",
          "TLS",
          "TOG",
          "TPE",
          "TUR",
          "UKR",
          "USA",
          "UZB",
          "VEN",
          "ZIM",
          "AFG",
          "ALB",
          "ALG",
          "AND",
          "ANG",
          "ANT",
          "ARG",
          "ARM",
          "ARU",
          "ASA",
          "AUS",
          "AUT",
          "AZE",
          "BAH",
          "BAN",
          "BAR",
          "BDI",
          "BEL",
          "BEN",
          "BER",
          "BHU",
          "BIH",
          "BIZ",
          "BLR",
          "BOL",
          "BOT",
          "BRA",
          "BRN",
          "BRU",
          "BUL",
          "BUR",
          "CAF",
          "CAM",
          "CAN",
          "CAY",
          "CGO",
          "CHA",
          "CHI",
          "CHN",
          "CIV",
          "CMR",
          "COD",
          "COK",
          "COL",
          "COM",
          "CPV",
          "CRC",
          "CRO",
          "CUB",
          "CYP",
          "CZE",
          "DEN",
          "DJI",
          "DMA",
          "DOM",
          "ECU",
          "EGY",
          "ERI",
          "ESA",
          "ESP",
          "EST",
          "ETH",
          "FIJ",
          "FIN",
          "FRA",
          "FSM",
          "GAB",
          "GBR",
          "GBS",
          "GEO",
          "GEQ",
          "GER",
          "GHA",
          "GRE",
          "GRN",
          "GUA",
          "GUI",
          "GUM",
          "GUY",
          "HAI",
          "HKG",
          "HON",
          "HUN",
          "INA",
          "IND",
          "IOA",
          "IRI",
          "IRL",
          "IRQ",
          "ISL",
          "ISR",
          "ISV",
          "ITA",
          "IVB",
          "JAM",
          "JOR",
          "JPN",
          "KAZ",
          "KEN",
          "KGZ",
          "KIR",
          "KOR",
          "KOS",
          "KSA",
          "LAO",
          "LAT",
          "LBA",
          "LCA",
          "LES",
          "LIB",
          "LIE",
          "LTU",
          "LUX",
          "MAD",
          "MAR",
          "MAS",
          "MAW",
          "MDA",
          "MDV",
          "MEX",
          "MGL",
          "MHL",
          "MKD",
          "MLI",
          "MLT",
          "MNE",
          "MON",
          "MOZ",
          "MRI",
          "MTN",
          "MYA",
          "NAM",
          "NCA",
          "NED",
          "NEP",
          "NGR",
          "NIG",
          "NOR",
          "NRU",
          "NZL",
          "OMA",
          "PAK",
          "PAN",
          "PAR",
          "PER",
          "PHI",
          "PLE",
          "PLW",
          "PNG",
          "POL",
          "POR",
          "PRK",
          "PUR",
          "QAT",
          "ROT",
          "ROU",
          "RSA",
          "RUS",
          "RWA",
          "SAM",
          "SEN",
          "SEY",
          "SGP",
          "SKN",
          "SLO",
          "SMR",
          "SOL",
          "SRB",
          "SRI",
          "SSD",
          "STP",
          "SUD",
          "SUI",
          "SUR",
          "SVK",
          "SWE",
          "SWZ",
          "SYR",
          "TAN",
          "TGA",
          "THA",
          "TJK",
          "TKM",
          "TLS",
          "TOG",
          "TPE",
          "TTO",
          "TUN",
          "TUR",
          "TUV",
          "UAE",
          "UGA",
          "UKR",
          "URU",
          "USA",
          "UZB",
          "VAN",
          "VEN",
          "VIE",
          "VIN",
          "YEM",
          "ZAM",
          "ZIM"
         ],
         "locationmode": "ISO-3",
         "locations": [
          "AFG",
          "AHO",
          "ARG",
          "AUS",
          "AUT",
          "BAH",
          "BEL",
          "BER",
          "BRA",
          "BUL",
          "CAN",
          "CHI",
          "COL",
          "CUB",
          "DEN",
          "ESP",
          "ETH",
          "FIJ",
          "FIN",
          "FRA",
          "GBR",
          "GER",
          "GHA",
          "GRE",
          "GUY",
          "HKG",
          "HUN",
          "INA",
          "IND",
          "IRI",
          "IRL",
          "IRQ",
          "ISL",
          "ISR",
          "ITA",
          "JPN",
          "KEN",
          "KOR",
          "LBR",
          "LIB",
          "LIE",
          "LUX",
          "MAL",
          "MAR",
          "MEX",
          "MLT",
          "MON",
          "MYA",
          "NED",
          "NGR",
          "NOR",
          "NZL",
          "PAK",
          "PAN",
          "PER",
          "PHI",
          "POL",
          "POR",
          "PUR",
          "RHO",
          "ROU",
          "RSA",
          "SGP",
          "SMR",
          "SRI",
          "SUD",
          "SUI",
          "SWE",
          "TCH",
          "THA",
          "TPE",
          "TUN",
          "TUR",
          "UAR",
          "UGA",
          "URS",
          "URU",
          "USA",
          "VEN",
          "VNM",
          "WIF",
          "YUG",
          "ZIM",
          "AFG",
          "AHO",
          "ALG",
          "ARG",
          "AUS",
          "AUT",
          "BAH",
          "BEL",
          "BER",
          "BOL",
          "BRA",
          "BUL",
          "CAM",
          "CAN",
          "CGO",
          "CHA",
          "CHI",
          "CIV",
          "CMR",
          "COL",
          "CRC",
          "CUB",
          "DEN",
          "DOM",
          "EGY",
          "ESP",
          "ETH",
          "FIN",
          "FRA",
          "GBR",
          "GER",
          "GHA",
          "GRE",
          "HKG",
          "HUN",
          "IND",
          "IRI",
          "IRL",
          "IRQ",
          "ISL",
          "ISR",
          "ITA",
          "JAM",
          "JPN",
          "KEN",
          "KOR",
          "LBR",
          "LIB",
          "LIE",
          "LUX",
          "MAD",
          "MAR",
          "MAS",
          "MEX",
          "MGL",
          "MLI",
          "MON",
          "MYA",
          "NED",
          "NEP",
          "NGR",
          "NOR",
          "NZL",
          "PAK",
          "PAN",
          "PER",
          "PHI",
          "POL",
          "POR",
          "PRK",
          "PUR",
          "ROU",
          "SEN",
          "SRI",
          "SUI",
          "SWE",
          "TAN",
          "TCH",
          "THA",
          "TPE",
          "TTO",
          "TUN",
          "TUR",
          "UGA",
          "URS",
          "URU",
          "USA",
          "VEN",
          "VNM",
          "YUG",
          "ZAM",
          "ZIM",
          "AFG",
          "AHO",
          "ALG",
          "ARG",
          "AUS",
          "AUT",
          "BAH",
          "BAR",
          "BEL",
          "BER",
          "BIZ",
          "BOL",
          "BRA",
          "BUL",
          "CAN",
          "CHA",
          "CHI",
          "CIV",
          "CMR",
          "COD",
          "COL",
          "CRC",
          "CUB",
          "DEN",
          "DOM",
          "ECU",
          "EGY",
          "ESA",
          "ESP",
          "ETH",
          "FIN",
          "FRA",
          "FRG",
          "GBR",
          "GDR",
          "GHA",
          "GRE",
          "GUA",
          "GUI",
          "GUY",
          "HKG",
          "HON",
          "HUN",
          "INA",
          "IND",
          "IRI",
          "IRL",
          "IRQ",
          "ISL",
          "ISR",
          "ISV",
          "ITA",
          "JAM",
          "JPN",
          "KEN",
          "KOR",
          "LIB",
          "LIE",
          "LUX",
          "MAD",
          "MAR",
          "MAS",
          "MEX",
          "MGL",
          "MLI",
          "MLT",
          "MON",
          "MYA",
          "NCA",
          "NED",
          "NGR",
          "NOR",
          "NZL",
          "PAK",
          "PAN",
          "PER",
          "PHI",
          "POL",
          "POR",
          "PUR",
          "ROU",
          "SEN",
          "SGP",
          "SLE",
          "SMR",
          "SRI",
          "SUD",
          "SUI",
          "SUR",
          "SWE",
          "TAN",
          "TCH",
          "THA",
          "TPE",
          "TTO",
          "TUN",
          "TUR",
          "UGA",
          "URS",
          "URU",
          "USA",
          "VEN",
          "VNM",
          "YUG",
          "ZAM",
          "AFG",
          "AHO",
          "ALG",
          "ARG",
          "AUS",
          "AUT",
          "BAH",
          "BAR",
          "BEL",
          "BEN",
          "BER",
          "BIZ",
          "BOL",
          "BRA",
          "BUL",
          "BUR",
          "CAM",
          "CAN",
          "CGO",
          "CHA",
          "CHI",
          "CIV",
          "CMR",
          "COL",
          "CRC",
          "CUB",
          "DEN",
          "DOM",
          "ECU",
          "EGY",
          "ESA",
          "ESP",
          "ETH",
          "FIJ",
          "FIN",
          "FRA",
          "FRG",
          "GAB",
          "GBR",
          "GDR",
          "GHA",
          "GRE",
          "GUA",
          "GUY",
          "HAI",
          "HKG",
          "HUN",
          "INA",
          "IND",
          "IRI",
          "IRL",
          "ISL",
          "ISR",
          "ISV",
          "ITA",
          "JAM",
          "JPN",
          "KEN",
          "KOR",
          "KSA",
          "KUW",
          "LBR",
          "LES",
          "LIB",
          "LIE",
          "LUX",
          "MAD",
          "MAR",
          "MAS",
          "MAW",
          "MEX",
          "MGL",
          "MLI",
          "MLT",
          "MON",
          "MYA",
          "NCA",
          "NED",
          "NGR",
          "NOR",
          "NZL",
          "PAK",
          "PAN",
          "PAR",
          "PER",
          "PHI",
          "POL",
          "POR",
          "PRK",
          "PUR",
          "ROU",
          "SEN",
          "SGP",
          "SMR",
          "SOM",
          "SRI",
          "SUD",
          "SUI",
          "SUR",
          "SWE",
          "SWZ",
          "SYR",
          "TAN",
          "TCH",
          "THA",
          "TOG",
          "TPE",
          "TTO",
          "TUN",
          "TUR",
          "UGA",
          "URS",
          "URU",
          "USA",
          "VEN",
          "VNM",
          "YUG",
          "ZAM",
          "AHO",
          "AND",
          "ANT",
          "ARG",
          "AUS",
          "AUT",
          "BAH",
          "BAR",
          "BEL",
          "BER",
          "BIZ",
          "BOL",
          "BRA",
          "BUL",
          "CAN",
          "CAY",
          "CHI",
          "CIV",
          "CMR",
          "COL",
          "CRC",
          "CUB",
          "DEN",
          "DOM",
          "ECU",
          "EGY",
          "ESP",
          "FIJ",
          "FIN",
          "FRA",
          "FRG",
          "GBR",
          "GDR",
          "GRE",
          "GUA",
          "HAI",
          "HKG",
          "HON",
          "HUN",
          "INA",
          "IND",
          "IRI",
          "IRL",
          "ISL",
          "ISR",
          "ISV",
          "ITA",
          "JAM",
          "JPN",
          "KOR",
          "KSA",
          "KUW",
          "LIB",
          "LIE",
          "LUX",
          "MAR",
          "MAS",
          "MEX",
          "MGL",
          "MON",
          "NCA",
          "NED",
          "NEP",
          "NOR",
          "NZL",
          "PAK",
          "PAN",
          "PAR",
          "PER",
          "PHI",
          "PNG",
          "POL",
          "POR",
          "PRK",
          "PUR",
          "ROU",
          "SEN",
          "SGP",
          "SMR",
          "SUI",
          "SUR",
          "SWE",
          "TCH",
          "THA",
          "TPE",
          "TTO",
          "TUN",
          "TUR",
          "URS",
          "URU",
          "USA",
          "VEN",
          "YUG",
          "AFG",
          "ALG",
          "AND",
          "ANG",
          "ARG",
          "AUS",
          "AUT",
          "BEL",
          "BEN",
          "BOL",
          "BOT",
          "BRA",
          "BUL",
          "CAN",
          "CGO",
          "CHN",
          "CMR",
          "COL",
          "CRC",
          "CUB",
          "CYP",
          "DEN",
          "DOM",
          "ECU",
          "ESP",
          "ETH",
          "FIN",
          "FRA",
          "FRG",
          "GBR",
          "GDR",
          "GRE",
          "GUA",
          "GUI",
          "GUY",
          "HUN",
          "IND",
          "IRL",
          "IRQ",
          "ISL",
          "ITA",
          "JAM",
          "JOR",
          "JPN",
          "KOR",
          "KUW",
          "LAO",
          "LES",
          "LIB",
          "LIE",
          "LUX",
          "MAD",
          "MEX",
          "MGL",
          "MLI",
          "MLT",
          "MOZ",
          "MYA",
          "NCA",
          "NED",
          "NEP",
          "NGR",
          "NOR",
          "NZL",
          "PER",
          "POL",
          "POR",
          "PRK",
          "PUR",
          "ROU",
          "SEN",
          "SEY",
          "SLE",
          "SMR",
          "SRI",
          "SUI",
          "SWE",
          "SYR",
          "TAN",
          "TCH",
          "TTO",
          "UGA",
          "URS",
          "USA",
          "VEN",
          "VIE",
          "YUG",
          "ZAM",
          "ZIM",
          "AHO",
          "ALG",
          "AND",
          "ANT",
          "ARG",
          "AUS",
          "AUT",
          "BAH",
          "BAN",
          "BAR",
          "BEL",
          "BEN",
          "BER",
          "BHU",
          "BIZ",
          "BOL",
          "BOT",
          "BRA",
          "BRN",
          "BUL",
          "CAF",
          "CAN",
          "CAY",
          "CGO",
          "CHA",
          "CHI",
          "CHN",
          "CIV",
          "CMR",
          "COD",
          "COL",
          "CRC",
          "CYP",
          "DEN",
          "DJI",
          "DOM",
          "ECU",
          "EGY",
          "ESA",
          "ESP",
          "FIJ",
          "FIN",
          "FRA",
          "FRG",
          "GAB",
          "GAM",
          "GBR",
          "GDR",
          "GEQ",
          "GHA",
          "GRE",
          "GRN",
          "GUA",
          "GUI",
          "GUY",
          "HAI",
          "HKG",
          "HON",
          "HUN",
          "INA",
          "IND",
          "IRL",
          "IRQ",
          "ISL",
          "ISR",
          "ISV",
          "ITA",
          "IVB",
          "JAM",
          "JOR",
          "JPN",
          "KEN",
          "KOR",
          "KSA",
          "KUW",
          "LBR",
          "LES",
          "LIB",
          "LIE",
          "LUX",
          "MAD",
          "MAR",
          "MAS",
          "MAW",
          "MEX",
          "MGL",
          "MLI",
          "MLT",
          "MON",
          "MOZ",
          "MRI",
          "MTN",
          "MYA",
          "NCA",
          "NED",
          "NEP",
          "NGR",
          "NIG",
          "NOR",
          "NZL",
          "OMA",
          "PAK",
          "PAN",
          "PAR",
          "PER",
          "PHI",
          "PNG",
          "POL",
          "POR",
          "PRK",
          "PUR",
          "QAT",
          "ROU",
          "RWA",
          "SAM",
          "SEN",
          "SEY",
          "SGP",
          "SLE",
          "SMR",
          "SOL",
          "SOM",
          "SRI",
          "SUD",
          "SUI",
          "SUR",
          "SWE",
          "SWZ",
          "SYR",
          "TAN",
          "TCH",
          "THA",
          "TOG",
          "TPE",
          "TTO",
          "TUN",
          "TUR",
          "UGA",
          "URS",
          "URU",
          "USA",
          "VEN",
          "YAR",
          "YUG",
          "ZAM",
          "ZIM",
          "AHO",
          "ALG",
          "AND",
          "ANG",
          "ANT",
          "ARG",
          "ARU",
          "ASA",
          "AUS",
          "AUT",
          "BAH",
          "BAN",
          "BAR",
          "BEL",
          "BEN",
          "BER",
          "BHU",
          "BIZ",
          "BOL",
          "BOT",
          "BRA",
          "BRN",
          "BUL",
          "BUR",
          "CAF",
          "CAN",
          "CAY",
          "CGO",
          "CHA",
          "CHI",
          "CHN",
          "CIV",
          "CMR",
          "COD",
          "COK",
          "COL",
          "CRC",
          "CYP",
          "DEN",
          "DJI",
          "DOM",
          "ECU",
          "EGY",
          "ESA",
          "ESP",
          "FIJ",
          "FIN",
          "FRA",
          "FRG",
          "GAB",
          "GAM",
          "GBR",
          "GDR",
          "GEQ",
          "GHA",
          "GRE",
          "GRN",
          "GUA",
          "GUI",
          "GUM",
          "GUY",
          "HAI",
          "HKG",
          "HON",
          "HUN",
          "INA",
          "IND",
          "IRI",
          "IRL",
          "IRQ",
          "ISL",
          "ISR",
          "ISV",
          "ITA",
          "IVB",
          "JAM",
          "JOR",
          "JPN",
          "KEN",
          "KOR",
          "KSA",
          "KUW",
          "LAO",
          "LBA",
          "LBR",
          "LES",
          "LIB",
          "LIE",
          "LUX",
          "MAR",
          "MAS",
          "MAW",
          "MDV",
          "MEX",
          "MGL",
          "MLI",
          "MLT",
          "MON",
          "MOZ",
          "MRI",
          "MTN",
          "MYA",
          "NED",
          "NEP",
          "NGR",
          "NOR",
          "NZL",
          "OMA",
          "PAK",
          "PAN",
          "PAR",
          "PER",
          "PHI",
          "PNG",
          "POL",
          "POR",
          "PRK",
          "PUR",
          "QAT",
          "ROU",
          "RWA",
          "SAM",
          "SEN",
          "SGP",
          "SLE",
          "SMR",
          "SOL",
          "SOM",
          "SRI",
          "SUD",
          "SUI",
          "SUR",
          "SWE",
          "SWZ",
          "SYR",
          "TAN",
          "TCH",
          "TGA",
          "THA",
          "TOG",
          "TPE",
          "TTO",
          "TUN",
          "TUR",
          "UAE",
          "UGA",
          "URS",
          "URU",
          "USA",
          "VAN",
          "VEN",
          "VIE",
          "VIN",
          "YAR",
          "YMD",
          "YUG",
          "ZAM",
          "ZIM",
          "AHO",
          "ALB",
          "ALG",
          "AND",
          "ANG",
          "ANT",
          "ARG",
          "ARU",
          "AUS",
          "AUT",
          "BAH",
          "BAN",
          "BAR",
          "BEL",
          "BEN",
          "BER",
          "BHU",
          "BIH",
          "BIZ",
          "BOL",
          "BOT",
          "BRA",
          "BRN",
          "BUL",
          "BUR",
          "CAF",
          "CAN",
          "CAY",
          "CGO",
          "CHA",
          "CHI",
          "CHN",
          "CIV",
          "CMR",
          "COD",
          "COK",
          "COL",
          "CRC",
          "CRO",
          "CUB",
          "CYP",
          "DEN",
          "DJI",
          "DOM",
          "ECU",
          "EGY",
          "ESA",
          "ESP",
          "EST",
          "ETH",
          "EUN",
          "FIJ",
          "FIN",
          "FRA",
          "GAB",
          "GAM",
          "GBR",
          "GEQ",
          "GER",
          "GHA",
          "GRE",
          "GUA",
          "GUI",
          "GUM",
          "GUY",
          "HAI",
          "HKG",
          "HON",
          "HUN",
          "INA",
          "IND",
          "IOA",
          "IRI",
          "IRL",
          "IRQ",
          "ISL",
          "ISR",
          "ISV",
          "ITA",
          "IVB",
          "JAM",
          "JOR",
          "JPN",
          "KEN",
          "KOR",
          "KSA",
          "KUW",
          "LAO",
          "LAT",
          "LBA",
          "LES",
          "LIB",
          "LIE",
          "LTU",
          "LUX",
          "MAD",
          "MAR",
          "MAS",
          "MAW",
          "MDV",
          "MEX",
          "MGL",
          "MLI",
          "MLT",
          "MON",
          "MOZ",
          "MRI",
          "MTN",
          "MYA",
          "NAM",
          "NCA",
          "NED",
          "NEP",
          "NGR",
          "NOR",
          "NZL",
          "OMA",
          "PAK",
          "PAN",
          "PAR",
          "PER",
          "PHI",
          "PNG",
          "POL",
          "POR",
          "PRK",
          "PUR",
          "QAT",
          "ROU",
          "RSA",
          "RWA",
          "SAM",
          "SEN",
          "SEY",
          "SGP",
          "SLE",
          "SLO",
          "SMR",
          "SRI",
          "SUD",
          "SUI",
          "SUR",
          "SWE",
          "SWZ",
          "SYR",
          "TAN",
          "TCH",
          "TGA",
          "THA",
          "TOG",
          "TPE",
          "TTO",
          "TUN",
          "TUR",
          "UAE",
          "UGA",
          "URU",
          "USA",
          "VAN",
          "VEN",
          "VIE",
          "VIN",
          "YEM",
          "YUG",
          "ZAM",
          "ZIM",
          "AND",
          "ARG",
          "ARM",
          "ASA",
          "AUS",
          "AUT",
          "BEL",
          "BER",
          "BIH",
          "BLR",
          "BRA",
          "BUL",
          "CAN",
          "CHI",
          "CHN",
          "CRO",
          "CZE",
          "DEN",
          "ESP",
          "EST",
          "FIJ",
          "FIN",
          "FRA",
          "GBR",
          "GEO",
          "GER",
          "GRE",
          "HUN",
          "ISL",
          "ISR",
          "ISV",
          "ITA",
          "JAM",
          "JPN",
          "KAZ",
          "KOR",
          "LAT",
          "LIE",
          "LTU",
          "LUX",
          "MDA",
          "MEX",
          "MGL",
          "MON",
          "NED",
          "NOR",
          "NZL",
          "POL",
          "POR",
          "PUR",
          "ROU",
          "RSA",
          "RUS",
          "SEN",
          "SLO",
          "SMR",
          "SUI",
          "SVK",
          "SWE",
          "TPE",
          "TTO",
          "UKR",
          "USA",
          "UZB",
          "AHO",
          "ALB",
          "ALG",
          "AND",
          "ANG",
          "ANT",
          "ARG",
          "ARM",
          "ARU",
          "ASA",
          "AUS",
          "AUT",
          "AZE",
          "BAH",
          "BAN",
          "BAR",
          "BDI",
          "BEL",
          "BEN",
          "BER",
          "BHU",
          "BIH",
          "BIZ",
          "BLR",
          "BOL",
          "BOT",
          "BRA",
          "BRU",
          "BUL",
          "BUR",
          "CAF",
          "CAM",
          "CAN",
          "CAY",
          "CGO",
          "CHA",
          "CHI",
          "CHN",
          "CIV",
          "CMR",
          "COD",
          "COK",
          "COL",
          "COM",
          "CPV",
          "CRC",
          "CRO",
          "CUB",
          "CYP",
          "CZE",
          "DEN",
          "DJI",
          "DMA",
          "DOM",
          "ECU",
          "EGY",
          "ESA",
          "ESP",
          "EST",
          "ETH",
          "FIJ",
          "FIN",
          "FRA",
          "GAB",
          "GAM",
          "GBR",
          "GBS",
          "GEO",
          "GEQ",
          "GER",
          "GHA",
          "GRE",
          "GRN",
          "GUA",
          "GUI",
          "GUM",
          "GUY",
          "HAI",
          "HKG",
          "HON",
          "HUN",
          "INA",
          "IND",
          "IRI",
          "IRL",
          "IRQ",
          "ISL",
          "ISR",
          "ISV",
          "ITA",
          "IVB",
          "JAM",
          "JOR",
          "JPN",
          "KAZ",
          "KEN",
          "KGZ",
          "KOR",
          "KSA",
          "KUW",
          "LAO",
          "LAT",
          "LBA",
          "LBR",
          "LCA",
          "LES",
          "LIE",
          "LTU",
          "LUX",
          "MAD",
          "MAR",
          "MAS",
          "MAW",
          "MDA",
          "MDV",
          "MEX",
          "MGL",
          "MKD",
          "MLI",
          "MLT",
          "MON",
          "MOZ",
          "MRI",
          "MTN",
          "MYA",
          "NAM",
          "NCA",
          "NED",
          "NEP",
          "NGR",
          "NOR",
          "NRU",
          "NZL",
          "OMA",
          "PAK",
          "PAN",
          "PAR",
          "PER",
          "PHI",
          "PLE",
          "PNG",
          "POL",
          "POR",
          "PRK",
          "PUR",
          "QAT",
          "ROU",
          "RSA",
          "RUS",
          "RWA",
          "SAM",
          "SCG",
          "SEN",
          "SEY",
          "SGP",
          "SKN",
          "SLE",
          "SLO",
          "SMR",
          "SOM",
          "SRI",
          "STP",
          "SUD",
          "SUI",
          "SUR",
          "SVK",
          "SWE",
          "SWZ",
          "SYR",
          "TAN",
          "TGA",
          "THA",
          "TJK",
          "TKM",
          "TOG",
          "TPE",
          "TTO",
          "TUN",
          "TUR",
          "UAE",
          "UGA",
          "UKR",
          "URU",
          "USA",
          "UZB",
          "VAN",
          "VEN",
          "VIE",
          "VIN",
          "YEM",
          "ZAM",
          "ZIM",
          "AND",
          "ARG",
          "ARM",
          "AUS",
          "AUT",
          "AZE",
          "BEL",
          "BER",
          "BIH",
          "BLR",
          "BUL",
          "CAN",
          "CHI",
          "CHN",
          "CRO",
          "CZE",
          "DEN",
          "ESP",
          "EST",
          "FIN",
          "FRA",
          "GBR",
          "GEO",
          "GER",
          "GRE",
          "HUN",
          "IND",
          "IRL",
          "ISL",
          "ISR",
          "ISV",
          "ITA",
          "JAM",
          "JPN",
          "KAZ",
          "KEN",
          "KGZ",
          "KOR",
          "LAT",
          "LIE",
          "LTU",
          "LUX",
          "MDA",
          "MGL",
          "MKD",
          "MON",
          "NED",
          "NOR",
          "NZL",
          "POL",
          "POR",
          "PRK",
          "PUR",
          "ROU",
          "RSA",
          "RUS",
          "SCG",
          "SLO",
          "SUI",
          "SVK",
          "SWE",
          "TPE",
          "TTO",
          "UKR",
          "URU",
          "USA",
          "UZB",
          "VEN",
          "AHO",
          "ALB",
          "ALG",
          "AND",
          "ANG",
          "ANT",
          "ARG",
          "ARM",
          "ARU",
          "ASA",
          "AUS",
          "AUT",
          "AZE",
          "BAH",
          "BAN",
          "BAR",
          "BDI",
          "BEL",
          "BEN",
          "BER",
          "BHU",
          "BIH",
          "BIZ",
          "BLR",
          "BOL",
          "BOT",
          "BRA",
          "BRU",
          "BUL",
          "BUR",
          "CAF",
          "CAM",
          "CAN",
          "CAY",
          "CGO",
          "CHA",
          "CHI",
          "CHN",
          "CIV",
          "CMR",
          "COD",
          "COK",
          "COL",
          "COM",
          "CPV",
          "CRC",
          "CRO",
          "CUB",
          "CYP",
          "CZE",
          "DEN",
          "DJI",
          "DMA",
          "DOM",
          "ECU",
          "EGY",
          "ERI",
          "ESA",
          "ESP",
          "EST",
          "ETH",
          "FIJ",
          "FIN",
          "FRA",
          "FSM",
          "GAB",
          "GAM",
          "GBR",
          "GBS",
          "GEO",
          "GEQ",
          "GER",
          "GHA",
          "GRE",
          "GRN",
          "GUA",
          "GUI",
          "GUM",
          "GUY",
          "HAI",
          "HKG",
          "HON",
          "HUN",
          "INA",
          "IND",
          "IOA",
          "IRI",
          "IRL",
          "IRQ",
          "ISL",
          "ISR",
          "ISV",
          "ITA",
          "IVB",
          "JAM",
          "JOR",
          "JPN",
          "KAZ",
          "KEN",
          "KGZ",
          "KOR",
          "KSA",
          "KUW",
          "LAO",
          "LAT",
          "LBA",
          "LBR",
          "LCA",
          "LES",
          "LIB",
          "LIE",
          "LTU",
          "LUX",
          "MAD",
          "MAR",
          "MAS",
          "MAW",
          "MDA",
          "MDV",
          "MEX",
          "MGL",
          "MKD",
          "MLI",
          "MLT",
          "MON",
          "MOZ",
          "MRI",
          "MTN",
          "MYA",
          "NAM",
          "NCA",
          "NED",
          "NEP",
          "NGR",
          "NOR",
          "NRU",
          "NZL",
          "OMA",
          "PAK",
          "PAN",
          "PAR",
          "PER",
          "PHI",
          "PLE",
          "PLW",
          "PNG",
          "POL",
          "POR",
          "PRK",
          "PUR",
          "QAT",
          "ROU",
          "RSA",
          "RUS",
          "RWA",
          "SCG",
          "SEN",
          "SEY",
          "SGP",
          "SKN",
          "SLO",
          "SMR",
          "SOL",
          "SOM",
          "SRI",
          "STP",
          "SUD",
          "SUI",
          "SUR",
          "SVK",
          "SWE",
          "SWZ",
          "SYR",
          "TAN",
          "TGA",
          "THA",
          "TJK",
          "TKM",
          "TOG",
          "TPE",
          "TTO",
          "TUN",
          "TUR",
          "UAE",
          "UGA",
          "UKR",
          "URU",
          "USA",
          "UZB",
          "VAN",
          "VEN",
          "VIE",
          "VIN",
          "YEM",
          "ZAM",
          "ZIM",
          "AND",
          "ARG",
          "ARM",
          "AUS",
          "AUT",
          "AZE",
          "BEL",
          "BER",
          "BIH",
          "BLR",
          "BRA",
          "BUL",
          "CAN",
          "CHI",
          "CHN",
          "CMR",
          "CRO",
          "CYP",
          "CZE",
          "DEN",
          "ESP",
          "EST",
          "FIJ",
          "FIN",
          "FRA",
          "GBR",
          "GEO",
          "GER",
          "GRE",
          "HKG",
          "HUN",
          "IND",
          "IRI",
          "IRL",
          "ISL",
          "ISR",
          "ISV",
          "ITA",
          "JAM",
          "JPN",
          "KAZ",
          "KEN",
          "KGZ",
          "KOR",
          "LAT",
          "LIB",
          "LIE",
          "LTU",
          "MDA",
          "MEX",
          "MGL",
          "MKD",
          "MON",
          "NED",
          "NEP",
          "NOR",
          "NZL",
          "POL",
          "ROU",
          "RSA",
          "RUS",
          "SCG",
          "SLO",
          "SMR",
          "SUI",
          "SVK",
          "SWE",
          "THA",
          "TJK",
          "TPE",
          "TTO",
          "TUR",
          "UKR",
          "USA",
          "UZB",
          "VEN",
          "AFG",
          "AHO",
          "ALB",
          "ALG",
          "AND",
          "ANG",
          "ANT",
          "ARG",
          "ARM",
          "ARU",
          "ASA",
          "AUS",
          "AUT",
          "AZE",
          "BAH",
          "BAN",
          "BAR",
          "BDI",
          "BEL",
          "BEN",
          "BER",
          "BHU",
          "BIH",
          "BIZ",
          "BLR",
          "BOL",
          "BOT",
          "BRA",
          "BRN",
          "BRU",
          "BUL",
          "BUR",
          "CAF",
          "CAM",
          "CAN",
          "CAY",
          "CGO",
          "CHA",
          "CHI",
          "CHN",
          "CIV",
          "CMR",
          "COD",
          "COK",
          "COL",
          "COM",
          "CPV",
          "CRC",
          "CRO",
          "CUB",
          "CYP",
          "CZE",
          "DEN",
          "DMA",
          "DOM",
          "ECU",
          "EGY",
          "ERI",
          "ESA",
          "ESP",
          "EST",
          "ETH",
          "FIJ",
          "FIN",
          "FRA",
          "FSM",
          "GAB",
          "GAM",
          "GBR",
          "GBS",
          "GEO",
          "GEQ",
          "GER",
          "GHA",
          "GRE",
          "GRN",
          "GUA",
          "GUI",
          "GUM",
          "GUY",
          "HAI",
          "HKG",
          "HON",
          "HUN",
          "INA",
          "IND",
          "IRI",
          "IRL",
          "IRQ",
          "ISL",
          "ISR",
          "ISV",
          "ITA",
          "IVB",
          "JAM",
          "JOR",
          "JPN",
          "KAZ",
          "KEN",
          "KGZ",
          "KIR",
          "KOR",
          "KSA",
          "KUW",
          "LAO",
          "LAT",
          "LBA",
          "LBR",
          "LCA",
          "LES",
          "LIB",
          "LIE",
          "LTU",
          "LUX",
          "MAD",
          "MAR",
          "MAS",
          "MAW",
          "MDA",
          "MDV",
          "MEX",
          "MGL",
          "MKD",
          "MLI",
          "MLT",
          "MON",
          "MOZ",
          "MRI",
          "MTN",
          "MYA",
          "NAM",
          "NCA",
          "NED",
          "NEP",
          "NGR",
          "NIG",
          "NOR",
          "NRU",
          "NZL",
          "OMA",
          "PAK",
          "PAN",
          "PAR",
          "PER",
          "PHI",
          "PLE",
          "PLW",
          "PNG",
          "POL",
          "POR",
          "PRK",
          "PUR",
          "QAT",
          "ROU",
          "RSA",
          "RUS",
          "RWA",
          "SAM",
          "SCG",
          "SEN",
          "SEY",
          "SGP",
          "SKN",
          "SLE",
          "SLO",
          "SMR",
          "SOL",
          "SOM",
          "SRI",
          "STP",
          "SUD",
          "SUI",
          "SUR",
          "SVK",
          "SWE",
          "SWZ",
          "SYR",
          "TAN",
          "TGA",
          "THA",
          "TJK",
          "TKM",
          "TLS",
          "TOG",
          "TPE",
          "TTO",
          "TUN",
          "TUR",
          "UAE",
          "UGA",
          "UKR",
          "URU",
          "USA",
          "UZB",
          "VAN",
          "VEN",
          "VIE",
          "VIN",
          "YEM",
          "ZAM",
          "ZIM",
          "ALB",
          "ALG",
          "AND",
          "ARG",
          "ARM",
          "AUS",
          "AUT",
          "AZE",
          "BEL",
          "BER",
          "BIH",
          "BLR",
          "BRA",
          "BUL",
          "CAN",
          "CHI",
          "CHN",
          "CRO",
          "CYP",
          "CZE",
          "DEN",
          "ESP",
          "EST",
          "ETH",
          "FIN",
          "FRA",
          "GBR",
          "GEO",
          "GER",
          "GRE",
          "HKG",
          "HUN",
          "IND",
          "IRI",
          "IRL",
          "ISL",
          "ISR",
          "ITA",
          "JPN",
          "KAZ",
          "KEN",
          "KGZ",
          "KOR",
          "LAT",
          "LIB",
          "LIE",
          "LTU",
          "LUX",
          "MAD",
          "MDA",
          "MGL",
          "MKD",
          "MON",
          "NED",
          "NEP",
          "NOR",
          "NZL",
          "POL",
          "POR",
          "PRK",
          "ROU",
          "RSA",
          "RUS",
          "SCG",
          "SLO",
          "SMR",
          "SUI",
          "SVK",
          "SWE",
          "THA",
          "TJK",
          "TPE",
          "TUR",
          "UKR",
          "USA",
          "UZB",
          "VEN",
          "AFG",
          "AHO",
          "ALB",
          "ALG",
          "AND",
          "ANG",
          "ANT",
          "ARG",
          "ARM",
          "ARU",
          "ASA",
          "AUS",
          "AUT",
          "AZE",
          "BAH",
          "BAN",
          "BAR",
          "BDI",
          "BEL",
          "BEN",
          "BER",
          "BHU",
          "BIH",
          "BIZ",
          "BLR",
          "BOL",
          "BOT",
          "BRA",
          "BRN",
          "BUL",
          "BUR",
          "CAF",
          "CAM",
          "CAN",
          "CAY",
          "CGO",
          "CHA",
          "CHI",
          "CHN",
          "CIV",
          "CMR",
          "COD",
          "COK",
          "COL",
          "COM",
          "CPV",
          "CRC",
          "CRO",
          "CUB",
          "CYP",
          "CZE",
          "DEN",
          "DMA",
          "DOM",
          "ECU",
          "EGY",
          "ERI",
          "ESA",
          "ESP",
          "EST",
          "ETH",
          "FIJ",
          "FIN",
          "FRA",
          "FSM",
          "GAB",
          "GAM",
          "GBR",
          "GBS",
          "GEO",
          "GEQ",
          "GER",
          "GHA",
          "GRE",
          "GRN",
          "GUA",
          "GUI",
          "GUM",
          "GUY",
          "HAI",
          "HKG",
          "HON",
          "HUN",
          "INA",
          "IND",
          "IRI",
          "IRL",
          "IRQ",
          "ISL",
          "ISR",
          "ISV",
          "ITA",
          "IVB",
          "JAM",
          "JOR",
          "JPN",
          "KAZ",
          "KEN",
          "KGZ",
          "KIR",
          "KOR",
          "KSA",
          "KUW",
          "LAO",
          "LAT",
          "LBA",
          "LBR",
          "LCA",
          "LES",
          "LIB",
          "LIE",
          "LTU",
          "LUX",
          "MAD",
          "MAR",
          "MAS",
          "MAW",
          "MDA",
          "MDV",
          "MEX",
          "MGL",
          "MHL",
          "MKD",
          "MLI",
          "MLT",
          "MNE",
          "MON",
          "MOZ",
          "MRI",
          "MTN",
          "MYA",
          "NAM",
          "NCA",
          "NED",
          "NEP",
          "NGR",
          "NOR",
          "NRU",
          "NZL",
          "OMA",
          "PAK",
          "PAN",
          "PAR",
          "PER",
          "PHI",
          "PLE",
          "PLW",
          "PNG",
          "POL",
          "POR",
          "PRK",
          "PUR",
          "QAT",
          "ROU",
          "RSA",
          "RUS",
          "RWA",
          "SAM",
          "SEN",
          "SEY",
          "SGP",
          "SKN",
          "SLE",
          "SLO",
          "SMR",
          "SOL",
          "SOM",
          "SRB",
          "SRI",
          "STP",
          "SUD",
          "SUI",
          "SUR",
          "SVK",
          "SWE",
          "SWZ",
          "SYR",
          "TAN",
          "TGA",
          "THA",
          "TJK",
          "TKM",
          "TLS",
          "TOG",
          "TPE",
          "TTO",
          "TUN",
          "TUR",
          "TUV",
          "UAE",
          "UGA",
          "UKR",
          "URU",
          "USA",
          "UZB",
          "VAN",
          "VEN",
          "VIE",
          "VIN",
          "YEM",
          "ZAM",
          "ZIM",
          "ALB",
          "ALG",
          "AND",
          "ARG",
          "ARM",
          "AUS",
          "AUT",
          "AZE",
          "BEL",
          "BER",
          "BIH",
          "BLR",
          "BRA",
          "BUL",
          "CAN",
          "CAY",
          "CHI",
          "CHN",
          "COL",
          "CRO",
          "CYP",
          "CZE",
          "DEN",
          "ESP",
          "EST",
          "ETH",
          "FIN",
          "FRA",
          "GBR",
          "GEO",
          "GER",
          "GHA",
          "GRE",
          "HKG",
          "HUN",
          "IND",
          "IRI",
          "IRL",
          "ISL",
          "ISR",
          "ITA",
          "JAM",
          "JPN",
          "KAZ",
          "KGZ",
          "KOR",
          "LAT",
          "LIB",
          "LIE",
          "LTU",
          "MAR",
          "MDA",
          "MEX",
          "MGL",
          "MKD",
          "MNE",
          "MON",
          "NED",
          "NEP",
          "NOR",
          "NZL",
          "PAK",
          "PER",
          "POL",
          "POR",
          "PRK",
          "ROU",
          "RSA",
          "RUS",
          "SLO",
          "SMR",
          "SRB",
          "SUI",
          "SVK",
          "SWE",
          "TJK",
          "TPE",
          "TUR",
          "UKR",
          "USA",
          "UZB",
          "AFG",
          "ALB",
          "ALG",
          "AND",
          "ANG",
          "ANT",
          "ARG",
          "ARM",
          "ARU",
          "ASA",
          "AUS",
          "AUT",
          "AZE",
          "BAH",
          "BAN",
          "BAR",
          "BDI",
          "BEL",
          "BEN",
          "BER",
          "BHU",
          "BIH",
          "BIZ",
          "BLR",
          "BOL",
          "BOT",
          "BRA",
          "BRN",
          "BRU",
          "BUL",
          "BUR",
          "CAF",
          "CAM",
          "CAN",
          "CAY",
          "CGO",
          "CHA",
          "CHI",
          "CHN",
          "CIV",
          "CMR",
          "COD",
          "COK",
          "COL",
          "COM",
          "CPV",
          "CRC",
          "CRO",
          "CUB",
          "CYP",
          "CZE",
          "DEN",
          "DJI",
          "DMA",
          "DOM",
          "ECU",
          "EGY",
          "ERI",
          "ESA",
          "ESP",
          "EST",
          "ETH",
          "FIJ",
          "FIN",
          "FRA",
          "FSM",
          "GAB",
          "GAM",
          "GBR",
          "GBS",
          "GEO",
          "GEQ",
          "GER",
          "GHA",
          "GRE",
          "GRN",
          "GUA",
          "GUI",
          "GUM",
          "GUY",
          "HAI",
          "HKG",
          "HON",
          "HUN",
          "INA",
          "IND",
          "IOA",
          "IRI",
          "IRL",
          "IRQ",
          "ISL",
          "ISR",
          "ISV",
          "ITA",
          "IVB",
          "JAM",
          "JOR",
          "JPN",
          "KAZ",
          "KEN",
          "KGZ",
          "KIR",
          "KOR",
          "KSA",
          "KUW",
          "LAO",
          "LAT",
          "LBA",
          "LBR",
          "LCA",
          "LES",
          "LIB",
          "LIE",
          "LTU",
          "LUX",
          "MAD",
          "MAR",
          "MAS",
          "MAW",
          "MDA",
          "MDV",
          "MEX",
          "MGL",
          "MHL",
          "MKD",
          "MLI",
          "MLT",
          "MNE",
          "MON",
          "MOZ",
          "MRI",
          "MTN",
          "MYA",
          "NAM",
          "NCA",
          "NED",
          "NEP",
          "NGR",
          "NIG",
          "NOR",
          "NRU",
          "NZL",
          "OMA",
          "PAK",
          "PAN",
          "PAR",
          "PER",
          "PHI",
          "PLE",
          "PLW",
          "PNG",
          "POL",
          "POR",
          "PRK",
          "PUR",
          "QAT",
          "ROU",
          "RSA",
          "RUS",
          "RWA",
          "SAM",
          "SEN",
          "SEY",
          "SGP",
          "SKN",
          "SLE",
          "SLO",
          "SMR",
          "SOL",
          "SRB",
          "SRI",
          "STP",
          "SUD",
          "SUI",
          "SUR",
          "SVK",
          "SWE",
          "SWZ",
          "SYR",
          "TAN",
          "TGA",
          "THA",
          "TJK",
          "TKM",
          "TLS",
          "TOG",
          "TPE",
          "TTO",
          "TUN",
          "TUR",
          "TUV",
          "UAE",
          "UGA",
          "UKR",
          "URU",
          "USA",
          "UZB",
          "VAN",
          "VEN",
          "VIE",
          "VIN",
          "YEM",
          "ZAM",
          "ZIM",
          "ALB",
          "AND",
          "ARG",
          "ARM",
          "AUS",
          "AUT",
          "AZE",
          "BEL",
          "BER",
          "BIH",
          "BLR",
          "BRA",
          "BUL",
          "CAN",
          "CAY",
          "CHI",
          "CHN",
          "CRO",
          "CYP",
          "CZE",
          "DEN",
          "DMA",
          "ESP",
          "EST",
          "FIN",
          "FRA",
          "GBR",
          "GEO",
          "GER",
          "GRE",
          "HKG",
          "HUN",
          "IND",
          "IOA",
          "IRI",
          "IRL",
          "ISL",
          "ISR",
          "ISV",
          "ITA",
          "IVB",
          "JAM",
          "JPN",
          "KAZ",
          "KOR",
          "LAT",
          "LIB",
          "LIE",
          "LTU",
          "LUX",
          "MAR",
          "MDA",
          "MEX",
          "MGL",
          "MKD",
          "MLT",
          "MNE",
          "MON",
          "NED",
          "NEP",
          "NOR",
          "NZL",
          "PAK",
          "PAR",
          "PER",
          "POL",
          "POR",
          "ROU",
          "RUS",
          "SLO",
          "SMR",
          "SRB",
          "SUI",
          "SVK",
          "SWE",
          "TGA",
          "THA",
          "TJK",
          "TLS",
          "TOG",
          "TPE",
          "TUR",
          "UKR",
          "USA",
          "UZB",
          "VEN",
          "ZIM",
          "AFG",
          "ALB",
          "ALG",
          "AND",
          "ANG",
          "ANT",
          "ARG",
          "ARM",
          "ARU",
          "ASA",
          "AUS",
          "AUT",
          "AZE",
          "BAH",
          "BAN",
          "BAR",
          "BDI",
          "BEL",
          "BEN",
          "BER",
          "BHU",
          "BIH",
          "BIZ",
          "BLR",
          "BOL",
          "BOT",
          "BRA",
          "BRN",
          "BRU",
          "BUL",
          "BUR",
          "CAF",
          "CAM",
          "CAN",
          "CAY",
          "CGO",
          "CHA",
          "CHI",
          "CHN",
          "CIV",
          "CMR",
          "COD",
          "COK",
          "COL",
          "COM",
          "CPV",
          "CRC",
          "CRO",
          "CUB",
          "CYP",
          "CZE",
          "DEN",
          "DJI",
          "DMA",
          "DOM",
          "ECU",
          "EGY",
          "ERI",
          "ESA",
          "ESP",
          "EST",
          "ETH",
          "FIJ",
          "FIN",
          "FRA",
          "FSM",
          "GAB",
          "GBR",
          "GBS",
          "GEO",
          "GEQ",
          "GER",
          "GHA",
          "GRE",
          "GRN",
          "GUA",
          "GUI",
          "GUM",
          "GUY",
          "HAI",
          "HKG",
          "HON",
          "HUN",
          "INA",
          "IND",
          "IOA",
          "IRI",
          "IRL",
          "IRQ",
          "ISL",
          "ISR",
          "ISV",
          "ITA",
          "IVB",
          "JAM",
          "JOR",
          "JPN",
          "KAZ",
          "KEN",
          "KGZ",
          "KIR",
          "KOR",
          "KOS",
          "KSA",
          "LAO",
          "LAT",
          "LBA",
          "LCA",
          "LES",
          "LIB",
          "LIE",
          "LTU",
          "LUX",
          "MAD",
          "MAR",
          "MAS",
          "MAW",
          "MDA",
          "MDV",
          "MEX",
          "MGL",
          "MHL",
          "MKD",
          "MLI",
          "MLT",
          "MNE",
          "MON",
          "MOZ",
          "MRI",
          "MTN",
          "MYA",
          "NAM",
          "NCA",
          "NED",
          "NEP",
          "NGR",
          "NIG",
          "NOR",
          "NRU",
          "NZL",
          "OMA",
          "PAK",
          "PAN",
          "PAR",
          "PER",
          "PHI",
          "PLE",
          "PLW",
          "PNG",
          "POL",
          "POR",
          "PRK",
          "PUR",
          "QAT",
          "ROT",
          "ROU",
          "RSA",
          "RUS",
          "RWA",
          "SAM",
          "SEN",
          "SEY",
          "SGP",
          "SKN",
          "SLO",
          "SMR",
          "SOL",
          "SRB",
          "SRI",
          "SSD",
          "STP",
          "SUD",
          "SUI",
          "SUR",
          "SVK",
          "SWE",
          "SWZ",
          "SYR",
          "TAN",
          "TGA",
          "THA",
          "TJK",
          "TKM",
          "TLS",
          "TOG",
          "TPE",
          "TTO",
          "TUN",
          "TUR",
          "TUV",
          "UAE",
          "UGA",
          "UKR",
          "URU",
          "USA",
          "UZB",
          "VAN",
          "VEN",
          "VIE",
          "VIN",
          "YEM",
          "ZAM",
          "ZIM"
         ],
         "name": "",
         "type": "choropleth",
         "z": [
          0,
          0,
          4,
          42,
          3,
          0,
          4,
          0,
          8,
          7,
          23,
          0,
          0,
          0,
          23,
          14,
          1,
          0,
          19,
          13,
          28,
          97,
          1,
          3,
          0,
          0,
          65,
          0,
          13,
          4,
          0,
          0,
          0,
          0,
          77,
          31,
          0,
          0,
          0,
          0,
          0,
          0,
          0,
          1,
          1,
          0,
          0,
          0,
          5,
          0,
          5,
          3,
          14,
          0,
          0,
          0,
          32,
          2,
          0,
          0,
          15,
          3,
          1,
          0,
          0,
          0,
          12,
          10,
          23,
          0,
          1,
          0,
          7,
          0,
          0,
          195,
          0,
          143,
          1,
          0,
          5,
          17,
          0,
          0,
          0,
          0,
          1,
          37,
          11,
          2,
          3,
          0,
          0,
          12,
          9,
          0,
          7,
          0,
          0,
          0,
          0,
          0,
          0,
          0,
          1,
          12,
          0,
          0,
          0,
          1,
          20,
          37,
          30,
          126,
          1,
          0,
          0,
          56,
          15,
          2,
          1,
          0,
          0,
          0,
          61,
          0,
          62,
          0,
          3,
          0,
          0,
          0,
          0,
          0,
          0,
          0,
          1,
          0,
          0,
          0,
          0,
          33,
          0,
          1,
          7,
          6,
          16,
          0,
          0,
          1,
          46,
          0,
          1,
          0,
          16,
          0,
          0,
          5,
          42,
          0,
          71,
          0,
          0,
          6,
          2,
          5,
          0,
          214,
          1,
          177,
          0,
          0,
          15,
          0,
          0,
          0,
          0,
          0,
          2,
          51,
          20,
          0,
          0,
          3,
          0,
          0,
          0,
          4,
          26,
          30,
          0,
          0,
          0,
          1,
          0,
          0,
          0,
          10,
          17,
          0,
          0,
          0,
          0,
          0,
          2,
          12,
          36,
          61,
          18,
          57,
          0,
          1,
          0,
          0,
          0,
          0,
          0,
          81,
          0,
          16,
          5,
          0,
          0,
          0,
          0,
          0,
          40,
          1,
          63,
          10,
          2,
          0,
          0,
          0,
          0,
          0,
          0,
          9,
          4,
          0,
          0,
          0,
          0,
          0,
          23,
          0,
          27,
          7,
          13,
          0,
          0,
          0,
          37,
          0,
          0,
          25,
          0,
          0,
          0,
          0,
          0,
          0,
          22,
          0,
          25,
          0,
          50,
          0,
          1,
          0,
          2,
          2,
          2,
          227,
          0,
          173,
          1,
          0,
          29,
          0,
          0,
          0,
          0,
          1,
          20,
          8,
          0,
          0,
          2,
          0,
          0,
          0,
          0,
          2,
          22,
          0,
          0,
          12,
          0,
          0,
          0,
          0,
          0,
          3,
          0,
          22,
          1,
          0,
          0,
          0,
          0,
          2,
          2,
          0,
          20,
          25,
          112,
          0,
          29,
          171,
          1,
          2,
          0,
          0,
          0,
          0,
          81,
          0,
          14,
          3,
          0,
          0,
          0,
          0,
          34,
          1,
          59,
          12,
          1,
          0,
          0,
          0,
          0,
          1,
          0,
          0,
          0,
          0,
          0,
          0,
          1,
          1,
          0,
          0,
          0,
          0,
          0,
          12,
          1,
          25,
          12,
          15,
          0,
          0,
          0,
          0,
          47,
          0,
          14,
          0,
          40,
          0,
          0,
          0,
          0,
          0,
          0,
          25,
          0,
          26,
          0,
          0,
          0,
          49,
          0,
          0,
          0,
          0,
          1,
          1,
          2,
          253,
          0,
          195,
          0,
          0,
          18,
          0,
          0,
          0,
          0,
          0,
          22,
          6,
          0,
          0,
          9,
          1,
          0,
          0,
          3,
          39,
          23,
          0,
          0,
          0,
          0,
          0,
          0,
          24,
          8,
          0,
          0,
          0,
          6,
          0,
          22,
          21,
          106,
          30,
          227,
          0,
          0,
          0,
          0,
          0,
          55,
          0,
          0,
          2,
          0,
          0,
          0,
          0,
          34,
          2,
          41,
          17,
          0,
          0,
          0,
          2,
          0,
          0,
          0,
          2,
          1,
          0,
          0,
          20,
          0,
          16,
          25,
          16,
          0,
          0,
          0,
          0,
          0,
          73,
          2,
          2,
          1,
          54,
          0,
          0,
          0,
          19,
          0,
          12,
          33,
          1,
          0,
          1,
          0,
          0,
          326,
          0,
          174,
          1,
          19,
          0,
          0,
          0,
          0,
          0,
          13,
          12,
          1,
          0,
          0,
          0,
          9,
          90,
          1,
          0,
          0,
          0,
          0,
          0,
          20,
          0,
          8,
          0,
          0,
          24,
          4,
          21,
          30,
          8,
          48,
          295,
          5,
          0,
          0,
          1,
          63,
          16,
          3,
          0,
          0,
          40,
          3,
          0,
          1,
          0,
          0,
          0,
          0,
          1,
          4,
          0,
          0,
          10,
          4,
          0,
          0,
          0,
          0,
          0,
          8,
          0,
          0,
          14,
          0,
          0,
          50,
          0,
          5,
          0,
          68,
          0,
          0,
          0,
          0,
          0,
          11,
          43,
          0,
          2,
          52,
          0,
          1,
          482,
          29,
          1,
          0,
          56,
          0,
          15,
          0,
          0,
          0,
          0,
          0,
          52,
          4,
          0,
          0,
          0,
          5,
          0,
          0,
          0,
          0,
          0,
          0,
          32,
          0,
          0,
          0,
          88,
          0,
          0,
          0,
          0,
          74,
          1,
          1,
          0,
          1,
          0,
          0,
          13,
          0,
          0,
          0,
          1,
          0,
          19,
          0,
          31,
          70,
          166,
          0,
          0,
          73,
          33,
          0,
          0,
          2,
          0,
          0,
          0,
          0,
          0,
          0,
          0,
          0,
          0,
          0,
          1,
          0,
          1,
          0,
          0,
          65,
          0,
          7,
          0,
          50,
          2,
          41,
          0,
          0,
          0,
          0,
          0,
          1,
          0,
          0,
          2,
          0,
          0,
          6,
          0,
          0,
          0,
          0,
          0,
          0,
          0,
          0,
          0,
          41,
          0,
          5,
          0,
          18,
          23,
          0,
          16,
          0,
          0,
          1,
          0,
          0,
          0,
          3,
          0,
          2,
          0,
          106,
          0,
          0,
          0,
          0,
          0,
          0,
          0,
          0,
          0,
          0,
          0,
          21,
          0,
          64,
          0,
          0,
          0,
          28,
          1,
          0,
          1,
          0,
          0,
          3,
          0,
          56,
          0,
          361,
          3,
          0,
          88,
          0,
          0,
          0,
          0,
          0,
          0,
          0,
          13,
          0,
          0,
          35,
          11,
          0,
          0,
          0,
          2,
          0,
          0,
          0,
          0,
          0,
          0,
          23,
          0,
          41,
          0,
          0,
          29,
          0,
          0,
          0,
          1,
          52,
          0,
          0,
          0,
          0,
          1,
          1,
          0,
          7,
          1,
          0,
          0,
          0,
          0,
          5,
          0,
          38,
          31,
          129,
          0,
          0,
          54,
          212,
          0,
          0,
          1,
          0,
          0,
          0,
          0,
          0,
          0,
          0,
          0,
          44,
          3,
          0,
          1,
          0,
          0,
          0,
          0,
          1,
          36,
          0,
          7,
          0,
          21,
          9,
          77,
          0,
          0,
          0,
          0,
          0,
          0,
          0,
          1,
          0,
          3,
          0,
          0,
          0,
          2,
          1,
          0,
          0,
          0,
          0,
          0,
          0,
          0,
          48,
          0,
          0,
          30,
          23,
          0,
          0,
          0,
          0,
          12,
          1,
          0,
          21,
          1,
          0,
          0,
          0,
          58,
          0,
          0,
          1,
          0,
          0,
          0,
          0,
          0,
          0,
          0,
          28,
          1,
          45,
          0,
          0,
          0,
          14,
          0,
          1,
          0,
          0,
          0,
          0,
          2,
          0,
          0,
          365,
          0,
          214,
          0,
          0,
          0,
          0,
          0,
          0,
          69,
          0,
          0,
          0,
          0,
          2,
          0,
          0,
          0,
          2,
          0,
          52,
          34,
          1,
          0,
          0,
          3,
          0,
          0,
          0,
          0,
          0,
          0,
          0,
          13,
          0,
          17,
          0,
          0,
          80,
          0,
          0,
          0,
          0,
          81,
          0,
          0,
          0,
          0,
          1,
          0,
          15,
          63,
          0,
          11,
          0,
          0,
          0,
          0,
          0,
          44,
          3,
          3,
          230,
          0,
          20,
          69,
          0,
          0,
          50,
          0,
          235,
          3,
          2,
          0,
          0,
          0,
          0,
          0,
          0,
          0,
          45,
          5,
          0,
          3,
          3,
          2,
          0,
          0,
          0,
          0,
          63,
          0,
          4,
          0,
          59,
          8,
          26,
          0,
          0,
          0,
          3,
          0,
          0,
          0,
          0,
          13,
          2,
          0,
          3,
          2,
          0,
          0,
          1,
          2,
          0,
          0,
          0,
          0,
          0,
          0,
          0,
          2,
          0,
          35,
          0,
          11,
          43,
          13,
          0,
          7,
          0,
          0,
          1,
          1,
          0,
          46,
          0,
          5,
          1,
          1,
          34,
          3,
          0,
          0,
          0,
          0,
          0,
          0,
          5,
          0,
          0,
          0,
          8,
          1,
          42,
          0,
          0,
          0,
          34,
          0,
          1,
          0,
          20,
          0,
          0,
          5,
          0,
          0,
          0,
          237,
          0,
          0,
          0,
          0,
          0,
          0,
          0,
          0,
          0,
          0,
          0,
          0,
          3,
          12,
          0,
          0,
          0,
          2,
          0,
          0,
          37,
          0,
          3,
          0,
          0,
          0,
          0,
          0,
          0,
          30,
          11,
          3,
          0,
          40,
          0,
          0,
          0,
          0,
          0,
          32,
          0,
          10,
          3,
          6,
          0,
          0,
          0,
          0,
          0,
          0,
          0,
          0,
          4,
          30,
          0,
          0,
          0,
          0,
          0,
          0,
          33,
          0,
          3,
          0,
          16,
          0,
          24,
          0,
          0,
          2,
          19,
          1,
          0,
          0,
          3,
          0,
          0,
          0,
          20,
          2,
          0,
          0,
          130,
          3,
          1,
          5,
          0,
          0,
          1,
          6,
          0,
          0,
          0,
          0,
          0,
          18,
          0,
          0,
          62,
          0,
          21,
          0,
          0,
          0,
          50,
          0,
          0,
          0,
          0,
          106,
          0,
          0,
          0,
          0,
          0,
          0,
          0,
          1,
          19,
          55,
          0,
          13,
          11,
          0,
          0,
          0,
          1,
          0,
          0,
          65,
          0,
          3,
          0,
          4,
          51,
          0,
          0,
          26,
          0,
          2,
          0,
          123,
          0,
          8,
          0,
          0,
          0,
          0,
          0,
          0,
          1,
          0,
          42,
          4,
          1,
          3,
          4,
          0,
          0,
          1,
          0,
          71,
          0,
          16,
          0,
          42,
          9,
          8,
          0,
          32,
          0,
          0,
          0,
          1,
          0,
          0,
          0,
          0,
          0,
          11,
          0,
          0,
          2,
          3,
          0,
          3,
          0,
          1,
          1,
          0,
          0,
          0,
          0,
          1,
          0,
          0,
          0,
          2,
          0,
          62,
          0,
          22,
          22,
          0,
          5,
          0,
          0,
          0,
          0,
          0,
          1,
          0,
          0,
          22,
          3,
          3,
          1,
          0,
          32,
          4,
          114,
          0,
          0,
          23,
          0,
          0,
          0,
          0,
          0,
          2,
          0,
          0,
          0,
          0,
          0,
          11,
          0,
          3,
          30,
          0,
          1,
          0,
          1,
          2,
          0,
          0,
          0,
          1,
          2,
          0,
          6,
          0,
          1,
          30,
          0,
          241,
          2,
          0,
          0,
          0,
          0,
          0,
          1,
          0,
          0,
          0,
          0,
          1,
          20,
          0,
          1,
          0,
          0,
          2,
          1,
          49,
          0,
          14,
          0,
          23,
          5,
          0,
          0,
          58,
          15,
          4,
          0,
          44,
          0,
          0,
          0,
          0,
          0,
          0,
          0,
          17,
          0,
          13,
          2,
          0,
          0,
          9,
          0,
          0,
          0,
          0,
          0,
          0,
          0,
          0,
          11,
          40,
          0,
          0,
          0,
          0,
          0,
          0,
          0,
          52,
          0,
          0,
          14,
          0,
          7,
          0,
          0,
          1,
          0,
          34,
          0,
          0,
          0,
          0,
          5,
          0,
          0,
          0,
          20,
          1,
          0,
          0,
          183,
          4,
          3,
          11,
          0,
          1,
          0,
          7,
          0,
          0,
          0,
          0,
          0,
          22,
          0,
          0,
          48,
          0,
          13,
          0,
          0,
          0,
          31,
          0,
          0,
          0,
          16,
          79,
          0,
          14,
          0,
          0,
          1,
          0,
          0,
          2,
          10,
          64,
          0,
          9,
          25,
          0,
          0,
          0,
          0,
          0,
          0,
          0,
          42,
          3,
          8,
          0,
          5,
          66,
          0,
          0,
          0,
          54,
          0,
          6,
          0,
          117,
          0,
          18,
          0,
          0,
          0,
          0,
          0,
          0,
          0,
          0,
          53,
          8,
          1,
          0,
          4,
          1,
          0,
          1,
          1,
          0,
          65,
          0,
          23,
          0,
          44,
          7,
          7,
          1,
          72,
          2,
          1,
          0,
          3,
          0,
          0,
          0,
          0,
          0,
          0,
          17,
          0,
          0,
          5,
          0,
          0,
          2,
          0,
          6,
          0,
          1,
          0,
          0,
          0,
          1,
          0,
          0,
          0,
          0,
          0,
          79,
          0,
          8,
          43,
          0,
          4,
          0,
          0,
          0,
          0,
          0,
          0,
          0,
          0,
          0,
          24,
          2,
          4,
          0,
          1,
          46,
          5,
          186,
          0,
          25,
          0,
          0,
          0,
          0,
          3,
          0,
          0,
          0,
          1,
          0,
          0,
          14,
          0,
          6,
          32,
          0,
          0,
          0,
          0,
          3,
          0,
          0,
          0,
          5,
          2,
          0,
          5,
          0,
          0,
          34,
          1,
          241,
          4,
          0,
          0,
          1,
          0,
          0,
          0,
          0,
          0,
          0,
          0,
          2,
          20,
          0,
          0,
          0,
          0,
          1,
          0,
          3,
          74,
          0,
          16,
          0,
          4,
          0,
          3,
          0,
          0,
          3,
          0,
          13,
          15,
          6,
          0,
          61,
          0,
          0,
          0,
          0,
          0,
          0,
          0,
          0,
          0,
          21,
          0,
          2,
          0,
          0,
          0,
          7,
          0,
          0,
          0,
          0,
          0,
          0,
          0,
          0,
          0,
          8,
          0,
          41,
          0,
          2,
          0,
          0,
          38,
          0,
          4,
          0,
          24,
          0,
          26,
          0,
          0,
          0,
          0,
          0,
          0,
          83,
          0,
          0,
          0,
          0,
          0,
          0,
          0,
          0,
          0,
          49,
          0,
          0,
          0,
          157,
          8,
          5,
          2,
          0,
          0,
          0,
          3,
          0,
          0,
          0,
          0,
          0,
          15,
          0,
          0,
          40,
          0,
          0,
          17,
          0,
          0,
          0,
          17,
          0,
          0,
          0,
          4,
          94,
          0,
          1,
          0,
          0,
          2,
          0,
          0,
          0,
          21,
          62,
          0,
          13,
          29,
          0,
          1,
          0,
          5,
          1,
          0,
          30,
          3,
          7,
          0,
          2,
          53,
          0,
          0,
          0,
          57,
          0,
          4,
          0,
          149,
          0,
          31,
          0,
          0,
          0,
          0,
          0,
          0,
          2,
          0,
          40,
          5,
          1,
          6,
          0,
          0,
          0,
          2,
          0,
          104,
          0,
          13,
          0,
          93,
          8,
          7,
          0,
          0,
          52,
          0,
          0,
          0,
          4,
          0,
          0,
          0,
          0,
          0,
          0,
          3,
          0,
          0,
          3,
          0,
          0,
          0,
          0,
          4,
          1,
          0,
          0,
          0,
          0,
          0,
          0,
          0,
          0,
          0,
          0,
          77,
          0,
          8,
          0,
          7,
          0,
          6,
          0,
          0,
          0,
          17,
          0,
          0,
          0,
          0,
          0,
          12,
          3,
          5,
          0,
          0,
          39,
          10,
          189,
          0,
          0,
          13,
          0,
          0,
          0,
          0,
          0,
          5,
          0,
          0,
          0,
          0,
          0,
          0,
          7,
          0,
          10,
          12,
          0,
          1,
          0,
          0,
          8,
          0,
          0,
          0,
          0,
          9,
          1,
          0,
          11,
          1,
          0,
          47,
          0,
          262,
          5,
          0,
          2,
          0,
          0,
          0,
          0,
          3,
          0,
          0,
          0,
          0,
          0,
          2,
          30,
          0,
          0,
          0,
          0,
          1,
          0,
          1,
          69,
          0,
          13,
          3,
          0,
          27,
          0,
          0,
          3,
          0,
          41,
          15,
          1,
          0,
          54,
          0,
          0,
          0,
          0,
          0,
          0,
          0,
          0,
          25,
          1,
          0,
          0,
          0,
          19,
          1,
          0,
          0,
          0,
          0,
          0,
          0,
          0,
          0,
          0,
          13,
          0,
          23,
          0,
          2,
          0,
          0,
          0,
          0,
          41,
          0,
          0,
          0,
          21,
          1,
          64,
          0,
          0,
          0,
          0,
          3,
          52,
          0,
          0,
          1,
          0,
          0,
          2,
          0,
          0,
          0,
          51,
          5,
          0,
          0,
          149,
          3,
          7,
          7,
          0,
          0,
          0,
          5,
          0,
          0,
          0,
          0,
          0,
          29,
          0,
          0,
          78,
          0,
          5,
          0,
          0,
          0,
          35,
          0,
          0,
          0,
          1,
          184,
          0,
          1,
          0,
          0,
          2,
          0,
          0,
          0,
          5,
          47,
          0,
          7,
          19,
          0,
          2,
          1,
          1,
          0,
          0,
          70,
          3,
          7,
          0,
          5,
          77,
          0,
          0,
          0,
          81,
          0,
          6,
          0,
          99,
          0,
          7,
          0,
          0,
          0,
          0,
          0,
          0,
          0,
          0,
          27,
          7,
          3,
          2,
          3,
          0,
          14,
          1,
          0,
          42,
          0,
          13,
          0,
          51,
          13,
          14,
          2,
          0,
          77,
          0,
          0,
          0,
          3,
          0,
          0,
          0,
          0,
          0,
          0,
          5,
          0,
          0,
          2,
          1,
          0,
          1,
          0,
          4,
          3,
          0,
          0,
          0,
          0,
          0,
          0,
          0,
          1,
          0,
          0,
          0,
          0,
          61,
          0,
          23,
          15,
          0,
          15,
          0,
          0,
          1,
          0,
          0,
          0,
          0,
          0,
          0,
          20,
          2,
          6,
          0,
          0,
          22,
          1,
          142,
          0,
          0,
          0,
          0,
          3,
          0,
          0,
          5,
          0,
          0,
          0,
          15,
          0,
          0,
          1,
          11,
          0,
          10,
          7,
          0,
          0,
          0,
          0,
          4,
          2,
          0,
          0,
          1,
          4,
          6,
          1,
          7,
          0,
          0,
          0,
          31,
          0,
          316,
          6,
          0,
          1,
          1,
          0,
          0,
          0,
          4,
          0,
          0,
          0,
          0,
          0,
          3,
          26,
          0,
          0,
          0,
          0,
          3,
          0,
          0,
          90,
          0,
          0,
          19,
          0,
          3,
          0,
          9,
          0,
          0,
          1,
          0,
          47,
          14,
          1,
          0,
          54,
          0,
          0,
          0,
          0,
          0,
          0,
          0,
          0,
          0,
          5,
          0,
          7,
          1,
          0,
          18,
          3,
          0,
          0,
          0,
          0,
          0,
          0,
          0,
          0,
          0,
          0,
          11,
          0,
          34,
          0,
          0,
          0,
          8,
          0,
          0,
          0,
          0,
          25,
          3,
          0,
          0,
          12,
          3,
          18,
          0,
          0,
          0,
          0,
          97,
          0,
          1,
          0,
          1,
          0,
          0,
          0,
          19,
          3,
          0,
          0,
          114,
          0,
          10,
          4,
          0,
          0,
          0,
          3,
          0,
          0,
          0,
          0,
          0,
          20,
          0,
          1,
          58,
          1,
          0,
          2,
          0,
          0,
          0,
          55,
          0,
          0,
          0,
          0,
          125,
          0,
          0,
          0,
          0,
          8,
          0,
          0,
          0,
          34,
          14,
          1,
          14,
          16,
          0,
          0,
          2,
          0,
          2,
          0,
          0,
          62,
          2,
          7,
          0,
          5,
          82,
          0,
          1,
          0,
          123,
          0,
          7,
          0,
          94,
          0,
          3,
          1,
          1,
          0,
          0,
          0,
          0,
          1,
          0,
          26,
          2,
          6,
          0,
          12,
          5,
          0,
          0,
          0,
          0,
          66,
          0,
          25,
          0,
          82,
          12,
          11,
          0,
          0,
          61,
          3,
          1,
          0,
          3,
          0,
          0,
          0,
          0,
          0,
          0,
          5,
          0,
          0,
          1,
          2,
          0,
          2,
          0,
          23,
          5,
          0,
          0,
          0,
          0,
          14,
          0,
          0,
          0,
          0,
          0,
          0,
          0,
          69,
          0,
          0,
          0,
          11,
          0,
          27,
          0,
          0,
          0,
          0,
          0,
          0,
          0,
          0,
          0,
          12,
          2,
          6,
          2,
          2,
          13,
          9,
          139,
          0,
          0,
          0,
          0,
          4,
          0,
          0,
          5,
          0,
          0,
          16,
          0,
          0,
          0,
          4,
          0,
          5,
          22,
          0,
          0,
          0,
          0,
          3,
          1,
          0,
          0,
          0,
          2,
          10,
          3,
          5,
          0,
          0,
          1,
          26,
          0,
          248,
          3,
          0,
          1,
          0,
          0,
          0,
          0,
          0,
          0,
          0,
          0,
          0,
          3,
          27,
          0,
          0,
          0,
          0,
          6,
          0,
          0,
          86,
          0,
          0,
          12,
          1,
          0,
          11,
          0,
          0,
          0,
          0,
          33,
          17,
          10,
          0,
          36,
          0,
          0,
          0,
          0,
          0,
          0,
          0,
          0,
          0,
          0,
          14,
          0,
          0,
          10,
          1,
          14,
          11,
          0,
          0,
          0,
          0,
          0,
          0,
          0,
          0,
          0,
          0,
          0,
          0,
          29,
          0,
          23,
          0,
          0,
          0,
          0,
          11,
          0,
          0,
          58,
          8,
          0,
          0,
          30,
          1,
          49,
          0,
          0,
          0,
          0,
          0,
          0,
          0,
          5,
          64,
          0,
          0,
          0,
          0,
          0,
          2,
          0,
          0,
          0,
          22,
          4,
          0,
          0,
          82,
          2,
          18,
          6,
          0,
          0,
          1,
          21,
          0,
          0,
          0,
          0,
          0,
          12,
          0,
          0,
          50,
          2,
          0,
          7,
          0,
          0,
          0,
          69,
          0,
          0,
          0,
          0,
          113,
          2,
          0,
          0,
          0,
          8,
          0,
          0,
          0,
          24,
          11,
          0,
          15,
          41,
          0,
          0,
          1,
          0,
          3,
          0,
          0,
          45,
          4,
          8,
          13,
          1,
          96,
          0,
          0,
          143,
          0,
          7,
          0,
          159,
          0,
          7,
          1,
          0,
          0,
          0,
          0,
          0,
          0,
          0,
          22,
          4,
          2,
          2,
          8,
          3,
          0,
          0,
          2,
          0,
          72,
          0,
          28,
          1,
          64,
          18,
          12,
          0,
          0,
          26,
          1,
          0,
          0,
          0,
          0,
          0,
          0,
          0,
          0,
          7,
          0,
          0,
          1,
          8,
          0,
          0,
          0,
          5,
          2,
          0,
          0,
          0,
          0,
          0,
          0,
          0,
          0,
          0,
          0,
          0,
          0,
          47,
          0,
          17,
          1,
          19,
          0,
          35,
          0,
          0,
          0,
          0,
          0,
          1,
          0,
          0,
          0,
          16,
          1,
          7,
          1,
          1,
          0,
          16,
          22,
          115,
          0,
          0,
          0,
          0,
          1,
          0,
          4,
          0,
          0,
          54,
          0,
          0,
          0,
          0,
          11,
          0,
          8,
          28,
          0,
          0,
          0,
          0,
          6,
          1,
          0,
          0,
          0,
          5,
          1,
          3,
          8,
          0,
          1,
          0,
          15,
          0,
          263,
          13,
          0,
          3,
          2,
          0,
          0,
          0,
          0
         ]
        }
       ],
       "layout": {
        "coloraxis": {
         "colorbar": {
          "title": {
           "text": "Total Medals"
          }
         },
         "colorscale": [
          [
           0,
           "#440154"
          ],
          [
           0.1111111111111111,
           "#482878"
          ],
          [
           0.2222222222222222,
           "#3e4989"
          ],
          [
           0.3333333333333333,
           "#31688e"
          ],
          [
           0.4444444444444444,
           "#26828e"
          ],
          [
           0.5555555555555556,
           "#1f9e89"
          ],
          [
           0.6666666666666666,
           "#35b779"
          ],
          [
           0.7777777777777778,
           "#6ece58"
          ],
          [
           0.8888888888888888,
           "#b5de2b"
          ],
          [
           1,
           "#fde725"
          ]
         ]
        },
        "geo": {
         "center": {},
         "coastlinecolor": "Gray",
         "domain": {
          "x": [
           0,
           1
          ],
          "y": [
           0,
           1
          ]
         },
         "landcolor": "LightGray",
         "showcoastlines": true,
         "showland": true
        },
        "legend": {
         "tracegroupgap": 0
        },
        "template": {
         "data": {
          "bar": [
           {
            "error_x": {
             "color": "#2a3f5f"
            },
            "error_y": {
             "color": "#2a3f5f"
            },
            "marker": {
             "line": {
              "color": "white",
              "width": 0.5
             },
             "pattern": {
              "fillmode": "overlay",
              "size": 10,
              "solidity": 0.2
             }
            },
            "type": "bar"
           }
          ],
          "barpolar": [
           {
            "marker": {
             "line": {
              "color": "white",
              "width": 0.5
             },
             "pattern": {
              "fillmode": "overlay",
              "size": 10,
              "solidity": 0.2
             }
            },
            "type": "barpolar"
           }
          ],
          "carpet": [
           {
            "aaxis": {
             "endlinecolor": "#2a3f5f",
             "gridcolor": "#C8D4E3",
             "linecolor": "#C8D4E3",
             "minorgridcolor": "#C8D4E3",
             "startlinecolor": "#2a3f5f"
            },
            "baxis": {
             "endlinecolor": "#2a3f5f",
             "gridcolor": "#C8D4E3",
             "linecolor": "#C8D4E3",
             "minorgridcolor": "#C8D4E3",
             "startlinecolor": "#2a3f5f"
            },
            "type": "carpet"
           }
          ],
          "choropleth": [
           {
            "colorbar": {
             "outlinewidth": 0,
             "ticks": ""
            },
            "type": "choropleth"
           }
          ],
          "contour": [
           {
            "colorbar": {
             "outlinewidth": 0,
             "ticks": ""
            },
            "colorscale": [
             [
              0,
              "#0d0887"
             ],
             [
              0.1111111111111111,
              "#46039f"
             ],
             [
              0.2222222222222222,
              "#7201a8"
             ],
             [
              0.3333333333333333,
              "#9c179e"
             ],
             [
              0.4444444444444444,
              "#bd3786"
             ],
             [
              0.5555555555555556,
              "#d8576b"
             ],
             [
              0.6666666666666666,
              "#ed7953"
             ],
             [
              0.7777777777777778,
              "#fb9f3a"
             ],
             [
              0.8888888888888888,
              "#fdca26"
             ],
             [
              1,
              "#f0f921"
             ]
            ],
            "type": "contour"
           }
          ],
          "contourcarpet": [
           {
            "colorbar": {
             "outlinewidth": 0,
             "ticks": ""
            },
            "type": "contourcarpet"
           }
          ],
          "heatmap": [
           {
            "colorbar": {
             "outlinewidth": 0,
             "ticks": ""
            },
            "colorscale": [
             [
              0,
              "#0d0887"
             ],
             [
              0.1111111111111111,
              "#46039f"
             ],
             [
              0.2222222222222222,
              "#7201a8"
             ],
             [
              0.3333333333333333,
              "#9c179e"
             ],
             [
              0.4444444444444444,
              "#bd3786"
             ],
             [
              0.5555555555555556,
              "#d8576b"
             ],
             [
              0.6666666666666666,
              "#ed7953"
             ],
             [
              0.7777777777777778,
              "#fb9f3a"
             ],
             [
              0.8888888888888888,
              "#fdca26"
             ],
             [
              1,
              "#f0f921"
             ]
            ],
            "type": "heatmap"
           }
          ],
          "heatmapgl": [
           {
            "colorbar": {
             "outlinewidth": 0,
             "ticks": ""
            },
            "colorscale": [
             [
              0,
              "#0d0887"
             ],
             [
              0.1111111111111111,
              "#46039f"
             ],
             [
              0.2222222222222222,
              "#7201a8"
             ],
             [
              0.3333333333333333,
              "#9c179e"
             ],
             [
              0.4444444444444444,
              "#bd3786"
             ],
             [
              0.5555555555555556,
              "#d8576b"
             ],
             [
              0.6666666666666666,
              "#ed7953"
             ],
             [
              0.7777777777777778,
              "#fb9f3a"
             ],
             [
              0.8888888888888888,
              "#fdca26"
             ],
             [
              1,
              "#f0f921"
             ]
            ],
            "type": "heatmapgl"
           }
          ],
          "histogram": [
           {
            "marker": {
             "pattern": {
              "fillmode": "overlay",
              "size": 10,
              "solidity": 0.2
             }
            },
            "type": "histogram"
           }
          ],
          "histogram2d": [
           {
            "colorbar": {
             "outlinewidth": 0,
             "ticks": ""
            },
            "colorscale": [
             [
              0,
              "#0d0887"
             ],
             [
              0.1111111111111111,
              "#46039f"
             ],
             [
              0.2222222222222222,
              "#7201a8"
             ],
             [
              0.3333333333333333,
              "#9c179e"
             ],
             [
              0.4444444444444444,
              "#bd3786"
             ],
             [
              0.5555555555555556,
              "#d8576b"
             ],
             [
              0.6666666666666666,
              "#ed7953"
             ],
             [
              0.7777777777777778,
              "#fb9f3a"
             ],
             [
              0.8888888888888888,
              "#fdca26"
             ],
             [
              1,
              "#f0f921"
             ]
            ],
            "type": "histogram2d"
           }
          ],
          "histogram2dcontour": [
           {
            "colorbar": {
             "outlinewidth": 0,
             "ticks": ""
            },
            "colorscale": [
             [
              0,
              "#0d0887"
             ],
             [
              0.1111111111111111,
              "#46039f"
             ],
             [
              0.2222222222222222,
              "#7201a8"
             ],
             [
              0.3333333333333333,
              "#9c179e"
             ],
             [
              0.4444444444444444,
              "#bd3786"
             ],
             [
              0.5555555555555556,
              "#d8576b"
             ],
             [
              0.6666666666666666,
              "#ed7953"
             ],
             [
              0.7777777777777778,
              "#fb9f3a"
             ],
             [
              0.8888888888888888,
              "#fdca26"
             ],
             [
              1,
              "#f0f921"
             ]
            ],
            "type": "histogram2dcontour"
           }
          ],
          "mesh3d": [
           {
            "colorbar": {
             "outlinewidth": 0,
             "ticks": ""
            },
            "type": "mesh3d"
           }
          ],
          "parcoords": [
           {
            "line": {
             "colorbar": {
              "outlinewidth": 0,
              "ticks": ""
             }
            },
            "type": "parcoords"
           }
          ],
          "pie": [
           {
            "automargin": true,
            "type": "pie"
           }
          ],
          "scatter": [
           {
            "fillpattern": {
             "fillmode": "overlay",
             "size": 10,
             "solidity": 0.2
            },
            "type": "scatter"
           }
          ],
          "scatter3d": [
           {
            "line": {
             "colorbar": {
              "outlinewidth": 0,
              "ticks": ""
             }
            },
            "marker": {
             "colorbar": {
              "outlinewidth": 0,
              "ticks": ""
             }
            },
            "type": "scatter3d"
           }
          ],
          "scattercarpet": [
           {
            "marker": {
             "colorbar": {
              "outlinewidth": 0,
              "ticks": ""
             }
            },
            "type": "scattercarpet"
           }
          ],
          "scattergeo": [
           {
            "marker": {
             "colorbar": {
              "outlinewidth": 0,
              "ticks": ""
             }
            },
            "type": "scattergeo"
           }
          ],
          "scattergl": [
           {
            "marker": {
             "colorbar": {
              "outlinewidth": 0,
              "ticks": ""
             }
            },
            "type": "scattergl"
           }
          ],
          "scattermapbox": [
           {
            "marker": {
             "colorbar": {
              "outlinewidth": 0,
              "ticks": ""
             }
            },
            "type": "scattermapbox"
           }
          ],
          "scatterpolar": [
           {
            "marker": {
             "colorbar": {
              "outlinewidth": 0,
              "ticks": ""
             }
            },
            "type": "scatterpolar"
           }
          ],
          "scatterpolargl": [
           {
            "marker": {
             "colorbar": {
              "outlinewidth": 0,
              "ticks": ""
             }
            },
            "type": "scatterpolargl"
           }
          ],
          "scatterternary": [
           {
            "marker": {
             "colorbar": {
              "outlinewidth": 0,
              "ticks": ""
             }
            },
            "type": "scatterternary"
           }
          ],
          "surface": [
           {
            "colorbar": {
             "outlinewidth": 0,
             "ticks": ""
            },
            "colorscale": [
             [
              0,
              "#0d0887"
             ],
             [
              0.1111111111111111,
              "#46039f"
             ],
             [
              0.2222222222222222,
              "#7201a8"
             ],
             [
              0.3333333333333333,
              "#9c179e"
             ],
             [
              0.4444444444444444,
              "#bd3786"
             ],
             [
              0.5555555555555556,
              "#d8576b"
             ],
             [
              0.6666666666666666,
              "#ed7953"
             ],
             [
              0.7777777777777778,
              "#fb9f3a"
             ],
             [
              0.8888888888888888,
              "#fdca26"
             ],
             [
              1,
              "#f0f921"
             ]
            ],
            "type": "surface"
           }
          ],
          "table": [
           {
            "cells": {
             "fill": {
              "color": "#EBF0F8"
             },
             "line": {
              "color": "white"
             }
            },
            "header": {
             "fill": {
              "color": "#C8D4E3"
             },
             "line": {
              "color": "white"
             }
            },
            "type": "table"
           }
          ]
         },
         "layout": {
          "annotationdefaults": {
           "arrowcolor": "#2a3f5f",
           "arrowhead": 0,
           "arrowwidth": 1
          },
          "autotypenumbers": "strict",
          "coloraxis": {
           "colorbar": {
            "outlinewidth": 0,
            "ticks": ""
           }
          },
          "colorscale": {
           "diverging": [
            [
             0,
             "#8e0152"
            ],
            [
             0.1,
             "#c51b7d"
            ],
            [
             0.2,
             "#de77ae"
            ],
            [
             0.3,
             "#f1b6da"
            ],
            [
             0.4,
             "#fde0ef"
            ],
            [
             0.5,
             "#f7f7f7"
            ],
            [
             0.6,
             "#e6f5d0"
            ],
            [
             0.7,
             "#b8e186"
            ],
            [
             0.8,
             "#7fbc41"
            ],
            [
             0.9,
             "#4d9221"
            ],
            [
             1,
             "#276419"
            ]
           ],
           "sequential": [
            [
             0,
             "#0d0887"
            ],
            [
             0.1111111111111111,
             "#46039f"
            ],
            [
             0.2222222222222222,
             "#7201a8"
            ],
            [
             0.3333333333333333,
             "#9c179e"
            ],
            [
             0.4444444444444444,
             "#bd3786"
            ],
            [
             0.5555555555555556,
             "#d8576b"
            ],
            [
             0.6666666666666666,
             "#ed7953"
            ],
            [
             0.7777777777777778,
             "#fb9f3a"
            ],
            [
             0.8888888888888888,
             "#fdca26"
            ],
            [
             1,
             "#f0f921"
            ]
           ],
           "sequentialminus": [
            [
             0,
             "#0d0887"
            ],
            [
             0.1111111111111111,
             "#46039f"
            ],
            [
             0.2222222222222222,
             "#7201a8"
            ],
            [
             0.3333333333333333,
             "#9c179e"
            ],
            [
             0.4444444444444444,
             "#bd3786"
            ],
            [
             0.5555555555555556,
             "#d8576b"
            ],
            [
             0.6666666666666666,
             "#ed7953"
            ],
            [
             0.7777777777777778,
             "#fb9f3a"
            ],
            [
             0.8888888888888888,
             "#fdca26"
            ],
            [
             1,
             "#f0f921"
            ]
           ]
          },
          "colorway": [
           "#636efa",
           "#EF553B",
           "#00cc96",
           "#ab63fa",
           "#FFA15A",
           "#19d3f3",
           "#FF6692",
           "#B6E880",
           "#FF97FF",
           "#FECB52"
          ],
          "font": {
           "color": "#2a3f5f"
          },
          "geo": {
           "bgcolor": "white",
           "lakecolor": "white",
           "landcolor": "white",
           "showlakes": true,
           "showland": true,
           "subunitcolor": "#C8D4E3"
          },
          "hoverlabel": {
           "align": "left"
          },
          "hovermode": "closest",
          "mapbox": {
           "style": "light"
          },
          "paper_bgcolor": "white",
          "plot_bgcolor": "white",
          "polar": {
           "angularaxis": {
            "gridcolor": "#EBF0F8",
            "linecolor": "#EBF0F8",
            "ticks": ""
           },
           "bgcolor": "white",
           "radialaxis": {
            "gridcolor": "#EBF0F8",
            "linecolor": "#EBF0F8",
            "ticks": ""
           }
          },
          "scene": {
           "xaxis": {
            "backgroundcolor": "white",
            "gridcolor": "#DFE8F3",
            "gridwidth": 2,
            "linecolor": "#EBF0F8",
            "showbackground": true,
            "ticks": "",
            "zerolinecolor": "#EBF0F8"
           },
           "yaxis": {
            "backgroundcolor": "white",
            "gridcolor": "#DFE8F3",
            "gridwidth": 2,
            "linecolor": "#EBF0F8",
            "showbackground": true,
            "ticks": "",
            "zerolinecolor": "#EBF0F8"
           },
           "zaxis": {
            "backgroundcolor": "white",
            "gridcolor": "#DFE8F3",
            "gridwidth": 2,
            "linecolor": "#EBF0F8",
            "showbackground": true,
            "ticks": "",
            "zerolinecolor": "#EBF0F8"
           }
          },
          "shapedefaults": {
           "line": {
            "color": "#2a3f5f"
           }
          },
          "ternary": {
           "aaxis": {
            "gridcolor": "#DFE8F3",
            "linecolor": "#A2B1C6",
            "ticks": ""
           },
           "baxis": {
            "gridcolor": "#DFE8F3",
            "linecolor": "#A2B1C6",
            "ticks": ""
           },
           "bgcolor": "white",
           "caxis": {
            "gridcolor": "#DFE8F3",
            "linecolor": "#A2B1C6",
            "ticks": ""
           }
          },
          "title": {
           "x": 0.05
          },
          "xaxis": {
           "automargin": true,
           "gridcolor": "#EBF0F8",
           "linecolor": "#EBF0F8",
           "ticks": "",
           "title": {
            "standoff": 15
           },
           "zerolinecolor": "#EBF0F8",
           "zerolinewidth": 2
          },
          "yaxis": {
           "automargin": true,
           "gridcolor": "#EBF0F8",
           "linecolor": "#EBF0F8",
           "ticks": "",
           "title": {
            "standoff": 15
           },
           "zerolinecolor": "#EBF0F8",
           "zerolinewidth": 2
          }
         }
        },
        "title": {
         "text": "Geographical Distribution of Total Medals"
        }
       }
      }
     },
     "metadata": {},
     "output_type": "display_data"
    }
   ],
   "source": [
    "# Choropleth Map for Total Medals\n",
    "fig = px.choropleth(df, \n",
    "                    locations=\"NOC\", \n",
    "                    locationmode='ISO-3',\n",
    "                    color=\"Total_Medals\",\n",
    "                    hover_name=\"NOC\",\n",
    "                    hover_data=[\"Gold\", \"Silver\", \"Bronze\"],\n",
    "                    title=\"Geographical Distribution of Total Medals\",\n",
    "                    color_continuous_scale=px.colors.sequential.Viridis,\n",
    "                    labels={'Total_Medals': 'Total Medals'},\n",
    "                    template=\"plotly_white\")\n",
    "\n",
    "fig.update_geos(showcoastlines=True, coastlinecolor=\"Gray\", showland=True, landcolor=\"LightGray\")\n",
    "fig.show()\n"
   ]
  },
  {
   "cell_type": "code",
   "execution_count": 122,
   "metadata": {},
   "outputs": [
    {
     "data": {
      "application/vnd.plotly.v1+json": {
       "config": {
        "plotlyServerURL": "https://plot.ly"
       },
       "data": [
        {
         "hovertemplate": "Gender=Men<br>Year=%{x}<br>Count=%{y}<extra></extra>",
         "legendgroup": "Men",
         "marker": {
          "color": "#636efa",
          "symbol": "circle"
         },
         "mode": "markers",
         "name": "Men",
         "orientation": "v",
         "showlegend": true,
         "type": "scatter",
         "x": [
          "1960-01-01T00:00:00",
          "1964-01-01T00:00:00",
          "1968-01-01T00:00:00",
          "1972-01-01T00:00:00",
          "1976-01-01T00:00:00",
          "1980-01-01T00:00:00",
          "1984-01-01T00:00:00",
          "1988-01-01T00:00:00",
          "1992-01-01T00:00:00",
          "1994-01-01T00:00:00",
          "1996-01-01T00:00:00",
          "1998-01-01T00:00:00",
          "2000-01-01T00:00:00",
          "2002-01-01T00:00:00",
          "2004-01-01T00:00:00",
          "2006-01-01T00:00:00",
          "2008-01-01T00:00:00",
          "2010-01-01T00:00:00",
          "2012-01-01T00:00:00",
          "2014-01-01T00:00:00",
          "2016-01-01T00:00:00"
         ],
         "xaxis": "x",
         "y": [
          361,
          452,
          480,
          521,
          446,
          103,
          538,
          549,
          594,
          144,
          434,
          157,
          423,
          178,
          385,
          187,
          390,
          196,
          346,
          209,
          349
         ],
         "yaxis": "y"
        },
        {
         "hovertemplate": "Gender=Women<br>Year=%{x}<br>Count=%{y}<extra></extra>",
         "legendgroup": "Women",
         "marker": {
          "color": "#EF553B",
          "symbol": "circle"
         },
         "mode": "markers",
         "name": "Women",
         "orientation": "v",
         "showlegend": true,
         "type": "scatter",
         "x": [
          "1960-01-01T00:00:00",
          "1964-01-01T00:00:00",
          "1968-01-01T00:00:00",
          "1972-01-01T00:00:00",
          "1976-01-01T00:00:00",
          "1980-01-01T00:00:00",
          "1984-01-01T00:00:00",
          "1988-01-01T00:00:00",
          "1992-01-01T00:00:00",
          "1994-01-01T00:00:00",
          "1996-01-01T00:00:00",
          "1998-01-01T00:00:00",
          "2000-01-01T00:00:00",
          "2002-01-01T00:00:00",
          "2004-01-01T00:00:00",
          "2006-01-01T00:00:00",
          "2008-01-01T00:00:00",
          "2010-01-01T00:00:00",
          "2012-01-01T00:00:00",
          "2014-01-01T00:00:00",
          "2016-01-01T00:00:00"
         ],
         "xaxis": "x",
         "y": [
          113,
          167,
          184,
          198,
          214,
          41,
          304,
          347,
          361,
          88,
          308,
          126,
          336,
          133,
          338,
          137,
          366,
          145,
          343,
          158,
          369
         ],
         "yaxis": "y"
        }
       ],
       "layout": {
        "legend": {
         "title": {
          "text": "Gender"
         },
         "tracegroupgap": 0
        },
        "template": {
         "data": {
          "bar": [
           {
            "error_x": {
             "color": "#2a3f5f"
            },
            "error_y": {
             "color": "#2a3f5f"
            },
            "marker": {
             "line": {
              "color": "white",
              "width": 0.5
             },
             "pattern": {
              "fillmode": "overlay",
              "size": 10,
              "solidity": 0.2
             }
            },
            "type": "bar"
           }
          ],
          "barpolar": [
           {
            "marker": {
             "line": {
              "color": "white",
              "width": 0.5
             },
             "pattern": {
              "fillmode": "overlay",
              "size": 10,
              "solidity": 0.2
             }
            },
            "type": "barpolar"
           }
          ],
          "carpet": [
           {
            "aaxis": {
             "endlinecolor": "#2a3f5f",
             "gridcolor": "#C8D4E3",
             "linecolor": "#C8D4E3",
             "minorgridcolor": "#C8D4E3",
             "startlinecolor": "#2a3f5f"
            },
            "baxis": {
             "endlinecolor": "#2a3f5f",
             "gridcolor": "#C8D4E3",
             "linecolor": "#C8D4E3",
             "minorgridcolor": "#C8D4E3",
             "startlinecolor": "#2a3f5f"
            },
            "type": "carpet"
           }
          ],
          "choropleth": [
           {
            "colorbar": {
             "outlinewidth": 0,
             "ticks": ""
            },
            "type": "choropleth"
           }
          ],
          "contour": [
           {
            "colorbar": {
             "outlinewidth": 0,
             "ticks": ""
            },
            "colorscale": [
             [
              0,
              "#0d0887"
             ],
             [
              0.1111111111111111,
              "#46039f"
             ],
             [
              0.2222222222222222,
              "#7201a8"
             ],
             [
              0.3333333333333333,
              "#9c179e"
             ],
             [
              0.4444444444444444,
              "#bd3786"
             ],
             [
              0.5555555555555556,
              "#d8576b"
             ],
             [
              0.6666666666666666,
              "#ed7953"
             ],
             [
              0.7777777777777778,
              "#fb9f3a"
             ],
             [
              0.8888888888888888,
              "#fdca26"
             ],
             [
              1,
              "#f0f921"
             ]
            ],
            "type": "contour"
           }
          ],
          "contourcarpet": [
           {
            "colorbar": {
             "outlinewidth": 0,
             "ticks": ""
            },
            "type": "contourcarpet"
           }
          ],
          "heatmap": [
           {
            "colorbar": {
             "outlinewidth": 0,
             "ticks": ""
            },
            "colorscale": [
             [
              0,
              "#0d0887"
             ],
             [
              0.1111111111111111,
              "#46039f"
             ],
             [
              0.2222222222222222,
              "#7201a8"
             ],
             [
              0.3333333333333333,
              "#9c179e"
             ],
             [
              0.4444444444444444,
              "#bd3786"
             ],
             [
              0.5555555555555556,
              "#d8576b"
             ],
             [
              0.6666666666666666,
              "#ed7953"
             ],
             [
              0.7777777777777778,
              "#fb9f3a"
             ],
             [
              0.8888888888888888,
              "#fdca26"
             ],
             [
              1,
              "#f0f921"
             ]
            ],
            "type": "heatmap"
           }
          ],
          "heatmapgl": [
           {
            "colorbar": {
             "outlinewidth": 0,
             "ticks": ""
            },
            "colorscale": [
             [
              0,
              "#0d0887"
             ],
             [
              0.1111111111111111,
              "#46039f"
             ],
             [
              0.2222222222222222,
              "#7201a8"
             ],
             [
              0.3333333333333333,
              "#9c179e"
             ],
             [
              0.4444444444444444,
              "#bd3786"
             ],
             [
              0.5555555555555556,
              "#d8576b"
             ],
             [
              0.6666666666666666,
              "#ed7953"
             ],
             [
              0.7777777777777778,
              "#fb9f3a"
             ],
             [
              0.8888888888888888,
              "#fdca26"
             ],
             [
              1,
              "#f0f921"
             ]
            ],
            "type": "heatmapgl"
           }
          ],
          "histogram": [
           {
            "marker": {
             "pattern": {
              "fillmode": "overlay",
              "size": 10,
              "solidity": 0.2
             }
            },
            "type": "histogram"
           }
          ],
          "histogram2d": [
           {
            "colorbar": {
             "outlinewidth": 0,
             "ticks": ""
            },
            "colorscale": [
             [
              0,
              "#0d0887"
             ],
             [
              0.1111111111111111,
              "#46039f"
             ],
             [
              0.2222222222222222,
              "#7201a8"
             ],
             [
              0.3333333333333333,
              "#9c179e"
             ],
             [
              0.4444444444444444,
              "#bd3786"
             ],
             [
              0.5555555555555556,
              "#d8576b"
             ],
             [
              0.6666666666666666,
              "#ed7953"
             ],
             [
              0.7777777777777778,
              "#fb9f3a"
             ],
             [
              0.8888888888888888,
              "#fdca26"
             ],
             [
              1,
              "#f0f921"
             ]
            ],
            "type": "histogram2d"
           }
          ],
          "histogram2dcontour": [
           {
            "colorbar": {
             "outlinewidth": 0,
             "ticks": ""
            },
            "colorscale": [
             [
              0,
              "#0d0887"
             ],
             [
              0.1111111111111111,
              "#46039f"
             ],
             [
              0.2222222222222222,
              "#7201a8"
             ],
             [
              0.3333333333333333,
              "#9c179e"
             ],
             [
              0.4444444444444444,
              "#bd3786"
             ],
             [
              0.5555555555555556,
              "#d8576b"
             ],
             [
              0.6666666666666666,
              "#ed7953"
             ],
             [
              0.7777777777777778,
              "#fb9f3a"
             ],
             [
              0.8888888888888888,
              "#fdca26"
             ],
             [
              1,
              "#f0f921"
             ]
            ],
            "type": "histogram2dcontour"
           }
          ],
          "mesh3d": [
           {
            "colorbar": {
             "outlinewidth": 0,
             "ticks": ""
            },
            "type": "mesh3d"
           }
          ],
          "parcoords": [
           {
            "line": {
             "colorbar": {
              "outlinewidth": 0,
              "ticks": ""
             }
            },
            "type": "parcoords"
           }
          ],
          "pie": [
           {
            "automargin": true,
            "type": "pie"
           }
          ],
          "scatter": [
           {
            "fillpattern": {
             "fillmode": "overlay",
             "size": 10,
             "solidity": 0.2
            },
            "type": "scatter"
           }
          ],
          "scatter3d": [
           {
            "line": {
             "colorbar": {
              "outlinewidth": 0,
              "ticks": ""
             }
            },
            "marker": {
             "colorbar": {
              "outlinewidth": 0,
              "ticks": ""
             }
            },
            "type": "scatter3d"
           }
          ],
          "scattercarpet": [
           {
            "marker": {
             "colorbar": {
              "outlinewidth": 0,
              "ticks": ""
             }
            },
            "type": "scattercarpet"
           }
          ],
          "scattergeo": [
           {
            "marker": {
             "colorbar": {
              "outlinewidth": 0,
              "ticks": ""
             }
            },
            "type": "scattergeo"
           }
          ],
          "scattergl": [
           {
            "marker": {
             "colorbar": {
              "outlinewidth": 0,
              "ticks": ""
             }
            },
            "type": "scattergl"
           }
          ],
          "scattermapbox": [
           {
            "marker": {
             "colorbar": {
              "outlinewidth": 0,
              "ticks": ""
             }
            },
            "type": "scattermapbox"
           }
          ],
          "scatterpolar": [
           {
            "marker": {
             "colorbar": {
              "outlinewidth": 0,
              "ticks": ""
             }
            },
            "type": "scatterpolar"
           }
          ],
          "scatterpolargl": [
           {
            "marker": {
             "colorbar": {
              "outlinewidth": 0,
              "ticks": ""
             }
            },
            "type": "scatterpolargl"
           }
          ],
          "scatterternary": [
           {
            "marker": {
             "colorbar": {
              "outlinewidth": 0,
              "ticks": ""
             }
            },
            "type": "scatterternary"
           }
          ],
          "surface": [
           {
            "colorbar": {
             "outlinewidth": 0,
             "ticks": ""
            },
            "colorscale": [
             [
              0,
              "#0d0887"
             ],
             [
              0.1111111111111111,
              "#46039f"
             ],
             [
              0.2222222222222222,
              "#7201a8"
             ],
             [
              0.3333333333333333,
              "#9c179e"
             ],
             [
              0.4444444444444444,
              "#bd3786"
             ],
             [
              0.5555555555555556,
              "#d8576b"
             ],
             [
              0.6666666666666666,
              "#ed7953"
             ],
             [
              0.7777777777777778,
              "#fb9f3a"
             ],
             [
              0.8888888888888888,
              "#fdca26"
             ],
             [
              1,
              "#f0f921"
             ]
            ],
            "type": "surface"
           }
          ],
          "table": [
           {
            "cells": {
             "fill": {
              "color": "#EBF0F8"
             },
             "line": {
              "color": "white"
             }
            },
            "header": {
             "fill": {
              "color": "#C8D4E3"
             },
             "line": {
              "color": "white"
             }
            },
            "type": "table"
           }
          ]
         },
         "layout": {
          "annotationdefaults": {
           "arrowcolor": "#2a3f5f",
           "arrowhead": 0,
           "arrowwidth": 1
          },
          "autotypenumbers": "strict",
          "coloraxis": {
           "colorbar": {
            "outlinewidth": 0,
            "ticks": ""
           }
          },
          "colorscale": {
           "diverging": [
            [
             0,
             "#8e0152"
            ],
            [
             0.1,
             "#c51b7d"
            ],
            [
             0.2,
             "#de77ae"
            ],
            [
             0.3,
             "#f1b6da"
            ],
            [
             0.4,
             "#fde0ef"
            ],
            [
             0.5,
             "#f7f7f7"
            ],
            [
             0.6,
             "#e6f5d0"
            ],
            [
             0.7,
             "#b8e186"
            ],
            [
             0.8,
             "#7fbc41"
            ],
            [
             0.9,
             "#4d9221"
            ],
            [
             1,
             "#276419"
            ]
           ],
           "sequential": [
            [
             0,
             "#0d0887"
            ],
            [
             0.1111111111111111,
             "#46039f"
            ],
            [
             0.2222222222222222,
             "#7201a8"
            ],
            [
             0.3333333333333333,
             "#9c179e"
            ],
            [
             0.4444444444444444,
             "#bd3786"
            ],
            [
             0.5555555555555556,
             "#d8576b"
            ],
            [
             0.6666666666666666,
             "#ed7953"
            ],
            [
             0.7777777777777778,
             "#fb9f3a"
            ],
            [
             0.8888888888888888,
             "#fdca26"
            ],
            [
             1,
             "#f0f921"
            ]
           ],
           "sequentialminus": [
            [
             0,
             "#0d0887"
            ],
            [
             0.1111111111111111,
             "#46039f"
            ],
            [
             0.2222222222222222,
             "#7201a8"
            ],
            [
             0.3333333333333333,
             "#9c179e"
            ],
            [
             0.4444444444444444,
             "#bd3786"
            ],
            [
             0.5555555555555556,
             "#d8576b"
            ],
            [
             0.6666666666666666,
             "#ed7953"
            ],
            [
             0.7777777777777778,
             "#fb9f3a"
            ],
            [
             0.8888888888888888,
             "#fdca26"
            ],
            [
             1,
             "#f0f921"
            ]
           ]
          },
          "colorway": [
           "#636efa",
           "#EF553B",
           "#00cc96",
           "#ab63fa",
           "#FFA15A",
           "#19d3f3",
           "#FF6692",
           "#B6E880",
           "#FF97FF",
           "#FECB52"
          ],
          "font": {
           "color": "#2a3f5f"
          },
          "geo": {
           "bgcolor": "white",
           "lakecolor": "white",
           "landcolor": "white",
           "showlakes": true,
           "showland": true,
           "subunitcolor": "#C8D4E3"
          },
          "hoverlabel": {
           "align": "left"
          },
          "hovermode": "closest",
          "mapbox": {
           "style": "light"
          },
          "paper_bgcolor": "white",
          "plot_bgcolor": "white",
          "polar": {
           "angularaxis": {
            "gridcolor": "#EBF0F8",
            "linecolor": "#EBF0F8",
            "ticks": ""
           },
           "bgcolor": "white",
           "radialaxis": {
            "gridcolor": "#EBF0F8",
            "linecolor": "#EBF0F8",
            "ticks": ""
           }
          },
          "scene": {
           "xaxis": {
            "backgroundcolor": "white",
            "gridcolor": "#DFE8F3",
            "gridwidth": 2,
            "linecolor": "#EBF0F8",
            "showbackground": true,
            "ticks": "",
            "zerolinecolor": "#EBF0F8"
           },
           "yaxis": {
            "backgroundcolor": "white",
            "gridcolor": "#DFE8F3",
            "gridwidth": 2,
            "linecolor": "#EBF0F8",
            "showbackground": true,
            "ticks": "",
            "zerolinecolor": "#EBF0F8"
           },
           "zaxis": {
            "backgroundcolor": "white",
            "gridcolor": "#DFE8F3",
            "gridwidth": 2,
            "linecolor": "#EBF0F8",
            "showbackground": true,
            "ticks": "",
            "zerolinecolor": "#EBF0F8"
           }
          },
          "shapedefaults": {
           "line": {
            "color": "#2a3f5f"
           }
          },
          "ternary": {
           "aaxis": {
            "gridcolor": "#DFE8F3",
            "linecolor": "#A2B1C6",
            "ticks": ""
           },
           "baxis": {
            "gridcolor": "#DFE8F3",
            "linecolor": "#A2B1C6",
            "ticks": ""
           },
           "bgcolor": "white",
           "caxis": {
            "gridcolor": "#DFE8F3",
            "linecolor": "#A2B1C6",
            "ticks": ""
           }
          },
          "title": {
           "x": 0.05
          },
          "xaxis": {
           "automargin": true,
           "gridcolor": "#EBF0F8",
           "linecolor": "#EBF0F8",
           "ticks": "",
           "title": {
            "standoff": 15
           },
           "zerolinecolor": "#EBF0F8",
           "zerolinewidth": 2
          },
          "yaxis": {
           "automargin": true,
           "gridcolor": "#EBF0F8",
           "linecolor": "#EBF0F8",
           "ticks": "",
           "title": {
            "standoff": 15
           },
           "zerolinecolor": "#EBF0F8",
           "zerolinewidth": 2
          }
         }
        },
        "title": {
         "text": "Men vs Women Participation Over Time for USA"
        },
        "xaxis": {
         "anchor": "y",
         "domain": [
          0,
          1
         ],
         "title": {
          "text": "Year"
         }
        },
        "yaxis": {
         "anchor": "x",
         "domain": [
          0,
          1
         ],
         "title": {
          "text": "Count"
         }
        }
       }
      }
     },
     "metadata": {},
     "output_type": "display_data"
    }
   ],
   "source": [
    "# Scatter plot for Men vs Women Participation Over Time\n",
    "fig = px.scatter(usa_data.reset_index(), x='Year', y=['Men', 'Women'],\n",
    "                 title='Men vs Women Participation Over Time for USA',\n",
    "                 labels={'value': 'Count', 'variable': 'Gender'},\n",
    "                 template='plotly_white')\n",
    "fig.show()\n"
   ]
  },
  {
   "cell_type": "markdown",
   "metadata": {},
   "source": [
    "## Timeseries model"
   ]
  },
  {
   "cell_type": "code",
   "execution_count": 123,
   "metadata": {},
   "outputs": [],
   "source": [
    "from statsmodels.tsa.vector_ar.var_model import VAR"
   ]
  },
  {
   "cell_type": "code",
   "execution_count": 124,
   "metadata": {},
   "outputs": [],
   "source": [
    "train = usa_data"
   ]
  },
  {
   "cell_type": "code",
   "execution_count": 125,
   "metadata": {},
   "outputs": [],
   "source": [
    "# Fit VAR model\n",
    "model = VAR(train)\n",
    "model_fit = model.fit()"
   ]
  },
  {
   "cell_type": "code",
   "execution_count": 126,
   "metadata": {},
   "outputs": [],
   "source": [
    "# Forecast for 2024\n",
    "forecast = model_fit.forecast(train.values, steps=8)"
   ]
  },
  {
   "cell_type": "code",
   "execution_count": 127,
   "metadata": {},
   "outputs": [
    {
     "name": "stdout",
     "output_type": "stream",
     "text": [
      "Forecasted values for 2024:\n"
     ]
    },
    {
     "data": {
      "text/html": [
       "<div>\n",
       "<style scoped>\n",
       "    .dataframe tbody tr th:only-of-type {\n",
       "        vertical-align: middle;\n",
       "    }\n",
       "\n",
       "    .dataframe tbody tr th {\n",
       "        vertical-align: top;\n",
       "    }\n",
       "\n",
       "    .dataframe thead th {\n",
       "        text-align: right;\n",
       "    }\n",
       "</style>\n",
       "<table border=\"1\" class=\"dataframe\">\n",
       "  <thead>\n",
       "    <tr style=\"text-align: right;\">\n",
       "      <th></th>\n",
       "      <th>Athletes</th>\n",
       "      <th>Sports</th>\n",
       "      <th>Events</th>\n",
       "      <th>Gold</th>\n",
       "      <th>Silver</th>\n",
       "      <th>Bronze</th>\n",
       "      <th>Men</th>\n",
       "      <th>Women</th>\n",
       "      <th>Total_Medals</th>\n",
       "    </tr>\n",
       "  </thead>\n",
       "  <tbody>\n",
       "    <tr>\n",
       "      <th>2017-01-01</th>\n",
       "      <td>499.964689</td>\n",
       "      <td>18.599060</td>\n",
       "      <td>128.595257</td>\n",
       "      <td>32.906313</td>\n",
       "      <td>49.640479</td>\n",
       "      <td>35.839786</td>\n",
       "      <td>299.496501</td>\n",
       "      <td>200.468187</td>\n",
       "      <td>118.386578</td>\n",
       "    </tr>\n",
       "    <tr>\n",
       "      <th>2018-01-01</th>\n",
       "      <td>738.011885</td>\n",
       "      <td>33.201735</td>\n",
       "      <td>254.783564</td>\n",
       "      <td>120.347327</td>\n",
       "      <td>72.891770</td>\n",
       "      <td>64.240939</td>\n",
       "      <td>361.468928</td>\n",
       "      <td>376.542956</td>\n",
       "      <td>257.480036</td>\n",
       "    </tr>\n",
       "    <tr>\n",
       "      <th>2019-01-01</th>\n",
       "      <td>411.326845</td>\n",
       "      <td>16.199860</td>\n",
       "      <td>110.517292</td>\n",
       "      <td>19.108580</td>\n",
       "      <td>34.913710</td>\n",
       "      <td>31.169142</td>\n",
       "      <td>230.701446</td>\n",
       "      <td>180.625399</td>\n",
       "      <td>85.191432</td>\n",
       "    </tr>\n",
       "    <tr>\n",
       "      <th>2020-01-01</th>\n",
       "      <td>633.111344</td>\n",
       "      <td>28.692958</td>\n",
       "      <td>217.671545</td>\n",
       "      <td>114.376407</td>\n",
       "      <td>67.097086</td>\n",
       "      <td>55.916916</td>\n",
       "      <td>303.577908</td>\n",
       "      <td>329.533436</td>\n",
       "      <td>237.390409</td>\n",
       "    </tr>\n",
       "    <tr>\n",
       "      <th>2021-01-01</th>\n",
       "      <td>455.478050</td>\n",
       "      <td>18.291682</td>\n",
       "      <td>126.358179</td>\n",
       "      <td>39.836850</td>\n",
       "      <td>46.277317</td>\n",
       "      <td>33.913979</td>\n",
       "      <td>250.751271</td>\n",
       "      <td>204.726780</td>\n",
       "      <td>120.028146</td>\n",
       "    </tr>\n",
       "    <tr>\n",
       "      <th>2022-01-01</th>\n",
       "      <td>667.698042</td>\n",
       "      <td>29.486326</td>\n",
       "      <td>225.003818</td>\n",
       "      <td>109.821237</td>\n",
       "      <td>68.505189</td>\n",
       "      <td>57.057747</td>\n",
       "      <td>330.621574</td>\n",
       "      <td>337.076468</td>\n",
       "      <td>235.384174</td>\n",
       "    </tr>\n",
       "    <tr>\n",
       "      <th>2023-01-01</th>\n",
       "      <td>466.492343</td>\n",
       "      <td>19.100316</td>\n",
       "      <td>133.422435</td>\n",
       "      <td>39.233018</td>\n",
       "      <td>44.221852</td>\n",
       "      <td>35.938602</td>\n",
       "      <td>251.526563</td>\n",
       "      <td>214.965779</td>\n",
       "      <td>119.393471</td>\n",
       "    </tr>\n",
       "    <tr>\n",
       "      <th>2024-01-01</th>\n",
       "      <td>629.101477</td>\n",
       "      <td>27.742147</td>\n",
       "      <td>210.788147</td>\n",
       "      <td>102.023354</td>\n",
       "      <td>64.174548</td>\n",
       "      <td>54.215677</td>\n",
       "      <td>310.593289</td>\n",
       "      <td>318.508188</td>\n",
       "      <td>220.413579</td>\n",
       "    </tr>\n",
       "  </tbody>\n",
       "</table>\n",
       "</div>"
      ],
      "text/plain": [
       "              Athletes     Sports      Events        Gold     Silver  \\\n",
       "2017-01-01  499.964689  18.599060  128.595257   32.906313  49.640479   \n",
       "2018-01-01  738.011885  33.201735  254.783564  120.347327  72.891770   \n",
       "2019-01-01  411.326845  16.199860  110.517292   19.108580  34.913710   \n",
       "2020-01-01  633.111344  28.692958  217.671545  114.376407  67.097086   \n",
       "2021-01-01  455.478050  18.291682  126.358179   39.836850  46.277317   \n",
       "2022-01-01  667.698042  29.486326  225.003818  109.821237  68.505189   \n",
       "2023-01-01  466.492343  19.100316  133.422435   39.233018  44.221852   \n",
       "2024-01-01  629.101477  27.742147  210.788147  102.023354  64.174548   \n",
       "\n",
       "               Bronze         Men       Women  Total_Medals  \n",
       "2017-01-01  35.839786  299.496501  200.468187    118.386578  \n",
       "2018-01-01  64.240939  361.468928  376.542956    257.480036  \n",
       "2019-01-01  31.169142  230.701446  180.625399     85.191432  \n",
       "2020-01-01  55.916916  303.577908  329.533436    237.390409  \n",
       "2021-01-01  33.913979  250.751271  204.726780    120.028146  \n",
       "2022-01-01  57.057747  330.621574  337.076468    235.384174  \n",
       "2023-01-01  35.938602  251.526563  214.965779    119.393471  \n",
       "2024-01-01  54.215677  310.593289  318.508188    220.413579  "
      ]
     },
     "execution_count": 127,
     "metadata": {},
     "output_type": "execute_result"
    }
   ],
   "source": [
    "# Print forecasted values for 2024\n",
    "print(\"Forecasted values for 2024:\")\n",
    "years = pd.date_range(start='2017-01-01', end='2025-01-01', freq='Y')\n",
    "forecast_df = pd.DataFrame(forecast, columns=usa_data.columns, index=years)\n",
    "forecast_df.index = forecast_df.index.strftime('%Y-01-01')\n",
    "forecast_df"
   ]
  },
  {
   "cell_type": "markdown",
   "metadata": {},
   "source": [
    "## Visualizations for 2024 - USA"
   ]
  },
  {
   "cell_type": "code",
   "execution_count": 128,
   "metadata": {},
   "outputs": [
    {
     "data": {
      "application/vnd.plotly.v1+json": {
       "config": {
        "plotlyServerURL": "https://plot.ly"
       },
       "data": [
        {
         "mode": "lines+markers",
         "name": "Total Medals",
         "type": "scatter",
         "x": [
          "1960-01-01T00:00:00",
          "1964-01-01T00:00:00",
          "1968-01-01T00:00:00",
          "1972-01-01T00:00:00",
          "1976-01-01T00:00:00",
          "1980-01-01T00:00:00",
          "1984-01-01T00:00:00",
          "1988-01-01T00:00:00",
          "1992-01-01T00:00:00",
          "1994-01-01T00:00:00",
          "1996-01-01T00:00:00",
          "1998-01-01T00:00:00",
          "2000-01-01T00:00:00",
          "2002-01-01T00:00:00",
          "2004-01-01T00:00:00",
          "2006-01-01T00:00:00",
          "2008-01-01T00:00:00",
          "2010-01-01T00:00:00",
          "2012-01-01T00:00:00",
          "2014-01-01T00:00:00",
          "2016-01-01T00:00:00"
         ],
         "y": [
          143,
          177,
          173,
          195,
          174,
          29,
          361,
          214,
          237,
          19,
          241,
          34,
          241,
          83,
          262,
          52,
          316,
          97,
          248,
          64,
          263
         ]
        },
        {
         "mode": "lines+markers",
         "name": "Total Medals",
         "type": "scatter",
         "x": [
          "2017-01-01",
          "2018-01-01",
          "2019-01-01",
          "2020-01-01",
          "2021-01-01",
          "2022-01-01",
          "2023-01-01",
          "2024-01-01"
         ],
         "y": [
          118.38657789549245,
          257.4800358085054,
          85.19143192838794,
          237.3904088609131,
          120.02814552837583,
          235.38417369025507,
          119.393471438441,
          220.41357905168206
         ]
        },
        {
         "marker": {
          "color": "red",
          "size": 14
         },
         "mode": "markers",
         "name": "2024 Forecast",
         "type": "scatter",
         "x": [
          "2024-01-01"
         ],
         "y": [
          220.41357905168206
         ]
        }
       ],
       "layout": {
        "template": {
         "data": {
          "bar": [
           {
            "error_x": {
             "color": "#2a3f5f"
            },
            "error_y": {
             "color": "#2a3f5f"
            },
            "marker": {
             "line": {
              "color": "#E5ECF6",
              "width": 0.5
             },
             "pattern": {
              "fillmode": "overlay",
              "size": 10,
              "solidity": 0.2
             }
            },
            "type": "bar"
           }
          ],
          "barpolar": [
           {
            "marker": {
             "line": {
              "color": "#E5ECF6",
              "width": 0.5
             },
             "pattern": {
              "fillmode": "overlay",
              "size": 10,
              "solidity": 0.2
             }
            },
            "type": "barpolar"
           }
          ],
          "carpet": [
           {
            "aaxis": {
             "endlinecolor": "#2a3f5f",
             "gridcolor": "white",
             "linecolor": "white",
             "minorgridcolor": "white",
             "startlinecolor": "#2a3f5f"
            },
            "baxis": {
             "endlinecolor": "#2a3f5f",
             "gridcolor": "white",
             "linecolor": "white",
             "minorgridcolor": "white",
             "startlinecolor": "#2a3f5f"
            },
            "type": "carpet"
           }
          ],
          "choropleth": [
           {
            "colorbar": {
             "outlinewidth": 0,
             "ticks": ""
            },
            "type": "choropleth"
           }
          ],
          "contour": [
           {
            "colorbar": {
             "outlinewidth": 0,
             "ticks": ""
            },
            "colorscale": [
             [
              0,
              "#0d0887"
             ],
             [
              0.1111111111111111,
              "#46039f"
             ],
             [
              0.2222222222222222,
              "#7201a8"
             ],
             [
              0.3333333333333333,
              "#9c179e"
             ],
             [
              0.4444444444444444,
              "#bd3786"
             ],
             [
              0.5555555555555556,
              "#d8576b"
             ],
             [
              0.6666666666666666,
              "#ed7953"
             ],
             [
              0.7777777777777778,
              "#fb9f3a"
             ],
             [
              0.8888888888888888,
              "#fdca26"
             ],
             [
              1,
              "#f0f921"
             ]
            ],
            "type": "contour"
           }
          ],
          "contourcarpet": [
           {
            "colorbar": {
             "outlinewidth": 0,
             "ticks": ""
            },
            "type": "contourcarpet"
           }
          ],
          "heatmap": [
           {
            "colorbar": {
             "outlinewidth": 0,
             "ticks": ""
            },
            "colorscale": [
             [
              0,
              "#0d0887"
             ],
             [
              0.1111111111111111,
              "#46039f"
             ],
             [
              0.2222222222222222,
              "#7201a8"
             ],
             [
              0.3333333333333333,
              "#9c179e"
             ],
             [
              0.4444444444444444,
              "#bd3786"
             ],
             [
              0.5555555555555556,
              "#d8576b"
             ],
             [
              0.6666666666666666,
              "#ed7953"
             ],
             [
              0.7777777777777778,
              "#fb9f3a"
             ],
             [
              0.8888888888888888,
              "#fdca26"
             ],
             [
              1,
              "#f0f921"
             ]
            ],
            "type": "heatmap"
           }
          ],
          "heatmapgl": [
           {
            "colorbar": {
             "outlinewidth": 0,
             "ticks": ""
            },
            "colorscale": [
             [
              0,
              "#0d0887"
             ],
             [
              0.1111111111111111,
              "#46039f"
             ],
             [
              0.2222222222222222,
              "#7201a8"
             ],
             [
              0.3333333333333333,
              "#9c179e"
             ],
             [
              0.4444444444444444,
              "#bd3786"
             ],
             [
              0.5555555555555556,
              "#d8576b"
             ],
             [
              0.6666666666666666,
              "#ed7953"
             ],
             [
              0.7777777777777778,
              "#fb9f3a"
             ],
             [
              0.8888888888888888,
              "#fdca26"
             ],
             [
              1,
              "#f0f921"
             ]
            ],
            "type": "heatmapgl"
           }
          ],
          "histogram": [
           {
            "marker": {
             "pattern": {
              "fillmode": "overlay",
              "size": 10,
              "solidity": 0.2
             }
            },
            "type": "histogram"
           }
          ],
          "histogram2d": [
           {
            "colorbar": {
             "outlinewidth": 0,
             "ticks": ""
            },
            "colorscale": [
             [
              0,
              "#0d0887"
             ],
             [
              0.1111111111111111,
              "#46039f"
             ],
             [
              0.2222222222222222,
              "#7201a8"
             ],
             [
              0.3333333333333333,
              "#9c179e"
             ],
             [
              0.4444444444444444,
              "#bd3786"
             ],
             [
              0.5555555555555556,
              "#d8576b"
             ],
             [
              0.6666666666666666,
              "#ed7953"
             ],
             [
              0.7777777777777778,
              "#fb9f3a"
             ],
             [
              0.8888888888888888,
              "#fdca26"
             ],
             [
              1,
              "#f0f921"
             ]
            ],
            "type": "histogram2d"
           }
          ],
          "histogram2dcontour": [
           {
            "colorbar": {
             "outlinewidth": 0,
             "ticks": ""
            },
            "colorscale": [
             [
              0,
              "#0d0887"
             ],
             [
              0.1111111111111111,
              "#46039f"
             ],
             [
              0.2222222222222222,
              "#7201a8"
             ],
             [
              0.3333333333333333,
              "#9c179e"
             ],
             [
              0.4444444444444444,
              "#bd3786"
             ],
             [
              0.5555555555555556,
              "#d8576b"
             ],
             [
              0.6666666666666666,
              "#ed7953"
             ],
             [
              0.7777777777777778,
              "#fb9f3a"
             ],
             [
              0.8888888888888888,
              "#fdca26"
             ],
             [
              1,
              "#f0f921"
             ]
            ],
            "type": "histogram2dcontour"
           }
          ],
          "mesh3d": [
           {
            "colorbar": {
             "outlinewidth": 0,
             "ticks": ""
            },
            "type": "mesh3d"
           }
          ],
          "parcoords": [
           {
            "line": {
             "colorbar": {
              "outlinewidth": 0,
              "ticks": ""
             }
            },
            "type": "parcoords"
           }
          ],
          "pie": [
           {
            "automargin": true,
            "type": "pie"
           }
          ],
          "scatter": [
           {
            "fillpattern": {
             "fillmode": "overlay",
             "size": 10,
             "solidity": 0.2
            },
            "type": "scatter"
           }
          ],
          "scatter3d": [
           {
            "line": {
             "colorbar": {
              "outlinewidth": 0,
              "ticks": ""
             }
            },
            "marker": {
             "colorbar": {
              "outlinewidth": 0,
              "ticks": ""
             }
            },
            "type": "scatter3d"
           }
          ],
          "scattercarpet": [
           {
            "marker": {
             "colorbar": {
              "outlinewidth": 0,
              "ticks": ""
             }
            },
            "type": "scattercarpet"
           }
          ],
          "scattergeo": [
           {
            "marker": {
             "colorbar": {
              "outlinewidth": 0,
              "ticks": ""
             }
            },
            "type": "scattergeo"
           }
          ],
          "scattergl": [
           {
            "marker": {
             "colorbar": {
              "outlinewidth": 0,
              "ticks": ""
             }
            },
            "type": "scattergl"
           }
          ],
          "scattermapbox": [
           {
            "marker": {
             "colorbar": {
              "outlinewidth": 0,
              "ticks": ""
             }
            },
            "type": "scattermapbox"
           }
          ],
          "scatterpolar": [
           {
            "marker": {
             "colorbar": {
              "outlinewidth": 0,
              "ticks": ""
             }
            },
            "type": "scatterpolar"
           }
          ],
          "scatterpolargl": [
           {
            "marker": {
             "colorbar": {
              "outlinewidth": 0,
              "ticks": ""
             }
            },
            "type": "scatterpolargl"
           }
          ],
          "scatterternary": [
           {
            "marker": {
             "colorbar": {
              "outlinewidth": 0,
              "ticks": ""
             }
            },
            "type": "scatterternary"
           }
          ],
          "surface": [
           {
            "colorbar": {
             "outlinewidth": 0,
             "ticks": ""
            },
            "colorscale": [
             [
              0,
              "#0d0887"
             ],
             [
              0.1111111111111111,
              "#46039f"
             ],
             [
              0.2222222222222222,
              "#7201a8"
             ],
             [
              0.3333333333333333,
              "#9c179e"
             ],
             [
              0.4444444444444444,
              "#bd3786"
             ],
             [
              0.5555555555555556,
              "#d8576b"
             ],
             [
              0.6666666666666666,
              "#ed7953"
             ],
             [
              0.7777777777777778,
              "#fb9f3a"
             ],
             [
              0.8888888888888888,
              "#fdca26"
             ],
             [
              1,
              "#f0f921"
             ]
            ],
            "type": "surface"
           }
          ],
          "table": [
           {
            "cells": {
             "fill": {
              "color": "#EBF0F8"
             },
             "line": {
              "color": "white"
             }
            },
            "header": {
             "fill": {
              "color": "#C8D4E3"
             },
             "line": {
              "color": "white"
             }
            },
            "type": "table"
           }
          ]
         },
         "layout": {
          "annotationdefaults": {
           "arrowcolor": "#2a3f5f",
           "arrowhead": 0,
           "arrowwidth": 1
          },
          "autotypenumbers": "strict",
          "coloraxis": {
           "colorbar": {
            "outlinewidth": 0,
            "ticks": ""
           }
          },
          "colorscale": {
           "diverging": [
            [
             0,
             "#8e0152"
            ],
            [
             0.1,
             "#c51b7d"
            ],
            [
             0.2,
             "#de77ae"
            ],
            [
             0.3,
             "#f1b6da"
            ],
            [
             0.4,
             "#fde0ef"
            ],
            [
             0.5,
             "#f7f7f7"
            ],
            [
             0.6,
             "#e6f5d0"
            ],
            [
             0.7,
             "#b8e186"
            ],
            [
             0.8,
             "#7fbc41"
            ],
            [
             0.9,
             "#4d9221"
            ],
            [
             1,
             "#276419"
            ]
           ],
           "sequential": [
            [
             0,
             "#0d0887"
            ],
            [
             0.1111111111111111,
             "#46039f"
            ],
            [
             0.2222222222222222,
             "#7201a8"
            ],
            [
             0.3333333333333333,
             "#9c179e"
            ],
            [
             0.4444444444444444,
             "#bd3786"
            ],
            [
             0.5555555555555556,
             "#d8576b"
            ],
            [
             0.6666666666666666,
             "#ed7953"
            ],
            [
             0.7777777777777778,
             "#fb9f3a"
            ],
            [
             0.8888888888888888,
             "#fdca26"
            ],
            [
             1,
             "#f0f921"
            ]
           ],
           "sequentialminus": [
            [
             0,
             "#0d0887"
            ],
            [
             0.1111111111111111,
             "#46039f"
            ],
            [
             0.2222222222222222,
             "#7201a8"
            ],
            [
             0.3333333333333333,
             "#9c179e"
            ],
            [
             0.4444444444444444,
             "#bd3786"
            ],
            [
             0.5555555555555556,
             "#d8576b"
            ],
            [
             0.6666666666666666,
             "#ed7953"
            ],
            [
             0.7777777777777778,
             "#fb9f3a"
            ],
            [
             0.8888888888888888,
             "#fdca26"
            ],
            [
             1,
             "#f0f921"
            ]
           ]
          },
          "colorway": [
           "#636efa",
           "#EF553B",
           "#00cc96",
           "#ab63fa",
           "#FFA15A",
           "#19d3f3",
           "#FF6692",
           "#B6E880",
           "#FF97FF",
           "#FECB52"
          ],
          "font": {
           "color": "#2a3f5f"
          },
          "geo": {
           "bgcolor": "white",
           "lakecolor": "white",
           "landcolor": "#E5ECF6",
           "showlakes": true,
           "showland": true,
           "subunitcolor": "white"
          },
          "hoverlabel": {
           "align": "left"
          },
          "hovermode": "closest",
          "mapbox": {
           "style": "light"
          },
          "paper_bgcolor": "white",
          "plot_bgcolor": "#E5ECF6",
          "polar": {
           "angularaxis": {
            "gridcolor": "white",
            "linecolor": "white",
            "ticks": ""
           },
           "bgcolor": "#E5ECF6",
           "radialaxis": {
            "gridcolor": "white",
            "linecolor": "white",
            "ticks": ""
           }
          },
          "scene": {
           "xaxis": {
            "backgroundcolor": "#E5ECF6",
            "gridcolor": "white",
            "gridwidth": 2,
            "linecolor": "white",
            "showbackground": true,
            "ticks": "",
            "zerolinecolor": "white"
           },
           "yaxis": {
            "backgroundcolor": "#E5ECF6",
            "gridcolor": "white",
            "gridwidth": 2,
            "linecolor": "white",
            "showbackground": true,
            "ticks": "",
            "zerolinecolor": "white"
           },
           "zaxis": {
            "backgroundcolor": "#E5ECF6",
            "gridcolor": "white",
            "gridwidth": 2,
            "linecolor": "white",
            "showbackground": true,
            "ticks": "",
            "zerolinecolor": "white"
           }
          },
          "shapedefaults": {
           "line": {
            "color": "#2a3f5f"
           }
          },
          "ternary": {
           "aaxis": {
            "gridcolor": "white",
            "linecolor": "white",
            "ticks": ""
           },
           "baxis": {
            "gridcolor": "white",
            "linecolor": "white",
            "ticks": ""
           },
           "bgcolor": "#E5ECF6",
           "caxis": {
            "gridcolor": "white",
            "linecolor": "white",
            "ticks": ""
           }
          },
          "title": {
           "x": 0.05
          },
          "xaxis": {
           "automargin": true,
           "gridcolor": "white",
           "linecolor": "white",
           "ticks": "",
           "title": {
            "standoff": 15
           },
           "zerolinecolor": "white",
           "zerolinewidth": 2
          },
          "yaxis": {
           "automargin": true,
           "gridcolor": "white",
           "linecolor": "white",
           "ticks": "",
           "title": {
            "standoff": 15
           },
           "zerolinecolor": "white",
           "zerolinewidth": 2
          }
         }
        },
        "title": {
         "text": "Total Medals Over the Years with 2024 Forecast"
        },
        "xaxis": {
         "title": {
          "text": "Year"
         }
        },
        "yaxis": {
         "title": {
          "text": "Total Medals"
         }
        }
       }
      }
     },
     "metadata": {},
     "output_type": "display_data"
    },
    {
     "data": {
      "application/vnd.plotly.v1+json": {
       "config": {
        "plotlyServerURL": "https://plot.ly"
       },
       "data": [
        {
         "line": {
          "color": "gold"
         },
         "mode": "lines+markers",
         "name": "Gold Medals",
         "type": "scatter",
         "x": [
          "1960-01-01T00:00:00",
          "1964-01-01T00:00:00",
          "1968-01-01T00:00:00",
          "1972-01-01T00:00:00",
          "1976-01-01T00:00:00",
          "1980-01-01T00:00:00",
          "1984-01-01T00:00:00",
          "1988-01-01T00:00:00",
          "1992-01-01T00:00:00",
          "1994-01-01T00:00:00",
          "1996-01-01T00:00:00",
          "1998-01-01T00:00:00",
          "2000-01-01T00:00:00",
          "2002-01-01T00:00:00",
          "2004-01-01T00:00:00",
          "2006-01-01T00:00:00",
          "2008-01-01T00:00:00",
          "2010-01-01T00:00:00",
          "2012-01-01T00:00:00",
          "2014-01-01T00:00:00",
          "2016-01-01T00:00:00"
         ],
         "y": [
          97,
          96,
          100,
          72,
          73,
          24,
          190,
          89,
          94,
          6,
          148,
          25,
          130,
          10,
          117,
          9,
          127,
          12,
          145,
          10,
          138
         ]
        },
        {
         "line": {
          "color": "silver"
         },
         "mode": "lines+markers",
         "name": "Silver Medals",
         "type": "scatter",
         "x": [
          "1960-01-01T00:00:00",
          "1964-01-01T00:00:00",
          "1968-01-01T00:00:00",
          "1972-01-01T00:00:00",
          "1976-01-01T00:00:00",
          "1980-01-01T00:00:00",
          "1984-01-01T00:00:00",
          "1988-01-01T00:00:00",
          "1992-01-01T00:00:00",
          "1994-01-01T00:00:00",
          "1996-01-01T00:00:00",
          "1998-01-01T00:00:00",
          "2000-01-01T00:00:00",
          "2002-01-01T00:00:00",
          "2004-01-01T00:00:00",
          "2006-01-01T00:00:00",
          "2008-01-01T00:00:00",
          "2010-01-01T00:00:00",
          "2012-01-01T00:00:00",
          "2014-01-01T00:00:00",
          "2016-01-01T00:00:00"
         ],
         "y": [
          24,
          39,
          37,
          77,
          61,
          4,
          121,
          67,
          57,
          8,
          43,
          4,
          61,
          58,
          75,
          11,
          110,
          63,
          57,
          30,
          54
         ]
        },
        {
         "line": {
          "color": "#CD7F32"
         },
         "mode": "lines+markers",
         "name": "Bronze Medals",
         "type": "scatter",
         "x": [
          "1960-01-01T00:00:00",
          "1964-01-01T00:00:00",
          "1968-01-01T00:00:00",
          "1972-01-01T00:00:00",
          "1976-01-01T00:00:00",
          "1980-01-01T00:00:00",
          "1984-01-01T00:00:00",
          "1988-01-01T00:00:00",
          "1992-01-01T00:00:00",
          "1994-01-01T00:00:00",
          "1996-01-01T00:00:00",
          "1998-01-01T00:00:00",
          "2000-01-01T00:00:00",
          "2002-01-01T00:00:00",
          "2004-01-01T00:00:00",
          "2006-01-01T00:00:00",
          "2008-01-01T00:00:00",
          "2010-01-01T00:00:00",
          "2012-01-01T00:00:00",
          "2014-01-01T00:00:00",
          "2016-01-01T00:00:00"
         ],
         "y": [
          22,
          42,
          36,
          46,
          40,
          1,
          50,
          58,
          86,
          5,
          50,
          5,
          50,
          15,
          70,
          32,
          79,
          22,
          46,
          24,
          71
         ]
        },
        {
         "line": {
          "color": "gold"
         },
         "mode": "lines+markers",
         "name": "Gold Medals",
         "type": "scatter",
         "x": [
          "2017-01-01",
          "2018-01-01",
          "2019-01-01",
          "2020-01-01",
          "2021-01-01",
          "2022-01-01",
          "2023-01-01",
          "2024-01-01"
         ],
         "y": [
          32.9063132636571,
          120.3473274248162,
          19.108579838223847,
          114.3764069274101,
          39.83685013218653,
          109.82123702934334,
          39.23301763368747,
          102.02335386869765
         ]
        },
        {
         "line": {
          "color": "silver"
         },
         "mode": "lines+markers",
         "name": "Silver Medals",
         "type": "scatter",
         "x": [
          "2017-01-01",
          "2018-01-01",
          "2019-01-01",
          "2020-01-01",
          "2021-01-01",
          "2022-01-01",
          "2023-01-01",
          "2024-01-01"
         ],
         "y": [
          49.6404788661758,
          72.89176985535167,
          34.913709634474614,
          67.09708639371543,
          46.27731656028881,
          68.50518920273156,
          44.22185208700391,
          64.17454820234366
         ]
        },
        {
         "line": {
          "color": "#CD7F32"
         },
         "mode": "lines+markers",
         "name": "Bronze Medals",
         "type": "scatter",
         "x": [
          "2017-01-01",
          "2018-01-01",
          "2019-01-01",
          "2020-01-01",
          "2021-01-01",
          "2022-01-01",
          "2023-01-01",
          "2024-01-01"
         ],
         "y": [
          35.83978576565944,
          64.24093852833735,
          31.16914245568945,
          55.91691553978744,
          33.91397883590044,
          57.057747458180046,
          35.93860171774965,
          54.215676980640595
         ]
        },
        {
         "marker": {
          "color": "gold",
          "size": 14
         },
         "mode": "markers",
         "name": "Gold 2024 Forecast",
         "type": "scatter",
         "x": [
          "2024-01-01"
         ],
         "y": [
          102.02335386869765
         ]
        },
        {
         "marker": {
          "color": "silver",
          "size": 14
         },
         "mode": "markers",
         "name": "Silver 2024 Forecast",
         "type": "scatter",
         "x": [
          "2024-01-01"
         ],
         "y": [
          64.17454820234366
         ]
        },
        {
         "marker": {
          "color": "#CD7F32",
          "size": 14
         },
         "mode": "markers",
         "name": "Bronze 2024 Forecast",
         "type": "scatter",
         "x": [
          "2024-01-01"
         ],
         "y": [
          54.215676980640595
         ]
        }
       ],
       "layout": {
        "template": {
         "data": {
          "bar": [
           {
            "error_x": {
             "color": "#2a3f5f"
            },
            "error_y": {
             "color": "#2a3f5f"
            },
            "marker": {
             "line": {
              "color": "#E5ECF6",
              "width": 0.5
             },
             "pattern": {
              "fillmode": "overlay",
              "size": 10,
              "solidity": 0.2
             }
            },
            "type": "bar"
           }
          ],
          "barpolar": [
           {
            "marker": {
             "line": {
              "color": "#E5ECF6",
              "width": 0.5
             },
             "pattern": {
              "fillmode": "overlay",
              "size": 10,
              "solidity": 0.2
             }
            },
            "type": "barpolar"
           }
          ],
          "carpet": [
           {
            "aaxis": {
             "endlinecolor": "#2a3f5f",
             "gridcolor": "white",
             "linecolor": "white",
             "minorgridcolor": "white",
             "startlinecolor": "#2a3f5f"
            },
            "baxis": {
             "endlinecolor": "#2a3f5f",
             "gridcolor": "white",
             "linecolor": "white",
             "minorgridcolor": "white",
             "startlinecolor": "#2a3f5f"
            },
            "type": "carpet"
           }
          ],
          "choropleth": [
           {
            "colorbar": {
             "outlinewidth": 0,
             "ticks": ""
            },
            "type": "choropleth"
           }
          ],
          "contour": [
           {
            "colorbar": {
             "outlinewidth": 0,
             "ticks": ""
            },
            "colorscale": [
             [
              0,
              "#0d0887"
             ],
             [
              0.1111111111111111,
              "#46039f"
             ],
             [
              0.2222222222222222,
              "#7201a8"
             ],
             [
              0.3333333333333333,
              "#9c179e"
             ],
             [
              0.4444444444444444,
              "#bd3786"
             ],
             [
              0.5555555555555556,
              "#d8576b"
             ],
             [
              0.6666666666666666,
              "#ed7953"
             ],
             [
              0.7777777777777778,
              "#fb9f3a"
             ],
             [
              0.8888888888888888,
              "#fdca26"
             ],
             [
              1,
              "#f0f921"
             ]
            ],
            "type": "contour"
           }
          ],
          "contourcarpet": [
           {
            "colorbar": {
             "outlinewidth": 0,
             "ticks": ""
            },
            "type": "contourcarpet"
           }
          ],
          "heatmap": [
           {
            "colorbar": {
             "outlinewidth": 0,
             "ticks": ""
            },
            "colorscale": [
             [
              0,
              "#0d0887"
             ],
             [
              0.1111111111111111,
              "#46039f"
             ],
             [
              0.2222222222222222,
              "#7201a8"
             ],
             [
              0.3333333333333333,
              "#9c179e"
             ],
             [
              0.4444444444444444,
              "#bd3786"
             ],
             [
              0.5555555555555556,
              "#d8576b"
             ],
             [
              0.6666666666666666,
              "#ed7953"
             ],
             [
              0.7777777777777778,
              "#fb9f3a"
             ],
             [
              0.8888888888888888,
              "#fdca26"
             ],
             [
              1,
              "#f0f921"
             ]
            ],
            "type": "heatmap"
           }
          ],
          "heatmapgl": [
           {
            "colorbar": {
             "outlinewidth": 0,
             "ticks": ""
            },
            "colorscale": [
             [
              0,
              "#0d0887"
             ],
             [
              0.1111111111111111,
              "#46039f"
             ],
             [
              0.2222222222222222,
              "#7201a8"
             ],
             [
              0.3333333333333333,
              "#9c179e"
             ],
             [
              0.4444444444444444,
              "#bd3786"
             ],
             [
              0.5555555555555556,
              "#d8576b"
             ],
             [
              0.6666666666666666,
              "#ed7953"
             ],
             [
              0.7777777777777778,
              "#fb9f3a"
             ],
             [
              0.8888888888888888,
              "#fdca26"
             ],
             [
              1,
              "#f0f921"
             ]
            ],
            "type": "heatmapgl"
           }
          ],
          "histogram": [
           {
            "marker": {
             "pattern": {
              "fillmode": "overlay",
              "size": 10,
              "solidity": 0.2
             }
            },
            "type": "histogram"
           }
          ],
          "histogram2d": [
           {
            "colorbar": {
             "outlinewidth": 0,
             "ticks": ""
            },
            "colorscale": [
             [
              0,
              "#0d0887"
             ],
             [
              0.1111111111111111,
              "#46039f"
             ],
             [
              0.2222222222222222,
              "#7201a8"
             ],
             [
              0.3333333333333333,
              "#9c179e"
             ],
             [
              0.4444444444444444,
              "#bd3786"
             ],
             [
              0.5555555555555556,
              "#d8576b"
             ],
             [
              0.6666666666666666,
              "#ed7953"
             ],
             [
              0.7777777777777778,
              "#fb9f3a"
             ],
             [
              0.8888888888888888,
              "#fdca26"
             ],
             [
              1,
              "#f0f921"
             ]
            ],
            "type": "histogram2d"
           }
          ],
          "histogram2dcontour": [
           {
            "colorbar": {
             "outlinewidth": 0,
             "ticks": ""
            },
            "colorscale": [
             [
              0,
              "#0d0887"
             ],
             [
              0.1111111111111111,
              "#46039f"
             ],
             [
              0.2222222222222222,
              "#7201a8"
             ],
             [
              0.3333333333333333,
              "#9c179e"
             ],
             [
              0.4444444444444444,
              "#bd3786"
             ],
             [
              0.5555555555555556,
              "#d8576b"
             ],
             [
              0.6666666666666666,
              "#ed7953"
             ],
             [
              0.7777777777777778,
              "#fb9f3a"
             ],
             [
              0.8888888888888888,
              "#fdca26"
             ],
             [
              1,
              "#f0f921"
             ]
            ],
            "type": "histogram2dcontour"
           }
          ],
          "mesh3d": [
           {
            "colorbar": {
             "outlinewidth": 0,
             "ticks": ""
            },
            "type": "mesh3d"
           }
          ],
          "parcoords": [
           {
            "line": {
             "colorbar": {
              "outlinewidth": 0,
              "ticks": ""
             }
            },
            "type": "parcoords"
           }
          ],
          "pie": [
           {
            "automargin": true,
            "type": "pie"
           }
          ],
          "scatter": [
           {
            "fillpattern": {
             "fillmode": "overlay",
             "size": 10,
             "solidity": 0.2
            },
            "type": "scatter"
           }
          ],
          "scatter3d": [
           {
            "line": {
             "colorbar": {
              "outlinewidth": 0,
              "ticks": ""
             }
            },
            "marker": {
             "colorbar": {
              "outlinewidth": 0,
              "ticks": ""
             }
            },
            "type": "scatter3d"
           }
          ],
          "scattercarpet": [
           {
            "marker": {
             "colorbar": {
              "outlinewidth": 0,
              "ticks": ""
             }
            },
            "type": "scattercarpet"
           }
          ],
          "scattergeo": [
           {
            "marker": {
             "colorbar": {
              "outlinewidth": 0,
              "ticks": ""
             }
            },
            "type": "scattergeo"
           }
          ],
          "scattergl": [
           {
            "marker": {
             "colorbar": {
              "outlinewidth": 0,
              "ticks": ""
             }
            },
            "type": "scattergl"
           }
          ],
          "scattermapbox": [
           {
            "marker": {
             "colorbar": {
              "outlinewidth": 0,
              "ticks": ""
             }
            },
            "type": "scattermapbox"
           }
          ],
          "scatterpolar": [
           {
            "marker": {
             "colorbar": {
              "outlinewidth": 0,
              "ticks": ""
             }
            },
            "type": "scatterpolar"
           }
          ],
          "scatterpolargl": [
           {
            "marker": {
             "colorbar": {
              "outlinewidth": 0,
              "ticks": ""
             }
            },
            "type": "scatterpolargl"
           }
          ],
          "scatterternary": [
           {
            "marker": {
             "colorbar": {
              "outlinewidth": 0,
              "ticks": ""
             }
            },
            "type": "scatterternary"
           }
          ],
          "surface": [
           {
            "colorbar": {
             "outlinewidth": 0,
             "ticks": ""
            },
            "colorscale": [
             [
              0,
              "#0d0887"
             ],
             [
              0.1111111111111111,
              "#46039f"
             ],
             [
              0.2222222222222222,
              "#7201a8"
             ],
             [
              0.3333333333333333,
              "#9c179e"
             ],
             [
              0.4444444444444444,
              "#bd3786"
             ],
             [
              0.5555555555555556,
              "#d8576b"
             ],
             [
              0.6666666666666666,
              "#ed7953"
             ],
             [
              0.7777777777777778,
              "#fb9f3a"
             ],
             [
              0.8888888888888888,
              "#fdca26"
             ],
             [
              1,
              "#f0f921"
             ]
            ],
            "type": "surface"
           }
          ],
          "table": [
           {
            "cells": {
             "fill": {
              "color": "#EBF0F8"
             },
             "line": {
              "color": "white"
             }
            },
            "header": {
             "fill": {
              "color": "#C8D4E3"
             },
             "line": {
              "color": "white"
             }
            },
            "type": "table"
           }
          ]
         },
         "layout": {
          "annotationdefaults": {
           "arrowcolor": "#2a3f5f",
           "arrowhead": 0,
           "arrowwidth": 1
          },
          "autotypenumbers": "strict",
          "coloraxis": {
           "colorbar": {
            "outlinewidth": 0,
            "ticks": ""
           }
          },
          "colorscale": {
           "diverging": [
            [
             0,
             "#8e0152"
            ],
            [
             0.1,
             "#c51b7d"
            ],
            [
             0.2,
             "#de77ae"
            ],
            [
             0.3,
             "#f1b6da"
            ],
            [
             0.4,
             "#fde0ef"
            ],
            [
             0.5,
             "#f7f7f7"
            ],
            [
             0.6,
             "#e6f5d0"
            ],
            [
             0.7,
             "#b8e186"
            ],
            [
             0.8,
             "#7fbc41"
            ],
            [
             0.9,
             "#4d9221"
            ],
            [
             1,
             "#276419"
            ]
           ],
           "sequential": [
            [
             0,
             "#0d0887"
            ],
            [
             0.1111111111111111,
             "#46039f"
            ],
            [
             0.2222222222222222,
             "#7201a8"
            ],
            [
             0.3333333333333333,
             "#9c179e"
            ],
            [
             0.4444444444444444,
             "#bd3786"
            ],
            [
             0.5555555555555556,
             "#d8576b"
            ],
            [
             0.6666666666666666,
             "#ed7953"
            ],
            [
             0.7777777777777778,
             "#fb9f3a"
            ],
            [
             0.8888888888888888,
             "#fdca26"
            ],
            [
             1,
             "#f0f921"
            ]
           ],
           "sequentialminus": [
            [
             0,
             "#0d0887"
            ],
            [
             0.1111111111111111,
             "#46039f"
            ],
            [
             0.2222222222222222,
             "#7201a8"
            ],
            [
             0.3333333333333333,
             "#9c179e"
            ],
            [
             0.4444444444444444,
             "#bd3786"
            ],
            [
             0.5555555555555556,
             "#d8576b"
            ],
            [
             0.6666666666666666,
             "#ed7953"
            ],
            [
             0.7777777777777778,
             "#fb9f3a"
            ],
            [
             0.8888888888888888,
             "#fdca26"
            ],
            [
             1,
             "#f0f921"
            ]
           ]
          },
          "colorway": [
           "#636efa",
           "#EF553B",
           "#00cc96",
           "#ab63fa",
           "#FFA15A",
           "#19d3f3",
           "#FF6692",
           "#B6E880",
           "#FF97FF",
           "#FECB52"
          ],
          "font": {
           "color": "#2a3f5f"
          },
          "geo": {
           "bgcolor": "white",
           "lakecolor": "white",
           "landcolor": "#E5ECF6",
           "showlakes": true,
           "showland": true,
           "subunitcolor": "white"
          },
          "hoverlabel": {
           "align": "left"
          },
          "hovermode": "closest",
          "mapbox": {
           "style": "light"
          },
          "paper_bgcolor": "white",
          "plot_bgcolor": "#E5ECF6",
          "polar": {
           "angularaxis": {
            "gridcolor": "white",
            "linecolor": "white",
            "ticks": ""
           },
           "bgcolor": "#E5ECF6",
           "radialaxis": {
            "gridcolor": "white",
            "linecolor": "white",
            "ticks": ""
           }
          },
          "scene": {
           "xaxis": {
            "backgroundcolor": "#E5ECF6",
            "gridcolor": "white",
            "gridwidth": 2,
            "linecolor": "white",
            "showbackground": true,
            "ticks": "",
            "zerolinecolor": "white"
           },
           "yaxis": {
            "backgroundcolor": "#E5ECF6",
            "gridcolor": "white",
            "gridwidth": 2,
            "linecolor": "white",
            "showbackground": true,
            "ticks": "",
            "zerolinecolor": "white"
           },
           "zaxis": {
            "backgroundcolor": "#E5ECF6",
            "gridcolor": "white",
            "gridwidth": 2,
            "linecolor": "white",
            "showbackground": true,
            "ticks": "",
            "zerolinecolor": "white"
           }
          },
          "shapedefaults": {
           "line": {
            "color": "#2a3f5f"
           }
          },
          "ternary": {
           "aaxis": {
            "gridcolor": "white",
            "linecolor": "white",
            "ticks": ""
           },
           "baxis": {
            "gridcolor": "white",
            "linecolor": "white",
            "ticks": ""
           },
           "bgcolor": "#E5ECF6",
           "caxis": {
            "gridcolor": "white",
            "linecolor": "white",
            "ticks": ""
           }
          },
          "title": {
           "x": 0.05
          },
          "xaxis": {
           "automargin": true,
           "gridcolor": "white",
           "linecolor": "white",
           "ticks": "",
           "title": {
            "standoff": 15
           },
           "zerolinecolor": "white",
           "zerolinewidth": 2
          },
          "yaxis": {
           "automargin": true,
           "gridcolor": "white",
           "linecolor": "white",
           "ticks": "",
           "title": {
            "standoff": 15
           },
           "zerolinecolor": "white",
           "zerolinewidth": 2
          }
         }
        },
        "title": {
         "text": "Medals (Gold, Silver, Bronze) Over the Years with 2024 Forecast"
        },
        "xaxis": {
         "title": {
          "text": "Year"
         }
        },
        "yaxis": {
         "title": {
          "text": "Number of Medals"
         }
        }
       }
      }
     },
     "metadata": {},
     "output_type": "display_data"
    },
    {
     "data": {
      "application/vnd.plotly.v1+json": {
       "config": {
        "plotlyServerURL": "https://plot.ly"
       },
       "data": [
        {
         "mode": "lines+markers",
         "name": "Athletes",
         "type": "scatter",
         "x": [
          "1960-01-01T00:00:00",
          "1964-01-01T00:00:00",
          "1968-01-01T00:00:00",
          "1972-01-01T00:00:00",
          "1976-01-01T00:00:00",
          "1980-01-01T00:00:00",
          "1984-01-01T00:00:00",
          "1988-01-01T00:00:00",
          "1992-01-01T00:00:00",
          "1994-01-01T00:00:00",
          "1996-01-01T00:00:00",
          "1998-01-01T00:00:00",
          "2000-01-01T00:00:00",
          "2002-01-01T00:00:00",
          "2004-01-01T00:00:00",
          "2006-01-01T00:00:00",
          "2008-01-01T00:00:00",
          "2010-01-01T00:00:00",
          "2012-01-01T00:00:00",
          "2014-01-01T00:00:00",
          "2016-01-01T00:00:00"
         ],
         "y": [
          474,
          619,
          664,
          719,
          660,
          144,
          842,
          896,
          955,
          232,
          742,
          283,
          759,
          311,
          723,
          324,
          756,
          341,
          689,
          367,
          718
         ]
        },
        {
         "mode": "lines+markers",
         "name": "Events",
         "type": "scatter",
         "x": [
          "1960-01-01T00:00:00",
          "1964-01-01T00:00:00",
          "1968-01-01T00:00:00",
          "1972-01-01T00:00:00",
          "1976-01-01T00:00:00",
          "1980-01-01T00:00:00",
          "1984-01-01T00:00:00",
          "1988-01-01T00:00:00",
          "1992-01-01T00:00:00",
          "1994-01-01T00:00:00",
          "1996-01-01T00:00:00",
          "1998-01-01T00:00:00",
          "2000-01-01T00:00:00",
          "2002-01-01T00:00:00",
          "2004-01-01T00:00:00",
          "2006-01-01T00:00:00",
          "2008-01-01T00:00:00",
          "2010-01-01T00:00:00",
          "2012-01-01T00:00:00",
          "2014-01-01T00:00:00",
          "2016-01-01T00:00:00"
         ],
         "y": [
          164,
          190,
          199,
          216,
          225,
          38,
          255,
          274,
          303,
          59,
          253,
          68,
          265,
          78,
          254,
          83,
          258,
          84,
          245,
          94,
          245
         ]
        },
        {
         "mode": "lines+markers",
         "name": "Sports",
         "type": "scatter",
         "x": [
          "1960-01-01T00:00:00",
          "1964-01-01T00:00:00",
          "1968-01-01T00:00:00",
          "1972-01-01T00:00:00",
          "1976-01-01T00:00:00",
          "1980-01-01T00:00:00",
          "1984-01-01T00:00:00",
          "1988-01-01T00:00:00",
          "1992-01-01T00:00:00",
          "1994-01-01T00:00:00",
          "1996-01-01T00:00:00",
          "1998-01-01T00:00:00",
          "2000-01-01T00:00:00",
          "2002-01-01T00:00:00",
          "2004-01-01T00:00:00",
          "2006-01-01T00:00:00",
          "2008-01-01T00:00:00",
          "2010-01-01T00:00:00",
          "2012-01-01T00:00:00",
          "2014-01-01T00:00:00",
          "2016-01-01T00:00:00"
         ],
         "y": [
          23,
          29,
          28,
          31,
          29,
          10,
          35,
          37,
          40,
          12,
          30,
          14,
          31,
          15,
          31,
          15,
          32,
          15,
          31,
          15,
          33
         ]
        },
        {
         "mode": "lines+markers",
         "name": "Athletes",
         "type": "scatter",
         "x": [
          "2017-01-01",
          "2018-01-01",
          "2019-01-01",
          "2020-01-01",
          "2021-01-01",
          "2022-01-01",
          "2023-01-01",
          "2024-01-01"
         ],
         "y": [
          499.9646888309967,
          738.01188464434,
          411.3268449284187,
          633.1113439608537,
          455.4780501239161,
          667.6980421488888,
          466.4923428608922,
          629.1014772320204
         ]
        },
        {
         "mode": "lines+markers",
         "name": "Events",
         "type": "scatter",
         "x": [
          "2017-01-01",
          "2018-01-01",
          "2019-01-01",
          "2020-01-01",
          "2021-01-01",
          "2022-01-01",
          "2023-01-01",
          "2024-01-01"
         ],
         "y": [
          128.5952567811628,
          254.78356388829582,
          110.51729212359236,
          217.6715454446101,
          126.35817939970887,
          225.0038175256782,
          133.42243464346825,
          210.78814747149733
         ]
        },
        {
         "mode": "lines+markers",
         "name": "Sports",
         "type": "scatter",
         "x": [
          "2017-01-01",
          "2018-01-01",
          "2019-01-01",
          "2020-01-01",
          "2021-01-01",
          "2022-01-01",
          "2023-01-01",
          "2024-01-01"
         ],
         "y": [
          18.599060208164705,
          33.201734602333076,
          16.199859737329593,
          28.692957737278302,
          18.29168233561649,
          29.48632561481976,
          19.100315929683436,
          27.742147010668024
         ]
        },
        {
         "marker": {
          "color": "blue",
          "size": 14
         },
         "mode": "markers",
         "name": "Athletes 2024 Forecast",
         "type": "scatter",
         "x": [
          "2024-01-01"
         ],
         "y": [
          629.1014772320204
         ]
        },
        {
         "marker": {
          "color": "green",
          "size": 14
         },
         "mode": "markers",
         "name": "Events 2024 Forecast",
         "type": "scatter",
         "x": [
          "2024-01-01"
         ],
         "y": [
          210.78814747149733
         ]
        },
        {
         "marker": {
          "color": "orange",
          "size": 14
         },
         "mode": "markers",
         "name": "Sports 2024 Forecast",
         "type": "scatter",
         "x": [
          "2024-01-01"
         ],
         "y": [
          27.742147010668024
         ]
        }
       ],
       "layout": {
        "template": {
         "data": {
          "bar": [
           {
            "error_x": {
             "color": "#2a3f5f"
            },
            "error_y": {
             "color": "#2a3f5f"
            },
            "marker": {
             "line": {
              "color": "#E5ECF6",
              "width": 0.5
             },
             "pattern": {
              "fillmode": "overlay",
              "size": 10,
              "solidity": 0.2
             }
            },
            "type": "bar"
           }
          ],
          "barpolar": [
           {
            "marker": {
             "line": {
              "color": "#E5ECF6",
              "width": 0.5
             },
             "pattern": {
              "fillmode": "overlay",
              "size": 10,
              "solidity": 0.2
             }
            },
            "type": "barpolar"
           }
          ],
          "carpet": [
           {
            "aaxis": {
             "endlinecolor": "#2a3f5f",
             "gridcolor": "white",
             "linecolor": "white",
             "minorgridcolor": "white",
             "startlinecolor": "#2a3f5f"
            },
            "baxis": {
             "endlinecolor": "#2a3f5f",
             "gridcolor": "white",
             "linecolor": "white",
             "minorgridcolor": "white",
             "startlinecolor": "#2a3f5f"
            },
            "type": "carpet"
           }
          ],
          "choropleth": [
           {
            "colorbar": {
             "outlinewidth": 0,
             "ticks": ""
            },
            "type": "choropleth"
           }
          ],
          "contour": [
           {
            "colorbar": {
             "outlinewidth": 0,
             "ticks": ""
            },
            "colorscale": [
             [
              0,
              "#0d0887"
             ],
             [
              0.1111111111111111,
              "#46039f"
             ],
             [
              0.2222222222222222,
              "#7201a8"
             ],
             [
              0.3333333333333333,
              "#9c179e"
             ],
             [
              0.4444444444444444,
              "#bd3786"
             ],
             [
              0.5555555555555556,
              "#d8576b"
             ],
             [
              0.6666666666666666,
              "#ed7953"
             ],
             [
              0.7777777777777778,
              "#fb9f3a"
             ],
             [
              0.8888888888888888,
              "#fdca26"
             ],
             [
              1,
              "#f0f921"
             ]
            ],
            "type": "contour"
           }
          ],
          "contourcarpet": [
           {
            "colorbar": {
             "outlinewidth": 0,
             "ticks": ""
            },
            "type": "contourcarpet"
           }
          ],
          "heatmap": [
           {
            "colorbar": {
             "outlinewidth": 0,
             "ticks": ""
            },
            "colorscale": [
             [
              0,
              "#0d0887"
             ],
             [
              0.1111111111111111,
              "#46039f"
             ],
             [
              0.2222222222222222,
              "#7201a8"
             ],
             [
              0.3333333333333333,
              "#9c179e"
             ],
             [
              0.4444444444444444,
              "#bd3786"
             ],
             [
              0.5555555555555556,
              "#d8576b"
             ],
             [
              0.6666666666666666,
              "#ed7953"
             ],
             [
              0.7777777777777778,
              "#fb9f3a"
             ],
             [
              0.8888888888888888,
              "#fdca26"
             ],
             [
              1,
              "#f0f921"
             ]
            ],
            "type": "heatmap"
           }
          ],
          "heatmapgl": [
           {
            "colorbar": {
             "outlinewidth": 0,
             "ticks": ""
            },
            "colorscale": [
             [
              0,
              "#0d0887"
             ],
             [
              0.1111111111111111,
              "#46039f"
             ],
             [
              0.2222222222222222,
              "#7201a8"
             ],
             [
              0.3333333333333333,
              "#9c179e"
             ],
             [
              0.4444444444444444,
              "#bd3786"
             ],
             [
              0.5555555555555556,
              "#d8576b"
             ],
             [
              0.6666666666666666,
              "#ed7953"
             ],
             [
              0.7777777777777778,
              "#fb9f3a"
             ],
             [
              0.8888888888888888,
              "#fdca26"
             ],
             [
              1,
              "#f0f921"
             ]
            ],
            "type": "heatmapgl"
           }
          ],
          "histogram": [
           {
            "marker": {
             "pattern": {
              "fillmode": "overlay",
              "size": 10,
              "solidity": 0.2
             }
            },
            "type": "histogram"
           }
          ],
          "histogram2d": [
           {
            "colorbar": {
             "outlinewidth": 0,
             "ticks": ""
            },
            "colorscale": [
             [
              0,
              "#0d0887"
             ],
             [
              0.1111111111111111,
              "#46039f"
             ],
             [
              0.2222222222222222,
              "#7201a8"
             ],
             [
              0.3333333333333333,
              "#9c179e"
             ],
             [
              0.4444444444444444,
              "#bd3786"
             ],
             [
              0.5555555555555556,
              "#d8576b"
             ],
             [
              0.6666666666666666,
              "#ed7953"
             ],
             [
              0.7777777777777778,
              "#fb9f3a"
             ],
             [
              0.8888888888888888,
              "#fdca26"
             ],
             [
              1,
              "#f0f921"
             ]
            ],
            "type": "histogram2d"
           }
          ],
          "histogram2dcontour": [
           {
            "colorbar": {
             "outlinewidth": 0,
             "ticks": ""
            },
            "colorscale": [
             [
              0,
              "#0d0887"
             ],
             [
              0.1111111111111111,
              "#46039f"
             ],
             [
              0.2222222222222222,
              "#7201a8"
             ],
             [
              0.3333333333333333,
              "#9c179e"
             ],
             [
              0.4444444444444444,
              "#bd3786"
             ],
             [
              0.5555555555555556,
              "#d8576b"
             ],
             [
              0.6666666666666666,
              "#ed7953"
             ],
             [
              0.7777777777777778,
              "#fb9f3a"
             ],
             [
              0.8888888888888888,
              "#fdca26"
             ],
             [
              1,
              "#f0f921"
             ]
            ],
            "type": "histogram2dcontour"
           }
          ],
          "mesh3d": [
           {
            "colorbar": {
             "outlinewidth": 0,
             "ticks": ""
            },
            "type": "mesh3d"
           }
          ],
          "parcoords": [
           {
            "line": {
             "colorbar": {
              "outlinewidth": 0,
              "ticks": ""
             }
            },
            "type": "parcoords"
           }
          ],
          "pie": [
           {
            "automargin": true,
            "type": "pie"
           }
          ],
          "scatter": [
           {
            "fillpattern": {
             "fillmode": "overlay",
             "size": 10,
             "solidity": 0.2
            },
            "type": "scatter"
           }
          ],
          "scatter3d": [
           {
            "line": {
             "colorbar": {
              "outlinewidth": 0,
              "ticks": ""
             }
            },
            "marker": {
             "colorbar": {
              "outlinewidth": 0,
              "ticks": ""
             }
            },
            "type": "scatter3d"
           }
          ],
          "scattercarpet": [
           {
            "marker": {
             "colorbar": {
              "outlinewidth": 0,
              "ticks": ""
             }
            },
            "type": "scattercarpet"
           }
          ],
          "scattergeo": [
           {
            "marker": {
             "colorbar": {
              "outlinewidth": 0,
              "ticks": ""
             }
            },
            "type": "scattergeo"
           }
          ],
          "scattergl": [
           {
            "marker": {
             "colorbar": {
              "outlinewidth": 0,
              "ticks": ""
             }
            },
            "type": "scattergl"
           }
          ],
          "scattermapbox": [
           {
            "marker": {
             "colorbar": {
              "outlinewidth": 0,
              "ticks": ""
             }
            },
            "type": "scattermapbox"
           }
          ],
          "scatterpolar": [
           {
            "marker": {
             "colorbar": {
              "outlinewidth": 0,
              "ticks": ""
             }
            },
            "type": "scatterpolar"
           }
          ],
          "scatterpolargl": [
           {
            "marker": {
             "colorbar": {
              "outlinewidth": 0,
              "ticks": ""
             }
            },
            "type": "scatterpolargl"
           }
          ],
          "scatterternary": [
           {
            "marker": {
             "colorbar": {
              "outlinewidth": 0,
              "ticks": ""
             }
            },
            "type": "scatterternary"
           }
          ],
          "surface": [
           {
            "colorbar": {
             "outlinewidth": 0,
             "ticks": ""
            },
            "colorscale": [
             [
              0,
              "#0d0887"
             ],
             [
              0.1111111111111111,
              "#46039f"
             ],
             [
              0.2222222222222222,
              "#7201a8"
             ],
             [
              0.3333333333333333,
              "#9c179e"
             ],
             [
              0.4444444444444444,
              "#bd3786"
             ],
             [
              0.5555555555555556,
              "#d8576b"
             ],
             [
              0.6666666666666666,
              "#ed7953"
             ],
             [
              0.7777777777777778,
              "#fb9f3a"
             ],
             [
              0.8888888888888888,
              "#fdca26"
             ],
             [
              1,
              "#f0f921"
             ]
            ],
            "type": "surface"
           }
          ],
          "table": [
           {
            "cells": {
             "fill": {
              "color": "#EBF0F8"
             },
             "line": {
              "color": "white"
             }
            },
            "header": {
             "fill": {
              "color": "#C8D4E3"
             },
             "line": {
              "color": "white"
             }
            },
            "type": "table"
           }
          ]
         },
         "layout": {
          "annotationdefaults": {
           "arrowcolor": "#2a3f5f",
           "arrowhead": 0,
           "arrowwidth": 1
          },
          "autotypenumbers": "strict",
          "coloraxis": {
           "colorbar": {
            "outlinewidth": 0,
            "ticks": ""
           }
          },
          "colorscale": {
           "diverging": [
            [
             0,
             "#8e0152"
            ],
            [
             0.1,
             "#c51b7d"
            ],
            [
             0.2,
             "#de77ae"
            ],
            [
             0.3,
             "#f1b6da"
            ],
            [
             0.4,
             "#fde0ef"
            ],
            [
             0.5,
             "#f7f7f7"
            ],
            [
             0.6,
             "#e6f5d0"
            ],
            [
             0.7,
             "#b8e186"
            ],
            [
             0.8,
             "#7fbc41"
            ],
            [
             0.9,
             "#4d9221"
            ],
            [
             1,
             "#276419"
            ]
           ],
           "sequential": [
            [
             0,
             "#0d0887"
            ],
            [
             0.1111111111111111,
             "#46039f"
            ],
            [
             0.2222222222222222,
             "#7201a8"
            ],
            [
             0.3333333333333333,
             "#9c179e"
            ],
            [
             0.4444444444444444,
             "#bd3786"
            ],
            [
             0.5555555555555556,
             "#d8576b"
            ],
            [
             0.6666666666666666,
             "#ed7953"
            ],
            [
             0.7777777777777778,
             "#fb9f3a"
            ],
            [
             0.8888888888888888,
             "#fdca26"
            ],
            [
             1,
             "#f0f921"
            ]
           ],
           "sequentialminus": [
            [
             0,
             "#0d0887"
            ],
            [
             0.1111111111111111,
             "#46039f"
            ],
            [
             0.2222222222222222,
             "#7201a8"
            ],
            [
             0.3333333333333333,
             "#9c179e"
            ],
            [
             0.4444444444444444,
             "#bd3786"
            ],
            [
             0.5555555555555556,
             "#d8576b"
            ],
            [
             0.6666666666666666,
             "#ed7953"
            ],
            [
             0.7777777777777778,
             "#fb9f3a"
            ],
            [
             0.8888888888888888,
             "#fdca26"
            ],
            [
             1,
             "#f0f921"
            ]
           ]
          },
          "colorway": [
           "#636efa",
           "#EF553B",
           "#00cc96",
           "#ab63fa",
           "#FFA15A",
           "#19d3f3",
           "#FF6692",
           "#B6E880",
           "#FF97FF",
           "#FECB52"
          ],
          "font": {
           "color": "#2a3f5f"
          },
          "geo": {
           "bgcolor": "white",
           "lakecolor": "white",
           "landcolor": "#E5ECF6",
           "showlakes": true,
           "showland": true,
           "subunitcolor": "white"
          },
          "hoverlabel": {
           "align": "left"
          },
          "hovermode": "closest",
          "mapbox": {
           "style": "light"
          },
          "paper_bgcolor": "white",
          "plot_bgcolor": "#E5ECF6",
          "polar": {
           "angularaxis": {
            "gridcolor": "white",
            "linecolor": "white",
            "ticks": ""
           },
           "bgcolor": "#E5ECF6",
           "radialaxis": {
            "gridcolor": "white",
            "linecolor": "white",
            "ticks": ""
           }
          },
          "scene": {
           "xaxis": {
            "backgroundcolor": "#E5ECF6",
            "gridcolor": "white",
            "gridwidth": 2,
            "linecolor": "white",
            "showbackground": true,
            "ticks": "",
            "zerolinecolor": "white"
           },
           "yaxis": {
            "backgroundcolor": "#E5ECF6",
            "gridcolor": "white",
            "gridwidth": 2,
            "linecolor": "white",
            "showbackground": true,
            "ticks": "",
            "zerolinecolor": "white"
           },
           "zaxis": {
            "backgroundcolor": "#E5ECF6",
            "gridcolor": "white",
            "gridwidth": 2,
            "linecolor": "white",
            "showbackground": true,
            "ticks": "",
            "zerolinecolor": "white"
           }
          },
          "shapedefaults": {
           "line": {
            "color": "#2a3f5f"
           }
          },
          "ternary": {
           "aaxis": {
            "gridcolor": "white",
            "linecolor": "white",
            "ticks": ""
           },
           "baxis": {
            "gridcolor": "white",
            "linecolor": "white",
            "ticks": ""
           },
           "bgcolor": "#E5ECF6",
           "caxis": {
            "gridcolor": "white",
            "linecolor": "white",
            "ticks": ""
           }
          },
          "title": {
           "x": 0.05
          },
          "xaxis": {
           "automargin": true,
           "gridcolor": "white",
           "linecolor": "white",
           "ticks": "",
           "title": {
            "standoff": 15
           },
           "zerolinecolor": "white",
           "zerolinewidth": 2
          },
          "yaxis": {
           "automargin": true,
           "gridcolor": "white",
           "linecolor": "white",
           "ticks": "",
           "title": {
            "standoff": 15
           },
           "zerolinecolor": "white",
           "zerolinewidth": 2
          }
         }
        },
        "title": {
         "text": "Athletes, Events, and Sports Over the Years with 2024 Forecast"
        },
        "xaxis": {
         "title": {
          "text": "Year"
         }
        },
        "yaxis": {
         "title": {
          "text": "Count"
         }
        }
       }
      }
     },
     "metadata": {},
     "output_type": "display_data"
    }
   ],
   "source": [
    "# Create traces for each plot\n",
    "fig1 = go.Figure()\n",
    "fig1.add_trace(go.Scatter(x=usa_data.index, y=usa_data['Total_Medals'], mode='lines+markers', name='Total Medals'))\n",
    "fig1.add_trace(go.Scatter(x=forecast_df.index, y=forecast_df['Total_Medals'], mode='lines+markers', name='Total Medals'))\n",
    "fig1.add_trace(go.Scatter(x=[forecast_df.index[-1]], y=[forecast_df['Total_Medals'].iloc[-1]], mode='markers', name='2024 Forecast', marker=dict(color='red', size=14)))\n",
    "fig1.update_layout(title='Total Medals Over the Years with 2024 Forecast',\n",
    "                   xaxis_title='Year',\n",
    "                   yaxis_title='Total Medals')\n",
    "fig1.show()\n",
    "\n",
    "fig2 = go.Figure()\n",
    "fig2.add_trace(go.Scatter(x=usa_data.index, y=usa_data['Gold'], mode='lines+markers', name='Gold Medals', line=dict(color='gold')))\n",
    "fig2.add_trace(go.Scatter(x=usa_data.index, y=usa_data['Silver'], mode='lines+markers', name='Silver Medals', line=dict(color='silver')))\n",
    "fig2.add_trace(go.Scatter(x=usa_data.index, y=usa_data['Bronze'], mode='lines+markers', name='Bronze Medals', line=dict(color='#CD7F32')))\n",
    "fig2.add_trace(go.Scatter(x=forecast_df.index, y=forecast_df['Gold'], mode='lines+markers', name='Gold Medals', line=dict(color='gold')))\n",
    "fig2.add_trace(go.Scatter(x=forecast_df.index, y=forecast_df['Silver'], mode='lines+markers', name='Silver Medals', line=dict(color='silver')))\n",
    "fig2.add_trace(go.Scatter(x=forecast_df.index, y=forecast_df['Bronze'], mode='lines+markers', name='Bronze Medals', line=dict(color='#CD7F32')))\n",
    "fig2.add_trace(go.Scatter(x=[forecast_df.index[-1]], y=[forecast_df['Gold'].iloc[-1]], mode='markers', name='Gold 2024 Forecast', marker=dict(color='gold', size=14)))\n",
    "fig2.add_trace(go.Scatter(x=[forecast_df.index[-1]], y=[forecast_df['Silver'].iloc[-1]], mode='markers', name='Silver 2024 Forecast', marker=dict(color='silver', size=14)))\n",
    "fig2.add_trace(go.Scatter(x=[forecast_df.index[-1]], y=[forecast_df['Bronze'].iloc[-1]], mode='markers', name='Bronze 2024 Forecast', marker=dict(color='#CD7F32', size=14)))\n",
    "fig2.update_layout(title='Medals (Gold, Silver, Bronze) Over the Years with 2024 Forecast',\n",
    "                   xaxis_title='Year',\n",
    "                   yaxis_title='Number of Medals')\n",
    "fig2.show()\n",
    "\n",
    "fig3 = go.Figure()\n",
    "fig3.add_trace(go.Scatter(x=usa_data.index, y=usa_data['Athletes'], mode='lines+markers', name='Athletes'))\n",
    "fig3.add_trace(go.Scatter(x=usa_data.index, y=usa_data['Events'], mode='lines+markers', name='Events'))\n",
    "fig3.add_trace(go.Scatter(x=usa_data.index, y=usa_data['Sports'], mode='lines+markers', name='Sports'))\n",
    "fig3.add_trace(go.Scatter(x=forecast_df.index, y=forecast_df['Athletes'], mode='lines+markers', name='Athletes'))\n",
    "fig3.add_trace(go.Scatter(x=forecast_df.index, y=forecast_df['Events'], mode='lines+markers', name='Events'))\n",
    "fig3.add_trace(go.Scatter(x=forecast_df.index, y=forecast_df['Sports'], mode='lines+markers', name='Sports'))\n",
    "fig3.add_trace(go.Scatter(x=[forecast_df.index[-1]], y=[forecast_df['Athletes'].iloc[-1]], mode='markers', name='Athletes 2024 Forecast', marker=dict(color='blue', size=14)))\n",
    "fig3.add_trace(go.Scatter(x=[forecast_df.index[-1]], y=[forecast_df['Events'].iloc[-1]], mode='markers', name='Events 2024 Forecast', marker=dict(color='green', size=14)))\n",
    "fig3.add_trace(go.Scatter(x=[forecast_df.index[-1]], y=[forecast_df['Sports'].iloc[-1]], mode='markers', name='Sports 2024 Forecast', marker=dict(color='orange', size=14)))\n",
    "fig3.update_layout(title='Athletes, Events, and Sports Over the Years with 2024 Forecast',\n",
    "                   xaxis_title='Year',\n",
    "                   yaxis_title='Count')\n",
    "fig3.show()\n"
   ]
  },
  {
   "cell_type": "code",
   "execution_count": 129,
   "metadata": {},
   "outputs": [
    {
     "data": {
      "application/vnd.plotly.v1+json": {
       "config": {
        "plotlyServerURL": "https://plot.ly"
       },
       "data": [
        {
         "mode": "lines+markers",
         "name": "Men",
         "type": "scatter",
         "x": [
          "1960-01-01T00:00:00",
          "1964-01-01T00:00:00",
          "1968-01-01T00:00:00",
          "1972-01-01T00:00:00",
          "1976-01-01T00:00:00",
          "1980-01-01T00:00:00",
          "1984-01-01T00:00:00",
          "1988-01-01T00:00:00",
          "1992-01-01T00:00:00",
          "1994-01-01T00:00:00",
          "1996-01-01T00:00:00",
          "1998-01-01T00:00:00",
          "2000-01-01T00:00:00",
          "2002-01-01T00:00:00",
          "2004-01-01T00:00:00",
          "2006-01-01T00:00:00",
          "2008-01-01T00:00:00",
          "2010-01-01T00:00:00",
          "2012-01-01T00:00:00",
          "2014-01-01T00:00:00",
          "2016-01-01T00:00:00"
         ],
         "y": [
          361,
          452,
          480,
          521,
          446,
          103,
          538,
          549,
          594,
          144,
          434,
          157,
          423,
          178,
          385,
          187,
          390,
          196,
          346,
          209,
          349
         ]
        },
        {
         "mode": "lines+markers",
         "name": "Women",
         "type": "scatter",
         "x": [
          "1960-01-01T00:00:00",
          "1964-01-01T00:00:00",
          "1968-01-01T00:00:00",
          "1972-01-01T00:00:00",
          "1976-01-01T00:00:00",
          "1980-01-01T00:00:00",
          "1984-01-01T00:00:00",
          "1988-01-01T00:00:00",
          "1992-01-01T00:00:00",
          "1994-01-01T00:00:00",
          "1996-01-01T00:00:00",
          "1998-01-01T00:00:00",
          "2000-01-01T00:00:00",
          "2002-01-01T00:00:00",
          "2004-01-01T00:00:00",
          "2006-01-01T00:00:00",
          "2008-01-01T00:00:00",
          "2010-01-01T00:00:00",
          "2012-01-01T00:00:00",
          "2014-01-01T00:00:00",
          "2016-01-01T00:00:00"
         ],
         "y": [
          113,
          167,
          184,
          198,
          214,
          41,
          304,
          347,
          361,
          88,
          308,
          126,
          336,
          133,
          338,
          137,
          366,
          145,
          343,
          158,
          369
         ]
        },
        {
         "mode": "lines+markers",
         "name": "Men",
         "type": "scatter",
         "x": [
          "2017-01-01",
          "2018-01-01",
          "2019-01-01",
          "2020-01-01",
          "2021-01-01",
          "2022-01-01",
          "2023-01-01",
          "2024-01-01"
         ],
         "y": [
          299.4965013405008,
          361.46892845059585,
          230.7014459581644,
          303.57790825468817,
          250.7512705620327,
          330.6215743046224,
          251.52656337218878,
          310.59328901149263
         ]
        },
        {
         "mode": "lines+markers",
         "name": "Women",
         "type": "scatter",
         "x": [
          "2017-01-01",
          "2018-01-01",
          "2019-01-01",
          "2020-01-01",
          "2021-01-01",
          "2022-01-01",
          "2023-01-01",
          "2024-01-01"
         ],
         "y": [
          200.468187490496,
          376.54295619374426,
          180.625398970255,
          329.53343570616573,
          204.72677956188363,
          337.0764678442663,
          214.96577948870402,
          318.50818822052804
         ]
        },
        {
         "marker": {
          "color": "blue",
          "size": 14
         },
         "mode": "markers",
         "name": "Men 2024 Forecast",
         "type": "scatter",
         "x": [
          "2024-01-01"
         ],
         "y": [
          310.59328901149263
         ]
        },
        {
         "marker": {
          "color": "magenta",
          "size": 14
         },
         "mode": "markers",
         "name": "Women 2024 Forecast",
         "type": "scatter",
         "x": [
          "2024-01-01"
         ],
         "y": [
          318.50818822052804
         ]
        }
       ],
       "layout": {
        "template": {
         "data": {
          "bar": [
           {
            "error_x": {
             "color": "#2a3f5f"
            },
            "error_y": {
             "color": "#2a3f5f"
            },
            "marker": {
             "line": {
              "color": "#E5ECF6",
              "width": 0.5
             },
             "pattern": {
              "fillmode": "overlay",
              "size": 10,
              "solidity": 0.2
             }
            },
            "type": "bar"
           }
          ],
          "barpolar": [
           {
            "marker": {
             "line": {
              "color": "#E5ECF6",
              "width": 0.5
             },
             "pattern": {
              "fillmode": "overlay",
              "size": 10,
              "solidity": 0.2
             }
            },
            "type": "barpolar"
           }
          ],
          "carpet": [
           {
            "aaxis": {
             "endlinecolor": "#2a3f5f",
             "gridcolor": "white",
             "linecolor": "white",
             "minorgridcolor": "white",
             "startlinecolor": "#2a3f5f"
            },
            "baxis": {
             "endlinecolor": "#2a3f5f",
             "gridcolor": "white",
             "linecolor": "white",
             "minorgridcolor": "white",
             "startlinecolor": "#2a3f5f"
            },
            "type": "carpet"
           }
          ],
          "choropleth": [
           {
            "colorbar": {
             "outlinewidth": 0,
             "ticks": ""
            },
            "type": "choropleth"
           }
          ],
          "contour": [
           {
            "colorbar": {
             "outlinewidth": 0,
             "ticks": ""
            },
            "colorscale": [
             [
              0,
              "#0d0887"
             ],
             [
              0.1111111111111111,
              "#46039f"
             ],
             [
              0.2222222222222222,
              "#7201a8"
             ],
             [
              0.3333333333333333,
              "#9c179e"
             ],
             [
              0.4444444444444444,
              "#bd3786"
             ],
             [
              0.5555555555555556,
              "#d8576b"
             ],
             [
              0.6666666666666666,
              "#ed7953"
             ],
             [
              0.7777777777777778,
              "#fb9f3a"
             ],
             [
              0.8888888888888888,
              "#fdca26"
             ],
             [
              1,
              "#f0f921"
             ]
            ],
            "type": "contour"
           }
          ],
          "contourcarpet": [
           {
            "colorbar": {
             "outlinewidth": 0,
             "ticks": ""
            },
            "type": "contourcarpet"
           }
          ],
          "heatmap": [
           {
            "colorbar": {
             "outlinewidth": 0,
             "ticks": ""
            },
            "colorscale": [
             [
              0,
              "#0d0887"
             ],
             [
              0.1111111111111111,
              "#46039f"
             ],
             [
              0.2222222222222222,
              "#7201a8"
             ],
             [
              0.3333333333333333,
              "#9c179e"
             ],
             [
              0.4444444444444444,
              "#bd3786"
             ],
             [
              0.5555555555555556,
              "#d8576b"
             ],
             [
              0.6666666666666666,
              "#ed7953"
             ],
             [
              0.7777777777777778,
              "#fb9f3a"
             ],
             [
              0.8888888888888888,
              "#fdca26"
             ],
             [
              1,
              "#f0f921"
             ]
            ],
            "type": "heatmap"
           }
          ],
          "heatmapgl": [
           {
            "colorbar": {
             "outlinewidth": 0,
             "ticks": ""
            },
            "colorscale": [
             [
              0,
              "#0d0887"
             ],
             [
              0.1111111111111111,
              "#46039f"
             ],
             [
              0.2222222222222222,
              "#7201a8"
             ],
             [
              0.3333333333333333,
              "#9c179e"
             ],
             [
              0.4444444444444444,
              "#bd3786"
             ],
             [
              0.5555555555555556,
              "#d8576b"
             ],
             [
              0.6666666666666666,
              "#ed7953"
             ],
             [
              0.7777777777777778,
              "#fb9f3a"
             ],
             [
              0.8888888888888888,
              "#fdca26"
             ],
             [
              1,
              "#f0f921"
             ]
            ],
            "type": "heatmapgl"
           }
          ],
          "histogram": [
           {
            "marker": {
             "pattern": {
              "fillmode": "overlay",
              "size": 10,
              "solidity": 0.2
             }
            },
            "type": "histogram"
           }
          ],
          "histogram2d": [
           {
            "colorbar": {
             "outlinewidth": 0,
             "ticks": ""
            },
            "colorscale": [
             [
              0,
              "#0d0887"
             ],
             [
              0.1111111111111111,
              "#46039f"
             ],
             [
              0.2222222222222222,
              "#7201a8"
             ],
             [
              0.3333333333333333,
              "#9c179e"
             ],
             [
              0.4444444444444444,
              "#bd3786"
             ],
             [
              0.5555555555555556,
              "#d8576b"
             ],
             [
              0.6666666666666666,
              "#ed7953"
             ],
             [
              0.7777777777777778,
              "#fb9f3a"
             ],
             [
              0.8888888888888888,
              "#fdca26"
             ],
             [
              1,
              "#f0f921"
             ]
            ],
            "type": "histogram2d"
           }
          ],
          "histogram2dcontour": [
           {
            "colorbar": {
             "outlinewidth": 0,
             "ticks": ""
            },
            "colorscale": [
             [
              0,
              "#0d0887"
             ],
             [
              0.1111111111111111,
              "#46039f"
             ],
             [
              0.2222222222222222,
              "#7201a8"
             ],
             [
              0.3333333333333333,
              "#9c179e"
             ],
             [
              0.4444444444444444,
              "#bd3786"
             ],
             [
              0.5555555555555556,
              "#d8576b"
             ],
             [
              0.6666666666666666,
              "#ed7953"
             ],
             [
              0.7777777777777778,
              "#fb9f3a"
             ],
             [
              0.8888888888888888,
              "#fdca26"
             ],
             [
              1,
              "#f0f921"
             ]
            ],
            "type": "histogram2dcontour"
           }
          ],
          "mesh3d": [
           {
            "colorbar": {
             "outlinewidth": 0,
             "ticks": ""
            },
            "type": "mesh3d"
           }
          ],
          "parcoords": [
           {
            "line": {
             "colorbar": {
              "outlinewidth": 0,
              "ticks": ""
             }
            },
            "type": "parcoords"
           }
          ],
          "pie": [
           {
            "automargin": true,
            "type": "pie"
           }
          ],
          "scatter": [
           {
            "fillpattern": {
             "fillmode": "overlay",
             "size": 10,
             "solidity": 0.2
            },
            "type": "scatter"
           }
          ],
          "scatter3d": [
           {
            "line": {
             "colorbar": {
              "outlinewidth": 0,
              "ticks": ""
             }
            },
            "marker": {
             "colorbar": {
              "outlinewidth": 0,
              "ticks": ""
             }
            },
            "type": "scatter3d"
           }
          ],
          "scattercarpet": [
           {
            "marker": {
             "colorbar": {
              "outlinewidth": 0,
              "ticks": ""
             }
            },
            "type": "scattercarpet"
           }
          ],
          "scattergeo": [
           {
            "marker": {
             "colorbar": {
              "outlinewidth": 0,
              "ticks": ""
             }
            },
            "type": "scattergeo"
           }
          ],
          "scattergl": [
           {
            "marker": {
             "colorbar": {
              "outlinewidth": 0,
              "ticks": ""
             }
            },
            "type": "scattergl"
           }
          ],
          "scattermapbox": [
           {
            "marker": {
             "colorbar": {
              "outlinewidth": 0,
              "ticks": ""
             }
            },
            "type": "scattermapbox"
           }
          ],
          "scatterpolar": [
           {
            "marker": {
             "colorbar": {
              "outlinewidth": 0,
              "ticks": ""
             }
            },
            "type": "scatterpolar"
           }
          ],
          "scatterpolargl": [
           {
            "marker": {
             "colorbar": {
              "outlinewidth": 0,
              "ticks": ""
             }
            },
            "type": "scatterpolargl"
           }
          ],
          "scatterternary": [
           {
            "marker": {
             "colorbar": {
              "outlinewidth": 0,
              "ticks": ""
             }
            },
            "type": "scatterternary"
           }
          ],
          "surface": [
           {
            "colorbar": {
             "outlinewidth": 0,
             "ticks": ""
            },
            "colorscale": [
             [
              0,
              "#0d0887"
             ],
             [
              0.1111111111111111,
              "#46039f"
             ],
             [
              0.2222222222222222,
              "#7201a8"
             ],
             [
              0.3333333333333333,
              "#9c179e"
             ],
             [
              0.4444444444444444,
              "#bd3786"
             ],
             [
              0.5555555555555556,
              "#d8576b"
             ],
             [
              0.6666666666666666,
              "#ed7953"
             ],
             [
              0.7777777777777778,
              "#fb9f3a"
             ],
             [
              0.8888888888888888,
              "#fdca26"
             ],
             [
              1,
              "#f0f921"
             ]
            ],
            "type": "surface"
           }
          ],
          "table": [
           {
            "cells": {
             "fill": {
              "color": "#EBF0F8"
             },
             "line": {
              "color": "white"
             }
            },
            "header": {
             "fill": {
              "color": "#C8D4E3"
             },
             "line": {
              "color": "white"
             }
            },
            "type": "table"
           }
          ]
         },
         "layout": {
          "annotationdefaults": {
           "arrowcolor": "#2a3f5f",
           "arrowhead": 0,
           "arrowwidth": 1
          },
          "autotypenumbers": "strict",
          "coloraxis": {
           "colorbar": {
            "outlinewidth": 0,
            "ticks": ""
           }
          },
          "colorscale": {
           "diverging": [
            [
             0,
             "#8e0152"
            ],
            [
             0.1,
             "#c51b7d"
            ],
            [
             0.2,
             "#de77ae"
            ],
            [
             0.3,
             "#f1b6da"
            ],
            [
             0.4,
             "#fde0ef"
            ],
            [
             0.5,
             "#f7f7f7"
            ],
            [
             0.6,
             "#e6f5d0"
            ],
            [
             0.7,
             "#b8e186"
            ],
            [
             0.8,
             "#7fbc41"
            ],
            [
             0.9,
             "#4d9221"
            ],
            [
             1,
             "#276419"
            ]
           ],
           "sequential": [
            [
             0,
             "#0d0887"
            ],
            [
             0.1111111111111111,
             "#46039f"
            ],
            [
             0.2222222222222222,
             "#7201a8"
            ],
            [
             0.3333333333333333,
             "#9c179e"
            ],
            [
             0.4444444444444444,
             "#bd3786"
            ],
            [
             0.5555555555555556,
             "#d8576b"
            ],
            [
             0.6666666666666666,
             "#ed7953"
            ],
            [
             0.7777777777777778,
             "#fb9f3a"
            ],
            [
             0.8888888888888888,
             "#fdca26"
            ],
            [
             1,
             "#f0f921"
            ]
           ],
           "sequentialminus": [
            [
             0,
             "#0d0887"
            ],
            [
             0.1111111111111111,
             "#46039f"
            ],
            [
             0.2222222222222222,
             "#7201a8"
            ],
            [
             0.3333333333333333,
             "#9c179e"
            ],
            [
             0.4444444444444444,
             "#bd3786"
            ],
            [
             0.5555555555555556,
             "#d8576b"
            ],
            [
             0.6666666666666666,
             "#ed7953"
            ],
            [
             0.7777777777777778,
             "#fb9f3a"
            ],
            [
             0.8888888888888888,
             "#fdca26"
            ],
            [
             1,
             "#f0f921"
            ]
           ]
          },
          "colorway": [
           "#636efa",
           "#EF553B",
           "#00cc96",
           "#ab63fa",
           "#FFA15A",
           "#19d3f3",
           "#FF6692",
           "#B6E880",
           "#FF97FF",
           "#FECB52"
          ],
          "font": {
           "color": "#2a3f5f"
          },
          "geo": {
           "bgcolor": "white",
           "lakecolor": "white",
           "landcolor": "#E5ECF6",
           "showlakes": true,
           "showland": true,
           "subunitcolor": "white"
          },
          "hoverlabel": {
           "align": "left"
          },
          "hovermode": "closest",
          "mapbox": {
           "style": "light"
          },
          "paper_bgcolor": "white",
          "plot_bgcolor": "#E5ECF6",
          "polar": {
           "angularaxis": {
            "gridcolor": "white",
            "linecolor": "white",
            "ticks": ""
           },
           "bgcolor": "#E5ECF6",
           "radialaxis": {
            "gridcolor": "white",
            "linecolor": "white",
            "ticks": ""
           }
          },
          "scene": {
           "xaxis": {
            "backgroundcolor": "#E5ECF6",
            "gridcolor": "white",
            "gridwidth": 2,
            "linecolor": "white",
            "showbackground": true,
            "ticks": "",
            "zerolinecolor": "white"
           },
           "yaxis": {
            "backgroundcolor": "#E5ECF6",
            "gridcolor": "white",
            "gridwidth": 2,
            "linecolor": "white",
            "showbackground": true,
            "ticks": "",
            "zerolinecolor": "white"
           },
           "zaxis": {
            "backgroundcolor": "#E5ECF6",
            "gridcolor": "white",
            "gridwidth": 2,
            "linecolor": "white",
            "showbackground": true,
            "ticks": "",
            "zerolinecolor": "white"
           }
          },
          "shapedefaults": {
           "line": {
            "color": "#2a3f5f"
           }
          },
          "ternary": {
           "aaxis": {
            "gridcolor": "white",
            "linecolor": "white",
            "ticks": ""
           },
           "baxis": {
            "gridcolor": "white",
            "linecolor": "white",
            "ticks": ""
           },
           "bgcolor": "#E5ECF6",
           "caxis": {
            "gridcolor": "white",
            "linecolor": "white",
            "ticks": ""
           }
          },
          "title": {
           "x": 0.05
          },
          "xaxis": {
           "automargin": true,
           "gridcolor": "white",
           "linecolor": "white",
           "ticks": "",
           "title": {
            "standoff": 15
           },
           "zerolinecolor": "white",
           "zerolinewidth": 2
          },
          "yaxis": {
           "automargin": true,
           "gridcolor": "white",
           "linecolor": "white",
           "ticks": "",
           "title": {
            "standoff": 15
           },
           "zerolinecolor": "white",
           "zerolinewidth": 2
          }
         }
        },
        "title": {
         "text": "Men and Women Over the Years with 2024 Forecast"
        },
        "xaxis": {
         "title": {
          "text": "Year"
         }
        },
        "yaxis": {
         "title": {
          "text": "Count"
         }
        }
       }
      }
     },
     "metadata": {},
     "output_type": "display_data"
    }
   ],
   "source": [
    "fig4 = go.Figure()\n",
    "fig4.add_trace(go.Scatter(x=usa_data.index, y=usa_data['Men'], mode='lines+markers', name='Men'))\n",
    "fig4.add_trace(go.Scatter(x=usa_data.index, y=usa_data['Women'], mode='lines+markers', name='Women'))\n",
    "fig4.add_trace(go.Scatter(x=forecast_df.index, y=forecast_df['Men'], mode='lines+markers', name='Men'))\n",
    "fig4.add_trace(go.Scatter(x=forecast_df.index, y=forecast_df['Women'], mode='lines+markers', name='Women'))\n",
    "fig4.add_trace(go.Scatter(x=[forecast_df.index[-1]], y=[forecast_df['Men'].iloc[-1]], mode='markers', name='Men 2024 Forecast', marker=dict(color='blue', size=14)))\n",
    "fig4.add_trace(go.Scatter(x=[forecast_df.index[-1]], y=[forecast_df['Women'].iloc[-1]], mode='markers', name='Women 2024 Forecast', marker=dict(color='magenta', size=14)))\n",
    "fig4.update_layout(title='Men and Women Over the Years with 2024 Forecast',\n",
    "                   xaxis_title='Year',\n",
    "                   yaxis_title='Count')\n",
    "fig4.show()"
   ]
  },
  {
   "cell_type": "code",
   "execution_count": 139,
   "metadata": {},
   "outputs": [],
   "source": [
    "data = forecast_df.iloc[-1]"
   ]
  },
  {
   "cell_type": "code",
   "execution_count": 140,
   "metadata": {},
   "outputs": [],
   "source": [
    "medals_data = {\n",
    "    'Gold': data['Gold'],\n",
    "    'Silver': data['Silver'],\n",
    "    'Bronze': data['Bronze'],\n",
    "    'Total_Medals': data['Total_Medals']\n",
    "}"
   ]
  },
  {
   "cell_type": "code",
   "execution_count": 142,
   "metadata": {},
   "outputs": [
    {
     "data": {
      "application/vnd.plotly.v1+json": {
       "config": {
        "plotlyServerURL": "https://plot.ly"
       },
       "data": [
        {
         "branchvalues": "total",
         "labels": [
          "Total Medals",
          "Gold",
          "Silver",
          "Bronze"
         ],
         "marker": {
          "colors": [
           "#FFD700",
           "#C0C0C0",
           "#CD7F32"
          ]
         },
         "parents": [
          "",
          "Total Medals",
          "Total Medals",
          "Total Medals"
         ],
         "type": "sunburst",
         "values": [
          220.41357905168206,
          102.02335386869765,
          64.17454820234366,
          54.215676980640595
         ]
        }
       ],
       "layout": {
        "template": {
         "data": {
          "bar": [
           {
            "error_x": {
             "color": "#2a3f5f"
            },
            "error_y": {
             "color": "#2a3f5f"
            },
            "marker": {
             "line": {
              "color": "white",
              "width": 0.5
             },
             "pattern": {
              "fillmode": "overlay",
              "size": 10,
              "solidity": 0.2
             }
            },
            "type": "bar"
           }
          ],
          "barpolar": [
           {
            "marker": {
             "line": {
              "color": "white",
              "width": 0.5
             },
             "pattern": {
              "fillmode": "overlay",
              "size": 10,
              "solidity": 0.2
             }
            },
            "type": "barpolar"
           }
          ],
          "carpet": [
           {
            "aaxis": {
             "endlinecolor": "#2a3f5f",
             "gridcolor": "#C8D4E3",
             "linecolor": "#C8D4E3",
             "minorgridcolor": "#C8D4E3",
             "startlinecolor": "#2a3f5f"
            },
            "baxis": {
             "endlinecolor": "#2a3f5f",
             "gridcolor": "#C8D4E3",
             "linecolor": "#C8D4E3",
             "minorgridcolor": "#C8D4E3",
             "startlinecolor": "#2a3f5f"
            },
            "type": "carpet"
           }
          ],
          "choropleth": [
           {
            "colorbar": {
             "outlinewidth": 0,
             "ticks": ""
            },
            "type": "choropleth"
           }
          ],
          "contour": [
           {
            "colorbar": {
             "outlinewidth": 0,
             "ticks": ""
            },
            "colorscale": [
             [
              0,
              "#0d0887"
             ],
             [
              0.1111111111111111,
              "#46039f"
             ],
             [
              0.2222222222222222,
              "#7201a8"
             ],
             [
              0.3333333333333333,
              "#9c179e"
             ],
             [
              0.4444444444444444,
              "#bd3786"
             ],
             [
              0.5555555555555556,
              "#d8576b"
             ],
             [
              0.6666666666666666,
              "#ed7953"
             ],
             [
              0.7777777777777778,
              "#fb9f3a"
             ],
             [
              0.8888888888888888,
              "#fdca26"
             ],
             [
              1,
              "#f0f921"
             ]
            ],
            "type": "contour"
           }
          ],
          "contourcarpet": [
           {
            "colorbar": {
             "outlinewidth": 0,
             "ticks": ""
            },
            "type": "contourcarpet"
           }
          ],
          "heatmap": [
           {
            "colorbar": {
             "outlinewidth": 0,
             "ticks": ""
            },
            "colorscale": [
             [
              0,
              "#0d0887"
             ],
             [
              0.1111111111111111,
              "#46039f"
             ],
             [
              0.2222222222222222,
              "#7201a8"
             ],
             [
              0.3333333333333333,
              "#9c179e"
             ],
             [
              0.4444444444444444,
              "#bd3786"
             ],
             [
              0.5555555555555556,
              "#d8576b"
             ],
             [
              0.6666666666666666,
              "#ed7953"
             ],
             [
              0.7777777777777778,
              "#fb9f3a"
             ],
             [
              0.8888888888888888,
              "#fdca26"
             ],
             [
              1,
              "#f0f921"
             ]
            ],
            "type": "heatmap"
           }
          ],
          "heatmapgl": [
           {
            "colorbar": {
             "outlinewidth": 0,
             "ticks": ""
            },
            "colorscale": [
             [
              0,
              "#0d0887"
             ],
             [
              0.1111111111111111,
              "#46039f"
             ],
             [
              0.2222222222222222,
              "#7201a8"
             ],
             [
              0.3333333333333333,
              "#9c179e"
             ],
             [
              0.4444444444444444,
              "#bd3786"
             ],
             [
              0.5555555555555556,
              "#d8576b"
             ],
             [
              0.6666666666666666,
              "#ed7953"
             ],
             [
              0.7777777777777778,
              "#fb9f3a"
             ],
             [
              0.8888888888888888,
              "#fdca26"
             ],
             [
              1,
              "#f0f921"
             ]
            ],
            "type": "heatmapgl"
           }
          ],
          "histogram": [
           {
            "marker": {
             "pattern": {
              "fillmode": "overlay",
              "size": 10,
              "solidity": 0.2
             }
            },
            "type": "histogram"
           }
          ],
          "histogram2d": [
           {
            "colorbar": {
             "outlinewidth": 0,
             "ticks": ""
            },
            "colorscale": [
             [
              0,
              "#0d0887"
             ],
             [
              0.1111111111111111,
              "#46039f"
             ],
             [
              0.2222222222222222,
              "#7201a8"
             ],
             [
              0.3333333333333333,
              "#9c179e"
             ],
             [
              0.4444444444444444,
              "#bd3786"
             ],
             [
              0.5555555555555556,
              "#d8576b"
             ],
             [
              0.6666666666666666,
              "#ed7953"
             ],
             [
              0.7777777777777778,
              "#fb9f3a"
             ],
             [
              0.8888888888888888,
              "#fdca26"
             ],
             [
              1,
              "#f0f921"
             ]
            ],
            "type": "histogram2d"
           }
          ],
          "histogram2dcontour": [
           {
            "colorbar": {
             "outlinewidth": 0,
             "ticks": ""
            },
            "colorscale": [
             [
              0,
              "#0d0887"
             ],
             [
              0.1111111111111111,
              "#46039f"
             ],
             [
              0.2222222222222222,
              "#7201a8"
             ],
             [
              0.3333333333333333,
              "#9c179e"
             ],
             [
              0.4444444444444444,
              "#bd3786"
             ],
             [
              0.5555555555555556,
              "#d8576b"
             ],
             [
              0.6666666666666666,
              "#ed7953"
             ],
             [
              0.7777777777777778,
              "#fb9f3a"
             ],
             [
              0.8888888888888888,
              "#fdca26"
             ],
             [
              1,
              "#f0f921"
             ]
            ],
            "type": "histogram2dcontour"
           }
          ],
          "mesh3d": [
           {
            "colorbar": {
             "outlinewidth": 0,
             "ticks": ""
            },
            "type": "mesh3d"
           }
          ],
          "parcoords": [
           {
            "line": {
             "colorbar": {
              "outlinewidth": 0,
              "ticks": ""
             }
            },
            "type": "parcoords"
           }
          ],
          "pie": [
           {
            "automargin": true,
            "type": "pie"
           }
          ],
          "scatter": [
           {
            "fillpattern": {
             "fillmode": "overlay",
             "size": 10,
             "solidity": 0.2
            },
            "type": "scatter"
           }
          ],
          "scatter3d": [
           {
            "line": {
             "colorbar": {
              "outlinewidth": 0,
              "ticks": ""
             }
            },
            "marker": {
             "colorbar": {
              "outlinewidth": 0,
              "ticks": ""
             }
            },
            "type": "scatter3d"
           }
          ],
          "scattercarpet": [
           {
            "marker": {
             "colorbar": {
              "outlinewidth": 0,
              "ticks": ""
             }
            },
            "type": "scattercarpet"
           }
          ],
          "scattergeo": [
           {
            "marker": {
             "colorbar": {
              "outlinewidth": 0,
              "ticks": ""
             }
            },
            "type": "scattergeo"
           }
          ],
          "scattergl": [
           {
            "marker": {
             "colorbar": {
              "outlinewidth": 0,
              "ticks": ""
             }
            },
            "type": "scattergl"
           }
          ],
          "scattermapbox": [
           {
            "marker": {
             "colorbar": {
              "outlinewidth": 0,
              "ticks": ""
             }
            },
            "type": "scattermapbox"
           }
          ],
          "scatterpolar": [
           {
            "marker": {
             "colorbar": {
              "outlinewidth": 0,
              "ticks": ""
             }
            },
            "type": "scatterpolar"
           }
          ],
          "scatterpolargl": [
           {
            "marker": {
             "colorbar": {
              "outlinewidth": 0,
              "ticks": ""
             }
            },
            "type": "scatterpolargl"
           }
          ],
          "scatterternary": [
           {
            "marker": {
             "colorbar": {
              "outlinewidth": 0,
              "ticks": ""
             }
            },
            "type": "scatterternary"
           }
          ],
          "surface": [
           {
            "colorbar": {
             "outlinewidth": 0,
             "ticks": ""
            },
            "colorscale": [
             [
              0,
              "#0d0887"
             ],
             [
              0.1111111111111111,
              "#46039f"
             ],
             [
              0.2222222222222222,
              "#7201a8"
             ],
             [
              0.3333333333333333,
              "#9c179e"
             ],
             [
              0.4444444444444444,
              "#bd3786"
             ],
             [
              0.5555555555555556,
              "#d8576b"
             ],
             [
              0.6666666666666666,
              "#ed7953"
             ],
             [
              0.7777777777777778,
              "#fb9f3a"
             ],
             [
              0.8888888888888888,
              "#fdca26"
             ],
             [
              1,
              "#f0f921"
             ]
            ],
            "type": "surface"
           }
          ],
          "table": [
           {
            "cells": {
             "fill": {
              "color": "#EBF0F8"
             },
             "line": {
              "color": "white"
             }
            },
            "header": {
             "fill": {
              "color": "#C8D4E3"
             },
             "line": {
              "color": "white"
             }
            },
            "type": "table"
           }
          ]
         },
         "layout": {
          "annotationdefaults": {
           "arrowcolor": "#2a3f5f",
           "arrowhead": 0,
           "arrowwidth": 1
          },
          "autotypenumbers": "strict",
          "coloraxis": {
           "colorbar": {
            "outlinewidth": 0,
            "ticks": ""
           }
          },
          "colorscale": {
           "diverging": [
            [
             0,
             "#8e0152"
            ],
            [
             0.1,
             "#c51b7d"
            ],
            [
             0.2,
             "#de77ae"
            ],
            [
             0.3,
             "#f1b6da"
            ],
            [
             0.4,
             "#fde0ef"
            ],
            [
             0.5,
             "#f7f7f7"
            ],
            [
             0.6,
             "#e6f5d0"
            ],
            [
             0.7,
             "#b8e186"
            ],
            [
             0.8,
             "#7fbc41"
            ],
            [
             0.9,
             "#4d9221"
            ],
            [
             1,
             "#276419"
            ]
           ],
           "sequential": [
            [
             0,
             "#0d0887"
            ],
            [
             0.1111111111111111,
             "#46039f"
            ],
            [
             0.2222222222222222,
             "#7201a8"
            ],
            [
             0.3333333333333333,
             "#9c179e"
            ],
            [
             0.4444444444444444,
             "#bd3786"
            ],
            [
             0.5555555555555556,
             "#d8576b"
            ],
            [
             0.6666666666666666,
             "#ed7953"
            ],
            [
             0.7777777777777778,
             "#fb9f3a"
            ],
            [
             0.8888888888888888,
             "#fdca26"
            ],
            [
             1,
             "#f0f921"
            ]
           ],
           "sequentialminus": [
            [
             0,
             "#0d0887"
            ],
            [
             0.1111111111111111,
             "#46039f"
            ],
            [
             0.2222222222222222,
             "#7201a8"
            ],
            [
             0.3333333333333333,
             "#9c179e"
            ],
            [
             0.4444444444444444,
             "#bd3786"
            ],
            [
             0.5555555555555556,
             "#d8576b"
            ],
            [
             0.6666666666666666,
             "#ed7953"
            ],
            [
             0.7777777777777778,
             "#fb9f3a"
            ],
            [
             0.8888888888888888,
             "#fdca26"
            ],
            [
             1,
             "#f0f921"
            ]
           ]
          },
          "colorway": [
           "#636efa",
           "#EF553B",
           "#00cc96",
           "#ab63fa",
           "#FFA15A",
           "#19d3f3",
           "#FF6692",
           "#B6E880",
           "#FF97FF",
           "#FECB52"
          ],
          "font": {
           "color": "#2a3f5f"
          },
          "geo": {
           "bgcolor": "white",
           "lakecolor": "white",
           "landcolor": "white",
           "showlakes": true,
           "showland": true,
           "subunitcolor": "#C8D4E3"
          },
          "hoverlabel": {
           "align": "left"
          },
          "hovermode": "closest",
          "mapbox": {
           "style": "light"
          },
          "paper_bgcolor": "white",
          "plot_bgcolor": "white",
          "polar": {
           "angularaxis": {
            "gridcolor": "#EBF0F8",
            "linecolor": "#EBF0F8",
            "ticks": ""
           },
           "bgcolor": "white",
           "radialaxis": {
            "gridcolor": "#EBF0F8",
            "linecolor": "#EBF0F8",
            "ticks": ""
           }
          },
          "scene": {
           "xaxis": {
            "backgroundcolor": "white",
            "gridcolor": "#DFE8F3",
            "gridwidth": 2,
            "linecolor": "#EBF0F8",
            "showbackground": true,
            "ticks": "",
            "zerolinecolor": "#EBF0F8"
           },
           "yaxis": {
            "backgroundcolor": "white",
            "gridcolor": "#DFE8F3",
            "gridwidth": 2,
            "linecolor": "#EBF0F8",
            "showbackground": true,
            "ticks": "",
            "zerolinecolor": "#EBF0F8"
           },
           "zaxis": {
            "backgroundcolor": "white",
            "gridcolor": "#DFE8F3",
            "gridwidth": 2,
            "linecolor": "#EBF0F8",
            "showbackground": true,
            "ticks": "",
            "zerolinecolor": "#EBF0F8"
           }
          },
          "shapedefaults": {
           "line": {
            "color": "#2a3f5f"
           }
          },
          "ternary": {
           "aaxis": {
            "gridcolor": "#DFE8F3",
            "linecolor": "#A2B1C6",
            "ticks": ""
           },
           "baxis": {
            "gridcolor": "#DFE8F3",
            "linecolor": "#A2B1C6",
            "ticks": ""
           },
           "bgcolor": "white",
           "caxis": {
            "gridcolor": "#DFE8F3",
            "linecolor": "#A2B1C6",
            "ticks": ""
           }
          },
          "title": {
           "x": 0.05
          },
          "xaxis": {
           "automargin": true,
           "gridcolor": "#EBF0F8",
           "linecolor": "#EBF0F8",
           "ticks": "",
           "title": {
            "standoff": 15
           },
           "zerolinecolor": "#EBF0F8",
           "zerolinewidth": 2
          },
          "yaxis": {
           "automargin": true,
           "gridcolor": "#EBF0F8",
           "linecolor": "#EBF0F8",
           "ticks": "",
           "title": {
            "standoff": 15
           },
           "zerolinecolor": "#EBF0F8",
           "zerolinewidth": 2
          }
         }
        },
        "title": {
         "text": "Medal Composition for USA"
        }
       }
      }
     },
     "metadata": {},
     "output_type": "display_data"
    }
   ],
   "source": [
    "fig = go.Figure(go.Sunburst(\n",
    "    labels=[\"Total Medals\", \"Gold\", \"Silver\", \"Bronze\"],\n",
    "    parents=[\"\", \"Total Medals\", \"Total Medals\", \"Total Medals\"],\n",
    "    values=[medals_data['Total_Medals'], medals_data['Gold'], medals_data['Silver'], medals_data['Bronze']],\n",
    "    branchvalues=\"total\",\n",
    "    marker=dict(colors=[\"#FFD700\", \"#C0C0C0\", \"#CD7F32\"]),\n",
    "))\n",
    "\n",
    "fig.update_layout(\n",
    "    title=f\"Medal Composition for USA\",\n",
    "    template=\"plotly_white\"\n",
    ")\n",
    "\n",
    "fig.show()"
   ]
  },
  {
   "cell_type": "markdown",
   "metadata": {},
   "source": [
    "## Validation"
   ]
  },
  {
   "cell_type": "code",
   "execution_count": 79,
   "metadata": {},
   "outputs": [],
   "source": [
    "medal_2021 = pd.read_excel('../data/2021/Medals.xlsx', engine='openpyxl')"
   ]
  },
  {
   "cell_type": "code",
   "execution_count": 80,
   "metadata": {},
   "outputs": [],
   "source": [
    "medal_2021_usa = medal_2021[medal_2021['Team/NOC'] == 'United States of America']"
   ]
  },
  {
   "cell_type": "code",
   "execution_count": 81,
   "metadata": {},
   "outputs": [
    {
     "data": {
      "text/html": [
       "<div>\n",
       "<style scoped>\n",
       "    .dataframe tbody tr th:only-of-type {\n",
       "        vertical-align: middle;\n",
       "    }\n",
       "\n",
       "    .dataframe tbody tr th {\n",
       "        vertical-align: top;\n",
       "    }\n",
       "\n",
       "    .dataframe thead th {\n",
       "        text-align: right;\n",
       "    }\n",
       "</style>\n",
       "<table border=\"1\" class=\"dataframe\">\n",
       "  <thead>\n",
       "    <tr style=\"text-align: right;\">\n",
       "      <th></th>\n",
       "      <th>Rank</th>\n",
       "      <th>Team/NOC</th>\n",
       "      <th>Gold</th>\n",
       "      <th>Silver</th>\n",
       "      <th>Bronze</th>\n",
       "      <th>Total</th>\n",
       "      <th>Rank by Total</th>\n",
       "    </tr>\n",
       "  </thead>\n",
       "  <tbody>\n",
       "    <tr>\n",
       "      <th>0</th>\n",
       "      <td>1</td>\n",
       "      <td>United States of America</td>\n",
       "      <td>39</td>\n",
       "      <td>41</td>\n",
       "      <td>33</td>\n",
       "      <td>113</td>\n",
       "      <td>1</td>\n",
       "    </tr>\n",
       "  </tbody>\n",
       "</table>\n",
       "</div>"
      ],
      "text/plain": [
       "   Rank                  Team/NOC  Gold  Silver  Bronze  Total  Rank by Total\n",
       "0     1  United States of America    39      41      33    113              1"
      ]
     },
     "execution_count": 81,
     "metadata": {},
     "output_type": "execute_result"
    }
   ],
   "source": [
    "medal_2021_usa"
   ]
  },
  {
   "cell_type": "code",
   "execution_count": 82,
   "metadata": {},
   "outputs": [
    {
     "data": {
      "application/vnd.plotly.v1+json": {
       "config": {
        "plotlyServerURL": "https://plot.ly"
       },
       "data": [
        {
         "mode": "lines+markers",
         "name": "Total Medals",
         "type": "scatter",
         "x": [
          "1960-01-01T00:00:00",
          "1964-01-01T00:00:00",
          "1968-01-01T00:00:00",
          "1972-01-01T00:00:00",
          "1976-01-01T00:00:00",
          "1980-01-01T00:00:00",
          "1984-01-01T00:00:00",
          "1988-01-01T00:00:00",
          "1992-01-01T00:00:00",
          "1994-01-01T00:00:00",
          "1996-01-01T00:00:00",
          "1998-01-01T00:00:00",
          "2000-01-01T00:00:00",
          "2002-01-01T00:00:00",
          "2004-01-01T00:00:00",
          "2006-01-01T00:00:00",
          "2008-01-01T00:00:00",
          "2010-01-01T00:00:00",
          "2012-01-01T00:00:00",
          "2014-01-01T00:00:00",
          "2016-01-01T00:00:00"
         ],
         "y": [
          143,
          177,
          173,
          195,
          174,
          29,
          361,
          214,
          237,
          19,
          241,
          34,
          241,
          83,
          262,
          52,
          316,
          97,
          248,
          64,
          263
         ]
        },
        {
         "mode": "lines+markers",
         "name": "Total Medals",
         "type": "scatter",
         "x": [
          "2017-01-01",
          "2018-01-01",
          "2019-01-01",
          "2020-01-01",
          "2021-01-01",
          "2022-01-01",
          "2023-01-01",
          "2024-01-01"
         ],
         "y": [
          118.38657789549245,
          257.4800358085054,
          85.19143192838794,
          237.3904088609131,
          120.02814552837583,
          235.38417369025507,
          119.393471438441,
          220.41357905168206
         ]
        },
        {
         "marker": {
          "color": "red",
          "size": 14
         },
         "mode": "markers",
         "name": "2021 Actual",
         "type": "scatter",
         "x": [
          "2021"
         ],
         "y": [
          113
         ]
        }
       ],
       "layout": {
        "template": {
         "data": {
          "bar": [
           {
            "error_x": {
             "color": "#2a3f5f"
            },
            "error_y": {
             "color": "#2a3f5f"
            },
            "marker": {
             "line": {
              "color": "#E5ECF6",
              "width": 0.5
             },
             "pattern": {
              "fillmode": "overlay",
              "size": 10,
              "solidity": 0.2
             }
            },
            "type": "bar"
           }
          ],
          "barpolar": [
           {
            "marker": {
             "line": {
              "color": "#E5ECF6",
              "width": 0.5
             },
             "pattern": {
              "fillmode": "overlay",
              "size": 10,
              "solidity": 0.2
             }
            },
            "type": "barpolar"
           }
          ],
          "carpet": [
           {
            "aaxis": {
             "endlinecolor": "#2a3f5f",
             "gridcolor": "white",
             "linecolor": "white",
             "minorgridcolor": "white",
             "startlinecolor": "#2a3f5f"
            },
            "baxis": {
             "endlinecolor": "#2a3f5f",
             "gridcolor": "white",
             "linecolor": "white",
             "minorgridcolor": "white",
             "startlinecolor": "#2a3f5f"
            },
            "type": "carpet"
           }
          ],
          "choropleth": [
           {
            "colorbar": {
             "outlinewidth": 0,
             "ticks": ""
            },
            "type": "choropleth"
           }
          ],
          "contour": [
           {
            "colorbar": {
             "outlinewidth": 0,
             "ticks": ""
            },
            "colorscale": [
             [
              0,
              "#0d0887"
             ],
             [
              0.1111111111111111,
              "#46039f"
             ],
             [
              0.2222222222222222,
              "#7201a8"
             ],
             [
              0.3333333333333333,
              "#9c179e"
             ],
             [
              0.4444444444444444,
              "#bd3786"
             ],
             [
              0.5555555555555556,
              "#d8576b"
             ],
             [
              0.6666666666666666,
              "#ed7953"
             ],
             [
              0.7777777777777778,
              "#fb9f3a"
             ],
             [
              0.8888888888888888,
              "#fdca26"
             ],
             [
              1,
              "#f0f921"
             ]
            ],
            "type": "contour"
           }
          ],
          "contourcarpet": [
           {
            "colorbar": {
             "outlinewidth": 0,
             "ticks": ""
            },
            "type": "contourcarpet"
           }
          ],
          "heatmap": [
           {
            "colorbar": {
             "outlinewidth": 0,
             "ticks": ""
            },
            "colorscale": [
             [
              0,
              "#0d0887"
             ],
             [
              0.1111111111111111,
              "#46039f"
             ],
             [
              0.2222222222222222,
              "#7201a8"
             ],
             [
              0.3333333333333333,
              "#9c179e"
             ],
             [
              0.4444444444444444,
              "#bd3786"
             ],
             [
              0.5555555555555556,
              "#d8576b"
             ],
             [
              0.6666666666666666,
              "#ed7953"
             ],
             [
              0.7777777777777778,
              "#fb9f3a"
             ],
             [
              0.8888888888888888,
              "#fdca26"
             ],
             [
              1,
              "#f0f921"
             ]
            ],
            "type": "heatmap"
           }
          ],
          "heatmapgl": [
           {
            "colorbar": {
             "outlinewidth": 0,
             "ticks": ""
            },
            "colorscale": [
             [
              0,
              "#0d0887"
             ],
             [
              0.1111111111111111,
              "#46039f"
             ],
             [
              0.2222222222222222,
              "#7201a8"
             ],
             [
              0.3333333333333333,
              "#9c179e"
             ],
             [
              0.4444444444444444,
              "#bd3786"
             ],
             [
              0.5555555555555556,
              "#d8576b"
             ],
             [
              0.6666666666666666,
              "#ed7953"
             ],
             [
              0.7777777777777778,
              "#fb9f3a"
             ],
             [
              0.8888888888888888,
              "#fdca26"
             ],
             [
              1,
              "#f0f921"
             ]
            ],
            "type": "heatmapgl"
           }
          ],
          "histogram": [
           {
            "marker": {
             "pattern": {
              "fillmode": "overlay",
              "size": 10,
              "solidity": 0.2
             }
            },
            "type": "histogram"
           }
          ],
          "histogram2d": [
           {
            "colorbar": {
             "outlinewidth": 0,
             "ticks": ""
            },
            "colorscale": [
             [
              0,
              "#0d0887"
             ],
             [
              0.1111111111111111,
              "#46039f"
             ],
             [
              0.2222222222222222,
              "#7201a8"
             ],
             [
              0.3333333333333333,
              "#9c179e"
             ],
             [
              0.4444444444444444,
              "#bd3786"
             ],
             [
              0.5555555555555556,
              "#d8576b"
             ],
             [
              0.6666666666666666,
              "#ed7953"
             ],
             [
              0.7777777777777778,
              "#fb9f3a"
             ],
             [
              0.8888888888888888,
              "#fdca26"
             ],
             [
              1,
              "#f0f921"
             ]
            ],
            "type": "histogram2d"
           }
          ],
          "histogram2dcontour": [
           {
            "colorbar": {
             "outlinewidth": 0,
             "ticks": ""
            },
            "colorscale": [
             [
              0,
              "#0d0887"
             ],
             [
              0.1111111111111111,
              "#46039f"
             ],
             [
              0.2222222222222222,
              "#7201a8"
             ],
             [
              0.3333333333333333,
              "#9c179e"
             ],
             [
              0.4444444444444444,
              "#bd3786"
             ],
             [
              0.5555555555555556,
              "#d8576b"
             ],
             [
              0.6666666666666666,
              "#ed7953"
             ],
             [
              0.7777777777777778,
              "#fb9f3a"
             ],
             [
              0.8888888888888888,
              "#fdca26"
             ],
             [
              1,
              "#f0f921"
             ]
            ],
            "type": "histogram2dcontour"
           }
          ],
          "mesh3d": [
           {
            "colorbar": {
             "outlinewidth": 0,
             "ticks": ""
            },
            "type": "mesh3d"
           }
          ],
          "parcoords": [
           {
            "line": {
             "colorbar": {
              "outlinewidth": 0,
              "ticks": ""
             }
            },
            "type": "parcoords"
           }
          ],
          "pie": [
           {
            "automargin": true,
            "type": "pie"
           }
          ],
          "scatter": [
           {
            "fillpattern": {
             "fillmode": "overlay",
             "size": 10,
             "solidity": 0.2
            },
            "type": "scatter"
           }
          ],
          "scatter3d": [
           {
            "line": {
             "colorbar": {
              "outlinewidth": 0,
              "ticks": ""
             }
            },
            "marker": {
             "colorbar": {
              "outlinewidth": 0,
              "ticks": ""
             }
            },
            "type": "scatter3d"
           }
          ],
          "scattercarpet": [
           {
            "marker": {
             "colorbar": {
              "outlinewidth": 0,
              "ticks": ""
             }
            },
            "type": "scattercarpet"
           }
          ],
          "scattergeo": [
           {
            "marker": {
             "colorbar": {
              "outlinewidth": 0,
              "ticks": ""
             }
            },
            "type": "scattergeo"
           }
          ],
          "scattergl": [
           {
            "marker": {
             "colorbar": {
              "outlinewidth": 0,
              "ticks": ""
             }
            },
            "type": "scattergl"
           }
          ],
          "scattermapbox": [
           {
            "marker": {
             "colorbar": {
              "outlinewidth": 0,
              "ticks": ""
             }
            },
            "type": "scattermapbox"
           }
          ],
          "scatterpolar": [
           {
            "marker": {
             "colorbar": {
              "outlinewidth": 0,
              "ticks": ""
             }
            },
            "type": "scatterpolar"
           }
          ],
          "scatterpolargl": [
           {
            "marker": {
             "colorbar": {
              "outlinewidth": 0,
              "ticks": ""
             }
            },
            "type": "scatterpolargl"
           }
          ],
          "scatterternary": [
           {
            "marker": {
             "colorbar": {
              "outlinewidth": 0,
              "ticks": ""
             }
            },
            "type": "scatterternary"
           }
          ],
          "surface": [
           {
            "colorbar": {
             "outlinewidth": 0,
             "ticks": ""
            },
            "colorscale": [
             [
              0,
              "#0d0887"
             ],
             [
              0.1111111111111111,
              "#46039f"
             ],
             [
              0.2222222222222222,
              "#7201a8"
             ],
             [
              0.3333333333333333,
              "#9c179e"
             ],
             [
              0.4444444444444444,
              "#bd3786"
             ],
             [
              0.5555555555555556,
              "#d8576b"
             ],
             [
              0.6666666666666666,
              "#ed7953"
             ],
             [
              0.7777777777777778,
              "#fb9f3a"
             ],
             [
              0.8888888888888888,
              "#fdca26"
             ],
             [
              1,
              "#f0f921"
             ]
            ],
            "type": "surface"
           }
          ],
          "table": [
           {
            "cells": {
             "fill": {
              "color": "#EBF0F8"
             },
             "line": {
              "color": "white"
             }
            },
            "header": {
             "fill": {
              "color": "#C8D4E3"
             },
             "line": {
              "color": "white"
             }
            },
            "type": "table"
           }
          ]
         },
         "layout": {
          "annotationdefaults": {
           "arrowcolor": "#2a3f5f",
           "arrowhead": 0,
           "arrowwidth": 1
          },
          "autotypenumbers": "strict",
          "coloraxis": {
           "colorbar": {
            "outlinewidth": 0,
            "ticks": ""
           }
          },
          "colorscale": {
           "diverging": [
            [
             0,
             "#8e0152"
            ],
            [
             0.1,
             "#c51b7d"
            ],
            [
             0.2,
             "#de77ae"
            ],
            [
             0.3,
             "#f1b6da"
            ],
            [
             0.4,
             "#fde0ef"
            ],
            [
             0.5,
             "#f7f7f7"
            ],
            [
             0.6,
             "#e6f5d0"
            ],
            [
             0.7,
             "#b8e186"
            ],
            [
             0.8,
             "#7fbc41"
            ],
            [
             0.9,
             "#4d9221"
            ],
            [
             1,
             "#276419"
            ]
           ],
           "sequential": [
            [
             0,
             "#0d0887"
            ],
            [
             0.1111111111111111,
             "#46039f"
            ],
            [
             0.2222222222222222,
             "#7201a8"
            ],
            [
             0.3333333333333333,
             "#9c179e"
            ],
            [
             0.4444444444444444,
             "#bd3786"
            ],
            [
             0.5555555555555556,
             "#d8576b"
            ],
            [
             0.6666666666666666,
             "#ed7953"
            ],
            [
             0.7777777777777778,
             "#fb9f3a"
            ],
            [
             0.8888888888888888,
             "#fdca26"
            ],
            [
             1,
             "#f0f921"
            ]
           ],
           "sequentialminus": [
            [
             0,
             "#0d0887"
            ],
            [
             0.1111111111111111,
             "#46039f"
            ],
            [
             0.2222222222222222,
             "#7201a8"
            ],
            [
             0.3333333333333333,
             "#9c179e"
            ],
            [
             0.4444444444444444,
             "#bd3786"
            ],
            [
             0.5555555555555556,
             "#d8576b"
            ],
            [
             0.6666666666666666,
             "#ed7953"
            ],
            [
             0.7777777777777778,
             "#fb9f3a"
            ],
            [
             0.8888888888888888,
             "#fdca26"
            ],
            [
             1,
             "#f0f921"
            ]
           ]
          },
          "colorway": [
           "#636efa",
           "#EF553B",
           "#00cc96",
           "#ab63fa",
           "#FFA15A",
           "#19d3f3",
           "#FF6692",
           "#B6E880",
           "#FF97FF",
           "#FECB52"
          ],
          "font": {
           "color": "#2a3f5f"
          },
          "geo": {
           "bgcolor": "white",
           "lakecolor": "white",
           "landcolor": "#E5ECF6",
           "showlakes": true,
           "showland": true,
           "subunitcolor": "white"
          },
          "hoverlabel": {
           "align": "left"
          },
          "hovermode": "closest",
          "mapbox": {
           "style": "light"
          },
          "paper_bgcolor": "white",
          "plot_bgcolor": "#E5ECF6",
          "polar": {
           "angularaxis": {
            "gridcolor": "white",
            "linecolor": "white",
            "ticks": ""
           },
           "bgcolor": "#E5ECF6",
           "radialaxis": {
            "gridcolor": "white",
            "linecolor": "white",
            "ticks": ""
           }
          },
          "scene": {
           "xaxis": {
            "backgroundcolor": "#E5ECF6",
            "gridcolor": "white",
            "gridwidth": 2,
            "linecolor": "white",
            "showbackground": true,
            "ticks": "",
            "zerolinecolor": "white"
           },
           "yaxis": {
            "backgroundcolor": "#E5ECF6",
            "gridcolor": "white",
            "gridwidth": 2,
            "linecolor": "white",
            "showbackground": true,
            "ticks": "",
            "zerolinecolor": "white"
           },
           "zaxis": {
            "backgroundcolor": "#E5ECF6",
            "gridcolor": "white",
            "gridwidth": 2,
            "linecolor": "white",
            "showbackground": true,
            "ticks": "",
            "zerolinecolor": "white"
           }
          },
          "shapedefaults": {
           "line": {
            "color": "#2a3f5f"
           }
          },
          "ternary": {
           "aaxis": {
            "gridcolor": "white",
            "linecolor": "white",
            "ticks": ""
           },
           "baxis": {
            "gridcolor": "white",
            "linecolor": "white",
            "ticks": ""
           },
           "bgcolor": "#E5ECF6",
           "caxis": {
            "gridcolor": "white",
            "linecolor": "white",
            "ticks": ""
           }
          },
          "title": {
           "x": 0.05
          },
          "xaxis": {
           "automargin": true,
           "gridcolor": "white",
           "linecolor": "white",
           "ticks": "",
           "title": {
            "standoff": 15
           },
           "zerolinecolor": "white",
           "zerolinewidth": 2
          },
          "yaxis": {
           "automargin": true,
           "gridcolor": "white",
           "linecolor": "white",
           "ticks": "",
           "title": {
            "standoff": 15
           },
           "zerolinecolor": "white",
           "zerolinewidth": 2
          }
         }
        },
        "title": {
         "text": "Total Medals Over the Years with 2024 Forecast"
        },
        "xaxis": {
         "title": {
          "text": "Year"
         }
        },
        "yaxis": {
         "title": {
          "text": "Total Medals"
         }
        }
       }
      }
     },
     "metadata": {},
     "output_type": "display_data"
    }
   ],
   "source": [
    "fig1 = go.Figure()\n",
    "fig1.add_trace(go.Scatter(x=usa_data.index, y=usa_data['Total_Medals'], mode='lines+markers', name='Total Medals'))\n",
    "fig1.add_trace(go.Scatter(x=forecast_df.index, y=forecast_df['Total_Medals'], mode='lines+markers', name='Total Medals'))\n",
    "fig1.add_trace(go.Scatter(x=['2021'], y=medal_2021_usa['Total'], mode='markers', name='2021 Actual', marker=dict(color='red', size=14)))\n",
    "fig1.update_layout(title='Total Medals Over the Years with 2024 Forecast',\n",
    "                   xaxis_title='Year',\n",
    "                   yaxis_title='Total Medals')\n",
    "fig1.show()\n"
   ]
  },
  {
   "cell_type": "code",
   "execution_count": 83,
   "metadata": {},
   "outputs": [
    {
     "data": {
      "application/vnd.plotly.v1+json": {
       "config": {
        "plotlyServerURL": "https://plot.ly"
       },
       "data": [
        {
         "line": {
          "color": "gold"
         },
         "mode": "lines+markers",
         "name": "Gold Medals",
         "type": "scatter",
         "x": [
          "1960-01-01T00:00:00",
          "1964-01-01T00:00:00",
          "1968-01-01T00:00:00",
          "1972-01-01T00:00:00",
          "1976-01-01T00:00:00",
          "1980-01-01T00:00:00",
          "1984-01-01T00:00:00",
          "1988-01-01T00:00:00",
          "1992-01-01T00:00:00",
          "1994-01-01T00:00:00",
          "1996-01-01T00:00:00",
          "1998-01-01T00:00:00",
          "2000-01-01T00:00:00",
          "2002-01-01T00:00:00",
          "2004-01-01T00:00:00",
          "2006-01-01T00:00:00",
          "2008-01-01T00:00:00",
          "2010-01-01T00:00:00",
          "2012-01-01T00:00:00",
          "2014-01-01T00:00:00",
          "2016-01-01T00:00:00"
         ],
         "y": [
          97,
          96,
          100,
          72,
          73,
          24,
          190,
          89,
          94,
          6,
          148,
          25,
          130,
          10,
          117,
          9,
          127,
          12,
          145,
          10,
          138
         ]
        },
        {
         "line": {
          "color": "silver"
         },
         "mode": "lines+markers",
         "name": "Silver Medals",
         "type": "scatter",
         "x": [
          "1960-01-01T00:00:00",
          "1964-01-01T00:00:00",
          "1968-01-01T00:00:00",
          "1972-01-01T00:00:00",
          "1976-01-01T00:00:00",
          "1980-01-01T00:00:00",
          "1984-01-01T00:00:00",
          "1988-01-01T00:00:00",
          "1992-01-01T00:00:00",
          "1994-01-01T00:00:00",
          "1996-01-01T00:00:00",
          "1998-01-01T00:00:00",
          "2000-01-01T00:00:00",
          "2002-01-01T00:00:00",
          "2004-01-01T00:00:00",
          "2006-01-01T00:00:00",
          "2008-01-01T00:00:00",
          "2010-01-01T00:00:00",
          "2012-01-01T00:00:00",
          "2014-01-01T00:00:00",
          "2016-01-01T00:00:00"
         ],
         "y": [
          24,
          39,
          37,
          77,
          61,
          4,
          121,
          67,
          57,
          8,
          43,
          4,
          61,
          58,
          75,
          11,
          110,
          63,
          57,
          30,
          54
         ]
        },
        {
         "line": {
          "color": "#CD7F32"
         },
         "mode": "lines+markers",
         "name": "Bronze Medals",
         "type": "scatter",
         "x": [
          "1960-01-01T00:00:00",
          "1964-01-01T00:00:00",
          "1968-01-01T00:00:00",
          "1972-01-01T00:00:00",
          "1976-01-01T00:00:00",
          "1980-01-01T00:00:00",
          "1984-01-01T00:00:00",
          "1988-01-01T00:00:00",
          "1992-01-01T00:00:00",
          "1994-01-01T00:00:00",
          "1996-01-01T00:00:00",
          "1998-01-01T00:00:00",
          "2000-01-01T00:00:00",
          "2002-01-01T00:00:00",
          "2004-01-01T00:00:00",
          "2006-01-01T00:00:00",
          "2008-01-01T00:00:00",
          "2010-01-01T00:00:00",
          "2012-01-01T00:00:00",
          "2014-01-01T00:00:00",
          "2016-01-01T00:00:00"
         ],
         "y": [
          22,
          42,
          36,
          46,
          40,
          1,
          50,
          58,
          86,
          5,
          50,
          5,
          50,
          15,
          70,
          32,
          79,
          22,
          46,
          24,
          71
         ]
        },
        {
         "line": {
          "color": "gold"
         },
         "mode": "lines+markers",
         "name": "Gold Medals",
         "type": "scatter",
         "x": [
          "2017-01-01",
          "2018-01-01",
          "2019-01-01",
          "2020-01-01",
          "2021-01-01",
          "2022-01-01",
          "2023-01-01",
          "2024-01-01"
         ],
         "y": [
          32.9063132636571,
          120.3473274248162,
          19.108579838223847,
          114.3764069274101,
          39.83685013218653,
          109.82123702934334,
          39.23301763368747,
          102.02335386869765
         ]
        },
        {
         "line": {
          "color": "silver"
         },
         "mode": "lines+markers",
         "name": "Silver Medals",
         "type": "scatter",
         "x": [
          "2017-01-01",
          "2018-01-01",
          "2019-01-01",
          "2020-01-01",
          "2021-01-01",
          "2022-01-01",
          "2023-01-01",
          "2024-01-01"
         ],
         "y": [
          49.6404788661758,
          72.89176985535167,
          34.913709634474614,
          67.09708639371543,
          46.27731656028881,
          68.50518920273156,
          44.22185208700391,
          64.17454820234366
         ]
        },
        {
         "line": {
          "color": "#CD7F32"
         },
         "mode": "lines+markers",
         "name": "Bronze Medals",
         "type": "scatter",
         "x": [
          "2017-01-01",
          "2018-01-01",
          "2019-01-01",
          "2020-01-01",
          "2021-01-01",
          "2022-01-01",
          "2023-01-01",
          "2024-01-01"
         ],
         "y": [
          35.83978576565944,
          64.24093852833735,
          31.16914245568945,
          55.91691553978744,
          33.91397883590044,
          57.057747458180046,
          35.93860171774965,
          54.215676980640595
         ]
        },
        {
         "marker": {
          "color": "gold",
          "size": 14
         },
         "mode": "markers",
         "name": "Gold 2024 Forecast",
         "type": "scatter",
         "x": [
          2021
         ],
         "y": [
          39
         ]
        },
        {
         "marker": {
          "color": "silver",
          "size": 14
         },
         "mode": "markers",
         "name": "Silver 2024 Forecast",
         "type": "scatter",
         "x": [
          2021
         ],
         "y": [
          41
         ]
        },
        {
         "marker": {
          "color": "#CD7F32",
          "size": 14
         },
         "mode": "markers",
         "name": "Bronze 2024 Forecast",
         "type": "scatter",
         "x": [
          2021
         ],
         "y": [
          33
         ]
        }
       ],
       "layout": {
        "template": {
         "data": {
          "bar": [
           {
            "error_x": {
             "color": "#2a3f5f"
            },
            "error_y": {
             "color": "#2a3f5f"
            },
            "marker": {
             "line": {
              "color": "#E5ECF6",
              "width": 0.5
             },
             "pattern": {
              "fillmode": "overlay",
              "size": 10,
              "solidity": 0.2
             }
            },
            "type": "bar"
           }
          ],
          "barpolar": [
           {
            "marker": {
             "line": {
              "color": "#E5ECF6",
              "width": 0.5
             },
             "pattern": {
              "fillmode": "overlay",
              "size": 10,
              "solidity": 0.2
             }
            },
            "type": "barpolar"
           }
          ],
          "carpet": [
           {
            "aaxis": {
             "endlinecolor": "#2a3f5f",
             "gridcolor": "white",
             "linecolor": "white",
             "minorgridcolor": "white",
             "startlinecolor": "#2a3f5f"
            },
            "baxis": {
             "endlinecolor": "#2a3f5f",
             "gridcolor": "white",
             "linecolor": "white",
             "minorgridcolor": "white",
             "startlinecolor": "#2a3f5f"
            },
            "type": "carpet"
           }
          ],
          "choropleth": [
           {
            "colorbar": {
             "outlinewidth": 0,
             "ticks": ""
            },
            "type": "choropleth"
           }
          ],
          "contour": [
           {
            "colorbar": {
             "outlinewidth": 0,
             "ticks": ""
            },
            "colorscale": [
             [
              0,
              "#0d0887"
             ],
             [
              0.1111111111111111,
              "#46039f"
             ],
             [
              0.2222222222222222,
              "#7201a8"
             ],
             [
              0.3333333333333333,
              "#9c179e"
             ],
             [
              0.4444444444444444,
              "#bd3786"
             ],
             [
              0.5555555555555556,
              "#d8576b"
             ],
             [
              0.6666666666666666,
              "#ed7953"
             ],
             [
              0.7777777777777778,
              "#fb9f3a"
             ],
             [
              0.8888888888888888,
              "#fdca26"
             ],
             [
              1,
              "#f0f921"
             ]
            ],
            "type": "contour"
           }
          ],
          "contourcarpet": [
           {
            "colorbar": {
             "outlinewidth": 0,
             "ticks": ""
            },
            "type": "contourcarpet"
           }
          ],
          "heatmap": [
           {
            "colorbar": {
             "outlinewidth": 0,
             "ticks": ""
            },
            "colorscale": [
             [
              0,
              "#0d0887"
             ],
             [
              0.1111111111111111,
              "#46039f"
             ],
             [
              0.2222222222222222,
              "#7201a8"
             ],
             [
              0.3333333333333333,
              "#9c179e"
             ],
             [
              0.4444444444444444,
              "#bd3786"
             ],
             [
              0.5555555555555556,
              "#d8576b"
             ],
             [
              0.6666666666666666,
              "#ed7953"
             ],
             [
              0.7777777777777778,
              "#fb9f3a"
             ],
             [
              0.8888888888888888,
              "#fdca26"
             ],
             [
              1,
              "#f0f921"
             ]
            ],
            "type": "heatmap"
           }
          ],
          "heatmapgl": [
           {
            "colorbar": {
             "outlinewidth": 0,
             "ticks": ""
            },
            "colorscale": [
             [
              0,
              "#0d0887"
             ],
             [
              0.1111111111111111,
              "#46039f"
             ],
             [
              0.2222222222222222,
              "#7201a8"
             ],
             [
              0.3333333333333333,
              "#9c179e"
             ],
             [
              0.4444444444444444,
              "#bd3786"
             ],
             [
              0.5555555555555556,
              "#d8576b"
             ],
             [
              0.6666666666666666,
              "#ed7953"
             ],
             [
              0.7777777777777778,
              "#fb9f3a"
             ],
             [
              0.8888888888888888,
              "#fdca26"
             ],
             [
              1,
              "#f0f921"
             ]
            ],
            "type": "heatmapgl"
           }
          ],
          "histogram": [
           {
            "marker": {
             "pattern": {
              "fillmode": "overlay",
              "size": 10,
              "solidity": 0.2
             }
            },
            "type": "histogram"
           }
          ],
          "histogram2d": [
           {
            "colorbar": {
             "outlinewidth": 0,
             "ticks": ""
            },
            "colorscale": [
             [
              0,
              "#0d0887"
             ],
             [
              0.1111111111111111,
              "#46039f"
             ],
             [
              0.2222222222222222,
              "#7201a8"
             ],
             [
              0.3333333333333333,
              "#9c179e"
             ],
             [
              0.4444444444444444,
              "#bd3786"
             ],
             [
              0.5555555555555556,
              "#d8576b"
             ],
             [
              0.6666666666666666,
              "#ed7953"
             ],
             [
              0.7777777777777778,
              "#fb9f3a"
             ],
             [
              0.8888888888888888,
              "#fdca26"
             ],
             [
              1,
              "#f0f921"
             ]
            ],
            "type": "histogram2d"
           }
          ],
          "histogram2dcontour": [
           {
            "colorbar": {
             "outlinewidth": 0,
             "ticks": ""
            },
            "colorscale": [
             [
              0,
              "#0d0887"
             ],
             [
              0.1111111111111111,
              "#46039f"
             ],
             [
              0.2222222222222222,
              "#7201a8"
             ],
             [
              0.3333333333333333,
              "#9c179e"
             ],
             [
              0.4444444444444444,
              "#bd3786"
             ],
             [
              0.5555555555555556,
              "#d8576b"
             ],
             [
              0.6666666666666666,
              "#ed7953"
             ],
             [
              0.7777777777777778,
              "#fb9f3a"
             ],
             [
              0.8888888888888888,
              "#fdca26"
             ],
             [
              1,
              "#f0f921"
             ]
            ],
            "type": "histogram2dcontour"
           }
          ],
          "mesh3d": [
           {
            "colorbar": {
             "outlinewidth": 0,
             "ticks": ""
            },
            "type": "mesh3d"
           }
          ],
          "parcoords": [
           {
            "line": {
             "colorbar": {
              "outlinewidth": 0,
              "ticks": ""
             }
            },
            "type": "parcoords"
           }
          ],
          "pie": [
           {
            "automargin": true,
            "type": "pie"
           }
          ],
          "scatter": [
           {
            "fillpattern": {
             "fillmode": "overlay",
             "size": 10,
             "solidity": 0.2
            },
            "type": "scatter"
           }
          ],
          "scatter3d": [
           {
            "line": {
             "colorbar": {
              "outlinewidth": 0,
              "ticks": ""
             }
            },
            "marker": {
             "colorbar": {
              "outlinewidth": 0,
              "ticks": ""
             }
            },
            "type": "scatter3d"
           }
          ],
          "scattercarpet": [
           {
            "marker": {
             "colorbar": {
              "outlinewidth": 0,
              "ticks": ""
             }
            },
            "type": "scattercarpet"
           }
          ],
          "scattergeo": [
           {
            "marker": {
             "colorbar": {
              "outlinewidth": 0,
              "ticks": ""
             }
            },
            "type": "scattergeo"
           }
          ],
          "scattergl": [
           {
            "marker": {
             "colorbar": {
              "outlinewidth": 0,
              "ticks": ""
             }
            },
            "type": "scattergl"
           }
          ],
          "scattermapbox": [
           {
            "marker": {
             "colorbar": {
              "outlinewidth": 0,
              "ticks": ""
             }
            },
            "type": "scattermapbox"
           }
          ],
          "scatterpolar": [
           {
            "marker": {
             "colorbar": {
              "outlinewidth": 0,
              "ticks": ""
             }
            },
            "type": "scatterpolar"
           }
          ],
          "scatterpolargl": [
           {
            "marker": {
             "colorbar": {
              "outlinewidth": 0,
              "ticks": ""
             }
            },
            "type": "scatterpolargl"
           }
          ],
          "scatterternary": [
           {
            "marker": {
             "colorbar": {
              "outlinewidth": 0,
              "ticks": ""
             }
            },
            "type": "scatterternary"
           }
          ],
          "surface": [
           {
            "colorbar": {
             "outlinewidth": 0,
             "ticks": ""
            },
            "colorscale": [
             [
              0,
              "#0d0887"
             ],
             [
              0.1111111111111111,
              "#46039f"
             ],
             [
              0.2222222222222222,
              "#7201a8"
             ],
             [
              0.3333333333333333,
              "#9c179e"
             ],
             [
              0.4444444444444444,
              "#bd3786"
             ],
             [
              0.5555555555555556,
              "#d8576b"
             ],
             [
              0.6666666666666666,
              "#ed7953"
             ],
             [
              0.7777777777777778,
              "#fb9f3a"
             ],
             [
              0.8888888888888888,
              "#fdca26"
             ],
             [
              1,
              "#f0f921"
             ]
            ],
            "type": "surface"
           }
          ],
          "table": [
           {
            "cells": {
             "fill": {
              "color": "#EBF0F8"
             },
             "line": {
              "color": "white"
             }
            },
            "header": {
             "fill": {
              "color": "#C8D4E3"
             },
             "line": {
              "color": "white"
             }
            },
            "type": "table"
           }
          ]
         },
         "layout": {
          "annotationdefaults": {
           "arrowcolor": "#2a3f5f",
           "arrowhead": 0,
           "arrowwidth": 1
          },
          "autotypenumbers": "strict",
          "coloraxis": {
           "colorbar": {
            "outlinewidth": 0,
            "ticks": ""
           }
          },
          "colorscale": {
           "diverging": [
            [
             0,
             "#8e0152"
            ],
            [
             0.1,
             "#c51b7d"
            ],
            [
             0.2,
             "#de77ae"
            ],
            [
             0.3,
             "#f1b6da"
            ],
            [
             0.4,
             "#fde0ef"
            ],
            [
             0.5,
             "#f7f7f7"
            ],
            [
             0.6,
             "#e6f5d0"
            ],
            [
             0.7,
             "#b8e186"
            ],
            [
             0.8,
             "#7fbc41"
            ],
            [
             0.9,
             "#4d9221"
            ],
            [
             1,
             "#276419"
            ]
           ],
           "sequential": [
            [
             0,
             "#0d0887"
            ],
            [
             0.1111111111111111,
             "#46039f"
            ],
            [
             0.2222222222222222,
             "#7201a8"
            ],
            [
             0.3333333333333333,
             "#9c179e"
            ],
            [
             0.4444444444444444,
             "#bd3786"
            ],
            [
             0.5555555555555556,
             "#d8576b"
            ],
            [
             0.6666666666666666,
             "#ed7953"
            ],
            [
             0.7777777777777778,
             "#fb9f3a"
            ],
            [
             0.8888888888888888,
             "#fdca26"
            ],
            [
             1,
             "#f0f921"
            ]
           ],
           "sequentialminus": [
            [
             0,
             "#0d0887"
            ],
            [
             0.1111111111111111,
             "#46039f"
            ],
            [
             0.2222222222222222,
             "#7201a8"
            ],
            [
             0.3333333333333333,
             "#9c179e"
            ],
            [
             0.4444444444444444,
             "#bd3786"
            ],
            [
             0.5555555555555556,
             "#d8576b"
            ],
            [
             0.6666666666666666,
             "#ed7953"
            ],
            [
             0.7777777777777778,
             "#fb9f3a"
            ],
            [
             0.8888888888888888,
             "#fdca26"
            ],
            [
             1,
             "#f0f921"
            ]
           ]
          },
          "colorway": [
           "#636efa",
           "#EF553B",
           "#00cc96",
           "#ab63fa",
           "#FFA15A",
           "#19d3f3",
           "#FF6692",
           "#B6E880",
           "#FF97FF",
           "#FECB52"
          ],
          "font": {
           "color": "#2a3f5f"
          },
          "geo": {
           "bgcolor": "white",
           "lakecolor": "white",
           "landcolor": "#E5ECF6",
           "showlakes": true,
           "showland": true,
           "subunitcolor": "white"
          },
          "hoverlabel": {
           "align": "left"
          },
          "hovermode": "closest",
          "mapbox": {
           "style": "light"
          },
          "paper_bgcolor": "white",
          "plot_bgcolor": "#E5ECF6",
          "polar": {
           "angularaxis": {
            "gridcolor": "white",
            "linecolor": "white",
            "ticks": ""
           },
           "bgcolor": "#E5ECF6",
           "radialaxis": {
            "gridcolor": "white",
            "linecolor": "white",
            "ticks": ""
           }
          },
          "scene": {
           "xaxis": {
            "backgroundcolor": "#E5ECF6",
            "gridcolor": "white",
            "gridwidth": 2,
            "linecolor": "white",
            "showbackground": true,
            "ticks": "",
            "zerolinecolor": "white"
           },
           "yaxis": {
            "backgroundcolor": "#E5ECF6",
            "gridcolor": "white",
            "gridwidth": 2,
            "linecolor": "white",
            "showbackground": true,
            "ticks": "",
            "zerolinecolor": "white"
           },
           "zaxis": {
            "backgroundcolor": "#E5ECF6",
            "gridcolor": "white",
            "gridwidth": 2,
            "linecolor": "white",
            "showbackground": true,
            "ticks": "",
            "zerolinecolor": "white"
           }
          },
          "shapedefaults": {
           "line": {
            "color": "#2a3f5f"
           }
          },
          "ternary": {
           "aaxis": {
            "gridcolor": "white",
            "linecolor": "white",
            "ticks": ""
           },
           "baxis": {
            "gridcolor": "white",
            "linecolor": "white",
            "ticks": ""
           },
           "bgcolor": "#E5ECF6",
           "caxis": {
            "gridcolor": "white",
            "linecolor": "white",
            "ticks": ""
           }
          },
          "title": {
           "x": 0.05
          },
          "xaxis": {
           "automargin": true,
           "gridcolor": "white",
           "linecolor": "white",
           "ticks": "",
           "title": {
            "standoff": 15
           },
           "zerolinecolor": "white",
           "zerolinewidth": 2
          },
          "yaxis": {
           "automargin": true,
           "gridcolor": "white",
           "linecolor": "white",
           "ticks": "",
           "title": {
            "standoff": 15
           },
           "zerolinecolor": "white",
           "zerolinewidth": 2
          }
         }
        },
        "title": {
         "text": "Medals (Gold, Silver, Bronze) Over the Years with 2024 Forecast"
        },
        "xaxis": {
         "title": {
          "text": "Year"
         }
        },
        "yaxis": {
         "title": {
          "text": "Number of Medals"
         }
        }
       }
      }
     },
     "metadata": {},
     "output_type": "display_data"
    }
   ],
   "source": [
    "\n",
    "fig2 = go.Figure()\n",
    "fig2.add_trace(go.Scatter(x=usa_data.index, y=usa_data['Gold'], mode='lines+markers', name='Gold Medals', line=dict(color='gold')))\n",
    "fig2.add_trace(go.Scatter(x=usa_data.index, y=usa_data['Silver'], mode='lines+markers', name='Silver Medals', line=dict(color='silver')))\n",
    "fig2.add_trace(go.Scatter(x=usa_data.index, y=usa_data['Bronze'], mode='lines+markers', name='Bronze Medals', line=dict(color='#CD7F32')))\n",
    "fig2.add_trace(go.Scatter(x=forecast_df.index, y=forecast_df['Gold'], mode='lines+markers', name='Gold Medals', line=dict(color='gold')))\n",
    "fig2.add_trace(go.Scatter(x=forecast_df.index, y=forecast_df['Silver'], mode='lines+markers', name='Silver Medals', line=dict(color='silver')))\n",
    "fig2.add_trace(go.Scatter(x=forecast_df.index, y=forecast_df['Bronze'], mode='lines+markers', name='Bronze Medals', line=dict(color='#CD7F32')))\n",
    "fig2.add_trace(go.Scatter(x=[2021], y=medal_2021_usa['Gold'], mode='markers', name='Gold 2024 Forecast', marker=dict(color='gold', size=14)))\n",
    "fig2.add_trace(go.Scatter(x=[2021], y=medal_2021_usa['Silver'], mode='markers', name='Silver 2024 Forecast', marker=dict(color='silver', size=14)))\n",
    "fig2.add_trace(go.Scatter(x=[2021], y= medal_2021_usa['Bronze'], mode='markers', name='Bronze 2024 Forecast', marker=dict(color='#CD7F32', size=14)))\n",
    "fig2.update_layout(title='Medals (Gold, Silver, Bronze) Over the Years with 2024 Forecast',\n",
    "                   xaxis_title='Year',\n",
    "                   yaxis_title='Number of Medals')\n",
    "fig2.show()"
   ]
  },
  {
   "cell_type": "markdown",
   "metadata": {},
   "source": [
    "## Function"
   ]
  },
  {
   "cell_type": "code",
   "execution_count": 84,
   "metadata": {},
   "outputs": [],
   "source": [
    "def forecast(country_data, country):\n",
    "    # Historical data for the specified country\n",
    "    country_data['Total_Medals'] = country_data['Gold'] + country_data['Silver'] + country_data['Bronze']\n",
    "    country_data = country_data.drop(columns=['NOC'])\n",
    "    \n",
    "    # Fit VAR model\n",
    "    model = VAR(country_data)\n",
    "    model_fit = model.fit()\n",
    "    \n",
    "    # Forecast for 2024\n",
    "    forecast = model_fit.forecast(country_data.values, steps=8)\n",
    "    years = pd.date_range(start='2017-01-01', end='2025-01-01', freq='Y')\n",
    "    forecast_df = pd.DataFrame(forecast, columns=country_data.columns, index=years)\n",
    "    forecast_df.index = forecast_df.index.strftime('%Y-01-01')\n",
    "    \n",
    "    # Return forecast_df for saving to CSV\n",
    "    return forecast_df"
   ]
  },
  {
   "cell_type": "code",
   "execution_count": 85,
   "metadata": {},
   "outputs": [
    {
     "name": "stdout",
     "output_type": "stream",
     "text": [
      "Error forecasting for MAL\n",
      "Error forecasting for RHO\n",
      "Error forecasting for UAR\n",
      "Error forecasting for WIF\n",
      "Error forecasting for SOM\n",
      "Error forecasting for GAM\n",
      "Error forecasting for YAR\n",
      "Error forecasting for YMD\n",
      "Error forecasting for EUN\n",
      "Error forecasting for GBS\n",
      "Error forecasting for SKN\n",
      "Error forecasting for STP\n",
      "Error forecasting for FSM\n",
      "Error forecasting for KIR\n",
      "Error forecasting for TLS\n",
      "Error forecasting for MHL\n",
      "Error forecasting for KOS\n",
      "Error forecasting for ROT\n",
      "Error forecasting for SSD\n"
     ]
    }
   ],
   "source": [
    "unique_countries = df['NOC'].unique()\n",
    "forecasts = {}\n",
    "\n",
    "# Iterate through each country, generate forecasts, and store in dictionary\n",
    "for country in unique_countries:\n",
    "    country_data = df[df['NOC'] == country]\n",
    "    # skip if any error\n",
    "    try:\n",
    "        forecasts[country] = forecast(country_data, country)\n",
    "    except:\n",
    "        print(f\"Error forecasting for {country}\")"
   ]
  },
  {
   "cell_type": "code",
   "execution_count": 86,
   "metadata": {},
   "outputs": [
    {
     "name": "stdout",
     "output_type": "stream",
     "text": [
      "Forecasts saved to CSV files.\n"
     ]
    }
   ],
   "source": [
    "# Save forecasts to CSV files for each country\n",
    "for country, forecast_df in forecasts.items():\n",
    "    filename = f'../data/all_data/forecasts/forecast_{country}.csv'\n",
    "    forecast_df.to_csv(filename)\n",
    "\n",
    "print(\"Forecasts saved to CSV files.\")"
   ]
  }
 ],
 "metadata": {
  "kernelspec": {
   "display_name": "base",
   "language": "python",
   "name": "python3"
  },
  "language_info": {
   "codemirror_mode": {
    "name": "ipython",
    "version": 3
   },
   "file_extension": ".py",
   "mimetype": "text/x-python",
   "name": "python",
   "nbconvert_exporter": "python",
   "pygments_lexer": "ipython3",
   "version": "3.11.5"
  }
 },
 "nbformat": 4,
 "nbformat_minor": 2
}
