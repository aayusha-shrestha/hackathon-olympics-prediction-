{
 "cells": [
  {
   "cell_type": "code",
   "execution_count": 57,
   "metadata": {},
   "outputs": [],
   "source": [
    "import pandas as pd\n",
    "import numpy as np\n",
    "import matplotlib.pyplot as plt\n",
    "import seaborn as sns\n",
    "import plotly.express as px\n",
    "import plotly.graph_objects as go"
   ]
  },
  {
   "cell_type": "code",
   "execution_count": 58,
   "metadata": {},
   "outputs": [],
   "source": [
    "import warnings\n",
    "warnings.filterwarnings(\"ignore\")"
   ]
  },
  {
   "cell_type": "code",
   "execution_count": 59,
   "metadata": {},
   "outputs": [],
   "source": [
    "from statsmodels.tsa.statespace.sarimax import SARIMAX"
   ]
  },
  {
   "cell_type": "code",
   "execution_count": 60,
   "metadata": {},
   "outputs": [],
   "source": [
    "df = pd.read_csv('../data/all_data/timeseries_data.csv')"
   ]
  },
  {
   "cell_type": "code",
   "execution_count": 61,
   "metadata": {},
   "outputs": [
    {
     "data": {
      "text/html": [
       "<div>\n",
       "<style scoped>\n",
       "    .dataframe tbody tr th:only-of-type {\n",
       "        vertical-align: middle;\n",
       "    }\n",
       "\n",
       "    .dataframe tbody tr th {\n",
       "        vertical-align: top;\n",
       "    }\n",
       "\n",
       "    .dataframe thead th {\n",
       "        text-align: right;\n",
       "    }\n",
       "</style>\n",
       "<table border=\"1\" class=\"dataframe\">\n",
       "  <thead>\n",
       "    <tr style=\"text-align: right;\">\n",
       "      <th></th>\n",
       "      <th>Unnamed: 0</th>\n",
       "      <th>Year</th>\n",
       "      <th>NOC</th>\n",
       "      <th>Athletes</th>\n",
       "      <th>Sports</th>\n",
       "      <th>Events</th>\n",
       "      <th>Gold</th>\n",
       "      <th>Silver</th>\n",
       "      <th>Bronze</th>\n",
       "    </tr>\n",
       "  </thead>\n",
       "  <tbody>\n",
       "    <tr>\n",
       "      <th>0</th>\n",
       "      <td>0</td>\n",
       "      <td>1960</td>\n",
       "      <td>AFG</td>\n",
       "      <td>16</td>\n",
       "      <td>2</td>\n",
       "      <td>13</td>\n",
       "      <td>0</td>\n",
       "      <td>0</td>\n",
       "      <td>0</td>\n",
       "    </tr>\n",
       "    <tr>\n",
       "      <th>1</th>\n",
       "      <td>1</td>\n",
       "      <td>1960</td>\n",
       "      <td>AHO</td>\n",
       "      <td>5</td>\n",
       "      <td>1</td>\n",
       "      <td>4</td>\n",
       "      <td>0</td>\n",
       "      <td>0</td>\n",
       "      <td>0</td>\n",
       "    </tr>\n",
       "    <tr>\n",
       "      <th>2</th>\n",
       "      <td>2</td>\n",
       "      <td>1960</td>\n",
       "      <td>ARG</td>\n",
       "      <td>116</td>\n",
       "      <td>15</td>\n",
       "      <td>54</td>\n",
       "      <td>0</td>\n",
       "      <td>3</td>\n",
       "      <td>1</td>\n",
       "    </tr>\n",
       "    <tr>\n",
       "      <th>3</th>\n",
       "      <td>3</td>\n",
       "      <td>1960</td>\n",
       "      <td>AUS</td>\n",
       "      <td>277</td>\n",
       "      <td>19</td>\n",
       "      <td>125</td>\n",
       "      <td>10</td>\n",
       "      <td>21</td>\n",
       "      <td>11</td>\n",
       "    </tr>\n",
       "    <tr>\n",
       "      <th>4</th>\n",
       "      <td>4</td>\n",
       "      <td>1960</td>\n",
       "      <td>AUT</td>\n",
       "      <td>141</td>\n",
       "      <td>18</td>\n",
       "      <td>83</td>\n",
       "      <td>1</td>\n",
       "      <td>2</td>\n",
       "      <td>0</td>\n",
       "    </tr>\n",
       "    <tr>\n",
       "      <th>...</th>\n",
       "      <td>...</td>\n",
       "      <td>...</td>\n",
       "      <td>...</td>\n",
       "      <td>...</td>\n",
       "      <td>...</td>\n",
       "      <td>...</td>\n",
       "      <td>...</td>\n",
       "      <td>...</td>\n",
       "      <td>...</td>\n",
       "    </tr>\n",
       "    <tr>\n",
       "      <th>2696</th>\n",
       "      <td>2696</td>\n",
       "      <td>2016</td>\n",
       "      <td>VIE</td>\n",
       "      <td>28</td>\n",
       "      <td>10</td>\n",
       "      <td>24</td>\n",
       "      <td>1</td>\n",
       "      <td>1</td>\n",
       "      <td>0</td>\n",
       "    </tr>\n",
       "    <tr>\n",
       "      <th>2697</th>\n",
       "      <td>2697</td>\n",
       "      <td>2016</td>\n",
       "      <td>VIN</td>\n",
       "      <td>2</td>\n",
       "      <td>1</td>\n",
       "      <td>2</td>\n",
       "      <td>0</td>\n",
       "      <td>0</td>\n",
       "      <td>0</td>\n",
       "    </tr>\n",
       "    <tr>\n",
       "      <th>2698</th>\n",
       "      <td>2698</td>\n",
       "      <td>2016</td>\n",
       "      <td>YEM</td>\n",
       "      <td>3</td>\n",
       "      <td>3</td>\n",
       "      <td>3</td>\n",
       "      <td>0</td>\n",
       "      <td>0</td>\n",
       "      <td>0</td>\n",
       "    </tr>\n",
       "    <tr>\n",
       "      <th>2699</th>\n",
       "      <td>2699</td>\n",
       "      <td>2016</td>\n",
       "      <td>ZAM</td>\n",
       "      <td>6</td>\n",
       "      <td>3</td>\n",
       "      <td>6</td>\n",
       "      <td>0</td>\n",
       "      <td>0</td>\n",
       "      <td>0</td>\n",
       "    </tr>\n",
       "    <tr>\n",
       "      <th>2700</th>\n",
       "      <td>2700</td>\n",
       "      <td>2016</td>\n",
       "      <td>ZIM</td>\n",
       "      <td>31</td>\n",
       "      <td>7</td>\n",
       "      <td>13</td>\n",
       "      <td>0</td>\n",
       "      <td>0</td>\n",
       "      <td>0</td>\n",
       "    </tr>\n",
       "  </tbody>\n",
       "</table>\n",
       "<p>2701 rows × 9 columns</p>\n",
       "</div>"
      ],
      "text/plain": [
       "      Unnamed: 0  Year  NOC  Athletes  Sports  Events  Gold  Silver  Bronze\n",
       "0              0  1960  AFG        16       2      13     0       0       0\n",
       "1              1  1960  AHO         5       1       4     0       0       0\n",
       "2              2  1960  ARG       116      15      54     0       3       1\n",
       "3              3  1960  AUS       277      19     125    10      21      11\n",
       "4              4  1960  AUT       141      18      83     1       2       0\n",
       "...          ...   ...  ...       ...     ...     ...   ...     ...     ...\n",
       "2696        2696  2016  VIE        28      10      24     1       1       0\n",
       "2697        2697  2016  VIN         2       1       2     0       0       0\n",
       "2698        2698  2016  YEM         3       3       3     0       0       0\n",
       "2699        2699  2016  ZAM         6       3       6     0       0       0\n",
       "2700        2700  2016  ZIM        31       7      13     0       0       0\n",
       "\n",
       "[2701 rows x 9 columns]"
      ]
     },
     "execution_count": 61,
     "metadata": {},
     "output_type": "execute_result"
    }
   ],
   "source": [
    "df"
   ]
  },
  {
   "cell_type": "code",
   "execution_count": 62,
   "metadata": {},
   "outputs": [],
   "source": [
    "df = df.drop(columns=['Unnamed: 0'])"
   ]
  },
  {
   "cell_type": "code",
   "execution_count": 63,
   "metadata": {},
   "outputs": [
    {
     "data": {
      "text/html": [
       "<div>\n",
       "<style scoped>\n",
       "    .dataframe tbody tr th:only-of-type {\n",
       "        vertical-align: middle;\n",
       "    }\n",
       "\n",
       "    .dataframe tbody tr th {\n",
       "        vertical-align: top;\n",
       "    }\n",
       "\n",
       "    .dataframe thead th {\n",
       "        text-align: right;\n",
       "    }\n",
       "</style>\n",
       "<table border=\"1\" class=\"dataframe\">\n",
       "  <thead>\n",
       "    <tr style=\"text-align: right;\">\n",
       "      <th></th>\n",
       "      <th>Year</th>\n",
       "      <th>NOC</th>\n",
       "      <th>Athletes</th>\n",
       "      <th>Sports</th>\n",
       "      <th>Events</th>\n",
       "      <th>Gold</th>\n",
       "      <th>Silver</th>\n",
       "      <th>Bronze</th>\n",
       "    </tr>\n",
       "  </thead>\n",
       "  <tbody>\n",
       "    <tr>\n",
       "      <th>0</th>\n",
       "      <td>1960</td>\n",
       "      <td>AFG</td>\n",
       "      <td>16</td>\n",
       "      <td>2</td>\n",
       "      <td>13</td>\n",
       "      <td>0</td>\n",
       "      <td>0</td>\n",
       "      <td>0</td>\n",
       "    </tr>\n",
       "    <tr>\n",
       "      <th>1</th>\n",
       "      <td>1960</td>\n",
       "      <td>AHO</td>\n",
       "      <td>5</td>\n",
       "      <td>1</td>\n",
       "      <td>4</td>\n",
       "      <td>0</td>\n",
       "      <td>0</td>\n",
       "      <td>0</td>\n",
       "    </tr>\n",
       "    <tr>\n",
       "      <th>2</th>\n",
       "      <td>1960</td>\n",
       "      <td>ARG</td>\n",
       "      <td>116</td>\n",
       "      <td>15</td>\n",
       "      <td>54</td>\n",
       "      <td>0</td>\n",
       "      <td>3</td>\n",
       "      <td>1</td>\n",
       "    </tr>\n",
       "    <tr>\n",
       "      <th>3</th>\n",
       "      <td>1960</td>\n",
       "      <td>AUS</td>\n",
       "      <td>277</td>\n",
       "      <td>19</td>\n",
       "      <td>125</td>\n",
       "      <td>10</td>\n",
       "      <td>21</td>\n",
       "      <td>11</td>\n",
       "    </tr>\n",
       "    <tr>\n",
       "      <th>4</th>\n",
       "      <td>1960</td>\n",
       "      <td>AUT</td>\n",
       "      <td>141</td>\n",
       "      <td>18</td>\n",
       "      <td>83</td>\n",
       "      <td>1</td>\n",
       "      <td>2</td>\n",
       "      <td>0</td>\n",
       "    </tr>\n",
       "    <tr>\n",
       "      <th>...</th>\n",
       "      <td>...</td>\n",
       "      <td>...</td>\n",
       "      <td>...</td>\n",
       "      <td>...</td>\n",
       "      <td>...</td>\n",
       "      <td>...</td>\n",
       "      <td>...</td>\n",
       "      <td>...</td>\n",
       "    </tr>\n",
       "    <tr>\n",
       "      <th>2696</th>\n",
       "      <td>2016</td>\n",
       "      <td>VIE</td>\n",
       "      <td>28</td>\n",
       "      <td>10</td>\n",
       "      <td>24</td>\n",
       "      <td>1</td>\n",
       "      <td>1</td>\n",
       "      <td>0</td>\n",
       "    </tr>\n",
       "    <tr>\n",
       "      <th>2697</th>\n",
       "      <td>2016</td>\n",
       "      <td>VIN</td>\n",
       "      <td>2</td>\n",
       "      <td>1</td>\n",
       "      <td>2</td>\n",
       "      <td>0</td>\n",
       "      <td>0</td>\n",
       "      <td>0</td>\n",
       "    </tr>\n",
       "    <tr>\n",
       "      <th>2698</th>\n",
       "      <td>2016</td>\n",
       "      <td>YEM</td>\n",
       "      <td>3</td>\n",
       "      <td>3</td>\n",
       "      <td>3</td>\n",
       "      <td>0</td>\n",
       "      <td>0</td>\n",
       "      <td>0</td>\n",
       "    </tr>\n",
       "    <tr>\n",
       "      <th>2699</th>\n",
       "      <td>2016</td>\n",
       "      <td>ZAM</td>\n",
       "      <td>6</td>\n",
       "      <td>3</td>\n",
       "      <td>6</td>\n",
       "      <td>0</td>\n",
       "      <td>0</td>\n",
       "      <td>0</td>\n",
       "    </tr>\n",
       "    <tr>\n",
       "      <th>2700</th>\n",
       "      <td>2016</td>\n",
       "      <td>ZIM</td>\n",
       "      <td>31</td>\n",
       "      <td>7</td>\n",
       "      <td>13</td>\n",
       "      <td>0</td>\n",
       "      <td>0</td>\n",
       "      <td>0</td>\n",
       "    </tr>\n",
       "  </tbody>\n",
       "</table>\n",
       "<p>2701 rows × 8 columns</p>\n",
       "</div>"
      ],
      "text/plain": [
       "      Year  NOC  Athletes  Sports  Events  Gold  Silver  Bronze\n",
       "0     1960  AFG        16       2      13     0       0       0\n",
       "1     1960  AHO         5       1       4     0       0       0\n",
       "2     1960  ARG       116      15      54     0       3       1\n",
       "3     1960  AUS       277      19     125    10      21      11\n",
       "4     1960  AUT       141      18      83     1       2       0\n",
       "...    ...  ...       ...     ...     ...   ...     ...     ...\n",
       "2696  2016  VIE        28      10      24     1       1       0\n",
       "2697  2016  VIN         2       1       2     0       0       0\n",
       "2698  2016  YEM         3       3       3     0       0       0\n",
       "2699  2016  ZAM         6       3       6     0       0       0\n",
       "2700  2016  ZIM        31       7      13     0       0       0\n",
       "\n",
       "[2701 rows x 8 columns]"
      ]
     },
     "execution_count": 63,
     "metadata": {},
     "output_type": "execute_result"
    }
   ],
   "source": [
    "df"
   ]
  },
  {
   "cell_type": "code",
   "execution_count": 64,
   "metadata": {},
   "outputs": [],
   "source": [
    "df['Year'] = pd.to_datetime(df['Year'], format='%Y')\n",
    "df.set_index('Year', inplace=True)"
   ]
  },
  {
   "cell_type": "code",
   "execution_count": 65,
   "metadata": {},
   "outputs": [],
   "source": [
    "usa_data = df[df['NOC'] == 'USA']"
   ]
  },
  {
   "cell_type": "code",
   "execution_count": 66,
   "metadata": {},
   "outputs": [],
   "source": [
    "usa_data['Total_Medals'] = usa_data['Gold'] + usa_data['Silver'] + usa_data['Bronze']"
   ]
  },
  {
   "cell_type": "code",
   "execution_count": 67,
   "metadata": {},
   "outputs": [
    {
     "data": {
      "text/html": [
       "<div>\n",
       "<style scoped>\n",
       "    .dataframe tbody tr th:only-of-type {\n",
       "        vertical-align: middle;\n",
       "    }\n",
       "\n",
       "    .dataframe tbody tr th {\n",
       "        vertical-align: top;\n",
       "    }\n",
       "\n",
       "    .dataframe thead th {\n",
       "        text-align: right;\n",
       "    }\n",
       "</style>\n",
       "<table border=\"1\" class=\"dataframe\">\n",
       "  <thead>\n",
       "    <tr style=\"text-align: right;\">\n",
       "      <th></th>\n",
       "      <th>NOC</th>\n",
       "      <th>Athletes</th>\n",
       "      <th>Sports</th>\n",
       "      <th>Events</th>\n",
       "      <th>Gold</th>\n",
       "      <th>Silver</th>\n",
       "      <th>Bronze</th>\n",
       "      <th>Total_Medals</th>\n",
       "    </tr>\n",
       "    <tr>\n",
       "      <th>Year</th>\n",
       "      <th></th>\n",
       "      <th></th>\n",
       "      <th></th>\n",
       "      <th></th>\n",
       "      <th></th>\n",
       "      <th></th>\n",
       "      <th></th>\n",
       "      <th></th>\n",
       "    </tr>\n",
       "  </thead>\n",
       "  <tbody>\n",
       "    <tr>\n",
       "      <th>1960-01-01</th>\n",
       "      <td>USA</td>\n",
       "      <td>474</td>\n",
       "      <td>23</td>\n",
       "      <td>164</td>\n",
       "      <td>97</td>\n",
       "      <td>24</td>\n",
       "      <td>22</td>\n",
       "      <td>143</td>\n",
       "    </tr>\n",
       "    <tr>\n",
       "      <th>1964-01-01</th>\n",
       "      <td>USA</td>\n",
       "      <td>619</td>\n",
       "      <td>29</td>\n",
       "      <td>190</td>\n",
       "      <td>96</td>\n",
       "      <td>39</td>\n",
       "      <td>42</td>\n",
       "      <td>177</td>\n",
       "    </tr>\n",
       "    <tr>\n",
       "      <th>1968-01-01</th>\n",
       "      <td>USA</td>\n",
       "      <td>664</td>\n",
       "      <td>28</td>\n",
       "      <td>199</td>\n",
       "      <td>100</td>\n",
       "      <td>37</td>\n",
       "      <td>36</td>\n",
       "      <td>173</td>\n",
       "    </tr>\n",
       "    <tr>\n",
       "      <th>1972-01-01</th>\n",
       "      <td>USA</td>\n",
       "      <td>719</td>\n",
       "      <td>31</td>\n",
       "      <td>216</td>\n",
       "      <td>72</td>\n",
       "      <td>77</td>\n",
       "      <td>46</td>\n",
       "      <td>195</td>\n",
       "    </tr>\n",
       "    <tr>\n",
       "      <th>1976-01-01</th>\n",
       "      <td>USA</td>\n",
       "      <td>660</td>\n",
       "      <td>29</td>\n",
       "      <td>225</td>\n",
       "      <td>73</td>\n",
       "      <td>61</td>\n",
       "      <td>40</td>\n",
       "      <td>174</td>\n",
       "    </tr>\n",
       "    <tr>\n",
       "      <th>1980-01-01</th>\n",
       "      <td>USA</td>\n",
       "      <td>144</td>\n",
       "      <td>10</td>\n",
       "      <td>38</td>\n",
       "      <td>24</td>\n",
       "      <td>4</td>\n",
       "      <td>1</td>\n",
       "      <td>29</td>\n",
       "    </tr>\n",
       "    <tr>\n",
       "      <th>1984-01-01</th>\n",
       "      <td>USA</td>\n",
       "      <td>842</td>\n",
       "      <td>35</td>\n",
       "      <td>255</td>\n",
       "      <td>190</td>\n",
       "      <td>121</td>\n",
       "      <td>50</td>\n",
       "      <td>361</td>\n",
       "    </tr>\n",
       "    <tr>\n",
       "      <th>1988-01-01</th>\n",
       "      <td>USA</td>\n",
       "      <td>896</td>\n",
       "      <td>37</td>\n",
       "      <td>274</td>\n",
       "      <td>89</td>\n",
       "      <td>67</td>\n",
       "      <td>58</td>\n",
       "      <td>214</td>\n",
       "    </tr>\n",
       "    <tr>\n",
       "      <th>1992-01-01</th>\n",
       "      <td>USA</td>\n",
       "      <td>955</td>\n",
       "      <td>40</td>\n",
       "      <td>303</td>\n",
       "      <td>94</td>\n",
       "      <td>57</td>\n",
       "      <td>86</td>\n",
       "      <td>237</td>\n",
       "    </tr>\n",
       "    <tr>\n",
       "      <th>1994-01-01</th>\n",
       "      <td>USA</td>\n",
       "      <td>232</td>\n",
       "      <td>12</td>\n",
       "      <td>59</td>\n",
       "      <td>6</td>\n",
       "      <td>8</td>\n",
       "      <td>5</td>\n",
       "      <td>19</td>\n",
       "    </tr>\n",
       "    <tr>\n",
       "      <th>1996-01-01</th>\n",
       "      <td>USA</td>\n",
       "      <td>742</td>\n",
       "      <td>30</td>\n",
       "      <td>253</td>\n",
       "      <td>148</td>\n",
       "      <td>43</td>\n",
       "      <td>50</td>\n",
       "      <td>241</td>\n",
       "    </tr>\n",
       "    <tr>\n",
       "      <th>1998-01-01</th>\n",
       "      <td>USA</td>\n",
       "      <td>283</td>\n",
       "      <td>14</td>\n",
       "      <td>68</td>\n",
       "      <td>25</td>\n",
       "      <td>4</td>\n",
       "      <td>5</td>\n",
       "      <td>34</td>\n",
       "    </tr>\n",
       "    <tr>\n",
       "      <th>2000-01-01</th>\n",
       "      <td>USA</td>\n",
       "      <td>759</td>\n",
       "      <td>31</td>\n",
       "      <td>265</td>\n",
       "      <td>130</td>\n",
       "      <td>61</td>\n",
       "      <td>50</td>\n",
       "      <td>241</td>\n",
       "    </tr>\n",
       "    <tr>\n",
       "      <th>2002-01-01</th>\n",
       "      <td>USA</td>\n",
       "      <td>311</td>\n",
       "      <td>15</td>\n",
       "      <td>78</td>\n",
       "      <td>10</td>\n",
       "      <td>58</td>\n",
       "      <td>15</td>\n",
       "      <td>83</td>\n",
       "    </tr>\n",
       "    <tr>\n",
       "      <th>2004-01-01</th>\n",
       "      <td>USA</td>\n",
       "      <td>723</td>\n",
       "      <td>31</td>\n",
       "      <td>254</td>\n",
       "      <td>117</td>\n",
       "      <td>75</td>\n",
       "      <td>70</td>\n",
       "      <td>262</td>\n",
       "    </tr>\n",
       "    <tr>\n",
       "      <th>2006-01-01</th>\n",
       "      <td>USA</td>\n",
       "      <td>324</td>\n",
       "      <td>15</td>\n",
       "      <td>83</td>\n",
       "      <td>9</td>\n",
       "      <td>11</td>\n",
       "      <td>32</td>\n",
       "      <td>52</td>\n",
       "    </tr>\n",
       "    <tr>\n",
       "      <th>2008-01-01</th>\n",
       "      <td>USA</td>\n",
       "      <td>756</td>\n",
       "      <td>32</td>\n",
       "      <td>258</td>\n",
       "      <td>127</td>\n",
       "      <td>110</td>\n",
       "      <td>79</td>\n",
       "      <td>316</td>\n",
       "    </tr>\n",
       "    <tr>\n",
       "      <th>2010-01-01</th>\n",
       "      <td>USA</td>\n",
       "      <td>341</td>\n",
       "      <td>15</td>\n",
       "      <td>84</td>\n",
       "      <td>12</td>\n",
       "      <td>63</td>\n",
       "      <td>22</td>\n",
       "      <td>97</td>\n",
       "    </tr>\n",
       "    <tr>\n",
       "      <th>2012-01-01</th>\n",
       "      <td>USA</td>\n",
       "      <td>689</td>\n",
       "      <td>31</td>\n",
       "      <td>245</td>\n",
       "      <td>145</td>\n",
       "      <td>57</td>\n",
       "      <td>46</td>\n",
       "      <td>248</td>\n",
       "    </tr>\n",
       "    <tr>\n",
       "      <th>2014-01-01</th>\n",
       "      <td>USA</td>\n",
       "      <td>367</td>\n",
       "      <td>15</td>\n",
       "      <td>94</td>\n",
       "      <td>10</td>\n",
       "      <td>30</td>\n",
       "      <td>24</td>\n",
       "      <td>64</td>\n",
       "    </tr>\n",
       "    <tr>\n",
       "      <th>2016-01-01</th>\n",
       "      <td>USA</td>\n",
       "      <td>718</td>\n",
       "      <td>33</td>\n",
       "      <td>245</td>\n",
       "      <td>138</td>\n",
       "      <td>54</td>\n",
       "      <td>71</td>\n",
       "      <td>263</td>\n",
       "    </tr>\n",
       "  </tbody>\n",
       "</table>\n",
       "</div>"
      ],
      "text/plain": [
       "            NOC  Athletes  Sports  Events  Gold  Silver  Bronze  Total_Medals\n",
       "Year                                                                         \n",
       "1960-01-01  USA       474      23     164    97      24      22           143\n",
       "1964-01-01  USA       619      29     190    96      39      42           177\n",
       "1968-01-01  USA       664      28     199   100      37      36           173\n",
       "1972-01-01  USA       719      31     216    72      77      46           195\n",
       "1976-01-01  USA       660      29     225    73      61      40           174\n",
       "1980-01-01  USA       144      10      38    24       4       1            29\n",
       "1984-01-01  USA       842      35     255   190     121      50           361\n",
       "1988-01-01  USA       896      37     274    89      67      58           214\n",
       "1992-01-01  USA       955      40     303    94      57      86           237\n",
       "1994-01-01  USA       232      12      59     6       8       5            19\n",
       "1996-01-01  USA       742      30     253   148      43      50           241\n",
       "1998-01-01  USA       283      14      68    25       4       5            34\n",
       "2000-01-01  USA       759      31     265   130      61      50           241\n",
       "2002-01-01  USA       311      15      78    10      58      15            83\n",
       "2004-01-01  USA       723      31     254   117      75      70           262\n",
       "2006-01-01  USA       324      15      83     9      11      32            52\n",
       "2008-01-01  USA       756      32     258   127     110      79           316\n",
       "2010-01-01  USA       341      15      84    12      63      22            97\n",
       "2012-01-01  USA       689      31     245   145      57      46           248\n",
       "2014-01-01  USA       367      15      94    10      30      24            64\n",
       "2016-01-01  USA       718      33     245   138      54      71           263"
      ]
     },
     "execution_count": 67,
     "metadata": {},
     "output_type": "execute_result"
    }
   ],
   "source": [
    "usa_data"
   ]
  },
  {
   "cell_type": "code",
   "execution_count": 68,
   "metadata": {},
   "outputs": [],
   "source": [
    "usa_data = usa_data.drop(columns=['NOC'])"
   ]
  },
  {
   "cell_type": "markdown",
   "metadata": {},
   "source": [
    "## Hisorical Athlete Participation"
   ]
  },
  {
   "cell_type": "code",
   "execution_count": 69,
   "metadata": {},
   "outputs": [
    {
     "data": {
      "application/vnd.plotly.v1+json": {
       "config": {
        "plotlyServerURL": "https://plot.ly"
       },
       "data": [
        {
         "line": {
          "color": "blue"
         },
         "mode": "lines+markers",
         "name": "Athletes",
         "type": "scatter",
         "x": [
          "1960-01-01T00:00:00",
          "1964-01-01T00:00:00",
          "1968-01-01T00:00:00",
          "1972-01-01T00:00:00",
          "1976-01-01T00:00:00",
          "1980-01-01T00:00:00",
          "1984-01-01T00:00:00",
          "1988-01-01T00:00:00",
          "1992-01-01T00:00:00",
          "1994-01-01T00:00:00",
          "1996-01-01T00:00:00",
          "1998-01-01T00:00:00",
          "2000-01-01T00:00:00",
          "2002-01-01T00:00:00",
          "2004-01-01T00:00:00",
          "2006-01-01T00:00:00",
          "2008-01-01T00:00:00",
          "2010-01-01T00:00:00",
          "2012-01-01T00:00:00",
          "2014-01-01T00:00:00",
          "2016-01-01T00:00:00"
         ],
         "y": [
          474,
          619,
          664,
          719,
          660,
          144,
          842,
          896,
          955,
          232,
          742,
          283,
          759,
          311,
          723,
          324,
          756,
          341,
          689,
          367,
          718
         ]
        },
        {
         "line": {
          "color": "green"
         },
         "mode": "lines+markers",
         "name": "Sports",
         "type": "scatter",
         "x": [
          "1960-01-01T00:00:00",
          "1964-01-01T00:00:00",
          "1968-01-01T00:00:00",
          "1972-01-01T00:00:00",
          "1976-01-01T00:00:00",
          "1980-01-01T00:00:00",
          "1984-01-01T00:00:00",
          "1988-01-01T00:00:00",
          "1992-01-01T00:00:00",
          "1994-01-01T00:00:00",
          "1996-01-01T00:00:00",
          "1998-01-01T00:00:00",
          "2000-01-01T00:00:00",
          "2002-01-01T00:00:00",
          "2004-01-01T00:00:00",
          "2006-01-01T00:00:00",
          "2008-01-01T00:00:00",
          "2010-01-01T00:00:00",
          "2012-01-01T00:00:00",
          "2014-01-01T00:00:00",
          "2016-01-01T00:00:00"
         ],
         "y": [
          23,
          29,
          28,
          31,
          29,
          10,
          35,
          37,
          40,
          12,
          30,
          14,
          31,
          15,
          31,
          15,
          32,
          15,
          31,
          15,
          33
         ]
        },
        {
         "line": {
          "color": "red"
         },
         "mode": "lines+markers",
         "name": "Events",
         "type": "scatter",
         "x": [
          "1960-01-01T00:00:00",
          "1964-01-01T00:00:00",
          "1968-01-01T00:00:00",
          "1972-01-01T00:00:00",
          "1976-01-01T00:00:00",
          "1980-01-01T00:00:00",
          "1984-01-01T00:00:00",
          "1988-01-01T00:00:00",
          "1992-01-01T00:00:00",
          "1994-01-01T00:00:00",
          "1996-01-01T00:00:00",
          "1998-01-01T00:00:00",
          "2000-01-01T00:00:00",
          "2002-01-01T00:00:00",
          "2004-01-01T00:00:00",
          "2006-01-01T00:00:00",
          "2008-01-01T00:00:00",
          "2010-01-01T00:00:00",
          "2012-01-01T00:00:00",
          "2014-01-01T00:00:00",
          "2016-01-01T00:00:00"
         ],
         "y": [
          164,
          190,
          199,
          216,
          225,
          38,
          255,
          274,
          303,
          59,
          253,
          68,
          265,
          78,
          254,
          83,
          258,
          84,
          245,
          94,
          245
         ]
        },
        {
         "line": {
          "color": "purple"
         },
         "mode": "lines+markers",
         "name": "Total Medals",
         "type": "scatter",
         "x": [
          "1960-01-01T00:00:00",
          "1964-01-01T00:00:00",
          "1968-01-01T00:00:00",
          "1972-01-01T00:00:00",
          "1976-01-01T00:00:00",
          "1980-01-01T00:00:00",
          "1984-01-01T00:00:00",
          "1988-01-01T00:00:00",
          "1992-01-01T00:00:00",
          "1994-01-01T00:00:00",
          "1996-01-01T00:00:00",
          "1998-01-01T00:00:00",
          "2000-01-01T00:00:00",
          "2002-01-01T00:00:00",
          "2004-01-01T00:00:00",
          "2006-01-01T00:00:00",
          "2008-01-01T00:00:00",
          "2010-01-01T00:00:00",
          "2012-01-01T00:00:00",
          "2014-01-01T00:00:00",
          "2016-01-01T00:00:00"
         ],
         "y": [
          143,
          177,
          173,
          195,
          174,
          29,
          361,
          214,
          237,
          19,
          241,
          34,
          241,
          83,
          262,
          52,
          316,
          97,
          248,
          64,
          263
         ]
        }
       ],
       "layout": {
        "legend": {
         "title": {
          "text": "Metrics"
         }
        },
        "template": {
         "data": {
          "bar": [
           {
            "error_x": {
             "color": "#2a3f5f"
            },
            "error_y": {
             "color": "#2a3f5f"
            },
            "marker": {
             "line": {
              "color": "white",
              "width": 0.5
             },
             "pattern": {
              "fillmode": "overlay",
              "size": 10,
              "solidity": 0.2
             }
            },
            "type": "bar"
           }
          ],
          "barpolar": [
           {
            "marker": {
             "line": {
              "color": "white",
              "width": 0.5
             },
             "pattern": {
              "fillmode": "overlay",
              "size": 10,
              "solidity": 0.2
             }
            },
            "type": "barpolar"
           }
          ],
          "carpet": [
           {
            "aaxis": {
             "endlinecolor": "#2a3f5f",
             "gridcolor": "#C8D4E3",
             "linecolor": "#C8D4E3",
             "minorgridcolor": "#C8D4E3",
             "startlinecolor": "#2a3f5f"
            },
            "baxis": {
             "endlinecolor": "#2a3f5f",
             "gridcolor": "#C8D4E3",
             "linecolor": "#C8D4E3",
             "minorgridcolor": "#C8D4E3",
             "startlinecolor": "#2a3f5f"
            },
            "type": "carpet"
           }
          ],
          "choropleth": [
           {
            "colorbar": {
             "outlinewidth": 0,
             "ticks": ""
            },
            "type": "choropleth"
           }
          ],
          "contour": [
           {
            "colorbar": {
             "outlinewidth": 0,
             "ticks": ""
            },
            "colorscale": [
             [
              0,
              "#0d0887"
             ],
             [
              0.1111111111111111,
              "#46039f"
             ],
             [
              0.2222222222222222,
              "#7201a8"
             ],
             [
              0.3333333333333333,
              "#9c179e"
             ],
             [
              0.4444444444444444,
              "#bd3786"
             ],
             [
              0.5555555555555556,
              "#d8576b"
             ],
             [
              0.6666666666666666,
              "#ed7953"
             ],
             [
              0.7777777777777778,
              "#fb9f3a"
             ],
             [
              0.8888888888888888,
              "#fdca26"
             ],
             [
              1,
              "#f0f921"
             ]
            ],
            "type": "contour"
           }
          ],
          "contourcarpet": [
           {
            "colorbar": {
             "outlinewidth": 0,
             "ticks": ""
            },
            "type": "contourcarpet"
           }
          ],
          "heatmap": [
           {
            "colorbar": {
             "outlinewidth": 0,
             "ticks": ""
            },
            "colorscale": [
             [
              0,
              "#0d0887"
             ],
             [
              0.1111111111111111,
              "#46039f"
             ],
             [
              0.2222222222222222,
              "#7201a8"
             ],
             [
              0.3333333333333333,
              "#9c179e"
             ],
             [
              0.4444444444444444,
              "#bd3786"
             ],
             [
              0.5555555555555556,
              "#d8576b"
             ],
             [
              0.6666666666666666,
              "#ed7953"
             ],
             [
              0.7777777777777778,
              "#fb9f3a"
             ],
             [
              0.8888888888888888,
              "#fdca26"
             ],
             [
              1,
              "#f0f921"
             ]
            ],
            "type": "heatmap"
           }
          ],
          "heatmapgl": [
           {
            "colorbar": {
             "outlinewidth": 0,
             "ticks": ""
            },
            "colorscale": [
             [
              0,
              "#0d0887"
             ],
             [
              0.1111111111111111,
              "#46039f"
             ],
             [
              0.2222222222222222,
              "#7201a8"
             ],
             [
              0.3333333333333333,
              "#9c179e"
             ],
             [
              0.4444444444444444,
              "#bd3786"
             ],
             [
              0.5555555555555556,
              "#d8576b"
             ],
             [
              0.6666666666666666,
              "#ed7953"
             ],
             [
              0.7777777777777778,
              "#fb9f3a"
             ],
             [
              0.8888888888888888,
              "#fdca26"
             ],
             [
              1,
              "#f0f921"
             ]
            ],
            "type": "heatmapgl"
           }
          ],
          "histogram": [
           {
            "marker": {
             "pattern": {
              "fillmode": "overlay",
              "size": 10,
              "solidity": 0.2
             }
            },
            "type": "histogram"
           }
          ],
          "histogram2d": [
           {
            "colorbar": {
             "outlinewidth": 0,
             "ticks": ""
            },
            "colorscale": [
             [
              0,
              "#0d0887"
             ],
             [
              0.1111111111111111,
              "#46039f"
             ],
             [
              0.2222222222222222,
              "#7201a8"
             ],
             [
              0.3333333333333333,
              "#9c179e"
             ],
             [
              0.4444444444444444,
              "#bd3786"
             ],
             [
              0.5555555555555556,
              "#d8576b"
             ],
             [
              0.6666666666666666,
              "#ed7953"
             ],
             [
              0.7777777777777778,
              "#fb9f3a"
             ],
             [
              0.8888888888888888,
              "#fdca26"
             ],
             [
              1,
              "#f0f921"
             ]
            ],
            "type": "histogram2d"
           }
          ],
          "histogram2dcontour": [
           {
            "colorbar": {
             "outlinewidth": 0,
             "ticks": ""
            },
            "colorscale": [
             [
              0,
              "#0d0887"
             ],
             [
              0.1111111111111111,
              "#46039f"
             ],
             [
              0.2222222222222222,
              "#7201a8"
             ],
             [
              0.3333333333333333,
              "#9c179e"
             ],
             [
              0.4444444444444444,
              "#bd3786"
             ],
             [
              0.5555555555555556,
              "#d8576b"
             ],
             [
              0.6666666666666666,
              "#ed7953"
             ],
             [
              0.7777777777777778,
              "#fb9f3a"
             ],
             [
              0.8888888888888888,
              "#fdca26"
             ],
             [
              1,
              "#f0f921"
             ]
            ],
            "type": "histogram2dcontour"
           }
          ],
          "mesh3d": [
           {
            "colorbar": {
             "outlinewidth": 0,
             "ticks": ""
            },
            "type": "mesh3d"
           }
          ],
          "parcoords": [
           {
            "line": {
             "colorbar": {
              "outlinewidth": 0,
              "ticks": ""
             }
            },
            "type": "parcoords"
           }
          ],
          "pie": [
           {
            "automargin": true,
            "type": "pie"
           }
          ],
          "scatter": [
           {
            "fillpattern": {
             "fillmode": "overlay",
             "size": 10,
             "solidity": 0.2
            },
            "type": "scatter"
           }
          ],
          "scatter3d": [
           {
            "line": {
             "colorbar": {
              "outlinewidth": 0,
              "ticks": ""
             }
            },
            "marker": {
             "colorbar": {
              "outlinewidth": 0,
              "ticks": ""
             }
            },
            "type": "scatter3d"
           }
          ],
          "scattercarpet": [
           {
            "marker": {
             "colorbar": {
              "outlinewidth": 0,
              "ticks": ""
             }
            },
            "type": "scattercarpet"
           }
          ],
          "scattergeo": [
           {
            "marker": {
             "colorbar": {
              "outlinewidth": 0,
              "ticks": ""
             }
            },
            "type": "scattergeo"
           }
          ],
          "scattergl": [
           {
            "marker": {
             "colorbar": {
              "outlinewidth": 0,
              "ticks": ""
             }
            },
            "type": "scattergl"
           }
          ],
          "scattermapbox": [
           {
            "marker": {
             "colorbar": {
              "outlinewidth": 0,
              "ticks": ""
             }
            },
            "type": "scattermapbox"
           }
          ],
          "scatterpolar": [
           {
            "marker": {
             "colorbar": {
              "outlinewidth": 0,
              "ticks": ""
             }
            },
            "type": "scatterpolar"
           }
          ],
          "scatterpolargl": [
           {
            "marker": {
             "colorbar": {
              "outlinewidth": 0,
              "ticks": ""
             }
            },
            "type": "scatterpolargl"
           }
          ],
          "scatterternary": [
           {
            "marker": {
             "colorbar": {
              "outlinewidth": 0,
              "ticks": ""
             }
            },
            "type": "scatterternary"
           }
          ],
          "surface": [
           {
            "colorbar": {
             "outlinewidth": 0,
             "ticks": ""
            },
            "colorscale": [
             [
              0,
              "#0d0887"
             ],
             [
              0.1111111111111111,
              "#46039f"
             ],
             [
              0.2222222222222222,
              "#7201a8"
             ],
             [
              0.3333333333333333,
              "#9c179e"
             ],
             [
              0.4444444444444444,
              "#bd3786"
             ],
             [
              0.5555555555555556,
              "#d8576b"
             ],
             [
              0.6666666666666666,
              "#ed7953"
             ],
             [
              0.7777777777777778,
              "#fb9f3a"
             ],
             [
              0.8888888888888888,
              "#fdca26"
             ],
             [
              1,
              "#f0f921"
             ]
            ],
            "type": "surface"
           }
          ],
          "table": [
           {
            "cells": {
             "fill": {
              "color": "#EBF0F8"
             },
             "line": {
              "color": "white"
             }
            },
            "header": {
             "fill": {
              "color": "#C8D4E3"
             },
             "line": {
              "color": "white"
             }
            },
            "type": "table"
           }
          ]
         },
         "layout": {
          "annotationdefaults": {
           "arrowcolor": "#2a3f5f",
           "arrowhead": 0,
           "arrowwidth": 1
          },
          "autotypenumbers": "strict",
          "coloraxis": {
           "colorbar": {
            "outlinewidth": 0,
            "ticks": ""
           }
          },
          "colorscale": {
           "diverging": [
            [
             0,
             "#8e0152"
            ],
            [
             0.1,
             "#c51b7d"
            ],
            [
             0.2,
             "#de77ae"
            ],
            [
             0.3,
             "#f1b6da"
            ],
            [
             0.4,
             "#fde0ef"
            ],
            [
             0.5,
             "#f7f7f7"
            ],
            [
             0.6,
             "#e6f5d0"
            ],
            [
             0.7,
             "#b8e186"
            ],
            [
             0.8,
             "#7fbc41"
            ],
            [
             0.9,
             "#4d9221"
            ],
            [
             1,
             "#276419"
            ]
           ],
           "sequential": [
            [
             0,
             "#0d0887"
            ],
            [
             0.1111111111111111,
             "#46039f"
            ],
            [
             0.2222222222222222,
             "#7201a8"
            ],
            [
             0.3333333333333333,
             "#9c179e"
            ],
            [
             0.4444444444444444,
             "#bd3786"
            ],
            [
             0.5555555555555556,
             "#d8576b"
            ],
            [
             0.6666666666666666,
             "#ed7953"
            ],
            [
             0.7777777777777778,
             "#fb9f3a"
            ],
            [
             0.8888888888888888,
             "#fdca26"
            ],
            [
             1,
             "#f0f921"
            ]
           ],
           "sequentialminus": [
            [
             0,
             "#0d0887"
            ],
            [
             0.1111111111111111,
             "#46039f"
            ],
            [
             0.2222222222222222,
             "#7201a8"
            ],
            [
             0.3333333333333333,
             "#9c179e"
            ],
            [
             0.4444444444444444,
             "#bd3786"
            ],
            [
             0.5555555555555556,
             "#d8576b"
            ],
            [
             0.6666666666666666,
             "#ed7953"
            ],
            [
             0.7777777777777778,
             "#fb9f3a"
            ],
            [
             0.8888888888888888,
             "#fdca26"
            ],
            [
             1,
             "#f0f921"
            ]
           ]
          },
          "colorway": [
           "#636efa",
           "#EF553B",
           "#00cc96",
           "#ab63fa",
           "#FFA15A",
           "#19d3f3",
           "#FF6692",
           "#B6E880",
           "#FF97FF",
           "#FECB52"
          ],
          "font": {
           "color": "#2a3f5f"
          },
          "geo": {
           "bgcolor": "white",
           "lakecolor": "white",
           "landcolor": "white",
           "showlakes": true,
           "showland": true,
           "subunitcolor": "#C8D4E3"
          },
          "hoverlabel": {
           "align": "left"
          },
          "hovermode": "closest",
          "mapbox": {
           "style": "light"
          },
          "paper_bgcolor": "white",
          "plot_bgcolor": "white",
          "polar": {
           "angularaxis": {
            "gridcolor": "#EBF0F8",
            "linecolor": "#EBF0F8",
            "ticks": ""
           },
           "bgcolor": "white",
           "radialaxis": {
            "gridcolor": "#EBF0F8",
            "linecolor": "#EBF0F8",
            "ticks": ""
           }
          },
          "scene": {
           "xaxis": {
            "backgroundcolor": "white",
            "gridcolor": "#DFE8F3",
            "gridwidth": 2,
            "linecolor": "#EBF0F8",
            "showbackground": true,
            "ticks": "",
            "zerolinecolor": "#EBF0F8"
           },
           "yaxis": {
            "backgroundcolor": "white",
            "gridcolor": "#DFE8F3",
            "gridwidth": 2,
            "linecolor": "#EBF0F8",
            "showbackground": true,
            "ticks": "",
            "zerolinecolor": "#EBF0F8"
           },
           "zaxis": {
            "backgroundcolor": "white",
            "gridcolor": "#DFE8F3",
            "gridwidth": 2,
            "linecolor": "#EBF0F8",
            "showbackground": true,
            "ticks": "",
            "zerolinecolor": "#EBF0F8"
           }
          },
          "shapedefaults": {
           "line": {
            "color": "#2a3f5f"
           }
          },
          "ternary": {
           "aaxis": {
            "gridcolor": "#DFE8F3",
            "linecolor": "#A2B1C6",
            "ticks": ""
           },
           "baxis": {
            "gridcolor": "#DFE8F3",
            "linecolor": "#A2B1C6",
            "ticks": ""
           },
           "bgcolor": "white",
           "caxis": {
            "gridcolor": "#DFE8F3",
            "linecolor": "#A2B1C6",
            "ticks": ""
           }
          },
          "title": {
           "x": 0.05
          },
          "xaxis": {
           "automargin": true,
           "gridcolor": "#EBF0F8",
           "linecolor": "#EBF0F8",
           "ticks": "",
           "title": {
            "standoff": 15
           },
           "zerolinecolor": "#EBF0F8",
           "zerolinewidth": 2
          },
          "yaxis": {
           "automargin": true,
           "gridcolor": "#EBF0F8",
           "linecolor": "#EBF0F8",
           "ticks": "",
           "title": {
            "standoff": 15
           },
           "zerolinecolor": "#EBF0F8",
           "zerolinewidth": 2
          }
         }
        },
        "title": {
         "text": "Historical Athlete Participation for USA"
        },
        "xaxis": {
         "title": {
          "text": "Year"
         }
        },
        "yaxis": {
         "title": {
          "text": "Count"
         }
        }
       }
      }
     },
     "metadata": {},
     "output_type": "display_data"
    }
   ],
   "source": [
    "fig1 = go.Figure()\n",
    "\n",
    "# Add traces for Athletes, Sports, Events, and Total Medals\n",
    "fig1.add_trace(go.Scatter(x=usa_data.index, y=usa_data['Athletes'], mode='lines+markers', name='Athletes', line=dict(color='blue')))\n",
    "fig1.add_trace(go.Scatter(x=usa_data.index, y=usa_data['Sports'], mode='lines+markers', name='Sports', line=dict(color='green')))\n",
    "fig1.add_trace(go.Scatter(x=usa_data.index, y=usa_data['Events'], mode='lines+markers', name='Events', line=dict(color='red')))\n",
    "fig1.add_trace(go.Scatter(x=usa_data.index, y=usa_data['Total_Medals'], mode='lines+markers', name='Total Medals', line=dict(color='purple')))\n",
    "\n",
    "# Set title and labels\n",
    "fig1.update_layout(\n",
    "    title='Historical Athlete Participation for USA',\n",
    "    xaxis_title='Year',\n",
    "    yaxis_title='Count',\n",
    "    legend_title='Metrics',\n",
    "    template='plotly_white'\n",
    ")\n",
    "\n",
    "# Show the plot\n",
    "fig1.show()\n"
   ]
  },
  {
   "cell_type": "code",
   "execution_count": 70,
   "metadata": {},
   "outputs": [
    {
     "data": {
      "application/vnd.plotly.v1+json": {
       "config": {
        "plotlyServerURL": "https://plot.ly"
       },
       "data": [
        {
         "line": {
          "color": "gold"
         },
         "mode": "lines+markers",
         "name": "Gold Medals",
         "type": "scatter",
         "x": [
          "1960-01-01T00:00:00",
          "1964-01-01T00:00:00",
          "1968-01-01T00:00:00",
          "1972-01-01T00:00:00",
          "1976-01-01T00:00:00",
          "1980-01-01T00:00:00",
          "1984-01-01T00:00:00",
          "1988-01-01T00:00:00",
          "1992-01-01T00:00:00",
          "1994-01-01T00:00:00",
          "1996-01-01T00:00:00",
          "1998-01-01T00:00:00",
          "2000-01-01T00:00:00",
          "2002-01-01T00:00:00",
          "2004-01-01T00:00:00",
          "2006-01-01T00:00:00",
          "2008-01-01T00:00:00",
          "2010-01-01T00:00:00",
          "2012-01-01T00:00:00",
          "2014-01-01T00:00:00",
          "2016-01-01T00:00:00"
         ],
         "y": [
          97,
          96,
          100,
          72,
          73,
          24,
          190,
          89,
          94,
          6,
          148,
          25,
          130,
          10,
          117,
          9,
          127,
          12,
          145,
          10,
          138
         ]
        },
        {
         "line": {
          "color": "silver"
         },
         "mode": "lines+markers",
         "name": "Silver Medals",
         "type": "scatter",
         "x": [
          "1960-01-01T00:00:00",
          "1964-01-01T00:00:00",
          "1968-01-01T00:00:00",
          "1972-01-01T00:00:00",
          "1976-01-01T00:00:00",
          "1980-01-01T00:00:00",
          "1984-01-01T00:00:00",
          "1988-01-01T00:00:00",
          "1992-01-01T00:00:00",
          "1994-01-01T00:00:00",
          "1996-01-01T00:00:00",
          "1998-01-01T00:00:00",
          "2000-01-01T00:00:00",
          "2002-01-01T00:00:00",
          "2004-01-01T00:00:00",
          "2006-01-01T00:00:00",
          "2008-01-01T00:00:00",
          "2010-01-01T00:00:00",
          "2012-01-01T00:00:00",
          "2014-01-01T00:00:00",
          "2016-01-01T00:00:00"
         ],
         "y": [
          24,
          39,
          37,
          77,
          61,
          4,
          121,
          67,
          57,
          8,
          43,
          4,
          61,
          58,
          75,
          11,
          110,
          63,
          57,
          30,
          54
         ]
        },
        {
         "line": {
          "color": "brown"
         },
         "mode": "lines+markers",
         "name": "Bronze Medals",
         "type": "scatter",
         "x": [
          "1960-01-01T00:00:00",
          "1964-01-01T00:00:00",
          "1968-01-01T00:00:00",
          "1972-01-01T00:00:00",
          "1976-01-01T00:00:00",
          "1980-01-01T00:00:00",
          "1984-01-01T00:00:00",
          "1988-01-01T00:00:00",
          "1992-01-01T00:00:00",
          "1994-01-01T00:00:00",
          "1996-01-01T00:00:00",
          "1998-01-01T00:00:00",
          "2000-01-01T00:00:00",
          "2002-01-01T00:00:00",
          "2004-01-01T00:00:00",
          "2006-01-01T00:00:00",
          "2008-01-01T00:00:00",
          "2010-01-01T00:00:00",
          "2012-01-01T00:00:00",
          "2014-01-01T00:00:00",
          "2016-01-01T00:00:00"
         ],
         "y": [
          22,
          42,
          36,
          46,
          40,
          1,
          50,
          58,
          86,
          5,
          50,
          5,
          50,
          15,
          70,
          32,
          79,
          22,
          46,
          24,
          71
         ]
        }
       ],
       "layout": {
        "legend": {
         "title": {
          "text": "Medal Type"
         }
        },
        "template": {
         "data": {
          "bar": [
           {
            "error_x": {
             "color": "#2a3f5f"
            },
            "error_y": {
             "color": "#2a3f5f"
            },
            "marker": {
             "line": {
              "color": "white",
              "width": 0.5
             },
             "pattern": {
              "fillmode": "overlay",
              "size": 10,
              "solidity": 0.2
             }
            },
            "type": "bar"
           }
          ],
          "barpolar": [
           {
            "marker": {
             "line": {
              "color": "white",
              "width": 0.5
             },
             "pattern": {
              "fillmode": "overlay",
              "size": 10,
              "solidity": 0.2
             }
            },
            "type": "barpolar"
           }
          ],
          "carpet": [
           {
            "aaxis": {
             "endlinecolor": "#2a3f5f",
             "gridcolor": "#C8D4E3",
             "linecolor": "#C8D4E3",
             "minorgridcolor": "#C8D4E3",
             "startlinecolor": "#2a3f5f"
            },
            "baxis": {
             "endlinecolor": "#2a3f5f",
             "gridcolor": "#C8D4E3",
             "linecolor": "#C8D4E3",
             "minorgridcolor": "#C8D4E3",
             "startlinecolor": "#2a3f5f"
            },
            "type": "carpet"
           }
          ],
          "choropleth": [
           {
            "colorbar": {
             "outlinewidth": 0,
             "ticks": ""
            },
            "type": "choropleth"
           }
          ],
          "contour": [
           {
            "colorbar": {
             "outlinewidth": 0,
             "ticks": ""
            },
            "colorscale": [
             [
              0,
              "#0d0887"
             ],
             [
              0.1111111111111111,
              "#46039f"
             ],
             [
              0.2222222222222222,
              "#7201a8"
             ],
             [
              0.3333333333333333,
              "#9c179e"
             ],
             [
              0.4444444444444444,
              "#bd3786"
             ],
             [
              0.5555555555555556,
              "#d8576b"
             ],
             [
              0.6666666666666666,
              "#ed7953"
             ],
             [
              0.7777777777777778,
              "#fb9f3a"
             ],
             [
              0.8888888888888888,
              "#fdca26"
             ],
             [
              1,
              "#f0f921"
             ]
            ],
            "type": "contour"
           }
          ],
          "contourcarpet": [
           {
            "colorbar": {
             "outlinewidth": 0,
             "ticks": ""
            },
            "type": "contourcarpet"
           }
          ],
          "heatmap": [
           {
            "colorbar": {
             "outlinewidth": 0,
             "ticks": ""
            },
            "colorscale": [
             [
              0,
              "#0d0887"
             ],
             [
              0.1111111111111111,
              "#46039f"
             ],
             [
              0.2222222222222222,
              "#7201a8"
             ],
             [
              0.3333333333333333,
              "#9c179e"
             ],
             [
              0.4444444444444444,
              "#bd3786"
             ],
             [
              0.5555555555555556,
              "#d8576b"
             ],
             [
              0.6666666666666666,
              "#ed7953"
             ],
             [
              0.7777777777777778,
              "#fb9f3a"
             ],
             [
              0.8888888888888888,
              "#fdca26"
             ],
             [
              1,
              "#f0f921"
             ]
            ],
            "type": "heatmap"
           }
          ],
          "heatmapgl": [
           {
            "colorbar": {
             "outlinewidth": 0,
             "ticks": ""
            },
            "colorscale": [
             [
              0,
              "#0d0887"
             ],
             [
              0.1111111111111111,
              "#46039f"
             ],
             [
              0.2222222222222222,
              "#7201a8"
             ],
             [
              0.3333333333333333,
              "#9c179e"
             ],
             [
              0.4444444444444444,
              "#bd3786"
             ],
             [
              0.5555555555555556,
              "#d8576b"
             ],
             [
              0.6666666666666666,
              "#ed7953"
             ],
             [
              0.7777777777777778,
              "#fb9f3a"
             ],
             [
              0.8888888888888888,
              "#fdca26"
             ],
             [
              1,
              "#f0f921"
             ]
            ],
            "type": "heatmapgl"
           }
          ],
          "histogram": [
           {
            "marker": {
             "pattern": {
              "fillmode": "overlay",
              "size": 10,
              "solidity": 0.2
             }
            },
            "type": "histogram"
           }
          ],
          "histogram2d": [
           {
            "colorbar": {
             "outlinewidth": 0,
             "ticks": ""
            },
            "colorscale": [
             [
              0,
              "#0d0887"
             ],
             [
              0.1111111111111111,
              "#46039f"
             ],
             [
              0.2222222222222222,
              "#7201a8"
             ],
             [
              0.3333333333333333,
              "#9c179e"
             ],
             [
              0.4444444444444444,
              "#bd3786"
             ],
             [
              0.5555555555555556,
              "#d8576b"
             ],
             [
              0.6666666666666666,
              "#ed7953"
             ],
             [
              0.7777777777777778,
              "#fb9f3a"
             ],
             [
              0.8888888888888888,
              "#fdca26"
             ],
             [
              1,
              "#f0f921"
             ]
            ],
            "type": "histogram2d"
           }
          ],
          "histogram2dcontour": [
           {
            "colorbar": {
             "outlinewidth": 0,
             "ticks": ""
            },
            "colorscale": [
             [
              0,
              "#0d0887"
             ],
             [
              0.1111111111111111,
              "#46039f"
             ],
             [
              0.2222222222222222,
              "#7201a8"
             ],
             [
              0.3333333333333333,
              "#9c179e"
             ],
             [
              0.4444444444444444,
              "#bd3786"
             ],
             [
              0.5555555555555556,
              "#d8576b"
             ],
             [
              0.6666666666666666,
              "#ed7953"
             ],
             [
              0.7777777777777778,
              "#fb9f3a"
             ],
             [
              0.8888888888888888,
              "#fdca26"
             ],
             [
              1,
              "#f0f921"
             ]
            ],
            "type": "histogram2dcontour"
           }
          ],
          "mesh3d": [
           {
            "colorbar": {
             "outlinewidth": 0,
             "ticks": ""
            },
            "type": "mesh3d"
           }
          ],
          "parcoords": [
           {
            "line": {
             "colorbar": {
              "outlinewidth": 0,
              "ticks": ""
             }
            },
            "type": "parcoords"
           }
          ],
          "pie": [
           {
            "automargin": true,
            "type": "pie"
           }
          ],
          "scatter": [
           {
            "fillpattern": {
             "fillmode": "overlay",
             "size": 10,
             "solidity": 0.2
            },
            "type": "scatter"
           }
          ],
          "scatter3d": [
           {
            "line": {
             "colorbar": {
              "outlinewidth": 0,
              "ticks": ""
             }
            },
            "marker": {
             "colorbar": {
              "outlinewidth": 0,
              "ticks": ""
             }
            },
            "type": "scatter3d"
           }
          ],
          "scattercarpet": [
           {
            "marker": {
             "colorbar": {
              "outlinewidth": 0,
              "ticks": ""
             }
            },
            "type": "scattercarpet"
           }
          ],
          "scattergeo": [
           {
            "marker": {
             "colorbar": {
              "outlinewidth": 0,
              "ticks": ""
             }
            },
            "type": "scattergeo"
           }
          ],
          "scattergl": [
           {
            "marker": {
             "colorbar": {
              "outlinewidth": 0,
              "ticks": ""
             }
            },
            "type": "scattergl"
           }
          ],
          "scattermapbox": [
           {
            "marker": {
             "colorbar": {
              "outlinewidth": 0,
              "ticks": ""
             }
            },
            "type": "scattermapbox"
           }
          ],
          "scatterpolar": [
           {
            "marker": {
             "colorbar": {
              "outlinewidth": 0,
              "ticks": ""
             }
            },
            "type": "scatterpolar"
           }
          ],
          "scatterpolargl": [
           {
            "marker": {
             "colorbar": {
              "outlinewidth": 0,
              "ticks": ""
             }
            },
            "type": "scatterpolargl"
           }
          ],
          "scatterternary": [
           {
            "marker": {
             "colorbar": {
              "outlinewidth": 0,
              "ticks": ""
             }
            },
            "type": "scatterternary"
           }
          ],
          "surface": [
           {
            "colorbar": {
             "outlinewidth": 0,
             "ticks": ""
            },
            "colorscale": [
             [
              0,
              "#0d0887"
             ],
             [
              0.1111111111111111,
              "#46039f"
             ],
             [
              0.2222222222222222,
              "#7201a8"
             ],
             [
              0.3333333333333333,
              "#9c179e"
             ],
             [
              0.4444444444444444,
              "#bd3786"
             ],
             [
              0.5555555555555556,
              "#d8576b"
             ],
             [
              0.6666666666666666,
              "#ed7953"
             ],
             [
              0.7777777777777778,
              "#fb9f3a"
             ],
             [
              0.8888888888888888,
              "#fdca26"
             ],
             [
              1,
              "#f0f921"
             ]
            ],
            "type": "surface"
           }
          ],
          "table": [
           {
            "cells": {
             "fill": {
              "color": "#EBF0F8"
             },
             "line": {
              "color": "white"
             }
            },
            "header": {
             "fill": {
              "color": "#C8D4E3"
             },
             "line": {
              "color": "white"
             }
            },
            "type": "table"
           }
          ]
         },
         "layout": {
          "annotationdefaults": {
           "arrowcolor": "#2a3f5f",
           "arrowhead": 0,
           "arrowwidth": 1
          },
          "autotypenumbers": "strict",
          "coloraxis": {
           "colorbar": {
            "outlinewidth": 0,
            "ticks": ""
           }
          },
          "colorscale": {
           "diverging": [
            [
             0,
             "#8e0152"
            ],
            [
             0.1,
             "#c51b7d"
            ],
            [
             0.2,
             "#de77ae"
            ],
            [
             0.3,
             "#f1b6da"
            ],
            [
             0.4,
             "#fde0ef"
            ],
            [
             0.5,
             "#f7f7f7"
            ],
            [
             0.6,
             "#e6f5d0"
            ],
            [
             0.7,
             "#b8e186"
            ],
            [
             0.8,
             "#7fbc41"
            ],
            [
             0.9,
             "#4d9221"
            ],
            [
             1,
             "#276419"
            ]
           ],
           "sequential": [
            [
             0,
             "#0d0887"
            ],
            [
             0.1111111111111111,
             "#46039f"
            ],
            [
             0.2222222222222222,
             "#7201a8"
            ],
            [
             0.3333333333333333,
             "#9c179e"
            ],
            [
             0.4444444444444444,
             "#bd3786"
            ],
            [
             0.5555555555555556,
             "#d8576b"
            ],
            [
             0.6666666666666666,
             "#ed7953"
            ],
            [
             0.7777777777777778,
             "#fb9f3a"
            ],
            [
             0.8888888888888888,
             "#fdca26"
            ],
            [
             1,
             "#f0f921"
            ]
           ],
           "sequentialminus": [
            [
             0,
             "#0d0887"
            ],
            [
             0.1111111111111111,
             "#46039f"
            ],
            [
             0.2222222222222222,
             "#7201a8"
            ],
            [
             0.3333333333333333,
             "#9c179e"
            ],
            [
             0.4444444444444444,
             "#bd3786"
            ],
            [
             0.5555555555555556,
             "#d8576b"
            ],
            [
             0.6666666666666666,
             "#ed7953"
            ],
            [
             0.7777777777777778,
             "#fb9f3a"
            ],
            [
             0.8888888888888888,
             "#fdca26"
            ],
            [
             1,
             "#f0f921"
            ]
           ]
          },
          "colorway": [
           "#636efa",
           "#EF553B",
           "#00cc96",
           "#ab63fa",
           "#FFA15A",
           "#19d3f3",
           "#FF6692",
           "#B6E880",
           "#FF97FF",
           "#FECB52"
          ],
          "font": {
           "color": "#2a3f5f"
          },
          "geo": {
           "bgcolor": "white",
           "lakecolor": "white",
           "landcolor": "white",
           "showlakes": true,
           "showland": true,
           "subunitcolor": "#C8D4E3"
          },
          "hoverlabel": {
           "align": "left"
          },
          "hovermode": "closest",
          "mapbox": {
           "style": "light"
          },
          "paper_bgcolor": "white",
          "plot_bgcolor": "white",
          "polar": {
           "angularaxis": {
            "gridcolor": "#EBF0F8",
            "linecolor": "#EBF0F8",
            "ticks": ""
           },
           "bgcolor": "white",
           "radialaxis": {
            "gridcolor": "#EBF0F8",
            "linecolor": "#EBF0F8",
            "ticks": ""
           }
          },
          "scene": {
           "xaxis": {
            "backgroundcolor": "white",
            "gridcolor": "#DFE8F3",
            "gridwidth": 2,
            "linecolor": "#EBF0F8",
            "showbackground": true,
            "ticks": "",
            "zerolinecolor": "#EBF0F8"
           },
           "yaxis": {
            "backgroundcolor": "white",
            "gridcolor": "#DFE8F3",
            "gridwidth": 2,
            "linecolor": "#EBF0F8",
            "showbackground": true,
            "ticks": "",
            "zerolinecolor": "#EBF0F8"
           },
           "zaxis": {
            "backgroundcolor": "white",
            "gridcolor": "#DFE8F3",
            "gridwidth": 2,
            "linecolor": "#EBF0F8",
            "showbackground": true,
            "ticks": "",
            "zerolinecolor": "#EBF0F8"
           }
          },
          "shapedefaults": {
           "line": {
            "color": "#2a3f5f"
           }
          },
          "ternary": {
           "aaxis": {
            "gridcolor": "#DFE8F3",
            "linecolor": "#A2B1C6",
            "ticks": ""
           },
           "baxis": {
            "gridcolor": "#DFE8F3",
            "linecolor": "#A2B1C6",
            "ticks": ""
           },
           "bgcolor": "white",
           "caxis": {
            "gridcolor": "#DFE8F3",
            "linecolor": "#A2B1C6",
            "ticks": ""
           }
          },
          "title": {
           "x": 0.05
          },
          "xaxis": {
           "automargin": true,
           "gridcolor": "#EBF0F8",
           "linecolor": "#EBF0F8",
           "ticks": "",
           "title": {
            "standoff": 15
           },
           "zerolinecolor": "#EBF0F8",
           "zerolinewidth": 2
          },
          "yaxis": {
           "automargin": true,
           "gridcolor": "#EBF0F8",
           "linecolor": "#EBF0F8",
           "ticks": "",
           "title": {
            "standoff": 15
           },
           "zerolinecolor": "#EBF0F8",
           "zerolinewidth": 2
          }
         }
        },
        "title": {
         "text": "Historical Medal Count for USA"
        },
        "xaxis": {
         "title": {
          "text": "Year"
         }
        },
        "yaxis": {
         "title": {
          "text": "Count"
         }
        }
       }
      }
     },
     "metadata": {},
     "output_type": "display_data"
    }
   ],
   "source": [
    "# Historical Medal Count\n",
    "fig2 = go.Figure()\n",
    "\n",
    "# Add traces for Gold, Silver, and Bronze Medals\n",
    "fig2.add_trace(go.Scatter(x=usa_data.index, y=usa_data['Gold'], mode='lines+markers', name='Gold Medals', line=dict(color='gold')))\n",
    "fig2.add_trace(go.Scatter(x=usa_data.index, y=usa_data['Silver'], mode='lines+markers', name='Silver Medals', line=dict(color='silver')))\n",
    "fig2.add_trace(go.Scatter(x=usa_data.index, y=usa_data['Bronze'], mode='lines+markers', name='Bronze Medals', line=dict(color='brown')))\n",
    "\n",
    "# Set title and labels\n",
    "fig2.update_layout(\n",
    "    title='Historical Medal Count for USA',\n",
    "    xaxis_title='Year',\n",
    "    yaxis_title='Count',\n",
    "    legend_title='Medal Type',\n",
    "    template='plotly_white'\n",
    ")\n",
    "\n",
    "# Show the plot\n",
    "fig2.show()\n"
   ]
  },
  {
   "cell_type": "markdown",
   "metadata": {},
   "source": [
    "## Timeseries model"
   ]
  },
  {
   "cell_type": "code",
   "execution_count": 71,
   "metadata": {},
   "outputs": [],
   "source": [
    "from statsmodels.tsa.vector_ar.var_model import VAR"
   ]
  },
  {
   "cell_type": "code",
   "execution_count": 72,
   "metadata": {},
   "outputs": [],
   "source": [
    "train = usa_data"
   ]
  },
  {
   "cell_type": "code",
   "execution_count": 73,
   "metadata": {},
   "outputs": [],
   "source": [
    "# Fit VAR model\n",
    "model = VAR(train)\n",
    "model_fit = model.fit()"
   ]
  },
  {
   "cell_type": "code",
   "execution_count": 74,
   "metadata": {},
   "outputs": [],
   "source": [
    "# Forecast for 2024\n",
    "forecast = model_fit.forecast(train.values, steps=8)"
   ]
  },
  {
   "cell_type": "code",
   "execution_count": 75,
   "metadata": {},
   "outputs": [
    {
     "name": "stdout",
     "output_type": "stream",
     "text": [
      "Forecasted values for 2024:\n"
     ]
    },
    {
     "data": {
      "text/html": [
       "<div>\n",
       "<style scoped>\n",
       "    .dataframe tbody tr th:only-of-type {\n",
       "        vertical-align: middle;\n",
       "    }\n",
       "\n",
       "    .dataframe tbody tr th {\n",
       "        vertical-align: top;\n",
       "    }\n",
       "\n",
       "    .dataframe thead th {\n",
       "        text-align: right;\n",
       "    }\n",
       "</style>\n",
       "<table border=\"1\" class=\"dataframe\">\n",
       "  <thead>\n",
       "    <tr style=\"text-align: right;\">\n",
       "      <th></th>\n",
       "      <th>Athletes</th>\n",
       "      <th>Sports</th>\n",
       "      <th>Events</th>\n",
       "      <th>Gold</th>\n",
       "      <th>Silver</th>\n",
       "      <th>Bronze</th>\n",
       "      <th>Total_Medals</th>\n",
       "    </tr>\n",
       "  </thead>\n",
       "  <tbody>\n",
       "    <tr>\n",
       "      <th>2017-01-01</th>\n",
       "      <td>430.487584</td>\n",
       "      <td>17.802324</td>\n",
       "      <td>103.667017</td>\n",
       "      <td>36.276874</td>\n",
       "      <td>48.234328</td>\n",
       "      <td>23.106314</td>\n",
       "      <td>107.617516</td>\n",
       "    </tr>\n",
       "    <tr>\n",
       "      <th>2018-01-01</th>\n",
       "      <td>908.690451</td>\n",
       "      <td>38.560508</td>\n",
       "      <td>310.278516</td>\n",
       "      <td>147.580334</td>\n",
       "      <td>82.552010</td>\n",
       "      <td>73.372615</td>\n",
       "      <td>303.504959</td>\n",
       "    </tr>\n",
       "    <tr>\n",
       "      <th>2019-01-01</th>\n",
       "      <td>306.846385</td>\n",
       "      <td>14.505271</td>\n",
       "      <td>71.807774</td>\n",
       "      <td>-3.684780</td>\n",
       "      <td>21.491604</td>\n",
       "      <td>15.465012</td>\n",
       "      <td>33.271836</td>\n",
       "    </tr>\n",
       "    <tr>\n",
       "      <th>2020-01-01</th>\n",
       "      <td>790.614145</td>\n",
       "      <td>33.956892</td>\n",
       "      <td>273.392515</td>\n",
       "      <td>149.603241</td>\n",
       "      <td>73.919040</td>\n",
       "      <td>64.005823</td>\n",
       "      <td>287.528103</td>\n",
       "    </tr>\n",
       "    <tr>\n",
       "      <th>2021-01-01</th>\n",
       "      <td>345.794983</td>\n",
       "      <td>15.698503</td>\n",
       "      <td>82.422330</td>\n",
       "      <td>13.152337</td>\n",
       "      <td>32.334963</td>\n",
       "      <td>17.701113</td>\n",
       "      <td>63.188414</td>\n",
       "    </tr>\n",
       "    <tr>\n",
       "      <th>2022-01-01</th>\n",
       "      <td>835.440370</td>\n",
       "      <td>35.616577</td>\n",
       "      <td>286.476088</td>\n",
       "      <td>149.416530</td>\n",
       "      <td>77.610850</td>\n",
       "      <td>66.802652</td>\n",
       "      <td>293.830032</td>\n",
       "    </tr>\n",
       "    <tr>\n",
       "      <th>2023-01-01</th>\n",
       "      <td>344.377987</td>\n",
       "      <td>15.788595</td>\n",
       "      <td>83.245385</td>\n",
       "      <td>8.601959</td>\n",
       "      <td>29.000508</td>\n",
       "      <td>17.860097</td>\n",
       "      <td>55.462565</td>\n",
       "    </tr>\n",
       "    <tr>\n",
       "      <th>2024-01-01</th>\n",
       "      <td>810.834014</td>\n",
       "      <td>34.699401</td>\n",
       "      <td>278.539631</td>\n",
       "      <td>146.819466</td>\n",
       "      <td>74.874182</td>\n",
       "      <td>64.948545</td>\n",
       "      <td>286.642193</td>\n",
       "    </tr>\n",
       "  </tbody>\n",
       "</table>\n",
       "</div>"
      ],
      "text/plain": [
       "              Athletes     Sports      Events        Gold     Silver  \\\n",
       "2017-01-01  430.487584  17.802324  103.667017   36.276874  48.234328   \n",
       "2018-01-01  908.690451  38.560508  310.278516  147.580334  82.552010   \n",
       "2019-01-01  306.846385  14.505271   71.807774   -3.684780  21.491604   \n",
       "2020-01-01  790.614145  33.956892  273.392515  149.603241  73.919040   \n",
       "2021-01-01  345.794983  15.698503   82.422330   13.152337  32.334963   \n",
       "2022-01-01  835.440370  35.616577  286.476088  149.416530  77.610850   \n",
       "2023-01-01  344.377987  15.788595   83.245385    8.601959  29.000508   \n",
       "2024-01-01  810.834014  34.699401  278.539631  146.819466  74.874182   \n",
       "\n",
       "               Bronze  Total_Medals  \n",
       "2017-01-01  23.106314    107.617516  \n",
       "2018-01-01  73.372615    303.504959  \n",
       "2019-01-01  15.465012     33.271836  \n",
       "2020-01-01  64.005823    287.528103  \n",
       "2021-01-01  17.701113     63.188414  \n",
       "2022-01-01  66.802652    293.830032  \n",
       "2023-01-01  17.860097     55.462565  \n",
       "2024-01-01  64.948545    286.642193  "
      ]
     },
     "execution_count": 75,
     "metadata": {},
     "output_type": "execute_result"
    }
   ],
   "source": [
    "# Print forecasted values for 2024\n",
    "print(\"Forecasted values for 2024:\")\n",
    "years = pd.date_range(start='2017-01-01', end='2025-01-01', freq='Y')\n",
    "forecast_df = pd.DataFrame(forecast, columns=usa_data.columns, index=years)\n",
    "forecast_df.index = forecast_df.index.strftime('%Y-01-01')\n",
    "forecast_df"
   ]
  },
  {
   "cell_type": "markdown",
   "metadata": {},
   "source": [
    "## Visualizations for 2024 - USA"
   ]
  },
  {
   "cell_type": "code",
   "execution_count": 76,
   "metadata": {},
   "outputs": [
    {
     "data": {
      "application/vnd.plotly.v1+json": {
       "config": {
        "plotlyServerURL": "https://plot.ly"
       },
       "data": [
        {
         "mode": "lines+markers",
         "name": "Total Medals",
         "type": "scatter",
         "x": [
          "1960-01-01T00:00:00",
          "1964-01-01T00:00:00",
          "1968-01-01T00:00:00",
          "1972-01-01T00:00:00",
          "1976-01-01T00:00:00",
          "1980-01-01T00:00:00",
          "1984-01-01T00:00:00",
          "1988-01-01T00:00:00",
          "1992-01-01T00:00:00",
          "1994-01-01T00:00:00",
          "1996-01-01T00:00:00",
          "1998-01-01T00:00:00",
          "2000-01-01T00:00:00",
          "2002-01-01T00:00:00",
          "2004-01-01T00:00:00",
          "2006-01-01T00:00:00",
          "2008-01-01T00:00:00",
          "2010-01-01T00:00:00",
          "2012-01-01T00:00:00",
          "2014-01-01T00:00:00",
          "2016-01-01T00:00:00"
         ],
         "y": [
          143,
          177,
          173,
          195,
          174,
          29,
          361,
          214,
          237,
          19,
          241,
          34,
          241,
          83,
          262,
          52,
          316,
          97,
          248,
          64,
          263
         ]
        },
        {
         "mode": "lines+markers",
         "name": "Total Medals",
         "type": "scatter",
         "x": [
          "2017-01-01",
          "2018-01-01",
          "2019-01-01",
          "2020-01-01",
          "2021-01-01",
          "2022-01-01",
          "2023-01-01",
          "2024-01-01"
         ],
         "y": [
          107.61751620944986,
          303.504958842577,
          33.27183587224434,
          287.52810303780916,
          63.18841354490908,
          293.830031655506,
          55.46256470881204,
          286.6421927810269
         ]
        },
        {
         "marker": {
          "color": "red",
          "size": 14
         },
         "mode": "markers",
         "name": "2024 Forecast",
         "type": "scatter",
         "x": [
          "2024-01-01"
         ],
         "y": [
          286.6421927810269
         ]
        }
       ],
       "layout": {
        "template": {
         "data": {
          "bar": [
           {
            "error_x": {
             "color": "#2a3f5f"
            },
            "error_y": {
             "color": "#2a3f5f"
            },
            "marker": {
             "line": {
              "color": "#E5ECF6",
              "width": 0.5
             },
             "pattern": {
              "fillmode": "overlay",
              "size": 10,
              "solidity": 0.2
             }
            },
            "type": "bar"
           }
          ],
          "barpolar": [
           {
            "marker": {
             "line": {
              "color": "#E5ECF6",
              "width": 0.5
             },
             "pattern": {
              "fillmode": "overlay",
              "size": 10,
              "solidity": 0.2
             }
            },
            "type": "barpolar"
           }
          ],
          "carpet": [
           {
            "aaxis": {
             "endlinecolor": "#2a3f5f",
             "gridcolor": "white",
             "linecolor": "white",
             "minorgridcolor": "white",
             "startlinecolor": "#2a3f5f"
            },
            "baxis": {
             "endlinecolor": "#2a3f5f",
             "gridcolor": "white",
             "linecolor": "white",
             "minorgridcolor": "white",
             "startlinecolor": "#2a3f5f"
            },
            "type": "carpet"
           }
          ],
          "choropleth": [
           {
            "colorbar": {
             "outlinewidth": 0,
             "ticks": ""
            },
            "type": "choropleth"
           }
          ],
          "contour": [
           {
            "colorbar": {
             "outlinewidth": 0,
             "ticks": ""
            },
            "colorscale": [
             [
              0,
              "#0d0887"
             ],
             [
              0.1111111111111111,
              "#46039f"
             ],
             [
              0.2222222222222222,
              "#7201a8"
             ],
             [
              0.3333333333333333,
              "#9c179e"
             ],
             [
              0.4444444444444444,
              "#bd3786"
             ],
             [
              0.5555555555555556,
              "#d8576b"
             ],
             [
              0.6666666666666666,
              "#ed7953"
             ],
             [
              0.7777777777777778,
              "#fb9f3a"
             ],
             [
              0.8888888888888888,
              "#fdca26"
             ],
             [
              1,
              "#f0f921"
             ]
            ],
            "type": "contour"
           }
          ],
          "contourcarpet": [
           {
            "colorbar": {
             "outlinewidth": 0,
             "ticks": ""
            },
            "type": "contourcarpet"
           }
          ],
          "heatmap": [
           {
            "colorbar": {
             "outlinewidth": 0,
             "ticks": ""
            },
            "colorscale": [
             [
              0,
              "#0d0887"
             ],
             [
              0.1111111111111111,
              "#46039f"
             ],
             [
              0.2222222222222222,
              "#7201a8"
             ],
             [
              0.3333333333333333,
              "#9c179e"
             ],
             [
              0.4444444444444444,
              "#bd3786"
             ],
             [
              0.5555555555555556,
              "#d8576b"
             ],
             [
              0.6666666666666666,
              "#ed7953"
             ],
             [
              0.7777777777777778,
              "#fb9f3a"
             ],
             [
              0.8888888888888888,
              "#fdca26"
             ],
             [
              1,
              "#f0f921"
             ]
            ],
            "type": "heatmap"
           }
          ],
          "heatmapgl": [
           {
            "colorbar": {
             "outlinewidth": 0,
             "ticks": ""
            },
            "colorscale": [
             [
              0,
              "#0d0887"
             ],
             [
              0.1111111111111111,
              "#46039f"
             ],
             [
              0.2222222222222222,
              "#7201a8"
             ],
             [
              0.3333333333333333,
              "#9c179e"
             ],
             [
              0.4444444444444444,
              "#bd3786"
             ],
             [
              0.5555555555555556,
              "#d8576b"
             ],
             [
              0.6666666666666666,
              "#ed7953"
             ],
             [
              0.7777777777777778,
              "#fb9f3a"
             ],
             [
              0.8888888888888888,
              "#fdca26"
             ],
             [
              1,
              "#f0f921"
             ]
            ],
            "type": "heatmapgl"
           }
          ],
          "histogram": [
           {
            "marker": {
             "pattern": {
              "fillmode": "overlay",
              "size": 10,
              "solidity": 0.2
             }
            },
            "type": "histogram"
           }
          ],
          "histogram2d": [
           {
            "colorbar": {
             "outlinewidth": 0,
             "ticks": ""
            },
            "colorscale": [
             [
              0,
              "#0d0887"
             ],
             [
              0.1111111111111111,
              "#46039f"
             ],
             [
              0.2222222222222222,
              "#7201a8"
             ],
             [
              0.3333333333333333,
              "#9c179e"
             ],
             [
              0.4444444444444444,
              "#bd3786"
             ],
             [
              0.5555555555555556,
              "#d8576b"
             ],
             [
              0.6666666666666666,
              "#ed7953"
             ],
             [
              0.7777777777777778,
              "#fb9f3a"
             ],
             [
              0.8888888888888888,
              "#fdca26"
             ],
             [
              1,
              "#f0f921"
             ]
            ],
            "type": "histogram2d"
           }
          ],
          "histogram2dcontour": [
           {
            "colorbar": {
             "outlinewidth": 0,
             "ticks": ""
            },
            "colorscale": [
             [
              0,
              "#0d0887"
             ],
             [
              0.1111111111111111,
              "#46039f"
             ],
             [
              0.2222222222222222,
              "#7201a8"
             ],
             [
              0.3333333333333333,
              "#9c179e"
             ],
             [
              0.4444444444444444,
              "#bd3786"
             ],
             [
              0.5555555555555556,
              "#d8576b"
             ],
             [
              0.6666666666666666,
              "#ed7953"
             ],
             [
              0.7777777777777778,
              "#fb9f3a"
             ],
             [
              0.8888888888888888,
              "#fdca26"
             ],
             [
              1,
              "#f0f921"
             ]
            ],
            "type": "histogram2dcontour"
           }
          ],
          "mesh3d": [
           {
            "colorbar": {
             "outlinewidth": 0,
             "ticks": ""
            },
            "type": "mesh3d"
           }
          ],
          "parcoords": [
           {
            "line": {
             "colorbar": {
              "outlinewidth": 0,
              "ticks": ""
             }
            },
            "type": "parcoords"
           }
          ],
          "pie": [
           {
            "automargin": true,
            "type": "pie"
           }
          ],
          "scatter": [
           {
            "fillpattern": {
             "fillmode": "overlay",
             "size": 10,
             "solidity": 0.2
            },
            "type": "scatter"
           }
          ],
          "scatter3d": [
           {
            "line": {
             "colorbar": {
              "outlinewidth": 0,
              "ticks": ""
             }
            },
            "marker": {
             "colorbar": {
              "outlinewidth": 0,
              "ticks": ""
             }
            },
            "type": "scatter3d"
           }
          ],
          "scattercarpet": [
           {
            "marker": {
             "colorbar": {
              "outlinewidth": 0,
              "ticks": ""
             }
            },
            "type": "scattercarpet"
           }
          ],
          "scattergeo": [
           {
            "marker": {
             "colorbar": {
              "outlinewidth": 0,
              "ticks": ""
             }
            },
            "type": "scattergeo"
           }
          ],
          "scattergl": [
           {
            "marker": {
             "colorbar": {
              "outlinewidth": 0,
              "ticks": ""
             }
            },
            "type": "scattergl"
           }
          ],
          "scattermapbox": [
           {
            "marker": {
             "colorbar": {
              "outlinewidth": 0,
              "ticks": ""
             }
            },
            "type": "scattermapbox"
           }
          ],
          "scatterpolar": [
           {
            "marker": {
             "colorbar": {
              "outlinewidth": 0,
              "ticks": ""
             }
            },
            "type": "scatterpolar"
           }
          ],
          "scatterpolargl": [
           {
            "marker": {
             "colorbar": {
              "outlinewidth": 0,
              "ticks": ""
             }
            },
            "type": "scatterpolargl"
           }
          ],
          "scatterternary": [
           {
            "marker": {
             "colorbar": {
              "outlinewidth": 0,
              "ticks": ""
             }
            },
            "type": "scatterternary"
           }
          ],
          "surface": [
           {
            "colorbar": {
             "outlinewidth": 0,
             "ticks": ""
            },
            "colorscale": [
             [
              0,
              "#0d0887"
             ],
             [
              0.1111111111111111,
              "#46039f"
             ],
             [
              0.2222222222222222,
              "#7201a8"
             ],
             [
              0.3333333333333333,
              "#9c179e"
             ],
             [
              0.4444444444444444,
              "#bd3786"
             ],
             [
              0.5555555555555556,
              "#d8576b"
             ],
             [
              0.6666666666666666,
              "#ed7953"
             ],
             [
              0.7777777777777778,
              "#fb9f3a"
             ],
             [
              0.8888888888888888,
              "#fdca26"
             ],
             [
              1,
              "#f0f921"
             ]
            ],
            "type": "surface"
           }
          ],
          "table": [
           {
            "cells": {
             "fill": {
              "color": "#EBF0F8"
             },
             "line": {
              "color": "white"
             }
            },
            "header": {
             "fill": {
              "color": "#C8D4E3"
             },
             "line": {
              "color": "white"
             }
            },
            "type": "table"
           }
          ]
         },
         "layout": {
          "annotationdefaults": {
           "arrowcolor": "#2a3f5f",
           "arrowhead": 0,
           "arrowwidth": 1
          },
          "autotypenumbers": "strict",
          "coloraxis": {
           "colorbar": {
            "outlinewidth": 0,
            "ticks": ""
           }
          },
          "colorscale": {
           "diverging": [
            [
             0,
             "#8e0152"
            ],
            [
             0.1,
             "#c51b7d"
            ],
            [
             0.2,
             "#de77ae"
            ],
            [
             0.3,
             "#f1b6da"
            ],
            [
             0.4,
             "#fde0ef"
            ],
            [
             0.5,
             "#f7f7f7"
            ],
            [
             0.6,
             "#e6f5d0"
            ],
            [
             0.7,
             "#b8e186"
            ],
            [
             0.8,
             "#7fbc41"
            ],
            [
             0.9,
             "#4d9221"
            ],
            [
             1,
             "#276419"
            ]
           ],
           "sequential": [
            [
             0,
             "#0d0887"
            ],
            [
             0.1111111111111111,
             "#46039f"
            ],
            [
             0.2222222222222222,
             "#7201a8"
            ],
            [
             0.3333333333333333,
             "#9c179e"
            ],
            [
             0.4444444444444444,
             "#bd3786"
            ],
            [
             0.5555555555555556,
             "#d8576b"
            ],
            [
             0.6666666666666666,
             "#ed7953"
            ],
            [
             0.7777777777777778,
             "#fb9f3a"
            ],
            [
             0.8888888888888888,
             "#fdca26"
            ],
            [
             1,
             "#f0f921"
            ]
           ],
           "sequentialminus": [
            [
             0,
             "#0d0887"
            ],
            [
             0.1111111111111111,
             "#46039f"
            ],
            [
             0.2222222222222222,
             "#7201a8"
            ],
            [
             0.3333333333333333,
             "#9c179e"
            ],
            [
             0.4444444444444444,
             "#bd3786"
            ],
            [
             0.5555555555555556,
             "#d8576b"
            ],
            [
             0.6666666666666666,
             "#ed7953"
            ],
            [
             0.7777777777777778,
             "#fb9f3a"
            ],
            [
             0.8888888888888888,
             "#fdca26"
            ],
            [
             1,
             "#f0f921"
            ]
           ]
          },
          "colorway": [
           "#636efa",
           "#EF553B",
           "#00cc96",
           "#ab63fa",
           "#FFA15A",
           "#19d3f3",
           "#FF6692",
           "#B6E880",
           "#FF97FF",
           "#FECB52"
          ],
          "font": {
           "color": "#2a3f5f"
          },
          "geo": {
           "bgcolor": "white",
           "lakecolor": "white",
           "landcolor": "#E5ECF6",
           "showlakes": true,
           "showland": true,
           "subunitcolor": "white"
          },
          "hoverlabel": {
           "align": "left"
          },
          "hovermode": "closest",
          "mapbox": {
           "style": "light"
          },
          "paper_bgcolor": "white",
          "plot_bgcolor": "#E5ECF6",
          "polar": {
           "angularaxis": {
            "gridcolor": "white",
            "linecolor": "white",
            "ticks": ""
           },
           "bgcolor": "#E5ECF6",
           "radialaxis": {
            "gridcolor": "white",
            "linecolor": "white",
            "ticks": ""
           }
          },
          "scene": {
           "xaxis": {
            "backgroundcolor": "#E5ECF6",
            "gridcolor": "white",
            "gridwidth": 2,
            "linecolor": "white",
            "showbackground": true,
            "ticks": "",
            "zerolinecolor": "white"
           },
           "yaxis": {
            "backgroundcolor": "#E5ECF6",
            "gridcolor": "white",
            "gridwidth": 2,
            "linecolor": "white",
            "showbackground": true,
            "ticks": "",
            "zerolinecolor": "white"
           },
           "zaxis": {
            "backgroundcolor": "#E5ECF6",
            "gridcolor": "white",
            "gridwidth": 2,
            "linecolor": "white",
            "showbackground": true,
            "ticks": "",
            "zerolinecolor": "white"
           }
          },
          "shapedefaults": {
           "line": {
            "color": "#2a3f5f"
           }
          },
          "ternary": {
           "aaxis": {
            "gridcolor": "white",
            "linecolor": "white",
            "ticks": ""
           },
           "baxis": {
            "gridcolor": "white",
            "linecolor": "white",
            "ticks": ""
           },
           "bgcolor": "#E5ECF6",
           "caxis": {
            "gridcolor": "white",
            "linecolor": "white",
            "ticks": ""
           }
          },
          "title": {
           "x": 0.05
          },
          "xaxis": {
           "automargin": true,
           "gridcolor": "white",
           "linecolor": "white",
           "ticks": "",
           "title": {
            "standoff": 15
           },
           "zerolinecolor": "white",
           "zerolinewidth": 2
          },
          "yaxis": {
           "automargin": true,
           "gridcolor": "white",
           "linecolor": "white",
           "ticks": "",
           "title": {
            "standoff": 15
           },
           "zerolinecolor": "white",
           "zerolinewidth": 2
          }
         }
        },
        "title": {
         "text": "Total Medals Over the Years with 2024 Forecast"
        },
        "xaxis": {
         "title": {
          "text": "Year"
         }
        },
        "yaxis": {
         "title": {
          "text": "Total Medals"
         }
        }
       }
      }
     },
     "metadata": {},
     "output_type": "display_data"
    },
    {
     "data": {
      "application/vnd.plotly.v1+json": {
       "config": {
        "plotlyServerURL": "https://plot.ly"
       },
       "data": [
        {
         "line": {
          "color": "gold"
         },
         "mode": "lines+markers",
         "name": "Gold Medals",
         "type": "scatter",
         "x": [
          "1960-01-01T00:00:00",
          "1964-01-01T00:00:00",
          "1968-01-01T00:00:00",
          "1972-01-01T00:00:00",
          "1976-01-01T00:00:00",
          "1980-01-01T00:00:00",
          "1984-01-01T00:00:00",
          "1988-01-01T00:00:00",
          "1992-01-01T00:00:00",
          "1994-01-01T00:00:00",
          "1996-01-01T00:00:00",
          "1998-01-01T00:00:00",
          "2000-01-01T00:00:00",
          "2002-01-01T00:00:00",
          "2004-01-01T00:00:00",
          "2006-01-01T00:00:00",
          "2008-01-01T00:00:00",
          "2010-01-01T00:00:00",
          "2012-01-01T00:00:00",
          "2014-01-01T00:00:00",
          "2016-01-01T00:00:00"
         ],
         "y": [
          97,
          96,
          100,
          72,
          73,
          24,
          190,
          89,
          94,
          6,
          148,
          25,
          130,
          10,
          117,
          9,
          127,
          12,
          145,
          10,
          138
         ]
        },
        {
         "line": {
          "color": "silver"
         },
         "mode": "lines+markers",
         "name": "Silver Medals",
         "type": "scatter",
         "x": [
          "1960-01-01T00:00:00",
          "1964-01-01T00:00:00",
          "1968-01-01T00:00:00",
          "1972-01-01T00:00:00",
          "1976-01-01T00:00:00",
          "1980-01-01T00:00:00",
          "1984-01-01T00:00:00",
          "1988-01-01T00:00:00",
          "1992-01-01T00:00:00",
          "1994-01-01T00:00:00",
          "1996-01-01T00:00:00",
          "1998-01-01T00:00:00",
          "2000-01-01T00:00:00",
          "2002-01-01T00:00:00",
          "2004-01-01T00:00:00",
          "2006-01-01T00:00:00",
          "2008-01-01T00:00:00",
          "2010-01-01T00:00:00",
          "2012-01-01T00:00:00",
          "2014-01-01T00:00:00",
          "2016-01-01T00:00:00"
         ],
         "y": [
          24,
          39,
          37,
          77,
          61,
          4,
          121,
          67,
          57,
          8,
          43,
          4,
          61,
          58,
          75,
          11,
          110,
          63,
          57,
          30,
          54
         ]
        },
        {
         "line": {
          "color": "#CD7F32"
         },
         "mode": "lines+markers",
         "name": "Bronze Medals",
         "type": "scatter",
         "x": [
          "1960-01-01T00:00:00",
          "1964-01-01T00:00:00",
          "1968-01-01T00:00:00",
          "1972-01-01T00:00:00",
          "1976-01-01T00:00:00",
          "1980-01-01T00:00:00",
          "1984-01-01T00:00:00",
          "1988-01-01T00:00:00",
          "1992-01-01T00:00:00",
          "1994-01-01T00:00:00",
          "1996-01-01T00:00:00",
          "1998-01-01T00:00:00",
          "2000-01-01T00:00:00",
          "2002-01-01T00:00:00",
          "2004-01-01T00:00:00",
          "2006-01-01T00:00:00",
          "2008-01-01T00:00:00",
          "2010-01-01T00:00:00",
          "2012-01-01T00:00:00",
          "2014-01-01T00:00:00",
          "2016-01-01T00:00:00"
         ],
         "y": [
          22,
          42,
          36,
          46,
          40,
          1,
          50,
          58,
          86,
          5,
          50,
          5,
          50,
          15,
          70,
          32,
          79,
          22,
          46,
          24,
          71
         ]
        },
        {
         "line": {
          "color": "gold"
         },
         "mode": "lines+markers",
         "name": "Gold Medals",
         "type": "scatter",
         "x": [
          "2017-01-01",
          "2018-01-01",
          "2019-01-01",
          "2020-01-01",
          "2021-01-01",
          "2022-01-01",
          "2023-01-01",
          "2024-01-01"
         ],
         "y": [
          36.27687398540891,
          147.5803338602463,
          -3.6847800774925474,
          149.60324057032318,
          13.152337080156968,
          149.41652972545194,
          8.601959364362727,
          146.81946559530758
         ]
        },
        {
         "line": {
          "color": "silver"
         },
         "mode": "lines+markers",
         "name": "Silver Medals",
         "type": "scatter",
         "x": [
          "2017-01-01",
          "2018-01-01",
          "2019-01-01",
          "2020-01-01",
          "2021-01-01",
          "2022-01-01",
          "2023-01-01",
          "2024-01-01"
         ],
         "y": [
          48.2343277707278,
          82.55201009543904,
          21.49160392708076,
          73.91903992986072,
          32.3349633286074,
          77.61084961631143,
          29.00050823806386,
          74.87418186039885
         ]
        },
        {
         "line": {
          "color": "#CD7F32"
         },
         "mode": "lines+markers",
         "name": "Bronze Medals",
         "type": "scatter",
         "x": [
          "2017-01-01",
          "2018-01-01",
          "2019-01-01",
          "2020-01-01",
          "2021-01-01",
          "2022-01-01",
          "2023-01-01",
          "2024-01-01"
         ],
         "y": [
          23.106314453313082,
          73.37261488689174,
          15.46501202265592,
          64.00582253762525,
          17.701113136144706,
          66.80265231374264,
          17.860097106385076,
          64.94854532532051
         ]
        },
        {
         "marker": {
          "color": "gold",
          "size": 14
         },
         "mode": "markers",
         "name": "Gold 2024 Forecast",
         "type": "scatter",
         "x": [
          "2024-01-01"
         ],
         "y": [
          146.81946559530758
         ]
        },
        {
         "marker": {
          "color": "silver",
          "size": 14
         },
         "mode": "markers",
         "name": "Silver 2024 Forecast",
         "type": "scatter",
         "x": [
          "2024-01-01"
         ],
         "y": [
          74.87418186039885
         ]
        },
        {
         "marker": {
          "color": "#CD7F32",
          "size": 14
         },
         "mode": "markers",
         "name": "Bronze 2024 Forecast",
         "type": "scatter",
         "x": [
          "2024-01-01"
         ],
         "y": [
          64.94854532532051
         ]
        }
       ],
       "layout": {
        "template": {
         "data": {
          "bar": [
           {
            "error_x": {
             "color": "#2a3f5f"
            },
            "error_y": {
             "color": "#2a3f5f"
            },
            "marker": {
             "line": {
              "color": "#E5ECF6",
              "width": 0.5
             },
             "pattern": {
              "fillmode": "overlay",
              "size": 10,
              "solidity": 0.2
             }
            },
            "type": "bar"
           }
          ],
          "barpolar": [
           {
            "marker": {
             "line": {
              "color": "#E5ECF6",
              "width": 0.5
             },
             "pattern": {
              "fillmode": "overlay",
              "size": 10,
              "solidity": 0.2
             }
            },
            "type": "barpolar"
           }
          ],
          "carpet": [
           {
            "aaxis": {
             "endlinecolor": "#2a3f5f",
             "gridcolor": "white",
             "linecolor": "white",
             "minorgridcolor": "white",
             "startlinecolor": "#2a3f5f"
            },
            "baxis": {
             "endlinecolor": "#2a3f5f",
             "gridcolor": "white",
             "linecolor": "white",
             "minorgridcolor": "white",
             "startlinecolor": "#2a3f5f"
            },
            "type": "carpet"
           }
          ],
          "choropleth": [
           {
            "colorbar": {
             "outlinewidth": 0,
             "ticks": ""
            },
            "type": "choropleth"
           }
          ],
          "contour": [
           {
            "colorbar": {
             "outlinewidth": 0,
             "ticks": ""
            },
            "colorscale": [
             [
              0,
              "#0d0887"
             ],
             [
              0.1111111111111111,
              "#46039f"
             ],
             [
              0.2222222222222222,
              "#7201a8"
             ],
             [
              0.3333333333333333,
              "#9c179e"
             ],
             [
              0.4444444444444444,
              "#bd3786"
             ],
             [
              0.5555555555555556,
              "#d8576b"
             ],
             [
              0.6666666666666666,
              "#ed7953"
             ],
             [
              0.7777777777777778,
              "#fb9f3a"
             ],
             [
              0.8888888888888888,
              "#fdca26"
             ],
             [
              1,
              "#f0f921"
             ]
            ],
            "type": "contour"
           }
          ],
          "contourcarpet": [
           {
            "colorbar": {
             "outlinewidth": 0,
             "ticks": ""
            },
            "type": "contourcarpet"
           }
          ],
          "heatmap": [
           {
            "colorbar": {
             "outlinewidth": 0,
             "ticks": ""
            },
            "colorscale": [
             [
              0,
              "#0d0887"
             ],
             [
              0.1111111111111111,
              "#46039f"
             ],
             [
              0.2222222222222222,
              "#7201a8"
             ],
             [
              0.3333333333333333,
              "#9c179e"
             ],
             [
              0.4444444444444444,
              "#bd3786"
             ],
             [
              0.5555555555555556,
              "#d8576b"
             ],
             [
              0.6666666666666666,
              "#ed7953"
             ],
             [
              0.7777777777777778,
              "#fb9f3a"
             ],
             [
              0.8888888888888888,
              "#fdca26"
             ],
             [
              1,
              "#f0f921"
             ]
            ],
            "type": "heatmap"
           }
          ],
          "heatmapgl": [
           {
            "colorbar": {
             "outlinewidth": 0,
             "ticks": ""
            },
            "colorscale": [
             [
              0,
              "#0d0887"
             ],
             [
              0.1111111111111111,
              "#46039f"
             ],
             [
              0.2222222222222222,
              "#7201a8"
             ],
             [
              0.3333333333333333,
              "#9c179e"
             ],
             [
              0.4444444444444444,
              "#bd3786"
             ],
             [
              0.5555555555555556,
              "#d8576b"
             ],
             [
              0.6666666666666666,
              "#ed7953"
             ],
             [
              0.7777777777777778,
              "#fb9f3a"
             ],
             [
              0.8888888888888888,
              "#fdca26"
             ],
             [
              1,
              "#f0f921"
             ]
            ],
            "type": "heatmapgl"
           }
          ],
          "histogram": [
           {
            "marker": {
             "pattern": {
              "fillmode": "overlay",
              "size": 10,
              "solidity": 0.2
             }
            },
            "type": "histogram"
           }
          ],
          "histogram2d": [
           {
            "colorbar": {
             "outlinewidth": 0,
             "ticks": ""
            },
            "colorscale": [
             [
              0,
              "#0d0887"
             ],
             [
              0.1111111111111111,
              "#46039f"
             ],
             [
              0.2222222222222222,
              "#7201a8"
             ],
             [
              0.3333333333333333,
              "#9c179e"
             ],
             [
              0.4444444444444444,
              "#bd3786"
             ],
             [
              0.5555555555555556,
              "#d8576b"
             ],
             [
              0.6666666666666666,
              "#ed7953"
             ],
             [
              0.7777777777777778,
              "#fb9f3a"
             ],
             [
              0.8888888888888888,
              "#fdca26"
             ],
             [
              1,
              "#f0f921"
             ]
            ],
            "type": "histogram2d"
           }
          ],
          "histogram2dcontour": [
           {
            "colorbar": {
             "outlinewidth": 0,
             "ticks": ""
            },
            "colorscale": [
             [
              0,
              "#0d0887"
             ],
             [
              0.1111111111111111,
              "#46039f"
             ],
             [
              0.2222222222222222,
              "#7201a8"
             ],
             [
              0.3333333333333333,
              "#9c179e"
             ],
             [
              0.4444444444444444,
              "#bd3786"
             ],
             [
              0.5555555555555556,
              "#d8576b"
             ],
             [
              0.6666666666666666,
              "#ed7953"
             ],
             [
              0.7777777777777778,
              "#fb9f3a"
             ],
             [
              0.8888888888888888,
              "#fdca26"
             ],
             [
              1,
              "#f0f921"
             ]
            ],
            "type": "histogram2dcontour"
           }
          ],
          "mesh3d": [
           {
            "colorbar": {
             "outlinewidth": 0,
             "ticks": ""
            },
            "type": "mesh3d"
           }
          ],
          "parcoords": [
           {
            "line": {
             "colorbar": {
              "outlinewidth": 0,
              "ticks": ""
             }
            },
            "type": "parcoords"
           }
          ],
          "pie": [
           {
            "automargin": true,
            "type": "pie"
           }
          ],
          "scatter": [
           {
            "fillpattern": {
             "fillmode": "overlay",
             "size": 10,
             "solidity": 0.2
            },
            "type": "scatter"
           }
          ],
          "scatter3d": [
           {
            "line": {
             "colorbar": {
              "outlinewidth": 0,
              "ticks": ""
             }
            },
            "marker": {
             "colorbar": {
              "outlinewidth": 0,
              "ticks": ""
             }
            },
            "type": "scatter3d"
           }
          ],
          "scattercarpet": [
           {
            "marker": {
             "colorbar": {
              "outlinewidth": 0,
              "ticks": ""
             }
            },
            "type": "scattercarpet"
           }
          ],
          "scattergeo": [
           {
            "marker": {
             "colorbar": {
              "outlinewidth": 0,
              "ticks": ""
             }
            },
            "type": "scattergeo"
           }
          ],
          "scattergl": [
           {
            "marker": {
             "colorbar": {
              "outlinewidth": 0,
              "ticks": ""
             }
            },
            "type": "scattergl"
           }
          ],
          "scattermapbox": [
           {
            "marker": {
             "colorbar": {
              "outlinewidth": 0,
              "ticks": ""
             }
            },
            "type": "scattermapbox"
           }
          ],
          "scatterpolar": [
           {
            "marker": {
             "colorbar": {
              "outlinewidth": 0,
              "ticks": ""
             }
            },
            "type": "scatterpolar"
           }
          ],
          "scatterpolargl": [
           {
            "marker": {
             "colorbar": {
              "outlinewidth": 0,
              "ticks": ""
             }
            },
            "type": "scatterpolargl"
           }
          ],
          "scatterternary": [
           {
            "marker": {
             "colorbar": {
              "outlinewidth": 0,
              "ticks": ""
             }
            },
            "type": "scatterternary"
           }
          ],
          "surface": [
           {
            "colorbar": {
             "outlinewidth": 0,
             "ticks": ""
            },
            "colorscale": [
             [
              0,
              "#0d0887"
             ],
             [
              0.1111111111111111,
              "#46039f"
             ],
             [
              0.2222222222222222,
              "#7201a8"
             ],
             [
              0.3333333333333333,
              "#9c179e"
             ],
             [
              0.4444444444444444,
              "#bd3786"
             ],
             [
              0.5555555555555556,
              "#d8576b"
             ],
             [
              0.6666666666666666,
              "#ed7953"
             ],
             [
              0.7777777777777778,
              "#fb9f3a"
             ],
             [
              0.8888888888888888,
              "#fdca26"
             ],
             [
              1,
              "#f0f921"
             ]
            ],
            "type": "surface"
           }
          ],
          "table": [
           {
            "cells": {
             "fill": {
              "color": "#EBF0F8"
             },
             "line": {
              "color": "white"
             }
            },
            "header": {
             "fill": {
              "color": "#C8D4E3"
             },
             "line": {
              "color": "white"
             }
            },
            "type": "table"
           }
          ]
         },
         "layout": {
          "annotationdefaults": {
           "arrowcolor": "#2a3f5f",
           "arrowhead": 0,
           "arrowwidth": 1
          },
          "autotypenumbers": "strict",
          "coloraxis": {
           "colorbar": {
            "outlinewidth": 0,
            "ticks": ""
           }
          },
          "colorscale": {
           "diverging": [
            [
             0,
             "#8e0152"
            ],
            [
             0.1,
             "#c51b7d"
            ],
            [
             0.2,
             "#de77ae"
            ],
            [
             0.3,
             "#f1b6da"
            ],
            [
             0.4,
             "#fde0ef"
            ],
            [
             0.5,
             "#f7f7f7"
            ],
            [
             0.6,
             "#e6f5d0"
            ],
            [
             0.7,
             "#b8e186"
            ],
            [
             0.8,
             "#7fbc41"
            ],
            [
             0.9,
             "#4d9221"
            ],
            [
             1,
             "#276419"
            ]
           ],
           "sequential": [
            [
             0,
             "#0d0887"
            ],
            [
             0.1111111111111111,
             "#46039f"
            ],
            [
             0.2222222222222222,
             "#7201a8"
            ],
            [
             0.3333333333333333,
             "#9c179e"
            ],
            [
             0.4444444444444444,
             "#bd3786"
            ],
            [
             0.5555555555555556,
             "#d8576b"
            ],
            [
             0.6666666666666666,
             "#ed7953"
            ],
            [
             0.7777777777777778,
             "#fb9f3a"
            ],
            [
             0.8888888888888888,
             "#fdca26"
            ],
            [
             1,
             "#f0f921"
            ]
           ],
           "sequentialminus": [
            [
             0,
             "#0d0887"
            ],
            [
             0.1111111111111111,
             "#46039f"
            ],
            [
             0.2222222222222222,
             "#7201a8"
            ],
            [
             0.3333333333333333,
             "#9c179e"
            ],
            [
             0.4444444444444444,
             "#bd3786"
            ],
            [
             0.5555555555555556,
             "#d8576b"
            ],
            [
             0.6666666666666666,
             "#ed7953"
            ],
            [
             0.7777777777777778,
             "#fb9f3a"
            ],
            [
             0.8888888888888888,
             "#fdca26"
            ],
            [
             1,
             "#f0f921"
            ]
           ]
          },
          "colorway": [
           "#636efa",
           "#EF553B",
           "#00cc96",
           "#ab63fa",
           "#FFA15A",
           "#19d3f3",
           "#FF6692",
           "#B6E880",
           "#FF97FF",
           "#FECB52"
          ],
          "font": {
           "color": "#2a3f5f"
          },
          "geo": {
           "bgcolor": "white",
           "lakecolor": "white",
           "landcolor": "#E5ECF6",
           "showlakes": true,
           "showland": true,
           "subunitcolor": "white"
          },
          "hoverlabel": {
           "align": "left"
          },
          "hovermode": "closest",
          "mapbox": {
           "style": "light"
          },
          "paper_bgcolor": "white",
          "plot_bgcolor": "#E5ECF6",
          "polar": {
           "angularaxis": {
            "gridcolor": "white",
            "linecolor": "white",
            "ticks": ""
           },
           "bgcolor": "#E5ECF6",
           "radialaxis": {
            "gridcolor": "white",
            "linecolor": "white",
            "ticks": ""
           }
          },
          "scene": {
           "xaxis": {
            "backgroundcolor": "#E5ECF6",
            "gridcolor": "white",
            "gridwidth": 2,
            "linecolor": "white",
            "showbackground": true,
            "ticks": "",
            "zerolinecolor": "white"
           },
           "yaxis": {
            "backgroundcolor": "#E5ECF6",
            "gridcolor": "white",
            "gridwidth": 2,
            "linecolor": "white",
            "showbackground": true,
            "ticks": "",
            "zerolinecolor": "white"
           },
           "zaxis": {
            "backgroundcolor": "#E5ECF6",
            "gridcolor": "white",
            "gridwidth": 2,
            "linecolor": "white",
            "showbackground": true,
            "ticks": "",
            "zerolinecolor": "white"
           }
          },
          "shapedefaults": {
           "line": {
            "color": "#2a3f5f"
           }
          },
          "ternary": {
           "aaxis": {
            "gridcolor": "white",
            "linecolor": "white",
            "ticks": ""
           },
           "baxis": {
            "gridcolor": "white",
            "linecolor": "white",
            "ticks": ""
           },
           "bgcolor": "#E5ECF6",
           "caxis": {
            "gridcolor": "white",
            "linecolor": "white",
            "ticks": ""
           }
          },
          "title": {
           "x": 0.05
          },
          "xaxis": {
           "automargin": true,
           "gridcolor": "white",
           "linecolor": "white",
           "ticks": "",
           "title": {
            "standoff": 15
           },
           "zerolinecolor": "white",
           "zerolinewidth": 2
          },
          "yaxis": {
           "automargin": true,
           "gridcolor": "white",
           "linecolor": "white",
           "ticks": "",
           "title": {
            "standoff": 15
           },
           "zerolinecolor": "white",
           "zerolinewidth": 2
          }
         }
        },
        "title": {
         "text": "Medals (Gold, Silver, Bronze) Over the Years with 2024 Forecast"
        },
        "xaxis": {
         "title": {
          "text": "Year"
         }
        },
        "yaxis": {
         "title": {
          "text": "Number of Medals"
         }
        }
       }
      }
     },
     "metadata": {},
     "output_type": "display_data"
    },
    {
     "data": {
      "application/vnd.plotly.v1+json": {
       "config": {
        "plotlyServerURL": "https://plot.ly"
       },
       "data": [
        {
         "mode": "lines+markers",
         "name": "Athletes",
         "type": "scatter",
         "x": [
          "1960-01-01T00:00:00",
          "1964-01-01T00:00:00",
          "1968-01-01T00:00:00",
          "1972-01-01T00:00:00",
          "1976-01-01T00:00:00",
          "1980-01-01T00:00:00",
          "1984-01-01T00:00:00",
          "1988-01-01T00:00:00",
          "1992-01-01T00:00:00",
          "1994-01-01T00:00:00",
          "1996-01-01T00:00:00",
          "1998-01-01T00:00:00",
          "2000-01-01T00:00:00",
          "2002-01-01T00:00:00",
          "2004-01-01T00:00:00",
          "2006-01-01T00:00:00",
          "2008-01-01T00:00:00",
          "2010-01-01T00:00:00",
          "2012-01-01T00:00:00",
          "2014-01-01T00:00:00",
          "2016-01-01T00:00:00"
         ],
         "y": [
          474,
          619,
          664,
          719,
          660,
          144,
          842,
          896,
          955,
          232,
          742,
          283,
          759,
          311,
          723,
          324,
          756,
          341,
          689,
          367,
          718
         ]
        },
        {
         "mode": "lines+markers",
         "name": "Events",
         "type": "scatter",
         "x": [
          "1960-01-01T00:00:00",
          "1964-01-01T00:00:00",
          "1968-01-01T00:00:00",
          "1972-01-01T00:00:00",
          "1976-01-01T00:00:00",
          "1980-01-01T00:00:00",
          "1984-01-01T00:00:00",
          "1988-01-01T00:00:00",
          "1992-01-01T00:00:00",
          "1994-01-01T00:00:00",
          "1996-01-01T00:00:00",
          "1998-01-01T00:00:00",
          "2000-01-01T00:00:00",
          "2002-01-01T00:00:00",
          "2004-01-01T00:00:00",
          "2006-01-01T00:00:00",
          "2008-01-01T00:00:00",
          "2010-01-01T00:00:00",
          "2012-01-01T00:00:00",
          "2014-01-01T00:00:00",
          "2016-01-01T00:00:00"
         ],
         "y": [
          164,
          190,
          199,
          216,
          225,
          38,
          255,
          274,
          303,
          59,
          253,
          68,
          265,
          78,
          254,
          83,
          258,
          84,
          245,
          94,
          245
         ]
        },
        {
         "mode": "lines+markers",
         "name": "Sports",
         "type": "scatter",
         "x": [
          "1960-01-01T00:00:00",
          "1964-01-01T00:00:00",
          "1968-01-01T00:00:00",
          "1972-01-01T00:00:00",
          "1976-01-01T00:00:00",
          "1980-01-01T00:00:00",
          "1984-01-01T00:00:00",
          "1988-01-01T00:00:00",
          "1992-01-01T00:00:00",
          "1994-01-01T00:00:00",
          "1996-01-01T00:00:00",
          "1998-01-01T00:00:00",
          "2000-01-01T00:00:00",
          "2002-01-01T00:00:00",
          "2004-01-01T00:00:00",
          "2006-01-01T00:00:00",
          "2008-01-01T00:00:00",
          "2010-01-01T00:00:00",
          "2012-01-01T00:00:00",
          "2014-01-01T00:00:00",
          "2016-01-01T00:00:00"
         ],
         "y": [
          23,
          29,
          28,
          31,
          29,
          10,
          35,
          37,
          40,
          12,
          30,
          14,
          31,
          15,
          31,
          15,
          32,
          15,
          31,
          15,
          33
         ]
        },
        {
         "mode": "lines+markers",
         "name": "Athletes",
         "type": "scatter",
         "x": [
          "2017-01-01",
          "2018-01-01",
          "2019-01-01",
          "2020-01-01",
          "2021-01-01",
          "2022-01-01",
          "2023-01-01",
          "2024-01-01"
         ],
         "y": [
          430.4875843811876,
          908.6904506279036,
          306.8463847409141,
          790.6141449512098,
          345.79498260307514,
          835.4403697157295,
          344.3779866174398,
          810.8340137972755
         ]
        },
        {
         "mode": "lines+markers",
         "name": "Events",
         "type": "scatter",
         "x": [
          "2017-01-01",
          "2018-01-01",
          "2019-01-01",
          "2020-01-01",
          "2021-01-01",
          "2022-01-01",
          "2023-01-01",
          "2024-01-01"
         ],
         "y": [
          103.66701732826732,
          310.2785160438192,
          71.8077737386401,
          273.3925151405117,
          82.42233024631139,
          286.47608786634856,
          83.2453851145159,
          278.5396305688533
         ]
        },
        {
         "mode": "lines+markers",
         "name": "Sports",
         "type": "scatter",
         "x": [
          "2017-01-01",
          "2018-01-01",
          "2019-01-01",
          "2020-01-01",
          "2021-01-01",
          "2022-01-01",
          "2023-01-01",
          "2024-01-01"
         ],
         "y": [
          17.802324325966016,
          38.56050810149689,
          14.505270661350583,
          33.956891590187354,
          15.698502781329513,
          35.61657664131975,
          15.788594839192687,
          34.699400957061044
         ]
        },
        {
         "marker": {
          "color": "blue",
          "size": 14
         },
         "mode": "markers",
         "name": "Athletes 2024 Forecast",
         "type": "scatter",
         "x": [
          "2024-01-01"
         ],
         "y": [
          810.8340137972755
         ]
        },
        {
         "marker": {
          "color": "green",
          "size": 14
         },
         "mode": "markers",
         "name": "Events 2024 Forecast",
         "type": "scatter",
         "x": [
          "2024-01-01"
         ],
         "y": [
          278.5396305688533
         ]
        },
        {
         "marker": {
          "color": "orange",
          "size": 14
         },
         "mode": "markers",
         "name": "Sports 2024 Forecast",
         "type": "scatter",
         "x": [
          "2024-01-01"
         ],
         "y": [
          34.699400957061044
         ]
        }
       ],
       "layout": {
        "template": {
         "data": {
          "bar": [
           {
            "error_x": {
             "color": "#2a3f5f"
            },
            "error_y": {
             "color": "#2a3f5f"
            },
            "marker": {
             "line": {
              "color": "#E5ECF6",
              "width": 0.5
             },
             "pattern": {
              "fillmode": "overlay",
              "size": 10,
              "solidity": 0.2
             }
            },
            "type": "bar"
           }
          ],
          "barpolar": [
           {
            "marker": {
             "line": {
              "color": "#E5ECF6",
              "width": 0.5
             },
             "pattern": {
              "fillmode": "overlay",
              "size": 10,
              "solidity": 0.2
             }
            },
            "type": "barpolar"
           }
          ],
          "carpet": [
           {
            "aaxis": {
             "endlinecolor": "#2a3f5f",
             "gridcolor": "white",
             "linecolor": "white",
             "minorgridcolor": "white",
             "startlinecolor": "#2a3f5f"
            },
            "baxis": {
             "endlinecolor": "#2a3f5f",
             "gridcolor": "white",
             "linecolor": "white",
             "minorgridcolor": "white",
             "startlinecolor": "#2a3f5f"
            },
            "type": "carpet"
           }
          ],
          "choropleth": [
           {
            "colorbar": {
             "outlinewidth": 0,
             "ticks": ""
            },
            "type": "choropleth"
           }
          ],
          "contour": [
           {
            "colorbar": {
             "outlinewidth": 0,
             "ticks": ""
            },
            "colorscale": [
             [
              0,
              "#0d0887"
             ],
             [
              0.1111111111111111,
              "#46039f"
             ],
             [
              0.2222222222222222,
              "#7201a8"
             ],
             [
              0.3333333333333333,
              "#9c179e"
             ],
             [
              0.4444444444444444,
              "#bd3786"
             ],
             [
              0.5555555555555556,
              "#d8576b"
             ],
             [
              0.6666666666666666,
              "#ed7953"
             ],
             [
              0.7777777777777778,
              "#fb9f3a"
             ],
             [
              0.8888888888888888,
              "#fdca26"
             ],
             [
              1,
              "#f0f921"
             ]
            ],
            "type": "contour"
           }
          ],
          "contourcarpet": [
           {
            "colorbar": {
             "outlinewidth": 0,
             "ticks": ""
            },
            "type": "contourcarpet"
           }
          ],
          "heatmap": [
           {
            "colorbar": {
             "outlinewidth": 0,
             "ticks": ""
            },
            "colorscale": [
             [
              0,
              "#0d0887"
             ],
             [
              0.1111111111111111,
              "#46039f"
             ],
             [
              0.2222222222222222,
              "#7201a8"
             ],
             [
              0.3333333333333333,
              "#9c179e"
             ],
             [
              0.4444444444444444,
              "#bd3786"
             ],
             [
              0.5555555555555556,
              "#d8576b"
             ],
             [
              0.6666666666666666,
              "#ed7953"
             ],
             [
              0.7777777777777778,
              "#fb9f3a"
             ],
             [
              0.8888888888888888,
              "#fdca26"
             ],
             [
              1,
              "#f0f921"
             ]
            ],
            "type": "heatmap"
           }
          ],
          "heatmapgl": [
           {
            "colorbar": {
             "outlinewidth": 0,
             "ticks": ""
            },
            "colorscale": [
             [
              0,
              "#0d0887"
             ],
             [
              0.1111111111111111,
              "#46039f"
             ],
             [
              0.2222222222222222,
              "#7201a8"
             ],
             [
              0.3333333333333333,
              "#9c179e"
             ],
             [
              0.4444444444444444,
              "#bd3786"
             ],
             [
              0.5555555555555556,
              "#d8576b"
             ],
             [
              0.6666666666666666,
              "#ed7953"
             ],
             [
              0.7777777777777778,
              "#fb9f3a"
             ],
             [
              0.8888888888888888,
              "#fdca26"
             ],
             [
              1,
              "#f0f921"
             ]
            ],
            "type": "heatmapgl"
           }
          ],
          "histogram": [
           {
            "marker": {
             "pattern": {
              "fillmode": "overlay",
              "size": 10,
              "solidity": 0.2
             }
            },
            "type": "histogram"
           }
          ],
          "histogram2d": [
           {
            "colorbar": {
             "outlinewidth": 0,
             "ticks": ""
            },
            "colorscale": [
             [
              0,
              "#0d0887"
             ],
             [
              0.1111111111111111,
              "#46039f"
             ],
             [
              0.2222222222222222,
              "#7201a8"
             ],
             [
              0.3333333333333333,
              "#9c179e"
             ],
             [
              0.4444444444444444,
              "#bd3786"
             ],
             [
              0.5555555555555556,
              "#d8576b"
             ],
             [
              0.6666666666666666,
              "#ed7953"
             ],
             [
              0.7777777777777778,
              "#fb9f3a"
             ],
             [
              0.8888888888888888,
              "#fdca26"
             ],
             [
              1,
              "#f0f921"
             ]
            ],
            "type": "histogram2d"
           }
          ],
          "histogram2dcontour": [
           {
            "colorbar": {
             "outlinewidth": 0,
             "ticks": ""
            },
            "colorscale": [
             [
              0,
              "#0d0887"
             ],
             [
              0.1111111111111111,
              "#46039f"
             ],
             [
              0.2222222222222222,
              "#7201a8"
             ],
             [
              0.3333333333333333,
              "#9c179e"
             ],
             [
              0.4444444444444444,
              "#bd3786"
             ],
             [
              0.5555555555555556,
              "#d8576b"
             ],
             [
              0.6666666666666666,
              "#ed7953"
             ],
             [
              0.7777777777777778,
              "#fb9f3a"
             ],
             [
              0.8888888888888888,
              "#fdca26"
             ],
             [
              1,
              "#f0f921"
             ]
            ],
            "type": "histogram2dcontour"
           }
          ],
          "mesh3d": [
           {
            "colorbar": {
             "outlinewidth": 0,
             "ticks": ""
            },
            "type": "mesh3d"
           }
          ],
          "parcoords": [
           {
            "line": {
             "colorbar": {
              "outlinewidth": 0,
              "ticks": ""
             }
            },
            "type": "parcoords"
           }
          ],
          "pie": [
           {
            "automargin": true,
            "type": "pie"
           }
          ],
          "scatter": [
           {
            "fillpattern": {
             "fillmode": "overlay",
             "size": 10,
             "solidity": 0.2
            },
            "type": "scatter"
           }
          ],
          "scatter3d": [
           {
            "line": {
             "colorbar": {
              "outlinewidth": 0,
              "ticks": ""
             }
            },
            "marker": {
             "colorbar": {
              "outlinewidth": 0,
              "ticks": ""
             }
            },
            "type": "scatter3d"
           }
          ],
          "scattercarpet": [
           {
            "marker": {
             "colorbar": {
              "outlinewidth": 0,
              "ticks": ""
             }
            },
            "type": "scattercarpet"
           }
          ],
          "scattergeo": [
           {
            "marker": {
             "colorbar": {
              "outlinewidth": 0,
              "ticks": ""
             }
            },
            "type": "scattergeo"
           }
          ],
          "scattergl": [
           {
            "marker": {
             "colorbar": {
              "outlinewidth": 0,
              "ticks": ""
             }
            },
            "type": "scattergl"
           }
          ],
          "scattermapbox": [
           {
            "marker": {
             "colorbar": {
              "outlinewidth": 0,
              "ticks": ""
             }
            },
            "type": "scattermapbox"
           }
          ],
          "scatterpolar": [
           {
            "marker": {
             "colorbar": {
              "outlinewidth": 0,
              "ticks": ""
             }
            },
            "type": "scatterpolar"
           }
          ],
          "scatterpolargl": [
           {
            "marker": {
             "colorbar": {
              "outlinewidth": 0,
              "ticks": ""
             }
            },
            "type": "scatterpolargl"
           }
          ],
          "scatterternary": [
           {
            "marker": {
             "colorbar": {
              "outlinewidth": 0,
              "ticks": ""
             }
            },
            "type": "scatterternary"
           }
          ],
          "surface": [
           {
            "colorbar": {
             "outlinewidth": 0,
             "ticks": ""
            },
            "colorscale": [
             [
              0,
              "#0d0887"
             ],
             [
              0.1111111111111111,
              "#46039f"
             ],
             [
              0.2222222222222222,
              "#7201a8"
             ],
             [
              0.3333333333333333,
              "#9c179e"
             ],
             [
              0.4444444444444444,
              "#bd3786"
             ],
             [
              0.5555555555555556,
              "#d8576b"
             ],
             [
              0.6666666666666666,
              "#ed7953"
             ],
             [
              0.7777777777777778,
              "#fb9f3a"
             ],
             [
              0.8888888888888888,
              "#fdca26"
             ],
             [
              1,
              "#f0f921"
             ]
            ],
            "type": "surface"
           }
          ],
          "table": [
           {
            "cells": {
             "fill": {
              "color": "#EBF0F8"
             },
             "line": {
              "color": "white"
             }
            },
            "header": {
             "fill": {
              "color": "#C8D4E3"
             },
             "line": {
              "color": "white"
             }
            },
            "type": "table"
           }
          ]
         },
         "layout": {
          "annotationdefaults": {
           "arrowcolor": "#2a3f5f",
           "arrowhead": 0,
           "arrowwidth": 1
          },
          "autotypenumbers": "strict",
          "coloraxis": {
           "colorbar": {
            "outlinewidth": 0,
            "ticks": ""
           }
          },
          "colorscale": {
           "diverging": [
            [
             0,
             "#8e0152"
            ],
            [
             0.1,
             "#c51b7d"
            ],
            [
             0.2,
             "#de77ae"
            ],
            [
             0.3,
             "#f1b6da"
            ],
            [
             0.4,
             "#fde0ef"
            ],
            [
             0.5,
             "#f7f7f7"
            ],
            [
             0.6,
             "#e6f5d0"
            ],
            [
             0.7,
             "#b8e186"
            ],
            [
             0.8,
             "#7fbc41"
            ],
            [
             0.9,
             "#4d9221"
            ],
            [
             1,
             "#276419"
            ]
           ],
           "sequential": [
            [
             0,
             "#0d0887"
            ],
            [
             0.1111111111111111,
             "#46039f"
            ],
            [
             0.2222222222222222,
             "#7201a8"
            ],
            [
             0.3333333333333333,
             "#9c179e"
            ],
            [
             0.4444444444444444,
             "#bd3786"
            ],
            [
             0.5555555555555556,
             "#d8576b"
            ],
            [
             0.6666666666666666,
             "#ed7953"
            ],
            [
             0.7777777777777778,
             "#fb9f3a"
            ],
            [
             0.8888888888888888,
             "#fdca26"
            ],
            [
             1,
             "#f0f921"
            ]
           ],
           "sequentialminus": [
            [
             0,
             "#0d0887"
            ],
            [
             0.1111111111111111,
             "#46039f"
            ],
            [
             0.2222222222222222,
             "#7201a8"
            ],
            [
             0.3333333333333333,
             "#9c179e"
            ],
            [
             0.4444444444444444,
             "#bd3786"
            ],
            [
             0.5555555555555556,
             "#d8576b"
            ],
            [
             0.6666666666666666,
             "#ed7953"
            ],
            [
             0.7777777777777778,
             "#fb9f3a"
            ],
            [
             0.8888888888888888,
             "#fdca26"
            ],
            [
             1,
             "#f0f921"
            ]
           ]
          },
          "colorway": [
           "#636efa",
           "#EF553B",
           "#00cc96",
           "#ab63fa",
           "#FFA15A",
           "#19d3f3",
           "#FF6692",
           "#B6E880",
           "#FF97FF",
           "#FECB52"
          ],
          "font": {
           "color": "#2a3f5f"
          },
          "geo": {
           "bgcolor": "white",
           "lakecolor": "white",
           "landcolor": "#E5ECF6",
           "showlakes": true,
           "showland": true,
           "subunitcolor": "white"
          },
          "hoverlabel": {
           "align": "left"
          },
          "hovermode": "closest",
          "mapbox": {
           "style": "light"
          },
          "paper_bgcolor": "white",
          "plot_bgcolor": "#E5ECF6",
          "polar": {
           "angularaxis": {
            "gridcolor": "white",
            "linecolor": "white",
            "ticks": ""
           },
           "bgcolor": "#E5ECF6",
           "radialaxis": {
            "gridcolor": "white",
            "linecolor": "white",
            "ticks": ""
           }
          },
          "scene": {
           "xaxis": {
            "backgroundcolor": "#E5ECF6",
            "gridcolor": "white",
            "gridwidth": 2,
            "linecolor": "white",
            "showbackground": true,
            "ticks": "",
            "zerolinecolor": "white"
           },
           "yaxis": {
            "backgroundcolor": "#E5ECF6",
            "gridcolor": "white",
            "gridwidth": 2,
            "linecolor": "white",
            "showbackground": true,
            "ticks": "",
            "zerolinecolor": "white"
           },
           "zaxis": {
            "backgroundcolor": "#E5ECF6",
            "gridcolor": "white",
            "gridwidth": 2,
            "linecolor": "white",
            "showbackground": true,
            "ticks": "",
            "zerolinecolor": "white"
           }
          },
          "shapedefaults": {
           "line": {
            "color": "#2a3f5f"
           }
          },
          "ternary": {
           "aaxis": {
            "gridcolor": "white",
            "linecolor": "white",
            "ticks": ""
           },
           "baxis": {
            "gridcolor": "white",
            "linecolor": "white",
            "ticks": ""
           },
           "bgcolor": "#E5ECF6",
           "caxis": {
            "gridcolor": "white",
            "linecolor": "white",
            "ticks": ""
           }
          },
          "title": {
           "x": 0.05
          },
          "xaxis": {
           "automargin": true,
           "gridcolor": "white",
           "linecolor": "white",
           "ticks": "",
           "title": {
            "standoff": 15
           },
           "zerolinecolor": "white",
           "zerolinewidth": 2
          },
          "yaxis": {
           "automargin": true,
           "gridcolor": "white",
           "linecolor": "white",
           "ticks": "",
           "title": {
            "standoff": 15
           },
           "zerolinecolor": "white",
           "zerolinewidth": 2
          }
         }
        },
        "title": {
         "text": "Athletes, Events, and Sports Over the Years with 2024 Forecast"
        },
        "xaxis": {
         "title": {
          "text": "Year"
         }
        },
        "yaxis": {
         "title": {
          "text": "Count"
         }
        }
       }
      }
     },
     "metadata": {},
     "output_type": "display_data"
    }
   ],
   "source": [
    "# Create traces for each plot\n",
    "fig1 = go.Figure()\n",
    "fig1.add_trace(go.Scatter(x=usa_data.index, y=usa_data['Total_Medals'], mode='lines+markers', name='Total Medals'))\n",
    "fig1.add_trace(go.Scatter(x=forecast_df.index, y=forecast_df['Total_Medals'], mode='lines+markers', name='Total Medals'))\n",
    "fig1.add_trace(go.Scatter(x=[forecast_df.index[-1]], y=[forecast_df['Total_Medals'].iloc[-1]], mode='markers', name='2024 Forecast', marker=dict(color='red', size=14)))\n",
    "fig1.update_layout(title='Total Medals Over the Years with 2024 Forecast',\n",
    "                   xaxis_title='Year',\n",
    "                   yaxis_title='Total Medals')\n",
    "fig1.show()\n",
    "\n",
    "fig2 = go.Figure()\n",
    "fig2.add_trace(go.Scatter(x=usa_data.index, y=usa_data['Gold'], mode='lines+markers', name='Gold Medals', line=dict(color='gold')))\n",
    "fig2.add_trace(go.Scatter(x=usa_data.index, y=usa_data['Silver'], mode='lines+markers', name='Silver Medals', line=dict(color='silver')))\n",
    "fig2.add_trace(go.Scatter(x=usa_data.index, y=usa_data['Bronze'], mode='lines+markers', name='Bronze Medals', line=dict(color='#CD7F32')))\n",
    "fig2.add_trace(go.Scatter(x=forecast_df.index, y=forecast_df['Gold'], mode='lines+markers', name='Gold Medals', line=dict(color='gold')))\n",
    "fig2.add_trace(go.Scatter(x=forecast_df.index, y=forecast_df['Silver'], mode='lines+markers', name='Silver Medals', line=dict(color='silver')))\n",
    "fig2.add_trace(go.Scatter(x=forecast_df.index, y=forecast_df['Bronze'], mode='lines+markers', name='Bronze Medals', line=dict(color='#CD7F32')))\n",
    "fig2.add_trace(go.Scatter(x=[forecast_df.index[-1]], y=[forecast_df['Gold'].iloc[-1]], mode='markers', name='Gold 2024 Forecast', marker=dict(color='gold', size=14)))\n",
    "fig2.add_trace(go.Scatter(x=[forecast_df.index[-1]], y=[forecast_df['Silver'].iloc[-1]], mode='markers', name='Silver 2024 Forecast', marker=dict(color='silver', size=14)))\n",
    "fig2.add_trace(go.Scatter(x=[forecast_df.index[-1]], y=[forecast_df['Bronze'].iloc[-1]], mode='markers', name='Bronze 2024 Forecast', marker=dict(color='#CD7F32', size=14)))\n",
    "fig2.update_layout(title='Medals (Gold, Silver, Bronze) Over the Years with 2024 Forecast',\n",
    "                   xaxis_title='Year',\n",
    "                   yaxis_title='Number of Medals')\n",
    "fig2.show()\n",
    "\n",
    "fig3 = go.Figure()\n",
    "fig3.add_trace(go.Scatter(x=usa_data.index, y=usa_data['Athletes'], mode='lines+markers', name='Athletes'))\n",
    "fig3.add_trace(go.Scatter(x=usa_data.index, y=usa_data['Events'], mode='lines+markers', name='Events'))\n",
    "fig3.add_trace(go.Scatter(x=usa_data.index, y=usa_data['Sports'], mode='lines+markers', name='Sports'))\n",
    "fig3.add_trace(go.Scatter(x=forecast_df.index, y=forecast_df['Athletes'], mode='lines+markers', name='Athletes'))\n",
    "fig3.add_trace(go.Scatter(x=forecast_df.index, y=forecast_df['Events'], mode='lines+markers', name='Events'))\n",
    "fig3.add_trace(go.Scatter(x=forecast_df.index, y=forecast_df['Sports'], mode='lines+markers', name='Sports'))\n",
    "fig3.add_trace(go.Scatter(x=[forecast_df.index[-1]], y=[forecast_df['Athletes'].iloc[-1]], mode='markers', name='Athletes 2024 Forecast', marker=dict(color='blue', size=14)))\n",
    "fig3.add_trace(go.Scatter(x=[forecast_df.index[-1]], y=[forecast_df['Events'].iloc[-1]], mode='markers', name='Events 2024 Forecast', marker=dict(color='green', size=14)))\n",
    "fig3.add_trace(go.Scatter(x=[forecast_df.index[-1]], y=[forecast_df['Sports'].iloc[-1]], mode='markers', name='Sports 2024 Forecast', marker=dict(color='orange', size=14)))\n",
    "fig3.update_layout(title='Athletes, Events, and Sports Over the Years with 2024 Forecast',\n",
    "                   xaxis_title='Year',\n",
    "                   yaxis_title='Count')\n",
    "fig3.show()\n"
   ]
  },
  {
   "cell_type": "markdown",
   "metadata": {},
   "source": [
    "## Validation"
   ]
  },
  {
   "cell_type": "code",
   "execution_count": 77,
   "metadata": {},
   "outputs": [],
   "source": [
    "medal_2021 = pd.read_excel('../data/2021/Medals.xlsx', engine='openpyxl')"
   ]
  },
  {
   "cell_type": "code",
   "execution_count": 78,
   "metadata": {},
   "outputs": [],
   "source": [
    "medal_2021_usa = medal_2021[medal_2021['Team/NOC'] == 'United States of America']"
   ]
  },
  {
   "cell_type": "code",
   "execution_count": 79,
   "metadata": {},
   "outputs": [
    {
     "data": {
      "text/html": [
       "<div>\n",
       "<style scoped>\n",
       "    .dataframe tbody tr th:only-of-type {\n",
       "        vertical-align: middle;\n",
       "    }\n",
       "\n",
       "    .dataframe tbody tr th {\n",
       "        vertical-align: top;\n",
       "    }\n",
       "\n",
       "    .dataframe thead th {\n",
       "        text-align: right;\n",
       "    }\n",
       "</style>\n",
       "<table border=\"1\" class=\"dataframe\">\n",
       "  <thead>\n",
       "    <tr style=\"text-align: right;\">\n",
       "      <th></th>\n",
       "      <th>Rank</th>\n",
       "      <th>Team/NOC</th>\n",
       "      <th>Gold</th>\n",
       "      <th>Silver</th>\n",
       "      <th>Bronze</th>\n",
       "      <th>Total</th>\n",
       "      <th>Rank by Total</th>\n",
       "    </tr>\n",
       "  </thead>\n",
       "  <tbody>\n",
       "    <tr>\n",
       "      <th>0</th>\n",
       "      <td>1</td>\n",
       "      <td>United States of America</td>\n",
       "      <td>39</td>\n",
       "      <td>41</td>\n",
       "      <td>33</td>\n",
       "      <td>113</td>\n",
       "      <td>1</td>\n",
       "    </tr>\n",
       "  </tbody>\n",
       "</table>\n",
       "</div>"
      ],
      "text/plain": [
       "   Rank                  Team/NOC  Gold  Silver  Bronze  Total  Rank by Total\n",
       "0     1  United States of America    39      41      33    113              1"
      ]
     },
     "execution_count": 79,
     "metadata": {},
     "output_type": "execute_result"
    }
   ],
   "source": [
    "medal_2021_usa"
   ]
  },
  {
   "cell_type": "code",
   "execution_count": 80,
   "metadata": {},
   "outputs": [
    {
     "data": {
      "application/vnd.plotly.v1+json": {
       "config": {
        "plotlyServerURL": "https://plot.ly"
       },
       "data": [
        {
         "mode": "lines+markers",
         "name": "Total Medals",
         "type": "scatter",
         "x": [
          "1960-01-01T00:00:00",
          "1964-01-01T00:00:00",
          "1968-01-01T00:00:00",
          "1972-01-01T00:00:00",
          "1976-01-01T00:00:00",
          "1980-01-01T00:00:00",
          "1984-01-01T00:00:00",
          "1988-01-01T00:00:00",
          "1992-01-01T00:00:00",
          "1994-01-01T00:00:00",
          "1996-01-01T00:00:00",
          "1998-01-01T00:00:00",
          "2000-01-01T00:00:00",
          "2002-01-01T00:00:00",
          "2004-01-01T00:00:00",
          "2006-01-01T00:00:00",
          "2008-01-01T00:00:00",
          "2010-01-01T00:00:00",
          "2012-01-01T00:00:00",
          "2014-01-01T00:00:00",
          "2016-01-01T00:00:00"
         ],
         "y": [
          143,
          177,
          173,
          195,
          174,
          29,
          361,
          214,
          237,
          19,
          241,
          34,
          241,
          83,
          262,
          52,
          316,
          97,
          248,
          64,
          263
         ]
        },
        {
         "mode": "lines+markers",
         "name": "Total Medals",
         "type": "scatter",
         "x": [
          "2017-01-01",
          "2018-01-01",
          "2019-01-01",
          "2020-01-01",
          "2021-01-01",
          "2022-01-01",
          "2023-01-01",
          "2024-01-01"
         ],
         "y": [
          107.61751620944986,
          303.504958842577,
          33.27183587224434,
          287.52810303780916,
          63.18841354490908,
          293.830031655506,
          55.46256470881204,
          286.6421927810269
         ]
        },
        {
         "marker": {
          "color": "red",
          "size": 14
         },
         "mode": "markers",
         "name": "2021 Actual",
         "type": "scatter",
         "x": [
          "2021"
         ],
         "y": [
          113
         ]
        }
       ],
       "layout": {
        "template": {
         "data": {
          "bar": [
           {
            "error_x": {
             "color": "#2a3f5f"
            },
            "error_y": {
             "color": "#2a3f5f"
            },
            "marker": {
             "line": {
              "color": "#E5ECF6",
              "width": 0.5
             },
             "pattern": {
              "fillmode": "overlay",
              "size": 10,
              "solidity": 0.2
             }
            },
            "type": "bar"
           }
          ],
          "barpolar": [
           {
            "marker": {
             "line": {
              "color": "#E5ECF6",
              "width": 0.5
             },
             "pattern": {
              "fillmode": "overlay",
              "size": 10,
              "solidity": 0.2
             }
            },
            "type": "barpolar"
           }
          ],
          "carpet": [
           {
            "aaxis": {
             "endlinecolor": "#2a3f5f",
             "gridcolor": "white",
             "linecolor": "white",
             "minorgridcolor": "white",
             "startlinecolor": "#2a3f5f"
            },
            "baxis": {
             "endlinecolor": "#2a3f5f",
             "gridcolor": "white",
             "linecolor": "white",
             "minorgridcolor": "white",
             "startlinecolor": "#2a3f5f"
            },
            "type": "carpet"
           }
          ],
          "choropleth": [
           {
            "colorbar": {
             "outlinewidth": 0,
             "ticks": ""
            },
            "type": "choropleth"
           }
          ],
          "contour": [
           {
            "colorbar": {
             "outlinewidth": 0,
             "ticks": ""
            },
            "colorscale": [
             [
              0,
              "#0d0887"
             ],
             [
              0.1111111111111111,
              "#46039f"
             ],
             [
              0.2222222222222222,
              "#7201a8"
             ],
             [
              0.3333333333333333,
              "#9c179e"
             ],
             [
              0.4444444444444444,
              "#bd3786"
             ],
             [
              0.5555555555555556,
              "#d8576b"
             ],
             [
              0.6666666666666666,
              "#ed7953"
             ],
             [
              0.7777777777777778,
              "#fb9f3a"
             ],
             [
              0.8888888888888888,
              "#fdca26"
             ],
             [
              1,
              "#f0f921"
             ]
            ],
            "type": "contour"
           }
          ],
          "contourcarpet": [
           {
            "colorbar": {
             "outlinewidth": 0,
             "ticks": ""
            },
            "type": "contourcarpet"
           }
          ],
          "heatmap": [
           {
            "colorbar": {
             "outlinewidth": 0,
             "ticks": ""
            },
            "colorscale": [
             [
              0,
              "#0d0887"
             ],
             [
              0.1111111111111111,
              "#46039f"
             ],
             [
              0.2222222222222222,
              "#7201a8"
             ],
             [
              0.3333333333333333,
              "#9c179e"
             ],
             [
              0.4444444444444444,
              "#bd3786"
             ],
             [
              0.5555555555555556,
              "#d8576b"
             ],
             [
              0.6666666666666666,
              "#ed7953"
             ],
             [
              0.7777777777777778,
              "#fb9f3a"
             ],
             [
              0.8888888888888888,
              "#fdca26"
             ],
             [
              1,
              "#f0f921"
             ]
            ],
            "type": "heatmap"
           }
          ],
          "heatmapgl": [
           {
            "colorbar": {
             "outlinewidth": 0,
             "ticks": ""
            },
            "colorscale": [
             [
              0,
              "#0d0887"
             ],
             [
              0.1111111111111111,
              "#46039f"
             ],
             [
              0.2222222222222222,
              "#7201a8"
             ],
             [
              0.3333333333333333,
              "#9c179e"
             ],
             [
              0.4444444444444444,
              "#bd3786"
             ],
             [
              0.5555555555555556,
              "#d8576b"
             ],
             [
              0.6666666666666666,
              "#ed7953"
             ],
             [
              0.7777777777777778,
              "#fb9f3a"
             ],
             [
              0.8888888888888888,
              "#fdca26"
             ],
             [
              1,
              "#f0f921"
             ]
            ],
            "type": "heatmapgl"
           }
          ],
          "histogram": [
           {
            "marker": {
             "pattern": {
              "fillmode": "overlay",
              "size": 10,
              "solidity": 0.2
             }
            },
            "type": "histogram"
           }
          ],
          "histogram2d": [
           {
            "colorbar": {
             "outlinewidth": 0,
             "ticks": ""
            },
            "colorscale": [
             [
              0,
              "#0d0887"
             ],
             [
              0.1111111111111111,
              "#46039f"
             ],
             [
              0.2222222222222222,
              "#7201a8"
             ],
             [
              0.3333333333333333,
              "#9c179e"
             ],
             [
              0.4444444444444444,
              "#bd3786"
             ],
             [
              0.5555555555555556,
              "#d8576b"
             ],
             [
              0.6666666666666666,
              "#ed7953"
             ],
             [
              0.7777777777777778,
              "#fb9f3a"
             ],
             [
              0.8888888888888888,
              "#fdca26"
             ],
             [
              1,
              "#f0f921"
             ]
            ],
            "type": "histogram2d"
           }
          ],
          "histogram2dcontour": [
           {
            "colorbar": {
             "outlinewidth": 0,
             "ticks": ""
            },
            "colorscale": [
             [
              0,
              "#0d0887"
             ],
             [
              0.1111111111111111,
              "#46039f"
             ],
             [
              0.2222222222222222,
              "#7201a8"
             ],
             [
              0.3333333333333333,
              "#9c179e"
             ],
             [
              0.4444444444444444,
              "#bd3786"
             ],
             [
              0.5555555555555556,
              "#d8576b"
             ],
             [
              0.6666666666666666,
              "#ed7953"
             ],
             [
              0.7777777777777778,
              "#fb9f3a"
             ],
             [
              0.8888888888888888,
              "#fdca26"
             ],
             [
              1,
              "#f0f921"
             ]
            ],
            "type": "histogram2dcontour"
           }
          ],
          "mesh3d": [
           {
            "colorbar": {
             "outlinewidth": 0,
             "ticks": ""
            },
            "type": "mesh3d"
           }
          ],
          "parcoords": [
           {
            "line": {
             "colorbar": {
              "outlinewidth": 0,
              "ticks": ""
             }
            },
            "type": "parcoords"
           }
          ],
          "pie": [
           {
            "automargin": true,
            "type": "pie"
           }
          ],
          "scatter": [
           {
            "fillpattern": {
             "fillmode": "overlay",
             "size": 10,
             "solidity": 0.2
            },
            "type": "scatter"
           }
          ],
          "scatter3d": [
           {
            "line": {
             "colorbar": {
              "outlinewidth": 0,
              "ticks": ""
             }
            },
            "marker": {
             "colorbar": {
              "outlinewidth": 0,
              "ticks": ""
             }
            },
            "type": "scatter3d"
           }
          ],
          "scattercarpet": [
           {
            "marker": {
             "colorbar": {
              "outlinewidth": 0,
              "ticks": ""
             }
            },
            "type": "scattercarpet"
           }
          ],
          "scattergeo": [
           {
            "marker": {
             "colorbar": {
              "outlinewidth": 0,
              "ticks": ""
             }
            },
            "type": "scattergeo"
           }
          ],
          "scattergl": [
           {
            "marker": {
             "colorbar": {
              "outlinewidth": 0,
              "ticks": ""
             }
            },
            "type": "scattergl"
           }
          ],
          "scattermapbox": [
           {
            "marker": {
             "colorbar": {
              "outlinewidth": 0,
              "ticks": ""
             }
            },
            "type": "scattermapbox"
           }
          ],
          "scatterpolar": [
           {
            "marker": {
             "colorbar": {
              "outlinewidth": 0,
              "ticks": ""
             }
            },
            "type": "scatterpolar"
           }
          ],
          "scatterpolargl": [
           {
            "marker": {
             "colorbar": {
              "outlinewidth": 0,
              "ticks": ""
             }
            },
            "type": "scatterpolargl"
           }
          ],
          "scatterternary": [
           {
            "marker": {
             "colorbar": {
              "outlinewidth": 0,
              "ticks": ""
             }
            },
            "type": "scatterternary"
           }
          ],
          "surface": [
           {
            "colorbar": {
             "outlinewidth": 0,
             "ticks": ""
            },
            "colorscale": [
             [
              0,
              "#0d0887"
             ],
             [
              0.1111111111111111,
              "#46039f"
             ],
             [
              0.2222222222222222,
              "#7201a8"
             ],
             [
              0.3333333333333333,
              "#9c179e"
             ],
             [
              0.4444444444444444,
              "#bd3786"
             ],
             [
              0.5555555555555556,
              "#d8576b"
             ],
             [
              0.6666666666666666,
              "#ed7953"
             ],
             [
              0.7777777777777778,
              "#fb9f3a"
             ],
             [
              0.8888888888888888,
              "#fdca26"
             ],
             [
              1,
              "#f0f921"
             ]
            ],
            "type": "surface"
           }
          ],
          "table": [
           {
            "cells": {
             "fill": {
              "color": "#EBF0F8"
             },
             "line": {
              "color": "white"
             }
            },
            "header": {
             "fill": {
              "color": "#C8D4E3"
             },
             "line": {
              "color": "white"
             }
            },
            "type": "table"
           }
          ]
         },
         "layout": {
          "annotationdefaults": {
           "arrowcolor": "#2a3f5f",
           "arrowhead": 0,
           "arrowwidth": 1
          },
          "autotypenumbers": "strict",
          "coloraxis": {
           "colorbar": {
            "outlinewidth": 0,
            "ticks": ""
           }
          },
          "colorscale": {
           "diverging": [
            [
             0,
             "#8e0152"
            ],
            [
             0.1,
             "#c51b7d"
            ],
            [
             0.2,
             "#de77ae"
            ],
            [
             0.3,
             "#f1b6da"
            ],
            [
             0.4,
             "#fde0ef"
            ],
            [
             0.5,
             "#f7f7f7"
            ],
            [
             0.6,
             "#e6f5d0"
            ],
            [
             0.7,
             "#b8e186"
            ],
            [
             0.8,
             "#7fbc41"
            ],
            [
             0.9,
             "#4d9221"
            ],
            [
             1,
             "#276419"
            ]
           ],
           "sequential": [
            [
             0,
             "#0d0887"
            ],
            [
             0.1111111111111111,
             "#46039f"
            ],
            [
             0.2222222222222222,
             "#7201a8"
            ],
            [
             0.3333333333333333,
             "#9c179e"
            ],
            [
             0.4444444444444444,
             "#bd3786"
            ],
            [
             0.5555555555555556,
             "#d8576b"
            ],
            [
             0.6666666666666666,
             "#ed7953"
            ],
            [
             0.7777777777777778,
             "#fb9f3a"
            ],
            [
             0.8888888888888888,
             "#fdca26"
            ],
            [
             1,
             "#f0f921"
            ]
           ],
           "sequentialminus": [
            [
             0,
             "#0d0887"
            ],
            [
             0.1111111111111111,
             "#46039f"
            ],
            [
             0.2222222222222222,
             "#7201a8"
            ],
            [
             0.3333333333333333,
             "#9c179e"
            ],
            [
             0.4444444444444444,
             "#bd3786"
            ],
            [
             0.5555555555555556,
             "#d8576b"
            ],
            [
             0.6666666666666666,
             "#ed7953"
            ],
            [
             0.7777777777777778,
             "#fb9f3a"
            ],
            [
             0.8888888888888888,
             "#fdca26"
            ],
            [
             1,
             "#f0f921"
            ]
           ]
          },
          "colorway": [
           "#636efa",
           "#EF553B",
           "#00cc96",
           "#ab63fa",
           "#FFA15A",
           "#19d3f3",
           "#FF6692",
           "#B6E880",
           "#FF97FF",
           "#FECB52"
          ],
          "font": {
           "color": "#2a3f5f"
          },
          "geo": {
           "bgcolor": "white",
           "lakecolor": "white",
           "landcolor": "#E5ECF6",
           "showlakes": true,
           "showland": true,
           "subunitcolor": "white"
          },
          "hoverlabel": {
           "align": "left"
          },
          "hovermode": "closest",
          "mapbox": {
           "style": "light"
          },
          "paper_bgcolor": "white",
          "plot_bgcolor": "#E5ECF6",
          "polar": {
           "angularaxis": {
            "gridcolor": "white",
            "linecolor": "white",
            "ticks": ""
           },
           "bgcolor": "#E5ECF6",
           "radialaxis": {
            "gridcolor": "white",
            "linecolor": "white",
            "ticks": ""
           }
          },
          "scene": {
           "xaxis": {
            "backgroundcolor": "#E5ECF6",
            "gridcolor": "white",
            "gridwidth": 2,
            "linecolor": "white",
            "showbackground": true,
            "ticks": "",
            "zerolinecolor": "white"
           },
           "yaxis": {
            "backgroundcolor": "#E5ECF6",
            "gridcolor": "white",
            "gridwidth": 2,
            "linecolor": "white",
            "showbackground": true,
            "ticks": "",
            "zerolinecolor": "white"
           },
           "zaxis": {
            "backgroundcolor": "#E5ECF6",
            "gridcolor": "white",
            "gridwidth": 2,
            "linecolor": "white",
            "showbackground": true,
            "ticks": "",
            "zerolinecolor": "white"
           }
          },
          "shapedefaults": {
           "line": {
            "color": "#2a3f5f"
           }
          },
          "ternary": {
           "aaxis": {
            "gridcolor": "white",
            "linecolor": "white",
            "ticks": ""
           },
           "baxis": {
            "gridcolor": "white",
            "linecolor": "white",
            "ticks": ""
           },
           "bgcolor": "#E5ECF6",
           "caxis": {
            "gridcolor": "white",
            "linecolor": "white",
            "ticks": ""
           }
          },
          "title": {
           "x": 0.05
          },
          "xaxis": {
           "automargin": true,
           "gridcolor": "white",
           "linecolor": "white",
           "ticks": "",
           "title": {
            "standoff": 15
           },
           "zerolinecolor": "white",
           "zerolinewidth": 2
          },
          "yaxis": {
           "automargin": true,
           "gridcolor": "white",
           "linecolor": "white",
           "ticks": "",
           "title": {
            "standoff": 15
           },
           "zerolinecolor": "white",
           "zerolinewidth": 2
          }
         }
        },
        "title": {
         "text": "Total Medals Over the Years with 2024 Forecast"
        },
        "xaxis": {
         "title": {
          "text": "Year"
         }
        },
        "yaxis": {
         "title": {
          "text": "Total Medals"
         }
        }
       }
      }
     },
     "metadata": {},
     "output_type": "display_data"
    }
   ],
   "source": [
    "fig1 = go.Figure()\n",
    "fig1.add_trace(go.Scatter(x=usa_data.index, y=usa_data['Total_Medals'], mode='lines+markers', name='Total Medals'))\n",
    "fig1.add_trace(go.Scatter(x=forecast_df.index, y=forecast_df['Total_Medals'], mode='lines+markers', name='Total Medals'))\n",
    "fig1.add_trace(go.Scatter(x=['2021'], y=medal_2021_usa['Total'], mode='markers', name='2021 Actual', marker=dict(color='red', size=14)))\n",
    "fig1.update_layout(title='Total Medals Over the Years with 2024 Forecast',\n",
    "                   xaxis_title='Year',\n",
    "                   yaxis_title='Total Medals')\n",
    "fig1.show()\n"
   ]
  },
  {
   "cell_type": "code",
   "execution_count": 81,
   "metadata": {},
   "outputs": [
    {
     "data": {
      "application/vnd.plotly.v1+json": {
       "config": {
        "plotlyServerURL": "https://plot.ly"
       },
       "data": [
        {
         "line": {
          "color": "gold"
         },
         "mode": "lines+markers",
         "name": "Gold Medals",
         "type": "scatter",
         "x": [
          "1960-01-01T00:00:00",
          "1964-01-01T00:00:00",
          "1968-01-01T00:00:00",
          "1972-01-01T00:00:00",
          "1976-01-01T00:00:00",
          "1980-01-01T00:00:00",
          "1984-01-01T00:00:00",
          "1988-01-01T00:00:00",
          "1992-01-01T00:00:00",
          "1994-01-01T00:00:00",
          "1996-01-01T00:00:00",
          "1998-01-01T00:00:00",
          "2000-01-01T00:00:00",
          "2002-01-01T00:00:00",
          "2004-01-01T00:00:00",
          "2006-01-01T00:00:00",
          "2008-01-01T00:00:00",
          "2010-01-01T00:00:00",
          "2012-01-01T00:00:00",
          "2014-01-01T00:00:00",
          "2016-01-01T00:00:00"
         ],
         "y": [
          97,
          96,
          100,
          72,
          73,
          24,
          190,
          89,
          94,
          6,
          148,
          25,
          130,
          10,
          117,
          9,
          127,
          12,
          145,
          10,
          138
         ]
        },
        {
         "line": {
          "color": "silver"
         },
         "mode": "lines+markers",
         "name": "Silver Medals",
         "type": "scatter",
         "x": [
          "1960-01-01T00:00:00",
          "1964-01-01T00:00:00",
          "1968-01-01T00:00:00",
          "1972-01-01T00:00:00",
          "1976-01-01T00:00:00",
          "1980-01-01T00:00:00",
          "1984-01-01T00:00:00",
          "1988-01-01T00:00:00",
          "1992-01-01T00:00:00",
          "1994-01-01T00:00:00",
          "1996-01-01T00:00:00",
          "1998-01-01T00:00:00",
          "2000-01-01T00:00:00",
          "2002-01-01T00:00:00",
          "2004-01-01T00:00:00",
          "2006-01-01T00:00:00",
          "2008-01-01T00:00:00",
          "2010-01-01T00:00:00",
          "2012-01-01T00:00:00",
          "2014-01-01T00:00:00",
          "2016-01-01T00:00:00"
         ],
         "y": [
          24,
          39,
          37,
          77,
          61,
          4,
          121,
          67,
          57,
          8,
          43,
          4,
          61,
          58,
          75,
          11,
          110,
          63,
          57,
          30,
          54
         ]
        },
        {
         "line": {
          "color": "#CD7F32"
         },
         "mode": "lines+markers",
         "name": "Bronze Medals",
         "type": "scatter",
         "x": [
          "1960-01-01T00:00:00",
          "1964-01-01T00:00:00",
          "1968-01-01T00:00:00",
          "1972-01-01T00:00:00",
          "1976-01-01T00:00:00",
          "1980-01-01T00:00:00",
          "1984-01-01T00:00:00",
          "1988-01-01T00:00:00",
          "1992-01-01T00:00:00",
          "1994-01-01T00:00:00",
          "1996-01-01T00:00:00",
          "1998-01-01T00:00:00",
          "2000-01-01T00:00:00",
          "2002-01-01T00:00:00",
          "2004-01-01T00:00:00",
          "2006-01-01T00:00:00",
          "2008-01-01T00:00:00",
          "2010-01-01T00:00:00",
          "2012-01-01T00:00:00",
          "2014-01-01T00:00:00",
          "2016-01-01T00:00:00"
         ],
         "y": [
          22,
          42,
          36,
          46,
          40,
          1,
          50,
          58,
          86,
          5,
          50,
          5,
          50,
          15,
          70,
          32,
          79,
          22,
          46,
          24,
          71
         ]
        },
        {
         "line": {
          "color": "gold"
         },
         "mode": "lines+markers",
         "name": "Gold Medals",
         "type": "scatter",
         "x": [
          "2017-01-01",
          "2018-01-01",
          "2019-01-01",
          "2020-01-01",
          "2021-01-01",
          "2022-01-01",
          "2023-01-01",
          "2024-01-01"
         ],
         "y": [
          36.27687398540891,
          147.5803338602463,
          -3.6847800774925474,
          149.60324057032318,
          13.152337080156968,
          149.41652972545194,
          8.601959364362727,
          146.81946559530758
         ]
        },
        {
         "line": {
          "color": "silver"
         },
         "mode": "lines+markers",
         "name": "Silver Medals",
         "type": "scatter",
         "x": [
          "2017-01-01",
          "2018-01-01",
          "2019-01-01",
          "2020-01-01",
          "2021-01-01",
          "2022-01-01",
          "2023-01-01",
          "2024-01-01"
         ],
         "y": [
          48.2343277707278,
          82.55201009543904,
          21.49160392708076,
          73.91903992986072,
          32.3349633286074,
          77.61084961631143,
          29.00050823806386,
          74.87418186039885
         ]
        },
        {
         "line": {
          "color": "#CD7F32"
         },
         "mode": "lines+markers",
         "name": "Bronze Medals",
         "type": "scatter",
         "x": [
          "2017-01-01",
          "2018-01-01",
          "2019-01-01",
          "2020-01-01",
          "2021-01-01",
          "2022-01-01",
          "2023-01-01",
          "2024-01-01"
         ],
         "y": [
          23.106314453313082,
          73.37261488689174,
          15.46501202265592,
          64.00582253762525,
          17.701113136144706,
          66.80265231374264,
          17.860097106385076,
          64.94854532532051
         ]
        },
        {
         "marker": {
          "color": "gold",
          "size": 14
         },
         "mode": "markers",
         "name": "Gold 2024 Forecast",
         "type": "scatter",
         "x": [
          2021
         ],
         "y": [
          39
         ]
        },
        {
         "marker": {
          "color": "silver",
          "size": 14
         },
         "mode": "markers",
         "name": "Silver 2024 Forecast",
         "type": "scatter",
         "x": [
          2021
         ],
         "y": [
          41
         ]
        },
        {
         "marker": {
          "color": "#CD7F32",
          "size": 14
         },
         "mode": "markers",
         "name": "Bronze 2024 Forecast",
         "type": "scatter",
         "x": [
          2021
         ],
         "y": [
          33
         ]
        }
       ],
       "layout": {
        "template": {
         "data": {
          "bar": [
           {
            "error_x": {
             "color": "#2a3f5f"
            },
            "error_y": {
             "color": "#2a3f5f"
            },
            "marker": {
             "line": {
              "color": "#E5ECF6",
              "width": 0.5
             },
             "pattern": {
              "fillmode": "overlay",
              "size": 10,
              "solidity": 0.2
             }
            },
            "type": "bar"
           }
          ],
          "barpolar": [
           {
            "marker": {
             "line": {
              "color": "#E5ECF6",
              "width": 0.5
             },
             "pattern": {
              "fillmode": "overlay",
              "size": 10,
              "solidity": 0.2
             }
            },
            "type": "barpolar"
           }
          ],
          "carpet": [
           {
            "aaxis": {
             "endlinecolor": "#2a3f5f",
             "gridcolor": "white",
             "linecolor": "white",
             "minorgridcolor": "white",
             "startlinecolor": "#2a3f5f"
            },
            "baxis": {
             "endlinecolor": "#2a3f5f",
             "gridcolor": "white",
             "linecolor": "white",
             "minorgridcolor": "white",
             "startlinecolor": "#2a3f5f"
            },
            "type": "carpet"
           }
          ],
          "choropleth": [
           {
            "colorbar": {
             "outlinewidth": 0,
             "ticks": ""
            },
            "type": "choropleth"
           }
          ],
          "contour": [
           {
            "colorbar": {
             "outlinewidth": 0,
             "ticks": ""
            },
            "colorscale": [
             [
              0,
              "#0d0887"
             ],
             [
              0.1111111111111111,
              "#46039f"
             ],
             [
              0.2222222222222222,
              "#7201a8"
             ],
             [
              0.3333333333333333,
              "#9c179e"
             ],
             [
              0.4444444444444444,
              "#bd3786"
             ],
             [
              0.5555555555555556,
              "#d8576b"
             ],
             [
              0.6666666666666666,
              "#ed7953"
             ],
             [
              0.7777777777777778,
              "#fb9f3a"
             ],
             [
              0.8888888888888888,
              "#fdca26"
             ],
             [
              1,
              "#f0f921"
             ]
            ],
            "type": "contour"
           }
          ],
          "contourcarpet": [
           {
            "colorbar": {
             "outlinewidth": 0,
             "ticks": ""
            },
            "type": "contourcarpet"
           }
          ],
          "heatmap": [
           {
            "colorbar": {
             "outlinewidth": 0,
             "ticks": ""
            },
            "colorscale": [
             [
              0,
              "#0d0887"
             ],
             [
              0.1111111111111111,
              "#46039f"
             ],
             [
              0.2222222222222222,
              "#7201a8"
             ],
             [
              0.3333333333333333,
              "#9c179e"
             ],
             [
              0.4444444444444444,
              "#bd3786"
             ],
             [
              0.5555555555555556,
              "#d8576b"
             ],
             [
              0.6666666666666666,
              "#ed7953"
             ],
             [
              0.7777777777777778,
              "#fb9f3a"
             ],
             [
              0.8888888888888888,
              "#fdca26"
             ],
             [
              1,
              "#f0f921"
             ]
            ],
            "type": "heatmap"
           }
          ],
          "heatmapgl": [
           {
            "colorbar": {
             "outlinewidth": 0,
             "ticks": ""
            },
            "colorscale": [
             [
              0,
              "#0d0887"
             ],
             [
              0.1111111111111111,
              "#46039f"
             ],
             [
              0.2222222222222222,
              "#7201a8"
             ],
             [
              0.3333333333333333,
              "#9c179e"
             ],
             [
              0.4444444444444444,
              "#bd3786"
             ],
             [
              0.5555555555555556,
              "#d8576b"
             ],
             [
              0.6666666666666666,
              "#ed7953"
             ],
             [
              0.7777777777777778,
              "#fb9f3a"
             ],
             [
              0.8888888888888888,
              "#fdca26"
             ],
             [
              1,
              "#f0f921"
             ]
            ],
            "type": "heatmapgl"
           }
          ],
          "histogram": [
           {
            "marker": {
             "pattern": {
              "fillmode": "overlay",
              "size": 10,
              "solidity": 0.2
             }
            },
            "type": "histogram"
           }
          ],
          "histogram2d": [
           {
            "colorbar": {
             "outlinewidth": 0,
             "ticks": ""
            },
            "colorscale": [
             [
              0,
              "#0d0887"
             ],
             [
              0.1111111111111111,
              "#46039f"
             ],
             [
              0.2222222222222222,
              "#7201a8"
             ],
             [
              0.3333333333333333,
              "#9c179e"
             ],
             [
              0.4444444444444444,
              "#bd3786"
             ],
             [
              0.5555555555555556,
              "#d8576b"
             ],
             [
              0.6666666666666666,
              "#ed7953"
             ],
             [
              0.7777777777777778,
              "#fb9f3a"
             ],
             [
              0.8888888888888888,
              "#fdca26"
             ],
             [
              1,
              "#f0f921"
             ]
            ],
            "type": "histogram2d"
           }
          ],
          "histogram2dcontour": [
           {
            "colorbar": {
             "outlinewidth": 0,
             "ticks": ""
            },
            "colorscale": [
             [
              0,
              "#0d0887"
             ],
             [
              0.1111111111111111,
              "#46039f"
             ],
             [
              0.2222222222222222,
              "#7201a8"
             ],
             [
              0.3333333333333333,
              "#9c179e"
             ],
             [
              0.4444444444444444,
              "#bd3786"
             ],
             [
              0.5555555555555556,
              "#d8576b"
             ],
             [
              0.6666666666666666,
              "#ed7953"
             ],
             [
              0.7777777777777778,
              "#fb9f3a"
             ],
             [
              0.8888888888888888,
              "#fdca26"
             ],
             [
              1,
              "#f0f921"
             ]
            ],
            "type": "histogram2dcontour"
           }
          ],
          "mesh3d": [
           {
            "colorbar": {
             "outlinewidth": 0,
             "ticks": ""
            },
            "type": "mesh3d"
           }
          ],
          "parcoords": [
           {
            "line": {
             "colorbar": {
              "outlinewidth": 0,
              "ticks": ""
             }
            },
            "type": "parcoords"
           }
          ],
          "pie": [
           {
            "automargin": true,
            "type": "pie"
           }
          ],
          "scatter": [
           {
            "fillpattern": {
             "fillmode": "overlay",
             "size": 10,
             "solidity": 0.2
            },
            "type": "scatter"
           }
          ],
          "scatter3d": [
           {
            "line": {
             "colorbar": {
              "outlinewidth": 0,
              "ticks": ""
             }
            },
            "marker": {
             "colorbar": {
              "outlinewidth": 0,
              "ticks": ""
             }
            },
            "type": "scatter3d"
           }
          ],
          "scattercarpet": [
           {
            "marker": {
             "colorbar": {
              "outlinewidth": 0,
              "ticks": ""
             }
            },
            "type": "scattercarpet"
           }
          ],
          "scattergeo": [
           {
            "marker": {
             "colorbar": {
              "outlinewidth": 0,
              "ticks": ""
             }
            },
            "type": "scattergeo"
           }
          ],
          "scattergl": [
           {
            "marker": {
             "colorbar": {
              "outlinewidth": 0,
              "ticks": ""
             }
            },
            "type": "scattergl"
           }
          ],
          "scattermapbox": [
           {
            "marker": {
             "colorbar": {
              "outlinewidth": 0,
              "ticks": ""
             }
            },
            "type": "scattermapbox"
           }
          ],
          "scatterpolar": [
           {
            "marker": {
             "colorbar": {
              "outlinewidth": 0,
              "ticks": ""
             }
            },
            "type": "scatterpolar"
           }
          ],
          "scatterpolargl": [
           {
            "marker": {
             "colorbar": {
              "outlinewidth": 0,
              "ticks": ""
             }
            },
            "type": "scatterpolargl"
           }
          ],
          "scatterternary": [
           {
            "marker": {
             "colorbar": {
              "outlinewidth": 0,
              "ticks": ""
             }
            },
            "type": "scatterternary"
           }
          ],
          "surface": [
           {
            "colorbar": {
             "outlinewidth": 0,
             "ticks": ""
            },
            "colorscale": [
             [
              0,
              "#0d0887"
             ],
             [
              0.1111111111111111,
              "#46039f"
             ],
             [
              0.2222222222222222,
              "#7201a8"
             ],
             [
              0.3333333333333333,
              "#9c179e"
             ],
             [
              0.4444444444444444,
              "#bd3786"
             ],
             [
              0.5555555555555556,
              "#d8576b"
             ],
             [
              0.6666666666666666,
              "#ed7953"
             ],
             [
              0.7777777777777778,
              "#fb9f3a"
             ],
             [
              0.8888888888888888,
              "#fdca26"
             ],
             [
              1,
              "#f0f921"
             ]
            ],
            "type": "surface"
           }
          ],
          "table": [
           {
            "cells": {
             "fill": {
              "color": "#EBF0F8"
             },
             "line": {
              "color": "white"
             }
            },
            "header": {
             "fill": {
              "color": "#C8D4E3"
             },
             "line": {
              "color": "white"
             }
            },
            "type": "table"
           }
          ]
         },
         "layout": {
          "annotationdefaults": {
           "arrowcolor": "#2a3f5f",
           "arrowhead": 0,
           "arrowwidth": 1
          },
          "autotypenumbers": "strict",
          "coloraxis": {
           "colorbar": {
            "outlinewidth": 0,
            "ticks": ""
           }
          },
          "colorscale": {
           "diverging": [
            [
             0,
             "#8e0152"
            ],
            [
             0.1,
             "#c51b7d"
            ],
            [
             0.2,
             "#de77ae"
            ],
            [
             0.3,
             "#f1b6da"
            ],
            [
             0.4,
             "#fde0ef"
            ],
            [
             0.5,
             "#f7f7f7"
            ],
            [
             0.6,
             "#e6f5d0"
            ],
            [
             0.7,
             "#b8e186"
            ],
            [
             0.8,
             "#7fbc41"
            ],
            [
             0.9,
             "#4d9221"
            ],
            [
             1,
             "#276419"
            ]
           ],
           "sequential": [
            [
             0,
             "#0d0887"
            ],
            [
             0.1111111111111111,
             "#46039f"
            ],
            [
             0.2222222222222222,
             "#7201a8"
            ],
            [
             0.3333333333333333,
             "#9c179e"
            ],
            [
             0.4444444444444444,
             "#bd3786"
            ],
            [
             0.5555555555555556,
             "#d8576b"
            ],
            [
             0.6666666666666666,
             "#ed7953"
            ],
            [
             0.7777777777777778,
             "#fb9f3a"
            ],
            [
             0.8888888888888888,
             "#fdca26"
            ],
            [
             1,
             "#f0f921"
            ]
           ],
           "sequentialminus": [
            [
             0,
             "#0d0887"
            ],
            [
             0.1111111111111111,
             "#46039f"
            ],
            [
             0.2222222222222222,
             "#7201a8"
            ],
            [
             0.3333333333333333,
             "#9c179e"
            ],
            [
             0.4444444444444444,
             "#bd3786"
            ],
            [
             0.5555555555555556,
             "#d8576b"
            ],
            [
             0.6666666666666666,
             "#ed7953"
            ],
            [
             0.7777777777777778,
             "#fb9f3a"
            ],
            [
             0.8888888888888888,
             "#fdca26"
            ],
            [
             1,
             "#f0f921"
            ]
           ]
          },
          "colorway": [
           "#636efa",
           "#EF553B",
           "#00cc96",
           "#ab63fa",
           "#FFA15A",
           "#19d3f3",
           "#FF6692",
           "#B6E880",
           "#FF97FF",
           "#FECB52"
          ],
          "font": {
           "color": "#2a3f5f"
          },
          "geo": {
           "bgcolor": "white",
           "lakecolor": "white",
           "landcolor": "#E5ECF6",
           "showlakes": true,
           "showland": true,
           "subunitcolor": "white"
          },
          "hoverlabel": {
           "align": "left"
          },
          "hovermode": "closest",
          "mapbox": {
           "style": "light"
          },
          "paper_bgcolor": "white",
          "plot_bgcolor": "#E5ECF6",
          "polar": {
           "angularaxis": {
            "gridcolor": "white",
            "linecolor": "white",
            "ticks": ""
           },
           "bgcolor": "#E5ECF6",
           "radialaxis": {
            "gridcolor": "white",
            "linecolor": "white",
            "ticks": ""
           }
          },
          "scene": {
           "xaxis": {
            "backgroundcolor": "#E5ECF6",
            "gridcolor": "white",
            "gridwidth": 2,
            "linecolor": "white",
            "showbackground": true,
            "ticks": "",
            "zerolinecolor": "white"
           },
           "yaxis": {
            "backgroundcolor": "#E5ECF6",
            "gridcolor": "white",
            "gridwidth": 2,
            "linecolor": "white",
            "showbackground": true,
            "ticks": "",
            "zerolinecolor": "white"
           },
           "zaxis": {
            "backgroundcolor": "#E5ECF6",
            "gridcolor": "white",
            "gridwidth": 2,
            "linecolor": "white",
            "showbackground": true,
            "ticks": "",
            "zerolinecolor": "white"
           }
          },
          "shapedefaults": {
           "line": {
            "color": "#2a3f5f"
           }
          },
          "ternary": {
           "aaxis": {
            "gridcolor": "white",
            "linecolor": "white",
            "ticks": ""
           },
           "baxis": {
            "gridcolor": "white",
            "linecolor": "white",
            "ticks": ""
           },
           "bgcolor": "#E5ECF6",
           "caxis": {
            "gridcolor": "white",
            "linecolor": "white",
            "ticks": ""
           }
          },
          "title": {
           "x": 0.05
          },
          "xaxis": {
           "automargin": true,
           "gridcolor": "white",
           "linecolor": "white",
           "ticks": "",
           "title": {
            "standoff": 15
           },
           "zerolinecolor": "white",
           "zerolinewidth": 2
          },
          "yaxis": {
           "automargin": true,
           "gridcolor": "white",
           "linecolor": "white",
           "ticks": "",
           "title": {
            "standoff": 15
           },
           "zerolinecolor": "white",
           "zerolinewidth": 2
          }
         }
        },
        "title": {
         "text": "Medals (Gold, Silver, Bronze) Over the Years with 2024 Forecast"
        },
        "xaxis": {
         "title": {
          "text": "Year"
         }
        },
        "yaxis": {
         "title": {
          "text": "Number of Medals"
         }
        }
       }
      }
     },
     "metadata": {},
     "output_type": "display_data"
    }
   ],
   "source": [
    "\n",
    "fig2 = go.Figure()\n",
    "fig2.add_trace(go.Scatter(x=usa_data.index, y=usa_data['Gold'], mode='lines+markers', name='Gold Medals', line=dict(color='gold')))\n",
    "fig2.add_trace(go.Scatter(x=usa_data.index, y=usa_data['Silver'], mode='lines+markers', name='Silver Medals', line=dict(color='silver')))\n",
    "fig2.add_trace(go.Scatter(x=usa_data.index, y=usa_data['Bronze'], mode='lines+markers', name='Bronze Medals', line=dict(color='#CD7F32')))\n",
    "fig2.add_trace(go.Scatter(x=forecast_df.index, y=forecast_df['Gold'], mode='lines+markers', name='Gold Medals', line=dict(color='gold')))\n",
    "fig2.add_trace(go.Scatter(x=forecast_df.index, y=forecast_df['Silver'], mode='lines+markers', name='Silver Medals', line=dict(color='silver')))\n",
    "fig2.add_trace(go.Scatter(x=forecast_df.index, y=forecast_df['Bronze'], mode='lines+markers', name='Bronze Medals', line=dict(color='#CD7F32')))\n",
    "fig2.add_trace(go.Scatter(x=[2021], y=medal_2021_usa['Gold'], mode='markers', name='Gold 2024 Forecast', marker=dict(color='gold', size=14)))\n",
    "fig2.add_trace(go.Scatter(x=[2021], y=medal_2021_usa['Silver'], mode='markers', name='Silver 2024 Forecast', marker=dict(color='silver', size=14)))\n",
    "fig2.add_trace(go.Scatter(x=[2021], y= medal_2021_usa['Bronze'], mode='markers', name='Bronze 2024 Forecast', marker=dict(color='#CD7F32', size=14)))\n",
    "fig2.update_layout(title='Medals (Gold, Silver, Bronze) Over the Years with 2024 Forecast',\n",
    "                   xaxis_title='Year',\n",
    "                   yaxis_title='Number of Medals')\n",
    "fig2.show()"
   ]
  },
  {
   "cell_type": "markdown",
   "metadata": {},
   "source": [
    "## Function"
   ]
  },
  {
   "cell_type": "code",
   "execution_count": 82,
   "metadata": {},
   "outputs": [],
   "source": [
    "def forecast(country_data, country):\n",
    "    # Historical data for the specified country\n",
    "    country_data['Total_Medals'] = country_data['Gold'] + country_data['Silver'] + country_data['Bronze']\n",
    "    country_data = country_data.drop(columns=['NOC'])\n",
    "    \n",
    "    # Fit VAR model\n",
    "    model = VAR(country_data)\n",
    "    model_fit = model.fit()\n",
    "    \n",
    "    # Forecast for 2024\n",
    "    forecast = model_fit.forecast(country_data.values, steps=8)\n",
    "    years = pd.date_range(start='2017-01-01', end='2025-01-01', freq='Y')\n",
    "    forecast_df = pd.DataFrame(forecast, columns=country_data.columns, index=years)\n",
    "    forecast_df.index = forecast_df.index.strftime('%Y-01-01')\n",
    "    \n",
    "    # Return forecast_df for saving to CSV\n",
    "    return forecast_df"
   ]
  },
  {
   "cell_type": "code",
   "execution_count": 83,
   "metadata": {},
   "outputs": [
    {
     "name": "stdout",
     "output_type": "stream",
     "text": [
      "Error forecasting for MAL\n",
      "Error forecasting for RHO\n",
      "Error forecasting for UAR\n",
      "Error forecasting for WIF\n",
      "Error forecasting for SOM\n",
      "Error forecasting for GAM\n",
      "Error forecasting for YAR\n",
      "Error forecasting for YMD\n",
      "Error forecasting for EUN\n",
      "Error forecasting for GBS\n",
      "Error forecasting for SKN\n",
      "Error forecasting for KIR\n",
      "Error forecasting for TLS\n",
      "Error forecasting for MHL\n",
      "Error forecasting for KOS\n",
      "Error forecasting for ROT\n",
      "Error forecasting for SSD\n"
     ]
    }
   ],
   "source": [
    "unique_countries = df['NOC'].unique()\n",
    "forecasts = {}\n",
    "\n",
    "# Iterate through each country, generate forecasts, and store in dictionary\n",
    "for country in unique_countries:\n",
    "    country_data = df[df['NOC'] == country]\n",
    "    # skip if any error\n",
    "    try:\n",
    "        forecasts[country] = forecast(country_data, country)\n",
    "    except:\n",
    "        print(f\"Error forecasting for {country}\")"
   ]
  },
  {
   "cell_type": "code",
   "execution_count": 84,
   "metadata": {},
   "outputs": [
    {
     "name": "stdout",
     "output_type": "stream",
     "text": [
      "Forecasts saved to CSV files.\n"
     ]
    }
   ],
   "source": [
    "# Save forecasts to CSV files for each country\n",
    "for country, forecast_df in forecasts.items():\n",
    "    filename = f'../data/all_data/forecasts/forecast_{country}.csv'\n",
    "    forecast_df.to_csv(filename)\n",
    "\n",
    "print(\"Forecasts saved to CSV files.\")"
   ]
  }
 ],
 "metadata": {
  "kernelspec": {
   "display_name": "base",
   "language": "python",
   "name": "python3"
  },
  "language_info": {
   "codemirror_mode": {
    "name": "ipython",
    "version": 3
   },
   "file_extension": ".py",
   "mimetype": "text/x-python",
   "name": "python",
   "nbconvert_exporter": "python",
   "pygments_lexer": "ipython3",
   "version": "3.11.5"
  }
 },
 "nbformat": 4,
 "nbformat_minor": 2
}
